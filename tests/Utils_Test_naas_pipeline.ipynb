{
 "cells": [
  {
   "cell_type": "markdown",
   "id": "02c55dc4-ae13-43bd-b192-de35d649d328",
   "metadata": {},
   "source": [
    "# Utils - Test naas_pipeline.ipynb"
   ]
  },
  {
   "cell_type": "markdown",
   "id": "eabd8817-11d3-4077-ad4a-0d3f673410f2",
   "metadata": {},
   "source": [
    "### Run DummySteps"
   ]
  },
  {
   "cell_type": "code",
   "execution_count": null,
   "id": "fa346868-d375-4547-b11b-79311e3f1fc3",
   "metadata": {
    "papermill": {},
    "tags": []
   },
   "outputs": [],
   "source": [
    "import naas_data_product\n",
    "\n",
    "step = DummyStep(\n",
    "    name=\"Custom\",\n",
    ")\n",
    "\n",
    "pipeline = Pipeline()\n",
    "pipeline >> step >> End()\n",
    "pipeline.run()"
   ]
  },
  {
   "cell_type": "markdown",
   "id": "f99f680c-e5eb-44d4-a98c-f8e045197e8e",
   "metadata": {},
   "source": [
    "### Run NotebookSteps"
   ]
  },
  {
   "cell_type": "code",
   "execution_count": null,
   "id": "507cbbe6-4d8c-4ba5-98f1-c844bb36b7bc",
   "metadata": {
    "tags": []
   },
   "outputs": [],
   "source": [
    "import naas_data_product\n",
    "\n",
    "step = NotebookStep(\n",
    "    name=\"Testing\",\n",
    "    notebook_path=\"Utils_Test_llm_function.ipynb\",\n",
    "    parameters={}\n",
    ")\n",
    "pipeline = Pipeline()\n",
    "pipeline >> step >> End()\n",
    "pipeline.run()"
   ]
  },
  {
   "cell_type": "code",
   "execution_count": null,
   "id": "6d6652bd-09c3-49f2-86c7-d1f0fa3700c1",
   "metadata": {},
   "outputs": [],
   "source": []
  }
 ],
 "metadata": {
  "kernelspec": {
   "display_name": "Python 3",
   "language": "python",
   "name": "python3"
  },
  "language_info": {
   "codemirror_mode": {
    "name": "ipython",
    "version": 3
   },
   "file_extension": ".py",
   "mimetype": "text/x-python",
   "name": "python",
   "nbconvert_exporter": "python",
   "pygments_lexer": "ipython3",
   "version": "3.9.6"
  },
  "naas": {
   "notebook_id": "92ddbcf7c74813cc4c906ca6b7d04cc2590230b5fb16082b396de5b9872be0cf",
   "notebook_path": "Naas/Naas_Create_Pipeline.ipynb"
  },
  "papermill": {
   "default_parameters": {},
   "environment_variables": {},
   "parameters": {},
   "version": "2.3.3"
  }
 },
 "nbformat": 4,
 "nbformat_minor": 5
}
