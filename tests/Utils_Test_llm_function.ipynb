{
 "cells": [
  {
   "cell_type": "markdown",
   "id": "64db9740-672c-4adf-8ad9-9354a272ef12",
   "metadata": {},
   "source": [
    "# Utils - Test llm.ipynb function"
   ]
  },
  {
   "cell_type": "markdown",
   "id": "c0f2ab8f-d53c-4813-8d30-b48635222c9a",
   "metadata": {},
   "source": [
    "### Get long lived token"
   ]
  },
  {
   "cell_type": "code",
   "execution_count": null,
   "id": "819d5ae8-9e9b-4e6a-8671-ec843f71297a",
   "metadata": {},
   "outputs": [],
   "source": [
    "import naas_data_product\n",
    "import os\n",
    "\n",
    "jup_token = os.environ.get('JUPYTERHUB_API_TOKEN')\n",
    "long_lived_token = get_long_lived_token(jup_token)"
   ]
  },
  {
   "cell_type": "markdown",
   "id": "79e74dca-c16f-4704-931e-8ca51ab78580",
   "metadata": {},
   "source": [
    "### Create naas chat completion"
   ]
  },
  {
   "cell_type": "code",
   "execution_count": null,
   "id": "d84df725-f6cd-4dcb-9ed5-6b4307e01bf1",
   "metadata": {},
   "outputs": [],
   "source": [
    "import naas_data_product\n",
    "import naas_python\n",
    "\n",
    "long_lived_token = naas_python.secret.get('NAAS_API_TOKEN').value\n",
    "prompt = \"\"\"\n",
    "I will give you the occupation from a profile I get from LinkedIn, you will return the company you can extract from by checking the word after 'at' or '@'.\n",
    "If you don't find it return \"NA\"\n",
    "Don't put the results into quotes.\n",
    "\"\"\"\n",
    "message = \"Data Sommelier | Data Integration | Intelligent Data Platform' at DATANOSCO\"\n",
    "\n",
    "result = None\n",
    "if long_lived_token is not None:\n",
    "    result = create_naas_chat_completion(\n",
    "        long_lived_token,\n",
    "        prompt=prompt,\n",
    "        message=message,\n",
    ")\n",
    "result"
   ]
  },
  {
   "cell_type": "markdown",
   "id": "abeecf52-8b05-432a-aa97-75d3cf8a5eab",
   "metadata": {},
   "source": [
    "### Create OpenAI Chat completion"
   ]
  },
  {
   "cell_type": "code",
   "execution_count": null,
   "id": "4125a247-a241-42ee-99f6-1c695474b76e",
   "metadata": {
    "tags": []
   },
   "outputs": [],
   "source": [
    "import naas_data_product\n",
    "import naas_python\n",
    "\n",
    "openai_api_key = naas_python.secret.get('OPENAI_API_KEY').value\n",
    "prompt = \"\"\"\n",
    "I will give you the occupation from a profile I get from LinkedIn, you will return the company you can extract from by checking the word after 'at' or '@'.\n",
    "If you don't find it return \"NA\"\n",
    "Don't put the results into quotes.\n",
    "\"\"\"\n",
    "message = \"Data Sommelier | Data Integration | Intelligent Data Platform' at DATANOSCO\"\n",
    "\n",
    "result = None\n",
    "if openai_api_key is not None:\n",
    "    result = create_openai_completion(\n",
    "        openai_api_key,\n",
    "        prompt=prompt,\n",
    "        message=message,\n",
    "    )\n",
    "result"
   ]
  }
 ],
 "metadata": {
  "kernelspec": {
   "display_name": "Python 3",
   "language": "python",
   "name": "python3"
  },
  "language_info": {
   "codemirror_mode": {
    "name": "ipython",
    "version": 3
   },
   "file_extension": ".py",
   "mimetype": "text/x-python",
   "name": "python",
   "nbconvert_exporter": "python",
   "pygments_lexer": "ipython3",
   "version": "3.9.6"
  }
 },
 "nbformat": 4,
 "nbformat_minor": 5
}
