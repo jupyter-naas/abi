{
 "cells": [
  {
   "cell_type": "markdown",
   "id": "2833db14-cc5e-44ef-af36-f0c086491e74",
   "metadata": {
    "papermill": {},
    "tags": []
   },
   "source": [
    "<img width=\"8%\" alt=\"Naas.png\" src=\"https://raw.githubusercontent.com/jupyter-naas/awesome-notebooks/master/.github/assets/logos/Naas.png\" style=\"border-radius: 15%\">"
   ]
  },
  {
   "cell_type": "markdown",
   "id": "substantial-decline",
   "metadata": {
    "papermill": {},
    "tags": []
   },
   "source": [
    "# Push to production"
   ]
  },
  {
   "cell_type": "markdown",
   "id": "dd3d4d6a-f15d-47f9-83ac-4208edf13bf9",
   "metadata": {
    "tags": []
   },
   "source": [
    "This notebook allows you to run your data product on your Naas server."
   ]
  },
  {
   "cell_type": "markdown",
   "id": "80056fe3-734f-41fe-8709-6838316e2f89",
   "metadata": {},
   "source": [
    "## Input"
   ]
  },
  {
   "cell_type": "markdown",
   "id": "d3bba624-afe5-484b-a5d3-0d4bf7dd019c",
   "metadata": {},
   "source": [
    "### Import libraries"
   ]
  },
  {
   "cell_type": "code",
   "execution_count": null,
   "id": "21d997a6-cfee-468d-8009-53657d604ae7",
   "metadata": {
    "tags": []
   },
   "outputs": [],
   "source": [
    "import naas\n",
    "import os\n",
    "import glob\n",
    "import naas_data_product"
   ]
  },
  {
   "cell_type": "markdown",
   "id": "0859f71e-9e51-4c79-8fcd-fa41e9fb8282",
   "metadata": {},
   "source": [
    "### Setup variables\n",
    "- `cron`: Represents the scheduling pattern of your notebook (https://crontab.guru/)\n",
    "- `pipeline_path`: Main pipeline to be scheduled in production\n",
    "- `delete`: Boolean to be used as True to removed scheduler and dependencies"
   ]
  },
  {
   "cell_type": "code",
   "execution_count": null,
   "id": "c7ef7702-d129-4cb3-97b6-9b598d25c423",
   "metadata": {
    "tags": []
   },
   "outputs": [],
   "source": [
    "cron = \"0 12 * * *\"\n",
    "pipeline_path = \"__pipeline__.ipynb\"\n",
    "delete = True"
   ]
  },
  {
   "cell_type": "markdown",
   "id": "2ebb82c4-a40a-496e-a1fd-2c04e39455bd",
   "metadata": {},
   "source": [
    "## Model"
   ]
  },
  {
   "cell_type": "markdown",
   "id": "59c4bb89-529b-4751-b8c8-1ac22b6751d6",
   "metadata": {},
   "source": [
    "### Add or delete scheduler main pipeline"
   ]
  },
  {
   "cell_type": "code",
   "execution_count": null,
   "id": "4fad1f64-95b1-417b-af9d-5ed29999624e",
   "metadata": {
    "tags": []
   },
   "outputs": [],
   "source": [
    "# Schedule pipeline\n",
    "if not delete:\n",
    "    naas.scheduler.add(pipeline_path, cron=cron)\n",
    "    print(\"⏰ Scheduler:\", cron)\n",
    "else:\n",
    "    naas.scheduler.delete(pipeline_path)"
   ]
  },
  {
   "cell_type": "markdown",
   "id": "66f4d975-8cf4-4ade-b68c-9c94e899f3f8",
   "metadata": {},
   "source": [
    "### Add pipeline templates to dependencies"
   ]
  },
  {
   "cell_type": "code",
   "execution_count": null,
   "id": "066eb18b-e6bc-43b1-b966-c379812df2e1",
   "metadata": {
    "tags": []
   },
   "outputs": [],
   "source": [
    "engines = [\n",
    "    \"content-engine\",\n",
    "    \"growth-engine\",\n",
    "    \"sales-engine\",\n",
    "    \"operations-engine\",\n",
    "    \"finance-engine\",\n",
    "    \"opendata-engine\",\n",
    "]\n",
    "for engine in engines:\n",
    "    # Engine model directory\n",
    "    engine_model_dir = os.path.join(naas_data_product.MODELS_PATH, engine)\n",
    "\n",
    "    # Add dependencies\n",
    "    files = (\n",
    "        glob.glob(os.path.join(engine_model_dir, \"core\", \"domain\", \"*.ipynb\")) + \n",
    "        glob.glob(os.path.join(engine_model_dir, \"custom\", \"*.ipynb\")) + \n",
    "        [os.path.join(engine_model_dir, \"__pipeline__.ipynb\")] + \n",
    "        [os.path.join(engine_model_dir, \"__plugin__.ipynb\")]\n",
    "    )\n",
    "    for file in files:\n",
    "        if not delete:\n",
    "            naas.dependency.add(file)\n",
    "            print(\"🔗 Dependency:\", file)\n",
    "            print()\n",
    "        else:\n",
    "            naas.dependency.delete(file)"
   ]
  },
  {
   "cell_type": "markdown",
   "id": "49404dd6-1653-406e-be45-97e863f4d7bb",
   "metadata": {},
   "source": [
    "### Add utils to dependencies"
   ]
  },
  {
   "cell_type": "code",
   "execution_count": null,
   "id": "e9625dcf-0f90-4aef-bc7f-7bf7bb35b715",
   "metadata": {
    "tags": []
   },
   "outputs": [],
   "source": [
    "files = glob.glob(f\"{naas_data_product.UTILS_PATH}/*.ipynb\")\n",
    "\n",
    "for file in files:\n",
    "    if not delete:\n",
    "        naas.dependency.add(file)\n",
    "        print(\"🔗 Dependency:\", file)\n",
    "        print()\n",
    "    else:\n",
    "        naas.dependency.delete(file)"
   ]
  },
  {
   "cell_type": "markdown",
   "id": "486ca79e-21af-47c8-ae9a-1c4d1d7cf310",
   "metadata": {},
   "source": [
    "## Output"
   ]
  },
  {
   "cell_type": "markdown",
   "id": "949ac0e4-2b0c-44a4-9853-c6d5531c0952",
   "metadata": {},
   "source": [
    "### Display result"
   ]
  },
  {
   "cell_type": "code",
   "execution_count": null,
   "id": "763de4aa-c6a0-4aaf-9687-07da96ce01b6",
   "metadata": {
    "tags": []
   },
   "outputs": [],
   "source": [
    "if not delete:\n",
    "    print(\"✅ Scheduler and dependencies sent to production\")\n",
    "else:\n",
    "    print(\"❎ Scheduler and dependencies removed from production\")"
   ]
  },
  {
   "cell_type": "code",
   "execution_count": null,
   "id": "3cfb645a-4213-443e-81d3-324265c54f2d",
   "metadata": {},
   "outputs": [],
   "source": []
  }
 ],
 "metadata": {
  "kernelspec": {
   "display_name": "Python 3",
   "language": "python",
   "name": "python3"
  },
  "language_info": {
   "codemirror_mode": {
    "name": "ipython",
    "version": 3
   },
   "file_extension": ".py",
   "mimetype": "text/x-python",
   "name": "python",
   "nbconvert_exporter": "python",
   "pygments_lexer": "ipython3",
   "version": "3.9.6"
  },
  "naas": {
   "notebook_id": "77b7f93a-fb2a-483e-b98b-80735e426a64",
   "notebook_path": "Naas/Naas_Secret_demo.ipynb"
  },
  "papermill": {
   "default_parameters": {},
   "environment_variables": {},
   "parameters": {},
   "version": "2.3.3"
  },
  "toc-autonumbering": false,
  "widgets": {
   "application/vnd.jupyter.widget-state+json": {
    "state": {},
    "version_major": 2,
    "version_minor": 0
   }
  }
 },
 "nbformat": 4,
 "nbformat_minor": 5
}
