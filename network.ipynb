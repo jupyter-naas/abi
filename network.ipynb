{
 "cells": [
  {
   "cell_type": "markdown",
   "id": "be480925-3e37-43a6-a8ce-71d81e43196b",
   "metadata": {
    "execution": {
     "iopub.execute_input": "2021-02-23T14:22:16.610471Z",
     "iopub.status.busy": "2021-02-23T14:22:16.610129Z",
     "iopub.status.idle": "2021-02-23T14:22:16.627784Z",
     "shell.execute_reply": "2021-02-23T14:22:16.626866Z",
     "shell.execute_reply.started": "2021-02-23T14:22:16.610384Z"
    },
    "papermill": {},
    "tags": []
   },
   "source": [
    "<img width=\"8%\" alt=\"Pyvis.png\" src=\"https://raw.githubusercontent.com/jupyter-naas/awesome-notebooks/master/.github/assets/logos/Pyvis.png\" style=\"border-radius: 15%\">"
   ]
  },
  {
   "cell_type": "markdown",
   "id": "84b2fbb7-c5a0-44da-b12e-e5378c0f1f18",
   "metadata": {
    "papermill": {},
    "tags": []
   },
   "source": [
    "# Pyvis - Vizualise ABI network"
   ]
  },
  {
   "cell_type": "markdown",
   "id": "9f355670-9be6-4138-9714-4458f51e903e",
   "metadata": {
    "papermill": {},
    "tags": []
   },
   "source": [
    "**Tags:** #pyvis #python #naas #asset #network #analytics"
   ]
  },
  {
   "cell_type": "markdown",
   "id": "081ce8b5-a43d-4525-80f2-b4aa9f70a669",
   "metadata": {
    "papermill": {},
    "tags": []
   },
   "source": [
    "**Author:** [Florent Ravenel](https://www.linkedin.com/in/florent-ravenel)"
   ]
  },
  {
   "cell_type": "markdown",
   "id": "35da3033-f29d-4265-942d-8ef3f7036aa4",
   "metadata": {},
   "source": [
    "## Input"
   ]
  },
  {
   "cell_type": "markdown",
   "id": "74c13036-2b90-4848-95cf-81a189d2c127",
   "metadata": {},
   "source": [
    "### Import libraries"
   ]
  },
  {
   "cell_type": "code",
   "execution_count": null,
   "id": "9a6c8a1f-1df2-46ab-8d1a-a769fed3327b",
   "metadata": {
    "tags": []
   },
   "outputs": [],
   "source": [
    "from pyvis.network import Network\n",
    "import naas\n",
    "from naas_drivers import gsheet\n",
    "import math\n",
    "import requests"
   ]
  },
  {
   "cell_type": "markdown",
   "id": "06bfc2d6-6798-4426-9d7a-259f807534a1",
   "metadata": {},
   "source": [
    "### Setup variables\n",
    "**Inputs**\n",
    "- `abi_spreadsheet`: Google Sheets spreadsheet URL\n",
    "- `sheet_name`: Sheet name\n",
    "\n",
    "**Outputs**\n",
    "- `network_name`: network viz name"
   ]
  },
  {
   "cell_type": "code",
   "execution_count": null,
   "id": "187713a8-eb5d-4b82-b094-b9af9cbc05c3",
   "metadata": {
    "tags": []
   },
   "outputs": [],
   "source": [
    "# Inputs\n",
    "abi_spreadsheet = naas.secret.get(\"ABI_SPREADSHEET\")\n",
    "sheet_name = \"ABI_ONTOLOGY\"\n",
    "\n",
    "# Outputs\n",
    "network_path = \"assets/network.html\""
   ]
  },
  {
   "cell_type": "markdown",
   "id": "97c1446b-8834-4589-8cd6-ce2eba3e1998",
   "metadata": {},
   "source": [
    "## Model"
   ]
  },
  {
   "cell_type": "markdown",
   "id": "1a08f387-cbe6-4a42-b0e0-1559a1ceb110",
   "metadata": {},
   "source": [
    "### Get data from Google Sheet spreadsheet"
   ]
  },
  {
   "cell_type": "code",
   "execution_count": null,
   "id": "8e121191-2c04-43e7-aebe-2f8f5880ba36",
   "metadata": {
    "tags": []
   },
   "outputs": [],
   "source": [
    "df_gsheet = gsheet.connect(abi_spreadsheet).get(sheet_name=sheet_name).fillna(\"NA\")\n",
    "df_gsheet.head(1)"
   ]
  },
  {
   "cell_type": "markdown",
   "id": "57ada6ec-508c-4704-9251-6d3933396f55",
   "metadata": {},
   "source": [
    "### Create Pyvis"
   ]
  },
  {
   "cell_type": "code",
   "execution_count": null,
   "id": "82d5ace0-4054-4d05-9dad-e82e18a8b950",
   "metadata": {
    "tags": []
   },
   "outputs": [],
   "source": [
    "def generate_coordinates(radius, num_points, initial_angle):\n",
    "    coordinates = []\n",
    "    for i in range(num_points):\n",
    "        angle = math.radians(initial_angle + i*(360/num_points))\n",
    "        x = round(radius * math.cos(angle))\n",
    "        y = round(radius * math.sin(angle))\n",
    "        coordinates.append((x, y))\n",
    "    return coordinates\n",
    "\n",
    "net = Network(\n",
    "    notebook=True, height=\"100%\", width=\"100%\", bgcolor=\"#222222\", font_color=\"lightgrey\"\n",
    ")\n",
    "angle_start = 210\n",
    "\n",
    "core_coordinates = generate_coordinates(200, 6, angle_start)\n",
    "\n",
    "tables_coordinates = generate_coordinates(400, 16, angle_start-360/16)\n",
    "\n",
    "tools_coordinates = generate_coordinates(600, 48, angle_start-360/48)\n",
    "\n",
    "# Physics solver. Choose one from Pyvis documentation\n",
    "net.force_atlas_2based()\n",
    "tables_count = 0\n",
    "tools_count = 0\n",
    "add_edges = []\n",
    "for index, row in df_gsheet.iterrows():\n",
    "    node = row[\"Node\"]\n",
    "    node_id = int(row[\"Node ID\"])\n",
    "    parent = row[\"Parent\"]\n",
    "    parent_id = int(row[\"Parent ID\"])\n",
    "    node_type = row[\"Node Type\"]\n",
    "    \n",
    "    # Add node\n",
    "    if node_type == \"Main\":\n",
    "        net.add_node(node_id, label=node, color=\"#47dd82\", level=1, fixed=True, x=0, y=0)\n",
    "    elif node_type == \"Core\" and node == \"📲 Content\":\n",
    "        net.add_node(node_id, label=node, color=\"#ffab76\", level=2, fixed=True, x=core_coordinates[0][0], y=core_coordinates[0][1], physics=False)\n",
    "    elif node_type == \"Core\" and node == \"🚀 Growth\":\n",
    "        net.add_node(node_id, label=node, color=\"#ffab76\", level=2, fixed=True, x=core_coordinates[1][0], y=core_coordinates[1][1], physics=False)\n",
    "    elif node_type == \"Core\" and node == \"⚡️ Sales\":\n",
    "        net.add_node(node_id, label=node, color=\"#ffab76\", level=2, fixed=True, x=core_coordinates[2][0], y=core_coordinates[2][1], physics=False)\n",
    "    elif node_type == \"Core\" and node == \"⚙️ Operations\":\n",
    "        net.add_node(node_id, label=node, color=\"#ffab76\", level=2, fixed=True, x=core_coordinates[3][0], y=core_coordinates[3][1], physics=False)\n",
    "    elif node_type == \"Core\" and node == \"💰 Finance\":\n",
    "        net.add_node(node_id, label=node, color=\"#ffab76\", level=2, fixed=True, x=core_coordinates[4][0], y=core_coordinates[4][1], physics=False)\n",
    "    elif node_type == \"Core\" and node == \"🌍 Open Data\":\n",
    "        net.add_node(node_id, label=node, color=\"#ffab76\", level=2, fixed=True, x=core_coordinates[5][0], y=core_coordinates[5][1], physics=False)\n",
    "    elif node_type == \"Table\":\n",
    "        net.add_node(node_id, label=node, color=\"white\", level=3, fixed=True, x=tables_coordinates[tables_count][0], y=tables_coordinates[tables_count][1], physics=False)\n",
    "        tables_count += 1\n",
    "    elif node_type == \"Tool\":\n",
    "        image_url_base = f\"https://raw.githubusercontent.com/jupyter-naas/awesome-notebooks/master/.github/assets/logos/{node}\"\n",
    "        image_url = \"https://raw.githubusercontent.com/jupyter-naas/awesome-notebooks/master/.github/assets/logos/Naas.png\"\n",
    "        for x in [\"png\", \"jpeg\", \"jpg\"]:\n",
    "            res = requests.get(f\"{image_url_base}.{x}\")\n",
    "            if res.status_code == 200:\n",
    "                image_url = f\"{image_url_base}.{x}\"\n",
    "                break\n",
    "        net.add_node(node_id, level=4, fixed=True, x=tools_coordinates[tools_count][0], y=tools_coordinates[tools_count][1], physics=False, shape=\"circularImage\", image=image_url)\n",
    "        tools_count += 1\n",
    "        \n",
    "    if not node_type in [\"Main\", \"Tool\"] and parent_id != 0:\n",
    "        add_edges.append((parent_id, node_id))\n",
    "        \n",
    "net.add_edges(add_edges)\n",
    "network = net.show(network_path)\n",
    "network"
   ]
  },
  {
   "cell_type": "markdown",
   "id": "98d7166a-3365-48e5-b659-8cd3b10d4450",
   "metadata": {},
   "source": [
    "## Outputs"
   ]
  },
  {
   "cell_type": "markdown",
   "id": "0778d01a-9c6b-4ab9-9419-7e0b549599e0",
   "metadata": {},
   "source": [
    "### Create naas asset"
   ]
  },
  {
   "cell_type": "code",
   "execution_count": null,
   "id": "30bed126-5139-4e81-9f88-03715763a150",
   "metadata": {
    "tags": []
   },
   "outputs": [],
   "source": [
    "naas.asset.add(network_path, {\"inline\": True})"
   ]
  },
  {
   "cell_type": "code",
   "execution_count": null,
   "id": "c58fe9d9-0294-48c7-b461-4fde0369380b",
   "metadata": {},
   "outputs": [],
   "source": []
  }
 ],
 "metadata": {
  "kernelspec": {
   "display_name": "Python 3",
   "language": "python",
   "name": "python3"
  },
  "language_info": {
   "codemirror_mode": {
    "name": "ipython",
    "version": 3
   },
   "file_extension": ".py",
   "mimetype": "text/x-python",
   "name": "python",
   "nbconvert_exporter": "python",
   "pygments_lexer": "ipython3",
   "version": "3.9.6"
  }
 },
 "nbformat": 4,
 "nbformat_minor": 5
}
