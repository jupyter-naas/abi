{
 "cells": [
  {
   "cell_type": "markdown",
   "id": "f3f88289-5cbc-429d-9540-42dc0df8d91e",
   "metadata": {
    "papermill": {},
    "tags": []
   },
   "source": [
    "<img width=\"8%\" alt=\"Naas.png\" src=\"https://raw.githubusercontent.com/jupyter-naas/awesome-notebooks/master/.github/assets/logos/Naas.png\" style=\"border-radius: 15%\">"
   ]
  },
  {
   "cell_type": "markdown",
   "id": "1da2bba4-1b4c-4daa-a7c8-487c3a740eba",
   "metadata": {},
   "source": [
    "# Naas Chat Plugin"
   ]
  },
  {
   "cell_type": "markdown",
   "id": "a03e20c0-49a0-4204-b5f9-c1f89850dd8b",
   "metadata": {},
   "source": [
    "## Input"
   ]
  },
  {
   "cell_type": "markdown",
   "id": "55dab74d-00db-4949-be18-c38b505c1738",
   "metadata": {
    "papermill": {},
    "tags": []
   },
   "source": [
    "### Import libraries"
   ]
  },
  {
   "cell_type": "code",
   "execution_count": null,
   "id": "4c84f9d2-1a1f-423c-9ecd-ba4ed244c4c0",
   "metadata": {
    "papermill": {},
    "tags": []
   },
   "outputs": [],
   "source": [
    "import os\n",
    "import glob\n",
    "import pydash\n",
    "import json\n",
    "import naas\n",
    "import naas_data_product"
   ]
  },
  {
   "cell_type": "markdown",
   "id": "17772827-ea8b-4d47-be40-8be22d3a6568",
   "metadata": {},
   "source": [
    "## Model"
   ]
  },
  {
   "cell_type": "markdown",
   "id": "94762372-ee97-46d5-a714-b5fd11c1ec26",
   "metadata": {},
   "source": [
    "### Create Chat commands from directory"
   ]
  },
  {
   "cell_type": "code",
   "execution_count": null,
   "id": "7ef475e4-e4e5-49d1-bb60-168449d64b2b",
   "metadata": {
    "tags": []
   },
   "outputs": [],
   "source": [
    "def create_command(input_dir):\n",
    "    # Init\n",
    "    commands = []\n",
    "    connectors = []\n",
    "    files = sorted(glob.glob(os.path.join(input_dir, \"**\", \"*.ipynb\"), recursive=True) + connectors, key=lambda x: x.split(\"/\")[-1])\n",
    "\n",
    "    # Loop on .ipynb files\n",
    "    for file in files:\n",
    "        # Init\n",
    "        command = {}\n",
    "        section = file.split(\"/\")[-2]\n",
    "        file_name = file.split(\"/\")[-1]\n",
    "\n",
    "        # Exclude file name chat plugin or pipeline\n",
    "        if not file_name.startswith(\"__\") and not file_name.endswith(\"__\") and not \"utils\" in file and not '/home/ftp/.naas/' in file:\n",
    "            # Open file and get cells\n",
    "            with open(file) as f:\n",
    "                nb = json.load(f)\n",
    "            cells = nb.get(\"cells\")\n",
    "\n",
    "            # Find tags #command to generate command\n",
    "            is_command = False\n",
    "            for cell in cells:\n",
    "                source = cell.get(\"source\")\n",
    "                if \"#command\" in \" \".join(source):\n",
    "                    is_command = True\n",
    "                    break\n",
    "\n",
    "            if is_command:\n",
    "                # Get name & webhook\n",
    "                payload = {}\n",
    "                command[\"name\"] = file_name.replace(\".ipynb\", \"\")\n",
    "                command[\"avatar\"] = cells[0].get(\"source\")[0].split('src=\"')[1].split('\"')[0]\n",
    "                command[\"action\"] =  {\n",
    "                    \"request_type\": \"POST\",\n",
    "                    \"url\": naas.webhook.add(file, params={\"inline\": True}),\n",
    "                    \"payload\": {}\n",
    "                }\n",
    "                payload = {}\n",
    "\n",
    "                # Add command description & payload\n",
    "                for i, cell in enumerate(cells):\n",
    "                    source = \"\".join(cell.get(\"source\"))\n",
    "                    tags = pydash.get(cell, \"metadata.tags\")\n",
    "                    # Create description\n",
    "                    if \"**Description:**\" in source:\n",
    "                        command_description = source.split(\"**Description:**\")[1].strip()\n",
    "                        command[\"description\"] = command_description.replace('notebook', 'command')\n",
    "                    # Create command payload\n",
    "                    if tags and \"variables\" in tags or \"Setup variables\" in source:\n",
    "                        variables = source\n",
    "                        defaults = \"\".join(cells[i+1].get(\"source\"))\n",
    "                    if tags and \"parameters\" in tags:\n",
    "                        for s in cells[i+1].get(\"source\"):\n",
    "                            if \"=\" in s:\n",
    "                                parameter = s.split(\"=\")[0].strip()\n",
    "                                payload[parameter] = {\n",
    "                                    \"type\": \"str\",\n",
    "                                    \"description\": variables.split(f\"`{parameter}`:\")[-1].split(\"-\")[0].replace(\"\\n\", \"\").strip(),\n",
    "                                    \"default\": defaults.split(f\"{parameter} =\")[-1].split(\"\\n\")[0].strip(),\n",
    "                                }\n",
    "                command[\"action\"][\"payload\"] = payload\n",
    "\n",
    "                # Generate commands (to be develop)\n",
    "                commands.append(command)\n",
    "#     print(json.dumps(commands, indent=4))\n",
    "    return commands\n",
    "\n",
    "# commands = create_command(\"/home/ftp/abi/models\")\n",
    "# commands"
   ]
  },
  {
   "cell_type": "markdown",
   "id": "415b14e9-a3e6-4a77-bab4-541e26a79bb7",
   "metadata": {},
   "source": [
    "### Create plugin"
   ]
  },
  {
   "cell_type": "code",
   "execution_count": null,
   "id": "f3ff4dbe-4ae4-47ed-bb23-1782ce00f6d6",
   "metadata": {},
   "outputs": [],
   "source": [
    "def create_plugin(\n",
    "    name,\n",
    "    prompt=\"\",\n",
    "    model=\"gpt-3.5-turbo-16k\",\n",
    "    temperature=0,\n",
    "    output_dir=None,\n",
    "    output_path=None,\n",
    "    commands=[],\n",
    "    description=\"\",\n",
    "    avatar=\"\",\n",
    "    prompt_type=\"system\",\n",
    "    entity_name=None\n",
    "):\n",
    "    \"\"\"\n",
    "    Creates a JSON file for a chat plugin with specified parameters and saves it to the specified output path.\n",
    "\n",
    "    This function checks the number of tokens in the prompt, creates a JSON object, and saves it to a JSON file.\n",
    "    It then creates an asset with the JSON file and returns the asset link.\n",
    "\n",
    "    Parameters:\n",
    "    - name (str): The name of the plugin.\n",
    "    - prompt (str): The prompt for the plugin.\n",
    "    - model (str): The name of the model to be used for tokenization. Default is \"gpt-3.5-turbo-16k\".\n",
    "    - temperature (int): The temperature parameter for the model. Default is 0.\n",
    "    - output_path (str): The path where the JSON file should be saved. If not provided, it will be created from the plugin name.\n",
    "    - commands (list): Webhook command to be executed to be executed to get insert data into your Naas Chat.\n",
    "    - description (str): Plugin description.\n",
    "    - avatar (str): Link to PNG to be displayed as avatar in your Chat.\n",
    "    - prompt_type (str): By default \"system\" but could be \"assistant\" or \"human\"\n",
    "\n",
    "    Returns:\n",
    "    str: The output path of the naas chat plugin.\n",
    "    \"\"\"\n",
    "    # Init\n",
    "    plugin = {}\n",
    "    \n",
    "    # Create output path\n",
    "    if not output_path:\n",
    "        output_path = remove_emojis(os.path.join(output_dir, f\"{name.lower().replace(' ', '_')}.json\"))\n",
    "        \n",
    "    # Create empty plugin\n",
    "    if not os.path.exists(output_path):\n",
    "        with open(output_path, \"w\") as f:\n",
    "            json.dump(plugin, f)\n",
    "        naas.asset.add(output_path, params={\"inline\": True})\n",
    "        \n",
    "    # Get asset URL\n",
    "    plugin_url = naas.asset.find(output_path)\n",
    "    \n",
    "    # Check tokens\n",
    "    prompt_tokens, max_tokens = naas_chat_plugin.check_tokens(prompt, model)\n",
    "\n",
    "    # Create JSON\n",
    "    entity_id = entity_name.lower().replace(' ', '-')\n",
    "    plugin = {\n",
    "        \"id\": f\"{name.lower().replace(' ', '-')}-{entity_id}\",\n",
    "        \"slug\": f\"{name.lower().replace(' ', '-')}/{entity_id}\",\n",
    "        \"url\": plugin_url,\n",
    "        \"name\": f\"{name} - {entity_name}\",\n",
    "        \"model\": model,\n",
    "        \"temperature\": temperature,\n",
    "        \"max_tokens\": max_tokens,\n",
    "        \"prompt\": prompt,\n",
    "        \"commands\": commands,\n",
    "        \"description\": description,\n",
    "        \"avatar\": avatar,\n",
    "        \"prompt_type\": prompt_type,\n",
    "    }\n",
    "\n",
    "    # Save dict to JSON file\n",
    "    with open(output_path, \"w\") as f:\n",
    "        json.dump(plugin, f)\n",
    "    print(f\"💾 Plugin successfully saved. You can use it in your Naas Chat with: {output_path}\")\n",
    "    naas.asset.add(output_path, params={\"inline\": True})\n",
    "    return output_path, plugin_url, plugin"
   ]
  },
  {
   "cell_type": "markdown",
   "id": "872839f0-bef4-4ab3-86e3-e2dd77377a7c",
   "metadata": {},
   "source": [
    "### Push plugin to Personal workspace"
   ]
  },
  {
   "cell_type": "code",
   "execution_count": null,
   "id": "26d5841d-65f7-4fb0-8a9e-84f2afba0e1a",
   "metadata": {
    "tags": []
   },
   "outputs": [],
   "source": [
    "def push_plugin_to_workspace(\n",
    "    api_key,\n",
    "    plugin,\n",
    "    workspace_ids=[],\n",
    "    personal_workspace=True\n",
    "):\n",
    "    # Get workspaces\n",
    "    workspaces = list_workspaces(api_key)\n",
    "    \n",
    "    # Get existing workspace ids\n",
    "    current_workspace_ids = [workspace.get(\"id\") for workspace in workspaces.get(\"workspaces\")]\n",
    "\n",
    "    if personal_workspace:\n",
    "        personal_workspace_id = None\n",
    "        # Get personal workspace\n",
    "        for workspace in workspaces.get(\"workspaces\"):\n",
    "            if workspace.get(\"is_personal\"):\n",
    "                personal_workspace_id = workspace.get(\"id\")\n",
    "                break\n",
    "        if personal_workspace_id not in workspace_ids:\n",
    "            workspace_ids.append(personal_workspace_id)\n",
    "    \n",
    "    for index, workspace_id in enumerate(workspace_ids):\n",
    "        if workspace_id in current_workspace_ids:\n",
    "            workspace_id = workspace_id.strip()\n",
    "            print(f\"{index} - Workspace ID:\", workspace_id)\n",
    "            # List existing plugins\n",
    "            plugins = list_workspace_plugins(\n",
    "                api_key,\n",
    "                workspace_id,\n",
    "            )\n",
    "            plugin_exist = False\n",
    "            print(\"Plugins:\", len(plugins.get('workspace_plugins')))\n",
    "            for i, p in enumerate(plugins.get('workspace_plugins')):\n",
    "                plugin_id = p.get(\"id\")\n",
    "                p_json = json.loads(p.get(\"payload\"))\n",
    "                p_name = p_json.get(\"name\")\n",
    "                p_slug = p_json.get(\"slug\")\n",
    "                p_url = p_json.get(\"url\")\n",
    "                if plugin_url == p_url:\n",
    "                    plugin_exist = True\n",
    "                    print(\"Plugin ID:\", plugin_id)\n",
    "                    print(\"- Slug:\", p_slug)\n",
    "                    print(\"- Name:\", p_name)\n",
    "                    print(\"- URL:\", p_url)\n",
    "                    break\n",
    "\n",
    "            # Create or update plugin\n",
    "            if not plugin_exist:\n",
    "                result = create_workspace_plugin(\n",
    "                    api_key,\n",
    "                    workspace_id,\n",
    "                    plugin,\n",
    "                )\n",
    "                print(\"✅ Plugin successfully created\")\n",
    "            else:\n",
    "                result = update_workspace_plugin(\n",
    "                    api_key,\n",
    "                    workspace_id,\n",
    "                    plugin_id,\n",
    "                    plugin,\n",
    "                )\n",
    "                print(\"✅ Plugin successfully updated\")\n",
    "            print()\n",
    "        else:\n",
    "            print(\"❌ Workspace ID does not exist for user.\")\n",
    "    return result"
   ]
  },
  {
   "cell_type": "markdown",
   "id": "c56e7467-89b1-4d83-9633-96453709a143",
   "metadata": {},
   "source": [
    "## Output"
   ]
  },
  {
   "cell_type": "code",
   "execution_count": null,
   "id": "a3756c41-3d91-4850-9466-6d304adb7afb",
   "metadata": {},
   "outputs": [],
   "source": []
  }
 ],
 "metadata": {
  "kernelspec": {
   "display_name": "Python 3",
   "language": "python",
   "name": "python3"
  },
  "language_info": {
   "codemirror_mode": {
    "name": "ipython",
    "version": 3
   },
   "file_extension": ".py",
   "mimetype": "text/x-python",
   "name": "python",
   "nbconvert_exporter": "python",
   "pygments_lexer": "ipython3",
   "version": "3.9.6"
  },
  "widgets": {
   "application/vnd.jupyter.widget-state+json": {
    "state": {},
    "version_major": 2,
    "version_minor": 0
   }
  }
 },
 "nbformat": 4,
 "nbformat_minor": 5
}
