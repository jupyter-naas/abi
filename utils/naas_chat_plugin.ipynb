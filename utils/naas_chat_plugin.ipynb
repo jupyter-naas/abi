{
 "cells": [
  {
   "cell_type": "markdown",
   "id": "0fe69480-22c1-4927-9217-6bdb459b5d56",
   "metadata": {},
   "source": [
    "<img width=\"10%\" alt=\"Naas\" src=\"https://landen.imgix.net/jtci2pxwjczr/assets/5ice39g4.png?w=160\"/>"
   ]
  },
  {
   "cell_type": "markdown",
   "id": "1da2bba4-1b4c-4daa-a7c8-487c3a740eba",
   "metadata": {},
   "source": [
    "# Naas Chat Plugin"
   ]
  },
  {
   "cell_type": "markdown",
   "id": "a03e20c0-49a0-4204-b5f9-c1f89850dd8b",
   "metadata": {},
   "source": [
    "## Input"
   ]
  },
  {
   "cell_type": "markdown",
   "id": "55dab74d-00db-4949-be18-c38b505c1738",
   "metadata": {
    "papermill": {},
    "tags": []
   },
   "source": [
    "### Import libraries"
   ]
  },
  {
   "cell_type": "code",
   "execution_count": null,
   "id": "4c84f9d2-1a1f-423c-9ecd-ba4ed244c4c0",
   "metadata": {
    "papermill": {},
    "tags": []
   },
   "outputs": [],
   "source": [
    "import os\n",
    "import glob\n",
    "import pydash\n",
    "import json\n",
    "import naas\n",
    "import naas_data_product"
   ]
  },
  {
   "cell_type": "markdown",
   "id": "17772827-ea8b-4d47-be40-8be22d3a6568",
   "metadata": {},
   "source": [
    "## Model"
   ]
  },
  {
   "cell_type": "markdown",
   "id": "7a45161c-1b35-4770-8cd9-96ae18f7e7e6",
   "metadata": {},
   "source": [
    "### Get connectors files"
   ]
  },
  {
   "cell_type": "code",
   "execution_count": null,
   "id": "70c05e42-a5d5-406d-b3e8-02cb48242abc",
   "metadata": {
    "tags": []
   },
   "outputs": [],
   "source": [
    "def get_connectors(input_dir):\n",
    "    # Init\n",
    "    connectors = []\n",
    "    dir_name = input_dir.split('/')[-1]\n",
    "    directory = os.path.join(naas_data_product.INPUTS_PATH, \"connections\")\n",
    "    files = sorted(glob.glob(os.path.join(directory, \"**\", \"*.ipynb\"), recursive=True))\n",
    "    \n",
    "    # Get all files\n",
    "    if dir_name == \"models\":\n",
    "        return files\n",
    "    \n",
    "    # Get connectors\n",
    "    for file in files:\n",
    "        # Open file and get cells\n",
    "        with open(file) as f:\n",
    "            nb = json.load(f)\n",
    "        cells = nb.get(\"cells\")\n",
    "        tags = cells[2].get(\"source\")[0].replace(\"**Tags:**\", \"\").strip()\n",
    "        tags = [f\"{tag.strip()}\" for tag in tags.split(\"#\") if tag != \"\"]\n",
    "        if dir_name in tags:\n",
    "            connectors.append(file)\n",
    "    return connectors\n",
    "\n",
    "# input_dir = os.path.join(naas_data_product.MODELS_PATH)\n",
    "# input_dir = os.path.join(naas_data_product.ROOT_PATH, \"models\", \"content-engine\")\n",
    "# print(input_dir)\n",
    "# connectors = get_connectors(input_dir)\n",
    "# connectors"
   ]
  },
  {
   "cell_type": "markdown",
   "id": "94762372-ee97-46d5-a714-b5fd11c1ec26",
   "metadata": {},
   "source": [
    "### Create Chat commands from directory"
   ]
  },
  {
   "cell_type": "code",
   "execution_count": null,
   "id": "7ef475e4-e4e5-49d1-bb60-168449d64b2b",
   "metadata": {
    "tags": []
   },
   "outputs": [],
   "source": [
    "def create_command(input_dir):\n",
    "    # Init\n",
    "    commands = []\n",
    "    connectors = get_connectors(input_dir)\n",
    "    files = sorted(glob.glob(os.path.join(input_dir, \"**\", \"*.ipynb\"), recursive=True) + connectors)\n",
    "\n",
    "    # Loop on .ipynb files\n",
    "    for file in files:\n",
    "        # Init\n",
    "        command = {}\n",
    "        section = file.split(\"/\")[-2]\n",
    "        file_name = file.split(\"/\")[-1]\n",
    "\n",
    "        # Exclude file name chat plugin or pipeline\n",
    "        if not file_name.startswith(\"__\") and not file_name.endswith(\"__\") and not \"utils\" in file:\n",
    "#             # Create section\n",
    "#             section_name = section.replace(\"-\", \" \").upper()\n",
    "#             command_names = [command.get(\"name\") for command in commands]\n",
    "#             if section_name not in command_names:\n",
    "#                 commands.append(\n",
    "#                     {\"name\": section_name, \"description\": \"\"}\n",
    "#                 )\n",
    "                \n",
    "            # Open file and get cells\n",
    "            with open(file) as f:\n",
    "                nb = json.load(f)\n",
    "            cells = nb.get(\"cells\")\n",
    "\n",
    "            # Find tags #command to generate command\n",
    "            is_command = False\n",
    "            for cell in cells:\n",
    "                source = cell.get(\"source\")\n",
    "                if \"#command\" in \" \".join(source):\n",
    "                    is_command = True\n",
    "                    break\n",
    "\n",
    "            if is_command:\n",
    "                # Get name & webhook\n",
    "                payload = {}\n",
    "                command[\"name\"] = file_name.replace(\".ipynb\", \"\")\n",
    "                command[\"avatar\"] = cells[0].get(\"source\")[0].split('src=\"')[1].replace('\"', '').replace('>', '')\n",
    "                command[\"action\"] =  {\n",
    "                    \"request_type\": \"POST\",\n",
    "                    \"url\": naas.webhook.add(file, params={\"inline\": True}),\n",
    "                    \"payload\": {}\n",
    "                }\n",
    "                payload = {}\n",
    "\n",
    "                # Add command description & payload\n",
    "                for i, cell in enumerate(cells):\n",
    "                    source = \"\".join(cell.get(\"source\"))\n",
    "                    tags = pydash.get(cell, \"metadata.tags\")\n",
    "                    # Create description\n",
    "                    if \"Description\" in source:\n",
    "                        command_description = source.split(\"**Description:**\")[1].strip()\n",
    "                        command[\"description\"] = command_description.replace('notebook', 'command')\n",
    "                    # Create command payload\n",
    "                    if tags and \"variables\" in tags or \"Setup variables\" in source:\n",
    "                        variables = source\n",
    "                        defaults = \"\".join(cells[i+1].get(\"source\"))\n",
    "                    if tags and \"parameters\" in tags:\n",
    "                        for s in cells[i+1].get(\"source\"):\n",
    "                            if \"=\" in s:\n",
    "                                parameter = s.split(\"=\")[0].strip()\n",
    "                                payload[parameter] = {\n",
    "                                    \"type\": \"str\",\n",
    "                                    \"description\": variables.split(f\"`{parameter}`:\")[-1].split(\"-\")[0].replace(\"\\n\", \"\").strip(),\n",
    "                                    \"default\": defaults.split(f\"{parameter} =\")[-1].split(\"\\n\")[0].strip(),\n",
    "                                }\n",
    "                command[\"action\"][\"payload\"] = payload\n",
    "\n",
    "                # Generate commands (to be develop)\n",
    "                commands.append(command)\n",
    "    print(json.dumps(commands, indent=4))\n",
    "    return commands\n",
    "\n",
    "# commands = create_command(\"/home/ftp/abi/models\")\n",
    "# commands"
   ]
  },
  {
   "cell_type": "markdown",
   "id": "c56e7467-89b1-4d83-9633-96453709a143",
   "metadata": {},
   "source": [
    "## Output"
   ]
  },
  {
   "cell_type": "code",
   "execution_count": null,
   "id": "a3756c41-3d91-4850-9466-6d304adb7afb",
   "metadata": {},
   "outputs": [],
   "source": []
  }
 ],
 "metadata": {
  "kernelspec": {
   "display_name": "Python 3",
   "language": "python",
   "name": "python3"
  },
  "language_info": {
   "codemirror_mode": {
    "name": "ipython",
    "version": 3
   },
   "file_extension": ".py",
   "mimetype": "text/x-python",
   "name": "python",
   "nbconvert_exporter": "python",
   "pygments_lexer": "ipython3",
   "version": "3.9.6"
  },
  "widgets": {
   "application/vnd.jupyter.widget-state+json": {
    "state": {},
    "version_major": 2,
    "version_minor": 0
   }
  }
 },
 "nbformat": 4,
 "nbformat_minor": 5
}
