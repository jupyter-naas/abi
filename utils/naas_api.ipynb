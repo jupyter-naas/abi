{
 "cells": [
  {
   "cell_type": "markdown",
   "id": "f3f88289-5cbc-429d-9540-42dc0df8d91e",
   "metadata": {
    "papermill": {},
    "tags": []
   },
   "source": [
    "<img width=\"8%\" alt=\"Naas.png\" src=\"https://raw.githubusercontent.com/jupyter-naas/awesome-notebooks/master/.github/assets/logos/Naas.png\" style=\"border-radius: 15%\">"
   ]
  },
  {
   "cell_type": "markdown",
   "id": "1da2bba4-1b4c-4daa-a7c8-487c3a740eba",
   "metadata": {},
   "source": [
    "# Naas API"
   ]
  },
  {
   "cell_type": "markdown",
   "id": "a03e20c0-49a0-4204-b5f9-c1f89850dd8b",
   "metadata": {},
   "source": [
    "## Input"
   ]
  },
  {
   "cell_type": "markdown",
   "id": "55dab74d-00db-4949-be18-c38b505c1738",
   "metadata": {
    "papermill": {},
    "tags": []
   },
   "source": [
    "### Import libraries"
   ]
  },
  {
   "cell_type": "code",
   "execution_count": null,
   "id": "4c84f9d2-1a1f-423c-9ecd-ba4ed244c4c0",
   "metadata": {
    "papermill": {},
    "tags": []
   },
   "outputs": [],
   "source": [
    "import requests\n",
    "import naas\n",
    "import json"
   ]
  },
  {
   "cell_type": "markdown",
   "id": "17772827-ea8b-4d47-be40-8be22d3a6568",
   "metadata": {},
   "source": [
    "## Model"
   ]
  },
  {
   "cell_type": "markdown",
   "id": "c028f7c8-7ba2-47e2-836e-b80029cf946f",
   "metadata": {
    "papermill": {},
    "tags": []
   },
   "source": [
    "### List Workspaces"
   ]
  },
  {
   "cell_type": "code",
   "execution_count": null,
   "id": "70a067ec-7732-4e68-8fa0-70d14d606ded",
   "metadata": {
    "papermill": {},
    "tags": []
   },
   "outputs": [],
   "source": [
    "def list_workspaces(\n",
    "    api_key,\n",
    "):\n",
    "    url = \"https://api.naas.ai/workspace/\"\n",
    "    headers = {\n",
    "        \"Content-Type\": \"application/json\",\n",
    "        \"Authorization\": f\"Bearer {api_key}\"\n",
    "    }\n",
    "    response = requests.get(url, headers=headers)\n",
    "    return response.json()"
   ]
  },
  {
   "cell_type": "markdown",
   "id": "10d74a58-dbaf-4bdc-88b6-eafb88016248",
   "metadata": {
    "papermill": {},
    "tags": []
   },
   "source": [
    "### List Workspace plugins"
   ]
  },
  {
   "cell_type": "code",
   "execution_count": null,
   "id": "9a699489-b708-4022-b9c3-b3f659e3a9a4",
   "metadata": {
    "papermill": {},
    "tags": []
   },
   "outputs": [],
   "source": [
    "def list_workspace_plugins(\n",
    "    api_key,\n",
    "    workspace_id,\n",
    "):\n",
    "    url = f\"https://api.naas.ai/workspace/{workspace_id}/plugin\"\n",
    "    headers = {\n",
    "        \"Content-Type\": \"application/json\",\n",
    "        \"Authorization\": f\"Bearer {api_key}\"\n",
    "    }\n",
    "    response = requests.get(url, headers=headers)\n",
    "    return response.json()"
   ]
  },
  {
   "cell_type": "markdown",
   "id": "012a6ca1-7864-4151-93db-2558df94c013",
   "metadata": {
    "papermill": {},
    "tags": []
   },
   "source": [
    "### Create Workspace Plugin"
   ]
  },
  {
   "cell_type": "code",
   "execution_count": null,
   "id": "b4d1e93b-7938-4a61-81d0-ca136c909039",
   "metadata": {
    "papermill": {},
    "tags": []
   },
   "outputs": [],
   "source": [
    "def create_workspace_plugin(\n",
    "    api_key,\n",
    "    workspace_id,\n",
    "    plugin,\n",
    "):\n",
    "    url = f\"https://api.naas.ai/workspace/{workspace_id}/plugin\"\n",
    "    headers = {\n",
    "        \"Content-Type\": \"application/json\",\n",
    "        \"Authorization\": f\"Bearer {api_key}\"\n",
    "    }\n",
    "    data = {\n",
    "        \"workspace_id\": workspace_id,\n",
    "        \"payload\": json.dumps(plugin),\n",
    "    }\n",
    "    response = requests.post(url, headers=headers, json=data)\n",
    "    return response.json()"
   ]
  },
  {
   "cell_type": "markdown",
   "id": "e9a05b8d-16f8-459c-9c6f-1f383e5bc4a3",
   "metadata": {},
   "source": [
    "### Update Workspace Plugin"
   ]
  },
  {
   "cell_type": "code",
   "execution_count": null,
   "id": "19757ed5-20ed-4f68-ae81-c6c3c09d9cde",
   "metadata": {},
   "outputs": [],
   "source": [
    "def update_workspace_plugin(\n",
    "    api_key,\n",
    "    workspace_id,\n",
    "    plugin_id,\n",
    "    plugin,\n",
    "):\n",
    "    url = f\"https://api.naas.ai/workspace/{workspace_id}/plugin/{plugin_id}\"\n",
    "    headers = {\n",
    "        \"Content-Type\": \"application/json\",\n",
    "        \"Authorization\": f\"Bearer {api_key}\"\n",
    "    }\n",
    "    data = {\n",
    "        \"workspace_id\": workspace_id,\n",
    "        \"plugin_id\": plugin_id,\n",
    "        \"workspace_plugin\": {\n",
    "            \"payload\": json.dumps(plugin),\n",
    "        }\n",
    "    }\n",
    "    response = requests.put(url, headers=headers, json=data)\n",
    "    return response.json()"
   ]
  },
  {
   "cell_type": "markdown",
   "id": "c56e7467-89b1-4d83-9633-96453709a143",
   "metadata": {},
   "source": [
    "## Output"
   ]
  },
  {
   "cell_type": "code",
   "execution_count": null,
   "id": "a3756c41-3d91-4850-9466-6d304adb7afb",
   "metadata": {},
   "outputs": [],
   "source": []
  }
 ],
 "metadata": {
  "kernelspec": {
   "display_name": "Python 3",
   "language": "python",
   "name": "python3"
  },
  "language_info": {
   "codemirror_mode": {
    "name": "ipython",
    "version": 3
   },
   "file_extension": ".py",
   "mimetype": "text/x-python",
   "name": "python",
   "nbconvert_exporter": "python",
   "pygments_lexer": "ipython3",
   "version": "3.9.6"
  },
  "widgets": {
   "application/vnd.jupyter.widget-state+json": {
    "state": {},
    "version_major": 2,
    "version_minor": 0
   }
  }
 },
 "nbformat": 4,
 "nbformat_minor": 5
}
