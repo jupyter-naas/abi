{
 "cells": [
  {
   "cell_type": "markdown",
   "id": "0fe69480-22c1-4927-9217-6bdb459b5d56",
   "metadata": {},
   "source": [
    "<img width=\"10%\" alt=\"Naas\" src=\"https://landen.imgix.net/jtci2pxwjczr/assets/5ice39g4.png?w=160\"/>"
   ]
  },
  {
   "cell_type": "markdown",
   "id": "1da2bba4-1b4c-4daa-a7c8-487c3a740eba",
   "metadata": {},
   "source": [
    "# Naas Lab"
   ]
  },
  {
   "cell_type": "markdown",
   "id": "a03e20c0-49a0-4204-b5f9-c1f89850dd8b",
   "metadata": {},
   "source": [
    "## Input"
   ]
  },
  {
   "cell_type": "markdown",
   "id": "55dab74d-00db-4949-be18-c38b505c1738",
   "metadata": {
    "papermill": {},
    "tags": []
   },
   "source": [
    "### Import libraries"
   ]
  },
  {
   "cell_type": "code",
   "execution_count": null,
   "id": "4c84f9d2-1a1f-423c-9ecd-ba4ed244c4c0",
   "metadata": {
    "papermill": {},
    "tags": []
   },
   "outputs": [],
   "source": [
    "import naas\n",
    "import os"
   ]
  },
  {
   "cell_type": "markdown",
   "id": "17772827-ea8b-4d47-be40-8be22d3a6568",
   "metadata": {},
   "source": [
    "## Model"
   ]
  },
  {
   "cell_type": "markdown",
   "id": "94762372-ee97-46d5-a714-b5fd11c1ec26",
   "metadata": {},
   "source": [
    "### Create Chat commands from directory"
   ]
  },
  {
   "cell_type": "code",
   "execution_count": null,
   "id": "7ef475e4-e4e5-49d1-bb60-168449d64b2b",
   "metadata": {
    "tags": []
   },
   "outputs": [],
   "source": [
    "def add_or_update_secret(\n",
    "    secret_name,\n",
    "    secret_value\n",
    "):\n",
    "    # Init\n",
    "    value = naas.secret.get(secret_name)\n",
    "    \n",
    "    # Add secret\n",
    "    if secret_value and value != secret_value:\n",
    "        value = secret_value\n",
    "    return value\n",
    "\n",
    "def connect(\n",
    "    secrets,\n",
    "):\n",
    "    # Init\n",
    "    status = \"ok\"\n",
    "    message = \"\"\n",
    "    \n",
    "    for secret in secrets:\n",
    "        secret_name = secret\n",
    "        secret_value = secrets.get(secret_name)\n",
    "        try:\n",
    "            # Add naas secret\n",
    "            if secret_value:\n",
    "                value = add_or_update_secret(secret_name, secret_value)\n",
    "                message = f\"{message}Secret '{secret_name}' added to Naas. \"\n",
    "            else:\n",
    "                message = f\"{message}Secret value is empty. Nothing to add in naas secret '{secret_name}'. \"\n",
    "        except Exception as e:\n",
    "            status = \"ko\"\n",
    "            message = f\"Template error: {e}. \"\n",
    "            break\n",
    "    return status, message"
   ]
  },
  {
   "cell_type": "markdown",
   "id": "69a9d400-1e61-49e4-bdda-42f296a7b1af",
   "metadata": {},
   "source": [
    "### Get image asset"
   ]
  },
  {
   "cell_type": "code",
   "execution_count": null,
   "id": "6bd9306d-1f82-47d5-a4eb-8bcf5b04521e",
   "metadata": {},
   "outputs": [],
   "source": [
    "def get_image_asset(\n",
    "    input_dir,\n",
    "    input_file,\n",
    "):\n",
    "    image_input = os.path.join(input_dir, input_file)\n",
    "    image_url = naas.asset.find(image_input)\n",
    "    if image_url is None:\n",
    "        image_url = \"\"\n",
    "    return image_url"
   ]
  },
  {
   "cell_type": "markdown",
   "id": "c56e7467-89b1-4d83-9633-96453709a143",
   "metadata": {},
   "source": [
    "## Output"
   ]
  },
  {
   "cell_type": "code",
   "execution_count": null,
   "id": "a3756c41-3d91-4850-9466-6d304adb7afb",
   "metadata": {},
   "outputs": [],
   "source": []
  }
 ],
 "metadata": {
  "kernelspec": {
   "display_name": "Python 3",
   "language": "python",
   "name": "python3"
  },
  "language_info": {
   "codemirror_mode": {
    "name": "ipython",
    "version": 3
   },
   "file_extension": ".py",
   "mimetype": "text/x-python",
   "name": "python",
   "nbconvert_exporter": "python",
   "pygments_lexer": "ipython3",
   "version": "3.9.6"
  },
  "widgets": {
   "application/vnd.jupyter.widget-state+json": {
    "state": {},
    "version_major": 2,
    "version_minor": 0
   }
  }
 },
 "nbformat": 4,
 "nbformat_minor": 5
}
