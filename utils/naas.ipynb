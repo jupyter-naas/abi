{
 "cells": [
  {
   "cell_type": "markdown",
   "id": "0fe69480-22c1-4927-9217-6bdb459b5d56",
   "metadata": {},
   "source": [
    "<img width=\"10%\" alt=\"Naas\" src=\"https://landen.imgix.net/jtci2pxwjczr/assets/5ice39g4.png?w=160\"/>"
   ]
  },
  {
   "cell_type": "markdown",
   "id": "1da2bba4-1b4c-4daa-a7c8-487c3a740eba",
   "metadata": {},
   "source": [
    "# Naas"
   ]
  },
  {
   "cell_type": "markdown",
   "id": "a03e20c0-49a0-4204-b5f9-c1f89850dd8b",
   "metadata": {},
   "source": [
    "## Input"
   ]
  },
  {
   "cell_type": "markdown",
   "id": "dbc31862-a80f-4f73-b41c-45c616c7991b",
   "metadata": {},
   "source": [
    "### Import libraries"
   ]
  },
  {
   "cell_type": "code",
   "execution_count": 2,
   "id": "ee961415-6782-4a06-96e8-f6ab708631a3",
   "metadata": {
    "execution": {
     "iopub.execute_input": "2023-05-04T13:37:42.474884Z",
     "iopub.status.busy": "2023-05-04T13:37:42.474649Z",
     "iopub.status.idle": "2023-05-04T13:37:42.482384Z",
     "shell.execute_reply": "2023-05-04T13:37:42.481812Z",
     "shell.execute_reply.started": "2023-05-04T13:37:42.474861Z"
    },
    "tags": []
   },
   "outputs": [],
   "source": [
    "import naas"
   ]
  },
  {
   "cell_type": "markdown",
   "id": "17772827-ea8b-4d47-be40-8be22d3a6568",
   "metadata": {},
   "source": [
    "## Model"
   ]
  },
  {
   "cell_type": "markdown",
   "id": "af62b007-b93f-47a9-9019-5cc2f67fe959",
   "metadata": {},
   "source": [
    "### Setup secrets from list"
   ]
  },
  {
   "cell_type": "code",
   "execution_count": null,
   "id": "29dcab2b-b969-4fa6-91ef-632ed1879b7d",
   "metadata": {
    "tags": []
   },
   "outputs": [],
   "source": [
    "def setup_secrets_from_list(list_secrets_name, force_update=False):\n",
    "    for secret in list_secrets_name:\n",
    "        secret_value = naas.secret.get(secret)\n",
    "        if not secret_value or force_update:\n",
    "            print(\"🔑 Setup secret:\", secret)\n",
    "            secret_value = input(\"Secret value:\")\n",
    "            if secret_value:\n",
    "                naas.secret.add(secret, secret_value)"
   ]
  },
  {
   "cell_type": "markdown",
   "id": "c56e7467-89b1-4d83-9633-96453709a143",
   "metadata": {},
   "source": [
    "## Output"
   ]
  }
 ],
 "metadata": {
  "kernelspec": {
   "display_name": "Python 3",
   "language": "python",
   "name": "python3"
  },
  "language_info": {
   "codemirror_mode": {
    "name": "ipython",
    "version": 3
   },
   "file_extension": ".py",
   "mimetype": "text/x-python",
   "name": "python",
   "nbconvert_exporter": "python",
   "pygments_lexer": "ipython3",
   "version": "3.9.6"
  },
  "widgets": {
   "application/vnd.jupyter.widget-state+json": {
    "state": {},
    "version_major": 2,
    "version_minor": 0
   }
  }
 },
 "nbformat": 4,
 "nbformat_minor": 5
}
