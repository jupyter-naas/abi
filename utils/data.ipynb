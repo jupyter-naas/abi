{
 "cells": [
  {
   "cell_type": "markdown",
   "id": "0fe69480-22c1-4927-9217-6bdb459b5d56",
   "metadata": {},
   "source": [
    "<img width=\"10%\" alt=\"Naas\" src=\"https://landen.imgix.net/jtci2pxwjczr/assets/5ice39g4.png?w=160\"/>"
   ]
  },
  {
   "cell_type": "markdown",
   "id": "1da2bba4-1b4c-4daa-a7c8-487c3a740eba",
   "metadata": {},
   "source": [
    "# Naas Lab"
   ]
  },
  {
   "cell_type": "markdown",
   "id": "a03e20c0-49a0-4204-b5f9-c1f89850dd8b",
   "metadata": {},
   "source": [
    "## Input"
   ]
  },
  {
   "cell_type": "markdown",
   "id": "55dab74d-00db-4949-be18-c38b505c1738",
   "metadata": {
    "papermill": {},
    "tags": []
   },
   "source": [
    "### Import libraries"
   ]
  },
  {
   "cell_type": "code",
   "execution_count": null,
   "id": "4c84f9d2-1a1f-423c-9ecd-ba4ed244c4c0",
   "metadata": {
    "papermill": {},
    "tags": []
   },
   "outputs": [],
   "source": [
    "import pickle\n",
    "import os"
   ]
  },
  {
   "cell_type": "markdown",
   "id": "17772827-ea8b-4d47-be40-8be22d3a6568",
   "metadata": {},
   "source": [
    "## Model"
   ]
  },
  {
   "cell_type": "markdown",
   "id": "a30d711f-aacb-44cf-ae31-636f96976a75",
   "metadata": {},
   "source": [
    "### Pickel functions"
   ]
  },
  {
   "cell_type": "markdown",
   "id": "7ab7402e-7e1a-4b5d-832e-87aed7d44f1b",
   "metadata": {},
   "source": [
    "#### Pickle dump"
   ]
  },
  {
   "cell_type": "code",
   "execution_count": null,
   "id": "53d8ebff-d389-421f-9e15-66087085f868",
   "metadata": {
    "tags": []
   },
   "outputs": [],
   "source": [
    "def pdump(\n",
    "    output_dir,\n",
    "    object_to_dump,\n",
    "    file_to_dump_to,\n",
    "):\n",
    "    os.makedirs(output_dir, exist_ok=True)\n",
    "    file_path = os.path.join(output_dir, f'{file_to_dump_to}.pickle')\n",
    "    with open(file_path, 'wb') as file:\n",
    "        pickle.dump(object_to_dump, file)"
   ]
  },
  {
   "cell_type": "markdown",
   "id": "1b4ce912-2d59-45cc-86dd-723397d7e381",
   "metadata": {},
   "source": [
    "#### Pickle load"
   ]
  },
  {
   "cell_type": "code",
   "execution_count": null,
   "id": "45987b68-7628-4c5a-8d88-535798c91c4c",
   "metadata": {
    "tags": []
   },
   "outputs": [],
   "source": [
    "def pload(\n",
    "    output_dir,\n",
    "    file_to_load_from\n",
    "):\n",
    "    file_path = os.path.join(output_dir, f'{file_to_load_from}.pickle')\n",
    "    try:\n",
    "        with open(file_path, 'rb') as file:\n",
    "            return pickle.load(file)\n",
    "    except:\n",
    "        return None"
   ]
  },
  {
   "cell_type": "markdown",
   "id": "c56e7467-89b1-4d83-9633-96453709a143",
   "metadata": {},
   "source": [
    "## Output"
   ]
  },
  {
   "cell_type": "code",
   "execution_count": null,
   "id": "a3756c41-3d91-4850-9466-6d304adb7afb",
   "metadata": {},
   "outputs": [],
   "source": []
  }
 ],
 "metadata": {
  "kernelspec": {
   "display_name": "Python 3",
   "language": "python",
   "name": "python3"
  },
  "language_info": {
   "codemirror_mode": {
    "name": "ipython",
    "version": 3
   },
   "file_extension": ".py",
   "mimetype": "text/x-python",
   "name": "python",
   "nbconvert_exporter": "python",
   "pygments_lexer": "ipython3",
   "version": "3.9.6"
  },
  "widgets": {
   "application/vnd.jupyter.widget-state+json": {
    "state": {},
    "version_major": 2,
    "version_minor": 0
   }
  }
 },
 "nbformat": 4,
 "nbformat_minor": 5
}
