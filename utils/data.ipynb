{
 "cells": [
  {
   "cell_type": "markdown",
   "id": "c95a731f-fcc2-4f04-a587-5caf9fe0d6e2",
   "metadata": {
    "papermill": {},
    "tags": []
   },
   "source": [
    "<img width=\"8%\" alt=\"Naas.png\" src=\"https://raw.githubusercontent.com/jupyter-naas/awesome-notebooks/master/.github/assets/logos/Naas.png\" style=\"border-radius: 15%\">"
   ]
  },
  {
   "cell_type": "markdown",
   "id": "1da2bba4-1b4c-4daa-a7c8-487c3a740eba",
   "metadata": {},
   "source": [
    "# Data"
   ]
  },
  {
   "cell_type": "markdown",
   "id": "a03e20c0-49a0-4204-b5f9-c1f89850dd8b",
   "metadata": {},
   "source": [
    "## Input"
   ]
  },
  {
   "cell_type": "markdown",
   "id": "55dab74d-00db-4949-be18-c38b505c1738",
   "metadata": {
    "papermill": {},
    "tags": []
   },
   "source": [
    "### Import libraries"
   ]
  },
  {
   "cell_type": "code",
   "execution_count": null,
   "id": "4c84f9d2-1a1f-423c-9ecd-ba4ed244c4c0",
   "metadata": {
    "papermill": {},
    "tags": []
   },
   "outputs": [],
   "source": [
    "import pickle\n",
    "import os\n",
    "from unidecode import unidecode\n",
    "from difflib import SequenceMatcher\n",
    "import re\n",
    "from datetime import datetime, timedelta\n",
    "import pytz\n",
    "import naas\n",
    "from naas_drivers import linkedin\n",
    "import naas_data_product"
   ]
  },
  {
   "cell_type": "markdown",
   "id": "17772827-ea8b-4d47-be40-8be22d3a6568",
   "metadata": {},
   "source": [
    "## Model"
   ]
  },
  {
   "cell_type": "markdown",
   "id": "a30d711f-aacb-44cf-ae31-636f96976a75",
   "metadata": {},
   "source": [
    "### Pickel functions"
   ]
  },
  {
   "cell_type": "markdown",
   "id": "7ab7402e-7e1a-4b5d-832e-87aed7d44f1b",
   "metadata": {},
   "source": [
    "#### Pickle dump"
   ]
  },
  {
   "cell_type": "code",
   "execution_count": null,
   "id": "53d8ebff-d389-421f-9e15-66087085f868",
   "metadata": {
    "tags": []
   },
   "outputs": [],
   "source": [
    "def pdump(\n",
    "    output_dir,\n",
    "    object_to_dump,\n",
    "    file_to_dump_to,\n",
    "):\n",
    "    os.makedirs(output_dir, exist_ok=True)\n",
    "    file_path = os.path.join(output_dir, f'{file_to_dump_to}.pickle')\n",
    "    with open(file_path, 'wb') as file:\n",
    "        pickle.dump(object_to_dump, file)"
   ]
  },
  {
   "cell_type": "markdown",
   "id": "1b4ce912-2d59-45cc-86dd-723397d7e381",
   "metadata": {},
   "source": [
    "#### Pickle load"
   ]
  },
  {
   "cell_type": "code",
   "execution_count": null,
   "id": "45987b68-7628-4c5a-8d88-535798c91c4c",
   "metadata": {
    "tags": []
   },
   "outputs": [],
   "source": [
    "def pload(\n",
    "    output_dir,\n",
    "    file_to_load_from\n",
    "):\n",
    "    file_path = os.path.join(output_dir, f'{file_to_load_from}.pickle')\n",
    "    try:\n",
    "        with open(file_path, 'rb') as file:\n",
    "            return pickle.load(file)\n",
    "    except:\n",
    "        return None"
   ]
  },
  {
   "cell_type": "markdown",
   "id": "e929759d-1080-40df-912a-873fa21deb92",
   "metadata": {},
   "source": [
    "### Sequence Matcher from df"
   ]
  },
  {
   "cell_type": "code",
   "execution_count": null,
   "id": "22fd24d2-9f46-4ae0-ade0-5359d2b38987",
   "metadata": {},
   "outputs": [],
   "source": [
    "def remove_accent(string):\n",
    "    # Use the unidecode function to remove accents\n",
    "    string_without_accent = unidecode(string)\n",
    "    return string_without_accent.lower()\n",
    "\n",
    "def are_identical(string1, string2):\n",
    "    string1 = remove_accent(string1)\n",
    "    string2 = remove_accent(string2)\n",
    "    # Create a SequenceMatcher object\n",
    "    matcher = SequenceMatcher(None, string1, string2)\n",
    "    \n",
    "    # Get the ratio of similarity between the two strings\n",
    "    similarity_ratio = matcher.ratio()\n",
    "    # If the ratio is 1.0, the strings are identical\n",
    "    if similarity_ratio > 0.9:\n",
    "        return True\n",
    "    else:\n",
    "        return False\n",
    "    \n",
    "def find_crm_match(\n",
    "    df,\n",
    "    col_crm,\n",
    "    value\n",
    "):\n",
    "    crm = False\n",
    "    for x in df[col_crm].unique():\n",
    "        if are_identical(value, str(x)):\n",
    "            crm = True\n",
    "            break\n",
    "    return crm"
   ]
  },
  {
   "cell_type": "markdown",
   "id": "645c9bc9-5dc2-44e9-9977-1b7379d7d69b",
   "metadata": {},
   "source": [
    "### Remove emojis"
   ]
  },
  {
   "cell_type": "code",
   "execution_count": null,
   "id": "6004abe1-b48f-4ba0-a20c-881752c39d14",
   "metadata": {},
   "outputs": [],
   "source": [
    "def remove_emojis(text):\n",
    "    # Emoji pattern\n",
    "    emoji_pattern = re.compile(\"[\"\n",
    "                               u\"\\U0001F600-\\U0001F64F\"  # emoticons\n",
    "                               u\"\\U0001F300-\\U0001F5FF\"  # symbols & pictographs\n",
    "                               u\"\\U0001F680-\\U0001F6FF\"  # transport & map symbols\n",
    "                               u\"\\U0001F1E0-\\U0001F1FF\"  # flags (iOS)\n",
    "                               u\"\\U00002500-\\U00002BEF\"  # chinese char\n",
    "                               u\"\\U00002702-\\U000027B0\"\n",
    "                               u\"\\U00002702-\\U000027B0\"\n",
    "                               u\"\\U000024C2-\\U0001F251\"\n",
    "                               u\"\\U0001f926-\\U0001f937\"\n",
    "                               u\"\\U00010000-\\U0010ffff\"\n",
    "                               u\"\\u2640-\\u2642\"\n",
    "                               u\"\\u2600-\\u2B55\"\n",
    "                               u\"\\u200d\"\n",
    "                               u\"\\u23cf\"\n",
    "                               u\"\\u23e9\"\n",
    "                               u\"\\u231a\"\n",
    "                               u\"\\ufe0f\"  # dingbats\n",
    "                               u\"\\u3030\"\n",
    "                               \"]+\", flags=re.UNICODE)\n",
    "    # Remove emojis from the text\n",
    "    text = emoji_pattern.sub(r'', text)\n",
    "    return text.strip()"
   ]
  },
  {
   "cell_type": "markdown",
   "id": "be1d5ba2-4908-430a-bfec-a367681eb35c",
   "metadata": {},
   "source": [
    "### Format value"
   ]
  },
  {
   "cell_type": "code",
   "execution_count": null,
   "id": "90fa85e0-6e15-4b88-886c-e0c228b71cea",
   "metadata": {},
   "outputs": [],
   "source": [
    "def format_number(num):\n",
    "    num = str(\"{:,.0f}\".format(abs(num))).replace(\",\", \" \")\n",
    "    return num"
   ]
  },
  {
   "cell_type": "markdown",
   "id": "51c58857-6a70-4467-a99a-cd9cf0f5da17",
   "metadata": {},
   "source": [
    "### Get dict from df"
   ]
  },
  {
   "cell_type": "code",
   "execution_count": null,
   "id": "0d300aba-9a8a-43f3-928b-e2dabacfdd39",
   "metadata": {},
   "outputs": [],
   "source": [
    "def get_dict_from_df(\n",
    "    df,\n",
    "    column_name,\n",
    "    key,\n",
    "    file,\n",
    "    output_dir\n",
    "):\n",
    "    data = {}\n",
    "    if column_name in df.columns:\n",
    "        data = pload(output_dir, file)\n",
    "        if data is None: \n",
    "            data = df[~df[column_name].isin([\"TBD\", \"NA\"])].set_index(key)[column_name].to_dict()\n",
    "            pdump(output_dir, data, file)\n",
    "    return data"
   ]
  },
  {
   "cell_type": "markdown",
   "id": "7fa77754-e477-403f-9a89-696712fbad72",
   "metadata": {},
   "source": [
    "### Get LinkedIn data"
   ]
  },
  {
   "cell_type": "code",
   "execution_count": null,
   "id": "a054ecc3-24f5-437b-bdc9-c9ec882b3eb5",
   "metadata": {},
   "outputs": [],
   "source": [
    "def get_linkedin_data(\n",
    "    linkedin_url,\n",
    "    linkedin_dir,\n",
    "    data_type=\"top_card\",\n",
    "    li_at=None,\n",
    "    JSESSIONID=None\n",
    "):\n",
    "    # Get secrets\n",
    "    if not li_at:\n",
    "        li_at = naas.secret.get(\"LINKEDIN_LI_AT\")\n",
    "    if not JSESSIONID:\n",
    "        JSESSIONID = naas.secret.get(\"LINKEDIN_JSESSIONID\")\n",
    "    # Create ID\n",
    "    linkedin_id = linkedin_url.split(\"/in/\")[1].split(\"/\")[0]\n",
    "    df = pload(linkedin_dir, f\"{linkedin_id}_linkedin_{data_type}\")\n",
    "    if df is None:\n",
    "        try:\n",
    "            if data_type == \"top_card\":\n",
    "                df = linkedin.connect(li_at, JSESSIONID).profile.get_top_card(linkedin_url)\n",
    "            elif data_type == \"identity\":\n",
    "                df = linkedin.connect(li_at, JSESSIONID).profile.get_identity(linkedin_url)\n",
    "            elif data_type == \"network\":\n",
    "                df = linkedin.connect(li_at, JSESSIONID).profile.get_network(linkedin_url)\n",
    "            elif data_type == \"contact\":\n",
    "                df = linkedin.connect(li_at, JSESSIONID).profile.get_contact(linkedin_url)\n",
    "            elif data_type == \"resume\":\n",
    "                df = linkedin.connect(li_at, JSESSIONID).profile.get_resume(linkedin_url)\n",
    "            pdump(linkedin_dir, df, f\"{linkedin_id}_linkedin_{data_type}\")\n",
    "        except Exception as e:\n",
    "            print(e)\n",
    "            df = pd.DataFrame()\n",
    "    return df"
   ]
  },
  {
   "cell_type": "markdown",
   "id": "c56e7467-89b1-4d83-9633-96453709a143",
   "metadata": {},
   "source": [
    "## Output"
   ]
  },
  {
   "cell_type": "markdown",
   "id": "3b4247c9-1752-4862-9f60-318f1bef20f9",
   "metadata": {},
   "source": [
    "### Constants"
   ]
  },
  {
   "cell_type": "code",
   "execution_count": null,
   "id": "2cf8ff72-6288-41f3-b285-d7a4c24213a9",
   "metadata": {
    "scrolled": true,
    "tags": []
   },
   "outputs": [],
   "source": [
    "# Timezone\n",
    "tz = pload(os.path.join(naas_data_product.OUTPUTS_PATH, \"entities\", \"0\"), \"timezone\")\n",
    "if tz is None:\n",
    "    tz = \"Europe/Paris\"\n",
    "TIMEZONE = pytz.timezone(tz)\n",
    "\n",
    "# Scenario values\n",
    "TW = datetime.now(TIMEZONE).strftime(\"W%W-%Y\")\n",
    "LW = (datetime.now(TIMEZONE) - timedelta(days=datetime.now(TIMEZONE).weekday() + 7)).strftime(\"W%W-%Y\")\n",
    "\n",
    "# Mapping colors\n",
    "MAPPING_COLORS = {\n",
    "    TW: \"#48DD82\",\n",
    "    LW: \"#FFFDA2\",\n",
    "}\n",
    "\n",
    "# Logos\n",
    "arrow_up = \"https://upload.wikimedia.org/wikipedia/commons/thumb/c/c0/Eo_circle_green_arrow-up.svg/2048px-Eo_circle_green_arrow-up.svg.png\"\n",
    "arrow_down = \"https://upload.wikimedia.org/wikipedia/commons/thumb/b/b7/Eo_circle_red_arrow-down.svg/2048px-Eo_circle_red_arrow-down.svg.png\"\n",
    "arrow_right = \"https://upload.wikimedia.org/wikipedia/commons/thumb/4/42/Eo_circle_orange_arrow-right.svg/2048px-Eo_circle_orange_arrow-right.svg.png\""
   ]
  },
  {
   "cell_type": "code",
   "execution_count": null,
   "id": "a3756c41-3d91-4850-9466-6d304adb7afb",
   "metadata": {},
   "outputs": [],
   "source": []
  }
 ],
 "metadata": {
  "kernelspec": {
   "display_name": "Python 3",
   "language": "python",
   "name": "python3"
  },
  "language_info": {
   "codemirror_mode": {
    "name": "ipython",
    "version": 3
   },
   "file_extension": ".py",
   "mimetype": "text/x-python",
   "name": "python",
   "nbconvert_exporter": "python",
   "pygments_lexer": "ipython3",
   "version": "3.9.6"
  },
  "widgets": {
   "application/vnd.jupyter.widget-state+json": {
    "state": {},
    "version_major": 2,
    "version_minor": 0
   }
  }
 },
 "nbformat": 4,
 "nbformat_minor": 5
}
