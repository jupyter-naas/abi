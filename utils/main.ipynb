{
 "cells": [
  {
   "cell_type": "markdown",
   "id": "746f9959-dc10-45f4-993e-38be00b6843f",
   "metadata": {},
   "source": [
    "# Main"
   ]
  },
  {
   "cell_type": "markdown",
   "id": "cbbc298e-86c8-4a92-9a54-ea971a199e86",
   "metadata": {},
   "source": [
    "## Input"
   ]
  },
  {
   "cell_type": "markdown",
   "id": "e214cc66-c4ec-4ef0-b549-63abf65c8b3d",
   "metadata": {},
   "source": [
    "### Import libraries"
   ]
  },
  {
   "cell_type": "code",
   "execution_count": null,
   "id": "392b7657-3362-4f77-8127-11160f6a5bd5",
   "metadata": {
    "tags": []
   },
   "outputs": [],
   "source": [
    "import naas_python\n",
    "import naas_data_product\n",
    "from datetime import datetime, timedelta\n",
    "import pytz\n",
    "import yaml\n",
    "import pydash\n",
    "import os"
   ]
  },
  {
   "cell_type": "markdown",
   "id": "4a4ea096-84c5-47aa-857a-902c6fc0cea6",
   "metadata": {},
   "source": [
    "### Setup variables"
   ]
  },
  {
   "cell_type": "code",
   "execution_count": null,
   "id": "9f4e20c7-d85f-4828-ba19-085811a1ca72",
   "metadata": {
    "tags": []
   },
   "outputs": [],
   "source": [
    "config_path = os.path.join(naas_data_product.ROOT_PATH, 'config.yml')\n",
    "config_secret_path = os.path.join(naas_data_product.ROOT_PATH, 'config.secret.yml')"
   ]
  },
  {
   "cell_type": "markdown",
   "id": "b959f44a-f040-4cc0-a7fa-49917139431e",
   "metadata": {},
   "source": [
    "## Model"
   ]
  },
  {
   "cell_type": "markdown",
   "id": "15cd8887-f9dc-4c4b-8658-8af658ec8626",
   "metadata": {},
   "source": [
    "### Function Helper"
   ]
  },
  {
   "cell_type": "code",
   "execution_count": null,
   "id": "fdae6773-602e-46dc-954e-65ecef85eded",
   "metadata": {
    "tags": []
   },
   "outputs": [],
   "source": [
    "def open_yaml_file(file_path):\n",
    "    try:\n",
    "        with open(file_path, 'r') as file:\n",
    "            data = yaml.safe_load(file)\n",
    "            return data\n",
    "    except FileNotFoundError:\n",
    "        print(f\"Oops! The file at {file_path} was not found.\")\n",
    "    except yaml.YAMLError as exc:\n",
    "        print(f\"Error while parsing YAML file: {exc}\")"
   ]
  },
  {
   "cell_type": "markdown",
   "id": "e50a21bf-1022-4755-9b9b-08bef183bb6e",
   "metadata": {},
   "source": [
    "### Get config variables"
   ]
  },
  {
   "cell_type": "code",
   "execution_count": null,
   "id": "b146eb8d-c6cd-4946-b327-997a7f24b23f",
   "metadata": {
    "tags": []
   },
   "outputs": [],
   "source": [
    "workspace_id = None\n",
    "storage_name = \"abi\"\n",
    "access_key_id = None\n",
    "secret_access_key = None\n",
    "session_token = None\n",
    "bucket_name = None\n",
    "bucket_prefix = None\n",
    "\n",
    "# Get data from YAML file\n",
    "config_data = open_yaml_file(config_path) | open_yaml_file(config_secret_path)\n",
    "if config_data:\n",
    "    workspace_id = pydash.get(config_data, \"config.workspace_id\")\n",
    "    storage_name = pydash.get(config_data, \"config.storage_name\")\n",
    "    access_key_id = pydash.get(config_data, \"storage.access_key_id\")\n",
    "    secret_access_key = pydash.get(config_data, \"storage.secret_access_key\")\n",
    "    session_token = pydash.get(config_data, \"storage.session_token\")\n",
    "    bucket_name = pydash.get(config_data, \"storage.bucket_name\")\n",
    "    bucket_prefix = pydash.get(config_data, \"storage.bucket_prefix\")"
   ]
  },
  {
   "cell_type": "markdown",
   "id": "b82b5ce1-ac5e-442a-a951-27f02661b685",
   "metadata": {},
   "source": [
    "### Get credentials"
   ]
  },
  {
   "cell_type": "code",
   "execution_count": null,
   "id": "ae5875b0-3d01-405f-afdf-5f0e0d023e0b",
   "metadata": {
    "tags": []
   },
   "outputs": [],
   "source": [
    "def get_storage_credentials(\n",
    "    workspace_id=None,\n",
    "    storage_name=None,\n",
    "):\n",
    "    # Init\n",
    "    if not workspace_id:\n",
    "        api_key = naas_python.utils.domains_base.authorization.NaasSpaceAuthenticatorAdapter().jwt_token()\n",
    "        workspace_id = get_personal_workspace(api_key)\n",
    "#     print(\"Workspace ID:\", workspace_id)\n",
    "        \n",
    "    # List storage\n",
    "    result = naas_python.storage.list_workspace_storage(workspace_id=workspace_id)\n",
    "    storages = result.get(\"storage\")\n",
    "    storage_exist = False\n",
    "    for storage in storages:\n",
    "        if storage.get(\"name\") == storage_name:\n",
    "            storage_exist = True\n",
    "            new_storage = storage\n",
    "            \n",
    "    # Create storage\n",
    "    if not storage_exist:\n",
    "        new_storage = naas_python.storage.create_workspace_storage(workspace_id=workspace_id, storage_name=storage_name).get(\"storage\")\n",
    "        \n",
    "    # Get storage credentials\n",
    "    credentials = naas_python.storage.create_workspace_storage_credentials(workspace_id=workspace_id, storage_name=storage_name)\n",
    "    return credentials, workspace_id\n",
    "\n",
    "if not access_key_id and not secret_access_key:\n",
    "    credentials, workspace_id = get_storage_credentials(workspace_id=workspace_id, storage_name=storage_name)\n",
    "    if len(credentials) > 0:\n",
    "        access_key_id = pydash.get(credentials, \"credentials.s3.access_key_id\")\n",
    "        secret_access_key = pydash.get(credentials, \"credentials.s3.secret_key\")\n",
    "        session_token = pydash.get(credentials, \"credentials.s3.session_token\")\n",
    "        endpoint_url = pydash.get(credentials, \"credentials.s3.endpoint_url\")\n",
    "        bucket_name = endpoint_url.split(\"s3://\")[1].split(\"/\")[0]\n",
    "        bucket_prefix = endpoint_url.split(f\"{bucket_name}/\")[1]\n",
    "        region_name = pydash.get(credentials, \"credentials.s3.region_name\")"
   ]
  },
  {
   "cell_type": "markdown",
   "id": "bbdb78d8-a906-4e1e-ae3f-d6fc07bfcd29",
   "metadata": {},
   "source": [
    "## Output"
   ]
  },
  {
   "cell_type": "markdown",
   "id": "cba3cd88-6620-4dbf-942f-098a61d98f81",
   "metadata": {},
   "source": [
    "### Storage Manager"
   ]
  },
  {
   "cell_type": "code",
   "execution_count": null,
   "id": "bc5b8156-e86f-4465-9d06-87f1be501de6",
   "metadata": {
    "tags": []
   },
   "outputs": [],
   "source": [
    "sm = StorageManager(access_key_id, secret_access_key, session_token, bucket_name, bucket_prefix)"
   ]
  },
  {
   "cell_type": "markdown",
   "id": "a1d3354d-2d41-4b70-be6d-4d0cd70fd87a",
   "metadata": {},
   "source": [
    "### Asset Manager"
   ]
  },
  {
   "cell_type": "code",
   "execution_count": null,
   "id": "cb4acf03-28bd-4a49-9353-4bf1b83c15aa",
   "metadata": {
    "tags": []
   },
   "outputs": [],
   "source": [
    "am = AssetManager(workspace_id, storage_name, sm)"
   ]
  },
  {
   "cell_type": "markdown",
   "id": "ab21ce83-aa32-47c7-84bc-bc9fcb877525",
   "metadata": {},
   "source": [
    "### Timezone"
   ]
  },
  {
   "cell_type": "code",
   "execution_count": null,
   "id": "a7cc4eac-14c3-4507-a237-cf3215f155f9",
   "metadata": {},
   "outputs": [],
   "source": [
    "# Timezone\n",
    "tz = sm.pload(os.path.join(naas_data_product.OUTPUTS_PATH, \"entities\", \"0\"), \"timezone\")\n",
    "if tz is None:\n",
    "    tz = \"Europe/Paris\"\n",
    "TIMEZONE = pytz.timezone(tz)"
   ]
  },
  {
   "cell_type": "markdown",
   "id": "58f38e8b-506a-4266-8ea5-3fed58554f99",
   "metadata": {},
   "source": [
    "### Scenarios"
   ]
  },
  {
   "cell_type": "code",
   "execution_count": null,
   "id": "bf996ac6-ade8-45cd-a485-7f25fc346b31",
   "metadata": {},
   "outputs": [],
   "source": [
    "TW = datetime.now(TIMEZONE).strftime(\"W%W-%Y\")\n",
    "LW = (datetime.now(TIMEZONE) - timedelta(days=datetime.now(TIMEZONE).weekday() + 7)).strftime(\"W%W-%Y\")\n",
    "\n",
    "# Mapping colors\n",
    "MAPPING_COLORS = {\n",
    "    TW: \"#48DD82\",\n",
    "    LW: \"#FFFDA2\",\n",
    "}"
   ]
  },
  {
   "cell_type": "markdown",
   "id": "d58f53ec-e24c-4cba-8eaf-c7b496f5473c",
   "metadata": {},
   "source": [
    "### Logos"
   ]
  },
  {
   "cell_type": "code",
   "execution_count": null,
   "id": "cb885a4e-7987-475c-94bc-39b254cd1900",
   "metadata": {},
   "outputs": [],
   "source": [
    "# Arrows\n",
    "arrow_up = \"https://upload.wikimedia.org/wikipedia/commons/thumb/c/c0/Eo_circle_green_arrow-up.svg/2048px-Eo_circle_green_arrow-up.svg.png\"\n",
    "arrow_down = \"https://upload.wikimedia.org/wikipedia/commons/thumb/b/b7/Eo_circle_red_arrow-down.svg/2048px-Eo_circle_red_arrow-down.svg.png\"\n",
    "arrow_right = \"https://upload.wikimedia.org/wikipedia/commons/thumb/4/42/Eo_circle_orange_arrow-right.svg/2048px-Eo_circle_orange_arrow-right.svg.png\""
   ]
  },
  {
   "cell_type": "code",
   "execution_count": null,
   "id": "d325dfa3-be79-45b4-a7af-5d754691e47e",
   "metadata": {},
   "outputs": [],
   "source": []
  }
 ],
 "metadata": {
  "kernelspec": {
   "display_name": "abi",
   "language": "python",
   "name": "abi"
  },
  "language_info": {
   "codemirror_mode": {
    "name": "ipython",
    "version": 3
   },
   "file_extension": ".py",
   "mimetype": "text/x-python",
   "name": "python",
   "nbconvert_exporter": "python",
   "pygments_lexer": "ipython3",
   "version": "3.9.19"
  }
 },
 "nbformat": 4,
 "nbformat_minor": 5
}
