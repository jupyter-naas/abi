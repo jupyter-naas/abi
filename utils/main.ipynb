{
 "cells": [
  {
   "cell_type": "markdown",
   "id": "746f9959-dc10-45f4-993e-38be00b6843f",
   "metadata": {},
   "source": [
    "# Main"
   ]
  },
  {
   "cell_type": "markdown",
   "id": "cbbc298e-86c8-4a92-9a54-ea971a199e86",
   "metadata": {},
   "source": [
    "## Input"
   ]
  },
  {
   "cell_type": "markdown",
   "id": "e214cc66-c4ec-4ef0-b549-63abf65c8b3d",
   "metadata": {},
   "source": [
    "### Import libraries"
   ]
  },
  {
   "cell_type": "code",
   "execution_count": null,
   "id": "392b7657-3362-4f77-8127-11160f6a5bd5",
   "metadata": {
    "tags": []
   },
   "outputs": [],
   "source": [
    "import naas_data_product\n",
    "import naas_python\n",
    "import os\n",
    "import sys\n",
    "import pydash as _\n",
    "\n",
    "# Make it possible to do \"import abi\"\n",
    "sys.path.append(naas_data_product.UTILS_PATH)\n",
    "\n",
    "from abi.storagemanager import StorageManager\n",
    "from abi.assetmanager import AssetManager\n",
    "\n",
    "# This should be moved into a class instead of import *\n",
    "from abi.workspacemanager import get_storage_credentials\n",
    "from abi.utils import open_yaml_file"
   ]
  },
  {
   "cell_type": "markdown",
   "id": "4a4ea096-84c5-47aa-857a-902c6fc0cea6",
   "metadata": {},
   "source": [
    "### Setup variables"
   ]
  },
  {
   "cell_type": "code",
   "execution_count": null,
   "id": "9f4e20c7-d85f-4828-ba19-085811a1ca72",
   "metadata": {
    "tags": []
   },
   "outputs": [],
   "source": [
    "config_path = os.path.join(naas_data_product.ROOT_PATH, 'config.yml')\n",
    "config_secret_path = os.path.join(naas_data_product.ROOT_PATH, 'config.secret.yml')\n",
    "api_key = naas_python.utils.domains_base.authorization.NaasSpaceAuthenticatorAdapter().jwt_token()"
   ]
  },
  {
   "cell_type": "markdown",
   "id": "b959f44a-f040-4cc0-a7fa-49917139431e",
   "metadata": {},
   "source": [
    "## Model"
   ]
  },
  {
   "cell_type": "markdown",
   "id": "e50a21bf-1022-4755-9b9b-08bef183bb6e",
   "metadata": {},
   "source": [
    "### Get config variables"
   ]
  },
  {
   "cell_type": "code",
   "execution_count": null,
   "id": "b146eb8d-c6cd-4946-b327-997a7f24b23f",
   "metadata": {
    "tags": []
   },
   "outputs": [],
   "source": [
    "workspace_id = None\n",
    "storage_name = \"abi\"\n",
    "access_key_id = None\n",
    "secret_access_key = None\n",
    "session_token = None\n",
    "bucket_name = None\n",
    "bucket_prefix = None\n",
    "\n",
    "# Get data from YAML file\n",
    "config_data = open_yaml_file(config_path) | open_yaml_file(config_secret_path)\n",
    "if config_data:\n",
    "    workspace_id = _.get(config_data, \"config.workspace_id\")\n",
    "    storage_name = _.get(config_data, \"config.storage_name\")\n",
    "    access_key_id = _.get(config_data, \"storage.access_key_id\")\n",
    "    secret_access_key = _.get(config_data, \"storage.secret_access_key\")\n",
    "    session_token = _.get(config_data, \"storage.session_token\")\n",
    "    bucket_name = _.get(config_data, \"storage.bucket_name\")\n",
    "    bucket_prefix = _.get(config_data, \"storage.bucket_prefix\")"
   ]
  },
  {
   "cell_type": "markdown",
   "id": "b82b5ce1-ac5e-442a-a951-27f02661b685",
   "metadata": {},
   "source": [
    "### Get credentials"
   ]
  },
  {
   "cell_type": "code",
   "execution_count": null,
   "id": "ae5875b0-3d01-405f-afdf-5f0e0d023e0b",
   "metadata": {
    "tags": []
   },
   "outputs": [],
   "source": [
    "# if not access_key_id and not secret_access_key:\n",
    "credentials, workspace_id = get_storage_credentials(workspace_id=workspace_id, storage_name=storage_name)\n",
    "if len(credentials) > 0:\n",
    "    access_key_id = _.get(credentials, \"credentials.s3.access_key_id\")\n",
    "    secret_access_key = _.get(credentials, \"credentials.s3.secret_key\")\n",
    "    session_token = _.get(credentials, \"credentials.s3.session_token\")\n",
    "    endpoint_url = _.get(credentials, \"credentials.s3.endpoint_url\")\n",
    "    bucket_name = endpoint_url.split(\"s3://\")[1].split(\"/\")[0]\n",
    "    bucket_prefix = endpoint_url.split(f\"{bucket_name}/\")[1]\n",
    "    region_name = _.get(credentials, \"credentials.s3.region_name\")"
   ]
  },
  {
   "cell_type": "markdown",
   "id": "bbdb78d8-a906-4e1e-ae3f-d6fc07bfcd29",
   "metadata": {},
   "source": [
    "## Output"
   ]
  },
  {
   "cell_type": "markdown",
   "id": "cba3cd88-6620-4dbf-942f-098a61d98f81",
   "metadata": {},
   "source": [
    "### Storage Manager"
   ]
  },
  {
   "cell_type": "code",
   "execution_count": null,
   "id": "bc5b8156-e86f-4465-9d06-87f1be501de6",
   "metadata": {
    "tags": []
   },
   "outputs": [],
   "source": [
    "sm = StorageManager(access_key_id, secret_access_key, session_token, bucket_name, bucket_prefix)"
   ]
  },
  {
   "cell_type": "markdown",
   "id": "a1d3354d-2d41-4b70-be6d-4d0cd70fd87a",
   "metadata": {},
   "source": [
    "### Asset Manager"
   ]
  },
  {
   "cell_type": "code",
   "execution_count": null,
   "id": "cb4acf03-28bd-4a49-9353-4bf1b83c15aa",
   "metadata": {
    "tags": []
   },
   "outputs": [],
   "source": [
    "am = AssetManager(workspace_id, storage_name, sm, api_key)"
   ]
  },
  {
   "cell_type": "code",
   "execution_count": null,
   "id": "f3740aa3-5386-499e-a2b6-9df5ef7cfd52",
   "metadata": {},
   "outputs": [],
   "source": []
  }
 ],
 "metadata": {
  "kernelspec": {
   "display_name": "Python 3",
   "language": "python",
   "name": "python3"
  },
  "language_info": {
   "codemirror_mode": {
    "name": "ipython",
    "version": 3
   },
   "file_extension": ".py",
   "mimetype": "text/x-python",
   "name": "python",
   "nbconvert_exporter": "python",
   "pygments_lexer": "ipython3",
   "version": "3.9.6"
  }
 },
 "nbformat": 4,
 "nbformat_minor": 5
}
