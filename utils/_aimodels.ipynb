{
 "cells": [
  {
   "cell_type": "markdown",
   "id": "1da2bba4-1b4c-4daa-a7c8-487c3a740eba",
   "metadata": {},
   "source": [
    "# AI Models"
   ]
  },
  {
   "cell_type": "code",
   "execution_count": null,
   "id": "4c84f9d2-1a1f-423c-9ecd-ba4ed244c4c0",
   "metadata": {
    "papermill": {},
    "tags": []
   },
   "outputs": [],
   "source": [
    "import openai\n",
    "import requests\n",
    "import json\n",
    "import time\n",
    "\n",
    "def create_naas_chat_completion(\n",
    "    access_token,\n",
    "    model_id=\"507dbbc5-88a1-4bd7-8c35-28cea3faaf1f\",\n",
    "    prompt=\"\",\n",
    "    message=\"\",\n",
    "):\n",
    "    # Requests\n",
    "    url = f\"https://api.naas.ai/model/{model_id}/completion\"\n",
    "    payload = json.dumps(\n",
    "        {\n",
    "            \"id\": model_id,\n",
    "            \"payload\": json.dumps(\n",
    "                {\n",
    "                    \"messages\": \n",
    "                    [\n",
    "                        {\n",
    "                            \"role\": \"system\",\n",
    "                            \"content\": prompt\n",
    "                        },\n",
    "                        {\n",
    "                            \"role\": \"user\",\n",
    "                            \"content\": message\n",
    "                        }\n",
    "                    ]\n",
    "                }\n",
    "            )\n",
    "        }\n",
    "    )\n",
    "    headers = {\n",
    "      'Content-Type': 'application/json',\n",
    "      'Authorization': f'Bearer {access_token}'\n",
    "    }\n",
    "    result = None\n",
    "    retry = 0\n",
    "    while True:\n",
    "        try:\n",
    "            response = requests.post(url, headers=headers, data=payload)\n",
    "            result = response.json()['completion']['completions'][0]\n",
    "            break\n",
    "        except Exception as e:\n",
    "            print(e)\n",
    "        retry += 1\n",
    "        time.sleep(10)\n",
    "        if retry >= 3:\n",
    "            break\n",
    "    return result\n",
    "\n",
    "def create_openai_completion(\n",
    "    openai_api_key,\n",
    "    prompt,\n",
    "    message\n",
    "):\n",
    "    # Init\n",
    "    openai.api_key = openai_api_key\n",
    "    \n",
    "    # Get response\n",
    "    response = openai.ChatCompletion.create(\n",
    "        model=\"gpt-4\",\n",
    "        temperature=0,\n",
    "        messages=[\n",
    "            {\n",
    "                \"role\": \"system\",\n",
    "                \"content\": prompt\n",
    "            },\n",
    "            {\n",
    "                \"role\": \"user\",\n",
    "                \"content\": message\n",
    "            }\n",
    "        ]\n",
    "    )\n",
    "    return response['choices'][0]['message']['content']"
   ]
  }
 ],
 "metadata": {
  "kernelspec": {
   "display_name": "Python 3",
   "language": "python",
   "name": "python3"
  },
  "language_info": {
   "codemirror_mode": {
    "name": "ipython",
    "version": 3
   },
   "file_extension": ".py",
   "mimetype": "text/x-python",
   "name": "python",
   "nbconvert_exporter": "python",
   "pygments_lexer": "ipython3",
   "version": "3.9.6"
  },
  "widgets": {
   "application/vnd.jupyter.widget-state+json": {
    "state": {},
    "version_major": 2,
    "version_minor": 0
   }
  }
 },
 "nbformat": 4,
 "nbformat_minor": 5
}
