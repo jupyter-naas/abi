{
 "cells": [
  {
   "cell_type": "markdown",
   "id": "c45a01c3-50b8-45ef-9372-78a71ef4bf81",
   "metadata": {
    "papermill": {},
    "tags": []
   },
   "source": [
    "<img width=\"8%\" alt=\"Naas.png\" src=\"https://raw.githubusercontent.com/jupyter-naas/awesome-notebooks/master/.github/assets/logos/Naas.png\" style=\"border-radius: 15%\">"
   ]
  },
  {
   "cell_type": "markdown",
   "id": "1da2bba4-1b4c-4daa-a7c8-487c3a740eba",
   "metadata": {},
   "source": [
    "# LLM"
   ]
  },
  {
   "cell_type": "markdown",
   "id": "a03e20c0-49a0-4204-b5f9-c1f89850dd8b",
   "metadata": {},
   "source": [
    "## Input"
   ]
  },
  {
   "cell_type": "markdown",
   "id": "55dab74d-00db-4949-be18-c38b505c1738",
   "metadata": {
    "papermill": {},
    "tags": []
   },
   "source": [
    "### Import libraries"
   ]
  },
  {
   "cell_type": "code",
   "execution_count": null,
   "id": "4c84f9d2-1a1f-423c-9ecd-ba4ed244c4c0",
   "metadata": {
    "papermill": {},
    "tags": []
   },
   "outputs": [],
   "source": [
    "import openai\n",
    "import naas\n",
    "import requests\n",
    "import json\n",
    "import os\n",
    "import time"
   ]
  },
  {
   "cell_type": "markdown",
   "id": "2d7fbb76-e6d6-4a73-a0a8-d2043349681e",
   "metadata": {},
   "source": [
    "### Setup variables"
   ]
  },
  {
   "cell_type": "code",
   "execution_count": null,
   "id": "66512db5-cd09-43ec-9711-89a6b3d6e42c",
   "metadata": {
    "tags": []
   },
   "outputs": [],
   "source": [
    "jup_token = os.environ.get('JUPYTERHUB_API_TOKEN')"
   ]
  },
  {
   "cell_type": "markdown",
   "id": "17772827-ea8b-4d47-be40-8be22d3a6568",
   "metadata": {},
   "source": [
    "## Model"
   ]
  },
  {
   "cell_type": "markdown",
   "id": "c578c46b-af00-43b1-91c0-df5134888b70",
   "metadata": {},
   "source": [
    "### Get Naas Long lived token"
   ]
  },
  {
   "cell_type": "code",
   "execution_count": null,
   "id": "85ae0224-d01a-4caa-ac8d-36c290d3ac84",
   "metadata": {
    "tags": []
   },
   "outputs": [],
   "source": [
    "def get_long_lived_token(jup_token):\n",
    "    url = f\"https://auth.naas.ai/bearer/jupyterhub/longlived?token={jup_token}\"\n",
    "    res = requests.get(url)\n",
    "    res.raise_for_status()\n",
    "    long_lived_token = res.json()['access_token']\n",
    "    return long_lived_token\n",
    "\n",
    "# long_lived_token = get_long_lived_token(jup_token)"
   ]
  },
  {
   "cell_type": "markdown",
   "id": "dfa8eec1-704d-46c2-96a8-2fe97e5ccc87",
   "metadata": {},
   "source": [
    "### Create Naas Chat completion"
   ]
  },
  {
   "cell_type": "code",
   "execution_count": null,
   "id": "441b0906-e928-46ab-95ff-6dcd02131a95",
   "metadata": {
    "tags": []
   },
   "outputs": [],
   "source": [
    "def create_naas_chat_completion(\n",
    "    access_token,\n",
    "    model_id=\"507dbbc5-88a1-4bd7-8c35-28cea3faaf1f\",\n",
    "    prompt=\"\",\n",
    "    message=\"\",\n",
    "):\n",
    "    # Requests\n",
    "    url = f\"https://api.naas.ai/model/{model_id}/completion\"\n",
    "    payload = json.dumps(\n",
    "        {\n",
    "            \"id\": model_id,\n",
    "            \"payload\": json.dumps(\n",
    "                {\n",
    "                    \"messages\": \n",
    "                    [\n",
    "                        {\n",
    "                            \"role\": \"system\",\n",
    "                            \"content\": prompt\n",
    "                        },\n",
    "                        {\n",
    "                            \"role\": \"user\",\n",
    "                            \"content\": message\n",
    "                        }\n",
    "                    ]\n",
    "                }\n",
    "            )\n",
    "        }\n",
    "    )\n",
    "    headers = {\n",
    "      'Content-Type': 'application/json',\n",
    "      'Authorization': f'Bearer {access_token}'\n",
    "    }\n",
    "    result = None\n",
    "    retry = 0\n",
    "    while True:\n",
    "        try:\n",
    "            response = requests.post(url, headers=headers, data=payload)\n",
    "            result = response.json()['completion']['completions'][0]\n",
    "            break\n",
    "        except Exception as e:\n",
    "            print(e)\n",
    "        retry += 1\n",
    "        time.sleep(10)\n",
    "        if retry >= 3:\n",
    "            break\n",
    "    return result\n",
    "\n",
    "# long_lived_token = naas.secret.get('NAAS_API_TOKEN')\n",
    "# prompt = \"\"\"\n",
    "# I will give you the occupation from a profile I get from LinkedIn, you will return the company you can extract from by checking the word after 'at' or '@'.\n",
    "# If you don't find it return \"NA\"\n",
    "# Don't put the results into quotes.\n",
    "# \"\"\"\n",
    "# message = \"Data Sommelier | Data Integration | Intelligent Data Platform' at DATANOSCO\"\n",
    "\n",
    "# result = None\n",
    "# if long_lived_token is not None:\n",
    "#     result = create_naas_chat_completion(\n",
    "#         long_lived_token,\n",
    "#         prompt=prompt,\n",
    "#         message=message,\n",
    "# )\n",
    "# result"
   ]
  },
  {
   "cell_type": "markdown",
   "id": "72b56114-c44c-4ac2-bd92-ca2d2ca7cefa",
   "metadata": {},
   "source": [
    "### Create OpenAI completion"
   ]
  },
  {
   "cell_type": "code",
   "execution_count": null,
   "id": "4ef12d07-ebd5-4aa7-9c27-f58c3edc79b8",
   "metadata": {
    "tags": []
   },
   "outputs": [],
   "source": [
    "def create_openai_completion(\n",
    "    openai_api_key,\n",
    "    prompt,\n",
    "    message\n",
    "):\n",
    "    # Init\n",
    "    openai.api_key = openai_api_key\n",
    "    \n",
    "    # Get response\n",
    "    response = openai.ChatCompletion.create(\n",
    "        model=\"gpt-4\",\n",
    "        temperature=0,\n",
    "        messages=[\n",
    "            {\n",
    "                \"role\": \"system\",\n",
    "                \"content\": prompt\n",
    "            },\n",
    "            {\n",
    "                \"role\": \"user\",\n",
    "                \"content\": message\n",
    "            }\n",
    "        ]\n",
    "    )\n",
    "    return response['choices'][0]['message']['content']\n",
    "\n",
    "# openai_api_key = naas.secret.get('OPENAI_API_KEY')\n",
    "# prompt = \"\"\"\n",
    "# I will give you the occupation from a profile I get from LinkedIn, you will return the company you can extract from by checking the word after 'at' or '@'.\n",
    "# If you don't find it return \"NA\"\n",
    "# Don't put the results into quotes.\n",
    "# \"\"\"\n",
    "# message = \"Data Sommelier | Data Integration | Intelligent Data Platform' at DATANOSCO\"\n",
    "\n",
    "# result = None\n",
    "# if openai_api_key is not None:\n",
    "#     result = create_openai_completion(\n",
    "#         openai_api_key,\n",
    "#         prompt=prompt,\n",
    "#         message=message,\n",
    "#     )\n",
    "# result"
   ]
  },
  {
   "cell_type": "markdown",
   "id": "a30d711f-aacb-44cf-ae31-636f96976a75",
   "metadata": {},
   "source": [
    "### Create Chat completion"
   ]
  },
  {
   "cell_type": "code",
   "execution_count": null,
   "id": "53d8ebff-d389-421f-9e15-66087085f868",
   "metadata": {
    "tags": []
   },
   "outputs": [],
   "source": [
    "def create_chat_completion(\n",
    "    api_key,\n",
    "    prompt,\n",
    "    message,\n",
    "    completion=\"naas\"\n",
    "):\n",
    "    result = None\n",
    "    if completion == \"naas\":\n",
    "        result = create_naas_chat_completion(\n",
    "            api_key,\n",
    "            prompt=prompt,\n",
    "            message=message,\n",
    "        )\n",
    "    elif completion == \"openai\":\n",
    "        result = create_openai_completion(\n",
    "            api_key,\n",
    "            prompt=prompt,\n",
    "            message=message,\n",
    "        )\n",
    "    return result"
   ]
  },
  {
   "cell_type": "markdown",
   "id": "c56e7467-89b1-4d83-9633-96453709a143",
   "metadata": {},
   "source": [
    "## Output"
   ]
  },
  {
   "cell_type": "code",
   "execution_count": null,
   "id": "a3756c41-3d91-4850-9466-6d304adb7afb",
   "metadata": {},
   "outputs": [],
   "source": []
  }
 ],
 "metadata": {
  "kernelspec": {
   "display_name": "Python 3",
   "language": "python",
   "name": "python3"
  },
  "language_info": {
   "codemirror_mode": {
    "name": "ipython",
    "version": 3
   },
   "file_extension": ".py",
   "mimetype": "text/x-python",
   "name": "python",
   "nbconvert_exporter": "python",
   "pygments_lexer": "ipython3",
   "version": "3.9.6"
  },
  "widgets": {
   "application/vnd.jupyter.widget-state+json": {
    "state": {},
    "version_major": 2,
    "version_minor": 0
   }
  }
 },
 "nbformat": 4,
 "nbformat_minor": 5
}
