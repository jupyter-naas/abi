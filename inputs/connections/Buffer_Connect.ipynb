{
 "cells": [
  {
   "cell_type": "markdown",
   "id": "a92ad770-55bd-450c-8e6e-de64c0347cdd",
   "metadata": {
    "papermill": {},
    "tags": []
   },
   "source": [
    "<img width=\"10%\" alt=\"Naas\" src=\"https://landen.imgix.net/jtci2pxwjczr/assets/5ice39g4.png?w=160\"/>"
   ]
  },
  {
   "cell_type": "markdown",
   "id": "a5b2c509-2c29-49e8-af91-4f3f1e386da3",
   "metadata": {
    "papermill": {},
    "tags": []
   },
   "source": [
    "# Buffer - Connect"
   ]
  },
  {
   "cell_type": "markdown",
   "id": "d77fe283-4edd-42d3-a909-8e207d4b842f",
   "metadata": {
    "papermill": {},
    "tags": []
   },
   "source": [
    "**Tags:** #buffer #cookies #naas #secret #command #chat"
   ]
  },
  {
   "cell_type": "markdown",
   "id": "b90f2d91-c886-4e36-8265-b09d06bb1c7f",
   "metadata": {
    "papermill": {},
    "tags": []
   },
   "source": [
    "**Author:** [Florent Ravenel](https://www.linkedin.com/in/florent-ravenel)"
   ]
  },
  {
   "cell_type": "markdown",
   "id": "6bbf7807-dda4-4b8a-b016-fe258a0fa33f",
   "metadata": {
    "papermill": {},
    "tags": []
   },
   "source": [
    "**Last update:** 2023-10-10 (Created: 2023-10-10)"
   ]
  },
  {
   "cell_type": "markdown",
   "id": "214749fe-7f0b-4755-b7ea-1d200c234cc6",
   "metadata": {
    "papermill": {},
    "tags": []
   },
   "source": [
    "**Description:** This notebook integrates your Buffer cookies into the Naas Lab secret manager under the variable 'BUFFER_COOKIES' from Naas Chat."
   ]
  },
  {
   "cell_type": "markdown",
   "id": "a1329bea-ad80-4981-874c-8776b11f89a8",
   "metadata": {
    "papermill": {},
    "tags": []
   },
   "source": [
    "**References:**\n",
    "- [Naas Secret Documentation](https://site.naas.ai/docs/developers/jobs/secret)"
   ]
  },
  {
   "cell_type": "markdown",
   "id": "cff349c8-2816-4ae4-9229-027c068eeb51",
   "metadata": {
    "papermill": {},
    "tags": []
   },
   "source": [
    "## Input"
   ]
  },
  {
   "cell_type": "markdown",
   "id": "80266a9e-fe54-4f3e-aeb2-01483bbc53f9",
   "metadata": {
    "papermill": {},
    "tags": []
   },
   "source": [
    "### Import libraries"
   ]
  },
  {
   "cell_type": "code",
   "execution_count": null,
   "id": "cc038b10-2679-42bc-909e-09a298339df4",
   "metadata": {
    "papermill": {},
    "tags": []
   },
   "outputs": [],
   "source": [
    "import naas"
   ]
  },
  {
   "cell_type": "markdown",
   "id": "30127040-e487-4115-8317-5084823b3a6f",
   "metadata": {
    "papermill": {},
    "tags": [
     "variables"
    ]
   },
   "source": [
    "### Setup variables\n",
    "- `cookies`: Value to be added to secret.\n",
    "- `secret_name`: This variable stores the name of the secret to be added.\n",
    "- `body`: This variable stores the body to be send by the webhook."
   ]
  },
  {
   "cell_type": "code",
   "execution_count": null,
   "id": "8d86b8fb-2576-426d-a305-50043c24c23e",
   "metadata": {
    "papermill": {},
    "tags": [
     "parameters"
    ]
   },
   "outputs": [],
   "source": [
    "cookies = None\n",
    "secret_name = \"BUFFER_COOKIES\"\n",
    "body = {}"
   ]
  },
  {
   "cell_type": "markdown",
   "id": "21f1092d-03d1-4105-ae49-5b5e398d730f",
   "metadata": {
    "execution": {
     "iopub.execute_input": "2023-09-26T17:20:36.759189Z",
     "iopub.status.busy": "2023-09-26T17:20:36.758881Z",
     "iopub.status.idle": "2023-09-26T17:20:36.765546Z",
     "shell.execute_reply": "2023-09-26T17:20:36.764836Z",
     "shell.execute_reply.started": "2023-09-26T17:20:36.759155Z"
    },
    "papermill": {},
    "tags": [
     "parameters"
    ]
   },
   "source": [
    "### Setup parameters\n",
    "The webhook body will be injected below this cell when the webhook is triggered. \n",
    "Therefore, it is important to set up how you will handle the injected variable from the body in order to make your script work.\n",
    "To receive the body from the webhook, please ensure that this cell is tagged as \"parameters\"."
   ]
  },
  {
   "cell_type": "code",
   "execution_count": null,
   "id": "42d27d66-3076-4fc6-a5dc-c1533bd47bd0",
   "metadata": {
    "papermill": {},
    "tags": []
   },
   "outputs": [],
   "source": [
    "# Parameters\n",
    "if len(body) > 0:\n",
    "    cookies = body.get(\"cookies\")"
   ]
  },
  {
   "cell_type": "markdown",
   "id": "1b0ae044-cac2-479f-b1fc-a3318696adf5",
   "metadata": {
    "papermill": {},
    "tags": []
   },
   "source": [
    "## Model"
   ]
  },
  {
   "cell_type": "markdown",
   "id": "3aadae7f-fbe5-4f97-a6a9-6efe9dd1a42f",
   "metadata": {
    "papermill": {},
    "tags": []
   },
   "source": [
    "### Connect to GitHub"
   ]
  },
  {
   "cell_type": "code",
   "execution_count": null,
   "id": "e235794a-6907-4f0e-ab2b-5aa6668a8d3b",
   "metadata": {
    "papermill": {},
    "tags": []
   },
   "outputs": [],
   "source": [
    "def add_or_update_secret(\n",
    "    secret_name,\n",
    "    secret_value\n",
    "):\n",
    "    # Init\n",
    "    value = naas.secret.get(secret_name)\n",
    "    \n",
    "    # Add secret\n",
    "    if secret_value and value != secret_value:\n",
    "        value = secret_value\n",
    "    return value\n",
    "\n",
    "def connect(\n",
    "    secret_name,\n",
    "    secret_value,\n",
    "):\n",
    "    # Init\n",
    "    status = \"ok\"\n",
    "    try:\n",
    "        # Add naas secret\n",
    "        if cookies:\n",
    "            value = add_or_update_secret(secret_name, secret_value)\n",
    "            message = f\"Secret added to Naas.\"\n",
    "        else:\n",
    "            status = \"ok\"\n",
    "            message = f\"No secret to add.\"\n",
    "    except Exception as e:\n",
    "            status = \"ko\"\n",
    "            message = f\"Template error: {e}\"\n",
    "    return status, message\n",
    "\n",
    "status, message = connect(secret_name, cookies)"
   ]
  },
  {
   "cell_type": "markdown",
   "id": "7c97931b-4ce8-46f9-a70c-45393c5669ee",
   "metadata": {
    "papermill": {},
    "tags": []
   },
   "source": [
    "## Output"
   ]
  },
  {
   "cell_type": "markdown",
   "id": "d9068d3d-1bf3-4a13-b203-8668aea208e2",
   "metadata": {
    "papermill": {},
    "tags": []
   },
   "source": [
    "### Create or update Webhook"
   ]
  },
  {
   "cell_type": "code",
   "execution_count": null,
   "id": "2644301d-b079-49ca-b11c-e6654f59f545",
   "metadata": {},
   "outputs": [],
   "source": [
    "naas.webhook.add()"
   ]
  },
  {
   "cell_type": "markdown",
   "id": "3d625b91-8323-4250-ab75-598580c5a954",
   "metadata": {
    "execution": {
     "iopub.execute_input": "2023-09-26T15:15:09.022426Z",
     "iopub.status.busy": "2023-09-26T15:15:09.022118Z",
     "iopub.status.idle": "2023-09-26T15:15:09.025782Z",
     "shell.execute_reply": "2023-09-26T15:15:09.025087Z",
     "shell.execute_reply.started": "2023-09-26T15:15:09.022389Z"
    },
    "papermill": {},
    "tags": []
   },
   "source": [
    "### Return JSON response\n",
    "Response sent to the browser before displayed in Chat UI."
   ]
  },
  {
   "cell_type": "code",
   "execution_count": null,
   "id": "7432dbf6-f47b-4f6c-8b56-4ad5b215e657",
   "metadata": {
    "papermill": {},
    "tags": []
   },
   "outputs": [],
   "source": [
    "naas.webhook.respond_json(\n",
    "    {\n",
    "        \"status\": status, \n",
    "        \"message\": message\n",
    "    }\n",
    ")"
   ]
  }
 ],
 "metadata": {
  "kernelspec": {
   "display_name": "Python 3",
   "language": "python",
   "name": "python3"
  },
  "language_info": {
   "codemirror_mode": {
    "name": "ipython",
    "version": 3
   },
   "file_extension": ".py",
   "mimetype": "text/x-python",
   "name": "python",
   "nbconvert_exporter": "python",
   "pygments_lexer": "ipython3",
   "version": "3.9.6"
  },
  "naas": {
   "notebook_id": "cc22b3eb0484bf2a314634076226daee8a2a74e35de569fa2fbd40dae558222c",
   "notebook_path": "GitHub/GitHub_Connect_from_Naas_Chat.ipynb"
  },
  "papermill": {
   "default_parameters": {},
   "environment_variables": {},
   "parameters": {},
   "version": "2.4.0"
  },
  "widgets": {
   "application/vnd.jupyter.widget-state+json": {
    "state": {},
    "version_major": 2,
    "version_minor": 0
   }
  }
 },
 "nbformat": 4,
 "nbformat_minor": 5
}
