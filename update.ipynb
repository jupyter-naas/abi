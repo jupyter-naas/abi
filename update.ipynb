{
 "cells": [
  {
   "cell_type": "markdown",
   "id": "2833db14-cc5e-44ef-af36-f0c086491e74",
   "metadata": {
    "papermill": {},
    "tags": []
   },
   "source": [
    "<img width=\"8%\" alt=\"Naas.png\" src=\"https://raw.githubusercontent.com/jupyter-naas/awesome-notebooks/master/.github/assets/logos/Naas.png\" style=\"border-radius: 15%\">"
   ]
  },
  {
   "cell_type": "markdown",
   "id": "substantial-decline",
   "metadata": {
    "papermill": {},
    "tags": []
   },
   "source": [
    "# Update"
   ]
  },
  {
   "cell_type": "markdown",
   "id": "d288008a-adf4-47e8-acf5-55a0d2f9ae4e",
   "metadata": {},
   "source": [
    "<div class=\"alert alert-success\" role=\"info\">\n",
    "    <p><b>Note:</b> this data product framework is developed by Naas open source community. You can <a href=\"https://github.com/sponsors/jupyter-naas\" target=\"_blank\">sponsor us</a> if you find it usefull.\n",
    "</p>\n",
    "</div>"
   ]
  },
  {
   "cell_type": "markdown",
   "id": "dd3d4d6a-f15d-47f9-83ac-4208edf13bf9",
   "metadata": {
    "tags": []
   },
   "source": [
    "This notebook allows you to update and run your data product on your Naas server. *Create an account on [Naas.ai](https://www.naas.ai/free-forever) if you don't already have one.*\n",
    "\n",
    "Please follow the step below to setup this data product."
   ]
  },
  {
   "cell_type": "markdown",
   "id": "80056fe3-734f-41fe-8709-6838316e2f89",
   "metadata": {},
   "source": [
    "## Input"
   ]
  },
  {
   "cell_type": "markdown",
   "id": "d3bba624-afe5-484b-a5d3-0d4bf7dd019c",
   "metadata": {},
   "source": [
    "### Import libraries"
   ]
  },
  {
   "cell_type": "code",
   "execution_count": null,
   "id": "21d997a6-cfee-468d-8009-53657d604ae7",
   "metadata": {
    "tags": []
   },
   "outputs": [],
   "source": [
    "import naas\n",
    "import os\n",
    "import glob\n",
    "import naas_data_product"
   ]
  },
  {
   "cell_type": "markdown",
   "id": "0859f71e-9e51-4c79-8fcd-fa41e9fb8282",
   "metadata": {},
   "source": [
    "### Setup variables"
   ]
  },
  {
   "cell_type": "code",
   "execution_count": null,
   "id": "c7ef7702-d129-4cb3-97b6-9b598d25c423",
   "metadata": {
    "tags": []
   },
   "outputs": [],
   "source": [
    "cron = \"0 12 * * *\"\n",
    "pipeline_path = \"__pipeline__.ipynb\""
   ]
  },
  {
   "cell_type": "markdown",
   "id": "2ebb82c4-a40a-496e-a1fd-2c04e39455bd",
   "metadata": {},
   "source": [
    "## Model"
   ]
  },
  {
   "cell_type": "markdown",
   "id": "a4962ad7-2a32-4851-ba78-a3727e09d781",
   "metadata": {},
   "source": [
    "### Pull repository"
   ]
  },
  {
   "cell_type": "code",
   "execution_count": null,
   "id": "0569832a-deeb-46f4-b283-b68b3c5cacd5",
   "metadata": {
    "tags": []
   },
   "outputs": [],
   "source": [
    "!git pull"
   ]
  },
  {
   "cell_type": "markdown",
   "id": "4df006e1-c200-4a11-9b37-473864001e67",
   "metadata": {},
   "source": [
    "### Install requirements\n",
    "Install the packages required to run the product."
   ]
  },
  {
   "cell_type": "code",
   "execution_count": null,
   "id": "d7e9b5d5-36ff-4ba2-bce8-253367a73949",
   "metadata": {
    "tags": []
   },
   "outputs": [],
   "source": [
    "!pip install --user --upgrade -r \"requirements.txt\""
   ]
  },
  {
   "cell_type": "markdown",
   "id": "486ca79e-21af-47c8-ae9a-1c4d1d7cf310",
   "metadata": {},
   "source": [
    "## Output"
   ]
  },
  {
   "cell_type": "markdown",
   "id": "59c4bb89-529b-4751-b8c8-1ac22b6751d6",
   "metadata": {},
   "source": [
    "### Add scheduler"
   ]
  },
  {
   "cell_type": "code",
   "execution_count": null,
   "id": "4fad1f64-95b1-417b-af9d-5ed29999624e",
   "metadata": {
    "tags": []
   },
   "outputs": [],
   "source": [
    "# Schedule pipeline\n",
    "print(\"⏰ Scheduler:\", cron)\n",
    "naas.scheduler.add(pipeline_path, cron=cron)"
   ]
  },
  {
   "cell_type": "markdown",
   "id": "66f4d975-8cf4-4ade-b68c-9c94e899f3f8",
   "metadata": {},
   "source": [
    "### Add pipeline templates to dependencies"
   ]
  },
  {
   "cell_type": "code",
   "execution_count": null,
   "id": "066eb18b-e6bc-43b1-b966-c379812df2e1",
   "metadata": {
    "tags": []
   },
   "outputs": [],
   "source": [
    "engines = [\n",
    "    \"content-engine\",\n",
    "    \"growth-engine\",\n",
    "    \"sales-engine\",\n",
    "    \"operations-engine\",\n",
    "    \"finance-engine\",\n",
    "    \"opendata-engine\",\n",
    "]\n",
    "for engine in engines:\n",
    "    # Engine model directory\n",
    "    engine_model_dir = os.path.join(naas_data_product.MODELS_PATH, engine)\n",
    "\n",
    "    # Add dependencies\n",
    "    files = (\n",
    "        glob.glob(os.path.join(engine_model_dir, \"core\", \"domain\", \"*.ipynb\")) + \n",
    "        glob.glob(os.path.join(engine_model_dir, \"custom\", \"*.ipynb\")) + \n",
    "        [os.path.join(engine_model_dir, \"__pipeline__.ipynb\")] + \n",
    "        [os.path.join(engine_model_dir, \"__plugin__.ipynb\")]\n",
    "    )\n",
    "    for file in files:\n",
    "        print(\"🔗 Dependency:\", file)\n",
    "        naas.dependency.add(file)\n",
    "        print()"
   ]
  },
  {
   "cell_type": "markdown",
   "id": "49404dd6-1653-406e-be45-97e863f4d7bb",
   "metadata": {},
   "source": [
    "### Add utils to dependencies"
   ]
  },
  {
   "cell_type": "code",
   "execution_count": null,
   "id": "e9625dcf-0f90-4aef-bc7f-7bf7bb35b715",
   "metadata": {
    "tags": []
   },
   "outputs": [],
   "source": [
    "files = glob.glob(f\"{naas_data_product.UTILS_PATH}/*.ipynb\")\n",
    "\n",
    "for file in files: \n",
    "    naas.dependency.add(file)"
   ]
  },
  {
   "cell_type": "code",
   "execution_count": null,
   "id": "45ce5894-60d8-4ef5-9a93-c66124556cd5",
   "metadata": {},
   "outputs": [],
   "source": []
  }
 ],
 "metadata": {
  "kernelspec": {
   "display_name": "Python 3",
   "language": "python",
   "name": "python3"
  },
  "language_info": {
   "codemirror_mode": {
    "name": "ipython",
    "version": 3
   },
   "file_extension": ".py",
   "mimetype": "text/x-python",
   "name": "python",
   "nbconvert_exporter": "python",
   "pygments_lexer": "ipython3",
   "version": "3.9.6"
  },
  "naas": {
   "notebook_id": "77b7f93a-fb2a-483e-b98b-80735e426a64",
   "notebook_path": "Naas/Naas_Secret_demo.ipynb"
  },
  "papermill": {
   "default_parameters": {},
   "environment_variables": {},
   "parameters": {},
   "version": "2.3.3"
  },
  "toc-autonumbering": false,
  "widgets": {
   "application/vnd.jupyter.widget-state+json": {
    "state": {},
    "version_major": 2,
    "version_minor": 0
   }
  }
 },
 "nbformat": 4,
 "nbformat_minor": 5
}
