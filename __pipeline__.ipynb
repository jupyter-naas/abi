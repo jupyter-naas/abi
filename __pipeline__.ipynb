{
 "cells": [
  {
   "cell_type": "markdown",
   "id": "2833db14-cc5e-44ef-af36-f0c086491e74",
   "metadata": {
    "papermill": {},
    "tags": []
   },
   "source": [
    "<img width=\"8%\" alt=\"Naas.png\" src=\"https://raw.githubusercontent.com/jupyter-naas/awesome-notebooks/master/.github/assets/logos/Naas.png\" style=\"border-radius: 15%\">"
   ]
  },
  {
   "cell_type": "markdown",
   "id": "substantial-decline",
   "metadata": {
    "papermill": {},
    "tags": []
   },
   "source": [
    "# Pipeline"
   ]
  },
  {
   "cell_type": "markdown",
   "id": "485a2006-e9c6-4d35-b402-82a8bca346a3",
   "metadata": {
    "papermill": {},
    "tags": []
   },
   "source": [
    "**Tags:** #naas #pipeline #jupyter #notebook #dataanalysis #workflow #streamline"
   ]
  },
  {
   "cell_type": "markdown",
   "id": "691858d8-ea92-4213-bf16-e3409985306e",
   "metadata": {
    "papermill": {},
    "tags": []
   },
   "source": [
    "**Author:** [Florent Ravenel](https://www.linkedin.com/in/florent-ravenel)"
   ]
  },
  {
   "cell_type": "markdown",
   "id": "bac91d3e-f61d-4a8c-96e8-69e7fd0af0ca",
   "metadata": {
    "papermill": {},
    "tags": []
   },
   "source": [
    "**Description:** This notebook creates a notebooks pipeline."
   ]
  },
  {
   "cell_type": "markdown",
   "id": "80056fe3-734f-41fe-8709-6838316e2f89",
   "metadata": {},
   "source": [
    "## Input"
   ]
  },
  {
   "cell_type": "markdown",
   "id": "d3bba624-afe5-484b-a5d3-0d4bf7dd019c",
   "metadata": {},
   "source": [
    "### Import libraries"
   ]
  },
  {
   "cell_type": "code",
   "execution_count": 1,
   "id": "21d997a6-cfee-468d-8009-53657d604ae7",
   "metadata": {
    "execution": {
     "iopub.execute_input": "2024-01-17T13:54:47.392277Z",
     "iopub.status.busy": "2024-01-17T13:54:47.392013Z",
     "iopub.status.idle": "2024-01-17T13:54:56.248821Z",
     "shell.execute_reply": "2024-01-17T13:54:56.247992Z",
     "shell.execute_reply.started": "2024-01-17T13:54:47.392190Z"
    },
    "tags": []
   },
   "outputs": [
    {
     "name": "stdout",
     "output_type": "stream",
     "text": [
      "✅ utils file '/home/ftp/abi/utils/data.ipynb' successfully loaded.\n",
      "✅ utils file '/home/ftp/abi/utils/llm.ipynb' successfully loaded.\n",
      "✅ utils file '/home/ftp/abi/utils/naas_chat_plugin.ipynb' successfully loaded.\n",
      "✅ utils file '/home/ftp/abi/utils/naas_lab.ipynb' successfully loaded.\n"
     ]
    }
   ],
   "source": [
    "from naas.pipeline import (\n",
    "    Pipeline,\n",
    "    NotebookStep,\n",
    "    End,\n",
    "    ParallelStep,\n",
    ")\n",
    "import naas_data_product\n",
    "import naas\n",
    "from naas_drivers import gsheet, linkedin\n",
    "import glob\n",
    "import os\n",
    "from unidecode import unidecode"
   ]
  },
  {
   "cell_type": "markdown",
   "id": "0859f71e-9e51-4c79-8fcd-fa41e9fb8282",
   "metadata": {},
   "source": [
    "### Setup variables\n",
    "**Inputs**\n",
    "- `abi_spreadsheet`: Google Sheets spreadsheet URL\n",
    "- `sheet_entity`: Entity sheet name that stores all your personal data\n",
    "\n",
    "**Outputs**\n",
    "- `datalake_dir`: Datalake directory"
   ]
  },
  {
   "cell_type": "code",
   "execution_count": 2,
   "id": "c7ef7702-d129-4cb3-97b6-9b598d25c423",
   "metadata": {
    "execution": {
     "iopub.execute_input": "2024-01-17T13:54:56.250601Z",
     "iopub.status.busy": "2024-01-17T13:54:56.250355Z",
     "iopub.status.idle": "2024-01-17T13:54:56.514603Z",
     "shell.execute_reply": "2024-01-17T13:54:56.514014Z",
     "shell.execute_reply.started": "2024-01-17T13:54:56.250568Z"
    },
    "tags": []
   },
   "outputs": [],
   "source": [
    "# Inputs\n",
    "abi_spreadsheet = naas.secret.get(\"ABI_SPREADSHEET\")\n",
    "sheet_entity = \"ENTITY\"\n",
    "long_lived_token = naas.secret.get('NAAS_API_TOKEN')\n",
    "\n",
    "# Outputs\n",
    "datalake_dir = os.path.join(\"/\", \"home\", \"ftp\", \"abi\", \"outputs\")"
   ]
  },
  {
   "cell_type": "markdown",
   "id": "2ebb82c4-a40a-496e-a1fd-2c04e39455bd",
   "metadata": {},
   "source": [
    "## Model"
   ]
  },
  {
   "cell_type": "markdown",
   "id": "3a232167-6d42-4ad2-9587-fb3efb110c51",
   "metadata": {},
   "source": [
    "### Get data from Google Sheet spreadsheet"
   ]
  },
  {
   "cell_type": "code",
   "execution_count": 3,
   "id": "53f8ea20-9dca-4e97-b0d7-6d8836b07d40",
   "metadata": {
    "execution": {
     "iopub.execute_input": "2024-01-17T13:54:56.517520Z",
     "iopub.status.busy": "2024-01-17T13:54:56.517341Z",
     "iopub.status.idle": "2024-01-17T13:54:57.426259Z",
     "shell.execute_reply": "2024-01-17T13:54:57.425577Z",
     "shell.execute_reply.started": "2024-01-17T13:54:56.517501Z"
    },
    "tags": []
   },
   "outputs": [
    {
     "data": {
      "text/html": [
       "<div>\n",
       "<style scoped>\n",
       "    .dataframe tbody tr th:only-of-type {\n",
       "        vertical-align: middle;\n",
       "    }\n",
       "\n",
       "    .dataframe tbody tr th {\n",
       "        vertical-align: top;\n",
       "    }\n",
       "\n",
       "    .dataframe thead th {\n",
       "        text-align: right;\n",
       "    }\n",
       "</style>\n",
       "<table border=\"1\" class=\"dataframe\">\n",
       "  <thead>\n",
       "    <tr style=\"text-align: right;\">\n",
       "      <th></th>\n",
       "      <th>ENTITY</th>\n",
       "      <th>LINKEDIN_URL</th>\n",
       "      <th>LINKEDIN_LI_AT</th>\n",
       "      <th>LINKEDIN_JSESSIONID</th>\n",
       "      <th>EMAILS</th>\n",
       "      <th>PROMPT_SALES_MESSAGINGS</th>\n",
       "      <th>ICP_SENIORITY</th>\n",
       "      <th>ICP_DEPARTMENT</th>\n",
       "      <th>ICP_ORG_STAFF_RANGE</th>\n",
       "      <th>ICP_ORG_INDUSTRY</th>\n",
       "    </tr>\n",
       "  </thead>\n",
       "  <tbody>\n",
       "    <tr>\n",
       "      <th>0</th>\n",
       "      <td>Jérémy Ravenel</td>\n",
       "      <td>https://www.linkedin.com/in/jeremyravenel/</td>\n",
       "      <td>NA</td>\n",
       "      <td>NA</td>\n",
       "      <td>florent@naas.ai</td>\n",
       "      <td>Create 3 messaging options to engage conversat...</td>\n",
       "      <td>Professional/Staff, Senior Professional/Staff,...</td>\n",
       "      <td>Human Resources (HR), Finance, Marketing, Sale...</td>\n",
       "      <td>Solopreneur, Micro Team, Small Company, Medium...</td>\n",
       "      <td>NA</td>\n",
       "    </tr>\n",
       "  </tbody>\n",
       "</table>\n",
       "</div>"
      ],
      "text/plain": [
       "           ENTITY                                LINKEDIN_URL LINKEDIN_LI_AT  \\\n",
       "0  Jérémy Ravenel  https://www.linkedin.com/in/jeremyravenel/             NA   \n",
       "\n",
       "  LINKEDIN_JSESSIONID           EMAILS  \\\n",
       "0                  NA  florent@naas.ai   \n",
       "\n",
       "                             PROMPT_SALES_MESSAGINGS  \\\n",
       "0  Create 3 messaging options to engage conversat...   \n",
       "\n",
       "                                       ICP_SENIORITY  \\\n",
       "0  Professional/Staff, Senior Professional/Staff,...   \n",
       "\n",
       "                                      ICP_DEPARTMENT  \\\n",
       "0  Human Resources (HR), Finance, Marketing, Sale...   \n",
       "\n",
       "                                 ICP_ORG_STAFF_RANGE ICP_ORG_INDUSTRY  \n",
       "0  Solopreneur, Micro Team, Small Company, Medium...               NA  "
      ]
     },
     "execution_count": 3,
     "metadata": {},
     "output_type": "execute_result"
    }
   ],
   "source": [
    "df_gsheet = gsheet.connect(abi_spreadsheet).get(sheet_name=sheet_entity).fillna(\"NA\")\n",
    "df_gsheet.head(1)"
   ]
  },
  {
   "cell_type": "markdown",
   "id": "429b3362-fb19-4cf7-9b27-1388e711c123",
   "metadata": {},
   "source": [
    "### Run pipeline"
   ]
  },
  {
   "cell_type": "code",
   "execution_count": 7,
   "id": "9be135e7-ad56-471d-86f2-4e330d33f38a",
   "metadata": {
    "execution": {
     "iopub.execute_input": "2024-01-17T13:59:18.622643Z",
     "iopub.status.busy": "2024-01-17T13:59:18.622327Z",
     "iopub.status.idle": "2024-01-17T14:03:14.951849Z",
     "shell.execute_reply": "2024-01-17T14:03:14.950939Z",
     "shell.execute_reply.started": "2024-01-17T13:59:18.622607Z"
    },
    "tags": []
   },
   "outputs": [
    {
     "data": {
      "text/html": [
       "<html>\n",
       "<head>\n",
       "<link rel=\"stylesheet\" href=\"https://cdn.jsdelivr.net/npm/vis-network@latest/styles/vis-network.css\" type=\"text/css\" />\n",
       "<script type=\"text/javascript\" src=\"https://cdn.jsdelivr.net/npm/vis-network@latest/dist/vis-network.min.js\"> </script>\n",
       "<center>\n",
       "<h1></h1>\n",
       "</center>\n",
       "\n",
       "<!-- <link rel=\"stylesheet\" href=\"../node_modules/vis/dist/vis.min.css\" type=\"text/css\" />\n",
       "<script type=\"text/javascript\" src=\"../node_modules/vis/dist/vis.js\"> </script>-->\n",
       "\n",
       "<style type=\"text/css\">\n",
       "\n",
       "        #mynetwork {\n",
       "            width: 100%;\n",
       "            height: 1000px;\n",
       "            background-color: #212121;\n",
       "            border: 1px solid lightgray;\n",
       "            position: relative;\n",
       "            float: left;\n",
       "        }\n",
       "\n",
       "        \n",
       "\n",
       "        \n",
       "\n",
       "        \n",
       "</style>\n",
       "\n",
       "</head>\n",
       "\n",
       "<body>\n",
       "<div id = \"mynetwork\"></div>\n",
       "\n",
       "\n",
       "<script type=\"text/javascript\">\n",
       "\n",
       "    // initialize global variables.\n",
       "    var edges;\n",
       "    var nodes;\n",
       "    var network; \n",
       "    var container;\n",
       "    var options, data;\n",
       "\n",
       "    \n",
       "    // This method is responsible for drawing the graph, returns the drawn network\n",
       "    function drawGraph() {\n",
       "        var container = document.getElementById('mynetwork');\n",
       "        \n",
       "        \n",
       "\n",
       "        // parsing and collecting nodes and edges from the python\n",
       "        nodes = new vis.DataSet([{\"color\": \"#5DE191\", \"font\": {\"color\": \"#ffffff\"}, \"id\": \"Start\", \"image\": \"start-end.png\", \"label\": \"Start\", \"level\": 0, \"mass\": 5, \"shape\": \"circularImage\", \"x\": 0, \"y\": 0}, {\"color\": \"#5DE191\", \"font\": {\"color\": \"#ffffff\"}, \"id\": \"Content\", \"label\": \"Content\", \"level\": 1, \"mass\": 5, \"shape\": \"box\", \"x\": 1, \"y\": 0}, {\"color\": \"#5DE191\", \"font\": {\"color\": \"#ffffff\"}, \"id\": \"End\", \"image\": \"start-end.png\", \"label\": \"End\", \"level\": 2, \"mass\": 5, \"shape\": \"circularImage\", \"x\": 2, \"y\": 0}]);\n",
       "        edges = new vis.DataSet([{\"arrows\": \"to\", \"from\": \"Content\", \"to\": \"End\"}, {\"arrows\": \"to\", \"from\": \"Start\", \"to\": \"Content\"}]);\n",
       "\n",
       "        // adding nodes and edges to the graph\n",
       "        data = {nodes: nodes, edges: edges};\n",
       "\n",
       "        var options = {\n",
       "    \"configure\": {\n",
       "        \"enabled\": false\n",
       "    },\n",
       "    \"edges\": {\n",
       "        \"color\": {\n",
       "            \"inherit\": true\n",
       "        },\n",
       "        \"smooth\": {\n",
       "            \"enabled\": true,\n",
       "            \"type\": \"dynamic\"\n",
       "        }\n",
       "    },\n",
       "    \"interaction\": {\n",
       "        \"dragNodes\": true,\n",
       "        \"hideEdgesOnDrag\": false,\n",
       "        \"hideNodesOnDrag\": false\n",
       "    },\n",
       "    \"layout\": {\n",
       "        \"hierarchical\": {\n",
       "            \"blockShifting\": true,\n",
       "            \"edgeMinimization\": true,\n",
       "            \"enabled\": true,\n",
       "            \"levelSeparation\": 150,\n",
       "            \"parentCentralization\": true,\n",
       "            \"sortMethod\": \"hubsize\",\n",
       "            \"treeSpacing\": 200\n",
       "        },\n",
       "        \"improvedLayout\": true,\n",
       "        \"randomSeed\": 0\n",
       "    },\n",
       "    \"physics\": {\n",
       "        \"enabled\": false,\n",
       "        \"stabilization\": {\n",
       "            \"enabled\": true,\n",
       "            \"fit\": true,\n",
       "            \"iterations\": 1000,\n",
       "            \"onlyDynamicEdges\": false,\n",
       "            \"updateInterval\": 50\n",
       "        }\n",
       "    }\n",
       "};\n",
       "        \n",
       "        \n",
       "\n",
       "        \n",
       "\n",
       "        network = new vis.Network(container, data, options);\n",
       "\t \n",
       "        \n",
       "\n",
       "\n",
       "        \n",
       "\n",
       "        return network;\n",
       "\n",
       "    }\n",
       "\n",
       "    drawGraph();\n",
       "\n",
       "</script>\n",
       "</body>\n",
       "</html>"
      ],
      "text/plain": [
       "<IPython.core.display.HTML object>"
      ]
     },
     "metadata": {},
     "output_type": "display_data"
    }
   ],
   "source": [
    "for row in df_gsheet.itertuples():\n",
    "    index = row.Index\n",
    "    entity_name = row.ENTITY\n",
    "    emails = row.EMAILS\n",
    "    linkedin_url = row.LINKEDIN_URL\n",
    "    li_at = row.LINKEDIN_LI_AT\n",
    "    JSESSIONID = row.LINKEDIN_JSESSIONID\n",
    "    print(\"- Entity:\", entity_name)\n",
    "    print(\"- Emails:\", emails)\n",
    "    print(\"- LinkedIn URL:\", linkedin_url)\n",
    "    print(\"- LinkedIn li_at:\", li_at)\n",
    "    print(\"- LinkedIn JSESSIONID:\", JSESSIONID)\n",
    "    entity_code = unidecode(row.ENTITY.lower().replace(\" \", \"_\"))\n",
    "    entity_dir = os.path.join(datalake_dir, entity_code)\n",
    "    print(\"- Directory:\", entity_dir)\n",
    "    print()\n",
    "    \n",
    "    # Save entity data\n",
    "    print(\"- Saving dependencies:\")\n",
    "    output_dir = os.path.join(datalake_dir, \"entities\", str(index))\n",
    "    pdump(output_dir, abi_spreadsheet, \"abi_spreadsheet\")\n",
    "    naas.dependency.add(os.path.join(output_dir, \"abi_spreadsheet.pickle\"))\n",
    "    pdump(output_dir, entity_name, \"entity_name\")\n",
    "    naas.dependency.add(os.path.join(output_dir, \"entity_name.pickle\"))\n",
    "    pdump(output_dir, emails, \"emails\")\n",
    "    naas.dependency.add(os.path.join(output_dir, \"emails.pickle\"))\n",
    "    pdump(output_dir, linkedin_url, \"linkedin_url\")\n",
    "    naas.dependency.add(os.path.join(output_dir, \"linkedin_url.pickle\"))\n",
    "    pdump(output_dir, entity_dir, \"entity_dir\")\n",
    "    naas.dependency.add(os.path.join(output_dir, \"entity_dir.pickle\"))\n",
    "    \n",
    "    # Set timezone: Timezone will be defined from the first profile region's and country's\n",
    "    if index == 0:\n",
    "        timezone = pload(output_dir, \"timezone\")\n",
    "        if timezone is None:\n",
    "            linkedin_dir = os.path.join(datalake_dir, \"datalake\", \"linkedin\", \"profiles\")\n",
    "            df = get_linkedin_data(linkedin_url, linkedin_dir, \"identity\")\n",
    "            region = df.loc[0, \"REGION\"]\n",
    "            country = df.loc[0, \"COUNTRY\"]\n",
    "            print(\"- Region:\", region)\n",
    "            print(\"- Country:\", country)\n",
    "            timezone = create_chat_completion(\n",
    "                long_lived_token,\n",
    "                prompt=\"Find timezone in the format 'Region/City'. If there is no exact match, please return a subjective answer based on the data you received\",\n",
    "                message=f\"Region: {region}, Country: {country}\",\n",
    "            )\n",
    "            print(\"- Timezone:\", timezone)\n",
    "            print()\n",
    "            naas.set_remote_timezone(timezone)\n",
    "            pdump(output_dir, timezone, \"timezone\")\n",
    "            naas.dependency.add(os.path.join(output_dir, \"timezone.pickle\"))\n",
    "\n",
    "    # Save secrets\n",
    "    for x in [\"LINKEDIN_LI_AT\", \"LINKEDIN_JSESSIONID\"]:\n",
    "        value = df_gsheet.loc[index, x]\n",
    "        if value != \"NA\":\n",
    "            print(f\"Secret '{x}' to be added:\")\n",
    "            naas.secret.add(f\"{x}_{entity_code.upper()}\", value)\n",
    "            if index == 0:\n",
    "                naas.secret.add(x, value)\n",
    "    if li_at == \"NA\":\n",
    "        li_at = naas.secret.get(\"LINKEDIN_LI_AT\")\n",
    "    if JSESSIONID == \"NA\":\n",
    "        JSESSIONID = naas.secret.get(\"LINKEDIN_JSESSIONID\")\n",
    "    print()\n",
    "    \n",
    "    # Create notebook steps\n",
    "    content = NotebookStep(\n",
    "        name=\"📲 Content\",\n",
    "        notebook_path=os.path.join(naas_data_product.MODELS_PATH, \"content-engine\", \"__pipeline__.ipynb\"),\n",
    "        parameters={\n",
    "            \"datalake_dir\": datalake_dir,\n",
    "            \"spreadsheet_url\": abi_spreadsheet,\n",
    "            \"entity_name\": entity_name,\n",
    "            \"emails\": emails,\n",
    "            \"linkedin_url\": linkedin_url,\n",
    "            \"li_at\": li_at,\n",
    "            \"JSESSIONID\": JSESSIONID,\n",
    "            \"entity_dir\": entity_dir\n",
    "        }\n",
    "    )\n",
    "    growth = NotebookStep(\n",
    "        name=\"Growth\",\n",
    "        notebook_path=os.path.join(naas_data_product.MODELS_PATH, \"growth-engine\", \"__pipeline__.ipynb\"),\n",
    "        parameters={\n",
    "            \"datalake_dir\": datalake_dir,\n",
    "            \"spreadsheet_url\": abi_spreadsheet,\n",
    "            \"entity_name\": entity_name,\n",
    "            \"emails\": emails,\n",
    "            \"linkedin_url\": linkedin_url,\n",
    "            \"li_at\": li_at,\n",
    "            \"JSESSIONID\": JSESSIONID,\n",
    "            \"entity_dir\": entity_dir\n",
    "        }\n",
    "    )\n",
    "    sales = NotebookStep(\n",
    "        name=\"Sales\",\n",
    "        notebook_path=os.path.join(naas_data_product.MODELS_PATH, \"sales-engine\", \"__pipeline__.ipynb\"),\n",
    "        parameters={\n",
    "            \"datalake_dir\": datalake_dir,\n",
    "            \"spreadsheet_url\": abi_spreadsheet,\n",
    "            \"entity_name\": entity_name,\n",
    "            \"emails\": emails,\n",
    "            \"linkedin_url\": linkedin_url,\n",
    "            \"li_at\": li_at,\n",
    "            \"JSESSIONID\": JSESSIONID,\n",
    "            \"entity_dir\": entity_dir\n",
    "        }\n",
    "    )\n",
    "    # Run Pipeline\n",
    "    pipeline = Pipeline()\n",
    "    pipeline >> content >> growth >> sales >> End()\n",
    "    pipeline.run(outputs_path=os.path.join(entity_dir, \"pipeline_executions\"))"
   ]
  },
  {
   "cell_type": "markdown",
   "id": "486ca79e-21af-47c8-ae9a-1c4d1d7cf310",
   "metadata": {},
   "source": [
    "## Output"
   ]
  },
  {
   "cell_type": "markdown",
   "id": "1c020270-92df-42a7-b442-5167128879f1",
   "metadata": {},
   "source": [
    "### Schedule pipeline"
   ]
  },
  {
   "cell_type": "code",
   "execution_count": 5,
   "id": "fb7d1d58-95f3-49f4-846f-d93a36228ffa",
   "metadata": {
    "execution": {
     "iopub.execute_input": "2024-01-17T13:57:28.721236Z",
     "iopub.status.busy": "2024-01-17T13:57:28.717360Z",
     "iopub.status.idle": "2024-01-17T13:57:28.725611Z",
     "shell.execute_reply": "2024-01-17T13:57:28.725052Z",
     "shell.execute_reply.started": "2024-01-17T13:57:28.721195Z"
    },
    "tags": []
   },
   "outputs": [],
   "source": [
    "# # Init\n",
    "# engine_name = \"content-engine\"\n",
    "# engine_model_dir = os.path.join(naas_data_product.MODELS_PATH, engine_name)\n",
    "\n",
    "# # Schedule pipeline\n",
    "# file_path = os.path.join(engine_model_dir, \"__pipeline__.ipynb\")\n",
    "# cron = \"0 8 * * *\"\n",
    "# print(\"⏰ Scheduler:\", file_path)\n",
    "# naas.scheduler.add(cron=cron)\n",
    "# print()\n",
    "\n",
    "# # Uncomment the line below to delete your automation\n",
    "# # naas.scheduler.delete(file_path)\n",
    "\n",
    "# # Add dependencies\n",
    "# files = glob.glob(os.path.join(engine_model_dir, \"pipeline_templates\", \"*.ipynb\")) + [os.path.join(engine_model_dir, \"__plugin__.ipynb\")]\n",
    "# for file in files:\n",
    "#     print(\"🔗 Dependency:\", file)\n",
    "#     naas.dependency.add(file)\n",
    "#     print()\n",
    "                  \n",
    "#     # Uncomment the line below to delete your dependencies\n",
    "#     # naas.dependency.delete(file)"
   ]
  },
  {
   "cell_type": "markdown",
   "id": "3747a230-6cd9-45c3-971a-8d9c0ce0e919",
   "metadata": {},
   "source": [
    "### Add utils to dependencies"
   ]
  },
  {
   "cell_type": "code",
   "execution_count": 6,
   "id": "42a3f84e-b233-4a71-839b-c1461889a00d",
   "metadata": {
    "execution": {
     "iopub.execute_input": "2024-01-17T13:57:28.727054Z",
     "iopub.status.busy": "2024-01-17T13:57:28.726633Z",
     "iopub.status.idle": "2024-01-17T13:57:28.936396Z",
     "shell.execute_reply": "2024-01-17T13:57:28.935715Z",
     "shell.execute_reply.started": "2024-01-17T13:57:28.727023Z"
    },
    "tags": []
   },
   "outputs": [],
   "source": [
    "# import naas\n",
    "# import glob\n",
    "# import naas_data_product\n",
    "\n",
    "# files = glob.glob(f\"{naas_data_product.UTILS_PATH}/*.ipynb\")\n",
    "\n",
    "# for file in files: \n",
    "#     naas.dependency.add(file)\n",
    "    \n",
    "# #     # Uncomment the line below to delete your dependencies\n",
    "# #     naas.dependency.delete(file)"
   ]
  },
  {
   "cell_type": "code",
   "execution_count": null,
   "id": "2d05db4e-3d3e-4792-b59b-f0eb1ec2cb0c",
   "metadata": {},
   "outputs": [],
   "source": []
  }
 ],
 "metadata": {
  "kernelspec": {
   "display_name": "Python 3",
   "language": "python",
   "name": "python3"
  },
  "language_info": {
   "codemirror_mode": {
    "name": "ipython",
    "version": 3
   },
   "file_extension": ".py",
   "mimetype": "text/x-python",
   "name": "python",
   "nbconvert_exporter": "python",
   "pygments_lexer": "ipython3",
   "version": "3.9.6"
  },
  "naas": {
   "notebook_id": "77b7f93a-fb2a-483e-b98b-80735e426a64",
   "notebook_path": "Naas/Naas_Secret_demo.ipynb"
  },
  "papermill": {
   "default_parameters": {},
   "environment_variables": {},
   "parameters": {},
   "version": "2.3.3"
  },
  "toc-autonumbering": false,
  "widgets": {
   "application/vnd.jupyter.widget-state+json": {
    "state": {},
    "version_major": 2,
    "version_minor": 0
   }
  }
 },
 "nbformat": 4,
 "nbformat_minor": 5
}
