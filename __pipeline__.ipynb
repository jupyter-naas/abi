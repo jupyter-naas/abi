{
 "cells": [
  {
   "cell_type": "markdown",
   "id": "2833db14-cc5e-44ef-af36-f0c086491e74",
   "metadata": {
    "papermill": {},
    "tags": []
   },
   "source": [
    "<img width=\"8%\" alt=\"Naas.png\" src=\"https://raw.githubusercontent.com/jupyter-naas/awesome-notebooks/master/.github/assets/logos/Naas.png\" style=\"border-radius: 15%\">"
   ]
  },
  {
   "cell_type": "markdown",
   "id": "substantial-decline",
   "metadata": {
    "papermill": {},
    "tags": []
   },
   "source": [
    "# Pipeline"
   ]
  },
  {
   "cell_type": "markdown",
   "id": "485a2006-e9c6-4d35-b402-82a8bca346a3",
   "metadata": {
    "papermill": {},
    "tags": []
   },
   "source": [
    "**Tags:** #naas #pipeline #jupyter #notebook #dataanalysis #workflow #streamline"
   ]
  },
  {
   "cell_type": "markdown",
   "id": "691858d8-ea92-4213-bf16-e3409985306e",
   "metadata": {
    "papermill": {},
    "tags": []
   },
   "source": [
    "**Author:** [Florent Ravenel](https://www.linkedin.com/in/florent-ravenel)"
   ]
  },
  {
   "cell_type": "markdown",
   "id": "bac91d3e-f61d-4a8c-96e8-69e7fd0af0ca",
   "metadata": {
    "papermill": {},
    "tags": []
   },
   "source": [
    "**Description:** This notebook creates a notebooks pipeline."
   ]
  },
  {
   "cell_type": "markdown",
   "id": "80056fe3-734f-41fe-8709-6838316e2f89",
   "metadata": {},
   "source": [
    "## Input"
   ]
  },
  {
   "cell_type": "markdown",
   "id": "d3bba624-afe5-484b-a5d3-0d4bf7dd019c",
   "metadata": {},
   "source": [
    "### Import libraries"
   ]
  },
  {
   "cell_type": "code",
   "execution_count": null,
   "id": "21d997a6-cfee-468d-8009-53657d604ae7",
   "metadata": {
    "tags": []
   },
   "outputs": [],
   "source": [
    "from naas.pipeline import (\n",
    "    Pipeline,\n",
    "    NotebookStep,\n",
    "    End,\n",
    "    ParallelStep,\n",
    ")\n",
    "import naas_data_product\n",
    "import naas\n",
    "from naas_drivers import gsheet, linkedin\n",
    "import glob\n",
    "import os\n",
    "from unidecode import unidecode\n",
    "import pandas as pd"
   ]
  },
  {
   "cell_type": "markdown",
   "id": "0859f71e-9e51-4c79-8fcd-fa41e9fb8282",
   "metadata": {},
   "source": [
    "### Setup variables\n",
    "**Inputs**\n",
    "- `abi_spreadsheet`: Google Sheets spreadsheet URL\n",
    "- `sheet_entity`: Entity sheet name that stores all your personal data\n",
    "- `long_lived_token`: Long lived token to connect to Naas API.\n",
    "- `limit_linkedin`: Max call on a specific LinkedIn endpoint (profile top card, company info).\n",
    "- `limit_llm`: Max call on LLM (Naas API) to enrich specific data from Growth OBT (PEOPLE, ORGANIZATIONS, CONTACTS).\n",
    "- `cron`: Represents the scheduling pattern of your notebook (https://crontab.guru/)\n",
    "\n",
    "**Outputs**\n",
    "- `datalake_dir`: Datalake directory"
   ]
  },
  {
   "cell_type": "code",
   "execution_count": null,
   "id": "c7ef7702-d129-4cb3-97b6-9b598d25c423",
   "metadata": {
    "tags": []
   },
   "outputs": [],
   "source": [
    "# Inputs\n",
    "abi_spreadsheet = naas.secret.get(\"ABI_SPREADSHEET\")\n",
    "sheet_entity = \"ENTITY\"\n",
    "long_lived_token = naas.secret.get('NAAS_API_TOKEN')\n",
    "entity_start = 0\n",
    "entity_end = None\n",
    "limit_linkedin = 30\n",
    "limit_llm = 50\n",
    "cron = \"0 12 * * *\"\n",
    "\n",
    "# Outputs\n",
    "datalake_dir = naas.secret.get(\"ABI_DATALAKE_DIR\")"
   ]
  },
  {
   "cell_type": "markdown",
   "id": "2ebb82c4-a40a-496e-a1fd-2c04e39455bd",
   "metadata": {},
   "source": [
    "## Model"
   ]
  },
  {
   "cell_type": "markdown",
   "id": "3a232167-6d42-4ad2-9587-fb3efb110c51",
   "metadata": {},
   "source": [
    "### Get data from Google Sheet spreadsheet"
   ]
  },
  {
   "cell_type": "code",
   "execution_count": null,
   "id": "53f8ea20-9dca-4e97-b0d7-6d8836b07d40",
   "metadata": {
    "tags": []
   },
   "outputs": [],
   "source": [
    "df_gsheet = gsheet.connect(abi_spreadsheet).get(sheet_name=sheet_entity).fillna(\"NA\")\n",
    "if entity_end is None:\n",
    "    entity_end = len(df_gsheet)\n",
    "df_gsheet = df_gsheet[entity_start:entity_end]\n",
    "df_gsheet.head(len(df_gsheet))"
   ]
  },
  {
   "cell_type": "markdown",
   "id": "429b3362-fb19-4cf7-9b27-1388e711c123",
   "metadata": {},
   "source": [
    "### Run pipeline"
   ]
  },
  {
   "cell_type": "code",
   "execution_count": null,
   "id": "9be135e7-ad56-471d-86f2-4e330d33f38a",
   "metadata": {
    "tags": []
   },
   "outputs": [],
   "source": [
    "for row in df_gsheet.itertuples():\n",
    "    index = row.Index\n",
    "    entity_name = row.ENTITY\n",
    "    emails = row.EMAILS\n",
    "    linkedin_url = row.LINKEDIN_URL\n",
    "    li_at = row.LINKEDIN_LI_AT\n",
    "    JSESSIONID = row.LINKEDIN_JSESSIONID\n",
    "    if \"SPREADSHEET_URL\" in df_gsheet.columns and row.SPREADSHEET_URL != \"NA\":\n",
    "        abi_spreadsheet = row.SPREADSHEET_URL\n",
    "    print(\"- ABI spreadsheet:\", abi_spreadsheet)\n",
    "    print(\"- Entity:\", entity_name)\n",
    "    print(\"- Emails:\", emails)\n",
    "    print(\"- LinkedIn URL:\", linkedin_url)\n",
    "    entity_code = unidecode(row.ENTITY.lower().replace(\" \", \"_\").replace(\".\", \"\"))\n",
    "    entity_dir = os.path.join(datalake_dir, entity_code)\n",
    "    os.makedirs(entity_dir, exist_ok=True) # Create dirs\n",
    "    os.makedirs(os.path.join(entity_dir, \"plugins\"), exist_ok=True) # Create dirs\n",
    "    print(\"- Directory:\", entity_dir)\n",
    "    workspace_ids = []\n",
    "    if \"WORKSPACE_IDS\" in df_gsheet.columns and row.WORKSPACE_IDS != \"NA\":\n",
    "        workspace_ids = row.WORKSPACE_IDS.split(\",\")\n",
    "    print(\"- Workspace IDs:\", workspace_ids)\n",
    "    print()\n",
    "    \n",
    "    # Save entity data\n",
    "    print(\"- Saving dependencies:\")\n",
    "    output_dir = os.path.join(datalake_dir, \"entities\", str(index))\n",
    "    pdump(output_dir, abi_spreadsheet, \"abi_spreadsheet\")\n",
    "    naas.dependency.add(os.path.join(output_dir, \"abi_spreadsheet.pickle\"))\n",
    "    pdump(output_dir, entity_name, \"entity_name\")\n",
    "    naas.dependency.add(os.path.join(output_dir, \"entity_name.pickle\"))\n",
    "    pdump(output_dir, emails, \"emails\")\n",
    "    naas.dependency.add(os.path.join(output_dir, \"emails.pickle\"))\n",
    "    pdump(output_dir, linkedin_url, \"linkedin_url\")\n",
    "    naas.dependency.add(os.path.join(output_dir, \"linkedin_url.pickle\"))\n",
    "    pdump(output_dir, entity_dir, \"entity_dir\")\n",
    "    naas.dependency.add(os.path.join(output_dir, \"entity_dir.pickle\"))\n",
    "    pdump(output_dir, workspace_ids, \"workspace_ids\")\n",
    "    naas.dependency.add(os.path.join(output_dir, \"workspace_ids.pickle\"))\n",
    "\n",
    "    # Save secrets\n",
    "    for x in [\"LINKEDIN_LI_AT\", \"LINKEDIN_JSESSIONID\"]:\n",
    "        value = df_gsheet.loc[index, x]\n",
    "        if value != \"NA\":\n",
    "            print(f\"Secret '{x}' to be added:\")\n",
    "            naas.secret.add(f\"{x}_{entity_code.upper()}\", value)\n",
    "            if index == 0:\n",
    "                naas.secret.add(x, value)\n",
    "    if li_at == \"NA\":\n",
    "        li_at = naas.secret.get(\"li_at\") or naas.secret.get(\"LINKEDIN_LI_AT\")\n",
    "    if JSESSIONID == \"NA\":\n",
    "        JSESSIONID = naas.secret.get(\"JSESSIONID\") or naas.secret.get(\"LINKEDIN_JSESSIONID\")\n",
    "    print(\"- LinkedIn li_at:\", li_at)\n",
    "    print(\"- LinkedIn JSESSIONID:\", JSESSIONID)\n",
    "    \n",
    "    # Set timezone: Timezone will be defined from the first profile region's and country's\n",
    "    if index == 0:\n",
    "        timezone = pload(output_dir, \"timezone\")\n",
    "        if timezone is None:\n",
    "            linkedin_dir = os.path.join(datalake_dir, \"datalake\", \"linkedin\", \"profiles\")\n",
    "            df = get_linkedin_data(linkedin_url, linkedin_dir, \"identity\", li_at, JSESSIONID)\n",
    "            region = df.loc[0, \"REGION\"]\n",
    "            country = df.loc[0, \"COUNTRY\"]\n",
    "            print(\"- Region:\", region)\n",
    "            print(\"- Country:\", country)\n",
    "            timezone = create_chat_completion(\n",
    "                long_lived_token,\n",
    "                prompt=\"Find timezone in the format 'Region/City'. If there is no exact match, please return a subjective answer based on the data you received\",\n",
    "                message=f\"Region: {region}, Country: {country}\",\n",
    "            )\n",
    "            pdump(output_dir, timezone, \"timezone\")\n",
    "            naas.dependency.add(os.path.join(output_dir, \"timezone.pickle\"))\n",
    "        print(\"- Timezone:\", timezone)\n",
    "        naas.set_remote_timezone(timezone)\n",
    "    print()\n",
    "    \n",
    "    # Create notebook steps\n",
    "    content = NotebookStep(\n",
    "        name=\"📲 Content\",\n",
    "        notebook_path=os.path.join(naas_data_product.MODELS_PATH, \"content-engine\", \"__pipeline__.ipynb\"),\n",
    "        parameters={\n",
    "            \"datalake_dir\": datalake_dir,\n",
    "            \"spreadsheet_url\": abi_spreadsheet,\n",
    "            \"entity_name\": entity_name,\n",
    "            \"emails\": emails,\n",
    "            \"linkedin_url\": linkedin_url,\n",
    "            \"li_at\": li_at,\n",
    "            \"JSESSIONID\": JSESSIONID,\n",
    "            \"entity_dir\": entity_dir\n",
    "        }\n",
    "    )\n",
    "    growth = NotebookStep(\n",
    "        name=\"🚀 Growth\",\n",
    "        notebook_path=os.path.join(naas_data_product.MODELS_PATH, \"growth-engine\", \"__pipeline__.ipynb\"),\n",
    "        parameters={\n",
    "            \"datalake_dir\": datalake_dir,\n",
    "            \"spreadsheet_url\": abi_spreadsheet,\n",
    "            \"entity_name\": entity_name,\n",
    "            \"emails\": emails,\n",
    "            \"linkedin_url\": linkedin_url,\n",
    "            \"li_at\": li_at,\n",
    "            \"JSESSIONID\": JSESSIONID,\n",
    "            \"entity_dir\": entity_dir,\n",
    "            \"limit_linkedin\": limit_linkedin,\n",
    "            \"limit_llm\": limit_llm\n",
    "        }\n",
    "    )\n",
    "    sales = NotebookStep(\n",
    "        name=\"⚡️ Sales\",\n",
    "        notebook_path=os.path.join(naas_data_product.MODELS_PATH, \"sales-engine\", \"__pipeline__.ipynb\"),\n",
    "        parameters={\n",
    "            \"datalake_dir\": datalake_dir,\n",
    "            \"spreadsheet_url\": abi_spreadsheet,\n",
    "            \"entity_name\": entity_name,\n",
    "            \"emails\": emails,\n",
    "            \"linkedin_url\": linkedin_url,\n",
    "            \"entity_dir\": entity_dir\n",
    "        }\n",
    "    )\n",
    "    operations = NotebookStep(\n",
    "        name=\"⚙️ Operations\",\n",
    "        notebook_path=os.path.join(naas_data_product.MODELS_PATH, \"operations-engine\", \"__pipeline__.ipynb\"),\n",
    "        parameters={\n",
    "            \"datalake_dir\": datalake_dir,\n",
    "            \"spreadsheet_url\": abi_spreadsheet,\n",
    "            \"entity_name\": entity_name,\n",
    "            \"emails\": emails,\n",
    "            \"entity_dir\": entity_dir\n",
    "        }\n",
    "    )\n",
    "    finance = NotebookStep(\n",
    "        name=\"💰 Finance\",\n",
    "        notebook_path=os.path.join(naas_data_product.MODELS_PATH, \"finance-engine\", \"__pipeline__.ipynb\"),\n",
    "        parameters={\n",
    "            \"datalake_dir\": datalake_dir,\n",
    "            \"spreadsheet_url\": abi_spreadsheet,\n",
    "            \"entity_name\": entity_name,\n",
    "            \"emails\": emails,\n",
    "            \"entity_dir\": entity_dir\n",
    "        }\n",
    "    )\n",
    "    opendata = NotebookStep(\n",
    "        name=\"🌍 Open Data\",\n",
    "        notebook_path=os.path.join(naas_data_product.MODELS_PATH, \"opendata-engine\", \"__pipeline__.ipynb\"),\n",
    "        parameters={\n",
    "            \"datalake_dir\": datalake_dir,\n",
    "            \"spreadsheet_url\": abi_spreadsheet,\n",
    "            \"entity_name\": entity_name,\n",
    "            \"emails\": emails,\n",
    "            \"entity_dir\": entity_dir\n",
    "        }\n",
    "    )\n",
    "    # Run Pipeline\n",
    "    pipeline = Pipeline()\n",
    "    pipeline >> content >> growth >> sales >> operations >> finance >> opendata >> End()\n",
    "    pipeline.run(outputs_path=os.path.join(entity_dir, \"pipeline_executions\"))"
   ]
  },
  {
   "cell_type": "markdown",
   "id": "486ca79e-21af-47c8-ae9a-1c4d1d7cf310",
   "metadata": {},
   "source": [
    "## Output"
   ]
  },
  {
   "cell_type": "markdown",
   "id": "1c020270-92df-42a7-b442-5167128879f1",
   "metadata": {},
   "source": [
    "### Add scheduler"
   ]
  },
  {
   "cell_type": "code",
   "execution_count": null,
   "id": "fb7d1d58-95f3-49f4-846f-d93a36228ffa",
   "metadata": {
    "tags": []
   },
   "outputs": [],
   "source": [
    "# Schedule pipeline\n",
    "print(\"⏰ Scheduler:\", cron)\n",
    "naas.scheduler.add(cron=cron)\n",
    "# naas.scheduler.delete()"
   ]
  },
  {
   "cell_type": "markdown",
   "id": "1c043f8c-85d2-48c1-b549-da1dc40ac172",
   "metadata": {},
   "source": [
    "### Add pipeline templates to dependencies"
   ]
  },
  {
   "cell_type": "code",
   "execution_count": null,
   "id": "d19a31f9-ce71-4a1d-ba26-3ec219a2c17a",
   "metadata": {
    "tags": []
   },
   "outputs": [],
   "source": [
    "engines = [\n",
    "    \"content-engine\",\n",
    "    \"growth-engine\",\n",
    "    \"sales-engine\",\n",
    "    \"operations-engine\",\n",
    "    \"finance-engine\",\n",
    "    \"opendata-engine\",\n",
    "]\n",
    "\n",
    "for engine in engines:\n",
    "    # Engine model directory\n",
    "    engine_model_dir = os.path.join(naas_data_product.MODELS_PATH, engine)\n",
    "\n",
    "    # Add dependencies\n",
    "    files = (\n",
    "        glob.glob(os.path.join(engine_model_dir, \"core\", \"domain\", \"*.ipynb\")) + \n",
    "        glob.glob(os.path.join(engine_model_dir, \"custom\", \"*.ipynb\")) + \n",
    "        [os.path.join(engine_model_dir, \"__pipeline__.ipynb\")] + \n",
    "        [os.path.join(engine_model_dir, \"__plugin__.ipynb\")]\n",
    "    )\n",
    "    for file in files:\n",
    "        print(\"🔗 Dependency:\", file)\n",
    "        naas.dependency.add(file)\n",
    "        print()\n",
    "\n",
    "        # Uncomment the line below to delete your dependencies\n",
    "        # naas.dependency.delete(file)"
   ]
  },
  {
   "cell_type": "markdown",
   "id": "3747a230-6cd9-45c3-971a-8d9c0ce0e919",
   "metadata": {},
   "source": [
    "### Add utils to dependencies"
   ]
  },
  {
   "cell_type": "code",
   "execution_count": null,
   "id": "42a3f84e-b233-4a71-839b-c1461889a00d",
   "metadata": {
    "tags": []
   },
   "outputs": [],
   "source": [
    "files = glob.glob(f\"{naas_data_product.UTILS_PATH}/*.ipynb\")\n",
    "\n",
    "for file in files: \n",
    "    naas.dependency.add(file)\n",
    "    \n",
    "#     # Uncomment the line below to delete your dependencies\n",
    "#     naas.dependency.delete(file)"
   ]
  },
  {
   "cell_type": "code",
   "execution_count": null,
   "id": "2d05db4e-3d3e-4792-b59b-f0eb1ec2cb0c",
   "metadata": {},
   "outputs": [],
   "source": []
  }
 ],
 "metadata": {
  "kernelspec": {
   "display_name": "Python 3",
   "language": "python",
   "name": "python3"
  },
  "language_info": {
   "codemirror_mode": {
    "name": "ipython",
    "version": 3
   },
   "file_extension": ".py",
   "mimetype": "text/x-python",
   "name": "python",
   "nbconvert_exporter": "python",
   "pygments_lexer": "ipython3",
   "version": "3.9.6"
  },
  "naas": {
   "notebook_id": "77b7f93a-fb2a-483e-b98b-80735e426a64",
   "notebook_path": "Naas/Naas_Secret_demo.ipynb"
  },
  "papermill": {
   "default_parameters": {},
   "environment_variables": {},
   "parameters": {},
   "version": "2.3.3"
  },
  "toc-autonumbering": false,
  "widgets": {
   "application/vnd.jupyter.widget-state+json": {
    "state": {},
    "version_major": 2,
    "version_minor": 0
   }
  }
 },
 "nbformat": 4,
 "nbformat_minor": 5
}
