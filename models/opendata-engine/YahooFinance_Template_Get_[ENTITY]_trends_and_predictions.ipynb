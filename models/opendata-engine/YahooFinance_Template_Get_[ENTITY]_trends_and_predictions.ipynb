{
 "cells": [
  {
   "cell_type": "markdown",
   "id": "0945c819-fd6f-4dc2-93d7-9742277989f9",
   "metadata": {
    "papermill": {},
    "tags": []
   },
   "source": [
    "<img width=\"10%\" alt=\"Naas\" src=\"https://landen.imgix.net/jtci2pxwjczr/assets/5ice39g4.png?w=160\"/>"
   ]
  },
  {
   "cell_type": "markdown",
   "id": "descending-grammar",
   "metadata": {
    "papermill": {},
    "tags": []
   },
   "source": [
    "# Yahoo Finance - Get [ENTITY] trends and predictions"
   ]
  },
  {
   "cell_type": "markdown",
   "id": "d17064b3-00b5-4d71-96ba-38c6af450919",
   "metadata": {
    "papermill": {},
    "tags": []
   },
   "source": [
    "## Input"
   ]
  },
  {
   "cell_type": "markdown",
   "id": "4ae2c78a-f7fc-4366-a3d9-47e49b10566c",
   "metadata": {},
   "source": [
    "### Get utils\n",
    "This section enable the pipeline to run using common functions stored inside the /utils folder. "
   ]
  },
  {
   "cell_type": "code",
   "execution_count": null,
   "id": "120567be-bf9e-4b5c-a290-c9d15644c7ef",
   "metadata": {
    "execution": {
     "iopub.execute_input": "2023-08-30T20:25:32.919115Z",
     "iopub.status.busy": "2023-08-30T20:25:32.918659Z",
     "iopub.status.idle": "2023-08-30T20:25:35.417453Z",
     "shell.execute_reply": "2023-08-30T20:25:35.416840Z",
     "shell.execute_reply.started": "2023-08-30T20:25:32.919040Z"
    },
    "tags": []
   },
   "outputs": [],
   "source": [
    "# Load utils functions\n",
    "from os import path\n",
    "\n",
    "utils_path = \"../utils/__utils__.ipynb\"\n",
    "if not path.exists(utils_path):\n",
    "    utils_path = \"utils/__utils__.ipynb\"\n",
    "\n",
    "%run \"$utils_path\""
   ]
  },
  {
   "cell_type": "markdown",
   "id": "e773bf76-4ce6-4ec2-a4ea-26d4ebcb3e08",
   "metadata": {},
   "source": [
    "### Install libraries"
   ]
  },
  {
   "cell_type": "code",
   "execution_count": null,
   "id": "6462beb0-4cb7-4bdb-98c7-1a04f53bafd7",
   "metadata": {
    "execution": {
     "iopub.execute_input": "2023-08-30T20:25:35.418705Z",
     "iopub.status.busy": "2023-08-30T20:25:35.418463Z",
     "iopub.status.idle": "2023-08-30T20:25:39.867074Z",
     "shell.execute_reply": "2023-08-30T20:25:39.866281Z",
     "shell.execute_reply.started": "2023-08-30T20:25:35.418674Z"
    },
    "tags": []
   },
   "outputs": [],
   "source": [
    "pip install nltk"
   ]
  },
  {
   "cell_type": "markdown",
   "id": "1d8f5e20-bcfc-4ceb-83ad-0856868327a0",
   "metadata": {
    "papermill": {},
    "tags": []
   },
   "source": [
    "### Import libraries"
   ]
  },
  {
   "cell_type": "code",
   "execution_count": null,
   "id": "fd368ba3-fc40-46db-af1d-a62d11573923",
   "metadata": {
    "execution": {
     "iopub.execute_input": "2023-08-30T20:25:39.868667Z",
     "iopub.status.busy": "2023-08-30T20:25:39.868419Z",
     "iopub.status.idle": "2023-08-30T20:25:41.034657Z",
     "shell.execute_reply": "2023-08-30T20:25:41.026652Z",
     "shell.execute_reply.started": "2023-08-30T20:25:39.868636Z"
    },
    "papermill": {},
    "tags": []
   },
   "outputs": [],
   "source": [
    "import naas\n",
    "import pandas as pd\n",
    "from naas_drivers import prediction, yahoofinance, plotly\n",
    "import plotly.graph_objects as go\n",
    "import markdown2\n",
    "from datetime import datetime\n",
    "from IPython.core.display import display, HTML"
   ]
  },
  {
   "cell_type": "markdown",
   "id": "79126baa-2a38-4861-8130-66b4c4e13621",
   "metadata": {
    "papermill": {},
    "tags": []
   },
   "source": [
    "### Setup Yahoo Finance\n",
    "👉 Here you can change the ticker and timeframe"
   ]
  },
  {
   "cell_type": "code",
   "execution_count": null,
   "id": "exceptional-pearl",
   "metadata": {
    "execution": {
     "iopub.execute_input": "2023-08-30T20:25:41.038430Z",
     "iopub.status.busy": "2023-08-30T20:25:41.038223Z",
     "iopub.status.idle": "2023-08-30T20:25:41.047517Z",
     "shell.execute_reply": "2023-08-30T20:25:41.046925Z",
     "shell.execute_reply.started": "2023-08-30T20:25:41.038407Z"
    },
    "papermill": {},
    "tags": []
   },
   "outputs": [],
   "source": [
    "NAME = \"NAME_INPUT\"\n",
    "TICKER = \"TICKER_INPUT\"\n",
    "RELATIVE_INDEX = \"RELATIVE_INDEX_INPUT\"\n",
    "\n",
    "#NAME = \"Amazon\"\n",
    "#TICKER = \"AMZN\"\n",
    "#RELATIVE_INDEX = \"^IXIC\"\n",
    "\n",
    "date_from = -270\n",
    "date_to = \"today\""
   ]
  },
  {
   "cell_type": "markdown",
   "id": "f617e5d7-76e1-4229-b515-ed6c4401f45f",
   "metadata": {
    "papermill": {},
    "tags": []
   },
   "source": [
    "### Setup Prediction\n",
    "👉 Here you can change the number of data points you want the prediction will be performed on"
   ]
  },
  {
   "cell_type": "code",
   "execution_count": null,
   "id": "f7fce301-79ad-4064-885e-acd834780e64",
   "metadata": {
    "execution": {
     "iopub.execute_input": "2023-08-30T20:25:41.049367Z",
     "iopub.status.busy": "2023-08-30T20:25:41.049125Z",
     "iopub.status.idle": "2023-08-30T20:25:41.132238Z",
     "shell.execute_reply": "2023-08-30T20:25:41.130429Z",
     "shell.execute_reply.started": "2023-08-30T20:25:41.049337Z"
    },
    "papermill": {},
    "tags": []
   },
   "outputs": [],
   "source": [
    "DATA_POINT = 90"
   ]
  },
  {
   "cell_type": "markdown",
   "id": "b9b9a046-0559-444c-916a-dfe5fe385edc",
   "metadata": {
    "papermill": {},
    "tags": []
   },
   "source": [
    "### Setup Assets"
   ]
  },
  {
   "cell_type": "code",
   "execution_count": null,
   "id": "4eb2d451-00ad-491b-be40-3d968f1adddd",
   "metadata": {
    "execution": {
     "iopub.execute_input": "2023-08-30T20:25:41.133828Z",
     "iopub.status.busy": "2023-08-30T20:25:41.133576Z",
     "iopub.status.idle": "2023-08-30T20:25:41.211086Z",
     "shell.execute_reply": "2023-08-30T20:25:41.210551Z",
     "shell.execute_reply.started": "2023-08-30T20:25:41.133798Z"
    },
    "papermill": {},
    "tags": []
   },
   "outputs": [],
   "source": [
    "NOW = datetime.now().strftime(\"%Y-%m-%d\")\n",
    "csv_output = path.join(OUTPUTS_PATH,f\"{NOW}_{TICKER}.csv\")\n",
    "image_output = path.join(OUTPUTS_PATH,f\"{NOW}_{TICKER}.png\")\n",
    "html_output = path.join(OUTPUTS_PATH,f\"{NOW}_{TICKER}.html\")\n",
    "tracker_output = path.join(OUTPUTS_PATH,f\"{NOW}_{TICKER}_tracker.csv\")"
   ]
  },
  {
   "cell_type": "markdown",
   "id": "0a1ad0db-97b3-4f84-a82e-517595d95f17",
   "metadata": {
    "papermill": {},
    "tags": []
   },
   "source": [
    "## Model"
   ]
  },
  {
   "cell_type": "markdown",
   "id": "manufactured-allocation",
   "metadata": {
    "papermill": {},
    "tags": []
   },
   "source": [
    "### Get dataset from Yahoo Finance"
   ]
  },
  {
   "cell_type": "code",
   "execution_count": null,
   "id": "powered-ensemble",
   "metadata": {
    "execution": {
     "iopub.execute_input": "2023-08-30T20:25:41.212350Z",
     "iopub.status.busy": "2023-08-30T20:25:41.212086Z",
     "iopub.status.idle": "2023-08-30T20:25:41.415344Z",
     "shell.execute_reply": "2023-08-30T20:25:41.414574Z",
     "shell.execute_reply.started": "2023-08-30T20:25:41.212321Z"
    },
    "papermill": {},
    "tags": []
   },
   "outputs": [],
   "source": [
    "df_yahoo = yahoofinance.get(tickers=TICKER,\n",
    "                            date_from=date_from,\n",
    "                            date_to=date_to).dropna().reset_index(drop=True)\n",
    "\n",
    "# Define the rolling window size\n",
    "window_size = 20  # Change this to your desired window size\n",
    "\n",
    "# Calculate the rolling minimum and maximum values of the 'total_predict' column\n",
    "df_yahoo['min_rolling'] = df_yahoo['Close'].rolling(window=window_size).min()\n",
    "df_yahoo['max_rolling'] = df_yahoo['Close'].rolling(window=window_size).max()\n",
    "\n",
    "# Capitalize all column names\n",
    "df_yahoo.columns = df_yahoo.columns.str.upper()\n",
    "\n",
    "# Display dataframe\n",
    "df_yahoo.tail(5)"
   ]
  },
  {
   "cell_type": "markdown",
   "id": "fdf751ac-8af1-4370-80b1-af7f48b0e921",
   "metadata": {},
   "source": [
    "### Add relative index data"
   ]
  },
  {
   "cell_type": "code",
   "execution_count": null,
   "id": "29de7a1e-019d-4f4c-a1d3-91b057115cb3",
   "metadata": {
    "execution": {
     "iopub.execute_input": "2023-08-30T20:25:41.416868Z",
     "iopub.status.busy": "2023-08-30T20:25:41.416601Z",
     "iopub.status.idle": "2023-08-30T20:25:41.521999Z",
     "shell.execute_reply": "2023-08-30T20:25:41.521397Z",
     "shell.execute_reply.started": "2023-08-30T20:25:41.416833Z"
    },
    "tags": []
   },
   "outputs": [],
   "source": [
    "# Get the NASDAQ Global Index data\n",
    "nasdaq_data = yahoofinance.get(tickers=RELATIVE_INDEX,\n",
    "                               date_from=date_from,\n",
    "                               date_to=date_to).dropna().reset_index(drop=True)\n",
    "\n",
    "# Calculate the relative strength\n",
    "df_yahoo['NASDAQ'] = nasdaq_data['Close']\n",
    "df_yahoo['RELATIVE_STRENGTH_BASE'] = (df_yahoo['CLOSE'] / nasdaq_data['Close']) \n",
    "# Calculate the relative strength percentage\n",
    "df_yahoo['RELATIVE_STRENGTH'] = df_yahoo['CLOSE'] * ( 1 - df_yahoo['RELATIVE_STRENGTH_BASE'])\n",
    "\n",
    "\n",
    "# Display dataframe\n",
    "df_yahoo.tail(5)"
   ]
  },
  {
   "cell_type": "markdown",
   "id": "qualified-abuse",
   "metadata": {
    "papermill": {},
    "tags": []
   },
   "source": [
    "### Create tracker data"
   ]
  },
  {
   "cell_type": "code",
   "execution_count": null,
   "id": "c687f056-3a57-4f9e-9bdd-c790ae55e0d9",
   "metadata": {
    "execution": {
     "iopub.execute_input": "2023-08-30T20:25:41.524703Z",
     "iopub.status.busy": "2023-08-30T20:25:41.524514Z",
     "iopub.status.idle": "2023-08-30T20:25:41.567239Z",
     "shell.execute_reply": "2023-08-30T20:25:41.566567Z",
     "shell.execute_reply.started": "2023-08-30T20:25:41.524682Z"
    },
    "papermill": {},
    "tags": []
   },
   "outputs": [],
   "source": [
    "def get_variation(df, TICKER):\n",
    "    df_yahoo = df.sort_values(\"DATE\", ascending=False).reset_index(drop=True)\n",
    "\n",
    "    # Get value and date comp\n",
    "    datanow = df_yahoo.loc[0, \"CLOSE\"]\n",
    "    date_now = df_yahoo.loc[0, \"DATE\"]\n",
    "    datayesterday = df_yahoo.loc[1, \"CLOSE\"]\n",
    "\n",
    "    # Calc variation in value and %\n",
    "    varv = datanow - datayesterday\n",
    "    varp = (varv / datanow) * 100\n",
    "\n",
    "    # Get min and max value\n",
    "    min_value = df_yahoo[\"CLOSE\"].min()\n",
    "    max_value = df_yahoo[\"CLOSE\"].max()\n",
    "    \n",
    "    # Calculate the score\n",
    "    score = 0 + ((10 - 0) * (datanow - min_value) / (max_value - min_value))\n",
    "\n",
    "    # Format result\n",
    "    datanow = \"${:,.2f}\".format(round(datanow, 1))\n",
    "    datayesterday = \"${:,.2f}\".format(round(datayesterday, 1))\n",
    "    varv = \"{:+,.2f}\".format(varv)\n",
    "    varp = \"{:+,.2%}\".format(varp / 100)  # dividing by 100 to undo the earlier multiplication by 100\n",
    "    min_value = \"${:,.2f}\".format(round(min_value, 1))\n",
    "    max_value = \"${:,.2f}\".format(round(max_value, 1))\n",
    "\n",
    "    # Create a DataFrame to hold the results\n",
    "    result_df = pd.DataFrame({\n",
    "        \"ENTITY\": \"Universal Tracker\",\n",
    "        \"SCENARIO\": [date_now],\n",
    "        \"INDICATOR\": [TICKER],\n",
    "        \"TYPE\": \"Financial\",\n",
    "        \"SOURCE\": \"Yahoo Finance\",\n",
    "        \"VALUE\": [datanow],\n",
    "        \"MIX\": [min_value],\n",
    "        \"MAX\": [max_value],\n",
    "        \"SCORE\": [round(score, 2)]\n",
    "    })\n",
    "\n",
    "    return result_df\n",
    "\n",
    "result_df = get_variation(df_yahoo, TICKER)\n",
    "result_df.to_csv(tracker_output)\n",
    "result_df"
   ]
  },
  {
   "cell_type": "markdown",
   "id": "9bf08bfc-bd3f-4d52-bacb-3a0e73ea4a21",
   "metadata": {
    "papermill": {},
    "tags": []
   },
   "source": [
    "### Add prediction"
   ]
  },
  {
   "cell_type": "code",
   "execution_count": null,
   "id": "inside-sponsorship",
   "metadata": {
    "execution": {
     "iopub.execute_input": "2023-08-30T20:25:41.568420Z",
     "iopub.status.busy": "2023-08-30T20:25:41.568164Z",
     "iopub.status.idle": "2023-08-30T20:25:44.355274Z",
     "shell.execute_reply": "2023-08-30T20:25:44.353985Z",
     "shell.execute_reply.started": "2023-08-30T20:25:41.568391Z"
    },
    "papermill": {},
    "tags": []
   },
   "outputs": [],
   "source": [
    "df_predict = prediction.get(dataset=df_yahoo,\n",
    "                            date_column='DATE',\n",
    "                            column=\"CLOSE\",\n",
    "                            data_points=DATA_POINT,\n",
    "                            prediction_type=\"all\").sort_values(\"DATE\", ascending=False).reset_index(drop=True)\n",
    "# Display dataframe\n",
    "df_predict.head(int(DATA_POINT)+5)"
   ]
  },
  {
   "cell_type": "code",
   "execution_count": null,
   "id": "ce1a932b-d8f7-44d5-ab4d-8e35ef4fc793",
   "metadata": {
    "execution": {
     "iopub.execute_input": "2023-08-30T20:25:44.356761Z",
     "iopub.status.busy": "2023-08-30T20:25:44.356488Z",
     "iopub.status.idle": "2023-08-30T20:25:44.444153Z",
     "shell.execute_reply": "2023-08-30T20:25:44.443413Z",
     "shell.execute_reply.started": "2023-08-30T20:25:44.356726Z"
    },
    "tags": []
   },
   "outputs": [],
   "source": [
    "# Create 'TOTAL_PREDICT' column\n",
    "df_predict['TOTAL_PREDICT'] = df_predict['LINEAR'].where(df_predict['LINEAR'].notna(), df_predict['CLOSE'])\n",
    "\n",
    "# Calculate the 20 and 50 day moving averages\n",
    "df_predict['MA05'] = df_predict['TOTAL_PREDICT'].rolling(window=5).mean()\n",
    "df_predict['MA10'] = df_predict['TOTAL_PREDICT'].rolling(window=10).mean()\n",
    "df_predict['MA50'] = df_predict['TOTAL_PREDICT'].rolling(window=50).mean()\n",
    "\n",
    "# Display dataframe\n",
    "df_predict.head()"
   ]
  },
  {
   "cell_type": "markdown",
   "id": "3eee5647-855f-4e84-826b-bcdee1578480",
   "metadata": {
    "execution": {
     "iopub.execute_input": "2023-08-27T11:59:10.938077Z",
     "iopub.status.busy": "2023-08-27T11:59:10.937851Z",
     "iopub.status.idle": "2023-08-27T11:59:10.940875Z",
     "shell.execute_reply": "2023-08-27T11:59:10.940219Z",
     "shell.execute_reply.started": "2023-08-27T11:59:10.938055Z"
    }
   },
   "source": [
    "### Get news data"
   ]
  },
  {
   "cell_type": "code",
   "execution_count": null,
   "id": "8e254938-3a10-4b2b-9c6c-c0b383dac379",
   "metadata": {
    "execution": {
     "iopub.execute_input": "2023-08-30T20:25:44.448849Z",
     "iopub.status.busy": "2023-08-30T20:25:44.447787Z",
     "iopub.status.idle": "2023-08-30T20:25:44.841327Z",
     "shell.execute_reply": "2023-08-30T20:25:44.840682Z",
     "shell.execute_reply.started": "2023-08-30T20:25:44.448809Z"
    },
    "tags": []
   },
   "outputs": [],
   "source": [
    "from naas_drivers import newsapi\n",
    "df = newsapi.connect().get(\n",
    "    f\"{NAME}\", fields=[\"date\",\"title\", \"image\", \"link\", \"description\"]\n",
    ")"
   ]
  },
  {
   "cell_type": "code",
   "execution_count": null,
   "id": "64df207d-7260-4fc4-9f21-e3dafc5ea8e3",
   "metadata": {
    "execution": {
     "iopub.execute_input": "2023-08-30T20:25:44.842529Z",
     "iopub.status.busy": "2023-08-30T20:25:44.842296Z",
     "iopub.status.idle": "2023-08-30T20:25:44.858092Z",
     "shell.execute_reply": "2023-08-30T20:25:44.857540Z",
     "shell.execute_reply.started": "2023-08-30T20:25:44.842500Z"
    },
    "tags": []
   },
   "outputs": [],
   "source": [
    "df['date'] = pd.to_datetime(df['date']).dt.date\n",
    "df = df.dropna()\n",
    "df"
   ]
  },
  {
   "cell_type": "markdown",
   "id": "88c3c0ad-76ef-465e-a422-3a6fb4a8db5f",
   "metadata": {},
   "source": [
    "### Analyze sentiment per news article"
   ]
  },
  {
   "cell_type": "code",
   "execution_count": null,
   "id": "a6207759-46cb-42dc-8ea7-032dd331d60d",
   "metadata": {
    "execution": {
     "iopub.execute_input": "2023-08-30T20:25:44.859402Z",
     "iopub.status.busy": "2023-08-30T20:25:44.859160Z",
     "iopub.status.idle": "2023-08-30T20:25:45.135307Z",
     "shell.execute_reply": "2023-08-30T20:25:45.134331Z",
     "shell.execute_reply.started": "2023-08-30T20:25:44.859373Z"
    },
    "tags": []
   },
   "outputs": [],
   "source": [
    "import pandas as pd\n",
    "import nltk\n",
    "from nltk.sentiment.vader import SentimentIntensityAnalyzer\n",
    "\n",
    "nltk.download('vader_lexicon')\n",
    "\n",
    "def analyze_sentiment(df, columns):\n",
    "    sid = SentimentIntensityAnalyzer()\n",
    "\n",
    "    for column in columns:\n",
    "        df[[f'{column}_neg', f'{column}_neu', f'{column}_pos', f'{column}_compound']] = df[column].apply(lambda x: pd.Series(sid.polarity_scores(x)))\n",
    "\n",
    "    return df\n",
    "\n",
    "# Test the function\n",
    "df = analyze_sentiment(df, ['title', 'description'])"
   ]
  },
  {
   "cell_type": "code",
   "execution_count": null,
   "id": "ee324c72-318d-4564-b779-418ea5e1db2f",
   "metadata": {
    "execution": {
     "iopub.execute_input": "2023-08-30T20:25:45.136617Z",
     "iopub.status.busy": "2023-08-30T20:25:45.136375Z",
     "iopub.status.idle": "2023-08-30T20:25:45.179226Z",
     "shell.execute_reply": "2023-08-30T20:25:45.178576Z",
     "shell.execute_reply.started": "2023-08-30T20:25:45.136585Z"
    },
    "tags": []
   },
   "outputs": [],
   "source": [
    "def calculate_sentiment(df, columns):\n",
    "    for column in columns:\n",
    "        # Calculate sums\n",
    "        neg = df[f'{column}_neg'].sum().round(2)\n",
    "        neu = df[f'{column}_neu'].sum().round(2)\n",
    "        pos = df[f'{column}_pos'].sum().round(2)\n",
    "        compound = df[f'{column}_compound'].sum().round(2)\n",
    "\n",
    "        # Calculate total\n",
    "        total = neg + neu + pos + compound\n",
    "\n",
    "        # Calculate percentages\n",
    "        neg_percent = (neg / total * 100).round(2)\n",
    "        neu_percent = (neu / total * 100).round(2)\n",
    "        pos_percent = (pos / total * 100).round(2)\n",
    "        compound_percent = (compound / total * 100).round(2)\n",
    "\n",
    "        # Append sums and percentages to df\n",
    "        df = df.append({f'{column}_neg': neg, f'{column}_neu': neu, f'{column}_pos': pos, f'{column}_compound': compound,\n",
    "                        f'{column}_neg_percent': neg_percent, f'{column}_neu_percent': neu_percent, \n",
    "                        f'{column}_pos_percent': pos_percent, f'{column}_compound_percent': compound_percent}, \n",
    "                       ignore_index=True)\n",
    "    return df\n",
    "\n",
    "# Test the function\n",
    "df = calculate_sentiment(df, ['title', 'description'])\n",
    "df"
   ]
  },
  {
   "cell_type": "code",
   "execution_count": null,
   "id": "3b85148b-ff42-4da1-a898-5114d3b5c925",
   "metadata": {
    "execution": {
     "iopub.execute_input": "2023-08-30T20:25:45.180644Z",
     "iopub.status.busy": "2023-08-30T20:25:45.180375Z",
     "iopub.status.idle": "2023-08-30T20:25:45.266764Z",
     "shell.execute_reply": "2023-08-30T20:25:45.266115Z",
     "shell.execute_reply.started": "2023-08-30T20:25:45.180611Z"
    },
    "tags": []
   },
   "outputs": [],
   "source": [
    "df['total_neg'] = df['title_neg'] + df['description_neg']  \n",
    "df['total_neu'] = df['title_neu'] + df['description_neu']  \n",
    "df['total_pos'] = df['title_pos'] + df['description_pos']  \n",
    "df['total_compound'] = df['title_compound'] + df['description_compound']  \n",
    "df"
   ]
  },
  {
   "cell_type": "markdown",
   "id": "a1a12593-464a-4ccd-a057-ab224d4e6c7a",
   "metadata": {
    "execution": {
     "iopub.execute_input": "2023-08-27T12:20:25.434767Z",
     "iopub.status.busy": "2023-08-27T12:20:25.434515Z",
     "iopub.status.idle": "2023-08-27T12:20:25.437528Z",
     "shell.execute_reply": "2023-08-27T12:20:25.436847Z",
     "shell.execute_reply.started": "2023-08-27T12:20:25.434723Z"
    }
   },
   "source": [
    "### Sum sentiment by category"
   ]
  },
  {
   "cell_type": "code",
   "execution_count": null,
   "id": "5ff7d6ad-3d36-499e-ab7c-56211cdc518f",
   "metadata": {
    "execution": {
     "iopub.execute_input": "2023-08-30T20:25:45.268267Z",
     "iopub.status.busy": "2023-08-30T20:25:45.267975Z",
     "iopub.status.idle": "2023-08-30T20:25:45.347338Z",
     "shell.execute_reply": "2023-08-30T20:25:45.346675Z",
     "shell.execute_reply.started": "2023-08-30T20:25:45.268231Z"
    },
    "tags": []
   },
   "outputs": [],
   "source": [
    "# Calculate sums for 'title' and 'description'\n",
    "title_neg = df.title_neg.sum().round(2)\n",
    "title_neu = df.title_neu.sum().round(2)\n",
    "title_pos = df.title_pos.sum().round(2)\n",
    "title_compound = df.title_compound.sum().round(2)\n",
    "\n",
    "desc_neg = df.description_neg.sum().round(2)\n",
    "desc_neu = df.description_neu.sum().round(2)\n",
    "desc_pos = df.description_pos.sum().round(2)\n",
    "desc_compound = df.description_compound.sum().round(2)\n",
    "\n",
    "# Calculate total sums\n",
    "total_neg = title_neg + desc_neg\n",
    "total_neu = title_neu + desc_neu\n",
    "total_pos = title_pos + desc_pos\n",
    "total_compound = title_compound + desc_compound\n",
    "\n",
    "# Calculate percentage contribution of each category\n",
    "neg_percent = (total_neg / (total_neg + total_neu + total_pos + total_compound) * 100).round(2)\n",
    "neu_percent = (total_neu / (total_neg + total_neu + total_pos + total_compound) * 100).round(2)\n",
    "pos_percent = (total_pos / (total_neg + total_neu + total_pos + total_compound) * 100).round(2)\n",
    "compound_percent = (total_compound / (total_neg + total_neu + total_pos + total_compound) * 100).round(2)\n",
    "\n",
    "# Preview of what will be sent by email:\n",
    "print(f\"Sum of news sentiment by category:\")\n",
    "print(\n",
    "    \"\\n\\t🔴 Negative \\t\",\n",
    "    total_neg,\n",
    "    f\"({neg_percent}%)\",\n",
    "    \"\\n\\t🟠 Neutral\\t\",\n",
    "    total_neu,\n",
    "    f\"({neu_percent}%)\",\n",
    "    \"\\n\\t🟢 Positive \\t\",\n",
    "    total_pos,\n",
    "    f\"({pos_percent}%)\",\n",
    "    \"\\n\\t🔵 Compound \\t\",\n",
    "    total_compound,\n",
    "    f\"({compound_percent}%)\",\n",
    ")\n"
   ]
  },
  {
   "cell_type": "code",
   "execution_count": null,
   "id": "13c64f1b-3509-4d06-bc3a-8d286a5c4d7b",
   "metadata": {
    "execution": {
     "iopub.execute_input": "2023-08-30T20:25:45.348656Z",
     "iopub.status.busy": "2023-08-30T20:25:45.348408Z",
     "iopub.status.idle": "2023-08-30T20:25:45.473489Z",
     "shell.execute_reply": "2023-08-30T20:25:45.472714Z",
     "shell.execute_reply.started": "2023-08-30T20:25:45.348624Z"
    },
    "tags": []
   },
   "outputs": [],
   "source": [
    "df.columns = df.columns.str.upper()\n",
    "df"
   ]
  },
  {
   "cell_type": "markdown",
   "id": "910b4869-0166-4f97-90f8-681cd74b2ac2",
   "metadata": {},
   "source": [
    "### Merge the stock and news dataframes"
   ]
  },
  {
   "cell_type": "code",
   "execution_count": null,
   "id": "fb447a67-df12-4f91-a9cc-36ca8bc78af1",
   "metadata": {
    "execution": {
     "iopub.execute_input": "2023-08-30T20:25:45.475076Z",
     "iopub.status.busy": "2023-08-30T20:25:45.474631Z",
     "iopub.status.idle": "2023-08-30T20:25:45.535217Z",
     "shell.execute_reply": "2023-08-30T20:25:45.534145Z",
     "shell.execute_reply.started": "2023-08-30T20:25:45.475037Z"
    },
    "tags": []
   },
   "outputs": [],
   "source": [
    "df['DATE'] = pd.to_datetime(df['DATE'])\n",
    "df_predict['DATE'] = pd.to_datetime(df_predict['DATE'])\n",
    "\n",
    "\n",
    "merged_df = pd.merge(df_predict, df, on='DATE', how='left')"
   ]
  },
  {
   "cell_type": "markdown",
   "id": "4c3b1e52-c5bc-4731-8cb7-444f9e2b12b6",
   "metadata": {
    "papermill": {},
    "tags": []
   },
   "source": [
    "### Save and share the dataframe in CSV"
   ]
  },
  {
   "cell_type": "code",
   "execution_count": null,
   "id": "8b232139-240f-4538-99d6-2ea557e5bffd",
   "metadata": {
    "execution": {
     "iopub.execute_input": "2023-08-30T20:25:45.536527Z",
     "iopub.status.busy": "2023-08-30T20:25:45.536277Z",
     "iopub.status.idle": "2023-08-30T20:25:46.071560Z",
     "shell.execute_reply": "2023-08-30T20:25:46.070880Z",
     "shell.execute_reply.started": "2023-08-30T20:25:45.536494Z"
    },
    "papermill": {},
    "tags": []
   },
   "outputs": [],
   "source": [
    "merged_df.to_csv(csv_output)\n",
    "\n",
    "link_csv = naas.asset.add(csv_output,override_prod=True)"
   ]
  },
  {
   "cell_type": "markdown",
   "id": "plastic-boards",
   "metadata": {
    "papermill": {},
    "tags": []
   },
   "source": [
    "### Plot linechart"
   ]
  },
  {
   "cell_type": "code",
   "execution_count": null,
   "id": "pursuant-toyota",
   "metadata": {
    "execution": {
     "iopub.execute_input": "2023-08-30T20:25:46.073042Z",
     "iopub.status.busy": "2023-08-30T20:25:46.072795Z",
     "iopub.status.idle": "2023-08-30T20:25:48.160506Z",
     "shell.execute_reply": "2023-08-30T20:25:48.159691Z",
     "shell.execute_reply.started": "2023-08-30T20:25:46.073010Z"
    },
    "papermill": {},
    "tags": []
   },
   "outputs": [],
   "source": [
    "fig = plotly.linechart(merged_df,\n",
    "                       x=\"DATE\",\n",
    "                       y=[\"CLOSE\", \"LINEAR\",\"RELATIVE_STRENGTH\", \"MA05\", \"MA10\", \"MA50\", \"MAX_ROLLING\", \"MIN_ROLLING\"],\n",
    "                       showlegend=True,\n",
    "                       title = f'''<b><span style='font-size: 20px;'>{NAME} Trends & Prediction +{str(DATA_POINT)} days</span></b>\n",
    "                       <br><span style='font-size: 10px;'><b>News Analysis:</b> 🔴 Negative: {total_neg} ({neg_percent}%), 🟠 Neutral: {total_neu} ({neu_percent}%), 🟢 Positive: {total_pos} ({pos_percent}%), 🔵 Compound: {total_compound} ({compound_percent}%)</span>\n",
    "                       '''\n",
    "                      )"
   ]
  },
  {
   "cell_type": "markdown",
   "id": "bf1abe19-800d-4e20-8285-074c8d14bc7f",
   "metadata": {
    "execution": {
     "iopub.execute_input": "2022-10-31T16:30:14.820922Z",
     "iopub.status.busy": "2022-10-31T16:30:14.820698Z",
     "iopub.status.idle": "2022-10-31T16:30:14.823778Z",
     "shell.execute_reply": "2022-10-31T16:30:14.823105Z",
     "shell.execute_reply.started": "2022-10-31T16:30:14.820899Z"
    }
   },
   "source": [
    "## Output"
   ]
  },
  {
   "cell_type": "markdown",
   "id": "ac151803-c0f8-4ada-b6d9-ce88c69f2ef3",
   "metadata": {
    "execution": {
     "iopub.execute_input": "2022-04-25T15:05:55.410069Z",
     "iopub.status.busy": "2022-04-25T15:05:55.409689Z",
     "iopub.status.idle": "2022-04-25T15:05:55.412745Z",
     "shell.execute_reply": "2022-04-25T15:05:55.412096Z",
     "shell.execute_reply.started": "2022-04-25T15:05:55.410037Z"
    },
    "papermill": {},
    "tags": []
   },
   "source": [
    "### Save and share your graph in PNG"
   ]
  },
  {
   "cell_type": "code",
   "execution_count": null,
   "id": "01bc374d-791e-4ab8-9f32-bc6785b60496",
   "metadata": {
    "execution": {
     "iopub.execute_input": "2023-08-30T20:25:48.162212Z",
     "iopub.status.busy": "2023-08-30T20:25:48.161903Z",
     "iopub.status.idle": "2023-08-30T20:25:50.745124Z",
     "shell.execute_reply": "2023-08-30T20:25:50.744204Z",
     "shell.execute_reply.started": "2023-08-30T20:25:48.162170Z"
    },
    "papermill": {},
    "tags": []
   },
   "outputs": [],
   "source": [
    "# Save your graph in PNG\n",
    "fig.write_image(image_output)\n",
    "\n",
    "# Share output with naas\n",
    "link_image = naas.asset.add(image_output,override_prod=True)\n",
    "\n",
    "#-> Uncomment the line below to remove your asset\n",
    "# naas.asset.delete(image_output)"
   ]
  },
  {
   "cell_type": "markdown",
   "id": "338e79f1-65ae-4a78-9cf0-475ca75b367e",
   "metadata": {
    "execution": {
     "iopub.execute_input": "2022-04-25T15:05:55.410069Z",
     "iopub.status.busy": "2022-04-25T15:05:55.409689Z",
     "iopub.status.idle": "2022-04-25T15:05:55.412745Z",
     "shell.execute_reply": "2022-04-25T15:05:55.412096Z",
     "shell.execute_reply.started": "2022-04-25T15:05:55.410037Z"
    },
    "papermill": {},
    "tags": []
   },
   "source": [
    "### Save and share your graph in HTML\n"
   ]
  },
  {
   "cell_type": "code",
   "execution_count": null,
   "id": "0bbeb746-bde6-49c3-87ed-d355d8baa49f",
   "metadata": {
    "execution": {
     "iopub.execute_input": "2023-08-30T20:25:50.749231Z",
     "iopub.status.busy": "2023-08-30T20:25:50.748974Z",
     "iopub.status.idle": "2023-08-30T20:25:51.501163Z",
     "shell.execute_reply": "2023-08-30T20:25:51.500484Z",
     "shell.execute_reply.started": "2023-08-30T20:25:50.749199Z"
    },
    "papermill": {},
    "tags": []
   },
   "outputs": [],
   "source": [
    "# Save your graph in HTML\n",
    "fig.write_html(html_output)\n",
    "\n",
    "# Share output with naas\n",
    "link_html = naas.asset.add(html_output, params={\"inline\": True},override_prod=True)\n",
    "\n",
    "#-> Uncomment the line below to remove your asset\n",
    "# naas.asset.delete(html_output)"
   ]
  },
  {
   "cell_type": "markdown",
   "id": "1e22cf27-14b4-467e-96ca-c56f33b54744",
   "metadata": {},
   "source": [
    "### Save assets to JSON "
   ]
  },
  {
   "cell_type": "code",
   "execution_count": null,
   "id": "01db0ead-4e5e-463d-aeb7-a8db1fd4b6a6",
   "metadata": {
    "execution": {
     "iopub.execute_input": "2023-08-30T20:25:51.502724Z",
     "iopub.status.busy": "2023-08-30T20:25:51.502473Z",
     "iopub.status.idle": "2023-08-30T20:25:51.532266Z",
     "shell.execute_reply": "2023-08-30T20:25:51.531677Z",
     "shell.execute_reply.started": "2023-08-30T20:25:51.502691Z"
    },
    "tags": []
   },
   "outputs": [],
   "source": [
    "json_assets = {\n",
    "    'link_image': link_image,\n",
    "    'link_html': link_html\n",
    "}\n",
    "\n",
    "with open(path.join(OUTPUTS_PATH,f\"{TICKER}_{NOW}.json\"),'w') as f:\n",
    "    json.dump(json_assets,f)"
   ]
  }
 ],
 "metadata": {
  "kernelspec": {
   "display_name": "Python 3",
   "language": "python",
   "name": "python3"
  },
  "language_info": {
   "codemirror_mode": {
    "name": "ipython",
    "version": 3
   },
   "file_extension": ".py",
   "mimetype": "text/x-python",
   "name": "python",
   "nbconvert_exporter": "python",
   "pygments_lexer": "ipython3",
   "version": "3.9.6"
  },
  "naas": {
   "notebook_id": "32f321ba-c5df-4e6a-9e67-e7eb95aa95c6",
   "notebook_path": "YahooFinance/YahooFinance_Send_daily_prediction_to_Email.ipynb"
  },
  "papermill": {
   "default_parameters": {},
   "environment_variables": {},
   "parameters": {},
   "version": "2.3.3"
  },
  "toc-autonumbering": false,
  "widgets": {
   "application/vnd.jupyter.widget-state+json": {
    "state": {},
    "version_major": 2,
    "version_minor": 0
   }
  }
 },
 "nbformat": 4,
 "nbformat_minor": 5
}
