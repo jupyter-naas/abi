{
 "cells": [
  {
   "cell_type": "markdown",
   "id": "encouraging-netherlands",
   "metadata": {
    "execution": {
     "iopub.execute_input": "2021-01-25T08:00:35.294800Z",
     "iopub.status.busy": "2021-01-25T08:00:35.294557Z",
     "iopub.status.idle": "2021-01-25T08:00:35.307281Z",
     "shell.execute_reply": "2021-01-25T08:00:35.306468Z",
     "shell.execute_reply.started": "2021-01-25T08:00:35.294775Z"
    },
    "papermill": {},
    "tags": []
   },
   "source": [
    "<img width=\"10%\" alt=\"Naas\" src=\"https://landen.imgix.net/jtci2pxwjczr/assets/5ice39g4.png?w=160\"/>"
   ]
  },
  {
   "cell_type": "markdown",
   "id": "suitable-timer",
   "metadata": {
    "papermill": {},
    "tags": []
   },
   "source": [
    "# Plugin"
   ]
  },
  {
   "cell_type": "markdown",
   "id": "naas-description",
   "metadata": {
    "papermill": {},
    "tags": [
     "description"
    ]
   },
   "source": [
    "**Description:** This notebook gets the list of LinkedIn profile that interacted with a post, determine if they fit the ICP using prompt engineering, and sends a report via email with a CTA that opens a Chat Agent to explore outreach possibilities."
   ]
  },
  {
   "cell_type": "markdown",
   "id": "progressive-measure",
   "metadata": {
    "papermill": {},
    "tags": []
   },
   "source": [
    "## Input"
   ]
  },
  {
   "cell_type": "markdown",
   "id": "import_cell",
   "metadata": {
    "papermill": {},
    "tags": []
   },
   "source": [
    "### Import libraries"
   ]
  },
  {
   "cell_type": "code",
   "execution_count": null,
   "id": "polish-singer",
   "metadata": {
    "execution": {
     "iopub.execute_input": "2023-08-30T23:18:04.188562Z",
     "iopub.status.busy": "2023-08-30T23:18:04.188328Z",
     "iopub.status.idle": "2023-08-30T23:18:06.239823Z",
     "shell.execute_reply": "2023-08-30T23:18:06.239180Z",
     "shell.execute_reply.started": "2023-08-30T23:18:04.188540Z"
    },
    "papermill": {},
    "tags": []
   },
   "outputs": [],
   "source": [
    "import os\n",
    "import json\n",
    "import pandas as pd\n",
    "\n",
    "import naas \n",
    "import naas_drivers\n",
    "import openai\n",
    "\n",
    "from naas_drivers import emailbuilder, linkedin\n",
    "from datetime import datetime, date\n",
    "import random\n",
    "import time\n",
    "from dateutil.parser import parse\n",
    "import matplotlib.pyplot as plt\n",
    "import plotly.graph_objects as go\n",
    "\n",
    "import plotly.io as pio\n",
    "try:\n",
    "    import tiktoken\n",
    "except:\n",
    "    !pip install tiktoken --user\n",
    "    import tiktoken"
   ]
  },
  {
   "cell_type": "markdown",
   "id": "preceding-differential",
   "metadata": {
    "papermill": {},
    "tags": []
   },
   "source": [
    "### Setup variables\n",
    "<a href='https://www.notion.so/LinkedIn-driver-Get-your-cookies-d20a8e7e508e42af8a5b52e33f3dba75'>How to get your cookies ?</a>"
   ]
  },
  {
   "cell_type": "code",
   "execution_count": null,
   "id": "analyzed-contributor",
   "metadata": {
    "execution": {
     "iopub.execute_input": "2023-08-30T23:18:06.242680Z",
     "iopub.status.busy": "2023-08-30T23:18:06.242496Z",
     "iopub.status.idle": "2023-08-30T23:18:06.374422Z",
     "shell.execute_reply": "2023-08-30T23:18:06.373580Z",
     "shell.execute_reply.started": "2023-08-30T23:18:06.242659Z"
    },
    "papermill": {},
    "tags": []
   },
   "outputs": [],
   "source": [
    "# Define scenario \n",
    "is_demo = True # Default to True\n",
    "\n",
    "# For Emails\n",
    "EMAIL_TO = \"jeremy@naas.ai\"  # you will receive weekly summary at this email\n",
    "EMAIL_FROM = None  # summary will have this email as sender. Only available for your naas email, otherwise you will receive this email from notification@naas.ai\n",
    "EMAIL_SUBJECT = (f\"🌍 Open Data Engine Demo - Email Update, {datetime.now().strftime('%Y-%m-%d %H:%M:%S')}\")\n",
    "DATE_FORMAT = \"%Y-%m-%d\"\n",
    "\n",
    "\n",
    "# For openAI API\n",
    "openai_api_key = naas.secret.get(\"OPENAI_API_KEY\")\n",
    "\n",
    "# For AI Chat Plugin\n",
    "plugin_name = \"🌍 Open Data Agent Demo\"\n",
    "plugin_model = \"gpt-3.5-turbo-16k\"\n",
    "plugin_temperature = 0\n",
    "plugin_max_tokens = 8192\n",
    "system_prompt_max_tokens = 2084\n",
    "\n",
    "# For Asset Generation\n",
    "output_dir = \"../outputs/\"\n",
    "csv_file_name = \"data.csv\"\n",
    "image_file_name = \"image.png\"\n",
    "plugin_file_name = \"plugin.json\""
   ]
  },
  {
   "cell_type": "markdown",
   "id": "looking-olympus",
   "metadata": {
    "papermill": {},
    "tags": []
   },
   "source": [
    "## Model"
   ]
  },
  {
   "cell_type": "markdown",
   "id": "7e1e53eb-5534-41db-933b-0882e35c0ffa",
   "metadata": {},
   "source": [
    "### Setup directories"
   ]
  },
  {
   "cell_type": "code",
   "execution_count": null,
   "id": "57674428-05d9-4409-bbe4-394bd865be1f",
   "metadata": {
    "execution": {
     "iopub.execute_input": "2023-08-30T23:18:06.376289Z",
     "iopub.status.busy": "2023-08-30T23:18:06.376028Z",
     "iopub.status.idle": "2023-08-30T23:18:06.388019Z",
     "shell.execute_reply": "2023-08-30T23:18:06.386901Z",
     "shell.execute_reply.started": "2023-08-30T23:18:06.376257Z"
    },
    "tags": []
   },
   "outputs": [],
   "source": [
    "# Check if directory exists and create it if not\n",
    "if not os.path.exists(output_dir):\n",
    "    os.makedirs(output_dir)\n",
    "    \n",
    "# Generate outputs files path\n",
    "csv_file_path = os.path.join(output_dir, csv_file_name)\n",
    "image_file_path = os.path.join(output_dir, image_file_name)\n",
    "plugin_file_path = os.path.join(output_dir, plugin_file_name)\n",
    "print('📂 CSV file path:', csv_file_path)\n",
    "print('📂 Image file path:', image_file_path)\n",
    "print('📂 Plugin file path:', plugin_file_path)"
   ]
  },
  {
   "cell_type": "markdown",
   "id": "12a0d4aa-2cde-49a3-979b-cb3801eb685a",
   "metadata": {
    "execution": {
     "iopub.execute_input": "2023-08-17T15:52:31.360781Z",
     "iopub.status.busy": "2023-08-17T15:52:31.360518Z",
     "iopub.status.idle": "2023-08-17T15:52:31.363929Z",
     "shell.execute_reply": "2023-08-17T15:52:31.363283Z",
     "shell.execute_reply.started": "2023-08-17T15:52:31.360716Z"
    }
   },
   "source": [
    "### Get or load data"
   ]
  },
  {
   "cell_type": "code",
   "execution_count": null,
   "id": "a850bf7a-dc75-488a-995d-6347e3878de4",
   "metadata": {
    "execution": {
     "iopub.execute_input": "2023-08-30T23:18:06.390140Z",
     "iopub.status.busy": "2023-08-30T23:18:06.389849Z",
     "iopub.status.idle": "2023-08-30T23:18:06.531826Z",
     "shell.execute_reply": "2023-08-30T23:18:06.531174Z",
     "shell.execute_reply.started": "2023-08-30T23:18:06.390107Z"
    },
    "tags": []
   },
   "outputs": [],
   "source": [
    "import os\n",
    "import glob\n",
    "import pandas as pd\n",
    "\n",
    "dir_path = '../outputs/'\n",
    "\n",
    "def get_or_load_data(dir_path):\n",
    "    # Initialize an empty DataFrame to hold the aggregated data\n",
    "    aggregated_df = pd.DataFrame()\n",
    "    \n",
    "    # Search for all files ending with '_tracker.csv' in the specified directory\n",
    "    csv_files = glob.glob(os.path.join(dir_path, '*_tracker.csv'))\n",
    "    \n",
    "    # Loop through the list of CSV files and read each one into a DataFrame\n",
    "    for csv_file_path in csv_files:\n",
    "        df = pd.read_csv(csv_file_path)\n",
    "        \n",
    "        # Concatenate the newly read DataFrame with the aggregated DataFrame\n",
    "        aggregated_df = pd.concat([aggregated_df, df], ignore_index=True)\n",
    "        \n",
    "    return aggregated_df\n",
    "\n",
    "# Example usage\n",
    "# dir_path should be the path to the directory containing your '_tracker.csv' files\n",
    "aggregated_df = get_or_load_data(dir_path)\n",
    "aggregated_df"
   ]
  },
  {
   "cell_type": "markdown",
   "id": "0be909a2-9888-4e2f-8a10-50db00533cd5",
   "metadata": {},
   "source": [
    "### Add weight column"
   ]
  },
  {
   "cell_type": "code",
   "execution_count": null,
   "id": "febcfa04-d198-4399-9d0a-e230b3e3db8e",
   "metadata": {
    "execution": {
     "iopub.execute_input": "2023-08-30T23:18:06.533283Z",
     "iopub.status.busy": "2023-08-30T23:18:06.533006Z",
     "iopub.status.idle": "2023-08-30T23:18:06.594665Z",
     "shell.execute_reply": "2023-08-30T23:18:06.593981Z",
     "shell.execute_reply.started": "2023-08-30T23:18:06.533246Z"
    },
    "tags": []
   },
   "outputs": [],
   "source": [
    "import pandas as pd\n",
    "\n",
    "def add_weight_column(df, ticker_weight_map):\n",
    "    \"\"\"\n",
    "    Add a new column 'WEIGHT' to the DataFrame based on a key-value array (dictionary) that maps 'TICKER' to 'WEIGHT'.\n",
    "    \n",
    "    Parameters:\n",
    "    - df: Pandas DataFrame containing a column named 'INDICATOR'\n",
    "    - ticker_weight_map: Dictionary mapping 'INDICATOR' to 'WEIGHT'\n",
    "    \n",
    "    Returns:\n",
    "    - Modified DataFrame with the new 'WEIGHT' column\n",
    "    \"\"\"\n",
    "    # Check if 'TICKER' column exists in the DataFrame\n",
    "    if 'INDICATOR' not in aggregated_df.columns:\n",
    "        print(\"Error: The DataFrame must contain a 'TICKER' column.\")\n",
    "        return df\n",
    "    \n",
    "    # Add the 'WEIGHT' column by mapping 'TICKER' values to their corresponding 'WEIGHT' values\n",
    "    aggregated_df['WEIGHT'] = aggregated_df['INDICATOR'].map(ticker_weight_map)\n",
    "    \n",
    "    # Handle rows where 'TICKER' was not found in the key-value array (dictionary)\n",
    "    aggregated_df['WEIGHT'].fillna('N/A', inplace=True)\n",
    "    \n",
    "    return df\n",
    "\n",
    "# Sample DataFrame\n",
    "data = aggregated_df\n",
    "\n",
    "# Sample key-value array (dictionary) mapping 'TICKER' to 'WEIGHT'\n",
    "ticker_weight_map = {'AAPL': 2, 'GOOGL': 3, 'AMZN': 4, 'MSFT': 1, 'META': 3}\n",
    "\n",
    "# Add 'WEIGHT' column to DataFrame\n",
    "df = add_weight_column(aggregated_df, ticker_weight_map)\n",
    "df"
   ]
  },
  {
   "cell_type": "markdown",
   "id": "dae083da-04b1-422c-92d3-f35b0d9f2ccd",
   "metadata": {},
   "source": [
    "### Compute Contribution"
   ]
  },
  {
   "cell_type": "code",
   "execution_count": null,
   "id": "2e2c4428-3aff-4fad-8ce7-389a30425138",
   "metadata": {
    "execution": {
     "iopub.execute_input": "2023-08-30T23:18:06.596142Z",
     "iopub.status.busy": "2023-08-30T23:18:06.595870Z",
     "iopub.status.idle": "2023-08-30T23:18:06.740880Z",
     "shell.execute_reply": "2023-08-30T23:18:06.740244Z",
     "shell.execute_reply.started": "2023-08-30T23:18:06.596107Z"
    },
    "tags": []
   },
   "outputs": [],
   "source": [
    "import pandas as pd\n",
    "\n",
    "# Get data\n",
    "data = df\n",
    "\n",
    "# Create a DataFrame\n",
    "df = pd.DataFrame(data)\n",
    "\n",
    "# Add the 'CONTRIBUTION' column by multiplying 'SCORE' and 'WEIGHT'\n",
    "df['CONTRIBUTION'] = df['SCORE'] * df['WEIGHT']\n",
    "\n",
    "# Display the DataFrame\n",
    "df"
   ]
  },
  {
   "cell_type": "code",
   "execution_count": null,
   "id": "5e992eae-4d0c-4b12-8855-b02aa145ce54",
   "metadata": {
    "execution": {
     "iopub.execute_input": "2023-08-30T23:18:10.114584Z",
     "iopub.status.busy": "2023-08-30T23:18:10.114337Z",
     "iopub.status.idle": "2023-08-30T23:18:10.145882Z",
     "shell.execute_reply": "2023-08-30T23:18:10.145246Z",
     "shell.execute_reply.started": "2023-08-30T23:18:10.114558Z"
    },
    "tags": []
   },
   "outputs": [],
   "source": [
    "import pandas as pd\n",
    "\n",
    "def add_uwt_row(df):\n",
    "    \"\"\"\n",
    "    Add a new row for each unique value in the 'SCENARIO' column.\n",
    "    The new row will have 'INDICATOR' set to 'UWT' and other columns aggregated or set to specific values.\n",
    "    \n",
    "    Parameters:\n",
    "    - df: Pandas DataFrame\n",
    "    \n",
    "    Returns:\n",
    "    - Modified DataFrame with the new rows\n",
    "    \"\"\"\n",
    "    # Group by 'SCENARIO' and calculate the sum of 'CONTRIBUTION'\n",
    "    grouped_df = df.groupby('SCENARIO').agg({'CONTRIBUTION': 'sum'}).reset_index() \n",
    "    \n",
    "    #Divide the sum of 'CONTRIBUTION' by 7\n",
    "   # grouped_df['CONTRIBUTION'] = grouped_df['CONTRIBUTION'] / 5\n",
    "    \n",
    "    # Create new rows with 'INDICATOR' set to 'UWT' and 'CONTRIBUTION' set to the sum for each 'SCENARIO'\n",
    "    new_rows = grouped_df.copy()\n",
    "    new_rows['INDICATOR'] = 'UWT'\n",
    "    \n",
    "    # Optionally, set other columns to specific values or aggregations\n",
    "    new_rows['ENTITY'] = 'N/A'\n",
    "    new_rows['TYPE'] = 'Aggregated'\n",
    "    new_rows['SOURCE'] = 'Calculated'\n",
    "    new_rows['VALUE'] = 'N/A'\n",
    "    new_rows['MIX'] = 'N/A'\n",
    "    new_rows['MAX'] = 'N/A'\n",
    "    new_rows['SCORE'] = 'N/A'\n",
    "    new_rows['WEIGHT'] = 'N/A'\n",
    "    \n",
    "    # Append the new rows to the original DataFrame\n",
    "    df = pd.concat([df, new_rows], ignore_index=True)\n",
    "    \n",
    "    return df\n",
    "\n",
    "# Sample DataFrame\n",
    "data = {\n",
    "    'ENTITY': [0, 0, 0, 0, 0],\n",
    "    'SCENARIO': ['Universal Tracker'] * 5,\n",
    "    'INDICATOR': ['GOOGL', 'MSFT', 'AMZN', 'AAPL', 'META'],\n",
    "    'TYPE': ['Financial'] * 5,\n",
    "    'SOURCE': ['Yahoo Finance'] * 5,\n",
    "    'VALUE': ['$135.90', '$328.80', '$135.10', '$187.60', '$295.10'],\n",
    "    'MIX': ['$86.00', '$222.30', '$81.80', '$125.00', '$113.90'],\n",
    "    'MAX': ['$135.90', '$359.50', '$142.20', '$196.40', '$325.50'],\n",
    "    'SCORE': [10.00, 7.76, 8.82, 8.77, 8.56],\n",
    "    'WEIGHT': [3, 1, 4, 2, 3],\n",
    "    'CONTRIBUTION': [30.00, 7.76, 35.28, 17.54, 25.68]\n",
    "}\n",
    "\n",
    "df = pd.DataFrame(data)\n",
    "\n",
    "# Add 'UWT' rows to DataFrame\n",
    "df = add_uwt_row(df)\n",
    "\n",
    "# Display the modified DataFrame\n",
    "df"
   ]
  },
  {
   "cell_type": "markdown",
   "id": "79c01a6f-1c57-49b1-8705-26cf5fbe636a",
   "metadata": {},
   "source": [
    "### Create chart"
   ]
  },
  {
   "cell_type": "code",
   "execution_count": null,
   "id": "88d626c4-5f6d-40c8-9254-7d894573392f",
   "metadata": {
    "execution": {
     "iopub.execute_input": "2023-08-30T23:19:28.930465Z",
     "iopub.status.busy": "2023-08-30T23:19:28.930228Z",
     "iopub.status.idle": "2023-08-30T23:19:28.951669Z",
     "shell.execute_reply": "2023-08-30T23:19:28.951131Z",
     "shell.execute_reply.started": "2023-08-30T23:19:28.930441Z"
    },
    "tags": []
   },
   "outputs": [],
   "source": [
    "def create_vertical_barchart(df,\n",
    "                               label=\"INDICATOR\",\n",
    "                               value=\"SCORE\",\n",
    "                               value_d=\"SCORE\"):\n",
    "    # Init\n",
    "    fig = go.Figure()\n",
    "    \n",
    "    # Return empty fig if dataframe is empty\n",
    "    if len(df) == 0:\n",
    "        return fig\n",
    "    \n",
    "    # Create fig\n",
    "    fig.add_trace(\n",
    "        go.Bar(\n",
    "            y=df[value],\n",
    "            x=df[label],\n",
    "            textposition=\"outside\",\n",
    "            marker=dict(color=\"#0f93d2\"),\n",
    "            orientation=\"v\"\n",
    "        )\n",
    "    )\n",
    "    \n",
    "    # Add logo\n",
    "    fig.add_layout_image(\n",
    "        dict(\n",
    "            #source=\"logo.png\",\n",
    "            xref=\"paper\",\n",
    "            yref=\"paper\",\n",
    "            x=0.28,\n",
    "            y=.035,\n",
    "            sizex=0.15,\n",
    "            sizey=0.15,\n",
    "            xanchor=\"right\",\n",
    "            yanchor=\"bottom\"\n",
    "        )\n",
    "    )\n",
    "    \n",
    "    fig.update_traces(showlegend=False)\n",
    "    \n",
    "    # Plotly: Create title\n",
    "    title = f\"<b><span style='font-size: 20px;'>Daily Score per Indicator</span></b>\"\n",
    "    fig.update_layout(\n",
    "        title=title,\n",
    "        #title_x=0.09,\n",
    "        title_font=dict(family=\"Arial\", color=\"black\"),\n",
    "        paper_bgcolor=\"#ffffff\",\n",
    "        plot_bgcolor=\"#ffffff\",\n",
    "        width=1200,\n",
    "        height=600,\n",
    "        #margin_pad=10,\n",
    "        #margin_r=10,\n",
    "        #margin_l=10,\n",
    "    )\n",
    "    \n",
    "    fig.update_xaxes(showticklabels=True)\n",
    "    \n",
    "    return fig\n",
    "\n",
    "create_vertical_barchart(df)"
   ]
  },
  {
   "cell_type": "markdown",
   "id": "75d1467a-a488-465c-8e6e-69af5f4e3785",
   "metadata": {},
   "source": [
    "### Create asset from chart"
   ]
  },
  {
   "cell_type": "code",
   "execution_count": null,
   "id": "aa237d81-8d87-4bad-9680-07a976dfd448",
   "metadata": {
    "execution": {
     "iopub.execute_input": "2023-08-30T23:19:44.504298Z",
     "iopub.status.busy": "2023-08-30T23:19:44.504030Z",
     "iopub.status.idle": "2023-08-30T23:19:45.869499Z",
     "shell.execute_reply": "2023-08-30T23:19:45.868746Z",
     "shell.execute_reply.started": "2023-08-30T23:19:44.504272Z"
    },
    "tags": []
   },
   "outputs": [],
   "source": [
    "# Create the chart\n",
    "chart = create_vertical_barchart(df)\n",
    "\n",
    "# Save as PNG\n",
    "pio.write_image(chart, image_file_path)\n",
    "\n",
    "#graph_url = naas.asset.add(\"chart.html\", {\"inline\": True})\n",
    "graph_image = naas.asset.add(image_file_path)"
   ]
  },
  {
   "cell_type": "markdown",
   "id": "b40bfbcd-c049-4186-abb9-6800f4d44c48",
   "metadata": {
    "execution": {
     "iopub.execute_input": "2023-08-14T13:31:30.419083Z",
     "iopub.status.busy": "2023-08-14T13:31:30.418845Z",
     "iopub.status.idle": "2023-08-14T13:31:30.422092Z",
     "shell.execute_reply": "2023-08-14T13:31:30.421386Z",
     "shell.execute_reply.started": "2023-08-14T13:31:30.419061Z"
    }
   },
   "source": [
    "### Set email parameters"
   ]
  },
  {
   "cell_type": "code",
   "execution_count": null,
   "id": "176ab517-4aa4-4ed5-b8b9-ad89866534b2",
   "metadata": {
    "execution": {
     "iopub.execute_input": "2023-08-30T23:23:14.535751Z",
     "iopub.status.busy": "2023-08-30T23:23:14.535519Z",
     "iopub.status.idle": "2023-08-30T23:23:14.540157Z",
     "shell.execute_reply": "2023-08-30T23:23:14.539470Z",
     "shell.execute_reply.started": "2023-08-30T23:23:14.535727Z"
    },
    "tags": []
   },
   "outputs": [],
   "source": [
    "today = datetime.now().strftime(DATE_FORMAT)\n",
    "today"
   ]
  },
  {
   "cell_type": "markdown",
   "id": "195d8511-3772-412b-9d1e-bddc8275fc11",
   "metadata": {},
   "source": [
    "### Create Naas Chat plugin"
   ]
  },
  {
   "cell_type": "code",
   "execution_count": null,
   "id": "2811604e-a7fe-4f9f-870f-d16a0dee6d21",
   "metadata": {
    "execution": {
     "iopub.execute_input": "2023-08-30T23:23:15.058144Z",
     "iopub.status.busy": "2023-08-30T23:23:15.057906Z",
     "iopub.status.idle": "2023-08-30T23:23:15.067943Z",
     "shell.execute_reply": "2023-08-30T23:23:15.067149Z",
     "shell.execute_reply.started": "2023-08-30T23:23:15.058120Z"
    },
    "tags": []
   },
   "outputs": [],
   "source": [
    "system_prompt = f\"\"\"Act as a Open Data Agent who has access to a list of indicators from financial, extra-financial data and alternative data.\n",
    "Your role is to help people follow the portfolio of indicators that makes sense for them.\n",
    "The first message should be about presenting yourself with a maximum of 5 bullet points and displaying the current content analytics data to be displayed as an image inside the markdown of the chat:{graph_image}.\n",
    "Then, wait for the first answer from the user, and then start with the first high-level analysis.\n",
    "Here is the data from the content analytics that you should focus on: {df}\n",
    "\"\"\""
   ]
  },
  {
   "cell_type": "markdown",
   "id": "1c3ef391-4017-4d32-bbbf-e6f03ce68f9d",
   "metadata": {
    "execution": {
     "iopub.execute_input": "2023-08-11T08:57:02.873145Z",
     "iopub.status.busy": "2023-08-11T08:57:02.872902Z",
     "iopub.status.idle": "2023-08-11T08:57:02.875911Z",
     "shell.execute_reply": "2023-08-11T08:57:02.875189Z",
     "shell.execute_reply.started": "2023-08-11T08:57:02.873120Z"
    }
   },
   "source": [
    "### Check token count "
   ]
  },
  {
   "cell_type": "code",
   "execution_count": null,
   "id": "fb68a86a-0033-4ab6-a6ef-f5955d1675a1",
   "metadata": {
    "execution": {
     "iopub.execute_input": "2023-08-30T23:23:15.298152Z",
     "iopub.status.busy": "2023-08-30T23:23:15.297966Z",
     "iopub.status.idle": "2023-08-30T23:23:15.750188Z",
     "shell.execute_reply": "2023-08-30T23:23:15.749094Z",
     "shell.execute_reply.started": "2023-08-30T23:23:15.298131Z"
    },
    "tags": []
   },
   "outputs": [],
   "source": [
    "def num_tokens_from_string(string: str, encoding_name: str) -> int:\n",
    "    \"\"\"Returns the number of tokens in a text string.\"\"\"\n",
    "    encoding = tiktoken.get_encoding(encoding_name)\n",
    "    num_tokens = len(encoding.encode(string))\n",
    "    return num_tokens\n",
    "\n",
    "system_prompt_tokens = num_tokens_from_string(system_prompt, \"cl100k_base\")\n",
    "if system_prompt_tokens > system_prompt_max_tokens:\n",
    "    print(\"⚠️ Be carefull, your system prompt looks too big. Tokens:\", system_prompt_tokens)\n",
    "else:\n",
    "    print(\"✅ System prompt tokens count OK:\", system_prompt_tokens)"
   ]
  },
  {
   "cell_type": "markdown",
   "id": "1551d8c0-10e6-413e-a47e-93ac7109509c",
   "metadata": {},
   "source": [
    "### Generate plugin"
   ]
  },
  {
   "cell_type": "code",
   "execution_count": null,
   "id": "800b0559-dbcb-47cc-944d-621a06bb638d",
   "metadata": {
    "execution": {
     "iopub.execute_input": "2023-08-30T23:23:15.751928Z",
     "iopub.status.busy": "2023-08-30T23:23:15.751665Z",
     "iopub.status.idle": "2023-08-30T23:23:16.152442Z",
     "shell.execute_reply": "2023-08-30T23:23:16.151694Z",
     "shell.execute_reply.started": "2023-08-30T23:23:15.751896Z"
    },
    "tags": []
   },
   "outputs": [],
   "source": [
    "# Create json\n",
    "plugin = {\n",
    "    \"name\": plugin_name,\n",
    "    \"model\": plugin_model,\n",
    "    \"temperature\": plugin_temperature,\n",
    "    \"max_tokens\": plugin_max_tokens,\n",
    "    \"prompt\": system_prompt,\n",
    "}\n",
    "\n",
    "# Save dict to JSON file\n",
    "with open(plugin_file_path, \"w\") as f:\n",
    "    json.dump(plugin, f)\n",
    "print(\"💾 Plugin successfully saved:\")\n",
    "\n",
    "plugin = naas.asset.add(plugin_file_path, params={\"inline\": True})"
   ]
  },
  {
   "cell_type": "markdown",
   "id": "c4c038a4-2e52-46a7-9771-817095d13d4c",
   "metadata": {
    "execution": {
     "iopub.execute_input": "2023-08-11T17:00:17.689863Z",
     "iopub.status.busy": "2023-08-11T17:00:17.689593Z",
     "iopub.status.idle": "2023-08-11T17:00:17.692835Z",
     "shell.execute_reply": "2023-08-11T17:00:17.692124Z",
     "shell.execute_reply.started": "2023-08-11T17:00:17.689840Z"
    }
   },
   "source": [
    "### Generate email content"
   ]
  },
  {
   "cell_type": "code",
   "execution_count": null,
   "id": "784ee008-76bd-483f-afcf-0840807b6537",
   "metadata": {
    "execution": {
     "iopub.execute_input": "2023-08-30T23:23:16.154137Z",
     "iopub.status.busy": "2023-08-30T23:23:16.153885Z",
     "iopub.status.idle": "2023-08-30T23:23:16.158017Z",
     "shell.execute_reply": "2023-08-30T23:23:16.157335Z",
     "shell.execute_reply.started": "2023-08-30T23:23:16.154103Z"
    },
    "tags": []
   },
   "outputs": [],
   "source": [
    "def format_number(num):\n",
    "    NUMBER_FORMAT = \"{:,.0f}\"\n",
    "    num = str(NUMBER_FORMAT.format(num)).replace(\",\", \" \")\n",
    "    return num"
   ]
  },
  {
   "cell_type": "code",
   "execution_count": null,
   "id": "filled-fellow",
   "metadata": {
    "execution": {
     "iopub.execute_input": "2023-08-30T23:23:29.910261Z",
     "iopub.status.busy": "2023-08-30T23:23:29.909932Z",
     "iopub.status.idle": "2023-08-30T23:23:29.925365Z",
     "shell.execute_reply": "2023-08-30T23:23:29.924647Z",
     "shell.execute_reply.started": "2023-08-30T23:23:29.910224Z"
    },
    "papermill": {},
    "tags": []
   },
   "outputs": [],
   "source": [
    "def email_brief(\n",
    "    today,\n",
    "):\n",
    "    content = {\n",
    "        'title': (\"🌍 Open Data Engine - Email Update\"),\n",
    "        'heading': (f\"Date:{today}\"),\n",
    "        \"txt_intro\": (\n",
    "            f\"Hi there,<br><br>\" f\"Here is your open data engine email as of {today}.\"\n",
    "        ),\n",
    "        \"title_1\": emailbuilder.text(\n",
    "            \"Overview\", font_size=\"27px\", text_align=\"center\", bold=True\n",
    "        ),\n",
    "        \"text_1\": emailbuilder.text(\n",
    "            f\"Your indicators has been performing as follows today:\"\n",
    "        ),\n",
    "        \"image_1\": emailbuilder.image(graph_image),\n",
    "        \"button_1\": emailbuilder.button(\n",
    "            link=(f\"https://naas.ai/chat/use?plugin_url={plugin}\"),\n",
    "            text=\"Start Chatting With Agent\",\n",
    "            background_color=\"#181a1c\",\n",
    "        ),\n",
    "        \"footer_cs\": emailbuilder.footer_company(naas=True),\n",
    "    }\n",
    "\n",
    "    email_content = emailbuilder.generate(display=\"iframe\", **content)\n",
    "    return email_content\n",
    "\n",
    "\n",
    "email_content = email_brief(\n",
    "    today,\n",
    ")"
   ]
  },
  {
   "cell_type": "markdown",
   "id": "af242dc2-a6a5-48a6-a661-1b335e2b2895",
   "metadata": {
    "execution": {
     "iopub.execute_input": "2022-04-12T14:42:10.762125Z",
     "iopub.status.busy": "2022-04-12T14:42:10.761884Z",
     "iopub.status.idle": "2022-04-12T14:42:10.764880Z",
     "shell.execute_reply": "2022-04-12T14:42:10.764227Z",
     "shell.execute_reply.started": "2022-04-12T14:42:10.762100Z"
    },
    "papermill": {},
    "tags": []
   },
   "source": [
    "## Output"
   ]
  },
  {
   "cell_type": "markdown",
   "id": "9380a8fc-a375-4a3f-8b4e-7a778d3b384b",
   "metadata": {
    "papermill": {},
    "tags": []
   },
   "source": [
    "### Send email notification"
   ]
  },
  {
   "cell_type": "code",
   "execution_count": null,
   "id": "7fa2f952-f0a3-4835-a668-0a08657fcc93",
   "metadata": {
    "execution": {
     "iopub.execute_input": "2023-08-30T23:24:56.690746Z",
     "iopub.status.busy": "2023-08-30T23:24:56.690391Z",
     "iopub.status.idle": "2023-08-30T23:24:59.992908Z",
     "shell.execute_reply": "2023-08-30T23:24:59.991743Z",
     "shell.execute_reply.started": "2023-08-30T23:24:56.690710Z"
    },
    "papermill": {},
    "tags": []
   },
   "outputs": [],
   "source": [
    "# sends the email\n",
    "naas.notification.send(\n",
    "    email_to=EMAIL_TO, subject=EMAIL_SUBJECT, html=email_content, email_from=EMAIL_FROM\n",
    ")"
   ]
  },
  {
   "cell_type": "code",
   "execution_count": null,
   "id": "74fba5df-206e-4d0e-b831-2de0e35209c2",
   "metadata": {},
   "outputs": [],
   "source": []
  }
 ],
 "metadata": {
  "kernelspec": {
   "display_name": "Python 3",
   "language": "python",
   "name": "python3"
  },
  "language_info": {
   "codemirror_mode": {
    "name": "ipython",
    "version": 3
   },
   "file_extension": ".py",
   "mimetype": "text/x-python",
   "name": "python",
   "nbconvert_exporter": "python",
   "pygments_lexer": "ipython3",
   "version": "3.9.6"
  },
  "naas": {
   "notebook_id": "f4b40da212ddcec161cf5ee03acc8fc0ef067e2d7a6994aac0f9baa88261a3aa",
   "notebook_path": "LinkedIn/LinkedIn_Get_likes_from_post.ipynb"
  },
  "papermill": {
   "default_parameters": {},
   "environment_variables": {},
   "parameters": {},
   "version": "2.3.3"
  },
  "widgets": {
   "application/vnd.jupyter.widget-state+json": {
    "state": {},
    "version_major": 2,
    "version_minor": 0
   }
  }
 },
 "nbformat": 4,
 "nbformat_minor": 5
}
