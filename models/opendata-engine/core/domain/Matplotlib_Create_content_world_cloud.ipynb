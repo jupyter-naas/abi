{
 "cells": [
  {
   "cell_type": "markdown",
   "id": "e46cda1e",
   "metadata": {
    "papermill": {},
    "tags": []
   },
   "source": [
    "<img width=\"8%\" alt=\"Matplotlib.png\" src=\"https://raw.githubusercontent.com/jupyter-naas/awesome-notebooks/master/.github/assets/logos/Matplotlib.png\" style=\"border-radius: 15%\">"
   ]
  },
  {
   "cell_type": "markdown",
   "id": "b0d4ced6",
   "metadata": {
    "papermill": {},
    "tags": []
   },
   "source": [
    "# Matplotlib - Create content world cloud"
   ]
  },
  {
   "cell_type": "markdown",
   "id": "06cb7cb7",
   "metadata": {
    "papermill": {},
    "tags": []
   },
   "source": [
    "**Tags:** #linkedin #worldcloud #content #analytics #dependency"
   ]
  },
  {
   "cell_type": "markdown",
   "id": "c64eee3c",
   "metadata": {
    "papermill": {},
    "tags": []
   },
   "source": [
    "**Author:** [Florent Ravenel](https://www.linkedin.com/in/florent-ravenel/)"
   ]
  },
  {
   "cell_type": "markdown",
   "id": "694879b8-e278-423d-bc29-2373efbff404",
   "metadata": {
    "papermill": {},
    "tags": []
   },
   "source": [
    "**Description:** This notebook demonstrates how to create a word cloud using Matplotlib. It provides a step-by-step guide on how to generate a word cloud from a given text data, which is a popular way to visualize high-frequency words in a dataset. The result is a word cloud image that visualizes the frequency of words in the given text data. The size of each word in the image corresponds to its frequency in the text data."
   ]
  },
  {
   "cell_type": "markdown",
   "id": "f65cd676",
   "metadata": {
    "papermill": {},
    "tags": []
   },
   "source": [
    "## Input"
   ]
  },
  {
   "cell_type": "markdown",
   "id": "428474ab",
   "metadata": {
    "papermill": {},
    "tags": []
   },
   "source": [
    "### Import libraries"
   ]
  },
  {
   "cell_type": "code",
   "execution_count": null,
   "id": "6214ae90",
   "metadata": {
    "papermill": {},
    "tags": []
   },
   "outputs": [],
   "source": [
    "try:\n",
    "    from wordcloud import WordCloud\n",
    "except:\n",
    "    !pip install wordcloud --user\n",
    "    from wordcloud import WordCloud\n",
    "import matplotlib.pyplot as plt\n",
    "import pandas as pd\n",
    "import os\n",
    "from datetime import date, datetime, timedelta\n",
    "import naas_data_product\n",
    "from naas_drivers import gsheet"
   ]
  },
  {
   "cell_type": "markdown",
   "id": "b4c94227-a6d1-41ac-9126-a84bced89012",
   "metadata": {
    "papermill": {},
    "tags": []
   },
   "source": [
    "### Setup variables\n",
    "**Inputs**\n",
    "- `entity_dir`: Entity directory.\n",
    "- `entity_name`: Entity name.\n",
    "- `input_dir`: Input directory to retrieve file from.\n",
    "- `input_file`: Input file.\n",
    "- `spreadsheet_url`: Google Sheets spreadsheet URL.\n",
    "- `sheet_name`: Google Sheets sheet name.\n",
    "- `title`: Graph title.\n",
    "\n",
    "**Outputs**\n",
    "- `output_dir`: This variable is used for storing the path to the directory where the output files will be saved."
   ]
  },
  {
   "cell_type": "code",
   "execution_count": null,
   "id": "190b8d21",
   "metadata": {
    "papermill": {},
    "tags": []
   },
   "outputs": [],
   "source": [
    "# Inputs\n",
    "entity_dir = pload(os.path.join(naas_data_product.OUTPUTS_PATH, \"entities\", \"0\"), \"entity_dir\")\n",
    "entity_name = pload(os.path.join(naas_data_product.OUTPUTS_PATH, \"entities\", \"0\"), \"entity_name\")\n",
    "input_dir = os.path.join(entity_dir, \"opendata-engine\", date.today().isoformat())\n",
    "input_file = \"opendata\"\n",
    "spreadsheet_url = pload(os.path.join(naas_data_product.OUTPUTS_PATH, \"entities\", \"0\"), \"abi_spreadsheet\")\n",
    "sheet_name = \"EVENTS\"\n",
    "column_text = \"CONTENT\"\n",
    "\n",
    "# Outputs\n",
    "output_dir = os.path.join(entity_dir, \"opendata-engine\", date.today().isoformat())\n",
    "os.makedirs(output_dir, exist_ok=True)\n",
    "output_name = \"opendata_worldcloud\""
   ]
  },
  {
   "cell_type": "markdown",
   "id": "b3566c94",
   "metadata": {
    "papermill": {},
    "tags": []
   },
   "source": [
    "## Model"
   ]
  },
  {
   "cell_type": "markdown",
   "id": "294a8bb7-84cf-4767-8398-dc1e1bad046c",
   "metadata": {},
   "source": [
    "### Set outputs"
   ]
  },
  {
   "cell_type": "code",
   "execution_count": null,
   "id": "c60b9e8b-78b3-4b3e-8004-ba8d0b2721d7",
   "metadata": {
    "tags": []
   },
   "outputs": [],
   "source": [
    "image_output = os.path.join(output_dir, f\"{output_name}.png\")"
   ]
  },
  {
   "cell_type": "markdown",
   "id": "ba2000df",
   "metadata": {
    "papermill": {},
    "tags": []
   },
   "source": [
    "### Get data from spreadsheet"
   ]
  },
  {
   "cell_type": "code",
   "execution_count": null,
   "id": "13a489d5",
   "metadata": {
    "papermill": {},
    "tags": []
   },
   "outputs": [],
   "source": [
    "df_init = gsheet.connect(spreadsheet_url).get(sheet_name=sheet_name)\n",
    "print(\"- Data fetched:\", len(df_init))\n",
    "df_init.head(1)"
   ]
  },
  {
   "cell_type": "markdown",
   "id": "7456a048",
   "metadata": {
    "papermill": {},
    "tags": []
   },
   "source": [
    "### Extract text from CONTENT"
   ]
  },
  {
   "cell_type": "code",
   "execution_count": null,
   "id": "22b41e65",
   "metadata": {
    "papermill": {},
    "tags": []
   },
   "outputs": [],
   "source": [
    "# Creating the text variable\n",
    "text = \" \".join(text for text in df_init.astype(str)[column_text])\n",
    "# text"
   ]
  },
  {
   "cell_type": "markdown",
   "id": "4d76ebbf-beae-4671-960c-3950cec63400",
   "metadata": {},
   "source": [
    "### Create worldcloud"
   ]
  },
  {
   "cell_type": "code",
   "execution_count": null,
   "id": "c21e9add-8dab-4030-b3dd-d2d13f2c3ccd",
   "metadata": {
    "papermill": {},
    "tags": []
   },
   "outputs": [],
   "source": [
    "# Creating word_cloud with text as argument in .generate() method\n",
    "wordcloud = WordCloud(\n",
    "    collocations=False,\n",
    "    background_color=\"white\",\n",
    "    width=1200,\n",
    "    height=600\n",
    ").generate(remove_emojis(text))\n",
    "\n",
    "# Display the generated image\n",
    "plt.imshow(wordcloud, interpolation=\"bilinear\")\n",
    "plt.axis(\"off\")\n",
    "plt.show()"
   ]
  },
  {
   "cell_type": "markdown",
   "id": "c8083216",
   "metadata": {
    "papermill": {},
    "tags": []
   },
   "source": [
    "## Output"
   ]
  },
  {
   "cell_type": "markdown",
   "id": "91a987c6",
   "metadata": {
    "papermill": {},
    "tags": []
   },
   "source": [
    "### Save and share your graph in image\n"
   ]
  },
  {
   "cell_type": "code",
   "execution_count": null,
   "id": "8342abf9",
   "metadata": {
    "papermill": {},
    "tags": []
   },
   "outputs": [],
   "source": [
    "# Save your image in PNG\n",
    "wordcloud.to_file(image_output)\n",
    "\n",
    "# Share output with naas\n",
    "naas.asset.add(image_output)\n",
    "\n",
    "# -> Uncomment the line below to remove your asset\n",
    "# naas.asset.delete(image_output)"
   ]
  },
  {
   "cell_type": "code",
   "execution_count": null,
   "id": "9cbe797a-0ec7-4abe-acc6-db5e7ad189fb",
   "metadata": {},
   "outputs": [],
   "source": []
  }
 ],
 "metadata": {
  "kernelspec": {
   "display_name": "Python 3",
   "language": "python",
   "name": "python3"
  },
  "language_info": {
   "codemirror_mode": {
    "name": "ipython",
    "version": 3
   },
   "file_extension": ".py",
   "mimetype": "text/x-python",
   "name": "python",
   "nbconvert_exporter": "python",
   "pygments_lexer": "ipython3",
   "version": "3.9.6"
  },
  "naas": {
   "notebook_id": "11b2c07be26f4a540e850f376dd2cfffa6b41699fbb48e33fd0a5eecd9155e20",
   "notebook_path": "LinkedIn/LinkedIn_Extract_content_world_cloud.ipynb"
  },
  "papermill": {
   "default_parameters": {},
   "environment_variables": {},
   "parameters": {},
   "version": "2.3.4"
  }
 },
 "nbformat": 4,
 "nbformat_minor": 5
}
