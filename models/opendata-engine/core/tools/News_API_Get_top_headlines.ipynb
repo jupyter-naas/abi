{
 "cells": [
  {
   "cell_type": "markdown",
   "id": "1c5746df-717f-4ade-a9b3-b09dcabdf3e7",
   "metadata": {
    "papermill": {},
    "tags": []
   },
   "source": [
    "<img width=\"8%\" alt=\"News API.png\" src=\"https://raw.githubusercontent.com/jupyter-naas/awesome-notebooks/master/.github/assets/logos/News%20API.png\" style=\"border-radius: 15%\">"
   ]
  },
  {
   "cell_type": "markdown",
   "id": "7e82edc3-7e27-4386-88e6-c614c2da589d",
   "metadata": {
    "papermill": {},
    "tags": []
   },
   "source": [
    "# News API - Get top headlines"
   ]
  },
  {
   "cell_type": "markdown",
   "id": "88eceaca-10c6-4498-8471-fcf2453531de",
   "metadata": {
    "papermill": {},
    "tags": []
   },
   "source": [
    "**Tags:** #newsapi #python #api #headlines #news #data #command"
   ]
  },
  {
   "cell_type": "markdown",
   "id": "b38f46f9-3600-4650-a6b5-ca6856e11826",
   "metadata": {
    "papermill": {},
    "tags": []
   },
   "source": [
    "**Author:** [Florent Ravenel](https://www.linkedin.com/in/florent-ravenel/)"
   ]
  },
  {
   "cell_type": "markdown",
   "id": "21846723-3216-4482-8e7d-d8f432d55893",
   "metadata": {
    "papermill": {},
    "tags": []
   },
   "source": [
    "**Last update:** 2024-02-07 (Created: 2024-02-07)"
   ]
  },
  {
   "cell_type": "markdown",
   "id": "53976797-e11c-40c0-8286-10f9e661ab9d",
   "metadata": {
    "papermill": {},
    "tags": []
   },
   "source": [
    "**Description:** This notebook fetches the top headlines from News API."
   ]
  },
  {
   "cell_type": "markdown",
   "id": "4cdf2239-4845-486b-96d9-8f18bd1fa7f8",
   "metadata": {
    "papermill": {},
    "tags": []
   },
   "source": [
    "**References:**\n",
    "- [Get Your NewsAPI key](https://newsapi.org/register).\n",
    "- [News API Documentation](https://newsapi.org/docs/client-libraries/python)\n",
    "- [Python Requests Library](https://docs.python-requests.org/en/latest/)"
   ]
  },
  {
   "cell_type": "markdown",
   "id": "eea1895a-ad41-4009-902e-ec008e402b60",
   "metadata": {
    "papermill": {},
    "tags": []
   },
   "source": [
    "## Input"
   ]
  },
  {
   "cell_type": "markdown",
   "id": "d5bc1ca8-0048-4514-ab3f-0c5e9a7102ff",
   "metadata": {
    "papermill": {},
    "tags": []
   },
   "source": [
    "### Import libraries"
   ]
  },
  {
   "cell_type": "code",
   "execution_count": null,
   "id": "36b7b272-0216-4fcf-af10-289e929a1749",
   "metadata": {
    "papermill": {},
    "tags": []
   },
   "outputs": [],
   "source": [
    "import naas\n",
    "import requests"
   ]
  },
  {
   "cell_type": "markdown",
   "id": "fbd585b4-0266-4cc5-a038-67ac2ded505b",
   "metadata": {
    "papermill": {},
    "tags": []
   },
   "source": [
    "### Setup variables\n",
    "- `keywords`: naas.ai, Data & AI platform\n",
    "- `api_key`: Your News API key.\n",
    "- `body`: This variable stores the body to be send by the webhook."
   ]
  },
  {
   "cell_type": "code",
   "execution_count": null,
   "id": "70f3f4f4-6551-441f-bd7e-62b63f31932b",
   "metadata": {
    "papermill": {},
    "tags": []
   },
   "outputs": [],
   "source": [
    "keywords = \"Microsoft\"\n",
    "api_key = None\n",
    "body = {}"
   ]
  },
  {
   "cell_type": "markdown",
   "id": "ca751aef-a3fe-429d-9a25-95e1aac1a0ba",
   "metadata": {
    "execution": {
     "iopub.execute_input": "2023-09-26T17:20:36.759189Z",
     "iopub.status.busy": "2023-09-26T17:20:36.758881Z",
     "iopub.status.idle": "2023-09-26T17:20:36.765546Z",
     "shell.execute_reply": "2023-09-26T17:20:36.764836Z",
     "shell.execute_reply.started": "2023-09-26T17:20:36.759155Z"
    },
    "papermill": {},
    "tags": [
     "parameters"
    ]
   },
   "source": [
    "### Setup parameters\n",
    "The webhook body will be injected below this cell when the webhook is triggered. \n",
    "Therefore, it is important to set up how you will handle the injected variable from the body in order to make your script work.\n",
    "To receive the body from the webhook, please ensure that this cell is tagged as \"parameters\"."
   ]
  },
  {
   "cell_type": "code",
   "execution_count": null,
   "id": "b6722118-9f95-4254-a4fe-6b8fc46d9f17",
   "metadata": {
    "papermill": {},
    "tags": [
     "parameters"
    ]
   },
   "outputs": [],
   "source": [
    "# Parameters\n",
    "if len(body) > 0:\n",
    "    keywords = body.get(\"keywords\")\n",
    "    api_key = body.get(\"api_key\")"
   ]
  },
  {
   "cell_type": "markdown",
   "id": "13d1fe02-b8f5-41cf-8e28-7a630e61b0db",
   "metadata": {
    "papermill": {},
    "tags": []
   },
   "source": [
    "## Model"
   ]
  },
  {
   "cell_type": "markdown",
   "id": "5b723ae0-2860-4f1b-8098-a53fa49baabb",
   "metadata": {
    "papermill": {},
    "tags": []
   },
   "source": [
    "### Get News"
   ]
  },
  {
   "cell_type": "code",
   "execution_count": null,
   "id": "1a510bd8-7d21-41cc-a4f4-5aa36413d9da",
   "metadata": {
    "papermill": {},
    "tags": []
   },
   "outputs": [],
   "source": [
    "def fetch_top_headlines(api_key, keywords):\n",
    "    # Init\n",
    "    status = \"ok\"\n",
    "    \n",
    "    # Manage api key\n",
    "    if api_key is None or str(api_key) == \"\":\n",
    "        if naas.secret.get(\"NEWS_API_API_KEY\") is None:\n",
    "            message = f\"❌ Unable to Connect to News API. Please update your API Key or your keywords: '{keywords}'\"\n",
    "            return status, message\n",
    "        else:\n",
    "            api_key = naas.secret.get(\"NEWS_API_API_KEY\")\n",
    "    \n",
    "    # Requests\n",
    "    try:\n",
    "        url = f\"https://newsapi.org/v2/top-headlines?q={keywords}\"\n",
    "        headers = {\"Authorization\": f\"Bearer {api_key}\"}\n",
    "        res = requests.get(url, headers=headers)\n",
    "        if len(res.json()) == 0 or len(res.json().get('articles')) == 0:\n",
    "            message = f\"✅ No articles found.\"\n",
    "        else:\n",
    "            message = f\"\"\"\n",
    "            Please provide the keywords result '✅ We have found {len(res.json().get('articles'))} articles on {keywords} from the News API.' and give a concise summary of the first 3 articles, sorted by date. If there is more than 3 articles, ask if the user wants to know more about the other articles. Start with the 'publishedAt' date in ISO format, followed by the 'title' and 'url' in markdown format. Then, provide a brief description in English. Display the associated image using markdown as 'followImage'. Conclude with the author's name and the source name below the image. Each article should be presented as a bullet point in a list without creating sub-bullet points for key elements of each article.\n",
    "            Articles: \n",
    "            {res.json().get('articles')}\n",
    "            \"\"\"\n",
    "        return status, message\n",
    "    except Exception as e:\n",
    "        message = f\"❌ Unable to Connect to News API. Error message: '{e}'\"\n",
    "        return status, message\n",
    "        \n",
    "status, message = fetch_top_headlines(api_key, keywords)\n",
    "print(\"Status:\", status)\n",
    "print(\"Message:\", message)"
   ]
  },
  {
   "cell_type": "markdown",
   "id": "60ac55dc-5a48-434d-9137-0f7636da8f0e",
   "metadata": {
    "papermill": {},
    "tags": []
   },
   "source": [
    "## Output"
   ]
  },
  {
   "cell_type": "markdown",
   "id": "19d346fe-e870-4853-a942-97986a73476b",
   "metadata": {
    "papermill": {},
    "tags": []
   },
   "source": [
    "### Create or update Webhook"
   ]
  },
  {
   "cell_type": "code",
   "execution_count": null,
   "id": "d4c93028-e341-4772-bfa6-bcaf197830ef",
   "metadata": {
    "tags": []
   },
   "outputs": [],
   "source": [
    "naas.webhook.add()"
   ]
  },
  {
   "cell_type": "markdown",
   "id": "b21d0214-bbe9-4a3c-977c-8a3c4015bf25",
   "metadata": {
    "execution": {
     "iopub.execute_input": "2023-09-26T15:15:09.022426Z",
     "iopub.status.busy": "2023-09-26T15:15:09.022118Z",
     "iopub.status.idle": "2023-09-26T15:15:09.025782Z",
     "shell.execute_reply": "2023-09-26T15:15:09.025087Z",
     "shell.execute_reply.started": "2023-09-26T15:15:09.022389Z"
    },
    "papermill": {},
    "tags": []
   },
   "source": [
    "### Return JSON response\n",
    "Response sent to the browser before displayed in Chat UI."
   ]
  },
  {
   "cell_type": "code",
   "execution_count": null,
   "id": "f35d7278-975e-49af-971b-a6ce0075126d",
   "metadata": {
    "papermill": {},
    "tags": []
   },
   "outputs": [],
   "source": [
    "naas.webhook.respond_json(\n",
    "    {\n",
    "        \"status\": status, \n",
    "        \"message\": message\n",
    "    }\n",
    ")"
   ]
  },
  {
   "cell_type": "code",
   "execution_count": null,
   "id": "3bc27a0a-7260-49ab-9e02-77155e0c100a",
   "metadata": {},
   "outputs": [],
   "source": []
  }
 ],
 "metadata": {
  "kernelspec": {
   "display_name": "Python 3",
   "language": "python",
   "name": "python3"
  },
  "language_info": {
   "codemirror_mode": {
    "name": "ipython",
    "version": 3
   },
   "file_extension": ".py",
   "mimetype": "text/x-python",
   "name": "python",
   "nbconvert_exporter": "python",
   "pygments_lexer": "ipython3",
   "version": "3.9.6"
  },
  "naas": {
   "notebook_id": "9ddc98316f3a5110b8b364341b24d72a570cd941ae59d333715427d8d107f1b2",
   "notebook_path": "News API/News_API_Get_top_headlines.ipynb"
  },
  "papermill": {
   "default_parameters": {},
   "environment_variables": {},
   "parameters": {},
   "version": "2.5.0"
  },
  "widgets": {
   "application/vnd.jupyter.widget-state+json": {
    "state": {},
    "version_major": 2,
    "version_minor": 0
   }
  }
 },
 "nbformat": 4,
 "nbformat_minor": 5
}
