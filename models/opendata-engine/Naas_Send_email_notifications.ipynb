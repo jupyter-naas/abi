{
 "cells": [
  {
   "cell_type": "markdown",
   "id": "0945c819-fd6f-4dc2-93d7-9742277989f9",
   "metadata": {
    "papermill": {},
    "tags": []
   },
   "source": [
    "<img width=\"10%\" alt=\"Naas\" src=\"https://landen.imgix.net/jtci2pxwjczr/assets/5ice39g4.png?w=160\"/>"
   ]
  },
  {
   "cell_type": "markdown",
   "id": "descending-grammar",
   "metadata": {
    "papermill": {},
    "tags": []
   },
   "source": [
    "# Naas - Send Email Notifications"
   ]
  },
  {
   "cell_type": "markdown",
   "id": "d17064b3-00b5-4d71-96ba-38c6af450919",
   "metadata": {
    "papermill": {},
    "tags": []
   },
   "source": [
    "## Input"
   ]
  },
  {
   "cell_type": "markdown",
   "id": "bd85ac54-69a3-4f29-9e20-d7e3058e1afc",
   "metadata": {},
   "source": [
    "### Get utils"
   ]
  },
  {
   "cell_type": "code",
   "execution_count": null,
   "id": "2178267c-dbdf-42b7-9630-2a0ec1fbd97e",
   "metadata": {
    "execution": {
     "iopub.execute_input": "2023-08-28T20:39:39.419967Z",
     "iopub.status.busy": "2023-08-28T20:39:39.419737Z",
     "iopub.status.idle": "2023-08-28T20:39:39.490385Z",
     "shell.execute_reply": "2023-08-28T20:39:39.489677Z",
     "shell.execute_reply.started": "2023-08-28T20:39:39.419945Z"
    },
    "tags": []
   },
   "outputs": [],
   "source": [
    "# Load utils functions\n",
    "from os import path\n",
    "\n",
    "utils_path = \"../utils/__utils__.ipynb\"\n",
    "if not path.exists(utils_path):\n",
    "    utils_path = \"utils/__utils__.ipynb\"\n",
    "\n",
    "%run \"$utils_path\""
   ]
  },
  {
   "cell_type": "markdown",
   "id": "1d8f5e20-bcfc-4ceb-83ad-0856868327a0",
   "metadata": {
    "papermill": {},
    "tags": []
   },
   "source": [
    "### Import libraries"
   ]
  },
  {
   "cell_type": "code",
   "execution_count": null,
   "id": "fd368ba3-fc40-46db-af1d-a62d11573923",
   "metadata": {
    "execution": {
     "iopub.execute_input": "2023-08-28T20:39:40.547156Z",
     "iopub.status.busy": "2023-08-28T20:39:40.546927Z",
     "iopub.status.idle": "2023-08-28T20:39:40.550808Z",
     "shell.execute_reply": "2023-08-28T20:39:40.549853Z",
     "shell.execute_reply.started": "2023-08-28T20:39:40.547134Z"
    },
    "papermill": {},
    "tags": []
   },
   "outputs": [],
   "source": [
    "import json\n",
    "import pandas as pd\n",
    "import naas\n",
    "import naas_drivers\n",
    "import markdown2\n",
    "from datetime import datetime\n",
    "from IPython.core.display import display, HTML\n",
    "from naas_drivers import naasauth"
   ]
  },
  {
   "cell_type": "markdown",
   "id": "6e2eb2f8-9106-4357-a324-5051076a1dd9",
   "metadata": {},
   "source": [
    "### Get params"
   ]
  },
  {
   "cell_type": "code",
   "execution_count": null,
   "id": "7f01cda3-fe64-46c5-9440-9162185714c2",
   "metadata": {
    "execution": {
     "iopub.execute_input": "2023-08-28T20:39:41.052541Z",
     "iopub.status.busy": "2023-08-28T20:39:41.052306Z",
     "iopub.status.idle": "2023-08-28T20:39:41.057002Z",
     "shell.execute_reply": "2023-08-28T20:39:41.056411Z",
     "shell.execute_reply.started": "2023-08-28T20:39:41.052519Z"
    },
    "tags": []
   },
   "outputs": [],
   "source": [
    "email_to = \"jeremy@naas.ai\""
   ]
  },
  {
   "cell_type": "markdown",
   "id": "b9b9a046-0559-444c-916a-dfe5fe385edc",
   "metadata": {
    "papermill": {},
    "tags": []
   },
   "source": [
    "### Setup Inputs"
   ]
  },
  {
   "cell_type": "code",
   "execution_count": null,
   "id": "4eb2d451-00ad-491b-be40-3d968f1adddd",
   "metadata": {
    "execution": {
     "iopub.execute_input": "2023-08-28T20:39:41.614526Z",
     "iopub.status.busy": "2023-08-28T20:39:41.614302Z",
     "iopub.status.idle": "2023-08-28T20:39:41.617555Z",
     "shell.execute_reply": "2023-08-28T20:39:41.616908Z",
     "shell.execute_reply.started": "2023-08-28T20:39:41.614504Z"
    },
    "papermill": {},
    "tags": []
   },
   "outputs": [],
   "source": [
    "#csv_ticker = path.join(INPUTS_PATH, f\"{ticker}.csv\")\n",
    "pipeline_path = path.join(MODELS_PATH, \"__pipeline__.ipynb\")\n",
    "now = datetime.now().strftime(\"%Y-%m-%d\")\n",
    "#excel_predict = path.join(OUTPUTS_PATH, f\"{ticker}_{now}.xlsx\")"
   ]
  },
  {
   "cell_type": "markdown",
   "id": "803c592f-22c0-4014-be4e-0aeb4e6308f4",
   "metadata": {
    "papermill": {},
    "tags": []
   },
   "source": [
    "### Setup Email\n",
    "👉 Here you can input your sender email and destination email.<br>\n",
    "Note: emails are sent from notification@naas.ai by default"
   ]
  },
  {
   "cell_type": "code",
   "execution_count": null,
   "id": "02f0a43e-9270-43dc-9150-6a4f97a99b26",
   "metadata": {
    "execution": {
     "iopub.execute_input": "2023-08-28T20:39:42.280263Z",
     "iopub.status.busy": "2023-08-28T20:39:42.280038Z",
     "iopub.status.idle": "2023-08-28T20:39:42.429453Z",
     "shell.execute_reply": "2023-08-28T20:39:42.428804Z",
     "shell.execute_reply.started": "2023-08-28T20:39:42.280242Z"
    },
    "papermill": {},
    "tags": []
   },
   "outputs": [],
   "source": [
    "email_subject = f\"🌎 Open Data Intelligence - Email Update as of {now}!\"\n",
    "email_from = naasauth.connect().user.me().get(\"username\")\n",
    "\n",
    "# Markdown template created on your local env\n",
    "email_content_md = path.join(OUTPUTS_PATH, \"email_content.md\")"
   ]
  },
  {
   "cell_type": "markdown",
   "id": "68ce42e9-46d2-4bcc-bd84-cc709f8b14dc",
   "metadata": {
    "execution": {
     "iopub.execute_input": "2022-08-30T09:05:43.852440Z",
     "iopub.status.busy": "2022-08-30T09:05:43.852098Z",
     "iopub.status.idle": "2022-08-30T09:05:43.855516Z",
     "shell.execute_reply": "2022-08-30T09:05:43.854874Z",
     "shell.execute_reply.started": "2022-08-30T09:05:43.852405Z"
    },
    "tags": []
   },
   "source": [
    "### Get assets link"
   ]
  },
  {
   "cell_type": "code",
   "execution_count": null,
   "id": "9be40a58-f1f4-482a-ac8c-c6413b6c83bd",
   "metadata": {
    "execution": {
     "iopub.execute_input": "2023-08-28T20:39:42.734477Z",
     "iopub.status.busy": "2023-08-28T20:39:42.732290Z",
     "iopub.status.idle": "2023-08-28T20:39:42.764656Z",
     "shell.execute_reply": "2023-08-28T20:39:42.762662Z",
     "shell.execute_reply.started": "2023-08-28T20:39:42.734436Z"
    },
    "tags": []
   },
   "outputs": [],
   "source": [
    "with open(path.join(OUTPUTS_PATH, f'TSLA_{now}.json')) as f:\n",
    "    TSLA_assets = json.load(f)\n",
    "\n",
    "with open(path.join(OUTPUTS_PATH, f'MSFT_{now}.json')) as f:\n",
    "    MSFT_assets = json.load(f)\n",
    "\n",
    "with open(path.join(OUTPUTS_PATH, f'NFLX_{now}.json')) as f:\n",
    "    NFLX_assets = json.load(f)\n",
    "\n",
    "with open(path.join(OUTPUTS_PATH, f'AMZN_{now}.json')) as f:\n",
    "    AMZN_assets = json.load(f)"
   ]
  },
  {
   "cell_type": "markdown",
   "id": "0a1ad0db-97b3-4f84-a82e-517595d95f17",
   "metadata": {
    "papermill": {},
    "tags": []
   },
   "source": [
    "## Model"
   ]
  },
  {
   "cell_type": "markdown",
   "id": "08b62353-65c3-478c-806a-7b3b9957faf3",
   "metadata": {
    "papermill": {},
    "tags": []
   },
   "source": [
    "### Create Email content"
   ]
  },
  {
   "cell_type": "code",
   "execution_count": null,
   "id": "37babb79-38b2-4461-b5c5-d710fabf7be9",
   "metadata": {
    "execution": {
     "iopub.execute_input": "2023-08-28T20:39:03.884374Z",
     "iopub.status.busy": "2023-08-28T20:39:03.884137Z",
     "iopub.status.idle": "2023-08-28T20:39:03.910281Z",
     "shell.execute_reply": "2023-08-28T20:39:03.909231Z",
     "shell.execute_reply.started": "2023-08-28T20:39:03.884345Z"
    },
    "tags": []
   },
   "outputs": [],
   "source": [
    "link = \"https://www.naas.ai/\"\n",
    "\n",
    "img = \"https://gblobscdn.gitbook.com/spaces%2F-MJ1rzHSMrn3m7xaPUs_%2Favatar-1602072063433.png?alt=media\"\n",
    "\n",
    "footer_icons = [{\n",
    "    \"img_src\": img,\n",
    "    \"href\": link\n",
    "}]\n",
    "\n",
    "email_content = {\n",
    "    'element': naas_drivers.emailbuilder.title(\"🌎 Open Data Intelligence - Email Update\"),\n",
    "    'heading': naas_drivers.emailbuilder.heading(f\"Daily Update {now}\"),\n",
    "    \n",
    "    #TSLA\n",
    "    'TSLA_subheading': naas_drivers.emailbuilder.subheading(\"TSLA stock\"),\n",
    "    'TSLA_image': naas_drivers.emailbuilder.image(TSLA_assets[\"link_image\"]),\n",
    "    #'text': naas_drivers.emailbuilder.text(f\"{DATANOW}|{VARV} ({VARP})\"),\n",
    "    'TSLA_link': naas_drivers.emailbuilder.link(TSLA_assets[\"link_html\"], \"Open dynamic chart\"),\n",
    "    \n",
    "    #MSFT\n",
    "    'MSFT_subheading': naas_drivers.emailbuilder.subheading(\"MSFT stock\"),\n",
    "    'MSFT_image': naas_drivers.emailbuilder.image(MSFT_assets[\"link_image\"]),\n",
    "    #'text': naas_drivers.emailbuilder.text(f\"{DATANOW}|{VARV} ({VARP})\"),\n",
    "    'MSFT_link': naas_drivers.emailbuilder.link(MSFT_assets[\"link_html\"], \"Open dynamic chart\"),\n",
    "\n",
    "    #NFLX\n",
    "    'NFLX_subheading': naas_drivers.emailbuilder.subheading(\"NFLX stock\"),\n",
    "    'NFLX_image': naas_drivers.emailbuilder.image(NFLX_assets[\"link_image\"]),\n",
    "    #'text': naas_drivers.emailbuilder.text(f\"{DATANOW}|{VARV} ({VARP})\"),\n",
    "    'NFLX_link': naas_drivers.emailbuilder.link(NFLX_assets[\"link_html\"], \"Open dynamic chart\"),\n",
    "\n",
    "    #AMZN\n",
    "    'AMZN_subheading': naas_drivers.emailbuilder.subheading(\"AMZN stock\"),\n",
    "    'AMZN_image': naas_drivers.emailbuilder.image(AMZN_assets[\"link_image\"]),\n",
    "    #'text': naas_drivers.emailbuilder.text(f\"{DATANOW}|{VARV} ({VARP})\"),\n",
    "    'AMZN_link': naas_drivers.emailbuilder.link(AMZN_assets[\"link_html\"], \"Open dynamic chart\"),\n",
    "    \n",
    "    'footer': naas_drivers.emailbuilder.footer_company(networks=footer_icons, company=[\"Powered by Naas.ai\"], legal=[\"This is not financial advice.\"])\n",
    "}"
   ]
  },
  {
   "cell_type": "code",
   "execution_count": null,
   "id": "71b8c260-b9fb-4952-8092-7cb8459968d7",
   "metadata": {
    "execution": {
     "iopub.execute_input": "2023-08-28T20:39:04.138352Z",
     "iopub.status.busy": "2023-08-28T20:39:04.138128Z",
     "iopub.status.idle": "2023-08-28T20:39:04.151697Z",
     "shell.execute_reply": "2023-08-28T20:39:04.150641Z",
     "shell.execute_reply.started": "2023-08-28T20:39:04.138330Z"
    },
    "tags": []
   },
   "outputs": [],
   "source": [
    "content = naas_drivers.emailbuilder.generate(display='iframe',\n",
    "                              **email_content)"
   ]
  },
  {
   "cell_type": "markdown",
   "id": "d71d8ad4-697d-4d4e-be8c-6c7d54d174e0",
   "metadata": {
    "papermill": {},
    "tags": []
   },
   "source": [
    "## Output"
   ]
  },
  {
   "cell_type": "markdown",
   "id": "quantitative-trader",
   "metadata": {
    "papermill": {},
    "tags": []
   },
   "source": [
    "### Send Email"
   ]
  },
  {
   "cell_type": "code",
   "execution_count": null,
   "id": "33559718-1af4-458e-a972-ff7ac7466e34",
   "metadata": {
    "execution": {
     "iopub.status.busy": "2023-08-27T10:49:33.776710Z",
     "iopub.status.idle": "2023-08-27T10:49:33.777189Z",
     "shell.execute_reply": "2023-08-27T10:49:33.777010Z"
    },
    "papermill": {},
    "tags": []
   },
   "outputs": [],
   "source": [
    "naas.notification.send(email_to=email_to,\n",
    "                       subject=email_subject,\n",
    "                       html=content,\n",
    "                       #files=[excel_predict],\n",
    "                       email_from=email_from)"
   ]
  },
  {
   "cell_type": "code",
   "execution_count": null,
   "id": "14a5911f-c0cc-4bc4-8fd6-919967ff0430",
   "metadata": {},
   "outputs": [],
   "source": []
  }
 ],
 "metadata": {
  "kernelspec": {
   "display_name": "Python 3",
   "language": "python",
   "name": "python3"
  },
  "language_info": {
   "codemirror_mode": {
    "name": "ipython",
    "version": 3
   },
   "file_extension": ".py",
   "mimetype": "text/x-python",
   "name": "python",
   "nbconvert_exporter": "python",
   "pygments_lexer": "ipython3",
   "version": "3.9.6"
  },
  "naas": {
   "notebook_id": "32f321ba-c5df-4e6a-9e67-e7eb95aa95c6",
   "notebook_path": "YahooFinance/YahooFinance_Send_daily_prediction_to_Email.ipynb"
  },
  "papermill": {
   "default_parameters": {},
   "environment_variables": {},
   "parameters": {},
   "version": "2.3.3"
  },
  "toc-autonumbering": false,
  "widgets": {
   "application/vnd.jupyter.widget-state+json": {
    "state": {},
    "version_major": 2,
    "version_minor": 0
   }
  }
 },
 "nbformat": 4,
 "nbformat_minor": 5
}
