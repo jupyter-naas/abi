{
 "cells": [
  {
   "cell_type": "markdown",
   "id": "dd66232c-09f1-44bf-8849-0cd5c52f78a6",
   "metadata": {},
   "source": [
    "<img width=\"10%\" alt=\"Naas\" src=\"https://landen.imgix.net/jtci2pxwjczr/assets/5ice39g4.png?w=160\"/>"
   ]
  },
  {
   "cell_type": "markdown",
   "id": "633951dc-ca87-4032-ad2d-b76a909861bf",
   "metadata": {},
   "source": [
    "# Pipeline"
   ]
  },
  {
   "cell_type": "markdown",
   "id": "dc8969f9-6f45-4131-9983-a9cfec61be43",
   "metadata": {},
   "source": [
    "**Tags:** #naas #pipeline #automation #snippet"
   ]
  },
  {
   "cell_type": "markdown",
   "id": "29d1ba56-7c9e-4895-836e-afcbdb1bb75c",
   "metadata": {},
   "source": [
    "**Author:** [Florent Ravenel](https://www.linkedin.com/in/florent-ravenel/)"
   ]
  },
  {
   "cell_type": "markdown",
   "id": "524d5465-bce2-42f3-8d18-6f821dae07a5",
   "metadata": {},
   "source": [
    "## Input"
   ]
  },
  {
   "cell_type": "markdown",
   "id": "13ee301f-a6e4-4f0a-9708-5b709e241fec",
   "metadata": {},
   "source": [
    "### Import librairies"
   ]
  },
  {
   "cell_type": "code",
   "execution_count": 1,
   "id": "a4f09b20-5608-4380-bea8-1cfad64bbff0",
   "metadata": {
    "execution": {
     "iopub.execute_input": "2023-08-30T23:34:11.874917Z",
     "iopub.status.busy": "2023-08-30T23:34:11.874617Z",
     "iopub.status.idle": "2023-08-30T23:34:14.137840Z",
     "shell.execute_reply": "2023-08-30T23:34:14.137186Z",
     "shell.execute_reply.started": "2023-08-30T23:34:11.874829Z"
    },
    "tags": []
   },
   "outputs": [],
   "source": [
    "from naas.pipeline import Pipeline, DummyStep, DummyErrorStep, NotebookStep, End, ParallelStep"
   ]
  },
  {
   "cell_type": "markdown",
   "id": "54a2fdfd-1bbd-456c-be5c-6698a92785ac",
   "metadata": {},
   "source": [
    "### Get utils\n",
    "This section enable the pipeline to run using common functions stored inside the /utils folder. "
   ]
  },
  {
   "cell_type": "code",
   "execution_count": null,
   "id": "773e2347-f372-4295-85e6-a18642196f2f",
   "metadata": {
    "execution": {
     "iopub.status.busy": "2023-08-30T21:11:10.097133Z",
     "iopub.status.idle": "2023-08-30T21:11:10.099126Z",
     "shell.execute_reply": "2023-08-30T21:11:10.098979Z"
    },
    "tags": []
   },
   "outputs": [],
   "source": [
    "# Load utils functions\n",
    "from os import path\n",
    "\n",
    "utils_path = \"../utils/__utils__.ipynb\"\n",
    "if not path.exists(utils_path):\n",
    "    utils_path = \"utils/__utils__.ipynb\"\n",
    "\n",
    "%run \"$utils_path\""
   ]
  },
  {
   "cell_type": "markdown",
   "id": "ea6ff4cf-cea6-420e-b190-5979156b5fed",
   "metadata": {},
   "source": [
    "## Model"
   ]
  },
  {
   "cell_type": "markdown",
   "id": "c605f360-3459-40d1-a68b-227f38a6684e",
   "metadata": {},
   "source": [
    "### Run pipeline"
   ]
  },
  {
   "cell_type": "code",
   "execution_count": null,
   "id": "aa9aac07-1406-4060-acd2-b9ca83f82d51",
   "metadata": {
    "execution": {
     "iopub.status.busy": "2023-08-30T21:11:10.099848Z",
     "iopub.status.idle": "2023-08-30T21:11:10.100101Z",
     "shell.execute_reply": "2023-08-30T21:11:10.099971Z"
    }
   },
   "outputs": [],
   "source": [
    "pipeline = Pipeline()"
   ]
  },
  {
   "cell_type": "code",
   "execution_count": null,
   "id": "080eaeb3-7ce0-4aee-8ff7-83d95c48f149",
   "metadata": {
    "execution": {
     "iopub.status.busy": "2023-08-30T21:11:10.104176Z",
     "iopub.status.idle": "2023-08-30T21:11:10.104456Z",
     "shell.execute_reply": "2023-08-30T21:11:10.104348Z"
    },
    "tags": []
   },
   "outputs": [],
   "source": [
    "pipeline >> NotebookStep(\"Apple\", \"YahooFinance_Get_Apple_trends_and_predictions.ipynb\") >> \\\n",
    "NotebookStep(\"Microsoft\", \"YahooFinance_Get_Microsoft_trends_and_predictions.ipynb\") >> \\\n",
    "NotebookStep(\"Amazon\", \"YahooFinance_Get_Amazon_trends_and_predictions.ipynb\") >> \\\n",
    "NotebookStep(\"Alphabet\", \"YahooFinance_Get_Alphabet_trends_and_predictions.ipynb\") >> \\\n",
    "NotebookStep(\"Meta\", \"YahooFinance_Get_Meta_trends_and_predictions.ipynb\") >> \\\n",
    "NotebookStep(\"Tesla\", \"YahooFinance_Get_Tesla_trends_and_predictions.ipynb\") >> \\\n",
    "NotebookStep(\"Nvidia\", \"YahooFinance_Get_Nvidia_trends_and_predictions.ipynb\") >> \\\n",
    "NotebookStep(\"Paypal\", \"YahooFinance_Get_Paypal_trends_and_predictions.ipynb\") >> \\\n",
    "NotebookStep(\"Adobe\", \"YahooFinance_Get_Adobe_trends_and_predictions.ipynb\") >> \\\n",
    "NotebookStep(\"Netflix\", \"YahooFinance_Get_Netflix_trends_and_predictions.ipynb\") >> \\\n",
    "NotebookStep(\"Intel\", \"YahooFinance_Get_Intel_trends_and_predictions.ipynb\") >> \\\n",
    "NotebookStep(\"Cisco\", \"YahooFinance_Get_Cisco_trends_and_predictions.ipynb\") >> \\\n",
    "NotebookStep(\"Oracle\", \"YahooFinance_Get_Oracle_trends_and_predictions.ipynb\") >> \\\n",
    "NotebookStep(\"Salesforce\", \"YahooFinance_Get_Salesforce_trends_and_predictions.ipynb\") >> \\\n",
    "NotebookStep(\"IBM\", \"YahooFinance_Get_IBM_trends_and_predictions.ipynb\") >> \\\n",
    "NotebookStep(\"Qualcomm\", \"YahooFinance_Get_Qualcomm_trends_and_predictions.ipynb\") >> \\\n",
    "NotebookStep(\"Texas Instruments\", \"YahooFinance_Get_Texas Instruments_trends_and_predictions.ipynb\") >> \\\n",
    "NotebookStep(\"Broadcom\", \"YahooFinance_Get_Broadcom_trends_and_predictions.ipynb\") >> \\\n",
    "NotebookStep(\"Accenture\", \"YahooFinance_Get_Accenture_trends_and_predictions.ipynb\") >> \\\n",
    "NotebookStep(\"ServiceNow\", \"YahooFinance_Get_ServiceNow_trends_and_predictions.ipynb\") >> \\\n",
    "NotebookStep(\"Send_email\", \"Naas_Send_email_notifications.ipynb\") >> \\\n",
    "End()\n",
    "pipeline.run(style=\"progress\")"
   ]
  },
  {
   "cell_type": "markdown",
   "id": "40622f47-1517-41b8-a61f-2a2a9a966881",
   "metadata": {},
   "source": [
    "## Output"
   ]
  },
  {
   "cell_type": "code",
   "execution_count": null,
   "id": "a694c506-f4d1-4d75-8a42-30ac9cff20a6",
   "metadata": {},
   "outputs": [],
   "source": []
  }
 ],
 "metadata": {
  "kernelspec": {
   "display_name": "Python 3",
   "language": "python",
   "name": "python3"
  },
  "language_info": {
   "codemirror_mode": {
    "name": "ipython",
    "version": 3
   },
   "file_extension": ".py",
   "mimetype": "text/x-python",
   "name": "python",
   "nbconvert_exporter": "python",
   "pygments_lexer": "ipython3",
   "version": "3.9.6"
  },
  "widgets": {
   "application/vnd.jupyter.widget-state+json": {
    "state": {},
    "version_major": 2,
    "version_minor": 0
   }
  }
 },
 "nbformat": 4,
 "nbformat_minor": 5
}
