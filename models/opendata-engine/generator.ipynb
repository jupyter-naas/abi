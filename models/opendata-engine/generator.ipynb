{
 "cells": [
  {
   "cell_type": "markdown",
   "id": "0945c819-fd6f-4dc2-93d7-9742277989f9",
   "metadata": {
    "papermill": {},
    "tags": []
   },
   "source": [
    "<img width=\"10%\" alt=\"Naas\" src=\"https://landen.imgix.net/jtci2pxwjczr/assets/5ice39g4.png?w=160\"/>"
   ]
  },
  {
   "cell_type": "markdown",
   "id": "descending-grammar",
   "metadata": {
    "papermill": {},
    "tags": []
   },
   "source": [
    "# Generator\n",
    "\n",
    "**Description:** This Notebook read a referential, take a notebook template, and create as much notebook as rows on the referentials. "
   ]
  },
  {
   "cell_type": "markdown",
   "id": "d17064b3-00b5-4d71-96ba-38c6af450919",
   "metadata": {
    "papermill": {},
    "tags": []
   },
   "source": [
    "## Input"
   ]
  },
  {
   "cell_type": "code",
   "execution_count": null,
   "id": "ef998590-6e2b-4eb2-aa1c-350692368842",
   "metadata": {
    "execution": {
     "iopub.execute_input": "2023-08-30T20:37:49.917374Z",
     "iopub.status.busy": "2023-08-30T20:37:49.917115Z",
     "iopub.status.idle": "2023-08-30T20:37:54.266552Z",
     "shell.execute_reply": "2023-08-30T20:37:54.265639Z",
     "shell.execute_reply.started": "2023-08-30T20:37:49.917309Z"
    },
    "tags": []
   },
   "outputs": [],
   "source": [
    "pip install nbformat"
   ]
  },
  {
   "cell_type": "markdown",
   "id": "5548abe3-f5ef-4eda-8167-c2452827dcb4",
   "metadata": {},
   "source": [
    "## Model"
   ]
  },
  {
   "cell_type": "code",
   "execution_count": null,
   "id": "45803fc9-e9aa-447c-b6d9-938800f1abd1",
   "metadata": {
    "execution": {
     "iopub.execute_input": "2023-08-30T20:37:54.268304Z",
     "iopub.status.busy": "2023-08-30T20:37:54.268031Z",
     "iopub.status.idle": "2023-08-30T20:38:03.360686Z",
     "shell.execute_reply": "2023-08-30T20:38:03.359921Z",
     "shell.execute_reply.started": "2023-08-30T20:37:54.268272Z"
    },
    "tags": []
   },
   "outputs": [],
   "source": [
    "import nbformat as nbf\n",
    "import copy\n",
    "import pandas as pd\n",
    "\n",
    "# Read the CSV file\n",
    "df = pd.read_csv('../inputs/referential.csv')\n",
    "\n",
    "# Start the pipeline string\n",
    "pipeline_string = ''\n",
    "\n",
    "# Loop over the rows in the DataFrame\n",
    "for i, row in df.iterrows():\n",
    "    # Each row in the DataFrame becomes a dictionary\n",
    "    replacement = row.to_dict()\n",
    "\n",
    "    # Read the original notebook\n",
    "    with open('YahooFinance_Template_Get_[ENTITY]_trends_and_predictions.ipynb') as f:\n",
    "        nb = nbf.read(f, as_version=4)\n",
    "\n",
    "    # Make a deep copy of the notebook object\n",
    "    new_nb = copy.deepcopy(nb)\n",
    "\n",
    "    # Loop over the cells in the notebook\n",
    "    for cell in new_nb.cells:\n",
    "        # Only modify code cells\n",
    "        if cell.cell_type == 'code':\n",
    "            # Replace the NAME_INPUT, TICKER_INPUT, and RELATIVE_INDEX values\n",
    "            for key, value in replacement.items():\n",
    "                cell.source = cell.source.replace(key, str(value))\n",
    "\n",
    "    # Write the new notebook to a file\n",
    "    # Include the NAME_INPUT value in the filename\n",
    "    notebook_name = f'YahooFinance_Get_{replacement[\"NAME_INPUT\"]}_trends_and_predictions.ipynb'\n",
    "    with open(notebook_name, 'w') as f:\n",
    "        nbf.write(new_nb, f)\n",
    "\n",
    "    # Add the notebook to the pipeline string\n",
    "    pipeline_string += f'NotebookStep(\"{replacement[\"NAME_INPUT\"]}\", \"{notebook_name}\") >> \\\\\\n'\n",
    "\n",
    "# Read the pipeline notebook\n",
    "with open('__pipeline__.ipynb') as f:\n",
    "    pipeline_nb = nbf.read(f, as_version=4)\n",
    "\n",
    "# Find the cell that contains 'FINANCE_INDICATORS'\n",
    "for cell in pipeline_nb.cells:\n",
    "    if 'FINANCE_INDICATORS' in cell.source:\n",
    "        # Replace 'FINANCE_INDICATORS' with the new pipeline string\n",
    "        cell.source = cell.source.replace('FINANCE_INDICATORS', pipeline_string)\n",
    "        break\n",
    "\n",
    "# Write the modified pipeline notebook back to the file\n",
    "with open('__pipeline__.ipynb', 'w') as f:\n",
    "    nbf.write(pipeline_nb, f)\n"
   ]
  },
  {
   "cell_type": "code",
   "execution_count": null,
   "id": "0f51fc21-5fef-4aa6-abb8-8217b9c344ee",
   "metadata": {},
   "outputs": [],
   "source": []
  }
 ],
 "metadata": {
  "kernelspec": {
   "display_name": "Python 3",
   "language": "python",
   "name": "python3"
  },
  "language_info": {
   "codemirror_mode": {
    "name": "ipython",
    "version": 3
   },
   "file_extension": ".py",
   "mimetype": "text/x-python",
   "name": "python",
   "nbconvert_exporter": "python",
   "pygments_lexer": "ipython3",
   "version": "3.9.6"
  },
  "naas": {
   "notebook_id": "32f321ba-c5df-4e6a-9e67-e7eb95aa95c6",
   "notebook_path": "YahooFinance/YahooFinance_Send_daily_prediction_to_Email.ipynb"
  },
  "papermill": {
   "default_parameters": {},
   "environment_variables": {},
   "parameters": {},
   "version": "2.3.3"
  },
  "toc-autonumbering": false,
  "widgets": {
   "application/vnd.jupyter.widget-state+json": {
    "state": {},
    "version_major": 2,
    "version_minor": 0
   }
  }
 },
 "nbformat": 4,
 "nbformat_minor": 5
}
