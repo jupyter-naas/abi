{
 "cells": [
  {
   "cell_type": "markdown",
   "id": "a92ad770-55bd-450c-8e6e-de64c0347cdd",
   "metadata": {
    "papermill": {},
    "tags": []
   },
   "source": [
    "<img width=\"8%\" alt=\"GitHub\" src=\"https://raw.githubusercontent.com/jupyter-naas/awesome-notebooks/master/.github/assets/logos/GitHub.png\" style=\"border-radius: 15%\">"
   ]
  },
  {
   "cell_type": "markdown",
   "id": "a5b2c509-2c29-49e8-af91-4f3f1e386da3",
   "metadata": {
    "papermill": {},
    "tags": []
   },
   "source": [
    "# GitHub - Create dataset from notebooks\n",
    "<a href=\"https://app.naas.ai/user-redirect/naas/downloader?url=https://raw.githubusercontent.com/jupyter-naas/awesome-notebooks/master/GitHub/GitHub_Create_plugin_with_commands.ipynb\" target=\"_parent\"><img src=\"https://naasai-public.s3.eu-west-3.amazonaws.com/Open_in_Naas_Lab.svg\"/></a><br><br><a href=\"https://bit.ly/3JyWIk6\">Give Feedback</a> | <a href=\"https://github.com/jupyter-naas/awesome-notebooks/issues/new?assignees=&labels=bug&template=bug_report.md&title=GitHub+-+Create+plugin+with+commands:+Error+short+description\">Bug report</a>"
   ]
  },
  {
   "cell_type": "markdown",
   "id": "d77fe283-4edd-42d3-a909-8e207d4b842f",
   "metadata": {
    "papermill": {},
    "tags": []
   },
   "source": [
    "**Tags:** #github #finetuning #dataset #ai #chat #plugin"
   ]
  },
  {
   "cell_type": "markdown",
   "id": "b90f2d91-c886-4e36-8265-b09d06bb1c7f",
   "metadata": {
    "papermill": {},
    "tags": []
   },
   "source": [
    "**Author:** [Florent Ravenel](https://www.linkedin.com/in/florent-ravenel)"
   ]
  },
  {
   "cell_type": "markdown",
   "id": "6bbf7807-dda4-4b8a-b016-fe258a0fa33f",
   "metadata": {
    "papermill": {},
    "tags": []
   },
   "source": [
    "**Last update:** 2023-11-09 (Created: 2023-11-09)"
   ]
  },
  {
   "cell_type": "markdown",
   "id": "214749fe-7f0b-4755-b7ea-1d200c234cc6",
   "metadata": {
    "papermill": {},
    "tags": []
   },
   "source": [
    "**Description:** This notebook creates a dataset from notebooks to be integrated to Naas ABI characters."
   ]
  },
  {
   "cell_type": "markdown",
   "id": "a1329bea-ad80-4981-874c-8776b11f89a8",
   "metadata": {
    "papermill": {},
    "tags": []
   },
   "source": [
    "**References:**\n",
    "- [Naas Chat Documentation](https://site.naas.ai/docs/platform/aI-powered-chat)\n",
    "- [Naas Chat Plugin driver](https://github.com/jupyter-naas/drivers/blob/main/naas_drivers/tools/naas_chat_plugin.py)"
   ]
  },
  {
   "cell_type": "markdown",
   "id": "cff349c8-2816-4ae4-9229-027c068eeb51",
   "metadata": {
    "papermill": {},
    "tags": []
   },
   "source": [
    "## Input"
   ]
  },
  {
   "cell_type": "markdown",
   "id": "80266a9e-fe54-4f3e-aeb2-01483bbc53f9",
   "metadata": {
    "papermill": {},
    "tags": []
   },
   "source": [
    "### Import libraries"
   ]
  },
  {
   "cell_type": "code",
   "execution_count": null,
   "id": "cc038b10-2679-42bc-909e-09a298339df4",
   "metadata": {
    "papermill": {},
    "tags": []
   },
   "outputs": [],
   "source": [
    "import os\n",
    "import requests\n",
    "import pandas as pd\n",
    "import json\n",
    "import openai\n",
    "from naas_drivers import gsheet\n",
    "import naas\n",
    "import urllib.parse\n",
    "pd.set_option('display.max_colwidth', None)"
   ]
  },
  {
   "cell_type": "markdown",
   "id": "e930da4d-39a2-424e-8808-77fd0a3829bf",
   "metadata": {
    "papermill": {},
    "tags": []
   },
   "source": [
    "### Setup variables\n",
    "- `github_url`: Stores the URL to a JSON file hosted on GitHub.\n",
    "- `openai.api_key`: Connect to OpenAI with the API key.\n",
    "- `spreadsheet_url`: Stores the URL of a Google Sheets document.\n",
    "- `sheet_name`: Stores the name of a specific sheet within the Google Sheets document.\n",
    "- `output_dir`: Stores the directory where the output will be stored."
   ]
  },
  {
   "cell_type": "code",
   "execution_count": null,
   "id": "6cf9bd9b-ce83-45a5-ab0f-15c978458b42",
   "metadata": {
    "papermill": {},
    "tags": []
   },
   "outputs": [],
   "source": [
    "github_url = \"https://raw.githubusercontent.com/jupyter-naas/awesome-notebooks/master/templates.json\"\n",
    "openai.api_key = naas.secret.get(\"OPENAI_API_KEY\")\n",
    "spreadsheet_url = \"https://docs.google.com/spreadsheets/d/1wediMdHcq5WDqLMZ7ryNrcPxCmlX8BX4ZEl3JNWT8wg/edit#gid=0\"\n",
    "sheet_name = \"ABI_V0.1\"\n",
    "output_dir = \"title\""
   ]
  },
  {
   "cell_type": "markdown",
   "id": "9070993a-eec9-4f78-a7f9-2e18c743a20d",
   "metadata": {
    "papermill": {},
    "tags": []
   },
   "source": [
    "## Model"
   ]
  },
  {
   "cell_type": "markdown",
   "id": "362026e3-1757-49f1-8190-d9bcbfbf5eb2",
   "metadata": {},
   "source": [
    "### Get templates from JSON"
   ]
  },
  {
   "cell_type": "code",
   "execution_count": null,
   "id": "f0d089b3-c653-4f92-91a7-755f0c8909a3",
   "metadata": {
    "tags": []
   },
   "outputs": [],
   "source": [
    "def get_templates(url):\n",
    "    res = requests.get(url)\n",
    "    df =  pd.DataFrame(res.json())\n",
    "    return df\n",
    "\n",
    "df_templates = get_templates(github_url)\n",
    "print(\"Templates:\", len(df_templates))\n",
    "df_templates.head(1)"
   ]
  },
  {
   "cell_type": "markdown",
   "id": "b9c4174e-a85b-4fb4-82db-fef2cbbc06d6",
   "metadata": {},
   "source": [
    "### Prep dataset for Fine-Tuning"
   ]
  },
  {
   "cell_type": "code",
   "execution_count": null,
   "id": "d3bc74ad-355d-4a2e-b3f1-95ec421f60c0",
   "metadata": {
    "tags": []
   },
   "outputs": [],
   "source": [
    "def prep_data(df_init):\n",
    "    df = df_init.copy()\n",
    "    df.insert(loc=1, column=\"title\", value=df[\"tool\"] + \" - \" + df[\"notebook\"])\n",
    "    to_drop = [\n",
    "        \"objectID\",\n",
    "        \"tool\",\n",
    "        \"notebook\",\n",
    "        \"action\",\n",
    "        \"image_url\",\n",
    "        \"imports\",\n",
    "    ]\n",
    "    df = df.drop(to_drop, axis=1)\n",
    "    return df.reset_index(drop=True)\n",
    "\n",
    "df_finetuning = prep_data(df_templates)\n",
    "df_finetuning.head(1)"
   ]
  },
  {
   "cell_type": "markdown",
   "id": "f0a2aeda-f463-4376-9dbb-362477d600ca",
   "metadata": {},
   "source": [
    "### Generate question from text"
   ]
  },
  {
   "cell_type": "code",
   "execution_count": null,
   "id": "720c23a6-0b39-474a-8176-fcc17372b687",
   "metadata": {
    "papermill": {},
    "tags": []
   },
   "outputs": [],
   "source": [
    "def generate_question_from_text(\n",
    "    text,\n",
    "):\n",
    "    # OpenAI API call\n",
    "    response = openai.ChatCompletion.create(\n",
    "        model=\"gpt-4\",\n",
    "        temperature=1,\n",
    "        messages=[\n",
    "            {\n",
    "                \"role\": \"user\",\n",
    "                \"content\": f\"Create a question from: {text}\"\n",
    "            }\n",
    "        ]\n",
    "    )\n",
    "    return response['choices'][0]['message']['content']\n",
    "\n",
    "# prompt = \"\"\"\n",
    "# Create a dataset of 20 questions and answers pairs based on notebooks.\n",
    "\n",
    "# Data provided:\n",
    "# title: The title of the notebook.\n",
    "# tags: Tags or keywords associated with the notebook.\n",
    "# author: The author of the notebook.\n",
    "# author_url: The URL or link associated with the author.\n",
    "# updated_at: The date and time when the notebook was last updated.\n",
    "# created_at: The date and time when the notebook was created.\n",
    "# description: A brief description or summary of the notebook.\n",
    "# open_in_lab: A link to open the notebook or project in a lab environment.\n",
    "# open_in_chat: A link to open the notebook or project in a chat environment.\n",
    "# notebook_url: The GitHub URL associated with the notebook.\n",
    "# imports: The libraries/packages used on the notebook.\n",
    "\n",
    "# ```instructions\n",
    "# WRITE IN THE LANGUAGE THE TEXT IS IN\n",
    "# WRITE COMPLETE ANSWER IN NATURAL LANGUAGE AND NOT ONLY THE RESULT\n",
    "# BE CURIOUS AND TRY MIMIC A HUMAN BEHAVIOUR\n",
    "# RETURN RESULT IN A CORRECT JSON FORMAT\n",
    "# ```\n",
    "# \"\"\"\n",
    "\n",
    "result = generate_question_from_text(\n",
    "    \"AWS - Daily biling notification to slack\",\n",
    ")\n",
    "print(\"Result:\")\n",
    "print(result)\n",
    "print()"
   ]
  },
  {
   "cell_type": "markdown",
   "id": "7ae7bff0-852a-4089-8aff-0c0627d5f5f5",
   "metadata": {},
   "source": [
    "### Create dataset"
   ]
  },
  {
   "cell_type": "code",
   "execution_count": null,
   "id": "f945e18c-cf22-4638-b02e-4779a184cf0a",
   "metadata": {
    "tags": []
   },
   "outputs": [],
   "source": [
    "final_df = pd.DataFrame()\n",
    "\n",
    "for row in df_finetuning.itertuples():\n",
    "    # Init\n",
    "    index = row.Index\n",
    "    title = row.title\n",
    "    open_in_lab = row.open_in_lab\n",
    "    open_in_chat = row.open_in_chat\n",
    "    notebook_url = row.notebook_url\n",
    "    if open_in_chat != \"\":\n",
    "        open_in_chat = f\"or use it directly in Naas Chat '{open_in_chat}'.\"\n",
    "    else:\n",
    "        open_in_chat = \".\"\n",
    "    print(f\"{index+1} - Starting with: '{title}'\")\n",
    "\n",
    "    # Create file path\n",
    "    file_name = notebook_url.split(\"/\")[-1].lower().replace(\".ipynb\", \"_title_question.json\")\n",
    "    file_path = os.path.join(output_dir, file_name)\n",
    "    answer = f\"You can do this by using the template '{title}' from Naas awesome-notebooks catalog. Check out the notebook in our search here: 'https://naas.ai/search?q={urllib.parse.quote(title)}'\"\n",
    "    if not os.path.exists(file_path) and index + 1 < len(df_finetuning):        \n",
    "        # Call OpenAI API\n",
    "        question = generate_question_from_text(title)\n",
    "#         answer = f\"You can do this by using the template '{title}' from Naas awesome-notebooks catalog. Check out the notebook on GitHub '{notebook_url}' or open it directly in Naas Lab '{open_in_lab}'{open_in_chat}\"\n",
    "        # Create data\n",
    "        data = {\n",
    "            \"question\": question,\n",
    "            \"answer\": answer\n",
    "        }\n",
    "        \n",
    "        # Save the extracted data as JSON\n",
    "        with open(file_path, 'w') as json_file:\n",
    "            json.dump(data, json_file)\n",
    "    else:\n",
    "        with open(file_path, 'r') as json_file:\n",
    "            data = json.load(json_file)\n",
    "        data[\"answer\"] = answer\n",
    "        print(f\"✅ JSON '{file_name}' already exists.\")\n",
    "        \n",
    "    # Concat df\n",
    "    tmp_df = pd.DataFrame([data])\n",
    "    final_df = pd.concat([final_df, tmp_df])\n",
    "\n",
    "final_df"
   ]
  },
  {
   "cell_type": "markdown",
   "id": "81ce4521-731f-42cb-8ace-0e7611c750b3",
   "metadata": {
    "papermill": {},
    "tags": []
   },
   "source": [
    "## Output"
   ]
  },
  {
   "cell_type": "markdown",
   "id": "3a96239e-915a-4528-b591-08b0ab454d16",
   "metadata": {
    "execution": {
     "iopub.execute_input": "2023-11-08T16:24:32.115593Z",
     "iopub.status.busy": "2023-11-08T16:24:32.115365Z",
     "iopub.status.idle": "2023-11-08T16:24:32.135072Z",
     "shell.execute_reply": "2023-11-08T16:24:32.134367Z",
     "shell.execute_reply.started": "2023-11-08T16:24:32.115571Z"
    },
    "tags": []
   },
   "source": [
    "### Send to Google Sheets spreadsheet"
   ]
  },
  {
   "cell_type": "code",
   "execution_count": null,
   "id": "c2737632-4e5d-4d84-8ba9-eef54e03acc2",
   "metadata": {
    "tags": []
   },
   "outputs": [],
   "source": [
    "gsheet.connect(spreadsheet_url).send(sheet_name=sheet_name, data=final_df, append=False)"
   ]
  },
  {
   "cell_type": "code",
   "execution_count": null,
   "id": "be1bbcdc-8098-4cce-8c28-c2a870f6e385",
   "metadata": {},
   "outputs": [],
   "source": []
  }
 ],
 "metadata": {
  "kernelspec": {
   "display_name": "Python 3",
   "language": "python",
   "name": "python3"
  },
  "language_info": {
   "codemirror_mode": {
    "name": "ipython",
    "version": 3
   },
   "file_extension": ".py",
   "mimetype": "text/x-python",
   "name": "python",
   "nbconvert_exporter": "python",
   "pygments_lexer": "ipython3",
   "version": "3.9.6"
  },
  "naas": {
   "notebook_id": "d376a4cfdf00d1197e0cd54cf4e801052d22a6e15133079bf4d3ff56c29fc5a0",
   "notebook_path": "GitHub/GitHub_Create_plugin_with_commands.ipynb"
  },
  "papermill": {
   "default_parameters": {},
   "environment_variables": {},
   "parameters": {},
   "version": "2.4.0"
  },
  "widgets": {
   "application/vnd.jupyter.widget-state+json": {
    "state": {},
    "version_major": 2,
    "version_minor": 0
   }
  }
 },
 "nbformat": 4,
 "nbformat_minor": 5
}
