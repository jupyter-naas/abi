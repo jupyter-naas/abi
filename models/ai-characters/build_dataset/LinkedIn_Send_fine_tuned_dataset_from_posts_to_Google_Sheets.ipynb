{
 "cells": [
  {
   "cell_type": "markdown",
   "id": "a63d6c34-9286-43c5-84a9-a2d6b834d417",
   "metadata": {
    "execution": {
     "iopub.execute_input": "2021-01-25T08:00:35.294800Z",
     "iopub.status.busy": "2021-01-25T08:00:35.294557Z",
     "iopub.status.idle": "2021-01-25T08:00:35.307281Z",
     "shell.execute_reply": "2021-01-25T08:00:35.306468Z",
     "shell.execute_reply.started": "2021-01-25T08:00:35.294775Z"
    },
    "papermill": {},
    "tags": []
   },
   "source": [
    "<img width=\"8%\" alt=\"LinkedIn.png\" src=\"https://raw.githubusercontent.com/jupyter-naas/awesome-notebooks/master/.github/assets/logos/LinkedIn.png\" style=\"border-radius: 15%\">"
   ]
  },
  {
   "cell_type": "markdown",
   "id": "f22a4956-b4fe-4e10-8436-e9951934ec88",
   "metadata": {},
   "source": [
    "# LinkedIn - Send Fine-tuned dataset from posts to Google Sheets"
   ]
  },
  {
   "cell_type": "markdown",
   "id": "93292a24-d263-4110-9870-a1bf2ef9f47c",
   "metadata": {
    "papermill": {},
    "tags": []
   },
   "source": [
    "**Tags:** #linkedin #profile #post #stats #naas_drivers #content #automation #gsheet"
   ]
  },
  {
   "cell_type": "markdown",
   "id": "94bef212-7c22-4c65-8f13-b1f3191c560b",
   "metadata": {
    "papermill": {},
    "tags": []
   },
   "source": [
    "**Author:** [Maxime Jublou](https://www.linkedin.com/in/maximejublou/)"
   ]
  },
  {
   "cell_type": "markdown",
   "id": "85fc9557-a04d-4dac-a064-157ad3506726",
   "metadata": {
    "papermill": {},
    "tags": []
   },
   "source": [
    "**Last update:** 2023-11-14 (Created: 2023-11-14)"
   ]
  },
  {
   "cell_type": "markdown",
   "id": "10337c9c-e1e2-446e-8d44-663296cdfb97",
   "metadata": {
    "papermill": {},
    "tags": [
     "description"
    ]
   },
   "source": [
    "**Description:** This notebook fetches your profile's post statistics from LinkedIn, transform them into a dataset to be fine-tuned with an LLM model."
   ]
  },
  {
   "cell_type": "markdown",
   "id": "653ef948-4c50-4d8b-9c15-47bf896b21c4",
   "metadata": {
    "papermill": {},
    "tags": []
   },
   "source": [
    "\n",
    "<div class=\"alert alert-info\" role=\"info\" style=\"margin: 10px\">\n",
    "<b>Disclaimer:</b><br>\n",
    "This code is in no way affiliated with, authorized, maintained, sponsored or endorsed by Linkedin or any of its affiliates or subsidiaries. It uses an independent and unofficial API. Use at your own risk.\n",
    "\n",
    "This project violates Linkedin's User Agreement Section 8.2, and because of this, Linkedin may (and will) temporarily or permanently ban your account. We are not responsible for your account being banned.\n",
    "<br>\n",
    "</div>"
   ]
  },
  {
   "cell_type": "markdown",
   "id": "ef87eb95-b54b-4e66-b4bd-0a62795cbdb9",
   "metadata": {
    "papermill": {},
    "tags": []
   },
   "source": [
    "### Import libraries"
   ]
  },
  {
   "cell_type": "code",
   "execution_count": null,
   "id": "a8f41327-eaf3-4a82-9d33-52af8b517542",
   "metadata": {
    "papermill": {},
    "tags": []
   },
   "outputs": [],
   "source": [
    "from naas_drivers import linkedin, gsheet\n",
    "import naas\n",
    "import pickle\n",
    "import openai\n",
    "import json\n",
    "from tqdm import tqdm\n",
    "import pandas as pd\n",
    "import time\n",
    "from IPython import display\n",
    "import naas_data_product"
   ]
  },
  {
   "cell_type": "markdown",
   "id": "c6c570b2-8fa1-4444-8e7f-2a05a2ece1bc",
   "metadata": {
    "papermill": {},
    "tags": []
   },
   "source": [
    "### Setup variables\n",
    "**Mandatory**\n",
    "\n",
    "[Learn how to get your cookies on LinkedIn](https://www.notion.so/LinkedIn-driver-Get-your-cookies-d20a8e7e508e42af8a5b52e33f3dba75)\n",
    "- `li_at`: Cookie used to authenticate Members and API clients.\n",
    "- `JSESSIONID`: Cookie used for Cross Site Request Forgery (CSRF) protection and URL signature validation.\n",
    "- `linkedin_url`: This variable represents the LinkedIn profile URL.\n",
    "- `openai.api_key`: Connect to OpenAI with the API key.\n",
    "\n",
    "**Optional**\n",
    "- `limit`: number of posts to be retrieved."
   ]
  },
  {
   "cell_type": "code",
   "execution_count": null,
   "id": "7645fb7c-a4ad-4833-a534-b0be1312e13b",
   "metadata": {
    "papermill": {},
    "tags": []
   },
   "outputs": [],
   "source": [
    "# Avatar meta\n",
    "avatar_name = \"Maxime Jublou\"\n",
    "\n",
    "# Mandatory\n",
    "li_at = naas.secret.get(\"LINKEDIN_LI_AT\") or \"YOUR_LINKEDIN_LI_AT\" #example: AQFAzQN_PLPR4wAAAXc-FCKmgiMit5FLdY1af3-2\n",
    "JSESSIONID = naas.secret.get(\"LINKEDIN_JSESSIONID\") or \"YOUR_LINKEDIN_JSESSIONID\" #example: ajax:8379907400220387585\n",
    "linkedin_url = \"https://www.linkedin.com/in/maximejublou/\"  # EXAMPLE \"https://www.linkedin.com/in/XXXXXX/\"\n",
    "openai.api_key = naas.secret.get(\"OPENAI_API_KEY\")\n",
    "spreadsheet_url = \"https://docs.google.com/spreadsheets/d/1wediMdHcq5WDqLMZ7ryNrcPxCmlX8BX4ZEl3JNWT8wg/edit#gid=0\"\n",
    "sheet_name = \"Maxime_LK_posts\"\n",
    "\n",
    "# Optional\n",
    "output_dir = os.path.join(naas_data_product.OUTPUTS_PATH, \"ai-characters\", avatar_name.lower().replace(\" \", \"_\"))\n",
    "os.makedirs(output_dir, exist_ok=True)\n",
    "limit = 30"
   ]
  },
  {
   "cell_type": "markdown",
   "id": "28947332-c78d-428a-8399-397245f55486",
   "metadata": {
    "papermill": {},
    "tags": []
   },
   "source": [
    "## Model"
   ]
  },
  {
   "cell_type": "markdown",
   "id": "b0c47e32-b3cf-4074-bb6c-baa1a8dc3036",
   "metadata": {},
   "source": [
    "### Get posts"
   ]
  },
  {
   "cell_type": "code",
   "execution_count": null,
   "id": "294870ce-3701-45dd-90f9-efa470e14845",
   "metadata": {
    "tags": []
   },
   "outputs": [],
   "source": [
    "posts = pload(output_dir, 'posts')\n",
    "\n",
    "if posts is None:\n",
    "    posts = linkedin.connect(li_at, JSESSIONID).profile.get_posts_feed(linkedin_url, limit=limit, sleep=False)\n",
    "    pdump(output_dir, posts, 'posts')\n",
    "\n",
    "posts"
   ]
  },
  {
   "cell_type": "markdown",
   "id": "129ca6d9-5fe8-46dd-a92f-f4625082dc67",
   "metadata": {},
   "source": [
    "### Generate questions that should lead to post generation"
   ]
  },
  {
   "cell_type": "code",
   "execution_count": null,
   "id": "10f4c758-cefb-49cd-aefe-0a0ce7b97c81",
   "metadata": {
    "tags": []
   },
   "outputs": [],
   "source": [
    "def generate_question_from_text(text, prompt, text_model):\n",
    "    response = openai.ChatCompletion.create(\n",
    "        model=text_model,\n",
    "        temperature=0,\n",
    "        messages=[\n",
    "            {\n",
    "                \"role\": \"system\",\n",
    "                \"content\": prompt\n",
    "            },\n",
    "            {\n",
    "                \"role\": \"user\",\n",
    "                \"content\": text\n",
    "            }\n",
    "        ]\n",
    "    )\n",
    "    \n",
    "    return response['choices'][0]['message']['content']\n",
    "\n",
    "    \n",
    "question_prompt = f\"\"\"\n",
    "    You are a highly skilled AI trained in language comprehension and creation of prompt that could lead to the text provided by the user.\n",
    "    I would like you to read the following text and create the prompt that would lead to the LLM generate that specific text.\n",
    "    The texts being provided are post from LinkedIn.\n",
    "    Please avoid unnecessary details or tangential points.\n",
    "    \n",
    "    ```instructions\n",
    "    WRITE IN THE LANGUAGE THE TEXT IS IN\n",
    "    ```\n",
    "\"\"\"\n",
    "\n",
    "texts = [p.TEXT for _, p in posts.iterrows()]\n",
    "questions = pload(output_dir, 'questions')\n",
    "\n",
    "if questions is None:\n",
    "    questions = [generate_question_from_text(text, question_prompt, \"gpt-4\") for text in tqdm(texts)]\n",
    "    pdump(output_dir, questions, 'questions')\n",
    "\n",
    "questions"
   ]
  },
  {
   "cell_type": "markdown",
   "id": "882328d8-4855-44c1-8ab5-345c2236a181",
   "metadata": {
    "execution": {
     "iopub.execute_input": "2023-11-14T16:36:05.685650Z",
     "iopub.status.busy": "2023-11-14T16:36:05.685420Z",
     "iopub.status.idle": "2023-11-14T16:36:05.689299Z",
     "shell.execute_reply": "2023-11-14T16:36:05.688682Z",
     "shell.execute_reply.started": "2023-11-14T16:36:05.685627Z"
    },
    "tags": []
   },
   "source": [
    "### Create DataFrame question & answer"
   ]
  },
  {
   "cell_type": "code",
   "execution_count": null,
   "id": "58b2e374-77ce-4736-a4f5-443aaa4d51ac",
   "metadata": {
    "tags": []
   },
   "outputs": [],
   "source": [
    "dataset = []\n",
    "\n",
    "for index, q in enumerate(questions):\n",
    "    dataset.append(\n",
    "        {\n",
    "            \"question\": questions[index],\n",
    "            \"answer\": texts[index]\n",
    "        }\n",
    "    )\n",
    "    \n",
    "final_df = pd.DataFrame(dataset)\n",
    "final_df"
   ]
  },
  {
   "cell_type": "markdown",
   "id": "84de7551-af0a-47cb-a788-5006bad2f988",
   "metadata": {
    "execution": {
     "iopub.execute_input": "2023-10-13T13:05:54.198418Z",
     "iopub.status.busy": "2023-10-13T13:05:54.198196Z",
     "iopub.status.idle": "2023-10-13T13:05:54.201182Z",
     "shell.execute_reply": "2023-10-13T13:05:54.200502Z",
     "shell.execute_reply.started": "2023-10-13T13:05:54.198395Z"
    },
    "tags": []
   },
   "source": [
    "## Output"
   ]
  },
  {
   "cell_type": "markdown",
   "id": "3feac69f-fbdd-4d6a-8d16-7fb9e57d4cb3",
   "metadata": {
    "execution": {
     "iopub.execute_input": "2023-11-08T16:24:32.115593Z",
     "iopub.status.busy": "2023-11-08T16:24:32.115365Z",
     "iopub.status.idle": "2023-11-08T16:24:32.135072Z",
     "shell.execute_reply": "2023-11-08T16:24:32.134367Z",
     "shell.execute_reply.started": "2023-11-08T16:24:32.115571Z"
    },
    "tags": []
   },
   "source": [
    "### Send to Google Sheets spreadsheet"
   ]
  },
  {
   "cell_type": "code",
   "execution_count": null,
   "id": "4e3e9893-972b-44f1-8119-b50e4dcd3e5e",
   "metadata": {
    "tags": []
   },
   "outputs": [],
   "source": [
    "gsheet.connect(spreadsheet_url).send(sheet_name=sheet_name, data=final_df, append=False)"
   ]
  },
  {
   "cell_type": "code",
   "execution_count": null,
   "id": "6b67cc19-3207-4a03-a426-523bc7ac3c62",
   "metadata": {},
   "outputs": [],
   "source": []
  }
 ],
 "metadata": {
  "kernelspec": {
   "display_name": "Python 3",
   "language": "python",
   "name": "python3"
  },
  "language_info": {
   "codemirror_mode": {
    "name": "ipython",
    "version": 3
   },
   "file_extension": ".py",
   "mimetype": "text/x-python",
   "name": "python",
   "nbconvert_exporter": "python",
   "pygments_lexer": "ipython3",
   "version": "3.9.6"
  }
 },
 "nbformat": 4,
 "nbformat_minor": 5
}
