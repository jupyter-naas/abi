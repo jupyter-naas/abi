{
 "cells": [
  {
   "cell_type": "markdown",
   "id": "latin-packing",
   "metadata": {
    "execution": {
     "iopub.execute_input": "2021-02-23T14:22:16.610471Z",
     "iopub.status.busy": "2021-02-23T14:22:16.610129Z",
     "iopub.status.idle": "2021-02-23T14:22:16.627784Z",
     "shell.execute_reply": "2021-02-23T14:22:16.626866Z",
     "shell.execute_reply.started": "2021-02-23T14:22:16.610384Z"
    },
    "papermill": {},
    "tags": []
   },
   "source": [
    "<img width=\"10%\" alt=\"Naas\" src=\"https://landen.imgix.net/jtci2pxwjczr/assets/5ice39g4.png?w=160\"/>"
   ]
  },
  {
   "cell_type": "markdown",
   "id": "compressed-wilson",
   "metadata": {
    "papermill": {},
    "tags": []
   },
   "source": [
    "# Supabase - Update available models"
   ]
  },
  {
   "cell_type": "markdown",
   "id": "religious-programmer",
   "metadata": {},
   "source": [
    "**Tags**: #gsheet #openai #finetuning #ai #llm"
   ]
  },
  {
   "cell_type": "markdown",
   "id": "1fe9f56e-561c-4f52-aef8-b861c9462107",
   "metadata": {},
   "source": [
    "**Author:** [Maxime Jublou](https://www.linkedin.com/in/maximejublou)"
   ]
  },
  {
   "cell_type": "markdown",
   "id": "0de144be-594d-463e-9849-696fb2f6d1a8",
   "metadata": {},
   "source": [
    "**Last update:** 2023-11-08 (Created: 2023-11-08)"
   ]
  },
  {
   "cell_type": "markdown",
   "id": "31ea7cdb-e10d-43fc-b026-f69249a59736",
   "metadata": {},
   "source": [
    "**Description:** This notebook fine tuned a dataset from a Google spreadsheet with an OpenAI model to create your own model."
   ]
  },
  {
   "cell_type": "markdown",
   "id": "d4b89388-5cd5-409a-8169-c53cc8dfab96",
   "metadata": {},
   "source": [
    "**References:**\n",
    "- [OpenAI Fine-tuning](https://platform.openai.com/docs/guides/fine-tuning)"
   ]
  },
  {
   "cell_type": "markdown",
   "id": "distinguished-truth",
   "metadata": {
    "papermill": {},
    "tags": []
   },
   "source": [
    "## Input"
   ]
  },
  {
   "cell_type": "markdown",
   "id": "numeric-mediterranean",
   "metadata": {},
   "source": [
    "### Import libraries"
   ]
  },
  {
   "cell_type": "code",
   "execution_count": null,
   "id": "potential-surfing",
   "metadata": {
    "tags": []
   },
   "outputs": [],
   "source": [
    "import naas\n",
    "import pandas as pd\n",
    "import psycopg2\n",
    "import os\n",
    "import naas_data_product"
   ]
  },
  {
   "cell_type": "markdown",
   "id": "aggressive-trustee",
   "metadata": {},
   "source": [
    "### Setup variables"
   ]
  },
  {
   "cell_type": "code",
   "execution_count": null,
   "id": "continuous-melbourne",
   "metadata": {
    "tags": [
     "parameters"
    ]
   },
   "outputs": [],
   "source": [
    "avatar_name = \"Jeremy Ravenel\"\n",
    "output_dir = \".\"\n",
    "print(\"Output directory:\", output_dir)\n",
    "\n",
    "avatar_model_alias = \"naas/jeremy_linkedin_posts\"\n",
    "avatar_image = \"https://cl-151.imagineapi.dev/assets/65c5b0bb-1507-454b-8da9-c1518478c683.png\"\n",
    "model = None"
   ]
  },
  {
   "cell_type": "markdown",
   "id": "registered-showcase",
   "metadata": {},
   "source": [
    "## Model"
   ]
  },
  {
   "cell_type": "markdown",
   "id": "6b3b8e88-3748-4ca7-b695-6f61300f3a1e",
   "metadata": {},
   "source": [
    "### Get model from output dir and create plugin output path"
   ]
  },
  {
   "cell_type": "code",
   "execution_count": null,
   "id": "4010772a-a7dd-4805-b4da-fc54c5e03c24",
   "metadata": {
    "tags": []
   },
   "outputs": [],
   "source": [
    "if not model:\n",
    "    files = os.listdir(output_dir)\n",
    "    sorted_files = sorted(files, key=lambda x: os.path.getctime(os.path.join(output_dir, x)), reverse=True)\n",
    "    for file in sorted_files:\n",
    "        if file.startswith(\"ft:\"):\n",
    "            model = file\n",
    "            print(\"Model:\", model)\n",
    "            break"
   ]
  },
  {
   "cell_type": "markdown",
   "id": "f7f683d2-dab4-4f06-96c1-738a14e5af1e",
   "metadata": {},
   "source": [
    "### Connect to Supabase DB (Postgres)"
   ]
  },
  {
   "cell_type": "code",
   "execution_count": null,
   "id": "bcfe9725-85be-4e25-932b-e27c9f93b27b",
   "metadata": {
    "tags": []
   },
   "outputs": [],
   "source": [
    "POSTGRES_HOST = \"db.qsrivaytpfnitatvgfky.supabase.co\"\n",
    "POSTGRES_PORT = \"5432\"\n",
    "POSTGRES_DATABASE = \"postgres\"\n",
    "POSTGRES_USER = \"postgres\"\n",
    "POSTGRES_PASSWORD = naas.secret.get('WORKSPACE_POSTGRES_PASSWORD')\n",
    "\n",
    "class Postgres:\n",
    "    \n",
    "    def __init__(self, host, port, database, user, password):\n",
    "        self.conn = psycopg2.connect(\n",
    "            host=host,\n",
    "            port=port,\n",
    "            database=database,\n",
    "            user=user,\n",
    "            password=password\n",
    "        )\n",
    "        \n",
    "        \n",
    "    def __convert_pg_rows_to_dataframe(self, cursor):\n",
    "        if not cursor.description:\n",
    "            return None\n",
    "        \n",
    "        # Get the column names from the result set\n",
    "        columns = [desc[0] for desc in cursor.description]\n",
    "\n",
    "        # Get the data from the result set\n",
    "        data = cursor.fetchall()\n",
    "\n",
    "        # Create a DataFrame from the data and column names\n",
    "        df = pd.DataFrame(data, columns=columns)\n",
    "\n",
    "        return df.reset_index(drop=True)\n",
    "    \n",
    "    def query(self, q, commit=False):\n",
    "        # Create a cursor object\n",
    "        cur = self.conn.cursor()\n",
    "\n",
    "        # Execute an SQL query\n",
    "        cur.execute(q)\n",
    "\n",
    "                \n",
    "        if commit:\n",
    "            self.conn.commit()\n",
    "        \n",
    "        rows = []\n",
    "        if cur:\n",
    "            # Fetch all rows from the result set\n",
    "            rows = self.__convert_pg_rows_to_dataframe(cur)\n",
    "\n",
    "        # Close the cursor and the connection\n",
    "        cur.close()\n",
    "        return rows\n",
    "        \n",
    "pg = Postgres(\n",
    "    host=POSTGRES_HOST,\n",
    "    port=POSTGRES_PORT,\n",
    "    database=POSTGRES_DATABASE,\n",
    "    user=POSTGRES_USER,\n",
    "    password=POSTGRES_PASSWORD\n",
    ")"
   ]
  },
  {
   "cell_type": "markdown",
   "id": "lonely-pacific",
   "metadata": {
    "execution": {
     "iopub.execute_input": "2021-07-02T23:32:10.789097Z",
     "iopub.status.busy": "2021-07-02T23:32:10.788829Z",
     "iopub.status.idle": "2021-07-02T23:32:10.796900Z",
     "shell.execute_reply": "2021-07-02T23:32:10.796358Z",
     "shell.execute_reply.started": "2021-07-02T23:32:10.789033Z"
    }
   },
   "source": [
    "## Output"
   ]
  },
  {
   "cell_type": "markdown",
   "id": "e6226ebd-0c21-403a-a1f8-e5ef94693560",
   "metadata": {},
   "source": [
    "### Update or create model"
   ]
  },
  {
   "cell_type": "code",
   "execution_count": null,
   "id": "11cd30fc-d244-4321-b4d9-de5fafa1119b",
   "metadata": {
    "tags": []
   },
   "outputs": [],
   "source": [
    "MODEL_PROVIDER = \"openAI\"\n",
    "MODEL_TYPE = \"chat\"\n",
    "MODEL_ENABLED = True\n",
    "MODEL_RESTRICTED = True\n",
    "\n",
    "models = pg.query(f\"SELECT * FROM models WHERE name_alias='{avatar_model_alias}'\")\n",
    "\n",
    "if len(models) == 1:\n",
    "    model = models.iloc[0]\n",
    "    res = pg.query(f\"UPDATE models SET name='{model}' WHERE id='{model.id}'\", commit=True)\n",
    "elif len(models) == 0:\n",
    "    res = pg.query(f\"INSERT INTO models (name, name_alias, provider, image, enabled, type, restricted) VALUES ('{model}', '{avatar_model_alias}', '{MODEL_PROVIDER}', '{avatar_image}', {MODEL_ENABLED}, '{MODEL_TYPE}', {MODEL_RESTRICTED})\", commit=True)\n",
    "    \n",
    "models = pg.query(f\"SELECT * FROM models WHERE name_alias='{avatar_model_alias}'\")\n",
    "model_id = models.iloc[0].id\n",
    "model_id"
   ]
  },
  {
   "cell_type": "markdown",
   "id": "e5c99e8b-1037-4dd8-a547-c4d66f66084d",
   "metadata": {},
   "source": [
    "### Link models to users"
   ]
  },
  {
   "cell_type": "code",
   "execution_count": null,
   "id": "5aeb700e-8bc5-439b-9066-52e7fc5c7ec8",
   "metadata": {
    "tags": []
   },
   "outputs": [],
   "source": [
    "WORKSPACE_USERS = [\n",
    "    \"maxime@naas.ai\",\n",
    "    \"jeremy@naas.ai\",\n",
    "    \"florent@naas.ai\"\n",
    "]\n",
    "\n",
    "def link_model_to_user(p, model_id, user_id):\n",
    "    if len(p.query(f\"SELECT * FROM restricted_model_user WHERE model_id='{model_id}' AND user_id='{user_id}'\")) == 0:\n",
    "        p.query(f\"INSERT INTO restricted_model_user (model_id, user_id) VALUES ('{model_id}', '{user_id}')\", commit=True)\n",
    "        print('✅ User linked')\n",
    "    else:\n",
    "        print('✅ User already linked')\n",
    "        \n",
    "for user in WORKSPACE_USERS:\n",
    "    print(user)\n",
    "    u = pg.query(f\"SELECT * FROM users WHERE email='{user}'\")\n",
    "    user_id = u.iloc[0].id\n",
    "    link_model_to_user(pg, model_id, user_id)"
   ]
  },
  {
   "cell_type": "code",
   "execution_count": null,
   "id": "7cccc041-645c-4a1b-9b6a-46fa310fe93f",
   "metadata": {},
   "outputs": [],
   "source": []
  }
 ],
 "metadata": {
  "kernelspec": {
   "display_name": "Python 3",
   "language": "python",
   "name": "python3"
  },
  "language_info": {
   "codemirror_mode": {
    "name": "ipython",
    "version": 3
   },
   "file_extension": ".py",
   "mimetype": "text/x-python",
   "name": "python",
   "nbconvert_exporter": "python",
   "pygments_lexer": "ipython3",
   "version": "3.9.6"
  },
  "papermill": {
   "default_parameters": {},
   "environment_variables": {},
   "parameters": {},
   "version": "2.3.3"
  },
  "widgets": {
   "application/vnd.jupyter.widget-state+json": {
    "state": {},
    "version_major": 2,
    "version_minor": 0
   }
  }
 },
 "nbformat": 4,
 "nbformat_minor": 5
}
