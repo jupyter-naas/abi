{
 "cells": [
  {
   "cell_type": "markdown",
   "id": "latin-packing",
   "metadata": {
    "execution": {
     "iopub.execute_input": "2021-02-23T14:22:16.610471Z",
     "iopub.status.busy": "2021-02-23T14:22:16.610129Z",
     "iopub.status.idle": "2021-02-23T14:22:16.627784Z",
     "shell.execute_reply": "2021-02-23T14:22:16.626866Z",
     "shell.execute_reply.started": "2021-02-23T14:22:16.610384Z"
    },
    "papermill": {},
    "tags": []
   },
   "source": [
    "<img width=\"10%\" alt=\"Naas\" src=\"https://landen.imgix.net/jtci2pxwjczr/assets/5ice39g4.png?w=160\"/>"
   ]
  },
  {
   "cell_type": "markdown",
   "id": "compressed-wilson",
   "metadata": {
    "papermill": {},
    "tags": []
   },
   "source": [
    "# Google Sheet - Fine tune dataset with OpenAI"
   ]
  },
  {
   "cell_type": "markdown",
   "id": "religious-programmer",
   "metadata": {},
   "source": [
    "**Tags**: #gsheet #openai #finetuning #ai #llm"
   ]
  },
  {
   "cell_type": "markdown",
   "id": "1fe9f56e-561c-4f52-aef8-b861c9462107",
   "metadata": {},
   "source": [
    "**Author:** [Maxime Jublou](https://www.linkedin.com/in/maximejublou)"
   ]
  },
  {
   "cell_type": "markdown",
   "id": "0de144be-594d-463e-9849-696fb2f6d1a8",
   "metadata": {},
   "source": [
    "**Last update:** 2023-11-08 (Created: 2023-11-08)"
   ]
  },
  {
   "cell_type": "markdown",
   "id": "31ea7cdb-e10d-43fc-b026-f69249a59736",
   "metadata": {},
   "source": [
    "**Description:** This notebook fine tuned a dataset from a Google spreadsheet with an OpenAI model to create your own model."
   ]
  },
  {
   "cell_type": "markdown",
   "id": "d4b89388-5cd5-409a-8169-c53cc8dfab96",
   "metadata": {},
   "source": [
    "**References:** list of references and websites utilized in the creation of this notebook\n",
    "- [OpenAI Fine-tuning](https://platform.openai.com/docs/guides/fine-tuning)"
   ]
  },
  {
   "cell_type": "markdown",
   "id": "distinguished-truth",
   "metadata": {
    "papermill": {},
    "tags": []
   },
   "source": [
    "## Input"
   ]
  },
  {
   "cell_type": "markdown",
   "id": "numeric-mediterranean",
   "metadata": {},
   "source": [
    "### Import libraries"
   ]
  },
  {
   "cell_type": "code",
   "execution_count": null,
   "id": "potential-surfing",
   "metadata": {
    "tags": []
   },
   "outputs": [],
   "source": [
    "import naas\n",
    "from naas_drivers import gsheet\n",
    "import pandas as pd\n",
    "import json\n",
    "try:\n",
    "    import openai\n",
    "except:\n",
    "    !pip install --user --upgrade openai openai[wandb]\n",
    "    import openai\n",
    "import time\n",
    "import psycopg2\n",
    "from IPython.display import clear_output\n",
    "import os\n",
    "import naas_data_product"
   ]
  },
  {
   "cell_type": "markdown",
   "id": "aggressive-trustee",
   "metadata": {},
   "source": [
    "### Setup variables"
   ]
  },
  {
   "cell_type": "code",
   "execution_count": null,
   "id": "continuous-melbourne",
   "metadata": {
    "tags": [
     "parameters"
    ]
   },
   "outputs": [],
   "source": [
    "# Avatar meta\n",
    "avatar_name = \"Jeremy Ravenel\"\n",
    "output_dir = os.path.join(naas_data_product.OUTPUTS_PATH, \"ai-characters\", avatar_name.lower().replace(\" \", \"_\"), avatar_model_alias.replace(\"/\", \"_\"))\n",
    "print(\"Output directory:\", output_dir)\n",
    "\n",
    "# Google Sheets\n",
    "spreadsheet_url = \"https://docs.google.com/spreadsheets/d/1wediMdHcq5WDqLMZ7ryNrcPxCmlX8BX4ZEl3JNWT8wg/edit#gid=0\"\n",
    "sheet_name = \"Jeremy\"\n",
    "question_col = \"question\"\n",
    "answer_col = \"answer\"\n",
    "\n",
    "# OpenAI\n",
    "openai_api_key = naas.secret.get(\"OPENAI_API_KEY\")\n",
    "\n",
    "# JSONL\n",
    "dataset_file = \"dataset.jsonl\""
   ]
  },
  {
   "cell_type": "markdown",
   "id": "registered-showcase",
   "metadata": {},
   "source": [
    "## Model"
   ]
  },
  {
   "cell_type": "markdown",
   "id": "284b5b66-5837-4023-a272-3fc8e11f4b37",
   "metadata": {},
   "source": [
    "### Create system prompt"
   ]
  },
  {
   "cell_type": "code",
   "execution_count": null,
   "id": "f5a4e96e-62d3-486e-a6ce-18221e2c13d8",
   "metadata": {
    "tags": []
   },
   "outputs": [],
   "source": [
    "system_prompt = f'{avatar_name} avatar assistant.'\n",
    "print(\"System prompt:\", system_prompt)"
   ]
  },
  {
   "cell_type": "markdown",
   "id": "tested-astrology",
   "metadata": {},
   "source": [
    "### Get data from Google sheets spreasheet"
   ]
  },
  {
   "cell_type": "code",
   "execution_count": null,
   "id": "crude-louisville",
   "metadata": {
    "papermill": {},
    "tags": []
   },
   "outputs": [],
   "source": [
    "df_gsheet = gsheet.connect(spreadsheet_url).get(sheet_name=sheet_name)\n",
    "print(\"Rows:\", len(df_gsheet))\n",
    "df_gsheet.head(1)"
   ]
  },
  {
   "cell_type": "markdown",
   "id": "53f78aa4-c30c-442d-80ad-31c00cec5580",
   "metadata": {},
   "source": [
    "### Generate JsonL file"
   ]
  },
  {
   "cell_type": "code",
   "execution_count": null,
   "id": "2b993bc0-1733-4089-9f30-a2805e8e027a",
   "metadata": {
    "tags": []
   },
   "outputs": [],
   "source": [
    "def build_dataset(\n",
    "    df_gsheet,\n",
    "    system_prompt,\n",
    "    question_col,\n",
    "    answer_col,\n",
    "):\n",
    "    # Init\n",
    "    dataset = []\n",
    "    for i, row in df_gsheet.iterrows():\n",
    "        user = row[question_col]\n",
    "        assistant = row[answer_col]\n",
    "        dataset.append({\n",
    "            \"messages\": [\n",
    "                {\n",
    "                    \"role\": \"system\",\n",
    "                    \"content\": system_prompt\n",
    "                },\n",
    "                {\n",
    "                    \"role\": \"user\",\n",
    "                    \"content\": user\n",
    "                },\n",
    "                {\n",
    "                    \"role\": \"assistant\",\n",
    "                    \"content\": assistant\n",
    "                }\n",
    "            ]\n",
    "        })\n",
    "    return dataset\n",
    "\n",
    "# Build fine-tuned dataset\n",
    "dataset = build_dataset(df_gsheet, system_prompt, question_col, answer_col)\n",
    "\n",
    "# Save dataset\n",
    "file_path = os.path.join(output_dir, dataset_file)\n",
    "with open(file_path, 'w', encoding='utf-8') as file:\n",
    "    for data in dataset:\n",
    "        json.dump(data, file, ensure_ascii=False)\n",
    "        file.write('\\n')"
   ]
  },
  {
   "cell_type": "markdown",
   "id": "9ddbfb4d-2b8d-4c47-8946-d5528e0d2d80",
   "metadata": {},
   "source": [
    "### Upload dataset to OpenAI"
   ]
  },
  {
   "cell_type": "code",
   "execution_count": null,
   "id": "79a119fb-c384-4653-8228-491ca7322738",
   "metadata": {
    "tags": []
   },
   "outputs": [],
   "source": [
    "openai.api_key = openai_api_key\n",
    "uploaded_file = openai.File.create(\n",
    "  file=open(file_path, \"rb\"),\n",
    "  purpose='fine-tune'\n",
    ")\n",
    "file_id = uploaded_file.id"
   ]
  },
  {
   "cell_type": "markdown",
   "id": "9d6e7574-9d2e-4d83-91d8-27259193883b",
   "metadata": {},
   "source": [
    "### Fine tune model"
   ]
  },
  {
   "cell_type": "code",
   "execution_count": null,
   "id": "49f04e12-159d-4319-9b5d-7bc1b930d752",
   "metadata": {
    "tags": []
   },
   "outputs": [],
   "source": [
    "fine_tuning_job = openai.FineTuningJob.create(training_file=file_id, model=\"gpt-3.5-turbo\")\n",
    "fine_tuning_job\n",
    "\n",
    "while True:\n",
    "    clear_output()\n",
    "    print('Waiting for fine-tuning to complete ...')\n",
    "    state = openai.FineTuningJob.retrieve(fine_tuning_job.id)\n",
    "    print(state)\n",
    "    if state['status'] in ['succeeded', 'failed', 'canceled']:\n",
    "        break\n",
    "    time.sleep(5)\n",
    "    \n",
    "state"
   ]
  },
  {
   "cell_type": "markdown",
   "id": "lonely-pacific",
   "metadata": {
    "execution": {
     "iopub.execute_input": "2021-07-02T23:32:10.789097Z",
     "iopub.status.busy": "2021-07-02T23:32:10.788829Z",
     "iopub.status.idle": "2021-07-02T23:32:10.796900Z",
     "shell.execute_reply": "2021-07-02T23:32:10.796358Z",
     "shell.execute_reply.started": "2021-07-02T23:32:10.789033Z"
    }
   },
   "source": [
    "## Output"
   ]
  },
  {
   "cell_type": "markdown",
   "id": "4610c8f4-e832-48cd-80d2-0097e883476b",
   "metadata": {},
   "source": [
    "### Save model name"
   ]
  },
  {
   "cell_type": "code",
   "execution_count": null,
   "id": "2e466c01-b8c5-4d5c-82e3-52922c10506b",
   "metadata": {
    "tags": []
   },
   "outputs": [],
   "source": [
    "model_name = state.fine_tuned_model\n",
    "file_path = os.path.join(output_dir, model_name)\n",
    "open(file_path, 'w')\n",
    "print(\"Model name saved:\", file_path)"
   ]
  }
 ],
 "metadata": {
  "kernelspec": {
   "display_name": "Python 3",
   "language": "python",
   "name": "python3"
  },
  "language_info": {
   "codemirror_mode": {
    "name": "ipython",
    "version": 3
   },
   "file_extension": ".py",
   "mimetype": "text/x-python",
   "name": "python",
   "nbconvert_exporter": "python",
   "pygments_lexer": "ipython3",
   "version": "3.9.6"
  },
  "papermill": {
   "default_parameters": {},
   "environment_variables": {},
   "parameters": {},
   "version": "2.3.3"
  },
  "widgets": {
   "application/vnd.jupyter.widget-state+json": {
    "state": {},
    "version_major": 2,
    "version_minor": 0
   }
  }
 },
 "nbformat": 4,
 "nbformat_minor": 5
}
