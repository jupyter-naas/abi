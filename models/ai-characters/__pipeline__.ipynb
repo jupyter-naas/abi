{
 "cells": [
  {
   "cell_type": "markdown",
   "id": "dd66232c-09f1-44bf-8849-0cd5c52f78a6",
   "metadata": {},
   "source": [
    "<img width=\"10%\" alt=\"Naas\" src=\"https://landen.imgix.net/jtci2pxwjczr/assets/5ice39g4.png?w=160\"/>"
   ]
  },
  {
   "cell_type": "markdown",
   "id": "633951dc-ca87-4032-ad2d-b76a909861bf",
   "metadata": {},
   "source": [
    "# Pipeline - AI Avatar"
   ]
  },
  {
   "cell_type": "markdown",
   "id": "dc8969f9-6f45-4131-9983-a9cfec61be43",
   "metadata": {},
   "source": [
    "**Tags:** #gsheet #pipeline #automation #snippet #avatar #openai"
   ]
  },
  {
   "cell_type": "markdown",
   "id": "29d1ba56-7c9e-4895-836e-afcbdb1bb75c",
   "metadata": {},
   "source": [
    "**Author:** [Florent Ravenel](https://www.linkedin.com/in/florent-ravenel/)"
   ]
  },
  {
   "cell_type": "markdown",
   "id": "0702d68c-fd05-4b41-8085-bad1fafd10ae",
   "metadata": {
    "execution": {
     "iopub.execute_input": "2023-11-23T14:34:39.882064Z",
     "iopub.status.busy": "2023-11-23T14:34:39.881281Z",
     "iopub.status.idle": "2023-11-23T14:34:39.908083Z",
     "shell.execute_reply": "2023-11-23T14:34:39.907078Z",
     "shell.execute_reply.started": "2023-11-23T14:34:39.881662Z"
    }
   },
   "source": [
    "<div class=\"alert alert-info\" role=\"info\" style=\"margin: 10px\">\n",
    "<b>Disclaimer:</b><br>\n",
    "This notebook only works if you are a Naas maintainer as you need to have the credenditals to send the model to the Workspace API.\n",
    "<br>\n",
    "</div>"
   ]
  },
  {
   "cell_type": "markdown",
   "id": "524d5465-bce2-42f3-8d18-6f821dae07a5",
   "metadata": {},
   "source": [
    "## Input"
   ]
  },
  {
   "cell_type": "markdown",
   "id": "918e5873-b444-43d4-aacd-852fffb5aceb",
   "metadata": {},
   "source": [
    "### Import libraries"
   ]
  },
  {
   "cell_type": "code",
   "execution_count": null,
   "id": "f6585d07-f50b-439a-84a9-4c0061870d29",
   "metadata": {
    "tags": []
   },
   "outputs": [],
   "source": [
    "import naas_data_product\n",
    "from naas.pipeline import Pipeline, NotebookStep, End\n",
    "import naas\n",
    "import os\n",
    "from IPython.display import Markdown"
   ]
  },
  {
   "cell_type": "markdown",
   "id": "330e8f23-0f93-4323-8026-d6df34d8a3a4",
   "metadata": {},
   "source": [
    "### Setup variables"
   ]
  },
  {
   "cell_type": "code",
   "execution_count": null,
   "id": "02d449a1-e44a-4124-83b8-afb92f84e9dd",
   "metadata": {
    "tags": []
   },
   "outputs": [],
   "source": [
    "# Avatar meta\n",
    "avatar_name = \"MY AI Avatar\"\n",
    "avatar_image = \"https://static.vecteezy.com/system/resources/previews/002/002/257/non_2x/beautiful-woman-avatar-character-icon-free-vector.jpg\"\n",
    "avatar_model_alias = \"naas/my-aia-v0.1\"\n",
    "output_dir = os.path.join(naas_data_product.OUTPUTS_PATH, \"ai-characters\", avatar_name.lower().replace(\" \", \"_\"), avatar_model_alias.replace(\"/\", \"_\"))\n",
    "print(\"Output directory:\", output_dir)\n",
    "\n",
    "# Google Sheets\n",
    "spreadsheet_url = \"https://docs.google.com/spreadsheets/d/1GDVJxBajYx7VR48yKGnSvMsEjzXvqI94hlmPXI5qEp8/edit#gid=0\" or naas.secret.get(\"MY_AI_AVATAR_SPREADSHEET\")\n",
    "sheet_name = \"AIA\"\n",
    "\n",
    "# OpenAI\n",
    "openai_api_key = naas.secret.get(\"OPENAI_API_KEY\")"
   ]
  },
  {
   "cell_type": "markdown",
   "id": "ea6ff4cf-cea6-420e-b190-5979156b5fed",
   "metadata": {
    "tags": []
   },
   "source": [
    "## Model"
   ]
  },
  {
   "cell_type": "markdown",
   "id": "879cc555-89f2-4884-ad80-d2bea449eb52",
   "metadata": {},
   "source": [
    "### Setup notebooks\n",
    "This section is made to declare all the notebooks and create unique IDs that will be used in the pipeline. "
   ]
  },
  {
   "cell_type": "code",
   "execution_count": null,
   "id": "61400f78-56e2-4818-be37-be1e2c216e12",
   "metadata": {
    "tags": []
   },
   "outputs": [],
   "source": [
    "gsheet = NotebookStep(\n",
    "    name='Google Sheets', #notebook name display in pipeline\n",
    "    notebook_path=\"fine_tuning/Google_Sheet_Fine_tune_dataset_with_OpenAI.ipynb\", # notebook path to be run\n",
    "    parameters={\n",
    "        \"avatar_name\": avatar_name,\n",
    "        \"output_dir\": output_dir,\n",
    "        \"spreadsheet_url\": spreadsheet_url,\n",
    "        \"sheet_name\": sheet_name,\n",
    "        \"openai_api_key\": openai_api_key,        \n",
    "    } #inserted in your notebook after cell tagged 'parameters'\n",
    ")\n",
    "\n",
    "supabase = NotebookStep(\n",
    "    name='Supabase', #notebook name display in pipeline\n",
    "    notebook_path=\"fine_tuning/Supabase_Update_available_models.ipynb\", # notebook path to be run\n",
    "    parameters={\n",
    "        \"avatar_name\": avatar_name,\n",
    "        \"output_dir\": output_dir,\n",
    "        \"avatar_model_alias\": avatar_model_alias,\n",
    "    } #inserted in your notebook after cell tagged 'parameters'\n",
    ")\n",
    "\n",
    "plugin = NotebookStep(\n",
    "    name='Plugin', #notebook name display in pipeline\n",
    "    notebook_path=\"fine_tuning/Naas_Chat_Create_avatar_plugin.ipynb\", # notebook path to be run\n",
    "    parameters={\n",
    "        \"avatar_name\": avatar_name,\n",
    "        \"avatar_image\": avatar_image,\n",
    "        \"output_dir\": output_dir,\n",
    "    } #inserted in your notebook after cell tagged 'parameters'\n",
    ")"
   ]
  },
  {
   "cell_type": "markdown",
   "id": "d856dbf2-37a4-4e52-804a-81c3728b99a7",
   "metadata": {},
   "source": [
    "## Output"
   ]
  },
  {
   "cell_type": "markdown",
   "id": "c605f360-3459-40d1-a68b-227f38a6684e",
   "metadata": {},
   "source": [
    "### Run pipeline"
   ]
  },
  {
   "cell_type": "code",
   "execution_count": null,
   "id": "60b8cbe6-79bc-437f-a827-58eaa065e359",
   "metadata": {
    "tags": []
   },
   "outputs": [],
   "source": [
    "pipeline = Pipeline()\n",
    "\n",
    "pipeline >> gsheet >> supabase >> plugin >> End()\n",
    "\n",
    "pipeline.run(outputs_path=os.path.join(output_dir, \"pipeline_executions\"))"
   ]
  },
  {
   "cell_type": "markdown",
   "id": "16c67174-7a71-449f-9d8d-521f914b3523",
   "metadata": {},
   "source": [
    "### Get plugin"
   ]
  },
  {
   "cell_type": "code",
   "execution_count": null,
   "id": "4ae0ea40-b3c8-475e-965f-09784887b23c",
   "metadata": {
    "tags": []
   },
   "outputs": [],
   "source": [
    "files = os.listdir(output_dir)\n",
    "sorted_files = sorted(files, key=lambda x: os.path.getctime(os.path.join(output_dir, x)), reverse=True)\n",
    "for file in sorted_files:\n",
    "    if file.startswith(\"ft:\"):\n",
    "        model = file\n",
    "        model_id = model.split(\"::\")[1]\n",
    "        output_path = os.path.join(output_dir, f\"{model_id}_plugin.json\")\n",
    "        plugin_url = naas.asset.find(output_path)\n",
    "        print(\"Plugin URL:\", plugin_url)\n",
    "        break"
   ]
  },
  {
   "cell_type": "markdown",
   "id": "d0717d61-c2a8-4ed1-a5f4-315cac975b2a",
   "metadata": {
    "papermill": {},
    "tags": []
   },
   "source": [
    "### Create new chat\n",
    "You don't need to click on 'Create New Chat' everytime you update your system prompt, you can use the command `/refresh`."
   ]
  },
  {
   "cell_type": "code",
   "execution_count": null,
   "id": "c1c2ac8f-d609-4898-a8df-d4d881266f69",
   "metadata": {
    "papermill": {},
    "tags": []
   },
   "outputs": [],
   "source": [
    "Markdown(f\"[Create New Chat](https://naas.ai/chat/use?plugin_url={plugin_url})\")"
   ]
  },
  {
   "cell_type": "code",
   "execution_count": null,
   "id": "735a573c-ad45-46b9-8821-3c6b3f00717a",
   "metadata": {},
   "outputs": [],
   "source": []
  }
 ],
 "metadata": {
  "kernelspec": {
   "display_name": "Python 3",
   "language": "python",
   "name": "python3"
  },
  "language_info": {
   "codemirror_mode": {
    "name": "ipython",
    "version": 3
   },
   "file_extension": ".py",
   "mimetype": "text/x-python",
   "name": "python",
   "nbconvert_exporter": "python",
   "pygments_lexer": "ipython3",
   "version": "3.9.6"
  },
  "widgets": {
   "application/vnd.jupyter.widget-state+json": {
    "state": {},
    "version_major": 2,
    "version_minor": 0
   }
  }
 },
 "nbformat": 4,
 "nbformat_minor": 5
}
