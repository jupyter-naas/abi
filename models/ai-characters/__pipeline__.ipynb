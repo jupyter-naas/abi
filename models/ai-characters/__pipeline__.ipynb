{
 "cells": [
  {
   "cell_type": "markdown",
   "id": "dd66232c-09f1-44bf-8849-0cd5c52f78a6",
   "metadata": {},
   "source": [
    "<img width=\"10%\" alt=\"Naas\" src=\"https://landen.imgix.net/jtci2pxwjczr/assets/5ice39g4.png?w=160\"/>"
   ]
  },
  {
   "cell_type": "markdown",
   "id": "633951dc-ca87-4032-ad2d-b76a909861bf",
   "metadata": {},
   "source": [
    "# Google Sheets to Plugin Pipeline"
   ]
  },
  {
   "cell_type": "markdown",
   "id": "dc8969f9-6f45-4131-9983-a9cfec61be43",
   "metadata": {},
   "source": [
    "**Tags:** #gsheet #pipeline #automation #snippet #avatar #openai"
   ]
  },
  {
   "cell_type": "markdown",
   "id": "29d1ba56-7c9e-4895-836e-afcbdb1bb75c",
   "metadata": {},
   "source": [
    "**Author:** [Florent Ravenel](https://www.linkedin.com/in/florent-ravenel/)"
   ]
  },
  {
   "cell_type": "markdown",
   "id": "524d5465-bce2-42f3-8d18-6f821dae07a5",
   "metadata": {},
   "source": [
    "## Input"
   ]
  },
  {
   "cell_type": "markdown",
   "id": "918e5873-b444-43d4-aacd-852fffb5aceb",
   "metadata": {},
   "source": [
    "### Import libraries"
   ]
  },
  {
   "cell_type": "code",
   "execution_count": 1,
   "id": "f6585d07-f50b-439a-84a9-4c0061870d29",
   "metadata": {
    "execution": {
     "iopub.execute_input": "2023-11-16T15:41:11.575740Z",
     "iopub.status.busy": "2023-11-16T15:41:11.575328Z",
     "iopub.status.idle": "2023-11-16T15:41:26.812819Z",
     "shell.execute_reply": "2023-11-16T15:41:26.777270Z",
     "shell.execute_reply.started": "2023-11-16T15:41:11.575671Z"
    },
    "tags": []
   },
   "outputs": [
    {
     "name": "stdout",
     "output_type": "stream",
     "text": [
      "✅ utils file '/home/ftp/abi/utils/naas_chat_plugin.ipynb' successfully loaded.\n",
      "✅ utils file '/home/ftp/abi/utils/naas_lab.ipynb' successfully loaded.\n"
     ]
    }
   ],
   "source": [
    "import naas_data_product\n",
    "from naas.pipeline import Pipeline, NotebookStep, End\n",
    "import naas"
   ]
  },
  {
   "cell_type": "markdown",
   "id": "330e8f23-0f93-4323-8026-d6df34d8a3a4",
   "metadata": {},
   "source": [
    "### Setup variables"
   ]
  },
  {
   "cell_type": "code",
   "execution_count": 2,
   "id": "02d449a1-e44a-4124-83b8-afb92f84e9dd",
   "metadata": {
    "execution": {
     "iopub.execute_input": "2023-11-16T15:41:26.817224Z",
     "iopub.status.busy": "2023-11-16T15:41:26.816912Z",
     "iopub.status.idle": "2023-11-16T15:41:37.338506Z",
     "shell.execute_reply": "2023-11-16T15:41:37.337915Z",
     "shell.execute_reply.started": "2023-11-16T15:41:26.817186Z"
    },
    "tags": []
   },
   "outputs": [
    {
     "name": "stdout",
     "output_type": "stream",
     "text": [
      "Output directory: /home/ftp/abi/outputs/ai-characters/maxime_jublou/naas_maxime_linkedin_posts\n"
     ]
    }
   ],
   "source": [
    "# Avatar meta\n",
    "avatar_name = \"Maxime Jublou\"\n",
    "avatar_image = \"https://cl-151.imagineapi.dev/assets/a4896c6f-805d-4444-9c7d-f23627d9e01d.png\"\n",
    "avatar_model_alias = \"naas/maxime_linkedin_posts\"\n",
    "output_dir = os.path.join(naas_data_product.OUTPUTS_PATH, \"ai-characters\", avatar_name.lower().replace(\" \", \"_\"), avatar_model_alias.replace(\"/\", \"_\"))\n",
    "print(\"Output directory:\", output_dir)\n",
    "\n",
    "# Google Sheets\n",
    "spreadsheet_url = \"https://docs.google.com/spreadsheets/d/xxxxxx\"\n",
    "sheet_name = \"Maxime_LK_posts\"\n",
    "\n",
    "# OpenAI\n",
    "openai_api_key = naas.secret.get(\"OPENAI_API_KEY\")"
   ]
  },
  {
   "cell_type": "markdown",
   "id": "ea6ff4cf-cea6-420e-b190-5979156b5fed",
   "metadata": {
    "tags": []
   },
   "source": [
    "## Model"
   ]
  },
  {
   "cell_type": "markdown",
   "id": "879cc555-89f2-4884-ad80-d2bea449eb52",
   "metadata": {},
   "source": [
    "### Setup notebooks\n",
    "This section is made to declare all the notebooks and create unique IDs that will be used in the pipeline. "
   ]
  },
  {
   "cell_type": "code",
   "execution_count": 3,
   "id": "61400f78-56e2-4818-be37-be1e2c216e12",
   "metadata": {
    "execution": {
     "iopub.execute_input": "2023-11-16T15:41:37.341165Z",
     "iopub.status.busy": "2023-11-16T15:41:37.340990Z",
     "iopub.status.idle": "2023-11-16T15:41:37.364369Z",
     "shell.execute_reply": "2023-11-16T15:41:37.363835Z",
     "shell.execute_reply.started": "2023-11-16T15:41:37.341146Z"
    },
    "tags": []
   },
   "outputs": [],
   "source": [
    "gsheet = NotebookStep(\n",
    "    name='Google Sheets', #notebook name display in pipeline\n",
    "    notebook_path=\"fine_tuning/Google_Sheet_Fine_tune_dataset_with_OpenAI.ipynb\", # notebook path to be run\n",
    "    parameters={\n",
    "        \"avatar_name\": avatar_name,\n",
    "        \"output_dir\": output_dir,\n",
    "        \"spreadsheet_url\": spreadsheet_url,\n",
    "        \"sheet_name\": sheet_name,\n",
    "        \"openai_api_key\": openai_api_key,        \n",
    "    } #inserted in your notebook after cell tagged 'parameters'\n",
    ")\n",
    "\n",
    "supabase = NotebookStep(\n",
    "    name='Supabase', #notebook name display in pipeline\n",
    "    notebook_path=\"fine_tuning/Supabase_Update_available_models.ipynb\", # notebook path to be run\n",
    "    parameters={\n",
    "        \"avatar_name\": avatar_name,\n",
    "        \"output_dir\": output_dir,\n",
    "        \"avatar_model_alias\": avatar_model_alias,\n",
    "    } #inserted in your notebook after cell tagged 'parameters'\n",
    ")\n",
    "\n",
    "plugin = NotebookStep(\n",
    "    name='Plugin', #notebook name display in pipeline\n",
    "    notebook_path=\"fine_tuning/Naas_Chat_Create_avatar_plugin.ipynb\", # notebook path to be run\n",
    "    parameters={\n",
    "        \"avatar_name\": avatar_name,\n",
    "        \"avatar_image\": avatar_image,\n",
    "        \"output_dir\": output_dir,\n",
    "    } #inserted in your notebook after cell tagged 'parameters'\n",
    ")"
   ]
  },
  {
   "cell_type": "markdown",
   "id": "d856dbf2-37a4-4e52-804a-81c3728b99a7",
   "metadata": {},
   "source": [
    "## Output"
   ]
  },
  {
   "cell_type": "markdown",
   "id": "c605f360-3459-40d1-a68b-227f38a6684e",
   "metadata": {},
   "source": [
    "### Run pipeline"
   ]
  },
  {
   "cell_type": "code",
   "execution_count": 4,
   "id": "60b8cbe6-79bc-437f-a827-58eaa065e359",
   "metadata": {
    "execution": {
     "iopub.execute_input": "2023-11-16T15:41:37.366395Z",
     "iopub.status.busy": "2023-11-16T15:41:37.366145Z",
     "iopub.status.idle": "2023-11-16T15:41:49.694853Z",
     "shell.execute_reply": "2023-11-16T15:41:49.694239Z",
     "shell.execute_reply.started": "2023-11-16T15:41:37.366365Z"
    },
    "tags": []
   },
   "outputs": [
    {
     "data": {
      "text/html": [
       "<html>\n",
       "<head>\n",
       "<link rel=\"stylesheet\" href=\"https://cdn.jsdelivr.net/npm/vis-network@latest/styles/vis-network.css\" type=\"text/css\" />\n",
       "<script type=\"text/javascript\" src=\"https://cdn.jsdelivr.net/npm/vis-network@latest/dist/vis-network.min.js\"> </script>\n",
       "<center>\n",
       "<h1></h1>\n",
       "</center>\n",
       "\n",
       "<!-- <link rel=\"stylesheet\" href=\"../node_modules/vis/dist/vis.min.css\" type=\"text/css\" />\n",
       "<script type=\"text/javascript\" src=\"../node_modules/vis/dist/vis.js\"> </script>-->\n",
       "\n",
       "<style type=\"text/css\">\n",
       "\n",
       "        #mynetwork {\n",
       "            width: 100%;\n",
       "            height: 1000px;\n",
       "            background-color: #212121;\n",
       "            border: 1px solid lightgray;\n",
       "            position: relative;\n",
       "            float: left;\n",
       "        }\n",
       "\n",
       "        \n",
       "\n",
       "        \n",
       "\n",
       "        \n",
       "</style>\n",
       "\n",
       "</head>\n",
       "\n",
       "<body>\n",
       "<div id = \"mynetwork\"></div>\n",
       "\n",
       "\n",
       "<script type=\"text/javascript\">\n",
       "\n",
       "    // initialize global variables.\n",
       "    var edges;\n",
       "    var nodes;\n",
       "    var network; \n",
       "    var container;\n",
       "    var options, data;\n",
       "\n",
       "    \n",
       "    // This method is responsible for drawing the graph, returns the drawn network\n",
       "    function drawGraph() {\n",
       "        var container = document.getElementById('mynetwork');\n",
       "        \n",
       "        \n",
       "\n",
       "        // parsing and collecting nodes and edges from the python\n",
       "        nodes = new vis.DataSet([{\"color\": \"#5DE191\", \"font\": {\"color\": \"#ffffff\"}, \"id\": \"Start\", \"image\": \"start-end.png\", \"label\": \"Start\", \"level\": 0, \"mass\": 5, \"shape\": \"circularImage\", \"x\": 0, \"y\": 0}, {\"color\": \"#5DE191\", \"font\": {\"color\": \"#ffffff\"}, \"id\": \"Plugin\", \"label\": \"Plugin\", \"level\": 1, \"mass\": 5, \"shape\": \"box\", \"x\": 1, \"y\": 0}, {\"color\": \"#5DE191\", \"font\": {\"color\": \"#ffffff\"}, \"id\": \"End\", \"image\": \"start-end.png\", \"label\": \"End\", \"level\": 2, \"mass\": 5, \"shape\": \"circularImage\", \"x\": 2, \"y\": 0}]);\n",
       "        edges = new vis.DataSet([{\"arrows\": \"to\", \"from\": \"Plugin\", \"to\": \"End\"}, {\"arrows\": \"to\", \"from\": \"Start\", \"to\": \"Plugin\"}]);\n",
       "\n",
       "        // adding nodes and edges to the graph\n",
       "        data = {nodes: nodes, edges: edges};\n",
       "\n",
       "        var options = {\n",
       "    \"configure\": {\n",
       "        \"enabled\": false\n",
       "    },\n",
       "    \"edges\": {\n",
       "        \"color\": {\n",
       "            \"inherit\": true\n",
       "        },\n",
       "        \"smooth\": {\n",
       "            \"enabled\": true,\n",
       "            \"type\": \"dynamic\"\n",
       "        }\n",
       "    },\n",
       "    \"interaction\": {\n",
       "        \"dragNodes\": true,\n",
       "        \"hideEdgesOnDrag\": false,\n",
       "        \"hideNodesOnDrag\": false\n",
       "    },\n",
       "    \"layout\": {\n",
       "        \"hierarchical\": {\n",
       "            \"blockShifting\": true,\n",
       "            \"edgeMinimization\": true,\n",
       "            \"enabled\": true,\n",
       "            \"levelSeparation\": 150,\n",
       "            \"parentCentralization\": true,\n",
       "            \"sortMethod\": \"hubsize\",\n",
       "            \"treeSpacing\": 200\n",
       "        },\n",
       "        \"improvedLayout\": true,\n",
       "        \"randomSeed\": 0\n",
       "    },\n",
       "    \"physics\": {\n",
       "        \"enabled\": false,\n",
       "        \"stabilization\": {\n",
       "            \"enabled\": true,\n",
       "            \"fit\": true,\n",
       "            \"iterations\": 1000,\n",
       "            \"onlyDynamicEdges\": false,\n",
       "            \"updateInterval\": 50\n",
       "        }\n",
       "    }\n",
       "};\n",
       "        \n",
       "        \n",
       "\n",
       "        \n",
       "\n",
       "        network = new vis.Network(container, data, options);\n",
       "\t \n",
       "        \n",
       "\n",
       "\n",
       "        \n",
       "\n",
       "        return network;\n",
       "\n",
       "    }\n",
       "\n",
       "    drawGraph();\n",
       "\n",
       "</script>\n",
       "</body>\n",
       "</html>"
      ],
      "text/plain": [
       "<IPython.core.display.HTML object>"
      ]
     },
     "metadata": {},
     "output_type": "display_data"
    }
   ],
   "source": [
    "pipeline = Pipeline()\n",
    "\n",
    "pipeline >> gsheet >> supabase >> plugin >> End()\n",
    "\n",
    "pipeline.run(outputs_path=os.path.join(output_dir, \"pipeline_executions\"))"
   ]
  },
  {
   "cell_type": "code",
   "execution_count": null,
   "id": "4ae0ea40-b3c8-475e-965f-09784887b23c",
   "metadata": {},
   "outputs": [],
   "source": []
  }
 ],
 "metadata": {
  "kernelspec": {
   "display_name": "Python 3",
   "language": "python",
   "name": "python3"
  },
  "language_info": {
   "codemirror_mode": {
    "name": "ipython",
    "version": 3
   },
   "file_extension": ".py",
   "mimetype": "text/x-python",
   "name": "python",
   "nbconvert_exporter": "python",
   "pygments_lexer": "ipython3",
   "version": "3.9.6"
  },
  "widgets": {
   "application/vnd.jupyter.widget-state+json": {
    "state": {},
    "version_major": 2,
    "version_minor": 0
   }
  }
 },
 "nbformat": 4,
 "nbformat_minor": 5
}
