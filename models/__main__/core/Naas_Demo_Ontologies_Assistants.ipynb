{
 "cells": [
  {
   "cell_type": "markdown",
   "metadata": {},
   "source": [
    "# Naas - Demo Ontologies & Assistants"
   ]
  },
  {
   "cell_type": "markdown",
   "metadata": {},
   "source": [
    "## Input"
   ]
  },
  {
   "cell_type": "markdown",
   "metadata": {},
   "source": [
    "### Import libraries"
   ]
  },
  {
   "cell_type": "code",
   "execution_count": 1,
   "metadata": {
    "execution": {
     "iopub.execute_input": "2024-10-23T17:25:04.882095Z",
     "iopub.status.busy": "2024-10-23T17:25:04.881865Z",
     "iopub.status.idle": "2024-10-23T17:25:13.152401Z",
     "shell.execute_reply": "2024-10-23T17:25:13.151793Z",
     "shell.execute_reply.started": "2024-10-23T17:25:04.882037Z"
    },
    "tags": []
   },
   "outputs": [
    {
     "name": "stdout",
     "output_type": "stream",
     "text": [
      "✅ utils file '/home/ftp/abi/utils/main.ipynb' successfully loaded.\n"
     ]
    }
   ],
   "source": [
    "import naas_data_product\n",
    "from abi.naaspython import NaasPython\n",
    "naaspython = NaasPython()\n",
    "import naas_python\n",
    "import pydash as _\n",
    "import json\n",
    "from datetime import datetime\n",
    "from urllib.parse import quote\n",
    "from algoliasearch.search.client import SearchClient"
   ]
  },
  {
   "cell_type": "markdown",
   "metadata": {},
   "source": [
    "### Setup variables"
   ]
  },
  {
   "cell_type": "code",
   "execution_count": 2,
   "metadata": {
    "execution": {
     "iopub.execute_input": "2024-10-23T17:25:13.154071Z",
     "iopub.status.busy": "2024-10-23T17:25:13.153824Z",
     "iopub.status.idle": "2024-10-23T17:25:18.386913Z",
     "shell.execute_reply": "2024-10-23T17:25:18.386236Z",
     "shell.execute_reply.started": "2024-10-23T17:25:13.154041Z"
    },
    "tags": []
   },
   "outputs": [],
   "source": [
    "# Input\n",
    "api_key = naas_python.utils.domains_base.authorization.NaasSpaceAuthenticatorAdapter().jwt_token()\n",
    "workspace_id = naas_python.secret.get(\"WORKSPACE_DEMO_ID\").value\n",
    "algolia_app_id = naas_python.secret.get(\"ALGOLIA_APP_ID\").value\n",
    "algolia_api_key = naas_python.secret.get(\"ALGOLIA_API_KEY\").value\n",
    "data_algolia = []\n",
    "\n",
    "# Outputs\n",
    "output_dir = os.path.join(naas_data_product.OUTPUTS_PATH, \"demo\")\n",
    "index_name = \"workspace-search\""
   ]
  },
  {
   "cell_type": "markdown",
   "metadata": {},
   "source": [
    "## Model"
   ]
  },
  {
   "cell_type": "markdown",
   "metadata": {},
   "source": [
    "### Get Ontologies"
   ]
  },
  {
   "cell_type": "code",
   "execution_count": 3,
   "metadata": {
    "execution": {
     "iopub.execute_input": "2024-10-23T17:25:18.388365Z",
     "iopub.status.busy": "2024-10-23T17:25:18.388128Z",
     "iopub.status.idle": "2024-10-23T17:25:19.255132Z",
     "shell.execute_reply": "2024-10-23T17:25:19.254474Z",
     "shell.execute_reply.started": "2024-10-23T17:25:18.388336Z"
    },
    "tags": []
   },
   "outputs": [
    {
     "name": "stdout",
     "output_type": "stream",
     "text": [
      "Ontologies: 29\n"
     ]
    }
   ],
   "source": [
    "ontologies = naaspython.connect(api_key).ontology.get(workspace_id).get(\"ontologies\")\n",
    "print(\"Ontologies:\", len(ontologies))\n",
    "\n",
    "for x in ontologies:\n",
    "    label = x.get(\"label\")\n",
    "    if not \"Old\" in label:\n",
    "        uid = x.get(\"id\")\n",
    "        label = x.get(\"label\")\n",
    "        download_url = x.get(\"download_url\")\n",
    "        description = x.get(\"description\")\n",
    "        logo_url = x.get(\"logo_url\")\n",
    "        level = x.get(\"level\")\n",
    "        # Get tool\n",
    "        tool = \"Naas\"\n",
    "        if \"-\" in label:\n",
    "            tool = label.split(\"-\")[0].strip()\n",
    "        # Get ranking & author\n",
    "        author = \"Naas Core Team\"\n",
    "        author_url = \"\"\n",
    "        ranking = 2\n",
    "        if level == \"TOP_LEVEL\":\n",
    "            ranking = 5\n",
    "            author = \"BFO Team (Barry Smith)\"\n",
    "        elif level == \"MID_LEVEL\":\n",
    "            ranking = 4\n",
    "            author = \"CCO Team\"\n",
    "        elif level == \"DOMAIN\":\n",
    "            ranking = 2\n",
    "            \n",
    "        # Create Search data JSON\n",
    "        data_algolia.append(\n",
    "            {\n",
    "              \"tool\": tool,\n",
    "              \"notebook\": label,\n",
    "              \"tags\": [\n",
    "                  \"#ontologies\",\n",
    "                  f\"#{level.replace('_', '').lower()}\"\n",
    "              ],\n",
    "              \"author\": author,\n",
    "              \"author_url\": author_url,\n",
    "              \"updated_at\": datetime.now().strftime(\"%Y-%m-%d\"),\n",
    "              \"created_at\": datetime.now().strftime(\"%Y-%m-%d\"),\n",
    "              \"description\": description,\n",
    "              \"open_in_lab\": \"\",\n",
    "              \"open_in_chat\": \"\",\n",
    "              \"notebook_url\": download_url,\n",
    "              \"image_url\": logo_url,\n",
    "              \"ranking\": ranking,\n",
    "              \"objectID\": uid\n",
    "            }\n",
    "        )"
   ]
  },
  {
   "cell_type": "markdown",
   "metadata": {},
   "source": [
    "### Get Plugins"
   ]
  },
  {
   "cell_type": "code",
   "execution_count": 4,
   "metadata": {
    "execution": {
     "iopub.execute_input": "2024-10-23T17:25:19.256555Z",
     "iopub.status.busy": "2024-10-23T17:25:19.256185Z",
     "iopub.status.idle": "2024-10-23T17:25:22.961041Z",
     "shell.execute_reply": "2024-10-23T17:25:22.960410Z",
     "shell.execute_reply.started": "2024-10-23T17:25:19.256523Z"
    },
    "tags": []
   },
   "outputs": [
    {
     "name": "stdout",
     "output_type": "stream",
     "text": [
      "Workspace Plugins: 37\n"
     ]
    }
   ],
   "source": [
    "workspace_plugins = naaspython.connect(api_key, workspace_id).plugin.get().get(\"workspace_plugins\")\n",
    "print(\"Workspace Plugins:\", len(workspace_plugins))\n",
    "\n",
    "for workspace_plugin in workspace_plugins:\n",
    "    # Init\n",
    "    uid = workspace_plugin.get(\"id\")\n",
    "    plugin = json.loads(workspace_plugin.get(\"payload\"))\n",
    "    \n",
    "    # Map fields\n",
    "    ranking = 3\n",
    "    tool = \"Naas Demo\"\n",
    "    label = plugin.get(\"name\")\n",
    "    short_name = label.lower().replace(' ', '')\n",
    "    image_url = plugin.get(\"avatar\")\n",
    "    description = plugin.get(\"description\")\n",
    "    model = plugin.get(\"model\")\n",
    "    id = plugin.get(\"id\")\n",
    "    temperature = plugin.get(\"temperature\")\n",
    "    author = \"Naas Core Team\"\n",
    "    author_url = \"\"\n",
    "    \n",
    "    # Save plugin json\n",
    "    file_path = os.path.join(output_dir, \"assistants\", f\"{short_name}.json\")\n",
    "    with open(file_path, 'w') as json_file:\n",
    "        json.dump(plugin, json_file, indent=4)\n",
    "    \n",
    "    # Create Search data JSON\n",
    "    data_algolia.append(\n",
    "        {\n",
    "          \"tool\": tool,\n",
    "          \"notebook\": label,\n",
    "          \"tags\": [\n",
    "              \"#assistants\",\n",
    "              f\"#{short_name.split('.')[-1]}\",\n",
    "              f\"#{model}\",\n",
    "              f\"#avatar\",\n",
    "              f\"#temperature:{temperature}\",\n",
    "          ],\n",
    "          \"author\": author,\n",
    "          \"author_url\": author_url,\n",
    "          \"updated_at\": datetime.now().strftime(\"%Y-%m-%d\"),\n",
    "          \"created_at\": datetime.now().strftime(\"%Y-%m-%d\"),\n",
    "          \"description\": description,\n",
    "          \"open_in_lab\": \"\",\n",
    "          \"open_in_chat\": \"\",\n",
    "          \"notebook_url\": quote(f\"https://raw.githubusercontent.com/jupyter-naas/abi/refs/heads/main/outputs/demo/assistants/{short_name}.json\", safe=\":/#\"),\n",
    "          \"image_url\": image_url,\n",
    "          \"ranking\": ranking,\n",
    "          \"objectID\": uid\n",
    "        }\n",
    "    )"
   ]
  },
  {
   "cell_type": "markdown",
   "metadata": {},
   "source": [
    "## Output"
   ]
  },
  {
   "cell_type": "markdown",
   "metadata": {},
   "source": [
    "### Udpate Data Algolia"
   ]
  },
  {
   "cell_type": "code",
   "execution_count": 5,
   "metadata": {
    "execution": {
     "iopub.execute_input": "2024-10-23T17:25:22.963980Z",
     "iopub.status.busy": "2024-10-23T17:25:22.963796Z",
     "iopub.status.idle": "2024-10-23T17:25:32.924498Z",
     "shell.execute_reply": "2024-10-23T17:25:32.923790Z",
     "shell.execute_reply.started": "2024-10-23T17:25:22.963960Z"
    },
    "tags": []
   },
   "outputs": [
    {
     "name": "stdout",
     "output_type": "stream",
     "text": [
      "Data to update: 66\n",
      "created_at='2024-10-23T17:25:23.373Z' task_id=266734086001 object_id='c69f8602-8472-4174-9e89-0d7053591a41'\n",
      "created_at='2024-10-23T17:25:23.518Z' task_id=266734090001 object_id='b22adec7-923f-4520-83fb-d7b483490df3'\n",
      "created_at='2024-10-23T17:25:23.663Z' task_id=266734093001 object_id='fe262dab-b7b5-43d0-bd7e-91401a2d535b'\n",
      "created_at='2024-10-23T17:25:23.809Z' task_id=266734097001 object_id='7056c1ec-ca21-42b6-99ad-fb5defd238f2'\n",
      "created_at='2024-10-23T17:25:23.955Z' task_id=266734100001 object_id='675089d4-1a8d-4f6f-a0ba-7fef24f7b6ad'\n",
      "created_at='2024-10-23T17:25:24.100Z' task_id=266734104001 object_id='9287ce2c-0086-41f6-988e-eeee9941d5da'\n",
      "created_at='2024-10-23T17:25:24.245Z' task_id=266734108001 object_id='e011e7fc-1e88-4a16-b994-70475ddb3bfc'\n",
      "created_at='2024-10-23T17:25:24.391Z' task_id=266734111001 object_id='ac41c275-ba7c-460c-a189-0d3acfeb4a05'\n",
      "created_at='2024-10-23T17:25:24.536Z' task_id=266734116001 object_id='97da064e-8a58-4c18-80be-70f7437b27c0'\n",
      "created_at='2024-10-23T17:25:24.682Z' task_id=266734121001 object_id='efab8420-9791-4273-8c3d-9c87c50651e8'\n",
      "created_at='2024-10-23T17:25:24.827Z' task_id=266734124001 object_id='2e626301-88d1-4b71-a2d3-3a847c05566e'\n",
      "created_at='2024-10-23T17:25:24.973Z' task_id=266734129001 object_id='133516d5-915e-4fa2-b72c-c7eb7bc65d1b'\n",
      "created_at='2024-10-23T17:25:25.118Z' task_id=266734134001 object_id='4255d718-6300-467a-afcc-e483d2978013'\n",
      "created_at='2024-10-23T17:25:25.263Z' task_id=266734137001 object_id='ec2fd57b-3db0-4a92-b7e1-8d0d0f173fa9'\n",
      "created_at='2024-10-23T17:25:25.409Z' task_id=266734141001 object_id='2a2ebb4d-21c2-43a3-9a61-a7bbce67af86'\n",
      "created_at='2024-10-23T17:25:25.554Z' task_id=266734145001 object_id='3d3c29ac-4622-4f11-925d-f5524303ea28'\n",
      "created_at='2024-10-23T17:25:25.700Z' task_id=266734150001 object_id='14801ece-8499-4e69-b38e-32c1c761c764'\n",
      "created_at='2024-10-23T17:25:25.846Z' task_id=266734155001 object_id='9fcc4d54-43bc-40b6-b3d5-1b47b5da4000'\n",
      "created_at='2024-10-23T17:25:25.992Z' task_id=266734159001 object_id='723165ae-a416-492a-b7f8-ce8cecd11343'\n",
      "created_at='2024-10-23T17:25:26.138Z' task_id=266734163001 object_id='04396c05-16a1-45ca-bd56-b6d5c5c9d785'\n",
      "created_at='2024-10-23T17:25:26.283Z' task_id=266734169001 object_id='186c171c-803d-454c-8921-5efa7bf16e87'\n",
      "created_at='2024-10-23T17:25:26.429Z' task_id=266734173001 object_id='1d94bdf1-7b8f-41af-b426-25ec74fdeaad'\n",
      "created_at='2024-10-23T17:25:26.575Z' task_id=266734177001 object_id='eebad127-8e6d-49fe-b1dc-eeb1c0531f82'\n",
      "created_at='2024-10-23T17:25:26.720Z' task_id=266734181001 object_id='5062172c-ab6b-4d06-863b-75ed89fac19c'\n",
      "created_at='2024-10-23T17:25:26.866Z' task_id=266734185001 object_id='f29fcc53-cd13-40dc-9902-f8798209c460'\n",
      "created_at='2024-10-23T17:25:27.011Z' task_id=266734188001 object_id='ce51a4d3-dd5b-4401-ba02-b3b4397f8970'\n",
      "created_at='2024-10-23T17:25:27.157Z' task_id=266734192001 object_id='d5d24b4d-5b7e-4837-afa2-ee7d78b47e1f'\n",
      "created_at='2024-10-23T17:25:27.302Z' task_id=266734197001 object_id='27b38f3a-e76a-47b9-aac8-86753d8c867d'\n",
      "created_at='2024-10-23T17:25:27.447Z' task_id=266734201001 object_id='416e55f8-c915-48dd-a50f-a3433d43a387'\n",
      "created_at='2024-10-23T17:25:27.593Z' task_id=266734204001 object_id='4eba2a98-1106-4b49-8c6b-31c58e7bc8dc'\n",
      "created_at='2024-10-23T17:25:27.739Z' task_id=266734205001 object_id='9b7f16c1-8204-43dc-a210-861d08758b7d'\n",
      "created_at='2024-10-23T17:25:27.884Z' task_id=266734206001 object_id='2f4eaca4-8fe9-479d-a640-617a92dc880f'\n",
      "created_at='2024-10-23T17:25:28.042Z' task_id=266734208001 object_id='9c4d13df-10ad-40ba-8a50-de7ba66b7f9e'\n",
      "created_at='2024-10-23T17:25:28.187Z' task_id=266734213001 object_id='e5a96251-b693-47a5-a247-afa2906c7307'\n",
      "created_at='2024-10-23T17:25:28.333Z' task_id=266734218001 object_id='f4bf20d3-1225-4819-90c4-0cf771ca2783'\n",
      "created_at='2024-10-23T17:25:28.478Z' task_id=266734222001 object_id='62f6f70f-9e9f-43ca-a803-3ee11b699955'\n",
      "created_at='2024-10-23T17:25:28.623Z' task_id=266734227001 object_id='54d7effb-9ccc-4565-bbe9-2850840946ba'\n",
      "created_at='2024-10-23T17:25:28.769Z' task_id=266734230001 object_id='4b07522c-241f-4555-8d77-5589727fd9bf'\n",
      "created_at='2024-10-23T17:25:28.914Z' task_id=266734233001 object_id='103fafc7-af7e-40d2-bb87-ddbd49efd396'\n",
      "created_at='2024-10-23T17:25:29.063Z' task_id=266734237001 object_id='a83373a8-20ff-472e-ab0a-1c86795a07fa'\n",
      "created_at='2024-10-23T17:25:29.209Z' task_id=266734240001 object_id='c0a52afe-98e0-44cb-b3f1-f4b787e4bad0'\n",
      "created_at='2024-10-23T17:25:29.354Z' task_id=266734244001 object_id='bf6aec23-75a9-499d-a444-d773d2e0dadc'\n",
      "created_at='2024-10-23T17:25:29.499Z' task_id=266734247001 object_id='6455c9b5-684a-4494-a9f5-3aa14bad6c54'\n",
      "created_at='2024-10-23T17:25:29.644Z' task_id=266734251001 object_id='44eba78d-6ae6-4961-a7f8-623d602f249f'\n",
      "created_at='2024-10-23T17:25:29.790Z' task_id=266734255001 object_id='36a0f37b-007c-4e59-a03b-85aa5ae68d33'\n",
      "created_at='2024-10-23T17:25:29.935Z' task_id=266734259001 object_id='3a44b4b0-c5cd-404d-a829-58595cd4aaf0'\n",
      "created_at='2024-10-23T17:25:30.080Z' task_id=266734263001 object_id='ff622b81-a761-4d41-ae51-76bf47519ba7'\n",
      "created_at='2024-10-23T17:25:30.226Z' task_id=266734266001 object_id='36129e20-a33c-4cc8-adba-14cd7c2d3dd7'\n",
      "created_at='2024-10-23T17:25:30.371Z' task_id=266734270001 object_id='b9cc9ccb-d7c6-484d-981b-69149485b16d'\n",
      "created_at='2024-10-23T17:25:30.517Z' task_id=266734274001 object_id='092507ee-7535-4fa1-b47f-e3e7fad089a9'\n",
      "created_at='2024-10-23T17:25:30.662Z' task_id=266734277001 object_id='40b3cb26-01a6-48ee-9dd0-ac7aa2e51477'\n",
      "created_at='2024-10-23T17:25:30.807Z' task_id=266734281001 object_id='35ebd01e-e464-4b43-a3ae-681e71371704'\n",
      "created_at='2024-10-23T17:25:30.958Z' task_id=266734284001 object_id='b6eca8ee-a9bc-4bff-8ef1-cfc87145e1f0'\n",
      "created_at='2024-10-23T17:25:31.103Z' task_id=266734287001 object_id='5c9674a5-522d-4daa-91a4-9f1fd2e25ee2'\n",
      "created_at='2024-10-23T17:25:31.249Z' task_id=266734291001 object_id='f675d76f-545a-46b4-a101-e32b115473d3'\n",
      "created_at='2024-10-23T17:25:31.395Z' task_id=266734296001 object_id='0ab46853-7496-4f6a-bcc0-4852136b1176'\n",
      "created_at='2024-10-23T17:25:31.540Z' task_id=266734300001 object_id='a580aaf3-ba8d-47db-84f8-ca8fd352ab88'\n",
      "created_at='2024-10-23T17:25:31.685Z' task_id=266734303001 object_id='505c21cf-bed0-4e5b-9eea-12c6de50f542'\n",
      "created_at='2024-10-23T17:25:31.830Z' task_id=266734307001 object_id='a23d3ab0-7986-4ec0-a2dd-2746f571edf5'\n",
      "created_at='2024-10-23T17:25:31.975Z' task_id=266734311001 object_id='1043b2d6-a5f3-40a8-ae9f-92a8ddb9052e'\n",
      "created_at='2024-10-23T17:25:32.121Z' task_id=266734314001 object_id='49f1edf2-59a2-4771-aeac-8e1e25188ec7'\n",
      "created_at='2024-10-23T17:25:32.266Z' task_id=266734317001 object_id='49d5c960-d974-474d-adeb-3ccb7530faa5'\n",
      "created_at='2024-10-23T17:25:32.411Z' task_id=266734321001 object_id='dd1b3171-72ea-4e22-90a8-4044a915137e'\n",
      "created_at='2024-10-23T17:25:32.558Z' task_id=266734324001 object_id='c0cf1f60-a15e-4c01-83e2-974b3102fd61'\n",
      "created_at='2024-10-23T17:25:32.703Z' task_id=266734328001 object_id='66006d86-1412-40e9-ba8a-e522720e6f57'\n",
      "created_at='2024-10-23T17:25:32.848Z' task_id=266734332001 object_id='b3e77448-4ef3-4a2d-9c83-dbdbb29fc859'\n"
     ]
    }
   ],
   "source": [
    "# Initialize the Algolia client\n",
    "_client = SearchClient(algolia_app_id, algolia_api_key)\n",
    "\n",
    "# Update Algolia\n",
    "print(\"Data to update:\", len(data_algolia))\n",
    "for d in data_algolia:\n",
    "    # Add a new record to your Algolia index\n",
    "    response = await _client.save_object(\n",
    "        index_name=index_name,\n",
    "        body=d,\n",
    "    )\n",
    "    print(response)"
   ]
  }
 ],
 "metadata": {
  "kernelspec": {
   "display_name": "Python 3",
   "language": "python",
   "name": "python3"
  },
  "language_info": {
   "codemirror_mode": {
    "name": "ipython",
    "version": 3
   },
   "file_extension": ".py",
   "mimetype": "text/x-python",
   "name": "python",
   "nbconvert_exporter": "python",
   "pygments_lexer": "ipython3",
   "version": "3.9.6"
  }
 },
 "nbformat": 4,
 "nbformat_minor": 4
}
