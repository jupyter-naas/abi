{
 "cells": [
  {
   "cell_type": "markdown",
   "id": "27486f01-77c3-4774-a098-29c706202d62",
   "metadata": {
    "papermill": {},
    "tags": []
   },
   "source": [
    "<img width=\"10%\" alt=\"Naas\" src=\"https://landen.imgix.net/jtci2pxwjczr/assets/5ice39g4.png?w=160\"/>"
   ]
  },
  {
   "cell_type": "markdown",
   "id": "85c6497e-923f-41fa-b85b-81f47a5ab9c7",
   "metadata": {
    "papermill": {},
    "tags": []
   },
   "source": [
    "# HubSpot - Score contact from notes\n",
    "<a href=\"https://app.naas.ai/user-redirect/naas/downloader?url=https://raw.githubusercontent.com/jupyter-naas/awesome-notebooks/master/HubSpot/HubSpot_Score_contact_from_notes.ipynb\" target=\"_parent\"><img src=\"https://naasai-public.s3.eu-west-3.amazonaws.com/Open_in_Naas_Lab.svg\"/></a><br><br><a href=\"https://bit.ly/3JyWIk6\">Give Feedback</a> | <a href=\"https://github.com/jupyter-naas/awesome-notebooks/issues/new?assignees=&labels=bug&template=bug_report.md&title=HubSpot+-+Score+contact+from+notes:+Error+short+description\">Bug report</a>"
   ]
  },
  {
   "cell_type": "markdown",
   "id": "661f554e-7065-4101-81c2-9e799a812b67",
   "metadata": {
    "papermill": {},
    "tags": []
   },
   "source": [
    "**Tags:** #hubspot #contact #activity #notes #emails #communications #meetings #snippet"
   ]
  },
  {
   "cell_type": "markdown",
   "id": "a852a18f-e277-4aa5-bdec-8dd1fccb57d2",
   "metadata": {
    "papermill": {},
    "tags": []
   },
   "source": [
    "**Author:** [Florent Ravenel](https://www.linkedin.com/in/florent-ravenel)"
   ]
  },
  {
   "cell_type": "markdown",
   "id": "6dd7c05c-17ed-459f-88a8-3c6629b80cde",
   "metadata": {
    "papermill": {},
    "tags": []
   },
   "source": [
    "**Last update:** 2023-08-21 (Created: 2023-08-21)"
   ]
  },
  {
   "cell_type": "markdown",
   "id": "7dcfd269-589b-4199-b521-6884053ff935",
   "metadata": {
    "papermill": {},
    "tags": []
   },
   "source": [
    "**Description:** This notebook illustrates the process of scoring a contact in HubSpot based on the count of their notes, which correspond to LinkedIn interactions."
   ]
  },
  {
   "cell_type": "markdown",
   "id": "0da5ca2d-a6a1-424c-b41f-391428555503",
   "metadata": {
    "papermill": {},
    "tags": []
   },
   "source": [
    "**References:**\n",
    "- [HubSpot API - Contacts](https://developers.hubspot.com/docs/api/crm/contacts)\n",
    "- [HubSpot API - Associations v4](https://developers.hubspot.com/docs/api/crm/associations)\n",
    "- [HubSpot API - Communications](https://developers.hubspot.com/docs/api/crm/communications)"
   ]
  },
  {
   "cell_type": "markdown",
   "id": "8c6e5050-800a-4f05-a1d2-5a682c54e069",
   "metadata": {
    "papermill": {},
    "tags": []
   },
   "source": [
    "## Input"
   ]
  },
  {
   "cell_type": "markdown",
   "id": "6c27222b-7468-4daa-9a77-c446aaf66f72",
   "metadata": {
    "papermill": {},
    "tags": []
   },
   "source": [
    "### Import libraries"
   ]
  },
  {
   "cell_type": "code",
   "execution_count": null,
   "id": "a3fad6df-27f3-4e13-a934-083468860bf3",
   "metadata": {
    "papermill": {},
    "tags": []
   },
   "outputs": [],
   "source": [
    "import naas\n",
    "from naas_drivers import hubspot\n",
    "import requests\n",
    "import pandas as pd\n",
    "pd.set_option('display.max_colwidth', None)"
   ]
  },
  {
   "cell_type": "markdown",
   "id": "17d095ea-e80c-4d8d-896b-271f3e0ea121",
   "metadata": {
    "papermill": {},
    "tags": []
   },
   "source": [
    "### Setup variables\n",
    "**Mandatory**\n",
    "\n",
    "[Get your HubSpot Access token](https://knowledge.hubspot.com/articles/kcs_article/integrations/how-do-i-get-my-hubspot-api-key)\n",
    "- `hs_access_token`: This variable stores an access token used for accessing the HubSpot API.\n",
    "- `cron`: This variable represents the CRON syntax used to run the scheduler. More information here: https://crontab.guru/#0_12,18_*_*_1-5\n",
    "\n",
    "**Optional**\n",
    "- `contact_properties`: This is a list of properties that you want to retrieve from your HubSpot contacts.\n",
    "- `limit`: This variable likely sets a limit to the number of contacts you want to score."
   ]
  },
  {
   "cell_type": "code",
   "execution_count": null,
   "id": "13df3457-9ca4-4a77-ace7-2cd5a386362d",
   "metadata": {
    "papermill": {},
    "tags": [
     "parameters"
    ]
   },
   "outputs": [],
   "source": [
    "# Mandatory\n",
    "hs_access_token = naas.secret.get(\"HS_ACCESS_TOKEN\") or \"YOUR_HS_ACCESS_TOKEN\"\n",
    "cron = \"0 0 * * 1-5\"\n",
    "\n",
    "# Optional\n",
    "contact_properties = [\n",
    "    \"hs_object_id\",\n",
    "    \"firstname\",\n",
    "    \"lastname\",\n",
    "    'email',\n",
    "    'linkedinbio',\n",
    "    'jobtitle',\n",
    "    \"notes_last_updated\",\n",
    "]\n",
    "limit = 100"
   ]
  },
  {
   "cell_type": "markdown",
   "id": "58f1d275-a026-45a5-8629-9b5f1f8b038f",
   "metadata": {
    "papermill": {},
    "tags": []
   },
   "source": [
    "## Model"
   ]
  },
  {
   "cell_type": "markdown",
   "id": "63e24350-76f8-4c80-962b-788f3595fb28",
   "metadata": {
    "papermill": {},
    "tags": []
   },
   "source": [
    "### Get all contacts from HubSpot"
   ]
  },
  {
   "cell_type": "code",
   "execution_count": null,
   "id": "9486f265-0fd4-4e8a-9a44-650651df542b",
   "metadata": {
    "papermill": {},
    "tags": []
   },
   "outputs": [],
   "source": [
    "df_contacts = hubspot.connect(hs_access_token).contacts.get_all(contact_properties)\n",
    "print(\"Contacts:\", len(df_contacts))\n",
    "df_contacts.head(1)"
   ]
  },
  {
   "cell_type": "markdown",
   "id": "1a49c1f0-7874-4583-85ac-de7e938802ba",
   "metadata": {
    "papermill": {},
    "tags": []
   },
   "source": [
    "### Filter on target"
   ]
  },
  {
   "cell_type": "code",
   "execution_count": null,
   "id": "b4e5b89a-e42c-4451-b8da-60bb480c23a7",
   "metadata": {
    "papermill": {},
    "tags": []
   },
   "outputs": [],
   "source": [
    "df_target = df_contacts.copy()\n",
    "df_target = df_target.sort_values(by=\"notes_last_updated\", ascending=False)[:limit].reset_index(drop=True)\n",
    "print(\"Targets:\", len(df_target))\n",
    "df_target.head(1)"
   ]
  },
  {
   "cell_type": "markdown",
   "id": "dd600b6a-2298-421e-80d7-1d101e1aecb4",
   "metadata": {
    "papermill": {},
    "tags": []
   },
   "source": [
    "### Score contact from notes count"
   ]
  },
  {
   "cell_type": "code",
   "execution_count": null,
   "id": "9c5c7fdf-be1e-4b0c-8cc2-705b460d00f3",
   "metadata": {
    "papermill": {},
    "tags": []
   },
   "outputs": [],
   "source": [
    "def get_association_from_contact(\n",
    "    token,\n",
    "    contact_id,\n",
    "    endpoint,\n",
    "):\n",
    "    # Init\n",
    "    results = []\n",
    "    \n",
    "    # Requests\n",
    "    headers = {\n",
    "        \"Content-Type\": \"application/json\",\n",
    "        \"Authorization\": f\"Bearer {token}\"\n",
    "    }\n",
    "    url = f\"https://api.hubapi.com/crm/v4/objects/contacts/{contact_id}/associations/{endpoint}\"\n",
    "    \n",
    "    # Response\n",
    "    res = requests.get(url, headers=headers)\n",
    "    if res.status_code == 200:\n",
    "        results = res.json().get(\"results\")\n",
    "    return results\n",
    "\n",
    "for row in df_target.itertuples():\n",
    "    firstname = row.firstname\n",
    "    lastname = row.lastname\n",
    "    contact_id = row.hs_object_id\n",
    "    print(f'Starting with: {firstname} {lastname} ({contact_id})')\n",
    "    data = get_association_from_contact(\n",
    "        hs_access_token,\n",
    "        contact_id,\n",
    "        \"notes\"\n",
    "    )\n",
    "    print(\"-> Notes:\", len(data))\n",
    "    update_contact = {\"properties\": {\"score\": len(data)}}\n",
    "    contact = hubspot.connect(hs_access_token).contacts.patch(contact_id, update_contact)"
   ]
  },
  {
   "cell_type": "markdown",
   "id": "6e9729cd-8e75-4c13-a06c-87afb9923e53",
   "metadata": {
    "papermill": {},
    "tags": []
   },
   "source": [
    "## Output"
   ]
  },
  {
   "cell_type": "markdown",
   "id": "4b3cd438-0695-4cd6-836a-4c751ddb90a3",
   "metadata": {
    "papermill": {},
    "tags": []
   },
   "source": [
    "### Add scheduler"
   ]
  },
  {
   "cell_type": "code",
   "execution_count": null,
   "id": "e0788544-a8ca-4f6c-abc6-7f15f5229ff0",
   "metadata": {
    "papermill": {},
    "tags": []
   },
   "outputs": [],
   "source": [
    "naas.scheduler.add(cron=cron)\n",
    "\n",
    "# Delete scheduler\n",
    "# naas.scheduler.delete()"
   ]
  }
 ],
 "metadata": {
  "kernelspec": {
   "display_name": "Python 3",
   "language": "python",
   "name": "python3"
  },
  "language_info": {
   "codemirror_mode": {
    "name": "ipython",
    "version": 3
   },
   "file_extension": ".py",
   "mimetype": "text/x-python",
   "name": "python",
   "nbconvert_exporter": "python",
   "pygments_lexer": "ipython3",
   "version": "3.9.6"
  },
  "naas": {
   "notebook_id": "9ca3ba5eae3a47b868a366803ceedd42514a9836b08a41e8e753b1d9f2bfe6cb",
   "notebook_path": "HubSpot/HubSpot_Score_contact_from_notes.ipynb"
  },
  "papermill": {
   "default_parameters": {},
   "environment_variables": {},
   "parameters": {},
   "version": "2.4.0"
  },
  "widgets": {
   "application/vnd.jupyter.widget-state+json": {
    "state": {},
    "version_major": 2,
    "version_minor": 0
   }
  }
 },
 "nbformat": 4,
 "nbformat_minor": 5
}
