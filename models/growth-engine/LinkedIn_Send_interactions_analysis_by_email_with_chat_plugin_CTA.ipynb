{
 "cells": [
  {
   "cell_type": "markdown",
   "id": "encouraging-netherlands",
   "metadata": {
    "execution": {
     "iopub.execute_input": "2021-01-25T08:00:35.294800Z",
     "iopub.status.busy": "2021-01-25T08:00:35.294557Z",
     "iopub.status.idle": "2021-01-25T08:00:35.307281Z",
     "shell.execute_reply": "2021-01-25T08:00:35.306468Z",
     "shell.execute_reply.started": "2021-01-25T08:00:35.294775Z"
    },
    "papermill": {},
    "tags": []
   },
   "source": [
    "<img width=\"10%\" alt=\"Naas\" src=\"https://landen.imgix.net/jtci2pxwjczr/assets/5ice39g4.png?w=160\"/>"
   ]
  },
  {
   "cell_type": "markdown",
   "id": "suitable-timer",
   "metadata": {
    "papermill": {},
    "tags": []
   },
   "source": [
    "# LinkedIn - Send interactions analysis by email with chat plugin CTA"
   ]
  },
  {
   "cell_type": "markdown",
   "id": "5fa9ce33-c79a-4c6d-adf4-d3a6f479f27d",
   "metadata": {
    "papermill": {},
    "tags": []
   },
   "source": [
    "**Tags:** #linkedin #post #interactions #naas_drivers #content #snippet #dataframe #growth"
   ]
  },
  {
   "cell_type": "markdown",
   "id": "82d7f76c-a6e5-49d7-9129-5049975fe992",
   "metadata": {
    "papermill": {},
    "tags": []
   },
   "source": [
    "**Author:** [Jeremy Ravenel](https://www.linkedin.com/in/jeremyravenel/)"
   ]
  },
  {
   "cell_type": "markdown",
   "id": "naas-description",
   "metadata": {
    "papermill": {},
    "tags": [
     "description"
    ]
   },
   "source": [
    "**Description:** This notebook gets the list of LinkedIn profile that interacted with a post, determine if they fit the ICP using prompt engineering, and sends a report via email with a CTA that opens a Chat Agent to explore outreach possibilities."
   ]
  },
  {
   "cell_type": "markdown",
   "id": "59565c01-4b88-4ae2-aba4-1eeb09832527",
   "metadata": {
    "papermill": {},
    "tags": []
   },
   "source": [
    "\n",
    "<div class=\"alert alert-info\" role=\"info\" style=\"margin: 10px\">\n",
    "<b>Disclaimer:</b><br>\n",
    "This code is in no way affiliated with, authorized, maintained, sponsored or endorsed by Linkedin or any of its affiliates or subsidiaries. It uses an independent and unofficial API. Use at your own risk.\n",
    "\n",
    "This project violates Linkedin's User Agreement Section 8.2, and because of this, Linkedin may (and will) temporarily or permanently ban your account. We are not responsible for your account being banned.\n",
    "<br>\n",
    "</div>"
   ]
  },
  {
   "cell_type": "markdown",
   "id": "progressive-measure",
   "metadata": {
    "papermill": {},
    "tags": []
   },
   "source": [
    "## Input"
   ]
  },
  {
   "cell_type": "markdown",
   "id": "import_cell",
   "metadata": {
    "papermill": {},
    "tags": []
   },
   "source": [
    "### Import libraries"
   ]
  },
  {
   "cell_type": "code",
   "execution_count": null,
   "id": "polish-singer",
   "metadata": {
    "execution": {
     "iopub.execute_input": "2023-09-07T15:18:17.386944Z",
     "iopub.status.busy": "2023-09-07T15:18:17.386684Z",
     "iopub.status.idle": "2023-09-07T15:18:21.089145Z",
     "shell.execute_reply": "2023-09-07T15:18:21.088525Z",
     "shell.execute_reply.started": "2023-09-07T15:18:17.386860Z"
    },
    "papermill": {},
    "tags": []
   },
   "outputs": [],
   "source": [
    "import os\n",
    "import json\n",
    "import pandas as pd\n",
    "\n",
    "import naas \n",
    "import naas_drivers\n",
    "import openai\n",
    "\n",
    "from naas_drivers import emailbuilder, linkedin\n",
    "from datetime import datetime, date\n",
    "import random\n",
    "import time\n",
    "from dateutil.parser import parse\n",
    "import matplotlib.pyplot as plt\n",
    "import plotly.graph_objects as go\n",
    "\n",
    "import plotly.io as pio\n",
    "try:\n",
    "    import tiktoken\n",
    "except:\n",
    "    !pip install tiktoken --user\n",
    "    import tiktoken"
   ]
  },
  {
   "cell_type": "markdown",
   "id": "preceding-differential",
   "metadata": {
    "papermill": {},
    "tags": []
   },
   "source": [
    "### Setup variables\n",
    "<a href='https://www.notion.so/LinkedIn-driver-Get-your-cookies-d20a8e7e508e42af8a5b52e33f3dba75'>How to get your cookies ?</a>"
   ]
  },
  {
   "cell_type": "code",
   "execution_count": null,
   "id": "analyzed-contributor",
   "metadata": {
    "execution": {
     "iopub.execute_input": "2023-09-07T15:18:21.090766Z",
     "iopub.status.busy": "2023-09-07T15:18:21.090530Z",
     "iopub.status.idle": "2023-09-07T15:18:21.509892Z",
     "shell.execute_reply": "2023-09-07T15:18:21.509051Z",
     "shell.execute_reply.started": "2023-09-07T15:18:21.090737Z"
    },
    "papermill": {},
    "tags": []
   },
   "outputs": [],
   "source": [
    "# Define scenario \n",
    "is_demo = False # Default to True\n",
    "\n",
    "# For LinkedIn \n",
    "POST_URL = \"https://www.linkedin.com/posts/jeremyravenel_ai-linkedin-chatgpt-activity-7089300798962028544-viOU/\"\n",
    "refresh_interval = 2 #time in minutes between two LinkedIn queries\n",
    "LI_AT = naas.secret.get(\"LINKEDIN_LI_AT\")  # EXAMPLE : \"AQFAzQN_PLPR4wAAAXc-FCKmgiMit5FLdY1af3-2\"\n",
    "JSESSIONID = naas.secret.get(\"LINKEDIN_JSESSIONID\")   # EXAMPLE : \"ajax:8379907400220387585\"\n",
    "PROFILE_URL = naas.secret.get(\"LINKEDIN_PROFILE_URL\")  # EXAMPLE \"https://www.linkedin.com/in/myprofile/\"\n",
    "\n",
    "# For Emails\n",
    "EMAIL_TO = \"jeremy@naas.ai\"  # you will receive weekly summary at this email\n",
    "EMAIL_FROM = None  # summary will have this email as sender. Only available for your naas email, otherwise you will receive this email from notification@naas.ai\n",
    "EMAIL_SUBJECT = (f\"🚀 Growth Engine Demo - Email Update, {datetime.now().strftime('%Y-%m-%d %H:%M:%S')}\")\n",
    "DATE_FORMAT = \"%Y-%m-%d\"\n",
    "\n",
    "\n",
    "# For openAI API\n",
    "openai_api_key = naas.secret.get(\"OPENAI_API_KEY\")\n",
    "\n",
    "# For AI Chat Plugin\n",
    "plugin_name = \"🚀 Growth Agent Demo\"\n",
    "plugin_model = \"gpt-3.5-turbo-16k\"\n",
    "plugin_temperature = 0\n",
    "plugin_max_tokens = 8192\n",
    "system_prompt_max_tokens = 2084\n",
    "\n",
    "# For Asset Generation\n",
    "output_dir = \"../outputs/\"\n",
    "csv_file_name = \"linkedin_interactions.csv\"\n",
    "image_file_name = \"growth_analysis.png\"\n",
    "plugin_file_name = \"growth_plugin.json\""
   ]
  },
  {
   "cell_type": "markdown",
   "id": "looking-olympus",
   "metadata": {
    "papermill": {},
    "tags": []
   },
   "source": [
    "## Model"
   ]
  },
  {
   "cell_type": "markdown",
   "id": "7e1e53eb-5534-41db-933b-0882e35c0ffa",
   "metadata": {},
   "source": [
    "### Setup directories"
   ]
  },
  {
   "cell_type": "code",
   "execution_count": null,
   "id": "57674428-05d9-4409-bbe4-394bd865be1f",
   "metadata": {
    "execution": {
     "iopub.execute_input": "2023-09-07T15:18:21.511284Z",
     "iopub.status.busy": "2023-09-07T15:18:21.511058Z",
     "iopub.status.idle": "2023-09-07T15:18:21.525474Z",
     "shell.execute_reply": "2023-09-07T15:18:21.524825Z",
     "shell.execute_reply.started": "2023-09-07T15:18:21.511256Z"
    },
    "tags": []
   },
   "outputs": [],
   "source": [
    "# Check if directory exists and create it if not\n",
    "if not os.path.exists(output_dir):\n",
    "    os.makedirs(output_dir)\n",
    "    \n",
    "# Generate outputs files path\n",
    "csv_file_path = os.path.join(output_dir, csv_file_name)\n",
    "image_file_path = os.path.join(output_dir, image_file_name)\n",
    "plugin_file_path = os.path.join(output_dir, plugin_file_name)\n",
    "print('📂 CSV file path:', csv_file_path)\n",
    "print('📂 Image file path:', image_file_path)\n",
    "print('📂 Plugin file path:', plugin_file_path)"
   ]
  },
  {
   "cell_type": "markdown",
   "id": "12a0d4aa-2cde-49a3-979b-cb3801eb685a",
   "metadata": {
    "execution": {
     "iopub.execute_input": "2023-08-17T15:52:31.360781Z",
     "iopub.status.busy": "2023-08-17T15:52:31.360518Z",
     "iopub.status.idle": "2023-08-17T15:52:31.363929Z",
     "shell.execute_reply": "2023-08-17T15:52:31.363283Z",
     "shell.execute_reply.started": "2023-08-17T15:52:31.360716Z"
    }
   },
   "source": [
    "### Get or load data"
   ]
  },
  {
   "cell_type": "markdown",
   "id": "cosmetic-sheriff",
   "metadata": {
    "execution": {
     "iopub.execute_input": "2021-05-15T10:12:55.887028Z",
     "iopub.status.busy": "2021-05-15T10:12:55.886761Z",
     "iopub.status.idle": "2021-05-15T10:12:55.899441Z",
     "shell.execute_reply": "2021-05-15T10:12:55.898476Z",
     "shell.execute_reply.started": "2021-05-15T10:12:55.886964Z"
    },
    "papermill": {},
    "tags": []
   },
   "source": [
    "**Available columns :**\n",
    "- PROFILE_ID : LinkedIn unique profile ID\n",
    "- PROFILE_URL : LinkedIn unique profile URL\n",
    "- PUBLIC_ID : LinkedIn public profile ID\n",
    "- FIRSTNAME : First name of profile\n",
    "- LASTNAME : Last name of profile\n",
    "- FULLNAME : First name + Last name\n",
    "- OCCUPATION : Headline in profile description\n",
    "- PROFILE_PICTURE : Profile picture URL\n",
    "- BACKGROUND_PICTURE : Background picture URL\n",
    "- REACTION_TYPE : Post reaction type\n",
    "- POST_URL : Post URL"
   ]
  },
  {
   "cell_type": "code",
   "execution_count": null,
   "id": "a850bf7a-dc75-488a-995d-6347e3878de4",
   "metadata": {
    "execution": {
     "iopub.execute_input": "2023-09-07T15:18:21.526850Z",
     "iopub.status.busy": "2023-09-07T15:18:21.526466Z",
     "iopub.status.idle": "2023-09-07T15:18:36.759226Z",
     "shell.execute_reply": "2023-09-07T15:18:36.758649Z",
     "shell.execute_reply.started": "2023-09-07T15:18:21.526820Z"
    },
    "tags": []
   },
   "outputs": [],
   "source": [
    "def get_or_load_data(\n",
    "    li_at,\n",
    "    JSESSIONID,\n",
    "    POST_URL,\n",
    "    file_path,\n",
    "    refresh_interval,\n",
    "    demo_mode=is_demo  \n",
    "):\n",
    "    # Init\n",
    "    df = pd.DataFrame()\n",
    "    update_data = True\n",
    "    \n",
    "    # Check if demo_mode is True\n",
    "    if demo_mode:\n",
    "        file_path = \"../inputs/demo_data-linkedin_interactions.csv\"\n",
    "        if os.path.exists(file_path):\n",
    "            # Read file\n",
    "            df = pd.read_csv(file_path)\n",
    "            df.to_csv(csv_file_path, index=False)\n",
    "            return df\n",
    "    \n",
    "    # Check if output already exists\n",
    "    if os.path.exists(csv_file_path):\n",
    "        # Read file\n",
    "        df = pd.read_csv(csv_file_path)\n",
    "        \n",
    "        # Assess if LinkedIn API can be invoked based on the last call.\n",
    "        # To emulate human interaction, we must avoid making excessive calls to the LinkedIn API. Overdoing this could result in being banned.\n",
    "        if len(df) > 0:\n",
    "            if \"DATE_EXTRACT\" in df.columns:\n",
    "                # Manage calls to API\n",
    "                last_update_date = df.loc[0, \"DATE_EXTRACT\"]\n",
    "                time_last_update = datetime.now() - datetime.strptime(last_update_date, \"%Y-%m-%d %H:%M:%S\")\n",
    "                minute_last_update = time_last_update.total_seconds() / 60\n",
    "                if minute_last_update < refresh_interval:\n",
    "                    update_data = False\n",
    "                    print(f\"ℹ️ Nothing to update as the last retrieve was {int(minute_last_update)} minutes ago.\")\n",
    "                \n",
    "    if update_data:\n",
    "        # Get last posts\n",
    "        df = linkedin.connect(LI_AT, JSESSIONID).post.get_likes(POST_URL)\n",
    "        # Save last posts in CSV\n",
    "        df.to_csv(csv_file_path, index=False)\n",
    "        print(\"💾 Dataframe successfully saved:\", csv_file_path)\n",
    "    return df\n",
    "\n",
    "# Call the function and display results\n",
    "df = get_or_load_data(LI_AT, JSESSIONID, POST_URL, csv_file_path, refresh_interval)\n",
    "df"
   ]
  },
  {
   "cell_type": "markdown",
   "id": "dae083da-04b1-422c-92d3-f35b0d9f2ccd",
   "metadata": {},
   "source": [
    "### Prepare data for prediction"
   ]
  },
  {
   "cell_type": "code",
   "execution_count": null,
   "id": "2e2c4428-3aff-4fad-8ce7-389a30425138",
   "metadata": {
    "execution": {
     "iopub.execute_input": "2023-09-07T15:18:36.761416Z",
     "iopub.status.busy": "2023-09-07T15:18:36.761111Z",
     "iopub.status.idle": "2023-09-07T15:18:36.766309Z",
     "shell.execute_reply": "2023-09-07T15:18:36.765776Z",
     "shell.execute_reply.started": "2023-09-07T15:18:36.761392Z"
    },
    "tags": []
   },
   "outputs": [],
   "source": [
    "df['summary'] = df['OCCUPATION']"
   ]
  },
  {
   "cell_type": "markdown",
   "id": "3ac2faf7-2928-4c2c-8ae2-a26dbb46ee28",
   "metadata": {},
   "source": [
    "### Determine if profiles match with ICP"
   ]
  },
  {
   "cell_type": "code",
   "execution_count": null,
   "id": "d2309ff0-24c6-40b5-b146-dab345bebcea",
   "metadata": {
    "execution": {
     "iopub.execute_input": "2023-09-07T15:18:36.767504Z",
     "iopub.status.busy": "2023-09-07T15:18:36.767278Z",
     "iopub.status.idle": "2023-09-07T15:19:01.925869Z",
     "shell.execute_reply": "2023-09-07T15:19:01.925032Z",
     "shell.execute_reply.started": "2023-09-07T15:18:36.767477Z"
    },
    "tags": []
   },
   "outputs": [],
   "source": [
    "def predict_category(summary):\n",
    "    openai.api_key = naas.secret.get(\"OPENAI_API_KEY\")\n",
    "\n",
    "    response = openai.Completion.create(\n",
    "        engine=\"text-davinci-003\",\n",
    "        prompt=f\"\"\"I am building Naas, the Universal open source data plaform.\n",
    "        I have 2 ideal customer profile, one is a 'data producer' with basic knowledge of Python that could use our Notebook templates to create plugins. \n",
    "        These plugions are then distributed data via our NaasAI Chat interface. \n",
    "        The other one is a 'data consummer' that will enjoy using NaasAI Chat for its basic LLMs integration but also interested in having its own data available, hence work with the data producer. \n",
    "        I will give you the {summary} from a profile I get from LinkedIn, you will return stricly and only one of the following values inside the simple quotes based on the best match 'DataProducer', 'DataConsummer', 'NotICP' or 'Don't know' if you don't find a plausible match with the first 3 values.\n",
    "        Don't put the results into quotes.\n",
    "        \"\"\",\n",
    "        temperature=0,\n",
    "        max_tokens=60\n",
    "    )\n",
    "\n",
    "    return response.choices[0].text.strip()\n",
    "\n",
    "# Apply the function to the 'summary' column\n",
    "df['ICP'] = df['summary'].apply(predict_category)"
   ]
  },
  {
   "cell_type": "code",
   "execution_count": null,
   "id": "f2f11e2d-b8f7-4a56-adb1-867418e66788",
   "metadata": {
    "execution": {
     "iopub.execute_input": "2023-09-07T15:19:01.931095Z",
     "iopub.status.busy": "2023-09-07T15:19:01.930626Z",
     "iopub.status.idle": "2023-09-07T15:19:01.950941Z",
     "shell.execute_reply": "2023-09-07T15:19:01.950422Z",
     "shell.execute_reply.started": "2023-09-07T15:19:01.931059Z"
    },
    "tags": []
   },
   "outputs": [],
   "source": [
    "def group_and_count(df):\n",
    "    return df.groupby('ICP').size().reset_index(name='SUM')\n",
    "\n",
    "df_icp = group_and_count(df)\n",
    "df_icp"
   ]
  },
  {
   "cell_type": "markdown",
   "id": "79c01a6f-1c57-49b1-8705-26cf5fbe636a",
   "metadata": {},
   "source": [
    "### Create chart"
   ]
  },
  {
   "cell_type": "code",
   "execution_count": null,
   "id": "88d626c4-5f6d-40c8-9254-7d894573392f",
   "metadata": {
    "execution": {
     "iopub.execute_input": "2023-09-07T15:19:01.953402Z",
     "iopub.status.busy": "2023-09-07T15:19:01.953239Z",
     "iopub.status.idle": "2023-09-07T15:19:03.031940Z",
     "shell.execute_reply": "2023-09-07T15:19:03.031244Z",
     "shell.execute_reply.started": "2023-09-07T15:19:01.953384Z"
    },
    "tags": []
   },
   "outputs": [],
   "source": [
    "def create_vertical_barchart(df_icp,\n",
    "                               label=\"ICP\",\n",
    "                               value=\"SUM\",\n",
    "                               value_d=\"SUM\"):\n",
    "    # Init\n",
    "    fig = go.Figure()\n",
    "    \n",
    "    # Return empty fig if dataframe is empty\n",
    "    if len(df_icp) == 0:\n",
    "        return fig\n",
    "    \n",
    "    # Create fig\n",
    "    fig.add_trace(\n",
    "        go.Bar(\n",
    "            y=df_icp[value],\n",
    "            x=df_icp[label],\n",
    "            textposition=\"outside\",\n",
    "            marker=dict(color=\"#0f93d2\"),\n",
    "            orientation=\"v\"\n",
    "        )\n",
    "    )\n",
    "    \n",
    "    # Add logo\n",
    "    fig.add_layout_image(\n",
    "        dict(\n",
    "            #source=\"logo.png\",\n",
    "            xref=\"paper\",\n",
    "            yref=\"paper\",\n",
    "            x=0.28,\n",
    "            y=.035,\n",
    "            sizex=0.15,\n",
    "            sizey=0.15,\n",
    "            xanchor=\"right\",\n",
    "            yanchor=\"bottom\"\n",
    "        )\n",
    "    )\n",
    "    \n",
    "    fig.update_traces(showlegend=False)\n",
    "    \n",
    "    # Plotly: Create title\n",
    "    total_value = \"{:,.0f}\".format(df_icp[value].sum()).replace(\",\", \" \")\n",
    "    title = f\"<b><span style='font-size: 20px;'>ICP Matches from last post</span></b>\"\n",
    "    fig.update_layout(\n",
    "        title=title,\n",
    "        #title_x=0.09,\n",
    "        title_font=dict(family=\"Arial\", color=\"black\"),\n",
    "        paper_bgcolor=\"#ffffff\",\n",
    "        plot_bgcolor=\"#ffffff\",\n",
    "        width=1200,\n",
    "        height=600,\n",
    "        #margin_pad=10,\n",
    "        #margin_r=10,\n",
    "        #margin_l=10,\n",
    "    )\n",
    "    \n",
    "    fig.update_xaxes(showticklabels=True)\n",
    "    \n",
    "    return fig\n",
    "\n",
    "create_vertical_barchart(df_icp)"
   ]
  },
  {
   "cell_type": "markdown",
   "id": "75d1467a-a488-465c-8e6e-69af5f4e3785",
   "metadata": {},
   "source": [
    "### Create asset from chart"
   ]
  },
  {
   "cell_type": "code",
   "execution_count": null,
   "id": "aa237d81-8d87-4bad-9680-07a976dfd448",
   "metadata": {
    "execution": {
     "iopub.execute_input": "2023-09-07T15:19:03.033295Z",
     "iopub.status.busy": "2023-09-07T15:19:03.033077Z",
     "iopub.status.idle": "2023-09-07T15:19:04.605322Z",
     "shell.execute_reply": "2023-09-07T15:19:04.604737Z",
     "shell.execute_reply.started": "2023-09-07T15:19:03.033269Z"
    },
    "tags": []
   },
   "outputs": [],
   "source": [
    "# Create the chart\n",
    "chart = create_vertical_barchart(df_icp)\n",
    "\n",
    "# Save as PNG\n",
    "pio.write_image(chart, image_file_path)\n",
    "\n",
    "#graph_url = naas.asset.add(\"chart.html\", {\"inline\": True})\n",
    "graph_image = naas.asset.add(image_file_path)"
   ]
  },
  {
   "cell_type": "markdown",
   "id": "b40bfbcd-c049-4186-abb9-6800f4d44c48",
   "metadata": {
    "execution": {
     "iopub.execute_input": "2023-08-14T13:31:30.419083Z",
     "iopub.status.busy": "2023-08-14T13:31:30.418845Z",
     "iopub.status.idle": "2023-08-14T13:31:30.422092Z",
     "shell.execute_reply": "2023-08-14T13:31:30.421386Z",
     "shell.execute_reply.started": "2023-08-14T13:31:30.419061Z"
    }
   },
   "source": [
    "### Set email parameters"
   ]
  },
  {
   "cell_type": "code",
   "execution_count": null,
   "id": "176ab517-4aa4-4ed5-b8b9-ad89866534b2",
   "metadata": {
    "execution": {
     "iopub.execute_input": "2023-09-07T15:19:04.607251Z",
     "iopub.status.busy": "2023-09-07T15:19:04.607082Z",
     "iopub.status.idle": "2023-09-07T15:19:04.613689Z",
     "shell.execute_reply": "2023-09-07T15:19:04.613188Z",
     "shell.execute_reply.started": "2023-09-07T15:19:04.607232Z"
    },
    "tags": []
   },
   "outputs": [],
   "source": [
    "today = datetime.now().strftime(DATE_FORMAT)\n",
    "today"
   ]
  },
  {
   "cell_type": "markdown",
   "id": "a1f5d917-03e4-4c4e-a4d7-72fc1bde557c",
   "metadata": {},
   "source": [
    "### Prepare data for email"
   ]
  },
  {
   "cell_type": "code",
   "execution_count": null,
   "id": "22143a23-624e-410c-b0f2-b9f382b3cb58",
   "metadata": {
    "execution": {
     "iopub.execute_input": "2023-09-07T15:19:04.615886Z",
     "iopub.status.busy": "2023-09-07T15:19:04.615672Z",
     "iopub.status.idle": "2023-09-07T15:19:04.703361Z",
     "shell.execute_reply": "2023-09-07T15:19:04.702784Z",
     "shell.execute_reply.started": "2023-09-07T15:19:04.615820Z"
    },
    "tags": []
   },
   "outputs": [],
   "source": [
    "# Transpose the DataFrame\n",
    "df_icp_transposed = df_icp.transpose()\n",
    "\n",
    "# Set the column names to the first row's values\n",
    "df_icp_transposed.columns = df_icp_transposed.iloc[0]\n",
    "\n",
    "# Drop the first row\n",
    "df_icp_transposed = df_icp_transposed.drop(df_icp_transposed.index[0])\n",
    "\n",
    "# Capitalize, remove spaces, and replace empty strings with 'unknown'\n",
    "df_icp_transposed.columns = [str(col).replace(' ', '').capitalize() or 'unknown' for col in df_icp_transposed.columns]\n",
    "\n",
    "# Remove leading and trailing whitespaces\n",
    "df_icp_transposed.columns = [str(col).strip().capitalize() or 'unknown' for col in df_icp_transposed.columns]\n",
    "df_icp_transposed"
   ]
  },
  {
   "cell_type": "code",
   "execution_count": null,
   "id": "2fe2b6a7-8377-4eb6-a268-62ca40ddd63a",
   "metadata": {
    "execution": {
     "iopub.execute_input": "2023-09-07T15:19:04.706894Z",
     "iopub.status.busy": "2023-09-07T15:19:04.706484Z",
     "iopub.status.idle": "2023-09-07T15:19:04.775650Z",
     "shell.execute_reply": "2023-09-07T15:19:04.775052Z",
     "shell.execute_reply.started": "2023-09-07T15:19:04.706864Z"
    },
    "tags": []
   },
   "outputs": [],
   "source": [
    "Dataconsummer = df_icp_transposed.Dataconsummer.sum()\n",
    "Dataproducer= df_icp_transposed.Dataproducer.sum()\n",
    "Noticp = df_icp_transposed.Noticp.sum()\n",
    "\n",
    "# preview of what will be send by email:\n",
    "print(\n",
    "    \"\\n\\t👩‍💼 Data consummer\\t\",\n",
    "    Dataconsummer,\n",
    "    \"\\n\\t👷 Data producer\\t\",\n",
    "    Dataproducer,\n",
    "    \"\\n\\t❌ Not ICP\\t\",\n",
    "    Noticp,\n",
    ")"
   ]
  },
  {
   "cell_type": "markdown",
   "id": "195d8511-3772-412b-9d1e-bddc8275fc11",
   "metadata": {},
   "source": [
    "### Create Naas Chat plugin"
   ]
  },
  {
   "cell_type": "code",
   "execution_count": null,
   "id": "2811604e-a7fe-4f9f-870f-d16a0dee6d21",
   "metadata": {
    "execution": {
     "iopub.execute_input": "2023-09-07T15:19:04.776814Z",
     "iopub.status.busy": "2023-09-07T15:19:04.776593Z",
     "iopub.status.idle": "2023-09-07T15:19:04.884164Z",
     "shell.execute_reply": "2023-09-07T15:19:04.883659Z",
     "shell.execute_reply.started": "2023-09-07T15:19:04.776787Z"
    },
    "tags": []
   },
   "outputs": [],
   "source": [
    "system_prompt = f\"\"\"Act as a Growth Agent who has access to a list of interactions from content that enable the user to get qualified contacts.\n",
    "Your role is to manage and optimize the list of people who interacted on the content, ensuring to extract only the most qualified contacts to feed the sales representative.\n",
    "You will need to analyze data to define preferences on how to touch the contact needs and interests.\n",
    "Your ultimate goal is to create engaging and relevant list of qualified leads, contributing to the overall success of the sales & marketing strategy.\n",
    "The first message should be about presenting yourself with a maximum of 5 bullet points and displaying the current content analytics data to be displayed as an image inside the markdown of the chat:{graph_image}.\n",
    "Then, wait for the first answer from the user, and then start with the first high-level analysis.\n",
    "Here is the data from the content analytics that you should focus on: {df}\n",
    "\"\"\""
   ]
  },
  {
   "cell_type": "markdown",
   "id": "1c3ef391-4017-4d32-bbbf-e6f03ce68f9d",
   "metadata": {
    "execution": {
     "iopub.execute_input": "2023-08-11T08:57:02.873145Z",
     "iopub.status.busy": "2023-08-11T08:57:02.872902Z",
     "iopub.status.idle": "2023-08-11T08:57:02.875911Z",
     "shell.execute_reply": "2023-08-11T08:57:02.875189Z",
     "shell.execute_reply.started": "2023-08-11T08:57:02.873120Z"
    }
   },
   "source": [
    "### Check token count "
   ]
  },
  {
   "cell_type": "code",
   "execution_count": null,
   "id": "fb68a86a-0033-4ab6-a6ef-f5955d1675a1",
   "metadata": {
    "execution": {
     "iopub.execute_input": "2023-09-07T15:19:04.885321Z",
     "iopub.status.busy": "2023-09-07T15:19:04.885108Z",
     "iopub.status.idle": "2023-09-07T15:19:05.418588Z",
     "shell.execute_reply": "2023-09-07T15:19:05.417821Z",
     "shell.execute_reply.started": "2023-09-07T15:19:04.885291Z"
    },
    "tags": []
   },
   "outputs": [],
   "source": [
    "def num_tokens_from_string(string: str, encoding_name: str) -> int:\n",
    "    \"\"\"Returns the number of tokens in a text string.\"\"\"\n",
    "    encoding = tiktoken.get_encoding(encoding_name)\n",
    "    num_tokens = len(encoding.encode(string))\n",
    "    return num_tokens\n",
    "\n",
    "system_prompt_tokens = num_tokens_from_string(system_prompt, \"cl100k_base\")\n",
    "if system_prompt_tokens > system_prompt_max_tokens:\n",
    "    print(\"⚠️ Be carefull, your system prompt looks too big. Tokens:\", system_prompt_tokens)\n",
    "else:\n",
    "    print(\"✅ System prompt tokens count OK:\", system_prompt_tokens)"
   ]
  },
  {
   "cell_type": "markdown",
   "id": "1551d8c0-10e6-413e-a47e-93ac7109509c",
   "metadata": {},
   "source": [
    "### Generate plugin"
   ]
  },
  {
   "cell_type": "code",
   "execution_count": null,
   "id": "800b0559-dbcb-47cc-944d-621a06bb638d",
   "metadata": {
    "execution": {
     "iopub.execute_input": "2023-09-07T15:19:05.420067Z",
     "iopub.status.busy": "2023-09-07T15:19:05.419827Z",
     "iopub.status.idle": "2023-09-07T15:19:05.951202Z",
     "shell.execute_reply": "2023-09-07T15:19:05.950523Z",
     "shell.execute_reply.started": "2023-09-07T15:19:05.420035Z"
    },
    "tags": []
   },
   "outputs": [],
   "source": [
    "# Create json\n",
    "plugin = {\n",
    "    \"name\": plugin_name,\n",
    "    \"model\": plugin_model,\n",
    "    \"temperature\": plugin_temperature,\n",
    "    \"max_tokens\": plugin_max_tokens,\n",
    "    \"prompt\": system_prompt,\n",
    "}\n",
    "\n",
    "# Save dict to JSON file\n",
    "with open(plugin_file_path, \"w\") as f:\n",
    "    json.dump(plugin, f)\n",
    "print(\"💾 Plugin successfully saved:\")\n",
    "\n",
    "plugin = naas.asset.add(plugin_file_path, params={\"inline\": True})"
   ]
  },
  {
   "cell_type": "markdown",
   "id": "c4c038a4-2e52-46a7-9771-817095d13d4c",
   "metadata": {
    "execution": {
     "iopub.execute_input": "2023-08-11T17:00:17.689863Z",
     "iopub.status.busy": "2023-08-11T17:00:17.689593Z",
     "iopub.status.idle": "2023-08-11T17:00:17.692835Z",
     "shell.execute_reply": "2023-08-11T17:00:17.692124Z",
     "shell.execute_reply.started": "2023-08-11T17:00:17.689840Z"
    }
   },
   "source": [
    "### Generate email content"
   ]
  },
  {
   "cell_type": "code",
   "execution_count": null,
   "id": "784ee008-76bd-483f-afcf-0840807b6537",
   "metadata": {
    "execution": {
     "iopub.execute_input": "2023-09-07T15:19:05.952434Z",
     "iopub.status.busy": "2023-09-07T15:19:05.952173Z",
     "iopub.status.idle": "2023-09-07T15:19:05.955872Z",
     "shell.execute_reply": "2023-09-07T15:19:05.955215Z",
     "shell.execute_reply.started": "2023-09-07T15:19:05.952404Z"
    },
    "tags": []
   },
   "outputs": [],
   "source": [
    "def format_number(num):\n",
    "    NUMBER_FORMAT = \"{:,.0f}\"\n",
    "    num = str(NUMBER_FORMAT.format(num)).replace(\",\", \" \")\n",
    "    return num"
   ]
  },
  {
   "cell_type": "code",
   "execution_count": null,
   "id": "filled-fellow",
   "metadata": {
    "execution": {
     "iopub.execute_input": "2023-09-07T15:19:05.957146Z",
     "iopub.status.busy": "2023-09-07T15:19:05.956924Z",
     "iopub.status.idle": "2023-09-07T15:19:06.054759Z",
     "shell.execute_reply": "2023-09-07T15:19:06.054134Z",
     "shell.execute_reply.started": "2023-09-07T15:19:05.957119Z"
    },
    "papermill": {},
    "tags": []
   },
   "outputs": [],
   "source": [
    "def email_brief(\n",
    "    today,\n",
    "    Dataconsummer,\n",
    "    Dataproducer,\n",
    "    Noticp,\n",
    "\n",
    "):\n",
    "    content = {\n",
    "        'title': (\"🚀 Growth Engine - Email Update\"),\n",
    "        'heading': (f\"Date:{today}\"),\n",
    "        \"txt_intro\": (\n",
    "            f\"Hi there,<br><br>\" f\"Here is your growth engine email as of {today}.\"\n",
    "        ),\n",
    "        \"title_1\": emailbuilder.text(\n",
    "            \"Overview\", font_size=\"27px\", text_align=\"center\", bold=True\n",
    "        ),\n",
    "        \"text_1\": emailbuilder.text(\n",
    "            f\"Your last content interactions has been categorized has follows:\"\n",
    "        ),\n",
    "        \"image_1\": emailbuilder.image(graph_image),\n",
    "        \"list_1\": emailbuilder.list(\n",
    "            [\n",
    "                f\"👩‍💼 Data consummer : <b>{format_number(Dataconsummer)}</b>\",\n",
    "                f\"👷 Data producer : <b>{format_number(Dataproducer)}</b>\",\n",
    "                f\"❌ Not ICP : <b>{format_number(Noticp)}</b>\",\n",
    "            ]\n",
    "        ),\n",
    "        \"button_1\": emailbuilder.button(\n",
    "            link=(f\"https://naas.ai/chat/use?plugin_url={plugin}\"),\n",
    "            text=\"Start Chatting With Agent\",\n",
    "            background_color=\"#181a1c\",\n",
    "        ),\n",
    "        \"footer_cs\": emailbuilder.footer_company(naas=True),\n",
    "    }\n",
    "\n",
    "    email_content = emailbuilder.generate(display=\"iframe\", **content)\n",
    "    return email_content\n",
    "\n",
    "\n",
    "email_content = email_brief(\n",
    "    today,\n",
    "    Dataconsummer,\n",
    "    Dataproducer,\n",
    "    Noticp,\n",
    ")"
   ]
  },
  {
   "cell_type": "markdown",
   "id": "af242dc2-a6a5-48a6-a661-1b335e2b2895",
   "metadata": {
    "execution": {
     "iopub.execute_input": "2022-04-12T14:42:10.762125Z",
     "iopub.status.busy": "2022-04-12T14:42:10.761884Z",
     "iopub.status.idle": "2022-04-12T14:42:10.764880Z",
     "shell.execute_reply": "2022-04-12T14:42:10.764227Z",
     "shell.execute_reply.started": "2022-04-12T14:42:10.762100Z"
    },
    "papermill": {},
    "tags": []
   },
   "source": [
    "## Output"
   ]
  },
  {
   "cell_type": "markdown",
   "id": "9380a8fc-a375-4a3f-8b4e-7a778d3b384b",
   "metadata": {
    "papermill": {},
    "tags": []
   },
   "source": [
    "### Send email notification"
   ]
  },
  {
   "cell_type": "code",
   "execution_count": null,
   "id": "7fa2f952-f0a3-4835-a668-0a08657fcc93",
   "metadata": {
    "execution": {
     "iopub.execute_input": "2023-09-07T15:19:06.056277Z",
     "iopub.status.busy": "2023-09-07T15:19:06.055853Z",
     "iopub.status.idle": "2023-09-07T15:19:09.242736Z",
     "shell.execute_reply": "2023-09-07T15:19:09.242076Z",
     "shell.execute_reply.started": "2023-09-07T15:19:06.056247Z"
    },
    "papermill": {},
    "tags": []
   },
   "outputs": [],
   "source": [
    "# sends the email\n",
    "naas.notification.send(\n",
    "    email_to=EMAIL_TO, subject=EMAIL_SUBJECT, html=email_content, email_from=EMAIL_FROM\n",
    ")"
   ]
  }
 ],
 "metadata": {
  "kernelspec": {
   "display_name": "Python 3",
   "language": "python",
   "name": "python3"
  },
  "language_info": {
   "codemirror_mode": {
    "name": "ipython",
    "version": 3
   },
   "file_extension": ".py",
   "mimetype": "text/x-python",
   "name": "python",
   "nbconvert_exporter": "python",
   "pygments_lexer": "ipython3",
   "version": "3.9.6"
  },
  "naas": {
   "notebook_id": "f4b40da212ddcec161cf5ee03acc8fc0ef067e2d7a6994aac0f9baa88261a3aa",
   "notebook_path": "LinkedIn/LinkedIn_Get_likes_from_post.ipynb"
  },
  "papermill": {
   "default_parameters": {},
   "environment_variables": {},
   "parameters": {},
   "version": "2.3.3"
  },
  "widgets": {
   "application/vnd.jupyter.widget-state+json": {
    "state": {},
    "version_major": 2,
    "version_minor": 0
   }
  }
 },
 "nbformat": 4,
 "nbformat_minor": 5
}
