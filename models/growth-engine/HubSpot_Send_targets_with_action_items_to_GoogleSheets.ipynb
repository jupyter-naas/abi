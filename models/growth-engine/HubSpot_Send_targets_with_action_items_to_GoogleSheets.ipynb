{
 "cells": [
  {
   "cell_type": "markdown",
   "id": "reliable-disney",
   "metadata": {
    "papermill": {},
    "tags": []
   },
   "source": [
    "<img width=\"10%\" alt=\"Naas\" src=\"https://landen.imgix.net/jtci2pxwjczr/assets/5ice39g4.png?w=160\"/>"
   ]
  },
  {
   "cell_type": "markdown",
   "id": "optical-marsh",
   "metadata": {
    "papermill": {},
    "tags": []
   },
   "source": [
    "# HubSpot - Send targets with action items to Google Sheets\n",
    "<a href=\"https://app.naas.ai/user-redirect/naas/downloader?url=https://raw.githubusercontent.com/jupyter-naas/awesome-notebooks/master/HubSpot/HubSpot_Get_all_contacts.ipynb\" target=\"_parent\"><img src=\"https://naasai-public.s3.eu-west-3.amazonaws.com/Open_in_Naas_Lab.svg\"/></a><br><br><a href=\"https://bit.ly/3JyWIk6\">Give Feedback</a> | <a href=\"https://github.com/jupyter-naas/awesome-notebooks/issues/new?assignees=&labels=bug&template=bug_report.md&title=HubSpot+-+Get+all+contacts:+Error+short+description\">Bug report</a>"
   ]
  },
  {
   "cell_type": "markdown",
   "id": "frank-portfolio",
   "metadata": {
    "papermill": {},
    "tags": []
   },
   "source": [
    "**Tags:** #hubspot #crm #sales #contact #naas_drivers #snippet #dataframe"
   ]
  },
  {
   "cell_type": "markdown",
   "id": "11627339-3274-4045-92fb-0a24777f1012",
   "metadata": {
    "papermill": {},
    "tags": []
   },
   "source": [
    "**Author:** [Florent Ravenel](https://www.linkedin.com/in/florent-ravenel/)"
   ]
  },
  {
   "cell_type": "markdown",
   "id": "06212c2d-619b-437f-8547-3ffc453ea89c",
   "metadata": {
    "papermill": {},
    "tags": []
   },
   "source": [
    "**Last update:** 2023-08-23 (Created: 2022-02-21)"
   ]
  },
  {
   "cell_type": "markdown",
   "id": "naas-description",
   "metadata": {
    "papermill": {},
    "tags": [
     "description"
    ]
   },
   "source": [
    "**Description:** This notebook allows you to retrieve all contacts from HubSpot."
   ]
  },
  {
   "cell_type": "markdown",
   "id": "72ddbc5d-fb36-44e0-8f1a-4242331b358b",
   "metadata": {
    "papermill": {},
    "tags": []
   },
   "source": [
    "**References:**\n",
    "- [HubSpot CRM API - Contacts](https://developers.hubspot.com/docs/api/crm/contacts)"
   ]
  },
  {
   "cell_type": "markdown",
   "id": "loaded-tuner",
   "metadata": {
    "papermill": {},
    "tags": []
   },
   "source": [
    "## Input"
   ]
  },
  {
   "cell_type": "markdown",
   "id": "informational-colorado",
   "metadata": {
    "papermill": {},
    "tags": []
   },
   "source": [
    "### Import libraries"
   ]
  },
  {
   "cell_type": "code",
   "execution_count": null,
   "id": "contained-wedding",
   "metadata": {
    "papermill": {},
    "tags": []
   },
   "outputs": [],
   "source": [
    "from naas_drivers import hubspot, gsheet\n",
    "import naas\n",
    "import pandas as pd\n",
    "import requests\n",
    "import openai"
   ]
  },
  {
   "cell_type": "markdown",
   "id": "4d38eb7c-f978-4c34-94a5-1422b2f366c2",
   "metadata": {
    "papermill": {},
    "tags": []
   },
   "source": [
    "### Setup variables\n",
    "**Mandatory**\n",
    "\n",
    "[Get your HubSpot Access token](https://knowledge.hubspot.com/articles/kcs_article/integrations/how-do-i-get-my-hubspot-api-key)\n",
    "- `hs_access_token`: This variable stores an access token used for accessing the HubSpot API.\n",
    "\n",
    "**Optional**\n",
    "- `contact_properties`: List of properties (hubspot internal names) you want to get from contact. By default, you will get: email, firstname, lastname, createdate, lastmodifieddate, hs_object_id. To list of contact properties, you can use this template: \"HubSpot/HubSpot_List_contact_properties.ipynb\" stored in https://github.com/jupyter-naas/awesome-notebooks.\n",
    "- `limit`: Number of targets to retrieve"
   ]
  },
  {
   "cell_type": "code",
   "execution_count": null,
   "id": "7882e942-03fa-484a-a110-23606032797b",
   "metadata": {
    "papermill": {},
    "tags": []
   },
   "outputs": [],
   "source": [
    "# Mandatory\n",
    "hs_access_token = naas.secret.get(\"HS_ACCESS_TOKEN\") or \"YOUR_HS_ACCESS_TOKEN\"\n",
    "spreadsheet_url = naas.secret.get(\"SPREADSHEET_ID\")\n",
    "sheet_name = \"Top50\"\n",
    "openai_api_key = naas.secret.get(\"OPENAI_API_KEY\") or \"YOUR_OPENAI_API_KEY\"\n",
    "\n",
    "# Optional\n",
    "exclude_profiles = [\n",
    "    \"https://www.linkedin.com/in/ACoAABCNSioBW3YZHc2lBHVG0E_TXYWitQkmwog\",\n",
    "    \"https://www.linkedin.com/in/ACoAAA6EYJABlJdZG2ZQLuLkpCu2Ny8pqa065b8\",\n",
    "    \"https://www.linkedin.com/in/ACoAAAJHE7sB5OxuKHuzguZ9L6lfDHqw--cdnJg\"\n",
    "]\n",
    "contact_properties = [\n",
    "    \"hs_object_id\",\n",
    "    \"firstname\",\n",
    "    \"lastname\",\n",
    "    'email',\n",
    "    'linkedinbio',\n",
    "    'jobtitle',\n",
    "    \"notes_last_updated\",\n",
    "    \"naas_target\",\n",
    "    \"icp_type\",\n",
    "    \"score\",\n",
    "]\n",
    "associations = [\"notes\", \"emails\", \"meetings\", \"communications\"]\n",
    "limit = 50"
   ]
  },
  {
   "cell_type": "markdown",
   "id": "unlimited-schedule",
   "metadata": {
    "papermill": {},
    "tags": []
   },
   "source": [
    "## Model"
   ]
  },
  {
   "cell_type": "markdown",
   "id": "treated-luxembourg",
   "metadata": {
    "papermill": {},
    "tags": []
   },
   "source": [
    "### Get all contacts"
   ]
  },
  {
   "cell_type": "code",
   "execution_count": null,
   "id": "white-praise",
   "metadata": {
    "papermill": {},
    "tags": []
   },
   "outputs": [],
   "source": [
    "df_contacts = hubspot.connect(hs_access_token).contacts.get_all(contact_properties)\n",
    "print(\"Rows:\", len(df_contacts))\n",
    "df_contacts.head(1)"
   ]
  },
  {
   "cell_type": "markdown",
   "id": "02be6f49-6dd5-4173-8fcd-6da06b294ae2",
   "metadata": {
    "papermill": {},
    "tags": []
   },
   "source": [
    "### Filter contacts to get targets"
   ]
  },
  {
   "cell_type": "code",
   "execution_count": null,
   "id": "4d275084-c523-4cc8-af84-29bc2f1cd19c",
   "metadata": {
    "papermill": {},
    "tags": []
   },
   "outputs": [],
   "source": [
    "def get_targets(\n",
    "    df_init,\n",
    "    limit,\n",
    "    contact_properties,\n",
    "    exclude_profiles\n",
    "):\n",
    "    # Init\n",
    "    df = df_init.copy()\n",
    "    \n",
    "    # Cleaning\n",
    "    fillna = {\n",
    "        \"icp_type\": \"NotICP\",\n",
    "        \"score\": 0\n",
    "    }\n",
    "    df = df.fillna(fillna)\n",
    "    df[\"fullname\"] = df[\"firstname\"].fillna(\"TBD\") + \" \" + df[\"lastname\"].fillna(\"TBD\")\n",
    "    \n",
    "    # Filter contacts to only get targets\n",
    "    df = df[\n",
    "        ~(df[\"linkedinbio\"].isin(exclude_profiles)) &\n",
    "        (df[\"naas_target\"].astype(str) == \"Yes\") &\n",
    "        (df[\"icp_type\"].astype(str) == \"DataProducer\") &\n",
    "        (df[\"score\"].astype(int) > 5)\n",
    "    ].drop_duplicates(\"fullname\")\n",
    "    \n",
    "    # Order column\n",
    "    df = df[contact_properties]\n",
    "    \n",
    "    # Sort values\n",
    "    df = df.sort_values(by=\"notes_last_updated\", ascending=False)[:limit]\n",
    "    return df.reset_index(drop=True)\n",
    "\n",
    "df_targets = get_targets(df_contacts, limit, contact_properties, exclude_profiles)\n",
    "print(\"Targets:\", len(df_targets))\n",
    "df_targets.head(5)"
   ]
  },
  {
   "cell_type": "markdown",
   "id": "610e2352-1560-482b-b3e1-98a92958133e",
   "metadata": {},
   "source": [
    "### Get contact details"
   ]
  },
  {
   "cell_type": "code",
   "execution_count": null,
   "id": "516aadf6-790f-4ae8-a318-9dc7f7567710",
   "metadata": {
    "tags": []
   },
   "outputs": [],
   "source": [
    "def retrieve_object_details(\n",
    "    token,\n",
    "    object_id,\n",
    "    object_type,\n",
    "    properties=None,\n",
    "):\n",
    "    # Init\n",
    "    data = []\n",
    "    params = {\n",
    "        \"archived\": \"false\"\n",
    "    }\n",
    "    \n",
    "    # Requests\n",
    "    if properties:\n",
    "        params[\"properties\"] = properties\n",
    "    headers = {\n",
    "        \"Content-Type\": \"application/json\",\n",
    "        \"Authorization\": f\"Bearer {token}\"\n",
    "    }\n",
    "    url = f\"https://api.hubapi.com/crm/v3/objects/{object_type}/{object_id}\"\n",
    "    \n",
    "    # Response\n",
    "    res = requests.get(url, headers=headers, params=params)\n",
    "    if res.status_code == 200:\n",
    "        data = res.json().get(\"properties\")\n",
    "    else:\n",
    "        print(res.text)\n",
    "    return pd.DataFrame([data])\n",
    "\n",
    "def create_activity_df(\n",
    "    token,\n",
    "    object_id,\n",
    "    activity,\n",
    "    properties_dict=None,\n",
    "):\n",
    "    # Init\n",
    "    properties = [x for x in properties_dict]\n",
    "    \n",
    "    # List activities\n",
    "    df = retrieve_object_details(\n",
    "        token,\n",
    "        object_id,\n",
    "        activity,\n",
    "        properties\n",
    "    )\n",
    "    if len(df) > 0:\n",
    "        df = df[properties]\n",
    "        \n",
    "    if len(df) > 0:\n",
    "        df = df.rename(columns=properties_dict)\n",
    "        if 'activity_type' not in df:\n",
    "            df.insert(loc=1, column=\"activity_type\", value=activity.upper())\n",
    "    \n",
    "    return df.reset_index(drop=True)\n",
    "\n",
    "def get_contact_details(\n",
    "    hs_access_token,\n",
    "    contact_id,\n",
    "    properties,\n",
    "    associations\n",
    "):\n",
    "    # Init\n",
    "    message = \"CONTACT:\\n\"\n",
    "    df = pd.DataFrame()\n",
    "    \n",
    "    # Get contact\n",
    "    contact = hubspot.connect(hs_access_token).contacts.get(\n",
    "        contact_id,\n",
    "        hs_properties=properties,\n",
    "        hs_associations=associations\n",
    "    )\n",
    "    \n",
    "    # Get contact properties\n",
    "    contact_properties = contact.get(\"properties\")\n",
    "    for p in properties:\n",
    "        message = f\"{message}- {p}: {contact_properties.get(p)}\\n\"\n",
    "    \n",
    "    # Get contact associations\n",
    "    contact_associations = contact.get(\"associations\")\n",
    "    for a in contact_associations:\n",
    "        results = contact_associations.get(a).get(\"results\")\n",
    "        for r in results:\n",
    "            if a == \"communications\":\n",
    "                properties_dict = {\n",
    "                    \"hs_object_id\": \"activity_hs_id\",\n",
    "                    \"hs_lastmodifieddate\": \"activity_date\",\n",
    "                    \"hs_communication_channel_type\": \"activity_type\",\n",
    "                    \"hs_body_preview\": \"activity_content\"\n",
    "                }\n",
    "            elif a == \"meetings\":\n",
    "                properties_dict = {\n",
    "                    \"hs_object_id\": \"activity_hs_id\",\n",
    "                    \"hs_lastmodifieddate\": \"activity_date\",\n",
    "                    \"hs_meeting_title\": \"activity_content\"\n",
    "                }\n",
    "            else:\n",
    "                properties_dict = {\n",
    "                    \"hs_object_id\": \"activity_hs_id\",\n",
    "                    \"hs_lastmodifieddate\": \"activity_date\",\n",
    "                    \"hs_body_preview\": \"activity_content\"\n",
    "                }\n",
    "            association_id = r.get(\"id\")\n",
    "            \n",
    "            # Create activity df\n",
    "            tmp_df = create_activity_df(\n",
    "                hs_access_token,\n",
    "                association_id,\n",
    "                a,\n",
    "                properties_dict\n",
    "            )\n",
    "            df = pd.concat([df, tmp_df])\n",
    "    \n",
    "    # Cleaning df\n",
    "    if len(df) > 0:\n",
    "        # Exclude empty or None value\n",
    "        df = df[~(df[\"activity_content\"].astype(str).isin([\"None\"]))]\n",
    "\n",
    "        # Format date\n",
    "        df[\"activity_date\"] = pd.to_datetime(df[\"activity_date\"]).dt.strftime(\"%Y-%m-%d %H:%M:%S\")\n",
    "        df = df.sort_values(by=\"activity_date\").reset_index(drop=True)\n",
    "            \n",
    "    # Create activity message\n",
    "    message = f\"{message}\\nACTIVITIES:\\n\"\n",
    "    for row in df.itertuples():\n",
    "        activity_date = row.activity_date\n",
    "        activity_type = row.activity_type\n",
    "        activity_content = row.activity_content.replace(\"\\xa0\\u200c\", \"\")\n",
    "        message = f\"{message}-{activity_date}: {activity_type} - {activity_content}\\n\"\n",
    "    return message, df.reset_index(drop=True)\n",
    "\n",
    "def action_item_extraction(openai_api_key, transcription):\n",
    "    # Connect to openai\n",
    "    openai.api_key = openai_api_key\n",
    "    \n",
    "    response = openai.ChatCompletion.create(\n",
    "        model=\"gpt-4\",\n",
    "        temperature=0,\n",
    "        messages=[\n",
    "            {\n",
    "                \"role\": \"system\",\n",
    "                \"content\": \"You are an AI expert in analyzing conversations and extracting action items. Please review the text and identify any tasks, assignments, or actions that were agreed upon or mentioned as needing to be done. These could be tasks assigned to specific individuals, or general actions that the group has decided to take. Please list these action items clearly and concisely.\"\n",
    "            },\n",
    "            {\n",
    "                \"role\": \"user\",\n",
    "                \"content\": transcription\n",
    "            }\n",
    "        ]\n",
    "    )\n",
    "    return response['choices'][0]['message']['content']\n",
    "\n",
    "for row in df_targets.itertuples():\n",
    "    index = row.Index\n",
    "    firstname = row.firstname\n",
    "    lastname = row.lastname\n",
    "    contact_id = row.hs_object_id\n",
    "    print(index+1, f\"Starting with: {firstname} {lastname} ({contact_id})\")\n",
    "    prompt_message, df_activity = get_contact_details(\n",
    "        hs_access_token,\n",
    "        contact_id,\n",
    "        contact_properties,\n",
    "        associations\n",
    "    )\n",
    "#     print(prompt_message)\n",
    "    activity_types = df_activity[\"activity_type\"].unique().tolist()\n",
    "    # Rules if only notes\n",
    "    if len(activity_types) == 1 and \"NOTES\" in activity_types:\n",
    "        action_items = 'No action items can be identified from the provided text. The text mainly consists of LinkedIn interactions such as likes and comments, but does not specify any tasks, assignments, or actions that need to be done.'\n",
    "    else:\n",
    "        action_items = action_item_extraction(openai_api_key, prompt_message)\n",
    "    print(action_items)\n",
    "    df_targets.loc[index, \"ACTION_ITEMS\"] = action_items"
   ]
  },
  {
   "cell_type": "markdown",
   "id": "typical-nomination",
   "metadata": {
    "papermill": {},
    "tags": []
   },
   "source": [
    "## Output"
   ]
  },
  {
   "cell_type": "markdown",
   "id": "5a2e8ba7-16ee-4ad3-85e5-63f7490fe95d",
   "metadata": {
    "papermill": {},
    "tags": []
   },
   "source": [
    "### Send data to Google Sheets spreadsheet"
   ]
  },
  {
   "cell_type": "code",
   "execution_count": null,
   "id": "11d7743a-0ac2-4d08-a726-1425d46f29a5",
   "metadata": {
    "papermill": {},
    "tags": []
   },
   "outputs": [],
   "source": [
    "gsheet.connect(spreadsheet_url).send(\n",
    "    sheet_name=sheet_name,\n",
    "    data=df_targets,\n",
    "    append=False\n",
    ")"
   ]
  },
  {
   "cell_type": "markdown",
   "id": "6b757c24-dcbc-4dbd-bba1-8c845b4fa7a2",
   "metadata": {},
   "source": [
    "### Add scheduler"
   ]
  },
  {
   "cell_type": "code",
   "execution_count": null,
   "id": "be432a70-c478-4fda-a729-02772a4dacce",
   "metadata": {
    "tags": []
   },
   "outputs": [],
   "source": [
    "naas.scheduler.add(cron=cron)\n",
    "\n",
    "# naas.scheduler.delete()"
   ]
  }
 ],
 "metadata": {
  "kernelspec": {
   "display_name": "Python 3",
   "language": "python",
   "name": "python3"
  },
  "language_info": {
   "codemirror_mode": {
    "name": "ipython",
    "version": 3
   },
   "file_extension": ".py",
   "mimetype": "text/x-python",
   "name": "python",
   "nbconvert_exporter": "python",
   "pygments_lexer": "ipython3",
   "version": "3.9.6"
  },
  "naas": {
   "notebook_id": "2cc7be1f4752e97f41db9463ad356b8ae5c6497c16c15317610dc16372f975a1",
   "notebook_path": "HubSpot/HubSpot_Get_all_contacts.ipynb"
  },
  "papermill": {
   "default_parameters": {},
   "environment_variables": {},
   "parameters": {},
   "version": "2.3.3"
  }
 },
 "nbformat": 4,
 "nbformat_minor": 5
}
