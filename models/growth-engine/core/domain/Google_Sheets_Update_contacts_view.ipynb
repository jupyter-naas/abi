{
 "cells": [
  {
   "cell_type": "markdown",
   "id": "international-creativity",
   "metadata": {
    "papermill": {},
    "tags": []
   },
   "source": [
    "<img width=\"8%\" alt=\"Google Sheets.png\" src=\"https://raw.githubusercontent.com/jupyter-naas/awesome-notebooks/master/.github/assets/logos/Google%20Sheets.png\" style=\"border-radius: 15%\">"
   ]
  },
  {
   "cell_type": "markdown",
   "id": "unlimited-bookmark",
   "metadata": {
    "papermill": {},
    "tags": []
   },
   "source": [
    "# Google Sheets - Update contacts view"
   ]
  },
  {
   "cell_type": "markdown",
   "id": "tags_cell",
   "metadata": {
    "papermill": {},
    "tags": []
   },
   "source": [
    "**Tags:** #googlesheets #gsheet #data #naas_drivers #growth #people #organizations #contacts"
   ]
  },
  {
   "cell_type": "markdown",
   "id": "fbbbbc71-6333-4a70-b371-c9b82f8b5299",
   "metadata": {
    "papermill": {},
    "tags": []
   },
   "source": [
    "**Author:** [Florent Ravenel](https://www.linkedin.com/in/florent-ravenel/)"
   ]
  },
  {
   "cell_type": "markdown",
   "id": "naas-description",
   "metadata": {
    "papermill": {},
    "tags": [
     "description"
    ]
   },
   "source": [
    "**Description:** This notebook updates your contacts view in Google Sheets."
   ]
  },
  {
   "cell_type": "markdown",
   "id": "input_cell",
   "metadata": {
    "papermill": {},
    "tags": []
   },
   "source": [
    "## Input"
   ]
  },
  {
   "cell_type": "markdown",
   "id": "55d9e878-2148-47e3-a13d-09ba77202893",
   "metadata": {
    "papermill": {},
    "tags": []
   },
   "source": [
    "### Import libraries"
   ]
  },
  {
   "cell_type": "code",
   "execution_count": null,
   "id": "5fad521a-4a18-4dc7-b13d-98a37172715b",
   "metadata": {
    "papermill": {},
    "tags": []
   },
   "outputs": [],
   "source": [
    "from naas_drivers import gsheet, linkedin\n",
    "import pandas as pd\n",
    "import os\n",
    "from datetime import date, datetime\n",
    "import naas_data_product"
   ]
  },
  {
   "cell_type": "markdown",
   "id": "ec39e794-a8cd-41b8-9489-9ddb962a601c",
   "metadata": {
    "papermill": {},
    "tags": []
   },
   "source": [
    "### Setup variables\n",
    "**Inputs**\n",
    "- `entity_dir`: This variable represents the entity directory.\n",
    "- `input_dir`: Input directory to retrieve file from.\n",
    "- `file_people`: Name of the file storing people data to be retrieved.\n",
    "- `file_organizations`: Name of the file storing organization data to be retrieved.\n",
    "- `spreadsheet_url`: Google Sheets spreadsheet URL.\n",
    "- `sheet_contacts`: Google Sheets sheet name storing leads profiles.\n",
    "\n",
    "**Outputs**\n",
    "- `output_dir`: Output directory to save file to.\n",
    "- `file_contacts`: Output file name to save as picke."
   ]
  },
  {
   "cell_type": "code",
   "execution_count": null,
   "id": "7c34bff6-9136-4aaf-a692-b38129b7de83",
   "metadata": {
    "papermill": {},
    "tags": [
     "parameters"
    ]
   },
   "outputs": [],
   "source": [
    "# Inputs\n",
    "entity_dir = pload(os.path.join(naas_data_product.OUTPUTS_PATH, \"entities\", \"0\"), \"entity_dir\")\n",
    "input_dir = os.path.join(entity_dir, \"growth-engine\", date.today().isoformat())\n",
    "file_people = \"people\"\n",
    "file_organizations = \"organizations\"\n",
    "spreadsheet_url = pload(os.path.join(naas_data_product.OUTPUTS_PATH, \"entities\", \"0\"), \"abi_spreadsheet\")\n",
    "sheet_contacts = \"CONTACTS\"\n",
    "api_key = os.environ.get(\"NAAS_API_TOKEN\") or naas.secret.get('NAAS_API_TOKEN')\n",
    "entity_name = pload(os.path.join(naas_data_product.OUTPUTS_PATH, \"entities\", \"0\"), \"entity_name\")\n",
    "linkedin_url = pload(os.path.join(naas_data_product.OUTPUTS_PATH, \"entities\", \"0\"), \"linkedin_url\")\n",
    "datalake_dir = naas_data_product.OUTPUTS_PATH\n",
    "\n",
    "# Outputs\n",
    "output_dir = os.path.join(entity_dir, \"growth-engine\", date.today().isoformat())\n",
    "file_contacts = \"contacts\""
   ]
  },
  {
   "cell_type": "markdown",
   "id": "model_cell",
   "metadata": {
    "papermill": {},
    "tags": []
   },
   "source": [
    "## Model"
   ]
  },
  {
   "cell_type": "markdown",
   "id": "4a5d888e-9fa7-4fe9-983b-c028cd0bb2a9",
   "metadata": {},
   "source": [
    "### Get contacts"
   ]
  },
  {
   "cell_type": "code",
   "execution_count": null,
   "id": "fee6eba9-a02b-425e-b830-cda6d715f642",
   "metadata": {
    "tags": []
   },
   "outputs": [],
   "source": [
    "df_init = gsheet.connect(spreadsheet_url).get(sheet_name=sheet_contacts)\n",
    "if not isinstance(df_init, pd.DataFrame):\n",
    "    df_init = pd.DataFrame()\n",
    "    messaging_options = {}\n",
    "else:\n",
    "    messaging_options = get_dict_from_df(df_init, \"MESSAGING_OPTIONS\", \"PEOPLE_PROFILE_URL\", \"messaging_options\", output_dir)\n",
    "print(\"- Contacts (init):\", len(df_init))\n",
    "df_init.head(3)"
   ]
  },
  {
   "cell_type": "markdown",
   "id": "83626bed-3b7a-448f-b932-a127b642067a",
   "metadata": {},
   "source": [
    "### Get people"
   ]
  },
  {
   "cell_type": "code",
   "execution_count": null,
   "id": "d95a7894-8e2a-445c-bcae-96315f4844c3",
   "metadata": {
    "tags": []
   },
   "outputs": [],
   "source": [
    "df_people = pload(input_dir, file_people)    \n",
    "print('- People:', len(df_people))\n",
    "df_people.head(1)"
   ]
  },
  {
   "cell_type": "markdown",
   "id": "679d4f3a-994e-4cd0-bda6-6e9e65db7bd4",
   "metadata": {},
   "source": [
    "### Get organizations"
   ]
  },
  {
   "cell_type": "code",
   "execution_count": null,
   "id": "cf681dc9-47c8-4f78-b88e-e5517c412d32",
   "metadata": {
    "tags": []
   },
   "outputs": [],
   "source": [
    "df_organizations = pload(input_dir, file_organizations)    \n",
    "print('- Organizations:', len(df_organizations))\n",
    "df_organizations.head(1)"
   ]
  },
  {
   "cell_type": "markdown",
   "id": "d72cbb44-8a10-45fb-b04f-79af6ae08f73",
   "metadata": {},
   "source": [
    "### Get entity organization"
   ]
  },
  {
   "cell_type": "code",
   "execution_count": null,
   "id": "9df0fe4e-1437-4f14-8a6c-55698424c168",
   "metadata": {
    "tags": []
   },
   "outputs": [],
   "source": [
    "def get_entity_org(\n",
    "    linkedin_url,\n",
    "    datalake_dir\n",
    "):\n",
    "    # Init\n",
    "    organization = None\n",
    "    \n",
    "    # Get data\n",
    "    if \"/in/\" in linkedin_url:\n",
    "        linkedin_dir = os.path.join(datalake_dir, \"datalake\", \"linkedin\", \"profiles\")\n",
    "        df = get_linkedin_data(linkedin_url, linkedin_dir, \"top_card\")\n",
    "    else:\n",
    "        linkedin_dir = os.path.join(datalake_dir, \"datalake\", \"linkedin\", \"organizations\")  \n",
    "        df = get_linkedin_data(linkedin_url, linkedin_dir, \"company_info\")\n",
    "    if len(df) > 0:\n",
    "        organization = df.loc[0, \"COMPANY_NAME\"]\n",
    "    return organization\n",
    "\n",
    "organization = get_entity_org(linkedin_url, datalake_dir)\n",
    "print(\"- Entity URL:\", linkedin_url)\n",
    "print(\"- Organization:\", organization)"
   ]
  },
  {
   "cell_type": "markdown",
   "id": "515a0ab5-eff1-43c8-9ff3-83f21cc5a97a",
   "metadata": {},
   "source": [
    "### Get prompt sales messagings"
   ]
  },
  {
   "cell_type": "code",
   "execution_count": null,
   "id": "bdce9305-9d23-47ca-8413-a8a61b17178f",
   "metadata": {
    "tags": []
   },
   "outputs": [],
   "source": [
    "df_gsheet = gsheet.connect(spreadsheet_url).get(sheet_name=\"ENTITY\").fillna(\"NA\")\n",
    "df_gsheet = df_gsheet[df_gsheet[\"LINKEDIN_URL\"] == linkedin_url].reset_index(drop=True)\n",
    "prompt_sales_messagings = df_gsheet.loc[0, \"PROMPT_SALES_MESSAGINGS\"]\n",
    "print(\"- Prompt sales messagings:\", prompt_sales_messagings)"
   ]
  },
  {
   "cell_type": "markdown",
   "id": "5388d9f7-bc69-4445-8b09-86c55ed951be",
   "metadata": {},
   "source": [
    "### Create contact view"
   ]
  },
  {
   "cell_type": "code",
   "execution_count": null,
   "id": "fe3fb9da-c0a5-4011-ace8-64f447f9014e",
   "metadata": {
    "tags": []
   },
   "outputs": [],
   "source": [
    "def create_contacts_view(\n",
    "    df_people,\n",
    "    df_organizations,\n",
    "    api_key,\n",
    "    prompt_sales_messagings,\n",
    "    messaging_options,\n",
    "    entity_name,\n",
    "    limit_llm=50\n",
    "):\n",
    "    # People\n",
    "    df1 = df_people.copy()\n",
    "    df1.loc[:, \"LEAD_STATUS\"] = \"Lead\"\n",
    "    df1.loc[df1[\"MQL_DATE\"] != \"NA\", \"LEAD_STATUS\"] = \"Marketing Qualified Lead\"\n",
    "    df1.loc[df1[\"SQL_DATE\"] != \"NA\", \"LEAD_STATUS\"] = \"Sales Qualified Lead\"\n",
    "    to_keep = [\n",
    "        \"ENTITY\",\n",
    "        \"SCENARIO\",\n",
    "        'FULLNAME',\n",
    "        'OCCUPATION',\n",
    "        'SENIORITY',\n",
    "        'DEPARTMENT',\n",
    "        'INTERACTION_SCORE',\n",
    "        \"LEAD_STATUS\",\n",
    "        'CREATED_DATE',\n",
    "        'MQL_DATE',\n",
    "        'SQL_DATE',\n",
    "        'LAST_INTERACTION_DATE',\n",
    "        'NOTES',\n",
    "        'PROFILE_URL',\n",
    "        'CRM_CONTACT_ID',\n",
    "        'ORGANIZATION',\n",
    "    ]\n",
    "    df1 = df1[to_keep]\n",
    "    for c in to_keep:\n",
    "        if \"DATE\" not in c and c not in [\"ENTITY\", \"SCENARIO\", \"LEAD_STATUS\", \"ORGANIZATION\", \"CRM_CONTACT_ID\"]:\n",
    "            df1 = df1.rename(columns={c: f\"PEOPLE_{c}\"})\n",
    "    \n",
    "    # Organizations\n",
    "    df2 = df_organizations.copy()\n",
    "    to_keep = [\n",
    "        'ORGANIZATION',\n",
    "        'INDUSTRY',\n",
    "        'CITY',\n",
    "        'COUNTRY',\n",
    "        'STAFF_RANGE_NAME',\n",
    "        'STAFF_COUNT',\n",
    "        'FOLLOWERS_COUNT',\n",
    "        'INTERACTION_SCORE',\n",
    "        'WEBSITE',\n",
    "        'TAGLINE',\n",
    "        'DESCRIPTION',\n",
    "        'ORG_NAME',\n",
    "        'ORG_LINKEDIN_ID',\n",
    "        'ORG_LINKEDIN_URL',\n",
    "        'CRM_ORG_ID'\n",
    "    ]\n",
    "    df2 = df2[to_keep]\n",
    "    for c in to_keep:\n",
    "        if not c.startswith(\"ORG\") and c not in [\"CRM_ORG_ID\"]:\n",
    "            df2 = df2.rename(columns={c: f\"ORG_{c}\"})\n",
    "    \n",
    "    # Merge dfs\n",
    "    df = pd.merge(df1, df2, how=\"left\").fillna('NA')\n",
    "    \n",
    "    # Exclude entity org\n",
    "    df = df[df[\"ORGANIZATION\"] != organization].reset_index(drop=True)\n",
    "    \n",
    "    # Add messagings options to df\n",
    "    df[\"MESSAGING_OPTIONS\"] = df[\"PEOPLE_PROFILE_URL\"].map(messaging_options).fillna('TBD')\n",
    "    \n",
    "    # Generate messaging options for SQL\n",
    "    col_messaging = [\n",
    "        \"PEOPLE_PROFILE_URL\",\n",
    "        \"LAST_INTERACTION_DATE\",\n",
    "        \"PEOPLE_FULLNAME\",\n",
    "        \"PEOPLE_OCCUPATION\",\n",
    "        \"PEOPLE_SENIORITY\",\n",
    "        \"PEOPLE_DEPARTMENT\",\n",
    "        \"PEOPLE_NOTES\",\n",
    "        \"ORG_INDUSTRY\",\n",
    "        \"ORG_COUNTRY\",\n",
    "    ]\n",
    "    data = df[col_messaging]\n",
    "    prompt_messaging = prompt_sales_messagings + \"\"\"\n",
    "    The options should be presented as follow: 1.xxxx, 2.xxxx, 3.xxxx,\n",
    "    The data you will received will be structured as follow:\n",
    "    - LAST_INTERACTION_DATE: last interaction date with content published by [ENTITY]\n",
    "    - PEOPLE_FULLNAME: Name of the person\n",
    "    - PEOPLE_OCCUPATION: Job position\n",
    "    - PEOPLE_SENIORITY: Job seniority\n",
    "    - PEOPLE_DEPARTMENT: Job department\n",
    "    - PEOPLE_NOTES: Interactions made by the person on the content published\n",
    "    - ORGANIZATION: Name of the organization the person is working with\n",
    "    - ORG_INDUSTRY: Company industry\n",
    "    \"\"\"\n",
    "    prompt_messaging = prompt_messaging.replace(\"[ENTITY]\", entity_name)\n",
    "    \n",
    "    filter_df = df[\n",
    "        (df[\"MESSAGING_OPTIONS\"] == \"TBD\") &\n",
    "        (df[\"LEAD_STATUS\"] == \"Sales Qualified Lead\") & \n",
    "        (~df[\"PEOPLE_PROFILE_URL\"].isin(list(messaging_options.keys()))) &\n",
    "        (df[\"ENTITY\"].str.contains(entity_name))\n",
    "    ]\n",
    "    filter_df = filter_df.sort_values(by=\"LAST_INTERACTION_DATE\", ascending=False)\n",
    "    print(\"-> New Sales Qualified Leads:\", len(filter_df))\n",
    "    \n",
    "    count = 1\n",
    "    for row in filter_df.itertuples():\n",
    "        index = row.Index\n",
    "        fullname = row.PEOPLE_FULLNAME\n",
    "        profile_url = row.PEOPLE_PROFILE_URL\n",
    "        lead_status = row.LEAD_STATUS\n",
    "        messaging = \"TBD\"\n",
    "        if count <= limit_llm:\n",
    "            print(f\"{count} - Messaging for:\", fullname)\n",
    "            tmp_df = data[data[\"PEOPLE_PROFILE_URL\"] == profile_url].reset_index(drop=True)\n",
    "            try:\n",
    "                messaging = create_chat_completion(api_key, prompt_messaging, str(tmp_df.to_dict()))\n",
    "            except Exception as e:\n",
    "                print(e)\n",
    "            print(\"Messaging options:\", messaging)\n",
    "            print()\n",
    "            messaging_options[profile_url] = messaging\n",
    "            pdump(output_dir, messaging_options, \"messaging_options\")\n",
    "            df.loc[index, \"MESSAGING_OPTIONS\"] = messaging\n",
    "            count += 1\n",
    "    return df.reset_index(drop=True)\n",
    "\n",
    "df_contacts = create_contacts_view(\n",
    "    df_people,\n",
    "    df_organizations,\n",
    "    api_key,\n",
    "    prompt_sales_messagings,\n",
    "    messaging_options,\n",
    "    entity_name\n",
    ")\n",
    "df_contacts"
   ]
  },
  {
   "cell_type": "markdown",
   "id": "output_cell",
   "metadata": {
    "papermill": {},
    "tags": []
   },
   "source": [
    "## Output"
   ]
  },
  {
   "cell_type": "markdown",
   "id": "f40228ff-179f-49f6-8150-a76f4c911b2b",
   "metadata": {},
   "source": [
    "### Save data"
   ]
  },
  {
   "cell_type": "code",
   "execution_count": null,
   "id": "0b6b1a83-68ef-4174-826b-5e1a31b6efcb",
   "metadata": {
    "tags": []
   },
   "outputs": [],
   "source": [
    "pdump(output_dir, df_contacts, file_contacts)"
   ]
  },
  {
   "cell_type": "markdown",
   "id": "2c62d245-41ef-4b96-afb4-38eee1ad0583",
   "metadata": {},
   "source": [
    "### Send \"Contacts\" to spreadsheet"
   ]
  },
  {
   "cell_type": "code",
   "execution_count": null,
   "id": "32e91b35-c1f8-4fe6-ae78-a2d4b79c8be7",
   "metadata": {
    "papermill": {},
    "tags": []
   },
   "outputs": [],
   "source": [
    "df_check = pd.concat([df_init.astype(str), df_contacts.astype(str)]).drop_duplicates(keep=False)\n",
    "if len(df_check) > 0:\n",
    "    gsheet.connect(spreadsheet_url).send(data=df_contacts, sheet_name=sheet_contacts, append=False)\n",
    "else:\n",
    "    print(\"Noting to update in Google Sheets!\")"
   ]
  },
  {
   "cell_type": "code",
   "execution_count": null,
   "id": "ea691820-773d-4148-943b-34aad838a759",
   "metadata": {},
   "outputs": [],
   "source": []
  }
 ],
 "metadata": {
  "kernelspec": {
   "display_name": "Python 3",
   "language": "python",
   "name": "python3"
  },
  "language_info": {
   "codemirror_mode": {
    "name": "ipython",
    "version": 3
   },
   "file_extension": ".py",
   "mimetype": "text/x-python",
   "name": "python",
   "nbconvert_exporter": "python",
   "pygments_lexer": "ipython3",
   "version": "3.9.6"
  },
  "naas": {
   "notebook_id": "cf32ecf61a1d6fdcae3273e7e70026564087776ace44ace0a939c08a2085586f",
   "notebook_path": "Google Sheets/Google_Sheets_Send_data.ipynb"
  },
  "papermill": {
   "default_parameters": {},
   "environment_variables": {},
   "parameters": {},
   "version": "2.3.3"
  }
 },
 "nbformat": 4,
 "nbformat_minor": 5
}
