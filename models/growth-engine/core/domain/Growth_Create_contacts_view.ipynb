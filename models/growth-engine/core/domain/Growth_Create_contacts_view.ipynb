{
 "cells": [
  {
   "cell_type": "markdown",
   "id": "24ab1152-dad2-4b86-bed6-16572216ff31",
   "metadata": {
    "papermill": {},
    "tags": []
   },
   "source": [
    "<img width=\"8%\" alt=\"Growth\" src=\"https://naasai-public.s3.eu-west-3.amazonaws.com/abi-demo/growth_marketing.png\" style=\"border-radius: 15%\">"
   ]
  },
  {
   "cell_type": "markdown",
   "id": "unlimited-bookmark",
   "metadata": {
    "papermill": {},
    "tags": []
   },
   "source": [
    "# Growth - Create CONTACTS view"
   ]
  },
  {
   "cell_type": "markdown",
   "id": "tags_cell",
   "metadata": {
    "papermill": {},
    "tags": []
   },
   "source": [
    "**Tags:** #growth  #googlesheets #gsheet #data #naas_drivers #people #organizations #contacts"
   ]
  },
  {
   "cell_type": "markdown",
   "id": "fbbbbc71-6333-4a70-b371-c9b82f8b5299",
   "metadata": {
    "papermill": {},
    "tags": []
   },
   "source": [
    "**Author:** [Florent Ravenel](https://www.linkedin.com/in/florent-ravenel/)"
   ]
  },
  {
   "cell_type": "markdown",
   "id": "naas-description",
   "metadata": {
    "papermill": {},
    "tags": [
     "description"
    ]
   },
   "source": [
    "**Description:** This notebook updates your contacts view in Google Sheets."
   ]
  },
  {
   "cell_type": "markdown",
   "id": "input_cell",
   "metadata": {
    "papermill": {},
    "tags": []
   },
   "source": [
    "## Input"
   ]
  },
  {
   "cell_type": "markdown",
   "id": "55d9e878-2148-47e3-a13d-09ba77202893",
   "metadata": {
    "papermill": {},
    "tags": []
   },
   "source": [
    "### Import libraries"
   ]
  },
  {
   "cell_type": "code",
   "execution_count": null,
   "id": "5fad521a-4a18-4dc7-b13d-98a37172715b",
   "metadata": {
    "papermill": {},
    "tags": []
   },
   "outputs": [],
   "source": [
    "from naas_drivers import gsheet, linkedin\n",
    "import pandas as pd\n",
    "import os\n",
    "from datetime import date, datetime\n",
    "import naas_data_product"
   ]
  },
  {
   "cell_type": "markdown",
   "id": "ec39e794-a8cd-41b8-9489-9ddb962a601c",
   "metadata": {
    "papermill": {},
    "tags": []
   },
   "source": [
    "### Setup variables\n",
    "**Inputs**\n",
    "- `entity_index`: Entity index.\n",
    "- `entity_dir`: Entity directory.\n",
    "- `input_dir`: Input directory to retrieve file from.\n",
    "- `file_people`: Name of the file storing people data to be retrieved.\n",
    "- `file_organizations`: Name of the file storing organization data to be retrieved.\n",
    "- `spreadsheet_url`: Google Sheets spreadsheet URL.\n",
    "- `sheet_contacts`: Google Sheets sheet name storing leads profiles.\n",
    "\n",
    "**Outputs**\n",
    "- `output_dir`: Output directory to save file to.\n",
    "- `file_contacts`: Output file name to save as picke."
   ]
  },
  {
   "cell_type": "code",
   "execution_count": null,
   "id": "7c34bff6-9136-4aaf-a692-b38129b7de83",
   "metadata": {
    "papermill": {},
    "tags": [
     "parameters"
    ]
   },
   "outputs": [],
   "source": [
    "# Inputs\n",
    "entity_index = \"0\"\n",
    "entity_dir = pload(os.path.join(naas_data_product.OUTPUTS_PATH, \"entities\", entity_index), \"entity_dir\")\n",
    "input_dir = os.path.join(entity_dir, \"growth-engine\", date.today().isoformat())\n",
    "file_people = \"people\"\n",
    "file_organizations = \"organizations\"\n",
    "file_interactions = \"interactions\"\n",
    "spreadsheet_url = pload(os.path.join(naas_data_product.OUTPUTS_PATH, \"entities\", entity_index), \"abi_spreadsheet\")\n",
    "sheet_contacts = \"CONTACTS\"\n",
    "api_key = os.environ.get(\"NAAS_API_TOKEN\") or naas.secret.get('NAAS_API_TOKEN')\n",
    "linkedin_url = pload(os.path.join(naas_data_product.OUTPUTS_PATH, \"entities\", entity_index), \"linkedin_url\")\n",
    "\n",
    "# Outputs\n",
    "output_dir = os.path.join(entity_dir, \"growth-engine\", date.today().isoformat())\n",
    "file_contacts = \"contacts\"\n",
    "datalake_dir = naas_data_product.OUTPUTS_PATHdatalake_dir = naas.secret.get(\"ABI_DATALAKE_DIR\")\n",
    "entity_name = pload(os.path.join(naas_data_product.OUTPUTS_PATH, \"entities\", entity_index), \"entity_name\") or \"\""
   ]
  },
  {
   "cell_type": "markdown",
   "id": "model_cell",
   "metadata": {
    "papermill": {},
    "tags": []
   },
   "source": [
    "## Model"
   ]
  },
  {
   "cell_type": "markdown",
   "id": "4a5d888e-9fa7-4fe9-983b-c028cd0bb2a9",
   "metadata": {},
   "source": [
    "### Get contacts"
   ]
  },
  {
   "cell_type": "code",
   "execution_count": null,
   "id": "fee6eba9-a02b-425e-b830-cda6d715f642",
   "metadata": {
    "tags": []
   },
   "outputs": [],
   "source": [
    "df_init = gsheet.connect(spreadsheet_url).get(sheet_name=sheet_contacts)\n",
    "if not isinstance(df_init, pd.DataFrame):\n",
    "    df_init = pd.DataFrame()\n",
    "    messaging_options = {}\n",
    "else:\n",
    "    messaging_options = get_dict_from_df(df_init, \"MESSAGING_OPTIONS\", \"PEOPLE_PROFILE_URL\", \"messaging_options\", output_dir)\n",
    "print(\"- Contacts (init):\", len(df_init))\n",
    "df_init.head(3)"
   ]
  },
  {
   "cell_type": "markdown",
   "id": "83626bed-3b7a-448f-b932-a127b642067a",
   "metadata": {},
   "source": [
    "### Get people"
   ]
  },
  {
   "cell_type": "code",
   "execution_count": null,
   "id": "d95a7894-8e2a-445c-bcae-96315f4844c3",
   "metadata": {
    "tags": []
   },
   "outputs": [],
   "source": [
    "df_people = pload(input_dir, file_people)    \n",
    "print('- People:', len(df_people))\n",
    "df_people.head(1)"
   ]
  },
  {
   "cell_type": "markdown",
   "id": "679d4f3a-994e-4cd0-bda6-6e9e65db7bd4",
   "metadata": {},
   "source": [
    "### Get organizations"
   ]
  },
  {
   "cell_type": "code",
   "execution_count": null,
   "id": "cf681dc9-47c8-4f78-b88e-e5517c412d32",
   "metadata": {
    "tags": []
   },
   "outputs": [],
   "source": [
    "df_organizations = pload(input_dir, file_organizations)    \n",
    "print('- Organizations:', len(df_organizations))\n",
    "df_organizations.head(1)"
   ]
  },
  {
   "cell_type": "markdown",
   "id": "d72cbb44-8a10-45fb-b04f-79af6ae08f73",
   "metadata": {},
   "source": [
    "### Get entity organization"
   ]
  },
  {
   "cell_type": "code",
   "execution_count": null,
   "id": "9df0fe4e-1437-4f14-8a6c-55698424c168",
   "metadata": {
    "tags": []
   },
   "outputs": [],
   "source": [
    "def get_entity_org(\n",
    "    linkedin_url,\n",
    "    datalake_dir\n",
    "):\n",
    "    # Init\n",
    "    organization = None\n",
    "    \n",
    "    # Get data\n",
    "    if \"/in/\" in linkedin_url:\n",
    "        linkedin_dir = os.path.join(datalake_dir, \"datalake\", \"linkedin\", \"profiles\")\n",
    "        df = get_linkedin_data(linkedin_url, linkedin_dir, \"top_card\")\n",
    "    else:\n",
    "        linkedin_dir = os.path.join(datalake_dir, \"datalake\", \"linkedin\", \"organizations\")  \n",
    "        df = get_linkedin_data(linkedin_url, linkedin_dir, \"company_info\")\n",
    "    if len(df) > 0:\n",
    "        organization = df.loc[0, \"COMPANY_NAME\"]\n",
    "    return organization\n",
    "\n",
    "organization = get_entity_org(linkedin_url, datalake_dir)\n",
    "print(\"- Entity URL:\", linkedin_url)\n",
    "print(\"- Organization:\", organization)"
   ]
  },
  {
   "cell_type": "markdown",
   "id": "515a0ab5-eff1-43c8-9ff3-83f21cc5a97a",
   "metadata": {},
   "source": [
    "### Get prompt sales messagings"
   ]
  },
  {
   "cell_type": "code",
   "execution_count": null,
   "id": "bdce9305-9d23-47ca-8413-a8a61b17178f",
   "metadata": {
    "tags": []
   },
   "outputs": [],
   "source": [
    "df_gsheet = gsheet.connect(spreadsheet_url).get(sheet_name=\"ENTITY\").fillna(\"NA\")\n",
    "df_gsheet = df_gsheet[df_gsheet[\"LINKEDIN_URL\"] == linkedin_url].reset_index(drop=True)\n",
    "prompt_sales_messagings = df_gsheet.loc[0, \"PROMPT_SALES_MESSAGINGS\"]\n",
    "print(\"- Prompt sales messagings:\", prompt_sales_messagings)"
   ]
  },
  {
   "cell_type": "markdown",
   "id": "03a96817-b952-44cd-9de8-af1729deaf33",
   "metadata": {},
   "source": [
    "### Get interactions"
   ]
  },
  {
   "cell_type": "code",
   "execution_count": null,
   "id": "3f539c7f-9fff-4a2b-af7b-0c72bb5b5a37",
   "metadata": {
    "tags": []
   },
   "outputs": [],
   "source": [
    "df_interactions = pload(input_dir, file_interactions)    \n",
    "print('- Interactions:', len(df_interactions))\n",
    "df_interactions.head(3)"
   ]
  },
  {
   "cell_type": "markdown",
   "id": "5388d9f7-bc69-4445-8b09-86c55ed951be",
   "metadata": {},
   "source": [
    "### Create contact view"
   ]
  },
  {
   "cell_type": "code",
   "execution_count": null,
   "id": "fe3fb9da-c0a5-4011-ace8-64f447f9014e",
   "metadata": {
    "tags": []
   },
   "outputs": [],
   "source": [
    "def get_metadata_by_profile(\n",
    "    df_init,\n",
    "    people\n",
    "):\n",
    "    # Init\n",
    "    df = df_init.copy()\n",
    "    notes = {}\n",
    "    \n",
    "    # Cleaning\n",
    "    df = df[df[\"PROFILE_URL\"].isin(people)]\n",
    "    to_select = [\n",
    "        \"ENTITY\",\n",
    "        \"INTERACTION_DATE\",\n",
    "        \"PROFILE_URL\",\n",
    "        \"FULLNAME\",\n",
    "        \"CONTENT_TITLE\",\n",
    "        \"CONTENT_URL\",\n",
    "        \"TYPE\",\n",
    "        \"CONTENT\",\n",
    "    ]\n",
    "    df = df[to_select].sort_values(by=\"PROFILE_URL\").reset_index(drop=True)\n",
    "    df[\"INTERACTION_TEXT\"] = \"\"\n",
    "    df.loc[df[\"TYPE\"] == \"POST_REACTION\", \"INTERACTION_TEXT\"] = df[\"FULLNAME\"]  + \" sent '\" + df[\"CONTENT\"].str.lower() + \"' reaction to '\" + df[\"CONTENT_TITLE\"].str.strip() + \"' (\" + df[\"CONTENT_URL\"] + \") on \" + df[\"INTERACTION_DATE\"].astype(str)\n",
    "    df.loc[df[\"TYPE\"] == \"POST_COMMENT\", \"INTERACTION_TEXT\"] = df[\"FULLNAME\"]  + \" commented '\" + df[\"CONTENT\"].str.capitalize() + \"' on '\" + df[\"CONTENT_TITLE\"].str.strip() + \"' (\" + df[\"CONTENT_URL\"] + \") on \" + df[\"INTERACTION_DATE\"].astype(str)\n",
    "\n",
    "    # Loop on people (LinkedIn URL)\n",
    "    for p in people:\n",
    "        tmp_df = df.copy()\n",
    "        tmp_df = tmp_df[tmp_df[\"PROFILE_URL\"] == p][:10].reset_index(drop=True)\n",
    "        interactions = []\n",
    "        for row in tmp_df.itertuples():\n",
    "            # Append interaction text to create notes\n",
    "            interaction_text = row.INTERACTION_TEXT\n",
    "            interactions.append(interaction_text)\n",
    "            \n",
    "        # Add list to dict\n",
    "        notes[p] = interactions\n",
    "    return notes\n",
    "\n",
    "def create_contacts_view(\n",
    "    df_people,\n",
    "    df_organizations,\n",
    "    df_interactions,\n",
    "    api_key,\n",
    "    prompt_sales_messagings,\n",
    "    messaging_options,\n",
    "    entity_name,\n",
    "    limit_llm=50\n",
    "):\n",
    "    # Entity\n",
    "    df_entity = df_interactions.copy()\n",
    "    df_entity = df_entity[[\"ENTITY\", \"PROFILE_URL\"]].drop_duplicates(\"PROFILE_URL\", keep=\"first\")\n",
    "    \n",
    "    # People\n",
    "    df1 = pd.merge(df_entity, df_people, how=\"inner\", on=\"PROFILE_URL\")\n",
    "    df1.loc[:, \"LEAD_STATUS\"] = \"Lead\"\n",
    "    df1.loc[df1[\"MQL_DATE\"] != \"NA\", \"LEAD_STATUS\"] = \"Marketing Qualified Lead\"\n",
    "    df1.loc[df1[\"SQL_DATE\"] != \"NA\", \"LEAD_STATUS\"] = \"Sales Qualified Lead\"\n",
    "    to_keep = [\n",
    "        'ENTITY',\n",
    "        'ID',\n",
    "        'FULLNAME',\n",
    "        'OCCUPATION',\n",
    "        'SENIORITY',\n",
    "        'DEPARTMENT',\n",
    "        'INTERACTION_SCORE',\n",
    "        \"LEAD_STATUS\",\n",
    "        'CREATED_DATE',\n",
    "        'MQL_DATE',\n",
    "        'SQL_DATE',\n",
    "        'LAST_INTERACTION_DATE',\n",
    "        'LAST_INTERACTION_DAYS',\n",
    "        'PROFILE_URL',\n",
    "        'CRM_CONTACT_ID',\n",
    "        'ORGANIZATION',\n",
    "    ]\n",
    "    df1 = df1[to_keep]\n",
    "    for c in to_keep:\n",
    "        if \"DATE\" not in c and c not in ['ENTITY', \"LEAD_STATUS\", \"ORGANIZATION\", \"CRM_CONTACT_ID\"]:\n",
    "            df1 = df1.rename(columns={c: f\"PEOPLE_{c}\"})\n",
    "    \n",
    "    # Organizations\n",
    "    df2 = df_organizations.copy()\n",
    "    to_keep = [\n",
    "        'ORGANIZATION',\n",
    "        'INDUSTRY',\n",
    "        'CITY',\n",
    "        'COUNTRY',\n",
    "        'STAFF_RANGE_NAME',\n",
    "        'STAFF_COUNT',\n",
    "        'FOLLOWERS_COUNT',\n",
    "        'INTERACTION_SCORE',\n",
    "        'WEBSITE',\n",
    "        'TAGLINE',\n",
    "        'DESCRIPTION',\n",
    "        'ORG_NAME',\n",
    "        'ORG_LINKEDIN_ID',\n",
    "        'ORG_LINKEDIN_URL',\n",
    "        'CRM_ORG_ID'\n",
    "    ]\n",
    "    df2 = df2[to_keep]\n",
    "    for c in to_keep:\n",
    "        if not c.startswith(\"ORG\") and c not in [\"CRM_ORG_ID\"]:\n",
    "            df2 = df2.rename(columns={c: f\"ORG_{c}\"})\n",
    "    \n",
    "    # Merge dfs\n",
    "    df = pd.merge(df1, df2, how=\"left\").fillna('NA')\n",
    "    df = df.sort_values(by=\"LAST_INTERACTION_DATE\", ascending=False)\n",
    "    \n",
    "    # Exclude entity org\n",
    "    df = df[df[\"ORGANIZATION\"] != organization].reset_index(drop=True)\n",
    "    \n",
    "    # Add messagings options to df\n",
    "    df[\"MESSAGING_OPTIONS\"] = df[\"PEOPLE_PROFILE_URL\"].map(messaging_options).fillna('TBD')\n",
    "    \n",
    "    # Filter data\n",
    "    filter_df = df[\n",
    "        (df[\"MESSAGING_OPTIONS\"] == \"TBD\") &\n",
    "        (df[\"LEAD_STATUS\"] == \"Sales Qualified Lead\") & \n",
    "        (~df[\"PEOPLE_PROFILE_URL\"].isin(list(messaging_options.keys())))\n",
    "    ]\n",
    "    print(\"-> New Sales Qualified Leads:\", len(filter_df))\n",
    "    # Create notes from interactions\n",
    "    profiles = filter_df[\"PEOPLE_PROFILE_URL\"].unique()\n",
    "    notes = get_metadata_by_profile(df_interactions, profiles)\n",
    "    filter_df[\"PEOPLE_NOTES\"] = filter_df[\"PEOPLE_PROFILE_URL\"].map(notes)\n",
    "\n",
    "    # Generate messaging options for SQL\n",
    "    col_messaging = [\n",
    "        \"PEOPLE_PROFILE_URL\",\n",
    "        \"LAST_INTERACTION_DATE\",\n",
    "        \"PEOPLE_FULLNAME\",\n",
    "        \"PEOPLE_OCCUPATION\",\n",
    "        \"PEOPLE_SENIORITY\",\n",
    "        \"PEOPLE_DEPARTMENT\",\n",
    "        \"PEOPLE_NOTES\",\n",
    "        \"ORG_INDUSTRY\",\n",
    "        \"ORG_COUNTRY\",\n",
    "    ]\n",
    "    data = filter_df[col_messaging]\n",
    "    prompt_messaging = prompt_sales_messagings + \"\"\"\n",
    "    The options should be presented as follow: 1.xxxx, 2.xxxx, 3.xxxx,\n",
    "    The data you will received will be structured as follow:\n",
    "    - LAST_INTERACTION_DATE: last interaction date with content published by [ENTITY]\n",
    "    - PEOPLE_FULLNAME: Name of the person\n",
    "    - PEOPLE_OCCUPATION: Job position\n",
    "    - PEOPLE_SENIORITY: Job seniority\n",
    "    - PEOPLE_DEPARTMENT: Job department\n",
    "    - PEOPLE_NOTES: Interactions made by the person on the content published\n",
    "    - ORGANIZATION: Name of the organization the person is working with\n",
    "    - ORG_INDUSTRY: Company industry\n",
    "    \"\"\"\n",
    "    prompt_messaging = prompt_messaging.replace(\"[ENTITY]\", entity_name)\n",
    "    \n",
    "    count = 1\n",
    "    for row in filter_df.itertuples():\n",
    "        index = row.Index\n",
    "        fullname = row.PEOPLE_FULLNAME\n",
    "        profile_url = row.PEOPLE_PROFILE_URL\n",
    "        lead_status = row.LEAD_STATUS\n",
    "        messaging = \"TBD\"\n",
    "        if count <= limit_llm:\n",
    "            print(f\"{count} - Messaging for:\", fullname)\n",
    "            tmp_df = data[data[\"PEOPLE_PROFILE_URL\"] == profile_url].reset_index(drop=True)\n",
    "            try:\n",
    "                messaging = create_chat_completion(api_key, prompt_messaging, str(tmp_df.to_dict()))\n",
    "            except Exception as e:\n",
    "                print(e)\n",
    "            if str(messaging) == \"None\":\n",
    "                messaging = \"TBD\"\n",
    "                print(\"Messaging options:\", messaging)\n",
    "            print()\n",
    "            messaging_options[profile_url] = messaging\n",
    "            pdump(output_dir, messaging_options, \"messaging_options\")\n",
    "            df.loc[index, \"MESSAGING_OPTIONS\"] = messaging\n",
    "            count += 1\n",
    "    return df.reset_index(drop=True)\n",
    "\n",
    "df_contacts = create_contacts_view(\n",
    "    df_people,\n",
    "    df_organizations,\n",
    "    df_interactions,\n",
    "    api_key,\n",
    "    prompt_sales_messagings,\n",
    "    messaging_options,\n",
    "    entity_name\n",
    ")\n",
    "df_contacts.head(1)"
   ]
  },
  {
   "cell_type": "markdown",
   "id": "output_cell",
   "metadata": {
    "papermill": {},
    "tags": []
   },
   "source": [
    "## Output"
   ]
  },
  {
   "cell_type": "markdown",
   "id": "f40228ff-179f-49f6-8150-a76f4c911b2b",
   "metadata": {},
   "source": [
    "### Save data"
   ]
  },
  {
   "cell_type": "code",
   "execution_count": null,
   "id": "0b6b1a83-68ef-4174-826b-5e1a31b6efcb",
   "metadata": {
    "tags": []
   },
   "outputs": [],
   "source": [
    "pdump(output_dir, df_contacts, file_contacts)"
   ]
  },
  {
   "cell_type": "markdown",
   "id": "2c62d245-41ef-4b96-afb4-38eee1ad0583",
   "metadata": {},
   "source": [
    "### Send \"Contacts\" to spreadsheet"
   ]
  },
  {
   "cell_type": "code",
   "execution_count": null,
   "id": "ea691820-773d-4148-943b-34aad838a759",
   "metadata": {
    "tags": []
   },
   "outputs": [],
   "source": [
    "send_data_to_gsheet(df_contacts, df_init, spreadsheet_url, sheet_contacts)"
   ]
  },
  {
   "cell_type": "markdown",
   "id": "21dc4286-64bd-470f-a666-66b9ba1d17c4",
   "metadata": {
    "papermill": {},
    "tags": []
   },
   "source": [
    "### Save table data"
   ]
  },
  {
   "cell_type": "code",
   "execution_count": null,
   "id": "4a665552-9b3d-4b22-86de-efe4a7c244ec",
   "metadata": {
    "tags": []
   },
   "outputs": [],
   "source": [
    "save_data(df_contacts, datalake_dir, entity_name, file_contacts)"
   ]
  },
  {
   "cell_type": "code",
   "execution_count": null,
   "id": "e854358f-b994-49b0-a0ab-a864c8708159",
   "metadata": {},
   "outputs": [],
   "source": []
  }
 ],
 "metadata": {
  "kernelspec": {
   "display_name": "Python 3",
   "language": "python",
   "name": "python3"
  },
  "language_info": {
   "codemirror_mode": {
    "name": "ipython",
    "version": 3
   },
   "file_extension": ".py",
   "mimetype": "text/x-python",
   "name": "python",
   "nbconvert_exporter": "python",
   "pygments_lexer": "ipython3",
   "version": "3.9.6"
  },
  "naas": {
   "notebook_id": "cf32ecf61a1d6fdcae3273e7e70026564087776ace44ace0a939c08a2085586f",
   "notebook_path": "Google Sheets/Google_Sheets_Send_data.ipynb"
  },
  "papermill": {
   "default_parameters": {},
   "environment_variables": {},
   "parameters": {},
   "version": "2.3.3"
  }
 },
 "nbformat": 4,
 "nbformat_minor": 5
}
