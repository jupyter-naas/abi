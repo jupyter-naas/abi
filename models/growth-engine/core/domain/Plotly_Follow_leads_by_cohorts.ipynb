{
 "cells": [
  {
   "cell_type": "markdown",
   "id": "35673cb3-a65e-4e94-a60b-8b3863fd455b",
   "metadata": {
    "execution": {
     "iopub.execute_input": "2021-02-23T14:22:16.610471Z",
     "iopub.status.busy": "2021-02-23T14:22:16.610129Z",
     "iopub.status.idle": "2021-02-23T14:22:16.627784Z",
     "shell.execute_reply": "2021-02-23T14:22:16.626866Z",
     "shell.execute_reply.started": "2021-02-23T14:22:16.610384Z"
    },
    "papermill": {},
    "tags": []
   },
   "source": [
    "<img width=\"8%\" alt=\"Plotly.png\" src=\"https://raw.githubusercontent.com/jupyter-naas/awesome-notebooks/master/.github/assets/logos/Plotly.png\" style=\"border-radius: 15%\">"
   ]
  },
  {
   "cell_type": "markdown",
   "id": "b0d4ced6",
   "metadata": {
    "papermill": {},
    "tags": []
   },
   "source": [
    "# Plotly - Follow leads by cohorts"
   ]
  },
  {
   "cell_type": "markdown",
   "id": "06cb7cb7",
   "metadata": {
    "papermill": {},
    "tags": []
   },
   "source": [
    "**Tags:** #plotly #html #csv #image #growth #analytics #cohorts"
   ]
  },
  {
   "cell_type": "markdown",
   "id": "c64eee3c",
   "metadata": {
    "papermill": {},
    "tags": []
   },
   "source": [
    "**Author:** [Florent Ravenel](https://www.linkedin.com/in/florent-ravenel/)"
   ]
  },
  {
   "cell_type": "markdown",
   "id": "naas-description",
   "metadata": {
    "papermill": {},
    "tags": [
     "description"
    ]
   },
   "source": [
    "**Description:** This notebook creates a chart to follow the number of contacts reached by cohorts over the weeks."
   ]
  },
  {
   "cell_type": "markdown",
   "id": "f65cd676",
   "metadata": {
    "papermill": {},
    "tags": []
   },
   "source": [
    "## Input"
   ]
  },
  {
   "cell_type": "markdown",
   "id": "428474ab",
   "metadata": {
    "papermill": {},
    "tags": []
   },
   "source": [
    "### Import libraries"
   ]
  },
  {
   "cell_type": "code",
   "execution_count": null,
   "id": "6214ae90",
   "metadata": {
    "papermill": {},
    "tags": []
   },
   "outputs": [],
   "source": [
    "import plotly.graph_objects as go\n",
    "from naas_drivers import gsheet\n",
    "import pandas as pd\n",
    "import os\n",
    "from datetime import date, datetime, timedelta\n",
    "import naas_data_product"
   ]
  },
  {
   "cell_type": "markdown",
   "id": "5ed1bed1",
   "metadata": {
    "papermill": {},
    "tags": []
   },
   "source": [
    "### Setup variables\n",
    "**Inputs**\n",
    "- `entity_dir`: Entity directory.\n",
    "- `entity_name`: Entity name.\n",
    "- `input_dir`: Path of the directory to retrieve file from.\n",
    "- `input_file`: Name of the file to be retrieved.\n",
    "- `spreadsheet_url`: Google Sheets spreadsheet URL.\n",
    "- `sheet_name`: Google Sheets sheet name.\n",
    "- `title`: Graph title.\n",
    "- `linkedin_url`: Entity LinkedIn URL used as graph source.\n",
    "\n",
    "**Outputs**\n",
    "- `output_dir`: Path to the directory where the output files will be saved.\n",
    "- `output_file`: Output files base name"
   ]
  },
  {
   "cell_type": "code",
   "execution_count": null,
   "id": "190b8d21",
   "metadata": {
    "papermill": {},
    "tags": [
     "parameters"
    ]
   },
   "outputs": [],
   "source": [
    "# Inputs\n",
    "entity_dir = pload(os.path.join(naas_data_product.OUTPUTS_PATH, \"entities\", \"0\"), \"entity_dir\")\n",
    "entity_name = pload(os.path.join(naas_data_product.OUTPUTS_PATH, \"entities\", \"0\"), \"entity_name\")\n",
    "input_dir = os.path.join(entity_dir, \"growth-engine\", date.today().isoformat())\n",
    "input_file = \"growth\"\n",
    "spreadsheet_url = pload(os.path.join(naas_data_product.OUTPUTS_PATH, \"entities\", \"0\"), \"abi_spreadsheet\")\n",
    "sheet_name = \"GROWTH\"\n",
    "title = \"Contacts Reached\"\n",
    "linkedin_url = pload(os.path.join(naas_data_product.OUTPUTS_PATH, \"entities\", \"0\"), \"linkedin_url\")\n",
    "\n",
    "# Outputs\n",
    "output_dir = os.path.join(entity_dir, \"growth-engine\", date.today().isoformat())\n",
    "output_file = \"growth_trend\""
   ]
  },
  {
   "cell_type": "markdown",
   "id": "b3566c94",
   "metadata": {
    "papermill": {},
    "tags": []
   },
   "source": [
    "## Model"
   ]
  },
  {
   "cell_type": "markdown",
   "id": "5ba765d9-4bb1-4ad4-aa41-5b40d07d3d53",
   "metadata": {},
   "source": [
    "### Set outputs"
   ]
  },
  {
   "cell_type": "code",
   "execution_count": null,
   "id": "ea499d69-d28d-41e6-a4d3-107dc0422e95",
   "metadata": {
    "tags": []
   },
   "outputs": [],
   "source": [
    "html_output = os.path.join(output_dir, f\"{output_file}.html\")\n",
    "image_output = os.path.join(output_dir, f\"{output_file}.png\")"
   ]
  },
  {
   "cell_type": "markdown",
   "id": "2c6dbd38-52a8-4af8-aef9-f1d6551e06ef",
   "metadata": {
    "papermill": {},
    "tags": []
   },
   "source": [
    "### Get DB growth"
   ]
  },
  {
   "cell_type": "code",
   "execution_count": null,
   "id": "c4ce220d-952b-4321-aed6-e1b3afe63ab8",
   "metadata": {
    "papermill": {},
    "tags": []
   },
   "outputs": [],
   "source": [
    "df_input = pload(input_dir, input_file)    \n",
    "if df_input is None:\n",
    "    df_input = gsheet.connect(spreadsheet_url).get(sheet_name=sheet_name)\n",
    "\n",
    "# Filter on entity\n",
    "if len(df_input) > 0:\n",
    "    df_input = df_input[(df_input[\"ENTITY\"] == entity_name)]\n",
    "\n",
    "# Display result\n",
    "print(\"Input data:\", len(df_input))\n",
    "df_input.head(1)"
   ]
  },
  {
   "cell_type": "markdown",
   "id": "7456a048",
   "metadata": {
    "papermill": {},
    "tags": []
   },
   "source": [
    "### Create trend dataframe"
   ]
  },
  {
   "cell_type": "code",
   "execution_count": null,
   "id": "22b41e65",
   "metadata": {
    "papermill": {},
    "tags": []
   },
   "outputs": [],
   "source": [
    "def get_trend(\n",
    "    df_init,\n",
    "    col_label,\n",
    "    col_group,\n",
    "    col_value,\n",
    "    agg_value,\n",
    "    entity_name,\n",
    "):\n",
    "    # Get data\n",
    "    df = df_init.copy()\n",
    "    \n",
    "    # Groupby\n",
    "    to_group = [\n",
    "        col_label,\n",
    "        col_group,\n",
    "    ]\n",
    "    to_agg = {\n",
    "        col_value: agg_value\n",
    "    }\n",
    "    to_rename = {\n",
    "        col_label: \"LABEL\",\n",
    "        col_group: \"GROUP\",\n",
    "        col_value: \"VALUE\",\n",
    "    }\n",
    "\n",
    "    df = df.groupby(to_group, as_index=False).agg(to_agg).rename(columns=to_rename)\n",
    "\n",
    "    # Get weeks\n",
    "    def get_weeks(df):\n",
    "        start_date = datetime.strptime(df.loc[df.index[-1], \"LAST_INTERACTION_DATE\"][:10], \"%Y-%m-%d\")\n",
    "        end_date = date.today()\n",
    "        weeks = []\n",
    "        idx = pd.date_range(start_date, end_date, freq=\"D\")\n",
    "        for i in idx:\n",
    "            week = i.strftime(\"W%W-%Y\")\n",
    "            if week not in weeks:\n",
    "                weeks.append(week)\n",
    "        return pd.DataFrame({\"LABEL\": weeks})\n",
    "\n",
    "    df_weeks = get_weeks(df_init)\n",
    "    dfs = pd.DataFrame()\n",
    "    for x in df_weeks.LABEL:\n",
    "        tmp_df = df_weeks.copy()\n",
    "        tmp_df[\"GROUP\"] = tmp_df[\"LABEL\"]\n",
    "        tmp_df[\"LABEL\"] = x\n",
    "        dfs = pd.concat([dfs, tmp_df]).reset_index(drop=True)\n",
    "    dfs.loc[(dfs[\"GROUP\"] == TW) & (dfs[\"LABEL\"] == TW), \"GROUP\"] = \"NEW\"\n",
    "    \n",
    "    # Merge dfs\n",
    "    fillna = {\n",
    "        \"GROUP\": \"NA\",\n",
    "        \"VALUE\": 0,\n",
    "    }\n",
    "    df = pd.merge(dfs, df, how=\"left\").fillna(fillna)    \n",
    "    df[\"LABEL_ORDER\"] = df[\"LABEL\"].str[-4:] + df[\"LABEL\"].str[1:3]\n",
    "    df[\"GROUP_ORDER\"] = df[\"GROUP\"].str[-4:] + df[\"GROUP\"].str[1:3]\n",
    "    df.loc[df[\"GROUP\"] == \"NEW\" , \"GROUP_ORDER\"] = \"999999\"\n",
    "    df = df.sort_values(by=[\"LABEL_ORDER\", \"GROUP_ORDER\"], ascending=[False, False])\n",
    "    \n",
    "    # Update labels and colors\n",
    "    labels_d = [\n",
    "        \"This week\",\n",
    "        \"Last week\",\n",
    "        \"2 weeks ago\",\n",
    "        \"3 weeks ago\",\n",
    "        \"4 weeks ago\",\n",
    "    ]\n",
    "    # Add colors\n",
    "    colors_d = [\n",
    "        \"#48DD82\",\n",
    "        \"#FFFDA2\",\n",
    "        \"#FFAB76\",\n",
    "        \"#FF6362\",\n",
    "        \"#484549\",\n",
    "    ]\n",
    "    labels = df[\"LABEL\"].unique().tolist()\n",
    "    new_labels = {}\n",
    "    colors = {}\n",
    "    for i, l in enumerate(labels):\n",
    "        if i == 0:\n",
    "            colors[\"NEW\"] = colors_d[i]\n",
    "        if i < 5:\n",
    "            new_labels[l] = labels_d[i]\n",
    "            colors[l] = colors_d[i]\n",
    "        if i >= 5:\n",
    "            colors[l] = \"#000000\"\n",
    "    df[\"LABEL_D\"] = df[\"LABEL\"].map(new_labels)\n",
    "    df[\"COLOR\"] = df[\"GROUP\"].map(colors)\n",
    "    df[\"COLOR\"] = df[\"COLOR\"].fillna(\"#000000\")\n",
    "\n",
    "    # Filters on labels\n",
    "    df = df[df[\"LABEL_D\"].isin(labels_d)]\n",
    "\n",
    "    # Groupby \n",
    "    df.loc[df[\"COLOR\"] == \"#000000\" , \"GROUP\"] = \"> 4 weeks ago\"\n",
    "    df.loc[df[\"COLOR\"] == \"#000000\" , \"GROUP_ORDER\"] = \"0\"\n",
    "    \n",
    "    # Groupby \n",
    "    to_group = [\n",
    "        \"LABEL\",\n",
    "        \"LABEL_ORDER\",\n",
    "        \"LABEL_D\",\n",
    "        \"GROUP\",\n",
    "        \"GROUP_ORDER\",\n",
    "        \"COLOR\"\n",
    "    ]\n",
    "    df = df.groupby(to_group, as_index=False).agg({\"VALUE\": \"sum\"})\n",
    "    df = df.sort_values(by=[\"LABEL_ORDER\", \"GROUP_ORDER\"], ascending=[True, True])\n",
    "    \n",
    "    # Plotly: hovertext\n",
    "    df[\"TEXT\"] = (\n",
    "        \"<b><span style='font-size: 14px;'>\"\n",
    "        + df[\"GROUP\"].astype(str)\n",
    "        + \": \"\n",
    "        + df[\"VALUE\"].astype(int).astype(str)\n",
    "        + \"</span></b>\"\n",
    "    )\n",
    "    df.insert(loc=0, column=\"ENTITY\", value=entity_name)\n",
    "    return df.reset_index(drop=True)\n",
    "\n",
    "df_trend = get_trend(\n",
    "    df_input,\n",
    "    col_label=\"SCENARIO\",\n",
    "    col_group=\"COHORT\",\n",
    "    col_value=\"PROFILE_URL\",\n",
    "    agg_value=\"count\",\n",
    "    entity_name=entity_name\n",
    ")\n",
    "# df_trend"
   ]
  },
  {
   "cell_type": "markdown",
   "id": "a17539e6-9f61-4317-9b62-989f297ccaf7",
   "metadata": {},
   "source": [
    "### Create title and logo"
   ]
  },
  {
   "cell_type": "code",
   "execution_count": null,
   "id": "1e96760f-67d0-4336-af9c-d993a9dc3520",
   "metadata": {
    "tags": []
   },
   "outputs": [],
   "source": [
    "# Groupby weeks\n",
    "df = df_trend.groupby([\"LABEL\", \"LABEL_ORDER\"], as_index=False).agg({\"VALUE\": \"sum\"})\n",
    "df = df.sort_values(by=\"LABEL_ORDER\")\n",
    "total = 0\n",
    "total_n1 = 0\n",
    "varp = 0\n",
    "if len(df) >= 1:\n",
    "    total = df.loc[df.index[-1], \"VALUE\"]\n",
    "if len(df) >= 2:\n",
    "    total_n1 = df.loc[df.index[-2], \"VALUE\"]\n",
    "varv = total - total_n1\n",
    "if total_n1 != 0:\n",
    "    varp = varv / total_n1\n",
    "\n",
    "total_d = \"{:,.0f}\".format(total).replace(\",\", \" \")\n",
    "varv_d = \"{:,.0f}\".format(varv).replace(\",\", \" \")\n",
    "varp_d = \"{:,.0%}\".format(varp).replace(\",\", \" \")\n",
    "if varv >= 0:\n",
    "    varv_d = f\"+{varv_d}\"\n",
    "    varp_d = f\"+{varp_d}\"\n",
    "title_full = f\"<b><span style='font-size: 20px;'>{title}</span></b><br><span style='font-size: 18px;'>{TW}: {total_d} | {varv_d} ({varp_d}) vs last week</span>\"\n",
    "\n",
    "# Logo\n",
    "logo = None\n",
    "if varv > 0:\n",
    "    logo = arrow_up\n",
    "elif varv > -0.2:\n",
    "    logo = arrow_right\n",
    "else:\n",
    "    logo = arrow_down\n",
    "print(\"Title:\", title_full)"
   ]
  },
  {
   "cell_type": "markdown",
   "id": "792f3844-4ce8-4582-b01b-12303135054e",
   "metadata": {
    "papermill": {},
    "tags": []
   },
   "source": [
    "### Create Vertical Barchart stacked"
   ]
  },
  {
   "cell_type": "code",
   "execution_count": null,
   "id": "f019f609-99bb-40fd-8938-cd677a20b379",
   "metadata": {
    "papermill": {},
    "tags": []
   },
   "outputs": [],
   "source": [
    "def get_week_number(week):\n",
    "    return int(week.split(\"W\")[1].split(\"-\")[0]) \n",
    "\n",
    "def create_barchart(\n",
    "    df,\n",
    "    label,\n",
    "    groups,\n",
    "    value,\n",
    "    title,\n",
    "    logo,\n",
    "):\n",
    "    # Init\n",
    "    fig = go.Figure()\n",
    "    \n",
    "    # Create trace\n",
    "    list_groups = df[groups].unique()\n",
    "    for group in list_groups:\n",
    "        showlegend = True\n",
    "        if group == \"> 4 weeks ago\" or group == \"NEW\":\n",
    "            showlegend = False\n",
    "        tmp_df = df[df[groups] == group]\n",
    "        # Create bar\n",
    "        fig.add_trace(\n",
    "            go.Bar(\n",
    "                x=tmp_df[label],\n",
    "                y=tmp_df[value],\n",
    "                name=group,\n",
    "                marker=dict(color=tmp_df[\"COLOR\"]),\n",
    "                hoverinfo=\"text\",\n",
    "                hovertext=tmp_df[\"TEXT\"],\n",
    "                showlegend=showlegend\n",
    "            )\n",
    "        )\n",
    "\n",
    "    # Add logo\n",
    "    fig.add_layout_image(\n",
    "        dict(\n",
    "            source=logo,\n",
    "            xref=\"paper\",\n",
    "            yref=\"paper\",\n",
    "            x=0.01,\n",
    "            y=1.06,\n",
    "            sizex=0.12,\n",
    "            sizey=0.12,\n",
    "            xanchor=\"right\",\n",
    "            yanchor=\"bottom\",\n",
    "        )\n",
    "    )\n",
    "\n",
    "    # Display the legend below the graph\n",
    "    fig.update_layout(legend=dict(\n",
    "        orientation=\"h\",\n",
    "        x=0.25,\n",
    "        y=-0.2,\n",
    "        xanchor=\"left\",\n",
    "        yanchor=\"bottom\",\n",
    "    ))\n",
    "    \n",
    "    # Add annotation\n",
    "    fig.add_annotation(\n",
    "        text=f\"<i>Source: <a href='{linkedin_url}'>{linkedin_url}</a> / Created at: {date.today().isoformat()}</i>\",\n",
    "        font=dict(family=\"Arial\", color=\"black\"),\n",
    "        x=0,\n",
    "        y=-0.35,\n",
    "        xref=\"paper\",\n",
    "        yref=\"paper\",\n",
    "        xanchor=\"left\",\n",
    "        yanchor=\"bottom\",\n",
    "        arrowcolor=\"white\",\n",
    "    )\n",
    "    # Update layout\n",
    "    fig.update_layout(\n",
    "        title=title,\n",
    "        title_x=0.09,\n",
    "        title_font=dict(family=\"Arial\", color=\"black\"),\n",
    "        paper_bgcolor=\"#ffffff\",\n",
    "        plot_bgcolor=\"#ffffff\",\n",
    "        width=1200,\n",
    "        height=600,\n",
    "        margin_pad=10,\n",
    "        margin_b=120,\n",
    "        barmode=\"stack\",\n",
    "        bargap=0.1,  # gap between bars of adjacent location coordinates.\n",
    "        bargroupgap=0.1,  # gap between bars of the same location coordinate.\n",
    "    )\n",
    "    config = {\"displayModeBar\": False}\n",
    "    fig.show(config=config)\n",
    "    return fig\n",
    "\n",
    "fig = create_barchart(df_trend, label=\"LABEL_D\", groups=\"GROUP\", value=\"VALUE\", title=title_full, logo=logo)"
   ]
  },
  {
   "cell_type": "markdown",
   "id": "c8083216",
   "metadata": {
    "papermill": {},
    "tags": []
   },
   "source": [
    "## Output"
   ]
  },
  {
   "cell_type": "markdown",
   "id": "541e16a0",
   "metadata": {
    "papermill": {},
    "tags": []
   },
   "source": [
    "### Save data"
   ]
  },
  {
   "cell_type": "code",
   "execution_count": null,
   "id": "61cc88bf",
   "metadata": {
    "papermill": {},
    "tags": []
   },
   "outputs": [],
   "source": [
    "pdump(output_dir, df_trend, output_file)"
   ]
  },
  {
   "cell_type": "markdown",
   "id": "d28cd477",
   "metadata": {
    "papermill": {},
    "tags": []
   },
   "source": [
    "### Save and share your graph in HTML\n"
   ]
  },
  {
   "cell_type": "code",
   "execution_count": null,
   "id": "3421d37f",
   "metadata": {
    "papermill": {},
    "tags": []
   },
   "outputs": [],
   "source": [
    "# Save your graph in HTML\n",
    "fig.write_html(html_output)\n",
    "\n",
    "# Share output with naas\n",
    "html_link = naas.asset.add(html_output, override_prod=True, params={\"inline\": True})\n",
    "\n",
    "# -> Uncomment the line below to remove your asset\n",
    "# naas.asset.delete(html_output)"
   ]
  },
  {
   "cell_type": "markdown",
   "id": "91a987c6",
   "metadata": {
    "papermill": {},
    "tags": []
   },
   "source": [
    "### Save and share your graph in image\n"
   ]
  },
  {
   "cell_type": "code",
   "execution_count": null,
   "id": "8342abf9",
   "metadata": {
    "papermill": {},
    "tags": []
   },
   "outputs": [],
   "source": [
    "# Save your graph in PNG\n",
    "fig.write_image(image_output)\n",
    "\n",
    "# Share output with naas\n",
    "image_link = naas.asset.add(image_output, override_prod=True, params={\"inline\": True})\n",
    "\n",
    "# -> Uncomment the line below to remove your asset\n",
    "# naas.asset.delete(image_output)"
   ]
  },
  {
   "cell_type": "code",
   "execution_count": null,
   "id": "f4c63229-2864-42f4-b691-a16d2dd527f8",
   "metadata": {},
   "outputs": [],
   "source": []
  }
 ],
 "metadata": {
  "kernelspec": {
   "display_name": "Python 3",
   "language": "python",
   "name": "python3"
  },
  "language_info": {
   "codemirror_mode": {
    "name": "ipython",
    "version": 3
   },
   "file_extension": ".py",
   "mimetype": "text/x-python",
   "name": "python",
   "nbconvert_exporter": "python",
   "pygments_lexer": "ipython3",
   "version": "3.9.6"
  },
  "papermill": {
   "default_parameters": {},
   "environment_variables": {},
   "parameters": {},
   "version": "2.3.4"
  }
 },
 "nbformat": 4,
 "nbformat_minor": 5
}
