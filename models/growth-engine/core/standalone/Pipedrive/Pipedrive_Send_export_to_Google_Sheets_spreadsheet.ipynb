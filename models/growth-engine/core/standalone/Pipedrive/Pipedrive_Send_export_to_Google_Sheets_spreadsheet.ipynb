{
 "cells": [
  {
   "cell_type": "markdown",
   "id": "reliable-disney",
   "metadata": {
    "papermill": {},
    "tags": []
   },
   "source": [
    "<img width=\"8%\" alt=\"Pipedrive.png\" src=\"https://raw.githubusercontent.com/jupyter-naas/awesome-notebooks/master/.github/assets/logos/Pipedrive.png\" style=\"border-radius: 15%\">"
   ]
  },
  {
   "cell_type": "markdown",
   "id": "optical-marsh",
   "metadata": {
    "papermill": {},
    "tags": []
   },
   "source": [
    "# Pipedrive - Send export to Google Sheets spreadsheet"
   ]
  },
  {
   "cell_type": "markdown",
   "id": "frank-portfolio",
   "metadata": {
    "papermill": {},
    "tags": []
   },
   "source": [
    "**Tags:** #pipedrive #crm #sales #export #contact #organization #naas_drivers #gsheet #automation #googlesheets"
   ]
  },
  {
   "cell_type": "markdown",
   "id": "11627339-3274-4045-92fb-0a24777f1012",
   "metadata": {
    "papermill": {},
    "tags": []
   },
   "source": [
    "**Author:** [Florent Ravenel](https://www.linkedin.com/in/florent-ravenel/)"
   ]
  },
  {
   "cell_type": "markdown",
   "id": "naas-description",
   "metadata": {
    "papermill": {},
    "tags": [
     "description"
    ]
   },
   "source": [
    "**Description:** This notebook send people and organizations export to Google Sheets."
   ]
  },
  {
   "cell_type": "markdown",
   "id": "loaded-tuner",
   "metadata": {
    "papermill": {},
    "tags": []
   },
   "source": [
    "## Input"
   ]
  },
  {
   "cell_type": "markdown",
   "id": "informational-colorado",
   "metadata": {
    "papermill": {},
    "tags": []
   },
   "source": [
    "### Import libraries"
   ]
  },
  {
   "cell_type": "code",
   "execution_count": null,
   "id": "contained-wedding",
   "metadata": {
    "papermill": {},
    "tags": []
   },
   "outputs": [],
   "source": [
    "from naas_drivers import gsheet\n",
    "import naas\n",
    "from datetime import date\n",
    "import naas_data_product\n",
    "import pandas as pd"
   ]
  },
  {
   "cell_type": "markdown",
   "id": "sufficient-ebony",
   "metadata": {
    "papermill": {},
    "tags": []
   },
   "source": [
    "### Setup variables"
   ]
  },
  {
   "cell_type": "code",
   "execution_count": null,
   "id": "preliminary-improvement",
   "metadata": {
    "papermill": {},
    "tags": []
   },
   "outputs": [],
   "source": [
    "# Inputs\n",
    "people_csv = \"\"\n",
    "organizations_csv = \"\"\n",
    "\n",
    "# Outputs\n",
    "spreadsheet_url = naas.secret.get(\"ABI_SPREADSHEET\")\n",
    "sheet_contact = \"CONTACTS_DB\"\n",
    "sheet_company = \"COMPANIES_DB\"\n",
    "output_dir = os.path.join(naas_data_product.OUTPUTS_PATH, \"growth-engine\", date.today().isoformat())\n",
    "output_contact = \"crm_contacts\"\n",
    "output_companies = \"crm_companies\""
   ]
  },
  {
   "cell_type": "markdown",
   "id": "unlimited-schedule",
   "metadata": {
    "papermill": {},
    "tags": []
   },
   "source": [
    "## Model"
   ]
  },
  {
   "cell_type": "markdown",
   "id": "treated-luxembourg",
   "metadata": {
    "papermill": {},
    "tags": []
   },
   "source": [
    "### Get people"
   ]
  },
  {
   "cell_type": "code",
   "execution_count": null,
   "id": "white-praise",
   "metadata": {
    "papermill": {},
    "tags": []
   },
   "outputs": [],
   "source": [
    "df_people = pd.read_csv(people_csv).fillna(\"NA\")\n",
    "print(\"People:\", len(df_people))\n",
    "df_people.head(3)"
   ]
  },
  {
   "cell_type": "markdown",
   "id": "83693ed5-9af4-4344-b9a7-c72d58f65e3c",
   "metadata": {},
   "source": [
    "### Create contact dataset"
   ]
  },
  {
   "cell_type": "code",
   "execution_count": null,
   "id": "cff2baaf-fc62-49c1-b979-cde0ea3988fd",
   "metadata": {
    "tags": []
   },
   "outputs": [],
   "source": [
    "df_contacts = df_people.copy()\n",
    "mapping_contact = {\n",
    "    'FULLNAME': 'Person - Name',\n",
    "    'COMPANY': 'Person - Organization',\n",
    "    'EMAIL': 'Person - Email',\n",
    "    'PHONE': 'Person - Phone',\n",
    "    'LABEL': 'Person - Label',\n",
    "    'NEXT_ACTIVITY': 'Person - Next activity date',\n",
    "    'CLOSED_DEALS': 'Person - Closed deals',\n",
    "    'OPEN_DEALS': 'Person - Open deals',\n",
    "    'CONTACT_OWNER': 'Person - Owner',\n",
    "}\n",
    "for m in mapping_contact:\n",
    "    col = mapping_contact.get(m)\n",
    "    df_contacts = df_contacts.rename(columns={col: m})\n",
    "\n",
    "df_contacts = df_contacts[mapping_contact.keys()]\n",
    "pdump(output_dir, df_contacts, output_contact)\n",
    "print(\"Contacts:\", len(df_contacts))\n",
    "df_contacts.head(3)"
   ]
  },
  {
   "cell_type": "markdown",
   "id": "14e0ae21-b83c-405a-b243-3d0e3809deff",
   "metadata": {
    "papermill": {},
    "tags": []
   },
   "source": [
    "### Get organizations"
   ]
  },
  {
   "cell_type": "code",
   "execution_count": null,
   "id": "2ab9b98d-b081-4812-9161-8f1a2084a3e7",
   "metadata": {
    "papermill": {},
    "tags": []
   },
   "outputs": [],
   "source": [
    "df_organizations = pd.read_csv(organizations_csv).fillna(\"NA\")\n",
    "print(\"Organizations:\", len(df_organizations))\n",
    "df_organizations.head(3)"
   ]
  },
  {
   "cell_type": "markdown",
   "id": "16f5ffcc-1672-4291-86c2-22e70a5714ec",
   "metadata": {},
   "source": [
    "### Create contact dataset"
   ]
  },
  {
   "cell_type": "code",
   "execution_count": null,
   "id": "7a8a1b94-9647-4475-aa8f-1030e2d766d7",
   "metadata": {
    "tags": []
   },
   "outputs": [],
   "source": [
    "df_companies = df_organizations.copy()\n",
    "mapping_companies = {\n",
    "    'COMPANY': 'Organization - Name',\n",
    "    'NO_CONTACT': 'Organization - People',\n",
    "    'LABEL': 'Organization - Label',\n",
    "    'NEXT_ACTIVITY': 'Organization - Next activity date',\n",
    "    'CLOSED_DEALS': 'Organization - Closed deals',\n",
    "    'OPEN_DEALS': 'Organization - Open deals',\n",
    "    'CONTACT_OWNER': 'Organization - Owner',\n",
    "}\n",
    "for m in mapping_companies:\n",
    "    col = mapping_companies.get(m)\n",
    "    df_companies = df_companies.rename(columns={col: m})\n",
    "\n",
    "df_companies = df_companies[mapping_companies.keys()]\n",
    "pdump(output_dir, df_companies, output_companies)\n",
    "print(\"Companies:\", len(df_companies))\n",
    "df_companies.head(3)"
   ]
  },
  {
   "cell_type": "markdown",
   "id": "typical-nomination",
   "metadata": {
    "papermill": {},
    "tags": []
   },
   "source": [
    "## Output"
   ]
  },
  {
   "cell_type": "markdown",
   "id": "3da1d3df-d8b7-4b64-b9b4-6de72a0e6e1c",
   "metadata": {
    "papermill": {},
    "tags": []
   },
   "source": [
    "### Save contacts to gsheet"
   ]
  },
  {
   "cell_type": "code",
   "execution_count": null,
   "id": "f3944811-a2f1-4f65-b9ad-bcbf9d42bf3b",
   "metadata": {
    "papermill": {},
    "tags": []
   },
   "outputs": [],
   "source": [
    "gsheet.connect(spreadsheet_url).send(\n",
    "    sheet_name=sheet_contact,\n",
    "    data=df_contacts,\n",
    "    append=False\n",
    ")"
   ]
  },
  {
   "cell_type": "markdown",
   "id": "steady-treaty",
   "metadata": {
    "papermill": {},
    "tags": []
   },
   "source": [
    "### Send companies to gsheet"
   ]
  },
  {
   "cell_type": "code",
   "execution_count": null,
   "id": "chicken-tennis",
   "metadata": {
    "papermill": {},
    "tags": []
   },
   "outputs": [],
   "source": [
    "gsheet.connect(spreadsheet_url).send(\n",
    "    sheet_name=sheet_company,\n",
    "    data=df_companies,\n",
    "    append=False\n",
    ")"
   ]
  },
  {
   "cell_type": "code",
   "execution_count": null,
   "id": "aba02bcd-7980-48ff-928c-0d29f2ab6d03",
   "metadata": {},
   "outputs": [],
   "source": []
  }
 ],
 "metadata": {
  "kernelspec": {
   "display_name": "Python 3",
   "language": "python",
   "name": "python3"
  },
  "language_info": {
   "codemirror_mode": {
    "name": "ipython",
    "version": 3
   },
   "file_extension": ".py",
   "mimetype": "text/x-python",
   "name": "python",
   "nbconvert_exporter": "python",
   "pygments_lexer": "ipython3",
   "version": "3.9.6"
  },
  "naas": {
   "notebook_id": "4063affa21ca76b463fb3696bcd1993679d6e2c91d8614b9e1d0f84d57aec6ef",
   "notebook_path": "HubSpot/HubSpot_Send_contacts_to_gsheet.ipynb"
  },
  "papermill": {
   "default_parameters": {},
   "environment_variables": {},
   "parameters": {},
   "version": "2.3.3"
  }
 },
 "nbformat": 4,
 "nbformat_minor": 5
}
