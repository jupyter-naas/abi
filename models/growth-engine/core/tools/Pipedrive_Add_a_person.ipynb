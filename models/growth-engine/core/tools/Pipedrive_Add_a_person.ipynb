{
 "cells": [
  {
   "cell_type": "markdown",
   "id": "3b7f7daf-2bcb-44e0-98d9-f51916eafc55",
   "metadata": {
    "papermill": {},
    "tags": [
     "naas"
    ]
   },
   "source": [
    "<img width=\"8%\" alt=\"Pipedrive.png\" src=\"https://raw.githubusercontent.com/jupyter-naas/awesome-notebooks/master/.github/assets/logos/Pipedrive.png\" style=\"border-radius: 15%\">"
   ]
  },
  {
   "cell_type": "markdown",
   "id": "inside-tattoo",
   "metadata": {
    "papermill": {},
    "tags": []
   },
   "source": [
    "# Pipedrive - Add a person"
   ]
  },
  {
   "cell_type": "markdown",
   "id": "detected-mobility",
   "metadata": {
    "papermill": {},
    "tags": []
   },
   "source": [
    "**Tags:** #pipedrive #person #add #command"
   ]
  },
  {
   "cell_type": "markdown",
   "id": "727e4fb0-7aa7-47d1-b56f-0d34ec5f4b80",
   "metadata": {
    "papermill": {},
    "tags": []
   },
   "source": [
    "**Author:** [Florent Ravenel](https://www.linkedin.com/in/florent-ravenel/)"
   ]
  },
  {
   "cell_type": "markdown",
   "id": "202a9157-9d18-404d-a4e0-33cd8508571a",
   "metadata": {
    "papermill": {},
    "tags": []
   },
   "source": [
    "**Last update:** 2023-08-29 (Created: 2022-02-21)"
   ]
  },
  {
   "cell_type": "markdown",
   "id": "naas-description",
   "metadata": {
    "papermill": {},
    "tags": [
     "description"
    ]
   },
   "source": [
    "**Description:** This notebook adds a new person to Pipedrive."
   ]
  },
  {
   "cell_type": "markdown",
   "id": "c89b52b3-aa8e-4dc8-b14a-ea4f0be4099d",
   "metadata": {
    "papermill": {},
    "tags": []
   },
   "source": [
    "**References:**\n",
    "- [HubSpot API - Contacts](https://developers.hubspot.com/docs/api/crm/contacts)"
   ]
  },
  {
   "cell_type": "markdown",
   "id": "sensitive-proof",
   "metadata": {
    "papermill": {},
    "tags": []
   },
   "source": [
    "## Input"
   ]
  },
  {
   "cell_type": "markdown",
   "id": "literary-supplier",
   "metadata": {
    "papermill": {},
    "tags": []
   },
   "source": [
    "### Import libraries"
   ]
  },
  {
   "cell_type": "code",
   "execution_count": null,
   "id": "ranging-concentrate",
   "metadata": {
    "papermill": {},
    "tags": []
   },
   "outputs": [],
   "source": [
    "import naas"
   ]
  },
  {
   "cell_type": "markdown",
   "id": "adcb1498-5bf9-4c9d-a066-81de302c992e",
   "metadata": {
    "papermill": {},
    "tags": []
   },
   "source": [
    "### Setup variables\n",
    "- `email`: example@naas.ai\n",
    "- `firstname`: Abi\n",
    "- `lastname`: NAAS\n",
    "- `jobtitle`: AI Assistant\n",
    "- `linkedin_url`: https://www.linkedin/in/jeremyravenel\n",
    "- `phone`: +33600000000\n",
    "- `company`: Naas.ai\n",
    "- `body`: This variable stores the body to be send by the webhook."
   ]
  },
  {
   "cell_type": "code",
   "execution_count": null,
   "id": "fb185a07-ee37-4065-9f0c-034f5f5120f7",
   "metadata": {
    "papermill": {},
    "tags": []
   },
   "outputs": [],
   "source": [
    "email = \"example@naas.ai\"\n",
    "firstname = \"Abi\"\n",
    "lastname = \"NAAS\"\n",
    "jobtitle = \"AI Assistant\"\n",
    "linkedin_url = \"https://www.linkedin/in/jeremyravenel\"\n",
    "phone = \"+33600000000\"\n",
    "company = \"Naas.ai\"\n",
    "body = {}"
   ]
  },
  {
   "cell_type": "markdown",
   "id": "038c9ff6-dc49-4e7f-91dd-818768f93a48",
   "metadata": {
    "execution": {
     "iopub.execute_input": "2023-09-26T17:20:36.759189Z",
     "iopub.status.busy": "2023-09-26T17:20:36.758881Z",
     "iopub.status.idle": "2023-09-26T17:20:36.765546Z",
     "shell.execute_reply": "2023-09-26T17:20:36.764836Z",
     "shell.execute_reply.started": "2023-09-26T17:20:36.759155Z"
    },
    "papermill": {},
    "tags": [
     "parameters"
    ]
   },
   "source": [
    "### Setup parameters\n",
    "The webhook body will be injected below this cell when the webhook is triggered. \n",
    "Therefore, it is important to set up how you will handle the injected variable from the body in order to make your script work.\n",
    "To receive the body from the webhook, please ensure that this cell is tagged as \"parameters\"."
   ]
  },
  {
   "cell_type": "code",
   "execution_count": null,
   "id": "9d9e3531-1500-46c1-b021-6ffe2bf12007",
   "metadata": {
    "papermill": {},
    "tags": []
   },
   "outputs": [],
   "source": [
    "# Parameters\n",
    "if len(body) > 0:\n",
    "    email = body.get(\"email\")\n",
    "    firstname = body.get(\"firstname\")\n",
    "    lastname = body.get(\"lastname\")\n",
    "    jobtitle = body.get(\"jobtitle\")\n",
    "    linkedin_url = body.get(\"linkedin_url\")\n",
    "    phone = body.get(\"phone\")\n",
    "    company = body.get(\"company\")"
   ]
  },
  {
   "cell_type": "markdown",
   "id": "blind-dover",
   "metadata": {
    "papermill": {},
    "tags": []
   },
   "source": [
    "## Model"
   ]
  },
  {
   "cell_type": "markdown",
   "id": "a9ab7ef1-39b8-408b-a1b1-17abd491cd56",
   "metadata": {
    "papermill": {},
    "tags": []
   },
   "source": [
    "### Create contact"
   ]
  },
  {
   "cell_type": "code",
   "execution_count": null,
   "id": "27b63ca4-036e-4ec3-a8ee-cb2e0d133ca0",
   "metadata": {},
   "outputs": [],
   "source": [
    "status = \"ok\"\n",
    "message = f\"❌ Unable to Connect to Pipedrive. Contact not created: '{email}'\""
   ]
  },
  {
   "cell_type": "markdown",
   "id": "solved-mattress",
   "metadata": {
    "papermill": {},
    "tags": []
   },
   "source": [
    "## Output"
   ]
  },
  {
   "cell_type": "markdown",
   "id": "e5f8694a-b813-4d57-b2fa-86bef5a3f7dc",
   "metadata": {
    "papermill": {},
    "tags": []
   },
   "source": [
    "### Create or update Webhook"
   ]
  },
  {
   "cell_type": "code",
   "execution_count": null,
   "id": "4f6fbabd-ff97-4256-9b66-c45cff358cff",
   "metadata": {},
   "outputs": [],
   "source": [
    "naas.webhook.add()"
   ]
  },
  {
   "cell_type": "markdown",
   "id": "2ccacd56-cbba-4c18-80fa-82dee82cd591",
   "metadata": {
    "execution": {
     "iopub.execute_input": "2023-09-26T15:15:09.022426Z",
     "iopub.status.busy": "2023-09-26T15:15:09.022118Z",
     "iopub.status.idle": "2023-09-26T15:15:09.025782Z",
     "shell.execute_reply": "2023-09-26T15:15:09.025087Z",
     "shell.execute_reply.started": "2023-09-26T15:15:09.022389Z"
    },
    "papermill": {},
    "tags": []
   },
   "source": [
    "### Return JSON response\n",
    "Response sent to the browser before displayed in Chat UI."
   ]
  },
  {
   "cell_type": "code",
   "execution_count": null,
   "id": "7c1456e3-4ebf-4c50-a809-d73e12989ca1",
   "metadata": {
    "papermill": {},
    "tags": []
   },
   "outputs": [],
   "source": [
    "naas.webhook.respond_json(\n",
    "    {\n",
    "        \"status\": status, \n",
    "        \"message\": message\n",
    "    }\n",
    ")"
   ]
  }
 ],
 "metadata": {
  "kernelspec": {
   "display_name": "Python 3",
   "language": "python",
   "name": "python3"
  },
  "language_info": {
   "codemirror_mode": {
    "name": "ipython",
    "version": 3
   },
   "file_extension": ".py",
   "mimetype": "text/x-python",
   "name": "python",
   "nbconvert_exporter": "python",
   "pygments_lexer": "ipython3",
   "version": "3.9.6"
  },
  "naas": {
   "notebook_id": "41a54dd1b30076c3f50da00bf2b549912f8c38f2209b3752b0c22bd5c465df00",
   "notebook_path": "HubSpot/HubSpot_Create_contact.ipynb"
  },
  "papermill": {
   "default_parameters": {},
   "environment_variables": {},
   "parameters": {},
   "version": "2.3.3"
  }
 },
 "nbformat": 4,
 "nbformat_minor": 5
}
