{
 "cells": [
  {
   "cell_type": "markdown",
   "id": "recreational-precipitation",
   "metadata": {
    "execution": {
     "iopub.execute_input": "2021-01-25T08:00:35.294800Z",
     "iopub.status.busy": "2021-01-25T08:00:35.294557Z",
     "iopub.status.idle": "2021-01-25T08:00:35.307281Z",
     "shell.execute_reply": "2021-01-25T08:00:35.306468Z",
     "shell.execute_reply.started": "2021-01-25T08:00:35.294775Z"
    },
    "papermill": {},
    "tags": []
   },
   "source": [
    "<img width=\"10%\" alt=\"Naas\" src=\"https://landen.imgix.net/jtci2pxwjczr/assets/5ice39g4.png?w=160\"/>"
   ]
  },
  {
   "cell_type": "markdown",
   "id": "anticipated-teach",
   "metadata": {
    "papermill": {},
    "tags": []
   },
   "source": [
    "# HubSpot - Create contact from LinkedIn profile\n",
    "<a href=\"https://app.naas.ai/user-redirect/naas/downloader?url=https://raw.githubusercontent.com/jupyter-naas/awesome-notebooks/master/HubSpot/HubSpot_Create_contact_from_LinkedIn_profile.ipynb\" target=\"_parent\"><img src=\"https://naasai-public.s3.eu-west-3.amazonaws.com/Open_in_Naas_Lab.svg\"/></a><br><br><a href=\"https://bit.ly/3JyWIk6\">Give Feedback</a> | <a href=\"https://github.com/jupyter-naas/awesome-notebooks/issues/new?assignees=&labels=bug&template=bug_report.md&title=HubSpot+-+Create+contact+from+LinkedIn+profile:+Error+short+description\">Bug report</a>"
   ]
  },
  {
   "cell_type": "markdown",
   "id": "6f9a2cbe-a573-488b-88aa-c505a38b3ef5",
   "metadata": {
    "papermill": {},
    "tags": []
   },
   "source": [
    "**Tags:** #hubspot #linkedin #profile #naas_drivers #snippet #sales"
   ]
  },
  {
   "cell_type": "markdown",
   "id": "22dbfea6-e1b5-4ed3-bc81-71d4f44ef0aa",
   "metadata": {
    "papermill": {},
    "tags": []
   },
   "source": [
    "**Author:** [Florent Ravenel](https://www.linkedin.com/in/florent-ravenel/)"
   ]
  },
  {
   "cell_type": "markdown",
   "id": "4b8a6c3a-ac09-474a-bcc5-585c1773c7cd",
   "metadata": {
    "papermill": {},
    "tags": []
   },
   "source": [
    "**Last update:** 2023-04-12 (Created: 2022-10-13)"
   ]
  },
  {
   "cell_type": "markdown",
   "id": "00057beb-0a1e-4f78-9638-9cace5d41aa6",
   "metadata": {
    "execution": {
     "iopub.execute_input": "2022-10-13T07:41:20.662431Z",
     "iopub.status.busy": "2022-10-13T07:41:20.662171Z",
     "iopub.status.idle": "2022-10-13T07:41:20.676126Z",
     "shell.execute_reply": "2022-10-13T07:41:20.675109Z",
     "shell.execute_reply.started": "2022-10-13T07:41:20.662368Z"
    },
    "papermill": {},
    "tags": []
   },
   "source": [
    "**Description:** This notebook creates a contact in HubSpot from a LinkedIn profile URL with:\n",
    "- email\n",
    "- linkedinbio\n",
    "- phone and mobilephone\n",
    "- website\n",
    "- twitterhandle\n",
    "- firstname\n",
    "- lastname\n",
    "- info\n",
    "- jobtitle\n",
    "- industry\n",
    "- city\n",
    "- state\n",
    "- country\n",
    "- job_function\n",
    "- company\n",
    "- field_of_study"
   ]
  },
  {
   "cell_type": "markdown",
   "id": "attractive-bandwidth",
   "metadata": {
    "papermill": {},
    "tags": []
   },
   "source": [
    "## Input"
   ]
  },
  {
   "cell_type": "markdown",
   "id": "c7f3b369-02c8-47c4-9324-a4ad2ba7d958",
   "metadata": {
    "papermill": {},
    "tags": []
   },
   "source": [
    "### Import libraries"
   ]
  },
  {
   "cell_type": "code",
   "execution_count": 8,
   "id": "2730c90a-bafd-47c8-b904-d17a68a94832",
   "metadata": {
    "execution": {
     "iopub.execute_input": "2023-08-09T09:38:04.983491Z",
     "iopub.status.busy": "2023-08-09T09:38:04.983262Z",
     "iopub.status.idle": "2023-08-09T09:38:04.986523Z",
     "shell.execute_reply": "2023-08-09T09:38:04.985882Z",
     "shell.execute_reply.started": "2023-08-09T09:38:04.983467Z"
    },
    "papermill": {},
    "tags": []
   },
   "outputs": [],
   "source": [
    "import naas\n",
    "from naas_drivers import hubspot, linkedin\n",
    "from os import path, mkdir"
   ]
  },
  {
   "cell_type": "markdown",
   "id": "ce38b15b-f4cc-4aaa-8bac-8800cf080105",
   "metadata": {
    "papermill": {},
    "tags": []
   },
   "source": [
    "### Setup HubSpot\n",
    "👉 Starting November 30, 2022, HubSpot API keys no longer enable access to HubSpot APIs, so in Naas version 2.8.3 and above, you need [create a private app and use the access token](https://developers.hubspot.com/docs/api/private-apps)."
   ]
  },
  {
   "cell_type": "code",
   "execution_count": 11,
   "id": "cf4f2795-d79d-4d1a-85fd-8f0efdcb03b3",
   "metadata": {
    "execution": {
     "iopub.execute_input": "2023-08-09T09:38:11.928009Z",
     "iopub.status.busy": "2023-08-09T09:38:11.927608Z",
     "iopub.status.idle": "2023-08-09T09:38:12.072785Z",
     "shell.execute_reply": "2023-08-09T09:38:12.072011Z",
     "shell.execute_reply.started": "2023-08-09T09:38:11.927971Z"
    },
    "papermill": {},
    "tags": []
   },
   "outputs": [],
   "source": [
    "# Enter Your Access Token\n",
    "HS_ACCESS_TOKEN = naas.secret.get(\"HS_ACCESS_TOKEN\") or \"YOUR_HS_ACCESS_TOKEN\""
   ]
  },
  {
   "cell_type": "markdown",
   "id": "7a3b15f4-7011-429e-bcb1-e23f945426d6",
   "metadata": {
    "papermill": {},
    "tags": []
   },
   "source": [
    "### Setup LinkedIn\n",
    "If you are using the Chrome Extension:\n",
    "\n",
    "- [Install Naas Chrome Extension](https://chrome.google.com/webstore/detail/naas/cpkgfedlkfiknjpkmhcglmjiefnechpp?hl=fr&authuser=0)\n",
    "- [Create a new token](https://app.naas.ai/hub/token)\n",
    "- Copy/Paste your token in your extension\n",
    "- Login/Logout your LinkedIn account\n",
    "- Your secrets \"LINKEDIN_LI_AT\" and \"LINKEDIN_JSESSIONID\" will be added directly on your naas everytime you login and logout.\n",
    "\n",
    "or <br>\n",
    "\n",
    "If you are not using the Google Chrome Extension, [learn how to get your cookies on LinkedIn](https://www.notion.so/LinkedIn-driver-Get-your-cookies-d20a8e7e508e42af8a5b52e33f3dba75) and set up the values below:\n",
    "- 🍪 li_at\n",
    "- 🍪 JSESSIONID"
   ]
  },
  {
   "cell_type": "code",
   "execution_count": null,
   "id": "e044256d-72ef-450e-93d8-7b2e1a401c9a",
   "metadata": {
    "papermill": {},
    "tags": []
   },
   "outputs": [],
   "source": [
    "# Cookies\n",
    "LI_AT = naas.secret.get(\"LINKEDIN_LI_AT\") or \"YOUR_COOKIE_LI_AT\"\n",
    "JSESSIONID = naas.secret.get(\"LINKEDIN_JSESSIONID\") or \"YOUR_COOKIE_JSESSIONID\"\n",
    "\n",
    "# LinkedIn profile to be created\n",
    "LINKEDIN_PROFILE_URL = \"https://www.linkedin.com/in/gabriele-venturi/\"\n",
    "\n",
    "# Directory to stored data extracted from LinkedIn\n",
    "# By default data will be stored in a folder named with the LinkedIn public ID on the same folder of your notebook\n",
    "DIR_PATH = None  # EXAMPLE: 'outputs/contact-name'"
   ]
  },
  {
   "cell_type": "markdown",
   "id": "8434e3b5-8675-48f6-b05e-3bb4e09f325a",
   "metadata": {
    "papermill": {},
    "tags": []
   },
   "source": [
    "## Model"
   ]
  },
  {
   "cell_type": "markdown",
   "id": "ea4cc202-6b9d-4395-a302-de89eb31d7ec",
   "metadata": {
    "papermill": {},
    "tags": []
   },
   "source": [
    "### Setup outputs path if needed"
   ]
  },
  {
   "cell_type": "code",
   "execution_count": null,
   "id": "f86755c3-96b1-440b-ac11-cdd976aaadec",
   "metadata": {
    "papermill": {},
    "tags": []
   },
   "outputs": [],
   "source": [
    "if DIR_PATH is None:\n",
    "    DIR_PATH = LINKEDIN_PROFILE_URL.split(\"/in/\")[-1].split(\"/\")[0]\n",
    "    print(\"-> Data will be stored in folder:\", DIR_PATH)"
   ]
  },
  {
   "cell_type": "markdown",
   "id": "37a499b3-feeb-42ce-9373-2cf837f844c0",
   "metadata": {
    "papermill": {},
    "tags": []
   },
   "source": [
    "### Create directory to store result"
   ]
  },
  {
   "cell_type": "code",
   "execution_count": null,
   "id": "b894082c-7a88-4217-954a-e3db30ccb899",
   "metadata": {
    "papermill": {},
    "tags": []
   },
   "outputs": [],
   "source": [
    "def create_dir(dir_path):\n",
    "    if not path.exists(dir_path):\n",
    "        mkdir(dir_path)"
   ]
  },
  {
   "cell_type": "markdown",
   "id": "06549ab0-32b7-4f77-a375-86aa11cea492",
   "metadata": {
    "papermill": {},
    "tags": []
   },
   "source": [
    "### Get LinkedIn info"
   ]
  },
  {
   "cell_type": "code",
   "execution_count": null,
   "id": "bf470df1-c3c4-43f8-8f4a-05d396ac6fe2",
   "metadata": {
    "papermill": {},
    "tags": []
   },
   "outputs": [],
   "source": [
    "def get_linkedin_info(url, info, dir_path=None):\n",
    "    if info == \"identity\":\n",
    "        df = linkedin.connect(LI_AT, JSESSIONID).profile.get_identity(url)\n",
    "    elif info == \"network\":\n",
    "        df = linkedin.connect(LI_AT, JSESSIONID).profile.get_network(url)\n",
    "    elif info == \"contact\":\n",
    "        df = linkedin.connect(LI_AT, JSESSIONID).profile.get_contact(url)\n",
    "    elif info == \"resume\":\n",
    "        df = linkedin.connect(LI_AT, JSESSIONID).profile.get_resume(url)\n",
    "    elif info == \"company\":\n",
    "        df = linkedin.connect(LI_AT, JSESSIONID).company.get_info(url)\n",
    "\n",
    "    if len(df) > 0:\n",
    "        if \"PROFILE_ID\" in df.columns:\n",
    "            linkedin_id = df.loc[0, \"PROFILE_ID\"]\n",
    "        elif \"COMPANY_ID\" in df.columns:\n",
    "            linkedin_id = df.loc[0, \"COMPANY_ID\"]\n",
    "        # Setup directory path\n",
    "        if dir_path is None:\n",
    "            dir_path = linkedin_id\n",
    "\n",
    "        # Create directory\n",
    "        create_dir(dir_path)\n",
    "\n",
    "        # File path\n",
    "        file_path = f\"LINKEDIN_{info.upper()}_{linkedin_id}.csv\"\n",
    "\n",
    "        # Save dataframe in csv\n",
    "        df.to_csv(path.join(dir_path, file_path), index=False)\n",
    "    return df"
   ]
  },
  {
   "cell_type": "markdown",
   "id": "ae5a7d0a-251c-49e2-9d00-ad2f46ffc2ba",
   "metadata": {
    "papermill": {},
    "tags": []
   },
   "source": [
    "### Create contact in HubSpot"
   ]
  },
  {
   "cell_type": "code",
   "execution_count": null,
   "id": "d48a148e-3cb6-4f38-8c6e-b45e428cbf65",
   "metadata": {
    "papermill": {},
    "tags": []
   },
   "outputs": [],
   "source": [
    "def create_hubspot_contact(df, properties={}):\n",
    "    if len(df) > 0:\n",
    "        # Init variables\n",
    "        email = str(df.iloc[0][\"EMAIL\"])\n",
    "        public_id = str(df.iloc[0][\"PUBLIC_ID\"])\n",
    "        profile_id = str(df.iloc[0][\"PROFILE_ID\"])\n",
    "        linkedinbio = str(df.iloc[0][\"PROFILE_URL\"])\n",
    "        phone = str(df.iloc[0][\"PHONENUMBER\"])\n",
    "        website = str(df.iloc[0][\"WEBSITES\"])\n",
    "        twitterhandle = str(df.iloc[0][\"TWITTER\"])\n",
    "\n",
    "        # If the email is not in LinkedIn profile then populate LINKEDIN_ID@TBD.com\n",
    "        if email == \"None\":\n",
    "            email = f\"{public_id}@unknown-email.com\"\n",
    "\n",
    "        # Update json properties\n",
    "        properties[\"email\"] = email\n",
    "        properties[\"linkedinbio\"] = linkedinbio\n",
    "        properties[\"phone\"] = phone\n",
    "        properties[\"mobilephone\"] = phone\n",
    "        properties[\"website\"] = website\n",
    "        properties[\"twitterhandle\"] = twitterhandle\n",
    "\n",
    "    contact_id = hubspot.connect(HS_ACCESS_TOKEN).contacts.send(\n",
    "        {\"properties\": properties}\n",
    "    )\n",
    "    print(f\"✅ Contact {email} created in HubSpot: {properties}\")\n",
    "    return properties, contact_id, public_id"
   ]
  },
  {
   "cell_type": "markdown",
   "id": "8c4ccf7a-5438-4249-af3b-5384cf4e9104",
   "metadata": {
    "papermill": {},
    "tags": []
   },
   "source": [
    "### Update Contact Owner in HubSpot"
   ]
  },
  {
   "cell_type": "code",
   "execution_count": null,
   "id": "b3d17a59-f706-4ea7-9a6d-9356e3e7e043",
   "metadata": {
    "papermill": {},
    "tags": []
   },
   "outputs": [],
   "source": [
    "def update_hubspot_owner(owner_id, hs_object_id, hubspot_owner_id=\"\", properties={}):\n",
    "    if str(hubspot_owner_id) != owner_id:\n",
    "        properties = {\"hubspot_owner_id\": owner_id}\n",
    "        hubspot.connect(HS_ACCESS_TOKEN).contacts.patch(\n",
    "            hs_object_id, {\"properties\": properties}\n",
    "        )\n",
    "        print(f\"✅ Contact owner updated in HubSpot: {owner_id}\")\n",
    "    else:\n",
    "        print(f\"👉 Contact owner already set in HubSpot: {owner_id}\")\n",
    "    return properties"
   ]
  },
  {
   "cell_type": "markdown",
   "id": "5e8bd0bd-5812-4188-874f-ed2162401cee",
   "metadata": {
    "papermill": {},
    "tags": []
   },
   "source": [
    "### Update LinkedIn identity in HubSpot"
   ]
  },
  {
   "cell_type": "code",
   "execution_count": null,
   "id": "31abf3d6-cd59-4d6c-a45c-1875c0c384ff",
   "metadata": {
    "papermill": {},
    "tags": []
   },
   "outputs": [],
   "source": [
    "def update_hubspot_lk_identity(df, hs_object_id, properties={}):\n",
    "    if len(df) > 0:\n",
    "        # Init variables\n",
    "        firstname = str(df.iloc[0][\"FIRSTNAME\"])\n",
    "        lastname = str(df.iloc[0][\"LASTNAME\"])\n",
    "        info = str(df.iloc[0][\"SUMMARY\"])\n",
    "        jobtitle = str(df.iloc[0][\"OCCUPATION\"])\n",
    "        industry = str(df.iloc[0][\"INDUSTRY_NAME\"])\n",
    "        city = \"None\"\n",
    "        state = \"None\"\n",
    "        region = str(df.iloc[0][\"REGION\"])\n",
    "        if region != \"None\":\n",
    "            r = region.split(\",\")\n",
    "            if len(r) > 1:\n",
    "                city = region.split(\",\")[0].strip()\n",
    "                state = region.split(\",\")[1].strip()\n",
    "            else:\n",
    "                state = region\n",
    "        country = str(df.iloc[0][\"COUNTRY\"])\n",
    "\n",
    "        # Update json properties\n",
    "        properties[\"firstname\"] = firstname\n",
    "        properties[\"lastname\"] = lastname\n",
    "        properties[\"info\"] = info\n",
    "        properties[\"jobtitle\"] = jobtitle\n",
    "        properties[\"industry\"] = industry\n",
    "        properties[\"city\"] = city\n",
    "        properties[\"state\"] = state\n",
    "        properties[\"country\"] = country\n",
    "\n",
    "    hubspot.connect(HS_ACCESS_TOKEN).contacts.patch(\n",
    "        hs_object_id, {\"properties\": properties}\n",
    "    )\n",
    "    print(f\"✅ Contact identity updated in HubSpot: {properties}\")\n",
    "    return properties"
   ]
  },
  {
   "cell_type": "markdown",
   "id": "6c2a5ccf-f3a0-4783-a4a9-2dd2b777ae7c",
   "metadata": {
    "papermill": {},
    "tags": []
   },
   "source": [
    "### Update LinkedIn network in HubSpot"
   ]
  },
  {
   "cell_type": "code",
   "execution_count": null,
   "id": "09c0e507-e119-4c49-9c8b-000551a190b2",
   "metadata": {
    "papermill": {},
    "tags": []
   },
   "outputs": [],
   "source": [
    "def update_hubspot_lk_network(df, hs_object_id, properties={}):\n",
    "    if len(df) > 0:\n",
    "        # Init variables\n",
    "        linkedinconnections = df.iloc[0][\"FOLLOWERS_COUNT\"]\n",
    "        linkedin_distance = df.iloc[0][\"DISTANCE\"]\n",
    "\n",
    "        # Update json properties\n",
    "        properties[\"linkedinconnections\"] = linkedinconnections\n",
    "        properties[\"linkedin_distance\"] = linkedin_distance\n",
    "\n",
    "    hubspot.connect(HS_ACCESS_TOKEN).contacts.patch(\n",
    "        hs_object_id, {\"properties\": properties}\n",
    "    )\n",
    "    print(f\"✅ Contact network updated in HubSpot: {properties}\")\n",
    "    return properties"
   ]
  },
  {
   "cell_type": "markdown",
   "id": "6f28c724-2795-489a-9f5f-71ffcc9b7fb5",
   "metadata": {
    "papermill": {},
    "tags": []
   },
   "source": [
    "### Update LinkedIn resume in HubSpot"
   ]
  },
  {
   "cell_type": "code",
   "execution_count": null,
   "id": "622fa063-d788-49ed-8f32-f5896ef56033",
   "metadata": {
    "papermill": {},
    "tags": []
   },
   "outputs": [],
   "source": [
    "def update_hubspot_lk_resume(df, hs_object_id, dir_path=None, properties={}):\n",
    "    if len(df) > 0:\n",
    "        df_exp = df[df[\"CATEGORY\"] == \"Experience\"].reset_index(drop=True)\n",
    "        if len(df_exp) > 0:\n",
    "            # Job function\n",
    "            properties[\"job_function\"] = str(df_exp.iloc[0][\"TITLE\"])\n",
    "            # Company\n",
    "            properties[\"company\"] = str(df_exp.iloc[0][\"PLACE\"])\n",
    "            company_id = str(df_exp.iloc[0][\"PLACE_ID\"])\n",
    "            get_linkedin_info(company_id, \"company\", dir_path=dir_path)\n",
    "\n",
    "        df_study = df[df[\"CATEGORY\"] == \"Education\"].reset_index(drop=True)\n",
    "        if len(df_study) > 0:\n",
    "            # Field of study\n",
    "            properties[\"field_of_study\"] = str(df_study.iloc[0][\"FIELD\"])\n",
    "\n",
    "    hubspot.connect(HS_ACCESS_TOKEN).contacts.patch(\n",
    "        hs_object_id, {\"properties\": properties}\n",
    "    )\n",
    "    print(f\"✅ Contact resume updated in HubSpot: {properties}\")\n",
    "    return properties"
   ]
  },
  {
   "cell_type": "markdown",
   "id": "7a196b1e-9c0d-4adf-a042-c73c32b5ab3e",
   "metadata": {
    "papermill": {},
    "tags": []
   },
   "source": [
    "## Output"
   ]
  },
  {
   "cell_type": "markdown",
   "id": "6087084a-4f5f-4321-82a2-6ff2d2b41033",
   "metadata": {
    "execution": {
     "iopub.execute_input": "2022-10-12T09:26:35.554469Z",
     "iopub.status.busy": "2022-10-12T09:26:35.554245Z",
     "iopub.status.idle": "2022-10-12T09:26:35.557110Z",
     "shell.execute_reply": "2022-10-12T09:26:35.556480Z",
     "shell.execute_reply.started": "2022-10-12T09:26:35.554446Z"
    },
    "papermill": {},
    "tags": []
   },
   "source": [
    "### Update contact in HubSpot"
   ]
  },
  {
   "cell_type": "code",
   "execution_count": null,
   "id": "e2a1b9a0-7d0b-4514-bf6a-4b57320edf49",
   "metadata": {
    "papermill": {},
    "tags": []
   },
   "outputs": [],
   "source": [
    "def create_contact_husbpot(linkedin_url, owner_id, dir_path=None):\n",
    "    # Init properties\n",
    "    properties = {}\n",
    "\n",
    "    # Update LinkedIn contact in HubSpot\n",
    "    df_contact = get_linkedin_info(linkedin_url, \"contact\", dir_path)\n",
    "    p_c, hs_object_id, email = create_hubspot_contact(df_contact)\n",
    "    dir_path = email\n",
    "    properties.update(p_c)\n",
    "\n",
    "    # Update Contact Owner in HubSpot\n",
    "    p_o = update_hubspot_owner(owner_id, hs_object_id)\n",
    "    properties.update(p_o)\n",
    "\n",
    "    # Update LinkedIn identity in HubSpot\n",
    "    df_identity = get_linkedin_info(linkedin_url, \"identity\", dir_path)\n",
    "    p_i = update_hubspot_lk_identity(df_identity, hs_object_id)\n",
    "    properties.update(p_i)\n",
    "\n",
    "    # Update LinkedIn network in HubSpot\n",
    "    df_network = get_linkedin_info(linkedin_url, \"network\", dir_path)\n",
    "    p_n = update_hubspot_lk_network(df_network, hs_object_id)\n",
    "    properties.update(p_n)\n",
    "\n",
    "    # Update LinkedIn resume in HubSpot\n",
    "    df_resume = get_linkedin_info(linkedin_url, \"resume\", dir_path)\n",
    "    p_r = update_hubspot_lk_resume(df_resume, hs_object_id, dir_path)\n",
    "    properties.update(p_r)\n",
    "    print(f\"\\n✅ Contact successfully created in HubSpot: {linkedin_url}\", properties)\n",
    "\n",
    "\n",
    "create_contact_husbpot(LINKEDIN_PROFILE_URL, HS_OWNER_ID, DIR_PATH)"
   ]
  }
 ],
 "metadata": {
  "kernelspec": {
   "display_name": "Python 3",
   "language": "python",
   "name": "python3"
  },
  "language_info": {
   "codemirror_mode": {
    "name": "ipython",
    "version": 3
   },
   "file_extension": ".py",
   "mimetype": "text/x-python",
   "name": "python",
   "nbconvert_exporter": "python",
   "pygments_lexer": "ipython3",
   "version": "3.9.6"
  },
  "naas": {
   "notebook_id": "a10c1080b82d40f568861bec9c4fb24ff42d65d11b78ddc719282e46a2afffaf",
   "notebook_path": "HubSpot/HubSpot_Create_contact_from_LinkedIn_profile.ipynb"
  },
  "papermill": {
   "default_parameters": {},
   "environment_variables": {},
   "parameters": {},
   "version": "2.3.3"
  },
  "widgets": {
   "application/vnd.jupyter.widget-state+json": {
    "state": {},
    "version_major": 2,
    "version_minor": 0
   }
  }
 },
 "nbformat": 4,
 "nbformat_minor": 5
}
