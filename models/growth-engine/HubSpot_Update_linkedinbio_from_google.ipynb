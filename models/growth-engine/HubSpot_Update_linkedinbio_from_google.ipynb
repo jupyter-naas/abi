{
 "cells": [
  {
   "cell_type": "markdown",
   "id": "centered-medicaid",
   "metadata": {
    "papermill": {},
    "tags": []
   },
   "source": [
    "<img width=\"10%\" alt=\"HubSpot\" src=\"https://raw.githubusercontent.com/jupyter-naas/awesome-notebooks/master/.github/assets/logos/HubSpot.png\" style=\"border-radius: 15%\">"
   ]
  },
  {
   "cell_type": "markdown",
   "id": "olive-printing",
   "metadata": {
    "papermill": {},
    "tags": []
   },
   "source": [
    "# HubSpot - Update linkedinbio from google\n",
    "<a href=\"https://app.naas.ai/user-redirect/naas/downloader?url=https://raw.githubusercontent.com/jupyter-naas/awesome-notebooks/master/HubSpot/HubSpot_Update_linkedinbio_from_google.ipynb\" target=\"_parent\"><img src=\"https://naasai-public.s3.eu-west-3.amazonaws.com/Open_in_Naas_Lab.svg\"/></a><br><br><a href=\"https://bit.ly/3JyWIk6\">Give Feedback</a> | <a href=\"https://github.com/jupyter-naas/awesome-notebooks/issues/new?assignees=&labels=bug&template=bug_report.md&title=HubSpot+-+Update+linkedinbio+from+google:+Error+short+description\">Bug report</a>"
   ]
  },
  {
   "cell_type": "markdown",
   "id": "internal-observer",
   "metadata": {
    "papermill": {},
    "tags": []
   },
   "source": [
    "**Tags:** #hubspot #crm #sales #contact #naas_drivers #googlesearch #scheduler #naas #automation"
   ]
  },
  {
   "cell_type": "markdown",
   "id": "b022a042-b1dd-4c34-b620-4c6f6ae30f37",
   "metadata": {
    "papermill": {},
    "tags": []
   },
   "source": [
    "**Author:** [Florent Ravenel](https://www.linkedin.com/in/florent-ravenel/)"
   ]
  },
  {
   "cell_type": "markdown",
   "id": "4d2684c3-1dce-41d4-8d40-3d4212d89742",
   "metadata": {
    "papermill": {},
    "tags": []
   },
   "source": [
    "**Last update:** 2023-04-12 (Created: 2022-02-21)"
   ]
  },
  {
   "cell_type": "markdown",
   "id": "d121927d-687a-4e07-85e9-5a16fc62a667",
   "metadata": {
    "execution": {
     "iopub.execute_input": "2022-05-04T15:09:33.115516Z",
     "iopub.status.busy": "2022-05-04T15:09:33.115158Z",
     "iopub.status.idle": "2022-05-04T15:09:33.129981Z",
     "shell.execute_reply": "2022-05-04T15:09:33.128646Z",
     "shell.execute_reply.started": "2022-05-04T15:09:33.115489Z"
    },
    "papermill": {},
    "tags": []
   },
   "source": [
    "**Description:** This notebook update HubSpot linkedin URL based on Google Search with firstname and lastname."
   ]
  },
  {
   "cell_type": "markdown",
   "id": "saving-seventh",
   "metadata": {
    "papermill": {},
    "tags": []
   },
   "source": [
    "## Input"
   ]
  },
  {
   "cell_type": "markdown",
   "id": "cognitive-screening",
   "metadata": {
    "papermill": {},
    "tags": []
   },
   "source": [
    "### Import libraries"
   ]
  },
  {
   "cell_type": "code",
   "execution_count": null,
   "id": "respective-female",
   "metadata": {
    "papermill": {},
    "tags": []
   },
   "outputs": [],
   "source": [
    "from naas_drivers import hubspot\n",
    "import naas\n",
    "import pandas as pd\n",
    "from googlesearch import search\n",
    "import time\n",
    "import re"
   ]
  },
  {
   "cell_type": "markdown",
   "id": "resident-ending",
   "metadata": {
    "papermill": {},
    "tags": []
   },
   "source": [
    "### Setup HubSpot\n",
    "👉 Starting November 30, 2022, HubSpot API keys no longer enable access to HubSpot APIs, so in Naas version 2.8.3 and above, you need [create a private app and use the access token](https://developers.hubspot.com/docs/api/private-apps)."
   ]
  },
  {
   "cell_type": "code",
   "execution_count": null,
   "id": "regulated-jesus",
   "metadata": {
    "papermill": {},
    "tags": []
   },
   "outputs": [],
   "source": [
    "# Enter Your Access Token\n",
    "HS_ACCESS_TOKEN = naas.secret.get(\"HS_ACCESS_TOKEN\") or \"YOUR_HS_ACCESS_TOKEN\""
   ]
  },
  {
   "cell_type": "markdown",
   "id": "recreational-lemon",
   "metadata": {
    "papermill": {},
    "tags": []
   },
   "source": [
    "## Model"
   ]
  },
  {
   "cell_type": "markdown",
   "id": "dense-funds",
   "metadata": {
    "papermill": {},
    "tags": []
   },
   "source": [
    "### Get all contacts in Hubspot"
   ]
  },
  {
   "cell_type": "code",
   "execution_count": null,
   "id": "destroyed-thanksgiving",
   "metadata": {
    "papermill": {},
    "tags": []
   },
   "outputs": [],
   "source": [
    "properties_list = [\n",
    "    \"hs_object_id\",\n",
    "    \"firstname\",\n",
    "    \"lastname\",\n",
    "    \"linkedinbio\",\n",
    "    \"naas_user\",\n",
    "    \"naas_user_plan\"\n",
    "]\n",
    "hubspot_contacts = hubspot.connect(HS_ACCESS_TOKEN).contacts.get_all(properties_list)\n",
    "hubspot_contacts"
   ]
  },
  {
   "cell_type": "markdown",
   "id": "speaking-geneva",
   "metadata": {
    "papermill": {},
    "tags": []
   },
   "source": [
    "### Filter to get linkedinbio \"Not Defined\" and \"firstname\" and \"lastname\" defined"
   ]
  },
  {
   "cell_type": "code",
   "execution_count": null,
   "id": "compliant-spanish",
   "metadata": {
    "papermill": {},
    "tags": []
   },
   "outputs": [],
   "source": [
    "df_to_update = hubspot_contacts.copy()\n",
    "\n",
    "# Cleaning\n",
    "df_to_update = df_to_update.fillna(\"Not Defined\")\n",
    "\n",
    "# Filter on \"Not defined\"\n",
    "df_to_update = df_to_update[\n",
    "    (df_to_update.firstname != \"Not Defined\") &\n",
    "    (df_to_update.lastname != \"Not Defined\") &\n",
    "    (df_to_update.linkedinbio == \"Not Defined\") &\n",
    "    (df_to_update.naas_user == \"Yes\") &\n",
    "    (df_to_update.naas_user_plan == \"NAAS_FREE\")\n",
    "].sort_values(by=\"lastmodifieddate\", ascending=False).reset_index(drop=True)\n",
    "\n",
    "df_to_update"
   ]
  },
  {
   "cell_type": "markdown",
   "id": "excellent-charger",
   "metadata": {
    "papermill": {},
    "tags": []
   },
   "source": [
    "### Search bio in Google with firstname and lastname"
   ]
  },
  {
   "cell_type": "code",
   "execution_count": null,
   "id": "desirable-ceramic",
   "metadata": {
    "papermill": {},
    "tags": []
   },
   "outputs": [],
   "source": [
    "def get_bio(firstname, lastname):\n",
    "    # Init linkedinbio\n",
    "    linkedinbio = None\n",
    "\n",
    "    # Create query\n",
    "    query = f\"{firstname}+{lastname}+Linkedin\"\n",
    "    print(\"Google query: \", query)\n",
    "\n",
    "    # Search in Google\n",
    "    for i in search(query, tld=\"com\", num=10, stop=10, pause=2):\n",
    "        pattern = \"https:\\/\\/.+.linkedin.com\\/in\\/.([^?])+\"\n",
    "        result = re.search(pattern, i)\n",
    "\n",
    "        # Return value if result is not None\n",
    "        if result != None:\n",
    "            linkedinbio = result.group(0).replace(\" \", \"\")\n",
    "            return linkedinbio\n",
    "        else:\n",
    "            time.sleep(2)\n",
    "    return linkedinbio"
   ]
  },
  {
   "cell_type": "markdown",
   "id": "bulgarian-child",
   "metadata": {
    "papermill": {},
    "tags": []
   },
   "source": [
    "## Output"
   ]
  },
  {
   "cell_type": "code",
   "execution_count": null,
   "id": "concerned-exhibition",
   "metadata": {
    "papermill": {},
    "tags": []
   },
   "outputs": [],
   "source": [
    "for _, row in df_to_update.iterrows():\n",
    "    firstname = row.firstname\n",
    "    lastname = row.lastname\n",
    "\n",
    "    # Get linkedinbio\n",
    "    linkedinbio = get_bio(firstname, lastname)\n",
    "    df_to_update.loc[_, \"linkedinbio\"] = linkedinbio\n",
    "    \n",
    "    # Init data\n",
    "    data = {}\n",
    "\n",
    "    # Get data\n",
    "    hs_object_id = row.hs_object_id\n",
    "    linkedinbio = row.linkedinbio\n",
    "\n",
    "    # Update LK Bio\n",
    "    if linkedinbio != None:\n",
    "        data = {\"properties\": {\"linkedinbio\": linkedinbio}}\n",
    "    try:\n",
    "        hubspot.connect(HS_ACCESS_TOKEN).contacts.patch(hs_object_id, data)\n",
    "    except Exception as e:\n",
    "        print(e)\n",
    "\n",
    "df_to_update"
   ]
  },
  {
   "cell_type": "code",
   "execution_count": null,
   "id": "15404450-669b-41d2-9907-cee1b8dfa90c",
   "metadata": {},
   "outputs": [],
   "source": []
  }
 ],
 "metadata": {
  "kernelspec": {
   "display_name": "Python 3",
   "language": "python",
   "name": "python3"
  },
  "language_info": {
   "codemirror_mode": {
    "name": "ipython",
    "version": 3
   },
   "file_extension": ".py",
   "mimetype": "text/x-python",
   "name": "python",
   "nbconvert_exporter": "python",
   "pygments_lexer": "ipython3",
   "version": "3.9.6"
  },
  "naas": {
   "notebook_id": "73b8a92ef19787ace73fd804dc9fffc4cd440670a11edf54097e734a3151e145",
   "notebook_path": "HubSpot/HubSpot_Update_linkedinbio_from_google.ipynb"
  },
  "papermill": {
   "default_parameters": {},
   "environment_variables": {},
   "parameters": {},
   "version": "2.3.3"
  }
 },
 "nbformat": 4,
 "nbformat_minor": 5
}
