{
 "cells": [
  {
   "cell_type": "markdown",
   "id": "f60a7fd6-a35b-4d3e-b123-a441e2e0215a",
   "metadata": {
    "papermill": {},
    "tags": []
   },
   "source": [
    "<img width=\"8%\" alt=\"Naas.png\" src=\"https://raw.githubusercontent.com/jupyter-naas/awesome-notebooks/master/.github/assets/logos/Naas.png\" style=\"border-radius: 15%\">"
   ]
  },
  {
   "cell_type": "markdown",
   "id": "unlimited-internship",
   "metadata": {
    "papermill": {},
    "tags": []
   },
   "source": [
    "# Growth Pipeline"
   ]
  },
  {
   "cell_type": "markdown",
   "id": "3097faf3-b2b9-41fd-8589-f7718b5f919a",
   "metadata": {
    "papermill": {},
    "tags": []
   },
   "source": [
    "**Tags:** #naas #pipeline #jupyter #notebook #dataanalysis #workflow #streamline"
   ]
  },
  {
   "cell_type": "markdown",
   "id": "opposite-guatemala",
   "metadata": {
    "papermill": {},
    "tags": []
   },
   "source": [
    "**Author:** [Florent Ravenel](https://www.linkedin.com/in/florent-ravenel)"
   ]
  },
  {
   "cell_type": "markdown",
   "id": "bf2e0f26-7fdf-4351-9209-8bb54c5ef7e9",
   "metadata": {
    "papermill": {},
    "tags": []
   },
   "source": [
    "**Description:** This notebook creates a notebooks pipeline."
   ]
  },
  {
   "cell_type": "markdown",
   "id": "input_cell",
   "metadata": {
    "papermill": {},
    "tags": []
   },
   "source": [
    "## Input"
   ]
  },
  {
   "cell_type": "markdown",
   "id": "import_cell",
   "metadata": {
    "papermill": {},
    "tags": []
   },
   "source": [
    "### Import libraries"
   ]
  },
  {
   "cell_type": "code",
   "execution_count": null,
   "id": "funny-neighbor",
   "metadata": {
    "papermill": {},
    "tags": []
   },
   "outputs": [],
   "source": [
    "from naas.pipeline import (\n",
    "    Pipeline,\n",
    "    NotebookStep,\n",
    "    End,\n",
    "    ParallelStep,\n",
    "    DummyStep\n",
    ")\n",
    "from datetime import date\n",
    "import os\n",
    "import glob\n",
    "import naas\n",
    "import naas_data_product"
   ]
  },
  {
   "cell_type": "markdown",
   "id": "6f475768-fc35-49be-ab14-3e8e8a1b5b35",
   "metadata": {},
   "source": [
    "### Setup variables"
   ]
  },
  {
   "cell_type": "code",
   "execution_count": null,
   "id": "6d5c03ae-950f-45c1-b8ce-31938b1be8ff",
   "metadata": {
    "tags": [
     "parameters"
    ]
   },
   "outputs": [],
   "source": [
    "# Storage\n",
    "datalake_dir = naas.secret.get(\"ABI_DATALAKE_DIR\")\n",
    "api_key = naas.secret.get('NAAS_API_TOKEN')\n",
    "\n",
    "# Entity\n",
    "entity_index = \"0\"\n",
    "entity_name = pload(os.path.join(datalake_dir, \"entities\", entity_index), \"entity_name\") or \"\"\n",
    "emails = pload(os.path.join(datalake_dir, \"entities\", entity_index), \"emails\") or []\n",
    "linkedin_url = pload(os.path.join(datalake_dir, \"entities\", entity_index), \"linkedin_url\") or \"\"\n",
    "li_at = naas.secret.get(\"LINKEDIN_LI_AT\")\n",
    "JSESSIONID = naas.secret.get(\"LINKEDIN_JSESSIONID\")\n",
    "entity_dir = pload(os.path.join(datalake_dir, \"entities\", entity_index), \"entity_dir\") or \"\"\n",
    "\n",
    "# Google Sheets\n",
    "spreadsheet_url = pload(os.path.join(datalake_dir, \"entities\", entity_index), \"abi_spreadsheet\") or \"\"\n",
    "sheet_posts = \"POSTS\"\n",
    "sheet_interaction = \"INTERACTIONS\"\n",
    "sheet_growth = \"GROWTH\"\n",
    "sheet_people = \"PEOPLE\"\n",
    "sheet_people_organizations = \"ORGANIZATIONS\"\n",
    "sheet_contacts = \"CONTACTS\"\n",
    "\n",
    "# Engine\n",
    "engine_name = \"growth-engine\"\n",
    "assistant_name = \"Growth Assistant\"\n",
    "custom_pipeline_path = os.path.join(naas_data_product.MODELS_PATH, engine_name, \"custom\", \"__pipeline__.ipynb\")"
   ]
  },
  {
   "cell_type": "markdown",
   "id": "model_cell",
   "metadata": {
    "papermill": {},
    "tags": []
   },
   "source": [
    "## Model"
   ]
  },
  {
   "cell_type": "markdown",
   "id": "7f41cba9-2bdd-4cdb-a61d-dbe275503516",
   "metadata": {},
   "source": [
    "### Set environ"
   ]
  },
  {
   "cell_type": "code",
   "execution_count": null,
   "id": "e7b5de68-0ede-4114-83c3-3d26275816f6",
   "metadata": {
    "tags": []
   },
   "outputs": [],
   "source": [
    "os.environ[\"NAAS_API_TOKEN\"] = api_key\n",
    "os.environ[\"LINKEDIN_LI_AT\"] = li_at\n",
    "os.environ[\"LINKEDIN_JSESSIONID\"] = JSESSIONID"
   ]
  },
  {
   "cell_type": "markdown",
   "id": "c989fbd1-3544-4e16-aae2-f61f0e29f282",
   "metadata": {},
   "source": [
    "### Create output directory by date"
   ]
  },
  {
   "cell_type": "code",
   "execution_count": null,
   "id": "7b21733c-fecf-4ec9-b1f1-52dbdc5b4806",
   "metadata": {
    "tags": []
   },
   "outputs": [],
   "source": [
    "engine_dir = os.path.join(entity_dir, engine_name, date.today().isoformat())\n",
    "print(\"✅ Output directory:\", engine_dir)\n",
    "pipeline_dir = os.path.join(engine_dir, \"pipeline_executions\") if naas.is_production() else os.path.join(naas_data_product.MODELS_PATH, engine_name, \"pipeline_executions\")\n",
    "print(\"✅ Pipeline directory:\", pipeline_dir)"
   ]
  },
  {
   "cell_type": "markdown",
   "id": "980f0e63-4504-456f-afc9-73ac531b4df1",
   "metadata": {},
   "source": [
    "### Setup notebooks\n",
    "This section is made to declare all the notebooks and create unique IDs that will be used in the pipeline. "
   ]
  },
  {
   "cell_type": "code",
   "execution_count": null,
   "id": "fa346868-d375-4547-b11b-79311e3f1fc3",
   "metadata": {
    "papermill": {},
    "tags": []
   },
   "outputs": [],
   "source": [
    "linkedin = NotebookStep(\n",
    "    name=\"LinkedIn\",\n",
    "    notebook_path=os.path.join(naas_data_product.MODELS_PATH, engine_name, \"core\", \"domain\", \"LinkedIn_Get_interactions_from_posts.ipynb\"),\n",
    "    parameters={\n",
    "        \"entity_name\": entity_name,\n",
    "        \"spreadsheet_url\": spreadsheet_url,\n",
    "        \"sheet_posts\": sheet_posts,\n",
    "        \"li_at\": li_at,\n",
    "        \"JSESSIONID\": JSESSIONID,\n",
    "        \"output_dir\": engine_dir\n",
    "    }\n",
    ")\n",
    "interactions = NotebookStep(\n",
    "    name=\"Interactions\",\n",
    "    notebook_path=os.path.join(naas_data_product.MODELS_PATH, engine_name, \"core\", \"domain\", \"Google_Sheets_Update_interactions_db.ipynb\"),\n",
    "    parameters={\n",
    "        \"entity_dir\": entity_dir,\n",
    "        \"input_dir\": engine_dir,\n",
    "        \"output_dir\": engine_dir,\n",
    "        \"spreadsheet_url\": spreadsheet_url,\n",
    "        \"sheet_interaction\": sheet_interaction,\n",
    "    }\n",
    ")\n",
    "growth = NotebookStep(\n",
    "    name=\"Growth\",\n",
    "    notebook_path=os.path.join(naas_data_product.MODELS_PATH, engine_name, \"core\", \"domain\", \"Google_Sheets_Update_growth_db.ipynb\"),\n",
    "    parameters={\n",
    "        \"input_dir\": engine_dir,\n",
    "        \"output_dir\": engine_dir,\n",
    "        \"spreadsheet_url\": spreadsheet_url,\n",
    "        \"sheet_growth\": sheet_growth,\n",
    "    }\n",
    ")\n",
    "people = NotebookStep(\n",
    "    name=\"People\",\n",
    "    notebook_path=os.path.join(naas_data_product.MODELS_PATH, engine_name, \"core\", \"domain\", \"Google_Sheets_Update_people_db.ipynb\"),\n",
    "    parameters={\n",
    "        \"input_dir\": engine_dir,\n",
    "        \"api_key\": api_key,\n",
    "        \"li_at\": li_at,\n",
    "        \"JSESSIONID\": JSESSIONID,\n",
    "        \"spreadsheet_url\": spreadsheet_url,\n",
    "        \"sheet_people\": sheet_people,\n",
    "        \"output_dir\": engine_dir,\n",
    "        \"datalake_dir\": datalake_dir,\n",
    "    }\n",
    ")\n",
    "organizations = NotebookStep(\n",
    "    name=\"Organizations\",\n",
    "    notebook_path=os.path.join(naas_data_product.MODELS_PATH, engine_name, \"core\", \"domain\", \"Google_Sheets_Update_organizations_db.ipynb\"),\n",
    "    parameters={\n",
    "        \"input_dir\": engine_dir,\n",
    "        \"api_key\": api_key,\n",
    "        \"li_at\": li_at,\n",
    "        \"JSESSIONID\": JSESSIONID,\n",
    "        \"spreadsheet_url\": spreadsheet_url,\n",
    "        \"sheet_people_organizations\": sheet_people_organizations,\n",
    "        \"sheet_people\": sheet_people,\n",
    "        \"output_dir\": engine_dir,\n",
    "        \"datalake_dir\": datalake_dir,\n",
    "    }\n",
    ")\n",
    "contacts = NotebookStep(\n",
    "    name=\"Contacts\",\n",
    "    notebook_path=os.path.join(naas_data_product.MODELS_PATH, engine_name, \"core\", \"domain\", \"Google_Sheets_Update_contacts_view.ipynb\"),\n",
    "    parameters={\n",
    "        \"input_dir\": engine_dir,\n",
    "        \"api_key\": api_key,\n",
    "        \"spreadsheet_url\": spreadsheet_url,\n",
    "        \"sheet_contacts\": sheet_contacts,\n",
    "        \"entity_name\": entity_name,\n",
    "        \"linkedin_url\": linkedin_url,\n",
    "        \"datalake_dir\": datalake_dir,\n",
    "        \"output_dir\": engine_dir,\n",
    "    }\n",
    ")\n",
    "analytics = NotebookStep(\n",
    "    name=\"Analytics\",\n",
    "    notebook_path=os.path.join(naas_data_product.MODELS_PATH, engine_name, \"core\", \"domain\", \"Plotly_Follow_leads_by_cohorts.ipynb\"),\n",
    "    parameters={\n",
    "        \"input_dir\": engine_dir,\n",
    "        \"entity_name\": entity_name,\n",
    "        \"spreadsheet_url\": spreadsheet_url,\n",
    "        \"sheet_name\": sheet_growth,\n",
    "        \"linkedin_url\": linkedin_url,\n",
    "        \"output_dir\": engine_dir,\n",
    "    }\n",
    ")\n",
    "plugin = NotebookStep(\n",
    "    name=\"Plugin\",\n",
    "    notebook_path=os.path.join(naas_data_product.MODELS_PATH, engine_name, \"__plugin__.ipynb\"),\n",
    "    parameters={\n",
    "        \"input_dir\": engine_dir,\n",
    "        \"spreadsheet_url\": spreadsheet_url,\n",
    "        \"sheet_name\": sheet_growth,\n",
    "        \"name\": assistant_name,\n",
    "        \"entity_name\": entity_name,\n",
    "        \"output_dir\": os.path.join(entity_dir, \"plugins\")\n",
    "    }\n",
    ")\n",
    "email = NotebookStep(\n",
    "    name=\"Notification\",\n",
    "    notebook_path=os.path.join(naas_data_product.MODELS_PATH, engine_name, \"core\", \"domain\", \"Naas_Send_leads_generation_notification.ipynb\"),\n",
    "    parameters={\n",
    "        \"entity_dir\": entity_dir,\n",
    "        \"entity_name\": entity_name,\n",
    "        \"input_dir\": engine_dir,\n",
    "        \"spreadsheet_url\": spreadsheet_url,\n",
    "        \"sheet_name\": sheet_growth,\n",
    "        \"output_dir\": engine_dir,\n",
    "        \"email_to\": emails,\n",
    "    }\n",
    ")\n",
    "\n",
    "if os.path.exists(custom_pipeline_path):\n",
    "    custom = NotebookStep(\n",
    "        name=\"Custom\",\n",
    "        notebook_path=os.path.join(naas_data_product.MODELS_PATH, engine_name, \"custom\", \"__pipeline__.ipynb\"),\n",
    "        parameters={\n",
    "            \"datalake_dir\": datalake_dir,\n",
    "            \"api_key\": api_key,\n",
    "            \"entity_name\": entity_name,\n",
    "            \"entity_dir\": entity_dir,\n",
    "            \"spreadsheet_url\": spreadsheet_url,\n",
    "        }\n",
    "    )\n",
    "else:\n",
    "    custom = DummyStep(\"Custom\")"
   ]
  },
  {
   "cell_type": "markdown",
   "id": "712f6ff4-938c-41ca-822e-d2012db8b7d5",
   "metadata": {},
   "source": [
    "## Output"
   ]
  },
  {
   "cell_type": "markdown",
   "id": "eabd8817-11d3-4077-ad4a-0d3f673410f2",
   "metadata": {},
   "source": [
    "### Run pipeline"
   ]
  },
  {
   "cell_type": "code",
   "execution_count": null,
   "id": "507cbbe6-4d8c-4ba5-98f1-c844bb36b7bc",
   "metadata": {
    "tags": []
   },
   "outputs": [],
   "source": [
    "pipeline = Pipeline()\n",
    "\n",
    "pipeline >> linkedin >> interactions >> growth >> people >> organizations >> contacts >> analytics >> plugin >> email >> custom >> End()\n",
    "\n",
    "pipeline.run(outputs_path=pipeline_dir)"
   ]
  },
  {
   "cell_type": "code",
   "execution_count": null,
   "id": "fa0501e0-0ec9-4edd-ac59-f2643b5c837f",
   "metadata": {},
   "outputs": [],
   "source": []
  }
 ],
 "metadata": {
  "kernelspec": {
   "display_name": "Python 3",
   "language": "python",
   "name": "python3"
  },
  "language_info": {
   "codemirror_mode": {
    "name": "ipython",
    "version": 3
   },
   "file_extension": ".py",
   "mimetype": "text/x-python",
   "name": "python",
   "nbconvert_exporter": "python",
   "pygments_lexer": "ipython3",
   "version": "3.9.6"
  },
  "naas": {
   "notebook_id": "92ddbcf7c74813cc4c906ca6b7d04cc2590230b5fb16082b396de5b9872be0cf",
   "notebook_path": "Naas/Naas_Create_Pipeline.ipynb"
  },
  "papermill": {
   "default_parameters": {},
   "environment_variables": {},
   "parameters": {},
   "version": "2.3.3"
  }
 },
 "nbformat": 4,
 "nbformat_minor": 5
}
