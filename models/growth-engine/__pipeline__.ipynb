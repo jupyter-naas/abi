{
 "cells": [
  {
   "cell_type": "markdown",
   "id": "f60a7fd6-a35b-4d3e-b123-a441e2e0215a",
   "metadata": {
    "papermill": {},
    "tags": []
   },
   "source": [
    "<img width=\"8%\" alt=\"Naas.png\" src=\"https://raw.githubusercontent.com/jupyter-naas/awesome-notebooks/master/.github/assets/logos/Naas.png\" style=\"border-radius: 15%\">"
   ]
  },
  {
   "cell_type": "markdown",
   "id": "unlimited-internship",
   "metadata": {
    "papermill": {},
    "tags": []
   },
   "source": [
    "# Pipeline"
   ]
  },
  {
   "cell_type": "markdown",
   "id": "3097faf3-b2b9-41fd-8589-f7718b5f919a",
   "metadata": {
    "papermill": {},
    "tags": []
   },
   "source": [
    "**Tags:** #naas #pipeline #jupyter #notebook #dataanalysis #workflow #streamline"
   ]
  },
  {
   "cell_type": "markdown",
   "id": "opposite-guatemala",
   "metadata": {
    "papermill": {},
    "tags": []
   },
   "source": [
    "**Author:** [Florent Ravenel](https://www.linkedin.com/in/florent-ravenel)"
   ]
  },
  {
   "cell_type": "markdown",
   "id": "bf2e0f26-7fdf-4351-9209-8bb54c5ef7e9",
   "metadata": {
    "papermill": {},
    "tags": []
   },
   "source": [
    "**Description:** This notebook creates a notebooks pipeline."
   ]
  },
  {
   "cell_type": "markdown",
   "id": "input_cell",
   "metadata": {
    "papermill": {},
    "tags": []
   },
   "source": [
    "## Input"
   ]
  },
  {
   "cell_type": "markdown",
   "id": "import_cell",
   "metadata": {
    "papermill": {},
    "tags": []
   },
   "source": [
    "### Import libraries"
   ]
  },
  {
   "cell_type": "code",
   "execution_count": null,
   "id": "funny-neighbor",
   "metadata": {
    "papermill": {},
    "tags": []
   },
   "outputs": [],
   "source": [
    "from naas.pipeline import (\n",
    "    Pipeline,\n",
    "    NotebookStep,\n",
    "    End,\n",
    "    ParallelStep,\n",
    ")\n",
    "from datetime import date\n",
    "import os\n",
    "import glob\n",
    "import naas\n",
    "import naas_data_product"
   ]
  },
  {
   "cell_type": "markdown",
   "id": "6f475768-fc35-49be-ab14-3e8e8a1b5b35",
   "metadata": {},
   "source": [
    "### Setup variables"
   ]
  },
  {
   "cell_type": "code",
   "execution_count": null,
   "id": "6d5c03ae-950f-45c1-b8ce-31938b1be8ff",
   "metadata": {
    "tags": []
   },
   "outputs": [],
   "source": [
    "# Datalake\n",
    "datalake_dir = os.path.join(\"/\", \"home\", \"ftp\", \"abi\", \"outputs\")\n",
    "\n",
    "# LinkedIn\n",
    "li_at = naas.secret.get(\"LINKEDIN_LI_AT\") or \"YOUR_LINKEDIN_LI_AT\" #example: AQFAzQN_PLPR4wAAAXc-FCKmgiMit5FLdY1af3-2\n",
    "JSESSIONID = naas.secret.get(\"LINKEDIN_JSESSIONID\") or \"YOUR_LINKEDIN_JSESSIONID\" #example: ajax:8379907400220387585\n",
    "linkedin_url = pload(os.path.join(naas_data_product.OUTPUTS_PATH, \"entity\"), \"linkedin_url\") or \"YOUR_LINKEDIN_URL\"\n",
    "\n",
    "# Google Sheets\n",
    "spreadsheet_url = naas.secret.get(\"ABI_SPREADSHEET\") or \"YOUR_GOOGLE_SPREADSHEET_URL\"\n",
    "sheet_content = \"CONTENT\"\n",
    "sheet_interaction = \"INTERACTIONS\"\n",
    "sheet_growth = \"GROWTH\"\n",
    "sheet_leads = \"LEADS\"\n",
    "sheet_leads_companies = \"LEADS_COMPANIES\"\n",
    "\n",
    "# OpenAI API key\n",
    "openai_api_key = naas.secret.get(\"OPENAI_API_KEY\") or \"YOUR_OPENAI_API_KEY\"\n",
    "\n",
    "# Notification\n",
    "email_to = pload(os.path.join(naas_data_product.OUTPUTS_PATH, \"entity\"), \"emails\") or []\n",
    "\n",
    "# Scheduler\n",
    "cron = \"30 8 * * *\""
   ]
  },
  {
   "cell_type": "markdown",
   "id": "model_cell",
   "metadata": {
    "papermill": {},
    "tags": []
   },
   "source": [
    "## Model"
   ]
  },
  {
   "cell_type": "markdown",
   "id": "c989fbd1-3544-4e16-aae2-f61f0e29f282",
   "metadata": {},
   "source": [
    "### Create output directory by date"
   ]
  },
  {
   "cell_type": "code",
   "execution_count": null,
   "id": "7b21733c-fecf-4ec9-b1f1-52dbdc5b4806",
   "metadata": {
    "tags": []
   },
   "outputs": [],
   "source": [
    "growth_dir = os.path.join(datalake_dir, \"growth-engine\", date.today().isoformat())\n",
    "print(\"✅ Output directory:\", growth_dir)"
   ]
  },
  {
   "cell_type": "markdown",
   "id": "980f0e63-4504-456f-afc9-73ac531b4df1",
   "metadata": {},
   "source": [
    "### Setup notebooks\n",
    "This section is made to declare all the notebooks and create unique IDs that will be used in the pipeline. "
   ]
  },
  {
   "cell_type": "code",
   "execution_count": null,
   "id": "fa346868-d375-4547-b11b-79311e3f1fc3",
   "metadata": {
    "papermill": {},
    "tags": []
   },
   "outputs": [],
   "source": [
    "extraction = NotebookStep(\n",
    "    name=\"Get LinkedIn interactions\",\n",
    "    notebook_path=\"pipeline_templates/LinkedIn_Get_interactions_from_posts.ipynb\",\n",
    "    parameters={\n",
    "        \"spreadsheet_url\": spreadsheet_url,\n",
    "        \"sheet_name\": sheet_content,\n",
    "        \"li_at\": li_at,\n",
    "        \"JSESSIONID\": JSESSIONID,\n",
    "        \"output_dir\": growth_dir\n",
    "    }\n",
    ")\n",
    "cleaning = NotebookStep(\n",
    "    name=\"Interactions db\",\n",
    "    notebook_path=\"pipeline_templates/Google_Sheets_Update_interactions_db.ipynb\",\n",
    "    parameters={\n",
    "        \"input_dir\": growth_dir,\n",
    "        \"output_dir\": growth_dir,\n",
    "        \"spreadsheet_url\": spreadsheet_url,\n",
    "        \"sheet_name\": sheet_interaction,\n",
    "    }\n",
    ")\n",
    "growth = NotebookStep(\n",
    "    name=\"Growth db\",\n",
    "    notebook_path=\"pipeline_templates/Google_Sheets_Update_growth_db.ipynb\",\n",
    "    parameters={\n",
    "        \"input_dir\": growth_dir,\n",
    "        \"output_dir\": growth_dir,\n",
    "        \"spreadsheet_url\": spreadsheet_url,\n",
    "        \"sheet_name\": sheet_growth,\n",
    "    }\n",
    ")\n",
    "leads = NotebookStep(\n",
    "    name=\"Leads\",\n",
    "    notebook_path=\"pipeline_templates/Google_Sheets_Update_leads.ipynb\",\n",
    "    parameters={\n",
    "        \"input_dir\": growth_dir,\n",
    "        \"openai_api_key\": openai_api_key,\n",
    "        \"li_at\": li_at,\n",
    "        \"JSESSIONID\": JSESSIONID,\n",
    "        \"spreadsheet_url\": spreadsheet_url,\n",
    "        \"leads_profiles_name\": sheet_leads,\n",
    "        \"output_dir\": growth_dir,\n",
    "    }\n",
    ")\n",
    "leads_companies = NotebookStep(\n",
    "    name=\"Leads companies\",\n",
    "    notebook_path=\"pipeline_templates/Google_Sheets_Update_leads_companies.ipynb\",\n",
    "    parameters={\n",
    "        \"input_dir\": growth_dir,\n",
    "        \"openai_api_key\": openai_api_key,\n",
    "        \"li_at\": li_at,\n",
    "        \"JSESSIONID\": JSESSIONID,\n",
    "        \"spreadsheet_url\": spreadsheet_url,\n",
    "        \"leads_companies_name\": sheet_leads_companies,\n",
    "        \"leads_profiles_name\": sheet_leads,\n",
    "        \"output_dir\": growth_dir,\n",
    "    }\n",
    ")\n",
    "analytics = NotebookStep(\n",
    "    name=\"Create analytics\",\n",
    "    notebook_path=\"pipeline_templates/Plotly_Create_analytics.ipynb\",\n",
    "    parameters={\n",
    "        \"input_dir\": growth_dir,\n",
    "        \"linkedin_url\": linkedin_url,\n",
    "        \"output_dir\": growth_dir,\n",
    "    }\n",
    ")\n",
    "plugin = NotebookStep(\n",
    "    name=\"Generate plugin\",\n",
    "    notebook_path=\"__plugin__.ipynb\",\n",
    "    parameters={\n",
    "        \"input_dir\": growth_dir,\n",
    "        \"spreadsheet_url\": spreadsheet_url,\n",
    "        \"sheet_name\": sheet_content,\n",
    "    }\n",
    ")\n",
    "email = NotebookStep(\n",
    "    name=\"Send Email notification\",\n",
    "    notebook_path=\"pipeline_templates/Naas_Send_notification.ipynb\",\n",
    "    parameters={\n",
    "        \"input_dir\": growth_dir,\n",
    "        \"datalake_dir\": datalake_dir,\n",
    "        \"email_to\": email_to,\n",
    "    }\n",
    ")"
   ]
  },
  {
   "cell_type": "markdown",
   "id": "712f6ff4-938c-41ca-822e-d2012db8b7d5",
   "metadata": {},
   "source": [
    "## Output"
   ]
  },
  {
   "cell_type": "markdown",
   "id": "eabd8817-11d3-4077-ad4a-0d3f673410f2",
   "metadata": {},
   "source": [
    "### Run pipeline"
   ]
  },
  {
   "cell_type": "code",
   "execution_count": null,
   "id": "507cbbe6-4d8c-4ba5-98f1-c844bb36b7bc",
   "metadata": {
    "tags": []
   },
   "outputs": [],
   "source": [
    "pipeline = Pipeline()\n",
    "\n",
    "pipeline >> extraction >> cleaning >> growth >> leads >> leads_companies >> analytics >> plugin >> email >> End()\n",
    "\n",
    "pipeline.run(outputs_path=os.path.join(growth_dir, \"pipeline_executions\"))"
   ]
  },
  {
   "cell_type": "markdown",
   "id": "44a3bec6-bb00-4605-95da-ab0ebde6f5a2",
   "metadata": {},
   "source": [
    "### Add dependencies"
   ]
  },
  {
   "cell_type": "code",
   "execution_count": null,
   "id": "c634fc2e-ff0b-4eaf-ade0-36a1477c67e8",
   "metadata": {
    "tags": []
   },
   "outputs": [],
   "source": [
    "pipeline_templates = glob.glob(\"pipeline_templates/*.ipynb\")\n",
    "utils_files = glob.glob(f\"{naas_data_product.UTILS_PATH}/*.ipynb\")\n",
    "files = pipeline_templates + utils_files + [\"__plugin__.ipynb\"]\n",
    "\n",
    "for file in files: \n",
    "    naas.dependency.add(file)"
   ]
  },
  {
   "cell_type": "markdown",
   "id": "420e70d9-c5d7-4df9-a2b5-ad10b6055ebe",
   "metadata": {},
   "source": [
    "### Add scheduler"
   ]
  },
  {
   "cell_type": "code",
   "execution_count": null,
   "id": "65e1c5eb-aa56-45a1-adc1-e3053f668d85",
   "metadata": {
    "tags": []
   },
   "outputs": [],
   "source": [
    "naas.scheduler.add(cron=cron)\n",
    "\n",
    "# Uncomment the line below to delete your automation\n",
    "# naas.scheduler.delete()"
   ]
  },
  {
   "cell_type": "code",
   "execution_count": null,
   "id": "ff564238-1703-4526-9350-9633d9adf747",
   "metadata": {},
   "outputs": [],
   "source": []
  }
 ],
 "metadata": {
  "kernelspec": {
   "display_name": "Python 3",
   "language": "python",
   "name": "python3"
  },
  "language_info": {
   "codemirror_mode": {
    "name": "ipython",
    "version": 3
   },
   "file_extension": ".py",
   "mimetype": "text/x-python",
   "name": "python",
   "nbconvert_exporter": "python",
   "pygments_lexer": "ipython3",
   "version": "3.9.6"
  },
  "naas": {
   "notebook_id": "92ddbcf7c74813cc4c906ca6b7d04cc2590230b5fb16082b396de5b9872be0cf",
   "notebook_path": "Naas/Naas_Create_Pipeline.ipynb"
  },
  "papermill": {
   "default_parameters": {},
   "environment_variables": {},
   "parameters": {},
   "version": "2.3.3"
  }
 },
 "nbformat": 4,
 "nbformat_minor": 5
}
