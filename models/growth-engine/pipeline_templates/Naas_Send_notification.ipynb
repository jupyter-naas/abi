{
 "cells": [
  {
   "cell_type": "markdown",
   "id": "6bc9306f-e8ca-4a8b-8281-d81ce4b12818",
   "metadata": {
    "papermill": {},
    "tags": []
   },
   "source": [
    "<img width=\"8%\" alt=\"Naas.png\" src=\"https://raw.githubusercontent.com/jupyter-naas/awesome-notebooks/master/.github/assets/logos/Naas.png\" style=\"border-radius: 15%\">"
   ]
  },
  {
   "cell_type": "markdown",
   "id": "subjective-dialogue",
   "metadata": {
    "papermill": {},
    "tags": []
   },
   "source": [
    "# Naas - Send notification"
   ]
  },
  {
   "cell_type": "markdown",
   "id": "588aefd6-7a2d-4bcd-b06f-351e07199586",
   "metadata": {
    "papermill": {},
    "tags": []
   },
   "source": [
    "**Tags:** #naas #emailbuilder #snippet #operations"
   ]
  },
  {
   "cell_type": "markdown",
   "id": "a4de884f-6e75-4aa3-af33-e77375eb2dc8",
   "metadata": {
    "papermill": {},
    "tags": []
   },
   "source": [
    "**Author:** [Florent Ravenel](https://www.linkedin.com/in/ACoAABCNSioBW3YZHc2lBHVG0E_TXYWitQkmwog/)"
   ]
  },
  {
   "cell_type": "markdown",
   "id": "naas-description",
   "metadata": {
    "papermill": {},
    "tags": [
     "description"
    ]
   },
   "source": [
    "**Description:** This notebook send a notification with your latest posts performance."
   ]
  },
  {
   "cell_type": "markdown",
   "id": "aquatic-smile",
   "metadata": {
    "papermill": {},
    "tags": []
   },
   "source": [
    "## Input"
   ]
  },
  {
   "cell_type": "markdown",
   "id": "import_cell",
   "metadata": {
    "papermill": {},
    "tags": []
   },
   "source": [
    "### Import libraries"
   ]
  },
  {
   "cell_type": "code",
   "execution_count": null,
   "id": "stopped-yeast",
   "metadata": {
    "papermill": {},
    "tags": []
   },
   "outputs": [],
   "source": [
    "from naas_drivers import emailbuilder, gsheet\n",
    "import naas\n",
    "import os\n",
    "import naas_data_product\n",
    "from datetime import date, datetime, timedelta\n",
    "from naas_drivers import naasauth"
   ]
  },
  {
   "cell_type": "markdown",
   "id": "b65667cb-300f-48d7-9df0-c602fe004a36",
   "metadata": {
    "papermill": {},
    "tags": []
   },
   "source": [
    "### Setup variables\n",
    "**Inputs**\n",
    "- `spreadsheet_url`: Google Sheets spreadsheet URL.\n",
    "- `sheet_name`: Google Sheets sheet name.\n",
    "- `input_dir`: Input directory to retrieve file from.\n",
    "- `datalake_dir`: Datalake directory to retrieve plugin json file.\n",
    "\n",
    "**Outputs**\n",
    "- `email_to`: This variable is used for storing a list of email addresses that will receive the notification email. In this case, the list contains the email address of the script user, which is retrieved using the naasauth.connect().user.me().get(\"username\") method.\n",
    "- `subject`: This variable is used for storing the subject of the notification email. In this case, the subject is \"🖼️ Content Engine: LinkedIn profile update\"."
   ]
  },
  {
   "cell_type": "code",
   "execution_count": null,
   "id": "absent-coach",
   "metadata": {
    "papermill": {},
    "tags": [
     "parameters"
    ]
   },
   "outputs": [],
   "source": [
    "# Inputs\n",
    "input_dir = os.path.join(naas_data_product.OUTPUTS_PATH, \"growth-engine\", date.today().isoformat())\n",
    "input_file = \"growth_trend\"\n",
    "input_image = \"growth_trend.png\"\n",
    "input_html = \"growth_trend.html\"\n",
    "datalake_dir = naas_data_product.OUTPUTS_PATH\n",
    "\n",
    "# Outputs\n",
    "email_to = pload(os.path.join(naas_data_product.OUTPUTS_PATH, \"entity\"), \"emails\") or []\n",
    "email_subject = f\"🚀 Growth Assistant - Email Update, {datetime.now().strftime('%Y-%m-%d %H:%M:%S')}\""
   ]
  },
  {
   "cell_type": "markdown",
   "id": "particular-chemical",
   "metadata": {
    "papermill": {},
    "tags": []
   },
   "source": [
    "## Model"
   ]
  },
  {
   "cell_type": "markdown",
   "id": "b5254dba-1db5-46f4-b81d-a067192a94de",
   "metadata": {},
   "source": [
    "### Get assets"
   ]
  },
  {
   "cell_type": "code",
   "execution_count": null,
   "id": "b88fe016-8cd3-45c1-a7f7-e2fdc00d306d",
   "metadata": {
    "tags": []
   },
   "outputs": [],
   "source": [
    "image_url = get_image_asset(input_dir, input_image)\n",
    "print(\"Image URL:\", image_url)\n",
    "\n",
    "image_html = get_image_asset(input_dir, input_html)\n",
    "print(\"Image HTML:\", image_html)\n",
    "\n",
    "plugin_url = naas.asset.find(os.path.join(datalake_dir, \"plugins\", \"🚀_growth_assistant.json\"))\n",
    "print(\"Plugin URL:\", plugin_url)"
   ]
  },
  {
   "cell_type": "markdown",
   "id": "129edb3f-476a-4d54-9c0c-55bb3746a58f",
   "metadata": {
    "papermill": {},
    "tags": []
   },
   "source": [
    "### Get data from Google Sheets spreadsheet"
   ]
  },
  {
   "cell_type": "code",
   "execution_count": null,
   "id": "b099025f-c9bb-4063-af80-09c0eed6ec6d",
   "metadata": {
    "papermill": {},
    "tags": []
   },
   "outputs": [],
   "source": [
    "# Get data\n",
    "df_init = pload(input_dir, input_file) \n",
    "\n",
    "# Filter on this week and last week\n",
    "tw = date.today().strftime(\"W%W-%Y\")\n",
    "lw = (date.today() - timedelta(days=date.today().weekday() + 7)).strftime(\"W%W-%Y\")\n",
    "df_init = df_init[df_init[\"LABEL\"].isin([tw, lw])]\n",
    "\n",
    "# Display result\n",
    "print(\"Rows:\", len(df_init))\n",
    "df_init.head(10)"
   ]
  },
  {
   "cell_type": "markdown",
   "id": "a1ef3100-42ff-4843-864a-411e911479b5",
   "metadata": {},
   "source": [
    "### Prep values for email"
   ]
  },
  {
   "cell_type": "code",
   "execution_count": null,
   "id": "38d8276d-eb40-477e-a3c2-585487580041",
   "metadata": {
    "tags": []
   },
   "outputs": [],
   "source": [
    "# Get data\n",
    "df_init = pload(input_dir, input_file) \n",
    "\n",
    "# Groupby weeks\n",
    "df = df_init.groupby([\"LABEL\", \"LABEL_D\"], as_index=False).agg({\"VALUE\": \"sum\"})\n",
    "df = df.sort_values(by=\"LABEL\", ascending=False).reset_index(drop=True)\n",
    "df\n",
    "\n",
    "def format_number(num):\n",
    "    num = str(\"{:,.0f}\".format(num)).replace(\",\", \" \")\n",
    "    return num\n",
    "\n",
    "kpis = []\n",
    "for row in df.itertuples():\n",
    "    index = row.Index\n",
    "    label = row.LABEL_D\n",
    "    value = row.VALUE\n",
    "    varv = 0\n",
    "    if index + 1 < len(df):\n",
    "        varv = value - df.loc[index + 1, \"VALUE\"]\n",
    "    varv_d = f\" ({format_number(varv)} vs last week)\"\n",
    "    if varv == 0:\n",
    "        varv_d = \"\"\n",
    "    kpis.append(f\"{label} : <b>{format_number(value)}{varv_d}</b>\")\n",
    "print(kpis)"
   ]
  },
  {
   "cell_type": "markdown",
   "id": "c8a69d2e-43c4-4d60-b333-63ba379f4017",
   "metadata": {},
   "source": [
    "### Create Email brief"
   ]
  },
  {
   "cell_type": "code",
   "execution_count": null,
   "id": "08679f52-a01a-4146-9755-4108030b7a63",
   "metadata": {
    "tags": []
   },
   "outputs": [],
   "source": [
    "def email_brief(\n",
    "    kpis,\n",
    "    plugin_url,\n",
    "    image_url,\n",
    "    image_html,\n",
    "):\n",
    "    content = {\n",
    "        'title': \"🚀 Growth Assistant - Email Update\",\n",
    "        'heading': (f\"Date: {date.today().isoformat()}\"),\n",
    "        \"txt_intro\": (\n",
    "            f\"Hi there,<br><br>\" f\"Here is your growth engine email as of {date.today().isoformat()}.\"\n",
    "        ),\n",
    "        \"title_1\": emailbuilder.text(\n",
    "            \"Overview\", font_size=\"27px\", text_align=\"center\", bold=True\n",
    "        ),\n",
    "        \"image_1\": emailbuilder.image(image_url, image_html),\n",
    "        \"text_1\": emailbuilder.text(\n",
    "            \"Here are your content indicators stats vs last week:\"\n",
    "        ),\n",
    "        \"list_1\": emailbuilder.list(kpis),\n",
    "        \"button_1\": emailbuilder.button(\n",
    "            link=(f\"https://naas.ai/chat/use?plugin_url={plugin_url}\"),\n",
    "            text=\"Start Chatting With Assistant\",\n",
    "            background_color=\"#181a1c\",\n",
    "        ),\n",
    "        \"footer_cs\": emailbuilder.footer_company(naas=True),\n",
    "    }\n",
    "\n",
    "    email_content = emailbuilder.generate(display=\"iframe\", **content)\n",
    "    return email_content\n",
    "\n",
    "\n",
    "email_content = email_brief(\n",
    "    kpis,\n",
    "    plugin_url,\n",
    "    image_url,\n",
    "    image_html\n",
    ")"
   ]
  },
  {
   "cell_type": "markdown",
   "id": "aging-settlement",
   "metadata": {
    "papermill": {},
    "tags": []
   },
   "source": [
    "## Output"
   ]
  },
  {
   "cell_type": "markdown",
   "id": "display_cell",
   "metadata": {
    "papermill": {},
    "tags": []
   },
   "source": [
    "### Send the email"
   ]
  },
  {
   "cell_type": "code",
   "execution_count": null,
   "id": "fewer-sailing",
   "metadata": {
    "papermill": {},
    "tags": []
   },
   "outputs": [],
   "source": [
    "naas.notification.send(\n",
    "    email_to=email_to,\n",
    "    subject=email_subject,\n",
    "    html=email_content,\n",
    ")"
   ]
  },
  {
   "cell_type": "code",
   "execution_count": null,
   "id": "222edf35-14b1-4f52-9421-836fb1a65234",
   "metadata": {},
   "outputs": [],
   "source": []
  }
 ],
 "metadata": {
  "kernelspec": {
   "display_name": "Python 3",
   "language": "python",
   "name": "python3"
  },
  "language_info": {
   "codemirror_mode": {
    "name": "ipython",
    "version": 3
   },
   "file_extension": ".py",
   "mimetype": "text/x-python",
   "name": "python",
   "nbconvert_exporter": "python",
   "pygments_lexer": "ipython3",
   "version": "3.9.6"
  },
  "naas": {
   "notebook_id": "a5f1933d-ce28-4c8e-858a-3bb67631a1e1",
   "notebook_path": "Naas/Naas_Emailbuilder_demo.ipynb"
  },
  "papermill": {
   "default_parameters": {},
   "environment_variables": {},
   "parameters": {},
   "version": "2.3.3"
  }
 },
 "nbformat": 4,
 "nbformat_minor": 5
}
