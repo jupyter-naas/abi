{
 "cells": [
  {
   "cell_type": "markdown",
   "id": "6bc9306f-e8ca-4a8b-8281-d81ce4b12818",
   "metadata": {
    "papermill": {},
    "tags": []
   },
   "source": [
    "<img width=\"8%\" alt=\"Naas.png\" src=\"https://raw.githubusercontent.com/jupyter-naas/awesome-notebooks/master/.github/assets/logos/Naas.png\" style=\"border-radius: 15%\">"
   ]
  },
  {
   "cell_type": "markdown",
   "id": "subjective-dialogue",
   "metadata": {
    "papermill": {},
    "tags": []
   },
   "source": [
    "# Naas - Send notification"
   ]
  },
  {
   "cell_type": "markdown",
   "id": "588aefd6-7a2d-4bcd-b06f-351e07199586",
   "metadata": {
    "papermill": {},
    "tags": []
   },
   "source": [
    "**Tags:** #naas #emailbuilder #growth-engine"
   ]
  },
  {
   "cell_type": "markdown",
   "id": "a4de884f-6e75-4aa3-af33-e77375eb2dc8",
   "metadata": {
    "papermill": {},
    "tags": []
   },
   "source": [
    "**Author:** [Florent Ravenel](https://www.linkedin.com/in/ACoAABCNSioBW3YZHc2lBHVG0E_TXYWitQkmwog/)"
   ]
  },
  {
   "cell_type": "markdown",
   "id": "naas-description",
   "metadata": {
    "papermill": {},
    "tags": [
     "description"
    ]
   },
   "source": [
    "**Description:** This notebook send a notification with your growth performance."
   ]
  },
  {
   "cell_type": "markdown",
   "id": "aquatic-smile",
   "metadata": {
    "papermill": {},
    "tags": []
   },
   "source": [
    "## Input"
   ]
  },
  {
   "cell_type": "markdown",
   "id": "import_cell",
   "metadata": {
    "papermill": {},
    "tags": []
   },
   "source": [
    "### Import libraries"
   ]
  },
  {
   "cell_type": "code",
   "execution_count": null,
   "id": "stopped-yeast",
   "metadata": {
    "papermill": {},
    "tags": []
   },
   "outputs": [],
   "source": [
    "from naas_drivers import emailbuilder, gsheet\n",
    "import naas\n",
    "import os\n",
    "import naas_data_product\n",
    "from datetime import date, datetime, timedelta\n",
    "from naas_drivers import naasauth\n",
    "import pandas as pd"
   ]
  },
  {
   "cell_type": "markdown",
   "id": "b65667cb-300f-48d7-9df0-c602fe004a36",
   "metadata": {
    "papermill": {},
    "tags": []
   },
   "source": [
    "### Setup variables\n",
    "**Inputs**\n",
    "- `spreadsheet_url`: Google Sheets spreadsheet URL.\n",
    "- `sheet_name`: Google Sheets sheet name.\n",
    "- `input_dir`: Input directory to retrieve file from.\n",
    "- `datalake_dir`: Datalake directory to retrieve plugin json file.\n",
    "\n",
    "**Outputs**\n",
    "- `email_to`: This variable is used for storing a list of email addresses that will receive the notification email. In this case, the list contains the email address of the script user, which is retrieved using the naasauth.connect().user.me().get(\"username\") method.\n",
    "- `subject`: This variable is used for storing the subject of the notification email. In this case, the subject is \"🖼️ Content Engine: LinkedIn profile update\"."
   ]
  },
  {
   "cell_type": "code",
   "execution_count": null,
   "id": "absent-coach",
   "metadata": {
    "papermill": {},
    "tags": [
     "parameters"
    ]
   },
   "outputs": [],
   "source": [
    "# Inputs\n",
    "input_dir = os.path.join(naas_data_product.OUTPUTS_PATH, \"growth-engine\", date.today().isoformat())\n",
    "input_image = \"growth_trend.png\"\n",
    "input_html = \"growth_trend.html\"\n",
    "datalake_dir = naas_data_product.OUTPUTS_PATH\n",
    "spreadsheet_url = naas.secret.get(\"ABI_SPREADSHEET\") or \"YOUR_GOOGLE_SPREADSHEET_URL\"\n",
    "sheet_name_input = \"GROWTH\"\n",
    "\n",
    "# Outputs\n",
    "email_to = pload(os.path.join(naas_data_product.OUTPUTS_PATH, \"entity\"), \"emails\") or []\n",
    "output_dir = os.path.join(naas_data_product.OUTPUTS_PATH, \"content-engine\", date.today().isoformat())"
   ]
  },
  {
   "cell_type": "markdown",
   "id": "particular-chemical",
   "metadata": {
    "papermill": {},
    "tags": []
   },
   "source": [
    "## Model"
   ]
  },
  {
   "cell_type": "markdown",
   "id": "eb29a015-c40f-4e48-b07a-85ea4b672c21",
   "metadata": {},
   "source": [
    "### Set outputs"
   ]
  },
  {
   "cell_type": "code",
   "execution_count": null,
   "id": "7306ea0c-9bb3-4fd1-b5b3-65c8589ac5f1",
   "metadata": {
    "tags": []
   },
   "outputs": [],
   "source": [
    "entity_name = pload(os.path.join(naas_data_product.OUTPUTS_PATH, \"entity\"), \"entity_name\") or \"\"\n",
    "timestamp_email = datetime.now(TIMEZONE).strftime('%Y-%m-%d %H:%M:%S')\n",
    "timestamp_csv = datetime.now(TIMEZONE).strftime('%Y%m%d%H%M%S')\n",
    "email_subject = f\"🚀 Growth Assistant Report - {entity_name} ({timestamp_email})\"\n",
    "csv_output = os.path.join(output_dir, f\"{timestamp_csv}_{TW}_growth-assistant-report_{entity_name.lower().replace(' ', '_')}.csv\")\n",
    "print(\"- CSV output:\", csv_output)"
   ]
  },
  {
   "cell_type": "markdown",
   "id": "b5254dba-1db5-46f4-b81d-a067192a94de",
   "metadata": {},
   "source": [
    "### Get assets"
   ]
  },
  {
   "cell_type": "code",
   "execution_count": null,
   "id": "b88fe016-8cd3-45c1-a7f7-e2fdc00d306d",
   "metadata": {
    "tags": []
   },
   "outputs": [],
   "source": [
    "image_url = get_image_asset(input_dir, input_image)\n",
    "print(\"- Image URL:\", image_url)\n",
    "\n",
    "image_html = get_image_asset(input_dir, input_html)\n",
    "print(\"- Image HTML:\", image_html)\n",
    "\n",
    "plugin_url = naas.asset.find(os.path.join(datalake_dir, \"plugins\", \"🚀_growth_assistant.json\"))\n",
    "print(\"- Plugin URL:\", plugin_url)"
   ]
  },
  {
   "cell_type": "markdown",
   "id": "129edb3f-476a-4d54-9c0c-55bb3746a58f",
   "metadata": {
    "papermill": {},
    "tags": []
   },
   "source": [
    "### Get data"
   ]
  },
  {
   "cell_type": "code",
   "execution_count": null,
   "id": "b099025f-c9bb-4063-af80-09c0eed6ec6d",
   "metadata": {
    "papermill": {},
    "tags": []
   },
   "outputs": [],
   "source": [
    "df_input = pload(input_dir, \"growth\")    \n",
    "if df_input is None:\n",
    "    df_input = gsheet.connect(spreadsheet_url).get(sheet_name=sheet_name_input)\n",
    "\n",
    "# Filter on this week\n",
    "df_input = df_input[df_input[\"SCENARIO\"].isin([TW])]\n",
    "\n",
    "# Display result\n",
    "df_input.to_csv(csv_output, index=False)\n",
    "print(f\"- Leads generated {TW}:\", len(df_input))\n",
    "# df_input.head(1)"
   ]
  },
  {
   "cell_type": "markdown",
   "id": "a1ef3100-42ff-4843-864a-411e911479b5",
   "metadata": {},
   "source": [
    "### Create 'Performance' details"
   ]
  },
  {
   "cell_type": "code",
   "execution_count": null,
   "id": "38d8276d-eb40-477e-a3c2-585487580041",
   "metadata": {
    "tags": []
   },
   "outputs": [],
   "source": [
    "# Init\n",
    "kpis = []\n",
    "\n",
    "# Get detailed data\n",
    "data = pload(input_dir, \"growth_trend\")\n",
    "\n",
    "# Get aggregated data\n",
    "df = data.groupby([\"LABEL\", \"LABEL_D\"], as_index=False).agg({\"VALUE\": \"sum\"})\n",
    "df = df.sort_values(by=\"LABEL\", ascending=False).reset_index(drop=True)\n",
    "\n",
    "# Get main kpis\n",
    "for row in df.itertuples():\n",
    "    index = row.Index\n",
    "    label = row.LABEL\n",
    "    label_d = row.LABEL_D\n",
    "    value = row.VALUE\n",
    "    value_n1 = 0\n",
    "    \n",
    "    # Get value n1\n",
    "    if index + 1 < len(df):\n",
    "        value_n1 = df.loc[index + 1, \"VALUE\"]\n",
    "        \n",
    "    # Calc variation in value and create string to be displayed\n",
    "    varv = value - value_n1\n",
    "    if varv > 0:\n",
    "        varv_d = f\" (+{format_number(varv)})\"\n",
    "    elif varv == 0:\n",
    "        varv_d = \"\"\n",
    "    else:\n",
    "        varv_d = f\" (-{format_number(varv)})\"\n",
    "    main_kpi = f\"{label_d} : <b>{format_number(value)}{varv_d}</b><span style='font-size: 15px;'>\"\n",
    "    \n",
    "    # Get details kpis\n",
    "    tmp_df = data[data[\"LABEL\"] == label].sort_values(by=\"ORDER\", ascending=False).reset_index(drop=True)\n",
    "    for row_d in tmp_df.itertuples():    \n",
    "        group = row_d.GROUP\n",
    "        value_group = row_d.VALUE\n",
    "        if value == 0:\n",
    "            pourcentage = 0\n",
    "        else:\n",
    "            pourcentage = round(value_group * 100 / value)\n",
    "        main_kpi = f\"{main_kpi}<ul>{group}: {format_number(value_group)} ({format_number(pourcentage)}%)</ul>\"\n",
    "    main_kpi = f\"{main_kpi}</span>\"\n",
    "    kpis.append(main_kpi)\n",
    "print(kpis)"
   ]
  },
  {
   "cell_type": "markdown",
   "id": "c8a69d2e-43c4-4d60-b333-63ba379f4017",
   "metadata": {},
   "source": [
    "### Create Email brief"
   ]
  },
  {
   "cell_type": "code",
   "execution_count": null,
   "id": "08679f52-a01a-4146-9755-4108030b7a63",
   "metadata": {
    "tags": []
   },
   "outputs": [],
   "source": [
    "def email_brief(\n",
    "    kpis,\n",
    "    plugin_url,\n",
    "    image_url,\n",
    "    image_html,\n",
    "):\n",
    "    content = {\n",
    "        'heading': \"🚀 Growth Assistant\",\n",
    "        \"txt_intro\": (\n",
    "            f\"Hi {entity_name.split(' ')[0]},<br><br>\" \"I hope this email finds you well. Here is the latest update on your growth performance.\"\n",
    "        ),\n",
    "        \"title_1\": emailbuilder.text(\n",
    "            \"Overview\", font_size=\"25px\", text_align=\"center\", bold=True\n",
    "        ),\n",
    "        \"image_1\": emailbuilder.image(image_url, image_html),\n",
    "        \"title_2\": emailbuilder.text(\n",
    "            \"Performance\", font_size=\"25px\", text_align=\"center\", bold=True\n",
    "        ),\n",
    "        \"text_1\": emailbuilder.text(\n",
    "            \"Statistics vs last week:\",\n",
    "            underline=True,\n",
    "        ),\n",
    "        \"list_1\": emailbuilder.list(kpis),\n",
    "        \"button_1\": emailbuilder.button(\n",
    "            link=(f\"https://naas.ai/chat/use?plugin_url={plugin_url}\"),\n",
    "            text=\"Start Chatting\",\n",
    "            background_color=\"#181a1c\",\n",
    "        ),\n",
    "        \"footer_cs\": emailbuilder.footer_company(naas=True),\n",
    "    }\n",
    "\n",
    "    email_content = emailbuilder.generate(display=\"iframe\", **content)\n",
    "    return email_content\n",
    "\n",
    "\n",
    "email_content = email_brief(\n",
    "    kpis,\n",
    "    plugin_url,\n",
    "    image_url,\n",
    "    image_html\n",
    ")"
   ]
  },
  {
   "cell_type": "markdown",
   "id": "aging-settlement",
   "metadata": {
    "papermill": {},
    "tags": []
   },
   "source": [
    "## Output"
   ]
  },
  {
   "cell_type": "markdown",
   "id": "display_cell",
   "metadata": {
    "papermill": {},
    "tags": []
   },
   "source": [
    "### Send the email"
   ]
  },
  {
   "cell_type": "code",
   "execution_count": null,
   "id": "fewer-sailing",
   "metadata": {
    "papermill": {},
    "tags": []
   },
   "outputs": [],
   "source": [
    "if len(email_to) > 0:\n",
    "    naas.notification.send(\n",
    "        email_to=email_to,\n",
    "        subject=email_subject,\n",
    "        html=email_content,\n",
    "        files=[csv_output],\n",
    "    )"
   ]
  },
  {
   "cell_type": "code",
   "execution_count": null,
   "id": "222edf35-14b1-4f52-9421-836fb1a65234",
   "metadata": {},
   "outputs": [],
   "source": []
  }
 ],
 "metadata": {
  "kernelspec": {
   "display_name": "Python 3",
   "language": "python",
   "name": "python3"
  },
  "language_info": {
   "codemirror_mode": {
    "name": "ipython",
    "version": 3
   },
   "file_extension": ".py",
   "mimetype": "text/x-python",
   "name": "python",
   "nbconvert_exporter": "python",
   "pygments_lexer": "ipython3",
   "version": "3.9.6"
  },
  "naas": {
   "notebook_id": "a5f1933d-ce28-4c8e-858a-3bb67631a1e1",
   "notebook_path": "Naas/Naas_Emailbuilder_demo.ipynb"
  },
  "papermill": {
   "default_parameters": {},
   "environment_variables": {},
   "parameters": {},
   "version": "2.3.3"
  }
 },
 "nbformat": 4,
 "nbformat_minor": 5
}
