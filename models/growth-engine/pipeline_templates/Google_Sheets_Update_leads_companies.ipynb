{
 "cells": [
  {
   "cell_type": "markdown",
   "id": "international-creativity",
   "metadata": {
    "papermill": {},
    "tags": []
   },
   "source": [
    "<img width=\"8%\" alt=\"Google Sheets.png\" src=\"https://raw.githubusercontent.com/jupyter-naas/awesome-notebooks/master/.github/assets/logos/Google%20Sheets.png\" style=\"border-radius: 15%\">"
   ]
  },
  {
   "cell_type": "markdown",
   "id": "unlimited-bookmark",
   "metadata": {
    "papermill": {},
    "tags": []
   },
   "source": [
    "# Google Sheets - Update leads companies"
   ]
  },
  {
   "cell_type": "markdown",
   "id": "tags_cell",
   "metadata": {
    "papermill": {},
    "tags": []
   },
   "source": [
    "**Tags:** #googlesheets #gsheet #data #naas_drivers #growth #leads #companies #openai #linkedin"
   ]
  },
  {
   "cell_type": "markdown",
   "id": "fbbbbc71-6333-4a70-b371-c9b82f8b5299",
   "metadata": {
    "papermill": {},
    "tags": []
   },
   "source": [
    "**Author:** [Florent Ravenel](https://www.linkedin.com/in/florent-ravenel/)"
   ]
  },
  {
   "cell_type": "markdown",
   "id": "naas-description",
   "metadata": {
    "papermill": {},
    "tags": [
     "description"
    ]
   },
   "source": [
    "**Description:** This notebook updates your leads companies database enrich it with data from LinkedIn and check if they already exists inside your CRM."
   ]
  },
  {
   "cell_type": "markdown",
   "id": "input_cell",
   "metadata": {
    "papermill": {},
    "tags": []
   },
   "source": [
    "## Input"
   ]
  },
  {
   "cell_type": "markdown",
   "id": "55d9e878-2148-47e3-a13d-09ba77202893",
   "metadata": {
    "papermill": {},
    "tags": []
   },
   "source": [
    "### Import libraries"
   ]
  },
  {
   "cell_type": "code",
   "execution_count": null,
   "id": "5fad521a-4a18-4dc7-b13d-98a37172715b",
   "metadata": {
    "papermill": {},
    "tags": []
   },
   "outputs": [],
   "source": [
    "from naas_drivers import gsheet, linkedin\n",
    "import pandas as pd\n",
    "import os\n",
    "from datetime import date\n",
    "import naas_data_product\n",
    "import openai\n",
    "import time\n",
    "from googlesearch import search\n",
    "import re"
   ]
  },
  {
   "cell_type": "markdown",
   "id": "ec39e794-a8cd-41b8-9489-9ddb962a601c",
   "metadata": {
    "papermill": {},
    "tags": []
   },
   "source": [
    "### Setup variables\n",
    "**Inputs**\n",
    "- `input_dir`: Input directory to retrieve file from.\n",
    "- `file_interactions`: Name of the file to be retrieved.\n",
    "- `file_leads`: Name of the file to be retrieved.\n",
    "- `openai_api_key`: OpenAI API Key.\n",
    "- `li_at`: Cookie used to authenticate Members and API clients.\n",
    "- `JSESSIONID`: Cookie used for Cross Site Request Forgery (CSRF) protection and URL signature validation.\n",
    "- `spreadsheet_url`: Google Sheets spreadsheet URL.\n",
    "- `ref_companies_name`: Google Sheets sheet name storing companies from your CRM.\n",
    "- `leads_companies_name`: Google Sheets sheet name storing leads profiles.\n",
    "- `leads_profiles_name`: Google Sheets sheet name storing leads profiles.\n",
    "\n",
    "**Outputs**\n",
    "- `output_dir`: Output directory to save file to.\n",
    "- `file_leads_companies`: Output file name to save as picke."
   ]
  },
  {
   "cell_type": "code",
   "execution_count": null,
   "id": "7c34bff6-9136-4aaf-a692-b38129b7de83",
   "metadata": {
    "papermill": {},
    "tags": [
     "parameters"
    ]
   },
   "outputs": [],
   "source": [
    "# Inputs\n",
    "input_dir = os.path.join(naas_data_product.OUTPUTS_PATH, \"growth-engine\", date.today().isoformat())\n",
    "file_interactions = \"linkedin_interactions\"\n",
    "file_leads = \"leads\"\n",
    "openai_api_key = naas.secret.get(\"OPENAI_API_KEY\")\n",
    "li_at = naas.secret.get(\"LINKEDIN_LI_AT\") or \"YOUR_LINKEDIN_LI_AT\" #example: AQFAzQN_PLPR4wAAAXc-FCKmgiMit5FLdY1af3-2\n",
    "JSESSIONID = naas.secret.get(\"LINKEDIN_JSESSIONID\") or \"YOUR_LINKEDIN_JSESSIONID\" #example: ajax:8379907400220387585\n",
    "li_at = \"AQEDAUbQELgCJO_CAAABi_kyBVwAAAGMQ_ic1FYAi6oWqzNLFw-Cg4kYtzX9u9ryALWX5gpSLMzUTvcQ8GHkf-rld4qfPqGFSUM6ULXxRcSWviR6OWawZKtyUJDadT8LUENoDW0sp3FaWTNKoRf71rsI\"\n",
    "JSESSIONID = \"ajax:5925025388423453260\"\n",
    "spreadsheet_url = naas.secret.get(\"ABI_SPREADSHEET\") or \"YOUR_GOOGLE_SPREADSHEET_URL\"\n",
    "ref_companies_name = \"REF_COMPANIES\"\n",
    "leads_companies_name = \"LEADS_COMPANIES\"\n",
    "leads_profiles_name = \"LEADS\"\n",
    "\n",
    "# Outputs\n",
    "output_dir = os.path.join(naas_data_product.OUTPUTS_PATH, \"growth-engine\", date.today().isoformat())\n",
    "file_leads_companies = \"leads_companies\""
   ]
  },
  {
   "cell_type": "markdown",
   "id": "model_cell",
   "metadata": {
    "papermill": {},
    "tags": []
   },
   "source": [
    "## Model"
   ]
  },
  {
   "cell_type": "markdown",
   "id": "4a5d888e-9fa7-4fe9-983b-c028cd0bb2a9",
   "metadata": {},
   "source": [
    "### Get existing leads companies"
   ]
  },
  {
   "cell_type": "code",
   "execution_count": null,
   "id": "fee6eba9-a02b-425e-b830-cda6d715f642",
   "metadata": {
    "tags": []
   },
   "outputs": [],
   "source": [
    "df_leads_companies = gsheet.connect(spreadsheet_url).get(sheet_name=leads_companies_name)\n",
    "if not isinstance(df_leads_companies, pd.DataFrame):\n",
    "    df_leads_companies = pd.DataFrame()\n",
    "print(\"Leads Companies:\", len(df_leads_companies))\n",
    "# df_leads_companies.head(3)"
   ]
  },
  {
   "cell_type": "markdown",
   "id": "3e292624-f249-418f-9cc3-5fc88da5a815",
   "metadata": {},
   "source": [
    "### Get profiles from interactions"
   ]
  },
  {
   "cell_type": "code",
   "execution_count": null,
   "id": "2084af61-8559-46ce-aca4-82c76c5bbe3a",
   "metadata": {
    "tags": []
   },
   "outputs": [],
   "source": [
    "def get_unique_profile(\n",
    "    df_init\n",
    "):\n",
    "    # Init\n",
    "    df_profiles = df_init.copy()\n",
    "    df_last_interaction = df_init.copy()\n",
    "\n",
    "    # Groupby profile\n",
    "    to_group = [\n",
    "        \"FIRSTNAME\",\n",
    "        \"LASTNAME\",\n",
    "        \"FULLNAME\",\n",
    "        \"OCCUPATION\",\n",
    "        \"PROFILE_URL\",\n",
    "        \"PUBLIC_ID\"\n",
    "    ]\n",
    "    to_agg = {\n",
    "        \"INTERACTION_SCORE\": \"sum\"\n",
    "    }\n",
    "    df_profiles = df_profiles.groupby(to_group, as_index=False).agg(to_agg).drop_duplicates(\"PROFILE_URL\")\n",
    "    df_profiles = df_profiles.sort_values(by=\"INTERACTION_SCORE\", ascending=False).reset_index(drop=True)\n",
    "    \n",
    "    # Add last interactions data\n",
    "    to_keep = [\n",
    "        \"PROFILE_URL\",\n",
    "        \"PUBLISHED_DATE\",\n",
    "        \"CONTENT_URL\",\n",
    "        \"CONTENT_TITLE\"\n",
    "    ]\n",
    "    df_last_interaction = df_last_interaction[to_keep].drop_duplicates().drop_duplicates([\"PROFILE_URL\"])\n",
    "    \n",
    "    # Merge dfs\n",
    "    df = pd.merge(df_profiles, df_last_interaction, how=\"left\")\n",
    "    to_rename = {\n",
    "        \"PUBLISHED_DATE\": \"LAST_INTERACTION_DATE\",\n",
    "        \"CONTENT_URL\": \"LAST_CONTENT_URL_INTERACTION\",\n",
    "        \"CONTENT_TITLE\": \"LAST_CONTENT_TITLE_INTERACTION\"\n",
    "    }\n",
    "    df = df.rename(columns=to_rename)\n",
    "    df[\"LAST_INTERACTION_DATE\"] = pd.to_datetime(df[\"LAST_INTERACTION_DATE\"].str[:-5]).dt.strftime(\"%a. %d %b.\")\n",
    "    df = df.sort_values(by=[\"INTERACTION_SCORE\", \"LAST_INTERACTION_DATE\"], ascending=[False, False])\n",
    "    \n",
    "    # Filter on profile\n",
    "    df = df[df[\"PROFILE_URL\"].str.contains(\"https://www.linkedin.com/company/.+\")]\n",
    "    df = df.sort_values(by=[\"INTERACTION_SCORE\"], ascending=[False]).reset_index(drop=True)\n",
    "    return df.reset_index(drop=True)\n",
    "\n",
    "df_interactions = pload(input_dir, file_interactions)    \n",
    "print('- Interactions:', len(df_interactions))\n",
    "\n",
    "df_interactions_d = get_unique_profile(df_interactions)\n",
    "print(\"- Companies interactions:\", len(df_interactions_d))\n",
    "# df_interactions_d.head(3)"
   ]
  },
  {
   "cell_type": "markdown",
   "id": "83626bed-3b7a-448f-b932-a127b642067a",
   "metadata": {},
   "source": [
    "### Get leads"
   ]
  },
  {
   "cell_type": "code",
   "execution_count": null,
   "id": "d60f4e71-e178-4ce7-92a4-740b81cd8eaa",
   "metadata": {
    "tags": []
   },
   "outputs": [],
   "source": [
    "df_leads = pload(input_dir, file_leads)\n",
    "print(\"- Leads:\", len(df_leads))\n",
    "# df_leads.head(3)"
   ]
  },
  {
   "cell_type": "markdown",
   "id": "0a5412f8-f766-414a-b70d-939cd032c929",
   "metadata": {},
   "source": [
    "### Create leads database"
   ]
  },
  {
   "cell_type": "code",
   "execution_count": null,
   "id": "ac7526eb-b46d-4c11-9cdd-2541bd65168c",
   "metadata": {
    "tags": []
   },
   "outputs": [],
   "source": [
    "def create_db_leads(\n",
    "    df_leads_companies,\n",
    "    df_direct,\n",
    "    df_indirect,\n",
    "    output_dir\n",
    "):\n",
    "    # Init\n",
    "    df = pd.DataFrame()\n",
    "    \n",
    "    # Get meta data from leads companies\n",
    "    if len(df_leads_companies) > 0:\n",
    "        meta_columns = [\n",
    "            \"LINKEDIN_URL\",\n",
    "            \"INDUSTRY\",\n",
    "            \"CITY\",\n",
    "            \"COUNTRY\",\n",
    "            \"STAFF_RANGE\",\n",
    "            \"STAFF_COUNT\",\n",
    "            \"FOLLOWER_COUNT\",\n",
    "            \"WEBSITE\",\n",
    "            \"TAGLINE\",\n",
    "            \"DESCRIPTION\",\n",
    "            \"COMPANY_ID\",\n",
    "            \"COMPANY_NAME\",\n",
    "            \"COMPANY_URL\",\n",
    "            \"CRM_COMPANY\"\n",
    "        ]\n",
    "        for c in meta_columns:\n",
    "            if c not in df_leads_companies.columns:\n",
    "                df_leads_companies[c] = \"TBD\"\n",
    "        columns = [\"COMPANY\"] + meta_columns\n",
    "        ref = df_leads_companies[columns]\n",
    "            \n",
    "    # Get companies from direct interactions\n",
    "    df_d = df_direct.copy()\n",
    "    to_keep = [\n",
    "        \"FULLNAME\",\n",
    "        \"PROFILE_URL\",\n",
    "        \"INTERACTION_SCORE\"\n",
    "    ]\n",
    "    to_rename = {\n",
    "        \"FULLNAME\": \"COMPANY\",\n",
    "        \"PROFILE_URL\": \"LINKEDIN_URL\",\n",
    "        \"INTERACTION_SCORE\": \"DIRECT_INTERACTIONS\"\n",
    "    }\n",
    "    df_d = df_d[to_keep].rename(columns=to_rename)\n",
    "    \n",
    "    # Get companies from indirect interactions\n",
    "    df_i = df_indirect.copy()\n",
    "    to_group = [\n",
    "        \"COMPANY\",\n",
    "    ]\n",
    "    to_agg = {\n",
    "        \"INTERACTION_SCORE\": \"sum\"\n",
    "    }\n",
    "    to_rename = {\n",
    "        \"INTERACTION_SCORE\": \"INDIRECT_INTERACTIONS\"\n",
    "    }\n",
    "    df_i = df_i.groupby(to_group, as_index=False).agg(to_agg).rename(columns=to_rename)\n",
    "    \n",
    "    # Concat dfs\n",
    "    fillna = {\n",
    "        \"LINKEDIN_URL\": \"TBD\",\n",
    "        \"DIRECT_INTERACTIONS\": 0,\n",
    "        \"INDIRECT_INTERACTIONS\": 0\n",
    "    }\n",
    "    df = pd.concat([df_d, df_i, df_leads_companies.drop(meta_columns, axis=1)]).fillna(fillna).drop_duplicates(\"COMPANY\")\n",
    "    df[\"INTERACTION_SCORE\"] = df[\"DIRECT_INTERACTIONS\"] * 5 + df[\"INDIRECT_INTERACTIONS\"]\n",
    "    df = df.sort_values(by=[\"INTERACTION_SCORE\"], ascending=[False])\n",
    "    df = df[~df[\"COMPANY\"].isin([\"NA\", \"TBD\", \"None\", \"n/a\", 'UNKNOWN'])].reset_index(drop=True)\n",
    "\n",
    "    # Merge to get meta data\n",
    "    df = pd.merge(df.drop(\"LINKEDIN_URL\", axis=1), ref, how=\"left\").fillna(\"TBD\")\n",
    "    \n",
    "    # Save database\n",
    "    pdump(output_dir, df, \"db_companies\")\n",
    "    return df.reset_index(drop=True)\n",
    "\n",
    "db_companies = create_db_leads(\n",
    "    df_leads_companies,\n",
    "    df_interactions_d,\n",
    "    df_leads,\n",
    "    output_dir\n",
    ")\n",
    "print(\"- New database leads companies:\", len(db_companies))\n",
    "db_companies.head(3)"
   ]
  },
  {
   "cell_type": "markdown",
   "id": "2bdec2bb-7bf1-47a5-97dc-9ef3b64f1f9a",
   "metadata": {},
   "source": [
    "### Get companies from CRM"
   ]
  },
  {
   "cell_type": "code",
   "execution_count": null,
   "id": "8772bf07-52dc-4a16-b153-05f42cd1dca4",
   "metadata": {
    "tags": []
   },
   "outputs": [],
   "source": [
    "df_companies = gsheet.connect(spreadsheet_url).get(sheet_name=ref_companies_name)\n",
    "if not isinstance(df_companies, pd.DataFrame):\n",
    "    df_companies = pd.DataFrame()\n",
    "print(\"CRM Companies:\", len(df_companies))\n",
    "# df_companies.head(3)"
   ]
  },
  {
   "cell_type": "markdown",
   "id": "af9ee402-c59e-4658-b3ab-c8f7560f1d29",
   "metadata": {},
   "source": [
    "### Enrich leads companies with OpenAI and LinkedIn"
   ]
  },
  {
   "cell_type": "code",
   "execution_count": null,
   "id": "9dba7193-7b32-415d-b6db-db7be0053ba5",
   "metadata": {
    "tags": []
   },
   "outputs": [],
   "source": [
    "def get_linkedin_url(company, companies_urls):\n",
    "    # Init linkedinbio\n",
    "    linkedinbio = \"NA\"\n",
    "    \n",
    "    # Create query\n",
    "    if company not in companies_urls:\n",
    "        query = f\"{company.replace(' ', '+')}+LinkedIn+company\"\n",
    "        print(\"Google query: \", query)\n",
    "\n",
    "        # Search in Google\n",
    "        for i in search(query, tld=\"com\", num=10, stop=10, pause=2):\n",
    "            pattern = \"https:\\/\\/.+.linkedin.com\\/company\\/.([^?])+\"\n",
    "            result = re.search(pattern, i)\n",
    "\n",
    "            # Return value if result is not None\n",
    "            if result != None:\n",
    "                linkedinbio = result.group(0).replace(\" \", \"\")\n",
    "                companies_urls[company] = linkedinbio\n",
    "                time.sleep(2)\n",
    "                break\n",
    "    else:\n",
    "        linkedinbio = companies_urls.get(company)\n",
    "    pdump(output_dir, companies_urls, \"companies_urls\")\n",
    "    return linkedinbio\n",
    "\n",
    "def enrich_leads_companies(\n",
    "    df_init,\n",
    "    ref,\n",
    "    output_dir,\n",
    "):\n",
    "    # Init\n",
    "    df = df_init.copy()\n",
    "\n",
    "    # Add LinkedIn URL column and get existing urls\n",
    "    if not \"LINKEDIN_URL\" in df.columns:\n",
    "        df[\"LINKEDIN_URL\"] = \"TBD\"\n",
    "        companies_urls = {}\n",
    "    else:\n",
    "        companies_urls = pload(output_dir, \"companies_urls\")\n",
    "        if companies_urls is None:\n",
    "            companies_urls = df[df[\"LINKEDIN_URL\"] != \"TBD\"].set_index('COMPANY')['LINKEDIN_URL'].to_dict()\n",
    "            pdump(output_dir, companies_urls, \"companies_urls\")\n",
    "            \n",
    "    # Add CRM company column and match if company name exists\n",
    "    if not \"CRM_COMPANY\" in df.columns:\n",
    "        df[\"CRM_COMPANY\"] = \"TBD\"\n",
    "        crm_companies = {}\n",
    "    else:\n",
    "        crm_companies = pload(output_dir, \"crm_companies\")\n",
    "        if crm_companies is None:\n",
    "            crm_companies = df[df[\"CRM_COMPANY\"] != \"TBD\"].set_index('COMPANY')['CRM_COMPANY'].to_dict()\n",
    "            pdump(output_dir, crm_companies, \"crm_companies\")\n",
    "            \n",
    "    # Add company ID column\n",
    "    if not \"COMPANY_ID\" in df.columns:\n",
    "        df[\"COMPANY_ID\"] = \"TBD\"\n",
    "    \n",
    "    # Clean ref\n",
    "    ref[\"COMPANY_CLEAN\"] = ref.apply(lambda row: str(row[\"COMPANY\"]).lower().split(\",\")[0].replace(\"inc\", \"\").replace(\"l.l.c\", \"\"), axis=1)\n",
    "    \n",
    "    # Loop on companies\n",
    "    call_linkedin = 0\n",
    "    limit_linkedin = 30\n",
    "    for row in df.itertuples():\n",
    "        index = row.Index\n",
    "        company = row.COMPANY\n",
    "        linkedin_url = row.LINKEDIN_URL\n",
    "        interaction_score = row.INTERACTION_SCORE\n",
    "        company_id = row.COMPANY_ID\n",
    "        crm_company = row.CRM_COMPANY\n",
    "\n",
    "        # Update ICP and Company from OpenAI\n",
    "        if linkedin_url == \"TBD\":\n",
    "            print(f\"🤖 Google Search - Finding LinkedIn URL for '{company}' ...\")\n",
    "            linkedin_url =  get_linkedin_url(company, companies_urls)\n",
    "            df.loc[index, \"LINKEDIN_URL\"] = linkedin_url\n",
    "            print(\"- LinkedIn URL:\", linkedin_url)\n",
    "            print()\n",
    "        \n",
    "        if \"company\" in linkedin_url and interaction_score >= 3 and company_id == \"TBD\" and call_linkedin < limit_linkedin:\n",
    "            print(f\"🕸️ LinkedIn - Enrich data for '{company}' (interaction score: {interaction_score})\")\n",
    "            print(linkedin_url)\n",
    "            public_id = linkedin_url.split(\"/\")[-1]\n",
    "            tmp_df = pload(output_dir, f\"{public_id}_linkedin_company\")\n",
    "            if tmp_df is None:\n",
    "                try:\n",
    "                    tmp_df = linkedin.connect(li_at, JSESSIONID).company.get_info(linkedin_url)\n",
    "                    pdump(output_dir, tmp_df, f\"{public_id}_linkedin_company\")\n",
    "                    time.sleep(2)\n",
    "                except Exception as e:\n",
    "                    print(e)\n",
    "                    tmp_df = pd.DataFrame()\n",
    "                \n",
    "            if len(tmp_df) > 0:                \n",
    "                df.loc[index, \"COMPANY_ID\"] = tmp_df.loc[0, \"COMPANY_ID\"]\n",
    "                df.loc[index, \"COMPANY_NAME\"] = tmp_df.loc[0, \"COMPANY_NAME\"]\n",
    "                df.loc[index, \"COMPANY_URL\"] = tmp_df.loc[0, \"COMPANY_URL\"]\n",
    "                df.loc[index, \"INDUSTRY\"] = tmp_df.loc[0, \"INDUSTRY\"]\n",
    "                df.loc[index, \"STAFF_COUNT\"] = tmp_df.loc[0, \"STAFF_COUNT\"]\n",
    "                df.loc[index, \"STAFF_RANGE\"] = tmp_df.loc[0, \"STAFF_RANGE\"]\n",
    "                df.loc[index, \"FOLLOWER_COUNT\"] = tmp_df.loc[0, \"FOLLOWER_COUNT\"]\n",
    "                df.loc[index, \"COUNTRY\"] = tmp_df.loc[0, \"COUNTRY\"]\n",
    "                df.loc[index, \"CITY\"] = tmp_df.loc[0, \"CITY\"]\n",
    "                df.loc[index, \"WEBSITE\"] = tmp_df.loc[0, \"WEBSITE\"]\n",
    "                df.loc[index, \"TAGLINE\"] = tmp_df.loc[0, \"TAGLINE\"]\n",
    "                df.loc[index, \"DESCRIPTION\"] = tmp_df.loc[0, \"DESCRIPTION\"]\n",
    "            else:\n",
    "                df.loc[index, \"COMPANY_ID\"] = \"UNKNOWN\"\n",
    "            call_linkedin += 1\n",
    "            if call_linkedin >= limit_linkedin:\n",
    "                print(\"🛑 Call LinkedIn reached:\", limit_linkedin)\n",
    "            else:\n",
    "                print(\"- ⚠️ LinkedIn call:\", call_linkedin)\n",
    "            print()\n",
    "                \n",
    "        # Find companies in CRM\n",
    "        if len(ref) > 0 and crm_company == \"TBD\":\n",
    "            company = company.replace(\".\", \"\")\n",
    "            print(f\"💛 Sequence Matcher - Finding if '{company}' is in CRM ...\")\n",
    "            crm_company = find_crm_match(\n",
    "                ref,\n",
    "                \"COMPANY_CLEAN\",\n",
    "                company\n",
    "            )\n",
    "            df.loc[index, \"CRM_COMPANY\"] = crm_company\n",
    "            print(\"- CRM company:\", crm_company)\n",
    "            crm_companies[company] = crm_company\n",
    "            pdump(output_dir, crm_companies, \"crm_companies\")\n",
    "            print()\n",
    "            \n",
    "    df.STAFF_RANGE = df.STAFF_RANGE.str.replace(\"-None\", \">\")\n",
    "    df = df.replace(\"nan\", \"NA\").replace(\"na\", \"NA\").replace(\"None\", \"NA\")\n",
    "    if \"STAFF_RANGE\" in df:\n",
    "        staff_maping = {\n",
    "            \"NA\": \"NA\",\n",
    "            \"UNKNOWN\": \"NA\",\n",
    "            \"TBD\": \"NA\",\n",
    "            \"0-1\": \"Solopreneur\",\n",
    "            \"2-10\":\t\"Micro Team\",\n",
    "            \"11-50\": \"Small Company\",\n",
    "            \"51-200\": \"Medium Company\",\n",
    "            \"201-500\": \"Large Company\",\n",
    "            \"501-1000\":\t\"Enterprise Level\",\n",
    "            \"1001-5000\": \"Major Corporation\",\n",
    "            \"5001-10000\": \"Global Corporation\",\n",
    "            \"10001>\": \"Mega Corporation\",\n",
    "        }\n",
    "        df[\"STAFF_RANGE_NAME\"] = df[\"STAFF_RANGE\"].map(staff_maping)\n",
    "    to_order = [\n",
    "        'COMPANY',\n",
    "        'INDUSTRY',\n",
    "        'CITY',\n",
    "        'COUNTRY',\n",
    "        'STAFF_RANGE_NAME',\n",
    "        'CRM_COMPANY',\n",
    "        'INTERACTION_SCORE',\n",
    "        'DIRECT_INTERACTIONS',\n",
    "        'INDIRECT_INTERACTIONS',\n",
    "        'STAFF_RANGE',\n",
    "        'STAFF_COUNT',\n",
    "        'FOLLOWER_COUNT',\n",
    "        'WEBSITE',\n",
    "        'TAGLINE',\n",
    "        'DESCRIPTION',\n",
    "        'COMPANY_ID',\n",
    "        'COMPANY_NAME',\n",
    "        'COMPANY_URL',\n",
    "        'LINKEDIN_URL',\n",
    "    ]\n",
    "    df = df[to_order]\n",
    "    return df.reset_index(drop=True)\n",
    "\n",
    "df_leads_companies_update = enrich_leads_companies(\n",
    "    db_companies,\n",
    "    df_companies,\n",
    "    output_dir\n",
    ")\n",
    "print(\"Companies:\", len(df_leads_companies_update))\n",
    "df_leads_companies_update.head(5)"
   ]
  },
  {
   "cell_type": "markdown",
   "id": "output_cell",
   "metadata": {
    "papermill": {},
    "tags": []
   },
   "source": [
    "## Output"
   ]
  },
  {
   "cell_type": "markdown",
   "id": "f40228ff-179f-49f6-8150-a76f4c911b2b",
   "metadata": {},
   "source": [
    "### Save data"
   ]
  },
  {
   "cell_type": "code",
   "execution_count": null,
   "id": "0b6b1a83-68ef-4174-826b-5e1a31b6efcb",
   "metadata": {
    "tags": []
   },
   "outputs": [],
   "source": [
    "pdump(output_dir, df_leads_companies_update, file_leads_companies)"
   ]
  },
  {
   "cell_type": "markdown",
   "id": "2c62d245-41ef-4b96-afb4-38eee1ad0583",
   "metadata": {},
   "source": [
    "### Send \"Companies\" to spreadsheet"
   ]
  },
  {
   "cell_type": "code",
   "execution_count": null,
   "id": "32e91b35-c1f8-4fe6-ae78-a2d4b79c8be7",
   "metadata": {
    "papermill": {},
    "tags": []
   },
   "outputs": [],
   "source": [
    "gsheet.connect(spreadsheet_url).send(data=df_leads_companies_update, sheet_name=leads_companies_name, append=False)"
   ]
  },
  {
   "cell_type": "code",
   "execution_count": null,
   "id": "13cc4241-9a56-4495-9369-bf3de2bcfb42",
   "metadata": {},
   "outputs": [],
   "source": []
  }
 ],
 "metadata": {
  "kernelspec": {
   "display_name": "Python 3",
   "language": "python",
   "name": "python3"
  },
  "language_info": {
   "codemirror_mode": {
    "name": "ipython",
    "version": 3
   },
   "file_extension": ".py",
   "mimetype": "text/x-python",
   "name": "python",
   "nbconvert_exporter": "python",
   "pygments_lexer": "ipython3",
   "version": "3.9.6"
  },
  "naas": {
   "notebook_id": "cf32ecf61a1d6fdcae3273e7e70026564087776ace44ace0a939c08a2085586f",
   "notebook_path": "Google Sheets/Google_Sheets_Send_data.ipynb"
  },
  "papermill": {
   "default_parameters": {},
   "environment_variables": {},
   "parameters": {},
   "version": "2.3.3"
  }
 },
 "nbformat": 4,
 "nbformat_minor": 5
}
