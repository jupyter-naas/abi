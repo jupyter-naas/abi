{
 "cells": [
  {
   "cell_type": "markdown",
   "id": "international-creativity",
   "metadata": {
    "papermill": {},
    "tags": []
   },
   "source": [
    "<img width=\"8%\" alt=\"Google Sheets.png\" src=\"https://raw.githubusercontent.com/jupyter-naas/awesome-notebooks/master/.github/assets/logos/Google%20Sheets.png\" style=\"border-radius: 15%\">"
   ]
  },
  {
   "cell_type": "markdown",
   "id": "unlimited-bookmark",
   "metadata": {
    "papermill": {},
    "tags": []
   },
   "source": [
    "# Google Sheets - Update leads companies"
   ]
  },
  {
   "cell_type": "markdown",
   "id": "tags_cell",
   "metadata": {
    "papermill": {},
    "tags": []
   },
   "source": [
    "**Tags:** #googlesheets #gsheet #data #naas_drivers #growth #leads #companies #openai #linkedin"
   ]
  },
  {
   "cell_type": "markdown",
   "id": "fbbbbc71-6333-4a70-b371-c9b82f8b5299",
   "metadata": {
    "papermill": {},
    "tags": []
   },
   "source": [
    "**Author:** [Florent Ravenel](https://www.linkedin.com/in/florent-ravenel/)"
   ]
  },
  {
   "cell_type": "markdown",
   "id": "naas-description",
   "metadata": {
    "papermill": {},
    "tags": [
     "description"
    ]
   },
   "source": [
    "**Description:** This notebook updates your leads companies database enrich it with data from LinkedIn and check if they already exists inside your CRM."
   ]
  },
  {
   "cell_type": "markdown",
   "id": "input_cell",
   "metadata": {
    "papermill": {},
    "tags": []
   },
   "source": [
    "## Input"
   ]
  },
  {
   "cell_type": "markdown",
   "id": "55d9e878-2148-47e3-a13d-09ba77202893",
   "metadata": {
    "papermill": {},
    "tags": []
   },
   "source": [
    "### Import libraries"
   ]
  },
  {
   "cell_type": "code",
   "execution_count": 1,
   "id": "5fad521a-4a18-4dc7-b13d-98a37172715b",
   "metadata": {
    "execution": {
     "iopub.execute_input": "2023-12-19T09:08:51.221354Z",
     "iopub.status.busy": "2023-12-19T09:08:51.220896Z",
     "iopub.status.idle": "2023-12-19T09:08:56.649842Z",
     "shell.execute_reply": "2023-12-19T09:08:56.649095Z",
     "shell.execute_reply.started": "2023-12-19T09:08:51.221275Z"
    },
    "papermill": {},
    "tags": []
   },
   "outputs": [
    {
     "name": "stdout",
     "output_type": "stream",
     "text": [
      "✅ utils file '/home/ftp/abi/utils/data.ipynb' successfully loaded.\n",
      "✅ utils file '/home/ftp/abi/utils/naas_chat_plugin.ipynb' successfully loaded.\n",
      "✅ utils file '/home/ftp/abi/utils/naas_lab.ipynb' successfully loaded.\n",
      "✅ utils file '/home/ftp/abi/utils/openai.ipynb' successfully loaded.\n"
     ]
    }
   ],
   "source": [
    "from naas_drivers import gsheet, linkedin\n",
    "import pandas as pd\n",
    "import os\n",
    "from datetime import date\n",
    "import naas_data_product\n",
    "import openai\n",
    "import time\n",
    "from googlesearch import search\n",
    "import re"
   ]
  },
  {
   "cell_type": "markdown",
   "id": "ec39e794-a8cd-41b8-9489-9ddb962a601c",
   "metadata": {
    "papermill": {},
    "tags": []
   },
   "source": [
    "### Setup variables\n",
    "**Inputs**\n",
    "- `input_dir`: Input directory to retrieve file from.\n",
    "- `file_interactions`: Name of the file to be retrieved.\n",
    "- `file_leads`: Name of the file to be retrieved.\n",
    "- `openai_api_key`: OpenAI API Key.\n",
    "- `li_at`: Cookie used to authenticate Members and API clients.\n",
    "- `JSESSIONID`: Cookie used for Cross Site Request Forgery (CSRF) protection and URL signature validation.\n",
    "- `spreadsheet_url`: Google Sheets spreadsheet URL.\n",
    "- `ref_companies_name`: Google Sheets sheet name storing companies from your CRM.\n",
    "- `leads_companies_name`: Google Sheets sheet name storing leads profiles.\n",
    "- `leads_profiles_name`: Google Sheets sheet name storing leads profiles.\n",
    "\n",
    "**Outputs**\n",
    "- `output_dir`: Output directory to save file to.\n",
    "- `file_leads_companies`: Output file name to save as picke."
   ]
  },
  {
   "cell_type": "code",
   "execution_count": 2,
   "id": "7c34bff6-9136-4aaf-a692-b38129b7de83",
   "metadata": {
    "execution": {
     "iopub.execute_input": "2023-12-19T09:08:56.658930Z",
     "iopub.status.busy": "2023-12-19T09:08:56.657231Z",
     "iopub.status.idle": "2023-12-19T09:08:57.159710Z",
     "shell.execute_reply": "2023-12-19T09:08:57.159105Z",
     "shell.execute_reply.started": "2023-12-19T09:08:56.658894Z"
    },
    "papermill": {},
    "tags": [
     "parameters"
    ]
   },
   "outputs": [],
   "source": [
    "# Inputs\n",
    "input_dir = os.path.join(naas_data_product.OUTPUTS_PATH, \"growth-engine\", date.today().isoformat())\n",
    "file_interactions = \"linkedin_interactions\"\n",
    "file_leads = \"leads\"\n",
    "openai_api_key = naas.secret.get(\"OPENAI_API_KEY\")\n",
    "li_at = naas.secret.get(\"LINKEDIN_LI_AT\") or \"YOUR_LINKEDIN_LI_AT\" #example: AQFAzQN_PLPR4wAAAXc-FCKmgiMit5FLdY1af3-2\n",
    "JSESSIONID = naas.secret.get(\"LINKEDIN_JSESSIONID\") or \"YOUR_LINKEDIN_JSESSIONID\" #example: ajax:8379907400220387585\n",
    "spreadsheet_url = naas.secret.get(\"ABI_SPREADSHEET\") or \"YOUR_GOOGLE_SPREADSHEET_URL\"\n",
    "ref_companies_name = \"REF_COMPANIES\"\n",
    "leads_companies_name = \"LEADS_COMPANIES\"\n",
    "leads_profiles_name = \"LEADS\"\n",
    "\n",
    "# Outputs\n",
    "output_dir = os.path.join(naas_data_product.OUTPUTS_PATH, \"growth-engine\", date.today().isoformat())\n",
    "file_leads_companies = \"leads_companies\""
   ]
  },
  {
   "cell_type": "markdown",
   "id": "model_cell",
   "metadata": {
    "papermill": {},
    "tags": []
   },
   "source": [
    "## Model"
   ]
  },
  {
   "cell_type": "markdown",
   "id": "4a5d888e-9fa7-4fe9-983b-c028cd0bb2a9",
   "metadata": {},
   "source": [
    "### Get existing leads companies"
   ]
  },
  {
   "cell_type": "code",
   "execution_count": 3,
   "id": "fee6eba9-a02b-425e-b830-cda6d715f642",
   "metadata": {
    "execution": {
     "iopub.execute_input": "2023-12-19T09:08:57.160737Z",
     "iopub.status.busy": "2023-12-19T09:08:57.160503Z",
     "iopub.status.idle": "2023-12-19T09:09:00.161129Z",
     "shell.execute_reply": "2023-12-19T09:09:00.160407Z",
     "shell.execute_reply.started": "2023-12-19T09:08:57.160708Z"
    },
    "tags": []
   },
   "outputs": [
    {
     "name": "stdout",
     "output_type": "stream",
     "text": [
      "Leads Companies: 1438\n"
     ]
    }
   ],
   "source": [
    "df_leads_companies = gsheet.connect(spreadsheet_url).get(sheet_name=leads_companies_name)\n",
    "if not isinstance(df_leads_companies, pd.DataFrame):\n",
    "    df_leads_companies = pd.DataFrame()\n",
    "print(\"Leads Companies:\", len(df_leads_companies))\n",
    "# df_leads_companies.head(3)"
   ]
  },
  {
   "cell_type": "markdown",
   "id": "3e292624-f249-418f-9cc3-5fc88da5a815",
   "metadata": {},
   "source": [
    "### Get profiles from interactions"
   ]
  },
  {
   "cell_type": "code",
   "execution_count": 4,
   "id": "2084af61-8559-46ce-aca4-82c76c5bbe3a",
   "metadata": {
    "execution": {
     "iopub.execute_input": "2023-12-19T09:09:00.167157Z",
     "iopub.status.busy": "2023-12-19T09:09:00.165457Z",
     "iopub.status.idle": "2023-12-19T09:09:00.368525Z",
     "shell.execute_reply": "2023-12-19T09:09:00.367838Z",
     "shell.execute_reply.started": "2023-12-19T09:09:00.167121Z"
    },
    "tags": []
   },
   "outputs": [
    {
     "name": "stdout",
     "output_type": "stream",
     "text": [
      "- Interactions: 5051\n",
      "- Companies interactions: 9\n"
     ]
    }
   ],
   "source": [
    "def get_unique_profile(\n",
    "    df_init\n",
    "):\n",
    "    # Init\n",
    "    df_profiles = df_init.copy()\n",
    "    df_last_interaction = df_init.copy()\n",
    "\n",
    "    # Groupby profile\n",
    "    to_group = [\n",
    "        \"FIRSTNAME\",\n",
    "        \"LASTNAME\",\n",
    "        \"FULLNAME\",\n",
    "        \"OCCUPATION\",\n",
    "        \"PROFILE_URL\",\n",
    "        \"PUBLIC_ID\"\n",
    "    ]\n",
    "    to_agg = {\n",
    "        \"INTERACTION_SCORE\": \"sum\"\n",
    "    }\n",
    "    df_profiles = df_profiles.groupby(to_group, as_index=False).agg(to_agg).drop_duplicates(\"PROFILE_URL\")\n",
    "    df_profiles = df_profiles.sort_values(by=\"INTERACTION_SCORE\", ascending=False).reset_index(drop=True)\n",
    "    \n",
    "    # Add last interactions data\n",
    "    to_keep = [\n",
    "        \"PROFILE_URL\",\n",
    "        \"PUBLISHED_DATE\",\n",
    "        \"CONTENT_URL\",\n",
    "        \"CONTENT_TITLE\"\n",
    "    ]\n",
    "    df_last_interaction = df_last_interaction[to_keep].drop_duplicates().drop_duplicates([\"PROFILE_URL\"])\n",
    "    \n",
    "    # Merge dfs\n",
    "    df = pd.merge(df_profiles, df_last_interaction, how=\"left\")\n",
    "    to_rename = {\n",
    "        \"PUBLISHED_DATE\": \"LAST_INTERACTION_DATE\",\n",
    "        \"CONTENT_URL\": \"LAST_CONTENT_URL_INTERACTION\",\n",
    "        \"CONTENT_TITLE\": \"LAST_CONTENT_TITLE_INTERACTION\"\n",
    "    }\n",
    "    df = df.rename(columns=to_rename)\n",
    "    df[\"LAST_INTERACTION_DATE\"] = pd.to_datetime(df[\"LAST_INTERACTION_DATE\"].str[:-5]).dt.strftime(\"%a. %d %b.\")\n",
    "    df = df.sort_values(by=[\"INTERACTION_SCORE\", \"LAST_INTERACTION_DATE\"], ascending=[False, False])\n",
    "    \n",
    "    # Filter on profile\n",
    "    df = df[df[\"PROFILE_URL\"].str.contains(\"https://www.linkedin.com/company/.+\")]\n",
    "    df = df.sort_values(by=[\"INTERACTION_SCORE\"], ascending=[False]).reset_index(drop=True)\n",
    "    return df.reset_index(drop=True)\n",
    "\n",
    "df_interactions = pload(input_dir, file_interactions)    \n",
    "print('- Interactions:', len(df_interactions))\n",
    "\n",
    "df_interactions_d = get_unique_profile(df_interactions)\n",
    "print(\"- Companies interactions:\", len(df_interactions_d))\n",
    "# df_interactions_d.head(3)"
   ]
  },
  {
   "cell_type": "markdown",
   "id": "83626bed-3b7a-448f-b932-a127b642067a",
   "metadata": {},
   "source": [
    "### Get leads"
   ]
  },
  {
   "cell_type": "code",
   "execution_count": 5,
   "id": "d60f4e71-e178-4ce7-92a4-740b81cd8eaa",
   "metadata": {
    "execution": {
     "iopub.execute_input": "2023-12-19T09:09:00.371385Z",
     "iopub.status.busy": "2023-12-19T09:09:00.369754Z",
     "iopub.status.idle": "2023-12-19T09:09:00.408300Z",
     "shell.execute_reply": "2023-12-19T09:09:00.406358Z",
     "shell.execute_reply.started": "2023-12-19T09:09:00.371346Z"
    },
    "tags": []
   },
   "outputs": [
    {
     "name": "stdout",
     "output_type": "stream",
     "text": [
      "- Leads: 2945\n"
     ]
    }
   ],
   "source": [
    "df_leads = pload(input_dir, file_leads)\n",
    "print(\"- Leads:\", len(df_leads))\n",
    "# df_leads.head(3)"
   ]
  },
  {
   "cell_type": "markdown",
   "id": "0a5412f8-f766-414a-b70d-939cd032c929",
   "metadata": {},
   "source": [
    "### Create leads database"
   ]
  },
  {
   "cell_type": "code",
   "execution_count": 6,
   "id": "ac7526eb-b46d-4c11-9cdd-2541bd65168c",
   "metadata": {
    "execution": {
     "iopub.execute_input": "2023-12-19T09:09:00.411429Z",
     "iopub.status.busy": "2023-12-19T09:09:00.411005Z",
     "iopub.status.idle": "2023-12-19T09:09:00.664133Z",
     "shell.execute_reply": "2023-12-19T09:09:00.663469Z",
     "shell.execute_reply.started": "2023-12-19T09:09:00.411398Z"
    },
    "tags": []
   },
   "outputs": [
    {
     "name": "stdout",
     "output_type": "stream",
     "text": [
      "- New database leads companies: 1438\n"
     ]
    },
    {
     "data": {
      "text/html": [
       "<div>\n",
       "<style scoped>\n",
       "    .dataframe tbody tr th:only-of-type {\n",
       "        vertical-align: middle;\n",
       "    }\n",
       "\n",
       "    .dataframe tbody tr th {\n",
       "        vertical-align: top;\n",
       "    }\n",
       "\n",
       "    .dataframe thead th {\n",
       "        text-align: right;\n",
       "    }\n",
       "</style>\n",
       "<table border=\"1\" class=\"dataframe\">\n",
       "  <thead>\n",
       "    <tr style=\"text-align: right;\">\n",
       "      <th></th>\n",
       "      <th>COMPANY</th>\n",
       "      <th>DIRECT_INTERACTIONS</th>\n",
       "      <th>INDIRECT_INTERACTIONS</th>\n",
       "      <th>STAFF_RANGE_NAME</th>\n",
       "      <th>INTERACTION_SCORE</th>\n",
       "      <th>LINKEDIN_URL</th>\n",
       "      <th>INDUSTRY</th>\n",
       "      <th>CITY</th>\n",
       "      <th>COUNTRY</th>\n",
       "      <th>STAFF_RANGE</th>\n",
       "      <th>STAFF_COUNT</th>\n",
       "      <th>FOLLOWER_COUNT</th>\n",
       "      <th>WEBSITE</th>\n",
       "      <th>TAGLINE</th>\n",
       "      <th>DESCRIPTION</th>\n",
       "      <th>COMPANY_ID</th>\n",
       "      <th>COMPANY_NAME</th>\n",
       "      <th>COMPANY_URL</th>\n",
       "      <th>CRM_COMPANY</th>\n",
       "    </tr>\n",
       "  </thead>\n",
       "  <tbody>\n",
       "    <tr>\n",
       "      <th>0</th>\n",
       "      <td>naas.ai</td>\n",
       "      <td>0.0</td>\n",
       "      <td>90.0</td>\n",
       "      <td>TBD</td>\n",
       "      <td>90.0</td>\n",
       "      <td>https://www.linkedin.com/company/naas-ai</td>\n",
       "      <td>Software Development</td>\n",
       "      <td>Paris</td>\n",
       "      <td>FR</td>\n",
       "      <td>2-10</td>\n",
       "      <td>22</td>\n",
       "      <td>2990</td>\n",
       "      <td>https://www.naas.ai/</td>\n",
       "      <td>⚡️ All-in-one open source data platform\\n#lowc...</td>\n",
       "      <td>Naas is the first Jupyter based data-science p...</td>\n",
       "      <td>70506391</td>\n",
       "      <td>naas.ai</td>\n",
       "      <td>https://www.linkedin.com/company/naas-ai</td>\n",
       "      <td>True</td>\n",
       "    </tr>\n",
       "    <tr>\n",
       "      <th>1</th>\n",
       "      <td>OpenTeams</td>\n",
       "      <td>0.0</td>\n",
       "      <td>43.0</td>\n",
       "      <td>TBD</td>\n",
       "      <td>43.0</td>\n",
       "      <td>https://www.linkedin.com/company/openteams</td>\n",
       "      <td>Software Development</td>\n",
       "      <td>Austin</td>\n",
       "      <td>US</td>\n",
       "      <td>11-50</td>\n",
       "      <td>34</td>\n",
       "      <td>2881</td>\n",
       "      <td>http://openteams.com</td>\n",
       "      <td>680+ Supported Open Source Technologies</td>\n",
       "      <td>OpenTeams is at the forefront of open source s...</td>\n",
       "      <td>19109784</td>\n",
       "      <td>OpenTeams</td>\n",
       "      <td>https://www.linkedin.com/company/openteams</td>\n",
       "      <td>True</td>\n",
       "    </tr>\n",
       "    <tr>\n",
       "      <th>2</th>\n",
       "      <td>ASTRATECHZ</td>\n",
       "      <td>0.0</td>\n",
       "      <td>41.0</td>\n",
       "      <td>TBD</td>\n",
       "      <td>41.0</td>\n",
       "      <td>https://in.linkedin.com/company/astratechz</td>\n",
       "      <td>IT Services and IT Consulting</td>\n",
       "      <td>Delhi</td>\n",
       "      <td>IN</td>\n",
       "      <td>2-10</td>\n",
       "      <td>3</td>\n",
       "      <td>464</td>\n",
       "      <td>https://www.astratechz.com</td>\n",
       "      <td>Application Development | Technology Consultin...</td>\n",
       "      <td>We design apps, websites and technology soluti...</td>\n",
       "      <td>67135963</td>\n",
       "      <td>Astra Techz</td>\n",
       "      <td>https://www.linkedin.com/company/astratechz</td>\n",
       "      <td>False</td>\n",
       "    </tr>\n",
       "  </tbody>\n",
       "</table>\n",
       "</div>"
      ],
      "text/plain": [
       "      COMPANY  DIRECT_INTERACTIONS  INDIRECT_INTERACTIONS STAFF_RANGE_NAME  \\\n",
       "0     naas.ai                  0.0                   90.0              TBD   \n",
       "1   OpenTeams                  0.0                   43.0              TBD   \n",
       "2  ASTRATECHZ                  0.0                   41.0              TBD   \n",
       "\n",
       "   INTERACTION_SCORE                                LINKEDIN_URL  \\\n",
       "0               90.0    https://www.linkedin.com/company/naas-ai   \n",
       "1               43.0  https://www.linkedin.com/company/openteams   \n",
       "2               41.0  https://in.linkedin.com/company/astratechz   \n",
       "\n",
       "                        INDUSTRY    CITY COUNTRY STAFF_RANGE STAFF_COUNT  \\\n",
       "0           Software Development   Paris      FR        2-10          22   \n",
       "1           Software Development  Austin      US       11-50          34   \n",
       "2  IT Services and IT Consulting   Delhi      IN        2-10           3   \n",
       "\n",
       "  FOLLOWER_COUNT                     WEBSITE  \\\n",
       "0           2990        https://www.naas.ai/   \n",
       "1           2881        http://openteams.com   \n",
       "2            464  https://www.astratechz.com   \n",
       "\n",
       "                                             TAGLINE  \\\n",
       "0  ⚡️ All-in-one open source data platform\\n#lowc...   \n",
       "1            680+ Supported Open Source Technologies   \n",
       "2  Application Development | Technology Consultin...   \n",
       "\n",
       "                                         DESCRIPTION COMPANY_ID COMPANY_NAME  \\\n",
       "0  Naas is the first Jupyter based data-science p...   70506391      naas.ai   \n",
       "1  OpenTeams is at the forefront of open source s...   19109784    OpenTeams   \n",
       "2  We design apps, websites and technology soluti...   67135963  Astra Techz   \n",
       "\n",
       "                                   COMPANY_URL  CRM_COMPANY  \n",
       "0     https://www.linkedin.com/company/naas-ai         True  \n",
       "1   https://www.linkedin.com/company/openteams         True  \n",
       "2  https://www.linkedin.com/company/astratechz        False  "
      ]
     },
     "execution_count": 6,
     "metadata": {},
     "output_type": "execute_result"
    }
   ],
   "source": [
    "def create_db_leads(\n",
    "    df_leads_companies,\n",
    "    df_direct,\n",
    "    df_indirect,\n",
    "    output_dir\n",
    "):\n",
    "    # Init\n",
    "    df = pd.DataFrame()\n",
    "    \n",
    "    # Get meta data from leads companies\n",
    "    if len(df_leads_companies) > 0:\n",
    "        meta_columns = [\n",
    "            \"LINKEDIN_URL\",\n",
    "            \"INDUSTRY\",\n",
    "            \"CITY\",\n",
    "            \"COUNTRY\",\n",
    "            \"STAFF_RANGE\",\n",
    "            \"STAFF_COUNT\",\n",
    "            \"FOLLOWER_COUNT\",\n",
    "            \"WEBSITE\",\n",
    "            \"TAGLINE\",\n",
    "            \"DESCRIPTION\",\n",
    "            \"COMPANY_ID\",\n",
    "            \"COMPANY_NAME\",\n",
    "            \"COMPANY_URL\",\n",
    "            \"CRM_COMPANY\"\n",
    "        ]\n",
    "        columns = [\"COMPANY\"] + meta_columns\n",
    "        ref = df_leads_companies[columns]\n",
    "            \n",
    "    # Get companies from direct interactions\n",
    "    df_d = df_direct.copy()\n",
    "    to_keep = [\n",
    "        \"FULLNAME\",\n",
    "        \"PROFILE_URL\",\n",
    "        \"INTERACTION_SCORE\"\n",
    "    ]\n",
    "    to_rename = {\n",
    "        \"FULLNAME\": \"COMPANY\",\n",
    "        \"PROFILE_URL\": \"LINKEDIN_URL\",\n",
    "        \"INTERACTION_SCORE\": \"DIRECT_INTERACTIONS\"\n",
    "    }\n",
    "    df_d = df_d[to_keep].rename(columns=to_rename)\n",
    "    \n",
    "    # Get companies from indirect interactions\n",
    "    df_i = df_indirect.copy()\n",
    "    to_group = [\n",
    "        \"COMPANY\",\n",
    "    ]\n",
    "    to_agg = {\n",
    "        \"INTERACTION_SCORE\": \"sum\"\n",
    "    }\n",
    "    to_rename = {\n",
    "        \"INTERACTION_SCORE\": \"INDIRECT_INTERACTIONS\"\n",
    "    }\n",
    "    df_i = df_i.groupby(to_group, as_index=False).agg(to_agg).rename(columns=to_rename)\n",
    "    \n",
    "    # Concat dfs\n",
    "    fillna = {\n",
    "        \"LINKEDIN_URL\": \"TBD\",\n",
    "        \"DIRECT_INTERACTIONS\": 0,\n",
    "        \"INDIRECT_INTERACTIONS\": 0\n",
    "    }\n",
    "    df = pd.concat([df_d, df_i, df_leads_companies.drop(meta_columns, axis=1)]).fillna(fillna).drop_duplicates(\"COMPANY\")\n",
    "    df[\"INTERACTION_SCORE\"] = df[\"DIRECT_INTERACTIONS\"] * 5 + df[\"INDIRECT_INTERACTIONS\"]\n",
    "    df = df.sort_values(by=[\"INTERACTION_SCORE\"], ascending=[False])\n",
    "    df = df[~df[\"COMPANY\"].isin([\"NA\", \"TBD\", \"None\", \"n/a\", 'UNKNOWN'])].reset_index(drop=True)\n",
    "\n",
    "    # Merge to get meta data\n",
    "    df = pd.merge(df.drop(\"LINKEDIN_URL\", axis=1), ref, how=\"left\").fillna(\"TBD\")\n",
    "    \n",
    "    # Save database\n",
    "    pdump(output_dir, df, \"db_companies\")\n",
    "    return df.reset_index(drop=True)\n",
    "\n",
    "db_companies = create_db_leads(\n",
    "    df_leads_companies,\n",
    "    df_interactions_d,\n",
    "    df_leads,\n",
    "    output_dir\n",
    ")\n",
    "print(\"- New database leads companies:\", len(db_companies))\n",
    "db_companies.head(3)"
   ]
  },
  {
   "cell_type": "markdown",
   "id": "2bdec2bb-7bf1-47a5-97dc-9ef3b64f1f9a",
   "metadata": {},
   "source": [
    "### Get companies from CRM"
   ]
  },
  {
   "cell_type": "code",
   "execution_count": 7,
   "id": "8772bf07-52dc-4a16-b153-05f42cd1dca4",
   "metadata": {
    "execution": {
     "iopub.execute_input": "2023-12-19T09:09:00.665676Z",
     "iopub.status.busy": "2023-12-19T09:09:00.665253Z",
     "iopub.status.idle": "2023-12-19T09:09:01.433713Z",
     "shell.execute_reply": "2023-12-19T09:09:01.432949Z",
     "shell.execute_reply.started": "2023-12-19T09:09:00.665643Z"
    },
    "tags": []
   },
   "outputs": [
    {
     "name": "stdout",
     "output_type": "stream",
     "text": [
      "CRM Companies: 1029\n"
     ]
    }
   ],
   "source": [
    "df_companies = gsheet.connect(spreadsheet_url).get(sheet_name=ref_companies_name)\n",
    "if not isinstance(df_companies, pd.DataFrame):\n",
    "    df_companies = pd.DataFrame()\n",
    "print(\"CRM Companies:\", len(df_companies))\n",
    "# df_companies.head(3)"
   ]
  },
  {
   "cell_type": "markdown",
   "id": "af9ee402-c59e-4658-b3ab-c8f7560f1d29",
   "metadata": {},
   "source": [
    "### Enrich leads companies with OpenAI and LinkedIn"
   ]
  },
  {
   "cell_type": "code",
   "execution_count": 8,
   "id": "9dba7193-7b32-415d-b6db-db7be0053ba5",
   "metadata": {
    "execution": {
     "iopub.execute_input": "2023-12-19T09:09:01.435487Z",
     "iopub.status.busy": "2023-12-19T09:09:01.435050Z",
     "iopub.status.idle": "2023-12-19T09:09:01.541409Z",
     "shell.execute_reply": "2023-12-19T09:09:01.540627Z",
     "shell.execute_reply.started": "2023-12-19T09:09:01.435453Z"
    },
    "tags": []
   },
   "outputs": [
    {
     "name": "stdout",
     "output_type": "stream",
     "text": [
      "Companies: 1438\n"
     ]
    },
    {
     "data": {
      "text/html": [
       "<div>\n",
       "<style scoped>\n",
       "    .dataframe tbody tr th:only-of-type {\n",
       "        vertical-align: middle;\n",
       "    }\n",
       "\n",
       "    .dataframe tbody tr th {\n",
       "        vertical-align: top;\n",
       "    }\n",
       "\n",
       "    .dataframe thead th {\n",
       "        text-align: right;\n",
       "    }\n",
       "</style>\n",
       "<table border=\"1\" class=\"dataframe\">\n",
       "  <thead>\n",
       "    <tr style=\"text-align: right;\">\n",
       "      <th></th>\n",
       "      <th>COMPANY</th>\n",
       "      <th>INDUSTRY</th>\n",
       "      <th>CITY</th>\n",
       "      <th>COUNTRY</th>\n",
       "      <th>STAFF_RANGE_NAME</th>\n",
       "      <th>CRM_COMPANY</th>\n",
       "      <th>INTERACTION_SCORE</th>\n",
       "      <th>DIRECT_INTERACTIONS</th>\n",
       "      <th>INDIRECT_INTERACTIONS</th>\n",
       "      <th>STAFF_RANGE</th>\n",
       "      <th>STAFF_COUNT</th>\n",
       "      <th>FOLLOWER_COUNT</th>\n",
       "      <th>WEBSITE</th>\n",
       "      <th>TAGLINE</th>\n",
       "      <th>DESCRIPTION</th>\n",
       "      <th>COMPANY_ID</th>\n",
       "      <th>COMPANY_NAME</th>\n",
       "      <th>COMPANY_URL</th>\n",
       "      <th>LINKEDIN_URL</th>\n",
       "    </tr>\n",
       "  </thead>\n",
       "  <tbody>\n",
       "    <tr>\n",
       "      <th>0</th>\n",
       "      <td>naas.ai</td>\n",
       "      <td>Software Development</td>\n",
       "      <td>Paris</td>\n",
       "      <td>FR</td>\n",
       "      <td>Micro Team</td>\n",
       "      <td>True</td>\n",
       "      <td>90.0</td>\n",
       "      <td>0.0</td>\n",
       "      <td>90.0</td>\n",
       "      <td>2-10</td>\n",
       "      <td>22</td>\n",
       "      <td>2990</td>\n",
       "      <td>https://www.naas.ai/</td>\n",
       "      <td>⚡️ All-in-one open source data platform\\n#lowc...</td>\n",
       "      <td>Naas is the first Jupyter based data-science p...</td>\n",
       "      <td>70506391</td>\n",
       "      <td>naas.ai</td>\n",
       "      <td>https://www.linkedin.com/company/naas-ai</td>\n",
       "      <td>https://www.linkedin.com/company/naas-ai</td>\n",
       "    </tr>\n",
       "    <tr>\n",
       "      <th>1</th>\n",
       "      <td>OpenTeams</td>\n",
       "      <td>Software Development</td>\n",
       "      <td>Austin</td>\n",
       "      <td>US</td>\n",
       "      <td>Small Company</td>\n",
       "      <td>True</td>\n",
       "      <td>43.0</td>\n",
       "      <td>0.0</td>\n",
       "      <td>43.0</td>\n",
       "      <td>11-50</td>\n",
       "      <td>34</td>\n",
       "      <td>2881</td>\n",
       "      <td>http://openteams.com</td>\n",
       "      <td>680+ Supported Open Source Technologies</td>\n",
       "      <td>OpenTeams is at the forefront of open source s...</td>\n",
       "      <td>19109784</td>\n",
       "      <td>OpenTeams</td>\n",
       "      <td>https://www.linkedin.com/company/openteams</td>\n",
       "      <td>https://www.linkedin.com/company/openteams</td>\n",
       "    </tr>\n",
       "    <tr>\n",
       "      <th>2</th>\n",
       "      <td>ASTRATECHZ</td>\n",
       "      <td>IT Services and IT Consulting</td>\n",
       "      <td>Delhi</td>\n",
       "      <td>IN</td>\n",
       "      <td>Micro Team</td>\n",
       "      <td>False</td>\n",
       "      <td>41.0</td>\n",
       "      <td>0.0</td>\n",
       "      <td>41.0</td>\n",
       "      <td>2-10</td>\n",
       "      <td>3</td>\n",
       "      <td>464</td>\n",
       "      <td>https://www.astratechz.com</td>\n",
       "      <td>Application Development | Technology Consultin...</td>\n",
       "      <td>We design apps, websites and technology soluti...</td>\n",
       "      <td>67135963</td>\n",
       "      <td>Astra Techz</td>\n",
       "      <td>https://www.linkedin.com/company/astratechz</td>\n",
       "      <td>https://in.linkedin.com/company/astratechz</td>\n",
       "    </tr>\n",
       "    <tr>\n",
       "      <th>3</th>\n",
       "      <td>Brigham Young University</td>\n",
       "      <td>Higher Education</td>\n",
       "      <td>Laie</td>\n",
       "      <td>US</td>\n",
       "      <td>Large Company</td>\n",
       "      <td>False</td>\n",
       "      <td>40.0</td>\n",
       "      <td>0.0</td>\n",
       "      <td>40.0</td>\n",
       "      <td>201-500</td>\n",
       "      <td>494</td>\n",
       "      <td>4604</td>\n",
       "      <td>http://www.byuh.edu</td>\n",
       "      <td>NA</td>\n",
       "      <td>Brigham Young University Hawaii is a small, ac...</td>\n",
       "      <td>264355</td>\n",
       "      <td>Brigham Young University–Hawaii</td>\n",
       "      <td>https://www.linkedin.com/company/brigham-young...</td>\n",
       "      <td>https://www.linkedin.com/company/brigham-young...</td>\n",
       "    </tr>\n",
       "    <tr>\n",
       "      <th>4</th>\n",
       "      <td>T&amp;H Executive Recruitment</td>\n",
       "      <td>Staffing and Recruiting</td>\n",
       "      <td>South Africa</td>\n",
       "      <td>ZA</td>\n",
       "      <td>Micro Team</td>\n",
       "      <td>False</td>\n",
       "      <td>33.0</td>\n",
       "      <td>0.0</td>\n",
       "      <td>33.0</td>\n",
       "      <td>2-10</td>\n",
       "      <td>2</td>\n",
       "      <td>93</td>\n",
       "      <td>http://www.tandh.co.za</td>\n",
       "      <td>\\n#TechStartups #ScaleUps #SouthAfricanTech  #...</td>\n",
       "      <td>The era of big data has arrived, bringing alon...</td>\n",
       "      <td>28944149</td>\n",
       "      <td>T&amp;H</td>\n",
       "      <td>https://www.linkedin.com/company/t-h-executive...</td>\n",
       "      <td>https://za.linkedin.com/company/t-h-executive-...</td>\n",
       "    </tr>\n",
       "  </tbody>\n",
       "</table>\n",
       "</div>"
      ],
      "text/plain": [
       "                     COMPANY                       INDUSTRY           CITY  \\\n",
       "0                    naas.ai           Software Development          Paris   \n",
       "1                  OpenTeams           Software Development         Austin   \n",
       "2                 ASTRATECHZ  IT Services and IT Consulting          Delhi   \n",
       "3   Brigham Young University               Higher Education           Laie   \n",
       "4  T&H Executive Recruitment        Staffing and Recruiting  South Africa    \n",
       "\n",
       "  COUNTRY STAFF_RANGE_NAME  CRM_COMPANY  INTERACTION_SCORE  \\\n",
       "0      FR       Micro Team         True               90.0   \n",
       "1      US    Small Company         True               43.0   \n",
       "2      IN       Micro Team        False               41.0   \n",
       "3      US    Large Company        False               40.0   \n",
       "4      ZA       Micro Team        False               33.0   \n",
       "\n",
       "   DIRECT_INTERACTIONS  INDIRECT_INTERACTIONS STAFF_RANGE STAFF_COUNT  \\\n",
       "0                  0.0                   90.0        2-10          22   \n",
       "1                  0.0                   43.0       11-50          34   \n",
       "2                  0.0                   41.0        2-10           3   \n",
       "3                  0.0                   40.0     201-500         494   \n",
       "4                  0.0                   33.0        2-10           2   \n",
       "\n",
       "  FOLLOWER_COUNT                     WEBSITE  \\\n",
       "0           2990        https://www.naas.ai/   \n",
       "1           2881        http://openteams.com   \n",
       "2            464  https://www.astratechz.com   \n",
       "3           4604         http://www.byuh.edu   \n",
       "4             93      http://www.tandh.co.za   \n",
       "\n",
       "                                             TAGLINE  \\\n",
       "0  ⚡️ All-in-one open source data platform\\n#lowc...   \n",
       "1            680+ Supported Open Source Technologies   \n",
       "2  Application Development | Technology Consultin...   \n",
       "3                                                 NA   \n",
       "4  \\n#TechStartups #ScaleUps #SouthAfricanTech  #...   \n",
       "\n",
       "                                         DESCRIPTION COMPANY_ID  \\\n",
       "0  Naas is the first Jupyter based data-science p...   70506391   \n",
       "1  OpenTeams is at the forefront of open source s...   19109784   \n",
       "2  We design apps, websites and technology soluti...   67135963   \n",
       "3  Brigham Young University Hawaii is a small, ac...     264355   \n",
       "4  The era of big data has arrived, bringing alon...   28944149   \n",
       "\n",
       "                      COMPANY_NAME  \\\n",
       "0                          naas.ai   \n",
       "1                        OpenTeams   \n",
       "2                      Astra Techz   \n",
       "3  Brigham Young University–Hawaii   \n",
       "4                              T&H   \n",
       "\n",
       "                                         COMPANY_URL  \\\n",
       "0           https://www.linkedin.com/company/naas-ai   \n",
       "1         https://www.linkedin.com/company/openteams   \n",
       "2        https://www.linkedin.com/company/astratechz   \n",
       "3  https://www.linkedin.com/company/brigham-young...   \n",
       "4  https://www.linkedin.com/company/t-h-executive...   \n",
       "\n",
       "                                        LINKEDIN_URL  \n",
       "0           https://www.linkedin.com/company/naas-ai  \n",
       "1         https://www.linkedin.com/company/openteams  \n",
       "2         https://in.linkedin.com/company/astratechz  \n",
       "3  https://www.linkedin.com/company/brigham-young...  \n",
       "4  https://za.linkedin.com/company/t-h-executive-...  "
      ]
     },
     "execution_count": 8,
     "metadata": {},
     "output_type": "execute_result"
    }
   ],
   "source": [
    "def get_linkedin_url(company, companies_urls):\n",
    "    # Init linkedinbio\n",
    "    linkedinbio = \"NA\"\n",
    "    \n",
    "    # Create query\n",
    "    if company not in companies_urls:\n",
    "        query = f\"{company.replace(' ', '+')}+LinkedIn+company\"\n",
    "        print(\"Google query: \", query)\n",
    "\n",
    "        # Search in Google\n",
    "        for i in search(query, tld=\"com\", num=10, stop=10, pause=2):\n",
    "            pattern = \"https:\\/\\/.+.linkedin.com\\/company\\/.([^?])+\"\n",
    "            result = re.search(pattern, i)\n",
    "\n",
    "            # Return value if result is not None\n",
    "            if result != None:\n",
    "                linkedinbio = result.group(0).replace(\" \", \"\")\n",
    "                companies_urls[company] = linkedinbio\n",
    "                time.sleep(2)\n",
    "                break\n",
    "    else:\n",
    "        linkedinbio = companies_urls.get(company)\n",
    "    pdump(output_dir, companies_urls, \"companies_urls\")\n",
    "    return linkedinbio\n",
    "\n",
    "def enrich_leads_companies(\n",
    "    df_init,\n",
    "    ref,\n",
    "    output_dir,\n",
    "):\n",
    "    # Init\n",
    "    df = df_init.copy()\n",
    "\n",
    "    # Add LinkedIn URL column and get existing urls\n",
    "    if not \"LINKEDIN_URL\" in df.columns:\n",
    "        df[\"LINKEDIN_URL\"] = \"TBD\"\n",
    "        companies_urls = {}\n",
    "    else:\n",
    "        companies_urls = pload(output_dir, \"companies_urls\")\n",
    "        if companies_urls is None:\n",
    "            companies_urls = df[df[\"LINKEDIN_URL\"] != \"TBD\"].set_index('COMPANY')['LINKEDIN_URL'].to_dict()\n",
    "            pdump(output_dir, companies_urls, \"companies_urls\")\n",
    "            \n",
    "    # Add CRM company column and match if company name exists\n",
    "    if not \"CRM_COMPANY\" in df.columns:\n",
    "        df[\"CRM_COMPANY\"] = \"TBD\"\n",
    "        crm_companies = {}\n",
    "    else:\n",
    "        crm_companies = pload(output_dir, \"crm_companies\")\n",
    "        if crm_companies is None:\n",
    "            crm_companies = df[df[\"CRM_COMPANY\"] != \"TBD\"].set_index('COMPANY')['CRM_COMPANY'].to_dict()\n",
    "            pdump(output_dir, crm_companies, \"crm_companies\")\n",
    "            \n",
    "    # Add company ID column\n",
    "    if not \"COMPANY_ID\" in df.columns:\n",
    "        df[\"COMPANY_ID\"] = \"TBD\"\n",
    "    \n",
    "    # Clean ref\n",
    "    ref[\"COMPANY_CLEAN\"] = ref.apply(lambda row: str(row[\"COMPANY\"]).lower().split(\",\")[0].replace(\"inc\", \"\").replace(\"l.l.c\", \"\"), axis=1)\n",
    "    \n",
    "    # Loop on companies\n",
    "    call_linkedin = 0\n",
    "    limit_linkedin = 30\n",
    "    for row in df.itertuples():\n",
    "        index = row.Index\n",
    "        company = row.COMPANY\n",
    "        linkedin_url = row.LINKEDIN_URL\n",
    "        interaction_score = row.INTERACTION_SCORE\n",
    "        company_id = row.COMPANY_ID\n",
    "        crm_company = row.CRM_COMPANY\n",
    "\n",
    "        # Update ICP and Company from OpenAI\n",
    "        if linkedin_url == \"TBD\":\n",
    "            print(f\"🤖 Google Search - Finding LinkedIn URL for '{company}' ...\")\n",
    "            linkedin_url =  get_linkedin_url(company, companies_urls)\n",
    "            df.loc[index, \"LINKEDIN_URL\"] = linkedin_url\n",
    "            print(\"- LinkedIn URL:\", linkedin_url)\n",
    "            print()\n",
    "        \n",
    "        if \"company\" in linkedin_url and interaction_score >= 3 and company_id == \"TBD\":\n",
    "            print(f\"🕸️ LinkedIn - Enrich data for '{company}' (interaction score: {interaction_score})\")\n",
    "            print(linkedin_url)\n",
    "            public_id = linkedin_url.split(\"/\")[-1]\n",
    "            tmp_df = pload(output_dir, f\"{public_id}_linkedin_company\")\n",
    "            if tmp_df is None:\n",
    "                try:\n",
    "                    tmp_df = linkedin.connect(li_at, JSESSIONID).company.get_info(linkedin_url)\n",
    "                    pdump(output_dir, tmp_df, f\"{public_id}_linkedin_company\")\n",
    "                    time.sleep(2)\n",
    "                except Exception as e:\n",
    "                    print(e)\n",
    "                    tmp_df = pd.DataFrame()\n",
    "                \n",
    "            if len(tmp_df) > 0:                \n",
    "                df.loc[index, \"COMPANY_ID\"] = tmp_df.loc[0, \"COMPANY_ID\"]\n",
    "                df.loc[index, \"COMPANY_NAME\"] = tmp_df.loc[0, \"COMPANY_NAME\"]\n",
    "                df.loc[index, \"COMPANY_URL\"] = tmp_df.loc[0, \"COMPANY_URL\"]\n",
    "                df.loc[index, \"INDUSTRY\"] = tmp_df.loc[0, \"INDUSTRY\"]\n",
    "                df.loc[index, \"STAFF_COUNT\"] = tmp_df.loc[0, \"STAFF_COUNT\"]\n",
    "                df.loc[index, \"STAFF_RANGE\"] = tmp_df.loc[0, \"STAFF_RANGE\"]\n",
    "                df.loc[index, \"FOLLOWER_COUNT\"] = tmp_df.loc[0, \"FOLLOWER_COUNT\"]\n",
    "                df.loc[index, \"COUNTRY\"] = tmp_df.loc[0, \"COUNTRY\"]\n",
    "                df.loc[index, \"CITY\"] = tmp_df.loc[0, \"CITY\"]\n",
    "                df.loc[index, \"WEBSITE\"] = tmp_df.loc[0, \"WEBSITE\"]\n",
    "                df.loc[index, \"TAGLINE\"] = tmp_df.loc[0, \"TAGLINE\"]\n",
    "                df.loc[index, \"DESCRIPTION\"] = tmp_df.loc[0, \"DESCRIPTION\"]\n",
    "            else:\n",
    "                df.loc[index, \"COMPANY_ID\"] = \"UNKNOWN\"\n",
    "            call_linkedin += 1\n",
    "            if call_linkedin >= limit_linkedin:\n",
    "                print(\"🛑 Call LinkedIn reached:\", limit_linkedin)\n",
    "                break\n",
    "            else:\n",
    "                print(\"- ⚠️ LinkedIn call:\", call_linkedin)\n",
    "            print()\n",
    "                \n",
    "        # Find companies in CRM\n",
    "        if len(ref) > 0 and crm_company == \"TBD\":\n",
    "            company = company.replace(\".\", \"\")\n",
    "            print(f\"💛 Sequence Matcher - Finding if '{company}' is in CRM ...\")\n",
    "            crm_company = find_crm_match(\n",
    "                ref,\n",
    "                \"COMPANY_CLEAN\",\n",
    "                company\n",
    "            )\n",
    "            df.loc[index, \"CRM_COMPANY\"] = crm_company\n",
    "            print(\"- CRM company:\", crm_company)\n",
    "            crm_companies[company] = crm_company\n",
    "            pdump(output_dir, crm_companies, \"crm_companies\")\n",
    "            print()\n",
    "            \n",
    "    df.STAFF_RANGE = df.STAFF_RANGE.str.replace(\"-None\", \">\")\n",
    "    df = df.replace(\"nan\", \"NA\").replace(\"na\", \"NA\").replace(\"None\", \"NA\")\n",
    "    if \"STAFF_RANGE\" in df:\n",
    "        staff_maping = {\n",
    "            \"NA\": \"NA\",\n",
    "            \"UNKNOWN\": \"NA\",\n",
    "            \"TBD\": \"NA\",\n",
    "            \"0-1\": \"Solopreneur\",\n",
    "            \"2-10\":\t\"Micro Team\",\n",
    "            \"11-50\": \"Small Company\",\n",
    "            \"51-200\": \"Medium Company\",\n",
    "            \"201-500\": \"Large Company\",\n",
    "            \"501-1000\":\t\"Enterprise Level\",\n",
    "            \"1001-5000\": \"Major Corporation\",\n",
    "            \"5001-10000\": \"Global Corporation\",\n",
    "            \"10001>\": \"Mega Corporation\",\n",
    "        }\n",
    "        df[\"STAFF_RANGE_NAME\"] = df[\"STAFF_RANGE\"].map(staff_maping)\n",
    "    to_order = [\n",
    "        'COMPANY',\n",
    "        'INDUSTRY',\n",
    "        'CITY',\n",
    "        'COUNTRY',\n",
    "        'STAFF_RANGE_NAME',\n",
    "        'CRM_COMPANY',\n",
    "        'INTERACTION_SCORE',\n",
    "        'DIRECT_INTERACTIONS',\n",
    "        'INDIRECT_INTERACTIONS',\n",
    "        'STAFF_RANGE',\n",
    "        'STAFF_COUNT',\n",
    "        'FOLLOWER_COUNT',\n",
    "        'WEBSITE',\n",
    "        'TAGLINE',\n",
    "        'DESCRIPTION',\n",
    "        'COMPANY_ID',\n",
    "        'COMPANY_NAME',\n",
    "        'COMPANY_URL',\n",
    "        'LINKEDIN_URL',\n",
    "    ]\n",
    "    df = df[to_order]\n",
    "    return df.reset_index(drop=True)\n",
    "\n",
    "df_leads_companies_update = enrich_leads_companies(\n",
    "    db_companies,\n",
    "    df_companies,\n",
    "    output_dir\n",
    ")\n",
    "print(\"Companies:\", len(df_leads_companies_update))\n",
    "df_leads_companies_update.head(5)"
   ]
  },
  {
   "cell_type": "markdown",
   "id": "output_cell",
   "metadata": {
    "papermill": {},
    "tags": []
   },
   "source": [
    "## Output"
   ]
  },
  {
   "cell_type": "markdown",
   "id": "f40228ff-179f-49f6-8150-a76f4c911b2b",
   "metadata": {},
   "source": [
    "### Save data"
   ]
  },
  {
   "cell_type": "code",
   "execution_count": 9,
   "id": "0b6b1a83-68ef-4174-826b-5e1a31b6efcb",
   "metadata": {
    "execution": {
     "iopub.execute_input": "2023-12-19T09:09:01.542945Z",
     "iopub.status.busy": "2023-12-19T09:09:01.542519Z",
     "iopub.status.idle": "2023-12-19T09:09:01.657562Z",
     "shell.execute_reply": "2023-12-19T09:09:01.656922Z",
     "shell.execute_reply.started": "2023-12-19T09:09:01.542912Z"
    },
    "tags": []
   },
   "outputs": [],
   "source": [
    "pdump(output_dir, df_leads_companies_update, file_leads_companies)"
   ]
  },
  {
   "cell_type": "markdown",
   "id": "2c62d245-41ef-4b96-afb4-38eee1ad0583",
   "metadata": {},
   "source": [
    "### Send \"Companies\" to spreadsheet"
   ]
  },
  {
   "cell_type": "code",
   "execution_count": 10,
   "id": "32e91b35-c1f8-4fe6-ae78-a2d4b79c8be7",
   "metadata": {
    "execution": {
     "iopub.execute_input": "2023-12-19T09:09:01.658593Z",
     "iopub.status.busy": "2023-12-19T09:09:01.658422Z",
     "iopub.status.idle": "2023-12-19T09:09:09.351790Z",
     "shell.execute_reply": "2023-12-19T09:09:09.350968Z",
     "shell.execute_reply.started": "2023-12-19T09:09:01.658575Z"
    },
    "papermill": {},
    "tags": []
   },
   "outputs": [
    {
     "data": {
      "text/plain": [
       "{'insertedRow': 1438}"
      ]
     },
     "execution_count": 10,
     "metadata": {},
     "output_type": "execute_result"
    }
   ],
   "source": [
    "gsheet.connect(spreadsheet_url).send(data=df_leads_companies_update, sheet_name=leads_companies_name, append=False)"
   ]
  },
  {
   "cell_type": "code",
   "execution_count": null,
   "id": "13cc4241-9a56-4495-9369-bf3de2bcfb42",
   "metadata": {},
   "outputs": [],
   "source": []
  }
 ],
 "metadata": {
  "kernelspec": {
   "display_name": "Python 3",
   "language": "python",
   "name": "python3"
  },
  "language_info": {
   "codemirror_mode": {
    "name": "ipython",
    "version": 3
   },
   "file_extension": ".py",
   "mimetype": "text/x-python",
   "name": "python",
   "nbconvert_exporter": "python",
   "pygments_lexer": "ipython3",
   "version": "3.9.6"
  },
  "naas": {
   "notebook_id": "cf32ecf61a1d6fdcae3273e7e70026564087776ace44ace0a939c08a2085586f",
   "notebook_path": "Google Sheets/Google_Sheets_Send_data.ipynb"
  },
  "papermill": {
   "default_parameters": {},
   "environment_variables": {},
   "parameters": {},
   "version": "2.3.3"
  }
 },
 "nbformat": 4,
 "nbformat_minor": 5
}
