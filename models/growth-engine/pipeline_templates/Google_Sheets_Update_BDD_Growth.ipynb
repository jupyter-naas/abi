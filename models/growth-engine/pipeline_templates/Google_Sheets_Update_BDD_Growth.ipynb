{
 "cells": [
  {
   "cell_type": "markdown",
   "id": "international-creativity",
   "metadata": {
    "papermill": {},
    "tags": []
   },
   "source": [
    "<img width=\"8%\" alt=\"Google Sheets.png\" src=\"https://raw.githubusercontent.com/jupyter-naas/awesome-notebooks/master/.github/assets/logos/Google%20Sheets.png\" style=\"border-radius: 15%\">"
   ]
  },
  {
   "cell_type": "markdown",
   "id": "unlimited-bookmark",
   "metadata": {
    "papermill": {},
    "tags": []
   },
   "source": [
    "# Google Sheets - Update BDD Growth"
   ]
  },
  {
   "cell_type": "markdown",
   "id": "tags_cell",
   "metadata": {
    "papermill": {},
    "tags": []
   },
   "source": [
    "**Tags:** #googlesheets #gsheet #data #naas_drivers #operations #snippet"
   ]
  },
  {
   "cell_type": "markdown",
   "id": "fbbbbc71-6333-4a70-b371-c9b82f8b5299",
   "metadata": {
    "papermill": {},
    "tags": []
   },
   "source": [
    "**Author:** [Florent Ravenel](https://www.linkedin.com/in/florent-ravenel/)"
   ]
  },
  {
   "cell_type": "markdown",
   "id": "naas-description",
   "metadata": {
    "papermill": {},
    "tags": [
     "description"
    ]
   },
   "source": [
    "**Description:** This notebook allows to send data to Google Sheets to a Google Sheets spreadsheet."
   ]
  },
  {
   "cell_type": "markdown",
   "id": "input_cell",
   "metadata": {
    "papermill": {},
    "tags": []
   },
   "source": [
    "## Input"
   ]
  },
  {
   "cell_type": "markdown",
   "id": "55d9e878-2148-47e3-a13d-09ba77202893",
   "metadata": {
    "papermill": {},
    "tags": []
   },
   "source": [
    "### Import libraries"
   ]
  },
  {
   "cell_type": "code",
   "execution_count": null,
   "id": "5fad521a-4a18-4dc7-b13d-98a37172715b",
   "metadata": {
    "papermill": {},
    "tags": []
   },
   "outputs": [],
   "source": [
    "from naas_drivers import gsheet\n",
    "import pandas as pd\n",
    "import os\n",
    "from datetime import date\n",
    "import naas_data_product\n",
    "try:\n",
    "    import openai\n",
    "except:\n",
    "    !pip install openai --user\n",
    "    import openai\n",
    "import time"
   ]
  },
  {
   "cell_type": "markdown",
   "id": "ec39e794-a8cd-41b8-9489-9ddb962a601c",
   "metadata": {
    "papermill": {},
    "tags": []
   },
   "source": [
    "### Setup variables\n",
    "**Inputs**\n",
    "- `input_dir`: Input directory to retrieve file from.\n",
    "- `file_reactions`: Name of the file with reactions to be retrieved.\n",
    "- `file_comments`: Name of the file with comments to be retrieved.\n",
    "\n",
    "**Outputs**\n",
    "- `spreadsheet_url`: Google Sheets spreadsheet URL.\n",
    "- `sheet_name`: Google Sheets sheet name.\n",
    "- `append`: If False, data will be canceled and replaced."
   ]
  },
  {
   "cell_type": "code",
   "execution_count": null,
   "id": "7c34bff6-9136-4aaf-a692-b38129b7de83",
   "metadata": {
    "papermill": {},
    "tags": [
     "parameters"
    ]
   },
   "outputs": [],
   "source": [
    "# Inputs\n",
    "input_dir = os.path.join(naas_data_product.OUTPUTS_PATH, \"growth-engine\", date.today().isoformat())\n",
    "input_file = \"linkedin_interactions\"\n",
    "\n",
    "# Outputs\n",
    "spreadsheet_url = naas.secret.get(\"ABI_SPREADSHEET\") or \"YOUR_GOOGLE_SPREADSHEET_URL\"\n",
    "sheet_name = \"GROWTH\"\n",
    "append = False\n",
    "output_file = \"growth\""
   ]
  },
  {
   "cell_type": "markdown",
   "id": "model_cell",
   "metadata": {
    "papermill": {},
    "tags": []
   },
   "source": [
    "## Model"
   ]
  },
  {
   "cell_type": "markdown",
   "id": "1568d91f-f088-4461-8911-95d8ad591229",
   "metadata": {},
   "source": [
    "### Get DB interactions"
   ]
  },
  {
   "cell_type": "code",
   "execution_count": null,
   "id": "57461362-178a-4dbd-81d1-dd27a6291c47",
   "metadata": {
    "tags": []
   },
   "outputs": [],
   "source": [
    "df_interactions = pload(input_dir, input_file)    \n",
    "print('🗂️ Interactions:', len(df_interactions))\n",
    "df_interactions.head(1)"
   ]
  },
  {
   "cell_type": "markdown",
   "id": "9395d3f0-15f4-46ce-af83-77828bbd61af",
   "metadata": {},
   "source": [
    "### Get interactions by profile and scenario"
   ]
  },
  {
   "cell_type": "code",
   "execution_count": null,
   "id": "76c84c7f-0cfd-41d2-8e71-19fefe11a643",
   "metadata": {
    "tags": []
   },
   "outputs": [],
   "source": [
    "def get_interactions_by_profile_and_scenario(\n",
    "    df_init,\n",
    "):\n",
    "    # Init\n",
    "    df = df_init.copy()\n",
    "    df_interactions = pd.DataFrame()\n",
    "    \n",
    "    # Cleaning\n",
    "    to_select = [\n",
    "        \"SCENARIO\",\n",
    "        \"PROFILE_URL\",\n",
    "        \"CONTENT_TITLE\",\n",
    "        \"CONTENT_URL\",\n",
    "        \"INTERACTION\",\n",
    "        \"INTERACTION_CONTENT\"\n",
    "    ]\n",
    "    df = df[to_select].sort_values(by=\"PROFILE_URL\").reset_index(drop=True)\n",
    "    df[\"INTERACTION_TEXT\"] = \"\"\n",
    "    df.loc[df[\"INTERACTION\"] == \"POST_REACTION\", \"INTERACTION_TEXT\"] = df[\"INTERACTION_CONTENT\"].str.capitalize() + \" '\" + df[\"CONTENT_TITLE\"].str.strip() + \"' (\" + df[\"CONTENT_URL\"] + \")\"\n",
    "    df.loc[df[\"INTERACTION\"] == \"POST_COMMENT\", \"INTERACTION_TEXT\"] = \"Comment '\" + df[\"INTERACTION_CONTENT\"].str.capitalize() + \"' on '\" + df[\"CONTENT_TITLE\"].str.strip() + \"' (\" + df[\"CONTENT_URL\"] + \")\"\n",
    "\n",
    "    # Create interactions by profile\n",
    "    df_keys = df_init.copy()\n",
    "    df_keys = df_keys[[\"SCENARIO\", \"PROFILE_URL\"]].drop_duplicates()\n",
    "    for row in df_keys.itertuples():\n",
    "        index = row.Index\n",
    "        scenario = row.SCENARIO\n",
    "        profile_url = row.PROFILE_URL\n",
    "        tmp_df = df.copy()\n",
    "        tmp_df = tmp_df[(tmp_df[\"SCENARIO\"] == scenario) & (tmp_df[\"PROFILE_URL\"] == profile_url)].reset_index(drop=True)\n",
    "        interests = \"\"\n",
    "        for row in tmp_df.itertuples():\n",
    "            interaction_text = row.INTERACTION_TEXT\n",
    "            interests = f\"{interests}{interaction_text}, \"\n",
    "        df_keys.loc[index, \"INTERACTIONS\"] = interests.strip()\n",
    "    return df_keys\n",
    "\n",
    "df_interaction_text = get_interactions_by_profile_and_scenario(df_interactions)\n",
    "df_interaction_text.head(1)"
   ]
  },
  {
   "cell_type": "markdown",
   "id": "516322ce-6b22-486f-8333-ef882f5ec1ae",
   "metadata": {},
   "source": [
    "### Get last interaction date"
   ]
  },
  {
   "cell_type": "code",
   "execution_count": null,
   "id": "d3cdac5e-ef5e-48bc-821c-830b9df60a8b",
   "metadata": {
    "tags": []
   },
   "outputs": [],
   "source": [
    "df_last_interaction = df_interactions[[\"SCENARIO\", \"PROFILE_URL\", \"PUBLISHED_DATE\"]].drop_duplicates().drop_duplicates([\"SCENARIO\", \"PROFILE_URL\"])\n",
    "df_last_interaction.head(1)"
   ]
  },
  {
   "cell_type": "markdown",
   "id": "739a63fb-fd47-47c7-be14-64849279a1e7",
   "metadata": {},
   "source": [
    "### Create Growth dataframe"
   ]
  },
  {
   "cell_type": "code",
   "execution_count": null,
   "id": "6823374f-9255-4e54-a125-c8be746acdd4",
   "metadata": {
    "tags": []
   },
   "outputs": [],
   "source": [
    "def create_growth_db(df_init):\n",
    "    # Init\n",
    "    df = df_init.copy()\n",
    "    \n",
    "    # Get cohort\n",
    "    df_cohort = df_init[[\"SCENARIO\", \"PROFILE_URL\"]].drop_duplicates(keep='last')\n",
    "    current_scenario = df_cohort.loc[0, \"SCENARIO\"]\n",
    "    df_cohort.loc[df_cohort[\"SCENARIO\"] == current_scenario, \"SCENARIO\"] = \"NEW\"\n",
    "    cohorts = df_cohort.set_index('PROFILE_URL')['SCENARIO'].to_dict()\n",
    "    \n",
    "    # Add cohort to df\n",
    "    df[\"COHORT\"] = df[\"PROFILE_URL\"].map(cohorts)\n",
    "    \n",
    "    # Groupby\n",
    "    to_group = [\n",
    "        \"ENTITY\",\n",
    "        \"SCENARIO\",\n",
    "        \"PLATFORM\",\n",
    "        \"FULLNAME\",\n",
    "        \"COHORT\",\n",
    "        \"OCCUPATION\",\n",
    "        \"PROFILE_URL\",\n",
    "    ]\n",
    "    to_agg = {\n",
    "        \"INTERACTION_SCORE\": \"sum\"\n",
    "    }\n",
    "    df = df.groupby(to_group, as_index=False).agg(to_agg)\n",
    "\n",
    "    # Merge data\n",
    "    df = pd.merge(df, df_interaction_text, how=\"left\")\n",
    "    df = pd.merge(df, df_last_interaction, how=\"left\")\n",
    "\n",
    "    to_rename = {\n",
    "        \"PUBLISHED_DATE\": \"LAST_INTERACTION_DATE\"\n",
    "    }\n",
    "    df = df.rename(columns=to_rename)\n",
    "    df[\"LAST_INTERACTION_DATE\"] = pd.to_datetime(df[\"LAST_INTERACTION_DATE\"].str[:-5]).dt.strftime(\"%a. %d %b.\")\n",
    "    df = df.sort_values(by=[\"SCENARIO\", \"INTERACTION_SCORE\", \"LAST_INTERACTION_DATE\"], ascending=[False, False, False])\n",
    "    return df.reset_index(drop=True)\n",
    "\n",
    "df_growth = create_growth_db(df_interactions)\n",
    "print(\"🚀 Growth DB:\", len(df_growth))\n",
    "df_growth.head(5)"
   ]
  },
  {
   "cell_type": "markdown",
   "id": "output_cell",
   "metadata": {
    "papermill": {},
    "tags": []
   },
   "source": [
    "## Output"
   ]
  },
  {
   "cell_type": "markdown",
   "id": "62abcfe3-7812-4232-b1f9-73ab7eb2f795",
   "metadata": {
    "papermill": {},
    "tags": []
   },
   "source": [
    "### Save data"
   ]
  },
  {
   "cell_type": "code",
   "execution_count": null,
   "id": "63f11af8-00ae-419d-b038-95144a19bcb2",
   "metadata": {
    "papermill": {},
    "tags": []
   },
   "outputs": [],
   "source": [
    "pdump(input_dir, df_growth, output_file)"
   ]
  },
  {
   "cell_type": "markdown",
   "id": "28b11537-6391-4022-b55d-dd1f84cbe97f",
   "metadata": {
    "papermill": {},
    "tags": []
   },
   "source": [
    "### Send data to Google Sheets spreadsheet"
   ]
  },
  {
   "cell_type": "code",
   "execution_count": null,
   "id": "32e91b35-c1f8-4fe6-ae78-a2d4b79c8be7",
   "metadata": {
    "papermill": {},
    "tags": []
   },
   "outputs": [],
   "source": [
    "gsheet.connect(spreadsheet_url).send(sheet_name=sheet_name, data=df_growth, append=append)"
   ]
  },
  {
   "cell_type": "code",
   "execution_count": null,
   "id": "13cc4241-9a56-4495-9369-bf3de2bcfb42",
   "metadata": {},
   "outputs": [],
   "source": []
  }
 ],
 "metadata": {
  "kernelspec": {
   "display_name": "Python 3",
   "language": "python",
   "name": "python3"
  },
  "language_info": {
   "codemirror_mode": {
    "name": "ipython",
    "version": 3
   },
   "file_extension": ".py",
   "mimetype": "text/x-python",
   "name": "python",
   "nbconvert_exporter": "python",
   "pygments_lexer": "ipython3",
   "version": "3.9.6"
  },
  "naas": {
   "notebook_id": "cf32ecf61a1d6fdcae3273e7e70026564087776ace44ace0a939c08a2085586f",
   "notebook_path": "Google Sheets/Google_Sheets_Send_data.ipynb"
  },
  "papermill": {
   "default_parameters": {},
   "environment_variables": {},
   "parameters": {},
   "version": "2.3.3"
  }
 },
 "nbformat": 4,
 "nbformat_minor": 5
}
