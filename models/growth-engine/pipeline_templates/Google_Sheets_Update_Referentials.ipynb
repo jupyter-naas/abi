{
 "cells": [
  {
   "cell_type": "markdown",
   "id": "international-creativity",
   "metadata": {
    "papermill": {},
    "tags": []
   },
   "source": [
    "<img width=\"8%\" alt=\"Google Sheets.png\" src=\"https://raw.githubusercontent.com/jupyter-naas/awesome-notebooks/master/.github/assets/logos/Google%20Sheets.png\" style=\"border-radius: 15%\">"
   ]
  },
  {
   "cell_type": "markdown",
   "id": "unlimited-bookmark",
   "metadata": {
    "papermill": {},
    "tags": []
   },
   "source": [
    "# Google Sheets - Update Referentials"
   ]
  },
  {
   "cell_type": "markdown",
   "id": "tags_cell",
   "metadata": {
    "papermill": {},
    "tags": []
   },
   "source": [
    "**Tags:** #googlesheets #gsheet #data #naas_drivers #operations #snippet"
   ]
  },
  {
   "cell_type": "markdown",
   "id": "fbbbbc71-6333-4a70-b371-c9b82f8b5299",
   "metadata": {
    "papermill": {},
    "tags": []
   },
   "source": [
    "**Author:** [Florent Ravenel](https://www.linkedin.com/in/florent-ravenel/)"
   ]
  },
  {
   "cell_type": "markdown",
   "id": "naas-description",
   "metadata": {
    "papermill": {},
    "tags": [
     "description"
    ]
   },
   "source": [
    "**Description:** This notebook allows to send data to Google Sheets to a Google Sheets spreadsheet."
   ]
  },
  {
   "cell_type": "markdown",
   "id": "input_cell",
   "metadata": {
    "papermill": {},
    "tags": []
   },
   "source": [
    "## Input"
   ]
  },
  {
   "cell_type": "markdown",
   "id": "55d9e878-2148-47e3-a13d-09ba77202893",
   "metadata": {
    "papermill": {},
    "tags": []
   },
   "source": [
    "### Import libraries"
   ]
  },
  {
   "cell_type": "code",
   "execution_count": null,
   "id": "5fad521a-4a18-4dc7-b13d-98a37172715b",
   "metadata": {
    "papermill": {},
    "tags": []
   },
   "outputs": [],
   "source": [
    "from naas_drivers import gsheet\n",
    "import pandas as pd\n",
    "import os\n",
    "from datetime import date\n",
    "import naas_data_product\n",
    "try:\n",
    "    import openai\n",
    "except:\n",
    "    !pip install openai --user\n",
    "    import openai\n",
    "import time\n",
    "try:\n",
    "    from googlesearch import search\n",
    "except:\n",
    "    !pip install google\n",
    "    from googlesearch import search\n",
    "import re"
   ]
  },
  {
   "cell_type": "markdown",
   "id": "ec39e794-a8cd-41b8-9489-9ddb962a601c",
   "metadata": {
    "papermill": {},
    "tags": []
   },
   "source": [
    "### Setup variables\n",
    "**Inputs**\n",
    "- `input_dir`: Input directory to retrieve file from.\n",
    "- `file_reactions`: Name of the file with reactions to be retrieved.\n",
    "- `file_comments`: Name of the file with comments to be retrieved.\n",
    "\n",
    "**Outputs**\n",
    "- `spreadsheet_url`: Google Sheets spreadsheet URL.\n",
    "- `sheet_name`: Google Sheets sheet name.\n",
    "- `append`: If False, data will be canceled and replaced."
   ]
  },
  {
   "cell_type": "code",
   "execution_count": null,
   "id": "7c34bff6-9136-4aaf-a692-b38129b7de83",
   "metadata": {
    "papermill": {},
    "tags": [
     "parameters"
    ]
   },
   "outputs": [],
   "source": [
    "# Inputs\n",
    "input_dir = os.path.join(naas_data_product.OUTPUTS_PATH, \"growth-engine\", date.today().isoformat())\n",
    "file_name = \"linkedin_interactions\"\n",
    "openai_api_key = naas.secret.get(\"OPENAI_API_KEY\")\n",
    "\n",
    "# Outputs\n",
    "spreadsheet_url = naas.secret.get(\"ABI_SPREADSHEET\") or \"YOUR_GOOGLE_SPREADSHEET_URL\"\n",
    "ref_contact_name = \"REF_CONTACT\"\n",
    "ref_company_name = \"REF_COMPANY\"\n",
    "append = False"
   ]
  },
  {
   "cell_type": "markdown",
   "id": "model_cell",
   "metadata": {
    "papermill": {},
    "tags": []
   },
   "source": [
    "## Model"
   ]
  },
  {
   "cell_type": "markdown",
   "id": "1568d91f-f088-4461-8911-95d8ad591229",
   "metadata": {},
   "source": [
    "### Get BDD interactions"
   ]
  },
  {
   "cell_type": "code",
   "execution_count": null,
   "id": "57461362-178a-4dbd-81d1-dd27a6291c47",
   "metadata": {
    "tags": []
   },
   "outputs": [],
   "source": [
    "df_interactions = pload(input_dir, file_name)    \n",
    "print('🗂️ Interactions:', len(df_interactions))\n",
    "df_interactions.head(1)"
   ]
  },
  {
   "cell_type": "markdown",
   "id": "01e1f277-63d6-4036-a3d2-5d9e3ad5e36e",
   "metadata": {},
   "source": [
    "### Get data \"REF_CONTACT\" from Google Sheets spreadsheet"
   ]
  },
  {
   "cell_type": "code",
   "execution_count": null,
   "id": "ad0dc574-3708-4d82-9af2-a53d91fd4114",
   "metadata": {
    "tags": []
   },
   "outputs": [],
   "source": [
    "ref_contact = gsheet.connect(spreadsheet_url).get(sheet_name=ref_contact_name)\n",
    "print(\"Ref. contact:\", len(ref_contact))\n",
    "ref_contact.head(5)"
   ]
  },
  {
   "cell_type": "markdown",
   "id": "19f3a0a2-5a4e-4d9c-a8e0-44186bdb91f6",
   "metadata": {},
   "source": [
    "### Get data \"REF_COMPANY\" from Google Sheets spreadsheet"
   ]
  },
  {
   "cell_type": "code",
   "execution_count": null,
   "id": "1af1dee0-31ec-4f34-b91e-624063c11aeb",
   "metadata": {
    "tags": []
   },
   "outputs": [],
   "source": [
    "ref_company = gsheet.connect(spreadsheet_url).get(sheet_name=ref_company_name)\n",
    "print(\"Ref. company:\", len(ref_company))\n",
    "ref_company.head(1)"
   ]
  },
  {
   "cell_type": "markdown",
   "id": "29a75eff-5734-465a-aa2b-833396dd6614",
   "metadata": {},
   "source": [
    "### Get interactions unique profiles"
   ]
  },
  {
   "cell_type": "code",
   "execution_count": null,
   "id": "1b907024-2076-4948-9421-c90578db9cc0",
   "metadata": {
    "tags": []
   },
   "outputs": [],
   "source": [
    "# Init\n",
    "df_profiles = df_interactions.copy()\n",
    "\n",
    "# Groupby\n",
    "to_group = [\n",
    "    \"FULLNAME\",\n",
    "    \"OCCUPATION\",\n",
    "    \"PROFILE_URL\",\n",
    "]\n",
    "to_agg = {\n",
    "    \"INTERACTION_SCORE\": \"sum\"\n",
    "}\n",
    "df_profiles = df_profiles.groupby(to_group, as_index=False).agg(to_agg)\n",
    "print(\"Profiles:\", len(df_profiles))\n",
    "df_profiles.head(1)"
   ]
  },
  {
   "cell_type": "markdown",
   "id": "739d09c5-3751-4c15-b126-2322c6dce76a",
   "metadata": {},
   "source": [
    "### Update Ref Contact"
   ]
  },
  {
   "cell_type": "code",
   "execution_count": null,
   "id": "d3083709-91e1-4cad-be31-9faa7971c1b1",
   "metadata": {
    "tags": []
   },
   "outputs": [],
   "source": [
    "def create_chat_completion(\n",
    "    openai_api_key,\n",
    "    prompt,\n",
    "    message\n",
    "):\n",
    "    # Init\n",
    "    openai.api_key = openai_api_key\n",
    "    \n",
    "    # Get response\n",
    "    response = openai.ChatCompletion.create(\n",
    "        model=\"gpt-4\",\n",
    "        temperature=0,\n",
    "        messages=[\n",
    "            {\n",
    "                \"role\": \"system\",\n",
    "                \"content\": prompt\n",
    "            },\n",
    "            {\n",
    "                \"role\": \"user\",\n",
    "                \"content\": message\n",
    "            }\n",
    "        ]\n",
    "    )\n",
    "    return response['choices'][0]['message']['content'].replace(\"'\", \"\")"
   ]
  },
  {
   "cell_type": "code",
   "execution_count": null,
   "id": "61c00c79-b19a-4e8b-adb7-2ecf324a8bf6",
   "metadata": {
    "tags": []
   },
   "outputs": [],
   "source": [
    "prompt_company = f\"\"\"\n",
    "I will give you the occupation from a profile I get from LinkedIn, you will return the current company he is working for.\n",
    "If you don't find it in the occupation return \"TBD\"\n",
    "Don't put the results into quotes.\n",
    "\"\"\"\n",
    "\n",
    "prompt_icp = f\"\"\"\n",
    "I have 2 ideal customer profile, one is a 'data producer' with basic knowledge of Python that could use our Notebook templates to create plugins. \n",
    "These plugions are then distributed data via our NaasAI Chat interface.\n",
    "The other one is a 'data consummer' that will enjoy using NaasAI Chat for its basic LLMs integration but also interested in having its own data available, hence work with the data producer. \n",
    "I will give you the occupation from a profile I get from LinkedIn, you will return stricly and only one of the following values inside the simple quotes based on the best match 'DataProducer', 'DataConsummer', 'NotICP' or 'Don't know' if you don't find a plausible match with the first 3 values.\n",
    "Don't put the results into quotes.\n",
    "\"\"\"\n",
    "\n",
    "def update_ref_contact(\n",
    "    df_init,\n",
    "    ref_contact,\n",
    "    input_dir\n",
    "):\n",
    "    # Init\n",
    "    df = df_init.copy()\n",
    "\n",
    "    # Filter on contact\n",
    "    df = df[df[\"PROFILE_URL\"].str.contains(\"https://www.linkedin.com/in/.+\")]\n",
    "    df = df.sort_values(by=[\"INTERACTION_SCORE\"], ascending=[False]).reset_index(drop=True)\n",
    "    df = pd.concat([ref_contact, df]).drop_duplicates(\"PROFILE_URL\")\n",
    "    if not \"ICP\" in df.columns:\n",
    "        df[\"ICP\"] = \"UNKNOWN\"\n",
    "    if not \"COMPANY\" in df.columns:\n",
    "        df[\"COMPANY\"] = \"UNKNOWN\"\n",
    "    \n",
    "    # Find ICP and Company\n",
    "    for row in df.itertuples():\n",
    "        index = row.Index\n",
    "        fullname = row.FULLNAME\n",
    "        occupation = row.OCCUPATION\n",
    "        icp = row.ICP\n",
    "        company = row.COMPANY\n",
    "        if icp == \"UNKNOWN\" and icp == \"UNKNOWN\":\n",
    "            print(f\"{index} - Starting with '{fullname}': {occupation}\")\n",
    "\n",
    "            icp = create_chat_completion(openai_api_key, prompt_icp, occupation)\n",
    "            print(\"ICP:\", icp)\n",
    "            time.sleep(2)\n",
    "            company = create_chat_completion(openai_api_key, prompt_company, occupation)\n",
    "            print(\"Current company:\", company)\n",
    "\n",
    "            df.loc[index, \"ICP\"] = icp\n",
    "            df.loc[index, \"COMPANY\"] = company\n",
    "            pdump(input_dir, df, \"contacts\")\n",
    "            time.sleep(2)\n",
    "    return df.reset_index(drop=True)\n",
    "    \n",
    "df_contact = update_ref_contact(\n",
    "    df_profiles,\n",
    "    ref_contact,\n",
    "    input_dir,\n",
    ")  \n",
    "print(\"Contacts:\", len(df_contact))\n",
    "df_contact.head(5)"
   ]
  },
  {
   "cell_type": "code",
   "execution_count": null,
   "id": "9dba7193-7b32-415d-b6db-db7be0053ba5",
   "metadata": {
    "tags": []
   },
   "outputs": [],
   "source": [
    "def get_linkedin_url(company):\n",
    "    # Init linkedinbio\n",
    "    linkedinbio = \"UNKNOWN\"\n",
    "\n",
    "    # Create query\n",
    "    query = f\"{company.replace(' ', '+')}+LinkedIn+company\"\n",
    "    print(\"Google query: \", query)\n",
    "\n",
    "    # Search in Google\n",
    "    for i in search(query, tld=\"com\", num=10, stop=10, pause=2):\n",
    "        pattern = \"https:\\/\\/.+.linkedin.com\\/company\\/.([^?])+\"\n",
    "        result = re.search(pattern, i)\n",
    "\n",
    "        # Return value if result is not None\n",
    "        if result != None:\n",
    "            linkedinbio = result.group(0).replace(\" \", \"\")\n",
    "            time.sleep(2)\n",
    "            return linkedinbio\n",
    "    return linkedinbio\n",
    "\n",
    "def update_ref_company(\n",
    "    df_init,\n",
    "    df_contact,\n",
    "    ref_company,\n",
    "    input_dir\n",
    "):\n",
    "    # Init\n",
    "    df = df_init.copy()\n",
    "            \n",
    "    # Get companies from direct interactions\n",
    "    df_company_d = df_init.copy()\n",
    "    df_company_d = df_company_d[df_company_d[\"PROFILE_URL\"].str.contains(\"https://www.linkedin.com/company/.+\")]\n",
    "    to_keep = [\n",
    "        \"FULLNAME\",\n",
    "        \"PROFILE_URL\",\n",
    "        \"INTERACTION_SCORE\"\n",
    "    ]\n",
    "    to_rename = {\n",
    "        \"FULLNAME\": \"COMPANY_NAME\",\n",
    "        \"PROFILE_URL\": \"LINKEDIN_URL\",\n",
    "        \"INTERACTION_SCORE\": \"DIRECT_INTERACTIONS\"\n",
    "    }\n",
    "    df_company_d = df_company_d[to_keep].rename(columns=to_rename)\n",
    "    \n",
    "    # Get companies from indirect interactions\n",
    "    df_company_i = df_contact.copy()\n",
    "    to_group = [\n",
    "        \"COMPANY\",\n",
    "    ]\n",
    "    to_agg = {\n",
    "        \"INTERACTION_SCORE\": \"sum\"\n",
    "    }\n",
    "    to_rename = {\n",
    "        \"COMPANY\": \"COMPANY_NAME\",\n",
    "        \"INTERACTION_SCORE\": \"INDIRECT_INTERACTIONS\"\n",
    "    }\n",
    "    df_company_i = df_company_i.groupby(to_group, as_index=False).agg(to_agg).rename(columns=to_rename)\n",
    "    \n",
    "    # Concat\n",
    "    fillna = {\n",
    "        \"LINKEDIN_URL\": \"TBD\",\n",
    "        \"DIRECT_INTERACTIONS\": 0,\n",
    "        \"INDIRECT_INTERACTIONS\": 0\n",
    "    }\n",
    "    df_company = pd.concat([ref_company, df_company_d, df_company_i]).drop_duplicates(\"COMPANY_NAME\").fillna(fillna)\n",
    "    df_company[\"INTERACTION_SCORE\"] = df_company[\"DIRECT_INTERACTIONS\"] + df_company[\"INDIRECT_INTERACTIONS\"]\n",
    "    df_company = df_company.sort_values(by=[\"INTERACTION_SCORE\"], ascending=[False])\n",
    "    df_company = df_company[df_company[\"COMPANY_NAME\"] != \"TBD\"].reset_index(drop=True)\n",
    "    for row in df_company.itertuples():\n",
    "        index = row.Index\n",
    "        company_name = row.COMPANY_NAME\n",
    "        linkedin_url = row.LINKEDIN_URL\n",
    "        if linkedin_url == \"TBD\":\n",
    "            print(f\"{index} - Starting with '{company_name}':\")\n",
    "            linkedin_url = get_linkedin_url(company_name)\n",
    "            print(\"LinkedIn URL:\", linkedin_url)\n",
    "            df_company.loc[index, \"LINKEDIN_URL\"] = linkedin_url\n",
    "            pdump(input_dir, df_company, \"companies\")\n",
    "    return df_company.reset_index(drop=True)\n",
    "\n",
    "df_company = update_ref_company(\n",
    "    df_profiles,\n",
    "    df_contact,\n",
    "    ref_company,\n",
    "    input_dir\n",
    ")\n",
    "print(\"Companies:\", len(df_company))\n",
    "df_company.head(5)"
   ]
  },
  {
   "cell_type": "markdown",
   "id": "output_cell",
   "metadata": {
    "papermill": {},
    "tags": []
   },
   "source": [
    "## Output"
   ]
  },
  {
   "cell_type": "markdown",
   "id": "26a2f7e5-a6d9-4863-b969-2d2f9f339fe0",
   "metadata": {},
   "source": [
    "### Send \"Contacts\" to spreadsheet"
   ]
  },
  {
   "cell_type": "code",
   "execution_count": null,
   "id": "59a498dd-a1d3-46fd-8b81-efa4df1813f1",
   "metadata": {
    "tags": []
   },
   "outputs": [],
   "source": [
    "gsheet.connect(spreadsheet_url).send(data=df_contact, sheet_name=ref_contact_name, append=False)"
   ]
  },
  {
   "cell_type": "markdown",
   "id": "2c62d245-41ef-4b96-afb4-38eee1ad0583",
   "metadata": {},
   "source": [
    "### Send \"Companies\" to spreadsheet"
   ]
  },
  {
   "cell_type": "code",
   "execution_count": null,
   "id": "32e91b35-c1f8-4fe6-ae78-a2d4b79c8be7",
   "metadata": {
    "papermill": {},
    "tags": []
   },
   "outputs": [],
   "source": [
    "gsheet.connect(spreadsheet_url).send(data=df_company, sheet_name=ref_company_name, append=False)"
   ]
  },
  {
   "cell_type": "code",
   "execution_count": null,
   "id": "13cc4241-9a56-4495-9369-bf3de2bcfb42",
   "metadata": {},
   "outputs": [],
   "source": []
  }
 ],
 "metadata": {
  "kernelspec": {
   "display_name": "Python 3",
   "language": "python",
   "name": "python3"
  },
  "language_info": {
   "codemirror_mode": {
    "name": "ipython",
    "version": 3
   },
   "file_extension": ".py",
   "mimetype": "text/x-python",
   "name": "python",
   "nbconvert_exporter": "python",
   "pygments_lexer": "ipython3",
   "version": "3.9.6"
  },
  "naas": {
   "notebook_id": "cf32ecf61a1d6fdcae3273e7e70026564087776ace44ace0a939c08a2085586f",
   "notebook_path": "Google Sheets/Google_Sheets_Send_data.ipynb"
  },
  "papermill": {
   "default_parameters": {},
   "environment_variables": {},
   "parameters": {},
   "version": "2.3.3"
  }
 },
 "nbformat": 4,
 "nbformat_minor": 5
}
