{
 "cells": [
  {
   "cell_type": "markdown",
   "id": "international-creativity",
   "metadata": {
    "papermill": {},
    "tags": []
   },
   "source": [
    "<img width=\"8%\" alt=\"Google Sheets.png\" src=\"https://raw.githubusercontent.com/jupyter-naas/awesome-notebooks/master/.github/assets/logos/Google%20Sheets.png\" style=\"border-radius: 15%\">"
   ]
  },
  {
   "cell_type": "markdown",
   "id": "unlimited-bookmark",
   "metadata": {
    "papermill": {},
    "tags": []
   },
   "source": [
    "# Google Sheets - Update interaction database"
   ]
  },
  {
   "cell_type": "markdown",
   "id": "tags_cell",
   "metadata": {
    "papermill": {},
    "tags": []
   },
   "source": [
    "**Tags:** #googlesheets #gsheet #data #naas_drivers #growth-engine #automation #picke #linkedin #interactions #comments #likes"
   ]
  },
  {
   "cell_type": "markdown",
   "id": "fbbbbc71-6333-4a70-b371-c9b82f8b5299",
   "metadata": {
    "papermill": {},
    "tags": []
   },
   "source": [
    "**Author:** [Florent Ravenel](https://www.linkedin.com/in/florent-ravenel/)"
   ]
  },
  {
   "cell_type": "markdown",
   "id": "naas-description",
   "metadata": {
    "papermill": {},
    "tags": [
     "description"
    ]
   },
   "source": [
    "**Description:** This notebook updates interaction database with new interactions from likes and comments."
   ]
  },
  {
   "cell_type": "markdown",
   "id": "input_cell",
   "metadata": {
    "papermill": {},
    "tags": []
   },
   "source": [
    "## Input"
   ]
  },
  {
   "cell_type": "markdown",
   "id": "55d9e878-2148-47e3-a13d-09ba77202893",
   "metadata": {
    "papermill": {},
    "tags": []
   },
   "source": [
    "### Import libraries"
   ]
  },
  {
   "cell_type": "code",
   "execution_count": 1,
   "id": "5fad521a-4a18-4dc7-b13d-98a37172715b",
   "metadata": {
    "execution": {
     "iopub.execute_input": "2023-12-26T22:04:56.596995Z",
     "iopub.status.busy": "2023-12-26T22:04:56.596571Z",
     "iopub.status.idle": "2023-12-26T22:05:00.390396Z",
     "shell.execute_reply": "2023-12-26T22:05:00.389282Z",
     "shell.execute_reply.started": "2023-12-26T22:04:56.596924Z"
    },
    "papermill": {},
    "tags": []
   },
   "outputs": [
    {
     "name": "stdout",
     "output_type": "stream",
     "text": [
      "🕣 Your Production Timezone is Europe/Paris\n",
      "\n",
      "✅ utils file '/home/ftp/abi/utils/data.ipynb' successfully loaded.\n",
      "✅ utils file '/home/ftp/abi/utils/naas_chat_plugin.ipynb' successfully loaded.\n",
      "✅ utils file '/home/ftp/abi/utils/naas_lab.ipynb' successfully loaded.\n",
      "✅ utils file '/home/ftp/abi/utils/openai.ipynb' successfully loaded.\n"
     ]
    }
   ],
   "source": [
    "from naas_drivers import gsheet\n",
    "import pandas as pd\n",
    "import os\n",
    "from datetime import date\n",
    "import naas_data_product"
   ]
  },
  {
   "cell_type": "markdown",
   "id": "ec39e794-a8cd-41b8-9489-9ddb962a601c",
   "metadata": {
    "papermill": {},
    "tags": []
   },
   "source": [
    "### Setup variables\n",
    "**Inputs**\n",
    "- `input_dir`: Input directory to retrieve file from.\n",
    "- `file_reactions`: Name of the file with reactions to be retrieved.\n",
    "- `file_comments`: Name of the file with comments to be retrieved.\n",
    "\n",
    "**Outputs**\n",
    "- `output_dir`: Output directory to save file to.\n",
    "- `output_file`: Output file name to save as picke.\n",
    "- `spreadsheet_url`: Google Sheets spreadsheet URL.\n",
    "- `sheet_name`: Google Sheets sheet name."
   ]
  },
  {
   "cell_type": "code",
   "execution_count": 2,
   "id": "7c34bff6-9136-4aaf-a692-b38129b7de83",
   "metadata": {
    "execution": {
     "iopub.execute_input": "2023-12-26T22:05:00.391994Z",
     "iopub.status.busy": "2023-12-26T22:05:00.391734Z",
     "iopub.status.idle": "2023-12-26T22:05:00.550906Z",
     "shell.execute_reply": "2023-12-26T22:05:00.550080Z",
     "shell.execute_reply.started": "2023-12-26T22:05:00.391963Z"
    },
    "papermill": {},
    "tags": [
     "parameters"
    ]
   },
   "outputs": [],
   "source": [
    "# Inputs\n",
    "input_dir = os.path.join(naas_data_product.OUTPUTS_PATH, \"growth-engine\", date.today().isoformat())\n",
    "file_reactions = \"linkedin_post_reactions\"\n",
    "file_comments = \"linkedin_post_comments\"\n",
    "\n",
    "# Outputs\n",
    "output_dir = os.path.join(naas_data_product.OUTPUTS_PATH, \"growth-engine\", date.today().isoformat())\n",
    "output_file = \"linkedin_interactions\"\n",
    "spreadsheet_url = naas.secret.get(\"ABI_SPREADSHEET\")\n",
    "sheet_name = \"INTERACTIONS\""
   ]
  },
  {
   "cell_type": "markdown",
   "id": "model_cell",
   "metadata": {
    "papermill": {},
    "tags": []
   },
   "source": [
    "## Model"
   ]
  },
  {
   "cell_type": "markdown",
   "id": "b82dbc1b-acf3-4e44-8dac-e4f631787afa",
   "metadata": {
    "papermill": {},
    "tags": []
   },
   "source": [
    "### Get interactions"
   ]
  },
  {
   "cell_type": "code",
   "execution_count": 3,
   "id": "34407369-03a1-45c4-9768-03222224612b",
   "metadata": {
    "execution": {
     "iopub.execute_input": "2023-12-26T22:05:00.552360Z",
     "iopub.status.busy": "2023-12-26T22:05:00.552129Z",
     "iopub.status.idle": "2023-12-26T22:05:04.062052Z",
     "shell.execute_reply": "2023-12-26T22:05:04.061329Z",
     "shell.execute_reply.started": "2023-12-26T22:05:00.552330Z"
    },
    "papermill": {},
    "tags": []
   },
   "outputs": [
    {
     "name": "stdout",
     "output_type": "stream",
     "text": [
      "🗂️ Interactions (init): 2299\n"
     ]
    }
   ],
   "source": [
    "df_gsheet = gsheet.connect(spreadsheet_url).get(sheet_name=sheet_name)\n",
    "if not isinstance(df_gsheet, pd.DataFrame):\n",
    "    df_gsheet = pd.DataFrame()\n",
    "print(\"🗂️ Interactions (init):\", len(df_gsheet))\n",
    "# df_gsheet.head(1)"
   ]
  },
  {
   "cell_type": "markdown",
   "id": "1568d91f-f088-4461-8911-95d8ad591229",
   "metadata": {},
   "source": [
    "### Get reactions"
   ]
  },
  {
   "cell_type": "code",
   "execution_count": 4,
   "id": "57461362-178a-4dbd-81d1-dd27a6291c47",
   "metadata": {
    "execution": {
     "iopub.execute_input": "2023-12-26T22:05:04.063460Z",
     "iopub.status.busy": "2023-12-26T22:05:04.063207Z",
     "iopub.status.idle": "2023-12-26T22:05:04.066323Z",
     "shell.execute_reply": "2023-12-26T22:05:04.065627Z",
     "shell.execute_reply.started": "2023-12-26T22:05:04.063428Z"
    },
    "tags": []
   },
   "outputs": [],
   "source": [
    "# df_reactions = pload(input_dir, file_reactions)    \n",
    "# print('👍 Total Reactions:', len(df_reactions))\n",
    "# # df_reactions.head(1)"
   ]
  },
  {
   "cell_type": "code",
   "execution_count": 5,
   "id": "deb3a425-5492-4050-88bb-5b46fa876d91",
   "metadata": {
    "execution": {
     "iopub.execute_input": "2023-12-26T22:05:04.067648Z",
     "iopub.status.busy": "2023-12-26T22:05:04.067411Z",
     "iopub.status.idle": "2023-12-26T22:05:04.391191Z",
     "shell.execute_reply": "2023-12-26T22:05:04.390642Z",
     "shell.execute_reply.started": "2023-12-26T22:05:04.067622Z"
    },
    "tags": []
   },
   "outputs": [
    {
     "name": "stdout",
     "output_type": "stream",
     "text": [
      "👍 Total Reactions: 276\n"
     ]
    },
    {
     "data": {
      "text/html": [
       "<div>\n",
       "<style scoped>\n",
       "    .dataframe tbody tr th:only-of-type {\n",
       "        vertical-align: middle;\n",
       "    }\n",
       "\n",
       "    .dataframe tbody tr th {\n",
       "        vertical-align: top;\n",
       "    }\n",
       "\n",
       "    .dataframe thead th {\n",
       "        text-align: right;\n",
       "    }\n",
       "</style>\n",
       "<table border=\"1\" class=\"dataframe\">\n",
       "  <thead>\n",
       "    <tr style=\"text-align: right;\">\n",
       "      <th></th>\n",
       "      <th>ENTITY</th>\n",
       "      <th>SCENARIO</th>\n",
       "      <th>CONTENT_URL</th>\n",
       "      <th>TITLE</th>\n",
       "      <th>PUBLISHED_DATE</th>\n",
       "      <th>PROFILE_ID</th>\n",
       "      <th>PROFILE_URL</th>\n",
       "      <th>PUBLIC_ID</th>\n",
       "      <th>FIRSTNAME</th>\n",
       "      <th>LASTNAME</th>\n",
       "      <th>FULLNAME</th>\n",
       "      <th>OCCUPATION</th>\n",
       "      <th>PROFILE_PICTURE</th>\n",
       "      <th>BACKGROUND_PICTURE</th>\n",
       "      <th>PROFILE_TYPE</th>\n",
       "      <th>REACTION_TYPE</th>\n",
       "      <th>POST_URL</th>\n",
       "      <th>DATE_EXTRACT</th>\n",
       "      <th>DATE_REACTION</th>\n",
       "    </tr>\n",
       "  </thead>\n",
       "  <tbody>\n",
       "    <tr>\n",
       "      <th>0</th>\n",
       "      <td>Jérémy Ravenel</td>\n",
       "      <td>W50-2023</td>\n",
       "      <td>https://www.linkedin.com/feed/update/urn:li:ac...</td>\n",
       "      <td>Similar to the pharmaceutical industry, where ...</td>\n",
       "      <td>2023-12-12 17:30:06+0100</td>\n",
       "      <td>ACoAACwiE1kBE4o-yVl7iOjaBn71zIL_g4ot8f8</td>\n",
       "      <td>https://www.linkedin.com/in/ACoAACwiE1kBE4o-yV...</td>\n",
       "      <td>shaik-parveen-roshni-b89b75187</td>\n",
       "      <td>Shaik</td>\n",
       "      <td>Parveen Roshni</td>\n",
       "      <td>Shaik Parveen Roshni</td>\n",
       "      <td>Master's in Applied Machine Intelligence @Nort...</td>\n",
       "      <td>https://media.licdn.com/dms/image/D4E35AQHzbOi...</td>\n",
       "      <td>https://media.licdn.com/dms/image/D4E16AQGNzq0...</td>\n",
       "      <td>PROFILE</td>\n",
       "      <td>LIKE</td>\n",
       "      <td>https://www.linkedin.com/feed/update/urn:li:ac...</td>\n",
       "      <td>2023-12-23 18:47:40</td>\n",
       "      <td>2023-12-12 17:30:06+0100</td>\n",
       "    </tr>\n",
       "  </tbody>\n",
       "</table>\n",
       "</div>"
      ],
      "text/plain": [
       "           ENTITY  SCENARIO  \\\n",
       "0  Jérémy Ravenel  W50-2023   \n",
       "\n",
       "                                         CONTENT_URL  \\\n",
       "0  https://www.linkedin.com/feed/update/urn:li:ac...   \n",
       "\n",
       "                                               TITLE  \\\n",
       "0  Similar to the pharmaceutical industry, where ...   \n",
       "\n",
       "             PUBLISHED_DATE                               PROFILE_ID  \\\n",
       "0  2023-12-12 17:30:06+0100  ACoAACwiE1kBE4o-yVl7iOjaBn71zIL_g4ot8f8   \n",
       "\n",
       "                                         PROFILE_URL  \\\n",
       "0  https://www.linkedin.com/in/ACoAACwiE1kBE4o-yV...   \n",
       "\n",
       "                        PUBLIC_ID FIRSTNAME        LASTNAME  \\\n",
       "0  shaik-parveen-roshni-b89b75187     Shaik  Parveen Roshni   \n",
       "\n",
       "               FULLNAME                                         OCCUPATION  \\\n",
       "0  Shaik Parveen Roshni  Master's in Applied Machine Intelligence @Nort...   \n",
       "\n",
       "                                     PROFILE_PICTURE  \\\n",
       "0  https://media.licdn.com/dms/image/D4E35AQHzbOi...   \n",
       "\n",
       "                                  BACKGROUND_PICTURE PROFILE_TYPE  \\\n",
       "0  https://media.licdn.com/dms/image/D4E16AQGNzq0...      PROFILE   \n",
       "\n",
       "  REACTION_TYPE                                           POST_URL  \\\n",
       "0          LIKE  https://www.linkedin.com/feed/update/urn:li:ac...   \n",
       "\n",
       "          DATE_EXTRACT             DATE_REACTION  \n",
       "0  2023-12-23 18:47:40  2023-12-12 17:30:06+0100  "
      ]
     },
     "execution_count": 5,
     "metadata": {},
     "output_type": "execute_result"
    }
   ],
   "source": [
    "limit = (datetime.now(TIMEZONE) - timedelta(days=datetime.now(TIMEZONE).weekday() + 7)).date()\n",
    "reactions_files = sorted(glob.glob(os.path.join(naas_data_product.OUTPUTS_PATH, \"growth-engine\", \"**\", f\"{file_reactions}.pickle\"), recursive=True))\n",
    "df_reactions = pd.DataFrame()\n",
    "posts_url = []\n",
    "for index, file in enumerate(reactions_files):\n",
    "    input_dir_r = file.split(file_reactions)[0]\n",
    "    tz = pytz.timezone('Europe/Paris')\n",
    "    date_dir = datetime.strptime(file.split(\"/\")[-2], \"%Y-%m-%d\").replace(tzinfo=tz).date()\n",
    "    if date_dir >= limit:\n",
    "        tmp_df_reactions = pload(input_dir_r, file_reactions)\n",
    "        tmp_posts_url = tmp_df_reactions[\"POST_URL\"].unique().tolist()\n",
    "        for x in tmp_posts_url:\n",
    "            if x not in posts_url:\n",
    "                tmp_df_reactions[\"DATE_REACTION\"] = pd.to_datetime(tmp_df_reactions['PUBLISHED_DATE'], format='%Y-%m-%d %H:%M:%S%z').dt.tz_convert(TIMEZONE).dt.strftime(\"%Y-%m-%d %H:%M:%S%z\")\n",
    "                posts_url.append(x)\n",
    "            else:\n",
    "                tmp_df_reactions[\"DATE_REACTION\"] = pd.to_datetime(tmp_df_reactions['DATE_EXTRACT'], format='%Y-%m-%d %H:%M:%S').dt.tz_localize(pytz.timezone(\"Europe/Paris\")).dt.tz_convert(TIMEZONE).dt.strftime(\"%Y-%m-%d %H:%M:%S%z\")\n",
    "        df_reactions = pd.concat([df_reactions, tmp_df_reactions])\n",
    "        \n",
    "df_reactions = df_reactions.drop_duplicates([\"PROFILE_URL\", \"POST_URL\"], keep=\"first\")\n",
    "df_reactions = df_reactions.sort_values(\"DATE_REACTION\").reset_index(drop=True)\n",
    "print('👍 Total Reactions:', len(df_reactions))\n",
    "df_reactions.head(1)"
   ]
  },
  {
   "cell_type": "markdown",
   "id": "0de21922-da06-4f65-89e1-d54a2ff1086b",
   "metadata": {},
   "source": [
    "### Get comments"
   ]
  },
  {
   "cell_type": "code",
   "execution_count": 6,
   "id": "5bb75165-5195-48a9-9c71-9b648575da46",
   "metadata": {
    "execution": {
     "iopub.execute_input": "2023-12-26T22:05:04.392568Z",
     "iopub.status.busy": "2023-12-26T22:05:04.392330Z",
     "iopub.status.idle": "2023-12-26T22:05:04.418971Z",
     "shell.execute_reply": "2023-12-26T22:05:04.418289Z",
     "shell.execute_reply.started": "2023-12-26T22:05:04.392537Z"
    },
    "tags": []
   },
   "outputs": [
    {
     "name": "stdout",
     "output_type": "stream",
     "text": [
      "🗨️ Total Comments: 40\n"
     ]
    },
    {
     "data": {
      "text/html": [
       "<div>\n",
       "<style scoped>\n",
       "    .dataframe tbody tr th:only-of-type {\n",
       "        vertical-align: middle;\n",
       "    }\n",
       "\n",
       "    .dataframe tbody tr th {\n",
       "        vertical-align: top;\n",
       "    }\n",
       "\n",
       "    .dataframe thead th {\n",
       "        text-align: right;\n",
       "    }\n",
       "</style>\n",
       "<table border=\"1\" class=\"dataframe\">\n",
       "  <thead>\n",
       "    <tr style=\"text-align: right;\">\n",
       "      <th></th>\n",
       "      <th>ENTITY</th>\n",
       "      <th>SCENARIO</th>\n",
       "      <th>CONTENT_URL</th>\n",
       "      <th>TITLE</th>\n",
       "      <th>PUBLISHED_DATE</th>\n",
       "      <th>PROFILE_ID</th>\n",
       "      <th>PROFILE_URL</th>\n",
       "      <th>PUBLIC_ID</th>\n",
       "      <th>FIRSTNAME</th>\n",
       "      <th>LASTNAME</th>\n",
       "      <th>...</th>\n",
       "      <th>BACKGROUND_PICTURE</th>\n",
       "      <th>PROFILE_TYPE</th>\n",
       "      <th>TEXT</th>\n",
       "      <th>CREATED_TIME</th>\n",
       "      <th>LANGUAGE</th>\n",
       "      <th>DISTANCE</th>\n",
       "      <th>COMMENTS</th>\n",
       "      <th>LIKES</th>\n",
       "      <th>POST_URL</th>\n",
       "      <th>DATE_EXTRACT</th>\n",
       "    </tr>\n",
       "  </thead>\n",
       "  <tbody>\n",
       "    <tr>\n",
       "      <th>0</th>\n",
       "      <td>Jérémy Ravenel</td>\n",
       "      <td>W51-2023</td>\n",
       "      <td>https://www.linkedin.com/feed/update/urn:li:ac...</td>\n",
       "      <td>Modern Businesses should start visualizing the...</td>\n",
       "      <td>2023-12-22 22:07:42+0100</td>\n",
       "      <td>ACoAAABsDQQBeFmCyTF_cP-7cvDNZuuLO86AQpU</td>\n",
       "      <td>https://www.linkedin.com/in/ACoAAABsDQQBeFmCyT...</td>\n",
       "      <td>mohamed-moniem</td>\n",
       "      <td>Mohamed</td>\n",
       "      <td>Monem</td>\n",
       "      <td>...</td>\n",
       "      <td>https://media.licdn.com/dms/image/D4D16AQE0sMu...</td>\n",
       "      <td>PROFILE</td>\n",
       "      <td>I am very excited to be involved and sharing i...</td>\n",
       "      <td>2023-12-23 21:47:58</td>\n",
       "      <td>English</td>\n",
       "      <td>DISTANCE_2</td>\n",
       "      <td>0</td>\n",
       "      <td>0</td>\n",
       "      <td>https://www.linkedin.com/feed/update/urn:li:ac...</td>\n",
       "      <td>2023-12-26 08:30:51</td>\n",
       "    </tr>\n",
       "  </tbody>\n",
       "</table>\n",
       "<p>1 rows × 23 columns</p>\n",
       "</div>"
      ],
      "text/plain": [
       "           ENTITY  SCENARIO  \\\n",
       "0  Jérémy Ravenel  W51-2023   \n",
       "\n",
       "                                         CONTENT_URL  \\\n",
       "0  https://www.linkedin.com/feed/update/urn:li:ac...   \n",
       "\n",
       "                                               TITLE  \\\n",
       "0  Modern Businesses should start visualizing the...   \n",
       "\n",
       "             PUBLISHED_DATE                               PROFILE_ID  \\\n",
       "0  2023-12-22 22:07:42+0100  ACoAAABsDQQBeFmCyTF_cP-7cvDNZuuLO86AQpU   \n",
       "\n",
       "                                         PROFILE_URL       PUBLIC_ID  \\\n",
       "0  https://www.linkedin.com/in/ACoAAABsDQQBeFmCyT...  mohamed-moniem   \n",
       "\n",
       "  FIRSTNAME LASTNAME  ...                                 BACKGROUND_PICTURE  \\\n",
       "0   Mohamed    Monem  ...  https://media.licdn.com/dms/image/D4D16AQE0sMu...   \n",
       "\n",
       "  PROFILE_TYPE                                               TEXT  \\\n",
       "0      PROFILE  I am very excited to be involved and sharing i...   \n",
       "\n",
       "          CREATED_TIME LANGUAGE    DISTANCE COMMENTS LIKES  \\\n",
       "0  2023-12-23 21:47:58  English  DISTANCE_2        0     0   \n",
       "\n",
       "                                            POST_URL         DATE_EXTRACT  \n",
       "0  https://www.linkedin.com/feed/update/urn:li:ac...  2023-12-26 08:30:51  \n",
       "\n",
       "[1 rows x 23 columns]"
      ]
     },
     "execution_count": 6,
     "metadata": {},
     "output_type": "execute_result"
    }
   ],
   "source": [
    "df_comments = pload(input_dir, file_comments)\n",
    "print('🗨️ Total Comments:', len(df_comments))\n",
    "df_comments.head(1)"
   ]
  },
  {
   "cell_type": "markdown",
   "id": "1683da4f-41e3-4e11-9c3a-bf01af8ebefe",
   "metadata": {},
   "source": [
    "### Cleaning data"
   ]
  },
  {
   "cell_type": "code",
   "execution_count": 7,
   "id": "dc7ec5d6-0272-4839-a21c-a4caa6f03f58",
   "metadata": {
    "execution": {
     "iopub.execute_input": "2023-12-26T22:05:04.421171Z",
     "iopub.status.busy": "2023-12-26T22:05:04.420912Z",
     "iopub.status.idle": "2023-12-26T22:05:04.642045Z",
     "shell.execute_reply": "2023-12-26T22:05:04.641251Z",
     "shell.execute_reply.started": "2023-12-26T22:05:04.421139Z"
    },
    "tags": []
   },
   "outputs": [
    {
     "name": "stdout",
     "output_type": "stream",
     "text": [
      "🗂️ Interactions: 2299\n"
     ]
    },
    {
     "data": {
      "text/html": [
       "<div>\n",
       "<style scoped>\n",
       "    .dataframe tbody tr th:only-of-type {\n",
       "        vertical-align: middle;\n",
       "    }\n",
       "\n",
       "    .dataframe tbody tr th {\n",
       "        vertical-align: top;\n",
       "    }\n",
       "\n",
       "    .dataframe thead th {\n",
       "        text-align: right;\n",
       "    }\n",
       "</style>\n",
       "<table border=\"1\" class=\"dataframe\">\n",
       "  <thead>\n",
       "    <tr style=\"text-align: right;\">\n",
       "      <th></th>\n",
       "      <th>ENTITY</th>\n",
       "      <th>SCENARIO</th>\n",
       "      <th>DATE</th>\n",
       "      <th>PLATFORM</th>\n",
       "      <th>FIRSTNAME</th>\n",
       "      <th>LASTNAME</th>\n",
       "      <th>FULLNAME</th>\n",
       "      <th>OCCUPATION</th>\n",
       "      <th>INTERACTION</th>\n",
       "      <th>INTERACTION_CONTENT</th>\n",
       "      <th>INTERACTION_SCORE</th>\n",
       "      <th>PROFILE_URL</th>\n",
       "      <th>PUBLIC_ID</th>\n",
       "      <th>CONTENT_TITLE</th>\n",
       "      <th>CONTENT_URL</th>\n",
       "      <th>PUBLISHED_DATE</th>\n",
       "      <th>DATE_INTERACTION</th>\n",
       "      <th>DATE_EXTRACT</th>\n",
       "      <th>DATE_ORDER</th>\n",
       "    </tr>\n",
       "  </thead>\n",
       "  <tbody>\n",
       "    <tr>\n",
       "      <th>0</th>\n",
       "      <td>Jérémy Ravenel</td>\n",
       "      <td>W51-2023</td>\n",
       "      <td>Tue. 26 Dec.</td>\n",
       "      <td>LinkedIn</td>\n",
       "      <td>Anshu</td>\n",
       "      <td>Jain</td>\n",
       "      <td>Anshu Jain</td>\n",
       "      <td>Deeptech Product Management | Transforming Ent...</td>\n",
       "      <td>POST_REACTION</td>\n",
       "      <td>LIKE</td>\n",
       "      <td>1</td>\n",
       "      <td>https://www.linkedin.com/in/ACoAAAEUKLEBMQzYyQ...</td>\n",
       "      <td>anshukjain</td>\n",
       "      <td>Modern Businesses should start visualizing the...</td>\n",
       "      <td>https://www.linkedin.com/feed/update/urn:li:ac...</td>\n",
       "      <td>2023-12-22 22:07:42+0100</td>\n",
       "      <td>2023-12-26 08:30:47+0100</td>\n",
       "      <td>2023-12-26 08:30:47+0100</td>\n",
       "      <td>20231226</td>\n",
       "    </tr>\n",
       "    <tr>\n",
       "      <th>1</th>\n",
       "      <td>Jérémy Ravenel</td>\n",
       "      <td>W51-2023</td>\n",
       "      <td>Tue. 26 Dec.</td>\n",
       "      <td>LinkedIn</td>\n",
       "      <td>Camilla</td>\n",
       "      <td>Hemström</td>\n",
       "      <td>Camilla Hemström</td>\n",
       "      <td>Growth catalyst | Change enabler | Strategic a...</td>\n",
       "      <td>POST_REACTION</td>\n",
       "      <td>LIKE</td>\n",
       "      <td>1</td>\n",
       "      <td>https://www.linkedin.com/in/ACoAAANf1lsB-UVS3A...</td>\n",
       "      <td>camilla-hemstrom</td>\n",
       "      <td>Modern Businesses should start visualizing the...</td>\n",
       "      <td>https://www.linkedin.com/feed/update/urn:li:ac...</td>\n",
       "      <td>2023-12-22 22:07:42+0100</td>\n",
       "      <td>2023-12-26 08:30:47+0100</td>\n",
       "      <td>2023-12-26 08:30:47+0100</td>\n",
       "      <td>20231226</td>\n",
       "    </tr>\n",
       "    <tr>\n",
       "      <th>2</th>\n",
       "      <td>Jérémy Ravenel</td>\n",
       "      <td>W51-2023</td>\n",
       "      <td>Tue. 26 Dec.</td>\n",
       "      <td>LinkedIn</td>\n",
       "      <td>Holke</td>\n",
       "      <td>Visser</td>\n",
       "      <td>Holke Visser</td>\n",
       "      <td>Data Architect, owner Visser Data B.V.</td>\n",
       "      <td>POST_REACTION</td>\n",
       "      <td>LIKE</td>\n",
       "      <td>1</td>\n",
       "      <td>https://www.linkedin.com/in/ACoAAAGLiDEBiLOJXD...</td>\n",
       "      <td>holkevisser</td>\n",
       "      <td>Modern Businesses should start visualizing the...</td>\n",
       "      <td>https://www.linkedin.com/feed/update/urn:li:ac...</td>\n",
       "      <td>2023-12-22 22:07:42+0100</td>\n",
       "      <td>2023-12-26 08:30:47+0100</td>\n",
       "      <td>2023-12-26 08:30:47+0100</td>\n",
       "      <td>20231226</td>\n",
       "    </tr>\n",
       "    <tr>\n",
       "      <th>3</th>\n",
       "      <td>Jérémy Ravenel</td>\n",
       "      <td>W51-2023</td>\n",
       "      <td>Tue. 26 Dec.</td>\n",
       "      <td>LinkedIn</td>\n",
       "      <td>Mayank</td>\n",
       "      <td>Rajesh Manjhi</td>\n",
       "      <td>Mayank Rajesh Manjhi</td>\n",
       "      <td>Data Scientist @ CodSoft | Expertise in Data S...</td>\n",
       "      <td>POST_REACTION</td>\n",
       "      <td>LIKE</td>\n",
       "      <td>1</td>\n",
       "      <td>https://www.linkedin.com/in/ACoAADdAHiIBQay1Oj...</td>\n",
       "      <td>mayank-rajesh-manjhi</td>\n",
       "      <td>Imagine if your business could learn and adapt...</td>\n",
       "      <td>https://www.linkedin.com/feed/update/urn:li:ac...</td>\n",
       "      <td>2023-12-19 22:26:49+0100</td>\n",
       "      <td>2023-12-26 08:30:57+0100</td>\n",
       "      <td>2023-12-26 08:30:57+0100</td>\n",
       "      <td>20231226</td>\n",
       "    </tr>\n",
       "    <tr>\n",
       "      <th>4</th>\n",
       "      <td>Jérémy Ravenel</td>\n",
       "      <td>W51-2023</td>\n",
       "      <td>Tue. 26 Dec.</td>\n",
       "      <td>LinkedIn</td>\n",
       "      <td>WEI-YI</td>\n",
       "      <td>CHO</td>\n",
       "      <td>WEI-YI CHO</td>\n",
       "      <td>Stat &amp; Psyc and CS @ UIUC</td>\n",
       "      <td>POST_REACTION</td>\n",
       "      <td>LIKE</td>\n",
       "      <td>1</td>\n",
       "      <td>https://www.linkedin.com/in/ACoAADDQyBUBqzIOOW...</td>\n",
       "      <td>weiyi-cho</td>\n",
       "      <td>Modern Businesses should start visualizing the...</td>\n",
       "      <td>https://www.linkedin.com/feed/update/urn:li:ac...</td>\n",
       "      <td>2023-12-22 22:07:42+0100</td>\n",
       "      <td>2023-12-26 08:30:47+0100</td>\n",
       "      <td>2023-12-26 08:30:47+0100</td>\n",
       "      <td>20231226</td>\n",
       "    </tr>\n",
       "  </tbody>\n",
       "</table>\n",
       "</div>"
      ],
      "text/plain": [
       "           ENTITY  SCENARIO          DATE  PLATFORM FIRSTNAME       LASTNAME  \\\n",
       "0  Jérémy Ravenel  W51-2023  Tue. 26 Dec.  LinkedIn     Anshu           Jain   \n",
       "1  Jérémy Ravenel  W51-2023  Tue. 26 Dec.  LinkedIn   Camilla       Hemström   \n",
       "2  Jérémy Ravenel  W51-2023  Tue. 26 Dec.  LinkedIn     Holke         Visser   \n",
       "3  Jérémy Ravenel  W51-2023  Tue. 26 Dec.  LinkedIn    Mayank  Rajesh Manjhi   \n",
       "4  Jérémy Ravenel  W51-2023  Tue. 26 Dec.  LinkedIn    WEI-YI            CHO   \n",
       "\n",
       "               FULLNAME                                         OCCUPATION  \\\n",
       "0            Anshu Jain  Deeptech Product Management | Transforming Ent...   \n",
       "1      Camilla Hemström  Growth catalyst | Change enabler | Strategic a...   \n",
       "2          Holke Visser             Data Architect, owner Visser Data B.V.   \n",
       "3  Mayank Rajesh Manjhi  Data Scientist @ CodSoft | Expertise in Data S...   \n",
       "4            WEI-YI CHO                          Stat & Psyc and CS @ UIUC   \n",
       "\n",
       "     INTERACTION INTERACTION_CONTENT  INTERACTION_SCORE  \\\n",
       "0  POST_REACTION                LIKE                  1   \n",
       "1  POST_REACTION                LIKE                  1   \n",
       "2  POST_REACTION                LIKE                  1   \n",
       "3  POST_REACTION                LIKE                  1   \n",
       "4  POST_REACTION                LIKE                  1   \n",
       "\n",
       "                                         PROFILE_URL             PUBLIC_ID  \\\n",
       "0  https://www.linkedin.com/in/ACoAAAEUKLEBMQzYyQ...            anshukjain   \n",
       "1  https://www.linkedin.com/in/ACoAAANf1lsB-UVS3A...      camilla-hemstrom   \n",
       "2  https://www.linkedin.com/in/ACoAAAGLiDEBiLOJXD...           holkevisser   \n",
       "3  https://www.linkedin.com/in/ACoAADdAHiIBQay1Oj...  mayank-rajesh-manjhi   \n",
       "4  https://www.linkedin.com/in/ACoAADDQyBUBqzIOOW...             weiyi-cho   \n",
       "\n",
       "                                       CONTENT_TITLE  \\\n",
       "0  Modern Businesses should start visualizing the...   \n",
       "1  Modern Businesses should start visualizing the...   \n",
       "2  Modern Businesses should start visualizing the...   \n",
       "3  Imagine if your business could learn and adapt...   \n",
       "4  Modern Businesses should start visualizing the...   \n",
       "\n",
       "                                         CONTENT_URL  \\\n",
       "0  https://www.linkedin.com/feed/update/urn:li:ac...   \n",
       "1  https://www.linkedin.com/feed/update/urn:li:ac...   \n",
       "2  https://www.linkedin.com/feed/update/urn:li:ac...   \n",
       "3  https://www.linkedin.com/feed/update/urn:li:ac...   \n",
       "4  https://www.linkedin.com/feed/update/urn:li:ac...   \n",
       "\n",
       "             PUBLISHED_DATE          DATE_INTERACTION  \\\n",
       "0  2023-12-22 22:07:42+0100  2023-12-26 08:30:47+0100   \n",
       "1  2023-12-22 22:07:42+0100  2023-12-26 08:30:47+0100   \n",
       "2  2023-12-22 22:07:42+0100  2023-12-26 08:30:47+0100   \n",
       "3  2023-12-19 22:26:49+0100  2023-12-26 08:30:57+0100   \n",
       "4  2023-12-22 22:07:42+0100  2023-12-26 08:30:47+0100   \n",
       "\n",
       "               DATE_EXTRACT DATE_ORDER  \n",
       "0  2023-12-26 08:30:47+0100   20231226  \n",
       "1  2023-12-26 08:30:47+0100   20231226  \n",
       "2  2023-12-26 08:30:47+0100   20231226  \n",
       "3  2023-12-26 08:30:57+0100   20231226  \n",
       "4  2023-12-26 08:30:47+0100   20231226  "
      ]
     },
     "execution_count": 7,
     "metadata": {},
     "output_type": "execute_result"
    }
   ],
   "source": [
    "def create_interactions_dataset(\n",
    "    df_gsheet,\n",
    "    df_reactions,\n",
    "    df_comments,\n",
    "):\n",
    "    # Init\n",
    "    df1 = pd.DataFrame()\n",
    "    df2 = pd.DataFrame()\n",
    "    \n",
    "    if len(df_reactions) > 0:\n",
    "        # Df reactions\n",
    "        data_reaction = {\n",
    "            \"ENTITY\": df_reactions[\"ENTITY\"],\n",
    "            \"SCENARIO\": df_reactions[\"SCENARIO\"],\n",
    "            \"PLATFORM\": \"LinkedIn\",\n",
    "            \"FIRSTNAME\": df_reactions[\"FIRSTNAME\"],\n",
    "            \"LASTNAME\": df_reactions[\"LASTNAME\"],\n",
    "            \"FULLNAME\": df_reactions[\"FULLNAME\"],\n",
    "            \"OCCUPATION\": df_reactions[\"OCCUPATION\"],\n",
    "            \"INTERACTION\": \"POST_REACTION\",\n",
    "            \"INTERACTION_CONTENT\": df_reactions[\"REACTION_TYPE\"],\n",
    "            \"INTERACTION_SCORE\": 1,\n",
    "            \"PROFILE_URL\": df_reactions[\"PROFILE_URL\"],\n",
    "            \"PUBLIC_ID\": df_reactions[\"PUBLIC_ID\"],\n",
    "            \"CONTENT_TITLE\": df_reactions[\"TITLE\"],\n",
    "            \"CONTENT_URL\": df_reactions[\"POST_URL\"],\n",
    "            \"PUBLISHED_DATE\": df_reactions['PUBLISHED_DATE'],\n",
    "            \"DATE_INTERACTION\": df_reactions[\"DATE_REACTION\"],\n",
    "            \"DATE_EXTRACT\": pd.to_datetime(df_reactions['DATE_EXTRACT']).dt.tz_localize(pytz.timezone(\"Europe/Paris\")).dt.strftime(\"%Y-%m-%d %H:%M:%S%z\"),\n",
    "        }\n",
    "        df1 = pd.DataFrame(data_reaction)\n",
    "        \n",
    "    if len(df_comments) > 0:\n",
    "        # Df comments\n",
    "        data_comment = {\n",
    "            \"ENTITY\": df_comments[\"ENTITY\"],\n",
    "            \"SCENARIO\": df_comments[\"SCENARIO\"],\n",
    "            \"PLATFORM\": \"LinkedIn\",\n",
    "            \"FIRSTNAME\": df_comments[\"FIRSTNAME\"],\n",
    "            \"LASTNAME\": df_comments[\"LASTNAME\"],\n",
    "            \"FULLNAME\": df_comments[\"FULLNAME\"],\n",
    "            \"OCCUPATION\": df_comments[\"OCCUPATION\"],\n",
    "            \"INTERACTION\": \"POST_COMMENT\",\n",
    "            \"INTERACTION_CONTENT\": df_comments[\"TEXT\"],\n",
    "            \"INTERACTION_SCORE\": 3,\n",
    "            \"PROFILE_URL\": df_comments[\"PROFILE_URL\"],\n",
    "            \"PUBLIC_ID\": df_comments[\"PUBLIC_ID\"],\n",
    "            \"CONTENT_TITLE\": df_comments[\"TITLE\"],\n",
    "            \"CONTENT_URL\": df_comments[\"CONTENT_URL\"],\n",
    "            \"PUBLISHED_DATE\": df_comments['PUBLISHED_DATE'],\n",
    "            \"DATE_INTERACTION\": pd.to_datetime(df_comments['CREATED_TIME']).dt.tz_localize(pytz.timezone(\"Europe/Paris\")).dt.tz_convert(TIMEZONE).dt.strftime(\"%Y-%m-%d %H:%M:%S%z\"),\n",
    "            \"DATE_EXTRACT\": pd.to_datetime(df_comments['DATE_EXTRACT']).dt.tz_localize(pytz.timezone(\"Europe/Paris\")).dt.strftime(\"%Y-%m-%d %H:%M:%S%z\"),\n",
    "        }\n",
    "        df2 = pd.DataFrame(data_comment)\n",
    "    \n",
    "    # Concat df\n",
    "    df = pd.concat([df1, df2]).reset_index(drop=True)\n",
    "    df.insert(loc=2, column=\"DATE\", value=pd.to_datetime(df['DATE_INTERACTION'], format=\"%Y-%m-%d %H:%M:%S%z\").dt.strftime(\"%a. %d %b.\"))\n",
    "    \n",
    "    # Exclude Entity from Full name\n",
    "    if len(df) > 0:\n",
    "        entity = df.loc[0 , \"ENTITY\"]\n",
    "        df = df[df[\"FULLNAME\"] != entity]\n",
    "    # Histo\n",
    "    if \"DATE_INTERACTION\" not in df_gsheet.columns:\n",
    "        df_gsheet[\"DATE_INTERACTION\"] = df_gsheet[\"PUBLISHED_DATE\"]\n",
    "        df_gsheet.insert(loc=2, column=\"DATE\", value=pd.to_datetime(df_gsheet['DATE_INTERACTION'], format=\"%Y-%m-%d %H:%M:%S%z\").dt.strftime(\"%a. %d %b.\"))\n",
    "        \n",
    "    # Drop duplicates\n",
    "    drop_duplicates = [\n",
    "        \"ENTITY\",\n",
    "        \"SCENARIO\",\n",
    "        \"PROFILE_URL\",\n",
    "        \"INTERACTION_CONTENT\",\n",
    "        \"CONTENT_URL\"\n",
    "    ]\n",
    "    df = pd.concat([df, df_gsheet]).drop_duplicates(drop_duplicates).reset_index(drop=True)\n",
    "    df[\"DATE_ORDER\"] = pd.to_datetime(df['DATE_INTERACTION'], format=\"%Y-%m-%d %H:%M:%S%z\").dt.strftime(\"%Y%m%d\")\n",
    "    df[\"DATE_EXTRACT\"] = pd.to_datetime(df['DATE_EXTRACT']).dt.tz_convert(TIMEZONE).dt.strftime(\"%Y-%m-%d %H:%M:%S%z\")\n",
    "    \n",
    "    # Sort values\n",
    "    df = df.sort_values(by=[\"DATE_ORDER\", \"FULLNAME\"], ascending=[False, True])\n",
    "    return df.reset_index(drop=True)\n",
    "\n",
    "df_interactions = create_interactions_dataset(\n",
    "    df_gsheet,\n",
    "    df_reactions,\n",
    "    df_comments,\n",
    ")\n",
    "print('🗂️ Interactions:', len(df_interactions))\n",
    "df_interactions.head(5)"
   ]
  },
  {
   "cell_type": "markdown",
   "id": "output_cell",
   "metadata": {
    "papermill": {},
    "tags": []
   },
   "source": [
    "## Output"
   ]
  },
  {
   "cell_type": "markdown",
   "id": "22d3ad72-aa05-4f67-9407-bdf29f423aee",
   "metadata": {
    "papermill": {},
    "tags": []
   },
   "source": [
    "### Save data"
   ]
  },
  {
   "cell_type": "code",
   "execution_count": 8,
   "id": "2dc65a28-ed03-4fa4-b80c-6ef823639807",
   "metadata": {
    "execution": {
     "iopub.execute_input": "2023-12-26T22:05:04.643604Z",
     "iopub.status.busy": "2023-12-26T22:05:04.643355Z",
     "iopub.status.idle": "2023-12-26T22:05:04.771591Z",
     "shell.execute_reply": "2023-12-26T22:05:04.770790Z",
     "shell.execute_reply.started": "2023-12-26T22:05:04.643573Z"
    },
    "papermill": {},
    "tags": []
   },
   "outputs": [],
   "source": [
    "pdump(output_dir, df_interactions, output_file)"
   ]
  },
  {
   "cell_type": "markdown",
   "id": "28b11537-6391-4022-b55d-dd1f84cbe97f",
   "metadata": {
    "papermill": {},
    "tags": []
   },
   "source": [
    "### Send data to Google Sheets spreadsheet"
   ]
  },
  {
   "cell_type": "code",
   "execution_count": 9,
   "id": "32e91b35-c1f8-4fe6-ae78-a2d4b79c8be7",
   "metadata": {
    "execution": {
     "iopub.execute_input": "2023-12-26T22:05:04.772977Z",
     "iopub.status.busy": "2023-12-26T22:05:04.772723Z",
     "iopub.status.idle": "2023-12-26T22:05:04.813206Z",
     "shell.execute_reply": "2023-12-26T22:05:04.812510Z",
     "shell.execute_reply.started": "2023-12-26T22:05:04.772944Z"
    },
    "papermill": {},
    "tags": []
   },
   "outputs": [
    {
     "name": "stdout",
     "output_type": "stream",
     "text": [
      "Noting to update in Google Sheets!\n"
     ]
    }
   ],
   "source": [
    "df_check = pd.concat([df_gsheet.astype(str), df_interactions.astype(str)]).drop_duplicates(keep=False)\n",
    "if len(df_check) > 0:\n",
    "    gsheet.connect(spreadsheet_url).send(sheet_name=sheet_name, data=df_interactions, append=False)\n",
    "else:\n",
    "    print(\"Noting to update in Google Sheets!\")"
   ]
  }
 ],
 "metadata": {
  "kernelspec": {
   "display_name": "Python 3",
   "language": "python",
   "name": "python3"
  },
  "language_info": {
   "codemirror_mode": {
    "name": "ipython",
    "version": 3
   },
   "file_extension": ".py",
   "mimetype": "text/x-python",
   "name": "python",
   "nbconvert_exporter": "python",
   "pygments_lexer": "ipython3",
   "version": "3.9.6"
  },
  "naas": {
   "notebook_id": "cf32ecf61a1d6fdcae3273e7e70026564087776ace44ace0a939c08a2085586f",
   "notebook_path": "Google Sheets/Google_Sheets_Send_data.ipynb"
  },
  "papermill": {
   "default_parameters": {},
   "environment_variables": {},
   "parameters": {},
   "version": "2.3.3"
  }
 },
 "nbformat": 4,
 "nbformat_minor": 5
}
