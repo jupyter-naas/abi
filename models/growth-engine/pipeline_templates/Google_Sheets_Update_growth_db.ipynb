{
 "cells": [
  {
   "cell_type": "markdown",
   "id": "international-creativity",
   "metadata": {
    "papermill": {},
    "tags": []
   },
   "source": [
    "<img width=\"8%\" alt=\"Google Sheets.png\" src=\"https://raw.githubusercontent.com/jupyter-naas/awesome-notebooks/master/.github/assets/logos/Google%20Sheets.png\" style=\"border-radius: 15%\">"
   ]
  },
  {
   "cell_type": "markdown",
   "id": "unlimited-bookmark",
   "metadata": {
    "papermill": {},
    "tags": []
   },
   "source": [
    "# Google Sheets - Update growth database"
   ]
  },
  {
   "cell_type": "markdown",
   "id": "tags_cell",
   "metadata": {
    "papermill": {},
    "tags": []
   },
   "source": [
    "**Tags:** #googlesheets #gsheet #data #naas_drivers #growth-engine #automation #interactions"
   ]
  },
  {
   "cell_type": "markdown",
   "id": "fbbbbc71-6333-4a70-b371-c9b82f8b5299",
   "metadata": {
    "papermill": {},
    "tags": []
   },
   "source": [
    "**Author:** [Florent Ravenel](https://www.linkedin.com/in/florent-ravenel/)"
   ]
  },
  {
   "cell_type": "markdown",
   "id": "naas-description",
   "metadata": {
    "papermill": {},
    "tags": [
     "description"
    ]
   },
   "source": [
    "**Description:** This notebook updates growth database with new people that interacted with content."
   ]
  },
  {
   "cell_type": "markdown",
   "id": "input_cell",
   "metadata": {
    "papermill": {},
    "tags": []
   },
   "source": [
    "## Input"
   ]
  },
  {
   "cell_type": "markdown",
   "id": "55d9e878-2148-47e3-a13d-09ba77202893",
   "metadata": {
    "papermill": {},
    "tags": []
   },
   "source": [
    "### Import libraries"
   ]
  },
  {
   "cell_type": "code",
   "execution_count": 1,
   "id": "5fad521a-4a18-4dc7-b13d-98a37172715b",
   "metadata": {
    "execution": {
     "iopub.execute_input": "2023-12-26T22:07:57.905635Z",
     "iopub.status.busy": "2023-12-26T22:07:57.905158Z",
     "iopub.status.idle": "2023-12-26T22:08:01.838300Z",
     "shell.execute_reply": "2023-12-26T22:08:01.837231Z",
     "shell.execute_reply.started": "2023-12-26T22:07:57.905550Z"
    },
    "papermill": {},
    "tags": []
   },
   "outputs": [
    {
     "name": "stdout",
     "output_type": "stream",
     "text": [
      "🕣 Your Production Timezone is Europe/Paris\n",
      "\n",
      "✅ utils file '/home/ftp/abi/utils/data.ipynb' successfully loaded.\n",
      "✅ utils file '/home/ftp/abi/utils/naas_chat_plugin.ipynb' successfully loaded.\n",
      "✅ utils file '/home/ftp/abi/utils/naas_lab.ipynb' successfully loaded.\n",
      "✅ utils file '/home/ftp/abi/utils/openai.ipynb' successfully loaded.\n"
     ]
    }
   ],
   "source": [
    "from naas_drivers import gsheet\n",
    "import pandas as pd\n",
    "import os\n",
    "from datetime import date\n",
    "import naas_data_product\n",
    "import openai\n",
    "import time"
   ]
  },
  {
   "cell_type": "markdown",
   "id": "ec39e794-a8cd-41b8-9489-9ddb962a601c",
   "metadata": {
    "papermill": {},
    "tags": []
   },
   "source": [
    "### Setup variables\n",
    "**Inputs**\n",
    "- `input_dir`: Input directory to retrieve file from.\n",
    "- `file_interactions`: Name of the file to be retrieved.\n",
    "\n",
    "**Outputs**\n",
    "- `spreadsheet_url`: Google Sheets spreadsheet URL.\n",
    "- `sheet_name`: Google Sheets sheet name.\n",
    "- `output_dir`: Output directory to save file to.\n",
    "- `output_file`: Output file name to save as picke."
   ]
  },
  {
   "cell_type": "code",
   "execution_count": 2,
   "id": "7c34bff6-9136-4aaf-a692-b38129b7de83",
   "metadata": {
    "execution": {
     "iopub.execute_input": "2023-12-26T22:08:01.840106Z",
     "iopub.status.busy": "2023-12-26T22:08:01.839850Z",
     "iopub.status.idle": "2023-12-26T22:08:01.997623Z",
     "shell.execute_reply": "2023-12-26T22:08:01.997009Z",
     "shell.execute_reply.started": "2023-12-26T22:08:01.840073Z"
    },
    "papermill": {},
    "tags": [
     "parameters"
    ]
   },
   "outputs": [],
   "source": [
    "# Inputs\n",
    "input_dir = os.path.join(naas_data_product.OUTPUTS_PATH, \"growth-engine\", date.today().isoformat())\n",
    "file_interactions = \"linkedin_interactions\"\n",
    "\n",
    "# Outputs\n",
    "spreadsheet_url = naas.secret.get(\"ABI_SPREADSHEET\")\n",
    "sheet_name = \"GROWTH\"\n",
    "output_dir = os.path.join(naas_data_product.OUTPUTS_PATH, \"growth-engine\", date.today().isoformat())\n",
    "output_file = \"growth\""
   ]
  },
  {
   "cell_type": "markdown",
   "id": "model_cell",
   "metadata": {
    "papermill": {},
    "tags": []
   },
   "source": [
    "## Model"
   ]
  },
  {
   "cell_type": "markdown",
   "id": "7dbc93d7-b6f3-4f9d-a436-21c27f32ced2",
   "metadata": {
    "papermill": {},
    "tags": []
   },
   "source": [
    "### Get growth db"
   ]
  },
  {
   "cell_type": "code",
   "execution_count": 3,
   "id": "3a72c878-e4d8-413a-b59e-e8f8f4ccd719",
   "metadata": {
    "execution": {
     "iopub.execute_input": "2023-12-26T22:08:02.000577Z",
     "iopub.status.busy": "2023-12-26T22:08:02.000369Z",
     "iopub.status.idle": "2023-12-26T22:08:04.580093Z",
     "shell.execute_reply": "2023-12-26T22:08:04.579530Z",
     "shell.execute_reply.started": "2023-12-26T22:08:02.000554Z"
    },
    "papermill": {},
    "tags": []
   },
   "outputs": [
    {
     "name": "stdout",
     "output_type": "stream",
     "text": [
      "- Growth (init): 1696\n"
     ]
    }
   ],
   "source": [
    "df_gsheet = gsheet.connect(spreadsheet_url).get(sheet_name=sheet_name)\n",
    "if not isinstance(df_gsheet, pd.DataFrame):\n",
    "    df_gsheet = pd.DataFrame()\n",
    "print(\"- Growth (init):\", len(df_gsheet))\n",
    "# df_gsheet.head(1)"
   ]
  },
  {
   "cell_type": "markdown",
   "id": "1568d91f-f088-4461-8911-95d8ad591229",
   "metadata": {},
   "source": [
    "### Get interactions database"
   ]
  },
  {
   "cell_type": "code",
   "execution_count": 4,
   "id": "57461362-178a-4dbd-81d1-dd27a6291c47",
   "metadata": {
    "execution": {
     "iopub.execute_input": "2023-12-26T22:08:04.582552Z",
     "iopub.status.busy": "2023-12-26T22:08:04.582382Z",
     "iopub.status.idle": "2023-12-26T22:08:04.618387Z",
     "shell.execute_reply": "2023-12-26T22:08:04.617752Z",
     "shell.execute_reply.started": "2023-12-26T22:08:04.582533Z"
    },
    "tags": []
   },
   "outputs": [
    {
     "name": "stdout",
     "output_type": "stream",
     "text": [
      "- Interactions: 2299\n"
     ]
    }
   ],
   "source": [
    "df_interactions = pload(input_dir, file_interactions)    \n",
    "print('- Interactions:', len(df_interactions))\n",
    "# df_interactions.head(1)"
   ]
  },
  {
   "cell_type": "markdown",
   "id": "9395d3f0-15f4-46ce-af83-77828bbd61af",
   "metadata": {},
   "source": [
    "### Get interactions by profile and scenario"
   ]
  },
  {
   "cell_type": "code",
   "execution_count": 5,
   "id": "76c84c7f-0cfd-41d2-8e71-19fefe11a643",
   "metadata": {
    "execution": {
     "iopub.execute_input": "2023-12-26T22:08:04.619728Z",
     "iopub.status.busy": "2023-12-26T22:08:04.619450Z",
     "iopub.status.idle": "2023-12-26T22:08:09.356843Z",
     "shell.execute_reply": "2023-12-26T22:08:09.356180Z",
     "shell.execute_reply.started": "2023-12-26T22:08:04.619695Z"
    },
    "tags": []
   },
   "outputs": [
    {
     "name": "stdout",
     "output_type": "stream",
     "text": [
      "- Interactions text: 1696\n"
     ]
    },
    {
     "data": {
      "text/html": [
       "<div>\n",
       "<style scoped>\n",
       "    .dataframe tbody tr th:only-of-type {\n",
       "        vertical-align: middle;\n",
       "    }\n",
       "\n",
       "    .dataframe tbody tr th {\n",
       "        vertical-align: top;\n",
       "    }\n",
       "\n",
       "    .dataframe thead th {\n",
       "        text-align: right;\n",
       "    }\n",
       "</style>\n",
       "<table border=\"1\" class=\"dataframe\">\n",
       "  <thead>\n",
       "    <tr style=\"text-align: right;\">\n",
       "      <th></th>\n",
       "      <th>SCENARIO</th>\n",
       "      <th>PROFILE_URL</th>\n",
       "      <th>INTERACTIONS</th>\n",
       "    </tr>\n",
       "  </thead>\n",
       "  <tbody>\n",
       "    <tr>\n",
       "      <th>0</th>\n",
       "      <td>W51-2023</td>\n",
       "      <td>https://www.linkedin.com/in/ACoAAAEUKLEBMQzYyQ...</td>\n",
       "      <td>Sent 'like' reaction to 'Modern Businesses sho...</td>\n",
       "    </tr>\n",
       "  </tbody>\n",
       "</table>\n",
       "</div>"
      ],
      "text/plain": [
       "   SCENARIO                                        PROFILE_URL  \\\n",
       "0  W51-2023  https://www.linkedin.com/in/ACoAAAEUKLEBMQzYyQ...   \n",
       "\n",
       "                                        INTERACTIONS  \n",
       "0  Sent 'like' reaction to 'Modern Businesses sho...  "
      ]
     },
     "execution_count": 5,
     "metadata": {},
     "output_type": "execute_result"
    }
   ],
   "source": [
    "def get_interactions_by_profile_and_scenario(\n",
    "    df_init,\n",
    "):\n",
    "    # Init\n",
    "    df = df_init.copy()\n",
    "    df_interactions = pd.DataFrame()\n",
    "    \n",
    "    # Cleaning\n",
    "    to_select = [\n",
    "        \"SCENARIO\",\n",
    "        \"PROFILE_URL\",\n",
    "        \"CONTENT_TITLE\",\n",
    "        \"CONTENT_URL\",\n",
    "        \"INTERACTION\",\n",
    "        \"INTERACTION_CONTENT\"\n",
    "    ]\n",
    "    df = df[to_select].sort_values(by=\"PROFILE_URL\").reset_index(drop=True)\n",
    "    df[\"INTERACTION_TEXT\"] = \"\"\n",
    "    df.loc[df[\"INTERACTION\"] == \"POST_REACTION\", \"INTERACTION_TEXT\"] = \"Sent '\" + df[\"INTERACTION_CONTENT\"].str.lower() + \"' reaction to '\" + df[\"CONTENT_TITLE\"].str.strip() + \"' (\" + df[\"CONTENT_URL\"] + \")\"\n",
    "    df.loc[df[\"INTERACTION\"] == \"POST_COMMENT\", \"INTERACTION_TEXT\"] = \"Comment '\" + df[\"INTERACTION_CONTENT\"].str.capitalize() + \"' on '\" + df[\"CONTENT_TITLE\"].str.strip() + \"' (\" + df[\"CONTENT_URL\"] + \")\"\n",
    "\n",
    "    # Create interactions by profile\n",
    "    df_keys = df_init.copy()\n",
    "    df_keys = df_keys[[\"SCENARIO\", \"PROFILE_URL\"]].drop_duplicates()\n",
    "    for row in df_keys.itertuples():\n",
    "        index = row.Index\n",
    "        scenario = row.SCENARIO\n",
    "        profile_url = row.PROFILE_URL\n",
    "        tmp_df = df.copy()\n",
    "        tmp_df = tmp_df[(tmp_df[\"SCENARIO\"] == scenario) & (tmp_df[\"PROFILE_URL\"] == profile_url)].reset_index(drop=True)\n",
    "        interests = \"\"\n",
    "        for row in tmp_df.itertuples():\n",
    "            interaction_text = row.INTERACTION_TEXT\n",
    "            interests = f\"{interests}{interaction_text}, \"\n",
    "        df_keys.loc[index, \"INTERACTIONS\"] = interests.strip()\n",
    "    return df_keys\n",
    "\n",
    "df_interaction_text = get_interactions_by_profile_and_scenario(df_interactions)\n",
    "print(\"- Interactions text:\", len(df_interaction_text))\n",
    "df_interaction_text.head(1)"
   ]
  },
  {
   "cell_type": "markdown",
   "id": "516322ce-6b22-486f-8333-ef882f5ec1ae",
   "metadata": {},
   "source": [
    "### Get last interaction by profile and scenario"
   ]
  },
  {
   "cell_type": "code",
   "execution_count": 6,
   "id": "d3cdac5e-ef5e-48bc-821c-830b9df60a8b",
   "metadata": {
    "execution": {
     "iopub.execute_input": "2023-12-26T22:08:09.358508Z",
     "iopub.status.busy": "2023-12-26T22:08:09.358254Z",
     "iopub.status.idle": "2023-12-26T22:08:09.379500Z",
     "shell.execute_reply": "2023-12-26T22:08:09.378999Z",
     "shell.execute_reply.started": "2023-12-26T22:08:09.358476Z"
    },
    "tags": []
   },
   "outputs": [
    {
     "name": "stdout",
     "output_type": "stream",
     "text": [
      "- Last interactions: 1696\n"
     ]
    },
    {
     "data": {
      "text/html": [
       "<div>\n",
       "<style scoped>\n",
       "    .dataframe tbody tr th:only-of-type {\n",
       "        vertical-align: middle;\n",
       "    }\n",
       "\n",
       "    .dataframe tbody tr th {\n",
       "        vertical-align: top;\n",
       "    }\n",
       "\n",
       "    .dataframe thead th {\n",
       "        text-align: right;\n",
       "    }\n",
       "</style>\n",
       "<table border=\"1\" class=\"dataframe\">\n",
       "  <thead>\n",
       "    <tr style=\"text-align: right;\">\n",
       "      <th></th>\n",
       "      <th>SCENARIO</th>\n",
       "      <th>PROFILE_URL</th>\n",
       "      <th>OCCUPATION</th>\n",
       "      <th>DATE</th>\n",
       "      <th>CONTENT_URL</th>\n",
       "      <th>CONTENT_TITLE</th>\n",
       "      <th>DATE_ORDER</th>\n",
       "    </tr>\n",
       "  </thead>\n",
       "  <tbody>\n",
       "    <tr>\n",
       "      <th>0</th>\n",
       "      <td>W51-2023</td>\n",
       "      <td>https://www.linkedin.com/in/ACoAAAEUKLEBMQzYyQ...</td>\n",
       "      <td>Deeptech Product Management | Transforming Ent...</td>\n",
       "      <td>Tue. 26 Dec.</td>\n",
       "      <td>https://www.linkedin.com/feed/update/urn:li:ac...</td>\n",
       "      <td>Modern Businesses should start visualizing the...</td>\n",
       "      <td>20231226</td>\n",
       "    </tr>\n",
       "  </tbody>\n",
       "</table>\n",
       "</div>"
      ],
      "text/plain": [
       "   SCENARIO                                        PROFILE_URL  \\\n",
       "0  W51-2023  https://www.linkedin.com/in/ACoAAAEUKLEBMQzYyQ...   \n",
       "\n",
       "                                          OCCUPATION          DATE  \\\n",
       "0  Deeptech Product Management | Transforming Ent...  Tue. 26 Dec.   \n",
       "\n",
       "                                         CONTENT_URL  \\\n",
       "0  https://www.linkedin.com/feed/update/urn:li:ac...   \n",
       "\n",
       "                                       CONTENT_TITLE DATE_ORDER  \n",
       "0  Modern Businesses should start visualizing the...   20231226  "
      ]
     },
     "execution_count": 6,
     "metadata": {},
     "output_type": "execute_result"
    }
   ],
   "source": [
    "to_keep = [\n",
    "    \"SCENARIO\",\n",
    "    \"PROFILE_URL\",\n",
    "    \"OCCUPATION\",\n",
    "    \"DATE\",\n",
    "    \"CONTENT_URL\",\n",
    "    \"CONTENT_TITLE\",\n",
    "    \"DATE_ORDER\",\n",
    "]\n",
    "df_last_interaction = df_interactions[to_keep].drop_duplicates().drop_duplicates([\"SCENARIO\", \"PROFILE_URL\"])\n",
    "print(\"- Last interactions:\", len(df_last_interaction))\n",
    "df_last_interaction.head(1)"
   ]
  },
  {
   "cell_type": "markdown",
   "id": "739a63fb-fd47-47c7-be14-64849279a1e7",
   "metadata": {},
   "source": [
    "### Create growth database"
   ]
  },
  {
   "cell_type": "code",
   "execution_count": 7,
   "id": "6823374f-9255-4e54-a125-c8be746acdd4",
   "metadata": {
    "execution": {
     "iopub.execute_input": "2023-12-26T22:08:09.381813Z",
     "iopub.status.busy": "2023-12-26T22:08:09.381653Z",
     "iopub.status.idle": "2023-12-26T22:08:09.646937Z",
     "shell.execute_reply": "2023-12-26T22:08:09.645509Z",
     "shell.execute_reply.started": "2023-12-26T22:08:09.381796Z"
    },
    "tags": []
   },
   "outputs": [
    {
     "name": "stdout",
     "output_type": "stream",
     "text": [
      "🚀 Growth DB: 1696\n"
     ]
    },
    {
     "data": {
      "text/html": [
       "<div>\n",
       "<style scoped>\n",
       "    .dataframe tbody tr th:only-of-type {\n",
       "        vertical-align: middle;\n",
       "    }\n",
       "\n",
       "    .dataframe tbody tr th {\n",
       "        vertical-align: top;\n",
       "    }\n",
       "\n",
       "    .dataframe thead th {\n",
       "        text-align: right;\n",
       "    }\n",
       "</style>\n",
       "<table border=\"1\" class=\"dataframe\">\n",
       "  <thead>\n",
       "    <tr style=\"text-align: right;\">\n",
       "      <th></th>\n",
       "      <th>ENTITY</th>\n",
       "      <th>SCENARIO</th>\n",
       "      <th>PLATFORM</th>\n",
       "      <th>FULLNAME</th>\n",
       "      <th>OCCUPATION</th>\n",
       "      <th>COHORT</th>\n",
       "      <th>INTERACTION_SCORE</th>\n",
       "      <th>INTERACTIONS</th>\n",
       "      <th>LAST_INTERACTION_DATE</th>\n",
       "      <th>LAST_CONTENT_TITLE_INTERACTION</th>\n",
       "      <th>LAST_CONTENT_URL_INTERACTION</th>\n",
       "      <th>PROFILE_URL</th>\n",
       "      <th>DATE_ORDER</th>\n",
       "    </tr>\n",
       "  </thead>\n",
       "  <tbody>\n",
       "    <tr>\n",
       "      <th>0</th>\n",
       "      <td>Jérémy Ravenel</td>\n",
       "      <td>W51-2023</td>\n",
       "      <td>LinkedIn</td>\n",
       "      <td>G. P.</td>\n",
       "      <td>Web Developer ~ All my Posts are my Personal O...</td>\n",
       "      <td>W51-2023</td>\n",
       "      <td>13</td>\n",
       "      <td>Sent 'like' reaction to 'Modern Businesses sho...</td>\n",
       "      <td>Sat. 23 Dec.</td>\n",
       "      <td>Modern Businesses should start visualizing the...</td>\n",
       "      <td>https://www.linkedin.com/feed/update/urn:li:ac...</td>\n",
       "      <td>https://www.linkedin.com/in/ACoAABI9Rz8BIxnTIt...</td>\n",
       "      <td>20231223</td>\n",
       "    </tr>\n",
       "    <tr>\n",
       "      <th>1</th>\n",
       "      <td>Jérémy Ravenel</td>\n",
       "      <td>W51-2023</td>\n",
       "      <td>LinkedIn</td>\n",
       "      <td>Matteo Castiello</td>\n",
       "      <td>Generative AI Advisor and Researcher | Guiding...</td>\n",
       "      <td>W45-2023</td>\n",
       "      <td>11</td>\n",
       "      <td>Comment 'Rate both but dot is my preferred' on...</td>\n",
       "      <td>Sat. 23 Dec.</td>\n",
       "      <td>Modern Businesses should start visualizing the...</td>\n",
       "      <td>https://www.linkedin.com/feed/update/urn:li:ac...</td>\n",
       "      <td>https://www.linkedin.com/in/ACoAACenYg8BoVOSWA...</td>\n",
       "      <td>20231223</td>\n",
       "    </tr>\n",
       "    <tr>\n",
       "      <th>2</th>\n",
       "      <td>Jérémy Ravenel</td>\n",
       "      <td>W51-2023</td>\n",
       "      <td>LinkedIn</td>\n",
       "      <td>Vin Vashishta</td>\n",
       "      <td>AI Advisor | Author “From Data To Profit” | Co...</td>\n",
       "      <td>W44-2023</td>\n",
       "      <td>8</td>\n",
       "      <td>Sent 'like' reaction to 'Imagine if your busin...</td>\n",
       "      <td>Fri. 22 Dec.</td>\n",
       "      <td>Modern Businesses should start visualizing the...</td>\n",
       "      <td>https://www.linkedin.com/feed/update/urn:li:ac...</td>\n",
       "      <td>https://www.linkedin.com/in/ACoAAADS0WQBhQQVMD...</td>\n",
       "      <td>20231222</td>\n",
       "    </tr>\n",
       "    <tr>\n",
       "      <th>3</th>\n",
       "      <td>Jérémy Ravenel</td>\n",
       "      <td>W51-2023</td>\n",
       "      <td>LinkedIn</td>\n",
       "      <td>David Knickerbocker</td>\n",
       "      <td>Chief Scientist, Co-founder, Author</td>\n",
       "      <td>W44-2023</td>\n",
       "      <td>7</td>\n",
       "      <td>Sent 'praise' reaction to 'Modern Businesses s...</td>\n",
       "      <td>Sat. 23 Dec.</td>\n",
       "      <td>Modern Businesses should start visualizing the...</td>\n",
       "      <td>https://www.linkedin.com/feed/update/urn:li:ac...</td>\n",
       "      <td>https://www.linkedin.com/in/ACoAAAA2npgBLQ7PHn...</td>\n",
       "      <td>20231223</td>\n",
       "    </tr>\n",
       "    <tr>\n",
       "      <th>4</th>\n",
       "      <td>Jérémy Ravenel</td>\n",
       "      <td>W51-2023</td>\n",
       "      <td>LinkedIn</td>\n",
       "      <td>Mark Hebert</td>\n",
       "      <td>GIS Manager at Coral Gables</td>\n",
       "      <td>W51-2023</td>\n",
       "      <td>7</td>\n",
       "      <td>Comment 'This would be cool to model on local ...</td>\n",
       "      <td>Sat. 23 Dec.</td>\n",
       "      <td>Modern Businesses should start visualizing the...</td>\n",
       "      <td>https://www.linkedin.com/feed/update/urn:li:ac...</td>\n",
       "      <td>https://www.linkedin.com/in/ACoAAAJoeikBXiKayu...</td>\n",
       "      <td>20231223</td>\n",
       "    </tr>\n",
       "  </tbody>\n",
       "</table>\n",
       "</div>"
      ],
      "text/plain": [
       "           ENTITY  SCENARIO  PLATFORM             FULLNAME  \\\n",
       "0  Jérémy Ravenel  W51-2023  LinkedIn                G. P.   \n",
       "1  Jérémy Ravenel  W51-2023  LinkedIn     Matteo Castiello   \n",
       "2  Jérémy Ravenel  W51-2023  LinkedIn        Vin Vashishta   \n",
       "3  Jérémy Ravenel  W51-2023  LinkedIn  David Knickerbocker   \n",
       "4  Jérémy Ravenel  W51-2023  LinkedIn          Mark Hebert   \n",
       "\n",
       "                                          OCCUPATION    COHORT  \\\n",
       "0  Web Developer ~ All my Posts are my Personal O...  W51-2023   \n",
       "1  Generative AI Advisor and Researcher | Guiding...  W45-2023   \n",
       "2  AI Advisor | Author “From Data To Profit” | Co...  W44-2023   \n",
       "3                Chief Scientist, Co-founder, Author  W44-2023   \n",
       "4                        GIS Manager at Coral Gables  W51-2023   \n",
       "\n",
       "   INTERACTION_SCORE                                       INTERACTIONS  \\\n",
       "0                 13  Sent 'like' reaction to 'Modern Businesses sho...   \n",
       "1                 11  Comment 'Rate both but dot is my preferred' on...   \n",
       "2                  8  Sent 'like' reaction to 'Imagine if your busin...   \n",
       "3                  7  Sent 'praise' reaction to 'Modern Businesses s...   \n",
       "4                  7  Comment 'This would be cool to model on local ...   \n",
       "\n",
       "  LAST_INTERACTION_DATE                     LAST_CONTENT_TITLE_INTERACTION  \\\n",
       "0          Sat. 23 Dec.  Modern Businesses should start visualizing the...   \n",
       "1          Sat. 23 Dec.  Modern Businesses should start visualizing the...   \n",
       "2          Fri. 22 Dec.  Modern Businesses should start visualizing the...   \n",
       "3          Sat. 23 Dec.  Modern Businesses should start visualizing the...   \n",
       "4          Sat. 23 Dec.  Modern Businesses should start visualizing the...   \n",
       "\n",
       "                        LAST_CONTENT_URL_INTERACTION  \\\n",
       "0  https://www.linkedin.com/feed/update/urn:li:ac...   \n",
       "1  https://www.linkedin.com/feed/update/urn:li:ac...   \n",
       "2  https://www.linkedin.com/feed/update/urn:li:ac...   \n",
       "3  https://www.linkedin.com/feed/update/urn:li:ac...   \n",
       "4  https://www.linkedin.com/feed/update/urn:li:ac...   \n",
       "\n",
       "                                         PROFILE_URL DATE_ORDER  \n",
       "0  https://www.linkedin.com/in/ACoAABI9Rz8BIxnTIt...   20231223  \n",
       "1  https://www.linkedin.com/in/ACoAACenYg8BoVOSWA...   20231223  \n",
       "2  https://www.linkedin.com/in/ACoAAADS0WQBhQQVMD...   20231222  \n",
       "3  https://www.linkedin.com/in/ACoAAAA2npgBLQ7PHn...   20231223  \n",
       "4  https://www.linkedin.com/in/ACoAAAJoeikBXiKayu...   20231223  "
      ]
     },
     "execution_count": 7,
     "metadata": {},
     "output_type": "execute_result"
    }
   ],
   "source": [
    "def create_growth_db(\n",
    "    df_init,\n",
    "    df_interaction_text,\n",
    "    df_last_interaction,\n",
    "):\n",
    "    # Init\n",
    "    df = df_init.copy()\n",
    "    \n",
    "    # Get cohort\n",
    "    df_cohort = df_init[[\"SCENARIO\", \"PROFILE_URL\"]].drop_duplicates(keep='last')\n",
    "    df_cohort.loc[df_cohort[\"SCENARIO\"] == TW, \"SCENARIO\"] = \"NEW\"\n",
    "    cohorts = df_cohort.set_index('PROFILE_URL')['SCENARIO'].to_dict()\n",
    "    \n",
    "    # Add cohort to df\n",
    "    df[\"COHORT\"] = df[\"PROFILE_URL\"].map(cohorts)\n",
    "    \n",
    "    # Groupby\n",
    "    to_group = [\n",
    "        \"ENTITY\",\n",
    "        \"SCENARIO\",\n",
    "        \"PLATFORM\",\n",
    "        \"FULLNAME\",\n",
    "        \"COHORT\",\n",
    "        \"PROFILE_URL\",\n",
    "    ]\n",
    "    to_agg = {\n",
    "        \"INTERACTION_SCORE\": \"sum\"\n",
    "    }\n",
    "    df = df.groupby(to_group, as_index=False).agg(to_agg)\n",
    "\n",
    "    # Merge data\n",
    "    df = pd.merge(df, df_interaction_text, how=\"left\")\n",
    "    df = pd.merge(df, df_last_interaction, how=\"left\")\n",
    "    \n",
    "    # Rename columns\n",
    "    to_rename = {\n",
    "        \"DATE\": \"LAST_INTERACTION_DATE\",\n",
    "        \"CONTENT_URL\": \"LAST_CONTENT_URL_INTERACTION\",\n",
    "        \"CONTENT_TITLE\": \"LAST_CONTENT_TITLE_INTERACTION\"\n",
    "    }\n",
    "    df = df.rename(columns=to_rename)\n",
    "    \n",
    "    # Cleaning\n",
    "    to_order = [\n",
    "        \"ENTITY\",\n",
    "        \"SCENARIO\",\n",
    "        \"PLATFORM\",\n",
    "        \"FULLNAME\",\n",
    "        \"OCCUPATION\",\n",
    "        \"COHORT\",\n",
    "        \"INTERACTION_SCORE\",\n",
    "        \"INTERACTIONS\",\n",
    "        \"LAST_INTERACTION_DATE\",\n",
    "        \"LAST_CONTENT_TITLE_INTERACTION\",\n",
    "        \"LAST_CONTENT_URL_INTERACTION\",\n",
    "        \"PROFILE_URL\",\n",
    "        \"DATE_ORDER\",\n",
    "    ]\n",
    "    df = df[to_order]\n",
    "    df = df.sort_values(by=[\"SCENARIO\", \"INTERACTION_SCORE\", \"LAST_INTERACTION_DATE\"], ascending=[False, False, False])\n",
    "    return df.reset_index(drop=True)\n",
    "\n",
    "df_growth = create_growth_db(\n",
    "    df_interactions,\n",
    "    df_interaction_text,\n",
    "    df_last_interaction\n",
    ")\n",
    "print(\"🚀 Growth DB:\", len(df_growth))\n",
    "df_growth.head(5)"
   ]
  },
  {
   "cell_type": "markdown",
   "id": "output_cell",
   "metadata": {
    "papermill": {},
    "tags": []
   },
   "source": [
    "## Output"
   ]
  },
  {
   "cell_type": "markdown",
   "id": "62abcfe3-7812-4232-b1f9-73ab7eb2f795",
   "metadata": {
    "papermill": {},
    "tags": []
   },
   "source": [
    "### Save data"
   ]
  },
  {
   "cell_type": "code",
   "execution_count": 8,
   "id": "63f11af8-00ae-419d-b038-95144a19bcb2",
   "metadata": {
    "execution": {
     "iopub.execute_input": "2023-12-26T22:08:09.651420Z",
     "iopub.status.busy": "2023-12-26T22:08:09.651161Z",
     "iopub.status.idle": "2023-12-26T22:08:09.760885Z",
     "shell.execute_reply": "2023-12-26T22:08:09.759406Z",
     "shell.execute_reply.started": "2023-12-26T22:08:09.651388Z"
    },
    "papermill": {},
    "tags": []
   },
   "outputs": [],
   "source": [
    "pdump(output_dir, df_growth, output_file)"
   ]
  },
  {
   "cell_type": "markdown",
   "id": "28b11537-6391-4022-b55d-dd1f84cbe97f",
   "metadata": {
    "papermill": {},
    "tags": []
   },
   "source": [
    "### Send data to Google Sheets spreadsheet"
   ]
  },
  {
   "cell_type": "code",
   "execution_count": 9,
   "id": "32e91b35-c1f8-4fe6-ae78-a2d4b79c8be7",
   "metadata": {
    "execution": {
     "iopub.execute_input": "2023-12-26T22:08:09.762518Z",
     "iopub.status.busy": "2023-12-26T22:08:09.762252Z",
     "iopub.status.idle": "2023-12-26T22:08:17.430394Z",
     "shell.execute_reply": "2023-12-26T22:08:17.429776Z",
     "shell.execute_reply.started": "2023-12-26T22:08:09.762483Z"
    },
    "papermill": {},
    "tags": []
   },
   "outputs": [],
   "source": [
    "df_check = pd.concat([df_gsheet.astype(str), df_growth.astype(str)]).drop_duplicates(keep=False)\n",
    "if len(df_check) > 0:\n",
    "    gsheet.connect(spreadsheet_url).send(sheet_name=sheet_name, data=df_growth, append=False)\n",
    "else:\n",
    "    print(\"Noting to update in Google Sheets!\")"
   ]
  },
  {
   "cell_type": "code",
   "execution_count": null,
   "id": "13cc4241-9a56-4495-9369-bf3de2bcfb42",
   "metadata": {},
   "outputs": [],
   "source": []
  }
 ],
 "metadata": {
  "kernelspec": {
   "display_name": "Python 3",
   "language": "python",
   "name": "python3"
  },
  "language_info": {
   "codemirror_mode": {
    "name": "ipython",
    "version": 3
   },
   "file_extension": ".py",
   "mimetype": "text/x-python",
   "name": "python",
   "nbconvert_exporter": "python",
   "pygments_lexer": "ipython3",
   "version": "3.9.6"
  },
  "naas": {
   "notebook_id": "cf32ecf61a1d6fdcae3273e7e70026564087776ace44ace0a939c08a2085586f",
   "notebook_path": "Google Sheets/Google_Sheets_Send_data.ipynb"
  },
  "papermill": {
   "default_parameters": {},
   "environment_variables": {},
   "parameters": {},
   "version": "2.3.3"
  }
 },
 "nbformat": 4,
 "nbformat_minor": 5
}
