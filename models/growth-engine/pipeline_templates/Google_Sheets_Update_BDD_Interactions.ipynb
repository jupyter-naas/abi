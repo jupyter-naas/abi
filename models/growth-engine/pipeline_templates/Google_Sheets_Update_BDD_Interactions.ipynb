{
 "cells": [
  {
   "cell_type": "markdown",
   "id": "international-creativity",
   "metadata": {
    "papermill": {},
    "tags": []
   },
   "source": [
    "<img width=\"8%\" alt=\"Google Sheets.png\" src=\"https://raw.githubusercontent.com/jupyter-naas/awesome-notebooks/master/.github/assets/logos/Google%20Sheets.png\" style=\"border-radius: 15%\">"
   ]
  },
  {
   "cell_type": "markdown",
   "id": "unlimited-bookmark",
   "metadata": {
    "papermill": {},
    "tags": []
   },
   "source": [
    "# Google Sheets - Update BDD Interactions"
   ]
  },
  {
   "cell_type": "markdown",
   "id": "tags_cell",
   "metadata": {
    "papermill": {},
    "tags": []
   },
   "source": [
    "**Tags:** #googlesheets #gsheet #data #naas_drivers #operations #snippet"
   ]
  },
  {
   "cell_type": "markdown",
   "id": "fbbbbc71-6333-4a70-b371-c9b82f8b5299",
   "metadata": {
    "papermill": {},
    "tags": []
   },
   "source": [
    "**Author:** [Florent Ravenel](https://www.linkedin.com/in/florent-ravenel/)"
   ]
  },
  {
   "cell_type": "markdown",
   "id": "naas-description",
   "metadata": {
    "papermill": {},
    "tags": [
     "description"
    ]
   },
   "source": [
    "**Description:** This notebook allows to send data to Google Sheets to a Google Sheets spreadsheet."
   ]
  },
  {
   "cell_type": "markdown",
   "id": "input_cell",
   "metadata": {
    "papermill": {},
    "tags": []
   },
   "source": [
    "## Input"
   ]
  },
  {
   "cell_type": "markdown",
   "id": "55d9e878-2148-47e3-a13d-09ba77202893",
   "metadata": {
    "papermill": {},
    "tags": []
   },
   "source": [
    "### Import libraries"
   ]
  },
  {
   "cell_type": "code",
   "execution_count": null,
   "id": "5fad521a-4a18-4dc7-b13d-98a37172715b",
   "metadata": {
    "papermill": {},
    "tags": []
   },
   "outputs": [],
   "source": [
    "from naas_drivers import gsheet\n",
    "import pandas as pd\n",
    "import os\n",
    "from datetime import date\n",
    "import naas_data_product"
   ]
  },
  {
   "cell_type": "markdown",
   "id": "ec39e794-a8cd-41b8-9489-9ddb962a601c",
   "metadata": {
    "papermill": {},
    "tags": []
   },
   "source": [
    "### Setup variables\n",
    "**Inputs**\n",
    "- `input_dir`: Input directory to retrieve file from.\n",
    "- `file_reactions`: Name of the file with reactions to be retrieved.\n",
    "- `file_comments`: Name of the file with comments to be retrieved.\n",
    "\n",
    "**Outputs**\n",
    "- `spreadsheet_url`: Google Sheets spreadsheet URL.\n",
    "- `sheet_name`: Google Sheets sheet name.\n",
    "- `append`: If False, data will be canceled and replaced."
   ]
  },
  {
   "cell_type": "code",
   "execution_count": null,
   "id": "7c34bff6-9136-4aaf-a692-b38129b7de83",
   "metadata": {
    "papermill": {},
    "tags": [
     "parameters"
    ]
   },
   "outputs": [],
   "source": [
    "# Inputs\n",
    "input_dir = os.path.join(naas_data_product.OUTPUTS_PATH, \"growth-engine\", date.today().isoformat())\n",
    "file_reactions = \"linkedin_post_reactions\"\n",
    "file_comments = \"linkedin_post_comments\"\n",
    "\n",
    "# Outputs\n",
    "spreadsheet_url = naas.secret.get(\"ABI_SPREADSHEET\") or \"YOUR_GOOGLE_SPREADSHEET_URL\"\n",
    "sheet_name = \"INTERACTIONS\"\n",
    "append = False\n",
    "file_name = \"linkedin_interactions\""
   ]
  },
  {
   "cell_type": "markdown",
   "id": "model_cell",
   "metadata": {
    "papermill": {},
    "tags": []
   },
   "source": [
    "## Model"
   ]
  },
  {
   "cell_type": "markdown",
   "id": "b82dbc1b-acf3-4e44-8dac-e4f631787afa",
   "metadata": {
    "papermill": {},
    "tags": []
   },
   "source": [
    "### Get data from Google Sheets spreadsheet"
   ]
  },
  {
   "cell_type": "code",
   "execution_count": null,
   "id": "34407369-03a1-45c4-9768-03222224612b",
   "metadata": {
    "papermill": {},
    "tags": []
   },
   "outputs": [],
   "source": [
    "df_gsheet = gsheet.connect(spreadsheet_url).get(sheet_name=sheet_name)\n",
    "print(\"Rows:\", len(df_gsheet))\n",
    "df_gsheet.head(1)"
   ]
  },
  {
   "cell_type": "markdown",
   "id": "1568d91f-f088-4461-8911-95d8ad591229",
   "metadata": {},
   "source": [
    "### Get reactions"
   ]
  },
  {
   "cell_type": "code",
   "execution_count": null,
   "id": "57461362-178a-4dbd-81d1-dd27a6291c47",
   "metadata": {
    "tags": []
   },
   "outputs": [],
   "source": [
    "df_reactions = pload(input_dir, file_reactions)    \n",
    "print('👍 Total Reactions:', len(df_reactions))\n",
    "df_reactions.head(1)"
   ]
  },
  {
   "cell_type": "markdown",
   "id": "0de21922-da06-4f65-89e1-d54a2ff1086b",
   "metadata": {},
   "source": [
    "### Get comments"
   ]
  },
  {
   "cell_type": "code",
   "execution_count": null,
   "id": "5bb75165-5195-48a9-9c71-9b648575da46",
   "metadata": {
    "tags": []
   },
   "outputs": [],
   "source": [
    "df_comments = pload(input_dir, file_comments)    \n",
    "print('🗨️ Total Comments:', len(df_comments))\n",
    "df_comments.head(1)"
   ]
  },
  {
   "cell_type": "markdown",
   "id": "1683da4f-41e3-4e11-9c3a-bf01af8ebefe",
   "metadata": {},
   "source": [
    "### Cleaning data"
   ]
  },
  {
   "cell_type": "code",
   "execution_count": null,
   "id": "dc7ec5d6-0272-4839-a21c-a4caa6f03f58",
   "metadata": {
    "tags": []
   },
   "outputs": [],
   "source": [
    "def create_interactions_dataset(\n",
    "    df_gsheet,\n",
    "    df_reactions,\n",
    "    df_comments,\n",
    "):\n",
    "    # Df reactions\n",
    "    data_reaction = {\n",
    "        \"ENTITY\": df_reactions[\"ENTITY\"],\n",
    "        \"SCENARIO\": df_reactions[\"SCENARIO\"],\n",
    "        \"PLATFORM\": \"LinkedIn\",\n",
    "        \"FIRSTNAME\": df_reactions[\"FIRSTNAME\"],\n",
    "        \"LASTNAME\": df_reactions[\"LASTNAME\"],\n",
    "        \"FULLNAME\": df_reactions[\"FULLNAME\"],\n",
    "        \"OCCUPATION\": df_reactions[\"OCCUPATION\"],\n",
    "        \"INTERACTION\": \"POST_REACTION\",\n",
    "        \"INTERACTION_CONTENT\": df_reactions[\"REACTION_TYPE\"],\n",
    "        \"INTERACTION_SCORE\": 1,\n",
    "        \"PROFILE_URL\": df_reactions[\"PROFILE_URL\"],\n",
    "        \"CONTENT_TITLE\": df_reactions[\"TITLE\"],\n",
    "        \"CONTENT_URL\": df_reactions[\"POST_URL\"],\n",
    "        \"PUBLISHED_DATE\": df_reactions[\"PUBLISHED_DATE\"],\n",
    "        \"DATE_EXTRACT\": df_reactions[\"DATE_EXTRACT\"],\n",
    "    }\n",
    "    df1 = pd.DataFrame(data_reaction)\n",
    "    \n",
    "    # Df comments\n",
    "    data_comment = {\n",
    "        \"ENTITY\": df_comments[\"ENTITY\"],\n",
    "        \"SCENARIO\": df_comments[\"SCENARIO\"],\n",
    "        \"PLATFORM\": \"LinkedIn\",\n",
    "        \"FIRSTNAME\": df_comments[\"FIRSTNAME\"],\n",
    "        \"LASTNAME\": df_comments[\"LASTNAME\"],\n",
    "        \"FULLNAME\": df_comments[\"FULLNAME\"],\n",
    "        \"OCCUPATION\": df_comments[\"OCCUPATION\"],\n",
    "        \"INTERACTION\": \"POST_COMMENT\",\n",
    "        \"INTERACTION_CONTENT\": df_comments[\"TEXT\"],\n",
    "        \"INTERACTION_SCORE\": 3,\n",
    "        \"PROFILE_URL\": df_comments[\"PROFILE_URL\"],\n",
    "        \"CONTENT_TITLE\": df_comments[\"TITLE\"],\n",
    "        \"CONTENT_URL\": df_comments[\"CONTENT_URL\"],\n",
    "        \"PUBLISHED_DATE\": df_comments[\"PUBLISHED_DATE\"],\n",
    "        \"DATE_EXTRACT\": df_comments[\"DATE_EXTRACT\"],\n",
    "    }\n",
    "    df2 = pd.DataFrame(data_comment)\n",
    "    \n",
    "    # Concat df\n",
    "    df = pd.concat([df1, df2]).reset_index(drop=True)\n",
    "    \n",
    "    # Exclude Entity from Full name\n",
    "    entity = df.loc[0 , \"ENTITY\"]\n",
    "    df = df[df[\"FULLNAME\"] != entity]\n",
    "    \n",
    "    # Drop duplicates\n",
    "    df = pd.concat([df, df_gsheet]).drop_duplicates([\"ENTITY\", \"SCENARIO\", \"PROFILE_URL\", \"INTERACTION_CONTENT\", \"CONTENT_URL\"]).reset_index(drop=True)\n",
    "    return df.sort_values(by=[\"PUBLISHED_DATE\", \"FULLNAME\"], ascending=[False, True]).reset_index(drop=True)\n",
    "\n",
    "df_interactions = create_interactions_dataset(\n",
    "    df_gsheet,\n",
    "    df_reactions,\n",
    "    df_comments,\n",
    ")\n",
    "print('🗂️ Interactions:', len(df_interactions))\n",
    "df_interactions.head(5)"
   ]
  },
  {
   "cell_type": "markdown",
   "id": "output_cell",
   "metadata": {
    "papermill": {},
    "tags": []
   },
   "source": [
    "## Output"
   ]
  },
  {
   "cell_type": "markdown",
   "id": "22d3ad72-aa05-4f67-9407-bdf29f423aee",
   "metadata": {
    "papermill": {},
    "tags": []
   },
   "source": [
    "### Save data"
   ]
  },
  {
   "cell_type": "code",
   "execution_count": null,
   "id": "2dc65a28-ed03-4fa4-b80c-6ef823639807",
   "metadata": {
    "papermill": {},
    "tags": []
   },
   "outputs": [],
   "source": [
    "pdump(input_dir, df_interactions, file_name)"
   ]
  },
  {
   "cell_type": "markdown",
   "id": "28b11537-6391-4022-b55d-dd1f84cbe97f",
   "metadata": {
    "papermill": {},
    "tags": []
   },
   "source": [
    "### Send data to Google Sheets spreadsheet"
   ]
  },
  {
   "cell_type": "code",
   "execution_count": null,
   "id": "32e91b35-c1f8-4fe6-ae78-a2d4b79c8be7",
   "metadata": {
    "papermill": {},
    "tags": []
   },
   "outputs": [],
   "source": [
    "gsheet.connect(spreadsheet_url).send(sheet_name=sheet_name, data=df_interactions, append=append)"
   ]
  },
  {
   "cell_type": "code",
   "execution_count": null,
   "id": "13cc4241-9a56-4495-9369-bf3de2bcfb42",
   "metadata": {},
   "outputs": [],
   "source": []
  }
 ],
 "metadata": {
  "kernelspec": {
   "display_name": "Python 3",
   "language": "python",
   "name": "python3"
  },
  "language_info": {
   "codemirror_mode": {
    "name": "ipython",
    "version": 3
   },
   "file_extension": ".py",
   "mimetype": "text/x-python",
   "name": "python",
   "nbconvert_exporter": "python",
   "pygments_lexer": "ipython3",
   "version": "3.9.6"
  },
  "naas": {
   "notebook_id": "cf32ecf61a1d6fdcae3273e7e70026564087776ace44ace0a939c08a2085586f",
   "notebook_path": "Google Sheets/Google_Sheets_Send_data.ipynb"
  },
  "papermill": {
   "default_parameters": {},
   "environment_variables": {},
   "parameters": {},
   "version": "2.3.3"
  }
 },
 "nbformat": 4,
 "nbformat_minor": 5
}
