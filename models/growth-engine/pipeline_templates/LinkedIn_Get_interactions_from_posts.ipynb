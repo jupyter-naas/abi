{
 "cells": [
  {
   "cell_type": "markdown",
   "id": "recreational-precipitation",
   "metadata": {
    "execution": {
     "iopub.execute_input": "2021-01-25T08:00:35.294800Z",
     "iopub.status.busy": "2021-01-25T08:00:35.294557Z",
     "iopub.status.idle": "2021-01-25T08:00:35.307281Z",
     "shell.execute_reply": "2021-01-25T08:00:35.306468Z",
     "shell.execute_reply.started": "2021-01-25T08:00:35.294775Z"
    },
    "papermill": {},
    "tags": []
   },
   "source": [
    "<img width=\"8%\" alt=\"LinkedIn.png\" src=\"https://raw.githubusercontent.com/jupyter-naas/awesome-notebooks/master/.github/assets/logos/LinkedIn.png\" style=\"border-radius: 15%\">"
   ]
  },
  {
   "cell_type": "markdown",
   "id": "anticipated-teach",
   "metadata": {
    "papermill": {},
    "tags": []
   },
   "source": [
    "# LinkedIn - Get post interactions"
   ]
  },
  {
   "cell_type": "markdown",
   "id": "6f9a2cbe-a573-488b-88aa-c505a38b3ef5",
   "metadata": {
    "papermill": {},
    "tags": []
   },
   "source": [
    "**Tags:** #linkedin #post #interactions #naas_drivers #content #snippet #dataframe #growth"
   ]
  },
  {
   "cell_type": "markdown",
   "id": "412447a1-7aba-4cdf-afec-b5a94515b619",
   "metadata": {
    "papermill": {},
    "tags": []
   },
   "source": [
    "**Author:** [Florent Ravenel](https://www.linkedin.com/in/florent-ravenel/)"
   ]
  },
  {
   "cell_type": "markdown",
   "id": "naas-description",
   "metadata": {
    "papermill": {},
    "tags": [
     "description"
    ]
   },
   "source": [
    "**Description:** This notebook fetches your profile's post interactions from a Google Sheets."
   ]
  },
  {
   "cell_type": "markdown",
   "id": "481d93a8-af29-41e3-9fc0-29f2bce7658f",
   "metadata": {
    "papermill": {},
    "tags": []
   },
   "source": [
    "\n",
    "<div class=\"alert alert-info\" role=\"info\" style=\"margin: 10px\">\n",
    "<b>Disclaimer:</b><br>\n",
    "This code is in no way affiliated with, authorized, maintained, sponsored or endorsed by Linkedin or any of its affiliates or subsidiaries. It uses an independent and unofficial API. Use at your own risk.\n",
    "\n",
    "This project violates Linkedin's User Agreement Section 8.2, and because of this, Linkedin may (and will) temporarily or permanently ban your account. We are not responsible for your account being banned.\n",
    "<br>\n",
    "</div>"
   ]
  },
  {
   "cell_type": "markdown",
   "id": "attractive-bandwidth",
   "metadata": {
    "papermill": {},
    "tags": []
   },
   "source": [
    "## Input"
   ]
  },
  {
   "cell_type": "markdown",
   "id": "import_cell",
   "metadata": {
    "papermill": {},
    "tags": []
   },
   "source": [
    "### Import libraries"
   ]
  },
  {
   "cell_type": "code",
   "execution_count": null,
   "id": "dangerous-christianity",
   "metadata": {
    "papermill": {},
    "tags": []
   },
   "outputs": [],
   "source": [
    "from naas_drivers import linkedin, gsheet\n",
    "import naas\n",
    "import os\n",
    "from datetime import date, timedelta, datetime\n",
    "import pandas as pd\n",
    "import naas_data_product\n",
    "import math"
   ]
  },
  {
   "cell_type": "markdown",
   "id": "quiet-founder",
   "metadata": {
    "papermill": {},
    "tags": []
   },
   "source": [
    "### Setup variables\n",
    "**Inputs**\n",
    "- `spreadsheet_url`: Google Sheets spreadsheet URL.\n",
    "- `sheet_name`: Google Sheets sheet name.\n",
    "- `li_at`: Cookie used to authenticate Members and API clients.\n",
    "- `JSESSIONID`: Cookie used for Cross Site Request Forgery (CSRF) protection and URL signature validation.\n",
    "- `limit`: Date limit.\n",
    "- `force_update`: Boolean to force update.\n",
    "\n",
    "**Outputs**\n",
    "- `output_dir`: Output directory\n",
    "- `file_reactions`: Name of the file with reactions to be saved in your local.\n",
    "- `file_comments`: Name of the file with comments to be saved in your local."
   ]
  },
  {
   "cell_type": "code",
   "execution_count": null,
   "id": "classical-necklace",
   "metadata": {
    "papermill": {},
    "tags": [
     "parameters"
    ]
   },
   "outputs": [],
   "source": [
    "# Inputs\n",
    "spreadsheet_url = naas.secret.get(\"ABI_SPREADSHEET\")\n",
    "sheet_name = \"CONTENT\"\n",
    "li_at = naas.secret.get(\"LINKEDIN_LI_AT\")\n",
    "JSESSIONID = naas.secret.get(\"LINKEDIN_JSESSIONID\")\n",
    "limit = 20\n",
    "force_update = False\n",
    "\n",
    "# Outputs\n",
    "output_dir = os.path.join(naas_data_product.OUTPUTS_PATH, \"growth-engine\", date.today().isoformat())\n",
    "file_reactions = \"linkedin_post_reactions\"\n",
    "file_comments = \"linkedin_post_comments\""
   ]
  },
  {
   "cell_type": "markdown",
   "id": "polished-prior",
   "metadata": {
    "papermill": {},
    "tags": []
   },
   "source": [
    "## Model"
   ]
  },
  {
   "cell_type": "markdown",
   "id": "38fff83a-5306-42e2-b5ce-e226e93f28b7",
   "metadata": {
    "papermill": {},
    "tags": []
   },
   "source": [
    "### Get data from Google Sheets spreadsheet"
   ]
  },
  {
   "cell_type": "code",
   "execution_count": null,
   "id": "5f8dcee2-369f-4eb2-be0a-2a43d2a96641",
   "metadata": {
    "papermill": {},
    "tags": []
   },
   "outputs": [],
   "source": [
    "# Get data\n",
    "df_posts = gsheet.connect(spreadsheet_url).get(sheet_name=sheet_name)\n",
    "if not isinstance(df_posts, pd.DataFrame):\n",
    "    df_posts = pd.DataFrame()\n",
    "else:\n",
    "    # Filter on this week and last week\n",
    "    tw = date.today().strftime(\"W%W-%Y\")\n",
    "    lw = (date.today() - timedelta(days=date.today().weekday() + 7)).strftime(\"W%W-%Y\")\n",
    "    df_posts = df_posts[df_posts[\"SCENARIO\"].isin([tw, lw])]\n",
    "\n",
    "# Display result\n",
    "print(\"Rows:\", len(df_posts))\n",
    "df_posts.head(1)"
   ]
  },
  {
   "cell_type": "markdown",
   "id": "b923e309-06f6-4c70-9e48-42a5765902b4",
   "metadata": {},
   "source": [
    "### Get posts interactions (reactions or comments)"
   ]
  },
  {
   "cell_type": "code",
   "execution_count": null,
   "id": "8362378d-54eb-4e24-8956-c5e59ff5747e",
   "metadata": {
    "tags": []
   },
   "outputs": [],
   "source": [
    "def get_posts_interactions(\n",
    "    df_posts,\n",
    "    li_at,\n",
    "    JSESSIONID,\n",
    "    output_dir,\n",
    "    limit=20,\n",
    "    force_update=False,\n",
    "):\n",
    "    # Init\n",
    "    df_reactions = pd.DataFrame()\n",
    "    df_comments = pd.DataFrame()\n",
    "    if len(df_posts) == 0:\n",
    "        return pd.DataFrame(), pd.DataFrame()\n",
    "        \n",
    "    # Loop on posts\n",
    "    calls = 0\n",
    "    for row in df_posts.itertuples():\n",
    "        i = row.Index + 1\n",
    "        title = row.TITLE\n",
    "        post_url = row.CONTENT_URL\n",
    "        likes_count = int(row.LIKES)\n",
    "        comments_count = int(row.COMMENTS)\n",
    "        activity_id = post_url.split(\"activity:\")[1].strip()\n",
    "        reaction_file = f\"{activity_id}_reactions\"\n",
    "        comment_file = f\"{activity_id}_comments\"\n",
    "        print(f\"{i} - Starting with '{title}' ({post_url})\")\n",
    "        \n",
    "        try:\n",
    "            # Get reactions\n",
    "            tmp_reactions = pload(output_dir, reaction_file)\n",
    "            if (tmp_reactions is None or force_update) and likes_count > 0:\n",
    "                tmp_reactions = linkedin.connect(li_at, JSESSIONID).post.get_likes(post_url, sleep=False)\n",
    "                pdump(output_dir, tmp_reactions, reaction_file)\n",
    "                calls += math.ceil(int(likes_count) / 100)\n",
    "            r_c = 0\n",
    "            if tmp_reactions is not None:\n",
    "                r_c = len(tmp_reactions)\n",
    "            print(f\"✅ Reactions:\", r_c)\n",
    "            df_reactions = pd.concat([df_reactions, tmp_reactions])\n",
    "\n",
    "            # Get comments\n",
    "            tmp_comments = pload(output_dir, comment_file)\n",
    "            if (tmp_comments is None or force_update) and comments_count > 0:\n",
    "                tmp_comments = linkedin.connect(li_at, JSESSIONID).post.get_comments(post_url, sleep=False)\n",
    "                pdump(output_dir, tmp_comments, comment_file)\n",
    "                calls += math.ceil(int(comments_count) / 100)\n",
    "            c_c = 0\n",
    "            if tmp_comments is not None:\n",
    "                c_c = len(tmp_comments)\n",
    "            print(f\"✅ Comments:\", c_c)\n",
    "            df_comments = pd.concat([df_comments, tmp_comments])\n",
    "            \n",
    "            # Manage limit\n",
    "            print(\"📞 API calls:\", calls)\n",
    "            if calls > limit:\n",
    "                break\n",
    "        except Exception as e:\n",
    "            print(e)\n",
    "    return df_reactions, df_comments\n",
    "\n",
    "df_reactions, df_comments = get_posts_interactions(\n",
    "    df_posts,\n",
    "    li_at,\n",
    "    JSESSIONID,\n",
    "    output_dir,\n",
    "    limit,\n",
    "    force_update,\n",
    ")\n",
    "print('👍 Total Reactions:', len(df_reactions))\n",
    "print('🗨️ Total Comments:', len(df_comments))"
   ]
  },
  {
   "cell_type": "markdown",
   "id": "9b1c6327-aa1d-4bb9-9234-d1f091f5a99e",
   "metadata": {},
   "source": [
    "### Add Ref Content metadata to dataframe"
   ]
  },
  {
   "cell_type": "code",
   "execution_count": null,
   "id": "5913f7a8-fa64-458b-8de1-43e4182d305e",
   "metadata": {
    "tags": []
   },
   "outputs": [],
   "source": [
    "def enrich_interactions(\n",
    "    df_posts,\n",
    "    df_reactions,\n",
    "    df_comments\n",
    "):\n",
    "    # Init\n",
    "    if len(df_posts) == 0:\n",
    "        return pd.DataFrame(), pd.DataFrame()\n",
    "    \n",
    "    # Create Ref\n",
    "    ref = df_posts.copy()\n",
    "    ref = ref[[\"ENTITY\", \"SCENARIO\", \"CONTENT_URL\", \"TITLE\", \"PUBLISHED_DATE\"]]\n",
    "\n",
    "    # Merge with dfs\n",
    "    df_reactions = pd.merge(ref, df_reactions, how=\"inner\", left_on=\"CONTENT_URL\", right_on=\"POST_URL\")\n",
    "    df_comments = pd.merge(ref, df_comments, how=\"inner\", left_on=\"CONTENT_URL\", right_on=\"POST_URL\")\n",
    "    return df_reactions, df_comments\n",
    "\n",
    "df_reactions, df_comments = enrich_interactions(\n",
    "    df_posts,\n",
    "    df_reactions,\n",
    "    df_comments\n",
    ")\n",
    "print('👍 Total Reactions:', len(df_reactions))\n",
    "print('🗨️ Total Comments:', len(df_comments))"
   ]
  },
  {
   "cell_type": "markdown",
   "id": "0848d913-68fb-402b-ac6a-d2638e3e7b3d",
   "metadata": {
    "papermill": {},
    "tags": []
   },
   "source": [
    "## Output"
   ]
  },
  {
   "cell_type": "markdown",
   "id": "b1a9887b-70c8-4517-a34a-50417e30c492",
   "metadata": {
    "papermill": {},
    "tags": []
   },
   "source": [
    "### Save data"
   ]
  },
  {
   "cell_type": "code",
   "execution_count": null,
   "id": "179dce5a-dfa2-45b5-9100-d798ad469a6a",
   "metadata": {
    "papermill": {},
    "tags": []
   },
   "outputs": [],
   "source": [
    "pdump(output_dir, df_reactions, file_reactions)\n",
    "pdump(output_dir, df_comments, file_comments)"
   ]
  },
  {
   "cell_type": "code",
   "execution_count": null,
   "id": "632d87b4-9b46-4c49-9c4e-f3380a909528",
   "metadata": {},
   "outputs": [],
   "source": []
  }
 ],
 "metadata": {
  "kernelspec": {
   "display_name": "Python 3",
   "language": "python",
   "name": "python3"
  },
  "language_info": {
   "codemirror_mode": {
    "name": "ipython",
    "version": 3
   },
   "file_extension": ".py",
   "mimetype": "text/x-python",
   "name": "python",
   "nbconvert_exporter": "python",
   "pygments_lexer": "ipython3",
   "version": "3.9.6"
  },
  "naas": {
   "notebook_id": "ff638a6ff20341b8d9c703bd58fb5088b4bfd7df4f07be972ae77d964ad9eb84",
   "notebook_path": "LinkedIn/LinkedIn_Get_profile_posts_stats.ipynb"
  },
  "papermill": {
   "default_parameters": {},
   "environment_variables": {},
   "parameters": {},
   "version": "2.3.3"
  },
  "widgets": {
   "application/vnd.jupyter.widget-state+json": {
    "state": {},
    "version_major": 2,
    "version_minor": 0
   }
  }
 },
 "nbformat": 4,
 "nbformat_minor": 5
}
