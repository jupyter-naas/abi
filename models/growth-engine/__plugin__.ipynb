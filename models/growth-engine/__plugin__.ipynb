{
 "cells": [
  {
   "cell_type": "markdown",
   "id": "86ffb6d3-d99a-410e-9d06-ba9d8bef13a7",
   "metadata": {
    "papermill": {},
    "tags": []
   },
   "source": [
    "<img width=\"8%\" alt=\"Growth\" src=\"https://naasai-public.s3.eu-west-3.amazonaws.com/abi-demo/growth_marketing.png\" style=\"border-radius: 15%\">"
   ]
  },
  {
   "cell_type": "markdown",
   "id": "a5b2c509-2c29-49e8-af91-4f3f1e386da3",
   "metadata": {
    "papermill": {},
    "tags": []
   },
   "source": [
    "# Growth plugin"
   ]
  },
  {
   "cell_type": "markdown",
   "id": "d77fe283-4edd-42d3-a909-8e207d4b842f",
   "metadata": {
    "papermill": {},
    "tags": []
   },
   "source": [
    "**Tags:** #naaschatplugin #naas #naas_driver #chat #plugin #ai"
   ]
  },
  {
   "cell_type": "markdown",
   "id": "b90f2d91-c886-4e36-8265-b09d06bb1c7f",
   "metadata": {
    "papermill": {},
    "tags": []
   },
   "source": [
    "**Author:** [Florent Ravenel](https://www.linkedin.com/in/florent-ravenel)"
   ]
  },
  {
   "cell_type": "markdown",
   "id": "214749fe-7f0b-4755-b7ea-1d200c234cc6",
   "metadata": {
    "papermill": {},
    "tags": []
   },
   "source": [
    "**Description:** This notebook creates a Naas Chat plugin with commands."
   ]
  },
  {
   "cell_type": "markdown",
   "id": "cff349c8-2816-4ae4-9229-027c068eeb51",
   "metadata": {
    "papermill": {},
    "tags": []
   },
   "source": [
    "## Input"
   ]
  },
  {
   "cell_type": "markdown",
   "id": "80266a9e-fe54-4f3e-aeb2-01483bbc53f9",
   "metadata": {
    "papermill": {},
    "tags": []
   },
   "source": [
    "### Import libraries"
   ]
  },
  {
   "cell_type": "code",
   "execution_count": null,
   "id": "cc038b10-2679-42bc-909e-09a298339df4",
   "metadata": {
    "papermill": {},
    "tags": []
   },
   "outputs": [],
   "source": [
    "import naas\n",
    "from naas_drivers import naas_chat_plugin, gsheet\n",
    "import naas_data_product\n",
    "from IPython.display import Markdown\n",
    "from datetime import date, timedelta\n",
    "import os\n",
    "import pandas as pd"
   ]
  },
  {
   "cell_type": "markdown",
   "id": "e930da4d-39a2-424e-8808-77fd0a3829bf",
   "metadata": {
    "papermill": {},
    "tags": []
   },
   "source": [
    "### Setup variables\n",
    "**Inputs**\n",
    "- `entity_index`: Entity index.\n",
    "- `entity_dir`: Entity directory.\n",
    "- `input_dir`: Input directory to retrieve file from.\n",
    "- `input_file`: Input file.\n",
    "- `spreadsheet_url`: Google Sheets spreadsheet URL.\n",
    "- `sheet_name`: Google Sheets sheet name.\n",
    "- `name`: Plugin name.\n",
    "- `model`: Plugin chat model.\n",
    "- `temperature`: Plugin chat temperature.\n",
    "- `description`: Plugin description.\n",
    "- `avatar`: Plugin avatar image.\n",
    "- `model_dir`: Models directory.\n",
    "\n",
    "**Outputs**\n",
    "- `output_dir`: Output directory where output files are stored. \n",
    "- `entity_name`: Entity name."
   ]
  },
  {
   "cell_type": "code",
   "execution_count": null,
   "id": "6cf9bd9b-ce83-45a5-ab0f-15c978458b42",
   "metadata": {
    "papermill": {},
    "tags": [
     "parameters"
    ]
   },
   "outputs": [],
   "source": [
    "# Inputs\n",
    "entity_index = \"0\"\n",
    "entity_dir = pload(os.path.join(naas_data_product.OUTPUTS_PATH, \"entities\", entity_index), \"entity_dir\")\n",
    "input_dir = os.path.join(entity_dir, \"growth-engine\", date.today().isoformat())\n",
    "input_file = \"growth\"\n",
    "spreadsheet_url = pload(os.path.join(naas_data_product.OUTPUTS_PATH, \"entities\", entity_index), \"abi_spreadsheet\")\n",
    "sheet_name = \"GROWTH\"\n",
    "name = \"Growth Assistant\"\n",
    "model = \"gpt-4-1106-preview\"\n",
    "temperature = 0.5\n",
    "description = \"Analyze content engagement, identifying potential leads through social media engagement, scoring interactions, and enriching profiles for targeted sales outreach.\"\n",
    "avatar = \"https://naasai-public.s3.eu-west-3.amazonaws.com/abi-demo/growth_marketing.png\"\n",
    "model_dir = os.path.join(naas_data_product.ROOT_PATH, \"models\", \"growth-engine\")\n",
    "api_key = naas.secret.get('NAAS_API_TOKEN')\n",
    "\n",
    "# Outputs\n",
    "output_dir = os.path.join(entity_dir, \"plugins\")\n",
    "entity_name = pload(os.path.join(naas_data_product.OUTPUTS_PATH, \"entities\", entity_index), \"entity_name\")"
   ]
  },
  {
   "cell_type": "markdown",
   "id": "9070993a-eec9-4f78-a7f9-2e18c743a20d",
   "metadata": {
    "papermill": {},
    "tags": []
   },
   "source": [
    "## Model"
   ]
  },
  {
   "cell_type": "markdown",
   "id": "b9e20374-17f3-4642-91d2-24ae8741f0d1",
   "metadata": {},
   "source": [
    "### Get assets"
   ]
  },
  {
   "cell_type": "code",
   "execution_count": null,
   "id": "c0c534f4-7235-46b0-a5a8-dc2c28e6a181",
   "metadata": {
    "tags": []
   },
   "outputs": [],
   "source": [
    "image_url = get_image_asset(input_dir, \"growth_trend.png\")\n",
    "print(\"- Image URL:\", image_url)\n",
    "\n",
    "image_html = get_image_asset(input_dir, \"growth_trend.html\")\n",
    "print(\"- Image HTML:\", image_html)"
   ]
  },
  {
   "cell_type": "markdown",
   "id": "6b19ea41-fa98-4f6f-a1d7-6511919f039c",
   "metadata": {
    "papermill": {},
    "tags": []
   },
   "source": [
    "### Get data to be sent to prompt"
   ]
  },
  {
   "cell_type": "markdown",
   "id": "27a6d8bd-7de9-4e9e-99f9-2bdc69eb8da4",
   "metadata": {
    "execution": {
     "iopub.execute_input": "2023-12-23T11:43:59.095488Z",
     "iopub.status.busy": "2023-12-23T11:43:59.095256Z",
     "iopub.status.idle": "2023-12-23T11:43:59.098204Z",
     "shell.execute_reply": "2023-12-23T11:43:59.097564Z",
     "shell.execute_reply.started": "2023-12-23T11:43:59.095465Z"
    },
    "tags": []
   },
   "source": [
    "#### Get content published"
   ]
  },
  {
   "cell_type": "code",
   "execution_count": null,
   "id": "ae6cef72-fe53-4642-ad8a-b9a9e8811a12",
   "metadata": {
    "tags": []
   },
   "outputs": [],
   "source": [
    "# Get content published\n",
    "df_content = pd.DataFrame()\n",
    "content_dir = input_dir.replace(\"growth-engine\", \"content-engine\")\n",
    "data_content = pload(content_dir, \"content\")\n",
    "if data_content is None:\n",
    "    data_content = gsheet.connect(spreadsheet_url).get(sheet_name=\"POSTS\")\n",
    "if isinstance(data_content, pd.DataFrame):\n",
    "    df_content = data_content.copy()\n",
    "    \n",
    "if len(df_content) > 0:\n",
    "    df_content = df_content[(df_content[\"ENTITY\"] == entity_name) & (df_content[\"SCENARIO\"].isin([TW, LW]))]\n",
    "    df_content = df_content[[\"TITLE\", \"URL\", \"DATE\", \"VIEWS\", \"ENGAGEMENTS\"]]\n",
    "\n",
    "# Transform df to string\n",
    "post_data = df_content.to_string()\n",
    "\n",
    "# Count tokens\n",
    "post_tokens = naas_chat_plugin.num_tokens_from_string(post_data)\n",
    "print(f\"- Post tokens: {post_tokens}\")"
   ]
  },
  {
   "cell_type": "markdown",
   "id": "e4be6d57-9b38-4dbc-95db-89a6fb3aa8d1",
   "metadata": {},
   "source": [
    "#### Get leads generated"
   ]
  },
  {
   "cell_type": "code",
   "execution_count": null,
   "id": "b4c5177b-2750-462a-9b60-8643d8db4531",
   "metadata": {
    "papermill": {},
    "tags": []
   },
   "outputs": [],
   "source": [
    "# Init\n",
    "prompt_data = []\n",
    "total_leads = 0\n",
    "new_leads = 0\n",
    "\n",
    "# Load data from pickle\n",
    "data = pload(input_dir, input_file)    \n",
    "if data is None:\n",
    "    data = gsheet.connect(spreadsheet_url).get(sheet_name=sheet_name)\n",
    "if isinstance(data, pd.DataFrame):\n",
    "    df = data.copy()\n",
    "\n",
    "# Filter on this week and last week\n",
    "if len(df) > 0:\n",
    "    df = df[(df[\"ENTITY\"].str.contains(entity_name)) & (df[\"SCENARIO\"].isin([TW, LW]))]\n",
    "\n",
    "    # Get data\n",
    "    total_leads = len(df)\n",
    "    new_leads = len(df[(df[\"SCENARIO\"] == TW)])\n",
    "\n",
    "    # Filter to not exceed context windowns\n",
    "    columns = [\n",
    "        'FULLNAME',\n",
    "        'OCCUPATION',\n",
    "        'INTERACTION_SCORE',\n",
    "        'LAST_INTERACTION_DATE',\n",
    "        'PROFILE_URL',\n",
    "    ]\n",
    "    prompt_data = df[columns]\n",
    "    if len(prompt_data) > 0:\n",
    "        prompt_data = prompt_data[:100]\n",
    "            \n",
    "print(f\"- Leads: {total_leads}\")\n",
    "print(f\"- New Leads: {new_leads}\")\n",
    "print(f\"- Growth data: {len(prompt_data)}\")"
   ]
  },
  {
   "cell_type": "markdown",
   "id": "3266b78a-4af9-4b6f-b739-3b84f4165c25",
   "metadata": {},
   "source": [
    "### Create system prompt"
   ]
  },
  {
   "cell_type": "code",
   "execution_count": null,
   "id": "ee832da5-26da-4193-bb58-78a2b89c9790",
   "metadata": {
    "tags": []
   },
   "outputs": [],
   "source": [
    "system_prompt = f\"\"\"\n",
    "Act as a Growth assistant who has access to a list of interactions from content that enable the user to get marketing qualified contacts.\n",
    "Your role is to manage and optimize the list of people who interacted on the content, ensuring to extract only the most qualified contacts to feed the sales representative.\n",
    "The last 2 weeks '{TW}' & '{LW}' the '{entity_name}' generated {total_leads} new leads ({new_leads} on {TW}) by the following posts published: {post_data}. \n",
    "Here is the list of leads with the highest interaction score: {df.to_string()}.\n",
    "Please remember the user that you don't have access to all the list due to the limit of the context window.\n",
    "The first message should be about presenting yourself and analyze briefly '{entity_name}' new interactions with a maximum of 3 bullet points.\n",
    "Then, you will display the image inside the markdown of the chat about the contacts reached over the weeks: ![Contacts Reached]({image_url}).\n",
    "You must ALWAYS show the image in the first message.\n",
    "Be casual, but professional. Wait for the first answer from the user, and then start with the first high-level analysis. \n",
    "\"\"\""
   ]
  },
  {
   "cell_type": "markdown",
   "id": "d5d32750-a803-4f90-bf74-b04589d76d51",
   "metadata": {
    "papermill": {},
    "tags": []
   },
   "source": [
    "## Output"
   ]
  },
  {
   "cell_type": "markdown",
   "id": "9b0ce3ca-08a5-4185-999d-43fc589dd11a",
   "metadata": {
    "papermill": {},
    "tags": []
   },
   "source": [
    "### Create Naas Chat plugin & Push to Workspace"
   ]
  },
  {
   "cell_type": "code",
   "execution_count": null,
   "id": "0997120c-6728-46f6-ad13-13fb92bc20df",
   "metadata": {
    "papermill": {},
    "tags": []
   },
   "outputs": [],
   "source": [
    "# Create commands\n",
    "print(\"--> Creating commands\")\n",
    "commands = create_command(model_dir)\n",
    "print()\n",
    "\n",
    "# Create Naas Chat plugin\n",
    "print(\"--> Creating Naas Chat plugin\")\n",
    "plugin_file_path, plugin_url, plugin = create_plugin(\n",
    "    name=name,\n",
    "    prompt=system_prompt,\n",
    "    model=model,\n",
    "    temperature=temperature,\n",
    "    output_dir=output_dir,\n",
    "    description=description,\n",
    "    avatar=avatar,\n",
    "    commands=commands,\n",
    "    entity_name=entity_name,\n",
    ")\n",
    "print()\n",
    "\n",
    "# Push plugin to Personal workspace\n",
    "print(\"--> Push plugin to Personal workspace\")\n",
    "push_plugin_to_workspace(api_key, plugin)\n",
    "print()\n",
    "\n",
    "# Create new chat\n",
    "print(\"--> Create new chat\")\n",
    "Markdown(f\"[Create New Chat](https://naas.ai/chat/use?plugin_url={plugin_url})\")"
   ]
  },
  {
   "cell_type": "code",
   "execution_count": null,
   "id": "a8a2f65a-c24b-4d33-b24d-7ce2dacb834e",
   "metadata": {},
   "outputs": [],
   "source": []
  }
 ],
 "metadata": {
  "kernelspec": {
   "display_name": "Python 3",
   "language": "python",
   "name": "python3"
  },
  "language_info": {
   "codemirror_mode": {
    "name": "ipython",
    "version": 3
   },
   "file_extension": ".py",
   "mimetype": "text/x-python",
   "name": "python",
   "nbconvert_exporter": "python",
   "pygments_lexer": "ipython3",
   "version": "3.9.6"
  },
  "naas": {
   "notebook_id": "d376a4cfdf00d1197e0cd54cf4e801052d22a6e15133079bf4d3ff56c29fc5a0",
   "notebook_path": "GitHub/GitHub_Create_plugin_with_commands.ipynb"
  },
  "papermill": {
   "default_parameters": {},
   "environment_variables": {},
   "parameters": {},
   "version": "2.4.0"
  },
  "widgets": {
   "application/vnd.jupyter.widget-state+json": {
    "state": {},
    "version_major": 2,
    "version_minor": 0
   }
  }
 },
 "nbformat": 4,
 "nbformat_minor": 5
}
