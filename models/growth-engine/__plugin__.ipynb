{
 "cells": [
  {
   "cell_type": "markdown",
   "id": "86ffb6d3-d99a-410e-9d06-ba9d8bef13a7",
   "metadata": {
    "papermill": {},
    "tags": []
   },
   "source": [
    "<img width=\"8%\" alt=\"Naas.png\" src=\"https://raw.githubusercontent.com/jupyter-naas/awesome-notebooks/master/.github/assets/logos/Naas.png\" style=\"border-radius: 15%\">"
   ]
  },
  {
   "cell_type": "markdown",
   "id": "a5b2c509-2c29-49e8-af91-4f3f1e386da3",
   "metadata": {
    "papermill": {},
    "tags": []
   },
   "source": [
    "# Growth plugin"
   ]
  },
  {
   "cell_type": "markdown",
   "id": "d77fe283-4edd-42d3-a909-8e207d4b842f",
   "metadata": {
    "papermill": {},
    "tags": []
   },
   "source": [
    "**Tags:** #naaschatplugin #naas #naas_driver #chat #plugin #ai"
   ]
  },
  {
   "cell_type": "markdown",
   "id": "b90f2d91-c886-4e36-8265-b09d06bb1c7f",
   "metadata": {
    "papermill": {},
    "tags": []
   },
   "source": [
    "**Author:** [Florent Ravenel](https://www.linkedin.com/in/florent-ravenel)"
   ]
  },
  {
   "cell_type": "markdown",
   "id": "214749fe-7f0b-4755-b7ea-1d200c234cc6",
   "metadata": {
    "papermill": {},
    "tags": []
   },
   "source": [
    "**Description:** This notebook creates a Naas Chat plugin with commands."
   ]
  },
  {
   "cell_type": "markdown",
   "id": "cff349c8-2816-4ae4-9229-027c068eeb51",
   "metadata": {
    "papermill": {},
    "tags": []
   },
   "source": [
    "## Input"
   ]
  },
  {
   "cell_type": "markdown",
   "id": "80266a9e-fe54-4f3e-aeb2-01483bbc53f9",
   "metadata": {
    "papermill": {},
    "tags": []
   },
   "source": [
    "### Import libraries"
   ]
  },
  {
   "cell_type": "code",
   "execution_count": null,
   "id": "cc038b10-2679-42bc-909e-09a298339df4",
   "metadata": {
    "papermill": {},
    "tags": []
   },
   "outputs": [],
   "source": [
    "import naas\n",
    "from naas_drivers import naas_chat_plugin, gsheet\n",
    "import naas_data_product\n",
    "from IPython.display import Markdown\n",
    "from datetime import date, timedelta\n",
    "import os\n",
    "import pandas as pd"
   ]
  },
  {
   "cell_type": "markdown",
   "id": "e930da4d-39a2-424e-8808-77fd0a3829bf",
   "metadata": {
    "papermill": {},
    "tags": []
   },
   "source": [
    "### Setup variables\n",
    "**Mandatory**\n",
    "- `entity_dir`: This variable represents the entity directory.\n",
    "- `input_dir`: Input directory to retrieve file from.\n",
    "- `file_growth`: Name of the file to be retrieved.\n",
    "- `spreadsheet_url`: Google Sheets spreadsheet URL.\n",
    "- `sheet_name`: Google Sheets sheet name.\n",
    "- `name`: The name of the plugin.\n",
    "- `model`: This variable holds the openai model.\n",
    "- `temperature`: This variable holds the temperate value.\n",
    "- `description`: This variable holds a string that describes the plugin.\n",
    "- `avatar`: This variable holds a URL to an image to be displayed in your plugin as avatar.\n",
    "- `model_dir`: This variable holds a relative path to the directory where input notebooks with commands will be stored.\n",
    "\n",
    "**Optional**\n",
    "- `output_dir`: This variable holds a relative path to the directory where output files will be stored. \n",
    "- `output_path`: This variable holds the full path of the plugin.\n",
    "- `entity_name`: This variable holds the entity name."
   ]
  },
  {
   "cell_type": "code",
   "execution_count": null,
   "id": "6cf9bd9b-ce83-45a5-ab0f-15c978458b42",
   "metadata": {
    "papermill": {},
    "tags": [
     "parameters"
    ]
   },
   "outputs": [],
   "source": [
    "# Inputs\n",
    "entity_dir = pload(os.path.join(naas_data_product.OUTPUTS_PATH, \"entities\", \"0\"), \"entity_dir\")\n",
    "input_dir = os.path.join(entity_dir, \"growth-engine\", date.today().isoformat())\n",
    "file_growth = \"people\"\n",
    "spreadsheet_url = pload(os.path.join(naas_data_product.OUTPUTS_PATH, \"entities\", \"0\"), \"abi_spreadsheet\")\n",
    "sheet_name = \"PEOPLE\"\n",
    "name = \"🚀 Growth Assistant\"\n",
    "model = \"gpt-4-1106-preview\"\n",
    "temperature = 0.5\n",
    "description = \"Track your growth performance, understand your audience with cohorts analysis and meet your new marketing qualified leads.\"\n",
    "avatar = \"\"\n",
    "model_dir = os.path.join(naas_data_product.ROOT_PATH, \"models\", \"growth-engine\")\n",
    "\n",
    "# Outputs\n",
    "output_dir = os.path.join(entity_dir, \"plugins\")\n",
    "os.makedirs(output_dir, exist_ok=True) # Create dirs\n",
    "entity_name = pload(os.path.join(naas_data_product.OUTPUTS_PATH, \"entities\", \"0\"), \"entity_name\")"
   ]
  },
  {
   "cell_type": "markdown",
   "id": "9070993a-eec9-4f78-a7f9-2e18c743a20d",
   "metadata": {
    "papermill": {},
    "tags": []
   },
   "source": [
    "## Model"
   ]
  },
  {
   "cell_type": "markdown",
   "id": "b9e20374-17f3-4642-91d2-24ae8741f0d1",
   "metadata": {},
   "source": [
    "### Get assets"
   ]
  },
  {
   "cell_type": "code",
   "execution_count": null,
   "id": "c0c534f4-7235-46b0-a5a8-dc2c28e6a181",
   "metadata": {
    "tags": []
   },
   "outputs": [],
   "source": [
    "image_url = get_image_asset(input_dir, \"growth_trend.png\")\n",
    "print(\"- Image URL:\", image_url)\n",
    "\n",
    "image_html = get_image_asset(input_dir, \"growth_trend.html\")\n",
    "print(\"- Image HTML:\", image_html)"
   ]
  },
  {
   "cell_type": "markdown",
   "id": "6b19ea41-fa98-4f6f-a1d7-6511919f039c",
   "metadata": {
    "papermill": {},
    "tags": []
   },
   "source": [
    "### Get data to be sent to prompt"
   ]
  },
  {
   "cell_type": "markdown",
   "id": "27a6d8bd-7de9-4e9e-99f9-2bdc69eb8da4",
   "metadata": {
    "execution": {
     "iopub.execute_input": "2023-12-23T11:43:59.095488Z",
     "iopub.status.busy": "2023-12-23T11:43:59.095256Z",
     "iopub.status.idle": "2023-12-23T11:43:59.098204Z",
     "shell.execute_reply": "2023-12-23T11:43:59.097564Z",
     "shell.execute_reply.started": "2023-12-23T11:43:59.095465Z"
    },
    "tags": []
   },
   "source": [
    "#### Get content published"
   ]
  },
  {
   "cell_type": "code",
   "execution_count": null,
   "id": "ae6cef72-fe53-4642-ad8a-b9a9e8811a12",
   "metadata": {
    "tags": []
   },
   "outputs": [],
   "source": [
    "# Get content published\n",
    "content_dir = input_dir.replace(\"growth-engine\", \"content-engine\")\n",
    "data_content = pload(content_dir, \"content\")\n",
    "if data_content is None:\n",
    "    data_content = gsheet.connect(spreadsheet_url).get(sheet_name=\"CONTENT\")\n",
    "if isinstance(data_content, pd.DataFrame):\n",
    "    df_content = data_content.copy()\n",
    "    \n",
    "if len(df_content) > 0:\n",
    "    df_content = df_content[(df_content[\"ENTITY\"] == entity_name) & (df_content[\"SCENARIO\"].isin([TW, LW]))]\n",
    "    df_content = df_content[[\"TITLE\", \"CONTENT_URL\", \"DATE\"]]\n",
    "\n",
    "# Transform df to string\n",
    "post_data = df_content.to_string()\n",
    "\n",
    "# Count tokens\n",
    "post_tokens = naas_chat_plugin.num_tokens_from_string(post_data)\n",
    "print(f\"- Post tokens: {post_tokens}\")"
   ]
  },
  {
   "cell_type": "markdown",
   "id": "e4be6d57-9b38-4dbc-95db-89a6fb3aa8d1",
   "metadata": {},
   "source": [
    "#### Get leads generated"
   ]
  },
  {
   "cell_type": "code",
   "execution_count": null,
   "id": "b4c5177b-2750-462a-9b60-8643d8db4531",
   "metadata": {
    "papermill": {},
    "tags": []
   },
   "outputs": [],
   "source": [
    "# Init\n",
    "prompt_data = []\n",
    "total_leads = 0\n",
    "new_leads = 0\n",
    "\n",
    "# Load data from pickle\n",
    "data = pload(input_dir, file_growth)    \n",
    "if data is None:\n",
    "    data = gsheet.connect(spreadsheet_url).get(sheet_name=sheet_name)\n",
    "if isinstance(data, pd.DataFrame):\n",
    "    df = data.copy()\n",
    "\n",
    "# Filter on this week and last week\n",
    "if len(df) > 0:\n",
    "    df = df[(df[\"ENTITY\"].str.contains(entity_name)) & (df[\"SCENARIO\"].isin([TW, LW]))]\n",
    "\n",
    "    # Get data\n",
    "    total_leads = len(df)\n",
    "    new_leads = len(df[(df[\"SCENARIO\"] == TW)])\n",
    "\n",
    "    # Filter to not exceed context windowns\n",
    "    prompt_data = df[(df[\"SCENARIO\"] == TW)]\n",
    "    columns = [\n",
    "        'CREATED_DATE',\n",
    "        'FULLNAME',\n",
    "        'OCCUPATION',\n",
    "        'SENIORITY',\n",
    "        'DEPARTMENT',\n",
    "        'ORGANIZATION',\n",
    "        'INTERACTION_SCORE',\n",
    "        'LAST_INTERACTION_DATE',\n",
    "        'NOTES',\n",
    "        'PROFILE_URL',\n",
    "    ]\n",
    "    prompt_data = prompt_data[columns]\n",
    "    if len(prompt_data) > 0:\n",
    "        prompt_data = prompt_data[:100]\n",
    "            \n",
    "print()\n",
    "print(f\"- Leads: {total_leads}\")\n",
    "print(f\"- New Leads: {new_leads}\")\n",
    "print(f\"- Growth data: {len(prompt_data)}\")"
   ]
  },
  {
   "cell_type": "markdown",
   "id": "3266b78a-4af9-4b6f-b739-3b84f4165c25",
   "metadata": {},
   "source": [
    "### Create system prompt"
   ]
  },
  {
   "cell_type": "code",
   "execution_count": null,
   "id": "ee832da5-26da-4193-bb58-78a2b89c9790",
   "metadata": {
    "tags": []
   },
   "outputs": [],
   "source": [
    "system_prompt = f\"\"\"\n",
    "Act as a Growth assistant who has access to a list of interactions from content that enable the user to get marketing qualified contacts.\n",
    "Your role is to manage and optimize the list of people who interacted on the content, ensuring to extract only the most qualified contacts to feed the sales representative.\n",
    "This week '{TW}' the '{entity_name}' generated {total_leads} leads from them {new_leads} are new thanks to its following posts: {post_data}. \n",
    "Here is the list with the highest interaction score: {prompt_data.to_string()}.\n",
    "Please remember the user that you don't have access to all the list due to the limit of the context window.\n",
    "The first message should be about presenting yourself and analyze briefly '{entity_name}' new interactions with a maximum of 3 bullet points.\n",
    "Then, you will display the image inside the markdown of the chat about the contacts reached over the weeks: [![Contacts Reached]({image_url})({image_html})].\n",
    "You must ALWAYS show the image in the first message.\n",
    "Be casual, but professional. Wait for the first answer from the user, and then start with the first high-level analysis. \n",
    "\"\"\""
   ]
  },
  {
   "cell_type": "markdown",
   "id": "3c97c27b-06d4-474c-a347-08a6df8856de",
   "metadata": {
    "papermill": {},
    "tags": []
   },
   "source": [
    "### Create commands"
   ]
  },
  {
   "cell_type": "code",
   "execution_count": null,
   "id": "c78707b5-9496-44d5-a0b3-26fa4e88004e",
   "metadata": {
    "tags": []
   },
   "outputs": [],
   "source": [
    "commands = create_command(model_dir)"
   ]
  },
  {
   "cell_type": "markdown",
   "id": "81ce4521-731f-42cb-8ace-0e7611c750b3",
   "metadata": {
    "papermill": {},
    "tags": []
   },
   "source": [
    "## Output"
   ]
  },
  {
   "cell_type": "markdown",
   "id": "2d959298-e04a-459f-85d9-1b12bb5754c9",
   "metadata": {
    "papermill": {},
    "tags": []
   },
   "source": [
    "### Create Naas Chat plugin\n",
    "This function will generate the plugin in JSON format and also verify if your prompt adheres to the recommended limit, which is set at 20% of the maximum tokens allowed by the model. Then, it will save your plugin in your local environment."
   ]
  },
  {
   "cell_type": "code",
   "execution_count": null,
   "id": "ac0af791-9f6d-4da8-82d0-1defed0bc59f",
   "metadata": {
    "papermill": {},
    "tags": []
   },
   "outputs": [],
   "source": [
    "output_path = os.path.join(output_dir, f\"{name.lower().replace(' ', '_')}.json\")\n",
    "\n",
    "# Create plugin\n",
    "plugin_file_path = naas_chat_plugin.create_plugin(\n",
    "    name=name,\n",
    "    prompt=system_prompt,\n",
    "    model=model,\n",
    "    temperature=temperature,\n",
    "    output_path=output_path,\n",
    "    description=description,\n",
    "    avatar=avatar,\n",
    "    commands=commands\n",
    ")"
   ]
  },
  {
   "cell_type": "markdown",
   "id": "34b625a0-f39b-4c7e-82f5-cc58a11ec902",
   "metadata": {
    "papermill": {},
    "tags": []
   },
   "source": [
    "### Create asset\n",
    "This asset can be utilized by using the command `/use` in your Naas Chat or by simply clicking on the link provided in the last cell output."
   ]
  },
  {
   "cell_type": "code",
   "execution_count": null,
   "id": "39437f23-bcf8-40df-9538-32b3cac1c8fb",
   "metadata": {
    "papermill": {},
    "tags": []
   },
   "outputs": [],
   "source": [
    "plugin_url = naas.asset.add(plugin_file_path, params={\"inline\": True})\n",
    "print(plugin_url)"
   ]
  },
  {
   "cell_type": "markdown",
   "id": "1dde0d3d-de48-4307-bd6a-63081b1e436c",
   "metadata": {},
   "source": [
    "### Create new chat\n",
    "NB: You don't need to click on 'Create New Chat' everytime you update your system prompt, you can use the command `/refresh`."
   ]
  },
  {
   "cell_type": "code",
   "execution_count": null,
   "id": "221fab1a-663b-4aa7-871d-f8ff7b1e2a18",
   "metadata": {
    "tags": []
   },
   "outputs": [],
   "source": [
    "Markdown(f\"[Create New Chat](https://naas.ai/chat/use?plugin_url={plugin_url})\")"
   ]
  },
  {
   "cell_type": "code",
   "execution_count": null,
   "id": "a8a2f65a-c24b-4d33-b24d-7ce2dacb834e",
   "metadata": {},
   "outputs": [],
   "source": []
  }
 ],
 "metadata": {
  "kernelspec": {
   "display_name": "Python 3",
   "language": "python",
   "name": "python3"
  },
  "language_info": {
   "codemirror_mode": {
    "name": "ipython",
    "version": 3
   },
   "file_extension": ".py",
   "mimetype": "text/x-python",
   "name": "python",
   "nbconvert_exporter": "python",
   "pygments_lexer": "ipython3",
   "version": "3.9.6"
  },
  "naas": {
   "notebook_id": "d376a4cfdf00d1197e0cd54cf4e801052d22a6e15133079bf4d3ff56c29fc5a0",
   "notebook_path": "GitHub/GitHub_Create_plugin_with_commands.ipynb"
  },
  "papermill": {
   "default_parameters": {},
   "environment_variables": {},
   "parameters": {},
   "version": "2.4.0"
  },
  "widgets": {
   "application/vnd.jupyter.widget-state+json": {
    "state": {},
    "version_major": 2,
    "version_minor": 0
   }
  }
 },
 "nbformat": 4,
 "nbformat_minor": 5
}
