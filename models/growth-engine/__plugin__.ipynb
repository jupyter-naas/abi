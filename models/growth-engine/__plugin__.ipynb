{
 "cells": [
  {
   "cell_type": "markdown",
   "id": "a92ad770-55bd-450c-8e6e-de64c0347cdd",
   "metadata": {
    "papermill": {},
    "tags": []
   },
   "source": [
    "<img width=\"10%\" alt=\"Naas\" src=\"https://landen.imgix.net/jtci2pxwjczr/assets/5ice39g4.png?w=160\"/>"
   ]
  },
  {
   "cell_type": "markdown",
   "id": "a5b2c509-2c29-49e8-af91-4f3f1e386da3",
   "metadata": {
    "papermill": {},
    "tags": []
   },
   "source": [
    "# Naas Chat - Create plugin with commands"
   ]
  },
  {
   "cell_type": "markdown",
   "id": "d77fe283-4edd-42d3-a909-8e207d4b842f",
   "metadata": {
    "papermill": {},
    "tags": []
   },
   "source": [
    "**Tags:** #naaschatplugin #naas #naas_driver #chat #plugin #ai"
   ]
  },
  {
   "cell_type": "markdown",
   "id": "b90f2d91-c886-4e36-8265-b09d06bb1c7f",
   "metadata": {
    "papermill": {},
    "tags": []
   },
   "source": [
    "**Author:** [Florent Ravenel](https://www.linkedin.com/in/florent-ravenel)"
   ]
  },
  {
   "cell_type": "markdown",
   "id": "6bbf7807-dda4-4b8a-b016-fe258a0fa33f",
   "metadata": {
    "papermill": {},
    "tags": []
   },
   "source": [
    "**Last update:** 2023-10-19 (Created: 2023-10-17)"
   ]
  },
  {
   "cell_type": "markdown",
   "id": "214749fe-7f0b-4755-b7ea-1d200c234cc6",
   "metadata": {
    "papermill": {},
    "tags": []
   },
   "source": [
    "**Description:** This notebook creates a Naas Chat plugin with commands."
   ]
  },
  {
   "cell_type": "markdown",
   "id": "a1329bea-ad80-4981-874c-8776b11f89a8",
   "metadata": {
    "papermill": {},
    "tags": []
   },
   "source": [
    "**References:**\n",
    "- [Naas Chat Documentation](https://site.naas.ai/docs/platform/aI-powered-chat)\n",
    "- [Naas Chat Plugin driver](https://github.com/jupyter-naas/drivers/blob/main/naas_drivers/tools/naas_chat_plugin.py)"
   ]
  },
  {
   "cell_type": "markdown",
   "id": "cff349c8-2816-4ae4-9229-027c068eeb51",
   "metadata": {
    "papermill": {},
    "tags": []
   },
   "source": [
    "## Input"
   ]
  },
  {
   "cell_type": "markdown",
   "id": "80266a9e-fe54-4f3e-aeb2-01483bbc53f9",
   "metadata": {
    "papermill": {},
    "tags": []
   },
   "source": [
    "### Import libraries"
   ]
  },
  {
   "cell_type": "code",
   "execution_count": 1,
   "id": "cc038b10-2679-42bc-909e-09a298339df4",
   "metadata": {
    "execution": {
     "iopub.execute_input": "2023-11-30T16:43:38.666818Z",
     "iopub.status.busy": "2023-11-30T16:43:38.664261Z",
     "iopub.status.idle": "2023-11-30T16:43:45.075231Z",
     "shell.execute_reply": "2023-11-30T16:43:45.074262Z",
     "shell.execute_reply.started": "2023-11-30T16:43:38.666742Z"
    },
    "papermill": {},
    "tags": []
   },
   "outputs": [
    {
     "name": "stdout",
     "output_type": "stream",
     "text": [
      "✅ utils file '/home/ftp/abi/utils/data.ipynb' successfully loaded.\n",
      "✅ utils file '/home/ftp/abi/utils/naas_chat_plugin.ipynb' successfully loaded.\n",
      "✅ utils file '/home/ftp/abi/utils/naas_lab.ipynb' successfully loaded.\n",
      "✅ utils file '/home/ftp/abi/utils/openai.ipynb' successfully loaded.\n"
     ]
    }
   ],
   "source": [
    "import naas\n",
    "from naas_drivers import naas_chat_plugin, gsheet\n",
    "import naas_data_product\n",
    "from IPython.display import Markdown\n",
    "from datetime import date, timedelta"
   ]
  },
  {
   "cell_type": "markdown",
   "id": "e930da4d-39a2-424e-8808-77fd0a3829bf",
   "metadata": {
    "papermill": {},
    "tags": []
   },
   "source": [
    "### Setup variables\n",
    "**Mandatory**\n",
    "- `name`: The name of the plugin.\n",
    "- `system_prompt`: Plugin system prompt with the commands they can use.\n",
    "- `model`: This variable holds the openai model.\n",
    "- `temperature`: This variable holds the temperate value.\n",
    "- `description`: This variable holds a string that describes the plugin.\n",
    "- `avatar`: This variable holds a URL to an image to be displayed in your plugin as avatar.\n",
    "- `input_dir`: This variable holds a relative path to the directory where input notebooks with commands will be stored.\n",
    "\n",
    "**Optional**\n",
    "- `output_dir`: This variable holds a relative path to the directory where output files will be stored. \n",
    "- `output_path`: This variable holds the full path of the plugin."
   ]
  },
  {
   "cell_type": "code",
   "execution_count": 2,
   "id": "6cf9bd9b-ce83-45a5-ab0f-15c978458b42",
   "metadata": {
    "execution": {
     "iopub.execute_input": "2023-11-30T16:43:45.076790Z",
     "iopub.status.busy": "2023-11-30T16:43:45.076550Z",
     "iopub.status.idle": "2023-11-30T16:43:45.215356Z",
     "shell.execute_reply": "2023-11-30T16:43:45.214655Z",
     "shell.execute_reply.started": "2023-11-30T16:43:45.076759Z"
    },
    "papermill": {},
    "tags": []
   },
   "outputs": [],
   "source": [
    "# Inputs\n",
    "spreadsheet_url = naas.secret.get(\"ABI_SPREADSHEET\") or \"YOUR_GOOGLE_SPREADSHEET_URL\"\n",
    "sheet_name = \"GROWTH\"\n",
    "image_dir = os.path.join(naas_data_product.OUTPUTS_PATH, \"growth-engine\", date.today().isoformat())\n",
    "\n",
    "name = \"🚀 Growth Assistant\"\n",
    "model = \"gpt-3.5-turbo-16k\"\n",
    "temperature = 0.5\n",
    "description = \"This plugin is used to setup the Growth Engine\"\n",
    "avatar = \"\"\n",
    "input_dir = os.path.join(naas_data_product.ROOT_PATH, \"models\", \"growth-engine\")\n",
    "\n",
    "# Outputs\n",
    "output_dir = os.path.join(naas_data_product.ROOT_PATH, \"outputs\", \"plugins\")\n",
    "os.makedirs(output_dir, exist_ok=True) # Create dirs\n",
    "output_path = os.path.join(output_dir, f\"{name.lower().replace(' ', '_')}.json\")"
   ]
  },
  {
   "cell_type": "markdown",
   "id": "9070993a-eec9-4f78-a7f9-2e18c743a20d",
   "metadata": {
    "papermill": {},
    "tags": []
   },
   "source": [
    "## Model"
   ]
  },
  {
   "cell_type": "markdown",
   "id": "b9e20374-17f3-4642-91d2-24ae8741f0d1",
   "metadata": {},
   "source": [
    "### Get assets"
   ]
  },
  {
   "cell_type": "code",
   "execution_count": 3,
   "id": "c0c534f4-7235-46b0-a5a8-dc2c28e6a181",
   "metadata": {
    "execution": {
     "iopub.execute_input": "2023-11-30T16:43:45.216619Z",
     "iopub.status.busy": "2023-11-30T16:43:45.216390Z",
     "iopub.status.idle": "2023-11-30T16:43:46.609832Z",
     "shell.execute_reply": "2023-11-30T16:43:46.609157Z",
     "shell.execute_reply.started": "2023-11-30T16:43:45.216591Z"
    },
    "tags": []
   },
   "outputs": [
    {
     "name": "stdout",
     "output_type": "stream",
     "text": [
      "Image URL: https://public.naas.ai/ZmxvcmVudC00MG5hYXMtMkVhaQ==/asset/7c7d0fea1ecb10b0f4486b6473588245f972f98506e8d96e40e21d88f425.png\n"
     ]
    }
   ],
   "source": [
    "image_input = os.path.join(image_dir, \"growth.png\")\n",
    "image_url = naas.asset.find(image_input)\n",
    "print(\"Image URL:\", image_url)"
   ]
  },
  {
   "cell_type": "markdown",
   "id": "6b19ea41-fa98-4f6f-a1d7-6511919f039c",
   "metadata": {
    "papermill": {},
    "tags": []
   },
   "source": [
    "### Get data from Google Sheets spreadsheet"
   ]
  },
  {
   "cell_type": "code",
   "execution_count": 4,
   "id": "b4c5177b-2750-462a-9b60-8643d8db4531",
   "metadata": {
    "execution": {
     "iopub.execute_input": "2023-11-30T16:43:46.611403Z",
     "iopub.status.busy": "2023-11-30T16:43:46.610975Z",
     "iopub.status.idle": "2023-11-30T16:43:47.585703Z",
     "shell.execute_reply": "2023-11-30T16:43:47.585007Z",
     "shell.execute_reply.started": "2023-11-30T16:43:46.611370Z"
    },
    "papermill": {},
    "tags": []
   },
   "outputs": [
    {
     "name": "stdout",
     "output_type": "stream",
     "text": [
      "Rows: 33\n"
     ]
    },
    {
     "data": {
      "text/html": [
       "<div>\n",
       "<style scoped>\n",
       "    .dataframe tbody tr th:only-of-type {\n",
       "        vertical-align: middle;\n",
       "    }\n",
       "\n",
       "    .dataframe tbody tr th {\n",
       "        vertical-align: top;\n",
       "    }\n",
       "\n",
       "    .dataframe thead th {\n",
       "        text-align: right;\n",
       "    }\n",
       "</style>\n",
       "<table border=\"1\" class=\"dataframe\">\n",
       "  <thead>\n",
       "    <tr style=\"text-align: right;\">\n",
       "      <th></th>\n",
       "      <th>ENTITY</th>\n",
       "      <th>SCENARIO</th>\n",
       "      <th>PLATFORM</th>\n",
       "      <th>FULLNAME</th>\n",
       "      <th>COHORT</th>\n",
       "      <th>OCCUPATION</th>\n",
       "      <th>PROFILE_URL</th>\n",
       "      <th>INTERACTION_SCORE</th>\n",
       "      <th>INTERACTIONS</th>\n",
       "      <th>LAST_INTERACTION_DATE</th>\n",
       "    </tr>\n",
       "  </thead>\n",
       "  <tbody>\n",
       "    <tr>\n",
       "      <th>0</th>\n",
       "      <td>Jérémy Ravenel</td>\n",
       "      <td>W48-2023</td>\n",
       "      <td>LinkedIn</td>\n",
       "      <td>Jonathan La Cruz</td>\n",
       "      <td>W44-2023</td>\n",
       "      <td>Information Technology &amp; Business intelligence...</td>\n",
       "      <td>https://www.linkedin.com/in/ACoAAAlYSwQBS9GBiC...</td>\n",
       "      <td>4</td>\n",
       "      <td>Comment 'Congratulations on completing the \"da...</td>\n",
       "      <td>Tue. 28 Nov.</td>\n",
       "    </tr>\n",
       "  </tbody>\n",
       "</table>\n",
       "</div>"
      ],
      "text/plain": [
       "           ENTITY  SCENARIO  PLATFORM          FULLNAME    COHORT  \\\n",
       "0  Jérémy Ravenel  W48-2023  LinkedIn  Jonathan La Cruz  W44-2023   \n",
       "\n",
       "                                          OCCUPATION  \\\n",
       "0  Information Technology & Business intelligence...   \n",
       "\n",
       "                                         PROFILE_URL  INTERACTION_SCORE  \\\n",
       "0  https://www.linkedin.com/in/ACoAAAlYSwQBS9GBiC...                  4   \n",
       "\n",
       "                                        INTERACTIONS LAST_INTERACTION_DATE  \n",
       "0  Comment 'Congratulations on completing the \"da...          Tue. 28 Nov.  "
      ]
     },
     "execution_count": 4,
     "metadata": {},
     "output_type": "execute_result"
    }
   ],
   "source": [
    "# Get data\n",
    "data = gsheet.connect(spreadsheet_url).get(sheet_name=sheet_name)\n",
    "\n",
    "# Filter on this week and last week\n",
    "tw = date.today().strftime(\"W%W-%Y\")\n",
    "data = data[data[\"SCENARIO\"].isin([tw])]\n",
    "\n",
    "# Display result\n",
    "print(\"Rows:\", len(data))\n",
    "data.head(1)"
   ]
  },
  {
   "cell_type": "markdown",
   "id": "3266b78a-4af9-4b6f-b739-3b84f4165c25",
   "metadata": {},
   "source": [
    "### Create system prompt"
   ]
  },
  {
   "cell_type": "code",
   "execution_count": 5,
   "id": "ee832da5-26da-4193-bb58-78a2b89c9790",
   "metadata": {
    "execution": {
     "iopub.execute_input": "2023-11-30T16:43:47.587229Z",
     "iopub.status.busy": "2023-11-30T16:43:47.586824Z",
     "iopub.status.idle": "2023-11-30T16:43:47.600455Z",
     "shell.execute_reply": "2023-11-30T16:43:47.599870Z",
     "shell.execute_reply.started": "2023-11-30T16:43:47.587197Z"
    },
    "tags": []
   },
   "outputs": [],
   "source": [
    "system_prompt = f\"\"\"\n",
    "Act as a Growth Assistant who has access to a list of interactions from content that enable the user to get qualified contacts.\n",
    "Your role is to manage and optimize the list of people who interacted on the content, ensuring to extract only the most qualified contacts to feed the sales representative.\n",
    "You will need to analyze data to define preferences on how to touch the contact needs and interests.\n",
    "Your ultimate goal is to create engaging and relevant list of qualified leads, contributing to the overall success of the sales & marketing strategy.\n",
    "The first message should be about presenting yourself with a maximum of 3 bullet points and displaying an image inside the markdown of the chat: ![{image_url}].\n",
    "You must ALWAYS show the image in the first message.\n",
    "Then, wait for the first answer from the user, and then start with the first high-level analysis. \n",
    "Here is the data from the content analytics that you should focus on: {data.to_string}\n",
    "\"\"\""
   ]
  },
  {
   "cell_type": "markdown",
   "id": "3c97c27b-06d4-474c-a347-08a6df8856de",
   "metadata": {
    "papermill": {},
    "tags": []
   },
   "source": [
    "### Create commands"
   ]
  },
  {
   "cell_type": "code",
   "execution_count": 6,
   "id": "c78707b5-9496-44d5-a0b3-26fa4e88004e",
   "metadata": {
    "execution": {
     "iopub.execute_input": "2023-11-30T16:43:47.602472Z",
     "iopub.status.busy": "2023-11-30T16:43:47.602091Z",
     "iopub.status.idle": "2023-11-30T16:43:50.461480Z",
     "shell.execute_reply": "2023-11-30T16:43:50.460636Z",
     "shell.execute_reply.started": "2023-11-30T16:43:47.602442Z"
    },
    "tags": []
   },
   "outputs": [
    {
     "name": "stdout",
     "output_type": "stream",
     "text": [
      "👌 Well done! Your Notebook has been sent to production.\n",
      "\n"
     ]
    },
    {
     "data": {
      "application/javascript": [
       "\n",
       "    if (!window.copyToClipboard) {\n",
       "        window.copyToClipboard = (text) => {\n",
       "            const dummy = document.createElement(\"textarea\");\n",
       "            document.body.appendChild(dummy);\n",
       "            dummy.value = text;\n",
       "            dummy.select();\n",
       "            document.execCommand(\"copy\");\n",
       "            document.body.removeChild(dummy);\n",
       "        }\n",
       "    }\n",
       "    "
      ],
      "text/plain": [
       "<IPython.core.display.Javascript object>"
      ]
     },
     "metadata": {},
     "output_type": "display_data"
    },
    {
     "data": {
      "application/vnd.jupyter.widget-view+json": {
       "model_id": "b9576d8a54904d218cc989947928cf29",
       "version_major": 2,
       "version_minor": 0
      },
      "text/plain": [
       "Button(button_style='primary', description='Copy URL', style=ButtonStyle())"
      ]
     },
     "metadata": {},
     "output_type": "display_data"
    },
    {
     "data": {
      "application/vnd.jupyter.widget-view+json": {
       "model_id": "66f62c39d36c49a2a8bf4a8f76d9d0c4",
       "version_major": 2,
       "version_minor": 0
      },
      "text/plain": [
       "Output()"
      ]
     },
     "metadata": {},
     "output_type": "display_data"
    },
    {
     "name": "stdout",
     "output_type": "stream",
     "text": [
      "PS: to remove the \"Notebook as API\" feature, just replace .add by .delete\n",
      "👌 Well done! Your Notebook has been sent to production.\n",
      "\n"
     ]
    },
    {
     "data": {
      "application/javascript": [
       "\n",
       "    if (!window.copyToClipboard) {\n",
       "        window.copyToClipboard = (text) => {\n",
       "            const dummy = document.createElement(\"textarea\");\n",
       "            document.body.appendChild(dummy);\n",
       "            dummy.value = text;\n",
       "            dummy.select();\n",
       "            document.execCommand(\"copy\");\n",
       "            document.body.removeChild(dummy);\n",
       "        }\n",
       "    }\n",
       "    "
      ],
      "text/plain": [
       "<IPython.core.display.Javascript object>"
      ]
     },
     "metadata": {},
     "output_type": "display_data"
    },
    {
     "data": {
      "application/vnd.jupyter.widget-view+json": {
       "model_id": "81d63e569e654b9cb00eb4ee25b79e66",
       "version_major": 2,
       "version_minor": 0
      },
      "text/plain": [
       "Button(button_style='primary', description='Copy URL', style=ButtonStyle())"
      ]
     },
     "metadata": {},
     "output_type": "display_data"
    },
    {
     "data": {
      "application/vnd.jupyter.widget-view+json": {
       "model_id": "0415637e05194e238f862dcac0ce0cff",
       "version_major": 2,
       "version_minor": 0
      },
      "text/plain": [
       "Output()"
      ]
     },
     "metadata": {},
     "output_type": "display_data"
    },
    {
     "name": "stdout",
     "output_type": "stream",
     "text": [
      "PS: to remove the \"Notebook as API\" feature, just replace .add by .delete\n",
      "👌 Well done! Your Notebook has been sent to production.\n",
      "\n"
     ]
    },
    {
     "data": {
      "application/javascript": [
       "\n",
       "    if (!window.copyToClipboard) {\n",
       "        window.copyToClipboard = (text) => {\n",
       "            const dummy = document.createElement(\"textarea\");\n",
       "            document.body.appendChild(dummy);\n",
       "            dummy.value = text;\n",
       "            dummy.select();\n",
       "            document.execCommand(\"copy\");\n",
       "            document.body.removeChild(dummy);\n",
       "        }\n",
       "    }\n",
       "    "
      ],
      "text/plain": [
       "<IPython.core.display.Javascript object>"
      ]
     },
     "metadata": {},
     "output_type": "display_data"
    },
    {
     "data": {
      "application/vnd.jupyter.widget-view+json": {
       "model_id": "3b24602250cc4738bb3105f5392e1713",
       "version_major": 2,
       "version_minor": 0
      },
      "text/plain": [
       "Button(button_style='primary', description='Copy URL', style=ButtonStyle())"
      ]
     },
     "metadata": {},
     "output_type": "display_data"
    },
    {
     "data": {
      "application/vnd.jupyter.widget-view+json": {
       "model_id": "2339c4d66cf844b28496ce181b5cf762",
       "version_major": 2,
       "version_minor": 0
      },
      "text/plain": [
       "Output()"
      ]
     },
     "metadata": {},
     "output_type": "display_data"
    },
    {
     "name": "stdout",
     "output_type": "stream",
     "text": [
      "PS: to remove the \"Notebook as API\" feature, just replace .add by .delete\n",
      "[\n",
      "    {\n",
      "        \"name\": \"HubSpot_Connect\",\n",
      "        \"avatar\": \"https://raw.githubusercontent.com/jupyter-naas/awesome-notebooks/master/.github/assets/logos/HubSpot.png\",\n",
      "        \"action\": {\n",
      "            \"request_type\": \"POST\",\n",
      "            \"url\": \"https://public.naas.ai/ZmxvcmVudC00MG5hYXMtMkVhaQ==/notebook/cebf493497f430fc99ba439d1407e11f4948422f06db61f0c8f4d0600c73\",\n",
      "            \"payload\": {\n",
      "                \"hs_access_token\": {\n",
      "                    \"type\": \"str\",\n",
      "                    \"description\": \"This variable stores an access token used for accessing the HubSpot API. This value will be stored under the secret 'HS_ACCESS_TOKEN'.\",\n",
      "                    \"default\": \"None\"\n",
      "                }\n",
      "            }\n",
      "        },\n",
      "        \"description\": \"This command integrates your HubSpot access token into the Naas Lab secret manager.\"\n",
      "    },\n",
      "    {\n",
      "        \"name\": \"LinkedIn_Connect\",\n",
      "        \"avatar\": \"https://raw.githubusercontent.com/jupyter-naas/awesome-notebooks/master/.github/assets/logos/LinkedIn.png\",\n",
      "        \"action\": {\n",
      "            \"request_type\": \"POST\",\n",
      "            \"url\": \"https://public.naas.ai/ZmxvcmVudC00MG5hYXMtMkVhaQ==/notebook/ce7ad3841a87dd74fb8086f05748492b66edec043dc38ff8ac4c21ba2ba5\",\n",
      "            \"payload\": {\n",
      "                \"li_at\": {\n",
      "                    \"type\": \"str\",\n",
      "                    \"description\": \"Cookie used to authenticate Members and API clients. This value will be stored under the secret 'LINKEDIN_LI_AT'.\",\n",
      "                    \"default\": \"None\"\n",
      "                },\n",
      "                \"JSESSIONID\": {\n",
      "                    \"type\": \"str\",\n",
      "                    \"description\": \"Cookie used for Cross Site Request Forgery (CSRF) protection and URL signature validation. This value will be stored under the secret 'LINKEDIN_JSESSIONID'.\",\n",
      "                    \"default\": \"None\"\n",
      "                }\n",
      "            }\n",
      "        },\n",
      "        \"description\": \"This command integrates your LinkedIn cookies into the Naas Lab secret manager.\"\n",
      "    },\n",
      "    {\n",
      "        \"name\": \"OpenAI_Connect\",\n",
      "        \"avatar\": \"https://raw.githubusercontent.com/jupyter-naas/awesome-notebooks/master/.github/assets/logos/OpenAI.png\",\n",
      "        \"action\": {\n",
      "            \"request_type\": \"POST\",\n",
      "            \"url\": \"https://public.naas.ai/ZmxvcmVudC00MG5hYXMtMkVhaQ==/notebook/74e763d8b20069800562d679dd9021116a84aab1ed714cdb58793c1319b8\",\n",
      "            \"payload\": {\n",
      "                \"api_key\": {\n",
      "                    \"type\": \"str\",\n",
      "                    \"description\": \"OpenAI API key. This value will be stored under the secret 'OPENAI_API_KEY'.\",\n",
      "                    \"default\": \"None\"\n",
      "                }\n",
      "            }\n",
      "        },\n",
      "        \"description\": \"This command integrates your OpenAI api key into the Naas Lab secret manager.\"\n",
      "    }\n",
      "]\n"
     ]
    }
   ],
   "source": [
    "commands = create_command(input_dir)"
   ]
  },
  {
   "cell_type": "markdown",
   "id": "81ce4521-731f-42cb-8ace-0e7611c750b3",
   "metadata": {
    "papermill": {},
    "tags": []
   },
   "source": [
    "## Output"
   ]
  },
  {
   "cell_type": "markdown",
   "id": "2d959298-e04a-459f-85d9-1b12bb5754c9",
   "metadata": {
    "papermill": {},
    "tags": []
   },
   "source": [
    "### Create Naas Chat plugin\n",
    "This function will generate the plugin in JSON format and also verify if your prompt adheres to the recommended limit, which is set at 20% of the maximum tokens allowed by the model. Then, it will save your plugin in your local environment."
   ]
  },
  {
   "cell_type": "code",
   "execution_count": 7,
   "id": "ac0af791-9f6d-4da8-82d0-1defed0bc59f",
   "metadata": {
    "execution": {
     "iopub.execute_input": "2023-11-30T16:43:50.470547Z",
     "iopub.status.busy": "2023-11-30T16:43:50.468795Z",
     "iopub.status.idle": "2023-11-30T16:43:51.403742Z",
     "shell.execute_reply": "2023-11-30T16:43:51.403010Z",
     "shell.execute_reply.started": "2023-11-30T16:43:50.470506Z"
    },
    "papermill": {},
    "tags": []
   },
   "outputs": [
    {
     "name": "stdout",
     "output_type": "stream",
     "text": [
      "✅ System prompt tokens count OK: 3248 (limit: 20% -> 3277)\n",
      "💾 Plugin successfully saved. You can use it in your Naas Chat with: /home/ftp/abi/outputs/plugins/🚀_growth_assistant.json\n"
     ]
    }
   ],
   "source": [
    "# Create plugin\n",
    "plugin_file_path = naas_chat_plugin.create_plugin(\n",
    "    name=name,\n",
    "    prompt=system_prompt,\n",
    "    model=model,\n",
    "    temperature=temperature,\n",
    "    output_path=output_path,\n",
    "    description=description,\n",
    "    avatar=avatar,\n",
    "    commands=commands\n",
    ")"
   ]
  },
  {
   "cell_type": "markdown",
   "id": "34b625a0-f39b-4c7e-82f5-cc58a11ec902",
   "metadata": {
    "papermill": {},
    "tags": []
   },
   "source": [
    "### Create asset\n",
    "This asset can be utilized by using the command `/use` in your Naas Chat or by simply clicking on the link provided in the last cell output."
   ]
  },
  {
   "cell_type": "code",
   "execution_count": 8,
   "id": "39437f23-bcf8-40df-9538-32b3cac1c8fb",
   "metadata": {
    "execution": {
     "iopub.execute_input": "2023-11-30T16:43:51.405162Z",
     "iopub.status.busy": "2023-11-30T16:43:51.404799Z",
     "iopub.status.idle": "2023-11-30T16:43:52.570858Z",
     "shell.execute_reply": "2023-11-30T16:43:52.570151Z",
     "shell.execute_reply.started": "2023-11-30T16:43:51.405128Z"
    },
    "papermill": {},
    "tags": []
   },
   "outputs": [
    {
     "name": "stdout",
     "output_type": "stream",
     "text": [
      "👌 Well done! Your Assets has been sent to production.\n",
      "\n"
     ]
    },
    {
     "data": {
      "application/javascript": [
       "\n",
       "    if (!window.copyToClipboard) {\n",
       "        window.copyToClipboard = (text) => {\n",
       "            const dummy = document.createElement(\"textarea\");\n",
       "            document.body.appendChild(dummy);\n",
       "            dummy.value = text;\n",
       "            dummy.select();\n",
       "            document.execCommand(\"copy\");\n",
       "            document.body.removeChild(dummy);\n",
       "        }\n",
       "    }\n",
       "    "
      ],
      "text/plain": [
       "<IPython.core.display.Javascript object>"
      ]
     },
     "metadata": {},
     "output_type": "display_data"
    },
    {
     "data": {
      "application/vnd.jupyter.widget-view+json": {
       "model_id": "8749d14928c449fd87e0706639731e9f",
       "version_major": 2,
       "version_minor": 0
      },
      "text/plain": [
       "Button(button_style='primary', description='Copy URL', style=ButtonStyle())"
      ]
     },
     "metadata": {},
     "output_type": "display_data"
    },
    {
     "data": {
      "application/vnd.jupyter.widget-view+json": {
       "model_id": "45070ed7d91e4c07a8260eba3cfc2465",
       "version_major": 2,
       "version_minor": 0
      },
      "text/plain": [
       "Output()"
      ]
     },
     "metadata": {},
     "output_type": "display_data"
    },
    {
     "name": "stdout",
     "output_type": "stream",
     "text": [
      "PS: to remove the \"Assets\" feature, just replace .add by .delete\n",
      "https://public.naas.ai/ZmxvcmVudC00MG5hYXMtMkVhaQ==/asset/e65caf57ac5c44002f2c6b68d4ed15d240daa9367df5eee06aee1792b6a8\n"
     ]
    }
   ],
   "source": [
    "plugin_url = naas.asset.add(plugin_file_path, params={\"inline\": True})\n",
    "print(plugin_url)"
   ]
  },
  {
   "cell_type": "markdown",
   "id": "1dde0d3d-de48-4307-bd6a-63081b1e436c",
   "metadata": {},
   "source": [
    "### Create new chat\n",
    "NB: You don't need to click on 'Create New Chat' everytime you update your system prompt, you can use the command `/refresh`."
   ]
  },
  {
   "cell_type": "code",
   "execution_count": 9,
   "id": "221fab1a-663b-4aa7-871d-f8ff7b1e2a18",
   "metadata": {
    "execution": {
     "iopub.execute_input": "2023-11-30T16:43:52.572281Z",
     "iopub.status.busy": "2023-11-30T16:43:52.572030Z",
     "iopub.status.idle": "2023-11-30T16:43:52.576892Z",
     "shell.execute_reply": "2023-11-30T16:43:52.576213Z",
     "shell.execute_reply.started": "2023-11-30T16:43:52.572249Z"
    },
    "tags": []
   },
   "outputs": [
    {
     "data": {
      "text/markdown": [
       "[Create New Chat](https://naas.ai/chat/use?plugin_url=https://public.naas.ai/ZmxvcmVudC00MG5hYXMtMkVhaQ==/asset/e65caf57ac5c44002f2c6b68d4ed15d240daa9367df5eee06aee1792b6a8)"
      ],
      "text/plain": [
       "<IPython.core.display.Markdown object>"
      ]
     },
     "execution_count": 9,
     "metadata": {},
     "output_type": "execute_result"
    }
   ],
   "source": [
    "Markdown(f\"[Create New Chat](https://naas.ai/chat/use?plugin_url={plugin_url})\")"
   ]
  },
  {
   "cell_type": "code",
   "execution_count": null,
   "id": "a8a2f65a-c24b-4d33-b24d-7ce2dacb834e",
   "metadata": {},
   "outputs": [],
   "source": []
  }
 ],
 "metadata": {
  "kernelspec": {
   "display_name": "Python 3",
   "language": "python",
   "name": "python3"
  },
  "language_info": {
   "codemirror_mode": {
    "name": "ipython",
    "version": 3
   },
   "file_extension": ".py",
   "mimetype": "text/x-python",
   "name": "python",
   "nbconvert_exporter": "python",
   "pygments_lexer": "ipython3",
   "version": "3.9.6"
  },
  "naas": {
   "notebook_id": "d376a4cfdf00d1197e0cd54cf4e801052d22a6e15133079bf4d3ff56c29fc5a0",
   "notebook_path": "GitHub/GitHub_Create_plugin_with_commands.ipynb"
  },
  "papermill": {
   "default_parameters": {},
   "environment_variables": {},
   "parameters": {},
   "version": "2.4.0"
  },
  "widgets": {
   "application/vnd.jupyter.widget-state+json": {
    "state": {},
    "version_major": 2,
    "version_minor": 0
   }
  }
 },
 "nbformat": 4,
 "nbformat_minor": 5
}
