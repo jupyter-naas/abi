{
 "cells": [
  {
   "cell_type": "markdown",
   "id": "639722ac-17b0-4a4e-bc38-0b409b9516bc",
   "metadata": {
    "papermill": {},
    "tags": []
   },
   "source": [
    "<img width=\"10%\" alt=\"Naas\" src=\"https://landen.imgix.net/jtci2pxwjczr/assets/5ice39g4.png?w=160\"/>"
   ]
  },
  {
   "cell_type": "markdown",
   "id": "40ed2bcf-6795-4c72-9d82-c6cd3d237fb8",
   "metadata": {
    "papermill": {},
    "tags": []
   },
   "source": [
    "# LinkedIn - Send interactions from post URL to HubSpot notes\n",
    "<a href=\"https://app.naas.ai/user-redirect/naas/downloader?url=https://raw.githubusercontent.com/jupyter-naas/awesome-notebooks/master/LinkedIn/LinkedIn_Send_interactions_from_post_URL_to_HubSpot_notes.ipynb\" target=\"_parent\"><img src=\"https://naasai-public.s3.eu-west-3.amazonaws.com/Open_in_Naas_Lab.svg\"/></a><br><br><a href=\"https://bit.ly/3JyWIk6\">Give Feedback</a> | <a href=\"https://github.com/jupyter-naas/awesome-notebooks/issues/new?assignees=&labels=bug&template=bug_report.md&title=LinkedIn+-+Send+interactions+from+post+URL+to+HubSpot+notes:+Error+short+description\">Bug report</a>"
   ]
  },
  {
   "cell_type": "markdown",
   "id": "a12a1d93-048d-4c1b-aa81-3a362a8bf6dc",
   "metadata": {
    "papermill": {},
    "tags": []
   },
   "source": [
    "**Tags:** #linkedin #hubspot #openai #interactions #post #url #send #notes"
   ]
  },
  {
   "cell_type": "markdown",
   "id": "5cc3f1bb-5f08-493e-8463-16a4973fb09a",
   "metadata": {
    "papermill": {},
    "tags": []
   },
   "source": [
    "**Author:** [Florent Ravenel](https://www.linkedin.com/in/florent-ravenel)"
   ]
  },
  {
   "cell_type": "markdown",
   "id": "33ab1d7c-8784-43a4-960e-96b2be7451e7",
   "metadata": {
    "papermill": {},
    "tags": []
   },
   "source": [
    "**Last update:** 2023-08-16 (Created: 2023-08-16)"
   ]
  },
  {
   "cell_type": "markdown",
   "id": "bd8105de-e723-4453-b974-846308cc7b89",
   "metadata": {
    "papermill": {},
    "tags": []
   },
   "source": [
    "**Description:** This notebook automates the process of sending people interactions (like or comment) on a LinkedIn post URL to a contact notes in HubSpot. If a person doesn't already exist in HubSpot, a new contact is created, complete with their first name, last name, occupation, and LinkedIn URL. We also use a prompt to categorize people by ICP, enriching the HubSpot contact information in the process. This tool proves invaluable for tracking and scoring targets acquired through your LinkedIn post campaigns."
   ]
  },
  {
   "cell_type": "markdown",
   "id": "8a81d778-e5e9-437b-a7c9-38d84a08b7d4",
   "metadata": {
    "papermill": {},
    "tags": []
   },
   "source": [
    "\n",
    "<div class=\"alert alert-info\" role=\"info\" style=\"margin: 10px\">\n",
    "<b>Disclaimer:</b><br>\n",
    "This code is in no way affiliated with, authorized, maintained, sponsored or endorsed by Linkedin or any of its affiliates or subsidiaries. It uses an independent and unofficial API. Use at your own risk.\n",
    "\n",
    "This project violates Linkedin's User Agreement Section 8.2, and because of this, Linkedin may (and will) temporarily or permanently ban your account. We are not responsible for your account being banned.\n",
    "<br>\n",
    "</div>"
   ]
  },
  {
   "cell_type": "markdown",
   "id": "bc30bcf2-57e6-48ae-a7c5-6218a7798182",
   "metadata": {
    "papermill": {},
    "tags": []
   },
   "source": [
    "## Input"
   ]
  },
  {
   "cell_type": "markdown",
   "id": "e2661a6b-1c2c-488f-9c8e-bb2523197155",
   "metadata": {
    "papermill": {},
    "tags": []
   },
   "source": [
    "### Import libraries"
   ]
  },
  {
   "cell_type": "code",
   "execution_count": null,
   "id": "93ee3f31-b14b-494c-863b-8a31ca93ca50",
   "metadata": {
    "papermill": {},
    "tags": []
   },
   "outputs": [],
   "source": [
    "import naas\n",
    "from naas_drivers import linkedin, hubspot\n",
    "import pandas as pd\n",
    "import openai\n",
    "import requests\n",
    "from datetime import datetime, timezone\n",
    "from difflib import SequenceMatcher\n",
    "# Set the display option for max column width to ensure the link is fully displayed\n",
    "pd.set_option('display.max_colwidth', None)"
   ]
  },
  {
   "cell_type": "markdown",
   "id": "c368f87c-f929-4212-bf17-2dfd537b9c54",
   "metadata": {
    "papermill": {},
    "tags": []
   },
   "source": [
    "### Setup variables\n",
    "**Mandatory**\n",
    "\n",
    "[Learn how to get your cookies on LinkedIn](https://www.notion.so/LinkedIn-driver-Get-your-cookies-d20a8e7e508e42af8a5b52e33f3dba75)\n",
    "- `li_at`: Cookie used to authenticate Members and API clients.\n",
    "- `JSESSIONID`: Cookie used for Cross Site Request Forgery (CSRF) protection and URL signature validation.\n",
    "- `linkedin_url`: This variable represents the LinkedIn post URL.\n",
    "\n",
    "[Get your HubSpot Access token](https://knowledge.hubspot.com/articles/kcs_article/integrations/how-do-i-get-my-hubspot-api-key)\n",
    "- `hs_access_token`: This is your HubSpot access token. It's used to authenticate your application's requests to the HubSpot API.\n",
    "\n",
    "\n",
    "\n",
    "**Optional**\n",
    "- `exclude_profiles`: This is a list of LinkedIn profile URLs that you want to exclude from your script's operations. For example, you can exclude yourself and your team.\n",
    "- `hubspot_owner_id`: HubSpot owner ID for new contact created.\n",
    "- `contact_properties`: This is a list of properties (internal names) that you want to retrieve or work with for a HubSpot contact.\n",
    "- `hs_linkedin_url`: HubSpot property (internal name) that contains the LinkedIn profile URL.\n",
    "- `custom_properties`: HubSpot property to be added when new contact is created. It must be a dictionary with key as hubspot internal name and value expected in HubSpot. Otherwise, the contact won't be created\n",
    "\n",
    "[Get your OpenAI API key here](https://openai.com/docs/api-overview/)\n",
    "- `openai_api_key`: This is your API key for OpenAI. It's used to authenticate your application's requests to the OpenAI API.\n",
    "- `prompt`: This is a string that's used as a prompt for OpenAI's text generation API. It will be help you classify people that interacted with your post\n",
    "- `icp_hubspot`: Dictionary with HubSpot internal name as key and list of values expected in HubSpot as value. This property have to fit with your prompt to create ICP."
   ]
  },
  {
   "cell_type": "code",
   "execution_count": null,
   "id": "2c1ee8c1-e150-4465-b4fe-c3768f397d84",
   "metadata": {
    "papermill": {},
    "tags": []
   },
   "outputs": [],
   "source": [
    "# Mandatory\n",
    "li_at = naas.secret.get(\"LINKEDIN_LI_AT\") or \"YOUR_LINKEDIN_LI_AT\"\n",
    "JSESSIONID = naas.secret.get(\"LINKEDIN_JSESSIONID\") or \"YOUR_LINKEDIN_JSESSIONID\"\n",
    "linkedin_url = input(\"Post URL:\") \n",
    "hs_access_token = naas.secret.get(\"HS_ACCESS_TOKEN\") or \"YOUR_HS_ACCESS_TOKEN\"\n",
    "\n",
    "# Optional\n",
    "exclude_profiles = [\n",
    "    \"https://www.linkedin.com/in/ACoAABCNSioBW3YZHc2lBHVG0E_TXYWitQkmwog\",\n",
    "    \"https://www.linkedin.com/in/ACoAAA6EYJABlJdZG2ZQLuLkpCu2Ny8pqa065b8\",\n",
    "    \"https://www.linkedin.com/in/ACoAAAJHE7sB5OxuKHuzguZ9L6lfDHqw--cdnJg\"\n",
    "]\n",
    "hubspot_owner_id = \"158373005\"\n",
    "contact_properties = [\n",
    "    \"hs_object_id\",\n",
    "    \"firstname\",\n",
    "    \"lastname\",\n",
    "    \"email\",\n",
    "    \"linkedinbio\",\n",
    "    \"jobtitle\"\n",
    "]\n",
    "hs_linkedin_url = \"linkedinbio\"\n",
    "custom_properties = {\n",
    "    \"naas_target\": \"Yes\"\n",
    "}\n",
    "\n",
    "openai_api_key = naas.secret.get(\"OPENAI_API_KEY\") or \"YOUR_OPENAI_API_KEY\"\n",
    "prompt = f\"\"\"\n",
    "I am building Naas, the Universal open source data plaform.\n",
    "I have 2 ideal customer profile, one is a 'data producer' with basic knowledge of Python that could use our Notebook templates to create plugins. \n",
    "These plugions are then distributed data via our NaasAI Chat interface. \n",
    "The other one is a 'data consummer' that will enjoy using NaasAI Chat for its basic LLMs integration but also interested in having its own data available, hence work with the data producer. \n",
    "I will give you the [OCCUPATION] from a profile I get from LinkedIn, you will return stricly and only one of the following values inside the simple quotes based on the best match 'DataProducer', 'DataConsumer', 'NotICP' or 'Don't know' if you don't find a plausible match with the first 3 values.\n",
    "Don't put the results into quotes.\n",
    "\"\"\"\n",
    "icp_hubspot = {\n",
    "    \"icp_type\": [\"NotICP\", \"DataConsumer\", \"DataProducer\"]\n",
    "}"
   ]
  },
  {
   "cell_type": "markdown",
   "id": "0c8d1e9c-da8b-4526-be0c-67cfde63ebf0",
   "metadata": {
    "papermill": {},
    "tags": []
   },
   "source": [
    "## Model"
   ]
  },
  {
   "cell_type": "markdown",
   "id": "7a4577bb-55bb-4b62-be75-417458f7ae47",
   "metadata": {
    "papermill": {},
    "tags": []
   },
   "source": [
    "### Get post likes"
   ]
  },
  {
   "cell_type": "code",
   "execution_count": null,
   "id": "24f61a77-74aa-410e-a3e8-f29ed8eae762",
   "metadata": {
    "papermill": {},
    "tags": []
   },
   "outputs": [],
   "source": [
    "df_likes = linkedin.connect(li_at, JSESSIONID).post.get_likes(linkedin_url)\n",
    "print(\"Number of likes: \", len(df_likes))\n",
    "df_likes.head(1)"
   ]
  },
  {
   "cell_type": "markdown",
   "id": "cc2e5514-20d6-4f8d-94aa-6a8dbf714a17",
   "metadata": {
    "papermill": {},
    "tags": []
   },
   "source": [
    "### Get post comments"
   ]
  },
  {
   "cell_type": "code",
   "execution_count": null,
   "id": "42cf7ffb-a788-4ab6-9d8e-5b5d1b66cf7a",
   "metadata": {
    "papermill": {},
    "tags": []
   },
   "outputs": [],
   "source": [
    "df_comments = linkedin.connect(li_at, JSESSIONID).post.get_comments(linkedin_url)\n",
    "print(\"Number of comments: \", len(df_comments))\n",
    "df_comments.head(1)"
   ]
  },
  {
   "cell_type": "markdown",
   "id": "c2f44181-36df-415e-b580-d14bea3764f1",
   "metadata": {
    "execution": {
     "iopub.execute_input": "2023-08-25T14:08:32.133288Z",
     "iopub.status.busy": "2023-08-25T14:08:32.133052Z",
     "iopub.status.idle": "2023-08-25T14:08:32.136213Z",
     "shell.execute_reply": "2023-08-25T14:08:32.135544Z",
     "shell.execute_reply.started": "2023-08-25T14:08:32.133264Z"
    },
    "papermill": {},
    "tags": []
   },
   "source": [
    "### Create database of LinkedIn profiles"
   ]
  },
  {
   "cell_type": "code",
   "execution_count": null,
   "id": "d23cbbb8-d794-43a1-8e28-de46b855ae8d",
   "metadata": {
    "papermill": {},
    "tags": []
   },
   "outputs": [],
   "source": [
    "def predict_category(\n",
    "    openai_api_key,\n",
    "    prompt,\n",
    "    summary\n",
    "):\n",
    "    # Return TBD if not openai key is set\n",
    "    if not openai_api_key:\n",
    "        return \"TBD\"\n",
    "    \n",
    "    # Connect to openai\n",
    "    openai.api_key = openai_api_key\n",
    "    \n",
    "    if summary:\n",
    "        prompt = prompt.replace(\"[OCCUPATION]\", summary)\n",
    "    else:\n",
    "        return \"NotICP\"\n",
    "\n",
    "    response = openai.Completion.create(\n",
    "        engine=\"text-davinci-003\",\n",
    "        prompt=prompt,\n",
    "        temperature=0,\n",
    "        max_tokens=60\n",
    "    )\n",
    "    return response.choices[0].text.split(\"\\n\")[-1].strip()\n",
    "\n",
    "def create_profiles_db(\n",
    "    df_likes,\n",
    "    df_comments,\n",
    "    exclude_profiles,\n",
    "    openai_api_key,\n",
    "    prompt\n",
    "):\n",
    "    # Init\n",
    "    df = pd.DataFrame()\n",
    "    \n",
    "    # Concat db on specific column and drop duplicates\n",
    "    to_keep = [\n",
    "        \"PROFILE_ID\",\n",
    "        \"PROFILE_URL\",\n",
    "        \"PUBLIC_ID\",\n",
    "        \"FIRSTNAME\",\n",
    "        \"LASTNAME\",\n",
    "        \"FULLNAME\",\n",
    "        \"OCCUPATION\",\n",
    "        \"PROFILE_PICTURE\",\n",
    "    ]\n",
    "    df = pd.concat([df_likes, df_comments])[to_keep].drop_duplicates(to_keep)\n",
    "    \n",
    "    # Cleaning: exclude URLs not a profile + custom\n",
    "    df = df[\n",
    "        (df[\"PROFILE_URL\"].str.contains(\"https://www.linkedin.com/in/\")) & \n",
    "        ~(df[\"PROFILE_URL\"].isin(exclude_profiles))\n",
    "    ].reset_index(drop=True)\n",
    "            \n",
    "    # Determine if profiles match with ICP\n",
    "    df['ICP'] = df.apply(lambda row: predict_category(openai_api_key, prompt, row[\"OCCUPATION\"]), axis=1)\n",
    "    return df.reset_index(drop=True)\n",
    "\n",
    "df_profiles = create_profiles_db(\n",
    "    df_likes,\n",
    "    df_comments,\n",
    "    exclude_profiles,\n",
    "    openai_api_key,\n",
    "    prompt\n",
    ")\n",
    "print(\"Unique profiles:\", len(df_profiles))\n",
    "df_profiles.head(1)"
   ]
  },
  {
   "cell_type": "markdown",
   "id": "4d3aa77d-0319-4d5a-a26d-3dd83aae0046",
   "metadata": {
    "papermill": {},
    "tags": []
   },
   "source": [
    "### Get all contacts from HubSpot"
   ]
  },
  {
   "cell_type": "code",
   "execution_count": null,
   "id": "47a2c33b-e563-4852-a6eb-519fb84eb170",
   "metadata": {
    "papermill": {},
    "tags": []
   },
   "outputs": [],
   "source": [
    "df_contacts = hubspot.connect(hs_access_token).contacts.get_all(contact_properties)\n",
    "print(\"HubSpot Contact:\", len(df_contacts))\n",
    "df_contacts.head(1)"
   ]
  },
  {
   "cell_type": "markdown",
   "id": "ab49ac65-64f1-4107-b29f-30d7c08c0ab0",
   "metadata": {
    "papermill": {},
    "tags": []
   },
   "source": [
    "### Find HubSpot ID for leads"
   ]
  },
  {
   "cell_type": "code",
   "execution_count": null,
   "id": "79869edd-597e-4d12-80cd-92a4171c7f1b",
   "metadata": {
    "papermill": {},
    "tags": []
   },
   "outputs": [],
   "source": [
    "def similarity(a, b):\n",
    "    return SequenceMatcher(None, a, b).ratio()\n",
    "\n",
    "def get_husbspot_id(\n",
    "    df,\n",
    "    df_contacts,\n",
    "    hs_linkedin_url,\n",
    "    hubspot_owner_id=None,\n",
    "    icp_hubspot={},\n",
    "    custom_properties={}\n",
    "):\n",
    "    # Init\n",
    "    properties = {}\n",
    "    \n",
    "    # Add custom contact property to dict\n",
    "    if len(custom_properties) > 0:\n",
    "        properties = custom_properties\n",
    "    \n",
    "    # Add HubSpot owner ID\n",
    "    if hubspot_owner_id and hubspot_owner_id != \"\":\n",
    "        properties[\"hubspot_owner_id\"] = hubspot_owner_id\n",
    "\n",
    "    # Add TBD if Linkedin URL col is empty\n",
    "    df_contacts[hs_linkedin_url] = df_contacts[hs_linkedin_url].fillna(\"TBD\")\n",
    "    \n",
    "    # Create fullname on HubSpot contact database\n",
    "    df_contacts[\"fullname\"] = df_contacts[\"firstname\"].fillna(\"TBD\") + \" \" + df_contacts[\"lastname\"].fillna(\"TBD\")\n",
    "    \n",
    "    # Loop on interactions profiles\n",
    "    for row in df.itertuples():\n",
    "        # Init\n",
    "        hs_ids = []\n",
    "        index = row.Index\n",
    "        firstname = row.FIRSTNAME\n",
    "        lastname = row.LASTNAME\n",
    "        fullname = row.FULLNAME\n",
    "        profile_url = row.PROFILE_URL\n",
    "        icp_type = row.ICP\n",
    "        jobtitle = row.OCCUPATION\n",
    "        profile_id = row.PROFILE_ID\n",
    "        public_id = row.PUBLIC_ID\n",
    "        print(\"Starting with:\", fullname)\n",
    "\n",
    "        # Find if interaction PROFILE_ID or PUBLIC_ID match with HubSpot LinkedIn bio\n",
    "        for x in [profile_id, public_id]:\n",
    "            tmp_df = df_contacts[df_contacts[hs_linkedin_url].str.contains(x)]\n",
    "            if len(tmp_df) > 0:\n",
    "                hs_ids += tmp_df[\"hs_object_id\"].unique().tolist()\n",
    "                \n",
    "        # Find if interaction FULLNAME match with HubSpot first and last name\n",
    "        if len(hs_ids) == 0:\n",
    "            for f in df_contacts[\"fullname\"].unique():\n",
    "                ratio = similarity(f, fullname)\n",
    "                if ratio > 0.9:\n",
    "                    tmp_df = df_contacts[df_contacts[\"fullname\"] == f].reset_index(drop=True)\n",
    "                    hs_ids += tmp_df[\"hs_object_id\"].unique().tolist()\n",
    "                \n",
    "        # Create contact if does not exist\n",
    "        if len(hs_ids) == 0:\n",
    "            print(\"❌ No HubSpot IDs found, contact to be created\")\n",
    "            # Add contact properties\n",
    "            properties[\"firstname\"] = firstname\n",
    "            properties[\"lastname\"] = lastname\n",
    "            properties[\"jobtitle\"] = jobtitle\n",
    "            properties[hs_linkedin_url] = profile_url\n",
    "            \n",
    "            # Add ICD\n",
    "            if len(icp_hubspot) > 0:\n",
    "                icp_key = list(icp_hubspot.keys())[0]\n",
    "                icp_values = list(icp_hubspot.values())[0]\n",
    "                if icp_type in icp_values:\n",
    "                    properties[icp_key] = icp_type\n",
    "            \n",
    "            # Create contact using naas drivers hubspot\n",
    "            create_contact = {\"properties\": properties}\n",
    "            hs_ids = hubspot.connect(hs_access_token).contacts.send(create_contact)\n",
    "        else:\n",
    "            print(f\"✅ {len(hs_ids)} contact IDs found.\")\n",
    "            # Remove duplicates, preserving order\n",
    "            hs_ids = list(dict.fromkeys(hs_ids))\n",
    "            # Transform list to string\n",
    "            hs_ids = \",\".join(hs_ids)\n",
    "        \n",
    "        # Add hubspot IDs in df\n",
    "        df.loc[index, \"HUBSPOT_IDS\"] = hs_ids\n",
    "    return df\n",
    "\n",
    "df_leads = get_husbspot_id(\n",
    "    df_profiles,\n",
    "    df_contacts,\n",
    "    hs_linkedin_url,\n",
    "    hubspot_owner_id,\n",
    "    icp_hubspot,\n",
    "    custom_properties,\n",
    ")\n",
    "print(\"Leads:\", len(df_leads))\n",
    "df_leads.head(1)"
   ]
  },
  {
   "cell_type": "markdown",
   "id": "9782fe0b-7d61-4f67-b18e-61c782c28eb2",
   "metadata": {
    "papermill": {},
    "tags": []
   },
   "source": [
    "## Output"
   ]
  },
  {
   "cell_type": "markdown",
   "id": "678a1445-95e0-442e-ac76-90c30d687f41",
   "metadata": {
    "papermill": {},
    "tags": []
   },
   "source": [
    "### Send likes or comments to HubSpot contact notes"
   ]
  },
  {
   "cell_type": "code",
   "execution_count": null,
   "id": "69955ab2-2c40-42ee-a902-05baed79cc95",
   "metadata": {
    "papermill": {},
    "tags": []
   },
   "outputs": [],
   "source": [
    "def get_association_from_contact(\n",
    "    token,\n",
    "    contact_id,\n",
    "    endpoint,\n",
    "):\n",
    "    # Init\n",
    "    results = []\n",
    "    \n",
    "    # Requests\n",
    "    headers = {\n",
    "        \"Content-Type\": \"application/json\",\n",
    "        \"Authorization\": f\"Bearer {token}\"\n",
    "    }\n",
    "    url = f\"https://api.hubapi.com/crm/v4/objects/contacts/{contact_id}/associations/{endpoint}\"\n",
    "    \n",
    "    # Response\n",
    "    res = requests.get(url, headers=headers)\n",
    "    if res.status_code == 200:\n",
    "        results = res.json().get(\"results\")\n",
    "    return results\n",
    "\n",
    "def retrieve_object_details(\n",
    "    token,\n",
    "    object_id,\n",
    "    object_type,\n",
    "    properties=None,\n",
    "):\n",
    "    # Init\n",
    "    data = []\n",
    "    params = {\n",
    "        \"archived\": \"false\"\n",
    "    }\n",
    "    \n",
    "    # Requests\n",
    "    if properties:\n",
    "        params[\"properties\"] = properties\n",
    "    headers = {\n",
    "        \"Content-Type\": \"application/json\",\n",
    "        \"Authorization\": f\"Bearer {token}\"\n",
    "    }\n",
    "    url = f\"https://api.hubapi.com/crm/v3/objects/{object_type}/{object_id}\"\n",
    "    \n",
    "    # Response\n",
    "    res = requests.get(url, headers=headers, params=params)\n",
    "    if res.status_code == 200:\n",
    "        data = res.json().get(\"properties\")\n",
    "    else:\n",
    "        print(res.text)\n",
    "    return pd.DataFrame([data])\n",
    "\n",
    "def create_activity_df(\n",
    "    token,\n",
    "    contact_id,\n",
    "    activity,\n",
    "    properties_dict=None,\n",
    "):\n",
    "    # Init\n",
    "    df = pd.DataFrame()\n",
    "    if not properties_dict:\n",
    "        properties_dict = {\n",
    "            \"hs_object_id\": \"activity_hs_id\",\n",
    "            \"hs_lastmodifieddate\": \"activity_date\",\n",
    "            \"hs_body_preview\": \"activity_content\",\n",
    "            \"hs_body_preview_html\": \"activity_content_html\"\n",
    "        }\n",
    "    properties = [x for x in properties_dict]\n",
    "    \n",
    "    # List activities\n",
    "    data = get_association_from_contact(\n",
    "        token,\n",
    "        contact_id,\n",
    "        activity\n",
    "    )\n",
    "    print(\"Data fetched:\", len(data))\n",
    "    for d in data:\n",
    "        object_id = d.get(\"toObjectId\")\n",
    "        tmp_df = retrieve_object_details(\n",
    "            token,\n",
    "            object_id,\n",
    "            activity,\n",
    "            properties\n",
    "        )\n",
    "        if len(tmp_df) > 0:\n",
    "            tmp_df = tmp_df[properties]\n",
    "        df = pd.concat([df, tmp_df])\n",
    "    if len(df) > 0:\n",
    "        df = df.rename(columns=properties_dict)\n",
    "        if 'activity_type' not in df:\n",
    "            df.insert(loc=1, column=\"activity_type\", value=activity.upper())\n",
    "    return df.reset_index(drop=True)\n",
    "\n",
    "def create_hubspot_note(\n",
    "    api_key,\n",
    "    body,\n",
    "    object_datetime=None,\n",
    "    contact_ids=[],\n",
    "):\n",
    "    # Init\n",
    "    data = []\n",
    "    \n",
    "    # Get the current timestamp in UTC\n",
    "    if not object_datetime:\n",
    "        object_datetime = datetime.utcnow()\n",
    "        \n",
    "    hs_timestamp = object_datetime.replace(tzinfo=timezone.utc).strftime(\"%s\") + \"000\"\n",
    "    \n",
    "    # Create contact asso\n",
    "    contacts = []\n",
    "    for contact_id in contact_ids:\n",
    "        contacts.append(\n",
    "            {\n",
    "                \"to\": {\"id\": contact_id},\n",
    "                \"types\": [\n",
    "                    {\n",
    "                        \"associationCategory\": \"HUBSPOT_DEFINED\",\n",
    "                        \"associationTypeId\": 202\n",
    "                    }\n",
    "                ]\n",
    "            }\n",
    "        )\n",
    "                \n",
    "    # Requests\n",
    "    payload = {\n",
    "        \"properties\":\n",
    "        {\n",
    "            \"hs_note_body\": body,\n",
    "            \"hs_timestamp\": hs_timestamp\n",
    "        },\n",
    "        \"associations\": contacts\n",
    "    }\n",
    "    headers = {\n",
    "        'accept': \"application/json\",\n",
    "        'content-type': \"application/json\",\n",
    "        'authorization': f\"Bearer {api_key}\"\n",
    "    }\n",
    "    url = \"https://api.hubapi.com/crm/v3/objects/notes\"\n",
    "    \n",
    "    # Response\n",
    "    res = requests.post(url, headers=headers, json=payload)\n",
    "    if res.status_code == 201:\n",
    "        data = res.json()\n",
    "        print(\"✅ Note successfully created:\", data.get('id'))\n",
    "    else:\n",
    "        print(res)\n",
    "        print(res.text)\n",
    "    return data\n",
    "\n",
    "def delete_note(\n",
    "    token,\n",
    "    object_id,\n",
    "\n",
    "):\n",
    "    # Requests\n",
    "    headers = {\n",
    "        \"Content-Type\": \"application/json\",\n",
    "        \"Authorization\": f\"Bearer {token}\"\n",
    "    }\n",
    "    url = f\"https://api.hubapi.com/crm/v3/objects/notes/{object_id}\"\n",
    "\n",
    "    # Response\n",
    "    res = requests.delete(url, headers=headers)\n",
    "    if res.status_code == 204:\n",
    "        print(f\"✅ Note '{object_id}' successfully deleted!\")\n",
    "    else:\n",
    "        print(res.text)\n",
    "    return res\n",
    "\n",
    "def delete_specific_note(df, p):\n",
    "    object_ids = df.loc[df[\"activity_content_html\"] == p, \"activity_hs_id\"].unique().tolist()\n",
    "    for object_id in object_ids:\n",
    "        delete_note(hs_access_token, object_id)\n",
    "\n",
    "# Get meta from post URL\n",
    "df_meta = linkedin.connect(li_at, JSESSIONID).post.get_stats(linkedin_url)\n",
    "title = df_meta.loc[0, \"TITLE\"]\n",
    "post_url = df_meta.loc[0, \"POST_URL\"]\n",
    "author = df_meta.loc[0, \"AUTHOR_NAME\"]\n",
    "author_url = df_meta.loc[0, \"AUTHOR_URL\"]\n",
    "remove_note = False\n",
    "\n",
    "for row in df_leads.itertuples():\n",
    "    # Init\n",
    "    fullname = row.FULLNAME\n",
    "    profile_id = row.PROFILE_ID\n",
    "    hs_ids = row.HUBSPOT_IDS\n",
    "    print(\"Starting with:\", fullname, hs_ids)\n",
    "    \n",
    "    # Get likes and comments\n",
    "    tmp_likes = pd.DataFrame()\n",
    "    if len(df_likes) > 0:\n",
    "        tmp_likes = df_likes[df_likes[\"PROFILE_ID\"] == profile_id].reset_index(drop=True)\n",
    "        \n",
    "    tmp_comments = pd.DataFrame()\n",
    "    if len(df_comments) > 0:\n",
    "        tmp_comments = df_comments[df_comments[\"PROFILE_ID\"] == profile_id].reset_index(drop=True)\n",
    "    print(f\"-> {len(tmp_likes)} likes and {len(tmp_comments)} comments\")\n",
    "    \n",
    "    # Get notes\n",
    "    if hs_ids != \"TO_BE_CREATED\":\n",
    "        hs_ids = hs_ids.split(\",\")\n",
    "        df_notes = pd.DataFrame()\n",
    "        \n",
    "        # Get notes from contact\n",
    "        for uid in hs_ids:\n",
    "            tmp_notes = create_activity_df(\n",
    "                hs_access_token,\n",
    "                uid,\n",
    "                \"notes\",\n",
    "            )\n",
    "            df_notes = pd.concat([df_notes, tmp_notes]).reset_index(drop=True)\n",
    "\n",
    "        # Create 'Comments' notes\n",
    "        if len(tmp_comments) > 0:\n",
    "            for c in tmp_comments.itertuples():\n",
    "                comment = c.TEXT\n",
    "                create_note_comment = True\n",
    "                if len(df_notes) > 0:\n",
    "                    for p in df_notes[\"activity_content_html\"].unique().tolist():\n",
    "                        if str(post_url) in str(p) and comment in str(p):\n",
    "                            create_note_comment = False\n",
    "                             # Delete note if needed\n",
    "                            if remove_note:\n",
    "                                delete_specific_note(df_notes, p)\n",
    "\n",
    "                # Create note\n",
    "                if create_note_comment:           \n",
    "                    timestamp = datetime.strptime(c.CREATED_TIME, \"%Y-%m-%d %H:%M:%S\")\n",
    "                    body = f\"LinkedIn interaction - Comment '{comment}' on <a href={post_url}>'{title}'</a> from <a href={author_url}>{author}\" \n",
    "                    create_hubspot_note(\n",
    "                        hs_access_token,\n",
    "                        body,\n",
    "                        timestamp,\n",
    "                        hs_ids\n",
    "                    )\n",
    "        \n",
    "        # Create 'Likes' notes\n",
    "        if len(tmp_likes) > 0:\n",
    "            create_note_like = True\n",
    "            if len(df_notes) > 0:\n",
    "                for p in df_notes[\"activity_content_html\"].unique().tolist():\n",
    "                    if (str(post_url) in str(p)) and (\"Like\" in str(p)):\n",
    "                        create_note_like = False\n",
    "                        # Delete note if needed\n",
    "                        if remove_note:\n",
    "                            delete_specific_note(df_notes, p)\n",
    "            # Create note\n",
    "            if create_note_like:\n",
    "                like_timestamp = None\n",
    "                if len(df_comments) > 0:\n",
    "                    like_timestamp = datetime.strptime(df_comments.loc[df_comments.index[-1], \"CREATED_TIME\"], \"%Y-%m-%d %H:%M:%S\")\n",
    "                body = f\"LinkedIn interaction - Like on <a href={post_url}>'{title}'</a> from <a href={author_url}>{author}\"\n",
    "                create_hubspot_note(\n",
    "                    hs_access_token,\n",
    "                    body,\n",
    "                    like_timestamp,\n",
    "                    hs_ids\n",
    "                )     \n",
    "    else:\n",
    "        print('❌ Contact to be created')"
   ]
  },
  {
   "cell_type": "code",
   "execution_count": null,
   "id": "f384e6ed-bda7-4384-876c-f20aadf2db71",
   "metadata": {
    "papermill": {},
    "tags": []
   },
   "outputs": [],
   "source": []
  }
 ],
 "metadata": {
  "kernelspec": {
   "display_name": "Python 3",
   "language": "python",
   "name": "python3"
  },
  "language_info": {
   "codemirror_mode": {
    "name": "ipython",
    "version": 3
   },
   "file_extension": ".py",
   "mimetype": "text/x-python",
   "name": "python",
   "nbconvert_exporter": "python",
   "pygments_lexer": "ipython3",
   "version": "3.9.6"
  },
  "naas": {
   "notebook_id": "49cfbd24cd629b49f5c61b1411be50d20278f2357b7474b057e6a90ea78e77a1",
   "notebook_path": "LinkedIn/LinkedIn_Send_interactions_from_post_URL_to_HubSpot_notes.ipynb"
  },
  "papermill": {
   "default_parameters": {},
   "environment_variables": {},
   "parameters": {},
   "version": "2.4.0"
  },
  "widgets": {
   "application/vnd.jupyter.widget-state+json": {
    "state": {},
    "version_major": 2,
    "version_minor": 0
   }
  }
 },
 "nbformat": 4,
 "nbformat_minor": 5
}
