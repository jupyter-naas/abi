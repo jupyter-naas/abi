{
 "cells": [
  {
   "cell_type": "markdown",
   "id": "reliable-disney",
   "metadata": {
    "papermill": {},
    "tags": []
   },
   "source": [
    "<img width=\"8%\" alt=\"HubSpot.png\" src=\"https://raw.githubusercontent.com/jupyter-naas/awesome-notebooks/master/.github/assets/logos/HubSpot.png\" style=\"border-radius: 15%\">"
   ]
  },
  {
   "cell_type": "markdown",
   "id": "optical-marsh",
   "metadata": {
    "papermill": {},
    "tags": []
   },
   "source": [
    "# HubSpot - Send contacts to Google Sheets spreadsheet\n",
    "<a href=\"https://app.naas.ai/user-redirect/naas/downloader?url=https://raw.githubusercontent.com/jupyter-naas/awesome-notebooks/master/HubSpot/HubSpot_Send_contacts_to_gsheet.ipynb\" target=\"_parent\"><img src=\"https://naasai-public.s3.eu-west-3.amazonaws.com/Open_in_Naas_Lab.svg\"/></a><br><br><a href=\"https://bit.ly/3JyWIk6\">Give Feedback</a> | <a href=\"https://github.com/jupyter-naas/awesome-notebooks/issues/new?assignees=&labels=bug&template=bug_report.md&title=HubSpot+-+Send+contacts+to+gsheet:+Error+short+description\">Bug report</a>"
   ]
  },
  {
   "cell_type": "markdown",
   "id": "frank-portfolio",
   "metadata": {
    "papermill": {},
    "tags": []
   },
   "source": [
    "**Tags:** #hubspot #crm #sales #contact #naas_drivers #gsheet #automation #googlesheets"
   ]
  },
  {
   "cell_type": "markdown",
   "id": "11627339-3274-4045-92fb-0a24777f1012",
   "metadata": {
    "papermill": {},
    "tags": []
   },
   "source": [
    "**Author:** [Florent Ravenel](https://www.linkedin.com/in/florent-ravenel/)"
   ]
  },
  {
   "cell_type": "markdown",
   "id": "ab05fc5f-df67-4355-9fa9-a8aba64cd679",
   "metadata": {
    "papermill": {},
    "tags": []
   },
   "source": [
    "**Last update:** 2023-12-04 (Created: 2022-02-21)"
   ]
  },
  {
   "cell_type": "markdown",
   "id": "naas-description",
   "metadata": {
    "papermill": {},
    "tags": [
     "description"
    ]
   },
   "source": [
    "**Description:** This notebook allows you to send HubSpot contacts to a Google Sheets spreadsheet sheet and get update your data updated everyday."
   ]
  },
  {
   "cell_type": "markdown",
   "id": "loaded-tuner",
   "metadata": {
    "papermill": {},
    "tags": []
   },
   "source": [
    "## Input"
   ]
  },
  {
   "cell_type": "markdown",
   "id": "informational-colorado",
   "metadata": {
    "papermill": {},
    "tags": []
   },
   "source": [
    "### Import libraries"
   ]
  },
  {
   "cell_type": "code",
   "execution_count": null,
   "id": "contained-wedding",
   "metadata": {
    "papermill": {},
    "tags": []
   },
   "outputs": [],
   "source": [
    "from naas_drivers import hubspot, gsheet\n",
    "import naas\n",
    "from datetime import date\n",
    "import naas_data_product\n",
    "import requests\n",
    "import pandas as pd"
   ]
  },
  {
   "cell_type": "markdown",
   "id": "sufficient-ebony",
   "metadata": {
    "papermill": {},
    "tags": []
   },
   "source": [
    "### Setup variables\n",
    "**Pre-requisite**\n",
    "\n",
    "[Get your HubSpot Access token](https://knowledge.hubspot.com/articles/kcs_article/integrations/how-do-i-get-my-hubspot-api-key)\n",
    "\n",
    "**Mandatory**\n",
    "- `hs_access_token`: This is your HubSpot access token. It's used to authenticate your application's requests to the HubSpot API.\n",
    "- `contact_properties`: List of properties (hubspot internal names) you want to get from contact. By default, you will get: email, firstname, lastname, createdate, lastmodifieddate, hs_object_id. To list of contact properties, you can use this template: \"HubSpot/HubSpot_List_contact_properties.ipynb\" stored in https://github.com/jupyter-naas/awesome-notebooks.\n",
    "- `spreadsheet_url`: Google Sheets spreadsheet URL.\n",
    "- `sheet_name`: Google Sheets sheet name."
   ]
  },
  {
   "cell_type": "code",
   "execution_count": null,
   "id": "preliminary-improvement",
   "metadata": {
    "papermill": {},
    "tags": []
   },
   "outputs": [],
   "source": [
    "# Inputs\n",
    "hs_access_token = naas.secret.get(\"HS_ACCESS_TOKEN\") or \"YOUR_HS_ACCESS_TOKEN\"\n",
    "contact_properties = [\n",
    "    \"firstname\",\n",
    "    \"lastname\",\n",
    "    'email',\n",
    "    'linkedinbio',\n",
    "    'company',\n",
    "    'createdate',\n",
    "    \"hs_object_id\",\n",
    "    \"hubspot_owner_id\",\n",
    "]\n",
    "\n",
    "# Outputs\n",
    "spreadsheet_url = naas.secret.get(\"ABI_SPREADSHEET\")\n",
    "sheet_name = \"CONTACTS\"\n",
    "output_dir = os.path.join(naas_data_product.OUTPUTS_PATH, \"growth-engine\", date.today().isoformat())\n",
    "output_file = \"crm_contacts\""
   ]
  },
  {
   "cell_type": "markdown",
   "id": "unlimited-schedule",
   "metadata": {
    "papermill": {},
    "tags": []
   },
   "source": [
    "## Model"
   ]
  },
  {
   "cell_type": "markdown",
   "id": "treated-luxembourg",
   "metadata": {
    "papermill": {},
    "tags": []
   },
   "source": [
    "### Get all contacts"
   ]
  },
  {
   "cell_type": "code",
   "execution_count": null,
   "id": "white-praise",
   "metadata": {
    "papermill": {},
    "tags": []
   },
   "outputs": [],
   "source": [
    "df_init = pload(output_dir, output_file)\n",
    "if df_init is None:\n",
    "    df_init = hubspot.connect(hs_access_token).contacts.get_all(contact_properties)\n",
    "\n",
    "print(\"CRM Contacts:\", len(df_init))\n",
    "df_init.head(5)"
   ]
  },
  {
   "cell_type": "markdown",
   "id": "f8da5dd9-2a92-4c62-a118-f70d6b648703",
   "metadata": {
    "papermill": {},
    "tags": []
   },
   "source": [
    "### Get owners"
   ]
  },
  {
   "cell_type": "code",
   "execution_count": null,
   "id": "9f9adbf1-84c4-4429-bad8-33d66bfe2de1",
   "metadata": {
    "papermill": {},
    "tags": []
   },
   "outputs": [],
   "source": [
    "def get_owners(hs_access_token):\n",
    "    # Request\n",
    "    headers = {\n",
    "        'accept': \"application/json\",\n",
    "        'content-type': \"application/json\",\n",
    "        'authorization': f\"Bearer {hs_access_token}\"\n",
    "    }\n",
    "    url = \"https://api.hubapi.com/crm/v3/owners\"\n",
    "\n",
    "    # Response\n",
    "    res = requests.get(url, headers=headers)\n",
    "    return pd.DataFrame(res.json()['results'])\n",
    "\n",
    "df_owners = get_owners(hs_access_token)\n",
    "df_owners"
   ]
  },
  {
   "cell_type": "markdown",
   "id": "13c6e4f1-3c0f-4453-aba6-5c82240a2482",
   "metadata": {},
   "source": [
    "### Prep data"
   ]
  },
  {
   "cell_type": "code",
   "execution_count": null,
   "id": "9a8e391b-d4b4-4083-a1de-932a0b1f8b49",
   "metadata": {
    "tags": []
   },
   "outputs": [],
   "source": [
    "def prep_data(\n",
    "    df_init,\n",
    "    contact_properties,\n",
    "    df_owners\n",
    "):\n",
    "    # Init\n",
    "    df = df_init.copy()\n",
    "    \n",
    "    # Cleaning\n",
    "    df = df[contact_properties]\n",
    "    df.columns = df.columns.str.upper()\n",
    "    to_rename = {\n",
    "        \"LINKEDINBIO\": \"LINKEDIN_URL\",\n",
    "        \"HUBSPOT_OWNER_ID\": \"OWNER_ID\",\n",
    "        \"HS_OBJECT_ID\": \"CONTACT_ID\",\n",
    "    }\n",
    "    df = df.rename(columns=to_rename)\n",
    "    df = df.astype(str)\n",
    "    df = df.replace(\"None\", \"NA\").replace(\"TBD\", \"NA\")\n",
    "    \n",
    "    # Enrich\n",
    "    owners = df_owners.set_index('id')['email'].to_dict()\n",
    "    df[\"OWNER_EMAIL\"] = df[\"OWNER_ID\"].map(owners).fillna(\"NA\")\n",
    "    df.insert(loc=2, column=\"FULLNAME\", value=df[\"FIRSTNAME\"] + \" \" + df[\"LASTNAME\"])\n",
    "    \n",
    "    # Display\n",
    "    df = df.sort_values(by=\"CREATEDATE\", ascending=False)\n",
    "    return df.reset_index(drop=True)\n",
    "    \n",
    "df_clean = prep_data(df_init, contact_properties, df_owners)\n",
    "print(\"CRM Contacts:\", len(df_clean))\n",
    "df_clean.head(10)"
   ]
  },
  {
   "cell_type": "markdown",
   "id": "typical-nomination",
   "metadata": {
    "papermill": {},
    "tags": []
   },
   "source": [
    "## Output"
   ]
  },
  {
   "cell_type": "markdown",
   "id": "3da1d3df-d8b7-4b64-b9b4-6de72a0e6e1c",
   "metadata": {
    "papermill": {},
    "tags": []
   },
   "source": [
    "### Save data"
   ]
  },
  {
   "cell_type": "code",
   "execution_count": null,
   "id": "f3944811-a2f1-4f65-b9ad-bcbf9d42bf3b",
   "metadata": {
    "papermill": {},
    "tags": []
   },
   "outputs": [],
   "source": [
    "pdump(output_dir, df_clean, output_file)"
   ]
  },
  {
   "cell_type": "markdown",
   "id": "steady-treaty",
   "metadata": {
    "papermill": {},
    "tags": []
   },
   "source": [
    "### Send contacts to gsheet"
   ]
  },
  {
   "cell_type": "code",
   "execution_count": null,
   "id": "chicken-tennis",
   "metadata": {
    "papermill": {},
    "tags": []
   },
   "outputs": [],
   "source": [
    "gsheet.connect(spreadsheet_url).send(\n",
    "    sheet_name=sheet_name,\n",
    "    data=df_clean,\n",
    "    append=False\n",
    ")"
   ]
  },
  {
   "cell_type": "code",
   "execution_count": null,
   "id": "aba02bcd-7980-48ff-928c-0d29f2ab6d03",
   "metadata": {},
   "outputs": [],
   "source": []
  }
 ],
 "metadata": {
  "kernelspec": {
   "display_name": "Python 3",
   "language": "python",
   "name": "python3"
  },
  "language_info": {
   "codemirror_mode": {
    "name": "ipython",
    "version": 3
   },
   "file_extension": ".py",
   "mimetype": "text/x-python",
   "name": "python",
   "nbconvert_exporter": "python",
   "pygments_lexer": "ipython3",
   "version": "3.9.6"
  },
  "naas": {
   "notebook_id": "4063affa21ca76b463fb3696bcd1993679d6e2c91d8614b9e1d0f84d57aec6ef",
   "notebook_path": "HubSpot/HubSpot_Send_contacts_to_gsheet.ipynb"
  },
  "papermill": {
   "default_parameters": {},
   "environment_variables": {},
   "parameters": {},
   "version": "2.3.3"
  }
 },
 "nbformat": 4,
 "nbformat_minor": 5
}
