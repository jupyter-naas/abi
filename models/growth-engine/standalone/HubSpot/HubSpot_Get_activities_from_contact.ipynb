{
 "cells": [
  {
   "cell_type": "markdown",
   "id": "27486f01-77c3-4774-a098-29c706202d62",
   "metadata": {
    "papermill": {},
    "tags": []
   },
   "source": [
    "<img width=\"10%\" alt=\"Naas\" src=\"https://landen.imgix.net/jtci2pxwjczr/assets/5ice39g4.png?w=160\"/>"
   ]
  },
  {
   "cell_type": "markdown",
   "id": "85c6497e-923f-41fa-b85b-81f47a5ab9c7",
   "metadata": {
    "papermill": {},
    "tags": []
   },
   "source": [
    "# HubSpot - Get activities from contact\n",
    "<a href=\"https://app.naas.ai/user-redirect/naas/downloader?url=https://raw.githubusercontent.com/jupyter-naas/awesome-notebooks/master/HubSpot/HubSpot_Get_activities_from_contact.ipynb\" target=\"_parent\"><img src=\"https://naasai-public.s3.eu-west-3.amazonaws.com/Open_in_Naas_Lab.svg\"/></a><br><br><a href=\"https://bit.ly/3JyWIk6\">Give Feedback</a> | <a href=\"https://github.com/jupyter-naas/awesome-notebooks/issues/new?assignees=&labels=bug&template=bug_report.md&title=HubSpot+-+Get+activities+from+contact:+Error+short+description\">Bug report</a>"
   ]
  },
  {
   "cell_type": "markdown",
   "id": "661f554e-7065-4101-81c2-9e799a812b67",
   "metadata": {
    "papermill": {},
    "tags": []
   },
   "source": [
    "**Tags:** #hubspot #contact #activity #notes #emails #communications #meetings #snippet"
   ]
  },
  {
   "cell_type": "markdown",
   "id": "a852a18f-e277-4aa5-bdec-8dd1fccb57d2",
   "metadata": {
    "papermill": {},
    "tags": []
   },
   "source": [
    "**Author:** [Florent Ravenel](https://www.linkedin.com/in/florent-ravenel)"
   ]
  },
  {
   "cell_type": "markdown",
   "id": "6dd7c05c-17ed-459f-88a8-3c6629b80cde",
   "metadata": {
    "papermill": {},
    "tags": []
   },
   "source": [
    "**Last update:** 2023-08-21 (Created: 2023-08-21)"
   ]
  },
  {
   "cell_type": "markdown",
   "id": "7dcfd269-589b-4199-b521-6884053ff935",
   "metadata": {
    "papermill": {},
    "tags": []
   },
   "source": [
    "**Description:** This notebook demonstrates how to retrieve all activities from a contact URL by combining various HubSpot API endpoints."
   ]
  },
  {
   "cell_type": "markdown",
   "id": "0da5ca2d-a6a1-424c-b41f-391428555503",
   "metadata": {
    "papermill": {},
    "tags": []
   },
   "source": [
    "**References:**\n",
    "- [HubSpot API - Contacts](https://developers.hubspot.com/docs/api/crm/contacts)\n",
    "- [HubSpot API - Associations v4](https://developers.hubspot.com/docs/api/crm/associations)\n",
    "- [HubSpot API - Communications](https://developers.hubspot.com/docs/api/crm/communications)"
   ]
  },
  {
   "cell_type": "markdown",
   "id": "8c6e5050-800a-4f05-a1d2-5a682c54e069",
   "metadata": {
    "papermill": {},
    "tags": []
   },
   "source": [
    "## Input"
   ]
  },
  {
   "cell_type": "markdown",
   "id": "6c27222b-7468-4daa-9a77-c446aaf66f72",
   "metadata": {
    "papermill": {},
    "tags": []
   },
   "source": [
    "### Import libraries"
   ]
  },
  {
   "cell_type": "code",
   "execution_count": null,
   "id": "a3fad6df-27f3-4e13-a934-083468860bf3",
   "metadata": {
    "papermill": {},
    "tags": []
   },
   "outputs": [],
   "source": [
    "import requests\n",
    "import naas\n",
    "from naas_drivers import hubspot\n",
    "import pandas as pd"
   ]
  },
  {
   "cell_type": "markdown",
   "id": "17d095ea-e80c-4d8d-896b-271f3e0ea121",
   "metadata": {
    "papermill": {},
    "tags": []
   },
   "source": [
    "### Setup variables\n",
    "**Mandatory**\n",
    "\n",
    "[Get your HubSpot Access token](https://knowledge.hubspot.com/articles/kcs_article/integrations/how-do-i-get-my-hubspot-api-key)\n",
    "- `hs_access_token`: This variable stores an access token used for accessing the HubSpot API.\n",
    "- `contact_url`: This variable stores the HubSpot contact URL."
   ]
  },
  {
   "cell_type": "code",
   "execution_count": null,
   "id": "13df3457-9ca4-4a77-ace7-2cd5a386362d",
   "metadata": {
    "papermill": {},
    "tags": []
   },
   "outputs": [],
   "source": [
    "# Mandatory\n",
    "hs_access_token = naas.secret.get(\"HS_ACCESS_TOKEN\") or \"YOUR_HS_ACCESS_TOKEN\"\n",
    "contact_url = \"https://app.hubspot.com/contacts/2474088/record/0-1/666001\" # \"https://app.hubspot.com/contacts/xxxxx/record/0-1/xxxxx\""
   ]
  },
  {
   "cell_type": "markdown",
   "id": "58f1d275-a026-45a5-8629-9b5f1f8b038f",
   "metadata": {
    "papermill": {},
    "tags": []
   },
   "source": [
    "## Model"
   ]
  },
  {
   "cell_type": "markdown",
   "id": "f6ef36c3-13ab-45e5-97fb-3ba6e4c2ff99",
   "metadata": {
    "papermill": {},
    "tags": []
   },
   "source": [
    "### Get contact ID from URL"
   ]
  },
  {
   "cell_type": "code",
   "execution_count": null,
   "id": "c3588e3a-0829-485a-81c5-bcde7f137549",
   "metadata": {
    "papermill": {},
    "tags": []
   },
   "outputs": [],
   "source": [
    "def get_contact_ID_from_URL(url):\n",
    "    # Init\n",
    "    uid = url\n",
    "    \n",
    "    # Check if URL is valid\n",
    "    if not url.startswith(\"https://app.hubspot.com/contacts/\"):\n",
    "        raise BaseException(\"HubSpot URL Invalid! It must start by https://app.hubspot.com/contacts/\")\n",
    "    \n",
    "    # Split URL to get ID\n",
    "    if \"/record/0-1/\" in url:\n",
    "        uid = url.split(\"/record/0-1/\")[-1].split(\"/\")[0]\n",
    "    return uid\n",
    "\n",
    "contact_id = get_contact_ID_from_URL(contact_url)\n",
    "print(\"Contact ID:\", contact_id)"
   ]
  },
  {
   "cell_type": "markdown",
   "id": "7b5fa0c9-ea58-4117-9445-a421a3189015",
   "metadata": {
    "papermill": {},
    "tags": []
   },
   "source": [
    "### Functions to get contact associations details"
   ]
  },
  {
   "cell_type": "code",
   "execution_count": null,
   "id": "e765ab29-08d9-4647-995a-1101289e2047",
   "metadata": {
    "papermill": {},
    "tags": []
   },
   "outputs": [],
   "source": [
    "def get_association_from_contact(\n",
    "    token,\n",
    "    contact_id,\n",
    "    endpoint,\n",
    "):\n",
    "    # Init\n",
    "    results = []\n",
    "    \n",
    "    # Requests\n",
    "    headers = {\n",
    "        \"Content-Type\": \"application/json\",\n",
    "        \"Authorization\": f\"Bearer {token}\"\n",
    "    }\n",
    "    url = f\"https://api.hubapi.com/crm/v4/objects/contacts/{contact_id}/associations/{endpoint}\"\n",
    "    \n",
    "    # Response\n",
    "    res = requests.get(url, headers=headers)\n",
    "    if res.status_code == 200:\n",
    "        results = res.json().get(\"results\")\n",
    "    return results\n",
    "\n",
    "def retrieve_object_details(\n",
    "    token,\n",
    "    object_id,\n",
    "    object_type,\n",
    "    properties=None,\n",
    "):\n",
    "    # Init\n",
    "    data = []\n",
    "    params = {\n",
    "        \"archived\": \"false\"\n",
    "    }\n",
    "    \n",
    "    # Requests\n",
    "    if properties:\n",
    "        params[\"properties\"] = properties\n",
    "    headers = {\n",
    "        \"Content-Type\": \"application/json\",\n",
    "        \"Authorization\": f\"Bearer {token}\"\n",
    "    }\n",
    "    url = f\"https://api.hubapi.com/crm/v3/objects/{object_type}/{object_id}\"\n",
    "    \n",
    "    # Response\n",
    "    res = requests.get(url, headers=headers, params=params)\n",
    "    if res.status_code == 200:\n",
    "        data = res.json().get(\"properties\")\n",
    "    else:\n",
    "        print(res.text)\n",
    "    return pd.DataFrame([data])\n",
    "\n",
    "def create_activity_df(\n",
    "    token,\n",
    "    contact_id,\n",
    "    activity,\n",
    "    properties_dict=None,\n",
    "):\n",
    "    # Init\n",
    "    df = pd.DataFrame()\n",
    "    if not properties_dict:\n",
    "        properties_dict = {\n",
    "            \"hs_object_id\": \"activity_hs_id\",\n",
    "            \"hs_lastmodifieddate\": \"activity_date\",\n",
    "            \"hs_body_preview\": \"activity_content\"\n",
    "        }\n",
    "    properties = [x for x in properties_dict]\n",
    "    \n",
    "    # List activities\n",
    "    data = get_association_from_contact(\n",
    "        token,\n",
    "        contact_id,\n",
    "        activity\n",
    "    )\n",
    "    print(\"Data fetched:\", len(data))\n",
    "    for d in data:\n",
    "        object_id = d.get(\"toObjectId\")\n",
    "        tmp_df = retrieve_object_details(\n",
    "            token,\n",
    "            object_id,\n",
    "            activity,\n",
    "            properties\n",
    "        )\n",
    "        if len(tmp_df) > 0:\n",
    "            tmp_df = tmp_df[properties]\n",
    "        df = pd.concat([df, tmp_df])\n",
    "    if len(df) > 0:\n",
    "        df = df.rename(columns=properties_dict)\n",
    "        if 'activity_type' not in df:\n",
    "            df.insert(loc=1, column=\"activity_type\", value=activity.upper())\n",
    "    return df.reset_index(drop=True)"
   ]
  },
  {
   "cell_type": "markdown",
   "id": "a5a0d969-9b14-4d08-8c5d-b63b973dafeb",
   "metadata": {
    "papermill": {},
    "tags": []
   },
   "source": [
    "### Get notes associated to contact"
   ]
  },
  {
   "cell_type": "code",
   "execution_count": null,
   "id": "666512aa-f72d-4ef8-a4bd-76ef52d31637",
   "metadata": {
    "papermill": {},
    "tags": []
   },
   "outputs": [],
   "source": [
    "df_notes = create_activity_df(\n",
    "    hs_access_token,\n",
    "    contact_id,\n",
    "    \"notes\",\n",
    ")\n",
    "df_notes"
   ]
  },
  {
   "cell_type": "markdown",
   "id": "16564784-0154-438c-9173-825e8d24a785",
   "metadata": {
    "papermill": {},
    "tags": []
   },
   "source": [
    "### Get sales emails associated to contact"
   ]
  },
  {
   "cell_type": "code",
   "execution_count": null,
   "id": "f89d2b01-9b33-46f1-97ec-e94f14b4e06a",
   "metadata": {
    "papermill": {},
    "tags": []
   },
   "outputs": [],
   "source": [
    "df_sales_emails = create_activity_df(\n",
    "    hs_access_token,\n",
    "    contact_id,\n",
    "    \"emails\",\n",
    ")\n",
    "df_sales_emails"
   ]
  },
  {
   "cell_type": "markdown",
   "id": "1e5a189a-bce5-4db4-939e-663619e5f8b2",
   "metadata": {
    "papermill": {},
    "tags": []
   },
   "source": [
    "### Get meetings associated to contact"
   ]
  },
  {
   "cell_type": "code",
   "execution_count": null,
   "id": "d73f5746-f2db-4b4a-9e39-a7a8c84ffee8",
   "metadata": {
    "papermill": {},
    "tags": []
   },
   "outputs": [],
   "source": [
    "properties_dict = {\n",
    "    \"hs_object_id\": \"activity_hs_id\",\n",
    "    \"hs_lastmodifieddate\": \"activity_date\",\n",
    "    \"hs_meeting_title\": \"activity_content\"\n",
    "}\n",
    "\n",
    "df_meetings = create_activity_df(\n",
    "    hs_access_token,\n",
    "    contact_id,\n",
    "    \"meetings\",\n",
    "    properties_dict,\n",
    ")\n",
    "df_meetings"
   ]
  },
  {
   "cell_type": "markdown",
   "id": "77c1ad79-3946-482c-a038-32c96962a3be",
   "metadata": {
    "papermill": {},
    "tags": []
   },
   "source": [
    "### Get communications associated to contact"
   ]
  },
  {
   "cell_type": "code",
   "execution_count": null,
   "id": "8653a36c-ac45-488c-8afe-fa58cd41a748",
   "metadata": {
    "papermill": {},
    "tags": []
   },
   "outputs": [],
   "source": [
    "properties_dict = {\n",
    "    \"hs_object_id\": \"activity_hs_id\",\n",
    "    \"hs_lastmodifieddate\": \"activity_date\",\n",
    "    \"hs_communication_channel_type\": \"activity_type\",\n",
    "    \"hs_body_preview\": \"activity_content\"\n",
    "}\n",
    "\n",
    "df_communications = create_activity_df(\n",
    "    hs_access_token,\n",
    "    contact_id,\n",
    "    \"communications\",\n",
    "    properties_dict\n",
    ")\n",
    "df_communications"
   ]
  },
  {
   "cell_type": "markdown",
   "id": "75603539-39f4-401e-87e9-27aa80182cf3",
   "metadata": {
    "papermill": {},
    "tags": []
   },
   "source": [
    "### Create activity DataFrame with contact details"
   ]
  },
  {
   "cell_type": "code",
   "execution_count": null,
   "id": "b02ae973-d5ee-4d73-9938-716e9a8ce615",
   "metadata": {
    "papermill": {},
    "tags": []
   },
   "outputs": [],
   "source": [
    "contact_properties"
   ]
  },
  {
   "cell_type": "markdown",
   "id": "6e9729cd-8e75-4c13-a06c-87afb9923e53",
   "metadata": {
    "papermill": {},
    "tags": []
   },
   "source": [
    "## Output"
   ]
  },
  {
   "cell_type": "markdown",
   "id": "f09fcd0a-5b7f-4a96-9822-f4a6995a6ac0",
   "metadata": {
    "execution": {
     "iopub.execute_input": "2023-08-21T14:13:58.779716Z",
     "iopub.status.busy": "2023-08-21T14:13:58.779474Z",
     "iopub.status.idle": "2023-08-21T14:13:58.784746Z",
     "shell.execute_reply": "2023-08-21T14:13:58.784135Z",
     "shell.execute_reply.started": "2023-08-21T14:13:58.779693Z"
    },
    "papermill": {},
    "tags": []
   },
   "source": [
    "### Save DataFrame to CSV"
   ]
  },
  {
   "cell_type": "code",
   "execution_count": null,
   "id": "62e3f7af-5383-45fc-b5ec-31796a179f34",
   "metadata": {
    "papermill": {},
    "tags": []
   },
   "outputs": [],
   "source": [
    "df_activity.to_csv(f\"contact_activity_{contact_id}.csv\", index=False)"
   ]
  },
  {
   "cell_type": "markdown",
   "id": "d12c841e-5924-4e79-b565-88295343ba0c",
   "metadata": {
    "papermill": {},
    "tags": []
   },
   "source": [
    " "
   ]
  }
 ],
 "metadata": {
  "kernelspec": {
   "display_name": "Python 3",
   "language": "python",
   "name": "python3"
  },
  "language_info": {
   "codemirror_mode": {
    "name": "ipython",
    "version": 3
   },
   "file_extension": ".py",
   "mimetype": "text/x-python",
   "name": "python",
   "nbconvert_exporter": "python",
   "pygments_lexer": "ipython3",
   "version": "3.9.6"
  },
  "naas": {
   "notebook_id": "06b11cf336c1e0d493eb89898cd3a39adcb000113e2f74b4d12d64c5e7f04932",
   "notebook_path": "HubSpot/HubSpot_Get_activities_from_contact.ipynb"
  },
  "papermill": {
   "default_parameters": {},
   "environment_variables": {},
   "parameters": {},
   "version": "2.4.0"
  },
  "widgets": {
   "application/vnd.jupyter.widget-state+json": {
    "state": {},
    "version_major": 2,
    "version_minor": 0
   }
  }
 },
 "nbformat": 4,
 "nbformat_minor": 5
}
