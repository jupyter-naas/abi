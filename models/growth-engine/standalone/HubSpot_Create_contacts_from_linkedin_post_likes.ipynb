{
 "cells": [
  {
   "cell_type": "markdown",
   "id": "encouraging-netherlands",
   "metadata": {
    "execution": {
     "iopub.execute_input": "2021-01-25T08:00:35.294800Z",
     "iopub.status.busy": "2021-01-25T08:00:35.294557Z",
     "iopub.status.idle": "2021-01-25T08:00:35.307281Z",
     "shell.execute_reply": "2021-01-25T08:00:35.306468Z",
     "shell.execute_reply.started": "2021-01-25T08:00:35.294775Z"
    },
    "papermill": {},
    "tags": []
   },
   "source": [
    "<img width=\"10%\" alt=\"Naas\" src=\"https://landen.imgix.net/jtci2pxwjczr/assets/5ice39g4.png?w=160\"/>"
   ]
  },
  {
   "cell_type": "markdown",
   "id": "suitable-timer",
   "metadata": {
    "papermill": {},
    "tags": []
   },
   "source": [
    "# HubSpot - Create contacts from linkedin post likes\n",
    "<a href=\"https://app.naas.ai/user-redirect/naas/downloader?url=https://raw.githubusercontent.com/jupyter-naas/awesome-notebooks/master/HubSpot/HubSpot_Create_contacts_from_linkedin_post_likes.ipynb\" target=\"_parent\"><img src=\"https://naasai-public.s3.eu-west-3.amazonaws.com/Open_in_Naas_Lab.svg\"/></a><br><br><a href=\"https://bit.ly/3JyWIk6\">Give Feedback</a> | <a href=\"https://github.com/jupyter-naas/awesome-notebooks/issues/new?assignees=&labels=bug&template=bug_report.md&title=HubSpot+-+Create+contacts+from+linkedin+post+likes:+Error+short+description\">Bug report</a>"
   ]
  },
  {
   "cell_type": "markdown",
   "id": "5f8159ba-3a38-469d-a7b8-932db42b090c",
   "metadata": {
    "papermill": {},
    "tags": []
   },
   "source": [
    "**Tags:** #hubspot #crm #sales #contact #naas_drivers #linkedin #post #contact #snippet"
   ]
  },
  {
   "cell_type": "markdown",
   "id": "b39c3fdc-19fa-4c74-9a34-95a0119abedf",
   "metadata": {
    "papermill": {},
    "tags": []
   },
   "source": [
    "**Author:** [Florent Ravenel](https://www.linkedin.com/in/florent-ravenel/)"
   ]
  },
  {
   "cell_type": "markdown",
   "id": "91c0ce6f-29f5-4b66-a99b-3d92ab16024a",
   "metadata": {
    "papermill": {},
    "tags": []
   },
   "source": [
    "**Last update:** 2023-04-12 (Created: 2022-02-21)"
   ]
  },
  {
   "cell_type": "markdown",
   "id": "2812ab44-eead-426b-ba50-d92f38ec2f97",
   "metadata": {
    "execution": {
     "iopub.execute_input": "2022-05-04T15:09:33.115516Z",
     "iopub.status.busy": "2022-05-04T15:09:33.115158Z",
     "iopub.status.idle": "2022-05-04T15:09:33.129981Z",
     "shell.execute_reply": "2022-05-04T15:09:33.128646Z",
     "shell.execute_reply.started": "2022-05-04T15:09:33.115489Z"
    },
    "papermill": {},
    "tags": []
   },
   "source": [
    "**Description:** This notebook create new contacts based on LinkedIn post likes."
   ]
  },
  {
   "cell_type": "markdown",
   "id": "progressive-measure",
   "metadata": {
    "papermill": {},
    "tags": []
   },
   "source": [
    "## Input"
   ]
  },
  {
   "cell_type": "markdown",
   "id": "354a22f1-884a-43c8-b885-b01a79ae1e53",
   "metadata": {
    "papermill": {},
    "tags": []
   },
   "source": [
    "### Import librairies"
   ]
  },
  {
   "cell_type": "code",
   "execution_count": null,
   "id": "polish-singer",
   "metadata": {
    "papermill": {},
    "tags": []
   },
   "outputs": [],
   "source": [
    "from naas_drivers import linkedin, hubspot\n",
    "import naas\n",
    "import requests"
   ]
  },
  {
   "cell_type": "markdown",
   "id": "041a694a-c640-4ac6-930d-e43e35e2d020",
   "metadata": {
    "papermill": {},
    "tags": []
   },
   "source": [
    "### Setup HubSpot\n",
    "👉 Starting November 30, 2022, HubSpot API keys no longer enable access to HubSpot APIs, so in Naas version 2.8.3 and above, you need [create a private app and use the access token](https://developers.hubspot.com/docs/api/private-apps)."
   ]
  },
  {
   "cell_type": "code",
   "execution_count": null,
   "id": "02195776-23ff-4b14-9df3-c18749be67b7",
   "metadata": {
    "papermill": {},
    "tags": []
   },
   "outputs": [],
   "source": [
    "# Enter Your Access Token\n",
    "HS_ACCESS_TOKEN = naas.secret.get(\"HS_ACCESS_TOKEN\") or \"YOUR_HS_ACCESS_TOKEN\""
   ]
  },
  {
   "cell_type": "markdown",
   "id": "preceding-differential",
   "metadata": {
    "papermill": {},
    "tags": []
   },
   "source": [
    "### Setup LinkedIn\n",
    "If you are using the Chrome Extension:\n",
    "\n",
    "- [Install Naas Chrome Extension](https://chrome.google.com/webstore/detail/naas/cpkgfedlkfiknjpkmhcglmjiefnechpp?hl=fr&authuser=0)\n",
    "- [Create a new token](https://app.naas.ai/hub/token)\n",
    "- Copy/Paste your token in your extension\n",
    "- Login/Logout your LinkedIn account\n",
    "- Your secrets \"LINKEDIN_LI_AT\" and \"LINKEDIN_JSESSIONID\" will be added directly on your naas everytime you login and logout.\n",
    "\n",
    "or <br>\n",
    "\n",
    "If you are not using the Google Chrome Extension, [learn how to get your cookies on LinkedIn](https://www.notion.so/LinkedIn-driver-Get-your-cookies-d20a8e7e508e42af8a5b52e33f3dba75) and set up the values below:\n",
    "- 🍪 li_at\n",
    "- 🍪 JSESSIONID"
   ]
  },
  {
   "cell_type": "code",
   "execution_count": null,
   "id": "e9a6cbd5-3b8f-4983-9c64-e257585a0619",
   "metadata": {
    "papermill": {},
    "tags": []
   },
   "outputs": [],
   "source": [
    "# Cookies\n",
    "LI_AT = naas.secret.get(\"LINKEDIN_LI_AT\") or \"YOUR_COOKIE_LI_AT\"\n",
    "JSESSIONID = naas.secret.get(\"LINKEDIN_JSESSIONID\") or \"YOUR_COOKIE_JSESSIONID\"\n",
    "\n",
    "# Post URL\n",
    "POST_URL = \"----\""
   ]
  },
  {
   "cell_type": "markdown",
   "id": "looking-olympus",
   "metadata": {
    "papermill": {},
    "tags": []
   },
   "source": [
    "## Model"
   ]
  },
  {
   "cell_type": "markdown",
   "id": "f56333ea-eee6-481c-b6af-353a09003b2e",
   "metadata": {
    "papermill": {},
    "tags": []
   },
   "source": [
    "### Get post likes"
   ]
  },
  {
   "cell_type": "code",
   "execution_count": null,
   "id": "animal-airport",
   "metadata": {
    "papermill": {},
    "tags": []
   },
   "outputs": [],
   "source": [
    "df_posts = linkedin.connect(LI_AT, JSESSIONID).post.get_likes(POST_URL)\n",
    "\n",
    "# Display the number of likes\n",
    "print(\"Number of likes: \", df_posts.PROFILE_URN.count())"
   ]
  },
  {
   "cell_type": "code",
   "execution_count": null,
   "id": "eef71bc3-fe71-4d91-9047-e17d07f4681a",
   "metadata": {
    "papermill": {},
    "tags": []
   },
   "outputs": [],
   "source": [
    "# Show dataframe with list of profiles from likes\n",
    "df_posts"
   ]
  },
  {
   "cell_type": "markdown",
   "id": "d3839bf3-42de-41ed-b1f7-8a73bffed907",
   "metadata": {
    "papermill": {},
    "tags": []
   },
   "source": [
    "### Create contacts from LinkedIn post likes"
   ]
  },
  {
   "cell_type": "code",
   "execution_count": null,
   "id": "63db7cf8-2b32-4a5c-9834-38dac9953bc4",
   "metadata": {
    "papermill": {},
    "tags": []
   },
   "outputs": [],
   "source": [
    "def create_contacts_from_post(\n",
    "    df,\n",
    "    c_profile_urn=\"PROFILE_URN\",\n",
    "    c_firstname=\"FIRSTNAME\",\n",
    "    c_lastname=\"LASTNAME\",\n",
    "    c_occupation=\"OCCUPATION\",\n",
    "):\n",
    "    for _, row in df.iterrows():\n",
    "        profile_urn = row[c_profile_urn]\n",
    "        firstname = row[c_firstname]\n",
    "        lastname = row[c_lastname]\n",
    "        occupation = row[c_occupation]\n",
    "        linkedinbio = f\"https://www.linkedin.com/in/{profile_urn}\"\n",
    "        email = None\n",
    "        phone = None\n",
    "\n",
    "        # contact\n",
    "        try:\n",
    "            contact = linkedin.connect(LI_AT, JSESSIONID).profile.get_contact(\n",
    "                linkedinbio\n",
    "            )\n",
    "            email = contact.loc[0, \"EMAIL\"]\n",
    "            phone = contact.loc[0, \"PHONENUMBER\"]\n",
    "        except:\n",
    "            print(\"No contact info\")\n",
    "\n",
    "        # With send method\n",
    "        data = {\n",
    "            \"properties\": {\n",
    "                \"linkedinbio\": linkedinbio,\n",
    "                \"firstname\": firstname,\n",
    "                \"lastname\": lastname,\n",
    "                \"jobtitle\": occupation,\n",
    "                \"email\": email,\n",
    "                \"phone\": phone,\n",
    "            }\n",
    "        }\n",
    "        print(data)\n",
    "        hubspot.connect(HS_ACCESS_TOKEN).contacts.send(data)"
   ]
  },
  {
   "cell_type": "markdown",
   "id": "stretch-adobe",
   "metadata": {
    "papermill": {},
    "tags": []
   },
   "source": [
    "## Output"
   ]
  },
  {
   "cell_type": "markdown",
   "id": "suited-mount",
   "metadata": {
    "papermill": {},
    "tags": []
   },
   "source": [
    "### Display result"
   ]
  },
  {
   "cell_type": "code",
   "execution_count": null,
   "id": "7b7503fe-dff4-4d3c-be53-d8eed9894088",
   "metadata": {
    "papermill": {},
    "tags": []
   },
   "outputs": [],
   "source": [
    "create_contacts_from_post(df_posts)"
   ]
  }
 ],
 "metadata": {
  "kernelspec": {
   "display_name": "Python 3",
   "language": "python",
   "name": "python3"
  },
  "language_info": {
   "codemirror_mode": {
    "name": "ipython",
    "version": 3
   },
   "file_extension": ".py",
   "mimetype": "text/x-python",
   "name": "python",
   "nbconvert_exporter": "python",
   "pygments_lexer": "ipython3",
   "version": "3.9.6"
  },
  "naas": {
   "notebook_id": "d11c4d245d38c72a488cf4ef73f193f8c1c6618dc2aeedd06e3aee9ce8b807ac",
   "notebook_path": "HubSpot/HubSpot_Create_contacts_from_linkedin_post_likes.ipynb"
  },
  "papermill": {
   "default_parameters": {},
   "environment_variables": {},
   "parameters": {},
   "version": "2.3.3"
  },
  "widgets": {
   "application/vnd.jupyter.widget-state+json": {
    "state": {},
    "version_major": 2,
    "version_minor": 0
   }
  }
 },
 "nbformat": 4,
 "nbformat_minor": 5
}