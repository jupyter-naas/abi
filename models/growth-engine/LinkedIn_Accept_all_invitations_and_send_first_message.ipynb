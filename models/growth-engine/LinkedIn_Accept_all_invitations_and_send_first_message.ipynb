{
 "cells": [
  {
   "cell_type": "markdown",
   "id": "c706722a",
   "metadata": {
    "papermill": {},
    "tags": []
   },
   "source": [
    "<img width=\"10%\" alt=\"Naas\" src=\"https://landen.imgix.net/jtci2pxwjczr/assets/5ice39g4.png?w=160\"/>\n"
   ]
  },
  {
   "cell_type": "markdown",
   "id": "3cf2d443",
   "metadata": {
    "papermill": {},
    "tags": []
   },
   "source": [
    "# LinkedIn - Accept all invitations and send first message\n",
    "<a href=\"https://app.naas.ai/user-redirect/naas/downloader?url=https://raw.githubusercontent.com/jupyter-naas/awesome-notebooks/master/LinkedIn/LinkedIn_Accept_all_invitations_and_send_first_message.ipynb\" target=\"_parent\"><img src=\"https://naasai-public.s3.eu-west-3.amazonaws.com/Open_in_Naas_Lab.svg\"/></a><br><br><a href=\"https://bit.ly/3JyWIk6\">Give Feedback</a> | <a href=\"https://github.com/jupyter-naas/awesome-notebooks/issues/new?assignees=&labels=bug&template=bug_report.md&title=LinkedIn+-+Accept+all+invitations+and+send+first+message:+Error+short+description\">Bug report</a>"
   ]
  },
  {
   "cell_type": "markdown",
   "id": "1f9921af",
   "metadata": {
    "papermill": {},
    "tags": []
   },
   "source": [
    "**Tags:** #linkedin #content #operations #automation #invitation"
   ]
  },
  {
   "cell_type": "markdown",
   "id": "a51124f7",
   "metadata": {
    "papermill": {},
    "tags": []
   },
   "source": [
    "**Author:** [Florent Ravenel](https://www.linkedin.com/in/ACoAABCNSioBW3YZHc2lBHVG0E_TXYWitQkmwog/)"
   ]
  },
  {
   "cell_type": "markdown",
   "id": "a6d18cef-1657-42b7-82f5-0e3f0444cdb9",
   "metadata": {
    "papermill": {},
    "tags": []
   },
   "source": [
    "**Last update:** 2023-05-29 (Created: 2022-04-05)"
   ]
  },
  {
   "cell_type": "markdown",
   "id": "naas-description",
   "metadata": {
    "papermill": {},
    "tags": [
     "description"
    ]
   },
   "source": [
    "**Description:** This notebook helps you quickly and easily accept all LinkedIn invitations and send a personalized introductory message to each new connection."
   ]
  },
  {
   "cell_type": "markdown",
   "id": "d38f4660-4afb-4970-8a82-03f1136a5a30",
   "metadata": {
    "papermill": {},
    "tags": []
   },
   "source": [
    "\n",
    "<div class=\"alert alert-info\" role=\"info\" style=\"margin: 10px\">\n",
    "<b>Disclaimer:</b><br>\n",
    "This code is in no way affiliated with, authorized, maintained, sponsored or endorsed by Linkedin or any of its affiliates or subsidiaries. It uses an independent and unofficial API. Use at your own risk.\n",
    "\n",
    "This project violates Linkedin's User Agreement Section 8.2, and because of this, Linkedin may (and will) temporarily or permanently ban your account. We are not responsible for your account being banned.\n",
    "<br>\n",
    "</div>"
   ]
  },
  {
   "cell_type": "markdown",
   "id": "ce6f8812",
   "metadata": {
    "papermill": {},
    "tags": []
   },
   "source": [
    "## Input"
   ]
  },
  {
   "cell_type": "markdown",
   "id": "51403d71",
   "metadata": {
    "papermill": {},
    "tags": []
   },
   "source": [
    "### Import libraries\n"
   ]
  },
  {
   "cell_type": "code",
   "execution_count": null,
   "id": "8adb0287",
   "metadata": {
    "papermill": {},
    "tags": []
   },
   "outputs": [],
   "source": [
    "import naas\n",
    "from naas_drivers import linkedin\n",
    "import pandas as pd\n",
    "import openai"
   ]
  },
  {
   "cell_type": "markdown",
   "id": "13eed96d-170b-4975-b78e-3c19d2720886",
   "metadata": {
    "papermill": {},
    "tags": []
   },
   "source": [
    "### Setup variables\n",
    "[Learn how to get your cookies on LinkedIn](https://www.notion.so/LinkedIn-driver-Get-your-cookies-d20a8e7e508e42af8a5b52e33f3dba75)\n",
    "- `li_at`: Cookie used to authenticate Members and API clients.\n",
    "- `JSESSIONID`: Cookie used for Cross Site Request Forgery (CSRF) protection and URL signature validation.\n",
    "- `cron`: Cron params for naas scheduler. More information: https://crontab.guru/\n",
    "- `first_message`: First message to be sent\n",
    "- `limit`: Number of invitations to be sent\n",
    "\n",
    "[Get your OpenAI API key here](https://openai.com/docs/api-overview/)\n",
    "- `openai_api_key`: This is your API key for OpenAI. It's used to authenticate your application's requests to the OpenAI API.\n",
    "- `prompt`: This is a string that's used as a prompt for OpenAI's text generation API. It will be help you classify people that interacted with your post"
   ]
  },
  {
   "cell_type": "code",
   "execution_count": null,
   "id": "b3534087",
   "metadata": {
    "papermill": {},
    "tags": []
   },
   "outputs": [],
   "source": [
    "li_at = naas.secret.get(\"LINKEDIN_LI_AT\") or \"YOUR_COOKIE_LI_AT\"\n",
    "JSESSIONID = naas.secret.get(\"LINKEDIN_JSESSIONID\") or \"YOUR_COOKIE_JSESSIONID\"\n",
    "cron = \"0 9 * * FRI\"\n",
    "first_message = \"Hello [FIRSTNAME], glad to connect with you, can I help in any way?\"\n",
    "limit = 30\n",
    "\n",
    "openai_api_key = naas.secret.get(\"OPENAI_API_KEY\") or \"YOUR_OPENAI_API_KEY\"\n",
    "prompt = f\"\"\"\n",
    "I am building Naas, the Universal open source data plaform.\n",
    "I have 2 ideal customer profile, one is a 'data producer' with basic knowledge of Python that could use our Notebook templates to create plugins. \n",
    "These plugions are then distributed data via our NaasAI Chat interface. \n",
    "The other one is a 'data consummer' that will enjoy using NaasAI Chat for its basic LLMs integration but also interested in having its own data available, hence work with the data producer. \n",
    "I will give you the [OCCUPATION] from a profile I get from LinkedIn, you will return stricly and only one of the following values inside the simple quotes based on the best match 'DataProducer', 'DataConsumer', 'NotICP' or 'Don't know' if you don't find a plausible match with the first 3 values.\n",
    "Don't put the results into quotes.\n",
    "\"\"\""
   ]
  },
  {
   "cell_type": "markdown",
   "id": "502127ba",
   "metadata": {
    "papermill": {},
    "tags": []
   },
   "source": [
    "## Model"
   ]
  },
  {
   "cell_type": "markdown",
   "id": "bd4787d3",
   "metadata": {
    "papermill": {},
    "tags": []
   },
   "source": [
    "### Get invitations received"
   ]
  },
  {
   "cell_type": "code",
   "execution_count": null,
   "id": "8b876f0b",
   "metadata": {
    "papermill": {},
    "tags": []
   },
   "outputs": [],
   "source": [
    "df_invitation = linkedin.connect(li_at, JSESSIONID).invitation.get_received()\n",
    "df_invitation"
   ]
  },
  {
   "cell_type": "markdown",
   "id": "e4f8f513-6472-41a0-8d1f-c11d7c7e229d",
   "metadata": {
    "execution": {
     "iopub.execute_input": "2023-08-29T13:57:04.518642Z",
     "iopub.status.busy": "2023-08-29T13:57:04.518416Z",
     "iopub.status.idle": "2023-08-29T13:57:04.521520Z",
     "shell.execute_reply": "2023-08-29T13:57:04.520843Z",
     "shell.execute_reply.started": "2023-08-29T13:57:04.518619Z"
    },
    "tags": []
   },
   "source": [
    "### Add ICP"
   ]
  },
  {
   "cell_type": "code",
   "execution_count": null,
   "id": "4c680b64-5759-499b-b423-752e01b92158",
   "metadata": {},
   "outputs": [],
   "source": [
    "def predict_category(\n",
    "    openai_api_key,\n",
    "    prompt,\n",
    "    summary\n",
    "):\n",
    "    # Return TBD if not openai key is set\n",
    "    if not openai_api_key:\n",
    "        return \"TBD\"\n",
    "    \n",
    "    # Connect to openai\n",
    "    openai.api_key = openai_api_key\n",
    "    \n",
    "    if summary:\n",
    "        prompt = prompt.replace(\"[OCCUPATION]\", summary)\n",
    "    else:\n",
    "        return \"NotICP\"\n",
    "\n",
    "    response = openai.Completion.create(\n",
    "        engine=\"text-davinci-003\",\n",
    "        prompt=prompt,\n",
    "        temperature=0,\n",
    "        max_tokens=60\n",
    "    )\n",
    "    return response.choices[0].text.split(\"\\n\")[-1].strip()\n",
    "\n",
    "df_icp = df_invitation.copy()\n",
    "df_icp['ICP'] = df_icp.apply(lambda row: predict_category(openai_api_key, prompt, row[\"OCCUPATION\"]), axis=1)\n",
    "df_icp = df_icp[df_icp[\"ICP\"] != \"NotICP\"][:limit].reset_index(drop=True)\n",
    "print(\"People ICP:\", len(df_icp))\n",
    "df_icp.head(1)"
   ]
  },
  {
   "cell_type": "markdown",
   "id": "84cfe026",
   "metadata": {
    "papermill": {},
    "tags": []
   },
   "source": [
    "## Output\n"
   ]
  },
  {
   "cell_type": "markdown",
   "id": "d648529b",
   "metadata": {
    "papermill": {},
    "tags": []
   },
   "source": [
    "### Accept pending invitations received from \"Profile\""
   ]
  },
  {
   "cell_type": "code",
   "execution_count": null,
   "id": "2b63456d",
   "metadata": {
    "papermill": {},
    "tags": []
   },
   "outputs": [],
   "source": [
    "def accept_new_contact(df):\n",
    "    df_accept = pd.DataFrame()\n",
    "\n",
    "    # Loop\n",
    "    for index, row in df.iterrows():\n",
    "        fullname = row.FULLNAME\n",
    "        status = row.INVITATION_STATUS\n",
    "        invitation_id = row.INVITATION_ID\n",
    "        shared_secret = row.SHARED_SECRET\n",
    "        if status == \"PENDING\":\n",
    "            print(fullname)\n",
    "            tmp_df = linkedin.connect(li_at, JSESSIONID).invitation.accept(\n",
    "                invitation_id, shared_secret\n",
    "            )\n",
    "            df_accept = pd.concat([df_accept, tmp_df])\n",
    "    return df_accept\n",
    "\n",
    "\n",
    "df_accept = accept_new_contact(df_icp)\n",
    "df_accept"
   ]
  },
  {
   "cell_type": "markdown",
   "id": "74e07ab8-2c0a-4fe0-a28c-c33ab5dc3da9",
   "metadata": {
    "papermill": {},
    "tags": []
   },
   "source": [
    "### Send first message to contact"
   ]
  },
  {
   "cell_type": "code",
   "execution_count": null,
   "id": "3948e97b-32e8-4352-9294-630f4b2d006a",
   "metadata": {
    "papermill": {},
    "tags": []
   },
   "outputs": [],
   "source": [
    "def send_first_message(df):\n",
    "    # Loop\n",
    "    for index, row in df.iterrows():\n",
    "        fullname = row.FULLNAME\n",
    "        firstname = row.FIRSTNAME\n",
    "        profile_id = row.PROFILE_ID\n",
    "        print(fullname)\n",
    "        first_message = first_message.replace(\"[FIRSTNAME]\", firstname)\n",
    "        linkedin.connect(li_at, JSESSIONID).message.send(first_message, profile_id)\n",
    "\n",
    "send_first_message(df_accept)"
   ]
  },
  {
   "cell_type": "markdown",
   "id": "4e4d7984",
   "metadata": {
    "papermill": {},
    "tags": []
   },
   "source": [
    "### Add Scheduler"
   ]
  },
  {
   "cell_type": "code",
   "execution_count": null,
   "id": "1739f078",
   "metadata": {
    "papermill": {},
    "tags": []
   },
   "outputs": [],
   "source": [
    "# Schedule your notebook every hour\n",
    "naas.scheduler.add(cron=cron)\n",
    "\n",
    "# -> Uncomment the line below to remove your scheduler\n",
    "# naas.scheduler.delete()"
   ]
  }
 ],
 "metadata": {
  "kernelspec": {
   "display_name": "Python 3",
   "language": "python",
   "name": "python3"
  },
  "language_info": {
   "codemirror_mode": {
    "name": "ipython",
    "version": 3
   },
   "file_extension": ".py",
   "mimetype": "text/x-python",
   "name": "python",
   "nbconvert_exporter": "python",
   "pygments_lexer": "ipython3",
   "version": "3.9.6"
  },
  "naas": {
   "notebook_id": "9f5596b26533283a108fba2a2dfd62794659f196cef87ccc1649802a6a85844d",
   "notebook_path": "LinkedIn/LinkedIn_Accept_all_invitations_and_send_first_message.ipynb"
  },
  "papermill": {
   "default_parameters": {},
   "environment_variables": {},
   "parameters": {},
   "version": "2.3.4"
  }
 },
 "nbformat": 4,
 "nbformat_minor": 5
}
