{
 "cells": [
  {
   "cell_type": "markdown",
   "id": "2833db14-cc5e-44ef-af36-f0c086491e74",
   "metadata": {
    "papermill": {},
    "tags": []
   },
   "source": [
    "<img width=\"8%\" alt=\"Naas.png\" src=\"https://raw.githubusercontent.com/jupyter-naas/awesome-notebooks/master/.github/assets/logos/Naas.png\" style=\"border-radius: 15%\">"
   ]
  },
  {
   "cell_type": "markdown",
   "id": "substantial-decline",
   "metadata": {
    "papermill": {},
    "tags": []
   },
   "source": [
    "# Setup"
   ]
  },
  {
   "cell_type": "markdown",
   "id": "164246f2-2bcf-4103-822e-cd8086c439bd",
   "metadata": {},
   "source": [
    "### Schedule pipeline"
   ]
  },
  {
   "cell_type": "code",
   "execution_count": null,
   "id": "00f0ea65-6ff9-412d-9cb9-0b619de43ce1",
   "metadata": {
    "tags": []
   },
   "outputs": [],
   "source": [
    "import naas\n",
    "\n",
    "file_path = \"__pipeline__.ipynb\"\n",
    "cron = \"0 8 * * *\"\n",
    "naas.scheduler.add(file_path, cron=cron)\n",
    "\n",
    "# Uncomment the line below to delete your automation\n",
    "# naas.scheduler.delete(file_path)"
   ]
  },
  {
   "cell_type": "markdown",
   "id": "9f4c7936-41c1-4746-9573-4a7ff8dbdc16",
   "metadata": {},
   "source": [
    "### Add pipeline templates to dependencies"
   ]
  },
  {
   "cell_type": "code",
   "execution_count": null,
   "id": "d2b4e7b1-914f-40a0-8d3a-b8757b8c6d59",
   "metadata": {
    "tags": []
   },
   "outputs": [],
   "source": [
    "import naas\n",
    "import glob\n",
    "\n",
    "pipeline_templates = glob.glob(\"pipeline_templates/*.ipynb\")\n",
    "files = pipeline_templates + [\"__plugin__.ipynb\"]\n",
    "\n",
    "for file in files: \n",
    "    naas.dependency.add(file)\n",
    "    \n",
    "#     # Uncomment the line below to delete your dependencies\n",
    "#     naas.dependency.delete(file)"
   ]
  },
  {
   "cell_type": "markdown",
   "id": "6d63d4d2-f76f-4e81-b559-2ef3707c9a2d",
   "metadata": {},
   "source": [
    "### Add utils to dependencies"
   ]
  },
  {
   "cell_type": "code",
   "execution_count": null,
   "id": "199d7d95-7192-448d-81b0-e635e1aba45b",
   "metadata": {
    "tags": []
   },
   "outputs": [],
   "source": [
    "import naas\n",
    "import glob\n",
    "import naas_data_product\n",
    "\n",
    "files = glob.glob(f\"{naas_data_product.UTILS_PATH}/*.ipynb\")\n",
    "\n",
    "for file in files: \n",
    "    naas.dependency.add(file)\n",
    "    \n",
    "#     # Uncomment the line below to delete your dependencies\n",
    "#     naas.dependency.delete(file)"
   ]
  },
  {
   "cell_type": "code",
   "execution_count": null,
   "id": "2d05db4e-3d3e-4792-b59b-f0eb1ec2cb0c",
   "metadata": {},
   "outputs": [],
   "source": []
  }
 ],
 "metadata": {
  "kernelspec": {
   "display_name": "Python 3",
   "language": "python",
   "name": "python3"
  },
  "language_info": {
   "codemirror_mode": {
    "name": "ipython",
    "version": 3
   },
   "file_extension": ".py",
   "mimetype": "text/x-python",
   "name": "python",
   "nbconvert_exporter": "python",
   "pygments_lexer": "ipython3",
   "version": "3.9.6"
  },
  "naas": {
   "notebook_id": "77b7f93a-fb2a-483e-b98b-80735e426a64",
   "notebook_path": "Naas/Naas_Secret_demo.ipynb"
  },
  "papermill": {
   "default_parameters": {},
   "environment_variables": {},
   "parameters": {},
   "version": "2.3.3"
  },
  "toc-autonumbering": false,
  "widgets": {
   "application/vnd.jupyter.widget-state+json": {
    "state": {},
    "version_major": 2,
    "version_minor": 0
   }
  }
 },
 "nbformat": 4,
 "nbformat_minor": 5
}
