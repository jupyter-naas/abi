{
 "cells": [
  {
   "cell_type": "markdown",
   "id": "international-creativity",
   "metadata": {
    "papermill": {},
    "tags": []
   },
   "source": [
    "<img width=\"8%\" alt=\"Google Sheets.png\" src=\"https://raw.githubusercontent.com/jupyter-naas/awesome-notebooks/master/.github/assets/logos/Google%20Sheets.png\" style=\"border-radius: 15%\">"
   ]
  },
  {
   "cell_type": "markdown",
   "id": "unlimited-bookmark",
   "metadata": {
    "papermill": {},
    "tags": []
   },
   "source": [
    "# Google Sheets - Send content database to spreadsheet"
   ]
  },
  {
   "cell_type": "markdown",
   "id": "tags_cell",
   "metadata": {
    "papermill": {},
    "tags": []
   },
   "source": [
    "**Tags:** #googlesheets #gsheet #data #naas_drivers #operations #snippet"
   ]
  },
  {
   "cell_type": "markdown",
   "id": "fbbbbc71-6333-4a70-b371-c9b82f8b5299",
   "metadata": {
    "papermill": {},
    "tags": []
   },
   "source": [
    "**Author:** [Florent Ravenel](https://www.linkedin.com/in/florent-ravenel/)"
   ]
  },
  {
   "cell_type": "markdown",
   "id": "naas-description",
   "metadata": {
    "papermill": {},
    "tags": [
     "description"
    ]
   },
   "source": [
    "**Description:** This notebook streamlines the process of getting your content published, enhancing it with topics, and sending it to a Google Sheets spreadsheet."
   ]
  },
  {
   "cell_type": "markdown",
   "id": "input_cell",
   "metadata": {
    "papermill": {},
    "tags": []
   },
   "source": [
    "## Input"
   ]
  },
  {
   "cell_type": "markdown",
   "id": "55d9e878-2148-47e3-a13d-09ba77202893",
   "metadata": {
    "papermill": {},
    "tags": []
   },
   "source": [
    "### Import libraries"
   ]
  },
  {
   "cell_type": "code",
   "execution_count": 1,
   "id": "5fad521a-4a18-4dc7-b13d-98a37172715b",
   "metadata": {
    "execution": {
     "iopub.execute_input": "2024-01-18T10:24:09.284355Z",
     "iopub.status.busy": "2024-01-18T10:24:09.284073Z",
     "iopub.status.idle": "2024-01-18T10:24:25.333518Z",
     "shell.execute_reply": "2024-01-18T10:24:25.332721Z",
     "shell.execute_reply.started": "2024-01-18T10:24:09.284286Z"
    },
    "papermill": {},
    "tags": []
   },
   "outputs": [
    {
     "name": "stdout",
     "output_type": "stream",
     "text": [
      "✅ utils file '/home/ftp/abi/utils/data.ipynb' successfully loaded.\n",
      "✅ utils file '/home/ftp/abi/utils/llm.ipynb' successfully loaded.\n",
      "✅ utils file '/home/ftp/abi/utils/naas_chat_plugin.ipynb' successfully loaded.\n",
      "✅ utils file '/home/ftp/abi/utils/naas_lab.ipynb' successfully loaded.\n"
     ]
    }
   ],
   "source": [
    "from naas_drivers import gsheet\n",
    "import pandas as pd\n",
    "import os\n",
    "from datetime import date\n",
    "import naas_data_product"
   ]
  },
  {
   "cell_type": "markdown",
   "id": "ec39e794-a8cd-41b8-9489-9ddb962a601c",
   "metadata": {
    "papermill": {},
    "tags": []
   },
   "source": [
    "### Setup variables\n",
    "**Inputs**\n",
    "- `entity_dir`: This variable represents the entity directory.\n",
    "- `entity_name`: This variable holds the entity name.\n",
    "- `input_dir`: Input directory to retrieve file from.\n",
    "- `file_name`: Name of the file to be retrieved.\n",
    "\n",
    "**Outputs**\n",
    "- `spreadsheet_url`: Google Sheets spreadsheet URL.\n",
    "- `sheet_name`: Google Sheets sheet name.\n",
    "- `output_dir`: Output directory\n",
    "- `file_content`: Name of the file to be saved in your local."
   ]
  },
  {
   "cell_type": "code",
   "execution_count": 2,
   "id": "7c34bff6-9136-4aaf-a692-b38129b7de83",
   "metadata": {
    "execution": {
     "iopub.execute_input": "2024-01-18T10:24:25.339032Z",
     "iopub.status.busy": "2024-01-18T10:24:25.337280Z",
     "iopub.status.idle": "2024-01-18T10:24:25.409554Z",
     "shell.execute_reply": "2024-01-18T10:24:25.408838Z",
     "shell.execute_reply.started": "2024-01-18T10:24:25.338997Z"
    },
    "papermill": {},
    "tags": [
     "parameters"
    ]
   },
   "outputs": [],
   "source": [
    "# Inputs\n",
    "entity_dir = pload(os.path.join(naas_data_product.OUTPUTS_PATH, \"entities\", \"0\"), \"entity_dir\") or \"\"\n",
    "entity_name = pload(os.path.join(naas_data_product.OUTPUTS_PATH, \"entities\", \"0\"), \"entity_name\") or \"\"\n",
    "input_dir = os.path.join(entity_dir, \"content-engine\", date.today().isoformat())\n",
    "file_name = \"linkedin_posts\"\n",
    "\n",
    "# Outputs\n",
    "spreadsheet_url = pload(os.path.join(naas_data_product.OUTPUTS_PATH, \"entities\", \"0\"), \"abi_spreadsheet\") or \"\"\n",
    "sheet_name = \"CONTENT\"\n",
    "output_dir = os.path.join(entity_dir, \"content-engine\", date.today().isoformat())\n",
    "file_content = \"content\""
   ]
  },
  {
   "cell_type": "markdown",
   "id": "model_cell",
   "metadata": {
    "papermill": {},
    "tags": []
   },
   "source": [
    "## Model"
   ]
  },
  {
   "cell_type": "markdown",
   "id": "b82dbc1b-acf3-4e44-8dac-e4f631787afa",
   "metadata": {
    "papermill": {},
    "tags": []
   },
   "source": [
    "### Get content"
   ]
  },
  {
   "cell_type": "code",
   "execution_count": 3,
   "id": "34407369-03a1-45c4-9768-03222224612b",
   "metadata": {
    "execution": {
     "iopub.execute_input": "2024-01-18T10:24:25.415345Z",
     "iopub.status.busy": "2024-01-18T10:24:25.413698Z",
     "iopub.status.idle": "2024-01-18T10:24:26.231647Z",
     "shell.execute_reply": "2024-01-18T10:24:26.230968Z",
     "shell.execute_reply.started": "2024-01-18T10:24:25.415310Z"
    },
    "papermill": {},
    "tags": []
   },
   "outputs": [
    {
     "name": "stdout",
     "output_type": "stream",
     "text": [
      "- Content db (init): 21\n"
     ]
    },
    {
     "data": {
      "text/html": [
       "<div>\n",
       "<style scoped>\n",
       "    .dataframe tbody tr th:only-of-type {\n",
       "        vertical-align: middle;\n",
       "    }\n",
       "\n",
       "    .dataframe tbody tr th {\n",
       "        vertical-align: top;\n",
       "    }\n",
       "\n",
       "    .dataframe thead th {\n",
       "        text-align: right;\n",
       "    }\n",
       "</style>\n",
       "<table border=\"1\" class=\"dataframe\">\n",
       "  <thead>\n",
       "    <tr style=\"text-align: right;\">\n",
       "      <th></th>\n",
       "      <th>ENTITY</th>\n",
       "      <th>SCENARIO</th>\n",
       "      <th>SOURCE</th>\n",
       "      <th>PUBLISHED_DATE</th>\n",
       "      <th>DATE</th>\n",
       "      <th>TIME</th>\n",
       "      <th>TITLE</th>\n",
       "      <th>CONTENT</th>\n",
       "      <th>CONTENT_LENGTH</th>\n",
       "      <th>KEYWORDS</th>\n",
       "      <th>VIEWS</th>\n",
       "      <th>LIKES</th>\n",
       "      <th>COMMENTS</th>\n",
       "      <th>SHARES</th>\n",
       "      <th>ENGAGEMENT_SCORE</th>\n",
       "      <th>CONTENT_URL</th>\n",
       "      <th>DATE_EXTRACT</th>\n",
       "    </tr>\n",
       "  </thead>\n",
       "  <tbody>\n",
       "    <tr>\n",
       "      <th>0</th>\n",
       "      <td>Jérémy Ravenel</td>\n",
       "      <td>W03-2024</td>\n",
       "      <td>LinkedIn</td>\n",
       "      <td>2024-01-17 08:42:38+0100</td>\n",
       "      <td>Wed. 17 Jan.</td>\n",
       "      <td>08H42</td>\n",
       "      <td>🎙️🔴 Episode 2 of the D.R.E.A.M. Podcast with J...</td>\n",
       "      <td>🎙️🔴 Episode 2 of the D.R.E.A.M. Podcast with J...</td>\n",
       "      <td>1452</td>\n",
       "      <td>NA</td>\n",
       "      <td>0</td>\n",
       "      <td>25</td>\n",
       "      <td>10</td>\n",
       "      <td>1</td>\n",
       "      <td>0.0</td>\n",
       "      <td>https://www.linkedin.com/feed/update/urn:li:ac...</td>\n",
       "      <td>2024-01-18 08:01:41+0100</td>\n",
       "    </tr>\n",
       "  </tbody>\n",
       "</table>\n",
       "</div>"
      ],
      "text/plain": [
       "           ENTITY  SCENARIO    SOURCE            PUBLISHED_DATE          DATE  \\\n",
       "0  Jérémy Ravenel  W03-2024  LinkedIn  2024-01-17 08:42:38+0100  Wed. 17 Jan.   \n",
       "\n",
       "    TIME                                              TITLE  \\\n",
       "0  08H42  🎙️🔴 Episode 2 of the D.R.E.A.M. Podcast with J...   \n",
       "\n",
       "                                             CONTENT  CONTENT_LENGTH KEYWORDS  \\\n",
       "0  🎙️🔴 Episode 2 of the D.R.E.A.M. Podcast with J...            1452       NA   \n",
       "\n",
       "   VIEWS  LIKES  COMMENTS  SHARES  ENGAGEMENT_SCORE  \\\n",
       "0      0     25        10       1               0.0   \n",
       "\n",
       "                                         CONTENT_URL              DATE_EXTRACT  \n",
       "0  https://www.linkedin.com/feed/update/urn:li:ac...  2024-01-18 08:01:41+0100  "
      ]
     },
     "execution_count": 3,
     "metadata": {},
     "output_type": "execute_result"
    }
   ],
   "source": [
    "df_init = gsheet.connect(spreadsheet_url).get(sheet_name=sheet_name)\n",
    "if not isinstance(df_init, pd.DataFrame):\n",
    "    df_init = pd.DataFrame()\n",
    "print(\"- Content db (init):\", len(df_init))\n",
    "df_init.head(1)"
   ]
  },
  {
   "cell_type": "markdown",
   "id": "1568d91f-f088-4461-8911-95d8ad591229",
   "metadata": {},
   "source": [
    "### Get posts"
   ]
  },
  {
   "cell_type": "code",
   "execution_count": null,
   "id": "57461362-178a-4dbd-81d1-dd27a6291c47",
   "metadata": {
    "tags": []
   },
   "outputs": [],
   "source": [
    "df_posts = pload(input_dir, file_name)    \n",
    "print(\"- New content published:\", len(df_posts))\n",
    "df_posts.head(len(df_posts))"
   ]
  },
  {
   "cell_type": "markdown",
   "id": "1683da4f-41e3-4e11-9c3a-bf01af8ebefe",
   "metadata": {},
   "source": [
    "### Cleaning data"
   ]
  },
  {
   "cell_type": "code",
   "execution_count": null,
   "id": "6823374f-9255-4e54-a125-c8be746acdd4",
   "metadata": {
    "tags": []
   },
   "outputs": [],
   "source": [
    "def create_db(\n",
    "    df_new,\n",
    "    df_init,\n",
    "    entity_name\n",
    "):\n",
    "    # Init\n",
    "    df = df_new.copy()\n",
    "    \n",
    "    # Format published date\n",
    "    df[\"PUBLISHED_DATE\"] = pd.to_datetime(df['PUBLISHED_DATE'].str[:19], format='%Y-%m-%d %H:%M:%S').dt.tz_localize(pytz.timezone(\"Europe/Paris\")).dt.tz_convert(TIMEZONE).dt.strftime(\"%Y-%m-%d %H:%M:%S%z\")\n",
    "    df[\"DATE_EXTRACT\"] = pd.to_datetime(df['DATE_EXTRACT'].str[:19], format='%Y-%m-%d %H:%M:%S').dt.tz_localize(pytz.timezone(\"Europe/Paris\")).dt.tz_convert(TIMEZONE).dt.strftime(\"%Y-%m-%d %H:%M:%S%z\")\n",
    "\n",
    "    # Cleaning: if title is None and Content = 'Video (native)' -> \"Live\"\n",
    "    df.loc[(df[\"TITLE\"].astype(str) == 'None') & (df[\"CONTENT\"] == 'Video (native)'), \"TITLE\"] = \"Live\"\n",
    "    df.loc[df[\"TITLE\"].astype(str) == 'Live', \"TEXT\"] = \"Live\"\n",
    "    \n",
    "    # Cleaning: rename columns + None to NA\n",
    "    to_rename = {\n",
    "        \"POST_URL\": \"CONTENT_URL\",\n",
    "        \"TEXT\": \"CONTENT\",\n",
    "        \"CHARACTER_COUNT\": \"CONTENT_LENGTH\",\n",
    "        \"TAGS\": \"KEYWORDS\",\n",
    "    }\n",
    "    df = df.drop([\"CONTENT_URL\", \"CONTENT\"], axis=1).rename(columns=to_rename)\n",
    "    df.KEYWORDS = df.KEYWORDS.astype(str).str.replace(\"None\", \"NA\")\n",
    "    df.insert(loc=0, column=\"ENTITY\", value=entity_name)\n",
    "    \n",
    "    # Select\n",
    "    to_select = [\n",
    "        \"ENTITY\",\n",
    "        \"PUBLISHED_DATE\",\n",
    "        \"TITLE\",\n",
    "        \"CONTENT\",\n",
    "        \"CONTENT_LENGTH\",\n",
    "        \"KEYWORDS\",\n",
    "        \"VIEWS\",\n",
    "        \"LIKES\",\n",
    "        \"COMMENTS\",\n",
    "        \"SHARES\",\n",
    "        \"ENGAGEMENT_SCORE\",\n",
    "        \"CONTENT_URL\",\n",
    "        \"DATE_EXTRACT\"\n",
    "    ]\n",
    "    df = df[to_select]\n",
    "    \n",
    "    # Add new data\n",
    "    df.insert(loc=1, column=\"SCENARIO\", value=pd.to_datetime(df['PUBLISHED_DATE'].str[:19], format='%Y-%m-%d %H:%M:%S').dt.strftime(\"W%W-%Y\"))\n",
    "    df.insert(loc=2, column=\"SOURCE\", value=\"LinkedIn\")\n",
    "    df.insert(loc=4, column=\"DATE\", value=pd.to_datetime(df['PUBLISHED_DATE'].str[:19], format='%Y-%m-%d %H:%M:%S').dt.strftime(\"%a. %d %b.\"))\n",
    "    df.insert(loc=5, column=\"TIME\", value=pd.to_datetime(df['PUBLISHED_DATE'].str[:19], format='%Y-%m-%d %H:%M:%S').dt.strftime('%HH%M'))\n",
    "    \n",
    "    # Concat with init\n",
    "    if len(df_init) > 0:\n",
    "        df = pd.concat([df, df_init], axis=0)\n",
    "        df = df.drop_duplicates(\"CONTENT_URL\", keep='first')\n",
    "        \n",
    "    # Sort values\n",
    "    df[\"SCENARIO_ORDER\"] = pd.to_datetime(df['PUBLISHED_DATE'].str[:19], format='%Y-%m-%d %H:%M:%S').dt.strftime(\"%Y%W\")\n",
    "    df = df.sort_values(by=[\"SCENARIO_ORDER\", \"ENTITY\", \"PUBLISHED_DATE\"], ascending=[False, True, False])\n",
    "    return df.reset_index(drop=True)\n",
    "    \n",
    "df_content = create_db(df_posts, df_init, entity_name)\n",
    "print(\"- Content db:\", len(df_content))\n",
    "df_content.head(len(df_posts))"
   ]
  },
  {
   "cell_type": "markdown",
   "id": "output_cell",
   "metadata": {
    "papermill": {},
    "tags": []
   },
   "source": [
    "## Output"
   ]
  },
  {
   "cell_type": "markdown",
   "id": "03167fbc-99a5-45a4-b186-522f54ce7db6",
   "metadata": {
    "papermill": {},
    "tags": []
   },
   "source": [
    "### Save data"
   ]
  },
  {
   "cell_type": "code",
   "execution_count": null,
   "id": "78cf636b-20c1-4e2e-b6dd-23ac07fbfa46",
   "metadata": {
    "papermill": {},
    "tags": []
   },
   "outputs": [],
   "source": [
    "pdump(output_dir, df_content, file_content)"
   ]
  },
  {
   "cell_type": "markdown",
   "id": "28b11537-6391-4022-b55d-dd1f84cbe97f",
   "metadata": {
    "papermill": {},
    "tags": []
   },
   "source": [
    "### Send \"Content\" to Google Sheets spreadsheet"
   ]
  },
  {
   "cell_type": "code",
   "execution_count": null,
   "id": "32e91b35-c1f8-4fe6-ae78-a2d4b79c8be7",
   "metadata": {
    "papermill": {},
    "tags": []
   },
   "outputs": [],
   "source": [
    "df_check = pd.concat([df_init.astype(str), df_content.astype(str)]).drop_duplicates(keep=False)\n",
    "if len(df_check) > 0:\n",
    "    gsheet.connect(spreadsheet_url).send(sheet_name=sheet_name, data=df_content, append=False)\n",
    "else:\n",
    "    print(\"Noting to update in Google Sheets!\")"
   ]
  },
  {
   "cell_type": "code",
   "execution_count": null,
   "id": "13cc4241-9a56-4495-9369-bf3de2bcfb42",
   "metadata": {},
   "outputs": [],
   "source": []
  }
 ],
 "metadata": {
  "kernelspec": {
   "display_name": "Python 3",
   "language": "python",
   "name": "python3"
  },
  "language_info": {
   "codemirror_mode": {
    "name": "ipython",
    "version": 3
   },
   "file_extension": ".py",
   "mimetype": "text/x-python",
   "name": "python",
   "nbconvert_exporter": "python",
   "pygments_lexer": "ipython3",
   "version": "3.9.6"
  },
  "naas": {
   "notebook_id": "cf32ecf61a1d6fdcae3273e7e70026564087776ace44ace0a939c08a2085586f",
   "notebook_path": "Google Sheets/Google_Sheets_Send_data.ipynb"
  },
  "papermill": {
   "default_parameters": {},
   "environment_variables": {},
   "parameters": {},
   "version": "2.3.3"
  }
 },
 "nbformat": 4,
 "nbformat_minor": 5
}
