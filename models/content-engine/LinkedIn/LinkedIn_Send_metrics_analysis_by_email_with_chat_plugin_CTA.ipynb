{
 "cells": [
  {
   "cell_type": "markdown",
   "id": "f93fe18d-8ad2-4958-816b-6b75af8681e4",
   "metadata": {
    "papermill": {},
    "tags": []
   },
   "source": [
    "<img width=\"10%\" alt=\"Naas\" src=\"https://landen.imgix.net/jtci2pxwjczr/assets/5ice39g4.png?w=160\"/>"
   ]
  },
  {
   "cell_type": "markdown",
   "id": "5f0737bc-6f32-4ae3-a951-5779adaa7a97",
   "metadata": {
    "papermill": {},
    "tags": []
   },
   "source": [
    "# LinkedIn - Send metrics analysis by email with chat plugin CTA"
   ]
  },
  {
   "cell_type": "markdown",
   "id": "616d1d23-6ae5-4cc6-95e8-40aa98a017f9",
   "metadata": {
    "papermill": {},
    "tags": []
   },
   "source": [
    "**Tags:** #linkedin #tool #posts #engagement #metrics #analytics #automation #email #naas #notification #chat #plugin"
   ]
  },
  {
   "cell_type": "markdown",
   "id": "c22c0060-616a-43ba-91e9-96e7034e71c7",
   "metadata": {
    "papermill": {},
    "tags": []
   },
   "source": [
    "**Author:** [Jeremy Ravenel](https://www.linkedin.com/in/jeremyravenel/)"
   ]
  },
  {
   "cell_type": "markdown",
   "id": "2e40c061-17bf-477d-bef0-d6268fcaf600",
   "metadata": {
    "papermill": {},
    "tags": []
   },
   "source": [
    "**Last update:** 2023-05-29 (Created: 2022-05-11)"
   ]
  },
  {
   "cell_type": "markdown",
   "id": "naas-description",
   "metadata": {
    "papermill": {},
    "tags": [
     "description"
    ]
   },
   "source": [
    "**Description:** This notebook automates the process of sending engagement metrics on LinkedIn via email and the generation of a Naas Chat Plugin."
   ]
  },
  {
   "cell_type": "markdown",
   "id": "3ac3750a-b07a-42c1-8719-e570df7994b5",
   "metadata": {
    "papermill": {},
    "tags": []
   },
   "source": [
    "\n",
    "<div class=\"alert alert-info\" role=\"info\" style=\"margin: 10px\">\n",
    "<b>Disclaimer:</b><br>\n",
    "This code is in no way affiliated with, authorized, maintained, sponsored or endorsed by Linkedin or any of its affiliates or subsidiaries. It uses an independent and unofficial API. Use at your own risk.\n",
    "\n",
    "This project violates Linkedin's User Agreement Section 8.2, and because of this, Linkedin may (and will) temporarily or permanently ban your account. We are not responsible for your account being banned.\n",
    "<br>\n",
    "</div>"
   ]
  },
  {
   "cell_type": "markdown",
   "id": "937ac7d6-bfe3-41aa-a0b6-61b1f7bba93f",
   "metadata": {
    "papermill": {},
    "tags": []
   },
   "source": [
    "## Input"
   ]
  },
  {
   "cell_type": "markdown",
   "id": "ecb37b6d-b27f-4932-b8a7-1464095f989d",
   "metadata": {
    "papermill": {},
    "tags": []
   },
   "source": [
    "### Import libraries"
   ]
  },
  {
   "cell_type": "code",
   "execution_count": null,
   "id": "e2c3df60-aced-4dd9-a94b-11d8ae4b5caf",
   "metadata": {
    "execution": {
     "iopub.execute_input": "2023-10-13T04:54:26.431034Z",
     "iopub.status.busy": "2023-10-13T04:54:26.430598Z",
     "iopub.status.idle": "2023-10-13T04:54:30.428471Z",
     "shell.execute_reply": "2023-10-13T04:54:30.425221Z",
     "shell.execute_reply.started": "2023-10-13T04:54:26.430960Z"
    },
    "papermill": {},
    "tags": []
   },
   "outputs": [],
   "source": [
    "import os\n",
    "import json\n",
    "import random\n",
    "import time\n",
    "import pandas as pd\n",
    "from datetime import datetime, date\n",
    "from dateutil.parser import parse\n",
    "import naas \n",
    "import naas_drivers\n",
    "from naas_drivers import emailbuilder, linkedin\n",
    "import matplotlib.pyplot as plt\n",
    "import plotly.io as pio\n",
    "import plotly.graph_objects as go\n",
    "try:\n",
    "    import tiktoken\n",
    "except:\n",
    "    !pip install tiktoken --user\n",
    "    import tiktoken"
   ]
  },
  {
   "cell_type": "markdown",
   "id": "8fcbe47d-8d1d-49ee-bc6e-21dd26cfa5fa",
   "metadata": {
    "execution": {
     "iopub.execute_input": "2022-04-24T17:56:03.664707Z",
     "iopub.status.busy": "2022-04-24T17:56:03.664410Z",
     "iopub.status.idle": "2022-04-24T17:56:03.667809Z",
     "shell.execute_reply": "2022-04-24T17:56:03.667176Z",
     "shell.execute_reply.started": "2022-04-24T17:56:03.664677Z"
    },
    "papermill": {},
    "tags": []
   },
   "source": [
    "### Setup variables\n",
    "<a href='https://www.notion.so/LinkedIn-driver-Get-your-cookies-d20a8e7e508e42af8a5b52e33f3dba75'>How to get your cookies ?</a>"
   ]
  },
  {
   "cell_type": "code",
   "execution_count": null,
   "id": "9d23bcea-7b3f-4f5c-be6a-0b38241735dc",
   "metadata": {
    "execution": {
     "iopub.execute_input": "2023-10-13T04:54:30.430468Z",
     "iopub.status.busy": "2023-10-13T04:54:30.430035Z",
     "iopub.status.idle": "2023-10-13T04:54:30.837951Z",
     "shell.execute_reply": "2023-10-13T04:54:30.837349Z",
     "shell.execute_reply.started": "2023-10-13T04:54:30.430434Z"
    },
    "papermill": {},
    "tags": []
   },
   "outputs": [],
   "source": [
    "# Define scenario \n",
    "is_demo = True # Default to True\n",
    "\n",
    "# For LinkedIn \n",
    "limit = 2 #number of post retrieved\n",
    "refresh_interval = 2 #time in minutes between two LinkedIn queries\n",
    "LI_AT = naas.secret.get(\"LINKEDIN_LI_AT\")  # EXAMPLE : \"AQFAzQN_PLPR4wAAAXc-FCKmgiMit5FLdY1af3-2\"\n",
    "JSESSIONID = naas.secret.get(\"LINKEDIN_JSESSIONID\")   # EXAMPLE : \"ajax:8379907400220387585\"\n",
    "PROFILE_URL = naas.secret.get(\"LINKEDIN_PROFILE_URL\")  # EXAMPLE \"https://www.linkedin.com/in/myprofile/\"\n",
    "\n",
    "# For Emails\n",
    "EMAIL_TO = \"jeremy@naas.ai\"  # you will receive weekly summary at this email\n",
    "EMAIL_FROM = None  # summary will have this email as sender. Only available for your naas email, otherwise you will receive this email from notification@naas.ai\n",
    "EMAIL_SUBJECT = (f\"📲 Content Engine - Email Update, {datetime.now().strftime('%Y-%m-%d %H:%M:%S')}\")\n",
    "DATE_FORMAT = \"%Y-%m-%d\"\n",
    "\n",
    "# For AI Chat Plugin\n",
    "plugin_name = \"📲 Content Assistant\"\n",
    "plugin_model = \"gpt-3.5-turbo-16k\"\n",
    "plugin_temperature = 0\n",
    "plugin_max_tokens = 8192\n",
    "system_prompt_max_tokens = 2084\n",
    "\n",
    "# For Asset Generation\n",
    "output_dir = \"/home/ftp/__abi__/outputs/by_modules/content_analytics\"\n",
    "csv_file_name = \"content_analytics_data.csv\"\n",
    "image_file_name = \"content_analytics_views.png\"\n",
    "plugin_file_name = \"content_analytics_plugin.json\""
   ]
  },
  {
   "cell_type": "markdown",
   "id": "78fd3b62-5ca4-4468-9cf1-7fd6d079320f",
   "metadata": {
    "execution": {
     "iopub.execute_input": "2022-04-12T10:09:23.296057Z",
     "iopub.status.busy": "2022-04-12T10:09:23.295748Z",
     "iopub.status.idle": "2022-04-12T10:09:23.299059Z",
     "shell.execute_reply": "2022-04-12T10:09:23.298449Z",
     "shell.execute_reply.started": "2022-04-12T10:09:23.296024Z"
    },
    "papermill": {},
    "tags": []
   },
   "source": [
    "## Model"
   ]
  },
  {
   "cell_type": "markdown",
   "id": "ff25d0c8-de8a-4a47-85de-9fff0fc0da5c",
   "metadata": {},
   "source": [
    "### Setup directories"
   ]
  },
  {
   "cell_type": "code",
   "execution_count": null,
   "id": "986f6a94-c58b-4733-8f71-6b3ebc15fce0",
   "metadata": {
    "execution": {
     "iopub.execute_input": "2023-10-13T04:54:30.839181Z",
     "iopub.status.busy": "2023-10-13T04:54:30.838942Z",
     "iopub.status.idle": "2023-10-13T04:54:30.844782Z",
     "shell.execute_reply": "2023-10-13T04:54:30.844142Z",
     "shell.execute_reply.started": "2023-10-13T04:54:30.839152Z"
    },
    "tags": []
   },
   "outputs": [],
   "source": [
    "# Check if directory exists and create it if not\n",
    "if not os.path.exists(output_dir):\n",
    "    os.makedirs(output_dir)\n",
    "    \n",
    "# Generate outputs files path\n",
    "csv_file_path = os.path.join(output_dir, csv_file_name)\n",
    "image_file_path = os.path.join(output_dir, image_file_name)\n",
    "plugin_file_path = os.path.join(output_dir, plugin_file_name)\n",
    "print('📂 CSV file path:', csv_file_path)\n",
    "print('📂 Image file path:', image_file_path)\n",
    "print('📂 Plugin file path:', plugin_file_path)"
   ]
  },
  {
   "cell_type": "markdown",
   "id": "b7caaf9a-c2b5-4f99-b51f-2fe1fe1fe7c3",
   "metadata": {},
   "source": [
    "### Get content data"
   ]
  },
  {
   "cell_type": "code",
   "execution_count": null,
   "id": "e552df05-6d37-445f-9d3c-1bcf3fdaab8d",
   "metadata": {
    "execution": {
     "iopub.execute_input": "2023-10-13T04:54:30.846147Z",
     "iopub.status.busy": "2023-10-13T04:54:30.845777Z",
     "iopub.status.idle": "2023-10-13T04:54:31.085390Z",
     "shell.execute_reply": "2023-10-13T04:54:31.084751Z",
     "shell.execute_reply.started": "2023-10-13T04:54:30.846115Z"
    },
    "tags": []
   },
   "outputs": [],
   "source": [
    "def get_last_posts(\n",
    "    li_at,\n",
    "    JSESSIONID,\n",
    "    linkedin_url,\n",
    "    limit,\n",
    "    file_path,\n",
    "    refresh_interval,\n",
    "    demo_mode=is_demo  \n",
    "):\n",
    "    # Init\n",
    "    df = pd.DataFrame()\n",
    "    update_data = True\n",
    "    \n",
    "    # Check if demo_mode is True\n",
    "    if demo_mode:\n",
    "        file_path = \"/home/ftp/__abi__/inputs/demo_data/demo_data-linkedin_post.csv\"\n",
    "        if os.path.exists(file_path):\n",
    "            # Read file\n",
    "            df = pd.read_csv(file_path)\n",
    "            df.to_csv(csv_file_path, index=False)\n",
    "            return df\n",
    "    \n",
    "    # Check if output already exists\n",
    "    if os.path.exists(csv_file_path):\n",
    "        # Read file\n",
    "        df = pd.read_csv(csv_file_path)\n",
    "        \n",
    "        # Assess if LinkedIn API can be invoked based on the last call.\n",
    "        # To emulate human interaction, we must avoid making excessive calls to the LinkedIn API. Overdoing this could result in being banned.\n",
    "        if len(df) > 0:\n",
    "            if \"DATE_EXTRACT\" in df.columns:\n",
    "                # Manage calls to API\n",
    "                last_update_date = df.loc[0, \"DATE_EXTRACT\"]\n",
    "                time_last_update = datetime.now() - datetime.strptime(last_update_date, \"%Y-%m-%d %H:%M:%S\")\n",
    "                minute_last_update = time_last_update.total_seconds() / 60\n",
    "                if minute_last_update < refresh_interval:\n",
    "                    update_data = False\n",
    "                    print(f\"ℹ️ Nothing to update as the last retrieve was {int(minute_last_update)} minutes ago.\")\n",
    "                \n",
    "    if update_data:\n",
    "        # Get last posts\n",
    "        df = linkedin.connect(LI_AT, JSESSIONID).profile.get_posts_feed(linkedin_url, limit=limit)\n",
    "        # Save last posts in CSV\n",
    "        df.to_csv(csv_file_path, index=False)\n",
    "        print(\"💾 Dataframe successfully saved:\", csv_file_path)\n",
    "    return df\n",
    "\n",
    "# Call the function and display results\n",
    "df_posts = get_last_posts(LI_AT, JSESSIONID, PROFILE_URL, limit, csv_file_path, refresh_interval)\n",
    "print(\"✅ Row fetched:\", len(df_posts))\n",
    "df_posts"
   ]
  },
  {
   "cell_type": "markdown",
   "id": "bcfe9299-563a-4068-ad82-b057a4a1f705",
   "metadata": {},
   "source": [
    "### Create asset from data"
   ]
  },
  {
   "cell_type": "code",
   "execution_count": null,
   "id": "d780862e-5d1b-4550-84d3-e51d4927b289",
   "metadata": {
    "execution": {
     "iopub.execute_input": "2023-10-13T04:54:31.086803Z",
     "iopub.status.busy": "2023-10-13T04:54:31.086536Z",
     "iopub.status.idle": "2023-10-13T04:54:31.600145Z",
     "shell.execute_reply": "2023-10-13T04:54:31.599433Z",
     "shell.execute_reply.started": "2023-10-13T04:54:31.086768Z"
    },
    "tags": []
   },
   "outputs": [],
   "source": [
    "# Share output with naas\n",
    "data_link = naas.asset.add(csv_file_path)  # Assuming you have the relevant naas asset module"
   ]
  },
  {
   "cell_type": "markdown",
   "id": "b8f8248d-2bb7-4659-bec3-57bba6badc1e",
   "metadata": {
    "papermill": {},
    "tags": []
   },
   "source": [
    "### Prepare data for analysis"
   ]
  },
  {
   "cell_type": "code",
   "execution_count": null,
   "id": "e664a17e-8d6a-446b-8d74-2c37f6c61102",
   "metadata": {
    "execution": {
     "iopub.execute_input": "2023-10-13T04:54:31.601498Z",
     "iopub.status.busy": "2023-10-13T04:54:31.601257Z",
     "iopub.status.idle": "2023-10-13T04:54:31.640334Z",
     "shell.execute_reply": "2023-10-13T04:54:31.639574Z",
     "shell.execute_reply.started": "2023-10-13T04:54:31.601466Z"
    },
    "papermill": {},
    "tags": []
   },
   "outputs": [],
   "source": [
    "def get_posts(file_path):\n",
    "    try:\n",
    "        df = pd.read_csv(csv_file_path)\n",
    "        # Convert 'PUBLISHED_DATE' to datetime format if it's not already\n",
    "        if df['PUBLISHED_DATE'].dtype == 'object':\n",
    "            df['PUBLISHED_DATE'] = pd.to_datetime(df['PUBLISHED_DATE'])\n",
    "        # Sort by 'PUBLISHED_DATE' and get the last 10 rows\n",
    "        df = df.sort_values('PUBLISHED_DATE').tail(10)\n",
    "    except FileNotFoundError as e:\n",
    "        # Empty dataframe returned\n",
    "        return pd.DataFrame()\n",
    "    return df\n",
    "df = get_posts(csv_file_path)\n",
    "df"
   ]
  },
  {
   "cell_type": "code",
   "execution_count": null,
   "id": "2e5a7210-0439-4ae1-b2a4-1cf00b280e20",
   "metadata": {
    "execution": {
     "iopub.execute_input": "2023-10-13T04:54:31.643534Z",
     "iopub.status.busy": "2023-10-13T04:54:31.643261Z",
     "iopub.status.idle": "2023-10-13T04:54:31.742129Z",
     "shell.execute_reply": "2023-10-13T04:54:31.741303Z",
     "shell.execute_reply.started": "2023-10-13T04:54:31.643498Z"
    },
    "tags": []
   },
   "outputs": [],
   "source": [
    "df['DATE'] = df['PUBLISHED_DATE'].dt.strftime('%Y-%m-%d')\n",
    "df['TIME'] = df['PUBLISHED_DATE'].dt.strftime('%H:%M:%S')\n",
    "df"
   ]
  },
  {
   "cell_type": "markdown",
   "id": "f7e23850-1ab1-4964-934f-2ae222500e06",
   "metadata": {
    "execution": {
     "iopub.execute_input": "2023-08-11T13:30:13.256808Z",
     "iopub.status.busy": "2023-08-11T13:30:13.256566Z",
     "iopub.status.idle": "2023-08-11T13:30:13.259781Z",
     "shell.execute_reply": "2023-08-11T13:30:13.259065Z",
     "shell.execute_reply.started": "2023-08-11T13:30:13.256784Z"
    }
   },
   "source": [
    "### Create chart"
   ]
  },
  {
   "cell_type": "code",
   "execution_count": null,
   "id": "fde87463-bf30-42e0-8a7b-f3e91850ed86",
   "metadata": {
    "execution": {
     "iopub.execute_input": "2023-10-13T04:54:31.743886Z",
     "iopub.status.busy": "2023-10-13T04:54:31.743614Z",
     "iopub.status.idle": "2023-10-13T04:54:32.472255Z",
     "shell.execute_reply": "2023-10-13T04:54:32.464270Z",
     "shell.execute_reply.started": "2023-10-13T04:54:31.743852Z"
    },
    "tags": []
   },
   "outputs": [],
   "source": [
    "def create_vertical_barchart(df,\n",
    "                               label=\"DATE\",\n",
    "                               value=\"VIEWS\",\n",
    "                               value_d=\"VIEWS\"):\n",
    "    # Init\n",
    "    fig = go.Figure()\n",
    "    \n",
    "    # Return empty fig if dataframe is empty\n",
    "    if len(df) == 0:\n",
    "        return fig\n",
    "    \n",
    "    # Create fig\n",
    "    fig.add_trace(\n",
    "        go.Bar(\n",
    "            y=df[value],\n",
    "            x=df[label],\n",
    "            text=df[value_d],\n",
    "            textposition=\"outside\",\n",
    "            marker=dict(color=\"#0f93d2\"),\n",
    "            orientation=\"v\"\n",
    "        )\n",
    "    ) \n",
    "    \n",
    "    fig.update_traces(showlegend=False)\n",
    "    \n",
    "    # Plotly: Create title\n",
    "    total_value = \"{:,.0f}\".format(df[value].sum()).replace(\",\", \" \")\n",
    "    title = f\"<b><span style='font-size: 20px;'>Past {limit} Content Views</span></b><br><span style='font-size: 18px;'>Total KPI: {total_value}</span>\"\n",
    "    fig.update_layout(\n",
    "        title=title,\n",
    "        #title_x=0.09,\n",
    "        title_font=dict(family=\"Arial\", color=\"black\"),\n",
    "        paper_bgcolor=\"#ffffff\",\n",
    "        plot_bgcolor=\"#ffffff\",\n",
    "        width=1200,\n",
    "        height=600,\n",
    "        margin_pad=10,\n",
    "        #margin_r=10,\n",
    "        #margin_l=10,\n",
    "    )\n",
    "    \n",
    "    fig.update_xaxes(showticklabels=True)\n",
    "    \n",
    "    return fig\n",
    "\n",
    "create_vertical_barchart(df)"
   ]
  },
  {
   "cell_type": "markdown",
   "id": "7f264395-2bf8-496d-8955-85fa94dce252",
   "metadata": {},
   "source": [
    "### Create asset from chart"
   ]
  },
  {
   "cell_type": "code",
   "execution_count": null,
   "id": "ace242c7-6bbe-4ede-a25e-8808dabf8ab3",
   "metadata": {
    "execution": {
     "iopub.execute_input": "2023-10-13T04:54:32.477396Z",
     "iopub.status.busy": "2023-10-13T04:54:32.477140Z",
     "iopub.status.idle": "2023-10-13T04:54:34.040993Z",
     "shell.execute_reply": "2023-10-13T04:54:34.040276Z",
     "shell.execute_reply.started": "2023-10-13T04:54:32.477363Z"
    },
    "tags": []
   },
   "outputs": [],
   "source": [
    "# Create the chart\n",
    "chart = create_vertical_barchart(df)\n",
    "\n",
    "# Save as PNG\n",
    "pio.write_image(chart, image_file_path)\n",
    "\n",
    "#graph_url = naas.asset.add(\"chart.html\", {\"inline\": True})\n",
    "graph_image = naas.asset.add(image_file_path)"
   ]
  },
  {
   "cell_type": "markdown",
   "id": "fe9e715e-f95c-4f2f-ad46-0dd1279e7613",
   "metadata": {},
   "source": [
    "### Set email parameters"
   ]
  },
  {
   "cell_type": "code",
   "execution_count": null,
   "id": "ed684c7f-072b-4c23-8f89-0a9f0ae5675e",
   "metadata": {
    "execution": {
     "iopub.execute_input": "2023-10-13T04:54:34.042701Z",
     "iopub.status.busy": "2023-10-13T04:54:34.042278Z",
     "iopub.status.idle": "2023-10-13T04:54:34.048065Z",
     "shell.execute_reply": "2023-10-13T04:54:34.047443Z",
     "shell.execute_reply.started": "2023-10-13T04:54:34.042668Z"
    },
    "tags": []
   },
   "outputs": [],
   "source": [
    "today = datetime.now().strftime(DATE_FORMAT)\n",
    "today"
   ]
  },
  {
   "cell_type": "code",
   "execution_count": null,
   "id": "91061f3e-34a4-415a-af45-8a9e1a7f90df",
   "metadata": {
    "execution": {
     "iopub.execute_input": "2023-10-13T04:54:34.049513Z",
     "iopub.status.busy": "2023-10-13T04:54:34.049097Z",
     "iopub.status.idle": "2023-10-13T04:54:34.157208Z",
     "shell.execute_reply": "2023-10-13T04:54:34.156521Z",
     "shell.execute_reply.started": "2023-10-13T04:54:34.049482Z"
    },
    "papermill": {},
    "tags": []
   },
   "outputs": [],
   "source": [
    "likes = df.LIKES.sum()\n",
    "views = df.VIEWS.sum()\n",
    "shares = df.SHARES.sum()\n",
    "comments = df.COMMENTS.sum()\n",
    "\n",
    "# preview of what will be send by email:\n",
    "print(\"This week's cumulative statistics:\")\n",
    "print(\n",
    "    \"\\n\\t👀 Impressions\\t\",\n",
    "    views,\n",
    "    \"\\n\\t👍 Likes\\t\",\n",
    "    likes,\n",
    "    \"\\n\\t💬 Comments\\t\",\n",
    "    comments,\n",
    "    \"\\n\\t⏩ Shares\\t\",\n",
    "    shares,\n",
    ")"
   ]
  },
  {
   "cell_type": "markdown",
   "id": "b7a6d50b-662e-41f6-89b0-0438854036b6",
   "metadata": {
    "execution": {
     "iopub.execute_input": "2023-08-11T08:45:15.207063Z",
     "iopub.status.busy": "2023-08-11T08:45:15.206816Z",
     "iopub.status.idle": "2023-08-11T08:45:15.209898Z",
     "shell.execute_reply": "2023-08-11T08:45:15.209193Z",
     "shell.execute_reply.started": "2023-08-11T08:45:15.207038Z"
    }
   },
   "source": [
    "### Create Naas Chat plugin"
   ]
  },
  {
   "cell_type": "code",
   "execution_count": null,
   "id": "092be30e-566d-4954-ba8f-b423c0206ddc",
   "metadata": {
    "execution": {
     "iopub.execute_input": "2023-10-13T04:54:34.158692Z",
     "iopub.status.busy": "2023-10-13T04:54:34.158303Z",
     "iopub.status.idle": "2023-10-13T04:54:34.274658Z",
     "shell.execute_reply": "2023-10-13T04:54:34.274040Z",
     "shell.execute_reply.started": "2023-10-13T04:54:34.158658Z"
    },
    "tags": []
   },
   "outputs": [],
   "source": [
    "system_prompt = f\"\"\"Act as a Content Agent who has access to valuable data and insights about the content strategy. \n",
    "Your role is to manage and optimize the content, ensuring it reaches the target audience effectively. \n",
    "You will need to analyze user behavior and preferences to understand their needs and interests. \n",
    "Utilize the data from various sources to personalize the content strategy and track its performance. \n",
    "Your ultimate goal is to create engaging and relevant content that resonates with the audience, contributing to the overall success of the content strategy. \n",
    "The first message should be about presenting yourself with a maximum of 5 bullet points and displaying the current content analytics data to be displayed as an image inside the markdown of the chat: {graph_image}. \n",
    "Then, wait for the first answer from the user, and then start with the first high-level analysis. \n",
    "Here is the data from the content analytics that you should focus on: {df}\n",
    "\n",
    "\"\"\"\n",
    "system_prompt"
   ]
  },
  {
   "cell_type": "markdown",
   "id": "75225770-53ac-40a8-80ce-09b71e23687c",
   "metadata": {
    "execution": {
     "iopub.execute_input": "2023-08-11T08:57:02.873145Z",
     "iopub.status.busy": "2023-08-11T08:57:02.872902Z",
     "iopub.status.idle": "2023-08-11T08:57:02.875911Z",
     "shell.execute_reply": "2023-08-11T08:57:02.875189Z",
     "shell.execute_reply.started": "2023-08-11T08:57:02.873120Z"
    }
   },
   "source": [
    "### Check token count "
   ]
  },
  {
   "cell_type": "code",
   "execution_count": null,
   "id": "eb3e30f1-6ad2-4f9a-80d5-1fdf0459f775",
   "metadata": {
    "execution": {
     "iopub.execute_input": "2023-10-13T04:54:34.277464Z",
     "iopub.status.busy": "2023-10-13T04:54:34.277265Z",
     "iopub.status.idle": "2023-10-13T04:54:34.825211Z",
     "shell.execute_reply": "2023-10-13T04:54:34.824039Z",
     "shell.execute_reply.started": "2023-10-13T04:54:34.277442Z"
    },
    "tags": []
   },
   "outputs": [],
   "source": [
    "def num_tokens_from_string(string: str, encoding_name: str) -> int:\n",
    "    \"\"\"Returns the number of tokens in a text string.\"\"\"\n",
    "    encoding = tiktoken.get_encoding(encoding_name)\n",
    "    num_tokens = len(encoding.encode(string))\n",
    "    return num_tokens\n",
    "\n",
    "system_prompt_tokens = num_tokens_from_string(system_prompt, \"cl100k_base\")\n",
    "if system_prompt_tokens > system_prompt_max_tokens:\n",
    "    print(\"⚠️ Be carefull, your system prompt looks too big. Tokens:\", system_prompt_tokens)\n",
    "else:\n",
    "    print(\"✅ System prompt tokens count OK:\", system_prompt_tokens)"
   ]
  },
  {
   "cell_type": "markdown",
   "id": "3c86490b-6709-4e08-8b78-669b255554b7",
   "metadata": {},
   "source": [
    "### Generate plugin"
   ]
  },
  {
   "cell_type": "code",
   "execution_count": null,
   "id": "c47a1eb6-e7a8-4b55-9ada-4054d2a07088",
   "metadata": {
    "execution": {
     "iopub.execute_input": "2023-10-13T04:54:34.826527Z",
     "iopub.status.busy": "2023-10-13T04:54:34.826289Z",
     "iopub.status.idle": "2023-10-13T04:54:35.328361Z",
     "shell.execute_reply": "2023-10-13T04:54:35.327654Z",
     "shell.execute_reply.started": "2023-10-13T04:54:34.826496Z"
    },
    "tags": []
   },
   "outputs": [],
   "source": [
    "# Create json\n",
    "plugin = {\n",
    "    \"name\": plugin_name,\n",
    "    \"model\": plugin_model,\n",
    "    \"temperature\": plugin_temperature,\n",
    "    \"max_tokens\": plugin_max_tokens,\n",
    "    \"prompt\": system_prompt,\n",
    "}\n",
    "\n",
    "# Save dict to JSON file\n",
    "with open(plugin_file_path, \"w\") as f:\n",
    "    json.dump(plugin, f)\n",
    "print(\"💾 Plugin successfully saved:\")\n",
    "\n",
    "plugin = naas.asset.add(plugin_file_path, params={\"inline\": True})"
   ]
  },
  {
   "cell_type": "markdown",
   "id": "aeed4782-b114-4554-8502-14cb5791b8eb",
   "metadata": {
    "papermill": {},
    "tags": []
   },
   "source": [
    "### Generate email content"
   ]
  },
  {
   "cell_type": "code",
   "execution_count": null,
   "id": "dacb9483-4de3-4011-8f2b-c3a09ac467f8",
   "metadata": {
    "execution": {
     "iopub.execute_input": "2023-10-13T04:54:35.329768Z",
     "iopub.status.busy": "2023-10-13T04:54:35.329378Z",
     "iopub.status.idle": "2023-10-13T04:54:35.333279Z",
     "shell.execute_reply": "2023-10-13T04:54:35.332672Z",
     "shell.execute_reply.started": "2023-10-13T04:54:35.329734Z"
    },
    "tags": []
   },
   "outputs": [],
   "source": [
    "def format_number(num):\n",
    "    NUMBER_FORMAT = \"{:,.0f}\"\n",
    "    num = str(NUMBER_FORMAT.format(num)).replace(\",\", \" \")\n",
    "    return num"
   ]
  },
  {
   "cell_type": "code",
   "execution_count": null,
   "id": "b0c7f278-ac7e-4a06-b807-c8958b7f184e",
   "metadata": {
    "execution": {
     "iopub.execute_input": "2023-10-13T04:54:35.334625Z",
     "iopub.status.busy": "2023-10-13T04:54:35.334253Z",
     "iopub.status.idle": "2023-10-13T04:54:35.443116Z",
     "shell.execute_reply": "2023-10-13T04:54:35.442448Z",
     "shell.execute_reply.started": "2023-10-13T04:54:35.334594Z"
    },
    "tags": []
   },
   "outputs": [],
   "source": [
    "def email_brief(\n",
    "    today,\n",
    "    views,\n",
    "    likes,\n",
    "    comments,\n",
    "\n",
    "):\n",
    "    content = {\n",
    "        'title': (\"📲 Content Engine - Email Update\"),\n",
    "        'heading': (f\"Date:{today}\"),\n",
    "        \"txt_intro\": (\n",
    "            f\"Hi there,<br><br>\" f\"Here is your content engine email as of {today}.\"\n",
    "        ),\n",
    "        \"title_1\": emailbuilder.text(\n",
    "            \"Overview\", font_size=\"27px\", text_align=\"center\", bold=True\n",
    "        ),\n",
    "        \"image_1\": emailbuilder.image(graph_image),\n",
    "        \"text_1\": emailbuilder.text(\n",
    "            f\"On the past {limit} pieces of content, your reach a total of:\"\n",
    "        ),\n",
    "        \"list_1\": emailbuilder.list(\n",
    "            [\n",
    "                f\"Views : <b>{format_number(views)}</b>\",\n",
    "                f\"Likes : <b>{format_number(likes)}</b>\",\n",
    "                f\"Comments : <b>{format_number(comments)}</b>\",\n",
    "            ]\n",
    "        ),\n",
    "        \"button_1\": emailbuilder.button(\n",
    "            link=(f\"https://naas.ai/chat/use?plugin_url={plugin}\"),\n",
    "            text=\"Start Chatting With Agent\",\n",
    "            background_color=\"#181a1c\",\n",
    "        ),\n",
    "        \"footer_cs\": emailbuilder.footer_company(naas=True),\n",
    "    }\n",
    "\n",
    "    email_content = emailbuilder.generate(display=\"iframe\", **content)\n",
    "    return email_content\n",
    "\n",
    "\n",
    "email_content = email_brief(\n",
    "    today,\n",
    "    views,\n",
    "    likes,\n",
    "    comments,\n",
    ")"
   ]
  },
  {
   "cell_type": "markdown",
   "id": "8b76191a-686b-4ac8-a0e7-b56ac9f1bfbb",
   "metadata": {
    "execution": {
     "iopub.execute_input": "2022-04-12T14:42:10.762125Z",
     "iopub.status.busy": "2022-04-12T14:42:10.761884Z",
     "iopub.status.idle": "2022-04-12T14:42:10.764880Z",
     "shell.execute_reply": "2022-04-12T14:42:10.764227Z",
     "shell.execute_reply.started": "2022-04-12T14:42:10.762100Z"
    },
    "papermill": {},
    "tags": []
   },
   "source": [
    "## Output"
   ]
  },
  {
   "cell_type": "markdown",
   "id": "b853bb8a-23e8-4980-9696-5f5dc2d3d409",
   "metadata": {
    "papermill": {},
    "tags": []
   },
   "source": [
    "### Send email notification"
   ]
  },
  {
   "cell_type": "code",
   "execution_count": null,
   "id": "c317e8a0-9604-453c-b28b-0ce7fcbefd0f",
   "metadata": {
    "execution": {
     "iopub.execute_input": "2023-10-13T04:54:35.444531Z",
     "iopub.status.busy": "2023-10-13T04:54:35.444288Z",
     "iopub.status.idle": "2023-10-13T04:54:42.630143Z",
     "shell.execute_reply": "2023-10-13T04:54:42.628930Z",
     "shell.execute_reply.started": "2023-10-13T04:54:35.444501Z"
    },
    "papermill": {},
    "tags": []
   },
   "outputs": [],
   "source": [
    "# sends the email\n",
    "naas.notification.send(\n",
    "    email_to=EMAIL_TO, subject=EMAIL_SUBJECT, html=email_content, email_from=EMAIL_FROM\n",
    ")"
   ]
  }
 ],
 "metadata": {
  "kernelspec": {
   "display_name": "Python 3",
   "language": "python",
   "name": "python3"
  },
  "language_info": {
   "codemirror_mode": {
    "name": "ipython",
    "version": 3
   },
   "file_extension": ".py",
   "mimetype": "text/x-python",
   "name": "python",
   "nbconvert_exporter": "python",
   "pygments_lexer": "ipython3",
   "version": "3.9.6"
  },
  "naas": {
   "notebook_id": "c68448105b3374452761515cae1f4839a8efd59d518fca9b53bae22b2ee6c25c",
   "notebook_path": "LinkedIn/LinkedIn_Send_weekly_post_engagement_metrics_by_email.ipynb"
  },
  "papermill": {
   "default_parameters": {},
   "environment_variables": {},
   "parameters": {},
   "version": "2.3.4"
  }
 },
 "nbformat": 4,
 "nbformat_minor": 5
}
