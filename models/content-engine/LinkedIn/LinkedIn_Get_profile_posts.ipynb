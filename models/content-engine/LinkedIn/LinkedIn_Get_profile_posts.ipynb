{
 "cells": [
  {
   "cell_type": "markdown",
   "id": "3d064ccd-ca27-4d34-85f6-84ce63dcc206",
   "metadata": {
    "papermill": {},
    "tags": []
   },
   "source": [
    "<img width=\"10%\" alt=\"LinkedIn\" src=\"https://media.licdn.com/dms/image/C560BAQHaVYd13rRz3A/company-logo_200_200/0/1638831589865?e=1705536000&v=beta&t=QZW5sOogDv7AXveQCCSDe3OhfDBkBFdN1VS6PJLgj74\">"
   ]
  },
  {
   "cell_type": "markdown",
   "id": "fe7f0846-ce7f-43c9-8202-a90b9e29cd4c",
   "metadata": {
    "papermill": {},
    "tags": []
   },
   "source": [
    "# LinkedIn - Get profile posts"
   ]
  },
  {
   "cell_type": "markdown",
   "id": "c0403ba8-62ef-4413-94d4-5b225a4ae7ac",
   "metadata": {
    "papermill": {},
    "tags": []
   },
   "source": [
    "**Tags:** #linkedin #profile #posts #command"
   ]
  },
  {
   "cell_type": "markdown",
   "id": "d295e708-adaa-45b8-911e-976451f36f80",
   "metadata": {
    "papermill": {},
    "tags": []
   },
   "source": [
    "**Author:** [Florent Ravenel](https://www.linkedin.com/in/florent-ravenel/)"
   ]
  },
  {
   "cell_type": "markdown",
   "id": "03594f2a-572a-4303-9161-c8e6b6d42f17",
   "metadata": {
    "papermill": {},
    "tags": []
   },
   "source": [
    "**Last update:** 2023-10-25 (Created: 2023-10-25)"
   ]
  },
  {
   "cell_type": "markdown",
   "id": "61edbaba-cd8f-43f2-b956-247d2408756f",
   "metadata": {
    "papermill": {},
    "tags": []
   },
   "source": [
    "**Description:** This notebook fetches your profile's post statistics from LinkedIn and stores them in a CSV file."
   ]
  },
  {
   "cell_type": "markdown",
   "id": "fd684538-a59d-4010-b173-948f9b3f6096",
   "metadata": {
    "papermill": {},
    "tags": []
   },
   "source": [
    "\n",
    "<div class=\"alert alert-info\" role=\"info\" style=\"margin: 10px\">\n",
    "<b>Disclaimer:</b><br>\n",
    "This code is in no way affiliated with, authorized, maintained, sponsored or endorsed by Linkedin or any of its affiliates or subsidiaries. It uses an independent and unofficial API. Use at your own risk.\n",
    "\n",
    "This project violates Linkedin's User Agreement Section 8.2, and because of this, Linkedin may (and will) temporarily or permanently ban your account. We are not responsible for your account being banned.\n",
    "<br>\n",
    "</div>"
   ]
  },
  {
   "cell_type": "markdown",
   "id": "dd7865b3-eb7b-4755-9929-54ae4355ac46",
   "metadata": {
    "papermill": {},
    "tags": []
   },
   "source": [
    "## Input"
   ]
  },
  {
   "cell_type": "markdown",
   "id": "9db307ec-534b-47b4-a606-6cf4e9213d24",
   "metadata": {
    "papermill": {},
    "tags": []
   },
   "source": [
    "### Import libraries"
   ]
  },
  {
   "cell_type": "code",
   "execution_count": 1,
   "id": "9de34e94-bcf2-40c1-8970-6a7e07f4917b",
   "metadata": {
    "execution": {
     "iopub.execute_input": "2023-10-25T14:27:21.065409Z",
     "iopub.status.busy": "2023-10-25T14:27:21.065041Z",
     "iopub.status.idle": "2023-10-25T14:27:32.190513Z",
     "shell.execute_reply": "2023-10-25T14:27:32.189890Z",
     "shell.execute_reply.started": "2023-10-25T14:27:21.065315Z"
    },
    "papermill": {},
    "tags": []
   },
   "outputs": [],
   "source": [
    "from naas_drivers import linkedin\n",
    "import naas\n",
    "import os\n",
    "from tabulate import tabulate"
   ]
  },
  {
   "cell_type": "markdown",
   "id": "18fe9773-ca11-4d15-b0c0-e3b86315415d",
   "metadata": {
    "papermill": {},
    "tags": [
     "variables"
    ]
   },
   "source": [
    "### Setup variables\n",
    "- `li_at`: Cookie used to authenticate Members and API clients.\n",
    "- `JSESSIONID`: Cookie used for Cross Site Request Forgery (CSRF) protection and URL signature validation.\n",
    "- `linkedin_url`: This variable represents the LinkedIn profile URL.\n",
    "- `limit`: number of posts to be retrieved. Limit max is set to 15.\n",
    "- `body`: This variable stores the body to be send by the webhook."
   ]
  },
  {
   "cell_type": "code",
   "execution_count": 2,
   "id": "3d26d9bc-d873-4f81-a5f2-fa17e9d1a4dd",
   "metadata": {
    "execution": {
     "iopub.execute_input": "2023-10-25T14:27:32.193480Z",
     "iopub.status.busy": "2023-10-25T14:27:32.193305Z",
     "iopub.status.idle": "2023-10-25T14:27:32.408111Z",
     "shell.execute_reply": "2023-10-25T14:27:32.407536Z",
     "shell.execute_reply.started": "2023-10-25T14:27:32.193459Z"
    },
    "papermill": {},
    "tags": []
   },
   "outputs": [],
   "source": [
    "li_at = naas.secret.get(\"LINKEDIN_LI_AT\") or \"YOUR_LINKEDIN_LI_AT\" #example: AQFAzQN_PLPR4wAAAXc-FCKmgiMit5FLdY1af3-2\n",
    "JSESSIONID = naas.secret.get(\"LINKEDIN_JSESSIONID\") or \"YOUR_LINKEDIN_JSESSIONID\" #example: ajax:8379907400220387585\n",
    "linkedin_url = \"https://www.linkedin.com/in/xxxxx/\"  # EXAMPLE \"https://www.linkedin.com/in/XXXXXX/\"\n",
    "limit = 5\n",
    "# output_file = \"/home/ftp/abi/outputs/content-engine/\"\n",
    "body = {}"
   ]
  },
  {
   "cell_type": "markdown",
   "id": "c708fbdc-74d7-4c5a-bcf4-8672ef7bdbe2",
   "metadata": {
    "execution": {
     "iopub.execute_input": "2023-09-26T17:20:36.759189Z",
     "iopub.status.busy": "2023-09-26T17:20:36.758881Z",
     "iopub.status.idle": "2023-09-26T17:20:36.765546Z",
     "shell.execute_reply": "2023-09-26T17:20:36.764836Z",
     "shell.execute_reply.started": "2023-09-26T17:20:36.759155Z"
    },
    "papermill": {},
    "tags": [
     "parameters"
    ]
   },
   "source": [
    "### Setup parameters\n",
    "The webhook body will be injected below this cell when the webhook is triggered. \n",
    "Therefore, it is important to set up how you will handle the injected variable from the body in order to make your script work.\n",
    "To receive the body from the webhook, please ensure that this cell is tagged as \"parameters\"."
   ]
  },
  {
   "cell_type": "code",
   "execution_count": 3,
   "id": "cf09c4bb-419b-4b20-9b85-2778dfae0db2",
   "metadata": {
    "execution": {
     "iopub.execute_input": "2023-10-25T14:27:32.411774Z",
     "iopub.status.busy": "2023-10-25T14:27:32.409214Z",
     "iopub.status.idle": "2023-10-25T14:27:32.415378Z",
     "shell.execute_reply": "2023-10-25T14:27:32.414834Z",
     "shell.execute_reply.started": "2023-10-25T14:27:32.411748Z"
    },
    "papermill": {},
    "tags": []
   },
   "outputs": [],
   "source": [
    "# Parameters\n",
    "if len(body) > 0:\n",
    "    linkedin_url = body.get(\"linkedin_url\")\n",
    "    limit = body.get(\"limit\")"
   ]
  },
  {
   "cell_type": "markdown",
   "id": "bf29c888-784f-4427-9a1b-0161fcdd8246",
   "metadata": {
    "papermill": {},
    "tags": []
   },
   "source": [
    "## Model"
   ]
  },
  {
   "cell_type": "markdown",
   "id": "ba3ddbe2-6141-45a6-824c-5ac48c2412b9",
   "metadata": {
    "papermill": {},
    "tags": []
   },
   "source": [
    "### Get posts"
   ]
  },
  {
   "cell_type": "code",
   "execution_count": null,
   "id": "50cbf973-8807-4d94-8e94-163fdd081f09",
   "metadata": {
    "papermill": {},
    "tags": []
   },
   "outputs": [],
   "source": [
    "def get_linkedin_post(\n",
    "    li_at,\n",
    "    JSESSIONID,\n",
    "    linkedin_url,\n",
    "    limit,\n",
    "    file_path=None,\n",
    "):\n",
    "    # Init\n",
    "    status = \"ok\"\n",
    "    message = \"\"\n",
    "    limit = int(limit)\n",
    "    if limit > 15:\n",
    "        limit = 15\n",
    "    try:\n",
    "        # Get posts\n",
    "        df = linkedin.connect(li_at, JSESSIONID).profile.get_posts_feed(linkedin_url, limit=limit, sleep=False)\n",
    "        \n",
    "        # Save posts to csv\n",
    "        if not file_path:\n",
    "            file_path = \"LINKEDIN_POST.csv\"\n",
    "        df.to_csv(file_path, index=False)\n",
    "        url = naas.asset.add(file_path)\n",
    "        os.remove(file_path)\n",
    "        \n",
    "        # Clean and prep markdown\n",
    "        columns = [\n",
    "            \"AUTHOR_NAME\",\n",
    "            \"TEXT\",\n",
    "            \"VIEWS\",\n",
    "            \"COMMENTS\",\n",
    "            \"LIKES\",\n",
    "            \"SHARES\",\n",
    "            \"ENGAGEMENT_SCORE\",\n",
    "            \"POST_URL\"\n",
    "        ]\n",
    "        df = df[columns]\n",
    "        \n",
    "        # Convert DataFrame to Markdown\n",
    "        markdown_table = tabulate(df, headers='keys', tablefmt='pipe')\n",
    "        \n",
    "        # Create message\n",
    "        message = f\"\"\"\n",
    "        Analyze which topic/keyword has the most traction\n",
    "        - Data: {markdown_table}\n",
    "        - Link to download CSV: {url}\n",
    "        \"\"\"\n",
    "    except Exception as e:\n",
    "            message = f\"Template error: {e}\"\n",
    "    return status, message\n",
    "\n",
    "status, message = get_linkedin_post(li_at, JSESSIONID, linkedin_url, limit)"
   ]
  },
  {
   "cell_type": "markdown",
   "id": "9ef12d0f-2efe-4163-90a9-2ec9206c2ce5",
   "metadata": {
    "papermill": {},
    "tags": []
   },
   "source": [
    "## Output"
   ]
  },
  {
   "cell_type": "markdown",
   "id": "fbc1a6c1-ad7d-47a5-ab13-2004752cd03f",
   "metadata": {
    "execution": {
     "iopub.execute_input": "2023-09-26T15:15:09.022426Z",
     "iopub.status.busy": "2023-09-26T15:15:09.022118Z",
     "iopub.status.idle": "2023-09-26T15:15:09.025782Z",
     "shell.execute_reply": "2023-09-26T15:15:09.025087Z",
     "shell.execute_reply.started": "2023-09-26T15:15:09.022389Z"
    },
    "papermill": {},
    "tags": []
   },
   "source": [
    "### Return JSON response\n",
    "Response sent to the browser before displayed in Chat UI."
   ]
  },
  {
   "cell_type": "code",
   "execution_count": null,
   "id": "5609eb79-ccc5-4370-af21-a57eb84f71d4",
   "metadata": {
    "papermill": {},
    "tags": []
   },
   "outputs": [],
   "source": [
    "naas.webhook.respond_json(\n",
    "    {\n",
    "        \"status\": status, \n",
    "        \"message\": message\n",
    "    }\n",
    ")"
   ]
  },
  {
   "cell_type": "code",
   "execution_count": null,
   "id": "2b106255-4498-491b-9674-45cd1563306f",
   "metadata": {},
   "outputs": [],
   "source": []
  }
 ],
 "metadata": {
  "kernelspec": {
   "display_name": "Python 3",
   "language": "python",
   "name": "python3"
  },
  "language_info": {
   "codemirror_mode": {
    "name": "ipython",
    "version": 3
   },
   "file_extension": ".py",
   "mimetype": "text/x-python",
   "name": "python",
   "nbconvert_exporter": "python",
   "pygments_lexer": "ipython3",
   "version": "3.9.6"
  },
  "widgets": {
   "application/vnd.jupyter.widget-state+json": {
    "state": {},
    "version_major": 2,
    "version_minor": 0
   }
  }
 },
 "nbformat": 4,
 "nbformat_minor": 5
}
