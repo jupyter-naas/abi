{
 "cells": [
  {
   "cell_type": "markdown",
   "id": "younger-assignment",
   "metadata": {
    "papermill": {},
    "tags": []
   },
   "source": [
    "<img width=\"10%\" alt=\"Naas\" src=\"https://landen.imgix.net/jtci2pxwjczr/assets/5ice39g4.png?w=160\"/>"
   ]
  },
  {
   "cell_type": "markdown",
   "id": "subjective-dialogue",
   "metadata": {
    "papermill": {},
    "tags": []
   },
   "source": [
    "# Naas - Emailbuilder demo\n",
    "<a href=\"https://app.naas.ai/user-redirect/naas/downloader?url=https://raw.githubusercontent.com/jupyter-naas/awesome-notebooks/master/Naas/Naas_Emailbuilder_demo.ipynb\" target=\"_parent\"><img src=\"https://naasai-public.s3.eu-west-3.amazonaws.com/open_in_naas.svg\"/></a><br><br><a href=\"https://github.com/jupyter-naas/awesome-notebooks/issues/new?assignees=&labels=&template=template-request.md&title=Tool+-+Action+of+the+notebook+\">Template request</a> | <a href=\"https://github.com/jupyter-naas/awesome-notebooks/issues/new?assignees=&labels=bug&template=bug_report.md&title=Naas+-+Emailbuilder+demo:+Error+short+description\">Bug report</a> | <a href=\"https://app.naas.ai/user-redirect/naas/downloader?url=https://raw.githubusercontent.com/jupyter-naas/awesome-notebooks/master/Naas/Naas_Start_data_product.ipynb\" target=\"_parent\">Generate Data Product</a>"
   ]
  },
  {
   "cell_type": "markdown",
   "id": "588aefd6-7a2d-4bcd-b06f-351e07199586",
   "metadata": {
    "papermill": {},
    "tags": []
   },
   "source": [
    "**Tags:** #naas #emailbuilder #snippet #operations"
   ]
  },
  {
   "cell_type": "markdown",
   "id": "a4de884f-6e75-4aa3-af33-e77375eb2dc8",
   "metadata": {
    "papermill": {},
    "tags": []
   },
   "source": [
    "**Author:** [Florent Ravenel](https://www.linkedin.com/in/ACoAABCNSioBW3YZHc2lBHVG0E_TXYWitQkmwog/)"
   ]
  },
  {
   "cell_type": "markdown",
   "id": "naas-description",
   "metadata": {
    "papermill": {},
    "tags": [
     "description"
    ]
   },
   "source": [
    "**Description:** This notebook provides a demonstration of the Naas Emailbuilder, a tool for creating and managing email campaigns."
   ]
  },
  {
   "cell_type": "markdown",
   "id": "aquatic-smile",
   "metadata": {
    "papermill": {},
    "tags": []
   },
   "source": [
    "## Input"
   ]
  },
  {
   "cell_type": "markdown",
   "id": "import_cell",
   "metadata": {
    "papermill": {},
    "tags": []
   },
   "source": [
    "### Import libraries"
   ]
  },
  {
   "cell_type": "code",
   "execution_count": null,
   "id": "stopped-yeast",
   "metadata": {
    "papermill": {},
    "tags": []
   },
   "outputs": [],
   "source": [
    "from naas_drivers import emailbuilder\n",
    "import naas\n",
    "import os\n",
    "from naas_data_product import *\n",
    "from naas_drivers import naasauth"
   ]
  },
  {
   "cell_type": "markdown",
   "id": "b65667cb-300f-48d7-9df0-c602fe004a36",
   "metadata": {
    "papermill": {},
    "tags": []
   },
   "source": [
    "### Setup Variables\n",
    "- `linkedin_url`: This variable is used for storing the URL of the LinkedIn profile to be updated. It is retrieved from an environment variable called \"LINKEDIN_PROFILE_URL\" using the os.environ.get() method. If the environment variable is not set, the naas.secret.get() method is used to retrieve the URL from a secret store.\n",
    "- `output_dir`: This variable is used for storing the path to the directory where the output files of the LinkedIn profile update process will be saved. In this case, the path is set to \"/home/ftp/content-engine-linkedin-profile/outputs/linkedin/profile\".\n",
    "- `subdir`: This variable is used for storing the name of a subdirectory where the output files will be saved. In this case, the subdirectory is set to \"12_mr_month\".\n",
    "- `graphs`: This variable is used for storing a list of graph types that will be updated for the LinkedIn profile. The available graph types are \"published\", \"views\", \"likes\", \"comments\", and \"shares\".\n",
    "- `email_to`: This variable is used for storing a list of email addresses that will receive the notification email. In this case, the list contains the email address of the script user, which is retrieved using the naasauth.connect().user.me().get(\"username\") method.\n",
    "- `subject`: This variable is used for storing the subject of the notification email. In this case, the subject is \"🖼️ Content Engine: LinkedIn profile update\".\n",
    "- `email_content`: This variable is used for storing the content of the notification email. In this case, it is an empty dictionary, which can be populated with additional content later."
   ]
  },
  {
   "cell_type": "code",
   "execution_count": null,
   "id": "absent-coach",
   "metadata": {
    "papermill": {},
    "tags": [
     "parameters"
    ]
   },
   "outputs": [],
   "source": [
    "# Inputs\n",
    "linkedin_url = os.environ.get(\"LINKEDIN_PROFILE_URL\") or naas.secret.get(\"LINKEDIN_PROFILE_URL\")\n",
    "output_dir = os.path.join(OUTPUTS_PATH, \"linkedin\", \"profile\")\n",
    "subdir = \"12_mr_month\"\n",
    "graphs = [\"published\", \"views\", \"likes\", \"comments\", \"shares\"]\n",
    "\n",
    "# Outputs\n",
    "email_to = [naasauth.connect().user.me().get(\"username\")] # List to emails address of the receiver(s)\n",
    "subject = \"🖼️ Content Engine: LinkedIn profile update\" # Email subject\n",
    "email_content = {}"
   ]
  },
  {
   "cell_type": "markdown",
   "id": "particular-chemical",
   "metadata": {
    "papermill": {},
    "tags": []
   },
   "source": [
    "## Model"
   ]
  },
  {
   "cell_type": "markdown",
   "id": "43465972-cdb0-4c4b-9919-627c2b61fd34",
   "metadata": {},
   "source": [
    "### Constants"
   ]
  },
  {
   "cell_type": "code",
   "execution_count": null,
   "id": "23113965-c96e-46a5-be68-709dadaa8301",
   "metadata": {
    "tags": []
   },
   "outputs": [],
   "source": [
    "NAAS_WEBSITE = \"https://www.naas.ai/\"\n",
    "IMAGE_NAAS = \"https://landen.imgix.net/jtci2pxwjczr/assets/5ice39g4.png?w=160\""
   ]
  },
  {
   "cell_type": "markdown",
   "id": "b2b733ee-97a5-4165-824f-204444d022a3",
   "metadata": {
    "papermill": {},
    "tags": []
   },
   "source": [
    "### Build the email"
   ]
  },
  {
   "cell_type": "code",
   "execution_count": null,
   "id": "mexican-coordinator",
   "metadata": {
    "papermill": {},
    "tags": []
   },
   "outputs": [],
   "source": [
    "# Create header naas\n",
    "header_naas = (f\"<a href='{NAAS_WEBSITE}'>\"\n",
    "               f\"<img align='center' width='30%' target='_blank' style='border-radius:5px;'\"\n",
    "               f\"src='{IMAGE_NAAS}'\"\n",
    "               \"alt='Daily update to analyze and improve your professional presence on LinkedIn.'/>\"\n",
    "               \"</a>\")\n",
    "\n",
    "# Update email content\n",
    "email_content = {\n",
    "    \"title\": header_naas,\n",
    "    \"heading\": emailbuilder.heading(\"Content Engine - LinkedIn profile\")\n",
    "}\n",
    "\n",
    "for graph in graphs:\n",
    "    # Get profile ID\n",
    "    profile_id = get_linkedin_id(linkedin_url)\n",
    "    \n",
    "    # Create output dir\n",
    "    output_dir_path = os.path.join(output_dir, profile_id, \"posts\", graph, subdir, \"png\")\n",
    "\n",
    "    # Get last file updated in dir\n",
    "    output_path = get_last_updated_file(output_dir_path, file_type=\"png\")\n",
    "    \n",
    "    # Check if asset exists\n",
    "    asset_link = naas.asset.find(output_path)\n",
    "    if not asset_link:\n",
    "        # Add asset\n",
    "        asset_link = naas.asset.add(output_path)\n",
    "        \n",
    "    # Add asset to email content dict\n",
    "    email_content[graph] = emailbuilder.image(asset_link, align=\"center\")\n",
    "    email_content[f\"{graph}_text\"] = emailbuilder.text(\"\")\n",
    "\n",
    "# Add footer to email\n",
    "email_content[\"footer_company\"] = emailbuilder.footer_company(naas=True)\n",
    "\n",
    "# Generate email\n",
    "content = emailbuilder.generate(display=\"iframe\", **email_content)"
   ]
  },
  {
   "cell_type": "markdown",
   "id": "aging-settlement",
   "metadata": {
    "papermill": {},
    "tags": []
   },
   "source": [
    "## Output"
   ]
  },
  {
   "cell_type": "markdown",
   "id": "display_cell",
   "metadata": {
    "papermill": {},
    "tags": []
   },
   "source": [
    "### Send the email"
   ]
  },
  {
   "cell_type": "code",
   "execution_count": null,
   "id": "fewer-sailing",
   "metadata": {
    "papermill": {},
    "tags": []
   },
   "outputs": [],
   "source": [
    "naas.notification.send(\n",
    "    email_to=email_to,\n",
    "    subject=subject,\n",
    "    html=content,\n",
    ")"
   ]
  }
 ],
 "metadata": {
  "kernelspec": {
   "display_name": "Python 3",
   "language": "python",
   "name": "python3"
  },
  "language_info": {
   "codemirror_mode": {
    "name": "ipython",
    "version": 3
   },
   "file_extension": ".py",
   "mimetype": "text/x-python",
   "name": "python",
   "nbconvert_exporter": "python",
   "pygments_lexer": "ipython3",
   "version": "3.9.6"
  },
  "naas": {
   "notebook_id": "a5f1933d-ce28-4c8e-858a-3bb67631a1e1",
   "notebook_path": "Naas/Naas_Emailbuilder_demo.ipynb"
  },
  "papermill": {
   "default_parameters": {},
   "environment_variables": {},
   "parameters": {},
   "version": "2.3.3"
  }
 },
 "nbformat": 4,
 "nbformat_minor": 5
}
