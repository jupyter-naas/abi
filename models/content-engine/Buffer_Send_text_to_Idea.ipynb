{
 "cells": [
  {
   "cell_type": "markdown",
   "id": "3d064ccd-ca27-4d34-85f6-84ce63dcc206",
   "metadata": {
    "papermill": {},
    "tags": []
   },
   "source": [
    "<img width=\"10%\" alt=\"Naas\" src=\"https://landen.imgix.net/jtci2pxwjczr/assets/5ice39g4.png?w=160\"/>"
   ]
  },
  {
   "cell_type": "markdown",
   "id": "fe7f0846-ce7f-43c9-8202-a90b9e29cd4c",
   "metadata": {
    "papermill": {},
    "tags": []
   },
   "source": [
    "# Buffer - Send text to Idea"
   ]
  },
  {
   "cell_type": "markdown",
   "id": "c0403ba8-62ef-4413-94d4-5b225a4ae7ac",
   "metadata": {
    "papermill": {},
    "tags": []
   },
   "source": [
    "**Tags:** #buffer #idea #text #send #python #api #command"
   ]
  },
  {
   "cell_type": "markdown",
   "id": "d295e708-adaa-45b8-911e-976451f36f80",
   "metadata": {
    "papermill": {},
    "tags": []
   },
   "source": [
    "**Author:** [Florent Ravenel](https://www.linkedin.com/in/florent-ravenel/)"
   ]
  },
  {
   "cell_type": "markdown",
   "id": "03594f2a-572a-4303-9161-c8e6b6d42f17",
   "metadata": {
    "papermill": {},
    "tags": []
   },
   "source": [
    "**Last update:** 2023-10-11 (Created: 2023-10-11)"
   ]
  },
  {
   "cell_type": "markdown",
   "id": "61edbaba-cd8f-43f2-b956-247d2408756f",
   "metadata": {
    "papermill": {},
    "tags": []
   },
   "source": [
    "**Description:** This notebook sent a text to a Buffer Idea."
   ]
  },
  {
   "cell_type": "markdown",
   "id": "633cba7e-6805-4f74-bfb7-a57f316a1958",
   "metadata": {
    "papermill": {},
    "tags": []
   },
   "source": [
    "**References:**\n",
    "- [Buffer - Create Idea](https://publish.buffer.com/content)"
   ]
  },
  {
   "cell_type": "markdown",
   "id": "dd7865b3-eb7b-4755-9929-54ae4355ac46",
   "metadata": {
    "papermill": {},
    "tags": []
   },
   "source": [
    "## Input"
   ]
  },
  {
   "cell_type": "markdown",
   "id": "9db307ec-534b-47b4-a606-6cf4e9213d24",
   "metadata": {
    "papermill": {},
    "tags": []
   },
   "source": [
    "### Import libraries"
   ]
  },
  {
   "cell_type": "code",
   "execution_count": null,
   "id": "9de34e94-bcf2-40c1-8970-6a7e07f4917b",
   "metadata": {
    "papermill": {},
    "tags": []
   },
   "outputs": [],
   "source": [
    "import requests\n",
    "import json\n",
    "import naas\n",
    "import pydash"
   ]
  },
  {
   "cell_type": "markdown",
   "id": "18fe9773-ca11-4d15-b0c0-e3b86315415d",
   "metadata": {
    "papermill": {},
    "tags": [
     "variables"
    ]
   },
   "source": [
    "### Setup variables\n",
    "- `organization_id`: Buffer organization ID\n",
    "- `text`: This variable contains the text content that you want to post on the Buffer profile. You can modify this string to change the content of the post.\n",
    "- `body`: This variable stores the body to be send by the webhook."
   ]
  },
  {
   "cell_type": "code",
   "execution_count": null,
   "id": "3d26d9bc-d873-4f81-a5f2-fa17e9d1a4dd",
   "metadata": {
    "papermill": {},
    "tags": []
   },
   "outputs": [],
   "source": [
    "organization_id = naas.secret.get(\"BUFFER_ORGANIZATION\")\n",
    "text = \"My Buffer Idea\"\n",
    "body = {}"
   ]
  },
  {
   "cell_type": "markdown",
   "id": "c708fbdc-74d7-4c5a-bcf4-8672ef7bdbe2",
   "metadata": {
    "execution": {
     "iopub.execute_input": "2023-09-26T17:20:36.759189Z",
     "iopub.status.busy": "2023-09-26T17:20:36.758881Z",
     "iopub.status.idle": "2023-09-26T17:20:36.765546Z",
     "shell.execute_reply": "2023-09-26T17:20:36.764836Z",
     "shell.execute_reply.started": "2023-09-26T17:20:36.759155Z"
    },
    "papermill": {},
    "tags": [
     "parameters"
    ]
   },
   "source": [
    "### Setup parameters\n",
    "The webhook body will be injected below this cell when the webhook is triggered. \n",
    "Therefore, it is important to set up how you will handle the injected variable from the body in order to make your script work.\n",
    "To receive the body from the webhook, please ensure that this cell is tagged as \"parameters\"."
   ]
  },
  {
   "cell_type": "code",
   "execution_count": null,
   "id": "cf09c4bb-419b-4b20-9b85-2778dfae0db2",
   "metadata": {
    "papermill": {},
    "tags": []
   },
   "outputs": [],
   "source": [
    "# Parameters\n",
    "if len(body) > 0:\n",
    "    organization_id = body.get(\"organization_id\")\n",
    "    text = body.get(\"text\")"
   ]
  },
  {
   "cell_type": "markdown",
   "id": "bf29c888-784f-4427-9a1b-0161fcdd8246",
   "metadata": {
    "papermill": {},
    "tags": []
   },
   "source": [
    "## Model"
   ]
  },
  {
   "cell_type": "markdown",
   "id": "090529fe-160d-4099-bfd1-e19fe6356777",
   "metadata": {
    "papermill": {},
    "tags": []
   },
   "source": [
    "### Send text to Idea"
   ]
  },
  {
   "cell_type": "markdown",
   "id": "0df9260c-b899-4666-ad12-1dd2ece7124b",
   "metadata": {
    "papermill": {},
    "tags": []
   },
   "source": [
    "This function will send text to Idea using the Buffer API."
   ]
  },
  {
   "cell_type": "code",
   "execution_count": null,
   "id": "6e09f56c-9254-432f-afdf-5674f16b18aa",
   "metadata": {
    "papermill": {},
    "tags": []
   },
   "outputs": [],
   "source": [
    "def parse_cookie(cookie):\n",
    "    data = {}\n",
    "    for c in cookie.split(\";\"):\n",
    "        key = c.split(\"=\", 1)[0].strip()\n",
    "        value = c.split(\"=\", 1)[-1].strip()\n",
    "        data[key] = value\n",
    "    return data\n",
    "\n",
    "def send_text_to_idea(organization_id, text):\n",
    "    # Init\n",
    "    status = \"ok\"\n",
    "    try:\n",
    "        result = None\n",
    "        cookie = naas.secret.get(\"BUFFER_COOKIES\")\n",
    "        cookies = parse_cookie(cookie)\n",
    "\n",
    "        # Base URL\n",
    "        url = \"https://graph.buffer.com/\"\n",
    "\n",
    "        # Headers\n",
    "        headers = {\n",
    "            \"authority\": \"graph.buffer.com\",\n",
    "            \"accept\": \"*/*\",\n",
    "            \"accept-language\": \"fr-FR,fr;q=0.9,en-US;q=0.8,en;q=0.7\",\n",
    "            \"content-type\": \"application/json\",\n",
    "            \"origin\": \"https://publish.buffer.com\",\n",
    "            \"referer\": \"https://publish.buffer.com/\",\n",
    "            \"sec-ch-ua\": '\"Google Chrome\";v=\"117\", \"Not;A=Brand\";v=\"8\", \"Chromium\";v=\"117\"',\n",
    "            \"sec-ch-ua-mobile\": \"?0\",\n",
    "            \"sec-ch-ua-platform\": '\"Windows\"',\n",
    "            \"sec-fetch-dest\": \"empty\",\n",
    "            \"sec-fetch-mode\": \"cors\",\n",
    "            \"sec-fetch-site\": \"same-site\",\n",
    "            \"user-agent\": \"Mozilla/5.0 (Windows NT 10.0; Win64; x64) AppleWebKit/537.36 (KHTML, like Gecko) Chrome/117.0.0.0 Safari/537.36\",\n",
    "            \"x-buffer-client-id\": \"webapp-publishing\"\n",
    "        }\n",
    "\n",
    "        data = {\n",
    "            \"operationName\": \"CreateIdea\",\n",
    "            \"variables\": {\n",
    "                \"input\": {\n",
    "                    \"content\": {\n",
    "                        \"text\": text,\n",
    "                        \"media\": [],\n",
    "                        \"tags\": []\n",
    "                    },\n",
    "                    \"organizationId\": organization_id,\n",
    "                    \"source\": \"content\"\n",
    "                }\n",
    "            },\n",
    "            \"query\": 'mutation CreateIdea($input: IdeaCreationInput\\u0021) {\\n  ideaCreate(input: $input) {\\n    ... on IdeaMutationSuccess {\\n      success\\n      message\\n      idea {\\n        id\\n        content {\\n          text\\n          __typename\\n        }\\n        __typename\\n      }\\n      __typename\\n    }\\n    ... on CoreWebAppCommonError {\\n      message\\n      code\\n      error\\n      __typename\\n    }\\n    __typename\\n  }\\n}\\n'\n",
    "        }\n",
    "        res = requests.post(url, headers=headers, data=json.dumps(data), cookies=cookies)\n",
    "        print(res)\n",
    "        if res.status_code == 200:\n",
    "            message = pydash.get(res.json(), \"data.ideaCreate.message\")\n",
    "        else:\n",
    "            print(res.status_code)\n",
    "            print(res.text)\n",
    "            message = res.text\n",
    "    except Exception as e:\n",
    "            message = f\"Template error: {e}\"\n",
    "    return status, message\n",
    "\n",
    "status, message = send_text_to_idea(organization_id, text)"
   ]
  },
  {
   "cell_type": "markdown",
   "id": "9ef12d0f-2efe-4163-90a9-2ec9206c2ce5",
   "metadata": {
    "papermill": {},
    "tags": []
   },
   "source": [
    "## Output"
   ]
  },
  {
   "cell_type": "markdown",
   "id": "a92f90b2-c999-49d4-8f70-64bed955ea61",
   "metadata": {
    "papermill": {},
    "tags": []
   },
   "source": [
    "### Create or update Webhook"
   ]
  },
  {
   "cell_type": "code",
   "execution_count": null,
   "id": "592a1ba4-cdf6-4119-b222-42b64f62e7c0",
   "metadata": {},
   "outputs": [],
   "source": [
    "naas.webhook.add()"
   ]
  },
  {
   "cell_type": "markdown",
   "id": "fbc1a6c1-ad7d-47a5-ab13-2004752cd03f",
   "metadata": {
    "execution": {
     "iopub.execute_input": "2023-09-26T15:15:09.022426Z",
     "iopub.status.busy": "2023-09-26T15:15:09.022118Z",
     "iopub.status.idle": "2023-09-26T15:15:09.025782Z",
     "shell.execute_reply": "2023-09-26T15:15:09.025087Z",
     "shell.execute_reply.started": "2023-09-26T15:15:09.022389Z"
    },
    "papermill": {},
    "tags": []
   },
   "source": [
    "### Return JSON response\n",
    "Response sent to the browser before displayed in Chat UI."
   ]
  },
  {
   "cell_type": "code",
   "execution_count": null,
   "id": "5609eb79-ccc5-4370-af21-a57eb84f71d4",
   "metadata": {
    "papermill": {},
    "tags": []
   },
   "outputs": [],
   "source": [
    "naas.webhook.respond_json(\n",
    "    {\n",
    "        \"status\": status, \n",
    "        \"message\": message\n",
    "    }\n",
    ")"
   ]
  },
  {
   "cell_type": "code",
   "execution_count": null,
   "id": "2b106255-4498-491b-9674-45cd1563306f",
   "metadata": {},
   "outputs": [],
   "source": []
  }
 ],
 "metadata": {
  "kernelspec": {
   "display_name": "Python 3",
   "language": "python",
   "name": "python3"
  },
  "language_info": {
   "codemirror_mode": {
    "name": "ipython",
    "version": 3
   },
   "file_extension": ".py",
   "mimetype": "text/x-python",
   "name": "python",
   "nbconvert_exporter": "python",
   "pygments_lexer": "ipython3",
   "version": "3.9.6"
  },
  "widgets": {
   "application/vnd.jupyter.widget-state+json": {
    "state": {},
    "version_major": 2,
    "version_minor": 0
   }
  }
 },
 "nbformat": 4,
 "nbformat_minor": 5
}
