{
 "cells": [
  {
   "cell_type": "markdown",
   "id": "deluxe-force",
   "metadata": {
    "papermill": {},
    "tags": []
   },
   "source": [
    "<img width=\"10%\" alt=\"Naas\" src=\"https://landen.imgix.net/jtci2pxwjczr/assets/5ice39g4.png?w=160\"/>\n"
   ]
  },
  {
   "cell_type": "markdown",
   "id": "unlimited-internship",
   "metadata": {
    "papermill": {},
    "tags": []
   },
   "source": [
    "# Naas - Create Pipeline\n",
    "<a href=\"https://app.naas.ai/user-redirect/naas/downloader?url=https://raw.githubusercontent.com/jupyter-naas/awesome-notebooks/master/Naas/Naas_Create_Pipeline.ipynb\" target=\"_parent\"><img src=\"https://naasai-public.s3.eu-west-3.amazonaws.com/Open_in_Naas_Lab.svg\"/></a><br><br><a href=\"https://github.com/jupyter-naas/awesome-notebooks/issues/new?assignees=&labels=&template=template-request.md&title=Tool+-+Action+of+the+notebook+\">Template request</a> | <a href=\"https://github.com/jupyter-naas/awesome-notebooks/issues/new?assignees=&labels=bug&template=bug_report.md&title=Naas+-+Create+Pipeline:+Error+short+description\">Bug report</a> | <a href=\"https://app.naas.ai/user-redirect/naas/downloader?url=https://raw.githubusercontent.com/jupyter-naas/awesome-notebooks/master/Naas/Naas_Start_data_product.ipynb\" target=\"_parent\">Generate Data Product</a>"
   ]
  },
  {
   "cell_type": "markdown",
   "id": "3097faf3-b2b9-41fd-8589-f7718b5f919a",
   "metadata": {
    "papermill": {},
    "tags": []
   },
   "source": [
    "**Tags:** #naas #pipeline #jupyter #notebook #dataanalysis #workflow #streamline"
   ]
  },
  {
   "cell_type": "markdown",
   "id": "opposite-guatemala",
   "metadata": {
    "papermill": {},
    "tags": []
   },
   "source": [
    "**Author:** [Maxime Jublou](https://www.linkedin.com/in/maximejublou)"
   ]
  },
  {
   "cell_type": "markdown",
   "id": "bf2e0f26-7fdf-4351-9209-8bb54c5ef7e9",
   "metadata": {
    "papermill": {},
    "tags": []
   },
   "source": [
    "**Description:** This notebook is a guide that teaches you how to create a notebook pipeline using naas."
   ]
  },
  {
   "cell_type": "markdown",
   "id": "input_cell",
   "metadata": {
    "papermill": {},
    "tags": []
   },
   "source": [
    "## Input"
   ]
  },
  {
   "cell_type": "markdown",
   "id": "import_cell",
   "metadata": {
    "papermill": {},
    "tags": []
   },
   "source": [
    "### Import libraries"
   ]
  },
  {
   "cell_type": "code",
   "execution_count": 1,
   "id": "funny-neighbor",
   "metadata": {
    "execution": {
     "iopub.execute_input": "2023-08-17T10:45:11.117924Z",
     "iopub.status.busy": "2023-08-17T10:45:11.117481Z",
     "iopub.status.idle": "2023-08-17T10:45:14.092058Z",
     "shell.execute_reply": "2023-08-17T10:45:14.091447Z",
     "shell.execute_reply.started": "2023-08-17T10:45:11.117855Z"
    },
    "papermill": {},
    "tags": []
   },
   "outputs": [],
   "source": [
    "from naas.pipeline import (\n",
    "    Pipeline,\n",
    "    DummyStep,\n",
    "    DummyErrorStep,\n",
    "    NotebookStep,\n",
    "    End,\n",
    "    ParallelStep,\n",
    ")"
   ]
  },
  {
   "cell_type": "markdown",
   "id": "e15d093c-0189-42c3-959f-64eed5530fd4",
   "metadata": {
    "papermill": {},
    "tags": []
   },
   "source": [
    "### Setup NotebookStep\n",
    "For demonstration purposes, we used the `DummyStep` to illustrate its functionality.\n",
    "\n",
    "In order to create a pipeline, you should used the `NotebookStep()` which has three parameters:\n",
    "- the name (string) of the step\n",
    "- the notebook path (string) for execution\n",
    "- the parameters (dictionary) that are injected through papermill in the first cell or after the cell labeled \"parameters.\"\n",
    "\n",
    "`NotebookStep(\"My Notebook\", \"my_notebook.ipynb\")`"
   ]
  },
  {
   "cell_type": "code",
   "execution_count": 2,
   "id": "fa346868-d375-4547-b11b-79311e3f1fc3",
   "metadata": {
    "execution": {
     "iopub.execute_input": "2023-08-17T10:45:14.095557Z",
     "iopub.status.busy": "2023-08-17T10:45:14.092918Z",
     "iopub.status.idle": "2023-08-17T10:45:14.099812Z",
     "shell.execute_reply": "2023-08-17T10:45:14.099301Z",
     "shell.execute_reply.started": "2023-08-17T10:45:14.095530Z"
    },
    "papermill": {},
    "tags": []
   },
   "outputs": [],
   "source": [
    "collection = NotebookStep(\"LinkedIn_Send_metrics_analysis_by_email_with_chat_plugin_CTA\", \"LinkedIn_Send_metrics_analysis_by_email_with_chat_plugin_CTA.ipynb\")\n",
    "cleaning = DummyStep(\n",
    "    \"Cleaning\"\n",
    ")  # Once the data is collected, it is often necessary to clean and preprocess it to remove any irrelevant or duplicate information. This step may involve tasks such as removing null values, correcting data formats, and standardizing column names.\n",
    "transformation1 = DummyStep(\n",
    "    \"Transformation 1\"\n",
    ")  # In this step, the data is transformed into the desired format, such as a flat file or a specific data model. This may involve tasks such as aggregating data, joining multiple tables, or calculating new fields.\n",
    "transformation2 = DummyStep(\n",
    "    \"Transformation 2\"\n",
    ")  # In this step, the data is transformed into the desired format, such as a flat file or a specific data model. This may involve tasks such as aggregating data, joining multiple tables, or calculating new fields.\n",
    "distribution = DummyStep(\n",
    "    \"Distribution\"\n",
    ")  # In this step, the data is loaded into its final destination, such as a data warehouse, a data lake, or a specific application."
   ]
  },
  {
   "cell_type": "markdown",
   "id": "model_cell",
   "metadata": {
    "papermill": {},
    "tags": []
   },
   "source": [
    "## Model"
   ]
  },
  {
   "cell_type": "markdown",
   "id": "display_cell",
   "metadata": {
    "papermill": {},
    "tags": []
   },
   "source": [
    "### Create Basic Pipeline\n",
    "- Link your notebook using this syntax: `>>`\n",
    "- Create ParallelStep using this syntax: `[step1, step2]`"
   ]
  },
  {
   "cell_type": "code",
   "execution_count": 3,
   "id": "c14e4a38-75b1-475b-bc28-45db7effe45f",
   "metadata": {
    "execution": {
     "iopub.execute_input": "2023-08-17T10:45:14.100998Z",
     "iopub.status.busy": "2023-08-17T10:45:14.100772Z",
     "iopub.status.idle": "2023-08-17T10:45:23.454049Z",
     "shell.execute_reply": "2023-08-17T10:45:23.453245Z",
     "shell.execute_reply.started": "2023-08-17T10:45:14.100971Z"
    },
    "papermill": {},
    "tags": []
   },
   "outputs": [
    {
     "data": {
      "text/html": [
       "<html>\n",
       "<head>\n",
       "<link rel=\"stylesheet\" href=\"https://cdn.jsdelivr.net/npm/vis-network@latest/styles/vis-network.css\" type=\"text/css\" />\n",
       "<script type=\"text/javascript\" src=\"https://cdn.jsdelivr.net/npm/vis-network@latest/dist/vis-network.min.js\"> </script>\n",
       "<center>\n",
       "<h1></h1>\n",
       "</center>\n",
       "\n",
       "<!-- <link rel=\"stylesheet\" href=\"../node_modules/vis/dist/vis.min.css\" type=\"text/css\" />\n",
       "<script type=\"text/javascript\" src=\"../node_modules/vis/dist/vis.js\"> </script>-->\n",
       "\n",
       "<style type=\"text/css\">\n",
       "\n",
       "        #mynetwork {\n",
       "            width: 100%;\n",
       "            height: 1000px;\n",
       "            background-color: #212121;\n",
       "            border: 1px solid lightgray;\n",
       "            position: relative;\n",
       "            float: left;\n",
       "        }\n",
       "\n",
       "        \n",
       "\n",
       "        \n",
       "\n",
       "        \n",
       "</style>\n",
       "\n",
       "</head>\n",
       "\n",
       "<body>\n",
       "<div id = \"mynetwork\"></div>\n",
       "\n",
       "\n",
       "<script type=\"text/javascript\">\n",
       "\n",
       "    // initialize global variables.\n",
       "    var edges;\n",
       "    var nodes;\n",
       "    var network; \n",
       "    var container;\n",
       "    var options, data;\n",
       "\n",
       "    \n",
       "    // This method is responsible for drawing the graph, returns the drawn network\n",
       "    function drawGraph() {\n",
       "        var container = document.getElementById('mynetwork');\n",
       "        \n",
       "        \n",
       "\n",
       "        // parsing and collecting nodes and edges from the python\n",
       "        nodes = new vis.DataSet([{\"color\": \"#5DE191\", \"font\": {\"color\": \"#ffffff\"}, \"id\": \"Start\", \"image\": \"start-end.png\", \"label\": \"Start\", \"level\": 0, \"mass\": 5, \"shape\": \"circularImage\", \"x\": 0, \"y\": 0}, {\"color\": \"#FF3938\", \"font\": {\"color\": \"#ffffff\"}, \"id\": \"LinkedIn_Send_metrics_analysis_by_email_with_chat_plugin_CTA\", \"label\": \"LinkedIn_Send_metrics_analysis_by_email_with_chat_plugin_CTA\", \"level\": 1, \"mass\": 5, \"shape\": \"box\", \"x\": 1, \"y\": 0}, {\"color\": \"#9EA7AC\", \"font\": {\"color\": \"#ffffff\"}, \"id\": \"Cleaning\", \"label\": \"Cleaning\", \"level\": 2, \"mass\": 5, \"shape\": \"box\", \"x\": 2, \"y\": 0}, {\"color\": \"#9EA7AC\", \"font\": {\"color\": \"#ffffff\"}, \"id\": \"ParallelStep-2def2a7e-c015-43b4-a74c-d31ddaf28021\", \"image\": \"parallel.png\", \"label\": \"Parallel Step\", \"level\": 3, \"mass\": 20, \"shape\": \"circularImage\", \"x\": 3, \"y\": 0}, {\"color\": \"#9EA7AC\", \"font\": {\"color\": \"#ffffff\"}, \"id\": \"Transformation 1\", \"label\": \"Transformation 1\", \"level\": 4, \"mass\": 5, \"shape\": \"box\", \"x\": 4, \"y\": 0}, {\"color\": \"#9EA7AC\", \"font\": {\"color\": \"#ffffff\"}, \"id\": \"Transformation 2\", \"label\": \"Transformation 2\", \"level\": 4, \"mass\": 5, \"shape\": \"box\", \"x\": 4, \"y\": 0}, {\"color\": \"#9EA7AC\", \"font\": {\"color\": \"#ffffff\"}, \"id\": \"Distribution\", \"label\": \"Distribution\", \"level\": 5, \"mass\": 5, \"shape\": \"box\", \"x\": 5, \"y\": 0}, {\"color\": \"#9EA7AC\", \"font\": {\"color\": \"#ffffff\"}, \"id\": \"End\", \"image\": \"start-end.png\", \"label\": \"End\", \"level\": 6, \"mass\": 5, \"shape\": \"circularImage\", \"x\": 6, \"y\": 0}]);\n",
       "        edges = new vis.DataSet([{\"arrows\": \"to\", \"from\": \"ParallelStep-2def2a7e-c015-43b4-a74c-d31ddaf28021\", \"to\": \"Transformation 1\"}, {\"arrows\": \"to\", \"from\": \"ParallelStep-2def2a7e-c015-43b4-a74c-d31ddaf28021\", \"to\": \"Transformation 2\"}, {\"arrows\": \"to\", \"from\": \"Distribution\", \"to\": \"End\"}, {\"arrows\": \"to\", \"from\": \"Transformation 1\", \"to\": \"Distribution\"}, {\"arrows\": \"to\", \"from\": \"Transformation 2\", \"to\": \"Distribution\"}, {\"arrows\": \"to\", \"from\": \"Cleaning\", \"to\": \"ParallelStep-2def2a7e-c015-43b4-a74c-d31ddaf28021\"}, {\"arrows\": \"to\", \"from\": \"LinkedIn_Send_metrics_analysis_by_email_with_chat_plugin_CTA\", \"to\": \"Cleaning\"}, {\"arrows\": \"to\", \"from\": \"Start\", \"to\": \"LinkedIn_Send_metrics_analysis_by_email_with_chat_plugin_CTA\"}]);\n",
       "\n",
       "        // adding nodes and edges to the graph\n",
       "        data = {nodes: nodes, edges: edges};\n",
       "\n",
       "        var options = {\n",
       "    \"configure\": {\n",
       "        \"enabled\": false\n",
       "    },\n",
       "    \"edges\": {\n",
       "        \"color\": {\n",
       "            \"inherit\": true\n",
       "        },\n",
       "        \"smooth\": {\n",
       "            \"enabled\": true,\n",
       "            \"type\": \"dynamic\"\n",
       "        }\n",
       "    },\n",
       "    \"interaction\": {\n",
       "        \"dragNodes\": true,\n",
       "        \"hideEdgesOnDrag\": false,\n",
       "        \"hideNodesOnDrag\": false\n",
       "    },\n",
       "    \"layout\": {\n",
       "        \"hierarchical\": {\n",
       "            \"blockShifting\": true,\n",
       "            \"edgeMinimization\": true,\n",
       "            \"enabled\": true,\n",
       "            \"levelSeparation\": 150,\n",
       "            \"parentCentralization\": true,\n",
       "            \"sortMethod\": \"hubsize\",\n",
       "            \"treeSpacing\": 200\n",
       "        },\n",
       "        \"improvedLayout\": true,\n",
       "        \"randomSeed\": 0\n",
       "    },\n",
       "    \"physics\": {\n",
       "        \"enabled\": false,\n",
       "        \"stabilization\": {\n",
       "            \"enabled\": true,\n",
       "            \"fit\": true,\n",
       "            \"iterations\": 1000,\n",
       "            \"onlyDynamicEdges\": false,\n",
       "            \"updateInterval\": 50\n",
       "        }\n",
       "    }\n",
       "};\n",
       "        \n",
       "        \n",
       "\n",
       "        \n",
       "\n",
       "        network = new vis.Network(container, data, options);\n",
       "\t \n",
       "        \n",
       "\n",
       "\n",
       "        \n",
       "\n",
       "        return network;\n",
       "\n",
       "    }\n",
       "\n",
       "    drawGraph();\n",
       "\n",
       "</script>\n",
       "</body>\n",
       "</html>"
      ],
      "text/plain": [
       "<IPython.core.display.HTML object>"
      ]
     },
     "metadata": {},
     "output_type": "display_data"
    }
   ],
   "source": [
    "pipeline = Pipeline()\n",
    "\n",
    "(\n",
    "    pipeline\n",
    "    >> collection\n",
    "    >> cleaning\n",
    "    >> [transformation1, transformation2]\n",
    "    >> distribution\n",
    "    >> End()\n",
    ")\n",
    "\n",
    "pipeline.run()"
   ]
  },
  {
   "cell_type": "markdown",
   "id": "output_cell",
   "metadata": {
    "papermill": {},
    "tags": []
   },
   "source": [
    "## Output"
   ]
  },
  {
   "cell_type": "markdown",
   "id": "0edae619-f16d-4b31-a2c9-96e4aa0fa3a0",
   "metadata": {
    "papermill": {},
    "tags": []
   },
   "source": [
    "### Monitor your pipeline in \"pipeline_executions\"\n",
    "When the pipeline is run, a \"pipeline_executions\" folder will be created in your file system. Inside this folder, you will be able to access each pipeline executions. If you use NotebookStep, executed notebooks will be stored in this folder. This allows you to easily review and analyze the results of the pipeline, and to troubleshoot any issues that may have occurred. The \"pipeline_executions\" folder is a valuable tool for understanding the performance of your pipeline and for making improvements to it over time."
   ]
  }
 ],
 "metadata": {
  "kernelspec": {
   "display_name": "Python 3",
   "language": "python",
   "name": "python3"
  },
  "language_info": {
   "codemirror_mode": {
    "name": "ipython",
    "version": 3
   },
   "file_extension": ".py",
   "mimetype": "text/x-python",
   "name": "python",
   "nbconvert_exporter": "python",
   "pygments_lexer": "ipython3",
   "version": "3.9.6"
  },
  "naas": {
   "notebook_id": "92ddbcf7c74813cc4c906ca6b7d04cc2590230b5fb16082b396de5b9872be0cf",
   "notebook_path": "Naas/Naas_Create_Pipeline.ipynb"
  },
  "papermill": {
   "default_parameters": {},
   "environment_variables": {},
   "parameters": {},
   "version": "2.3.3"
  }
 },
 "nbformat": 4,
 "nbformat_minor": 5
}
