{
 "cells": [
  {
   "cell_type": "markdown",
   "id": "deluxe-force",
   "metadata": {
    "papermill": {},
    "tags": []
   },
   "source": [
    "<img width=\"10%\" alt=\"Naas\" src=\"https://landen.imgix.net/jtci2pxwjczr/assets/5ice39g4.png?w=160\"/>\n"
   ]
  },
  {
   "cell_type": "markdown",
   "id": "unlimited-internship",
   "metadata": {
    "papermill": {},
    "tags": []
   },
   "source": [
    "# Naas - Create Pipeline\n",
    "<a href=\"https://app.naas.ai/user-redirect/naas/downloader?url=https://raw.githubusercontent.com/jupyter-naas/awesome-notebooks/master/Naas/Naas_Create_Pipeline.ipynb\" target=\"_parent\"><img src=\"https://naasai-public.s3.eu-west-3.amazonaws.com/Open_in_Naas_Lab.svg\"/></a><br><br><a href=\"https://github.com/jupyter-naas/awesome-notebooks/issues/new?assignees=&labels=&template=template-request.md&title=Tool+-+Action+of+the+notebook+\">Template request</a> | <a href=\"https://github.com/jupyter-naas/awesome-notebooks/issues/new?assignees=&labels=bug&template=bug_report.md&title=Naas+-+Create+Pipeline:+Error+short+description\">Bug report</a> | <a href=\"https://app.naas.ai/user-redirect/naas/downloader?url=https://raw.githubusercontent.com/jupyter-naas/awesome-notebooks/master/Naas/Naas_Start_data_product.ipynb\" target=\"_parent\">Generate Data Product</a>"
   ]
  },
  {
   "cell_type": "markdown",
   "id": "3097faf3-b2b9-41fd-8589-f7718b5f919a",
   "metadata": {
    "papermill": {},
    "tags": []
   },
   "source": [
    "**Tags:** #naas #pipeline #jupyter #notebook #dataanalysis #workflow #streamline"
   ]
  },
  {
   "cell_type": "markdown",
   "id": "opposite-guatemala",
   "metadata": {
    "papermill": {},
    "tags": []
   },
   "source": [
    "**Author:** [Maxime Jublou](https://www.linkedin.com/in/maximejublou)"
   ]
  },
  {
   "cell_type": "markdown",
   "id": "bf2e0f26-7fdf-4351-9209-8bb54c5ef7e9",
   "metadata": {
    "papermill": {},
    "tags": []
   },
   "source": [
    "**Description:** This notebook is a guide that teaches you how to create a notebook pipeline using naas."
   ]
  },
  {
   "cell_type": "markdown",
   "id": "input_cell",
   "metadata": {
    "papermill": {},
    "tags": []
   },
   "source": [
    "## Input"
   ]
  },
  {
   "cell_type": "markdown",
   "id": "import_cell",
   "metadata": {
    "papermill": {},
    "tags": []
   },
   "source": [
    "### Import libraries"
   ]
  },
  {
   "cell_type": "code",
   "execution_count": null,
   "id": "funny-neighbor",
   "metadata": {
    "execution": {
     "iopub.execute_input": "2023-08-17T10:45:11.117924Z",
     "iopub.status.busy": "2023-08-17T10:45:11.117481Z",
     "iopub.status.idle": "2023-08-17T10:45:14.092058Z",
     "shell.execute_reply": "2023-08-17T10:45:14.091447Z",
     "shell.execute_reply.started": "2023-08-17T10:45:11.117855Z"
    },
    "papermill": {},
    "tags": []
   },
   "outputs": [],
   "source": [
    "from naas.pipeline import (\n",
    "    Pipeline,\n",
    "    DummyStep,\n",
    "    DummyErrorStep,\n",
    "    NotebookStep,\n",
    "    End,\n",
    "    ParallelStep,\n",
    ")"
   ]
  },
  {
   "cell_type": "markdown",
   "id": "6f475768-fc35-49be-ab14-3e8e8a1b5b35",
   "metadata": {},
   "source": [
    "### Setup variables"
   ]
  },
  {
   "cell_type": "code",
   "execution_count": null,
   "id": "6d5c03ae-950f-45c1-b8ce-31938b1be8ff",
   "metadata": {
    "tags": []
   },
   "outputs": [],
   "source": [
    "# LinkedIn\n",
    "li_at = naas.secret.get(\"LINKEDIN_LI_AT\") or \"YOUR_LINKEDIN_LI_AT\" #example: AQFAzQN_PLPR4wAAAXc-FCKmgiMit5FLdY1af3-2\n",
    "JSESSIONID = naas.secret.get(\"LINKEDIN_JSESSIONID\") or \"YOUR_LINKEDIN_JSESSIONID\" #example: ajax:8379907400220387585\n",
    "linkedin_url = \"https://www.linkedin.com/in/maximejublou/\"  # EXAMPLE \"https://www.linkedin.com/in/XXXXXX/\"\n",
    "output_dir = os.path.join(naas_data_product.OUTPUTS_PATH, \"content-engine\")\n",
    "print(\"Output directory:\", output_dir)\n",
    "\n",
    "# Google Sheets\n",
    "spreadsheet_url = \"https://docs.google.com/spreadsheets/d/1GDVJxBajYx7VR48yKGnSvMsEjzXvqI94hlmPXI5qEp8/edit#gid=0\" or naas.secret.get(\"MY_AI_AVATAR_SPREADSHEET\")\n",
    "sheet_name = \"CONTENT\"\n",
    "\n",
    "# Notification\n",
    "email_to = \"jeremy@naas.ai\"\n",
    "\n",
    "# Scheduler\n",
    "cron = \"0 8 * * *\""
   ]
  },
  {
   "cell_type": "markdown",
   "id": "model_cell",
   "metadata": {
    "papermill": {},
    "tags": []
   },
   "source": [
    "## Model"
   ]
  },
  {
   "cell_type": "markdown",
   "id": "980f0e63-4504-456f-afc9-73ac531b4df1",
   "metadata": {},
   "source": [
    "### Setup notebooks\n",
    "This section is made to declare all the notebooks and create unique IDs that will be used in the pipeline. "
   ]
  },
  {
   "cell_type": "code",
   "execution_count": null,
   "id": "fa346868-d375-4547-b11b-79311e3f1fc3",
   "metadata": {
    "execution": {
     "iopub.execute_input": "2023-08-17T10:45:14.095557Z",
     "iopub.status.busy": "2023-08-17T10:45:14.092918Z",
     "iopub.status.idle": "2023-08-17T10:45:14.099812Z",
     "shell.execute_reply": "2023-08-17T10:45:14.099301Z",
     "shell.execute_reply.started": "2023-08-17T10:45:14.095530Z"
    },
    "papermill": {},
    "tags": []
   },
   "outputs": [],
   "source": [
    "extraction = DummyStep(\n",
    "    \"Get LinkedIn posts\"\n",
    ")\n",
    "cleaning = DummyStep(\n",
    "    \"Send data to Google Sheets\"\n",
    ")\n",
    "analytics = DummyStep(\n",
    "    \"Create analytics\"\n",
    ")  \n",
    "distribution1 = DummyStep(\n",
    "    \"Send Email notification\"\n",
    ")\n",
    "distribution2 = DummyStep(\n",
    "    \"Generate plugin\"\n",
    ")"
   ]
  },
  {
   "cell_type": "markdown",
   "id": "712f6ff4-938c-41ca-822e-d2012db8b7d5",
   "metadata": {},
   "source": [
    "## Output"
   ]
  },
  {
   "cell_type": "markdown",
   "id": "eabd8817-11d3-4077-ad4a-0d3f673410f2",
   "metadata": {},
   "source": [
    "### Run pipeline"
   ]
  },
  {
   "cell_type": "code",
   "execution_count": null,
   "id": "507cbbe6-4d8c-4ba5-98f1-c844bb36b7bc",
   "metadata": {
    "tags": []
   },
   "outputs": [],
   "source": [
    "pipeline = Pipeline()\n",
    "\n",
    "pipeline >> extraction >> cleaning >> analytics >> [distribution1, distribution2] >> End()\n",
    "\n",
    "pipeline.run(outputs_path=os.path.join(output_dir, \"pipeline_executions\"))"
   ]
  },
  {
   "cell_type": "markdown",
   "id": "420e70d9-c5d7-4df9-a2b5-ad10b6055ebe",
   "metadata": {},
   "source": [
    "### Add scheduler"
   ]
  },
  {
   "cell_type": "code",
   "execution_count": null,
   "id": "65e1c5eb-aa56-45a1-adc1-e3053f668d85",
   "metadata": {},
   "outputs": [],
   "source": [
    "naas.scheduler.add(cron=cron)"
   ]
  }
 ],
 "metadata": {
  "kernelspec": {
   "display_name": "Python 3",
   "language": "python",
   "name": "python3"
  },
  "language_info": {
   "codemirror_mode": {
    "name": "ipython",
    "version": 3
   },
   "file_extension": ".py",
   "mimetype": "text/x-python",
   "name": "python",
   "nbconvert_exporter": "python",
   "pygments_lexer": "ipython3",
   "version": "3.9.6"
  },
  "naas": {
   "notebook_id": "92ddbcf7c74813cc4c906ca6b7d04cc2590230b5fb16082b396de5b9872be0cf",
   "notebook_path": "Naas/Naas_Create_Pipeline.ipynb"
  },
  "papermill": {
   "default_parameters": {},
   "environment_variables": {},
   "parameters": {},
   "version": "2.3.3"
  }
 },
 "nbformat": 4,
 "nbformat_minor": 5
}
