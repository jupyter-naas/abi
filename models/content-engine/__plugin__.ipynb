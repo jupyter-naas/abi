{
 "cells": [
  {
   "cell_type": "markdown",
   "id": "b389a8b8-3546-4092-ad52-52227c5a5c8e",
   "metadata": {
    "papermill": {},
    "tags": []
   },
   "source": [
    "<img width=\"8%\" alt=\"Naas.png\" src=\"https://raw.githubusercontent.com/jupyter-naas/awesome-notebooks/master/.github/assets/logos/Naas.png\" style=\"border-radius: 15%\">"
   ]
  },
  {
   "cell_type": "markdown",
   "id": "a5b2c509-2c29-49e8-af91-4f3f1e386da3",
   "metadata": {
    "papermill": {},
    "tags": []
   },
   "source": [
    "# Plugin"
   ]
  },
  {
   "cell_type": "markdown",
   "id": "d77fe283-4edd-42d3-a909-8e207d4b842f",
   "metadata": {
    "papermill": {},
    "tags": []
   },
   "source": [
    "**Tags:** #naaschatplugin #naas #naas_driver #chat #plugin #ai"
   ]
  },
  {
   "cell_type": "markdown",
   "id": "b90f2d91-c886-4e36-8265-b09d06bb1c7f",
   "metadata": {
    "papermill": {},
    "tags": []
   },
   "source": [
    "**Author:** [Florent Ravenel](https://www.linkedin.com/in/florent-ravenel)"
   ]
  },
  {
   "cell_type": "markdown",
   "id": "214749fe-7f0b-4755-b7ea-1d200c234cc6",
   "metadata": {
    "papermill": {},
    "tags": []
   },
   "source": [
    "**Description:** This notebook creates a Naas Chat plugin with commands."
   ]
  },
  {
   "cell_type": "markdown",
   "id": "cff349c8-2816-4ae4-9229-027c068eeb51",
   "metadata": {
    "papermill": {},
    "tags": []
   },
   "source": [
    "## Input"
   ]
  },
  {
   "cell_type": "markdown",
   "id": "80266a9e-fe54-4f3e-aeb2-01483bbc53f9",
   "metadata": {
    "papermill": {},
    "tags": []
   },
   "source": [
    "### Import libraries"
   ]
  },
  {
   "cell_type": "code",
   "execution_count": null,
   "id": "cc038b10-2679-42bc-909e-09a298339df4",
   "metadata": {
    "papermill": {},
    "tags": []
   },
   "outputs": [],
   "source": [
    "import naas\n",
    "from naas_drivers import naas_chat_plugin, gsheet\n",
    "import naas_data_product\n",
    "from IPython.display import Markdown\n",
    "from datetime import date, timedelta\n",
    "import os\n",
    "import pandas as pd"
   ]
  },
  {
   "cell_type": "markdown",
   "id": "e930da4d-39a2-424e-8808-77fd0a3829bf",
   "metadata": {
    "papermill": {},
    "tags": []
   },
   "source": [
    "### Setup variables\n",
    "**Inputs**\n",
    "- `input_dir`: Input directory to retrieve file from.\n",
    "- `file_content`: Name of the file to be retrieved.\n",
    "- `spreadsheet_url`: Google Sheets spreadsheet URL.\n",
    "- `sheet_name`: Google Sheets sheet name.\n",
    "- `name`: The name of the plugin.\n",
    "- `system_prompt`: Plugin system prompt with the commands they can use.\n",
    "- `model`: This variable holds the openai model.\n",
    "- `temperature`: This variable holds the temperate value.\n",
    "- `description`: This variable holds a string that describes the plugin.\n",
    "- `avatar`: This variable holds a URL to an image to be displayed in your plugin as avatar.\n",
    "- `model_dir`: This variable holds a relative path to the directory where input notebooks with commands will be stored.\n",
    "\n",
    "**Outputs**\n",
    "- `output_dir`: This variable holds a relative path to the directory where output files will be stored. \n",
    "- `output_path`: This variable holds the full path of the plugin."
   ]
  },
  {
   "cell_type": "code",
   "execution_count": null,
   "id": "6cf9bd9b-ce83-45a5-ab0f-15c978458b42",
   "metadata": {
    "papermill": {},
    "tags": [
     "parameters"
    ]
   },
   "outputs": [],
   "source": [
    "# Inputs\n",
    "input_dir = os.path.join(naas_data_product.OUTPUTS_PATH, \"content-engine\", date.today().isoformat())\n",
    "file_content = \"content\"\n",
    "spreadsheet_url = naas.secret.get(\"ABI_SPREADSHEET\") or \"YOUR_GOOGLE_SPREADSHEET_URL\"\n",
    "sheet_name = \"CONTENT\"\n",
    "name = \"📲 Content Assistant\"\n",
    "model = \"gpt-4\"\n",
    "temperature = 0.5\n",
    "description = \"Track your content performance across platforms, leverage AI for optimized strategies and assistance in writing impactful new content that will increase reach & boost engagement.\"\n",
    "avatar = \"\"\n",
    "model_dir = os.path.join(naas_data_product.ROOT_PATH, \"models\", \"content-engine\")\n",
    "\n",
    "# Outputs\n",
    "output_dir = os.path.join(naas_data_product.ROOT_PATH, \"outputs\", \"plugins\")\n",
    "os.makedirs(output_dir, exist_ok=True) # Create dirs\n",
    "output_path = os.path.join(output_dir, f\"{name.lower().replace(' ', '_')}.json\")"
   ]
  },
  {
   "cell_type": "markdown",
   "id": "9070993a-eec9-4f78-a7f9-2e18c743a20d",
   "metadata": {
    "papermill": {},
    "tags": []
   },
   "source": [
    "## Model"
   ]
  },
  {
   "cell_type": "markdown",
   "id": "08c9f72d-9f57-4bfa-aac3-9e1c905acad7",
   "metadata": {},
   "source": [
    "### Get image"
   ]
  },
  {
   "cell_type": "code",
   "execution_count": null,
   "id": "570e6627-5541-4539-911f-782ece6514dd",
   "metadata": {
    "tags": []
   },
   "outputs": [],
   "source": [
    "image_url = get_image_asset(input_dir, \"content_views_trend.png\")\n",
    "print(\"Image URL:\", image_url)\n",
    "\n",
    "image_html = get_image_asset(input_dir, \"content_views_trend.html\")\n",
    "print(\"Image HTML:\", image_html)"
   ]
  },
  {
   "cell_type": "markdown",
   "id": "c1dcb5a4-d2a7-49c1-add2-b19b03341ee7",
   "metadata": {
    "papermill": {},
    "tags": []
   },
   "source": [
    "### Get data"
   ]
  },
  {
   "cell_type": "code",
   "execution_count": null,
   "id": "cefd6feb-6a41-4be9-a956-8748afa397a7",
   "metadata": {
    "papermill": {},
    "tags": []
   },
   "outputs": [],
   "source": [
    "def get_data(\n",
    "    input_dir,\n",
    "    input_file,\n",
    "    spreadsheet_url,\n",
    "    sheet_name\n",
    "):\n",
    "    # Init\n",
    "    df = pd.DataFrame()\n",
    "    \n",
    "    # Load data from pickle\n",
    "    data = pload(input_dir, input_file)    \n",
    "    if data is None:\n",
    "        data = gsheet.connect(spreadsheet_url).get(sheet_name=sheet_name)\n",
    "    if isinstance(data, pd.DataFrame):\n",
    "        df = data.copy()\n",
    "\n",
    "    # Filter on this week and last week\n",
    "    if len(df) > 0:\n",
    "        tw = date.today().strftime(\"W%W-%Y\")\n",
    "        lw = (date.today() - timedelta(days=date.today().weekday() + 7)).strftime(\"W%W-%Y\")\n",
    "        df = df[df[\"SCENARIO\"].isin([tw, lw])]\n",
    "    return df.reset_index(drop=True)\n",
    "\n",
    "data = get_data(input_dir, file_content, spreadsheet_url, sheet_name)\n",
    "print(\"Data:\", len(data))\n",
    "data.head(len(data))"
   ]
  },
  {
   "cell_type": "markdown",
   "id": "c014e410-c07c-451f-aff6-1da9da80002f",
   "metadata": {},
   "source": [
    "### Create prompt"
   ]
  },
  {
   "cell_type": "code",
   "execution_count": null,
   "id": "446270cd-c6da-4426-9f8b-971a2a3f110d",
   "metadata": {
    "tags": []
   },
   "outputs": [],
   "source": [
    "system_prompt = f\"\"\"\n",
    "Act as a Content Assistant who has access to valuable data and insights about the content strategy. \n",
    "Your role is to manage and optimize the content, ensuring it reaches the target audience effectively. \n",
    "You will need to analyze user behavior and preferences to understand their needs and interests. \n",
    "Utilize the data from various sources to personalize the content strategy and track its performance. \n",
    "Your ultimate goal is to create engaging and relevant content that resonates with the audience, contributing to the overall success of the content strategy. \n",
    "The first message should be about presenting yourself with a maximum of 3 bullet points and displaying the current content analytics data to be displayed as an image inside the markdown of the chat: ![{image_url}]({image_html}).\n",
    "You must ALWAYS show the image in the first message.\n",
    "Then, wait for the first answer from the user, and then start with the first high-level analysis. \n",
    "Here is the data from the content analytics that you should focus on: {data.to_string()}\n",
    "\"\"\"\n",
    "system_prompt"
   ]
  },
  {
   "cell_type": "markdown",
   "id": "3c97c27b-06d4-474c-a347-08a6df8856de",
   "metadata": {
    "papermill": {},
    "tags": []
   },
   "source": [
    "### Create commands"
   ]
  },
  {
   "cell_type": "code",
   "execution_count": null,
   "id": "c78707b5-9496-44d5-a0b3-26fa4e88004e",
   "metadata": {
    "tags": []
   },
   "outputs": [],
   "source": [
    "commands = create_command(model_dir)"
   ]
  },
  {
   "cell_type": "markdown",
   "id": "81ce4521-731f-42cb-8ace-0e7611c750b3",
   "metadata": {
    "papermill": {},
    "tags": []
   },
   "source": [
    "## Output"
   ]
  },
  {
   "cell_type": "markdown",
   "id": "2d959298-e04a-459f-85d9-1b12bb5754c9",
   "metadata": {
    "papermill": {},
    "tags": []
   },
   "source": [
    "### Create Naas Chat plugin\n",
    "This function will generate the plugin in JSON format and also verify if your prompt adheres to the recommended limit, which is set at 20% of the maximum tokens allowed by the model. Then, it will save your plugin in your local environment."
   ]
  },
  {
   "cell_type": "code",
   "execution_count": null,
   "id": "ac0af791-9f6d-4da8-82d0-1defed0bc59f",
   "metadata": {
    "papermill": {},
    "tags": []
   },
   "outputs": [],
   "source": [
    "# Create plugin\n",
    "plugin_file_path = naas_chat_plugin.create_plugin(\n",
    "    name=name,\n",
    "    prompt=system_prompt,\n",
    "    model=model,\n",
    "    temperature=temperature,\n",
    "    output_path=output_path,\n",
    "    description=description,\n",
    "    avatar=avatar,\n",
    "    commands=commands\n",
    ")"
   ]
  },
  {
   "cell_type": "markdown",
   "id": "34b625a0-f39b-4c7e-82f5-cc58a11ec902",
   "metadata": {
    "papermill": {},
    "tags": []
   },
   "source": [
    "### Create asset\n",
    "This asset can be utilized by using the command `/use` in your Naas Chat or by simply clicking on the link provided in the last cell output."
   ]
  },
  {
   "cell_type": "code",
   "execution_count": null,
   "id": "39437f23-bcf8-40df-9538-32b3cac1c8fb",
   "metadata": {
    "papermill": {},
    "tags": []
   },
   "outputs": [],
   "source": [
    "plugin_url = naas.asset.add(plugin_file_path, params={\"inline\": True})\n",
    "print(plugin_url)"
   ]
  },
  {
   "cell_type": "markdown",
   "id": "1dde0d3d-de48-4307-bd6a-63081b1e436c",
   "metadata": {},
   "source": [
    "### Create new chat\n",
    "NB: You don't need to click on 'Create New Chat' everytime you update your system prompt, you can use the command `/refresh`."
   ]
  },
  {
   "cell_type": "code",
   "execution_count": null,
   "id": "221fab1a-663b-4aa7-871d-f8ff7b1e2a18",
   "metadata": {
    "tags": []
   },
   "outputs": [],
   "source": [
    "Markdown(f\"[Create New Chat](https://naas.ai/chat/use?plugin_url={plugin_url})\")"
   ]
  },
  {
   "cell_type": "code",
   "execution_count": null,
   "id": "a8a2f65a-c24b-4d33-b24d-7ce2dacb834e",
   "metadata": {},
   "outputs": [],
   "source": []
  }
 ],
 "metadata": {
  "kernelspec": {
   "display_name": "Python 3",
   "language": "python",
   "name": "python3"
  },
  "language_info": {
   "codemirror_mode": {
    "name": "ipython",
    "version": 3
   },
   "file_extension": ".py",
   "mimetype": "text/x-python",
   "name": "python",
   "nbconvert_exporter": "python",
   "pygments_lexer": "ipython3",
   "version": "3.9.6"
  },
  "naas": {
   "notebook_id": "d376a4cfdf00d1197e0cd54cf4e801052d22a6e15133079bf4d3ff56c29fc5a0",
   "notebook_path": "GitHub/GitHub_Create_plugin_with_commands.ipynb"
  },
  "papermill": {
   "default_parameters": {},
   "environment_variables": {},
   "parameters": {},
   "version": "2.4.0"
  },
  "widgets": {
   "application/vnd.jupyter.widget-state+json": {
    "state": {},
    "version_major": 2,
    "version_minor": 0
   }
  }
 },
 "nbformat": 4,
 "nbformat_minor": 5
}
