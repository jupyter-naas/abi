{
 "cells": [
  {
   "cell_type": "markdown",
   "id": "6bc9306f-e8ca-4a8b-8281-d81ce4b12818",
   "metadata": {
    "papermill": {},
    "tags": []
   },
   "source": [
    "<img width=\"8%\" alt=\"Naas.png\" src=\"https://raw.githubusercontent.com/jupyter-naas/awesome-notebooks/master/.github/assets/logos/Naas.png\" style=\"border-radius: 15%\">"
   ]
  },
  {
   "cell_type": "markdown",
   "id": "subjective-dialogue",
   "metadata": {
    "papermill": {},
    "tags": []
   },
   "source": [
    "# Naas - Send notification"
   ]
  },
  {
   "cell_type": "markdown",
   "id": "588aefd6-7a2d-4bcd-b06f-351e07199586",
   "metadata": {
    "papermill": {},
    "tags": []
   },
   "source": [
    "**Tags:** #naas #emailbuilder #snippet #operations"
   ]
  },
  {
   "cell_type": "markdown",
   "id": "a4de884f-6e75-4aa3-af33-e77375eb2dc8",
   "metadata": {
    "papermill": {},
    "tags": []
   },
   "source": [
    "**Author:** [Florent Ravenel](https://www.linkedin.com/in/ACoAABCNSioBW3YZHc2lBHVG0E_TXYWitQkmwog/)"
   ]
  },
  {
   "cell_type": "markdown",
   "id": "naas-description",
   "metadata": {
    "papermill": {},
    "tags": [
     "description"
    ]
   },
   "source": [
    "**Description:** This notebook send a notification with your latest posts performance."
   ]
  },
  {
   "cell_type": "markdown",
   "id": "aquatic-smile",
   "metadata": {
    "papermill": {},
    "tags": []
   },
   "source": [
    "## Input"
   ]
  },
  {
   "cell_type": "markdown",
   "id": "import_cell",
   "metadata": {
    "papermill": {},
    "tags": []
   },
   "source": [
    "### Import libraries"
   ]
  },
  {
   "cell_type": "code",
   "execution_count": null,
   "id": "stopped-yeast",
   "metadata": {
    "papermill": {},
    "tags": []
   },
   "outputs": [],
   "source": [
    "from naas_drivers import emailbuilder, gsheet\n",
    "import naas\n",
    "import os\n",
    "import naas_data_product\n",
    "from datetime import date, datetime, timedelta\n",
    "from naas_drivers import naasauth\n",
    "import pandas as pd"
   ]
  },
  {
   "cell_type": "markdown",
   "id": "b65667cb-300f-48d7-9df0-c602fe004a36",
   "metadata": {
    "papermill": {},
    "tags": []
   },
   "source": [
    "### Setup variables\n",
    "**Inputs**\n",
    "- `input_dir`: Input directory to retrieve file from.\n",
    "- `file_content`: Name of the file to be retrieved.\n",
    "- `spreadsheet_url`: Google Sheets spreadsheet URL.\n",
    "- `sheet_name`: Google Sheets sheet name.\n",
    "- `datalake_dir`: Datalake directory to retrieve plugin json file.\n",
    "\n",
    "**Outputs**\n",
    "- `email_to`: This variable is used for storing a list of email addresses that will receive the notification email.\n",
    "- `subject`: This variable is used for storing the subject of the notification email."
   ]
  },
  {
   "cell_type": "code",
   "execution_count": null,
   "id": "absent-coach",
   "metadata": {
    "papermill": {},
    "tags": [
     "parameters"
    ]
   },
   "outputs": [],
   "source": [
    "# Inputs\n",
    "input_dir = os.path.join(naas_data_product.OUTPUTS_PATH, \"content-engine\", date.today().isoformat())\n",
    "file_content = \"content\"\n",
    "input_image = \"content_trend.png\"\n",
    "input_html = \"content_trend.html\"\n",
    "spreadsheet_url = naas.secret.get(\"ABI_SPREADSHEET\") or \"YOUR_GOOGLE_SPREADSHEET_URL\"\n",
    "sheet_name = \"CONTENT\"\n",
    "datalake_dir = naas_data_product.OUTPUTS_PATH\n",
    "\n",
    "# Outputs\n",
    "email_to = pload(os.path.join(naas_data_product.OUTPUTS_PATH, \"entity\"), \"emails\") or []\n",
    "output_dir = os.path.join(naas_data_product.OUTPUTS_PATH, \"content-engine\", date.today().isoformat())"
   ]
  },
  {
   "cell_type": "markdown",
   "id": "particular-chemical",
   "metadata": {
    "papermill": {},
    "tags": []
   },
   "source": [
    "## Model"
   ]
  },
  {
   "cell_type": "markdown",
   "id": "80e575ef-addb-4a5c-80ef-b2b370ec6738",
   "metadata": {},
   "source": [
    "### Set outputs"
   ]
  },
  {
   "cell_type": "code",
   "execution_count": null,
   "id": "cdb83171-6c6f-4cdc-845d-2661e04e44d8",
   "metadata": {
    "tags": []
   },
   "outputs": [],
   "source": [
    "entity_name = pload(os.path.join(naas_data_product.OUTPUTS_PATH, \"entity\"), \"entity_name\") or \"\"\n",
    "timestamp_email = datetime.now(TIMEZONE).strftime('%Y-%m-%d %H:%M:%S')\n",
    "timestamp_csv = datetime.now(TIMEZONE).strftime('%Y%m%d%H%M%S')\n",
    "email_subject = f\"📲 Content Assistant Report - {entity_name} ({timestamp_email})\"\n",
    "csv_output = os.path.join(output_dir, f\"{timestamp_csv}_{TW}_content-assistant-report_{entity_name.lower().replace(' ', '_')}.csv\")\n",
    "print(\"- CSV output:\", csv_output)"
   ]
  },
  {
   "cell_type": "markdown",
   "id": "b5254dba-1db5-46f4-b81d-a067192a94de",
   "metadata": {},
   "source": [
    "### Get assets"
   ]
  },
  {
   "cell_type": "code",
   "execution_count": null,
   "id": "b88fe016-8cd3-45c1-a7f7-e2fdc00d306d",
   "metadata": {
    "tags": []
   },
   "outputs": [],
   "source": [
    "image_url = get_image_asset(input_dir, input_image)\n",
    "print(\"- Image URL:\", image_url)\n",
    "\n",
    "image_html = get_image_asset(input_dir, input_html)\n",
    "print(\"- Image HTML:\", image_html)\n",
    "\n",
    "plugin_url = naas.asset.find(os.path.join(datalake_dir, \"plugins\", \"📲_content_assistant.json\"))\n",
    "print(\"- Plugin URL:\", plugin_url)"
   ]
  },
  {
   "cell_type": "markdown",
   "id": "129edb3f-476a-4d54-9c0c-55bb3746a58f",
   "metadata": {
    "papermill": {},
    "tags": []
   },
   "source": [
    "### Get data"
   ]
  },
  {
   "cell_type": "code",
   "execution_count": null,
   "id": "b099025f-c9bb-4063-af80-09c0eed6ec6d",
   "metadata": {
    "papermill": {},
    "tags": []
   },
   "outputs": [],
   "source": [
    "df_input = pload(input_dir, file_content)    \n",
    "if df_input is None:\n",
    "    df_input = gsheet.connect(spreadsheet_url).get(sheet_name=sheet_name)\n",
    "\n",
    "# Filter on the 2 weeks\n",
    "df_input = df_input[df_input[\"SCENARIO\"].isin([TW, LW])]\n",
    "\n",
    "# Display result\n",
    "df_input.to_csv(csv_output, index=False)\n",
    "print(\"Rows:\", len(df_input))\n",
    "df_input.head(1)"
   ]
  },
  {
   "cell_type": "markdown",
   "id": "58032113-846e-411d-b501-551e7ff1d44e",
   "metadata": {},
   "source": [
    "### Create Overview details\n",
    "List of posts published this week"
   ]
  },
  {
   "cell_type": "code",
   "execution_count": null,
   "id": "4b99abbe-78cc-4756-a8ef-adc9bc99b5f5",
   "metadata": {
    "tags": []
   },
   "outputs": [],
   "source": [
    "posts = []\n",
    "df_posts = pd.DataFrame()\n",
    "if len(df_input) > 0 and \"SCENARIO\" in df_input.columns:\n",
    "    df_posts = df_input.copy()\n",
    "    df_posts = df_posts[df_posts[\"SCENARIO\"] == TW]\n",
    "    \n",
    "for row in df_posts.itertuples():\n",
    "    title = row.TITLE\n",
    "    url = row.CONTENT_URL\n",
    "    content = row.TOPICS\n",
    "    post_date = row.DATE\n",
    "    posts.append(f\"<a href='{url}'>{title}</a> published on {post_date}\")\n",
    "if len(posts) == 0:\n",
    "    posts = [\"...\"]\n",
    "print(posts)"
   ]
  },
  {
   "cell_type": "markdown",
   "id": "77bd77f7-d985-4231-aae4-99e493756105",
   "metadata": {},
   "source": [
    "### Create 'Performance' details\n",
    "Statistics vs last week"
   ]
  },
  {
   "cell_type": "code",
   "execution_count": null,
   "id": "ab86e45d-9eaf-4266-be39-c2c9935b2f14",
   "metadata": {
    "tags": []
   },
   "outputs": [],
   "source": [
    "def create_agg_df(\n",
    "    df_init,\n",
    "):\n",
    "    # Init\n",
    "    df = df_init.copy()\n",
    "    df[\"SCENARIO_ORDER\"] = df[\"SCENARIO\"].str[-4:] + df[\"SCENARIO\"].str[1:3]\n",
    "    \n",
    "    # Groupby\n",
    "    to_group = [\n",
    "        \"SCENARIO\",\n",
    "        \"SCENARIO_ORDER\"\n",
    "    ]\n",
    "    to_agg = {\n",
    "        \"VIEWS\": \"sum\",\n",
    "        \"LIKES\": \"sum\",\n",
    "        \"COMMENTS\": \"sum\",\n",
    "        \"SHARES\": \"sum\"\n",
    "    }\n",
    "    df = df.groupby(to_group, as_index=False).agg(to_agg)\n",
    "    df = df.sort_values(by=\"SCENARIO_ORDER\")\n",
    "    return df.reset_index(drop=True)\n",
    "\n",
    "df_kpis = create_agg_df(df_input)\n",
    "df_kpis"
   ]
  },
  {
   "cell_type": "code",
   "execution_count": null,
   "id": "38d8276d-eb40-477e-a3c2-585487580041",
   "metadata": {
    "tags": []
   },
   "outputs": [],
   "source": [
    "def create_var_text(df, column):\n",
    "    # Get value this scenario and last scenario\n",
    "    if len(df) == 0:\n",
    "        value = 0\n",
    "        value_n1 = 0\n",
    "    elif len(df) == 1:\n",
    "        if df.loc[0, \"SCENARIO\"] == TW:\n",
    "            value = df.loc[0, column]\n",
    "            value_n1 = 0\n",
    "        else:\n",
    "            value = 0\n",
    "            value_n1 = df.loc[0, column]\n",
    "    else:\n",
    "        value = df.loc[df.index[-1], column]\n",
    "        value_n1 = df.loc[df.index[0], column]\n",
    "        \n",
    "    # Calc variation in value\n",
    "    varv = value - value_n1\n",
    "    if varv < 0:\n",
    "        message = f\"{format_number(value)} (-{format_number(varv)})\"\n",
    "    elif varv == 0:\n",
    "        message = f\"{format_number(value)} (unchanged)\"\n",
    "    else:\n",
    "        message = f\"{format_number(value)} (+{format_number(varv)})\"\n",
    "    return message\n",
    "\n",
    "views = create_var_text(df_kpis, \"VIEWS\")\n",
    "likes = create_var_text(df_kpis, \"LIKES\")\n",
    "comments = create_var_text(df_kpis, \"COMMENTS\")\n",
    "shares = create_var_text(df_kpis, \"SHARES\")\n",
    "\n",
    "# Preview of what will be send by email:\n",
    "kpis = [\n",
    "    f\"Views : <b>{views}</b>\",\n",
    "    f\"Likes : <b>{likes}</b>\",\n",
    "    f\"Comments : <b>{comments}</b>\",\n",
    "    f\"Shares : <b>{shares}</b>\",\n",
    "]\n",
    "if len(kpis) == 0:\n",
    "    kpis = [\"...\"]\n",
    "print(kpis)"
   ]
  },
  {
   "cell_type": "markdown",
   "id": "c8a69d2e-43c4-4d60-b333-63ba379f4017",
   "metadata": {},
   "source": [
    "### Generate email content"
   ]
  },
  {
   "cell_type": "code",
   "execution_count": null,
   "id": "08679f52-a01a-4146-9755-4108030b7a63",
   "metadata": {
    "tags": []
   },
   "outputs": [],
   "source": [
    "def generate_email_content(\n",
    "    entity_name,\n",
    "    image_url,\n",
    "    image_html,\n",
    "    posts,\n",
    "    kpis,\n",
    "    plugin_url,\n",
    "):\n",
    "    content = {\n",
    "        'heading': \"📲 Content Assistant\",\n",
    "        \"txt_intro\": (\n",
    "            f\"Hi {entity_name.split(' ')[0]},<br><br>\" \"I hope this email finds you well. Here is the latest update on your content performance.\"\n",
    "        ),\n",
    "        \"title_1\": emailbuilder.text(\n",
    "            \"Overview\", font_size=\"25px\", text_align=\"center\", bold=True\n",
    "        ),\n",
    "        \"image_1\": emailbuilder.image(image_url, link=image_html),\n",
    "        \"text_1\": emailbuilder.text(\n",
    "            \"Contents published this week:\",\n",
    "            underline=True,\n",
    "        ),\n",
    "        \"list_1\": emailbuilder.list(posts),\n",
    "        \"title_2\": emailbuilder.text(\n",
    "            \"Performance\", font_size=\"25px\", text_align=\"center\", bold=True\n",
    "        ),\n",
    "        \"text_2\": emailbuilder.text(\n",
    "            \"Statistics vs last week:\",\n",
    "            underline=True,\n",
    "        ),\n",
    "        \"list_2\": emailbuilder.list(kpis),\n",
    "        \"text_3\": emailbuilder.text(\n",
    "            \"I am here to support you in optimizing your content strategy and achieving your goals. If you would like to discuss any specific ideas or strategies, I am available for a chat at your convenience.\"\n",
    "        ),\n",
    "        \"button_1\": emailbuilder.button(\n",
    "            link=(f\"https://naas.ai/chat/use?plugin_url={plugin_url}\"),\n",
    "            text=\"Start Chatting\",\n",
    "            background_color=\"#181a1c\",\n",
    "        ),\n",
    "        \"footer_naas\": emailbuilder.footer_company(naas=True),\n",
    "    }\n",
    "\n",
    "    email_content = emailbuilder.generate(display=\"iframe\", **content)\n",
    "    return email_content\n",
    "\n",
    "\n",
    "email_content = generate_email_content(\n",
    "    entity_name,\n",
    "    image_url,\n",
    "    image_html,\n",
    "    posts,\n",
    "    kpis,\n",
    "    plugin_url,\n",
    ")"
   ]
  },
  {
   "cell_type": "markdown",
   "id": "aging-settlement",
   "metadata": {
    "papermill": {},
    "tags": []
   },
   "source": [
    "## Output"
   ]
  },
  {
   "cell_type": "markdown",
   "id": "display_cell",
   "metadata": {
    "papermill": {},
    "tags": []
   },
   "source": [
    "### Send the email"
   ]
  },
  {
   "cell_type": "code",
   "execution_count": null,
   "id": "fewer-sailing",
   "metadata": {
    "papermill": {},
    "tags": []
   },
   "outputs": [],
   "source": [
    "if len(email_to) > 0:\n",
    "    naas.notification.send(\n",
    "        email_to=list(email_to.split(\",\")),\n",
    "        subject=email_subject,\n",
    "        html=email_content,\n",
    "        files=[csv_output],\n",
    "    )"
   ]
  },
  {
   "cell_type": "code",
   "execution_count": null,
   "id": "2b0a0470-fc91-49f9-8079-140aa764817e",
   "metadata": {},
   "outputs": [],
   "source": []
  }
 ],
 "metadata": {
  "kernelspec": {
   "display_name": "Python 3",
   "language": "python",
   "name": "python3"
  },
  "language_info": {
   "codemirror_mode": {
    "name": "ipython",
    "version": 3
   },
   "file_extension": ".py",
   "mimetype": "text/x-python",
   "name": "python",
   "nbconvert_exporter": "python",
   "pygments_lexer": "ipython3",
   "version": "3.9.6"
  },
  "naas": {
   "notebook_id": "a5f1933d-ce28-4c8e-858a-3bb67631a1e1",
   "notebook_path": "Naas/Naas_Emailbuilder_demo.ipynb"
  },
  "papermill": {
   "default_parameters": {},
   "environment_variables": {},
   "parameters": {},
   "version": "2.3.3"
  }
 },
 "nbformat": 4,
 "nbformat_minor": 5
}
