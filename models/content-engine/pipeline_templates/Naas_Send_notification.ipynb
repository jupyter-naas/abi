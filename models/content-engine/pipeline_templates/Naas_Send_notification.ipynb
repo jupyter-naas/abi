{
 "cells": [
  {
   "cell_type": "markdown",
   "id": "6bc9306f-e8ca-4a8b-8281-d81ce4b12818",
   "metadata": {
    "papermill": {},
    "tags": []
   },
   "source": [
    "<img width=\"8%\" alt=\"Naas.png\" src=\"https://raw.githubusercontent.com/jupyter-naas/awesome-notebooks/master/.github/assets/logos/Naas.png\" style=\"border-radius: 15%\">"
   ]
  },
  {
   "cell_type": "markdown",
   "id": "subjective-dialogue",
   "metadata": {
    "papermill": {},
    "tags": []
   },
   "source": [
    "# Naas - Send notification"
   ]
  },
  {
   "cell_type": "markdown",
   "id": "588aefd6-7a2d-4bcd-b06f-351e07199586",
   "metadata": {
    "papermill": {},
    "tags": []
   },
   "source": [
    "**Tags:** #naas #emailbuilder #snippet #operations"
   ]
  },
  {
   "cell_type": "markdown",
   "id": "a4de884f-6e75-4aa3-af33-e77375eb2dc8",
   "metadata": {
    "papermill": {},
    "tags": []
   },
   "source": [
    "**Author:** [Florent Ravenel](https://www.linkedin.com/in/ACoAABCNSioBW3YZHc2lBHVG0E_TXYWitQkmwog/)"
   ]
  },
  {
   "cell_type": "markdown",
   "id": "naas-description",
   "metadata": {
    "papermill": {},
    "tags": [
     "description"
    ]
   },
   "source": [
    "**Description:** This notebook send a notification with your latest posts performance."
   ]
  },
  {
   "cell_type": "markdown",
   "id": "aquatic-smile",
   "metadata": {
    "papermill": {},
    "tags": []
   },
   "source": [
    "## Input"
   ]
  },
  {
   "cell_type": "markdown",
   "id": "import_cell",
   "metadata": {
    "papermill": {},
    "tags": []
   },
   "source": [
    "### Import libraries"
   ]
  },
  {
   "cell_type": "code",
   "execution_count": 1,
   "id": "stopped-yeast",
   "metadata": {
    "execution": {
     "iopub.execute_input": "2023-12-26T09:56:06.776562Z",
     "iopub.status.busy": "2023-12-26T09:56:06.776132Z",
     "iopub.status.idle": "2023-12-26T09:56:10.432391Z",
     "shell.execute_reply": "2023-12-26T09:56:10.431750Z",
     "shell.execute_reply.started": "2023-12-26T09:56:06.776482Z"
    },
    "papermill": {},
    "tags": []
   },
   "outputs": [
    {
     "name": "stdout",
     "output_type": "stream",
     "text": [
      "✅ utils file '/home/ftp/abi/utils/data.ipynb' successfully loaded.\n",
      "✅ utils file '/home/ftp/abi/utils/naas_chat_plugin.ipynb' successfully loaded.\n",
      "✅ utils file '/home/ftp/abi/utils/naas_lab.ipynb' successfully loaded.\n",
      "✅ utils file '/home/ftp/abi/utils/openai.ipynb' successfully loaded.\n"
     ]
    }
   ],
   "source": [
    "from naas_drivers import emailbuilder, gsheet\n",
    "import naas\n",
    "import os\n",
    "import naas_data_product\n",
    "from datetime import date, datetime, timedelta\n",
    "from naas_drivers import naasauth\n",
    "import pandas as pd"
   ]
  },
  {
   "cell_type": "markdown",
   "id": "b65667cb-300f-48d7-9df0-c602fe004a36",
   "metadata": {
    "papermill": {},
    "tags": []
   },
   "source": [
    "### Setup variables\n",
    "**Inputs**\n",
    "- `input_dir`: Input directory to retrieve file from.\n",
    "- `file_content`: Name of the file to be retrieved.\n",
    "- `spreadsheet_url`: Google Sheets spreadsheet URL.\n",
    "- `sheet_name`: Google Sheets sheet name.\n",
    "- `datalake_dir`: Datalake directory to retrieve plugin json file.\n",
    "\n",
    "**Outputs**\n",
    "- `email_to`: This variable is used for storing a list of email addresses that will receive the notification email.\n",
    "- `subject`: This variable is used for storing the subject of the notification email."
   ]
  },
  {
   "cell_type": "code",
   "execution_count": 2,
   "id": "absent-coach",
   "metadata": {
    "execution": {
     "iopub.execute_input": "2023-12-26T09:56:10.434977Z",
     "iopub.status.busy": "2023-12-26T09:56:10.434802Z",
     "iopub.status.idle": "2023-12-26T09:56:10.597020Z",
     "shell.execute_reply": "2023-12-26T09:56:10.596392Z",
     "shell.execute_reply.started": "2023-12-26T09:56:10.434957Z"
    },
    "papermill": {},
    "tags": [
     "parameters"
    ]
   },
   "outputs": [],
   "source": [
    "# Inputs\n",
    "input_dir = os.path.join(naas_data_product.OUTPUTS_PATH, \"content-engine\", date.today().isoformat())\n",
    "file_content = \"content\"\n",
    "input_image = \"content_trend.png\"\n",
    "input_html = \"content_trend.html\"\n",
    "spreadsheet_url = naas.secret.get(\"ABI_SPREADSHEET\") or \"YOUR_GOOGLE_SPREADSHEET_URL\"\n",
    "sheet_name = \"CONTENT\"\n",
    "datalake_dir = naas_data_product.OUTPUTS_PATH\n",
    "\n",
    "# Outputs\n",
    "email_to = pload(os.path.join(naas_data_product.OUTPUTS_PATH, \"entity\"), \"emails\") or []\n",
    "output_dir = os.path.join(naas_data_product.OUTPUTS_PATH, \"content-engine\", date.today().isoformat())"
   ]
  },
  {
   "cell_type": "markdown",
   "id": "particular-chemical",
   "metadata": {
    "papermill": {},
    "tags": []
   },
   "source": [
    "## Model"
   ]
  },
  {
   "cell_type": "markdown",
   "id": "80e575ef-addb-4a5c-80ef-b2b370ec6738",
   "metadata": {},
   "source": [
    "### Set outputs"
   ]
  },
  {
   "cell_type": "code",
   "execution_count": 3,
   "id": "cdb83171-6c6f-4cdc-845d-2661e04e44d8",
   "metadata": {
    "execution": {
     "iopub.execute_input": "2023-12-26T09:56:10.598583Z",
     "iopub.status.busy": "2023-12-26T09:56:10.598226Z",
     "iopub.status.idle": "2023-12-26T09:56:10.614286Z",
     "shell.execute_reply": "2023-12-26T09:56:10.613673Z",
     "shell.execute_reply.started": "2023-12-26T09:56:10.598531Z"
    },
    "tags": []
   },
   "outputs": [
    {
     "name": "stdout",
     "output_type": "stream",
     "text": [
      "- CSV output: /home/ftp/abi/outputs/content-engine/2023-12-26/20231226105610_W52-2023_content-assistant-report_jérémy_ravenel.csv\n"
     ]
    }
   ],
   "source": [
    "entity_name = pload(os.path.join(naas_data_product.OUTPUTS_PATH, \"entity\"), \"entity_name\") or \"\"\n",
    "timestamp_email = datetime.now().strftime('%Y-%m-%d %H:%M:%S')\n",
    "email_subject = f\"📲 Content Assistant Report - {entity_name} ({timestamp_email})\"\n",
    "csv_output = os.path.join(output_dir, f\"{datetime.now().strftime('%Y%m%d%H%M%S')}_{TW}_content-assistant-report_{entity_name.lower().replace(' ', '_')}.csv\")\n",
    "print(\"- CSV output:\", csv_output)"
   ]
  },
  {
   "cell_type": "markdown",
   "id": "b5254dba-1db5-46f4-b81d-a067192a94de",
   "metadata": {},
   "source": [
    "### Get assets"
   ]
  },
  {
   "cell_type": "code",
   "execution_count": 4,
   "id": "b88fe016-8cd3-45c1-a7f7-e2fdc00d306d",
   "metadata": {
    "execution": {
     "iopub.execute_input": "2023-12-26T09:56:11.500153Z",
     "iopub.status.busy": "2023-12-26T09:56:11.499917Z",
     "iopub.status.idle": "2023-12-26T09:56:11.881110Z",
     "shell.execute_reply": "2023-12-26T09:56:11.880299Z",
     "shell.execute_reply.started": "2023-12-26T09:56:11.500131Z"
    },
    "tags": []
   },
   "outputs": [
    {
     "name": "stdout",
     "output_type": "stream",
     "text": [
      "- Image URL: https://public.naas.ai/amVyZW15LTQwbmFhcy0yRWFp/asset/a97c877b6d6e9a1ae983a133a90f115fdba739a43918fca3fc204110cf1e.png\n",
      "- Image HTML: https://public.naas.ai/amVyZW15LTQwbmFhcy0yRWFp/asset/56adc1fab9ca40115970d3c8e3a1bf947b14ffe18a6795814d68aac421d1\n",
      "- Plugin URL: https://public.naas.ai/amVyZW15LTQwbmFhcy0yRWFp/asset/6d5623845d24a2cc8f1262f627ef251ececcc7ab3407eacc408d99b1ad43\n"
     ]
    }
   ],
   "source": [
    "image_url = get_image_asset(input_dir, input_image)\n",
    "print(\"- Image URL:\", image_url)\n",
    "\n",
    "image_html = get_image_asset(input_dir, input_html)\n",
    "print(\"- Image HTML:\", image_html)\n",
    "\n",
    "plugin_url = naas.asset.find(os.path.join(datalake_dir, \"plugins\", \"📲_content_assistant.json\"))\n",
    "print(\"- Plugin URL:\", plugin_url)"
   ]
  },
  {
   "cell_type": "markdown",
   "id": "129edb3f-476a-4d54-9c0c-55bb3746a58f",
   "metadata": {
    "papermill": {},
    "tags": []
   },
   "source": [
    "### Get data"
   ]
  },
  {
   "cell_type": "code",
   "execution_count": 9,
   "id": "b099025f-c9bb-4063-af80-09c0eed6ec6d",
   "metadata": {
    "execution": {
     "iopub.execute_input": "2023-12-26T09:57:14.530144Z",
     "iopub.status.busy": "2023-12-26T09:57:14.529834Z",
     "iopub.status.idle": "2023-12-26T09:57:14.635187Z",
     "shell.execute_reply": "2023-12-26T09:57:14.634444Z",
     "shell.execute_reply.started": "2023-12-26T09:57:14.530108Z"
    },
    "papermill": {},
    "tags": []
   },
   "outputs": [
    {
     "name": "stdout",
     "output_type": "stream",
     "text": [
      "Rows: 6\n"
     ]
    },
    {
     "data": {
      "text/html": [
       "<div>\n",
       "<style scoped>\n",
       "    .dataframe tbody tr th:only-of-type {\n",
       "        vertical-align: middle;\n",
       "    }\n",
       "\n",
       "    .dataframe tbody tr th {\n",
       "        vertical-align: top;\n",
       "    }\n",
       "\n",
       "    .dataframe thead th {\n",
       "        text-align: right;\n",
       "    }\n",
       "</style>\n",
       "<table border=\"1\" class=\"dataframe\">\n",
       "  <thead>\n",
       "    <tr style=\"text-align: right;\">\n",
       "      <th></th>\n",
       "      <th>ENTITY</th>\n",
       "      <th>SCENARIO</th>\n",
       "      <th>SOURCE</th>\n",
       "      <th>PUBLISHED_DATE</th>\n",
       "      <th>DATE</th>\n",
       "      <th>TIME</th>\n",
       "      <th>TITLE</th>\n",
       "      <th>CONTENT</th>\n",
       "      <th>TOPICS</th>\n",
       "      <th>CONTENT_LENGTH</th>\n",
       "      <th>KEYWORDS</th>\n",
       "      <th>VIEWS</th>\n",
       "      <th>LIKES</th>\n",
       "      <th>COMMENTS</th>\n",
       "      <th>SHARES</th>\n",
       "      <th>ENGAGEMENT_SCORE</th>\n",
       "      <th>CONTENT_URL</th>\n",
       "    </tr>\n",
       "  </thead>\n",
       "  <tbody>\n",
       "    <tr>\n",
       "      <th>0</th>\n",
       "      <td>Matt Turck</td>\n",
       "      <td>W51-2023</td>\n",
       "      <td>LinkedIn</td>\n",
       "      <td>2023-12-23 22:43:09+0100</td>\n",
       "      <td>Sat. 23 Dec.</td>\n",
       "      <td>22H43</td>\n",
       "      <td>Thinking you're late to AI today is like think...</td>\n",
       "      <td>Thinking you're late to AI today is like think...</td>\n",
       "      <td>\"Artificial Intelligence, perception of latene...</td>\n",
       "      <td>85</td>\n",
       "      <td>None</td>\n",
       "      <td>0</td>\n",
       "      <td>0</td>\n",
       "      <td>0</td>\n",
       "      <td>0</td>\n",
       "      <td>0.0</td>\n",
       "      <td>https://www.linkedin.com/feed/update/urn:li:ac...</td>\n",
       "    </tr>\n",
       "  </tbody>\n",
       "</table>\n",
       "</div>"
      ],
      "text/plain": [
       "       ENTITY  SCENARIO    SOURCE            PUBLISHED_DATE          DATE  \\\n",
       "0  Matt Turck  W51-2023  LinkedIn  2023-12-23 22:43:09+0100  Sat. 23 Dec.   \n",
       "\n",
       "    TIME                                              TITLE  \\\n",
       "0  22H43  Thinking you're late to AI today is like think...   \n",
       "\n",
       "                                             CONTENT  \\\n",
       "0  Thinking you're late to AI today is like think...   \n",
       "\n",
       "                                              TOPICS  CONTENT_LENGTH KEYWORDS  \\\n",
       "0  \"Artificial Intelligence, perception of latene...              85     None   \n",
       "\n",
       "   VIEWS  LIKES  COMMENTS  SHARES  ENGAGEMENT_SCORE  \\\n",
       "0      0      0         0       0               0.0   \n",
       "\n",
       "                                         CONTENT_URL  \n",
       "0  https://www.linkedin.com/feed/update/urn:li:ac...  "
      ]
     },
     "execution_count": 9,
     "metadata": {},
     "output_type": "execute_result"
    }
   ],
   "source": [
    "df_input = pload(input_dir, file_content)    \n",
    "if df_input is None:\n",
    "    df_input = gsheet.connect(spreadsheet_url).get(sheet_name=sheet_name)\n",
    "\n",
    "# Filter on the 2 weeks\n",
    "df_input = df_input[df_input[\"SCENARIO\"].isin([TW, LW])]\n",
    "\n",
    "# Display result\n",
    "df_input.to_csv(csv_output, index=False)\n",
    "print(\"Rows:\", len(df_input))\n",
    "df_input.head(1)"
   ]
  },
  {
   "cell_type": "markdown",
   "id": "58032113-846e-411d-b501-551e7ff1d44e",
   "metadata": {},
   "source": [
    "### Create Overview details"
   ]
  },
  {
   "cell_type": "code",
   "execution_count": 6,
   "id": "4b99abbe-78cc-4756-a8ef-adc9bc99b5f5",
   "metadata": {
    "execution": {
     "iopub.execute_input": "2023-12-26T09:56:13.063482Z",
     "iopub.status.busy": "2023-12-26T09:56:13.063161Z",
     "iopub.status.idle": "2023-12-26T09:56:13.074787Z",
     "shell.execute_reply": "2023-12-26T09:56:13.074099Z",
     "shell.execute_reply.started": "2023-12-26T09:56:13.063445Z"
    },
    "tags": []
   },
   "outputs": [
    {
     "name": "stdout",
     "output_type": "stream",
     "text": [
      "['']\n"
     ]
    }
   ],
   "source": [
    "posts = []\n",
    "df_posts = pd.DataFrame()\n",
    "if len(df_input) > 0 and \"SCENARIO\" in df_input.columns:\n",
    "    df_posts = df_input.copy()\n",
    "    df_posts = df_posts[df_posts[\"SCENARIO\"] == tw]\n",
    "    \n",
    "for row in df_posts.itertuples():\n",
    "    title = row.TITLE\n",
    "    url = row.CONTENT_URL\n",
    "    content = row.TOPICS\n",
    "    post_date = row.DATE\n",
    "    post_time = row.TIME\n",
    "    topic = row.TOPICS\n",
    "    posts.append(f\"<a href='{url}'>{title}</a> published on {post_date} at {post_time} on '{topic}'\")\n",
    "if len(posts) == 0:\n",
    "    posts = [\"\"]\n",
    "print(posts)"
   ]
  },
  {
   "cell_type": "markdown",
   "id": "77bd77f7-d985-4231-aae4-99e493756105",
   "metadata": {},
   "source": [
    "### Create 'Performance' details"
   ]
  },
  {
   "cell_type": "code",
   "execution_count": 7,
   "id": "38d8276d-eb40-477e-a3c2-585487580041",
   "metadata": {
    "execution": {
     "iopub.execute_input": "2023-12-26T09:56:13.861129Z",
     "iopub.status.busy": "2023-12-26T09:56:13.860874Z",
     "iopub.status.idle": "2023-12-26T09:56:13.924579Z",
     "shell.execute_reply": "2023-12-26T09:56:13.923919Z",
     "shell.execute_reply.started": "2023-12-26T09:56:13.861092Z"
    },
    "tags": []
   },
   "outputs": [
    {
     "name": "stdout",
     "output_type": "stream",
     "text": [
      "['Views : <b>0 (-25 302)</b>', 'Likes : <b>0 (-192)</b>', 'Comments : <b>0 (-58)</b>', 'Shares : <b>0 (-11)</b>']\n"
     ]
    }
   ],
   "source": [
    "# Groupby weeks\n",
    "df = df_input.groupby([\"SCENARIO\"], as_index=False).agg({\"VIEWS\": \"sum\", \"LIKES\": \"sum\", \"COMMENTS\": \"sum\", \"SHARES\": \"sum\"})\n",
    "df = df.sort_values(by=\"SCENARIO\").reset_index(drop=True)\n",
    "\n",
    "def create_var_text(df, column):\n",
    "    # Get value this scenario and last scenario\n",
    "    if len(df) == 0:\n",
    "        value = 0\n",
    "        value_n1 = 0\n",
    "    elif len(df) == 1:\n",
    "        if df.loc[0, \"SCENARIO\"] == tw:\n",
    "            value = df.loc[0, column]\n",
    "            value_n1 = 0\n",
    "        else:\n",
    "            value = 0\n",
    "            value_n1 = df.loc[0, column]\n",
    "    else:\n",
    "        value = df.loc[df.index[-1], column]\n",
    "        value_n1 = df.loc[df.index[0], column]\n",
    "        \n",
    "    # Calc variation in value\n",
    "    varv = value - value_n1\n",
    "    if varv < 0:\n",
    "        message = f\"{format_number(value)} (-{format_number(varv)})\"\n",
    "    elif varv == 0:\n",
    "        message = f\"{format_number(value)} (unchanged)\"\n",
    "    else:\n",
    "        message = f\"{format_number(value)} (+{format_number(varv)})\"\n",
    "    return message\n",
    "\n",
    "views = create_var_text(df, \"VIEWS\")\n",
    "likes = create_var_text(df, \"LIKES\")\n",
    "comments = create_var_text(df, \"COMMENTS\")\n",
    "shares = create_var_text(df, \"SHARES\")\n",
    "\n",
    "# Preview of what will be send by email:\n",
    "kpis = [\n",
    "    f\"Views : <b>{views}</b>\",\n",
    "    f\"Likes : <b>{likes}</b>\",\n",
    "    f\"Comments : <b>{comments}</b>\",\n",
    "    f\"Shares : <b>{shares}</b>\",\n",
    "]\n",
    "if len(kpis) == 0:\n",
    "    kpis = [\"\"]\n",
    "print(kpis)"
   ]
  },
  {
   "cell_type": "markdown",
   "id": "c8a69d2e-43c4-4d60-b333-63ba379f4017",
   "metadata": {},
   "source": [
    "### Generate email content"
   ]
  },
  {
   "cell_type": "code",
   "execution_count": 8,
   "id": "08679f52-a01a-4146-9755-4108030b7a63",
   "metadata": {
    "execution": {
     "iopub.execute_input": "2023-12-26T09:56:14.745532Z",
     "iopub.status.busy": "2023-12-26T09:56:14.745254Z",
     "iopub.status.idle": "2023-12-26T09:56:14.755825Z",
     "shell.execute_reply": "2023-12-26T09:56:14.755233Z",
     "shell.execute_reply.started": "2023-12-26T09:56:14.745492Z"
    },
    "tags": []
   },
   "outputs": [
    {
     "data": {
      "text/html": [
       "\n",
       "            <script>\n",
       "                function resizeIframe_779c24864fa94004b5169bf283f3c3ee(obj) {\n",
       "                    obj.style.height = obj.contentWindow.document.documentElement.scrollHeight + 'px';\n",
       "                }\n",
       "            </script>\n",
       "            <iframe id=\"FileFrame_779c24864fa94004b5169bf283f3c3ee\" src=\"about:blank\"\n",
       "                style=\"border: 0; width: 100%; height: 100%\" onload=\"resizeIframe_779c24864fa94004b5169bf283f3c3ee(this)\">\n",
       "            </iframe>\n",
       "            <script type=\"text/javascript\">\n",
       "            var doc_779c24864fa94004b5169bf283f3c3ee = document.getElementById('FileFrame_779c24864fa94004b5169bf283f3c3ee').contentWindow.document;\n",
       "            doc_779c24864fa94004b5169bf283f3c3ee.open();\n",
       "            doc_779c24864fa94004b5169bf283f3c3ee.write(`<html lang='en'><head><meta httpequiv='Content-Type' content='text/html; charset=utf-8'/> <meta httpequiv='Content-Type' content='width=device-width, initial-scale=1'/> <meta name='viewport' content='width=device-width, initial-scale=1'/> <meta httpequiv='X-UA-Compatible' content='IE=edge'/> <style>\n",
       "/* CLIENT-SPECIFIC STYLES */\n",
       "body, table, td, a { -webkit-text-size-adjust: 100%; -ms-text-size-adjust: 100%; }\n",
       "table, td { mso-table-lspace: 0pt; mso-table-rspace: 0pt; }\n",
       "img { -ms-interpolation-mode: bicubic; }\n",
       "\n",
       "/* RESET STYLES */\n",
       "img { border: 0; height: auto; line-height: 100%; outline: none; text-decoration: none; }\n",
       "table { border-collapse: collapse !important; text-align: left !important; }\n",
       "body { height: 100% !important; margin: 0 !important; padding: 0 !important; width: 100% !important; }\n",
       "\n",
       "/* iOS BLUE LINKS */\n",
       "a[x-apple-data-detectors] {\n",
       "    color: inherit !important;\n",
       "    text-decoration: none !important;\n",
       "    font-size: inherit !important;\n",
       "    font-family: inherit !important;\n",
       "    font-weight: inherit !important;\n",
       "    line-height: inherit !important;\n",
       "}\n",
       "\n",
       "/* GMAIL BLUE LINKS */\n",
       "u + #body a {\n",
       "    color: inherit;\n",
       "    text-decoration: none;\n",
       "    font-size: inherit;\n",
       "    font-family: inherit;\n",
       "    font-weight: inherit;\n",
       "    line-height: inherit;\n",
       "}\n",
       "\n",
       "/* SAMSUNG MAIL BLUE LINKS */\n",
       "#MessageViewBody a {\n",
       "    color: inherit;\n",
       "    text-decoration: none;\n",
       "    font-size: inherit;\n",
       "    font-family: inherit;\n",
       "    font-weight: inherit;\n",
       "    line-height: inherit;\n",
       "}\n",
       "\n",
       "a.link { color: #B200FD; font-weight: 600; text-decoration: underline; }\n",
       "a.link:hover { color: #000000 !important; text-decoration: none !important; background-color: #5c1958 !important; }\n",
       "a.button:hover { color: #ffffff !important; background-color: #5c1958 !important; }\n",
       "\n",
       "td, th {\n",
       "    padding: 10px;\n",
       "}\n",
       "\n",
       "th {\n",
       "    text-align: center;\n",
       "}\n",
       "\n",
       "table * {\n",
       "    margin: 18px 0 !important;\n",
       "    font-size: 18px;\n",
       "}\n",
       "\n",
       ".table_border {\n",
       "  border-collapse: collapse;\n",
       "  overflow: hidden;\n",
       "}\n",
       ".table_border tr:hover {\n",
       "  background-color: AliceBlue !important;\n",
       "  color: black;\n",
       "}\n",
       "\n",
       ".table_border tr:nth-child(even) { background-color: ghostwhite}\n",
       "\n",
       "@media screen and (min-width:600px) {\n",
       "    h1 { font-size: 48px !important; line-height: 48px !important; }\n",
       "    .intro { font-size: 24px !important; line-height: 36px !important; }\n",
       "}\n",
       ".basic_font {\n",
       "    font-family: 'Avenir Next', -apple-system, BlinkMacSystemFont, 'Segoe UI', Roboto, Helvetica, Arial, sans-serif, 'Apple Color Emoji', 'Segoe UI Emoji', 'Segoe UI Symbol';  # noqa: E501\n",
       "}\n",
       "</style></head> <body style='margin: 0 !important; padding: 0 !important; '><div style='display: none; max-height: 0; overflow: hidden; '></div> <div style='display: none; max-height: 0; overflow: hidden; '>&nbsp;‌&nbsp;‌&nbsp;‌&nbsp;‌&nbsp;‌&nbsp;‌&nbsp;‌&nbsp;‌&nbsp;‌&nbsp;‌&nbsp;‌&nbsp;‌&nbsp;‌&nbsp;‌&nbsp;‌&nbsp;‌&nbsp;‌&nbsp;‌&nbsp;‌&nbsp;‌&nbsp;‌&nbsp;‌&nbsp;‌&nbsp;‌&nbsp;‌&nbsp;‌&nbsp;‌&nbsp;‌&nbsp;‌&nbsp;‌&nbsp;‌&nbsp;‌&nbsp;‌&nbsp;‌&nbsp;‌&nbsp;‌&nbsp;‌&nbsp;‌&nbsp;‌&nbsp;‌&nbsp;‌&nbsp;‌&nbsp;‌&nbsp;‌&nbsp;‌&nbsp;‌&nbsp;‌&nbsp;‌&nbsp;‌&nbsp;‌&nbsp;‌&nbsp;‌&nbsp;‌&nbsp;‌&nbsp;‌&nbsp;‌&nbsp;‌&nbsp;‌&nbsp;‌&nbsp;‌&nbsp;‌&nbsp;‌&nbsp;‌&nbsp;‌&nbsp;‌&nbsp;‌&nbsp;‌&nbsp;‌&nbsp;‌&nbsp;‌&nbsp;‌&nbsp;‌&nbsp;‌&nbsp;‌&nbsp;‌&nbsp;‌&nbsp;‌&nbsp;‌&nbsp;‌&nbsp;‌&nbsp;‌&nbsp;‌&nbsp;‌&nbsp;‌&nbsp;‌&nbsp;‌&nbsp;‌&nbsp;‌&nbsp;‌&nbsp;‌&nbsp;‌&nbsp;‌&nbsp;‌&nbsp;‌&nbsp;‌&nbsp;‌&nbsp;‌&nbsp;‌&nbsp;‌&nbsp;‌&nbsp;‌&nbsp;‌&nbsp;‌&nbsp;‌&nbsp;‌&nbsp;‌&nbsp;‌&nbsp;‌&nbsp;‌&nbsp;‌&nbsp;‌&nbsp;‌&nbsp;‌&nbsp;‌&nbsp;‌&nbsp;‌&nbsp;‌&nbsp;‌&nbsp;‌&nbsp;‌&nbsp;‌&nbsp;‌&nbsp;‌&nbsp;‌&nbsp;‌&nbsp;‌&nbsp;‌&nbsp;‌&nbsp;‌&nbsp;‌&nbsp;‌&nbsp;‌&nbsp;‌&nbsp;‌&nbsp;‌&nbsp;‌&nbsp;‌&nbsp;‌&nbsp;‌&nbsp;‌&nbsp;‌&nbsp;‌&nbsp;‌&nbsp;‌&nbsp;‌&nbsp;‌&nbsp;‌&nbsp;‌&nbsp;‌&nbsp;‌&nbsp;‌&nbsp;‌&nbsp;‌&nbsp;‌&nbsp;‌&nbsp;‌&nbsp;‌&nbsp;‌&nbsp;‌&nbsp;‌&nbsp;‌&nbsp;‌&nbsp;‌&nbsp;‌&nbsp;‌&nbsp;‌&nbsp;‌&nbsp;‌&nbsp;‌&nbsp;‌&nbsp;‌&nbsp;‌&nbsp;‌&nbsp;‌&nbsp;‌&nbsp;‌&nbsp;‌&nbsp;‌&nbsp;‌&nbsp;‌&nbsp;‌&nbsp;‌&nbsp;‌&nbsp;‌&nbsp;‌&nbsp;‌&nbsp;‌&nbsp;‌&nbsp;‌&nbsp;‌&nbsp;‌&nbsp;‌&nbsp;‌&nbsp;‌&nbsp;‌&nbsp;‌&nbsp;‌&nbsp;‌&nbsp;‌&nbsp;‌&nbsp;‌&nbsp;‌&nbsp;‌&nbsp;‌&nbsp;‌&nbsp;‌&nbsp;‌&nbsp;‌&nbsp;‌&nbsp;‌&nbsp;‌&nbsp;‌&nbsp;‌&nbsp;‌&nbsp;‌&nbsp;‌&nbsp;‌&nbsp;‌&nbsp;‌&nbsp;‌&nbsp;‌&nbsp;‌&nbsp;‌&nbsp;‌&nbsp;‌&nbsp;‌&nbsp;‌&nbsp;‌&nbsp;‌&nbsp;‌&nbsp;‌&nbsp;‌&nbsp;‌&nbsp;‌&nbsp;‌&nbsp;‌&nbsp;‌&nbsp;‌&nbsp;‌&nbsp;‌</div> \n",
       "<!--[if (gte mso 9)|(IE)]>\n",
       "<table cellspacing=\"0\" cellpadding=\"0\" border=\"0\" width=\"720\" align=\"center\" role=\"presentation\"><tr><td>\n",
       "<![endif]-->\n",
       " <div lang='en' class='basic_font' style='background-color: white; color: #2b2b2b; font-size: 18px; font-weight: 400; line-height: 28px; margin: 0 auto; max-width: 720px; padding: 40px 20px 40px 20px; '><main><h2 style='font-weight: normal; line-height: 32px; margin: 48px 0 24px 0; text-align: center; color: #000000; font-size: 28; font-weight: bold; '>📲 Content Assistant</h2> <p style='padding-left: 10px; padding-right: 10px; color: intro; font-size: 18px; '>Hi Jérémy,<br><br>I hope this email finds you well. Here is the latest update on your content performance.</p> <p style='padding-left: 10px; padding-right: 10px; color: #000000; font-size: 25px; text-align: center; font-weight: bold; '>Overview</p> <a class='link' href='https://public.naas.ai/amVyZW15LTQwbmFhcy0yRWFp/asset/56adc1fab9ca40115970d3c8e3a1bf947b14ffe18a6795814d68aac421d1'><img src='https://public.naas.ai/amVyZW15LTQwbmFhcy0yRWFp/asset/a97c877b6d6e9a1ae983a133a90f115fdba739a43918fca3fc204110cf1e.png?naas_uid=b026c58b-9292-40ac-9b8b-c0c7449b17a3' height='80%' width='100%' style='border-radius: 4px; margin: 0 auto 0 0; display: block; '/></a> <p style='padding-left: 10px; padding-right: 10px; color: #000000; font-size: 18px; '>Content published this week:</p> <ul><li></li></ul> <p style='padding-left: 10px; padding-right: 10px; color: #000000; font-size: 25px; text-align: center; font-weight: bold; '>Performance</p> <p style='padding-left: 10px; padding-right: 10px; color: #000000; font-size: 18px; '>Statistics vs last week:</p> <ul><li>Views : <b>0 (-25 302)</b></li> <li>Likes : <b>0 (-192)</b></li> <li>Comments : <b>0 (-58)</b></li> <li>Shares : <b>0 (-11)</b></li></ul> <p style='padding-left: 10px; padding-right: 10px; color: #000000; font-size: 18px; '>I am here to support you in optimizing your content strategy and achieving your goals. If you would like to discuss any specific ideas or strategies, I am available for a chat at your convenience.</p> <center><div style='margin: 48px 0; '><a class='button link' href='https://naas.ai/chat/use?plugin_url=https://public.naas.ai/amVyZW15LTQwbmFhcy0yRWFp/asset/6d5623845d24a2cc8f1262f627ef251ececcc7ab3407eacc408d99b1ad43' style='background-color: #181a1c; color: white; border-radius: 4px; display: inline-block; font-family: sans-serif; font-size: 18px; font-weight: bold; line-height: 60px; text-align: center; text-decoration: none; width: auto; max-width: 300px; padding-left: 10px; padding-right: 10px; -webkit-text-size-adjust: none; '>Start Chatting</a></div></center> <footer><hr/> <p style='text-align: center; '><a href='https://github.com/jupyter-naas/naas' class='link' target='_blank'><img width='6%' align='center' src='https://icons.iconarchive.com/icons/icons8/windows-8/512/Programming-Github-icon.png' style='padding: 5px; margin: 0px 15px; border-radius: 20%; background-color: white; '/></a> <a href='https://www.youtube.com/channel/UCKKG5hzjXXU_rRdHHWQ8JHQ?sub_confirmation=1' class='link' target='_blank'><img width='6%' align='center' src='https://icons.iconarchive.com/icons/icons8/windows-8/512/Social-Networks-Youtube-icon.png' style='padding: 5px; margin: 0px 15px; border-radius: 20%; background-color: white; '/></a> <a href='https://www.linkedin.com/showcase/naas-ai' class='link' target='_blank'><img width='6%' align='center' src='https://icons.iconarchive.com/icons/icons8/windows-8/512/Social-Networks-Linkedin-icon.png' style='padding: 5px; margin: 0px 15px; border-radius: 20%; background-color: white; '/></a> <a href='https://twitter.com/JupyterNaas' class='link' target='_blank'><img width='6%' align='center' src='https://raw.githubusercontent.com/jupyter-naas/awesome-notebooks/master/.github/assets/logos/Twitter.jpeg' style='padding: 5px; margin: 0px 15px; border-radius: 20%; background-color: white; '/></a></p> <p style='line-height: 1; text-align: center; '><span style='font-size: 12px; '><b>Naas - Universal Data & AI Platform</b> <br/> <b><a target='_blank' href='https://www.naas.ai/'>www.naas.ai</a></b> <br/></span></p></footer></main></div> \n",
       "<!--[if (gte mso 9)|(IE)]>\n",
       "</td></tr></table>\n",
       "<![endif]-->\n",
       "</body></html>`);\n",
       "            doc_779c24864fa94004b5169bf283f3c3ee.close();\n",
       "            </script>\n",
       "            "
      ],
      "text/plain": [
       "<IPython.core.display.HTML object>"
      ]
     },
     "metadata": {},
     "output_type": "display_data"
    }
   ],
   "source": [
    "def generate_email_content(\n",
    "    entity_name,\n",
    "    image_url,\n",
    "    image_html,\n",
    "    posts,\n",
    "    kpis,\n",
    "    plugin_url,\n",
    "):\n",
    "    content = {\n",
    "        'heading': \"📲 Content Assistant\",\n",
    "        \"txt_intro\": (\n",
    "            f\"Hi {entity_name.split(' ')[0]},<br><br>\" \"I hope this email finds you well. Here is the latest update on your content performance.\"\n",
    "        ),\n",
    "        \"title_1\": emailbuilder.text(\n",
    "            \"Overview\", font_size=\"25px\", text_align=\"center\", bold=True\n",
    "        ),\n",
    "        \"image_1\": emailbuilder.image(image_url, link=image_html),\n",
    "        \"text_1\": emailbuilder.text(\n",
    "            \"Content published this week:\"\n",
    "        ),\n",
    "        \"list_1\": emailbuilder.list(posts),\n",
    "        \"title_2\": emailbuilder.text(\n",
    "            \"Performance\", font_size=\"25px\", text_align=\"center\", bold=True\n",
    "        ),\n",
    "        \"text_2\": emailbuilder.text(\n",
    "            \"Statistics vs last week:\"\n",
    "        ),\n",
    "        \"list_2\": emailbuilder.list(kpis),\n",
    "        \"text_3\": emailbuilder.text(\n",
    "            \"I am here to support you in optimizing your content strategy and achieving your goals. If you would like to discuss any specific ideas or strategies, I am available for a chat at your convenience.\"\n",
    "        ),\n",
    "        \"button_1\": emailbuilder.button(\n",
    "            link=(f\"https://naas.ai/chat/use?plugin_url={plugin_url}\"),\n",
    "            text=\"Start Chatting\",\n",
    "            background_color=\"#181a1c\",\n",
    "        ),\n",
    "        \"footer_naas\": emailbuilder.footer_company(naas=True),\n",
    "    }\n",
    "\n",
    "    email_content = emailbuilder.generate(display=\"iframe\", **content)\n",
    "    return email_content\n",
    "\n",
    "\n",
    "email_content = generate_email_content(\n",
    "    entity_name,\n",
    "    image_url,\n",
    "    image_html,\n",
    "    posts,\n",
    "    kpis,\n",
    "    plugin_url,\n",
    ")"
   ]
  },
  {
   "cell_type": "markdown",
   "id": "aging-settlement",
   "metadata": {
    "papermill": {},
    "tags": []
   },
   "source": [
    "## Output"
   ]
  },
  {
   "cell_type": "markdown",
   "id": "display_cell",
   "metadata": {
    "papermill": {},
    "tags": []
   },
   "source": [
    "### Send the email"
   ]
  },
  {
   "cell_type": "code",
   "execution_count": null,
   "id": "fewer-sailing",
   "metadata": {
    "papermill": {},
    "tags": []
   },
   "outputs": [],
   "source": [
    "if len(email_to) > 0:\n",
    "    naas.notification.send(\n",
    "        email_to=list(email_to.split(\",\")),\n",
    "        subject=email_subject,\n",
    "        html=email_content,\n",
    "        files=[csv_output],\n",
    "    )"
   ]
  },
  {
   "cell_type": "code",
   "execution_count": null,
   "id": "2b0a0470-fc91-49f9-8079-140aa764817e",
   "metadata": {},
   "outputs": [],
   "source": []
  }
 ],
 "metadata": {
  "kernelspec": {
   "display_name": "Python 3",
   "language": "python",
   "name": "python3"
  },
  "language_info": {
   "codemirror_mode": {
    "name": "ipython",
    "version": 3
   },
   "file_extension": ".py",
   "mimetype": "text/x-python",
   "name": "python",
   "nbconvert_exporter": "python",
   "pygments_lexer": "ipython3",
   "version": "3.9.6"
  },
  "naas": {
   "notebook_id": "a5f1933d-ce28-4c8e-858a-3bb67631a1e1",
   "notebook_path": "Naas/Naas_Emailbuilder_demo.ipynb"
  },
  "papermill": {
   "default_parameters": {},
   "environment_variables": {},
   "parameters": {},
   "version": "2.3.3"
  }
 },
 "nbformat": 4,
 "nbformat_minor": 5
}
