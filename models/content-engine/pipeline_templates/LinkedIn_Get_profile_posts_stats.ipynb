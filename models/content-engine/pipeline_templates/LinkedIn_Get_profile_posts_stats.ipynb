{
 "cells": [
  {
   "cell_type": "markdown",
   "id": "recreational-precipitation",
   "metadata": {
    "execution": {
     "iopub.execute_input": "2021-01-25T08:00:35.294800Z",
     "iopub.status.busy": "2021-01-25T08:00:35.294557Z",
     "iopub.status.idle": "2021-01-25T08:00:35.307281Z",
     "shell.execute_reply": "2021-01-25T08:00:35.306468Z",
     "shell.execute_reply.started": "2021-01-25T08:00:35.294775Z"
    },
    "papermill": {},
    "tags": []
   },
   "source": [
    "<img width=\"8%\" alt=\"LinkedIn.png\" src=\"https://raw.githubusercontent.com/jupyter-naas/awesome-notebooks/master/.github/assets/logos/LinkedIn.png\" style=\"border-radius: 15%\">"
   ]
  },
  {
   "cell_type": "markdown",
   "id": "anticipated-teach",
   "metadata": {
    "papermill": {},
    "tags": []
   },
   "source": [
    "# LinkedIn - Get profile posts stats"
   ]
  },
  {
   "cell_type": "markdown",
   "id": "6f9a2cbe-a573-488b-88aa-c505a38b3ef5",
   "metadata": {
    "papermill": {},
    "tags": []
   },
   "source": [
    "**Tags:** #linkedin #profile #post #stats #naas_drivers #content #automation #picke"
   ]
  },
  {
   "cell_type": "markdown",
   "id": "412447a1-7aba-4cdf-afec-b5a94515b619",
   "metadata": {
    "papermill": {},
    "tags": []
   },
   "source": [
    "**Author:** [Florent Ravenel](https://www.linkedin.com/in/florent-ravenel/)"
   ]
  },
  {
   "cell_type": "markdown",
   "id": "naas-description",
   "metadata": {
    "papermill": {},
    "tags": [
     "description"
    ]
   },
   "source": [
    "**Description:** This notebook fetches your profile's post statistics from LinkedIn and stores them in a pickle file."
   ]
  },
  {
   "cell_type": "markdown",
   "id": "481d93a8-af29-41e3-9fc0-29f2bce7658f",
   "metadata": {
    "papermill": {},
    "tags": []
   },
   "source": [
    "\n",
    "<div class=\"alert alert-info\" role=\"info\" style=\"margin: 10px\">\n",
    "<b>Disclaimer:</b><br>\n",
    "This code is in no way affiliated with, authorized, maintained, sponsored or endorsed by Linkedin or any of its affiliates or subsidiaries. It uses an independent and unofficial API. Use at your own risk.\n",
    "\n",
    "This project violates Linkedin's User Agreement Section 8.2, and because of this, Linkedin may (and will) temporarily or permanently ban your account. We are not responsible for your account being banned.\n",
    "<br>\n",
    "</div>"
   ]
  },
  {
   "cell_type": "markdown",
   "id": "attractive-bandwidth",
   "metadata": {
    "papermill": {},
    "tags": []
   },
   "source": [
    "## Input"
   ]
  },
  {
   "cell_type": "markdown",
   "id": "import_cell",
   "metadata": {
    "papermill": {},
    "tags": []
   },
   "source": [
    "### Import libraries"
   ]
  },
  {
   "cell_type": "code",
   "execution_count": 1,
   "id": "dangerous-christianity",
   "metadata": {
    "execution": {
     "iopub.execute_input": "2023-12-16T06:41:33.134057Z",
     "iopub.status.busy": "2023-12-16T06:41:33.133737Z",
     "iopub.status.idle": "2023-12-16T06:41:43.850322Z",
     "shell.execute_reply": "2023-12-16T06:41:43.849662Z",
     "shell.execute_reply.started": "2023-12-16T06:41:33.133971Z"
    },
    "papermill": {},
    "tags": []
   },
   "outputs": [
    {
     "name": "stdout",
     "output_type": "stream",
     "text": [
      "✅ utils file '/home/ftp/abi/utils/data.ipynb' successfully loaded.\n",
      "✅ utils file '/home/ftp/abi/utils/naas_chat_plugin.ipynb' successfully loaded.\n",
      "✅ utils file '/home/ftp/abi/utils/naas_lab.ipynb' successfully loaded.\n",
      "✅ utils file '/home/ftp/abi/utils/openai.ipynb' successfully loaded.\n"
     ]
    }
   ],
   "source": [
    "from naas_drivers import linkedin\n",
    "import naas\n",
    "import os\n",
    "from datetime import date, timedelta, datetime\n",
    "import pandas as pd\n",
    "import naas_data_product"
   ]
  },
  {
   "cell_type": "markdown",
   "id": "quiet-founder",
   "metadata": {
    "papermill": {},
    "tags": []
   },
   "source": [
    "### Setup variables\n",
    "**Inputs**\n",
    "- `li_at`: Cookie used to authenticate Members and API clients.\n",
    "- `JSESSIONID`: Cookie used for Cross Site Request Forgery (CSRF) protection and URL signature validation.\n",
    "- `linkedin_url`: This variable represents the LinkedIn profile URL.\n",
    "- `limit`: Date limit.\n",
    "- `force_update`: Boolean to force update.\n",
    "\n",
    "**Outputs**\n",
    "- `output_dir`: Output directory\n",
    "- `file_name`: Name of the file to be saved in your local."
   ]
  },
  {
   "cell_type": "code",
   "execution_count": 2,
   "id": "classical-necklace",
   "metadata": {
    "execution": {
     "iopub.execute_input": "2023-12-16T06:41:43.855840Z",
     "iopub.status.busy": "2023-12-16T06:41:43.854051Z",
     "iopub.status.idle": "2023-12-16T06:41:44.156821Z",
     "shell.execute_reply": "2023-12-16T06:41:44.156109Z",
     "shell.execute_reply.started": "2023-12-16T06:41:43.855805Z"
    },
    "papermill": {},
    "tags": [
     "parameters"
    ]
   },
   "outputs": [],
   "source": [
    "# Inputs\n",
    "li_at = naas.secret.get(\"LINKEDIN_LI_AT\") or \"YOUR_LINKEDIN_LI_AT\"\n",
    "JSESSIONID = naas.secret.get(\"LINKEDIN_JSESSIONID\") or \"YOUR_LINKEDIN_JSESSIONID\"\n",
    "linkedin_url = pload(os.path.join(naas_data_product.OUTPUTS_PATH, \"entity\"), \"linkedin_url\") or \"YOUR_LINKEDIN_URL\"\n",
    "limit = date.today() - timedelta(days=date.today().weekday() + 7)\n",
    "force_update = False\n",
    "\n",
    "# Outputs\n",
    "output_dir = os.path.join(naas_data_product.OUTPUTS_PATH, \"content-engine\", date.today().isoformat())\n",
    "file_name = \"linkedin_posts\""
   ]
  },
  {
   "cell_type": "markdown",
   "id": "polished-prior",
   "metadata": {
    "papermill": {},
    "tags": []
   },
   "source": [
    "## Model"
   ]
  },
  {
   "cell_type": "markdown",
   "id": "0b2b3ef1-49c5-4ff4-b338-25e7b8880e4c",
   "metadata": {
    "papermill": {},
    "tags": []
   },
   "source": [
    "### Get posts from LinkedIn"
   ]
  },
  {
   "cell_type": "code",
   "execution_count": 3,
   "id": "5a20f4e4-a3df-4cd0-9b7d-12ef80c72828",
   "metadata": {
    "execution": {
     "iopub.execute_input": "2023-12-16T06:41:44.158973Z",
     "iopub.status.busy": "2023-12-16T06:41:44.158559Z",
     "iopub.status.idle": "2023-12-16T06:41:51.612725Z",
     "shell.execute_reply": "2023-12-16T06:41:51.609065Z",
     "shell.execute_reply.started": "2023-12-16T06:41:44.158940Z"
    },
    "papermill": {},
    "tags": []
   },
   "outputs": [
    {
     "name": "stdout",
     "output_type": "stream",
     "text": [
      "1 - ✅ 'Good old days stories: ' published on 2023-12-15 14:42:28+0100 (https://www.linkedin.com/feed/update/urn:li:activity:7141422260812210176)\n",
      "✍️ Posts: 1\n"
     ]
    },
    {
     "data": {
      "text/html": [
       "<div>\n",
       "<style scoped>\n",
       "    .dataframe tbody tr th:only-of-type {\n",
       "        vertical-align: middle;\n",
       "    }\n",
       "\n",
       "    .dataframe tbody tr th {\n",
       "        vertical-align: top;\n",
       "    }\n",
       "\n",
       "    .dataframe thead th {\n",
       "        text-align: right;\n",
       "    }\n",
       "</style>\n",
       "<table border=\"1\" class=\"dataframe\">\n",
       "  <thead>\n",
       "    <tr style=\"text-align: right;\">\n",
       "      <th></th>\n",
       "      <th>ACTIVITY_ID</th>\n",
       "      <th>PAGINATION_TOKEN</th>\n",
       "      <th>PUBLISHED_DATE</th>\n",
       "      <th>AUTHOR_NAME</th>\n",
       "      <th>AUTHOR_URL</th>\n",
       "      <th>SUBDESCRIPTION</th>\n",
       "      <th>TITLE</th>\n",
       "      <th>TEXT</th>\n",
       "      <th>CHARACTER_COUNT</th>\n",
       "      <th>TAGS</th>\n",
       "      <th>...</th>\n",
       "      <th>POLL_ID</th>\n",
       "      <th>POLL_QUESTION</th>\n",
       "      <th>POLL_RESULTS</th>\n",
       "      <th>POST_URL</th>\n",
       "      <th>VIEWS</th>\n",
       "      <th>COMMENTS</th>\n",
       "      <th>LIKES</th>\n",
       "      <th>SHARES</th>\n",
       "      <th>ENGAGEMENT_SCORE</th>\n",
       "      <th>DATE_EXTRACT</th>\n",
       "    </tr>\n",
       "  </thead>\n",
       "  <tbody>\n",
       "    <tr>\n",
       "      <th>0</th>\n",
       "      <td>7141422260812210176</td>\n",
       "      <td>dXJuOmxpOmFjdGl2aXR5OjcxNDE0MjIyNjA4MTIyMTAxNz...</td>\n",
       "      <td>2023-12-15 14:42:28+0100</td>\n",
       "      <td>Travis Oliphant</td>\n",
       "      <td>https://www.linkedin.com/in/ACoAAACOHgYBT-RIKF...</td>\n",
       "      <td>16h •</td>\n",
       "      <td>Good old days stories:</td>\n",
       "      <td>Good old days stories: \\n\\nAs a child, after t...</td>\n",
       "      <td>289</td>\n",
       "      <td>None</td>\n",
       "      <td>...</td>\n",
       "      <td>None</td>\n",
       "      <td>None</td>\n",
       "      <td>None</td>\n",
       "      <td>https://www.linkedin.com/feed/update/urn:li:ac...</td>\n",
       "      <td>0</td>\n",
       "      <td>4</td>\n",
       "      <td>36</td>\n",
       "      <td>0</td>\n",
       "      <td>0</td>\n",
       "      <td>2023-12-16 07:41:50</td>\n",
       "    </tr>\n",
       "  </tbody>\n",
       "</table>\n",
       "<p>1 rows × 32 columns</p>\n",
       "</div>"
      ],
      "text/plain": [
       "           ACTIVITY_ID                                   PAGINATION_TOKEN  \\\n",
       "0  7141422260812210176  dXJuOmxpOmFjdGl2aXR5OjcxNDE0MjIyNjA4MTIyMTAxNz...   \n",
       "\n",
       "             PUBLISHED_DATE      AUTHOR_NAME  \\\n",
       "0  2023-12-15 14:42:28+0100  Travis Oliphant   \n",
       "\n",
       "                                          AUTHOR_URL SUBDESCRIPTION  \\\n",
       "0  https://www.linkedin.com/in/ACoAAACOHgYBT-RIKF...       16h •      \n",
       "\n",
       "                     TITLE                                               TEXT  \\\n",
       "0  Good old days stories:   Good old days stories: \\n\\nAs a child, after t...   \n",
       "\n",
       "   CHARACTER_COUNT  TAGS  ...  POLL_ID POLL_QUESTION  POLL_RESULTS  \\\n",
       "0              289  None  ...     None          None          None   \n",
       "\n",
       "                                            POST_URL  VIEWS COMMENTS LIKES  \\\n",
       "0  https://www.linkedin.com/feed/update/urn:li:ac...      0        4    36   \n",
       "\n",
       "  SHARES ENGAGEMENT_SCORE         DATE_EXTRACT  \n",
       "0      0                0  2023-12-16 07:41:50  \n",
       "\n",
       "[1 rows x 32 columns]"
      ]
     },
     "execution_count": 3,
     "metadata": {},
     "output_type": "execute_result"
    }
   ],
   "source": [
    "def get_posts(\n",
    "    li_at,\n",
    "    JSESSIONID,\n",
    "    linkedin_url,\n",
    "    limit=None,\n",
    "    force_update=False,\n",
    "):\n",
    "    # Init\n",
    "    df = pd.DataFrame()\n",
    "    \n",
    "    # Get posts\n",
    "    i = 1\n",
    "    pagination_token = None\n",
    "    while True:\n",
    "        # Requests from LinkedIn API\n",
    "        tmp_df = linkedin.connect(li_at, JSESSIONID).profile.get_posts_feed(\n",
    "            linkedin_url,\n",
    "            pagination_token=pagination_token,\n",
    "            limit=1,\n",
    "            sleep=False\n",
    "        )\n",
    "        title = tmp_df.loc[0, \"TITLE\"]\n",
    "        pagination_token = tmp_df.loc[0, \"PAGINATION_TOKEN\"]\n",
    "        published_date = tmp_df.loc[0, \"PUBLISHED_DATE\"]\n",
    "        post_url = tmp_df.loc[0, \"POST_URL\"]\n",
    "        \n",
    "        # Check if published date > limit\n",
    "        datetime_obj = datetime.strptime(published_date, \"%Y-%m-%d %H:%M:%S%z\").date()\n",
    "        if limit > datetime_obj:\n",
    "            break\n",
    "         \n",
    "        # Concat df\n",
    "        print(f\"{i} - ✅ '{title}' published on {published_date} ({post_url})\")\n",
    "        df = pd.concat([df, tmp_df])\n",
    "        i += 1 # Count\n",
    "    return df.reset_index(drop=True)\n",
    "\n",
    "# Load post from picke file\n",
    "df_posts = pload(output_dir, file_name)\n",
    "\n",
    "# Get posts from LinkedIn\n",
    "if df_posts is None or force_update:\n",
    "    df_posts = get_posts(\n",
    "        li_at,\n",
    "        JSESSIONID,\n",
    "        linkedin_url,\n",
    "        limit=limit,\n",
    "        force_update=force_update,\n",
    "    )\n",
    "    \n",
    "print('✍️ Posts:', len(df_posts))\n",
    "df_posts.head(1)"
   ]
  },
  {
   "cell_type": "markdown",
   "id": "0848d913-68fb-402b-ac6a-d2638e3e7b3d",
   "metadata": {
    "papermill": {},
    "tags": []
   },
   "source": [
    "## Output"
   ]
  },
  {
   "cell_type": "markdown",
   "id": "b1a9887b-70c8-4517-a34a-50417e30c492",
   "metadata": {
    "papermill": {},
    "tags": []
   },
   "source": [
    "### Save data"
   ]
  },
  {
   "cell_type": "code",
   "execution_count": 5,
   "id": "179dce5a-dfa2-45b5-9100-d798ad469a6a",
   "metadata": {
    "execution": {
     "iopub.execute_input": "2023-12-16T06:42:02.480008Z",
     "iopub.status.busy": "2023-12-16T06:42:02.479767Z",
     "iopub.status.idle": "2023-12-16T06:42:02.531744Z",
     "shell.execute_reply": "2023-12-16T06:42:02.531140Z",
     "shell.execute_reply.started": "2023-12-16T06:42:02.479983Z"
    },
    "papermill": {},
    "tags": []
   },
   "outputs": [],
   "source": [
    "pdump(output_dir, df_posts, file_name)"
   ]
  },
  {
   "cell_type": "code",
   "execution_count": null,
   "id": "42d54446-b17a-4ba1-9ace-419431ca83eb",
   "metadata": {},
   "outputs": [],
   "source": []
  }
 ],
 "metadata": {
  "kernelspec": {
   "display_name": "Python 3",
   "language": "python",
   "name": "python3"
  },
  "language_info": {
   "codemirror_mode": {
    "name": "ipython",
    "version": 3
   },
   "file_extension": ".py",
   "mimetype": "text/x-python",
   "name": "python",
   "nbconvert_exporter": "python",
   "pygments_lexer": "ipython3",
   "version": "3.9.6"
  },
  "naas": {
   "notebook_id": "ff638a6ff20341b8d9c703bd58fb5088b4bfd7df4f07be972ae77d964ad9eb84",
   "notebook_path": "LinkedIn/LinkedIn_Get_profile_posts_stats.ipynb"
  },
  "papermill": {
   "default_parameters": {},
   "environment_variables": {},
   "parameters": {},
   "version": "2.3.3"
  },
  "widgets": {
   "application/vnd.jupyter.widget-state+json": {
    "state": {},
    "version_major": 2,
    "version_minor": 0
   }
  }
 },
 "nbformat": 4,
 "nbformat_minor": 5
}
