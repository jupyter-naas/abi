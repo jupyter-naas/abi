{
 "cells": [
  {
   "cell_type": "markdown",
   "id": "younger-assignment",
   "metadata": {
    "papermill": {},
    "tags": []
   },
   "source": [
    "<img width=\"10%\" alt=\"Naas\" src=\"https://landen.imgix.net/jtci2pxwjczr/assets/5ice39g4.png?w=160\"/>"
   ]
  },
  {
   "cell_type": "markdown",
   "id": "subjective-dialogue",
   "metadata": {
    "papermill": {},
    "tags": []
   },
   "source": [
    "# Naas - Emailbuilder demo\n",
    "<a href=\"https://app.naas.ai/user-redirect/naas/downloader?url=https://raw.githubusercontent.com/jupyter-naas/awesome-notebooks/master/Naas/Naas_Emailbuilder_demo.ipynb\" target=\"_parent\"><img src=\"https://naasai-public.s3.eu-west-3.amazonaws.com/open_in_naas.svg\"/></a><br><br><a href=\"https://github.com/jupyter-naas/awesome-notebooks/issues/new?assignees=&labels=&template=template-request.md&title=Tool+-+Action+of+the+notebook+\">Template request</a> | <a href=\"https://github.com/jupyter-naas/awesome-notebooks/issues/new?assignees=&labels=bug&template=bug_report.md&title=Naas+-+Emailbuilder+demo:+Error+short+description\">Bug report</a> | <a href=\"https://app.naas.ai/user-redirect/naas/downloader?url=https://raw.githubusercontent.com/jupyter-naas/awesome-notebooks/master/Naas/Naas_Start_data_product.ipynb\" target=\"_parent\">Generate Data Product</a>"
   ]
  },
  {
   "cell_type": "markdown",
   "id": "588aefd6-7a2d-4bcd-b06f-351e07199586",
   "metadata": {
    "papermill": {},
    "tags": []
   },
   "source": [
    "**Tags:** #naas #emailbuilder #snippet #operations"
   ]
  },
  {
   "cell_type": "markdown",
   "id": "a4de884f-6e75-4aa3-af33-e77375eb2dc8",
   "metadata": {
    "papermill": {},
    "tags": []
   },
   "source": [
    "**Author:** [Florent Ravenel](https://www.linkedin.com/in/ACoAABCNSioBW3YZHc2lBHVG0E_TXYWitQkmwog/)"
   ]
  },
  {
   "cell_type": "markdown",
   "id": "naas-description",
   "metadata": {
    "papermill": {},
    "tags": [
     "description"
    ]
   },
   "source": [
    "**Description:** This notebook provides a demonstration of the Naas Emailbuilder, a tool for creating and managing email campaigns."
   ]
  },
  {
   "cell_type": "markdown",
   "id": "aquatic-smile",
   "metadata": {
    "papermill": {},
    "tags": []
   },
   "source": [
    "## Input"
   ]
  },
  {
   "cell_type": "markdown",
   "id": "import_cell",
   "metadata": {
    "papermill": {},
    "tags": []
   },
   "source": [
    "### Import libraries"
   ]
  },
  {
   "cell_type": "code",
   "execution_count": 1,
   "id": "stopped-yeast",
   "metadata": {
    "execution": {
     "iopub.execute_input": "2023-11-24T09:20:59.156022Z",
     "iopub.status.busy": "2023-11-24T09:20:59.155619Z",
     "iopub.status.idle": "2023-11-24T09:21:14.203578Z",
     "shell.execute_reply": "2023-11-24T09:21:14.202788Z",
     "shell.execute_reply.started": "2023-11-24T09:20:59.155917Z"
    },
    "papermill": {},
    "tags": []
   },
   "outputs": [
    {
     "name": "stdout",
     "output_type": "stream",
     "text": [
      "✅ utils file '/home/ftp/abi/utils/data.ipynb' successfully loaded.\n",
      "✅ utils file '/home/ftp/abi/utils/naas_chat_plugin.ipynb' successfully loaded.\n",
      "✅ utils file '/home/ftp/abi/utils/naas_lab.ipynb' successfully loaded.\n"
     ]
    }
   ],
   "source": [
    "from naas_drivers import emailbuilder, gsheet\n",
    "import naas\n",
    "import os\n",
    "import naas_data_product\n",
    "from datetime import date, datetime\n",
    "from naas_drivers import naasauth"
   ]
  },
  {
   "cell_type": "markdown",
   "id": "b65667cb-300f-48d7-9df0-c602fe004a36",
   "metadata": {
    "papermill": {},
    "tags": []
   },
   "source": [
    "### Setup variables\n",
    "- `linkedin_url`: This variable is used for storing the URL of the LinkedIn profile to be updated. It is retrieved from an environment variable called \"LINKEDIN_PROFILE_URL\" using the os.environ.get() method. If the environment variable is not set, the naas.secret.get() method is used to retrieve the URL from a secret store.\n",
    "- `output_dir`: This variable is used for storing the path to the directory where the output files of the LinkedIn profile update process will be saved. In this case, the path is set to \"/home/ftp/content-engine-linkedin-profile/outputs/linkedin/profile\".\n",
    "- `subdir`: This variable is used for storing the name of a subdirectory where the output files will be saved. In this case, the subdirectory is set to \"12_mr_month\".\n",
    "- `graphs`: This variable is used for storing a list of graph types that will be updated for the LinkedIn profile. The available graph types are \"published\", \"views\", \"likes\", \"comments\", and \"shares\".\n",
    "- `email_to`: This variable is used for storing a list of email addresses that will receive the notification email. In this case, the list contains the email address of the script user, which is retrieved using the naasauth.connect().user.me().get(\"username\") method.\n",
    "- `subject`: This variable is used for storing the subject of the notification email. In this case, the subject is \"🖼️ Content Engine: LinkedIn profile update\".\n",
    "- `email_content`: This variable is used for storing the content of the notification email. In this case, it is an empty dictionary, which can be populated with additional content later."
   ]
  },
  {
   "cell_type": "code",
   "execution_count": 2,
   "id": "absent-coach",
   "metadata": {
    "execution": {
     "iopub.execute_input": "2023-11-24T09:21:14.206015Z",
     "iopub.status.busy": "2023-11-24T09:21:14.204735Z",
     "iopub.status.idle": "2023-11-24T09:21:47.943368Z",
     "shell.execute_reply": "2023-11-24T09:21:47.936202Z",
     "shell.execute_reply.started": "2023-11-24T09:21:14.205981Z"
    },
    "papermill": {},
    "tags": [
     "parameters"
    ]
   },
   "outputs": [],
   "source": [
    "# Inputs\n",
    "spreadsheet_url = \"https://docs.google.com/spreadsheets/d/1GDVJxBajYx7VR48yKGnSvMsEjzXvqI94hlmPXI5qEp8/edit#gid=0\" or naas.secret.get(\"MY_AI_AVATAR_SPREADSHEET\")\n",
    "sheet_name = \"CONTENT\"\n",
    "input_dir = os.path.join(naas_data_product.OUTPUTS_PATH, \"content-engine\", date.today().isoformat())\n",
    "image_input = os.path.join(input_dir, f\"views.png\")\n",
    "image_url = naas.asset.find(image_input)\n",
    "plugin_url = naas.asset.find(os.path.join(naas_data_product.OUTPUTS_PATH, \"plugins\", \"📲_content_assistant.json\"))\n",
    "limit = 10\n",
    "\n",
    "# Outputs\n",
    "email_to = \"jeremy@naas.ai\"\n",
    "email_subject = f\"📲 Content Assistant - Email Update, {datetime.now().strftime('%Y-%m-%d %H:%M:%S')}\"\n",
    "email_content = {}"
   ]
  },
  {
   "cell_type": "markdown",
   "id": "particular-chemical",
   "metadata": {
    "papermill": {},
    "tags": []
   },
   "source": [
    "## Model"
   ]
  },
  {
   "cell_type": "markdown",
   "id": "7c5b0d7b-9a40-442f-8626-89c70c865f4f",
   "metadata": {
    "papermill": {},
    "tags": []
   },
   "source": [
    "### Get data from Google Sheets spreadsheet"
   ]
  },
  {
   "cell_type": "code",
   "execution_count": 3,
   "id": "ea94d24b-acac-417b-961c-e9300a46062a",
   "metadata": {
    "execution": {
     "iopub.execute_input": "2023-11-24T09:21:47.945037Z",
     "iopub.status.busy": "2023-11-24T09:21:47.944822Z",
     "iopub.status.idle": "2023-11-24T09:21:48.484393Z",
     "shell.execute_reply": "2023-11-24T09:21:48.483627Z",
     "shell.execute_reply.started": "2023-11-24T09:21:47.945010Z"
    },
    "papermill": {},
    "tags": []
   },
   "outputs": [
    {
     "name": "stdout",
     "output_type": "stream",
     "text": [
      "Rows: 10\n"
     ]
    },
    {
     "data": {
      "text/html": [
       "<div>\n",
       "<style scoped>\n",
       "    .dataframe tbody tr th:only-of-type {\n",
       "        vertical-align: middle;\n",
       "    }\n",
       "\n",
       "    .dataframe tbody tr th {\n",
       "        vertical-align: top;\n",
       "    }\n",
       "\n",
       "    .dataframe thead th {\n",
       "        text-align: right;\n",
       "    }\n",
       "</style>\n",
       "<table border=\"1\" class=\"dataframe\">\n",
       "  <thead>\n",
       "    <tr style=\"text-align: right;\">\n",
       "      <th></th>\n",
       "      <th>ENTITY</th>\n",
       "      <th>SCENARIO</th>\n",
       "      <th>SOURCE</th>\n",
       "      <th>PUBLISHED_DATE</th>\n",
       "      <th>DATE</th>\n",
       "      <th>TIME</th>\n",
       "      <th>TITLE</th>\n",
       "      <th>CONTENT</th>\n",
       "      <th>CONTENT_LENGTH</th>\n",
       "      <th>KEYWORDS</th>\n",
       "      <th>VIEWS</th>\n",
       "      <th>LIKES</th>\n",
       "      <th>COMMENTS</th>\n",
       "      <th>SHARES</th>\n",
       "      <th>ENGAGEMENT_SCORE</th>\n",
       "      <th>CONTENT_URL</th>\n",
       "    </tr>\n",
       "  </thead>\n",
       "  <tbody>\n",
       "    <tr>\n",
       "      <th>0</th>\n",
       "      <td>Jérémy Ravenel</td>\n",
       "      <td>2023-11-24</td>\n",
       "      <td>LinkedIn</td>\n",
       "      <td>2023-11-23 21:02:47+0100</td>\n",
       "      <td>2023-11-23</td>\n",
       "      <td>21:02:47</td>\n",
       "      <td>Happy Thanksgiving everyone. 🍁🍂🥧</td>\n",
       "      <td>Happy Thanksgiving everyone. 🍁🍂🥧\\nMay this day...</td>\n",
       "      <td>846</td>\n",
       "      <td>None</td>\n",
       "      <td>961</td>\n",
       "      <td>12</td>\n",
       "      <td>2</td>\n",
       "      <td>0</td>\n",
       "      <td>0.0146</td>\n",
       "      <td>https://www.linkedin.com/feed/update/urn:li:ac...</td>\n",
       "    </tr>\n",
       "  </tbody>\n",
       "</table>\n",
       "</div>"
      ],
      "text/plain": [
       "           ENTITY    SCENARIO    SOURCE            PUBLISHED_DATE        DATE  \\\n",
       "0  Jérémy Ravenel  2023-11-24  LinkedIn  2023-11-23 21:02:47+0100  2023-11-23   \n",
       "\n",
       "       TIME                             TITLE  \\\n",
       "0  21:02:47  Happy Thanksgiving everyone. 🍁🍂🥧   \n",
       "\n",
       "                                             CONTENT  CONTENT_LENGTH KEYWORDS  \\\n",
       "0  Happy Thanksgiving everyone. 🍁🍂🥧\\nMay this day...             846     None   \n",
       "\n",
       "   VIEWS  LIKES  COMMENTS  SHARES  ENGAGEMENT_SCORE  \\\n",
       "0    961     12         2       0            0.0146   \n",
       "\n",
       "                                         CONTENT_URL  \n",
       "0  https://www.linkedin.com/feed/update/urn:li:ac...  "
      ]
     },
     "execution_count": 3,
     "metadata": {},
     "output_type": "execute_result"
    }
   ],
   "source": [
    "df = gsheet.connect(spreadsheet_url).get(sheet_name=sheet_name)[:limit]\n",
    "print(\"Rows:\", len(df))\n",
    "df.head(1)"
   ]
  },
  {
   "cell_type": "markdown",
   "id": "a1ef3100-42ff-4843-864a-411e911479b5",
   "metadata": {},
   "source": [
    "### Prep values for email"
   ]
  },
  {
   "cell_type": "code",
   "execution_count": 4,
   "id": "38d8276d-eb40-477e-a3c2-585487580041",
   "metadata": {
    "execution": {
     "iopub.execute_input": "2023-11-24T09:30:08.867085Z",
     "iopub.status.busy": "2023-11-24T09:30:08.866761Z",
     "iopub.status.idle": "2023-11-24T09:30:08.880891Z",
     "shell.execute_reply": "2023-11-24T09:30:08.880253Z",
     "shell.execute_reply.started": "2023-11-24T09:30:08.867051Z"
    },
    "tags": []
   },
   "outputs": [
    {
     "name": "stdout",
     "output_type": "stream",
     "text": [
      "On the past 10 pieces of content:\n",
      "\n",
      "\t👀 Impressions\t 24 820 \n",
      "\t👍 Likes\t 248 \n",
      "\t💬 Comments\t 100 \n",
      "\t⏩ Shares\t 11\n"
     ]
    }
   ],
   "source": [
    "def format_number(num):\n",
    "    NUMBER_FORMAT = \"{:,.0f}\"\n",
    "    num = str(NUMBER_FORMAT.format(num)).replace(\",\", \" \")\n",
    "    return num\n",
    "\n",
    "views = format_number(df.VIEWS.sum())\n",
    "likes = format_number(df.LIKES.sum())\n",
    "comments = format_number(df.COMMENTS.sum())\n",
    "shares = format_number(df.SHARES.sum())\n",
    "\n",
    "# preview of what will be send by email:\n",
    "print(f\"On the past {limit} pieces of content:\")\n",
    "print(\n",
    "    \"\\n\\t👀 Impressions\\t\",\n",
    "    views,\n",
    "    \"\\n\\t👍 Likes\\t\",\n",
    "    likes,\n",
    "    \"\\n\\t💬 Comments\\t\",\n",
    "    comments,\n",
    "    \"\\n\\t⏩ Shares\\t\",\n",
    "    shares,\n",
    ")"
   ]
  },
  {
   "cell_type": "markdown",
   "id": "c8a69d2e-43c4-4d60-b333-63ba379f4017",
   "metadata": {},
   "source": [
    "### Create Email brief"
   ]
  },
  {
   "cell_type": "code",
   "execution_count": null,
   "id": "08679f52-a01a-4146-9755-4108030b7a63",
   "metadata": {
    "tags": []
   },
   "outputs": [],
   "source": [
    "def email_brief(\n",
    "    views,\n",
    "    likes,\n",
    "    comments,\n",
    "    shares,\n",
    "    plugin_url,\n",
    "    image_url,\n",
    "    limit,\n",
    "):\n",
    "    content = {\n",
    "        'title': \"📲 Content Assistant - Email Update\",\n",
    "        'heading': (f\"Date: {date.today().isoformat()}\"),\n",
    "        \"txt_intro\": (\n",
    "            f\"Hi there,<br><br>\" f\"Here is your content engine email as of {date.today().isoformat()}.\"\n",
    "        ),\n",
    "        \"title_1\": emailbuilder.text(\n",
    "            \"Overview\", font_size=\"27px\", text_align=\"center\", bold=True\n",
    "        ),\n",
    "        \"image_1\": emailbuilder.image(image_url),\n",
    "        \"text_1\": emailbuilder.text(\n",
    "            f\"On the past {limit} pieces of content, you reached a total of:\"\n",
    "        ),\n",
    "        \"list_1\": emailbuilder.list(\n",
    "            [\n",
    "                f\"Views : <b>{views}</b>\",\n",
    "                f\"Likes : <b>{likes}</b>\",\n",
    "                f\"Comments : <b>{comments}</b>\",\n",
    "                f\"Shares : <b>{shares}</b>\",\n",
    "            ]\n",
    "        ),\n",
    "        \"button_1\": emailbuilder.button(\n",
    "            link=(f\"https://naas.ai/chat/use?plugin_url={plugin_url}\"),\n",
    "            text=\"Start Chatting With Assistant\",\n",
    "            background_color=\"#181a1c\",\n",
    "        ),\n",
    "        \"footer_cs\": emailbuilder.footer_company(naas=True),\n",
    "    }\n",
    "\n",
    "    email_content = emailbuilder.generate(display=\"iframe\", **content)\n",
    "    return email_content\n",
    "\n",
    "\n",
    "email_content = email_brief(\n",
    "    views,\n",
    "    likes,\n",
    "    comments,\n",
    "    shares,\n",
    "    plugin_url,\n",
    "    image_url,\n",
    "    limit,\n",
    ")"
   ]
  },
  {
   "cell_type": "markdown",
   "id": "aging-settlement",
   "metadata": {
    "papermill": {},
    "tags": []
   },
   "source": [
    "## Output"
   ]
  },
  {
   "cell_type": "markdown",
   "id": "display_cell",
   "metadata": {
    "papermill": {},
    "tags": []
   },
   "source": [
    "### Send the email"
   ]
  },
  {
   "cell_type": "code",
   "execution_count": null,
   "id": "fewer-sailing",
   "metadata": {
    "papermill": {},
    "tags": []
   },
   "outputs": [],
   "source": [
    "naas.notification.send(\n",
    "    email_to=email_to,\n",
    "    subject=email_subject,\n",
    "    html=email_content,\n",
    ")"
   ]
  }
 ],
 "metadata": {
  "kernelspec": {
   "display_name": "Python 3",
   "language": "python",
   "name": "python3"
  },
  "language_info": {
   "codemirror_mode": {
    "name": "ipython",
    "version": 3
   },
   "file_extension": ".py",
   "mimetype": "text/x-python",
   "name": "python",
   "nbconvert_exporter": "python",
   "pygments_lexer": "ipython3",
   "version": "3.9.6"
  },
  "naas": {
   "notebook_id": "a5f1933d-ce28-4c8e-858a-3bb67631a1e1",
   "notebook_path": "Naas/Naas_Emailbuilder_demo.ipynb"
  },
  "papermill": {
   "default_parameters": {},
   "environment_variables": {},
   "parameters": {},
   "version": "2.3.3"
  }
 },
 "nbformat": 4,
 "nbformat_minor": 5
}
