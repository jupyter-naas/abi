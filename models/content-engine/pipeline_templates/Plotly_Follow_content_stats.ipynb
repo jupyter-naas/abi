{
 "cells": [
  {
   "cell_type": "markdown",
   "id": "e46cda1e",
   "metadata": {
    "papermill": {},
    "tags": []
   },
   "source": [
    "<img width=\"10%\" alt=\"Naas\" src=\"https://landen.imgix.net/jtci2pxwjczr/assets/5ice39g4.png?w=160\"/>\n"
   ]
  },
  {
   "cell_type": "markdown",
   "id": "b0d4ced6",
   "metadata": {
    "papermill": {},
    "tags": []
   },
   "source": [
    "# LinkedIn - Follow content views monthly\n",
    "<a href=\"https://app.naas.ai/user-redirect/naas/downloader?url=https://raw.githubusercontent.com/jupyter-naas/awesome-notebooks/master/LinkedIn/LinkedIn_Follow_content_views_monthly.ipynb\" target=\"_parent\"><img src=\"https://naasai-public.s3.eu-west-3.amazonaws.com/open_in_naas.svg\"/></a><br><br><a href=\"https://github.com/jupyter-naas/awesome-notebooks/issues/new?assignees=&labels=&template=template-request.md&title=Tool+-+Action+of+the+notebook+\">Template request</a> | <a href=\"https://github.com/jupyter-naas/awesome-notebooks/issues/new?assignees=&labels=bug&template=bug_report.md&title=LinkedIn+-+Follow+content+views+monthly:+Error+short+description\">Bug report</a> | <a href=\"https://app.naas.ai/user-redirect/naas/downloader?url=https://raw.githubusercontent.com/jupyter-naas/awesome-notebooks/master/Naas/Naas_Start_data_product.ipynb\" target=\"_parent\">Generate Data Product</a>"
   ]
  },
  {
   "cell_type": "markdown",
   "id": "06cb7cb7",
   "metadata": {
    "papermill": {},
    "tags": []
   },
   "source": [
    "**Tags:** #linkedin #html #plotly #csv #image #content #analytics #dependency"
   ]
  },
  {
   "cell_type": "markdown",
   "id": "c64eee3c",
   "metadata": {
    "papermill": {},
    "tags": []
   },
   "source": [
    "**Author:** [Florent Ravenel](https://www.linkedin.com/in/florent-ravenel/)"
   ]
  },
  {
   "cell_type": "markdown",
   "id": "naas-description",
   "metadata": {
    "papermill": {},
    "tags": [
     "description"
    ]
   },
   "source": [
    "**Description:** This notebook provides a monthly overview of the content you are following on LinkedIn."
   ]
  },
  {
   "cell_type": "markdown",
   "id": "f65cd676",
   "metadata": {
    "papermill": {},
    "tags": []
   },
   "source": [
    "## Input"
   ]
  },
  {
   "cell_type": "markdown",
   "id": "428474ab",
   "metadata": {
    "papermill": {},
    "tags": []
   },
   "source": [
    "### Import libraries"
   ]
  },
  {
   "cell_type": "code",
   "execution_count": 1,
   "id": "6214ae90",
   "metadata": {
    "execution": {
     "iopub.execute_input": "2023-11-24T09:25:08.346839Z",
     "iopub.status.busy": "2023-11-24T09:25:08.345171Z",
     "iopub.status.idle": "2023-11-24T09:25:23.432384Z",
     "shell.execute_reply": "2023-11-24T09:25:23.431487Z",
     "shell.execute_reply.started": "2023-11-24T09:25:08.345914Z"
    },
    "papermill": {},
    "tags": []
   },
   "outputs": [
    {
     "name": "stdout",
     "output_type": "stream",
     "text": [
      "✅ utils file '/home/ftp/abi/utils/data.ipynb' successfully loaded.\n",
      "✅ utils file '/home/ftp/abi/utils/naas_chat_plugin.ipynb' successfully loaded.\n",
      "✅ utils file '/home/ftp/abi/utils/naas_lab.ipynb' successfully loaded.\n"
     ]
    }
   ],
   "source": [
    "import plotly.graph_objects as go\n",
    "from naas_drivers import gsheet\n",
    "import pandas as pd\n",
    "import os\n",
    "from datetime import date, datetime, timedelta\n",
    "import naas_data_product"
   ]
  },
  {
   "cell_type": "markdown",
   "id": "5ed1bed1",
   "metadata": {
    "papermill": {},
    "tags": []
   },
   "source": [
    "### Setup variables\n",
    "- `linkedin_url`: This variable stores the LinkedIn company URL that will be used as an input for the script.\n",
    "- `output_dir`: This variable is used for storing the path to the directory where the output files will be saved.\n",
    "- `subdir`: This variable is used for storing the name of a subdirectory where the output files will be saved.\n",
    "- `force_update`: Force data update\n",
    "- `scenario`: Type of analysis\n",
    "- `title`: Graph title\n",
    "- `col_date`: Date col to be used as x axis\n",
    "- `col_value`: Value col to be aggregated on dataframe\n",
    "- `agg_value`: Type of aggregation to perform on value col"
   ]
  },
  {
   "cell_type": "code",
   "execution_count": 11,
   "id": "190b8d21",
   "metadata": {
    "execution": {
     "iopub.execute_input": "2023-11-24T09:28:04.855963Z",
     "iopub.status.busy": "2023-11-24T09:28:04.855642Z",
     "iopub.status.idle": "2023-11-24T09:28:04.878919Z",
     "shell.execute_reply": "2023-11-24T09:28:04.878131Z",
     "shell.execute_reply.started": "2023-11-24T09:28:04.855925Z"
    },
    "papermill": {},
    "tags": [
     "parameters"
    ]
   },
   "outputs": [],
   "source": [
    "# Inputs\n",
    "spreadsheet_url = \"https://docs.google.com/spreadsheets/d/1GDVJxBajYx7VR48yKGnSvMsEjzXvqI94hlmPXI5qEp8/edit#gid=0\" or naas.secret.get(\"MY_AI_AVATAR_SPREADSHEET\")\n",
    "sheet_name = \"CONTENT\"\n",
    "title = \"Views\"  # Chart title\n",
    "col_date = \"PUBLISHED_DATE\"\n",
    "col_value = \"VIEWS\"  # Column to sum\n",
    "agg_value = \"sum\"\n",
    "linkedin_url = \"https://www.linkedin.com/in/jeremyravenel/\"  # EXAMPLE \"https://www.linkedin.com/in/XXXXXX/\"\n",
    "\n",
    "# Outputs\n",
    "output_dir = os.path.join(naas_data_product.OUTPUTS_PATH, \"content-engine\", date.today().isoformat())\n",
    "csv_output = os.path.join(output_dir, f\"{title.lower()}.csv\")\n",
    "html_output = os.path.join(output_dir, f\"{title.lower()}.html\")\n",
    "image_output = os.path.join(output_dir, f\"{title.lower()}.png\")"
   ]
  },
  {
   "cell_type": "markdown",
   "id": "b3566c94",
   "metadata": {
    "papermill": {},
    "tags": []
   },
   "source": [
    "## Model"
   ]
  },
  {
   "cell_type": "markdown",
   "id": "2c6dbd38-52a8-4af8-aef9-f1d6551e06ef",
   "metadata": {
    "papermill": {},
    "tags": []
   },
   "source": [
    "### Get data from Google Sheets spreadsheet"
   ]
  },
  {
   "cell_type": "code",
   "execution_count": 12,
   "id": "c4ce220d-952b-4321-aed6-e1b3afe63ab8",
   "metadata": {
    "execution": {
     "iopub.execute_input": "2023-11-24T09:28:08.267911Z",
     "iopub.status.busy": "2023-11-24T09:28:08.267599Z",
     "iopub.status.idle": "2023-11-24T09:28:08.667954Z",
     "shell.execute_reply": "2023-11-24T09:28:08.667148Z",
     "shell.execute_reply.started": "2023-11-24T09:28:08.267877Z"
    },
    "papermill": {},
    "tags": []
   },
   "outputs": [
    {
     "name": "stdout",
     "output_type": "stream",
     "text": [
      "Rows: 10\n"
     ]
    },
    {
     "data": {
      "text/html": [
       "<div>\n",
       "<style scoped>\n",
       "    .dataframe tbody tr th:only-of-type {\n",
       "        vertical-align: middle;\n",
       "    }\n",
       "\n",
       "    .dataframe tbody tr th {\n",
       "        vertical-align: top;\n",
       "    }\n",
       "\n",
       "    .dataframe thead th {\n",
       "        text-align: right;\n",
       "    }\n",
       "</style>\n",
       "<table border=\"1\" class=\"dataframe\">\n",
       "  <thead>\n",
       "    <tr style=\"text-align: right;\">\n",
       "      <th></th>\n",
       "      <th>ENTITY</th>\n",
       "      <th>SCENARIO</th>\n",
       "      <th>SOURCE</th>\n",
       "      <th>PUBLISHED_DATE</th>\n",
       "      <th>DATE</th>\n",
       "      <th>TIME</th>\n",
       "      <th>TITLE</th>\n",
       "      <th>CONTENT</th>\n",
       "      <th>CONTENT_LENGTH</th>\n",
       "      <th>KEYWORDS</th>\n",
       "      <th>VIEWS</th>\n",
       "      <th>LIKES</th>\n",
       "      <th>COMMENTS</th>\n",
       "      <th>SHARES</th>\n",
       "      <th>ENGAGEMENT_SCORE</th>\n",
       "      <th>CONTENT_URL</th>\n",
       "    </tr>\n",
       "  </thead>\n",
       "  <tbody>\n",
       "    <tr>\n",
       "      <th>0</th>\n",
       "      <td>Jérémy Ravenel</td>\n",
       "      <td>2023-11-24</td>\n",
       "      <td>LinkedIn</td>\n",
       "      <td>2023-11-23 21:02:47+0100</td>\n",
       "      <td>2023-11-23</td>\n",
       "      <td>21:02:47</td>\n",
       "      <td>Happy Thanksgiving everyone. 🍁🍂🥧</td>\n",
       "      <td>Happy Thanksgiving everyone. 🍁🍂🥧\\nMay this day...</td>\n",
       "      <td>846</td>\n",
       "      <td>None</td>\n",
       "      <td>961</td>\n",
       "      <td>12</td>\n",
       "      <td>2</td>\n",
       "      <td>0</td>\n",
       "      <td>0.0146</td>\n",
       "      <td>https://www.linkedin.com/feed/update/urn:li:ac...</td>\n",
       "    </tr>\n",
       "    <tr>\n",
       "      <th>1</th>\n",
       "      <td>Jérémy Ravenel</td>\n",
       "      <td>2023-11-24</td>\n",
       "      <td>LinkedIn</td>\n",
       "      <td>2023-11-22 16:31:57+0100</td>\n",
       "      <td>2023-11-22</td>\n",
       "      <td>16:31:57</td>\n",
       "      <td>None</td>\n",
       "      <td>None</td>\n",
       "      <td>0</td>\n",
       "      <td>[]</td>\n",
       "      <td>347</td>\n",
       "      <td>17</td>\n",
       "      <td>18</td>\n",
       "      <td>1</td>\n",
       "      <td>0.1009</td>\n",
       "      <td>https://www.linkedin.com/feed/update/urn:li:ac...</td>\n",
       "    </tr>\n",
       "    <tr>\n",
       "      <th>2</th>\n",
       "      <td>Jérémy Ravenel</td>\n",
       "      <td>2023-11-24</td>\n",
       "      <td>LinkedIn</td>\n",
       "      <td>2023-11-22 10:35:16+0100</td>\n",
       "      <td>2023-11-22</td>\n",
       "      <td>10:35:16</td>\n",
       "      <td>Sam Altman was rehired as OpenAI's CEO 😅.  Wan...</td>\n",
       "      <td>Sam Altman was rehired as OpenAI's CEO 😅.  Wan...</td>\n",
       "      <td>674</td>\n",
       "      <td>None</td>\n",
       "      <td>1416</td>\n",
       "      <td>37</td>\n",
       "      <td>12</td>\n",
       "      <td>3</td>\n",
       "      <td>0.0346</td>\n",
       "      <td>https://www.linkedin.com/feed/update/urn:li:ac...</td>\n",
       "    </tr>\n",
       "    <tr>\n",
       "      <th>3</th>\n",
       "      <td>Jérémy Ravenel</td>\n",
       "      <td>2023-11-24</td>\n",
       "      <td>LinkedIn</td>\n",
       "      <td>2023-11-21 19:51:33+0100</td>\n",
       "      <td>2023-11-21</td>\n",
       "      <td>19:51:33</td>\n",
       "      <td>We are going live tomorrow about the OpenAI dr...</td>\n",
       "      <td>We are going live tomorrow about the OpenAI dr...</td>\n",
       "      <td>1707</td>\n",
       "      <td>None</td>\n",
       "      <td>950</td>\n",
       "      <td>13</td>\n",
       "      <td>7</td>\n",
       "      <td>0</td>\n",
       "      <td>0.0211</td>\n",
       "      <td>https://www.linkedin.com/feed/update/urn:li:ac...</td>\n",
       "    </tr>\n",
       "    <tr>\n",
       "      <th>4</th>\n",
       "      <td>Jérémy Ravenel</td>\n",
       "      <td>2023-11-24</td>\n",
       "      <td>LinkedIn</td>\n",
       "      <td>2023-11-20 18:27:59+0100</td>\n",
       "      <td>2023-11-20</td>\n",
       "      <td>18:27:59</td>\n",
       "      <td>Before the drama started at OpenAI, I spent ho...</td>\n",
       "      <td>Before the drama started at OpenAI, I spent ho...</td>\n",
       "      <td>2072</td>\n",
       "      <td>None</td>\n",
       "      <td>3531</td>\n",
       "      <td>32</td>\n",
       "      <td>8</td>\n",
       "      <td>1</td>\n",
       "      <td>0.0113</td>\n",
       "      <td>https://www.linkedin.com/feed/update/urn:li:ac...</td>\n",
       "    </tr>\n",
       "    <tr>\n",
       "      <th>5</th>\n",
       "      <td>Jérémy Ravenel</td>\n",
       "      <td>2023-11-24</td>\n",
       "      <td>LinkedIn</td>\n",
       "      <td>2023-11-19 08:42:14+0100</td>\n",
       "      <td>2023-11-19</td>\n",
       "      <td>08:42:14</td>\n",
       "      <td>This story unfolds at the speed of AI, it took...</td>\n",
       "      <td>This story unfolds at the speed of AI, it took...</td>\n",
       "      <td>398</td>\n",
       "      <td>None</td>\n",
       "      <td>6880</td>\n",
       "      <td>51</td>\n",
       "      <td>16</td>\n",
       "      <td>3</td>\n",
       "      <td>0.0097</td>\n",
       "      <td>https://www.linkedin.com/feed/update/urn:li:ac...</td>\n",
       "    </tr>\n",
       "    <tr>\n",
       "      <th>6</th>\n",
       "      <td>Jérémy Ravenel</td>\n",
       "      <td>2023-11-24</td>\n",
       "      <td>LinkedIn</td>\n",
       "      <td>2023-11-18 17:58:26+0100</td>\n",
       "      <td>2023-11-18</td>\n",
       "      <td>17:58:26</td>\n",
       "      <td>Do you want to contribute to a wild open sourc...</td>\n",
       "      <td>Do you want to contribute to a wild open sourc...</td>\n",
       "      <td>1156</td>\n",
       "      <td>None</td>\n",
       "      <td>2561</td>\n",
       "      <td>33</td>\n",
       "      <td>2</td>\n",
       "      <td>1</td>\n",
       "      <td>0.0137</td>\n",
       "      <td>https://www.linkedin.com/feed/update/urn:li:ac...</td>\n",
       "    </tr>\n",
       "    <tr>\n",
       "      <th>7</th>\n",
       "      <td>Jérémy Ravenel</td>\n",
       "      <td>2023-11-24</td>\n",
       "      <td>LinkedIn</td>\n",
       "      <td>2023-11-17 21:41:35+0100</td>\n",
       "      <td>2023-11-17</td>\n",
       "      <td>21:41:35</td>\n",
       "      <td>Hard times are coming, businesses need to wake...</td>\n",
       "      <td>Hard times are coming, businesses need to wake...</td>\n",
       "      <td>771</td>\n",
       "      <td>None</td>\n",
       "      <td>2445</td>\n",
       "      <td>20</td>\n",
       "      <td>20</td>\n",
       "      <td>0</td>\n",
       "      <td>0.0164</td>\n",
       "      <td>https://www.linkedin.com/feed/update/urn:li:ac...</td>\n",
       "    </tr>\n",
       "    <tr>\n",
       "      <th>8</th>\n",
       "      <td>Jérémy Ravenel</td>\n",
       "      <td>2023-11-24</td>\n",
       "      <td>LinkedIn</td>\n",
       "      <td>2023-11-15 23:13:20+0100</td>\n",
       "      <td>2023-11-15</td>\n",
       "      <td>23:13:20</td>\n",
       "      <td>Is AI really for everyone?</td>\n",
       "      <td>Is AI really for everyone? \\nWe are going live...</td>\n",
       "      <td>1648</td>\n",
       "      <td>#AIForEveryone #AITableTalks #PodcastLaunch #J...</td>\n",
       "      <td>851</td>\n",
       "      <td>17</td>\n",
       "      <td>5</td>\n",
       "      <td>2</td>\n",
       "      <td>0.0259</td>\n",
       "      <td>https://www.linkedin.com/feed/update/urn:li:ac...</td>\n",
       "    </tr>\n",
       "    <tr>\n",
       "      <th>9</th>\n",
       "      <td>Jérémy Ravenel</td>\n",
       "      <td>2023-11-24</td>\n",
       "      <td>LinkedIn</td>\n",
       "      <td>2023-11-14 23:31:18+0100</td>\n",
       "      <td>2023-11-14</td>\n",
       "      <td>23:31:18</td>\n",
       "      <td>What if GPTs are a distraction on what OpenAI ...</td>\n",
       "      <td>What if GPTs are a distraction on what OpenAI ...</td>\n",
       "      <td>192</td>\n",
       "      <td>None</td>\n",
       "      <td>4878</td>\n",
       "      <td>16</td>\n",
       "      <td>10</td>\n",
       "      <td>0</td>\n",
       "      <td>0.0053</td>\n",
       "      <td>https://www.linkedin.com/feed/update/urn:li:ac...</td>\n",
       "    </tr>\n",
       "  </tbody>\n",
       "</table>\n",
       "</div>"
      ],
      "text/plain": [
       "           ENTITY    SCENARIO    SOURCE            PUBLISHED_DATE        DATE  \\\n",
       "0  Jérémy Ravenel  2023-11-24  LinkedIn  2023-11-23 21:02:47+0100  2023-11-23   \n",
       "1  Jérémy Ravenel  2023-11-24  LinkedIn  2023-11-22 16:31:57+0100  2023-11-22   \n",
       "2  Jérémy Ravenel  2023-11-24  LinkedIn  2023-11-22 10:35:16+0100  2023-11-22   \n",
       "3  Jérémy Ravenel  2023-11-24  LinkedIn  2023-11-21 19:51:33+0100  2023-11-21   \n",
       "4  Jérémy Ravenel  2023-11-24  LinkedIn  2023-11-20 18:27:59+0100  2023-11-20   \n",
       "5  Jérémy Ravenel  2023-11-24  LinkedIn  2023-11-19 08:42:14+0100  2023-11-19   \n",
       "6  Jérémy Ravenel  2023-11-24  LinkedIn  2023-11-18 17:58:26+0100  2023-11-18   \n",
       "7  Jérémy Ravenel  2023-11-24  LinkedIn  2023-11-17 21:41:35+0100  2023-11-17   \n",
       "8  Jérémy Ravenel  2023-11-24  LinkedIn  2023-11-15 23:13:20+0100  2023-11-15   \n",
       "9  Jérémy Ravenel  2023-11-24  LinkedIn  2023-11-14 23:31:18+0100  2023-11-14   \n",
       "\n",
       "       TIME                                              TITLE  \\\n",
       "0  21:02:47                   Happy Thanksgiving everyone. 🍁🍂🥧   \n",
       "1  16:31:57                                               None   \n",
       "2  10:35:16  Sam Altman was rehired as OpenAI's CEO 😅.  Wan...   \n",
       "3  19:51:33  We are going live tomorrow about the OpenAI dr...   \n",
       "4  18:27:59  Before the drama started at OpenAI, I spent ho...   \n",
       "5  08:42:14  This story unfolds at the speed of AI, it took...   \n",
       "6  17:58:26  Do you want to contribute to a wild open sourc...   \n",
       "7  21:41:35  Hard times are coming, businesses need to wake...   \n",
       "8  23:13:20                        Is AI really for everyone?    \n",
       "9  23:31:18  What if GPTs are a distraction on what OpenAI ...   \n",
       "\n",
       "                                             CONTENT  CONTENT_LENGTH  \\\n",
       "0  Happy Thanksgiving everyone. 🍁🍂🥧\\nMay this day...             846   \n",
       "1                                               None               0   \n",
       "2  Sam Altman was rehired as OpenAI's CEO 😅.  Wan...             674   \n",
       "3  We are going live tomorrow about the OpenAI dr...            1707   \n",
       "4  Before the drama started at OpenAI, I spent ho...            2072   \n",
       "5  This story unfolds at the speed of AI, it took...             398   \n",
       "6  Do you want to contribute to a wild open sourc...            1156   \n",
       "7  Hard times are coming, businesses need to wake...             771   \n",
       "8  Is AI really for everyone? \\nWe are going live...            1648   \n",
       "9  What if GPTs are a distraction on what OpenAI ...             192   \n",
       "\n",
       "                                            KEYWORDS  VIEWS  LIKES  COMMENTS  \\\n",
       "0                                               None    961     12         2   \n",
       "1                                                 []    347     17        18   \n",
       "2                                               None   1416     37        12   \n",
       "3                                               None    950     13         7   \n",
       "4                                               None   3531     32         8   \n",
       "5                                               None   6880     51        16   \n",
       "6                                               None   2561     33         2   \n",
       "7                                               None   2445     20        20   \n",
       "8  #AIForEveryone #AITableTalks #PodcastLaunch #J...    851     17         5   \n",
       "9                                               None   4878     16        10   \n",
       "\n",
       "   SHARES  ENGAGEMENT_SCORE                                        CONTENT_URL  \n",
       "0       0            0.0146  https://www.linkedin.com/feed/update/urn:li:ac...  \n",
       "1       1            0.1009  https://www.linkedin.com/feed/update/urn:li:ac...  \n",
       "2       3            0.0346  https://www.linkedin.com/feed/update/urn:li:ac...  \n",
       "3       0            0.0211  https://www.linkedin.com/feed/update/urn:li:ac...  \n",
       "4       1            0.0113  https://www.linkedin.com/feed/update/urn:li:ac...  \n",
       "5       3            0.0097  https://www.linkedin.com/feed/update/urn:li:ac...  \n",
       "6       1            0.0137  https://www.linkedin.com/feed/update/urn:li:ac...  \n",
       "7       0            0.0164  https://www.linkedin.com/feed/update/urn:li:ac...  \n",
       "8       2            0.0259  https://www.linkedin.com/feed/update/urn:li:ac...  \n",
       "9       0            0.0053  https://www.linkedin.com/feed/update/urn:li:ac...  "
      ]
     },
     "execution_count": 12,
     "metadata": {},
     "output_type": "execute_result"
    }
   ],
   "source": [
    "df_posts = gsheet.connect(spreadsheet_url).get(sheet_name=sheet_name)[:10]\n",
    "print(\"Rows:\", len(df_posts))\n",
    "df_posts.head(10)"
   ]
  },
  {
   "cell_type": "markdown",
   "id": "7456a048",
   "metadata": {
    "papermill": {},
    "tags": []
   },
   "source": [
    "### Create trend dataframe"
   ]
  },
  {
   "cell_type": "code",
   "execution_count": 18,
   "id": "22b41e65",
   "metadata": {
    "execution": {
     "iopub.execute_input": "2023-11-24T09:30:28.122449Z",
     "iopub.status.busy": "2023-11-24T09:30:28.122202Z",
     "iopub.status.idle": "2023-11-24T09:30:28.244191Z",
     "shell.execute_reply": "2023-11-24T09:30:28.243429Z",
     "shell.execute_reply.started": "2023-11-24T09:30:28.122416Z"
    },
    "papermill": {},
    "tags": []
   },
   "outputs": [
    {
     "name": "stderr",
     "output_type": "stream",
     "text": [
      "<ipython-input-18-02420290910c>:51: FutureWarning:\n",
      "\n",
      "Setting an item of incompatible dtype is deprecated and will raise in a future error of pandas. Value '-0.8255432554325544' has dtype incompatible with int64, please explicitly cast to a compatible dtype first.\n",
      "\n"
     ]
    },
    {
     "data": {
      "text/html": [
       "<div>\n",
       "<style scoped>\n",
       "    .dataframe tbody tr th:only-of-type {\n",
       "        vertical-align: middle;\n",
       "    }\n",
       "\n",
       "    .dataframe tbody tr th {\n",
       "        vertical-align: top;\n",
       "    }\n",
       "\n",
       "    .dataframe thead th {\n",
       "        text-align: right;\n",
       "    }\n",
       "</style>\n",
       "<table border=\"1\" class=\"dataframe\">\n",
       "  <thead>\n",
       "    <tr style=\"text-align: right;\">\n",
       "      <th></th>\n",
       "      <th>DATE</th>\n",
       "      <th>VALUE</th>\n",
       "      <th>VALUE_COMP</th>\n",
       "      <th>VARV</th>\n",
       "      <th>VARP</th>\n",
       "      <th>DATE_D</th>\n",
       "      <th>VALUE_D</th>\n",
       "      <th>VARV_D</th>\n",
       "      <th>VARP_D</th>\n",
       "      <th>TEXT</th>\n",
       "    </tr>\n",
       "  </thead>\n",
       "  <tbody>\n",
       "    <tr>\n",
       "      <th>0</th>\n",
       "      <td>2023-11-14</td>\n",
       "      <td>4878.0</td>\n",
       "      <td>0</td>\n",
       "      <td>0</td>\n",
       "      <td>0.000000</td>\n",
       "      <td>Tue 14 Nov</td>\n",
       "      <td>&lt;b&gt;&lt;span style='font-family: Arial;'&gt;4 878&lt;/sp...</td>\n",
       "      <td>+0</td>\n",
       "      <td>+0%</td>\n",
       "      <td>&lt;b&gt;&lt;span style='font-size: 14px;'&gt;Tue 14 Nov: ...</td>\n",
       "    </tr>\n",
       "    <tr>\n",
       "      <th>1</th>\n",
       "      <td>2023-11-15</td>\n",
       "      <td>851.0</td>\n",
       "      <td>4878</td>\n",
       "      <td>-4027</td>\n",
       "      <td>-0.825543</td>\n",
       "      <td>Wed 15 Nov</td>\n",
       "      <td>&lt;b&gt;&lt;span style='font-family: Arial;'&gt;851&lt;/span...</td>\n",
       "      <td>-4 027</td>\n",
       "      <td>-83%</td>\n",
       "      <td>&lt;b&gt;&lt;span style='font-size: 14px;'&gt;Wed 15 Nov: ...</td>\n",
       "    </tr>\n",
       "    <tr>\n",
       "      <th>2</th>\n",
       "      <td>2023-11-16</td>\n",
       "      <td>0.0</td>\n",
       "      <td>851</td>\n",
       "      <td>-851</td>\n",
       "      <td>-1.000000</td>\n",
       "      <td>Thu 16 Nov</td>\n",
       "      <td>&lt;b&gt;&lt;span style='font-family: Arial;'&gt;0&lt;/span&gt;&lt;/b&gt;</td>\n",
       "      <td>-851</td>\n",
       "      <td>-100%</td>\n",
       "      <td>&lt;b&gt;&lt;span style='font-size: 14px;'&gt;Thu 16 Nov: ...</td>\n",
       "    </tr>\n",
       "    <tr>\n",
       "      <th>3</th>\n",
       "      <td>2023-11-17</td>\n",
       "      <td>2445.0</td>\n",
       "      <td>0</td>\n",
       "      <td>2445</td>\n",
       "      <td>0.000000</td>\n",
       "      <td>Fri 17 Nov</td>\n",
       "      <td>&lt;b&gt;&lt;span style='font-family: Arial;'&gt;2 445&lt;/sp...</td>\n",
       "      <td>+2 445</td>\n",
       "      <td>+0%</td>\n",
       "      <td>&lt;b&gt;&lt;span style='font-size: 14px;'&gt;Fri 17 Nov: ...</td>\n",
       "    </tr>\n",
       "    <tr>\n",
       "      <th>4</th>\n",
       "      <td>2023-11-18</td>\n",
       "      <td>2561.0</td>\n",
       "      <td>2445</td>\n",
       "      <td>116</td>\n",
       "      <td>0.047444</td>\n",
       "      <td>Sat 18 Nov</td>\n",
       "      <td>&lt;b&gt;&lt;span style='font-family: Arial;'&gt;2 561&lt;/sp...</td>\n",
       "      <td>+116</td>\n",
       "      <td>+5%</td>\n",
       "      <td>&lt;b&gt;&lt;span style='font-size: 14px;'&gt;Sat 18 Nov: ...</td>\n",
       "    </tr>\n",
       "    <tr>\n",
       "      <th>5</th>\n",
       "      <td>2023-11-19</td>\n",
       "      <td>6880.0</td>\n",
       "      <td>2561</td>\n",
       "      <td>4319</td>\n",
       "      <td>1.686451</td>\n",
       "      <td>Sun 19 Nov</td>\n",
       "      <td>&lt;b&gt;&lt;span style='font-family: Arial;'&gt;6 880&lt;/sp...</td>\n",
       "      <td>+4 319</td>\n",
       "      <td>+169%</td>\n",
       "      <td>&lt;b&gt;&lt;span style='font-size: 14px;'&gt;Sun 19 Nov: ...</td>\n",
       "    </tr>\n",
       "    <tr>\n",
       "      <th>6</th>\n",
       "      <td>2023-11-20</td>\n",
       "      <td>3531.0</td>\n",
       "      <td>6880</td>\n",
       "      <td>-3349</td>\n",
       "      <td>-0.486773</td>\n",
       "      <td>Mon 20 Nov</td>\n",
       "      <td>&lt;b&gt;&lt;span style='font-family: Arial;'&gt;3 531&lt;/sp...</td>\n",
       "      <td>-3 349</td>\n",
       "      <td>-49%</td>\n",
       "      <td>&lt;b&gt;&lt;span style='font-size: 14px;'&gt;Mon 20 Nov: ...</td>\n",
       "    </tr>\n",
       "    <tr>\n",
       "      <th>7</th>\n",
       "      <td>2023-11-21</td>\n",
       "      <td>950.0</td>\n",
       "      <td>3531</td>\n",
       "      <td>-2581</td>\n",
       "      <td>-0.730954</td>\n",
       "      <td>Tue 21 Nov</td>\n",
       "      <td>&lt;b&gt;&lt;span style='font-family: Arial;'&gt;950&lt;/span...</td>\n",
       "      <td>-2 581</td>\n",
       "      <td>-73%</td>\n",
       "      <td>&lt;b&gt;&lt;span style='font-size: 14px;'&gt;Tue 21 Nov: ...</td>\n",
       "    </tr>\n",
       "    <tr>\n",
       "      <th>8</th>\n",
       "      <td>2023-11-22</td>\n",
       "      <td>1763.0</td>\n",
       "      <td>950</td>\n",
       "      <td>813</td>\n",
       "      <td>0.855789</td>\n",
       "      <td>Wed 22 Nov</td>\n",
       "      <td>&lt;b&gt;&lt;span style='font-family: Arial;'&gt;1 763&lt;/sp...</td>\n",
       "      <td>+813</td>\n",
       "      <td>+86%</td>\n",
       "      <td>&lt;b&gt;&lt;span style='font-size: 14px;'&gt;Wed 22 Nov: ...</td>\n",
       "    </tr>\n",
       "    <tr>\n",
       "      <th>9</th>\n",
       "      <td>2023-11-23</td>\n",
       "      <td>961.0</td>\n",
       "      <td>1763</td>\n",
       "      <td>-802</td>\n",
       "      <td>-0.454906</td>\n",
       "      <td>Thu 23 Nov</td>\n",
       "      <td>&lt;b&gt;&lt;span style='font-family: Arial;'&gt;961&lt;/span...</td>\n",
       "      <td>-802</td>\n",
       "      <td>-45%</td>\n",
       "      <td>&lt;b&gt;&lt;span style='font-size: 14px;'&gt;Thu 23 Nov: ...</td>\n",
       "    </tr>\n",
       "  </tbody>\n",
       "</table>\n",
       "</div>"
      ],
      "text/plain": [
       "         DATE   VALUE  VALUE_COMP  VARV      VARP      DATE_D  \\\n",
       "0  2023-11-14  4878.0           0     0  0.000000  Tue 14 Nov   \n",
       "1  2023-11-15   851.0        4878 -4027 -0.825543  Wed 15 Nov   \n",
       "2  2023-11-16     0.0         851  -851 -1.000000  Thu 16 Nov   \n",
       "3  2023-11-17  2445.0           0  2445  0.000000  Fri 17 Nov   \n",
       "4  2023-11-18  2561.0        2445   116  0.047444  Sat 18 Nov   \n",
       "5  2023-11-19  6880.0        2561  4319  1.686451  Sun 19 Nov   \n",
       "6  2023-11-20  3531.0        6880 -3349 -0.486773  Mon 20 Nov   \n",
       "7  2023-11-21   950.0        3531 -2581 -0.730954  Tue 21 Nov   \n",
       "8  2023-11-22  1763.0         950   813  0.855789  Wed 22 Nov   \n",
       "9  2023-11-23   961.0        1763  -802 -0.454906  Thu 23 Nov   \n",
       "\n",
       "                                             VALUE_D  VARV_D VARP_D  \\\n",
       "0  <b><span style='font-family: Arial;'>4 878</sp...      +0    +0%   \n",
       "1  <b><span style='font-family: Arial;'>851</span...  -4 027   -83%   \n",
       "2  <b><span style='font-family: Arial;'>0</span></b>    -851  -100%   \n",
       "3  <b><span style='font-family: Arial;'>2 445</sp...  +2 445    +0%   \n",
       "4  <b><span style='font-family: Arial;'>2 561</sp...    +116    +5%   \n",
       "5  <b><span style='font-family: Arial;'>6 880</sp...  +4 319  +169%   \n",
       "6  <b><span style='font-family: Arial;'>3 531</sp...  -3 349   -49%   \n",
       "7  <b><span style='font-family: Arial;'>950</span...  -2 581   -73%   \n",
       "8  <b><span style='font-family: Arial;'>1 763</sp...    +813   +86%   \n",
       "9  <b><span style='font-family: Arial;'>961</span...    -802   -45%   \n",
       "\n",
       "                                                TEXT  \n",
       "0  <b><span style='font-size: 14px;'>Tue 14 Nov: ...  \n",
       "1  <b><span style='font-size: 14px;'>Wed 15 Nov: ...  \n",
       "2  <b><span style='font-size: 14px;'>Thu 16 Nov: ...  \n",
       "3  <b><span style='font-size: 14px;'>Fri 17 Nov: ...  \n",
       "4  <b><span style='font-size: 14px;'>Sat 18 Nov: ...  \n",
       "5  <b><span style='font-size: 14px;'>Sun 19 Nov: ...  \n",
       "6  <b><span style='font-size: 14px;'>Mon 20 Nov: ...  \n",
       "7  <b><span style='font-size: 14px;'>Tue 21 Nov: ...  \n",
       "8  <b><span style='font-size: 14px;'>Wed 22 Nov: ...  \n",
       "9  <b><span style='font-size: 14px;'>Thu 23 Nov: ...  "
      ]
     },
     "execution_count": 18,
     "metadata": {},
     "output_type": "execute_result"
    }
   ],
   "source": [
    "DATE_FORMAT = \"%Y-%m-%d\"\n",
    "PERIOD = \"%Y-%m-%d\"\n",
    "PERIOD_TEXT = (date.today() - timedelta(days=1)).isoformat()\n",
    "PERIOD_TEXT = \"Daily variation\"\n",
    "\n",
    "def get_trend(\n",
    "    df_init,\n",
    "    label,\n",
    "    col_date,\n",
    "    col_value,\n",
    "    agg_value,\n",
    "    rolling=10\n",
    "):\n",
    "    # Init variable\n",
    "    df = df_init.copy()\n",
    "\n",
    "    # Groupby period\n",
    "    if agg_value == \"sum\":\n",
    "        df[col_value] = df[col_value].astype(float)\n",
    "    df[col_date] = pd.to_datetime(df[col_date].str[:-6]).dt.strftime(DATE_FORMAT)\n",
    "    df = df.groupby(col_date, as_index=False).agg({col_value: agg_value})\n",
    "\n",
    "    # Rename column\n",
    "    to_rename = {col_date: \"DATE\", col_value: \"VALUE\"}\n",
    "    df = df.rename(columns=to_rename)\n",
    "\n",
    "    # Reindex value\n",
    "    d = datetime.now().date()\n",
    "    d2 = df.loc[df.index[0], \"DATE\"]\n",
    "    idx = pd.date_range(d2, d, freq=\"D\")\n",
    "    df.set_index(\"DATE\", drop=True, inplace=True)\n",
    "    df.index = pd.DatetimeIndex(df.index)\n",
    "    df = df.reindex(idx, fill_value=0)\n",
    "    df[\"DATE\"] = pd.DatetimeIndex(df.index)\n",
    "\n",
    "    # Groupby month\n",
    "    df[\"DATE\"] = pd.to_datetime(df[\"DATE\"], format=DATE_FORMAT).dt.strftime(PERIOD)\n",
    "    df = df.groupby(\"DATE\", as_index=False).agg({\"VALUE\": \"sum\"})\n",
    "\n",
    "    # Calc variation\n",
    "    df.loc[:, \"VALUE_COMP\"] = 0\n",
    "    df.loc[:, \"VARV\"] = 0\n",
    "    df.loc[:, \"VARP\"] = 0\n",
    "    for index, row in df.iterrows():\n",
    "        if index > 0:\n",
    "            n = df.loc[df.index[index], \"VALUE\"]\n",
    "            n_1 = df.loc[df.index[index - 1], \"VALUE\"]\n",
    "            df.loc[df.index[index], \"VALUE_COMP\"] = n_1\n",
    "            df.loc[df.index[index], \"VARV\"] = n - n_1\n",
    "            if n_1 > 0:\n",
    "                df.loc[df.index[index], \"VARP\"] = (n - n_1) / abs(n_1)\n",
    "    df = df.fillna(0)\n",
    "\n",
    "    # Plotly: Date display\n",
    "    df[\"DATE_D\"] = pd.to_datetime(df[\"DATE\"], format=PERIOD).dt.strftime(\"%a %d %b\")\n",
    "\n",
    "    # Plotly: Value display\n",
    "    df[\"VALUE_D\"] = (\n",
    "        \"<b><span style='font-family: Arial;'>\"\n",
    "        + df[\"VALUE\"].map(\"{:,.0f}\".format).str.replace(\",\", \" \")\n",
    "        + \"</span></b>\"\n",
    "    )\n",
    "\n",
    "    # Plotly: Variation display\n",
    "    df[\"VARV_D\"] = df[\"VARV\"].map(\"{:,.0f}\".format).str.replace(\",\", \" \")\n",
    "    df.loc[df[\"VARV\"] >= 0, \"VARV_D\"] = \"+\" + df[\"VARV_D\"]\n",
    "    df[\"VARP_D\"] = df[\"VARP\"].map(\"{:,.0%}\".format).str.replace(\",\", \" \")\n",
    "    df.loc[df[\"VARP\"] >= 0, \"VARP_D\"] = \"+\" + df[\"VARP_D\"]\n",
    "\n",
    "    # Plotly: hovertext\n",
    "    df[\"TEXT\"] = (\n",
    "        \"<b><span style='font-size: 14px;'>\"\n",
    "        + df[\"DATE_D\"].astype(str)\n",
    "        + \": \"\n",
    "        + df[\"VALUE_D\"]\n",
    "        + \"</span></b><br>\"\n",
    "        \"<span style='font-size: 12px;'>\"\n",
    "        + f\"{PERIOD_TEXT}: \"\n",
    "        + df[\"VARV_D\"]\n",
    "        + \" (\"\n",
    "        + df[\"VARP_D\"]\n",
    "        + \")</span>\"\n",
    "    )\n",
    "    \n",
    "    # Add graph title\n",
    "#     df.insert(loc=3, column=\"LABEL\", value=title)\n",
    "    return df[:-1].reset_index(drop=True)\n",
    "\n",
    "\n",
    "df_trend = get_trend(\n",
    "    df_posts,\n",
    "    label=title,\n",
    "    col_date=col_date,\n",
    "    col_value=col_value,\n",
    "    agg_value=agg_value\n",
    ")\n",
    "df_trend"
   ]
  },
  {
   "cell_type": "markdown",
   "id": "a474cc49",
   "metadata": {
    "papermill": {},
    "tags": []
   },
   "source": [
    "### Display linechart"
   ]
  },
  {
   "cell_type": "code",
   "execution_count": 19,
   "id": "1e553642",
   "metadata": {
    "execution": {
     "iopub.execute_input": "2023-11-24T09:30:32.426714Z",
     "iopub.status.busy": "2023-11-24T09:30:32.426360Z",
     "iopub.status.idle": "2023-11-24T09:30:32.528262Z",
     "shell.execute_reply": "2023-11-24T09:30:32.522628Z",
     "shell.execute_reply.started": "2023-11-24T09:30:32.426634Z"
    },
    "papermill": {},
    "tags": []
   },
   "outputs": [
    {
     "data": {
      "application/vnd.plotly.v1+json": {
       "config": {
        "plotlyServerURL": "https://plot.ly"
       },
       "data": [
        {
         "hoverinfo": "text",
         "hovertext": [
          "<b><span style='font-size: 14px;'>Tue 14 Nov: <b><span style='font-family: Arial;'>4 878</span></b></span></b><br><span style='font-size: 12px;'>Daily variation: +0 (+0%)</span>",
          "<b><span style='font-size: 14px;'>Wed 15 Nov: <b><span style='font-family: Arial;'>851</span></b></span></b><br><span style='font-size: 12px;'>Daily variation: -4 027 (-83%)</span>",
          "<b><span style='font-size: 14px;'>Thu 16 Nov: <b><span style='font-family: Arial;'>0</span></b></span></b><br><span style='font-size: 12px;'>Daily variation: -851 (-100%)</span>",
          "<b><span style='font-size: 14px;'>Fri 17 Nov: <b><span style='font-family: Arial;'>2 445</span></b></span></b><br><span style='font-size: 12px;'>Daily variation: +2 445 (+0%)</span>",
          "<b><span style='font-size: 14px;'>Sat 18 Nov: <b><span style='font-family: Arial;'>2 561</span></b></span></b><br><span style='font-size: 12px;'>Daily variation: +116 (+5%)</span>",
          "<b><span style='font-size: 14px;'>Sun 19 Nov: <b><span style='font-family: Arial;'>6 880</span></b></span></b><br><span style='font-size: 12px;'>Daily variation: +4 319 (+169%)</span>",
          "<b><span style='font-size: 14px;'>Mon 20 Nov: <b><span style='font-family: Arial;'>3 531</span></b></span></b><br><span style='font-size: 12px;'>Daily variation: -3 349 (-49%)</span>",
          "<b><span style='font-size: 14px;'>Tue 21 Nov: <b><span style='font-family: Arial;'>950</span></b></span></b><br><span style='font-size: 12px;'>Daily variation: -2 581 (-73%)</span>",
          "<b><span style='font-size: 14px;'>Wed 22 Nov: <b><span style='font-family: Arial;'>1 763</span></b></span></b><br><span style='font-size: 12px;'>Daily variation: +813 (+86%)</span>",
          "<b><span style='font-size: 14px;'>Thu 23 Nov: <b><span style='font-family: Arial;'>961</span></b></span></b><br><span style='font-size: 12px;'>Daily variation: -802 (-45%)</span>"
         ],
         "marker": {
          "color": "#1293d2"
         },
         "showlegend": false,
         "text": [
          "<b><span style='font-family: Arial;'>4 878</span></b>",
          "<b><span style='font-family: Arial;'>851</span></b>",
          "<b><span style='font-family: Arial;'>0</span></b>",
          "<b><span style='font-family: Arial;'>2 445</span></b>",
          "<b><span style='font-family: Arial;'>2 561</span></b>",
          "<b><span style='font-family: Arial;'>6 880</span></b>",
          "<b><span style='font-family: Arial;'>3 531</span></b>",
          "<b><span style='font-family: Arial;'>950</span></b>",
          "<b><span style='font-family: Arial;'>1 763</span></b>",
          "<b><span style='font-family: Arial;'>961</span></b>"
         ],
         "textposition": "outside",
         "type": "bar",
         "x": [
          "Tue 14 Nov",
          "Wed 15 Nov",
          "Thu 16 Nov",
          "Fri 17 Nov",
          "Sat 18 Nov",
          "Sun 19 Nov",
          "Mon 20 Nov",
          "Tue 21 Nov",
          "Wed 22 Nov",
          "Thu 23 Nov"
         ],
         "y": [
          4878,
          851,
          0,
          2445,
          2561,
          6880,
          3531,
          950,
          1763,
          961
         ]
        }
       ],
       "layout": {
        "annotations": [
         {
          "arrowcolor": "white",
          "font": {
           "color": "black",
           "family": "Arial"
          },
          "text": "<i>Source: <a href='https://www.linkedin.com/in/jeremyravenel/'>https://www.linkedin.com/in/jeremyravenel/</a> / Created at: 2023-11-24</i>",
          "x": 0,
          "xanchor": "left",
          "xref": "paper",
          "y": -0.25,
          "yanchor": "bottom",
          "yref": "paper"
         }
        ],
        "height": 600,
        "images": [
         {
          "sizex": 0.12,
          "sizey": 0.12,
          "source": "https://upload.wikimedia.org/wikipedia/commons/thumb/b/b7/Eo_circle_red_arrow-down.svg/2048px-Eo_circle_red_arrow-down.svg.png",
          "x": 0.01,
          "xanchor": "right",
          "xref": "paper",
          "y": 1.045,
          "yanchor": "bottom",
          "yref": "paper"
         }
        ],
        "margin": {
         "b": 80,
         "pad": 10
        },
        "paper_bgcolor": "#ffffff",
        "plot_bgcolor": "#ffffff",
        "template": {
         "data": {
          "bar": [
           {
            "error_x": {
             "color": "#2a3f5f"
            },
            "error_y": {
             "color": "#2a3f5f"
            },
            "marker": {
             "line": {
              "color": "#E5ECF6",
              "width": 0.5
             },
             "pattern": {
              "fillmode": "overlay",
              "size": 10,
              "solidity": 0.2
             }
            },
            "type": "bar"
           }
          ],
          "barpolar": [
           {
            "marker": {
             "line": {
              "color": "#E5ECF6",
              "width": 0.5
             },
             "pattern": {
              "fillmode": "overlay",
              "size": 10,
              "solidity": 0.2
             }
            },
            "type": "barpolar"
           }
          ],
          "carpet": [
           {
            "aaxis": {
             "endlinecolor": "#2a3f5f",
             "gridcolor": "white",
             "linecolor": "white",
             "minorgridcolor": "white",
             "startlinecolor": "#2a3f5f"
            },
            "baxis": {
             "endlinecolor": "#2a3f5f",
             "gridcolor": "white",
             "linecolor": "white",
             "minorgridcolor": "white",
             "startlinecolor": "#2a3f5f"
            },
            "type": "carpet"
           }
          ],
          "choropleth": [
           {
            "colorbar": {
             "outlinewidth": 0,
             "ticks": ""
            },
            "type": "choropleth"
           }
          ],
          "contour": [
           {
            "colorbar": {
             "outlinewidth": 0,
             "ticks": ""
            },
            "colorscale": [
             [
              0,
              "#0d0887"
             ],
             [
              0.1111111111111111,
              "#46039f"
             ],
             [
              0.2222222222222222,
              "#7201a8"
             ],
             [
              0.3333333333333333,
              "#9c179e"
             ],
             [
              0.4444444444444444,
              "#bd3786"
             ],
             [
              0.5555555555555556,
              "#d8576b"
             ],
             [
              0.6666666666666666,
              "#ed7953"
             ],
             [
              0.7777777777777778,
              "#fb9f3a"
             ],
             [
              0.8888888888888888,
              "#fdca26"
             ],
             [
              1,
              "#f0f921"
             ]
            ],
            "type": "contour"
           }
          ],
          "contourcarpet": [
           {
            "colorbar": {
             "outlinewidth": 0,
             "ticks": ""
            },
            "type": "contourcarpet"
           }
          ],
          "heatmap": [
           {
            "colorbar": {
             "outlinewidth": 0,
             "ticks": ""
            },
            "colorscale": [
             [
              0,
              "#0d0887"
             ],
             [
              0.1111111111111111,
              "#46039f"
             ],
             [
              0.2222222222222222,
              "#7201a8"
             ],
             [
              0.3333333333333333,
              "#9c179e"
             ],
             [
              0.4444444444444444,
              "#bd3786"
             ],
             [
              0.5555555555555556,
              "#d8576b"
             ],
             [
              0.6666666666666666,
              "#ed7953"
             ],
             [
              0.7777777777777778,
              "#fb9f3a"
             ],
             [
              0.8888888888888888,
              "#fdca26"
             ],
             [
              1,
              "#f0f921"
             ]
            ],
            "type": "heatmap"
           }
          ],
          "heatmapgl": [
           {
            "colorbar": {
             "outlinewidth": 0,
             "ticks": ""
            },
            "colorscale": [
             [
              0,
              "#0d0887"
             ],
             [
              0.1111111111111111,
              "#46039f"
             ],
             [
              0.2222222222222222,
              "#7201a8"
             ],
             [
              0.3333333333333333,
              "#9c179e"
             ],
             [
              0.4444444444444444,
              "#bd3786"
             ],
             [
              0.5555555555555556,
              "#d8576b"
             ],
             [
              0.6666666666666666,
              "#ed7953"
             ],
             [
              0.7777777777777778,
              "#fb9f3a"
             ],
             [
              0.8888888888888888,
              "#fdca26"
             ],
             [
              1,
              "#f0f921"
             ]
            ],
            "type": "heatmapgl"
           }
          ],
          "histogram": [
           {
            "marker": {
             "pattern": {
              "fillmode": "overlay",
              "size": 10,
              "solidity": 0.2
             }
            },
            "type": "histogram"
           }
          ],
          "histogram2d": [
           {
            "colorbar": {
             "outlinewidth": 0,
             "ticks": ""
            },
            "colorscale": [
             [
              0,
              "#0d0887"
             ],
             [
              0.1111111111111111,
              "#46039f"
             ],
             [
              0.2222222222222222,
              "#7201a8"
             ],
             [
              0.3333333333333333,
              "#9c179e"
             ],
             [
              0.4444444444444444,
              "#bd3786"
             ],
             [
              0.5555555555555556,
              "#d8576b"
             ],
             [
              0.6666666666666666,
              "#ed7953"
             ],
             [
              0.7777777777777778,
              "#fb9f3a"
             ],
             [
              0.8888888888888888,
              "#fdca26"
             ],
             [
              1,
              "#f0f921"
             ]
            ],
            "type": "histogram2d"
           }
          ],
          "histogram2dcontour": [
           {
            "colorbar": {
             "outlinewidth": 0,
             "ticks": ""
            },
            "colorscale": [
             [
              0,
              "#0d0887"
             ],
             [
              0.1111111111111111,
              "#46039f"
             ],
             [
              0.2222222222222222,
              "#7201a8"
             ],
             [
              0.3333333333333333,
              "#9c179e"
             ],
             [
              0.4444444444444444,
              "#bd3786"
             ],
             [
              0.5555555555555556,
              "#d8576b"
             ],
             [
              0.6666666666666666,
              "#ed7953"
             ],
             [
              0.7777777777777778,
              "#fb9f3a"
             ],
             [
              0.8888888888888888,
              "#fdca26"
             ],
             [
              1,
              "#f0f921"
             ]
            ],
            "type": "histogram2dcontour"
           }
          ],
          "mesh3d": [
           {
            "colorbar": {
             "outlinewidth": 0,
             "ticks": ""
            },
            "type": "mesh3d"
           }
          ],
          "parcoords": [
           {
            "line": {
             "colorbar": {
              "outlinewidth": 0,
              "ticks": ""
             }
            },
            "type": "parcoords"
           }
          ],
          "pie": [
           {
            "automargin": true,
            "type": "pie"
           }
          ],
          "scatter": [
           {
            "fillpattern": {
             "fillmode": "overlay",
             "size": 10,
             "solidity": 0.2
            },
            "type": "scatter"
           }
          ],
          "scatter3d": [
           {
            "line": {
             "colorbar": {
              "outlinewidth": 0,
              "ticks": ""
             }
            },
            "marker": {
             "colorbar": {
              "outlinewidth": 0,
              "ticks": ""
             }
            },
            "type": "scatter3d"
           }
          ],
          "scattercarpet": [
           {
            "marker": {
             "colorbar": {
              "outlinewidth": 0,
              "ticks": ""
             }
            },
            "type": "scattercarpet"
           }
          ],
          "scattergeo": [
           {
            "marker": {
             "colorbar": {
              "outlinewidth": 0,
              "ticks": ""
             }
            },
            "type": "scattergeo"
           }
          ],
          "scattergl": [
           {
            "marker": {
             "colorbar": {
              "outlinewidth": 0,
              "ticks": ""
             }
            },
            "type": "scattergl"
           }
          ],
          "scattermapbox": [
           {
            "marker": {
             "colorbar": {
              "outlinewidth": 0,
              "ticks": ""
             }
            },
            "type": "scattermapbox"
           }
          ],
          "scatterpolar": [
           {
            "marker": {
             "colorbar": {
              "outlinewidth": 0,
              "ticks": ""
             }
            },
            "type": "scatterpolar"
           }
          ],
          "scatterpolargl": [
           {
            "marker": {
             "colorbar": {
              "outlinewidth": 0,
              "ticks": ""
             }
            },
            "type": "scatterpolargl"
           }
          ],
          "scatterternary": [
           {
            "marker": {
             "colorbar": {
              "outlinewidth": 0,
              "ticks": ""
             }
            },
            "type": "scatterternary"
           }
          ],
          "surface": [
           {
            "colorbar": {
             "outlinewidth": 0,
             "ticks": ""
            },
            "colorscale": [
             [
              0,
              "#0d0887"
             ],
             [
              0.1111111111111111,
              "#46039f"
             ],
             [
              0.2222222222222222,
              "#7201a8"
             ],
             [
              0.3333333333333333,
              "#9c179e"
             ],
             [
              0.4444444444444444,
              "#bd3786"
             ],
             [
              0.5555555555555556,
              "#d8576b"
             ],
             [
              0.6666666666666666,
              "#ed7953"
             ],
             [
              0.7777777777777778,
              "#fb9f3a"
             ],
             [
              0.8888888888888888,
              "#fdca26"
             ],
             [
              1,
              "#f0f921"
             ]
            ],
            "type": "surface"
           }
          ],
          "table": [
           {
            "cells": {
             "fill": {
              "color": "#EBF0F8"
             },
             "line": {
              "color": "white"
             }
            },
            "header": {
             "fill": {
              "color": "#C8D4E3"
             },
             "line": {
              "color": "white"
             }
            },
            "type": "table"
           }
          ]
         },
         "layout": {
          "annotationdefaults": {
           "arrowcolor": "#2a3f5f",
           "arrowhead": 0,
           "arrowwidth": 1
          },
          "autotypenumbers": "strict",
          "coloraxis": {
           "colorbar": {
            "outlinewidth": 0,
            "ticks": ""
           }
          },
          "colorscale": {
           "diverging": [
            [
             0,
             "#8e0152"
            ],
            [
             0.1,
             "#c51b7d"
            ],
            [
             0.2,
             "#de77ae"
            ],
            [
             0.3,
             "#f1b6da"
            ],
            [
             0.4,
             "#fde0ef"
            ],
            [
             0.5,
             "#f7f7f7"
            ],
            [
             0.6,
             "#e6f5d0"
            ],
            [
             0.7,
             "#b8e186"
            ],
            [
             0.8,
             "#7fbc41"
            ],
            [
             0.9,
             "#4d9221"
            ],
            [
             1,
             "#276419"
            ]
           ],
           "sequential": [
            [
             0,
             "#0d0887"
            ],
            [
             0.1111111111111111,
             "#46039f"
            ],
            [
             0.2222222222222222,
             "#7201a8"
            ],
            [
             0.3333333333333333,
             "#9c179e"
            ],
            [
             0.4444444444444444,
             "#bd3786"
            ],
            [
             0.5555555555555556,
             "#d8576b"
            ],
            [
             0.6666666666666666,
             "#ed7953"
            ],
            [
             0.7777777777777778,
             "#fb9f3a"
            ],
            [
             0.8888888888888888,
             "#fdca26"
            ],
            [
             1,
             "#f0f921"
            ]
           ],
           "sequentialminus": [
            [
             0,
             "#0d0887"
            ],
            [
             0.1111111111111111,
             "#46039f"
            ],
            [
             0.2222222222222222,
             "#7201a8"
            ],
            [
             0.3333333333333333,
             "#9c179e"
            ],
            [
             0.4444444444444444,
             "#bd3786"
            ],
            [
             0.5555555555555556,
             "#d8576b"
            ],
            [
             0.6666666666666666,
             "#ed7953"
            ],
            [
             0.7777777777777778,
             "#fb9f3a"
            ],
            [
             0.8888888888888888,
             "#fdca26"
            ],
            [
             1,
             "#f0f921"
            ]
           ]
          },
          "colorway": [
           "#636efa",
           "#EF553B",
           "#00cc96",
           "#ab63fa",
           "#FFA15A",
           "#19d3f3",
           "#FF6692",
           "#B6E880",
           "#FF97FF",
           "#FECB52"
          ],
          "font": {
           "color": "#2a3f5f"
          },
          "geo": {
           "bgcolor": "white",
           "lakecolor": "white",
           "landcolor": "#E5ECF6",
           "showlakes": true,
           "showland": true,
           "subunitcolor": "white"
          },
          "hoverlabel": {
           "align": "left"
          },
          "hovermode": "closest",
          "mapbox": {
           "style": "light"
          },
          "paper_bgcolor": "white",
          "plot_bgcolor": "#E5ECF6",
          "polar": {
           "angularaxis": {
            "gridcolor": "white",
            "linecolor": "white",
            "ticks": ""
           },
           "bgcolor": "#E5ECF6",
           "radialaxis": {
            "gridcolor": "white",
            "linecolor": "white",
            "ticks": ""
           }
          },
          "scene": {
           "xaxis": {
            "backgroundcolor": "#E5ECF6",
            "gridcolor": "white",
            "gridwidth": 2,
            "linecolor": "white",
            "showbackground": true,
            "ticks": "",
            "zerolinecolor": "white"
           },
           "yaxis": {
            "backgroundcolor": "#E5ECF6",
            "gridcolor": "white",
            "gridwidth": 2,
            "linecolor": "white",
            "showbackground": true,
            "ticks": "",
            "zerolinecolor": "white"
           },
           "zaxis": {
            "backgroundcolor": "#E5ECF6",
            "gridcolor": "white",
            "gridwidth": 2,
            "linecolor": "white",
            "showbackground": true,
            "ticks": "",
            "zerolinecolor": "white"
           }
          },
          "shapedefaults": {
           "line": {
            "color": "#2a3f5f"
           }
          },
          "ternary": {
           "aaxis": {
            "gridcolor": "white",
            "linecolor": "white",
            "ticks": ""
           },
           "baxis": {
            "gridcolor": "white",
            "linecolor": "white",
            "ticks": ""
           },
           "bgcolor": "#E5ECF6",
           "caxis": {
            "gridcolor": "white",
            "linecolor": "white",
            "ticks": ""
           }
          },
          "title": {
           "x": 0.05
          },
          "xaxis": {
           "automargin": true,
           "gridcolor": "white",
           "linecolor": "white",
           "ticks": "",
           "title": {
            "standoff": 15
           },
           "zerolinecolor": "white",
           "zerolinewidth": 2
          },
          "yaxis": {
           "automargin": true,
           "gridcolor": "white",
           "linecolor": "white",
           "ticks": "",
           "title": {
            "standoff": 15
           },
           "zerolinecolor": "white",
           "zerolinewidth": 2
          }
         }
        },
        "title": {
         "font": {
          "color": "black",
          "family": "Arial"
         },
         "text": "<b><span style='font-size: 20px;'>Views</span></b><br><span style='font-size: 18px;'>Total: 24 820 | Daily variation: -802 (-45%)</span>",
         "x": 0.09
        },
        "width": 1200,
        "xaxis": {
         "autorange": true,
         "range": [
          -0.5,
          9.5
         ],
         "type": "category"
        },
        "yaxis": {
         "autorange": true,
         "range": [
          0,
          7242.105263157895
         ],
         "type": "linear"
        }
       }
      },
      "image/png": "[encoded data removed]",
      "text/html": [
       "<div>                            <div id=\"170185d5-865f-40fc-9273-b7acaaee8475\" class=\"plotly-graph-div\" style=\"height:600px; width:1200px;\"></div>            <script type=\"text/javascript\">                require([\"plotly\"], function(Plotly) {                    window.PLOTLYENV=window.PLOTLYENV || {};                                    if (document.getElementById(\"170185d5-865f-40fc-9273-b7acaaee8475\")) {                    Plotly.newPlot(                        \"170185d5-865f-40fc-9273-b7acaaee8475\",                        [{\"hoverinfo\":\"text\",\"hovertext\":[\"\\u003cb\\u003e\\u003cspan style='font-size: 14px;'\\u003eTue 14 Nov: \\u003cb\\u003e\\u003cspan style='font-family: Arial;'\\u003e4 878\\u003c\\u002fspan\\u003e\\u003c\\u002fb\\u003e\\u003c\\u002fspan\\u003e\\u003c\\u002fb\\u003e\\u003cbr\\u003e\\u003cspan style='font-size: 12px;'\\u003eDaily variation: +0 (+0%)\\u003c\\u002fspan\\u003e\",\"\\u003cb\\u003e\\u003cspan style='font-size: 14px;'\\u003eWed 15 Nov: \\u003cb\\u003e\\u003cspan style='font-family: Arial;'\\u003e851\\u003c\\u002fspan\\u003e\\u003c\\u002fb\\u003e\\u003c\\u002fspan\\u003e\\u003c\\u002fb\\u003e\\u003cbr\\u003e\\u003cspan style='font-size: 12px;'\\u003eDaily variation: -4 027 (-83%)\\u003c\\u002fspan\\u003e\",\"\\u003cb\\u003e\\u003cspan style='font-size: 14px;'\\u003eThu 16 Nov: \\u003cb\\u003e\\u003cspan style='font-family: Arial;'\\u003e0\\u003c\\u002fspan\\u003e\\u003c\\u002fb\\u003e\\u003c\\u002fspan\\u003e\\u003c\\u002fb\\u003e\\u003cbr\\u003e\\u003cspan style='font-size: 12px;'\\u003eDaily variation: -851 (-100%)\\u003c\\u002fspan\\u003e\",\"\\u003cb\\u003e\\u003cspan style='font-size: 14px;'\\u003eFri 17 Nov: \\u003cb\\u003e\\u003cspan style='font-family: Arial;'\\u003e2 445\\u003c\\u002fspan\\u003e\\u003c\\u002fb\\u003e\\u003c\\u002fspan\\u003e\\u003c\\u002fb\\u003e\\u003cbr\\u003e\\u003cspan style='font-size: 12px;'\\u003eDaily variation: +2 445 (+0%)\\u003c\\u002fspan\\u003e\",\"\\u003cb\\u003e\\u003cspan style='font-size: 14px;'\\u003eSat 18 Nov: \\u003cb\\u003e\\u003cspan style='font-family: Arial;'\\u003e2 561\\u003c\\u002fspan\\u003e\\u003c\\u002fb\\u003e\\u003c\\u002fspan\\u003e\\u003c\\u002fb\\u003e\\u003cbr\\u003e\\u003cspan style='font-size: 12px;'\\u003eDaily variation: +116 (+5%)\\u003c\\u002fspan\\u003e\",\"\\u003cb\\u003e\\u003cspan style='font-size: 14px;'\\u003eSun 19 Nov: \\u003cb\\u003e\\u003cspan style='font-family: Arial;'\\u003e6 880\\u003c\\u002fspan\\u003e\\u003c\\u002fb\\u003e\\u003c\\u002fspan\\u003e\\u003c\\u002fb\\u003e\\u003cbr\\u003e\\u003cspan style='font-size: 12px;'\\u003eDaily variation: +4 319 (+169%)\\u003c\\u002fspan\\u003e\",\"\\u003cb\\u003e\\u003cspan style='font-size: 14px;'\\u003eMon 20 Nov: \\u003cb\\u003e\\u003cspan style='font-family: Arial;'\\u003e3 531\\u003c\\u002fspan\\u003e\\u003c\\u002fb\\u003e\\u003c\\u002fspan\\u003e\\u003c\\u002fb\\u003e\\u003cbr\\u003e\\u003cspan style='font-size: 12px;'\\u003eDaily variation: -3 349 (-49%)\\u003c\\u002fspan\\u003e\",\"\\u003cb\\u003e\\u003cspan style='font-size: 14px;'\\u003eTue 21 Nov: \\u003cb\\u003e\\u003cspan style='font-family: Arial;'\\u003e950\\u003c\\u002fspan\\u003e\\u003c\\u002fb\\u003e\\u003c\\u002fspan\\u003e\\u003c\\u002fb\\u003e\\u003cbr\\u003e\\u003cspan style='font-size: 12px;'\\u003eDaily variation: -2 581 (-73%)\\u003c\\u002fspan\\u003e\",\"\\u003cb\\u003e\\u003cspan style='font-size: 14px;'\\u003eWed 22 Nov: \\u003cb\\u003e\\u003cspan style='font-family: Arial;'\\u003e1 763\\u003c\\u002fspan\\u003e\\u003c\\u002fb\\u003e\\u003c\\u002fspan\\u003e\\u003c\\u002fb\\u003e\\u003cbr\\u003e\\u003cspan style='font-size: 12px;'\\u003eDaily variation: +813 (+86%)\\u003c\\u002fspan\\u003e\",\"\\u003cb\\u003e\\u003cspan style='font-size: 14px;'\\u003eThu 23 Nov: \\u003cb\\u003e\\u003cspan style='font-family: Arial;'\\u003e961\\u003c\\u002fspan\\u003e\\u003c\\u002fb\\u003e\\u003c\\u002fspan\\u003e\\u003c\\u002fb\\u003e\\u003cbr\\u003e\\u003cspan style='font-size: 12px;'\\u003eDaily variation: -802 (-45%)\\u003c\\u002fspan\\u003e\"],\"marker\":{\"color\":\"#1293d2\"},\"text\":[\"\\u003cb\\u003e\\u003cspan style='font-family: Arial;'\\u003e4 878\\u003c\\u002fspan\\u003e\\u003c\\u002fb\\u003e\",\"\\u003cb\\u003e\\u003cspan style='font-family: Arial;'\\u003e851\\u003c\\u002fspan\\u003e\\u003c\\u002fb\\u003e\",\"\\u003cb\\u003e\\u003cspan style='font-family: Arial;'\\u003e0\\u003c\\u002fspan\\u003e\\u003c\\u002fb\\u003e\",\"\\u003cb\\u003e\\u003cspan style='font-family: Arial;'\\u003e2 445\\u003c\\u002fspan\\u003e\\u003c\\u002fb\\u003e\",\"\\u003cb\\u003e\\u003cspan style='font-family: Arial;'\\u003e2 561\\u003c\\u002fspan\\u003e\\u003c\\u002fb\\u003e\",\"\\u003cb\\u003e\\u003cspan style='font-family: Arial;'\\u003e6 880\\u003c\\u002fspan\\u003e\\u003c\\u002fb\\u003e\",\"\\u003cb\\u003e\\u003cspan style='font-family: Arial;'\\u003e3 531\\u003c\\u002fspan\\u003e\\u003c\\u002fb\\u003e\",\"\\u003cb\\u003e\\u003cspan style='font-family: Arial;'\\u003e950\\u003c\\u002fspan\\u003e\\u003c\\u002fb\\u003e\",\"\\u003cb\\u003e\\u003cspan style='font-family: Arial;'\\u003e1 763\\u003c\\u002fspan\\u003e\\u003c\\u002fb\\u003e\",\"\\u003cb\\u003e\\u003cspan style='font-family: Arial;'\\u003e961\\u003c\\u002fspan\\u003e\\u003c\\u002fb\\u003e\"],\"textposition\":\"outside\",\"x\":[\"Tue 14 Nov\",\"Wed 15 Nov\",\"Thu 16 Nov\",\"Fri 17 Nov\",\"Sat 18 Nov\",\"Sun 19 Nov\",\"Mon 20 Nov\",\"Tue 21 Nov\",\"Wed 22 Nov\",\"Thu 23 Nov\"],\"y\":[4878.0,851.0,0.0,2445.0,2561.0,6880.0,3531.0,950.0,1763.0,961.0],\"type\":\"bar\",\"showlegend\":false}],                        {\"template\":{\"data\":{\"histogram2dcontour\":[{\"type\":\"histogram2dcontour\",\"colorbar\":{\"outlinewidth\":0,\"ticks\":\"\"},\"colorscale\":[[0.0,\"#0d0887\"],[0.1111111111111111,\"#46039f\"],[0.2222222222222222,\"#7201a8\"],[0.3333333333333333,\"#9c179e\"],[0.4444444444444444,\"#bd3786\"],[0.5555555555555556,\"#d8576b\"],[0.6666666666666666,\"#ed7953\"],[0.7777777777777778,\"#fb9f3a\"],[0.8888888888888888,\"#fdca26\"],[1.0,\"#f0f921\"]]}],\"choropleth\":[{\"type\":\"choropleth\",\"colorbar\":{\"outlinewidth\":0,\"ticks\":\"\"}}],\"histogram2d\":[{\"type\":\"histogram2d\",\"colorbar\":{\"outlinewidth\":0,\"ticks\":\"\"},\"colorscale\":[[0.0,\"#0d0887\"],[0.1111111111111111,\"#46039f\"],[0.2222222222222222,\"#7201a8\"],[0.3333333333333333,\"#9c179e\"],[0.4444444444444444,\"#bd3786\"],[0.5555555555555556,\"#d8576b\"],[0.6666666666666666,\"#ed7953\"],[0.7777777777777778,\"#fb9f3a\"],[0.8888888888888888,\"#fdca26\"],[1.0,\"#f0f921\"]]}],\"heatmap\":[{\"type\":\"heatmap\",\"colorbar\":{\"outlinewidth\":0,\"ticks\":\"\"},\"colorscale\":[[0.0,\"#0d0887\"],[0.1111111111111111,\"#46039f\"],[0.2222222222222222,\"#7201a8\"],[0.3333333333333333,\"#9c179e\"],[0.4444444444444444,\"#bd3786\"],[0.5555555555555556,\"#d8576b\"],[0.6666666666666666,\"#ed7953\"],[0.7777777777777778,\"#fb9f3a\"],[0.8888888888888888,\"#fdca26\"],[1.0,\"#f0f921\"]]}],\"heatmapgl\":[{\"type\":\"heatmapgl\",\"colorbar\":{\"outlinewidth\":0,\"ticks\":\"\"},\"colorscale\":[[0.0,\"#0d0887\"],[0.1111111111111111,\"#46039f\"],[0.2222222222222222,\"#7201a8\"],[0.3333333333333333,\"#9c179e\"],[0.4444444444444444,\"#bd3786\"],[0.5555555555555556,\"#d8576b\"],[0.6666666666666666,\"#ed7953\"],[0.7777777777777778,\"#fb9f3a\"],[0.8888888888888888,\"#fdca26\"],[1.0,\"#f0f921\"]]}],\"contourcarpet\":[{\"type\":\"contourcarpet\",\"colorbar\":{\"outlinewidth\":0,\"ticks\":\"\"}}],\"contour\":[{\"type\":\"contour\",\"colorbar\":{\"outlinewidth\":0,\"ticks\":\"\"},\"colorscale\":[[0.0,\"#0d0887\"],[0.1111111111111111,\"#46039f\"],[0.2222222222222222,\"#7201a8\"],[0.3333333333333333,\"#9c179e\"],[0.4444444444444444,\"#bd3786\"],[0.5555555555555556,\"#d8576b\"],[0.6666666666666666,\"#ed7953\"],[0.7777777777777778,\"#fb9f3a\"],[0.8888888888888888,\"#fdca26\"],[1.0,\"#f0f921\"]]}],\"surface\":[{\"type\":\"surface\",\"colorbar\":{\"outlinewidth\":0,\"ticks\":\"\"},\"colorscale\":[[0.0,\"#0d0887\"],[0.1111111111111111,\"#46039f\"],[0.2222222222222222,\"#7201a8\"],[0.3333333333333333,\"#9c179e\"],[0.4444444444444444,\"#bd3786\"],[0.5555555555555556,\"#d8576b\"],[0.6666666666666666,\"#ed7953\"],[0.7777777777777778,\"#fb9f3a\"],[0.8888888888888888,\"#fdca26\"],[1.0,\"#f0f921\"]]}],\"mesh3d\":[{\"type\":\"mesh3d\",\"colorbar\":{\"outlinewidth\":0,\"ticks\":\"\"}}],\"scatter\":[{\"fillpattern\":{\"fillmode\":\"overlay\",\"size\":10,\"solidity\":0.2},\"type\":\"scatter\"}],\"parcoords\":[{\"type\":\"parcoords\",\"line\":{\"colorbar\":{\"outlinewidth\":0,\"ticks\":\"\"}}}],\"scatterpolargl\":[{\"type\":\"scatterpolargl\",\"marker\":{\"colorbar\":{\"outlinewidth\":0,\"ticks\":\"\"}}}],\"bar\":[{\"error_x\":{\"color\":\"#2a3f5f\"},\"error_y\":{\"color\":\"#2a3f5f\"},\"marker\":{\"line\":{\"color\":\"#E5ECF6\",\"width\":0.5},\"pattern\":{\"fillmode\":\"overlay\",\"size\":10,\"solidity\":0.2}},\"type\":\"bar\"}],\"scattergeo\":[{\"type\":\"scattergeo\",\"marker\":{\"colorbar\":{\"outlinewidth\":0,\"ticks\":\"\"}}}],\"scatterpolar\":[{\"type\":\"scatterpolar\",\"marker\":{\"colorbar\":{\"outlinewidth\":0,\"ticks\":\"\"}}}],\"histogram\":[{\"marker\":{\"pattern\":{\"fillmode\":\"overlay\",\"size\":10,\"solidity\":0.2}},\"type\":\"histogram\"}],\"scattergl\":[{\"type\":\"scattergl\",\"marker\":{\"colorbar\":{\"outlinewidth\":0,\"ticks\":\"\"}}}],\"scatter3d\":[{\"type\":\"scatter3d\",\"line\":{\"colorbar\":{\"outlinewidth\":0,\"ticks\":\"\"}},\"marker\":{\"colorbar\":{\"outlinewidth\":0,\"ticks\":\"\"}}}],\"scattermapbox\":[{\"type\":\"scattermapbox\",\"marker\":{\"colorbar\":{\"outlinewidth\":0,\"ticks\":\"\"}}}],\"scatterternary\":[{\"type\":\"scatterternary\",\"marker\":{\"colorbar\":{\"outlinewidth\":0,\"ticks\":\"\"}}}],\"scattercarpet\":[{\"type\":\"scattercarpet\",\"marker\":{\"colorbar\":{\"outlinewidth\":0,\"ticks\":\"\"}}}],\"carpet\":[{\"aaxis\":{\"endlinecolor\":\"#2a3f5f\",\"gridcolor\":\"white\",\"linecolor\":\"white\",\"minorgridcolor\":\"white\",\"startlinecolor\":\"#2a3f5f\"},\"baxis\":{\"endlinecolor\":\"#2a3f5f\",\"gridcolor\":\"white\",\"linecolor\":\"white\",\"minorgridcolor\":\"white\",\"startlinecolor\":\"#2a3f5f\"},\"type\":\"carpet\"}],\"table\":[{\"cells\":{\"fill\":{\"color\":\"#EBF0F8\"},\"line\":{\"color\":\"white\"}},\"header\":{\"fill\":{\"color\":\"#C8D4E3\"},\"line\":{\"color\":\"white\"}},\"type\":\"table\"}],\"barpolar\":[{\"marker\":{\"line\":{\"color\":\"#E5ECF6\",\"width\":0.5},\"pattern\":{\"fillmode\":\"overlay\",\"size\":10,\"solidity\":0.2}},\"type\":\"barpolar\"}],\"pie\":[{\"automargin\":true,\"type\":\"pie\"}]},\"layout\":{\"autotypenumbers\":\"strict\",\"colorway\":[\"#636efa\",\"#EF553B\",\"#00cc96\",\"#ab63fa\",\"#FFA15A\",\"#19d3f3\",\"#FF6692\",\"#B6E880\",\"#FF97FF\",\"#FECB52\"],\"font\":{\"color\":\"#2a3f5f\"},\"hovermode\":\"closest\",\"hoverlabel\":{\"align\":\"left\"},\"paper_bgcolor\":\"white\",\"plot_bgcolor\":\"#E5ECF6\",\"polar\":{\"bgcolor\":\"#E5ECF6\",\"angularaxis\":{\"gridcolor\":\"white\",\"linecolor\":\"white\",\"ticks\":\"\"},\"radialaxis\":{\"gridcolor\":\"white\",\"linecolor\":\"white\",\"ticks\":\"\"}},\"ternary\":{\"bgcolor\":\"#E5ECF6\",\"aaxis\":{\"gridcolor\":\"white\",\"linecolor\":\"white\",\"ticks\":\"\"},\"baxis\":{\"gridcolor\":\"white\",\"linecolor\":\"white\",\"ticks\":\"\"},\"caxis\":{\"gridcolor\":\"white\",\"linecolor\":\"white\",\"ticks\":\"\"}},\"coloraxis\":{\"colorbar\":{\"outlinewidth\":0,\"ticks\":\"\"}},\"colorscale\":{\"sequential\":[[0.0,\"#0d0887\"],[0.1111111111111111,\"#46039f\"],[0.2222222222222222,\"#7201a8\"],[0.3333333333333333,\"#9c179e\"],[0.4444444444444444,\"#bd3786\"],[0.5555555555555556,\"#d8576b\"],[0.6666666666666666,\"#ed7953\"],[0.7777777777777778,\"#fb9f3a\"],[0.8888888888888888,\"#fdca26\"],[1.0,\"#f0f921\"]],\"sequentialminus\":[[0.0,\"#0d0887\"],[0.1111111111111111,\"#46039f\"],[0.2222222222222222,\"#7201a8\"],[0.3333333333333333,\"#9c179e\"],[0.4444444444444444,\"#bd3786\"],[0.5555555555555556,\"#d8576b\"],[0.6666666666666666,\"#ed7953\"],[0.7777777777777778,\"#fb9f3a\"],[0.8888888888888888,\"#fdca26\"],[1.0,\"#f0f921\"]],\"diverging\":[[0,\"#8e0152\"],[0.1,\"#c51b7d\"],[0.2,\"#de77ae\"],[0.3,\"#f1b6da\"],[0.4,\"#fde0ef\"],[0.5,\"#f7f7f7\"],[0.6,\"#e6f5d0\"],[0.7,\"#b8e186\"],[0.8,\"#7fbc41\"],[0.9,\"#4d9221\"],[1,\"#276419\"]]},\"xaxis\":{\"gridcolor\":\"white\",\"linecolor\":\"white\",\"ticks\":\"\",\"title\":{\"standoff\":15},\"zerolinecolor\":\"white\",\"automargin\":true,\"zerolinewidth\":2},\"yaxis\":{\"gridcolor\":\"white\",\"linecolor\":\"white\",\"ticks\":\"\",\"title\":{\"standoff\":15},\"zerolinecolor\":\"white\",\"automargin\":true,\"zerolinewidth\":2},\"scene\":{\"xaxis\":{\"backgroundcolor\":\"#E5ECF6\",\"gridcolor\":\"white\",\"linecolor\":\"white\",\"showbackground\":true,\"ticks\":\"\",\"zerolinecolor\":\"white\",\"gridwidth\":2},\"yaxis\":{\"backgroundcolor\":\"#E5ECF6\",\"gridcolor\":\"white\",\"linecolor\":\"white\",\"showbackground\":true,\"ticks\":\"\",\"zerolinecolor\":\"white\",\"gridwidth\":2},\"zaxis\":{\"backgroundcolor\":\"#E5ECF6\",\"gridcolor\":\"white\",\"linecolor\":\"white\",\"showbackground\":true,\"ticks\":\"\",\"zerolinecolor\":\"white\",\"gridwidth\":2}},\"shapedefaults\":{\"line\":{\"color\":\"#2a3f5f\"}},\"annotationdefaults\":{\"arrowcolor\":\"#2a3f5f\",\"arrowhead\":0,\"arrowwidth\":1},\"geo\":{\"bgcolor\":\"white\",\"landcolor\":\"#E5ECF6\",\"subunitcolor\":\"white\",\"showland\":true,\"showlakes\":true,\"lakecolor\":\"white\"},\"title\":{\"x\":0.05},\"mapbox\":{\"style\":\"light\"}}},\"images\":[{\"sizex\":0.12,\"sizey\":0.12,\"source\":\"https:\\u002f\\u002fupload.wikimedia.org\\u002fwikipedia\\u002fcommons\\u002fthumb\\u002fb\\u002fb7\\u002fEo_circle_red_arrow-down.svg\\u002f2048px-Eo_circle_red_arrow-down.svg.png\",\"x\":0.01,\"xanchor\":\"right\",\"xref\":\"paper\",\"y\":1.045,\"yanchor\":\"bottom\",\"yref\":\"paper\"}],\"annotations\":[{\"arrowcolor\":\"white\",\"font\":{\"color\":\"black\",\"family\":\"Arial\"},\"text\":\"\\u003ci\\u003eSource: \\u003ca href='https:\\u002f\\u002fwww.linkedin.com\\u002fin\\u002fjeremyravenel\\u002f'\\u003ehttps:\\u002f\\u002fwww.linkedin.com\\u002fin\\u002fjeremyravenel\\u002f\\u003c\\u002fa\\u003e \\u002f Created at: 2023-11-24\\u003c\\u002fi\\u003e\",\"x\":0,\"xanchor\":\"left\",\"xref\":\"paper\",\"y\":-0.25,\"yanchor\":\"bottom\",\"yref\":\"paper\"}],\"title\":{\"text\":\"\\u003cb\\u003e\\u003cspan style='font-size: 20px;'\\u003eViews\\u003c\\u002fspan\\u003e\\u003c\\u002fb\\u003e\\u003cbr\\u003e\\u003cspan style='font-size: 18px;'\\u003eTotal: 24 820 | Daily variation: -802 (-45%)\\u003c\\u002fspan\\u003e\",\"x\":0.09,\"font\":{\"family\":\"Arial\",\"color\":\"black\"}},\"margin\":{\"pad\":10,\"b\":80},\"paper_bgcolor\":\"#ffffff\",\"plot_bgcolor\":\"#ffffff\",\"width\":1200,\"height\":600},                        {\"responsive\": true}                    ).then(function(){\n",
       "                            \n",
       "var gd = document.getElementById('170185d5-865f-40fc-9273-b7acaaee8475');\n",
       "var x = new MutationObserver(function (mutations, observer) {{\n",
       "        var display = window.getComputedStyle(gd).display;\n",
       "        if (!display || display === 'none') {{\n",
       "            console.log([gd, 'removed!']);\n",
       "            Plotly.purge(gd);\n",
       "            observer.disconnect();\n",
       "        }}\n",
       "}});\n",
       "\n",
       "// Listen for the removal of the full notebook cells\n",
       "var notebookContainer = gd.closest('#notebook-container');\n",
       "if (notebookContainer) {{\n",
       "    x.observe(notebookContainer, {childList: true});\n",
       "}}\n",
       "\n",
       "// Listen for the clearing of the current output cell\n",
       "var outputEl = gd.closest('.output');\n",
       "if (outputEl) {{\n",
       "    x.observe(outputEl, {childList: true});\n",
       "}}\n",
       "\n",
       "                        })                };                });            </script>        </div>"
      ]
     },
     "metadata": {},
     "output_type": "display_data"
    }
   ],
   "source": [
    "# LINKEDIN_LOGO = \"https://upload.wikimedia.org/wikipedia/commons/thumb/c/ca/LinkedIn_logo_initials.png/800px-LinkedIn_logo_initials.png\"  # Chart logo\n",
    "LINKEDIN_COLOR = \"#1293d2\"  # Chart primary color\n",
    "arrow_up = \"https://upload.wikimedia.org/wikipedia/commons/thumb/c/c0/Eo_circle_green_arrow-up.svg/2048px-Eo_circle_green_arrow-up.svg.png\"\n",
    "arrow_down = \"https://upload.wikimedia.org/wikipedia/commons/thumb/b/b7/Eo_circle_red_arrow-down.svg/2048px-Eo_circle_red_arrow-down.svg.png\"\n",
    "arrow_right = \"https://upload.wikimedia.org/wikipedia/commons/thumb/4/42/Eo_circle_orange_arrow-right.svg/2048px-Eo_circle_orange_arrow-right.svg.png\"\n",
    "\n",
    "def create_barchart(\n",
    "    df,\n",
    "    title=None,\n",
    "    linkedin_url=None,\n",
    "    label=\"DATE_D\",\n",
    "    value=\"VALUE\",\n",
    "    value_d=\"VALUE_D\",\n",
    "    text=\"TEXT\"\n",
    "):\n",
    "    # Init\n",
    "    fig = go.Figure()\n",
    "    \n",
    "    # Plotly: Create title\n",
    "    total_value = \"{:,.0f}\".format(df[value].sum()).replace(\",\", \" \")\n",
    "    varv = df.loc[df.index[-1], \"VARV\"]\n",
    "    varp = df.loc[df.index[-1], \"VARP\"]\n",
    "    varv_d = \"{:,.0f}\".format(varv).replace(\",\", \" \")\n",
    "    varp_d = \"{:,.0%}\".format(varp).replace(\",\", \" \")\n",
    "    if varv >= 0:\n",
    "        varv_d = f\"+{varv_d}\"\n",
    "        varp_d = f\"+{varp_d}\"\n",
    "    title = f\"<b><span style='font-size: 20px;'>{title}</span></b><br><span style='font-size: 18px;'>Total: {total_value} | {PERIOD_TEXT}: {varv_d} ({varp_d})</span>\"\n",
    "    \n",
    "    # Logo\n",
    "    logo = None\n",
    "    if varv > 0:\n",
    "        logo = arrow_up\n",
    "    elif varv == 0:\n",
    "        logo = arrow_right\n",
    "    else:\n",
    "        logo = arrow_down\n",
    "\n",
    "    # Create fig\n",
    "    fig.add_trace(\n",
    "        go.Bar(\n",
    "            x=df[label],\n",
    "            y=df[value],\n",
    "            text=df[value_d],\n",
    "            textposition=\"outside\",\n",
    "            hoverinfo=\"text\",\n",
    "            hovertext=df[text],\n",
    "            marker=dict(color=LINKEDIN_COLOR),\n",
    "        )\n",
    "    )\n",
    "    # Add logo\n",
    "    fig.add_layout_image(\n",
    "        dict(\n",
    "            source=logo,\n",
    "            xref=\"paper\",\n",
    "            yref=\"paper\",\n",
    "            x=0.01,\n",
    "            y=1.045,\n",
    "            sizex=0.12,\n",
    "            sizey=0.12,\n",
    "            xanchor=\"right\",\n",
    "            yanchor=\"bottom\",\n",
    "        )\n",
    "    )\n",
    "    # Add annotation\n",
    "    fig.add_annotation(\n",
    "        text=f\"<i>Source: <a href='{linkedin_url}'>{linkedin_url}</a> / Created at: {date.today().isoformat()}</i>\",\n",
    "        font=dict(family=\"Arial\", color=\"black\"),\n",
    "        x=0,\n",
    "        y=-0.25,\n",
    "        xref=\"paper\",\n",
    "        yref=\"paper\",\n",
    "        xanchor=\"left\",\n",
    "        yanchor=\"bottom\",\n",
    "        arrowcolor=\"white\",\n",
    "    )\n",
    "    fig.update_traces(showlegend=False)\n",
    "    \n",
    "    # Update layout\n",
    "    fig.update_layout(\n",
    "        title=title,\n",
    "        title_x=0.09,\n",
    "        title_font=dict(family=\"Arial\", color=\"black\"),\n",
    "        paper_bgcolor=\"#ffffff\",\n",
    "        plot_bgcolor=\"#ffffff\",\n",
    "        width=1200,\n",
    "        height=600,\n",
    "        margin_pad=10,\n",
    "        margin_b=80\n",
    "    )\n",
    "    fig.show()\n",
    "    return fig\n",
    "\n",
    "fig = create_barchart(df_trend, title, linkedin_url)"
   ]
  },
  {
   "cell_type": "markdown",
   "id": "c8083216",
   "metadata": {
    "papermill": {},
    "tags": []
   },
   "source": [
    "## Output"
   ]
  },
  {
   "cell_type": "markdown",
   "id": "541e16a0",
   "metadata": {
    "papermill": {},
    "tags": []
   },
   "source": [
    "### Save and share your csv file"
   ]
  },
  {
   "cell_type": "code",
   "execution_count": 6,
   "id": "61cc88bf",
   "metadata": {
    "execution": {
     "iopub.execute_input": "2023-11-24T08:19:09.770777Z",
     "iopub.status.busy": "2023-11-24T08:19:09.765981Z",
     "iopub.status.idle": "2023-11-24T08:19:09.820399Z",
     "shell.execute_reply": "2023-11-24T08:19:09.819749Z",
     "shell.execute_reply.started": "2023-11-24T08:19:09.770742Z"
    },
    "papermill": {},
    "tags": []
   },
   "outputs": [],
   "source": [
    "# Save your dataframe in CSV\n",
    "df_trend.to_csv(csv_output, index=False)"
   ]
  },
  {
   "cell_type": "markdown",
   "id": "d28cd477",
   "metadata": {
    "papermill": {},
    "tags": []
   },
   "source": [
    "### Save and share your graph in HTML\n"
   ]
  },
  {
   "cell_type": "code",
   "execution_count": 7,
   "id": "3421d37f",
   "metadata": {
    "execution": {
     "iopub.execute_input": "2023-11-24T08:19:09.821692Z",
     "iopub.status.busy": "2023-11-24T08:19:09.821221Z",
     "iopub.status.idle": "2023-11-24T08:19:32.303796Z",
     "shell.execute_reply": "2023-11-24T08:19:32.302181Z",
     "shell.execute_reply.started": "2023-11-24T08:19:09.821660Z"
    },
    "papermill": {},
    "tags": []
   },
   "outputs": [
    {
     "name": "stdout",
     "output_type": "stream",
     "text": [
      "👌 Well done! Your Assets has been sent to production.\n",
      "\n"
     ]
    },
    {
     "data": {
      "application/javascript": [
       "\n",
       "    if (!window.copyToClipboard) {\n",
       "        window.copyToClipboard = (text) => {\n",
       "            const dummy = document.createElement(\"textarea\");\n",
       "            document.body.appendChild(dummy);\n",
       "            dummy.value = text;\n",
       "            dummy.select();\n",
       "            document.execCommand(\"copy\");\n",
       "            document.body.removeChild(dummy);\n",
       "        }\n",
       "    }\n",
       "    "
      ],
      "text/plain": [
       "<IPython.core.display.Javascript object>"
      ]
     },
     "metadata": {},
     "output_type": "display_data"
    },
    {
     "data": {
      "application/vnd.jupyter.widget-view+json": {
       "model_id": "49cecc7aa98749cea2562bc61b53b29d",
       "version_major": 2,
       "version_minor": 0
      },
      "text/plain": [
       "Button(button_style='primary', description='Copy URL', style=ButtonStyle())"
      ]
     },
     "metadata": {},
     "output_type": "display_data"
    },
    {
     "data": {
      "application/vnd.jupyter.widget-view+json": {
       "model_id": "e9e24a9b90d34f129ed58f0349555120",
       "version_major": 2,
       "version_minor": 0
      },
      "text/plain": [
       "Output()"
      ]
     },
     "metadata": {},
     "output_type": "display_data"
    },
    {
     "name": "stdout",
     "output_type": "stream",
     "text": [
      "PS: to remove the \"Assets\" feature, just replace .add by .delete\n"
     ]
    }
   ],
   "source": [
    "# Save your graph in HTML\n",
    "fig.write_html(html_output)\n",
    "\n",
    "# Share output with naas\n",
    "html_link = naas.asset.add(html_output, params={\"inline\": True})\n",
    "\n",
    "# -> Uncomment the line below to remove your asset\n",
    "# naas.asset.delete(html_output)"
   ]
  },
  {
   "cell_type": "markdown",
   "id": "91a987c6",
   "metadata": {
    "papermill": {},
    "tags": []
   },
   "source": [
    "### Save and share your graph in image\n"
   ]
  },
  {
   "cell_type": "code",
   "execution_count": 8,
   "id": "8342abf9",
   "metadata": {
    "execution": {
     "iopub.execute_input": "2023-11-24T08:19:32.305263Z",
     "iopub.status.busy": "2023-11-24T08:19:32.304937Z",
     "iopub.status.idle": "2023-11-24T08:19:34.876903Z",
     "shell.execute_reply": "2023-11-24T08:19:34.876232Z",
     "shell.execute_reply.started": "2023-11-24T08:19:32.305203Z"
    },
    "papermill": {},
    "tags": []
   },
   "outputs": [
    {
     "name": "stdout",
     "output_type": "stream",
     "text": [
      "👌 Well done! Your Assets has been sent to production.\n",
      "\n"
     ]
    },
    {
     "data": {
      "application/javascript": [
       "\n",
       "    if (!window.copyToClipboard) {\n",
       "        window.copyToClipboard = (text) => {\n",
       "            const dummy = document.createElement(\"textarea\");\n",
       "            document.body.appendChild(dummy);\n",
       "            dummy.value = text;\n",
       "            dummy.select();\n",
       "            document.execCommand(\"copy\");\n",
       "            document.body.removeChild(dummy);\n",
       "        }\n",
       "    }\n",
       "    "
      ],
      "text/plain": [
       "<IPython.core.display.Javascript object>"
      ]
     },
     "metadata": {},
     "output_type": "display_data"
    },
    {
     "data": {
      "application/vnd.jupyter.widget-view+json": {
       "model_id": "2e6a9217576d48728fb8ff5f44f44ebb",
       "version_major": 2,
       "version_minor": 0
      },
      "text/plain": [
       "Button(button_style='primary', description='Copy URL', style=ButtonStyle())"
      ]
     },
     "metadata": {},
     "output_type": "display_data"
    },
    {
     "data": {
      "application/vnd.jupyter.widget-view+json": {
       "model_id": "6344bf87c9aa4c5db0d1a4f0c43a1f06",
       "version_major": 2,
       "version_minor": 0
      },
      "text/plain": [
       "Output()"
      ]
     },
     "metadata": {},
     "output_type": "display_data"
    },
    {
     "name": "stdout",
     "output_type": "stream",
     "text": [
      "PS: to remove the \"Assets\" feature, just replace .add by .delete\n"
     ]
    }
   ],
   "source": [
    "# Save your graph in PNG\n",
    "fig.write_image(image_output)\n",
    "\n",
    "# Share output with naas\n",
    "image_link = naas.asset.add(image_output)\n",
    "\n",
    "# -> Uncomment the line below to remove your asset\n",
    "# naas.asset.delete(image_output)"
   ]
  }
 ],
 "metadata": {
  "kernelspec": {
   "display_name": "Python 3",
   "language": "python",
   "name": "python3"
  },
  "language_info": {
   "codemirror_mode": {
    "name": "ipython",
    "version": 3
   },
   "file_extension": ".py",
   "mimetype": "text/x-python",
   "name": "python",
   "nbconvert_exporter": "python",
   "pygments_lexer": "ipython3",
   "version": "3.9.6"
  },
  "papermill": {
   "default_parameters": {},
   "environment_variables": {},
   "parameters": {},
   "version": "2.3.4"
  }
 },
 "nbformat": 4,
 "nbformat_minor": 5
}
