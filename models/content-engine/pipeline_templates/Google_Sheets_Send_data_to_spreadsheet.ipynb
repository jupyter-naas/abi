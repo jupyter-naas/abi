{
 "cells": [
  {
   "cell_type": "markdown",
   "id": "international-creativity",
   "metadata": {
    "papermill": {},
    "tags": []
   },
   "source": [
    "<img width=\"8%\" alt=\"Google Sheets.png\" src=\"https://raw.githubusercontent.com/jupyter-naas/awesome-notebooks/master/.github/assets/logos/Google%20Sheets.png\" style=\"border-radius: 15%\">"
   ]
  },
  {
   "cell_type": "markdown",
   "id": "unlimited-bookmark",
   "metadata": {
    "papermill": {},
    "tags": []
   },
   "source": [
    "# Google Sheets - Send data to spreadsheet"
   ]
  },
  {
   "cell_type": "markdown",
   "id": "tags_cell",
   "metadata": {
    "papermill": {},
    "tags": []
   },
   "source": [
    "**Tags:** #googlesheets #gsheet #data #naas_drivers #operations #snippet"
   ]
  },
  {
   "cell_type": "markdown",
   "id": "fbbbbc71-6333-4a70-b371-c9b82f8b5299",
   "metadata": {
    "papermill": {},
    "tags": []
   },
   "source": [
    "**Author:** [Florent Ravenel](https://www.linkedin.com/in/florent-ravenel/)"
   ]
  },
  {
   "cell_type": "markdown",
   "id": "naas-description",
   "metadata": {
    "papermill": {},
    "tags": [
     "description"
    ]
   },
   "source": [
    "**Description:** This notebook allows to send data to Google Sheets to a Google Sheets spreadsheet."
   ]
  },
  {
   "cell_type": "markdown",
   "id": "input_cell",
   "metadata": {
    "papermill": {},
    "tags": []
   },
   "source": [
    "## Input"
   ]
  },
  {
   "cell_type": "markdown",
   "id": "55d9e878-2148-47e3-a13d-09ba77202893",
   "metadata": {
    "papermill": {},
    "tags": []
   },
   "source": [
    "### Import libraries"
   ]
  },
  {
   "cell_type": "code",
   "execution_count": 1,
   "id": "5fad521a-4a18-4dc7-b13d-98a37172715b",
   "metadata": {
    "execution": {
     "iopub.execute_input": "2023-12-16T06:42:10.671030Z",
     "iopub.status.busy": "2023-12-16T06:42:10.670747Z",
     "iopub.status.idle": "2023-12-16T06:42:15.644299Z",
     "shell.execute_reply": "2023-12-16T06:42:15.643371Z",
     "shell.execute_reply.started": "2023-12-16T06:42:10.670927Z"
    },
    "papermill": {},
    "tags": []
   },
   "outputs": [
    {
     "name": "stdout",
     "output_type": "stream",
     "text": [
      "✅ utils file '/home/ftp/abi/utils/data.ipynb' successfully loaded.\n",
      "✅ utils file '/home/ftp/abi/utils/naas_chat_plugin.ipynb' successfully loaded.\n",
      "✅ utils file '/home/ftp/abi/utils/naas_lab.ipynb' successfully loaded.\n",
      "✅ utils file '/home/ftp/abi/utils/openai.ipynb' successfully loaded.\n"
     ]
    }
   ],
   "source": [
    "from naas_drivers import gsheet\n",
    "import pandas as pd\n",
    "import os\n",
    "from datetime import date\n",
    "import naas_data_product"
   ]
  },
  {
   "cell_type": "markdown",
   "id": "ec39e794-a8cd-41b8-9489-9ddb962a601c",
   "metadata": {
    "papermill": {},
    "tags": []
   },
   "source": [
    "### Setup variables\n",
    "**Inputs**\n",
    "- `input_dir`: Input directory to retrieve file from.\n",
    "- `file_name`: Name of the file to be retrieved.\n",
    "\n",
    "**Outputs**\n",
    "- `spreadsheet_url`: Google Sheets spreadsheet URL.\n",
    "- `sheet_name`: Google Sheets sheet name.\n",
    "- `append`: If False, data will be canceled and replaced."
   ]
  },
  {
   "cell_type": "code",
   "execution_count": 2,
   "id": "7c34bff6-9136-4aaf-a692-b38129b7de83",
   "metadata": {
    "execution": {
     "iopub.execute_input": "2023-12-16T06:42:15.650442Z",
     "iopub.status.busy": "2023-12-16T06:42:15.648463Z",
     "iopub.status.idle": "2023-12-16T06:42:15.962425Z",
     "shell.execute_reply": "2023-12-16T06:42:15.961794Z",
     "shell.execute_reply.started": "2023-12-16T06:42:15.650401Z"
    },
    "papermill": {},
    "tags": [
     "parameters"
    ]
   },
   "outputs": [],
   "source": [
    "# Inputs\n",
    "input_dir = os.path.join(naas_data_product.OUTPUTS_PATH, \"content-engine\", date.today().isoformat())\n",
    "file_name = \"linkedin_posts\"\n",
    "openai_api_key = naas.secret.get(\"OPENAI_API_KEY\")\n",
    "\n",
    "# Outputs\n",
    "spreadsheet_url = naas.secret.get(\"ABI_SPREADSHEET\") or \"YOUR_GOOGLE_SPREADSHEET_URL\"\n",
    "sheet_name = \"CONTENT\"\n",
    "append = False"
   ]
  },
  {
   "cell_type": "markdown",
   "id": "model_cell",
   "metadata": {
    "papermill": {},
    "tags": []
   },
   "source": [
    "## Model"
   ]
  },
  {
   "cell_type": "markdown",
   "id": "b82dbc1b-acf3-4e44-8dac-e4f631787afa",
   "metadata": {
    "papermill": {},
    "tags": []
   },
   "source": [
    "### Get data from Google Sheets spreadsheet"
   ]
  },
  {
   "cell_type": "code",
   "execution_count": 3,
   "id": "34407369-03a1-45c4-9768-03222224612b",
   "metadata": {
    "execution": {
     "iopub.execute_input": "2023-12-16T06:42:15.964190Z",
     "iopub.status.busy": "2023-12-16T06:42:15.963942Z",
     "iopub.status.idle": "2023-12-16T06:42:16.618057Z",
     "shell.execute_reply": "2023-12-16T06:42:16.617389Z",
     "shell.execute_reply.started": "2023-12-16T06:42:15.964158Z"
    },
    "papermill": {},
    "tags": []
   },
   "outputs": [
    {
     "name": "stdout",
     "output_type": "stream",
     "text": [
      "Rows: 49\n"
     ]
    },
    {
     "data": {
      "text/html": [
       "<div>\n",
       "<style scoped>\n",
       "    .dataframe tbody tr th:only-of-type {\n",
       "        vertical-align: middle;\n",
       "    }\n",
       "\n",
       "    .dataframe tbody tr th {\n",
       "        vertical-align: top;\n",
       "    }\n",
       "\n",
       "    .dataframe thead th {\n",
       "        text-align: right;\n",
       "    }\n",
       "</style>\n",
       "<table border=\"1\" class=\"dataframe\">\n",
       "  <thead>\n",
       "    <tr style=\"text-align: right;\">\n",
       "      <th></th>\n",
       "      <th>ENTITY</th>\n",
       "      <th>SCENARIO</th>\n",
       "      <th>SOURCE</th>\n",
       "      <th>PUBLISHED_DATE</th>\n",
       "      <th>DATE</th>\n",
       "      <th>TIME</th>\n",
       "      <th>TITLE</th>\n",
       "      <th>CONTENT</th>\n",
       "      <th>TOPICS</th>\n",
       "      <th>CONTENT_LENGTH</th>\n",
       "      <th>KEYWORDS</th>\n",
       "      <th>VIEWS</th>\n",
       "      <th>LIKES</th>\n",
       "      <th>COMMENTS</th>\n",
       "      <th>SHARES</th>\n",
       "      <th>ENGAGEMENT_SCORE</th>\n",
       "      <th>CONTENT_URL</th>\n",
       "    </tr>\n",
       "  </thead>\n",
       "  <tbody>\n",
       "    <tr>\n",
       "      <th>0</th>\n",
       "      <td>Travis Oliphant</td>\n",
       "      <td>W48-2023</td>\n",
       "      <td>LinkedIn</td>\n",
       "      <td>2023-11-27 02:24:48+0100</td>\n",
       "      <td>Mon. 27 Nov.</td>\n",
       "      <td>02H24</td>\n",
       "      <td>We can only offer this for free download for a...</td>\n",
       "      <td>We can only offer this for free download for a...</td>\n",
       "      <td>\"Free download offer, limited time availabilit...</td>\n",
       "      <td>97</td>\n",
       "      <td>NA</td>\n",
       "      <td>0</td>\n",
       "      <td>41</td>\n",
       "      <td>3</td>\n",
       "      <td>2</td>\n",
       "      <td>0</td>\n",
       "      <td>https://www.linkedin.com/feed/update/urn:li:ac...</td>\n",
       "    </tr>\n",
       "  </tbody>\n",
       "</table>\n",
       "</div>"
      ],
      "text/plain": [
       "            ENTITY  SCENARIO    SOURCE            PUBLISHED_DATE  \\\n",
       "0  Travis Oliphant  W48-2023  LinkedIn  2023-11-27 02:24:48+0100   \n",
       "\n",
       "           DATE   TIME                                              TITLE  \\\n",
       "0  Mon. 27 Nov.  02H24  We can only offer this for free download for a...   \n",
       "\n",
       "                                             CONTENT  \\\n",
       "0  We can only offer this for free download for a...   \n",
       "\n",
       "                                              TOPICS  CONTENT_LENGTH KEYWORDS  \\\n",
       "0  \"Free download offer, limited time availabilit...              97       NA   \n",
       "\n",
       "   VIEWS  LIKES  COMMENTS  SHARES  ENGAGEMENT_SCORE  \\\n",
       "0      0     41         3       2                 0   \n",
       "\n",
       "                                         CONTENT_URL  \n",
       "0  https://www.linkedin.com/feed/update/urn:li:ac...  "
      ]
     },
     "execution_count": 3,
     "metadata": {},
     "output_type": "execute_result"
    }
   ],
   "source": [
    "df_gsheet = gsheet.connect(spreadsheet_url).get(sheet_name=sheet_name)\n",
    "print(\"Rows:\", len(df_gsheet))\n",
    "df_gsheet.head(1)"
   ]
  },
  {
   "cell_type": "markdown",
   "id": "1568d91f-f088-4461-8911-95d8ad591229",
   "metadata": {},
   "source": [
    "### Get posts from local"
   ]
  },
  {
   "cell_type": "code",
   "execution_count": 4,
   "id": "57461362-178a-4dbd-81d1-dd27a6291c47",
   "metadata": {
    "execution": {
     "iopub.execute_input": "2023-12-16T06:42:16.621706Z",
     "iopub.status.busy": "2023-12-16T06:42:16.621419Z",
     "iopub.status.idle": "2023-12-16T06:42:17.010544Z",
     "shell.execute_reply": "2023-12-16T06:42:17.009842Z",
     "shell.execute_reply.started": "2023-12-16T06:42:16.621673Z"
    },
    "tags": []
   },
   "outputs": [
    {
     "name": "stdout",
     "output_type": "stream",
     "text": [
      "Rows: 1\n"
     ]
    },
    {
     "data": {
      "text/html": [
       "<div>\n",
       "<style scoped>\n",
       "    .dataframe tbody tr th:only-of-type {\n",
       "        vertical-align: middle;\n",
       "    }\n",
       "\n",
       "    .dataframe tbody tr th {\n",
       "        vertical-align: top;\n",
       "    }\n",
       "\n",
       "    .dataframe thead th {\n",
       "        text-align: right;\n",
       "    }\n",
       "</style>\n",
       "<table border=\"1\" class=\"dataframe\">\n",
       "  <thead>\n",
       "    <tr style=\"text-align: right;\">\n",
       "      <th></th>\n",
       "      <th>ACTIVITY_ID</th>\n",
       "      <th>PAGINATION_TOKEN</th>\n",
       "      <th>PUBLISHED_DATE</th>\n",
       "      <th>AUTHOR_NAME</th>\n",
       "      <th>AUTHOR_URL</th>\n",
       "      <th>SUBDESCRIPTION</th>\n",
       "      <th>TITLE</th>\n",
       "      <th>TEXT</th>\n",
       "      <th>CHARACTER_COUNT</th>\n",
       "      <th>TAGS</th>\n",
       "      <th>...</th>\n",
       "      <th>POLL_ID</th>\n",
       "      <th>POLL_QUESTION</th>\n",
       "      <th>POLL_RESULTS</th>\n",
       "      <th>POST_URL</th>\n",
       "      <th>VIEWS</th>\n",
       "      <th>COMMENTS</th>\n",
       "      <th>LIKES</th>\n",
       "      <th>SHARES</th>\n",
       "      <th>ENGAGEMENT_SCORE</th>\n",
       "      <th>DATE_EXTRACT</th>\n",
       "    </tr>\n",
       "  </thead>\n",
       "  <tbody>\n",
       "    <tr>\n",
       "      <th>0</th>\n",
       "      <td>7141422260812210176</td>\n",
       "      <td>dXJuOmxpOmFjdGl2aXR5OjcxNDE0MjIyNjA4MTIyMTAxNz...</td>\n",
       "      <td>2023-12-15 14:42:28+0100</td>\n",
       "      <td>Travis Oliphant</td>\n",
       "      <td>https://www.linkedin.com/in/ACoAAACOHgYBT-RIKF...</td>\n",
       "      <td>16h •</td>\n",
       "      <td>Good old days stories:</td>\n",
       "      <td>Good old days stories: \\n\\nAs a child, after t...</td>\n",
       "      <td>289</td>\n",
       "      <td>None</td>\n",
       "      <td>...</td>\n",
       "      <td>None</td>\n",
       "      <td>None</td>\n",
       "      <td>None</td>\n",
       "      <td>https://www.linkedin.com/feed/update/urn:li:ac...</td>\n",
       "      <td>0</td>\n",
       "      <td>4</td>\n",
       "      <td>36</td>\n",
       "      <td>0</td>\n",
       "      <td>0</td>\n",
       "      <td>2023-12-16 07:41:50</td>\n",
       "    </tr>\n",
       "  </tbody>\n",
       "</table>\n",
       "<p>1 rows × 32 columns</p>\n",
       "</div>"
      ],
      "text/plain": [
       "           ACTIVITY_ID                                   PAGINATION_TOKEN  \\\n",
       "0  7141422260812210176  dXJuOmxpOmFjdGl2aXR5OjcxNDE0MjIyNjA4MTIyMTAxNz...   \n",
       "\n",
       "             PUBLISHED_DATE      AUTHOR_NAME  \\\n",
       "0  2023-12-15 14:42:28+0100  Travis Oliphant   \n",
       "\n",
       "                                          AUTHOR_URL SUBDESCRIPTION  \\\n",
       "0  https://www.linkedin.com/in/ACoAAACOHgYBT-RIKF...       16h •      \n",
       "\n",
       "                     TITLE                                               TEXT  \\\n",
       "0  Good old days stories:   Good old days stories: \\n\\nAs a child, after t...   \n",
       "\n",
       "   CHARACTER_COUNT  TAGS  ...  POLL_ID POLL_QUESTION  POLL_RESULTS  \\\n",
       "0              289  None  ...     None          None          None   \n",
       "\n",
       "                                            POST_URL  VIEWS COMMENTS LIKES  \\\n",
       "0  https://www.linkedin.com/feed/update/urn:li:ac...      0        4    36   \n",
       "\n",
       "  SHARES ENGAGEMENT_SCORE         DATE_EXTRACT  \n",
       "0      0                0  2023-12-16 07:41:50  \n",
       "\n",
       "[1 rows x 32 columns]"
      ]
     },
     "execution_count": 4,
     "metadata": {},
     "output_type": "execute_result"
    }
   ],
   "source": [
    "df_posts = pload(input_dir, file_name)    \n",
    "print(\"Rows:\", len(df_posts))\n",
    "df_posts.head(1)"
   ]
  },
  {
   "cell_type": "markdown",
   "id": "1683da4f-41e3-4e11-9c3a-bf01af8ebefe",
   "metadata": {},
   "source": [
    "### Cleaning data"
   ]
  },
  {
   "cell_type": "code",
   "execution_count": 5,
   "id": "6823374f-9255-4e54-a125-c8be746acdd4",
   "metadata": {
    "execution": {
     "iopub.execute_input": "2023-12-16T06:42:17.011941Z",
     "iopub.status.busy": "2023-12-16T06:42:17.011577Z",
     "iopub.status.idle": "2023-12-16T06:42:20.050317Z",
     "shell.execute_reply": "2023-12-16T06:42:20.049731Z",
     "shell.execute_reply.started": "2023-12-16T06:42:17.011908Z"
    },
    "tags": []
   },
   "outputs": [
    {
     "name": "stdout",
     "output_type": "stream",
     "text": [
      "Rows: 50\n"
     ]
    },
    {
     "data": {
      "text/html": [
       "<div>\n",
       "<style scoped>\n",
       "    .dataframe tbody tr th:only-of-type {\n",
       "        vertical-align: middle;\n",
       "    }\n",
       "\n",
       "    .dataframe tbody tr th {\n",
       "        vertical-align: top;\n",
       "    }\n",
       "\n",
       "    .dataframe thead th {\n",
       "        text-align: right;\n",
       "    }\n",
       "</style>\n",
       "<table border=\"1\" class=\"dataframe\">\n",
       "  <thead>\n",
       "    <tr style=\"text-align: right;\">\n",
       "      <th></th>\n",
       "      <th>ENTITY</th>\n",
       "      <th>SCENARIO</th>\n",
       "      <th>SOURCE</th>\n",
       "      <th>PUBLISHED_DATE</th>\n",
       "      <th>DATE</th>\n",
       "      <th>TIME</th>\n",
       "      <th>TITLE</th>\n",
       "      <th>CONTENT</th>\n",
       "      <th>TOPICS</th>\n",
       "      <th>CONTENT_LENGTH</th>\n",
       "      <th>KEYWORDS</th>\n",
       "      <th>VIEWS</th>\n",
       "      <th>LIKES</th>\n",
       "      <th>COMMENTS</th>\n",
       "      <th>SHARES</th>\n",
       "      <th>ENGAGEMENT_SCORE</th>\n",
       "      <th>CONTENT_URL</th>\n",
       "    </tr>\n",
       "  </thead>\n",
       "  <tbody>\n",
       "    <tr>\n",
       "      <th>0</th>\n",
       "      <td>Travis Oliphant</td>\n",
       "      <td>W50-2023</td>\n",
       "      <td>LinkedIn</td>\n",
       "      <td>2023-12-15 14:42:28+0100</td>\n",
       "      <td>Fri. 15 Dec.</td>\n",
       "      <td>14H42</td>\n",
       "      <td>Good old days stories:</td>\n",
       "      <td>Good old days stories: \\n\\nAs a child, after t...</td>\n",
       "      <td>\"Childhood memories, Timex Sinclair, TI99-4A, ...</td>\n",
       "      <td>289</td>\n",
       "      <td>None</td>\n",
       "      <td>0</td>\n",
       "      <td>36</td>\n",
       "      <td>4</td>\n",
       "      <td>0</td>\n",
       "      <td>0</td>\n",
       "      <td>https://www.linkedin.com/feed/update/urn:li:ac...</td>\n",
       "    </tr>\n",
       "  </tbody>\n",
       "</table>\n",
       "</div>"
      ],
      "text/plain": [
       "            ENTITY  SCENARIO    SOURCE            PUBLISHED_DATE  \\\n",
       "0  Travis Oliphant  W50-2023  LinkedIn  2023-12-15 14:42:28+0100   \n",
       "\n",
       "           DATE   TIME                    TITLE  \\\n",
       "0  Fri. 15 Dec.  14H42  Good old days stories:    \n",
       "\n",
       "                                             CONTENT  \\\n",
       "0  Good old days stories: \\n\\nAs a child, after t...   \n",
       "\n",
       "                                              TOPICS  CONTENT_LENGTH KEYWORDS  \\\n",
       "0  \"Childhood memories, Timex Sinclair, TI99-4A, ...             289     None   \n",
       "\n",
       "   VIEWS  LIKES  COMMENTS  SHARES  ENGAGEMENT_SCORE  \\\n",
       "0      0     36         4       0                 0   \n",
       "\n",
       "                                         CONTENT_URL  \n",
       "0  https://www.linkedin.com/feed/update/urn:li:ac...  "
      ]
     },
     "execution_count": 5,
     "metadata": {},
     "output_type": "execute_result"
    }
   ],
   "source": [
    "# Get topics\n",
    "topics = {}\n",
    "if \"TOPICS\" in df_gsheet.columns:\n",
    "    for row in df_gsheet.itertuples():\n",
    "        topics[row.CONTENT_URL] = row.TOPICS\n",
    "\n",
    "df = df_posts.copy()\n",
    "\n",
    "# Cleaning if title is None and Content = 'Video (native)' -> \"Live\"\n",
    "df.loc[(df[\"TITLE\"].astype(str) == 'None') & (df[\"CONTENT\"] == 'Video (native)'), \"TITLE\"] = \"Live\"\n",
    "df.loc[df[\"TITLE\"].astype(str) == 'Live', \"TEXT\"] = \"Live\"\n",
    "\n",
    "# Select\n",
    "to_select = [\n",
    "    \"AUTHOR_NAME\",\n",
    "    \"PUBLISHED_DATE\",\n",
    "    \"TITLE\",\n",
    "    \"TEXT\",\n",
    "    \"CHARACTER_COUNT\",\n",
    "    \"TAGS\",\n",
    "    \"VIEWS\",\n",
    "    \"LIKES\",\n",
    "    \"COMMENTS\",\n",
    "    \"SHARES\",\n",
    "    \"ENGAGEMENT_SCORE\",\n",
    "    \"POST_URL\"\n",
    "]\n",
    "\n",
    "to_rename = {\n",
    "    \"POST_URL\": \"CONTENT_URL\",\n",
    "    \"AUTHOR_NAME\": \"ENTITY\",\n",
    "    \"TEXT\": \"CONTENT\",\n",
    "    \"CHARACTER_COUNT\": \"CONTENT_LENGTH\",\n",
    "    \"TAGS\": \"KEYWORDS\",\n",
    "}\n",
    "df = df[to_select]\n",
    "df = df.rename(columns=to_rename)\n",
    "df.insert(loc=1, column=\"SCENARIO\", value=pd.to_datetime(df['PUBLISHED_DATE'].str[:19], format='%Y-%m-%d %H:%M:%S').dt.strftime(\"W%W-%Y\"))\n",
    "df.insert(loc=2, column=\"SOURCE\", value=\"LinkedIn\")\n",
    "df.insert(loc=4, column=\"DATE\", value=pd.to_datetime(df['PUBLISHED_DATE'].str[:19], format='%Y-%m-%d %H:%M:%S').dt.strftime(\"%a. %d %b.\"))\n",
    "df.insert(loc=5, column=\"TIME\", value=pd.to_datetime(df['PUBLISHED_DATE'].str[:19], format='%Y-%m-%d %H:%M:%S').dt.strftime('%HH%M'))\n",
    "df.insert(loc=8, column=\"TOPICS\", value=\"TBU\")\n",
    "\n",
    "# Drop duplicates\n",
    "df = pd.concat([df, df_gsheet])\n",
    "df = df.drop_duplicates(\"CONTENT_URL\", keep='first').reset_index(drop=True)\n",
    "\n",
    "# Add new topics\n",
    "prompt = \"Identify the main topics discussed in the content and provide a concise list in a string\"\n",
    "for row in df.itertuples():\n",
    "    content_url = row.CONTENT_URL\n",
    "    content = row.CONTENT\n",
    "    if content_url not in topics:\n",
    "        topic = create_chat_completion(\n",
    "            openai_api_key,\n",
    "            prompt,\n",
    "            content\n",
    "        )\n",
    "        topics[content_url] = topic\n",
    "        pdump(input_dir, topics, \"topics\")\n",
    "df[\"TOPICS\"] = df[\"CONTENT_URL\"].map(topics)\n",
    "\n",
    "print(\"Rows:\", len(df))\n",
    "df.head(1)"
   ]
  },
  {
   "cell_type": "markdown",
   "id": "output_cell",
   "metadata": {
    "papermill": {},
    "tags": []
   },
   "source": [
    "## Output"
   ]
  },
  {
   "cell_type": "markdown",
   "id": "28b11537-6391-4022-b55d-dd1f84cbe97f",
   "metadata": {
    "papermill": {},
    "tags": []
   },
   "source": [
    "### Send data to Google Sheets spreadsheet"
   ]
  },
  {
   "cell_type": "code",
   "execution_count": 6,
   "id": "32e91b35-c1f8-4fe6-ae78-a2d4b79c8be7",
   "metadata": {
    "execution": {
     "iopub.execute_input": "2023-12-16T06:42:20.052792Z",
     "iopub.status.busy": "2023-12-16T06:42:20.052614Z",
     "iopub.status.idle": "2023-12-16T06:42:23.857670Z",
     "shell.execute_reply": "2023-12-16T06:42:23.856481Z",
     "shell.execute_reply.started": "2023-12-16T06:42:20.052770Z"
    },
    "papermill": {},
    "tags": []
   },
   "outputs": [
    {
     "data": {
      "text/plain": [
       "{'insertedRow': 50}"
      ]
     },
     "execution_count": 6,
     "metadata": {},
     "output_type": "execute_result"
    }
   ],
   "source": [
    "gsheet.connect(spreadsheet_url).send(sheet_name=sheet_name, data=df, append=append)"
   ]
  },
  {
   "cell_type": "code",
   "execution_count": null,
   "id": "13cc4241-9a56-4495-9369-bf3de2bcfb42",
   "metadata": {},
   "outputs": [],
   "source": []
  }
 ],
 "metadata": {
  "kernelspec": {
   "display_name": "Python 3",
   "language": "python",
   "name": "python3"
  },
  "language_info": {
   "codemirror_mode": {
    "name": "ipython",
    "version": 3
   },
   "file_extension": ".py",
   "mimetype": "text/x-python",
   "name": "python",
   "nbconvert_exporter": "python",
   "pygments_lexer": "ipython3",
   "version": "3.9.6"
  },
  "naas": {
   "notebook_id": "cf32ecf61a1d6fdcae3273e7e70026564087776ace44ace0a939c08a2085586f",
   "notebook_path": "Google Sheets/Google_Sheets_Send_data.ipynb"
  },
  "papermill": {
   "default_parameters": {},
   "environment_variables": {},
   "parameters": {},
   "version": "2.3.3"
  }
 },
 "nbformat": 4,
 "nbformat_minor": 5
}
