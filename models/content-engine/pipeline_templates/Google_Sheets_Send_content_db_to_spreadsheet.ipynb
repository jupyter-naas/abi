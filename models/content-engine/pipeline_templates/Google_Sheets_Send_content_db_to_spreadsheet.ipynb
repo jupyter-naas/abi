{
 "cells": [
  {
   "cell_type": "markdown",
   "id": "international-creativity",
   "metadata": {
    "papermill": {},
    "tags": []
   },
   "source": [
    "<img width=\"8%\" alt=\"Google Sheets.png\" src=\"https://raw.githubusercontent.com/jupyter-naas/awesome-notebooks/master/.github/assets/logos/Google%20Sheets.png\" style=\"border-radius: 15%\">"
   ]
  },
  {
   "cell_type": "markdown",
   "id": "unlimited-bookmark",
   "metadata": {
    "papermill": {},
    "tags": []
   },
   "source": [
    "# Google Sheets - Send content database to spreadsheet"
   ]
  },
  {
   "cell_type": "markdown",
   "id": "tags_cell",
   "metadata": {
    "papermill": {},
    "tags": []
   },
   "source": [
    "**Tags:** #googlesheets #gsheet #data #naas_drivers #operations #snippet"
   ]
  },
  {
   "cell_type": "markdown",
   "id": "fbbbbc71-6333-4a70-b371-c9b82f8b5299",
   "metadata": {
    "papermill": {},
    "tags": []
   },
   "source": [
    "**Author:** [Florent Ravenel](https://www.linkedin.com/in/florent-ravenel/)"
   ]
  },
  {
   "cell_type": "markdown",
   "id": "naas-description",
   "metadata": {
    "papermill": {},
    "tags": [
     "description"
    ]
   },
   "source": [
    "**Description:** This notebook streamlines the process of getting your content published, enhancing it with topics, and sending it to a Google Sheets spreadsheet."
   ]
  },
  {
   "cell_type": "markdown",
   "id": "input_cell",
   "metadata": {
    "papermill": {},
    "tags": []
   },
   "source": [
    "## Input"
   ]
  },
  {
   "cell_type": "markdown",
   "id": "55d9e878-2148-47e3-a13d-09ba77202893",
   "metadata": {
    "papermill": {},
    "tags": []
   },
   "source": [
    "### Import libraries"
   ]
  },
  {
   "cell_type": "code",
   "execution_count": null,
   "id": "5fad521a-4a18-4dc7-b13d-98a37172715b",
   "metadata": {
    "papermill": {},
    "tags": []
   },
   "outputs": [],
   "source": [
    "from naas_drivers import gsheet\n",
    "import pandas as pd\n",
    "import os\n",
    "from datetime import date\n",
    "import naas_data_product"
   ]
  },
  {
   "cell_type": "markdown",
   "id": "ec39e794-a8cd-41b8-9489-9ddb962a601c",
   "metadata": {
    "papermill": {},
    "tags": []
   },
   "source": [
    "### Setup variables\n",
    "**Inputs**\n",
    "- `input_dir`: Input directory to retrieve file from.\n",
    "- `file_name`: Name of the file to be retrieved.\n",
    "- `openai_api_key`: OpenAI API Key.\n",
    "\n",
    "**Outputs**\n",
    "- `spreadsheet_url`: Google Sheets spreadsheet URL.\n",
    "- `sheet_name`: Google Sheets sheet name.\n",
    "- `output_dir`: Output directory\n",
    "- `file_content`: Name of the file to be saved in your local."
   ]
  },
  {
   "cell_type": "code",
   "execution_count": null,
   "id": "7c34bff6-9136-4aaf-a692-b38129b7de83",
   "metadata": {
    "papermill": {},
    "tags": [
     "parameters"
    ]
   },
   "outputs": [],
   "source": [
    "# Inputs\n",
    "input_dir = os.path.join(naas_data_product.OUTPUTS_PATH, \"content-engine\", date.today().isoformat())\n",
    "file_name = \"linkedin_posts\"\n",
    "openai_api_key = naas.secret.get(\"OPENAI_API_KEY\") or \"YOUR_OPENAI_API_KEY\"\n",
    "\n",
    "# Outputs\n",
    "spreadsheet_url = naas.secret.get(\"ABI_SPREADSHEET\") or \"YOUR_GOOGLE_SPREADSHEET_URL\"\n",
    "sheet_name = \"CONTENT\"\n",
    "output_dir = os.path.join(naas_data_product.OUTPUTS_PATH, \"content-engine\", date.today().isoformat())\n",
    "file_content = \"content\""
   ]
  },
  {
   "cell_type": "markdown",
   "id": "model_cell",
   "metadata": {
    "papermill": {},
    "tags": []
   },
   "source": [
    "## Model"
   ]
  },
  {
   "cell_type": "markdown",
   "id": "b82dbc1b-acf3-4e44-8dac-e4f631787afa",
   "metadata": {
    "papermill": {},
    "tags": []
   },
   "source": [
    "### Get data from Google Sheets spreadsheet"
   ]
  },
  {
   "cell_type": "code",
   "execution_count": null,
   "id": "34407369-03a1-45c4-9768-03222224612b",
   "metadata": {
    "papermill": {},
    "tags": []
   },
   "outputs": [],
   "source": [
    "df_gsheet = gsheet.connect(spreadsheet_url).get(sheet_name=sheet_name)\n",
    "print(\"Rows:\", len(df_gsheet))\n",
    "df_gsheet.head(1)"
   ]
  },
  {
   "cell_type": "markdown",
   "id": "1568d91f-f088-4461-8911-95d8ad591229",
   "metadata": {},
   "source": [
    "### Get posts from local"
   ]
  },
  {
   "cell_type": "code",
   "execution_count": null,
   "id": "57461362-178a-4dbd-81d1-dd27a6291c47",
   "metadata": {
    "tags": []
   },
   "outputs": [],
   "source": [
    "df_posts = pload(input_dir, file_name)    \n",
    "print(\"Rows:\", len(df_posts))\n",
    "df_posts.head(1)"
   ]
  },
  {
   "cell_type": "markdown",
   "id": "1683da4f-41e3-4e11-9c3a-bf01af8ebefe",
   "metadata": {},
   "source": [
    "### Cleaning data"
   ]
  },
  {
   "cell_type": "code",
   "execution_count": null,
   "id": "6823374f-9255-4e54-a125-c8be746acdd4",
   "metadata": {
    "tags": []
   },
   "outputs": [],
   "source": [
    "# Get topics\n",
    "topics = {}\n",
    "if \"TOPICS\" in df_gsheet.columns:\n",
    "    for row in df_gsheet.itertuples():\n",
    "        topics[row.CONTENT_URL] = row.TOPICS\n",
    "\n",
    "df = df_posts.copy()\n",
    "\n",
    "# Cleaning if title is None and Content = 'Video (native)' -> \"Live\"\n",
    "df.loc[(df[\"TITLE\"].astype(str) == 'None') & (df[\"CONTENT\"] == 'Video (native)'), \"TITLE\"] = \"Live\"\n",
    "df.loc[df[\"TITLE\"].astype(str) == 'Live', \"TEXT\"] = \"Live\"\n",
    "\n",
    "# Select\n",
    "to_select = [\n",
    "    \"AUTHOR_NAME\",\n",
    "    \"PUBLISHED_DATE\",\n",
    "    \"TITLE\",\n",
    "    \"TEXT\",\n",
    "    \"CHARACTER_COUNT\",\n",
    "    \"TAGS\",\n",
    "    \"VIEWS\",\n",
    "    \"LIKES\",\n",
    "    \"COMMENTS\",\n",
    "    \"SHARES\",\n",
    "    \"ENGAGEMENT_SCORE\",\n",
    "    \"POST_URL\"\n",
    "]\n",
    "\n",
    "to_rename = {\n",
    "    \"POST_URL\": \"CONTENT_URL\",\n",
    "    \"AUTHOR_NAME\": \"ENTITY\",\n",
    "    \"TEXT\": \"CONTENT\",\n",
    "    \"CHARACTER_COUNT\": \"CONTENT_LENGTH\",\n",
    "    \"TAGS\": \"KEYWORDS\",\n",
    "}\n",
    "df = df[to_select]\n",
    "df = df.rename(columns=to_rename)\n",
    "df.insert(loc=1, column=\"SCENARIO\", value=pd.to_datetime(df['PUBLISHED_DATE'], format='%Y-%m-%d %H:%M:%S%z').dt.tz_convert(TIMEZONE).dt.strftime(\"W%W-%Y\"))\n",
    "df.insert(loc=2, column=\"SOURCE\", value=\"LinkedIn\")\n",
    "df.insert(loc=4, column=\"DATE\", value=pd.to_datetime(df['PUBLISHED_DATE'], format='%Y-%m-%d %H:%M:%S%z').dt.tz_convert(TIMEZONE).dt.strftime(\"%a. %d %b.\"))\n",
    "df.insert(loc=5, column=\"TIME\", value=pd.to_datetime(df['PUBLISHED_DATE'], format='%Y-%m-%d %H:%M:%S%z').dt.tz_convert(TIMEZONE).dt.strftime('%HH%M'))\n",
    "df.insert(loc=8, column=\"TOPICS\", value=\"TBU\")\n",
    "\n",
    "# Drop duplicates\n",
    "df = pd.concat([df, df_gsheet])\n",
    "df = df.drop_duplicates(\"CONTENT_URL\", keep='first').reset_index(drop=True)\n",
    "\n",
    "# Add new topics\n",
    "prompt = \"Identify the main topics discussed in the content and provide a concise list in a string\"\n",
    "for row in df.itertuples():\n",
    "    content_url = row.CONTENT_URL\n",
    "    content = row.CONTENT\n",
    "    if content_url not in topics:\n",
    "        topic = create_chat_completion(\n",
    "            openai_api_key,\n",
    "            prompt,\n",
    "            content\n",
    "        )\n",
    "        topics[content_url] = topic\n",
    "        pdump(input_dir, topics, \"topics\")\n",
    "df[\"TOPICS\"] = df[\"CONTENT_URL\"].map(topics)\n",
    "\n",
    "print(\"Rows:\", len(df))\n",
    "df.head(1)"
   ]
  },
  {
   "cell_type": "markdown",
   "id": "output_cell",
   "metadata": {
    "papermill": {},
    "tags": []
   },
   "source": [
    "## Output"
   ]
  },
  {
   "cell_type": "markdown",
   "id": "03167fbc-99a5-45a4-b186-522f54ce7db6",
   "metadata": {
    "papermill": {},
    "tags": []
   },
   "source": [
    "### Save data"
   ]
  },
  {
   "cell_type": "code",
   "execution_count": null,
   "id": "78cf636b-20c1-4e2e-b6dd-23ac07fbfa46",
   "metadata": {
    "papermill": {},
    "tags": []
   },
   "outputs": [],
   "source": [
    "pdump(output_dir, df, file_content)"
   ]
  },
  {
   "cell_type": "markdown",
   "id": "28b11537-6391-4022-b55d-dd1f84cbe97f",
   "metadata": {
    "papermill": {},
    "tags": []
   },
   "source": [
    "### Send data to Google Sheets spreadsheet"
   ]
  },
  {
   "cell_type": "code",
   "execution_count": null,
   "id": "32e91b35-c1f8-4fe6-ae78-a2d4b79c8be7",
   "metadata": {
    "papermill": {},
    "tags": []
   },
   "outputs": [],
   "source": [
    "gsheet.connect(spreadsheet_url).send(sheet_name=sheet_name, data=df, append=False)"
   ]
  },
  {
   "cell_type": "code",
   "execution_count": null,
   "id": "13cc4241-9a56-4495-9369-bf3de2bcfb42",
   "metadata": {},
   "outputs": [],
   "source": []
  }
 ],
 "metadata": {
  "kernelspec": {
   "display_name": "Python 3",
   "language": "python",
   "name": "python3"
  },
  "language_info": {
   "codemirror_mode": {
    "name": "ipython",
    "version": 3
   },
   "file_extension": ".py",
   "mimetype": "text/x-python",
   "name": "python",
   "nbconvert_exporter": "python",
   "pygments_lexer": "ipython3",
   "version": "3.9.6"
  },
  "naas": {
   "notebook_id": "cf32ecf61a1d6fdcae3273e7e70026564087776ace44ace0a939c08a2085586f",
   "notebook_path": "Google Sheets/Google_Sheets_Send_data.ipynb"
  },
  "papermill": {
   "default_parameters": {},
   "environment_variables": {},
   "parameters": {},
   "version": "2.3.3"
  }
 },
 "nbformat": 4,
 "nbformat_minor": 5
}
