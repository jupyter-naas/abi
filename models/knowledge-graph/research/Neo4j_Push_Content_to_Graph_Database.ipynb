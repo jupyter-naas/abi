{
 "cells": [
  {
   "cell_type": "markdown",
   "metadata": {
    "execution": {
     "iopub.execute_input": "2021-02-23T14:22:16.610471Z",
     "iopub.status.busy": "2021-02-23T14:22:16.610129Z",
     "iopub.status.idle": "2021-02-23T14:22:16.627784Z",
     "shell.execute_reply": "2021-02-23T14:22:16.626866Z",
     "shell.execute_reply.started": "2021-02-23T14:22:16.610384Z"
    },
    "papermill": {},
    "tags": []
   },
   "source": [
    "<img width=\"8%\" alt=\"Neo4j.png\" src=\"https://raw.githubusercontent.com/jupyter-naas/awesome-notebooks/master/.github/assets/logos/Neo4j.png\" style=\"border-radius: 15%\">"
   ]
  },
  {
   "cell_type": "markdown",
   "metadata": {
    "papermill": {},
    "tags": []
   },
   "source": [
    "# Neo4j - Push Content to Graph Database"
   ]
  },
  {
   "cell_type": "markdown",
   "metadata": {
    "papermill": {},
    "tags": []
   },
   "source": [
    "**Tags:** #neo4j #abi #knowledgegraph"
   ]
  },
  {
   "cell_type": "markdown",
   "metadata": {
    "papermill": {},
    "tags": []
   },
   "source": [
    "**Author:** [Florent Ravenel](https://www.linkedin.com/in/florent-ravenel)"
   ]
  },
  {
   "cell_type": "markdown",
   "metadata": {
    "papermill": {},
    "tags": []
   },
   "source": [
    "**Last update:** 2024-04-08 (Created: 2024-03-25)"
   ]
  },
  {
   "cell_type": "markdown",
   "metadata": {
    "papermill": {},
    "tags": []
   },
   "source": [
    "**Description:** This notebook push content data to Neo4j."
   ]
  },
  {
   "cell_type": "markdown",
   "metadata": {},
   "source": [
    "## Input"
   ]
  },
  {
   "cell_type": "markdown",
   "metadata": {},
   "source": [
    "### Import libraries"
   ]
  },
  {
   "cell_type": "code",
   "execution_count": null,
   "metadata": {
    "tags": []
   },
   "outputs": [],
   "source": [
    "import naas_data_product\n",
    "import naas_python as naas\n",
    "try:\n",
    "    import neo4j\n",
    "except:\n",
    "    !pip install neo4j==5.18.0 --user\n",
    "    import neo4j\n",
    "from neo4j import GraphDatabase\n",
    "from pyvis.network import Network\n",
    "import pandas as pd\n",
    "from naas_drivers import gsheet\n",
    "import os\n",
    "import re\n",
    "import random"
   ]
  },
  {
   "cell_type": "markdown",
   "metadata": {},
   "source": [
    "### Setup variables"
   ]
  },
  {
   "cell_type": "code",
   "execution_count": null,
   "metadata": {
    "tags": [
     "parameters"
    ]
   },
   "outputs": [],
   "source": [
    "# Inputs\n",
    "entity_index = \"0\"\n",
    "spreadsheet_url = pload(os.path.join(naas_data_product.OUTPUTS_PATH, \"entities\", entity_index), \"abi_spreadsheet\") or \"\"\n",
    "spreadsheet_url_ref = \"https://docs.google.com/spreadsheets/d/1ofYdsJ8Tq86_FbLBeUuBTB06RAx9cHZ3aea3ScDkPoQ/edit#gid=579458046\"\n",
    "sheet_posts = \"POSTS\"\n",
    "excludes = [\"NA\", \"TBD\", \"None\", \"Not Found\"]\n",
    "\n",
    "# Outputs\n",
    "url = naas.secret.get(\"NEO4J_URI\").value\n",
    "username = naas.secret.get(\"NEO4J_USERNAME\").value\n",
    "password = naas.secret.get(\"NEO4J_PASSWORD\").value\n",
    "output_graph = \"graph.html\"\n",
    "output_file_path = \"cypher_query.txt\""
   ]
  },
  {
   "cell_type": "markdown",
   "metadata": {},
   "source": [
    "## Model"
   ]
  },
  {
   "cell_type": "markdown",
   "metadata": {},
   "source": [
    "### Create empty txt file to store cypher query"
   ]
  },
  {
   "cell_type": "code",
   "execution_count": null,
   "metadata": {
    "tags": []
   },
   "outputs": [],
   "source": [
    "def create_txt_file(file_path, force_update=True):\n",
    "    if not os.path.exists(file_path) or force_update:\n",
    "        data = \"\"\n",
    "        with open(file_path, 'w') as f:  # Open the output file in write mode\n",
    "            f.write(data)  # Write the query to the output file\n",
    "        print(f\"✅ Text file successfully created: '{file_path}'\")\n",
    "\n",
    "create_txt_file(output_file_path)"
   ]
  },
  {
   "cell_type": "markdown",
   "metadata": {},
   "source": [
    "### Connect to GraphDatabase"
   ]
  },
  {
   "cell_type": "code",
   "execution_count": null,
   "metadata": {
    "tags": []
   },
   "outputs": [],
   "source": [
    "driver = GraphDatabase.driver(url, auth=(username, password))"
   ]
  },
  {
   "cell_type": "markdown",
   "metadata": {},
   "source": [
    "### Helper function"
   ]
  },
  {
   "cell_type": "code",
   "execution_count": null,
   "metadata": {
    "tags": []
   },
   "outputs": [],
   "source": [
    "def generate_unique_id_from_text(text):\n",
    "    letters = ''.join(re.findall('[a-zA-Z]+', text))\n",
    "    return ''.join(random.choice(letters) for i in range(len(letters))).lower()\n",
    "\n",
    "def match_node_with_type_and_uid(driver, node_type, uid):\n",
    "    with driver.session() as session:\n",
    "        cypher_query = 'MATCH (n:' + node_type + ' {id: \"' + uid + '\"}) RETURN n'\n",
    "        result = session.run(cypher_query)\n",
    "        return [record[0] for record in result]\n",
    "    \n",
    "def update_txt_file(output_file_path, cypher_query):\n",
    "    with open(output_file_path, 'r') as f:\n",
    "        data = f.read()\n",
    "    data += cypher_query\n",
    "    with open(output_file_path, 'w') as f:  # Open the output file in write mode\n",
    "        f.write(data)  # Write the query to the output file\n",
    "        \n",
    "def clean_string_property(text):\n",
    "    return text.replace(\"'\", \"\\\\'\").replace(\"\\n\", \"\\\\n\").strip()\n",
    "\n",
    "def create_node(\n",
    "    driver,\n",
    "    node_type,\n",
    "    node_id,\n",
    "    node_id_label=\"id\",\n",
    "    properties=[],\n",
    "    output_file_path='cypher_query.txt'\n",
    "):\n",
    "    # Function to create a node with custom type and properties in Neo4j\n",
    "    def create_custom_node(tx, node_type, node_id, node_id_label, properties):        \n",
    "        # Init\n",
    "        v = generate_unique_id_from_text(node_id)\n",
    "        \n",
    "        # Prepare properties string for Cypher query\n",
    "        properties_list = []\n",
    "        for key, value in properties.items():\n",
    "            if value not in excludes:\n",
    "                if 'date' in key:\n",
    "                    value = value.replace(\" \", \"T\")\n",
    "                    properties_list.append(f\"{v}.{key} = datetime('{value}')\")\n",
    "                elif isinstance(value, int) or isinstance(value, float):\n",
    "                    properties_list.append(f\"{v}.{key} = {value}\")\n",
    "                else:\n",
    "                    value = clean_string_property(value)\n",
    "                    properties_list.append(f\"{v}.{key} = '{value}'\")\n",
    "        properties_str = ', '.join(properties_list)\n",
    "        \n",
    "        # Create cypher query\n",
    "        cypher_query = f\"MERGE ({v}:{node_type} {{{node_id_label}: '{node_id}'}}) SET {properties_str} \"\n",
    "        tx.run(cypher_query)\n",
    "        print(f\"✔️ Node '{node_id}' created successfully.\")\n",
    "        \n",
    "        # Save in txt file\n",
    "        update_txt_file(output_file_path, cypher_query)\n",
    "\n",
    "    ### Use the driver to create a session and run the function\n",
    "    with driver.session() as session:\n",
    "        session.execute_write(create_custom_node, node_type, node_id, node_id_label, properties)\n",
    "                    \n",
    "def create_nodes(\n",
    "    driver,\n",
    "    node_type,\n",
    "    data,\n",
    "    output_file_path='cypher_query.txt'\n",
    "):\n",
    "    # Cleaning\n",
    "    node_label = node_type.strip().replace('_', '')\n",
    "    \n",
    "    # Check if nodes already created\n",
    "    for d in data:\n",
    "        create_node(\n",
    "            driver,\n",
    "            node_label,\n",
    "            d.get(\"id\"),\n",
    "            node_id_label=\"id\",\n",
    "            properties=d,\n",
    "            output_file_path=output_file_path\n",
    "        )\n",
    "    print(f\"✅ Nodes type '{node_label}' successfully created (total: {len(data)})\")\n",
    "    return data\n",
    "\n",
    "def create_node_from_gsheet(\n",
    "    driver,\n",
    "    spreadsheet_url,\n",
    "    sheet_name,\n",
    "    output_file_path,\n",
    "):\n",
    "    # Prep data\n",
    "    df = gsheet.connect(spreadsheet_url).get(sheet_name=sheet_name)\n",
    "    if \"id\" not in df.columns:\n",
    "        df[\"id\"] = df[\"name\"].str.lower().str.strip().str.replace(' ', '_')\n",
    "    data = df.to_dict(orient=\"records\")\n",
    "\n",
    "    # Create nodes\n",
    "    create_nodes(driver, sheet_name, data, output_file_path)\n",
    "    return df\n",
    "\n",
    "def create_nodes_from_single_column(df, column):\n",
    "    # Init\n",
    "    df = df[~df[column].isin([\"Not Found\", \"NA\", \"TBD\"])].reset_index(drop=True)\n",
    "    data = []\n",
    "    for x in df[column].unique().tolist():\n",
    "        data.append({\"id\": x.lower(), \"name\": f\"{x}\"})\n",
    "    return data"
   ]
  },
  {
   "cell_type": "markdown",
   "metadata": {},
   "source": [
    "### ProfessionalRole"
   ]
  },
  {
   "cell_type": "code",
   "execution_count": null,
   "metadata": {
    "tags": []
   },
   "outputs": [],
   "source": [
    "data_professionalrole = create_node_from_gsheet(driver, spreadsheet_url_ref, \"ProfessionalRole\", output_file_path)"
   ]
  },
  {
   "cell_type": "markdown",
   "metadata": {},
   "source": [
    "### Sentiment"
   ]
  },
  {
   "cell_type": "code",
   "execution_count": null,
   "metadata": {
    "tags": []
   },
   "outputs": [],
   "source": [
    "data_sentiment = create_node_from_gsheet(driver, spreadsheet_url_ref, \"Sentiment\", output_file_path)"
   ]
  },
  {
   "cell_type": "markdown",
   "metadata": {},
   "source": [
    "### Objective"
   ]
  },
  {
   "cell_type": "code",
   "execution_count": null,
   "metadata": {
    "tags": []
   },
   "outputs": [],
   "source": [
    "data_objective = create_node_from_gsheet(driver, spreadsheet_url_ref, \"Objective\", output_file_path)"
   ]
  },
  {
   "cell_type": "markdown",
   "metadata": {},
   "source": [
    "### Content"
   ]
  },
  {
   "cell_type": "code",
   "execution_count": null,
   "metadata": {
    "tags": []
   },
   "outputs": [],
   "source": [
    "# Node name\n",
    "content_node = \"Content\"\n",
    "\n",
    "# Get data from gsheet\n",
    "df_content = gsheet.connect(spreadsheet_url).get(sheet_name=sheet_posts)\n",
    "df = df_content.copy()\n",
    "df.columns = df.columns.str.lower()\n",
    "data = df.drop([\"date\", \"time\"], axis=1).to_dict(orient=\"records\")\n",
    "\n",
    "# Create nodes\n",
    "data_content = create_nodes(driver, content_node, data, output_file_path)"
   ]
  },
  {
   "cell_type": "markdown",
   "metadata": {},
   "source": [
    "#### Create Content Type node"
   ]
  },
  {
   "cell_type": "code",
   "execution_count": null,
   "metadata": {
    "tags": []
   },
   "outputs": [],
   "source": [
    "data_content_type = create_nodes(driver, \"ContentType\", create_nodes_from_single_column(df_content, \"TYPE\"), output_file_path)"
   ]
  },
  {
   "cell_type": "markdown",
   "metadata": {
    "execution": {
     "iopub.execute_input": "2024-04-08T15:08:43.876010Z",
     "iopub.status.busy": "2024-04-08T15:08:43.875776Z",
     "iopub.status.idle": "2024-04-08T15:08:43.880158Z",
     "shell.execute_reply": "2024-04-08T15:08:43.879608Z",
     "shell.execute_reply.started": "2024-04-08T15:08:43.875987Z"
    },
    "tags": []
   },
   "source": [
    "#### Create Content relationships with Concept, Sentiment, Target, Objective, People, Organization, ContentType"
   ]
  },
  {
   "cell_type": "code",
   "execution_count": null,
   "metadata": {
    "tags": []
   },
   "outputs": [],
   "source": [
    "def create_content_relationships(\n",
    "    text,\n",
    "    node_label,\n",
    "    relationship,\n",
    "    content_id,\n",
    "    output_file_path\n",
    "):\n",
    "    if text not in excludes:\n",
    "        for t in text.split(\"|\"):\n",
    "            name = t.split(\":\", 1)[0]\n",
    "            summary = t.split(\":\", 1)[1]\n",
    "            uid = name.lower().strip().replace(' ', '_')\n",
    "            data = {\"id\": uid, \"name\": name}\n",
    "            nodes = match_node_with_type_and_uid(driver, node_label, uid)\n",
    "            if len(nodes) == 0:\n",
    "                create_nodes(driver, node_label, [data], output_file_path)\n",
    "            a = generate_unique_id_from_text(content_id)\n",
    "            b = generate_unique_id_from_text(uid)\n",
    "            c = generate_unique_id_from_text(relationship)\n",
    "            # Create relationships\n",
    "            with driver.session() as session:\n",
    "                cypher_query = \"MERGE (\" + a + \":Content {id: '\" + content_id + \"'}) MERGE (\" + b + \":\" + node_label + \" {id: '\" + uid + \"'}) MERGE (\" + a + \")-[\" + c + \":\" + relationship + \"]->(\" + b + \") SET \" + c + \".summary = '\" + clean_string_property(summary) + \"' \"\n",
    "                session.run(cypher_query)\n",
    "            \n",
    "            # Update txt file\n",
    "            update_txt_file(output_file_path, cypher_query)\n",
    "    \n",
    "content_relationships = \"ContentRelationsShips\"\n",
    "\n",
    "# Create RelationShips\n",
    "for row in df_content.itertuples():\n",
    "    uid = str(row.ID)\n",
    "    concepts = str(row.CONCEPT)\n",
    "    sentiments = str(row.SENTIMENT)\n",
    "    targets = str(row.TARGET)\n",
    "    objectives = str(row.OBJECTIVE)\n",
    "\n",
    "    create_content_relationships(concepts, \"Concept\", \"DISCUSSES\", uid, output_file_path)\n",
    "    create_content_relationships(sentiments, \"Sentiment\", \"EXPRESSES\", uid, output_file_path)\n",
    "    create_content_relationships(targets, \"ProfessionalRole\", \"TARGETS\", uid, output_file_path)\n",
    "    create_content_relationships(objectives, \"Objective\", \"AIMS_TO_ACHIEVE\", uid, output_file_path)\n",
    "\n",
    "    # Create relationships\n",
    "    content_type = str(row.TYPE)\n",
    "    article_shared = str(row.CONTENT_URL_SHARED)\n",
    "    image_shared = str(row.IMAGE_SHARED)\n",
    "    url_shared = \"\"\n",
    "    if article_shared not in excludes:\n",
    "        url_shared = article_shared\n",
    "    elif image_shared not in excludes:\n",
    "        url_shared = image_shared\n",
    "    else:\n",
    "        url_shared = \"\"\n",
    "        \n",
    "    a = generate_unique_id_from_text(uid)\n",
    "    b = generate_unique_id_from_text(content_type)\n",
    "    c = generate_unique_id_from_text(\"IS_TYPE\")\n",
    "    with driver.session() as session:\n",
    "        cypher_query = \"MERGE (\" + a + \":Content {id: '\" + uid + \"'}) MERGE (\" + b + \":ContentType {name: '\" + content_type + \"'}) MERGE (\" + a + \")-[\" + c + \":IS_TYPE]->(\" + b + \") SET \" + c + \".url = '\" + url_shared + \"' \"\n",
    "        session.run(cypher_query)\n",
    "        \n",
    "    # Update txt file\n",
    "    update_txt_file(output_file_path, cypher_query)"
   ]
  },
  {
   "cell_type": "markdown",
   "metadata": {},
   "source": [
    "### Close Neo4j connection"
   ]
  },
  {
   "cell_type": "code",
   "execution_count": null,
   "metadata": {
    "tags": []
   },
   "outputs": [],
   "source": [
    "driver.close()"
   ]
  },
  {
   "cell_type": "markdown",
   "metadata": {},
   "source": [
    "## Output"
   ]
  },
  {
   "cell_type": "markdown",
   "metadata": {},
   "source": [
    "### Create Pyvis"
   ]
  },
  {
   "cell_type": "code",
   "execution_count": null,
   "metadata": {
    "tags": []
   },
   "outputs": [],
   "source": [
    "import naas\n",
    "\n",
    "# Query your graph data\n",
    "def get_graph_data(tx):\n",
    "    result = tx.run(\"MATCH (n)-[r]->(m) RETURN n, r, m\")\n",
    "    return [(record[\"n\"], record[\"r\"], record[\"m\"]) for record in result]\n",
    "\n",
    "with driver.session() as session:\n",
    "    graph_data = session.execute_read(get_graph_data)\n",
    "\n",
    "# Create a new PyVis graph\n",
    "net = Network(\n",
    "    notebook=True, height=\"100%\", width=\"100%\", bgcolor=\"#222222\", font_color=\"lightgrey\"\n",
    ")\n",
    "\n",
    "# Adjust the spring length (edge length)\n",
    "net.force_atlas_2based(gravity=-50, central_gravity=0.01, spring_length=100, spring_strength=0.08, damping=0.4, overlap=0)\n",
    "\n",
    "# Define colors for different node labels\n",
    "colors = {\n",
    "    \"Content\": \"lightblue\",\n",
    "    \"Concept\": \"#f24f4f\",\n",
    "    \"Sentiment\": \"#F26C4F\",\n",
    "    \"ProfessionalRole\": \"#741fb5\",\n",
    "    \"Objective\": \"#767dcf\",\n",
    "    \"ContentType\": \"#c476ff\",\n",
    "#     \"People\": \"#f2f24f\",\n",
    "#     \"ProfessionalRole\": \"#525217\",\n",
    "}\n",
    "# Add nodes and edges to the PyVis graph\n",
    "nodes = []\n",
    "for n, r, m in graph_data:\n",
    "    n_label = next(iter(n.labels)) if n.labels else None\n",
    "    if n_label not in nodes:\n",
    "        nodes.append(n_label)\n",
    "    m_label = next(iter(m.labels)) if m.labels else None\n",
    "    if m_label not in nodes:\n",
    "        nodes.append(m_label)\n",
    "    n_name = n[\"name\"]\n",
    "    if n_label == \"Content\":\n",
    "        n_name = n[\"title\"]\n",
    "    if len(n_name) > 30:\n",
    "        n_name = n_name[:27] + \"...\"\n",
    "        \n",
    "    m_name = m[\"name\"]\n",
    "    if m_label == \"Content\":\n",
    "        m_name = m[\"title\"]\n",
    "    if len(m_name) > 30:\n",
    "        m_name = m_name[:27] + \"...\"\n",
    "    net.add_node(n.element_id, label=n_name, title=n_label, color=colors.get(n_label, \"gray\"))\n",
    "    net.add_node(m.element_id, label=m_name, title=m_label, color=colors.get(m_label, \"gray\"))\n",
    "    net.add_edge(n.element_id, m.element_id, title=r.type, label=(r.type).capitalize(), arrows={\"to\": {\"enabled\": True, \"scaleFactor\": 2.0}}, font={\"size\": 10})\n",
    "\n",
    "# Show the graph\n",
    "network = net.show(output_graph)\n",
    "naas.asset.add(output_graph, {\"inline\": True})\n",
    "\n",
    "driver.close()"
   ]
  },
  {
   "cell_type": "code",
   "execution_count": null,
   "metadata": {},
   "outputs": [],
   "source": []
  }
 ],
 "metadata": {
  "kernelspec": {
   "display_name": "Python 3",
   "language": "python",
   "name": "python3"
  },
  "language_info": {
   "codemirror_mode": {
    "name": "ipython",
    "version": 3
   },
   "file_extension": ".py",
   "mimetype": "text/x-python",
   "name": "python",
   "nbconvert_exporter": "python",
   "pygments_lexer": "ipython3",
   "version": "3.9.6"
  }
 },
 "nbformat": 4,
 "nbformat_minor": 4
}
