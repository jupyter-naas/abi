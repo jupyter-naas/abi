{
 "cells": [
  {
   "cell_type": "markdown",
   "metadata": {
    "execution": {
     "iopub.execute_input": "2021-02-23T14:22:16.610471Z",
     "iopub.status.busy": "2021-02-23T14:22:16.610129Z",
     "iopub.status.idle": "2021-02-23T14:22:16.627784Z",
     "shell.execute_reply": "2021-02-23T14:22:16.626866Z",
     "shell.execute_reply.started": "2021-02-23T14:22:16.610384Z"
    },
    "papermill": {},
    "tags": []
   },
   "source": [
    "<img width=\"8%\" alt=\"Neo4j.png\" src=\"https://raw.githubusercontent.com/jupyter-naas/awesome-notebooks/master/.github/assets/logos/Neo4j.png\" style=\"border-radius: 15%\">"
   ]
  },
  {
   "cell_type": "markdown",
   "metadata": {
    "papermill": {},
    "tags": []
   },
   "source": [
    "# Neo4j - Push Content to Graph Database"
   ]
  },
  {
   "cell_type": "markdown",
   "metadata": {
    "papermill": {},
    "tags": []
   },
   "source": [
    "**Tags:** #neo4j #abi #knowledgegraph"
   ]
  },
  {
   "cell_type": "markdown",
   "metadata": {
    "papermill": {},
    "tags": []
   },
   "source": [
    "**Author:** [Florent Ravenel](https://www.linkedin.com/in/florent-ravenel)"
   ]
  },
  {
   "cell_type": "markdown",
   "metadata": {
    "papermill": {},
    "tags": []
   },
   "source": [
    "**Last update:** 2024-04-08 (Created: 2024-03-25)"
   ]
  },
  {
   "cell_type": "markdown",
   "metadata": {
    "papermill": {},
    "tags": []
   },
   "source": [
    "**Description:** This notebook creates ABI Knowledge Graph in Neo4j."
   ]
  },
  {
   "cell_type": "markdown",
   "metadata": {},
   "source": [
    "## Input"
   ]
  },
  {
   "cell_type": "markdown",
   "metadata": {},
   "source": [
    "### Import libraries"
   ]
  },
  {
   "cell_type": "code",
   "execution_count": null,
   "metadata": {
    "tags": []
   },
   "outputs": [],
   "source": [
    "import naas\n",
    "try:\n",
    "    import neo4j\n",
    "except:\n",
    "    !pip install neo4j==5.18.0 --user\n",
    "    import neo4j\n",
    "from neo4j import GraphDatabase\n",
    "from pyvis.network import Network\n",
    "import pandas as pd\n",
    "from naas_drivers import gsheet\n",
    "import os"
   ]
  },
  {
   "cell_type": "markdown",
   "metadata": {},
   "source": [
    "### Setup variables"
   ]
  },
  {
   "cell_type": "code",
   "execution_count": null,
   "metadata": {
    "tags": []
   },
   "outputs": [],
   "source": [
    "# Inputs\n",
    "spreadsheet_url = pload(os.path.join(naas_data_product.OUTPUTS_PATH, \"entities\", entity_index), \"abi_spreadsheet\") or \"\"\n",
    "sheet_posts = \"DATASET_POSTS\"\n",
    "excludes = [\"NA\", \"TBD\", \"None\", \"Not Found\"]\n",
    "\n",
    "# Outputs\n",
    "url = \"neo4j+s://d3eeda32.databases.neo4j.io:7687\"\n",
    "username = naas.secret.get(\"NEO4J_USERNAME\")\n",
    "password = naas.secret.get(\"NEO4J_PASSWORD\")\n",
    "output_graph = os.path.join(\"..\", \"outputs\", \"graph.html\")"
   ]
  },
  {
   "cell_type": "markdown",
   "metadata": {},
   "source": [
    "## Model"
   ]
  },
  {
   "cell_type": "markdown",
   "metadata": {},
   "source": [
    "### Helper Functions"
   ]
  },
  {
   "cell_type": "code",
   "execution_count": null,
   "metadata": {
    "tags": []
   },
   "outputs": [],
   "source": [
    "def set_properties(tx, node_label, d, properties):\n",
    "    uid = d.get(\"id\").strip().replace(' ', '_').replace(\"'\", \"\")\n",
    "    merge = f\"MERGE (a:\" + node_label + \" {id: '\" + str(uid) + \"'})\"\n",
    "    for prop in properties:\n",
    "        value = d.get(prop)\n",
    "        set_property = \"SET a.\" + prop + \" = $value\"\n",
    "        if \"date\" in prop and value not in excludes:\n",
    "            value = value.replace(\" \", \"T\")\n",
    "            set_property = \"SET a.\" + prop + \" = datetime($value)\"\n",
    "        tx.run(\n",
    "            f\"{merge} {set_property}\",\n",
    "            value=value\n",
    "        )\n",
    "                    \n",
    "def create_nodes(\n",
    "    driver,\n",
    "    node_label,\n",
    "    data,\n",
    "    properties=[\"name\"],\n",
    "):\n",
    "    # Cleaning\n",
    "    node_label = node_label.strip().replace('_', '')\n",
    "    \n",
    "    # Check if nodes already created\n",
    "    for d in data:\n",
    "        with driver.session() as session:\n",
    "            session.execute_write(set_properties, node_label, d, properties)\n",
    "    print(f\"✅ Nodes '{node_label}' successfully created (total: {len(data)})\")\n",
    "    return data\n",
    "\n",
    "def create_node_from_gsheet(\n",
    "    driver,\n",
    "    spreadsheet_url,\n",
    "    sheet_name,\n",
    "):\n",
    "    # Prep data\n",
    "    df = gsheet.connect(spreadsheet_url).get(sheet_name=sheet_name)\n",
    "    if \"id\" not in df.columns:\n",
    "        df[\"id\"] = df[\"name\"].str.lower().str.strip().str.replace(' ', '_')\n",
    "    data = df.to_dict(orient=\"records\")\n",
    "    properties = list(df.columns)\n",
    "    properties.remove(\"id\")\n",
    "    \n",
    "    # Create nodes\n",
    "    create_nodes(driver, sheet_name, data, properties)\n",
    "    return df\n",
    "\n",
    "def clean_df(\n",
    "    df_init,\n",
    "    to_keep,\n",
    "    to_rename,\n",
    "):\n",
    "    # Init\n",
    "    df = df_init.copy()\n",
    "            \n",
    "    # Cleaning\n",
    "    df = df[to_keep].rename(columns=to_rename)\n",
    "    df = df[~df[\"ID\"].isin([\"TBD\", \"NA\"])]\n",
    "    df[\"ID\"] = df[\"ID\"].astype(str)\n",
    "    df.columns = df.columns.str.lower()\n",
    "    return df.reset_index(drop=True)\n",
    "\n",
    "def send_graph_data_to_gsheet(\n",
    "    df_init,\n",
    "    to_keep,\n",
    "    to_rename,\n",
    "    spreadsheet_url,\n",
    "    sheet_name\n",
    "):\n",
    "    # Init\n",
    "    df = df_init.copy()\n",
    "        \n",
    "    # Cleaning\n",
    "    df = clean_df(df_init, to_keep, to_rename)\n",
    "    \n",
    "    # Send data to gsheet\n",
    "    send_data_to_gsheet(df, pd.DataFrame(), spreadsheet_url, sheet_name)\n",
    "    return df\n",
    "\n",
    "def create_nodes_from_single_column(df, column):\n",
    "    # Init\n",
    "    df = df[~df[column].isin([\"Not Found\", \"NA\", \"TBD\"])].reset_index(drop=True)\n",
    "    data = []\n",
    "    for x in df[column].unique().tolist():\n",
    "        data.append({\"id\": x.lower(), \"name\": f\"{x}\"})\n",
    "    return data"
   ]
  },
  {
   "cell_type": "markdown",
   "metadata": {},
   "source": [
    "### Connect to GraphDatabase"
   ]
  },
  {
   "cell_type": "code",
   "execution_count": null,
   "metadata": {
    "tags": []
   },
   "outputs": [],
   "source": [
    "driver = GraphDatabase.driver(url, auth=(username, password))"
   ]
  },
  {
   "cell_type": "markdown",
   "metadata": {},
   "source": [
    "### ProfessionalRole"
   ]
  },
  {
   "cell_type": "code",
   "execution_count": null,
   "metadata": {
    "tags": []
   },
   "outputs": [],
   "source": [
    "data_professionalrole = create_node_from_gsheet(driver, spreadsheet_url, \"ProfessionalRole\")"
   ]
  },
  {
   "cell_type": "markdown",
   "metadata": {},
   "source": [
    "### Sentiment"
   ]
  },
  {
   "cell_type": "code",
   "execution_count": null,
   "metadata": {
    "tags": []
   },
   "outputs": [],
   "source": [
    "data_sentiment = create_node_from_gsheet(driver, spreadsheet_url, \"Sentiment\")"
   ]
  },
  {
   "cell_type": "markdown",
   "metadata": {},
   "source": [
    "### Objective"
   ]
  },
  {
   "cell_type": "code",
   "execution_count": null,
   "metadata": {
    "tags": []
   },
   "outputs": [],
   "source": [
    "data_objective = create_node_from_gsheet(driver, spreadsheet_url, \"Objective\")"
   ]
  },
  {
   "cell_type": "markdown",
   "metadata": {},
   "source": [
    "### Content"
   ]
  },
  {
   "cell_type": "code",
   "execution_count": null,
   "metadata": {
    "tags": []
   },
   "outputs": [],
   "source": [
    "# Node name\n",
    "content_node = \"Content\"\n",
    "\n",
    "# Get data from gsheet\n",
    "df_content = gsheet.connect(spreadsheet_url).get(sheet_name=sheet_posts)\n",
    "df = df_content.copy()\n",
    "df.columns = df.columns.str.lower()\n",
    "data = df.to_dict(orient=\"records\")\n",
    "properties = list(df.columns)\n",
    "properties.remove(\"id\")\n",
    "\n",
    "# Create nodes\n",
    "data_content = create_nodes(driver, content_node, data, properties)"
   ]
  },
  {
   "cell_type": "markdown",
   "metadata": {},
   "source": [
    "#### Create Content Type node"
   ]
  },
  {
   "cell_type": "code",
   "execution_count": null,
   "metadata": {
    "tags": []
   },
   "outputs": [],
   "source": [
    "data_content_type = create_nodes(driver, \"ContentType\", create_nodes_from_single_column(df_content, \"TYPE\"))"
   ]
  },
  {
   "cell_type": "markdown",
   "metadata": {
    "execution": {
     "iopub.execute_input": "2024-04-08T15:08:43.876010Z",
     "iopub.status.busy": "2024-04-08T15:08:43.875776Z",
     "iopub.status.idle": "2024-04-08T15:08:43.880158Z",
     "shell.execute_reply": "2024-04-08T15:08:43.879608Z",
     "shell.execute_reply.started": "2024-04-08T15:08:43.875987Z"
    },
    "tags": []
   },
   "source": [
    "#### Create Content relationships with Concept, Sentiment, Target, Objective, People, Organization, ContentType"
   ]
  },
  {
   "cell_type": "code",
   "execution_count": null,
   "metadata": {
    "tags": []
   },
   "outputs": [],
   "source": [
    "def create_content_relationships(\n",
    "    text,\n",
    "    node_label,\n",
    "    relationship,\n",
    "    content_id\n",
    "):\n",
    "    if text not in excludes:\n",
    "        for t in text.split(\"|\"):\n",
    "            name = t.split(\":\", 1)[0]\n",
    "            summary = t.split(\":\", 1)[1]\n",
    "            uid = name.lower().strip().replace(' ', '_')\n",
    "            data = {\"id\": uid, \"name\": name}\n",
    "            properties = [\"name\"]\n",
    "\n",
    "            # Create node\n",
    "            with driver.session() as session:\n",
    "                session.execute_write(set_properties, node_label, data, properties)\n",
    "\n",
    "            # Create relationships\n",
    "            with driver.session() as session:\n",
    "                cypher_query = 'MATCH (a:Content {id: \"' + content_id + '\"}), (b:' + node_label + ' {id: \"' + uid + '\"}) MERGE (a)-[c:' + relationship + ']->(b) SET c.summary = \"' + summary.strip() + '\"'\n",
    "                session.run(cypher_query)\n",
    "    \n",
    "content_relationships = \"ContentRelationsShips\"\n",
    "\n",
    "# Create RelationShips\n",
    "for row in df_content.itertuples():\n",
    "    uid = str(row.ID)\n",
    "    concepts = str(row.CONCEPT)\n",
    "    sentiments = str(row.SENTIMENT)\n",
    "    targets = str(row.TARGET)\n",
    "    objectives = str(row.OBJECTIVE)\n",
    "\n",
    "\n",
    "    create_content_relationships(concepts, \"Concept\", \"DISCUSSES\", uid)\n",
    "    create_content_relationships(sentiments, \"Sentiment\", \"EXPRESSES\", uid)\n",
    "    create_content_relationships(targets, \"ProfessionalRole\", \"TARGETS\", uid)\n",
    "    create_content_relationships(objectives, \"Objective\", \"AIMS_TO_ACHIEVE\", uid)\n",
    "\n",
    "    # Create relationships\n",
    "    content_type = str(row.TYPE)\n",
    "    article_shared = str(row.CONTENT_URL_SHARED)\n",
    "    image_shared = str(row.IMAGE_SHARED)\n",
    "    url_shared = \"\"\n",
    "    if article_shared not in excludes:\n",
    "        url_shared = article_shared\n",
    "    elif image_shared not in excludes:\n",
    "        url_shared = image_shared\n",
    "    else:\n",
    "        url_shared = \"\"\n",
    "\n",
    "    with driver.session() as session:\n",
    "        cypher_query = 'MATCH (a:Content {id: \"' + uid + '\"}), (b:ContentType {name: \"' + content_type + '\"}) MERGE (a)-[c:IS_TYPE]->(b) SET c.url = \"' + url_shared + '\"'\n",
    "        session.run(cypher_query)"
   ]
  },
  {
   "cell_type": "markdown",
   "metadata": {},
   "source": [
    "### Close Neo4j connection"
   ]
  },
  {
   "cell_type": "code",
   "execution_count": null,
   "metadata": {
    "tags": []
   },
   "outputs": [],
   "source": [
    "driver.close()"
   ]
  },
  {
   "cell_type": "markdown",
   "metadata": {},
   "source": [
    "## Output"
   ]
  },
  {
   "cell_type": "markdown",
   "metadata": {},
   "source": [
    "### Create Pyvis"
   ]
  },
  {
   "cell_type": "code",
   "execution_count": null,
   "metadata": {
    "tags": []
   },
   "outputs": [],
   "source": [
    "# Query your graph data\n",
    "def get_graph_data(tx):\n",
    "    result = tx.run(\"MATCH (n)-[r]->(m) RETURN n, r, m\")\n",
    "    return [(record[\"n\"], record[\"r\"], record[\"m\"]) for record in result]\n",
    "\n",
    "with driver.session() as session:\n",
    "    graph_data = session.execute_read(get_graph_data)\n",
    "\n",
    "# Create a new PyVis graph\n",
    "net = Network(\n",
    "    notebook=True, height=\"100%\", width=\"100%\", bgcolor=\"#222222\", font_color=\"lightgrey\"\n",
    ")\n",
    "\n",
    "# Adjust the spring length (edge length)\n",
    "net.force_atlas_2based(gravity=-50, central_gravity=0.01, spring_length=100, spring_strength=0.08, damping=0.4, overlap=0)\n",
    "\n",
    "# Define colors for different node labels\n",
    "colors = {\n",
    "    \"Content\": \"lightblue\",\n",
    "    \"Concept\": \"#f24f4f\",\n",
    "    \"Sentiment\": \"#F26C4F\",\n",
    "    \"ProfessionalRole\": \"#741fb5\",\n",
    "    \"Objective\": \"#767dcf\",\n",
    "    \"ContentType\": \"#c476ff\",\n",
    "#     \"People\": \"#f2f24f\",\n",
    "#     \"ProfessionalRole\": \"#525217\",\n",
    "}\n",
    "# Add nodes and edges to the PyVis graph\n",
    "nodes = []\n",
    "for n, r, m in graph_data:\n",
    "    n_label = next(iter(n.labels)) if n.labels else None\n",
    "    if n_label not in nodes:\n",
    "        nodes.append(n_label)\n",
    "    m_label = next(iter(m.labels)) if m.labels else None\n",
    "    if m_label not in nodes:\n",
    "        nodes.append(m_label)\n",
    "    n_name = n[\"name\"]\n",
    "    if n_label == \"Content\":\n",
    "        n_name = n[\"title\"]\n",
    "    if len(n_name) > 30:\n",
    "        n_name = n_name[:27] + \"...\"\n",
    "        \n",
    "    m_name = m[\"name\"]\n",
    "    if m_label == \"Content\":\n",
    "        m_name = m[\"title\"]\n",
    "    if len(m_name) > 30:\n",
    "        m_name = m_name[:27] + \"...\"\n",
    "    net.add_node(n.element_id, label=n_name, title=n_label, color=colors.get(n_label, \"gray\"))\n",
    "    net.add_node(m.element_id, label=m_name, title=m_label, color=colors.get(m_label, \"gray\"))\n",
    "    net.add_edge(n.element_id, m.element_id, title=r.type, label=(r.type).capitalize(), arrows={\"to\": {\"enabled\": True, \"scaleFactor\": 2.0}}, font={\"size\": 10})\n",
    "\n",
    "# Show the graph\n",
    "network = net.show(output_graph)\n",
    "naas.asset.add(output_graph, {\"inline\": True})\n",
    "\n",
    "driver.close()"
   ]
  },
  {
   "cell_type": "code",
   "execution_count": null,
   "metadata": {},
   "outputs": [],
   "source": []
  }
 ],
 "metadata": {
  "kernelspec": {
   "display_name": "Python 3",
   "language": "python",
   "name": "python3"
  },
  "language_info": {
   "codemirror_mode": {
    "name": "ipython",
    "version": 3
   },
   "file_extension": ".py",
   "mimetype": "text/x-python",
   "name": "python",
   "nbconvert_exporter": "python",
   "pygments_lexer": "ipython3",
   "version": "3.9.6"
  }
 },
 "nbformat": 4,
 "nbformat_minor": 4
}
