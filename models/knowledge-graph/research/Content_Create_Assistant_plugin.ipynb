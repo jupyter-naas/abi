{
 "cells": [
  {
   "cell_type": "markdown",
   "id": "b389a8b8-3546-4092-ad52-52227c5a5c8e",
   "metadata": {
    "papermill": {},
    "tags": []
   },
   "source": [
    "<img width=\"8%\" alt=\"Content\" src=\"https://naasai-public.s3.eu-west-3.amazonaws.com/abi-demo/content_creation.png\" style=\"border-radius: 15%\">"
   ]
  },
  {
   "cell_type": "markdown",
   "id": "a5b2c509-2c29-49e8-af91-4f3f1e386da3",
   "metadata": {
    "papermill": {},
    "tags": []
   },
   "source": [
    "# Content - Create Assistant plugin"
   ]
  },
  {
   "cell_type": "markdown",
   "id": "d77fe283-4edd-42d3-a909-8e207d4b842f",
   "metadata": {
    "papermill": {},
    "tags": []
   },
   "source": [
    "**Tags:** #content #chat #plugin #ai #naaschatplugin #naas #naas_driver"
   ]
  },
  {
   "cell_type": "markdown",
   "id": "b90f2d91-c886-4e36-8265-b09d06bb1c7f",
   "metadata": {
    "papermill": {},
    "tags": []
   },
   "source": [
    "**Author:** [Florent Ravenel](https://www.linkedin.com/in/florent-ravenel)"
   ]
  },
  {
   "cell_type": "markdown",
   "id": "214749fe-7f0b-4755-b7ea-1d200c234cc6",
   "metadata": {
    "papermill": {},
    "tags": []
   },
   "source": [
    "**Description:** This notebook creates the Content Assistant plugin."
   ]
  },
  {
   "cell_type": "markdown",
   "id": "cff349c8-2816-4ae4-9229-027c068eeb51",
   "metadata": {
    "papermill": {},
    "tags": []
   },
   "source": [
    "## Input"
   ]
  },
  {
   "cell_type": "markdown",
   "id": "80266a9e-fe54-4f3e-aeb2-01483bbc53f9",
   "metadata": {
    "papermill": {},
    "tags": []
   },
   "source": [
    "### Import libraries"
   ]
  },
  {
   "cell_type": "code",
   "execution_count": null,
   "id": "cc038b10-2679-42bc-909e-09a298339df4",
   "metadata": {
    "papermill": {},
    "tags": []
   },
   "outputs": [],
   "source": [
    "import naas\n",
    "from naas_drivers import naas_chat_plugin, gsheet\n",
    "import os\n",
    "import pandas as pd\n",
    "import json\n",
    "import requests\n",
    "import naas_data_product"
   ]
  },
  {
   "cell_type": "markdown",
   "id": "e930da4d-39a2-424e-8808-77fd0a3829bf",
   "metadata": {
    "papermill": {},
    "tags": []
   },
   "source": [
    "### Setup variables"
   ]
  },
  {
   "cell_type": "code",
   "execution_count": null,
   "id": "6cf9bd9b-ce83-45a5-ab0f-15c978458b42",
   "metadata": {
    "papermill": {},
    "tags": [
     "parameters"
    ]
   },
   "outputs": [],
   "source": [
    "# Inputs\n",
    "entity_index = \"0\"\n",
    "spreadsheet_url = pload(os.path.join(naas_data_product.OUTPUTS_PATH, \"entities\", entity_index), \"abi_spreadsheet\") or \"\"\n",
    "sheet_name = \"DATASET_POSTS\"\n",
    "name = \"Content Assistant\"\n",
    "model = \"gpt-4-1106-preview\"\n",
    "temperature = 0.5\n",
    "description = \"Streamline the generation and distribution of content that aligns with the user's or business's brand voice and audience engagement goals.\"\n",
    "avatar = \"https://naasai-public.s3.eu-west-3.amazonaws.com/abi-demo/content_creation.png\"\n",
    "api_key = naas.secret.get('NAAS_API_TOKEN')\n",
    "workspace_ids = \"\"\n",
    "personal_workspace = True\n",
    "\n",
    "# Outputs\n",
    "output_dir = os.path.join(\"..\", \"outputs\")"
   ]
  },
  {
   "cell_type": "markdown",
   "id": "9070993a-eec9-4f78-a7f9-2e18c743a20d",
   "metadata": {
    "papermill": {},
    "tags": []
   },
   "source": [
    "## Model"
   ]
  },
  {
   "cell_type": "markdown",
   "id": "d56ac36d-5d49-4677-9750-97f28657c0ae",
   "metadata": {},
   "source": [
    "### Helper Functions"
   ]
  },
  {
   "cell_type": "markdown",
   "id": "bdddeb04-dc27-4159-aa34-7de293150e01",
   "metadata": {},
   "source": [
    "#### Create Naas Chat plugin"
   ]
  },
  {
   "cell_type": "code",
   "execution_count": null,
   "id": "fc948711-8882-4c01-b7f3-5374db671177",
   "metadata": {},
   "outputs": [],
   "source": [
    "def create_plugin(\n",
    "    name,\n",
    "    prompt=\"\",\n",
    "    model=\"gpt-3.5-turbo-16k\",\n",
    "    temperature=0,\n",
    "    output_dir=None,\n",
    "    output_path=None,\n",
    "    description=\"\",\n",
    "    avatar=\"\",\n",
    "    prompt_type=\"system\",\n",
    "    entity_name=None\n",
    "):\n",
    "    # Init\n",
    "    plugin = {}\n",
    "    \n",
    "    # Create output path\n",
    "    os.makedirs(output_dir, exist_ok=True)\n",
    "    if not output_path:\n",
    "        output_path = os.path.join(output_dir, f\"{name.lower().replace(' ', '_')}.json\")\n",
    "        \n",
    "    # Create empty plugin\n",
    "    if not os.path.exists(output_path):\n",
    "        with open(output_path, \"w\") as f:\n",
    "            json.dump(plugin, f)\n",
    "        naas.asset.add(output_path, params={\"inline\": True})\n",
    "        \n",
    "    # Get asset URL\n",
    "    plugin_url = naas.asset.find(output_path)\n",
    "    \n",
    "    # Check tokens\n",
    "    prompt_tokens, max_tokens = naas_chat_plugin.check_tokens(prompt, model)\n",
    "\n",
    "    # Create JSON\n",
    "    entity_id = entity_name.lower().replace(' ', '-')\n",
    "    plugin = {\n",
    "        \"id\": f\"{name.lower().replace(' ', '-')}-{entity_id}-test\",\n",
    "        \"slug\": f\"{name.lower().replace(' ', '-')}/{entity_id}-test\",\n",
    "        \"url\": plugin_url,\n",
    "        \"name\": f\"{name} - {entity_name}\",\n",
    "        \"model\": model,\n",
    "        \"temperature\": temperature,\n",
    "        \"max_tokens\": max_tokens,\n",
    "        \"prompt\": prompt,\n",
    "        \"commands\": [],\n",
    "        \"description\": description,\n",
    "        \"avatar\": avatar,\n",
    "        \"prompt_type\": prompt_type,\n",
    "    }\n",
    "\n",
    "    # Save dict to JSON file\n",
    "    with open(output_path, \"w\") as f:\n",
    "        json.dump(plugin, f)\n",
    "    print(f\"💾 Plugin successfully saved. You can use it in your Naas Chat with: {output_path}\")\n",
    "    naas.asset.add(output_path, params={\"inline\": True})\n",
    "    return output_path, plugin_url, plugin"
   ]
  },
  {
   "cell_type": "markdown",
   "id": "6b275c76-1d43-4d4a-9c63-df838ef4c75a",
   "metadata": {
    "papermill": {},
    "tags": []
   },
   "source": [
    "#### List Workspaces"
   ]
  },
  {
   "cell_type": "code",
   "execution_count": null,
   "id": "713bfbc7-bf14-44d8-9306-27b4170d0981",
   "metadata": {
    "papermill": {},
    "tags": []
   },
   "outputs": [],
   "source": [
    "def list_workspaces(\n",
    "    api_key,\n",
    "):\n",
    "    url = \"https://api.naas.ai/workspace/\"\n",
    "    headers = {\n",
    "        \"Content-Type\": \"application/json\",\n",
    "        \"Authorization\": f\"Bearer {api_key}\"\n",
    "    }\n",
    "    response = requests.get(url, headers=headers)\n",
    "    return response.json()"
   ]
  },
  {
   "cell_type": "markdown",
   "id": "7418270b-08b7-4d7b-b14e-15f9067f78de",
   "metadata": {
    "papermill": {},
    "tags": []
   },
   "source": [
    "#### List Workspace plugins"
   ]
  },
  {
   "cell_type": "code",
   "execution_count": null,
   "id": "28b91cce-e131-4af2-b2eb-8772fad437f4",
   "metadata": {
    "papermill": {},
    "tags": []
   },
   "outputs": [],
   "source": [
    "def list_workspace_plugins(\n",
    "    api_key,\n",
    "    workspace_id,\n",
    "):\n",
    "    url = f\"https://api.naas.ai/workspace/{workspace_id}/plugin\"\n",
    "    headers = {\n",
    "        \"Content-Type\": \"application/json\",\n",
    "        \"Authorization\": f\"Bearer {api_key}\"\n",
    "    }\n",
    "    response = requests.get(url, headers=headers)\n",
    "    return response.json()"
   ]
  },
  {
   "cell_type": "markdown",
   "id": "e1be8359-1f53-485c-a0b4-a4a5f3f52a2f",
   "metadata": {
    "papermill": {},
    "tags": []
   },
   "source": [
    "#### Create Workspace Plugin"
   ]
  },
  {
   "cell_type": "code",
   "execution_count": null,
   "id": "d3458917-58b4-42c3-bb26-6815a95916d1",
   "metadata": {
    "papermill": {},
    "tags": []
   },
   "outputs": [],
   "source": [
    "def create_workspace_plugin(\n",
    "    api_key,\n",
    "    workspace_id,\n",
    "    plugin,\n",
    "):\n",
    "    url = f\"https://api.naas.ai/workspace/{workspace_id}/plugin\"\n",
    "    headers = {\n",
    "        \"Content-Type\": \"application/json\",\n",
    "        \"Authorization\": f\"Bearer {api_key}\"\n",
    "    }\n",
    "    data = {\n",
    "        \"workspace_id\": workspace_id,\n",
    "        \"payload\": json.dumps(plugin),\n",
    "    }\n",
    "    response = requests.post(url, headers=headers, json=data)\n",
    "    return response.json()"
   ]
  },
  {
   "cell_type": "markdown",
   "id": "6465b6b7-a71b-4519-95cf-4a143cfe907e",
   "metadata": {},
   "source": [
    "#### Update Workspace Plugin"
   ]
  },
  {
   "cell_type": "code",
   "execution_count": null,
   "id": "2c2f137c-0c1a-4793-a5a5-4a37de806808",
   "metadata": {
    "tags": []
   },
   "outputs": [],
   "source": [
    "def update_workspace_plugin(\n",
    "    api_key,\n",
    "    workspace_id,\n",
    "    plugin_id,\n",
    "    plugin,\n",
    "):\n",
    "    url = f\"https://api.naas.ai/workspace/{workspace_id}/plugin/{plugin_id}\"\n",
    "    headers = {\n",
    "        \"Content-Type\": \"application/json\",\n",
    "        \"Authorization\": f\"Bearer {api_key}\"\n",
    "    }\n",
    "    data = {\n",
    "        \"workspace_id\": workspace_id,\n",
    "        \"plugin_id\": plugin_id,\n",
    "        \"workspace_plugin\": {\n",
    "            \"payload\": json.dumps(plugin),\n",
    "        }\n",
    "    }\n",
    "    response = requests.put(url, headers=headers, json=data)\n",
    "    return response.json()"
   ]
  },
  {
   "cell_type": "markdown",
   "id": "48e1f03d-dd91-44d9-b4f2-e3ca821d7498",
   "metadata": {},
   "source": [
    "#### Push plugin to Personal workspace"
   ]
  },
  {
   "cell_type": "code",
   "execution_count": null,
   "id": "026e7431-e2a4-4622-a037-a21697087e1b",
   "metadata": {
    "tags": []
   },
   "outputs": [],
   "source": [
    "def push_plugin_to_workspace(\n",
    "    api_key,\n",
    "    plugin,\n",
    "    workspace_ids=[],\n",
    "    personal_workspace=True\n",
    "):\n",
    "    # Init\n",
    "    if isinstance(workspace_ids, str) and workspace_ids == '':\n",
    "        workspace_ids = []\n",
    "        \n",
    "    # Get workspaces\n",
    "    workspaces = list_workspaces(api_key)\n",
    "    \n",
    "    # Get existing workspace ids\n",
    "    current_workspace_ids = [workspace.get(\"id\") for workspace in workspaces.get(\"workspaces\")]\n",
    "\n",
    "    if personal_workspace:\n",
    "        personal_workspace_id = None\n",
    "        # Get personal workspace\n",
    "        for workspace in workspaces.get(\"workspaces\"):\n",
    "            if workspace.get(\"is_personal\"):\n",
    "                personal_workspace_id = workspace.get(\"id\")\n",
    "                break\n",
    "        if personal_workspace_id not in workspace_ids:\n",
    "            workspace_ids.append(personal_workspace_id)\n",
    "    \n",
    "    for index, workspace_id in enumerate(workspace_ids):\n",
    "        if workspace_id in current_workspace_ids:\n",
    "            workspace_id = workspace_id.strip()\n",
    "            print(f\"{index} - Workspace ID:\", workspace_id)\n",
    "            # List existing plugins\n",
    "            plugins = list_workspace_plugins(\n",
    "                api_key,\n",
    "                workspace_id,\n",
    "            )\n",
    "            plugin_exist = False\n",
    "            print(\"Plugins:\", len(plugins.get('workspace_plugins')))\n",
    "            for i, p in enumerate(plugins.get('workspace_plugins')):\n",
    "                plugin_id = p.get(\"id\")\n",
    "                p_json = json.loads(p.get(\"payload\"))\n",
    "                p_name = p_json.get(\"name\")\n",
    "                p_slug = p_json.get(\"slug\")\n",
    "                p_url = p_json.get(\"url\")\n",
    "                if plugin_url == p_url:\n",
    "                    plugin_exist = True\n",
    "                    print(\"Plugin ID:\", plugin_id)\n",
    "                    print(\"- Slug:\", p_slug)\n",
    "                    print(\"- Name:\", p_name)\n",
    "                    print(\"- URL:\", p_url)\n",
    "                    break\n",
    "\n",
    "            # Create or update plugin\n",
    "            if not plugin_exist:\n",
    "                result = create_workspace_plugin(\n",
    "                    api_key,\n",
    "                    workspace_id,\n",
    "                    plugin,\n",
    "                )\n",
    "                print(\"✅ Plugin successfully created\")\n",
    "            else:\n",
    "                result = update_workspace_plugin(\n",
    "                    api_key,\n",
    "                    workspace_id,\n",
    "                    plugin_id,\n",
    "                    plugin,\n",
    "                )\n",
    "                print(\"✅ Plugin successfully updated\")\n",
    "            print()\n",
    "        else:\n",
    "            print(\"❌ Workspace ID does not exist for user.\")\n",
    "    return result"
   ]
  },
  {
   "cell_type": "markdown",
   "id": "c1dcb5a4-d2a7-49c1-add2-b19b03341ee7",
   "metadata": {
    "papermill": {},
    "tags": []
   },
   "source": [
    "### Get dataset POST"
   ]
  },
  {
   "cell_type": "code",
   "execution_count": null,
   "id": "8772c446-ac27-4ac2-a427-c364f0ab0077",
   "metadata": {
    "tags": []
   },
   "outputs": [],
   "source": [
    "df = gsheet.connect(spreadsheet_url).get(sheet_name=sheet_name)\n",
    "print(\"Rows:\", len(df))\n",
    "df.head(1)"
   ]
  },
  {
   "cell_type": "markdown",
   "id": "c014e410-c07c-451f-aff6-1da9da80002f",
   "metadata": {},
   "source": [
    "### Create prompt"
   ]
  },
  {
   "cell_type": "code",
   "execution_count": null,
   "id": "446270cd-c6da-4426-9f8b-971a2a3f110d",
   "metadata": {
    "tags": []
   },
   "outputs": [],
   "source": [
    "# Get variables from data\n",
    "entity_name = df.loc[0, \"ENTITY\"]\n",
    "\n",
    "system_prompt = f\"\"\"Act as a Content Assistant who has access to valuable data and insights about the content strategy.\n",
    "Your role is to manage and optimize the content, ensuring it reaches the target audience effectively. \n",
    "On {\", \".join(df.SCENARIO.unique())} the '{entity_name}' published {len(df)} contents. \n",
    "Here is the list with the post published: {df.to_string()}.\n",
    "The first message should be about presenting yourself and analyze '{entity_name}' contents published with a maximum of 3 bullet points.\n",
    "Be casual, but professional. Wait for the first answer from the user, and then start with the first high-level analysis. \n",
    "\"\"\""
   ]
  },
  {
   "cell_type": "markdown",
   "id": "88d54150-28f0-4bd7-ad00-4bb515db530d",
   "metadata": {},
   "source": [
    "### Create Naas Chat plugin"
   ]
  },
  {
   "cell_type": "code",
   "execution_count": null,
   "id": "5fe477e6-75ac-4726-8aa5-4195ed8ee0d9",
   "metadata": {
    "tags": []
   },
   "outputs": [],
   "source": [
    "print(\"--> Creating Naas Chat plugin\")\n",
    "plugin_file_path, plugin_url, plugin = create_plugin(\n",
    "    name=name,\n",
    "    prompt=system_prompt,\n",
    "    model=model,\n",
    "    temperature=temperature,\n",
    "    output_dir=output_dir,\n",
    "    description=description,\n",
    "    avatar=avatar,\n",
    "    entity_name=entity_name,\n",
    ")\n",
    "print()"
   ]
  },
  {
   "cell_type": "markdown",
   "id": "81ce4521-731f-42cb-8ace-0e7611c750b3",
   "metadata": {
    "papermill": {},
    "tags": []
   },
   "source": [
    "## Output"
   ]
  },
  {
   "cell_type": "markdown",
   "id": "2d959298-e04a-459f-85d9-1b12bb5754c9",
   "metadata": {
    "papermill": {},
    "tags": []
   },
   "source": [
    "### Push to Workspace"
   ]
  },
  {
   "cell_type": "code",
   "execution_count": null,
   "id": "ac0af791-9f6d-4da8-82d0-1defed0bc59f",
   "metadata": {
    "papermill": {},
    "tags": []
   },
   "outputs": [],
   "source": [
    "print(\"--> Push plugin to Personal workspace\")\n",
    "push_plugin_to_workspace(api_key, plugin, workspace_ids, personal_workspace)\n",
    "print()"
   ]
  }
 ],
 "metadata": {
  "kernelspec": {
   "display_name": "Python 3",
   "language": "python",
   "name": "python3"
  },
  "language_info": {
   "codemirror_mode": {
    "name": "ipython",
    "version": 3
   },
   "file_extension": ".py",
   "mimetype": "text/x-python",
   "name": "python",
   "nbconvert_exporter": "python",
   "pygments_lexer": "ipython3",
   "version": "3.9.6"
  },
  "naas": {
   "notebook_id": "d376a4cfdf00d1197e0cd54cf4e801052d22a6e15133079bf4d3ff56c29fc5a0",
   "notebook_path": "GitHub/GitHub_Create_plugin_with_commands.ipynb"
  },
  "papermill": {
   "default_parameters": {},
   "environment_variables": {},
   "parameters": {},
   "version": "2.4.0"
  },
  "widgets": {
   "application/vnd.jupyter.widget-state+json": {
    "state": {},
    "version_major": 2,
    "version_minor": 0
   }
  }
 },
 "nbformat": 4,
 "nbformat_minor": 5
}
