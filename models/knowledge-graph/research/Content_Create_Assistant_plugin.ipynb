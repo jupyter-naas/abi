{
 "cells": [
  {
   "cell_type": "markdown",
   "id": "b389a8b8-3546-4092-ad52-52227c5a5c8e",
   "metadata": {
    "papermill": {},
    "tags": []
   },
   "source": [
    "<img width=\"8%\" alt=\"Content\" src=\"https://naasai-public.s3.eu-west-3.amazonaws.com/abi-demo/content_creation.png\" style=\"border-radius: 15%\">"
   ]
  },
  {
   "cell_type": "markdown",
   "id": "a5b2c509-2c29-49e8-af91-4f3f1e386da3",
   "metadata": {
    "papermill": {},
    "tags": []
   },
   "source": [
    "# Content - Create Assistant plugin"
   ]
  },
  {
   "cell_type": "markdown",
   "id": "d77fe283-4edd-42d3-a909-8e207d4b842f",
   "metadata": {
    "papermill": {},
    "tags": []
   },
   "source": [
    "**Tags:** #content #chat #plugin #ai #naaschatplugin #naas #naas_driver"
   ]
  },
  {
   "cell_type": "markdown",
   "id": "b90f2d91-c886-4e36-8265-b09d06bb1c7f",
   "metadata": {
    "papermill": {},
    "tags": []
   },
   "source": [
    "**Author:** [Florent Ravenel](https://www.linkedin.com/in/florent-ravenel)"
   ]
  },
  {
   "cell_type": "markdown",
   "id": "214749fe-7f0b-4755-b7ea-1d200c234cc6",
   "metadata": {
    "papermill": {},
    "tags": []
   },
   "source": [
    "**Description:** This notebook creates the Content Assistant plugin."
   ]
  },
  {
   "cell_type": "markdown",
   "id": "cff349c8-2816-4ae4-9229-027c068eeb51",
   "metadata": {
    "papermill": {},
    "tags": []
   },
   "source": [
    "## Input"
   ]
  },
  {
   "cell_type": "markdown",
   "id": "80266a9e-fe54-4f3e-aeb2-01483bbc53f9",
   "metadata": {
    "papermill": {},
    "tags": []
   },
   "source": [
    "### Import libraries"
   ]
  },
  {
   "cell_type": "code",
   "execution_count": null,
   "id": "cc038b10-2679-42bc-909e-09a298339df4",
   "metadata": {
    "papermill": {},
    "tags": []
   },
   "outputs": [],
   "source": [
    "import naas\n",
    "from naas_drivers import naas_chat_plugin, gsheet\n",
    "import os\n",
    "import pandas as pd\n",
    "import json\n",
    "import requests\n",
    "import naas_data_product"
   ]
  },
  {
   "cell_type": "markdown",
   "id": "e930da4d-39a2-424e-8808-77fd0a3829bf",
   "metadata": {
    "papermill": {},
    "tags": []
   },
   "source": [
    "### Setup variables"
   ]
  },
  {
   "cell_type": "code",
   "execution_count": null,
   "id": "6cf9bd9b-ce83-45a5-ab0f-15c978458b42",
   "metadata": {
    "papermill": {},
    "tags": [
     "parameters"
    ]
   },
   "outputs": [],
   "source": [
    "# Inputs\n",
    "entity_index = \"0\"\n",
    "spreadsheet_url = pload(os.path.join(naas_data_product.OUTPUTS_PATH, \"entities\", entity_index), \"abi_spreadsheet\") or \"\"\n",
    "sheet_name = \"DATASET_POSTS\"\n",
    "name = \"Content Assistant\"\n",
    "model = \"gpt-4-1106-preview\"\n",
    "temperature = 0.5\n",
    "description = \"Streamline the generation and distribution of content that aligns with the user's or business's brand voice and audience engagement goals.\"\n",
    "avatar = \"https://naasai-public.s3.eu-west-3.amazonaws.com/abi-demo/content_creation.png\"\n",
    "api_key = naas.secret.get('NAAS_API_TOKEN')\n",
    "workspace_ids = \"\"\n",
    "personal_workspace = True\n",
    "\n",
    "# Outputs\n",
    "output_dir = os.path.join(\"..\", \"outputs\")"
   ]
  },
  {
   "cell_type": "markdown",
   "id": "9070993a-eec9-4f78-a7f9-2e18c743a20d",
   "metadata": {
    "papermill": {},
    "tags": []
   },
   "source": [
    "## Model"
   ]
  },
  {
   "cell_type": "markdown",
   "id": "c1dcb5a4-d2a7-49c1-add2-b19b03341ee7",
   "metadata": {
    "papermill": {},
    "tags": []
   },
   "source": [
    "### Get dataset POST"
   ]
  },
  {
   "cell_type": "code",
   "execution_count": null,
   "id": "8772c446-ac27-4ac2-a427-c364f0ab0077",
   "metadata": {
    "tags": []
   },
   "outputs": [],
   "source": [
    "df = gsheet.connect(spreadsheet_url).get(sheet_name=sheet_name)\n",
    "print(\"Rows:\", len(df))\n",
    "df.head(1)"
   ]
  },
  {
   "cell_type": "markdown",
   "id": "c014e410-c07c-451f-aff6-1da9da80002f",
   "metadata": {},
   "source": [
    "### Create prompt"
   ]
  },
  {
   "cell_type": "code",
   "execution_count": null,
   "id": "446270cd-c6da-4426-9f8b-971a2a3f110d",
   "metadata": {
    "tags": []
   },
   "outputs": [],
   "source": [
    "# Get variables from data\n",
    "entity_name = df.loc[0, \"ENTITY\"]\n",
    "\n",
    "system_prompt = f\"\"\"Act as a Content Assistant who has access to valuable data and insights about the content strategy.\n",
    "Your role is to manage and optimize the content, ensuring it reaches the target audience effectively. \n",
    "On {\", \".join(df.SCENARIO.unique())} the '{entity_name}' published {len(df)} contents. \n",
    "Here is the list with the post published: {df.to_string()}.\n",
    "The first message should be about presenting yourself and analyze '{entity_name}' contents published with a maximum of 3 bullet points.\n",
    "Be casual, but professional. Wait for the first answer from the user, and then start with the first high-level analysis. \n",
    "\"\"\""
   ]
  },
  {
   "cell_type": "markdown",
   "id": "88d54150-28f0-4bd7-ad00-4bb515db530d",
   "metadata": {},
   "source": [
    "### Create Naas Chat plugin"
   ]
  },
  {
   "cell_type": "code",
   "execution_count": null,
   "id": "5fe477e6-75ac-4726-8aa5-4195ed8ee0d9",
   "metadata": {
    "tags": []
   },
   "outputs": [],
   "source": [
    "def create_plugin(\n",
    "    name,\n",
    "    prompt=\"\",\n",
    "    model=\"gpt-3.5-turbo-16k\",\n",
    "    temperature=0,\n",
    "    output_dir=None,\n",
    "    output_path=None,\n",
    "    description=\"\",\n",
    "    avatar=\"\",\n",
    "    prompt_type=\"system\",\n",
    "    entity_name=None\n",
    "):\n",
    "    # Init\n",
    "    plugin = {}\n",
    "    \n",
    "    # Create output path\n",
    "    os.makedirs(output_dir, exist_ok=True)\n",
    "    if not output_path:\n",
    "        output_path = os.path.join(output_dir, f\"{name.lower().replace(' ', '_')}.json\")\n",
    "        \n",
    "    # Create empty plugin\n",
    "    if not os.path.exists(output_path):\n",
    "        with open(output_path, \"w\") as f:\n",
    "            json.dump(plugin, f)\n",
    "        naas.asset.add(output_path, params={\"inline\": True})\n",
    "        \n",
    "    # Get asset URL\n",
    "    plugin_url = naas.asset.find(output_path)\n",
    "    \n",
    "    # Check tokens\n",
    "    prompt_tokens, max_tokens = naas_chat_plugin.check_tokens(prompt, model)\n",
    "\n",
    "    # Create JSON\n",
    "    entity_id = entity_name.lower().replace(' ', '-')\n",
    "    plugin = {\n",
    "        \"id\": f\"{name.lower().replace(' ', '-')}-{entity_id}-test\",\n",
    "        \"slug\": f\"{name.lower().replace(' ', '-')}/{entity_id}-test\",\n",
    "        \"url\": plugin_url,\n",
    "        \"name\": f\"{name} - {entity_name}\",\n",
    "        \"model\": model,\n",
    "        \"temperature\": temperature,\n",
    "        \"max_tokens\": max_tokens,\n",
    "        \"prompt\": prompt,\n",
    "        \"commands\": [],\n",
    "        \"description\": description,\n",
    "        \"avatar\": avatar,\n",
    "        \"prompt_type\": prompt_type,\n",
    "    }\n",
    "\n",
    "    # Save dict to JSON file\n",
    "    with open(output_path, \"w\") as f:\n",
    "        json.dump(plugin, f)\n",
    "    print(f\"💾 Plugin successfully saved. You can use it in your Naas Chat with: {output_path}\")\n",
    "    naas.asset.add(output_path, params={\"inline\": True})\n",
    "    return output_path, plugin_url, plugin\n",
    "\n",
    "print(\"--> Creating Naas Chat plugin\")\n",
    "plugin_file_path, plugin_url, plugin = create_plugin(\n",
    "    name=name,\n",
    "    prompt=system_prompt,\n",
    "    model=model,\n",
    "    temperature=temperature,\n",
    "    output_dir=output_dir,\n",
    "    description=description,\n",
    "    avatar=avatar,\n",
    "    entity_name=entity_name,\n",
    ")\n",
    "print()"
   ]
  },
  {
   "cell_type": "markdown",
   "id": "81ce4521-731f-42cb-8ace-0e7611c750b3",
   "metadata": {
    "papermill": {},
    "tags": []
   },
   "source": [
    "## Output"
   ]
  },
  {
   "cell_type": "markdown",
   "id": "2d959298-e04a-459f-85d9-1b12bb5754c9",
   "metadata": {
    "papermill": {},
    "tags": []
   },
   "source": [
    "### Push to Workspace"
   ]
  },
  {
   "cell_type": "code",
   "execution_count": null,
   "id": "ac0af791-9f6d-4da8-82d0-1defed0bc59f",
   "metadata": {
    "papermill": {},
    "tags": []
   },
   "outputs": [],
   "source": [
    "print(\"--> Push plugin to Personal workspace\")\n",
    "push_plugin_to_workspace(api_key, plugin, workspace_ids, personal_workspace)\n",
    "print()"
   ]
  },
  {
   "cell_type": "code",
   "execution_count": null,
   "id": "86d645e9-1aff-4f63-aacd-464f27f4e3bb",
   "metadata": {},
   "outputs": [],
   "source": []
  }
 ],
 "metadata": {
  "kernelspec": {
   "display_name": "Python 3",
   "language": "python",
   "name": "python3"
  },
  "language_info": {
   "codemirror_mode": {
    "name": "ipython",
    "version": 3
   },
   "file_extension": ".py",
   "mimetype": "text/x-python",
   "name": "python",
   "nbconvert_exporter": "python",
   "pygments_lexer": "ipython3",
   "version": "3.9.6"
  },
  "naas": {
   "notebook_id": "d376a4cfdf00d1197e0cd54cf4e801052d22a6e15133079bf4d3ff56c29fc5a0",
   "notebook_path": "GitHub/GitHub_Create_plugin_with_commands.ipynb"
  },
  "papermill": {
   "default_parameters": {},
   "environment_variables": {},
   "parameters": {},
   "version": "2.4.0"
  },
  "widgets": {
   "application/vnd.jupyter.widget-state+json": {
    "state": {},
    "version_major": 2,
    "version_minor": 0
   }
  }
 },
 "nbformat": 4,
 "nbformat_minor": 5
}
