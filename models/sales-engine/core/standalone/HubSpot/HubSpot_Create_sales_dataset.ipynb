{
 "cells": [
  {
   "cell_type": "markdown",
   "id": "inappropriate-adobe",
   "metadata": {
    "papermill": {},
    "tags": []
   },
   "source": [
    "<img width=\"10%\" alt=\"Naas\" src=\"https://landen.imgix.net/jtci2pxwjczr/assets/5ice39g4.png?w=160\"/>"
   ]
  },
  {
   "cell_type": "markdown",
   "id": "acoustic-transcription",
   "metadata": {
    "papermill": {},
    "tags": []
   },
   "source": [
    "# HubSpot - Create sales dataset"
   ]
  },
  {
   "cell_type": "markdown",
   "id": "c62854fa-4acb-4847-9770-f71f83627432",
   "metadata": {
    "papermill": {},
    "tags": []
   },
   "source": [
    "**Tags:** #hubspot #crm #sales #deal #naas_drivers #notification #asset #emailbuilder #scheduler #naas #analytics #automation #email #text #plotly #html #image"
   ]
  },
  {
   "cell_type": "markdown",
   "id": "a6e0792a-c59a-4d67-872c-f1158778ae4c",
   "metadata": {
    "papermill": {},
    "tags": []
   },
   "source": [
    "**Author:** [Florent Ravenel](https://www.linkedin.com/in/florent-ravenel/)"
   ]
  },
  {
   "cell_type": "markdown",
   "id": "6bec3b40-a05d-4638-9bb3-ecf0b2b6899d",
   "metadata": {
    "papermill": {},
    "tags": []
   },
   "source": [
    "**Last update:** 2023-04-12 (Created: 2022-02-21)"
   ]
  },
  {
   "cell_type": "markdown",
   "id": "de2df2a0-3352-46a8-9086-a74b319291df",
   "metadata": {
    "execution": {
     "iopub.execute_input": "2022-11-23T14:14:47.389829Z",
     "iopub.status.busy": "2022-11-23T14:14:47.389529Z",
     "iopub.status.idle": "2022-11-23T14:14:47.405052Z",
     "shell.execute_reply": "2022-11-23T14:14:47.403209Z",
     "shell.execute_reply.started": "2022-11-23T14:14:47.389728Z"
    },
    "papermill": {},
    "tags": []
   },
   "source": [
    "**Description:** This notebook send a sales brief based on your HubSpot activity."
   ]
  },
  {
   "cell_type": "markdown",
   "id": "accurate-mixer",
   "metadata": {
    "papermill": {},
    "tags": []
   },
   "source": [
    "## Input"
   ]
  },
  {
   "cell_type": "markdown",
   "id": "czech-coral",
   "metadata": {
    "papermill": {},
    "tags": []
   },
   "source": [
    "### Import libraries"
   ]
  },
  {
   "cell_type": "code",
   "execution_count": null,
   "id": "forced-reply",
   "metadata": {
    "execution": {
     "iopub.execute_input": "2023-10-14T16:59:10.509833Z",
     "iopub.status.busy": "2023-10-14T16:59:10.509391Z",
     "iopub.status.idle": "2023-10-14T16:59:12.854661Z",
     "shell.execute_reply": "2023-10-14T16:59:12.853995Z",
     "shell.execute_reply.started": "2023-10-14T16:59:10.509757Z"
    },
    "papermill": {},
    "tags": []
   },
   "outputs": [],
   "source": [
    "import naas \n",
    "from naas_drivers import hubspot\n",
    "import os\n",
    "import pandas as pd\n",
    "from datetime import datetime"
   ]
  },
  {
   "cell_type": "markdown",
   "id": "colored-syndication",
   "metadata": {
    "papermill": {},
    "tags": []
   },
   "source": [
    "### Setup variables"
   ]
  },
  {
   "cell_type": "code",
   "execution_count": null,
   "id": "sweet-latino",
   "metadata": {
    "execution": {
     "iopub.execute_input": "2023-10-14T16:59:12.856410Z",
     "iopub.status.busy": "2023-10-14T16:59:12.856151Z",
     "iopub.status.idle": "2023-10-14T16:59:12.974324Z",
     "shell.execute_reply": "2023-10-14T16:59:12.973728Z",
     "shell.execute_reply.started": "2023-10-14T16:59:12.856381Z"
    },
    "papermill": {},
    "tags": []
   },
   "outputs": [],
   "source": [
    "# Enter Your Access Token\n",
    "hs_access_token = naas.secret.get(\"HS_ACCESS_TOKEN\") or \"YOUR_HS_ACCESS_TOKEN\"\n",
    "pipeline_id = \"8432671\"\n",
    "properties = [\n",
    "    \"hs_object_id\",\n",
    "    \"dealname\",\n",
    "    \"dealstage\",\n",
    "    \"pipeline\",\n",
    "    \"createdate\",\n",
    "    \"hs_lastmodifieddate\",\n",
    "    \"closedate\",\n",
    "    \"amount\",\n",
    "]\n",
    "output_file_path = \"/home/ftp/__abi__/outputs/by_tools/hubspot/df_deals.csv\""
   ]
  },
  {
   "cell_type": "markdown",
   "id": "brazilian-stand",
   "metadata": {
    "papermill": {},
    "tags": []
   },
   "source": [
    "## Model"
   ]
  },
  {
   "cell_type": "markdown",
   "id": "b9066dd2-f24d-4a6e-acb1-b1fc3f03c51c",
   "metadata": {},
   "source": [
    "### Get all pipelines and dealstages"
   ]
  },
  {
   "cell_type": "code",
   "execution_count": null,
   "id": "50bb404a-5f45-4765-869b-1fad10565600",
   "metadata": {
    "execution": {
     "iopub.execute_input": "2023-10-14T16:59:12.977145Z",
     "iopub.status.busy": "2023-10-14T16:59:12.976963Z",
     "iopub.status.idle": "2023-10-14T16:59:13.252084Z",
     "shell.execute_reply": "2023-10-14T16:59:13.251550Z",
     "shell.execute_reply.started": "2023-10-14T16:59:12.977124Z"
    },
    "tags": []
   },
   "outputs": [],
   "source": [
    "df_pipelines = hubspot.connect(hs_access_token).pipelines.get_all()\n",
    "print(\"Rows:\", len(df_pipelines))\n",
    "df_pipelines.head(1)"
   ]
  },
  {
   "cell_type": "markdown",
   "id": "independent-liverpool",
   "metadata": {
    "papermill": {},
    "tags": []
   },
   "source": [
    "### Filter on pipeline ID to get dealstages"
   ]
  },
  {
   "cell_type": "code",
   "execution_count": null,
   "id": "sharing-theology",
   "metadata": {
    "execution": {
     "iopub.execute_input": "2023-10-14T16:59:13.254414Z",
     "iopub.status.busy": "2023-10-14T16:59:13.254229Z",
     "iopub.status.idle": "2023-10-14T16:59:13.272430Z",
     "shell.execute_reply": "2023-10-14T16:59:13.271889Z",
     "shell.execute_reply.started": "2023-10-14T16:59:13.254394Z"
    },
    "papermill": {},
    "tags": []
   },
   "outputs": [],
   "source": [
    "df_dealstages = df_pipelines.copy()\n",
    "# Filter on pipeline\n",
    "df_dealstages = df_dealstages[df_dealstages.pipeline_id == pipeline_id]\n",
    "\n",
    "print(\"Rows:\", len(df_dealstages))\n",
    "df_dealstages"
   ]
  },
  {
   "cell_type": "markdown",
   "id": "failing-agreement",
   "metadata": {
    "papermill": {},
    "tags": []
   },
   "source": [
    "### Get deals from pipeline"
   ]
  },
  {
   "cell_type": "code",
   "execution_count": null,
   "id": "early-quarterly",
   "metadata": {
    "execution": {
     "iopub.execute_input": "2023-10-14T16:59:13.273760Z",
     "iopub.status.busy": "2023-10-14T16:59:13.273460Z",
     "iopub.status.idle": "2023-10-14T16:59:16.677680Z",
     "shell.execute_reply": "2023-10-14T16:59:16.677033Z",
     "shell.execute_reply.started": "2023-10-14T16:59:13.273729Z"
    },
    "papermill": {},
    "tags": []
   },
   "outputs": [],
   "source": [
    "df_deals = hubspot.connect(hs_access_token).deals.get_all(properties)\n",
    "\n",
    "# Filter on pipeline\n",
    "df_deals = df_deals[df_deals.pipeline == pipeline_id].reset_index(drop=True)\n",
    "\n",
    "print(\"Rows:\", len(df_deals))\n",
    "df_deals"
   ]
  },
  {
   "cell_type": "markdown",
   "id": "suited-interview",
   "metadata": {
    "papermill": {},
    "tags": []
   },
   "source": [
    "### Prep deal stages dataset"
   ]
  },
  {
   "cell_type": "code",
   "execution_count": null,
   "id": "1c0d5aa7-484f-4ae3-a301-77ac7bb101fc",
   "metadata": {
    "execution": {
     "iopub.execute_input": "2023-10-14T16:59:16.714144Z",
     "iopub.status.busy": "2023-10-14T16:59:16.712326Z",
     "iopub.status.idle": "2023-10-14T16:59:16.732877Z",
     "shell.execute_reply": "2023-10-14T16:59:16.732174Z",
     "shell.execute_reply.started": "2023-10-14T16:59:16.714092Z"
    },
    "tags": []
   },
   "outputs": [],
   "source": [
    "df_dealstages_c = df_dealstages.copy()\n",
    "to_drop = [\n",
    "    \"createdAt\",\n",
    "    \"updatedAt\",\n",
    "    \"archived\",\n",
    "    \"dealclosed\"\n",
    "]\n",
    "df_dealstages_c = df_dealstages_c.drop(to_drop, axis=1)\n",
    "df_dealstages_c"
   ]
  },
  {
   "cell_type": "markdown",
   "id": "ac91478f-ef52-450c-8c8a-2be646ff7569",
   "metadata": {
    "execution": {
     "iopub.execute_input": "2023-08-23T11:03:03.198624Z",
     "iopub.status.busy": "2023-08-23T11:03:03.198392Z",
     "iopub.status.idle": "2023-08-23T11:03:03.201569Z",
     "shell.execute_reply": "2023-08-23T11:03:03.200889Z",
     "shell.execute_reply.started": "2023-08-23T11:03:03.198602Z"
    },
    "tags": []
   },
   "source": [
    "### Create sales pipeline database"
   ]
  },
  {
   "cell_type": "code",
   "execution_count": null,
   "id": "dirty-calvin",
   "metadata": {
    "execution": {
     "iopub.execute_input": "2023-10-14T16:59:16.738494Z",
     "iopub.status.busy": "2023-10-14T16:59:16.736793Z",
     "iopub.status.idle": "2023-10-14T16:59:16.856352Z",
     "shell.execute_reply": "2023-10-14T16:59:16.855491Z",
     "shell.execute_reply.started": "2023-10-14T16:59:16.738460Z"
    },
    "papermill": {},
    "tags": []
   },
   "outputs": [],
   "source": [
    "df_sales = pd.merge(\n",
    "    df_deals,\n",
    "    df_dealstages_c,\n",
    "    left_on=\"dealstage\",\n",
    "    right_on=\"dealstage_id\",\n",
    "    how=\"left\",\n",
    ")\n",
    "print(\"Rows:\", len(df_deals))\n",
    "df_sales"
   ]
  },
  {
   "cell_type": "markdown",
   "id": "f1cb3cad-664e-4857-aa4f-7008c67cdf37",
   "metadata": {
    "execution": {
     "iopub.execute_input": "2023-08-23T11:04:05.839092Z",
     "iopub.status.busy": "2023-08-23T11:04:05.838855Z",
     "iopub.status.idle": "2023-08-23T11:04:05.841771Z",
     "shell.execute_reply": "2023-08-23T11:04:05.841077Z",
     "shell.execute_reply.started": "2023-08-23T11:04:05.839071Z"
    },
    "tags": []
   },
   "source": [
    "### Cleaning database"
   ]
  },
  {
   "cell_type": "code",
   "execution_count": null,
   "id": "about-advice",
   "metadata": {
    "execution": {
     "iopub.execute_input": "2023-10-14T16:59:16.861888Z",
     "iopub.status.busy": "2023-10-14T16:59:16.860216Z",
     "iopub.status.idle": "2023-10-14T16:59:17.049101Z",
     "shell.execute_reply": "2023-10-14T16:59:17.048355Z",
     "shell.execute_reply.started": "2023-10-14T16:59:16.861852Z"
    },
    "papermill": {},
    "tags": []
   },
   "outputs": [],
   "source": [
    "df_sales_c = df_sales.copy()\n",
    "\n",
    "to_order = [\n",
    "    \"createdate\",\n",
    "    \"dealname\",\n",
    "    \"amount\",\n",
    "    \"closedate\",\n",
    "    \"dealstage_label\",\n",
    "    \"displayOrder\",\n",
    "    \"probability\",\n",
    "    \"hs_lastmodifieddate\",\n",
    "    \"hs_object_id\"\n",
    "]\n",
    "df_sales_c = df_sales_c[to_order]\n",
    "\n",
    "# Cleaning\n",
    "df_sales_c[\"amount\"] = df_sales_c[\"amount\"].fillna(\"0\")\n",
    "df_sales_c.loc[df_sales_c[\"amount\"] == \"\", \"amount\"] = \"0\"\n",
    "\n",
    "# Formatting\n",
    "df_sales_c[\"amount\"] = df_sales_c[\"amount\"].astype(float)\n",
    "df_sales_c[\"probability\"] = df_sales_c[\"probability\"].astype(float)\n",
    "df_sales_c.createdate = pd.to_datetime(df_sales_c.createdate)\n",
    "df_sales_c.hs_lastmodifieddate = pd.to_datetime(df_sales_c.hs_lastmodifieddate)\n",
    "df_sales_c.closedate = pd.to_datetime(df_sales_c.closedate)\n",
    "\n",
    "# Calc\n",
    "df_sales_c[\"forecasted\"] = df_sales_c[\"amount\"] * df_sales_c[\"probability\"]\n",
    "\n",
    "print(\"Rows:\", len(df_sales_c))\n",
    "df_sales_c"
   ]
  },
  {
   "cell_type": "markdown",
   "id": "96b9ae95-f5c1-4331-b88a-9c0877896ea8",
   "metadata": {
    "execution": {
     "iopub.execute_input": "2023-08-23T10:18:34.741055Z",
     "iopub.status.busy": "2023-08-23T10:18:34.740715Z",
     "iopub.status.idle": "2023-08-23T10:18:34.753231Z",
     "shell.execute_reply": "2023-08-23T10:18:34.752668Z",
     "shell.execute_reply.started": "2023-08-23T10:18:34.741026Z"
    }
   },
   "source": [
    "## Output"
   ]
  },
  {
   "cell_type": "markdown",
   "id": "18f5c2ff-8843-4d2e-996d-286b09d81a30",
   "metadata": {
    "execution": {
     "iopub.execute_input": "2023-08-23T10:20:12.901803Z",
     "iopub.status.busy": "2023-08-23T10:20:12.901505Z",
     "iopub.status.idle": "2023-08-23T10:20:12.908879Z",
     "shell.execute_reply": "2023-08-23T10:20:12.908251Z",
     "shell.execute_reply.started": "2023-08-23T10:20:12.901775Z"
    }
   },
   "source": [
    "### Save dataframe to csv"
   ]
  },
  {
   "cell_type": "code",
   "execution_count": null,
   "id": "363e9f11-984b-4c92-acad-9bb1f270fe0c",
   "metadata": {
    "execution": {
     "iopub.execute_input": "2023-10-14T16:59:17.050855Z",
     "iopub.status.busy": "2023-10-14T16:59:17.050400Z",
     "iopub.status.idle": "2023-10-14T16:59:17.169063Z",
     "shell.execute_reply": "2023-10-14T16:59:17.168305Z",
     "shell.execute_reply.started": "2023-10-14T16:59:17.050817Z"
    },
    "tags": []
   },
   "outputs": [],
   "source": [
    "df_sales_c.to_csv(output_file_path, index=False)"
   ]
  }
 ],
 "metadata": {
  "kernelspec": {
   "display_name": "Python 3",
   "language": "python",
   "name": "python3"
  },
  "language_info": {
   "codemirror_mode": {
    "name": "ipython",
    "version": 3
   },
   "file_extension": ".py",
   "mimetype": "text/x-python",
   "name": "python",
   "nbconvert_exporter": "python",
   "pygments_lexer": "ipython3",
   "version": "3.9.6"
  },
  "naas": {
   "notebook_id": "a82cec3af17c939d191f8ce0883159014a63484fd77e1ec01c92c4d6358c90aa",
   "notebook_path": "HubSpot/HubSpot_Send_sales_brief.ipynb"
  },
  "papermill": {
   "default_parameters": {},
   "environment_variables": {},
   "parameters": {},
   "version": "2.3.3"
  },
  "widgets": {
   "application/vnd.jupyter.widget-state+json": {
    "state": {},
    "version_major": 2,
    "version_minor": 0
   }
  }
 },
 "nbformat": 4,
 "nbformat_minor": 5
}
