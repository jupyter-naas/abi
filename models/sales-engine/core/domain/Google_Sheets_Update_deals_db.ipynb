{
 "cells": [
  {
   "cell_type": "markdown",
   "id": "international-creativity",
   "metadata": {
    "papermill": {},
    "tags": []
   },
   "source": [
    "<img width=\"8%\" alt=\"Google Sheets.png\" src=\"https://raw.githubusercontent.com/jupyter-naas/awesome-notebooks/master/.github/assets/logos/Google%20Sheets.png\" style=\"border-radius: 15%\">"
   ]
  },
  {
   "cell_type": "markdown",
   "id": "unlimited-bookmark",
   "metadata": {
    "papermill": {},
    "tags": []
   },
   "source": [
    "# Google Sheets - Update deals database"
   ]
  },
  {
   "cell_type": "markdown",
   "id": "tags_cell",
   "metadata": {
    "papermill": {},
    "tags": []
   },
   "source": [
    "**Tags:** #googlesheets #gsheet #data #naas_drivers #sales-engine #automation #deals"
   ]
  },
  {
   "cell_type": "markdown",
   "id": "fbbbbc71-6333-4a70-b371-c9b82f8b5299",
   "metadata": {
    "papermill": {},
    "tags": []
   },
   "source": [
    "**Author:** [Florent Ravenel](https://www.linkedin.com/in/florent-ravenel/)"
   ]
  },
  {
   "cell_type": "markdown",
   "id": "naas-description",
   "metadata": {
    "papermill": {},
    "tags": [
     "description"
    ]
   },
   "source": [
    "**Description:** This notebook updates \"Deals\" database."
   ]
  },
  {
   "cell_type": "markdown",
   "id": "input_cell",
   "metadata": {
    "papermill": {},
    "tags": []
   },
   "source": [
    "## Input"
   ]
  },
  {
   "cell_type": "markdown",
   "id": "55d9e878-2148-47e3-a13d-09ba77202893",
   "metadata": {
    "papermill": {},
    "tags": []
   },
   "source": [
    "### Import libraries"
   ]
  },
  {
   "cell_type": "code",
   "execution_count": 1,
   "id": "5fad521a-4a18-4dc7-b13d-98a37172715b",
   "metadata": {
    "execution": {
     "iopub.execute_input": "2024-01-22T18:01:13.284572Z",
     "iopub.status.busy": "2024-01-22T18:01:13.284161Z",
     "iopub.status.idle": "2024-01-22T18:01:29.191214Z",
     "shell.execute_reply": "2024-01-22T18:01:29.190428Z",
     "shell.execute_reply.started": "2024-01-22T18:01:13.284496Z"
    },
    "papermill": {},
    "tags": []
   },
   "outputs": [
    {
     "name": "stdout",
     "output_type": "stream",
     "text": [
      "✅ utils file '/home/ftp/abi/utils/data.ipynb' successfully loaded.\n",
      "✅ utils file '/home/ftp/abi/utils/llm.ipynb' successfully loaded.\n",
      "✅ utils file '/home/ftp/abi/utils/naas_chat_plugin.ipynb' successfully loaded.\n",
      "✅ utils file '/home/ftp/abi/utils/naas_lab.ipynb' successfully loaded.\n"
     ]
    }
   ],
   "source": [
    "from naas_drivers import gsheet\n",
    "import pandas as pd\n",
    "import os\n",
    "from datetime import date\n",
    "import naas_data_product\n",
    "import time"
   ]
  },
  {
   "cell_type": "markdown",
   "id": "ec39e794-a8cd-41b8-9489-9ddb962a601c",
   "metadata": {
    "papermill": {},
    "tags": []
   },
   "source": [
    "### Setup variables\n",
    "**Inputs**\n",
    "- `entity_dir`: This variable represents the entity directory.\n",
    "- `entity_name`: This variable holds the entity name.\n",
    "- `spreadsheet_url`: Google Sheets spreadsheet URL.\n",
    "- `sheet_name_input`: Google Sheets sheet name storing growth data.\n",
    "\n",
    "**Outputs**\n",
    "- `output_dir`: Output directory to save file to.\n",
    "- `file_sales`: Output file name to save as picke.\n",
    "- `sheet_name_output`: Google Sheets sheet name storing sales qualified leads."
   ]
  },
  {
   "cell_type": "code",
   "execution_count": 9,
   "id": "7c34bff6-9136-4aaf-a692-b38129b7de83",
   "metadata": {
    "execution": {
     "iopub.execute_input": "2024-01-22T18:02:36.211335Z",
     "iopub.status.busy": "2024-01-22T18:02:36.210994Z",
     "iopub.status.idle": "2024-01-22T18:02:36.236074Z",
     "shell.execute_reply": "2024-01-22T18:02:36.235374Z",
     "shell.execute_reply.started": "2024-01-22T18:02:36.211299Z"
    },
    "papermill": {},
    "tags": [
     "parameters"
    ]
   },
   "outputs": [],
   "source": [
    "# Inputs\n",
    "entity_dir = pload(os.path.join(naas_data_product.OUTPUTS_PATH, \"entities\", \"0\"), \"entity_dir\")\n",
    "entity_name = pload(os.path.join(naas_data_product.OUTPUTS_PATH, \"entities\", \"0\"), \"entity_name\")\n",
    "spreadsheet_url = pload(os.path.join(naas_data_product.OUTPUTS_PATH, \"entities\", \"0\"), \"abi_spreadsheet\")\n",
    "sheet_name_input = \"CONTACTS\"\n",
    "\n",
    "# Outputs\n",
    "output_dir = os.path.join(entity_dir, \"sales-engine\", date.today().isoformat())\n",
    "file_deals = \"deals\"\n",
    "sheet_name_output = \"DEALS\""
   ]
  },
  {
   "cell_type": "markdown",
   "id": "model_cell",
   "metadata": {
    "papermill": {},
    "tags": []
   },
   "source": [
    "## Model"
   ]
  },
  {
   "cell_type": "markdown",
   "id": "9ee10d03-43d6-4579-bb53-76744f017e9c",
   "metadata": {},
   "source": [
    "### Get deals"
   ]
  },
  {
   "cell_type": "code",
   "execution_count": 3,
   "id": "3b560788-95bd-4c1b-81cc-d6aee4006344",
   "metadata": {
    "execution": {
     "iopub.execute_input": "2024-01-22T18:01:29.222899Z",
     "iopub.status.busy": "2024-01-22T18:01:29.222662Z",
     "iopub.status.idle": "2024-01-22T18:01:30.042264Z",
     "shell.execute_reply": "2024-01-22T18:01:30.041547Z",
     "shell.execute_reply.started": "2024-01-22T18:01:29.222871Z"
    },
    "tags": []
   },
   "outputs": [
    {
     "name": "stdout",
     "output_type": "stream",
     "text": [
      "- Deals (init): 62\n"
     ]
    }
   ],
   "source": [
    "df_init = gsheet.connect(spreadsheet_url).get(sheet_name=sheet_name_output)\n",
    "if not isinstance(df_init, pd.DataFrame):\n",
    "    df_init = pd.DataFrame()\n",
    "print(\"- Deals (init):\", len(df_init))\n",
    "# df_init.head(3)"
   ]
  },
  {
   "cell_type": "markdown",
   "id": "4aa0143a-9b13-4fcb-a455-77ae93ce7a81",
   "metadata": {},
   "source": [
    "### Get contacts view"
   ]
  },
  {
   "cell_type": "code",
   "execution_count": 4,
   "id": "8dce7a75-8e97-4843-a0a6-7b51f01fb030",
   "metadata": {
    "execution": {
     "iopub.execute_input": "2024-01-22T18:01:30.047147Z",
     "iopub.status.busy": "2024-01-22T18:01:30.045426Z",
     "iopub.status.idle": "2024-01-22T18:01:32.697399Z",
     "shell.execute_reply": "2024-01-22T18:01:32.696645Z",
     "shell.execute_reply.started": "2024-01-22T18:01:30.047112Z"
    },
    "tags": []
   },
   "outputs": [
    {
     "name": "stdout",
     "output_type": "stream",
     "text": [
      "- Contacts view: 731\n"
     ]
    }
   ],
   "source": [
    "df_contacts = gsheet.connect(spreadsheet_url).get(sheet_name=sheet_name_input)\n",
    "if not isinstance(df_contacts, pd.DataFrame):\n",
    "    df_contacts = pd.DataFrame()\n",
    "print(\"- Contacts view:\", len(df_contacts))\n",
    "# df_contacts.head(3)"
   ]
  },
  {
   "cell_type": "markdown",
   "id": "4ef1a431-e387-4cc2-832c-6f10f486cc26",
   "metadata": {},
   "source": [
    "### Get entity data"
   ]
  },
  {
   "cell_type": "code",
   "execution_count": 5,
   "id": "4a6e5123-eb87-4a75-bff3-175574348c0d",
   "metadata": {
    "execution": {
     "iopub.execute_input": "2024-01-22T18:01:32.700761Z",
     "iopub.status.busy": "2024-01-22T18:01:32.700509Z",
     "iopub.status.idle": "2024-01-22T18:01:33.088945Z",
     "shell.execute_reply": "2024-01-22T18:01:33.074683Z",
     "shell.execute_reply.started": "2024-01-22T18:01:32.700731Z"
    },
    "tags": []
   },
   "outputs": [
    {
     "name": "stdout",
     "output_type": "stream",
     "text": [
      "- Entity: Jérémy Ravenel\n",
      "- Entity row: 1\n"
     ]
    }
   ],
   "source": [
    "df_entity = gsheet.connect(spreadsheet_url).get(sheet_name=\"ENTITY\").fillna(\"NA\")\n",
    "df_entity = df_entity[df_entity[\"ENTITY\"] == entity_name].reset_index(drop=True)\n",
    "print(\"- Entity:\", entity_name)\n",
    "print(\"- Entity row:\", len(df_entity))\n",
    "# df_entity.head(1)"
   ]
  },
  {
   "cell_type": "markdown",
   "id": "739a63fb-fd47-47c7-be14-64849279a1e7",
   "metadata": {},
   "source": [
    "### Create deals database"
   ]
  },
  {
   "cell_type": "code",
   "execution_count": 11,
   "id": "090ff963-8f6f-4c4b-bb9d-55f9d4209e50",
   "metadata": {
    "execution": {
     "iopub.execute_input": "2024-01-22T18:03:40.284611Z",
     "iopub.status.busy": "2024-01-22T18:03:40.284304Z",
     "iopub.status.idle": "2024-01-22T18:03:40.356920Z",
     "shell.execute_reply": "2024-01-22T18:03:40.356265Z",
     "shell.execute_reply.started": "2024-01-22T18:03:40.284581Z"
    },
    "tags": []
   },
   "outputs": [
    {
     "name": "stdout",
     "output_type": "stream",
     "text": [
      "Sales Qualified Lead: 103\n",
      "\n",
      "- Applying filter on PEOPLE_SENIORITY: ['Professional/Staff', 'Senior Professional/Staff', 'Lead/Supervisor', 'Manager', 'Senior Manager', 'Executive', 'Top Executive']\n",
      "- Remaining deals: 103\n",
      "\n",
      "- Applying filter on PEOPLE_DEPARTMENT: ['Human Resources (HR)', 'Finance', 'Marketing', 'Sales', 'Operations', 'Information Technology (IT)', 'Research and Development (R&D)', 'Customer Service', 'Legal', 'Procurement', 'Quality Assurance (QA)', 'Logistics and Supply Chain', 'Public Relations (PR)', 'Executive Management', 'Product Management', 'Strategy and Business Development', 'Education']\n",
      "- Remaining deals: 80\n",
      "\n",
      "- Applying filter on ORG_STAFF_RANGE_NAME: ['Solopreneur (0-1)', 'Micro Team (2-10)', 'Small Company (11-50)', 'Medium Company (51-200)', 'Large Company (201-500)', 'Enterprise Level (501-1000)', 'Major Corporation(1001-5000)', 'Global Corporation (5001-10000)', 'Mega Corporation (10001>)']\n",
      "- Remaining deals: 62\n",
      "\n",
      "- Applying filter on ORG_NAME: ['Fribl', '33A', 'V Squared', 'sumamoOs BI & Digital Channels, S.L.', 'Prediktiva', 'intervu.ai', 'data.world', 'Philips', 'CrushContracts', 'Aspire360', '7wData', 'Independent Consultant', 'Witful Data', 'Beyond Business School', 'Algorithmic Scale', 'Botmartz IT Solutions', 'Stealth Startup', 'DeepLearning.AI', 'College de Paris International', 'Crafty Apes', 'illumineX', 'UBS', 'Amazon', 'LunarTech', 'Doctor Project', 'SMBC Nikko Securities America, Inc.', 'Data Freedom Foundation', 'Eskimoz', 'Booz Allen Hamilton', 'Skillfield', 'SEGES Innovation', 'Supply-Graph', 'DANS', 'Zeenea', 'Metaphysic.ai', 'Boutique Boost', 'Concitor', 'Outsourcing BD Institute', 'Financial Sense, LLC', 'Quansight', 'A.D ENVIRONNEMENT', 'Humtap', 'INSTITUT FREDRIK ROSING BULL', 'Microsoft', 'Raito', 'Opulands Landscape Design & Construction', 'Teleperformance', 'HK Analytics', 'Uber', 'Aiven', 'ninety9cents', 'WINNIIO AB', 'Infocrunch', 'Global Entrepreneurship Alliance', 'My Plan Keeper.AI', 'Shandong Jifa International Trade Co.,Ltd', 'Arize AI', 'Aperture', 'ValueLabs']\n",
      "- Remaining deals: 62\n",
      "\n",
      "- Applying filter on ORG_INDUSTRY: ['Technology, Information and Internet', 'Design Services', 'Business Consulting and Services', 'IT Services and IT Consulting', 'Software Development', 'Hospitals and Health Care', 'Law Practice', 'Hospitality', 'Higher Education', 'Entertainment Providers', 'Financial Services', 'Investment Banking', 'Research Services', 'Advertising Services', 'Online Audio and Video Media', 'Environmental Services', 'Think Tanks', 'Construction', 'Outsourcing and Offshoring Consulting', 'Transportation, Logistics, Supply Chain and Storage', 'Education Administration Programs', 'Human Resources Services', 'Armed Forces', 'Photography']\n",
      "- Remaining deals: 62\n",
      "\n",
      "- Applying filter on ORG_COUNTRY: ['France', 'Denmark', 'United States', 'Spain', 'Netherlands', 'Belgium', 'United Kingdom', 'Türkiye', 'Romania', 'Sweden', 'India', 'Switzerland', 'Australia', 'Japan', 'Bangladesh', 'Not Found', 'Finland', 'South Africa', 'NA', 'China']\n",
      "- Remaining deals: 62\n",
      "\n",
      "🙌 Deals: 62\n"
     ]
    },
    {
     "data": {
      "text/html": [
       "<div>\n",
       "<style scoped>\n",
       "    .dataframe tbody tr th:only-of-type {\n",
       "        vertical-align: middle;\n",
       "    }\n",
       "\n",
       "    .dataframe tbody tr th {\n",
       "        vertical-align: top;\n",
       "    }\n",
       "\n",
       "    .dataframe thead th {\n",
       "        text-align: right;\n",
       "    }\n",
       "</style>\n",
       "<table border=\"1\" class=\"dataframe\">\n",
       "  <thead>\n",
       "    <tr style=\"text-align: right;\">\n",
       "      <th></th>\n",
       "      <th>ENTITY</th>\n",
       "      <th>SCENARIO</th>\n",
       "      <th>DEAL_NAME</th>\n",
       "      <th>DEAL_CREATED_DATE</th>\n",
       "      <th>DEAL_SCORE</th>\n",
       "      <th>PEOPLE_FULLNAME</th>\n",
       "      <th>PEOPLE_OCCUPATION</th>\n",
       "      <th>PEOPLE_SENIORITY</th>\n",
       "      <th>PEOPLE_DEPARTMENT</th>\n",
       "      <th>PEOPLE_NOTES</th>\n",
       "      <th>MESSAGING_OPTIONS</th>\n",
       "      <th>ORG_NAME</th>\n",
       "      <th>ORG_STAFF_RANGE_NAME</th>\n",
       "      <th>ORG_INDUSTRY</th>\n",
       "      <th>ORG_COUNTRY</th>\n",
       "      <th>PEOPLE_PROFILE_URL</th>\n",
       "      <th>ORG_LINKEDIN_URL</th>\n",
       "      <th>CRM_CONTACT_ID</th>\n",
       "      <th>CRM_ORG_ID</th>\n",
       "      <th>CRM_DEAL_ID</th>\n",
       "    </tr>\n",
       "  </thead>\n",
       "  <tbody>\n",
       "    <tr>\n",
       "      <th>0</th>\n",
       "      <td>Jérémy Ravenel</td>\n",
       "      <td>W04-2024</td>\n",
       "      <td>Anthony Alcaraz (Fribl)</td>\n",
       "      <td>2024-01-22</td>\n",
       "      <td>99</td>\n",
       "      <td>Anthony Alcaraz</td>\n",
       "      <td>Chief Product Officer - AI Architect | @Fribl ...</td>\n",
       "      <td>Executive</td>\n",
       "      <td>Product Management</td>\n",
       "      <td>[\"Anthony Alcaraz  commented '💕 ' on 'I wish w...</td>\n",
       "      <td>1. Hi Anthony, I noticed your comment on Jérém...</td>\n",
       "      <td>Fribl</td>\n",
       "      <td>Micro Team (2-10)</td>\n",
       "      <td>Technology, Information and Internet</td>\n",
       "      <td>France</td>\n",
       "      <td>https://www.linkedin.com/in/ACoAACVPJNABGwj10w...</td>\n",
       "      <td>https://www.linkedin.com/company/fribl</td>\n",
       "      <td>TBD</td>\n",
       "      <td>TBD</td>\n",
       "      <td>TBD</td>\n",
       "    </tr>\n",
       "    <tr>\n",
       "      <th>1</th>\n",
       "      <td>Jérémy Ravenel</td>\n",
       "      <td>W04-2024</td>\n",
       "      <td>Matteo Castiello (33A)</td>\n",
       "      <td>2024-01-22</td>\n",
       "      <td>64</td>\n",
       "      <td>Matteo Castiello</td>\n",
       "      <td>Generative AI Advisor and Researcher | Guiding...</td>\n",
       "      <td>Professional/Staff</td>\n",
       "      <td>Research and Development (R&amp;D)</td>\n",
       "      <td>[\"Matteo Castiello sent 'praise' reaction to '...</td>\n",
       "      <td>1. Hi Matteo, I noticed your expertise in Gene...</td>\n",
       "      <td>33A</td>\n",
       "      <td>Micro Team (2-10)</td>\n",
       "      <td>Design Services</td>\n",
       "      <td>Denmark</td>\n",
       "      <td>https://www.linkedin.com/in/ACoAACenYg8BoVOSWA...</td>\n",
       "      <td>https://www.linkedin.com/company/33a</td>\n",
       "      <td>TBD</td>\n",
       "      <td>TBD</td>\n",
       "      <td>TBD</td>\n",
       "    </tr>\n",
       "    <tr>\n",
       "      <th>2</th>\n",
       "      <td>Jérémy Ravenel</td>\n",
       "      <td>W04-2024</td>\n",
       "      <td>Vin Vashishta (V Squared)</td>\n",
       "      <td>2024-01-22</td>\n",
       "      <td>57</td>\n",
       "      <td>Vin Vashishta</td>\n",
       "      <td>AI Advisor | Author “From Data To Profit” | Co...</td>\n",
       "      <td>Executive</td>\n",
       "      <td>Education</td>\n",
       "      <td>['Vin Vashishta sent \\'like\\' reaction to \\'We...</td>\n",
       "      <td>1. \"Hi Vin, I couldn't agree more with your th...</td>\n",
       "      <td>V Squared</td>\n",
       "      <td>Micro Team (2-10)</td>\n",
       "      <td>Business Consulting and Services</td>\n",
       "      <td>United States</td>\n",
       "      <td>https://www.linkedin.com/in/ACoAAADS0WQBhQQVMD...</td>\n",
       "      <td>https://www.linkedin.com/company/endgame-engin...</td>\n",
       "      <td>TBD</td>\n",
       "      <td>TBD</td>\n",
       "      <td>TBD</td>\n",
       "    </tr>\n",
       "  </tbody>\n",
       "</table>\n",
       "</div>"
      ],
      "text/plain": [
       "           ENTITY  SCENARIO                  DEAL_NAME DEAL_CREATED_DATE  \\\n",
       "0  Jérémy Ravenel  W04-2024    Anthony Alcaraz (Fribl)        2024-01-22   \n",
       "1  Jérémy Ravenel  W04-2024     Matteo Castiello (33A)        2024-01-22   \n",
       "2  Jérémy Ravenel  W04-2024  Vin Vashishta (V Squared)        2024-01-22   \n",
       "\n",
       "   DEAL_SCORE   PEOPLE_FULLNAME  \\\n",
       "0          99   Anthony Alcaraz   \n",
       "1          64  Matteo Castiello   \n",
       "2          57     Vin Vashishta   \n",
       "\n",
       "                                   PEOPLE_OCCUPATION    PEOPLE_SENIORITY  \\\n",
       "0  Chief Product Officer - AI Architect | @Fribl ...           Executive   \n",
       "1  Generative AI Advisor and Researcher | Guiding...  Professional/Staff   \n",
       "2  AI Advisor | Author “From Data To Profit” | Co...           Executive   \n",
       "\n",
       "                PEOPLE_DEPARTMENT  \\\n",
       "0              Product Management   \n",
       "1  Research and Development (R&D)   \n",
       "2                       Education   \n",
       "\n",
       "                                        PEOPLE_NOTES  \\\n",
       "0  [\"Anthony Alcaraz  commented '💕 ' on 'I wish w...   \n",
       "1  [\"Matteo Castiello sent 'praise' reaction to '...   \n",
       "2  ['Vin Vashishta sent \\'like\\' reaction to \\'We...   \n",
       "\n",
       "                                   MESSAGING_OPTIONS   ORG_NAME  \\\n",
       "0  1. Hi Anthony, I noticed your comment on Jérém...      Fribl   \n",
       "1  1. Hi Matteo, I noticed your expertise in Gene...        33A   \n",
       "2  1. \"Hi Vin, I couldn't agree more with your th...  V Squared   \n",
       "\n",
       "  ORG_STAFF_RANGE_NAME                          ORG_INDUSTRY    ORG_COUNTRY  \\\n",
       "0    Micro Team (2-10)  Technology, Information and Internet         France   \n",
       "1    Micro Team (2-10)                       Design Services        Denmark   \n",
       "2    Micro Team (2-10)      Business Consulting and Services  United States   \n",
       "\n",
       "                                  PEOPLE_PROFILE_URL  \\\n",
       "0  https://www.linkedin.com/in/ACoAACVPJNABGwj10w...   \n",
       "1  https://www.linkedin.com/in/ACoAACenYg8BoVOSWA...   \n",
       "2  https://www.linkedin.com/in/ACoAAADS0WQBhQQVMD...   \n",
       "\n",
       "                                    ORG_LINKEDIN_URL CRM_CONTACT_ID  \\\n",
       "0             https://www.linkedin.com/company/fribl            TBD   \n",
       "1               https://www.linkedin.com/company/33a            TBD   \n",
       "2  https://www.linkedin.com/company/endgame-engin...            TBD   \n",
       "\n",
       "  CRM_ORG_ID CRM_DEAL_ID  \n",
       "0        TBD         TBD  \n",
       "1        TBD         TBD  \n",
       "2        TBD         TBD  "
      ]
     },
     "execution_count": 11,
     "metadata": {},
     "output_type": "execute_result"
    }
   ],
   "source": [
    "def get_list(df, column):\n",
    "    filters = []\n",
    "    values = df.loc[0, column].split(\",\")\n",
    "    if len(values) > 0:\n",
    "        filters = [v.strip() for v in values]\n",
    "    return filters\n",
    "\n",
    "def create_db_deals(\n",
    "    df_init,\n",
    "    df_entity,\n",
    "    entity_name\n",
    "):\n",
    "    # Init\n",
    "    df = df_init.copy()\n",
    "    \n",
    "    # Filters on SQL\n",
    "    df = df[\n",
    "        (df[\"ENTITY\"].str.contains(entity_name)) & \n",
    "        (df[\"LEAD_STATUS\"].isin([\"Sales Qualified Lead\"]))\n",
    "    ]\n",
    "    print(\"Sales Qualified Lead:\", len(df))\n",
    "    print()\n",
    "    \n",
    "    # Apply ICP filters from entity\n",
    "    for c in df_entity.columns:\n",
    "        value = df_entity.loc[0, c]\n",
    "        if c.startswith(\"ICP\"):\n",
    "            col_icp = c.replace(\"ICP_\", \"\")\n",
    "            if value == \"NA\":\n",
    "                filter_icp = df[col_icp].unique().tolist()\n",
    "            else:\n",
    "                filter_icp = get_list(df_entity, c)\n",
    "            print(f\"- Applying filter on {col_icp}:\", filter_icp)\n",
    "            df = df[(df[col_icp].isin(filter_icp))]\n",
    "            print(\"- Remaining deals:\", len(df))\n",
    "            print()\n",
    "            \n",
    "    # Create columns\n",
    "    df[\"SCENARIO\"] = pd.to_datetime(df[\"SQL_DATE\"].str[:19]).dt.strftime(\"W%W-%Y\")\n",
    "    df[\"DEAL_NAME\"] = df[\"PEOPLE_FULLNAME\"] + \" (\" + df[\"ORG_NAME\"] + \")\"\n",
    "    seniority_score = {\n",
    "        \"Entry-Level\": 1,\n",
    "        \"Professional/Staff\": 2,\n",
    "        \"Senior Professional/Staff\": 3,\n",
    "        \"Lead/Supervisor\": 4,\n",
    "        \"Manager\": 5,\n",
    "        \"Senior Manager\": 6,\n",
    "        \"Executive\": 7,\n",
    "        \"Top Executive\": 8\n",
    "    }\n",
    "    df[\"PEOPLE_SENIORITY_SCORE\"] = df[\"PEOPLE_SENIORITY\"].map(seniority_score).fillna(0)\n",
    "    df[\"DEAL_SCORE\"] = df[\"PEOPLE_INTERACTION_SCORE\"].astype(int) + df[\"ORG_INTERACTION_SCORE\"].astype(int) + df[\"PEOPLE_SENIORITY_SCORE\"].astype(int)\n",
    "    df[\"SQL_DATE\"] = df[\"SQL_DATE\"].str[:10]\n",
    "    df[\"CRM_DEAL_ID\"] = \"TBD\"\n",
    "    \n",
    "    # Cleaning\n",
    "    to_order = [\n",
    "        \"ENTITY\",\n",
    "        \"SCENARIO\",\n",
    "        \"DEAL_NAME\",\n",
    "        \"SQL_DATE\",\n",
    "        \"DEAL_SCORE\",\n",
    "        \"PEOPLE_FULLNAME\",\n",
    "        \"PEOPLE_OCCUPATION\",\n",
    "        \"PEOPLE_SENIORITY\",\n",
    "        \"PEOPLE_DEPARTMENT\",\n",
    "        \"PEOPLE_NOTES\",\n",
    "        \"MESSAGING_OPTIONS\",\n",
    "        \"ORG_NAME\",\n",
    "        \"ORG_STAFF_RANGE_NAME\",\n",
    "        \"ORG_INDUSTRY\",\n",
    "        'ORG_COUNTRY',\n",
    "        'PEOPLE_PROFILE_URL',\n",
    "        'ORG_LINKEDIN_URL',\n",
    "        \"CRM_CONTACT_ID\",\n",
    "        \"CRM_ORG_ID\",\n",
    "        \"CRM_DEAL_ID\"\n",
    "    ]\n",
    "    to_rename = {\n",
    "        \"SQL_DATE\": \"DEAL_CREATED_DATE\",\n",
    "    }\n",
    "    df = df[to_order].rename(columns=to_rename).sort_values(by=[\"DEAL_CREATED_DATE\", \"DEAL_SCORE\"], ascending=[False, False])\n",
    "    return df.reset_index(drop=True)\n",
    "\n",
    "db_deals = create_db_deals(\n",
    "    df_contacts,\n",
    "    df_entity,\n",
    "    entity_name\n",
    ")\n",
    "print(\"🙌 Deals:\", len(db_deals))\n",
    "db_deals.head(3)"
   ]
  },
  {
   "cell_type": "markdown",
   "id": "output_cell",
   "metadata": {
    "papermill": {},
    "tags": []
   },
   "source": [
    "## Output"
   ]
  },
  {
   "cell_type": "markdown",
   "id": "7c35edb2-0629-4637-8076-e44e5677fb52",
   "metadata": {},
   "source": [
    "### Save data"
   ]
  },
  {
   "cell_type": "code",
   "execution_count": 12,
   "id": "3d825d28-b328-4f6b-89e5-abb48efd2694",
   "metadata": {
    "execution": {
     "iopub.execute_input": "2024-01-22T18:03:51.308771Z",
     "iopub.status.busy": "2024-01-22T18:03:51.308506Z",
     "iopub.status.idle": "2024-01-22T18:03:51.364416Z",
     "shell.execute_reply": "2024-01-22T18:03:51.363682Z",
     "shell.execute_reply.started": "2024-01-22T18:03:51.308744Z"
    },
    "tags": []
   },
   "outputs": [],
   "source": [
    "pdump(output_dir, db_deals, file_deals)"
   ]
  },
  {
   "cell_type": "markdown",
   "id": "28b11537-6391-4022-b55d-dd1f84cbe97f",
   "metadata": {
    "papermill": {},
    "tags": []
   },
   "source": [
    "### Send data to Google Sheets spreadsheet"
   ]
  },
  {
   "cell_type": "code",
   "execution_count": 13,
   "id": "32e91b35-c1f8-4fe6-ae78-a2d4b79c8be7",
   "metadata": {
    "execution": {
     "iopub.execute_input": "2024-01-22T18:03:52.256032Z",
     "iopub.status.busy": "2024-01-22T18:03:52.255806Z",
     "iopub.status.idle": "2024-01-22T18:03:56.938783Z",
     "shell.execute_reply": "2024-01-22T18:03:56.938103Z",
     "shell.execute_reply.started": "2024-01-22T18:03:52.256009Z"
    },
    "papermill": {},
    "tags": []
   },
   "outputs": [],
   "source": [
    "df_check = pd.concat([db_deals.astype(str), df_init.astype(str)]).drop_duplicates(keep=False)\n",
    "if len(df_check) > 0:\n",
    "    gsheet.connect(spreadsheet_url).send(sheet_name=sheet_name_output, data=db_deals, append=False)\n",
    "else:\n",
    "    print(\"Noting to update in Google Sheets!\")   "
   ]
  },
  {
   "cell_type": "code",
   "execution_count": null,
   "id": "13cc4241-9a56-4495-9369-bf3de2bcfb42",
   "metadata": {},
   "outputs": [],
   "source": []
  }
 ],
 "metadata": {
  "kernelspec": {
   "display_name": "Python 3",
   "language": "python",
   "name": "python3"
  },
  "language_info": {
   "codemirror_mode": {
    "name": "ipython",
    "version": 3
   },
   "file_extension": ".py",
   "mimetype": "text/x-python",
   "name": "python",
   "nbconvert_exporter": "python",
   "pygments_lexer": "ipython3",
   "version": "3.9.6"
  },
  "naas": {
   "notebook_id": "cf32ecf61a1d6fdcae3273e7e70026564087776ace44ace0a939c08a2085586f",
   "notebook_path": "Google Sheets/Google_Sheets_Send_data.ipynb"
  },
  "papermill": {
   "default_parameters": {},
   "environment_variables": {},
   "parameters": {},
   "version": "2.3.3"
  }
 },
 "nbformat": 4,
 "nbformat_minor": 5
}
