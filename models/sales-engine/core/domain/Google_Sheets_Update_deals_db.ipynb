{
 "cells": [
  {
   "cell_type": "markdown",
   "id": "international-creativity",
   "metadata": {
    "papermill": {},
    "tags": []
   },
   "source": [
    "<img width=\"8%\" alt=\"Google Sheets.png\" src=\"https://raw.githubusercontent.com/jupyter-naas/awesome-notebooks/master/.github/assets/logos/Google%20Sheets.png\" style=\"border-radius: 15%\">"
   ]
  },
  {
   "cell_type": "markdown",
   "id": "unlimited-bookmark",
   "metadata": {
    "papermill": {},
    "tags": []
   },
   "source": [
    "# Google Sheets - Update deals database"
   ]
  },
  {
   "cell_type": "markdown",
   "id": "tags_cell",
   "metadata": {
    "papermill": {},
    "tags": []
   },
   "source": [
    "**Tags:** #googlesheets #gsheet #data #naas_drivers #sales-engine #automation #deals"
   ]
  },
  {
   "cell_type": "markdown",
   "id": "fbbbbc71-6333-4a70-b371-c9b82f8b5299",
   "metadata": {
    "papermill": {},
    "tags": []
   },
   "source": [
    "**Author:** [Florent Ravenel](https://www.linkedin.com/in/florent-ravenel/)"
   ]
  },
  {
   "cell_type": "markdown",
   "id": "naas-description",
   "metadata": {
    "papermill": {},
    "tags": [
     "description"
    ]
   },
   "source": [
    "**Description:** This notebook updates \"Deals\" database."
   ]
  },
  {
   "cell_type": "markdown",
   "id": "input_cell",
   "metadata": {
    "papermill": {},
    "tags": []
   },
   "source": [
    "## Input"
   ]
  },
  {
   "cell_type": "markdown",
   "id": "55d9e878-2148-47e3-a13d-09ba77202893",
   "metadata": {
    "papermill": {},
    "tags": []
   },
   "source": [
    "### Import libraries"
   ]
  },
  {
   "cell_type": "code",
   "execution_count": null,
   "id": "5fad521a-4a18-4dc7-b13d-98a37172715b",
   "metadata": {
    "papermill": {},
    "tags": []
   },
   "outputs": [],
   "source": [
    "from naas_drivers import gsheet\n",
    "import pandas as pd\n",
    "import os\n",
    "from datetime import date\n",
    "import naas_data_product\n",
    "import time"
   ]
  },
  {
   "cell_type": "markdown",
   "id": "ec39e794-a8cd-41b8-9489-9ddb962a601c",
   "metadata": {
    "papermill": {},
    "tags": []
   },
   "source": [
    "### Setup variables\n",
    "**Inputs**\n",
    "- `entity_dir`: This variable represents the entity directory.\n",
    "- `entity_name`: This variable holds the entity name.\n",
    "- `spreadsheet_url`: Google Sheets spreadsheet URL.\n",
    "- `sheet_name_input`: Google Sheets sheet name storing growth data.\n",
    "\n",
    "**Outputs**\n",
    "- `output_dir`: Output directory to save file to.\n",
    "- `file_sales`: Output file name to save as picke.\n",
    "- `sheet_name_output`: Google Sheets sheet name storing sales qualified leads."
   ]
  },
  {
   "cell_type": "code",
   "execution_count": null,
   "id": "7c34bff6-9136-4aaf-a692-b38129b7de83",
   "metadata": {
    "papermill": {},
    "tags": [
     "parameters"
    ]
   },
   "outputs": [],
   "source": [
    "# Inputs\n",
    "entity_dir = pload(os.path.join(naas_data_product.OUTPUTS_PATH, \"entities\", \"0\"), \"entity_dir\")\n",
    "entity_name = pload(os.path.join(naas_data_product.OUTPUTS_PATH, \"entities\", \"0\"), \"entity_name\")\n",
    "spreadsheet_url = pload(os.path.join(naas_data_product.OUTPUTS_PATH, \"entities\", \"0\"), \"abi_spreadsheet\")\n",
    "sheet_name_input = \"CONTACTS\"\n",
    "\n",
    "# Outputs\n",
    "output_dir = os.path.join(entity_dir, \"sales-engine\", date.today().isoformat())\n",
    "file_deals = \"deals\"\n",
    "sheet_name_output = \"DEALS\""
   ]
  },
  {
   "cell_type": "markdown",
   "id": "model_cell",
   "metadata": {
    "papermill": {},
    "tags": []
   },
   "source": [
    "## Model"
   ]
  },
  {
   "cell_type": "markdown",
   "id": "9ee10d03-43d6-4579-bb53-76744f017e9c",
   "metadata": {},
   "source": [
    "### Get deals"
   ]
  },
  {
   "cell_type": "code",
   "execution_count": null,
   "id": "3b560788-95bd-4c1b-81cc-d6aee4006344",
   "metadata": {
    "tags": []
   },
   "outputs": [],
   "source": [
    "df_init = gsheet.connect(spreadsheet_url).get(sheet_name=sheet_name_output)\n",
    "if not isinstance(df_init, pd.DataFrame):\n",
    "    df_init = pd.DataFrame()\n",
    "print(\"- Deals (init):\", len(df_init))\n",
    "df_init.head(1)"
   ]
  },
  {
   "cell_type": "markdown",
   "id": "4aa0143a-9b13-4fcb-a455-77ae93ce7a81",
   "metadata": {},
   "source": [
    "### Get contacts view"
   ]
  },
  {
   "cell_type": "code",
   "execution_count": null,
   "id": "8dce7a75-8e97-4843-a0a6-7b51f01fb030",
   "metadata": {
    "tags": []
   },
   "outputs": [],
   "source": [
    "df_contacts = gsheet.connect(spreadsheet_url).get(sheet_name=sheet_name_input)\n",
    "if not isinstance(df_contacts, pd.DataFrame):\n",
    "    df_contacts = pd.DataFrame()\n",
    "print(\"- Contacts view:\", len(df_contacts))\n",
    "# df_contacts.head(1)"
   ]
  },
  {
   "cell_type": "markdown",
   "id": "4ef1a431-e387-4cc2-832c-6f10f486cc26",
   "metadata": {},
   "source": [
    "### Get entity data"
   ]
  },
  {
   "cell_type": "code",
   "execution_count": null,
   "id": "4a6e5123-eb87-4a75-bff3-175574348c0d",
   "metadata": {
    "tags": []
   },
   "outputs": [],
   "source": [
    "df_entity = gsheet.connect(spreadsheet_url).get(sheet_name=\"ENTITY\").fillna(\"NA\")\n",
    "df_entity = df_entity[df_entity[\"ENTITY\"] == entity_name].reset_index(drop=True)\n",
    "print(\"- Entity:\", entity_name)\n",
    "print(\"- Entity row:\", len(df_entity))\n",
    "# df_entity.head(1)"
   ]
  },
  {
   "cell_type": "markdown",
   "id": "739a63fb-fd47-47c7-be14-64849279a1e7",
   "metadata": {},
   "source": [
    "### Create deals database"
   ]
  },
  {
   "cell_type": "code",
   "execution_count": null,
   "id": "090ff963-8f6f-4c4b-bb9d-55f9d4209e50",
   "metadata": {
    "tags": []
   },
   "outputs": [],
   "source": [
    "def get_list(df, column):\n",
    "    filters = []\n",
    "    values = df.loc[0, column].split(\",\")\n",
    "    if len(values) > 0:\n",
    "        filters = [v.strip() for v in values]\n",
    "    return filters\n",
    "\n",
    "def create_db_deals(\n",
    "    df_init,\n",
    "    df_contacts,\n",
    "    df_entity,\n",
    "    entity_name\n",
    "):\n",
    "    # Init\n",
    "    df = df_contacts.copy()\n",
    "    crm_ids = get_dict_from_df(df_init, \"CRM_DEAL_ID\", \"DEAL_NAME\", \"deals_crm_ids\", output_dir, force_update=False)\n",
    "    print(\"CRM ID's:\", len(crm_ids))\n",
    "    \n",
    "    # Filters on SQL\n",
    "    df = df[\n",
    "        (df[\"ENTITY\"].str.contains(entity_name)) & \n",
    "        (df[\"LEAD_STATUS\"].isin([\"Sales Qualified Lead\"]))\n",
    "    ]\n",
    "    print(\"Sales Qualified Lead:\", len(df))\n",
    "    print()\n",
    "    \n",
    "    # Apply ICP filters from entity\n",
    "    for c in df_entity.columns:\n",
    "        value = df_entity.loc[0, c]\n",
    "        if c.startswith(\"ICP\"):\n",
    "            col_icp = c.replace(\"ICP_\", \"\")\n",
    "            if value == \"NA\":\n",
    "                filter_icp = df[col_icp].unique().tolist()\n",
    "            else:\n",
    "                filter_icp = get_list(df_entity, c)\n",
    "            print(f\"Applying filter on {col_icp}\")\n",
    "            includes = [v.strip() for v in filter_icp if not v.strip().startswith(\"-\")]\n",
    "            excludes = [v[1:].strip() for v in filter_icp if v.strip().startswith(\"-\")]\n",
    "#             print(includes, excludes)\n",
    "            if len(includes) > 0:\n",
    "                df = df[(df[col_icp].isin(includes))]\n",
    "            if len(excludes) > 0:\n",
    "                df = df[~(df[col_icp].isin(excludes))]\n",
    "            print(\"- Remaining deals:\", len(df))\n",
    "            print()\n",
    "            \n",
    "    # Create columns\n",
    "    df[\"SCENARIO\"] = pd.to_datetime(df[\"SQL_DATE\"].str[:19]).dt.strftime(\"W%W-%Y\")\n",
    "    df[\"DEAL_NAME\"] = df[\"ORG_NAME\"] + \" (\" + df[\"PEOPLE_FULLNAME\"] + \")\"\n",
    "    seniority_score = {\n",
    "        \"Entry-Level\": 1,\n",
    "        \"Professional/Staff\": 2,\n",
    "        \"Senior Professional/Staff\": 3,\n",
    "        \"Lead/Supervisor\": 4,\n",
    "        \"Manager\": 5,\n",
    "        \"Senior Manager\": 6,\n",
    "        \"Executive\": 7,\n",
    "        \"Top Executive\": 8\n",
    "    }\n",
    "    df[\"PEOPLE_SENIORITY_SCORE\"] = df[\"PEOPLE_SENIORITY\"].map(seniority_score).fillna(0)\n",
    "    df[\"DEAL_SCORE\"] = df[\"PEOPLE_INTERACTION_SCORE\"].astype(int) + df[\"ORG_INTERACTION_SCORE\"].astype(int) + df[\"PEOPLE_SENIORITY_SCORE\"].astype(int)\n",
    "    df[\"SQL_DATE\"] = df[\"SQL_DATE\"].str[:10]\n",
    "    df[\"LAST_INTERACTION_DATE\"] = df[\"LAST_INTERACTION_DATE\"].str[:10]\n",
    "    df[\"CRM_DEAL_ID\"] = df[\"DEAL_NAME\"].map(crm_ids).fillna(\"TBD\").apply(lambda x: int(x) if type(x) == float else x)\n",
    "    \n",
    "    # Cleaning\n",
    "    to_order = [\n",
    "        \"ENTITY\",\n",
    "        \"SCENARIO\",\n",
    "        \"DEAL_NAME\",\n",
    "        \"SQL_DATE\",\n",
    "        \"DEAL_SCORE\",\n",
    "        \"LAST_INTERACTION_DATE\",\n",
    "        \"PEOPLE_LAST_INTERACTION_DAYS\",\n",
    "        \"PEOPLE_FULLNAME\",\n",
    "        \"PEOPLE_OCCUPATION\",\n",
    "        \"PEOPLE_SENIORITY\",\n",
    "        \"PEOPLE_DEPARTMENT\",\n",
    "        \"PEOPLE_NOTES\",\n",
    "        \"MESSAGING_OPTIONS\",\n",
    "        \"ORG_NAME\",\n",
    "        \"ORG_STAFF_RANGE_NAME\",\n",
    "        \"ORG_INDUSTRY\",\n",
    "        'ORG_COUNTRY',\n",
    "        'PEOPLE_PROFILE_URL',\n",
    "        'ORG_LINKEDIN_URL',\n",
    "        \"CRM_CONTACT_ID\",\n",
    "        \"CRM_ORG_ID\",\n",
    "        \"CRM_DEAL_ID\"\n",
    "    ]\n",
    "    to_rename = {\n",
    "        \"SQL_DATE\": \"DEAL_CREATED_DATE\",\n",
    "        \"LAST_INTERACTION_DATE\": \"PEOPLE_LAST_INTERACTION_DATE\",\n",
    "        \"LAST_INTERACTION_DAYS\": \"PEOPLE_LAST_INTERACTION_DAYS\"\n",
    "    }\n",
    "    df = df[to_order].rename(columns=to_rename).sort_values(by=[\"DEAL_CREATED_DATE\", \"DEAL_SCORE\"], ascending=[False, False])\n",
    "    return df.reset_index(drop=True)\n",
    "\n",
    "db_deals = create_db_deals(\n",
    "    df_init,\n",
    "    df_contacts,\n",
    "    df_entity,\n",
    "    entity_name\n",
    ")\n",
    "print(\"🙌 Deals:\", len(db_deals))\n",
    "db_deals.head(3)"
   ]
  },
  {
   "cell_type": "markdown",
   "id": "output_cell",
   "metadata": {
    "papermill": {},
    "tags": []
   },
   "source": [
    "## Output"
   ]
  },
  {
   "cell_type": "markdown",
   "id": "7c35edb2-0629-4637-8076-e44e5677fb52",
   "metadata": {},
   "source": [
    "### Save data"
   ]
  },
  {
   "cell_type": "code",
   "execution_count": null,
   "id": "3d825d28-b328-4f6b-89e5-abb48efd2694",
   "metadata": {
    "tags": []
   },
   "outputs": [],
   "source": [
    "pdump(output_dir, db_deals, file_deals)"
   ]
  },
  {
   "cell_type": "markdown",
   "id": "28b11537-6391-4022-b55d-dd1f84cbe97f",
   "metadata": {
    "papermill": {},
    "tags": []
   },
   "source": [
    "### Send data to Google Sheets spreadsheet"
   ]
  },
  {
   "cell_type": "code",
   "execution_count": null,
   "id": "32e91b35-c1f8-4fe6-ae78-a2d4b79c8be7",
   "metadata": {
    "papermill": {},
    "tags": []
   },
   "outputs": [],
   "source": [
    "df_check = pd.concat([db_deals.astype(str), df_init.astype(str)]).drop_duplicates(keep=False)\n",
    "if len(df_check) > 0:\n",
    "    gsheet.connect(spreadsheet_url).send(sheet_name=sheet_name_output, data=db_deals, append=False)\n",
    "else:\n",
    "    print(\"Noting to update in Google Sheets!\")   "
   ]
  },
  {
   "cell_type": "code",
   "execution_count": null,
   "id": "13cc4241-9a56-4495-9369-bf3de2bcfb42",
   "metadata": {},
   "outputs": [],
   "source": []
  }
 ],
 "metadata": {
  "kernelspec": {
   "display_name": "Python 3",
   "language": "python",
   "name": "python3"
  },
  "language_info": {
   "codemirror_mode": {
    "name": "ipython",
    "version": 3
   },
   "file_extension": ".py",
   "mimetype": "text/x-python",
   "name": "python",
   "nbconvert_exporter": "python",
   "pygments_lexer": "ipython3",
   "version": "3.9.6"
  },
  "naas": {
   "notebook_id": "cf32ecf61a1d6fdcae3273e7e70026564087776ace44ace0a939c08a2085586f",
   "notebook_path": "Google Sheets/Google_Sheets_Send_data.ipynb"
  },
  "papermill": {
   "default_parameters": {},
   "environment_variables": {},
   "parameters": {},
   "version": "2.3.3"
  }
 },
 "nbformat": 4,
 "nbformat_minor": 5
}
