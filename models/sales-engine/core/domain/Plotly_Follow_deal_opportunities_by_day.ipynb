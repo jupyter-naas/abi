{
 "cells": [
  {
   "cell_type": "markdown",
   "id": "35673cb3-a65e-4e94-a60b-8b3863fd455b",
   "metadata": {
    "execution": {
     "iopub.execute_input": "2021-02-23T14:22:16.610471Z",
     "iopub.status.busy": "2021-02-23T14:22:16.610129Z",
     "iopub.status.idle": "2021-02-23T14:22:16.627784Z",
     "shell.execute_reply": "2021-02-23T14:22:16.626866Z",
     "shell.execute_reply.started": "2021-02-23T14:22:16.610384Z"
    },
    "papermill": {},
    "tags": []
   },
   "source": [
    "<img width=\"8%\" alt=\"Plotly.png\" src=\"https://raw.githubusercontent.com/jupyter-naas/awesome-notebooks/master/.github/assets/logos/Plotly.png\" style=\"border-radius: 15%\">"
   ]
  },
  {
   "cell_type": "markdown",
   "id": "b0d4ced6",
   "metadata": {
    "papermill": {},
    "tags": []
   },
   "source": [
    "# Plotly - Follow deal opportunities by day"
   ]
  },
  {
   "cell_type": "markdown",
   "id": "06cb7cb7",
   "metadata": {
    "papermill": {},
    "tags": []
   },
   "source": [
    "**Tags:** #plotly #html #csv #image #content #analytics #cohorts"
   ]
  },
  {
   "cell_type": "markdown",
   "id": "c64eee3c",
   "metadata": {
    "papermill": {},
    "tags": []
   },
   "source": [
    "**Author:** [Florent Ravenel](https://www.linkedin.com/in/florent-ravenel/)"
   ]
  },
  {
   "cell_type": "markdown",
   "id": "naas-description",
   "metadata": {
    "papermill": {},
    "tags": [
     "description"
    ]
   },
   "source": [
    "**Description:** This notebook creates a chart to follow your deals by days over the last 2 weeks."
   ]
  },
  {
   "cell_type": "markdown",
   "id": "f65cd676",
   "metadata": {
    "papermill": {},
    "tags": []
   },
   "source": [
    "## Input"
   ]
  },
  {
   "cell_type": "markdown",
   "id": "428474ab",
   "metadata": {
    "papermill": {},
    "tags": []
   },
   "source": [
    "### Import libraries"
   ]
  },
  {
   "cell_type": "code",
   "execution_count": 1,
   "id": "6214ae90",
   "metadata": {
    "execution": {
     "iopub.execute_input": "2024-01-22T18:25:31.494566Z",
     "iopub.status.busy": "2024-01-22T18:25:31.494084Z",
     "iopub.status.idle": "2024-01-22T18:25:48.179361Z",
     "shell.execute_reply": "2024-01-22T18:25:48.178198Z",
     "shell.execute_reply.started": "2024-01-22T18:25:31.494476Z"
    },
    "papermill": {},
    "tags": []
   },
   "outputs": [
    {
     "name": "stdout",
     "output_type": "stream",
     "text": [
      "✅ utils file '/home/ftp/abi/utils/data.ipynb' successfully loaded.\n",
      "✅ utils file '/home/ftp/abi/utils/llm.ipynb' successfully loaded.\n",
      "✅ utils file '/home/ftp/abi/utils/naas_chat_plugin.ipynb' successfully loaded.\n",
      "✅ utils file '/home/ftp/abi/utils/naas_lab.ipynb' successfully loaded.\n"
     ]
    }
   ],
   "source": [
    "import plotly.graph_objects as go\n",
    "from naas_drivers import gsheet\n",
    "import pandas as pd\n",
    "import os\n",
    "from datetime import date, datetime, timedelta\n",
    "import naas_data_product"
   ]
  },
  {
   "cell_type": "markdown",
   "id": "5ed1bed1",
   "metadata": {
    "papermill": {},
    "tags": []
   },
   "source": [
    "### Setup variables\n",
    "**Inputs**\n",
    "- `entity_dir`: This variable represents the entity directory.\n",
    "- `entity_name`: This variable holds the entity name.\n",
    "- `input_dir`: Input directory to retrieve file from.\n",
    "- `input_file`: Name of the file to be retrieved.\n",
    "- `linkedin_url`: This variable stores the LinkedIn profile URL that will be used as image source.\n",
    "- `title`: Graph title\n",
    "\n",
    "**Outputs**\n",
    "- `output_dir`: This variable is used for storing the path to the directory where the output files will be saved."
   ]
  },
  {
   "cell_type": "code",
   "execution_count": 2,
   "id": "190b8d21",
   "metadata": {
    "execution": {
     "iopub.execute_input": "2024-01-22T18:25:48.180739Z",
     "iopub.status.busy": "2024-01-22T18:25:48.180501Z",
     "iopub.status.idle": "2024-01-22T18:25:48.205700Z",
     "shell.execute_reply": "2024-01-22T18:25:48.205196Z",
     "shell.execute_reply.started": "2024-01-22T18:25:48.180707Z"
    },
    "papermill": {},
    "tags": [
     "parameters"
    ]
   },
   "outputs": [],
   "source": [
    "# Inputs\n",
    "entity_dir = pload(os.path.join(naas_data_product.OUTPUTS_PATH, \"entities\", \"0\"), \"entity_dir\")\n",
    "entity_name = pload(os.path.join(naas_data_product.OUTPUTS_PATH, \"entities\", \"0\"), \"entity_name\")\n",
    "input_dir = os.path.join(entity_dir, \"sales-engine\", date.today().isoformat())\n",
    "input_file = \"deals\"\n",
    "linkedin_url = pload(os.path.join(naas_data_product.OUTPUTS_PATH, \"entities\", \"0\"), \"linkedin_url\")\n",
    "title = \"New Opportunities\"\n",
    "\n",
    "# Outputs\n",
    "output_dir = os.path.join(entity_dir, \"sales-engine\", date.today().isoformat())"
   ]
  },
  {
   "cell_type": "markdown",
   "id": "b3566c94",
   "metadata": {
    "papermill": {},
    "tags": []
   },
   "source": [
    "## Model"
   ]
  },
  {
   "cell_type": "markdown",
   "id": "ddd26708-9cdc-4611-92c4-18834367b0ab",
   "metadata": {},
   "source": [
    "### Set outputs"
   ]
  },
  {
   "cell_type": "code",
   "execution_count": 3,
   "id": "40c9cd67-9df8-4591-9488-d909cca6d974",
   "metadata": {
    "execution": {
     "iopub.execute_input": "2024-01-22T18:25:48.207115Z",
     "iopub.status.busy": "2024-01-22T18:25:48.206899Z",
     "iopub.status.idle": "2024-01-22T18:25:48.309453Z",
     "shell.execute_reply": "2024-01-22T18:25:48.308837Z",
     "shell.execute_reply.started": "2024-01-22T18:25:48.207085Z"
    },
    "tags": []
   },
   "outputs": [],
   "source": [
    "csv_output = os.path.join(output_dir, \"deals_trend\")\n",
    "html_output = os.path.join(output_dir, \"deals_trend.html\")\n",
    "image_output = os.path.join(output_dir, \"deals_trend.png\")"
   ]
  },
  {
   "cell_type": "markdown",
   "id": "2c6dbd38-52a8-4af8-aef9-f1d6551e06ef",
   "metadata": {
    "papermill": {},
    "tags": []
   },
   "source": [
    "### Get sales qualified leads"
   ]
  },
  {
   "cell_type": "code",
   "execution_count": 4,
   "id": "c4ce220d-952b-4321-aed6-e1b3afe63ab8",
   "metadata": {
    "execution": {
     "iopub.execute_input": "2024-01-22T18:25:48.310604Z",
     "iopub.status.busy": "2024-01-22T18:25:48.310431Z",
     "iopub.status.idle": "2024-01-22T18:25:48.470625Z",
     "shell.execute_reply": "2024-01-22T18:25:48.470033Z",
     "shell.execute_reply.started": "2024-01-22T18:25:48.310584Z"
    },
    "papermill": {},
    "tags": []
   },
   "outputs": [
    {
     "name": "stdout",
     "output_type": "stream",
     "text": [
      "⚡️ Deals DB: 62\n"
     ]
    },
    {
     "data": {
      "text/html": [
       "<div>\n",
       "<style scoped>\n",
       "    .dataframe tbody tr th:only-of-type {\n",
       "        vertical-align: middle;\n",
       "    }\n",
       "\n",
       "    .dataframe tbody tr th {\n",
       "        vertical-align: top;\n",
       "    }\n",
       "\n",
       "    .dataframe thead th {\n",
       "        text-align: right;\n",
       "    }\n",
       "</style>\n",
       "<table border=\"1\" class=\"dataframe\">\n",
       "  <thead>\n",
       "    <tr style=\"text-align: right;\">\n",
       "      <th></th>\n",
       "      <th>ENTITY</th>\n",
       "      <th>SCENARIO</th>\n",
       "      <th>DEAL_NAME</th>\n",
       "      <th>DEAL_CREATED_DATE</th>\n",
       "      <th>DEAL_SCORE</th>\n",
       "      <th>PEOPLE_FULLNAME</th>\n",
       "      <th>PEOPLE_OCCUPATION</th>\n",
       "      <th>PEOPLE_SENIORITY</th>\n",
       "      <th>PEOPLE_DEPARTMENT</th>\n",
       "      <th>PEOPLE_NOTES</th>\n",
       "      <th>MESSAGING_OPTIONS</th>\n",
       "      <th>ORG_NAME</th>\n",
       "      <th>ORG_STAFF_RANGE_NAME</th>\n",
       "      <th>ORG_INDUSTRY</th>\n",
       "      <th>ORG_COUNTRY</th>\n",
       "      <th>PEOPLE_PROFILE_URL</th>\n",
       "      <th>ORG_LINKEDIN_URL</th>\n",
       "      <th>CRM_CONTACT_ID</th>\n",
       "      <th>CRM_ORG_ID</th>\n",
       "      <th>CRM_DEAL_ID</th>\n",
       "    </tr>\n",
       "  </thead>\n",
       "  <tbody>\n",
       "    <tr>\n",
       "      <th>0</th>\n",
       "      <td>Jérémy Ravenel</td>\n",
       "      <td>W04-2024</td>\n",
       "      <td>Anthony Alcaraz (Fribl)</td>\n",
       "      <td>2024-01-22</td>\n",
       "      <td>99</td>\n",
       "      <td>Anthony Alcaraz</td>\n",
       "      <td>Chief Product Officer - AI Architect | @Fribl ...</td>\n",
       "      <td>Executive</td>\n",
       "      <td>Product Management</td>\n",
       "      <td>[\"Anthony Alcaraz  commented '💕 ' on 'I wish w...</td>\n",
       "      <td>1. Hi Anthony, I noticed your comment on Jérém...</td>\n",
       "      <td>Fribl</td>\n",
       "      <td>Micro Team (2-10)</td>\n",
       "      <td>Technology, Information and Internet</td>\n",
       "      <td>France</td>\n",
       "      <td>https://www.linkedin.com/in/ACoAACVPJNABGwj10w...</td>\n",
       "      <td>https://www.linkedin.com/company/fribl</td>\n",
       "      <td>TBD</td>\n",
       "      <td>TBD</td>\n",
       "      <td>TBD</td>\n",
       "    </tr>\n",
       "    <tr>\n",
       "      <th>1</th>\n",
       "      <td>Jérémy Ravenel</td>\n",
       "      <td>W04-2024</td>\n",
       "      <td>Matteo Castiello (33A)</td>\n",
       "      <td>2024-01-22</td>\n",
       "      <td>64</td>\n",
       "      <td>Matteo Castiello</td>\n",
       "      <td>Generative AI Advisor and Researcher | Guiding...</td>\n",
       "      <td>Professional/Staff</td>\n",
       "      <td>Research and Development (R&amp;D)</td>\n",
       "      <td>[\"Matteo Castiello sent 'praise' reaction to '...</td>\n",
       "      <td>1. Hi Matteo, I noticed your expertise in Gene...</td>\n",
       "      <td>33A</td>\n",
       "      <td>Micro Team (2-10)</td>\n",
       "      <td>Design Services</td>\n",
       "      <td>Denmark</td>\n",
       "      <td>https://www.linkedin.com/in/ACoAACenYg8BoVOSWA...</td>\n",
       "      <td>https://www.linkedin.com/company/33a</td>\n",
       "      <td>TBD</td>\n",
       "      <td>TBD</td>\n",
       "      <td>TBD</td>\n",
       "    </tr>\n",
       "    <tr>\n",
       "      <th>2</th>\n",
       "      <td>Jérémy Ravenel</td>\n",
       "      <td>W04-2024</td>\n",
       "      <td>Vin Vashishta (V Squared)</td>\n",
       "      <td>2024-01-22</td>\n",
       "      <td>57</td>\n",
       "      <td>Vin Vashishta</td>\n",
       "      <td>AI Advisor | Author “From Data To Profit” | Co...</td>\n",
       "      <td>Executive</td>\n",
       "      <td>Education</td>\n",
       "      <td>['Vin Vashishta sent \\'like\\' reaction to \\'We...</td>\n",
       "      <td>1. \"Hi Vin, I couldn't agree more with your th...</td>\n",
       "      <td>V Squared</td>\n",
       "      <td>Micro Team (2-10)</td>\n",
       "      <td>Business Consulting and Services</td>\n",
       "      <td>United States</td>\n",
       "      <td>https://www.linkedin.com/in/ACoAAADS0WQBhQQVMD...</td>\n",
       "      <td>https://www.linkedin.com/company/endgame-engin...</td>\n",
       "      <td>TBD</td>\n",
       "      <td>TBD</td>\n",
       "      <td>TBD</td>\n",
       "    </tr>\n",
       "  </tbody>\n",
       "</table>\n",
       "</div>"
      ],
      "text/plain": [
       "           ENTITY  SCENARIO                  DEAL_NAME DEAL_CREATED_DATE  \\\n",
       "0  Jérémy Ravenel  W04-2024    Anthony Alcaraz (Fribl)        2024-01-22   \n",
       "1  Jérémy Ravenel  W04-2024     Matteo Castiello (33A)        2024-01-22   \n",
       "2  Jérémy Ravenel  W04-2024  Vin Vashishta (V Squared)        2024-01-22   \n",
       "\n",
       "   DEAL_SCORE   PEOPLE_FULLNAME  \\\n",
       "0          99   Anthony Alcaraz   \n",
       "1          64  Matteo Castiello   \n",
       "2          57     Vin Vashishta   \n",
       "\n",
       "                                   PEOPLE_OCCUPATION    PEOPLE_SENIORITY  \\\n",
       "0  Chief Product Officer - AI Architect | @Fribl ...           Executive   \n",
       "1  Generative AI Advisor and Researcher | Guiding...  Professional/Staff   \n",
       "2  AI Advisor | Author “From Data To Profit” | Co...           Executive   \n",
       "\n",
       "                PEOPLE_DEPARTMENT  \\\n",
       "0              Product Management   \n",
       "1  Research and Development (R&D)   \n",
       "2                       Education   \n",
       "\n",
       "                                        PEOPLE_NOTES  \\\n",
       "0  [\"Anthony Alcaraz  commented '💕 ' on 'I wish w...   \n",
       "1  [\"Matteo Castiello sent 'praise' reaction to '...   \n",
       "2  ['Vin Vashishta sent \\'like\\' reaction to \\'We...   \n",
       "\n",
       "                                   MESSAGING_OPTIONS   ORG_NAME  \\\n",
       "0  1. Hi Anthony, I noticed your comment on Jérém...      Fribl   \n",
       "1  1. Hi Matteo, I noticed your expertise in Gene...        33A   \n",
       "2  1. \"Hi Vin, I couldn't agree more with your th...  V Squared   \n",
       "\n",
       "  ORG_STAFF_RANGE_NAME                          ORG_INDUSTRY    ORG_COUNTRY  \\\n",
       "0    Micro Team (2-10)  Technology, Information and Internet         France   \n",
       "1    Micro Team (2-10)                       Design Services        Denmark   \n",
       "2    Micro Team (2-10)      Business Consulting and Services  United States   \n",
       "\n",
       "                                  PEOPLE_PROFILE_URL  \\\n",
       "0  https://www.linkedin.com/in/ACoAACVPJNABGwj10w...   \n",
       "1  https://www.linkedin.com/in/ACoAACenYg8BoVOSWA...   \n",
       "2  https://www.linkedin.com/in/ACoAAADS0WQBhQQVMD...   \n",
       "\n",
       "                                    ORG_LINKEDIN_URL CRM_CONTACT_ID  \\\n",
       "0             https://www.linkedin.com/company/fribl            TBD   \n",
       "1               https://www.linkedin.com/company/33a            TBD   \n",
       "2  https://www.linkedin.com/company/endgame-engin...            TBD   \n",
       "\n",
       "  CRM_ORG_ID CRM_DEAL_ID  \n",
       "0        TBD         TBD  \n",
       "1        TBD         TBD  \n",
       "2        TBD         TBD  "
      ]
     },
     "execution_count": 4,
     "metadata": {},
     "output_type": "execute_result"
    }
   ],
   "source": [
    "df_input = pload(input_dir, input_file) \n",
    "# Filter on entity\n",
    "if len(df_input) > 0:\n",
    "    df_input = df_input[(df_input[\"ENTITY\"] == entity_name)]\n",
    "    \n",
    "print(\"⚡️ Deals DB:\", len(df_input))\n",
    "df_input.head(3)"
   ]
  },
  {
   "cell_type": "markdown",
   "id": "7456a048",
   "metadata": {
    "papermill": {},
    "tags": []
   },
   "source": [
    "### Create trend dataframe"
   ]
  },
  {
   "cell_type": "code",
   "execution_count": 13,
   "id": "b14cd29b-24c4-44c2-bf8f-2d77d57fe97b",
   "metadata": {
    "execution": {
     "iopub.execute_input": "2024-01-22T18:26:58.611923Z",
     "iopub.status.busy": "2024-01-22T18:26:58.610667Z",
     "iopub.status.idle": "2024-01-22T18:26:58.710530Z",
     "shell.execute_reply": "2024-01-22T18:26:58.709936Z",
     "shell.execute_reply.started": "2024-01-22T18:26:58.611890Z"
    },
    "tags": []
   },
   "outputs": [
    {
     "data": {
      "text/html": [
       "<div>\n",
       "<style scoped>\n",
       "    .dataframe tbody tr th:only-of-type {\n",
       "        vertical-align: middle;\n",
       "    }\n",
       "\n",
       "    .dataframe tbody tr th {\n",
       "        vertical-align: top;\n",
       "    }\n",
       "\n",
       "    .dataframe thead th {\n",
       "        text-align: right;\n",
       "    }\n",
       "</style>\n",
       "<table border=\"1\" class=\"dataframe\">\n",
       "  <thead>\n",
       "    <tr style=\"text-align: right;\">\n",
       "      <th></th>\n",
       "      <th>ENTITY</th>\n",
       "      <th>SCENARIO</th>\n",
       "      <th>DATE</th>\n",
       "      <th>VALUE</th>\n",
       "      <th>VALUE_COMP</th>\n",
       "      <th>VARV</th>\n",
       "      <th>VARP</th>\n",
       "      <th>DATE_D</th>\n",
       "      <th>VALUE_D</th>\n",
       "      <th>VARV_D</th>\n",
       "      <th>VARP_D</th>\n",
       "      <th>TEXT</th>\n",
       "      <th>COLOR</th>\n",
       "    </tr>\n",
       "  </thead>\n",
       "  <tbody>\n",
       "    <tr>\n",
       "      <th>0</th>\n",
       "      <td>Jérémy Ravenel</td>\n",
       "      <td>W03-2024</td>\n",
       "      <td>2024-01-15</td>\n",
       "      <td>2</td>\n",
       "      <td>0.0</td>\n",
       "      <td>0.0</td>\n",
       "      <td>1.0</td>\n",
       "      <td>Mon 15 Jan</td>\n",
       "      <td>&lt;b&gt;&lt;span style='font-family: Arial;'&gt;2&lt;/span&gt;&lt;/b&gt;</td>\n",
       "      <td>+0</td>\n",
       "      <td>+100%</td>\n",
       "      <td>&lt;b&gt;&lt;span style='font-size: 14px;'&gt;Mon 15 Jan: ...</td>\n",
       "      <td>#FFFDA2</td>\n",
       "    </tr>\n",
       "    <tr>\n",
       "      <th>1</th>\n",
       "      <td>Jérémy Ravenel</td>\n",
       "      <td>W03-2024</td>\n",
       "      <td>2024-01-16</td>\n",
       "      <td>1</td>\n",
       "      <td>2.0</td>\n",
       "      <td>-1.0</td>\n",
       "      <td>-0.5</td>\n",
       "      <td>Tue 16 Jan</td>\n",
       "      <td>&lt;b&gt;&lt;span style='font-family: Arial;'&gt;1&lt;/span&gt;&lt;/b&gt;</td>\n",
       "      <td>-1</td>\n",
       "      <td>-50%</td>\n",
       "      <td>&lt;b&gt;&lt;span style='font-size: 14px;'&gt;Tue 16 Jan: ...</td>\n",
       "      <td>#FFFDA2</td>\n",
       "    </tr>\n",
       "    <tr>\n",
       "      <th>2</th>\n",
       "      <td>Jérémy Ravenel</td>\n",
       "      <td>W03-2024</td>\n",
       "      <td>2024-01-17</td>\n",
       "      <td>5</td>\n",
       "      <td>1.0</td>\n",
       "      <td>4.0</td>\n",
       "      <td>4.0</td>\n",
       "      <td>Wed 17 Jan</td>\n",
       "      <td>&lt;b&gt;&lt;span style='font-family: Arial;'&gt;5&lt;/span&gt;&lt;/b&gt;</td>\n",
       "      <td>+4</td>\n",
       "      <td>+400%</td>\n",
       "      <td>&lt;b&gt;&lt;span style='font-size: 14px;'&gt;Wed 17 Jan: ...</td>\n",
       "      <td>#FFFDA2</td>\n",
       "    </tr>\n",
       "    <tr>\n",
       "      <th>3</th>\n",
       "      <td>Jérémy Ravenel</td>\n",
       "      <td>W03-2024</td>\n",
       "      <td>2024-01-18</td>\n",
       "      <td>2</td>\n",
       "      <td>5.0</td>\n",
       "      <td>-3.0</td>\n",
       "      <td>-0.6</td>\n",
       "      <td>Thu 18 Jan</td>\n",
       "      <td>&lt;b&gt;&lt;span style='font-family: Arial;'&gt;2&lt;/span&gt;&lt;/b&gt;</td>\n",
       "      <td>-3</td>\n",
       "      <td>-60%</td>\n",
       "      <td>&lt;b&gt;&lt;span style='font-size: 14px;'&gt;Thu 18 Jan: ...</td>\n",
       "      <td>#FFFDA2</td>\n",
       "    </tr>\n",
       "    <tr>\n",
       "      <th>4</th>\n",
       "      <td>Jérémy Ravenel</td>\n",
       "      <td>W03-2024</td>\n",
       "      <td>2024-01-19</td>\n",
       "      <td>4</td>\n",
       "      <td>2.0</td>\n",
       "      <td>2.0</td>\n",
       "      <td>1.0</td>\n",
       "      <td>Fri 19 Jan</td>\n",
       "      <td>&lt;b&gt;&lt;span style='font-family: Arial;'&gt;4&lt;/span&gt;&lt;/b&gt;</td>\n",
       "      <td>+2</td>\n",
       "      <td>+100%</td>\n",
       "      <td>&lt;b&gt;&lt;span style='font-size: 14px;'&gt;Fri 19 Jan: ...</td>\n",
       "      <td>#FFFDA2</td>\n",
       "    </tr>\n",
       "    <tr>\n",
       "      <th>5</th>\n",
       "      <td>Jérémy Ravenel</td>\n",
       "      <td>W03-2024</td>\n",
       "      <td>2024-01-20</td>\n",
       "      <td>2</td>\n",
       "      <td>4.0</td>\n",
       "      <td>-2.0</td>\n",
       "      <td>-0.5</td>\n",
       "      <td>Sat 20 Jan</td>\n",
       "      <td>&lt;b&gt;&lt;span style='font-family: Arial;'&gt;2&lt;/span&gt;&lt;/b&gt;</td>\n",
       "      <td>-2</td>\n",
       "      <td>-50%</td>\n",
       "      <td>&lt;b&gt;&lt;span style='font-size: 14px;'&gt;Sat 20 Jan: ...</td>\n",
       "      <td>#FFFDA2</td>\n",
       "    </tr>\n",
       "    <tr>\n",
       "      <th>6</th>\n",
       "      <td>Jérémy Ravenel</td>\n",
       "      <td>W03-2024</td>\n",
       "      <td>2024-01-21</td>\n",
       "      <td>2</td>\n",
       "      <td>2.0</td>\n",
       "      <td>0.0</td>\n",
       "      <td>0.0</td>\n",
       "      <td>Sun 21 Jan</td>\n",
       "      <td>&lt;b&gt;&lt;span style='font-family: Arial;'&gt;2&lt;/span&gt;&lt;/b&gt;</td>\n",
       "      <td>+0</td>\n",
       "      <td>+0%</td>\n",
       "      <td>&lt;b&gt;&lt;span style='font-size: 14px;'&gt;Sun 21 Jan: ...</td>\n",
       "      <td>#FFFDA2</td>\n",
       "    </tr>\n",
       "    <tr>\n",
       "      <th>7</th>\n",
       "      <td>Jérémy Ravenel</td>\n",
       "      <td>W04-2024</td>\n",
       "      <td>2024-01-22</td>\n",
       "      <td>20</td>\n",
       "      <td>2.0</td>\n",
       "      <td>18.0</td>\n",
       "      <td>9.0</td>\n",
       "      <td>Mon 22 Jan</td>\n",
       "      <td>&lt;b&gt;&lt;span style='font-family: Arial;'&gt;20&lt;/span&gt;...</td>\n",
       "      <td>+18</td>\n",
       "      <td>+900%</td>\n",
       "      <td>&lt;b&gt;&lt;span style='font-size: 14px;'&gt;Mon 22 Jan: ...</td>\n",
       "      <td>#48DD82</td>\n",
       "    </tr>\n",
       "  </tbody>\n",
       "</table>\n",
       "</div>"
      ],
      "text/plain": [
       "           ENTITY  SCENARIO        DATE  VALUE  VALUE_COMP  VARV  VARP  \\\n",
       "0  Jérémy Ravenel  W03-2024  2024-01-15      2         0.0   0.0   1.0   \n",
       "1  Jérémy Ravenel  W03-2024  2024-01-16      1         2.0  -1.0  -0.5   \n",
       "2  Jérémy Ravenel  W03-2024  2024-01-17      5         1.0   4.0   4.0   \n",
       "3  Jérémy Ravenel  W03-2024  2024-01-18      2         5.0  -3.0  -0.6   \n",
       "4  Jérémy Ravenel  W03-2024  2024-01-19      4         2.0   2.0   1.0   \n",
       "5  Jérémy Ravenel  W03-2024  2024-01-20      2         4.0  -2.0  -0.5   \n",
       "6  Jérémy Ravenel  W03-2024  2024-01-21      2         2.0   0.0   0.0   \n",
       "7  Jérémy Ravenel  W04-2024  2024-01-22     20         2.0  18.0   9.0   \n",
       "\n",
       "       DATE_D                                            VALUE_D VARV_D  \\\n",
       "0  Mon 15 Jan  <b><span style='font-family: Arial;'>2</span></b>     +0   \n",
       "1  Tue 16 Jan  <b><span style='font-family: Arial;'>1</span></b>     -1   \n",
       "2  Wed 17 Jan  <b><span style='font-family: Arial;'>5</span></b>     +4   \n",
       "3  Thu 18 Jan  <b><span style='font-family: Arial;'>2</span></b>     -3   \n",
       "4  Fri 19 Jan  <b><span style='font-family: Arial;'>4</span></b>     +2   \n",
       "5  Sat 20 Jan  <b><span style='font-family: Arial;'>2</span></b>     -2   \n",
       "6  Sun 21 Jan  <b><span style='font-family: Arial;'>2</span></b>     +0   \n",
       "7  Mon 22 Jan  <b><span style='font-family: Arial;'>20</span>...    +18   \n",
       "\n",
       "  VARP_D                                               TEXT    COLOR  \n",
       "0  +100%  <b><span style='font-size: 14px;'>Mon 15 Jan: ...  #FFFDA2  \n",
       "1   -50%  <b><span style='font-size: 14px;'>Tue 16 Jan: ...  #FFFDA2  \n",
       "2  +400%  <b><span style='font-size: 14px;'>Wed 17 Jan: ...  #FFFDA2  \n",
       "3   -60%  <b><span style='font-size: 14px;'>Thu 18 Jan: ...  #FFFDA2  \n",
       "4  +100%  <b><span style='font-size: 14px;'>Fri 19 Jan: ...  #FFFDA2  \n",
       "5   -50%  <b><span style='font-size: 14px;'>Sat 20 Jan: ...  #FFFDA2  \n",
       "6    +0%  <b><span style='font-size: 14px;'>Sun 21 Jan: ...  #FFFDA2  \n",
       "7  +900%  <b><span style='font-size: 14px;'>Mon 22 Jan: ...  #48DD82  "
      ]
     },
     "execution_count": 13,
     "metadata": {},
     "output_type": "execute_result"
    }
   ],
   "source": [
    "DATE_FORMAT = \"%Y-%m-%d\"\n",
    "PERIOD = \"%Y-%m-%d\"\n",
    "PERIOD_TEXT = \"This day\"\n",
    "\n",
    "def get_trend(\n",
    "    df_init,\n",
    "    col_date,\n",
    "    col_value,\n",
    "    agg_value,\n",
    "    entity_name\n",
    "):\n",
    "    # Init variable\n",
    "    df = df_init.copy()\n",
    "\n",
    "    # Groupby period\n",
    "    if agg_value == \"sum\":\n",
    "        df[col_value] = df[col_value].astype(float)\n",
    "    df[col_date] = pd.to_datetime(df[col_date]).dt.strftime(DATE_FORMAT)\n",
    "    df = df.groupby(col_date, as_index=False).agg({col_value: agg_value})\n",
    "\n",
    "    # Rename column\n",
    "    to_rename = {col_date: \"DATE\", col_value: \"VALUE\"}\n",
    "    df = df.rename(columns=to_rename)\n",
    "\n",
    "    # Reindex value\n",
    "    d = datetime.now().date()\n",
    "    d2 = date.today() - timedelta(days=date.today().weekday() + 7)\n",
    "    idx = pd.date_range(d2, d, freq=\"D\")\n",
    "    df.set_index(\"DATE\", drop=True, inplace=True)\n",
    "    df.index = pd.DatetimeIndex(df.index)\n",
    "    df = df.reindex(idx, fill_value=0)\n",
    "    df[\"DATE\"] = pd.DatetimeIndex(df.index)\n",
    "\n",
    "    # Groupby month\n",
    "    df[\"DATE\"] = pd.to_datetime(df[\"DATE\"], format=DATE_FORMAT).dt.strftime(PERIOD)\n",
    "    df = df.groupby(\"DATE\", as_index=False).agg({\"VALUE\": \"sum\"})\n",
    "\n",
    "    # Calc variation\n",
    "    df.loc[:, \"VALUE_COMP\"] = 0.\n",
    "    df.loc[:, \"VARV\"] = 0.\n",
    "    df.loc[:, \"VARP\"] = 1.\n",
    "    for index, row in df.iterrows():\n",
    "        if index > 0:\n",
    "            n = df.loc[df.index[index], \"VALUE\"]\n",
    "            n_1 = df.loc[df.index[index - 1], \"VALUE\"]\n",
    "            df.loc[df.index[index], \"VALUE_COMP\"] = n_1\n",
    "            df.loc[df.index[index], \"VARV\"] = n - n_1\n",
    "            if n_1 > 0:\n",
    "                df.loc[df.index[index], \"VARP\"] = (n - n_1) / abs(n_1)\n",
    "    df = df.fillna(0.)\n",
    "\n",
    "    # Plotly: Date display\n",
    "    df[\"DATE_D\"] = pd.to_datetime(df[\"DATE\"], format=PERIOD).dt.strftime(\"%a %d %b\")\n",
    "\n",
    "    # Plotly: Value display\n",
    "    df[\"VALUE_D\"] = (\n",
    "        \"<b><span style='font-family: Arial;'>\"\n",
    "        + df[\"VALUE\"].map(\"{:,.0f}\".format).str.replace(\",\", \" \")\n",
    "        + \"</span></b>\"\n",
    "    )\n",
    "\n",
    "    # Plotly: Variation display\n",
    "    df[\"VARV_D\"] = df[\"VARV\"].map(\"{:,.0f}\".format).str.replace(\",\", \" \")\n",
    "    df.loc[df[\"VARV\"] >= 0, \"VARV_D\"] = \"+\" + df[\"VARV_D\"]\n",
    "    df[\"VARP_D\"] = df[\"VARP\"].map(\"{:,.0%}\".format).str.replace(\",\", \" \")\n",
    "    df.loc[df[\"VARP\"] >= 0, \"VARP_D\"] = \"+\" + df[\"VARP_D\"]\n",
    "\n",
    "    # Plotly: hovertext\n",
    "    df[\"TEXT\"] = (\n",
    "        \"<b><span style='font-size: 14px;'>\"\n",
    "        + df[\"DATE_D\"].astype(str)\n",
    "        + \": \"\n",
    "        + df[\"VALUE_D\"]\n",
    "        + \"</span></b><br>\"\n",
    "        \"<span style='font-size: 12px;'>\"\n",
    "        + df[\"VARV_D\"]\n",
    "        + \" (\"\n",
    "        + df[\"VARP_D\"]\n",
    "        + \")</span>\"\n",
    "    )\n",
    "    \n",
    "    # Add graph title\n",
    "    df.insert(loc=0, column=\"ENTITY\", value=entity_name)\n",
    "    df.insert(loc=1, column=\"SCENARIO\", value=pd.to_datetime(df[\"DATE\"]).dt.strftime(\"W%W-%Y\"))\n",
    "    \n",
    "    # Map colors\n",
    "    df[\"COLOR\"] = df[\"SCENARIO\"].map(MAPPING_COLORS)\n",
    "    return df.reset_index(drop=True)\n",
    "\n",
    "df_trend = get_trend(\n",
    "    df_input,\n",
    "    \"DEAL_CREATED_DATE\",\n",
    "    \"DEAL_NAME\",\n",
    "    \"count\",\n",
    "    entity_name\n",
    ")\n",
    "df_trend"
   ]
  },
  {
   "cell_type": "markdown",
   "id": "a17539e6-9f61-4317-9b62-989f297ccaf7",
   "metadata": {},
   "source": [
    "### Create title and logo"
   ]
  },
  {
   "cell_type": "code",
   "execution_count": 14,
   "id": "1e96760f-67d0-4336-af9c-d993a9dc3520",
   "metadata": {
    "execution": {
     "iopub.execute_input": "2024-01-22T18:27:02.232166Z",
     "iopub.status.busy": "2024-01-22T18:27:02.231820Z",
     "iopub.status.idle": "2024-01-22T18:27:02.290900Z",
     "shell.execute_reply": "2024-01-22T18:27:02.290234Z",
     "shell.execute_reply.started": "2024-01-22T18:27:02.232120Z"
    },
    "tags": []
   },
   "outputs": [
    {
     "name": "stdout",
     "output_type": "stream",
     "text": [
      "<b><span style='font-size: 20px;'>New Opportunities</span></b><br><span style='font-size: 18px;'>W04-2024: 20 | +2 (+11%) vs last week</span>\n"
     ]
    }
   ],
   "source": [
    "# Groupby weeks\n",
    "if len(df_trend) > 0 and \"SCENARIO\" in df_trend.columns:\n",
    "    df = df_trend.groupby([\"SCENARIO\"], as_index=False).agg({\"VALUE\": \"sum\"})\n",
    "\n",
    "# Get total and total n-1\n",
    "if len(df) == 0:\n",
    "    total = 0\n",
    "    total_n1 = 0\n",
    "elif len(df) == 1:\n",
    "    if df.loc[0, \"SCENARIO\"] == TW:\n",
    "        total = df.loc[0, \"VALUE\"]\n",
    "        total_n1 = 0\n",
    "    else:\n",
    "        total = 0\n",
    "        total_n1 = df.loc[0, \"VALUE\"]\n",
    "else:\n",
    "    total = df.loc[df.index[-1], \"VALUE\"]\n",
    "    total_n1 = df.loc[df.index[-2], \"VALUE\"]\n",
    "    \n",
    "# Calc variation in value and pourcentage \n",
    "varv = total - total_n1\n",
    "if total == 0:\n",
    "    varp = -1\n",
    "elif total_n1 == 0:\n",
    "    varp = 1\n",
    "else:\n",
    "    varp = varv / total_n1\n",
    "\n",
    "# Create title to be displayed\n",
    "total_d = \"{:,.0f}\".format(total).replace(\",\", \" \")\n",
    "varv_d = \"{:,.0f}\".format(varv).replace(\",\", \" \")\n",
    "varp_d = \"{:,.0%}\".format(varp).replace(\",\", \" \")\n",
    "if varv >= 0:\n",
    "    varv_d = f\"+{varv_d}\"\n",
    "    varp_d = f\"+{varp_d}\"\n",
    "title_full = f\"<b><span style='font-size: 20px;'>{title}</span></b><br><span style='font-size: 18px;'>{TW}: {total_d} | {varv_d} ({varp_d}) vs last week</span>\"\n",
    "\n",
    "# Logo\n",
    "logo = None\n",
    "if varv > 0:\n",
    "    logo = arrow_up\n",
    "elif varv > -0.2:\n",
    "    logo = arrow_right\n",
    "else:\n",
    "    logo = arrow_down\n",
    "print(title_full)"
   ]
  },
  {
   "cell_type": "markdown",
   "id": "792f3844-4ce8-4582-b01b-12303135054e",
   "metadata": {
    "papermill": {},
    "tags": []
   },
   "source": [
    "### Create Vertical Barchart stacked"
   ]
  },
  {
   "cell_type": "code",
   "execution_count": 15,
   "id": "f019f609-99bb-40fd-8938-cd677a20b379",
   "metadata": {
    "execution": {
     "iopub.execute_input": "2024-01-22T18:27:03.631238Z",
     "iopub.status.busy": "2024-01-22T18:27:03.631016Z",
     "iopub.status.idle": "2024-01-22T18:27:03.664912Z",
     "shell.execute_reply": "2024-01-22T18:27:03.664371Z",
     "shell.execute_reply.started": "2024-01-22T18:27:03.631214Z"
    },
    "papermill": {},
    "tags": []
   },
   "outputs": [
    {
     "data": {
      "application/vnd.plotly.v1+json": {
       "config": {
        "displayModeBar": false,
        "plotlyServerURL": "https://plot.ly"
       },
       "data": [
        {
         "hoverinfo": "text",
         "hovertext": [
          "<b><span style='font-size: 14px;'>Mon 15 Jan: <b><span style='font-family: Arial;'>2</span></b></span></b><br><span style='font-size: 12px;'>+0 (+100%)</span>",
          "<b><span style='font-size: 14px;'>Tue 16 Jan: <b><span style='font-family: Arial;'>1</span></b></span></b><br><span style='font-size: 12px;'>-1 (-50%)</span>",
          "<b><span style='font-size: 14px;'>Wed 17 Jan: <b><span style='font-family: Arial;'>5</span></b></span></b><br><span style='font-size: 12px;'>+4 (+400%)</span>",
          "<b><span style='font-size: 14px;'>Thu 18 Jan: <b><span style='font-family: Arial;'>2</span></b></span></b><br><span style='font-size: 12px;'>-3 (-60%)</span>",
          "<b><span style='font-size: 14px;'>Fri 19 Jan: <b><span style='font-family: Arial;'>4</span></b></span></b><br><span style='font-size: 12px;'>+2 (+100%)</span>",
          "<b><span style='font-size: 14px;'>Sat 20 Jan: <b><span style='font-family: Arial;'>2</span></b></span></b><br><span style='font-size: 12px;'>-2 (-50%)</span>",
          "<b><span style='font-size: 14px;'>Sun 21 Jan: <b><span style='font-family: Arial;'>2</span></b></span></b><br><span style='font-size: 12px;'>+0 (+0%)</span>"
         ],
         "marker": {
          "color": [
           "#FFFDA2",
           "#FFFDA2",
           "#FFFDA2",
           "#FFFDA2",
           "#FFFDA2",
           "#FFFDA2",
           "#FFFDA2"
          ]
         },
         "name": "W03-2024",
         "showlegend": false,
         "text": [
          2,
          1,
          5,
          2,
          4,
          2,
          2
         ],
         "textposition": "outside",
         "type": "bar",
         "x": [
          "Mon 15 Jan",
          "Tue 16 Jan",
          "Wed 17 Jan",
          "Thu 18 Jan",
          "Fri 19 Jan",
          "Sat 20 Jan",
          "Sun 21 Jan"
         ],
         "y": [
          2,
          1,
          5,
          2,
          4,
          2,
          2
         ]
        },
        {
         "hoverinfo": "text",
         "hovertext": [
          "<b><span style='font-size: 14px;'>Mon 22 Jan: <b><span style='font-family: Arial;'>20</span></b></span></b><br><span style='font-size: 12px;'>+18 (+900%)</span>"
         ],
         "marker": {
          "color": [
           "#48DD82"
          ]
         },
         "name": "W04-2024",
         "showlegend": false,
         "text": [
          20
         ],
         "textposition": "outside",
         "type": "bar",
         "x": [
          "Mon 22 Jan"
         ],
         "y": [
          20
         ]
        }
       ],
       "layout": {
        "annotations": [
         {
          "arrowcolor": "white",
          "font": {
           "color": "black",
           "family": "Arial"
          },
          "text": "<i>Source: <a href='https://www.linkedin.com/in/jeremyravenel/'>https://www.linkedin.com/in/jeremyravenel/</a> / Created at: 2024-01-22</i>",
          "x": 0,
          "xanchor": "left",
          "xref": "paper",
          "y": -0.35,
          "yanchor": "bottom",
          "yref": "paper"
         }
        ],
        "bargap": 0.1,
        "bargroupgap": 0.1,
        "barmode": "stack",
        "height": 600,
        "images": [
         {
          "sizex": 0.12,
          "sizey": 0.12,
          "source": "https://upload.wikimedia.org/wikipedia/commons/thumb/c/c0/Eo_circle_green_arrow-up.svg/2048px-Eo_circle_green_arrow-up.svg.png",
          "x": 0.01,
          "xanchor": "right",
          "xref": "paper",
          "y": 1.045,
          "yanchor": "bottom",
          "yref": "paper"
         }
        ],
        "margin": {
         "b": 120,
         "pad": 10
        },
        "paper_bgcolor": "#ffffff",
        "plot_bgcolor": "#ffffff",
        "template": {
         "data": {
          "bar": [
           {
            "error_x": {
             "color": "#2a3f5f"
            },
            "error_y": {
             "color": "#2a3f5f"
            },
            "marker": {
             "line": {
              "color": "#E5ECF6",
              "width": 0.5
             },
             "pattern": {
              "fillmode": "overlay",
              "size": 10,
              "solidity": 0.2
             }
            },
            "type": "bar"
           }
          ],
          "barpolar": [
           {
            "marker": {
             "line": {
              "color": "#E5ECF6",
              "width": 0.5
             },
             "pattern": {
              "fillmode": "overlay",
              "size": 10,
              "solidity": 0.2
             }
            },
            "type": "barpolar"
           }
          ],
          "carpet": [
           {
            "aaxis": {
             "endlinecolor": "#2a3f5f",
             "gridcolor": "white",
             "linecolor": "white",
             "minorgridcolor": "white",
             "startlinecolor": "#2a3f5f"
            },
            "baxis": {
             "endlinecolor": "#2a3f5f",
             "gridcolor": "white",
             "linecolor": "white",
             "minorgridcolor": "white",
             "startlinecolor": "#2a3f5f"
            },
            "type": "carpet"
           }
          ],
          "choropleth": [
           {
            "colorbar": {
             "outlinewidth": 0,
             "ticks": ""
            },
            "type": "choropleth"
           }
          ],
          "contour": [
           {
            "colorbar": {
             "outlinewidth": 0,
             "ticks": ""
            },
            "colorscale": [
             [
              0,
              "#0d0887"
             ],
             [
              0.1111111111111111,
              "#46039f"
             ],
             [
              0.2222222222222222,
              "#7201a8"
             ],
             [
              0.3333333333333333,
              "#9c179e"
             ],
             [
              0.4444444444444444,
              "#bd3786"
             ],
             [
              0.5555555555555556,
              "#d8576b"
             ],
             [
              0.6666666666666666,
              "#ed7953"
             ],
             [
              0.7777777777777778,
              "#fb9f3a"
             ],
             [
              0.8888888888888888,
              "#fdca26"
             ],
             [
              1,
              "#f0f921"
             ]
            ],
            "type": "contour"
           }
          ],
          "contourcarpet": [
           {
            "colorbar": {
             "outlinewidth": 0,
             "ticks": ""
            },
            "type": "contourcarpet"
           }
          ],
          "heatmap": [
           {
            "colorbar": {
             "outlinewidth": 0,
             "ticks": ""
            },
            "colorscale": [
             [
              0,
              "#0d0887"
             ],
             [
              0.1111111111111111,
              "#46039f"
             ],
             [
              0.2222222222222222,
              "#7201a8"
             ],
             [
              0.3333333333333333,
              "#9c179e"
             ],
             [
              0.4444444444444444,
              "#bd3786"
             ],
             [
              0.5555555555555556,
              "#d8576b"
             ],
             [
              0.6666666666666666,
              "#ed7953"
             ],
             [
              0.7777777777777778,
              "#fb9f3a"
             ],
             [
              0.8888888888888888,
              "#fdca26"
             ],
             [
              1,
              "#f0f921"
             ]
            ],
            "type": "heatmap"
           }
          ],
          "heatmapgl": [
           {
            "colorbar": {
             "outlinewidth": 0,
             "ticks": ""
            },
            "colorscale": [
             [
              0,
              "#0d0887"
             ],
             [
              0.1111111111111111,
              "#46039f"
             ],
             [
              0.2222222222222222,
              "#7201a8"
             ],
             [
              0.3333333333333333,
              "#9c179e"
             ],
             [
              0.4444444444444444,
              "#bd3786"
             ],
             [
              0.5555555555555556,
              "#d8576b"
             ],
             [
              0.6666666666666666,
              "#ed7953"
             ],
             [
              0.7777777777777778,
              "#fb9f3a"
             ],
             [
              0.8888888888888888,
              "#fdca26"
             ],
             [
              1,
              "#f0f921"
             ]
            ],
            "type": "heatmapgl"
           }
          ],
          "histogram": [
           {
            "marker": {
             "pattern": {
              "fillmode": "overlay",
              "size": 10,
              "solidity": 0.2
             }
            },
            "type": "histogram"
           }
          ],
          "histogram2d": [
           {
            "colorbar": {
             "outlinewidth": 0,
             "ticks": ""
            },
            "colorscale": [
             [
              0,
              "#0d0887"
             ],
             [
              0.1111111111111111,
              "#46039f"
             ],
             [
              0.2222222222222222,
              "#7201a8"
             ],
             [
              0.3333333333333333,
              "#9c179e"
             ],
             [
              0.4444444444444444,
              "#bd3786"
             ],
             [
              0.5555555555555556,
              "#d8576b"
             ],
             [
              0.6666666666666666,
              "#ed7953"
             ],
             [
              0.7777777777777778,
              "#fb9f3a"
             ],
             [
              0.8888888888888888,
              "#fdca26"
             ],
             [
              1,
              "#f0f921"
             ]
            ],
            "type": "histogram2d"
           }
          ],
          "histogram2dcontour": [
           {
            "colorbar": {
             "outlinewidth": 0,
             "ticks": ""
            },
            "colorscale": [
             [
              0,
              "#0d0887"
             ],
             [
              0.1111111111111111,
              "#46039f"
             ],
             [
              0.2222222222222222,
              "#7201a8"
             ],
             [
              0.3333333333333333,
              "#9c179e"
             ],
             [
              0.4444444444444444,
              "#bd3786"
             ],
             [
              0.5555555555555556,
              "#d8576b"
             ],
             [
              0.6666666666666666,
              "#ed7953"
             ],
             [
              0.7777777777777778,
              "#fb9f3a"
             ],
             [
              0.8888888888888888,
              "#fdca26"
             ],
             [
              1,
              "#f0f921"
             ]
            ],
            "type": "histogram2dcontour"
           }
          ],
          "mesh3d": [
           {
            "colorbar": {
             "outlinewidth": 0,
             "ticks": ""
            },
            "type": "mesh3d"
           }
          ],
          "parcoords": [
           {
            "line": {
             "colorbar": {
              "outlinewidth": 0,
              "ticks": ""
             }
            },
            "type": "parcoords"
           }
          ],
          "pie": [
           {
            "automargin": true,
            "type": "pie"
           }
          ],
          "scatter": [
           {
            "fillpattern": {
             "fillmode": "overlay",
             "size": 10,
             "solidity": 0.2
            },
            "type": "scatter"
           }
          ],
          "scatter3d": [
           {
            "line": {
             "colorbar": {
              "outlinewidth": 0,
              "ticks": ""
             }
            },
            "marker": {
             "colorbar": {
              "outlinewidth": 0,
              "ticks": ""
             }
            },
            "type": "scatter3d"
           }
          ],
          "scattercarpet": [
           {
            "marker": {
             "colorbar": {
              "outlinewidth": 0,
              "ticks": ""
             }
            },
            "type": "scattercarpet"
           }
          ],
          "scattergeo": [
           {
            "marker": {
             "colorbar": {
              "outlinewidth": 0,
              "ticks": ""
             }
            },
            "type": "scattergeo"
           }
          ],
          "scattergl": [
           {
            "marker": {
             "colorbar": {
              "outlinewidth": 0,
              "ticks": ""
             }
            },
            "type": "scattergl"
           }
          ],
          "scattermapbox": [
           {
            "marker": {
             "colorbar": {
              "outlinewidth": 0,
              "ticks": ""
             }
            },
            "type": "scattermapbox"
           }
          ],
          "scatterpolar": [
           {
            "marker": {
             "colorbar": {
              "outlinewidth": 0,
              "ticks": ""
             }
            },
            "type": "scatterpolar"
           }
          ],
          "scatterpolargl": [
           {
            "marker": {
             "colorbar": {
              "outlinewidth": 0,
              "ticks": ""
             }
            },
            "type": "scatterpolargl"
           }
          ],
          "scatterternary": [
           {
            "marker": {
             "colorbar": {
              "outlinewidth": 0,
              "ticks": ""
             }
            },
            "type": "scatterternary"
           }
          ],
          "surface": [
           {
            "colorbar": {
             "outlinewidth": 0,
             "ticks": ""
            },
            "colorscale": [
             [
              0,
              "#0d0887"
             ],
             [
              0.1111111111111111,
              "#46039f"
             ],
             [
              0.2222222222222222,
              "#7201a8"
             ],
             [
              0.3333333333333333,
              "#9c179e"
             ],
             [
              0.4444444444444444,
              "#bd3786"
             ],
             [
              0.5555555555555556,
              "#d8576b"
             ],
             [
              0.6666666666666666,
              "#ed7953"
             ],
             [
              0.7777777777777778,
              "#fb9f3a"
             ],
             [
              0.8888888888888888,
              "#fdca26"
             ],
             [
              1,
              "#f0f921"
             ]
            ],
            "type": "surface"
           }
          ],
          "table": [
           {
            "cells": {
             "fill": {
              "color": "#EBF0F8"
             },
             "line": {
              "color": "white"
             }
            },
            "header": {
             "fill": {
              "color": "#C8D4E3"
             },
             "line": {
              "color": "white"
             }
            },
            "type": "table"
           }
          ]
         },
         "layout": {
          "annotationdefaults": {
           "arrowcolor": "#2a3f5f",
           "arrowhead": 0,
           "arrowwidth": 1
          },
          "autotypenumbers": "strict",
          "coloraxis": {
           "colorbar": {
            "outlinewidth": 0,
            "ticks": ""
           }
          },
          "colorscale": {
           "diverging": [
            [
             0,
             "#8e0152"
            ],
            [
             0.1,
             "#c51b7d"
            ],
            [
             0.2,
             "#de77ae"
            ],
            [
             0.3,
             "#f1b6da"
            ],
            [
             0.4,
             "#fde0ef"
            ],
            [
             0.5,
             "#f7f7f7"
            ],
            [
             0.6,
             "#e6f5d0"
            ],
            [
             0.7,
             "#b8e186"
            ],
            [
             0.8,
             "#7fbc41"
            ],
            [
             0.9,
             "#4d9221"
            ],
            [
             1,
             "#276419"
            ]
           ],
           "sequential": [
            [
             0,
             "#0d0887"
            ],
            [
             0.1111111111111111,
             "#46039f"
            ],
            [
             0.2222222222222222,
             "#7201a8"
            ],
            [
             0.3333333333333333,
             "#9c179e"
            ],
            [
             0.4444444444444444,
             "#bd3786"
            ],
            [
             0.5555555555555556,
             "#d8576b"
            ],
            [
             0.6666666666666666,
             "#ed7953"
            ],
            [
             0.7777777777777778,
             "#fb9f3a"
            ],
            [
             0.8888888888888888,
             "#fdca26"
            ],
            [
             1,
             "#f0f921"
            ]
           ],
           "sequentialminus": [
            [
             0,
             "#0d0887"
            ],
            [
             0.1111111111111111,
             "#46039f"
            ],
            [
             0.2222222222222222,
             "#7201a8"
            ],
            [
             0.3333333333333333,
             "#9c179e"
            ],
            [
             0.4444444444444444,
             "#bd3786"
            ],
            [
             0.5555555555555556,
             "#d8576b"
            ],
            [
             0.6666666666666666,
             "#ed7953"
            ],
            [
             0.7777777777777778,
             "#fb9f3a"
            ],
            [
             0.8888888888888888,
             "#fdca26"
            ],
            [
             1,
             "#f0f921"
            ]
           ]
          },
          "colorway": [
           "#636efa",
           "#EF553B",
           "#00cc96",
           "#ab63fa",
           "#FFA15A",
           "#19d3f3",
           "#FF6692",
           "#B6E880",
           "#FF97FF",
           "#FECB52"
          ],
          "font": {
           "color": "#2a3f5f"
          },
          "geo": {
           "bgcolor": "white",
           "lakecolor": "white",
           "landcolor": "#E5ECF6",
           "showlakes": true,
           "showland": true,
           "subunitcolor": "white"
          },
          "hoverlabel": {
           "align": "left"
          },
          "hovermode": "closest",
          "mapbox": {
           "style": "light"
          },
          "paper_bgcolor": "white",
          "plot_bgcolor": "#E5ECF6",
          "polar": {
           "angularaxis": {
            "gridcolor": "white",
            "linecolor": "white",
            "ticks": ""
           },
           "bgcolor": "#E5ECF6",
           "radialaxis": {
            "gridcolor": "white",
            "linecolor": "white",
            "ticks": ""
           }
          },
          "scene": {
           "xaxis": {
            "backgroundcolor": "#E5ECF6",
            "gridcolor": "white",
            "gridwidth": 2,
            "linecolor": "white",
            "showbackground": true,
            "ticks": "",
            "zerolinecolor": "white"
           },
           "yaxis": {
            "backgroundcolor": "#E5ECF6",
            "gridcolor": "white",
            "gridwidth": 2,
            "linecolor": "white",
            "showbackground": true,
            "ticks": "",
            "zerolinecolor": "white"
           },
           "zaxis": {
            "backgroundcolor": "#E5ECF6",
            "gridcolor": "white",
            "gridwidth": 2,
            "linecolor": "white",
            "showbackground": true,
            "ticks": "",
            "zerolinecolor": "white"
           }
          },
          "shapedefaults": {
           "line": {
            "color": "#2a3f5f"
           }
          },
          "ternary": {
           "aaxis": {
            "gridcolor": "white",
            "linecolor": "white",
            "ticks": ""
           },
           "baxis": {
            "gridcolor": "white",
            "linecolor": "white",
            "ticks": ""
           },
           "bgcolor": "#E5ECF6",
           "caxis": {
            "gridcolor": "white",
            "linecolor": "white",
            "ticks": ""
           }
          },
          "title": {
           "x": 0.05
          },
          "xaxis": {
           "automargin": true,
           "gridcolor": "white",
           "linecolor": "white",
           "ticks": "",
           "title": {
            "standoff": 15
           },
           "zerolinecolor": "white",
           "zerolinewidth": 2
          },
          "yaxis": {
           "automargin": true,
           "gridcolor": "white",
           "linecolor": "white",
           "ticks": "",
           "title": {
            "standoff": 15
           },
           "zerolinecolor": "white",
           "zerolinewidth": 2
          }
         }
        },
        "title": {
         "font": {
          "color": "black",
          "family": "Arial"
         },
         "text": "<b><span style='font-size: 20px;'>New Opportunities</span></b><br><span style='font-size: 18px;'>W04-2024: 20 | +2 (+11%) vs last week</span>",
         "x": 0.09
        },
        "width": 1200,
        "xaxis": {
         "autorange": true,
         "range": [
          -0.5,
          7.5
         ],
         "type": "category"
        },
        "yaxis": {
         "autorange": true,
         "range": [
          0,
          21.05263157894737
         ],
         "type": "linear"
        }
       }
      },
      "image/png": "[encoded data removed]",
      "text/html": [
       "<div>                            <div id=\"7ce7b13d-648b-42b6-b58c-88269c3c5f2d\" class=\"plotly-graph-div\" style=\"height:600px; width:1200px;\"></div>            <script type=\"text/javascript\">                require([\"plotly\"], function(Plotly) {                    window.PLOTLYENV=window.PLOTLYENV || {};                                    if (document.getElementById(\"7ce7b13d-648b-42b6-b58c-88269c3c5f2d\")) {                    Plotly.newPlot(                        \"7ce7b13d-648b-42b6-b58c-88269c3c5f2d\",                        [{\"hoverinfo\":\"text\",\"hovertext\":[\"\\u003cb\\u003e\\u003cspan style='font-size: 14px;'\\u003eMon 15 Jan: \\u003cb\\u003e\\u003cspan style='font-family: Arial;'\\u003e2\\u003c\\u002fspan\\u003e\\u003c\\u002fb\\u003e\\u003c\\u002fspan\\u003e\\u003c\\u002fb\\u003e\\u003cbr\\u003e\\u003cspan style='font-size: 12px;'\\u003e+0 (+100%)\\u003c\\u002fspan\\u003e\",\"\\u003cb\\u003e\\u003cspan style='font-size: 14px;'\\u003eTue 16 Jan: \\u003cb\\u003e\\u003cspan style='font-family: Arial;'\\u003e1\\u003c\\u002fspan\\u003e\\u003c\\u002fb\\u003e\\u003c\\u002fspan\\u003e\\u003c\\u002fb\\u003e\\u003cbr\\u003e\\u003cspan style='font-size: 12px;'\\u003e-1 (-50%)\\u003c\\u002fspan\\u003e\",\"\\u003cb\\u003e\\u003cspan style='font-size: 14px;'\\u003eWed 17 Jan: \\u003cb\\u003e\\u003cspan style='font-family: Arial;'\\u003e5\\u003c\\u002fspan\\u003e\\u003c\\u002fb\\u003e\\u003c\\u002fspan\\u003e\\u003c\\u002fb\\u003e\\u003cbr\\u003e\\u003cspan style='font-size: 12px;'\\u003e+4 (+400%)\\u003c\\u002fspan\\u003e\",\"\\u003cb\\u003e\\u003cspan style='font-size: 14px;'\\u003eThu 18 Jan: \\u003cb\\u003e\\u003cspan style='font-family: Arial;'\\u003e2\\u003c\\u002fspan\\u003e\\u003c\\u002fb\\u003e\\u003c\\u002fspan\\u003e\\u003c\\u002fb\\u003e\\u003cbr\\u003e\\u003cspan style='font-size: 12px;'\\u003e-3 (-60%)\\u003c\\u002fspan\\u003e\",\"\\u003cb\\u003e\\u003cspan style='font-size: 14px;'\\u003eFri 19 Jan: \\u003cb\\u003e\\u003cspan style='font-family: Arial;'\\u003e4\\u003c\\u002fspan\\u003e\\u003c\\u002fb\\u003e\\u003c\\u002fspan\\u003e\\u003c\\u002fb\\u003e\\u003cbr\\u003e\\u003cspan style='font-size: 12px;'\\u003e+2 (+100%)\\u003c\\u002fspan\\u003e\",\"\\u003cb\\u003e\\u003cspan style='font-size: 14px;'\\u003eSat 20 Jan: \\u003cb\\u003e\\u003cspan style='font-family: Arial;'\\u003e2\\u003c\\u002fspan\\u003e\\u003c\\u002fb\\u003e\\u003c\\u002fspan\\u003e\\u003c\\u002fb\\u003e\\u003cbr\\u003e\\u003cspan style='font-size: 12px;'\\u003e-2 (-50%)\\u003c\\u002fspan\\u003e\",\"\\u003cb\\u003e\\u003cspan style='font-size: 14px;'\\u003eSun 21 Jan: \\u003cb\\u003e\\u003cspan style='font-family: Arial;'\\u003e2\\u003c\\u002fspan\\u003e\\u003c\\u002fb\\u003e\\u003c\\u002fspan\\u003e\\u003c\\u002fb\\u003e\\u003cbr\\u003e\\u003cspan style='font-size: 12px;'\\u003e+0 (+0%)\\u003c\\u002fspan\\u003e\"],\"marker\":{\"color\":[\"#FFFDA2\",\"#FFFDA2\",\"#FFFDA2\",\"#FFFDA2\",\"#FFFDA2\",\"#FFFDA2\",\"#FFFDA2\"]},\"name\":\"W03-2024\",\"showlegend\":false,\"text\":[2.0,1.0,5.0,2.0,4.0,2.0,2.0],\"textposition\":\"outside\",\"x\":[\"Mon 15 Jan\",\"Tue 16 Jan\",\"Wed 17 Jan\",\"Thu 18 Jan\",\"Fri 19 Jan\",\"Sat 20 Jan\",\"Sun 21 Jan\"],\"y\":[2,1,5,2,4,2,2],\"type\":\"bar\"},{\"hoverinfo\":\"text\",\"hovertext\":[\"\\u003cb\\u003e\\u003cspan style='font-size: 14px;'\\u003eMon 22 Jan: \\u003cb\\u003e\\u003cspan style='font-family: Arial;'\\u003e20\\u003c\\u002fspan\\u003e\\u003c\\u002fb\\u003e\\u003c\\u002fspan\\u003e\\u003c\\u002fb\\u003e\\u003cbr\\u003e\\u003cspan style='font-size: 12px;'\\u003e+18 (+900%)\\u003c\\u002fspan\\u003e\"],\"marker\":{\"color\":[\"#48DD82\"]},\"name\":\"W04-2024\",\"showlegend\":false,\"text\":[20.0],\"textposition\":\"outside\",\"x\":[\"Mon 22 Jan\"],\"y\":[20],\"type\":\"bar\"}],                        {\"template\":{\"data\":{\"histogram2dcontour\":[{\"type\":\"histogram2dcontour\",\"colorbar\":{\"outlinewidth\":0,\"ticks\":\"\"},\"colorscale\":[[0.0,\"#0d0887\"],[0.1111111111111111,\"#46039f\"],[0.2222222222222222,\"#7201a8\"],[0.3333333333333333,\"#9c179e\"],[0.4444444444444444,\"#bd3786\"],[0.5555555555555556,\"#d8576b\"],[0.6666666666666666,\"#ed7953\"],[0.7777777777777778,\"#fb9f3a\"],[0.8888888888888888,\"#fdca26\"],[1.0,\"#f0f921\"]]}],\"choropleth\":[{\"type\":\"choropleth\",\"colorbar\":{\"outlinewidth\":0,\"ticks\":\"\"}}],\"histogram2d\":[{\"type\":\"histogram2d\",\"colorbar\":{\"outlinewidth\":0,\"ticks\":\"\"},\"colorscale\":[[0.0,\"#0d0887\"],[0.1111111111111111,\"#46039f\"],[0.2222222222222222,\"#7201a8\"],[0.3333333333333333,\"#9c179e\"],[0.4444444444444444,\"#bd3786\"],[0.5555555555555556,\"#d8576b\"],[0.6666666666666666,\"#ed7953\"],[0.7777777777777778,\"#fb9f3a\"],[0.8888888888888888,\"#fdca26\"],[1.0,\"#f0f921\"]]}],\"heatmap\":[{\"type\":\"heatmap\",\"colorbar\":{\"outlinewidth\":0,\"ticks\":\"\"},\"colorscale\":[[0.0,\"#0d0887\"],[0.1111111111111111,\"#46039f\"],[0.2222222222222222,\"#7201a8\"],[0.3333333333333333,\"#9c179e\"],[0.4444444444444444,\"#bd3786\"],[0.5555555555555556,\"#d8576b\"],[0.6666666666666666,\"#ed7953\"],[0.7777777777777778,\"#fb9f3a\"],[0.8888888888888888,\"#fdca26\"],[1.0,\"#f0f921\"]]}],\"heatmapgl\":[{\"type\":\"heatmapgl\",\"colorbar\":{\"outlinewidth\":0,\"ticks\":\"\"},\"colorscale\":[[0.0,\"#0d0887\"],[0.1111111111111111,\"#46039f\"],[0.2222222222222222,\"#7201a8\"],[0.3333333333333333,\"#9c179e\"],[0.4444444444444444,\"#bd3786\"],[0.5555555555555556,\"#d8576b\"],[0.6666666666666666,\"#ed7953\"],[0.7777777777777778,\"#fb9f3a\"],[0.8888888888888888,\"#fdca26\"],[1.0,\"#f0f921\"]]}],\"contourcarpet\":[{\"type\":\"contourcarpet\",\"colorbar\":{\"outlinewidth\":0,\"ticks\":\"\"}}],\"contour\":[{\"type\":\"contour\",\"colorbar\":{\"outlinewidth\":0,\"ticks\":\"\"},\"colorscale\":[[0.0,\"#0d0887\"],[0.1111111111111111,\"#46039f\"],[0.2222222222222222,\"#7201a8\"],[0.3333333333333333,\"#9c179e\"],[0.4444444444444444,\"#bd3786\"],[0.5555555555555556,\"#d8576b\"],[0.6666666666666666,\"#ed7953\"],[0.7777777777777778,\"#fb9f3a\"],[0.8888888888888888,\"#fdca26\"],[1.0,\"#f0f921\"]]}],\"surface\":[{\"type\":\"surface\",\"colorbar\":{\"outlinewidth\":0,\"ticks\":\"\"},\"colorscale\":[[0.0,\"#0d0887\"],[0.1111111111111111,\"#46039f\"],[0.2222222222222222,\"#7201a8\"],[0.3333333333333333,\"#9c179e\"],[0.4444444444444444,\"#bd3786\"],[0.5555555555555556,\"#d8576b\"],[0.6666666666666666,\"#ed7953\"],[0.7777777777777778,\"#fb9f3a\"],[0.8888888888888888,\"#fdca26\"],[1.0,\"#f0f921\"]]}],\"mesh3d\":[{\"type\":\"mesh3d\",\"colorbar\":{\"outlinewidth\":0,\"ticks\":\"\"}}],\"scatter\":[{\"fillpattern\":{\"fillmode\":\"overlay\",\"size\":10,\"solidity\":0.2},\"type\":\"scatter\"}],\"parcoords\":[{\"type\":\"parcoords\",\"line\":{\"colorbar\":{\"outlinewidth\":0,\"ticks\":\"\"}}}],\"scatterpolargl\":[{\"type\":\"scatterpolargl\",\"marker\":{\"colorbar\":{\"outlinewidth\":0,\"ticks\":\"\"}}}],\"bar\":[{\"error_x\":{\"color\":\"#2a3f5f\"},\"error_y\":{\"color\":\"#2a3f5f\"},\"marker\":{\"line\":{\"color\":\"#E5ECF6\",\"width\":0.5},\"pattern\":{\"fillmode\":\"overlay\",\"size\":10,\"solidity\":0.2}},\"type\":\"bar\"}],\"scattergeo\":[{\"type\":\"scattergeo\",\"marker\":{\"colorbar\":{\"outlinewidth\":0,\"ticks\":\"\"}}}],\"scatterpolar\":[{\"type\":\"scatterpolar\",\"marker\":{\"colorbar\":{\"outlinewidth\":0,\"ticks\":\"\"}}}],\"histogram\":[{\"marker\":{\"pattern\":{\"fillmode\":\"overlay\",\"size\":10,\"solidity\":0.2}},\"type\":\"histogram\"}],\"scattergl\":[{\"type\":\"scattergl\",\"marker\":{\"colorbar\":{\"outlinewidth\":0,\"ticks\":\"\"}}}],\"scatter3d\":[{\"type\":\"scatter3d\",\"line\":{\"colorbar\":{\"outlinewidth\":0,\"ticks\":\"\"}},\"marker\":{\"colorbar\":{\"outlinewidth\":0,\"ticks\":\"\"}}}],\"scattermapbox\":[{\"type\":\"scattermapbox\",\"marker\":{\"colorbar\":{\"outlinewidth\":0,\"ticks\":\"\"}}}],\"scatterternary\":[{\"type\":\"scatterternary\",\"marker\":{\"colorbar\":{\"outlinewidth\":0,\"ticks\":\"\"}}}],\"scattercarpet\":[{\"type\":\"scattercarpet\",\"marker\":{\"colorbar\":{\"outlinewidth\":0,\"ticks\":\"\"}}}],\"carpet\":[{\"aaxis\":{\"endlinecolor\":\"#2a3f5f\",\"gridcolor\":\"white\",\"linecolor\":\"white\",\"minorgridcolor\":\"white\",\"startlinecolor\":\"#2a3f5f\"},\"baxis\":{\"endlinecolor\":\"#2a3f5f\",\"gridcolor\":\"white\",\"linecolor\":\"white\",\"minorgridcolor\":\"white\",\"startlinecolor\":\"#2a3f5f\"},\"type\":\"carpet\"}],\"table\":[{\"cells\":{\"fill\":{\"color\":\"#EBF0F8\"},\"line\":{\"color\":\"white\"}},\"header\":{\"fill\":{\"color\":\"#C8D4E3\"},\"line\":{\"color\":\"white\"}},\"type\":\"table\"}],\"barpolar\":[{\"marker\":{\"line\":{\"color\":\"#E5ECF6\",\"width\":0.5},\"pattern\":{\"fillmode\":\"overlay\",\"size\":10,\"solidity\":0.2}},\"type\":\"barpolar\"}],\"pie\":[{\"automargin\":true,\"type\":\"pie\"}]},\"layout\":{\"autotypenumbers\":\"strict\",\"colorway\":[\"#636efa\",\"#EF553B\",\"#00cc96\",\"#ab63fa\",\"#FFA15A\",\"#19d3f3\",\"#FF6692\",\"#B6E880\",\"#FF97FF\",\"#FECB52\"],\"font\":{\"color\":\"#2a3f5f\"},\"hovermode\":\"closest\",\"hoverlabel\":{\"align\":\"left\"},\"paper_bgcolor\":\"white\",\"plot_bgcolor\":\"#E5ECF6\",\"polar\":{\"bgcolor\":\"#E5ECF6\",\"angularaxis\":{\"gridcolor\":\"white\",\"linecolor\":\"white\",\"ticks\":\"\"},\"radialaxis\":{\"gridcolor\":\"white\",\"linecolor\":\"white\",\"ticks\":\"\"}},\"ternary\":{\"bgcolor\":\"#E5ECF6\",\"aaxis\":{\"gridcolor\":\"white\",\"linecolor\":\"white\",\"ticks\":\"\"},\"baxis\":{\"gridcolor\":\"white\",\"linecolor\":\"white\",\"ticks\":\"\"},\"caxis\":{\"gridcolor\":\"white\",\"linecolor\":\"white\",\"ticks\":\"\"}},\"coloraxis\":{\"colorbar\":{\"outlinewidth\":0,\"ticks\":\"\"}},\"colorscale\":{\"sequential\":[[0.0,\"#0d0887\"],[0.1111111111111111,\"#46039f\"],[0.2222222222222222,\"#7201a8\"],[0.3333333333333333,\"#9c179e\"],[0.4444444444444444,\"#bd3786\"],[0.5555555555555556,\"#d8576b\"],[0.6666666666666666,\"#ed7953\"],[0.7777777777777778,\"#fb9f3a\"],[0.8888888888888888,\"#fdca26\"],[1.0,\"#f0f921\"]],\"sequentialminus\":[[0.0,\"#0d0887\"],[0.1111111111111111,\"#46039f\"],[0.2222222222222222,\"#7201a8\"],[0.3333333333333333,\"#9c179e\"],[0.4444444444444444,\"#bd3786\"],[0.5555555555555556,\"#d8576b\"],[0.6666666666666666,\"#ed7953\"],[0.7777777777777778,\"#fb9f3a\"],[0.8888888888888888,\"#fdca26\"],[1.0,\"#f0f921\"]],\"diverging\":[[0,\"#8e0152\"],[0.1,\"#c51b7d\"],[0.2,\"#de77ae\"],[0.3,\"#f1b6da\"],[0.4,\"#fde0ef\"],[0.5,\"#f7f7f7\"],[0.6,\"#e6f5d0\"],[0.7,\"#b8e186\"],[0.8,\"#7fbc41\"],[0.9,\"#4d9221\"],[1,\"#276419\"]]},\"xaxis\":{\"gridcolor\":\"white\",\"linecolor\":\"white\",\"ticks\":\"\",\"title\":{\"standoff\":15},\"zerolinecolor\":\"white\",\"automargin\":true,\"zerolinewidth\":2},\"yaxis\":{\"gridcolor\":\"white\",\"linecolor\":\"white\",\"ticks\":\"\",\"title\":{\"standoff\":15},\"zerolinecolor\":\"white\",\"automargin\":true,\"zerolinewidth\":2},\"scene\":{\"xaxis\":{\"backgroundcolor\":\"#E5ECF6\",\"gridcolor\":\"white\",\"linecolor\":\"white\",\"showbackground\":true,\"ticks\":\"\",\"zerolinecolor\":\"white\",\"gridwidth\":2},\"yaxis\":{\"backgroundcolor\":\"#E5ECF6\",\"gridcolor\":\"white\",\"linecolor\":\"white\",\"showbackground\":true,\"ticks\":\"\",\"zerolinecolor\":\"white\",\"gridwidth\":2},\"zaxis\":{\"backgroundcolor\":\"#E5ECF6\",\"gridcolor\":\"white\",\"linecolor\":\"white\",\"showbackground\":true,\"ticks\":\"\",\"zerolinecolor\":\"white\",\"gridwidth\":2}},\"shapedefaults\":{\"line\":{\"color\":\"#2a3f5f\"}},\"annotationdefaults\":{\"arrowcolor\":\"#2a3f5f\",\"arrowhead\":0,\"arrowwidth\":1},\"geo\":{\"bgcolor\":\"white\",\"landcolor\":\"#E5ECF6\",\"subunitcolor\":\"white\",\"showland\":true,\"showlakes\":true,\"lakecolor\":\"white\"},\"title\":{\"x\":0.05},\"mapbox\":{\"style\":\"light\"}}},\"images\":[{\"sizex\":0.12,\"sizey\":0.12,\"source\":\"https:\\u002f\\u002fupload.wikimedia.org\\u002fwikipedia\\u002fcommons\\u002fthumb\\u002fc\\u002fc0\\u002fEo_circle_green_arrow-up.svg\\u002f2048px-Eo_circle_green_arrow-up.svg.png\",\"x\":0.01,\"xanchor\":\"right\",\"xref\":\"paper\",\"y\":1.045,\"yanchor\":\"bottom\",\"yref\":\"paper\"}],\"annotations\":[{\"arrowcolor\":\"white\",\"font\":{\"color\":\"black\",\"family\":\"Arial\"},\"text\":\"\\u003ci\\u003eSource: \\u003ca href='https:\\u002f\\u002fwww.linkedin.com\\u002fin\\u002fjeremyravenel\\u002f'\\u003ehttps:\\u002f\\u002fwww.linkedin.com\\u002fin\\u002fjeremyravenel\\u002f\\u003c\\u002fa\\u003e \\u002f Created at: 2024-01-22\\u003c\\u002fi\\u003e\",\"x\":0,\"xanchor\":\"left\",\"xref\":\"paper\",\"y\":-0.35,\"yanchor\":\"bottom\",\"yref\":\"paper\"}],\"title\":{\"text\":\"\\u003cb\\u003e\\u003cspan style='font-size: 20px;'\\u003eNew Opportunities\\u003c\\u002fspan\\u003e\\u003c\\u002fb\\u003e\\u003cbr\\u003e\\u003cspan style='font-size: 18px;'\\u003eW04-2024: 20 | +2 (+11%) vs last week\\u003c\\u002fspan\\u003e\",\"x\":0.09,\"font\":{\"family\":\"Arial\",\"color\":\"black\"}},\"margin\":{\"pad\":10,\"b\":120},\"paper_bgcolor\":\"#ffffff\",\"plot_bgcolor\":\"#ffffff\",\"width\":1200,\"height\":600,\"barmode\":\"stack\",\"bargap\":0.1,\"bargroupgap\":0.1},                        {\"displayModeBar\": false, \"responsive\": true}                    ).then(function(){\n",
       "                            \n",
       "var gd = document.getElementById('7ce7b13d-648b-42b6-b58c-88269c3c5f2d');\n",
       "var x = new MutationObserver(function (mutations, observer) {{\n",
       "        var display = window.getComputedStyle(gd).display;\n",
       "        if (!display || display === 'none') {{\n",
       "            console.log([gd, 'removed!']);\n",
       "            Plotly.purge(gd);\n",
       "            observer.disconnect();\n",
       "        }}\n",
       "}});\n",
       "\n",
       "// Listen for the removal of the full notebook cells\n",
       "var notebookContainer = gd.closest('#notebook-container');\n",
       "if (notebookContainer) {{\n",
       "    x.observe(notebookContainer, {childList: true});\n",
       "}}\n",
       "\n",
       "// Listen for the clearing of the current output cell\n",
       "var outputEl = gd.closest('.output');\n",
       "if (outputEl) {{\n",
       "    x.observe(outputEl, {childList: true});\n",
       "}}\n",
       "\n",
       "                        })                };                });            </script>        </div>"
      ]
     },
     "metadata": {},
     "output_type": "display_data"
    }
   ],
   "source": [
    "def get_week_number(week):\n",
    "    return int(week.split(\"W\")[1].split(\"-\")[0]) \n",
    "\n",
    "def create_barchart(\n",
    "    df,\n",
    "    label,\n",
    "    groups,\n",
    "    value,\n",
    "    title,\n",
    "    logo,\n",
    "):\n",
    "    # Init\n",
    "    fig = go.Figure()\n",
    "    tw_int = get_week_number(TW)\n",
    "    \n",
    "    # Create trace\n",
    "    list_groups = df[groups].unique()\n",
    "    for group in list_groups:\n",
    "#         showlegend = True\n",
    "        tmp_df = df[df[groups] == group]\n",
    "        # Create bar\n",
    "        fig.add_trace(\n",
    "            go.Bar(\n",
    "                x=tmp_df[label],\n",
    "                y=tmp_df[value],\n",
    "                name=group,\n",
    "                marker=dict(color=tmp_df[\"COLOR\"]),\n",
    "                text=tmp_df[value],\n",
    "                textposition=\"outside\",\n",
    "                hoverinfo=\"text\",\n",
    "                hovertext=tmp_df[\"TEXT\"],\n",
    "                showlegend=False\n",
    "            )\n",
    "        )\n",
    "\n",
    "    # Add logo\n",
    "    fig.add_layout_image(\n",
    "        dict(\n",
    "            source=logo,\n",
    "            xref=\"paper\",\n",
    "            yref=\"paper\",\n",
    "            x=0.01,\n",
    "            y=1.045,\n",
    "            sizex=0.12,\n",
    "            sizey=0.12,\n",
    "            xanchor=\"right\",\n",
    "            yanchor=\"bottom\",\n",
    "        )\n",
    "    )\n",
    "    \n",
    "    # Add annotation\n",
    "    fig.add_annotation(\n",
    "        text=f\"<i>Source: <a href='{linkedin_url}'>{linkedin_url}</a> / Created at: {date.today().isoformat()}</i>\",\n",
    "        font=dict(family=\"Arial\", color=\"black\"),\n",
    "        x=0,\n",
    "        y=-0.35,\n",
    "        xref=\"paper\",\n",
    "        yref=\"paper\",\n",
    "        xanchor=\"left\",\n",
    "        yanchor=\"bottom\",\n",
    "        arrowcolor=\"white\",\n",
    "    )\n",
    "    # Update layout\n",
    "    fig.update_layout(\n",
    "        title=title,\n",
    "        title_x=0.09,\n",
    "        title_font=dict(family=\"Arial\", color=\"black\"),\n",
    "        paper_bgcolor=\"#ffffff\",\n",
    "        plot_bgcolor=\"#ffffff\",\n",
    "        width=1200,\n",
    "        height=600,\n",
    "        margin_pad=10,\n",
    "        margin_b=120,\n",
    "        barmode=\"stack\",\n",
    "        bargap=0.1,  # gap between bars of adjacent location coordinates.\n",
    "        bargroupgap=0.1,  # gap between bars of the same location coordinate.\n",
    "    )\n",
    "    config = {\"displayModeBar\": False}\n",
    "    fig.show(config=config)\n",
    "    return fig\n",
    "\n",
    "fig = create_barchart(df_trend, label=\"DATE_D\", groups=\"SCENARIO\", value=\"VALUE\", title=title_full, logo=logo)"
   ]
  },
  {
   "cell_type": "markdown",
   "id": "c8083216",
   "metadata": {
    "papermill": {},
    "tags": []
   },
   "source": [
    "## Output"
   ]
  },
  {
   "cell_type": "markdown",
   "id": "541e16a0",
   "metadata": {
    "papermill": {},
    "tags": []
   },
   "source": [
    "### Save data"
   ]
  },
  {
   "cell_type": "code",
   "execution_count": 16,
   "id": "61cc88bf",
   "metadata": {
    "execution": {
     "iopub.execute_input": "2024-01-22T18:27:07.373564Z",
     "iopub.status.busy": "2024-01-22T18:27:07.373332Z",
     "iopub.status.idle": "2024-01-22T18:27:07.413721Z",
     "shell.execute_reply": "2024-01-22T18:27:07.413086Z",
     "shell.execute_reply.started": "2024-01-22T18:27:07.373541Z"
    },
    "papermill": {},
    "tags": []
   },
   "outputs": [],
   "source": [
    "pdump(output_dir, df_trend, csv_output)"
   ]
  },
  {
   "cell_type": "markdown",
   "id": "d28cd477",
   "metadata": {
    "papermill": {},
    "tags": []
   },
   "source": [
    "### Save and share your graph in HTML\n"
   ]
  },
  {
   "cell_type": "code",
   "execution_count": 17,
   "id": "3421d37f",
   "metadata": {
    "execution": {
     "iopub.execute_input": "2024-01-22T18:27:10.349440Z",
     "iopub.status.busy": "2024-01-22T18:27:10.349116Z",
     "iopub.status.idle": "2024-01-22T18:27:11.584625Z",
     "shell.execute_reply": "2024-01-22T18:27:11.583964Z",
     "shell.execute_reply.started": "2024-01-22T18:27:10.349403Z"
    },
    "papermill": {},
    "tags": []
   },
   "outputs": [
    {
     "name": "stdout",
     "output_type": "stream",
     "text": [
      "👌 Well done! Your Assets has been sent to production.\n",
      "\n"
     ]
    },
    {
     "data": {
      "application/javascript": [
       "\n",
       "    if (!window.copyToClipboard) {\n",
       "        window.copyToClipboard = (text) => {\n",
       "            const dummy = document.createElement(\"textarea\");\n",
       "            document.body.appendChild(dummy);\n",
       "            dummy.value = text;\n",
       "            dummy.select();\n",
       "            document.execCommand(\"copy\");\n",
       "            document.body.removeChild(dummy);\n",
       "        }\n",
       "    }\n",
       "    "
      ],
      "text/plain": [
       "<IPython.core.display.Javascript object>"
      ]
     },
     "metadata": {},
     "output_type": "display_data"
    },
    {
     "data": {
      "application/vnd.jupyter.widget-view+json": {
       "model_id": "619cb4af684a49be81240c30954f6259",
       "version_major": 2,
       "version_minor": 0
      },
      "text/plain": [
       "Button(button_style='primary', description='Copy URL', style=ButtonStyle())"
      ]
     },
     "metadata": {},
     "output_type": "display_data"
    },
    {
     "data": {
      "application/vnd.jupyter.widget-view+json": {
       "model_id": "8eb7df99d9a44005af6be8446fdba809",
       "version_major": 2,
       "version_minor": 0
      },
      "text/plain": [
       "Output()"
      ]
     },
     "metadata": {},
     "output_type": "display_data"
    },
    {
     "name": "stdout",
     "output_type": "stream",
     "text": [
      "PS: to remove the \"Assets\" feature, just replace .add by .delete\n"
     ]
    }
   ],
   "source": [
    "# Save your graph in HTML\n",
    "fig.write_html(html_output)\n",
    "\n",
    "# Share output with naas\n",
    "html_link = naas.asset.add(html_output, params={\"inline\": True})\n",
    "\n",
    "# -> Uncomment the line below to remove your asset\n",
    "# naas.asset.delete(html_output)"
   ]
  },
  {
   "cell_type": "markdown",
   "id": "91a987c6",
   "metadata": {
    "papermill": {},
    "tags": []
   },
   "source": [
    "### Save and share your graph in image\n"
   ]
  },
  {
   "cell_type": "code",
   "execution_count": 18,
   "id": "8342abf9",
   "metadata": {
    "execution": {
     "iopub.execute_input": "2024-01-22T18:27:11.828405Z",
     "iopub.status.busy": "2024-01-22T18:27:11.828175Z",
     "iopub.status.idle": "2024-01-22T18:27:12.914030Z",
     "shell.execute_reply": "2024-01-22T18:27:12.903764Z",
     "shell.execute_reply.started": "2024-01-22T18:27:11.828381Z"
    },
    "papermill": {},
    "tags": []
   },
   "outputs": [
    {
     "name": "stdout",
     "output_type": "stream",
     "text": [
      "👌 Well done! Your Assets has been sent to production.\n",
      "\n"
     ]
    },
    {
     "data": {
      "application/javascript": [
       "\n",
       "    if (!window.copyToClipboard) {\n",
       "        window.copyToClipboard = (text) => {\n",
       "            const dummy = document.createElement(\"textarea\");\n",
       "            document.body.appendChild(dummy);\n",
       "            dummy.value = text;\n",
       "            dummy.select();\n",
       "            document.execCommand(\"copy\");\n",
       "            document.body.removeChild(dummy);\n",
       "        }\n",
       "    }\n",
       "    "
      ],
      "text/plain": [
       "<IPython.core.display.Javascript object>"
      ]
     },
     "metadata": {},
     "output_type": "display_data"
    },
    {
     "data": {
      "application/vnd.jupyter.widget-view+json": {
       "model_id": "e49fbd2a675049dda0f765c374c8f830",
       "version_major": 2,
       "version_minor": 0
      },
      "text/plain": [
       "Button(button_style='primary', description='Copy URL', style=ButtonStyle())"
      ]
     },
     "metadata": {},
     "output_type": "display_data"
    },
    {
     "data": {
      "application/vnd.jupyter.widget-view+json": {
       "model_id": "9924da49a5d14f54a1a82cdc553af459",
       "version_major": 2,
       "version_minor": 0
      },
      "text/plain": [
       "Output()"
      ]
     },
     "metadata": {},
     "output_type": "display_data"
    },
    {
     "name": "stdout",
     "output_type": "stream",
     "text": [
      "PS: to remove the \"Assets\" feature, just replace .add by .delete\n"
     ]
    }
   ],
   "source": [
    "# Save your graph in PNG\n",
    "fig.write_image(image_output)\n",
    "\n",
    "# Share output with naas\n",
    "image_link = naas.asset.add(image_output, override_prod=True)\n",
    "\n",
    "# -> Uncomment the line below to remove your asset\n",
    "# naas.asset.delete(image_output)"
   ]
  },
  {
   "cell_type": "code",
   "execution_count": null,
   "id": "b99cbc5e-25ab-4e47-9ed1-d9637719d951",
   "metadata": {},
   "outputs": [],
   "source": []
  }
 ],
 "metadata": {
  "kernelspec": {
   "display_name": "Python 3",
   "language": "python",
   "name": "python3"
  },
  "language_info": {
   "codemirror_mode": {
    "name": "ipython",
    "version": 3
   },
   "file_extension": ".py",
   "mimetype": "text/x-python",
   "name": "python",
   "nbconvert_exporter": "python",
   "pygments_lexer": "ipython3",
   "version": "3.9.6"
  },
  "papermill": {
   "default_parameters": {},
   "environment_variables": {},
   "parameters": {},
   "version": "2.3.4"
  }
 },
 "nbformat": 4,
 "nbformat_minor": 5
}
