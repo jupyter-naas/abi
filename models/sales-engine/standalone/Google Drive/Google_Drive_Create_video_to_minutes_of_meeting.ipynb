{
 "cells": [
  {
   "cell_type": "markdown",
   "id": "compressed-wilson",
   "metadata": {
    "papermill": {},
    "tags": []
   },
   "source": [
    "# Video to Minutes of Meeting"
   ]
  },
  {
   "cell_type": "markdown",
   "id": "religious-programmer",
   "metadata": {},
   "source": [
    "**Tags**: #tool -> hastags of the topics the notebook is about, as text starting with the name of the tool"
   ]
  },
  {
   "cell_type": "markdown",
   "id": "1fe9f56e-561c-4f52-aef8-b861c9462107",
   "metadata": {},
   "source": [
    "**Author:** [Maxime Jublou](https://www.linkedin.com/in/maximejublou) -> name and social profile link of the author(s)"
   ]
  },
  {
   "cell_type": "markdown",
   "id": "0de144be-594d-463e-9849-696fb2f6d1a8",
   "metadata": {},
   "source": [
    "**Last update:** YYYY-MM-DD (Created: YYYY-MM-DD) -> The last update date refers to when the notebook was last edited, while the created date corresponds to when the notebook was initially merged."
   ]
  },
  {
   "cell_type": "markdown",
   "id": "31ea7cdb-e10d-43fc-b026-f69249a59736",
   "metadata": {},
   "source": [
    "**Description:** This notebook demonstrates how to ... -> a one-liner explaining the benefits of the notebooks for the user, as text."
   ]
  },
  {
   "cell_type": "markdown",
   "id": "d4b89388-5cd5-409a-8169-c53cc8dfab96",
   "metadata": {},
   "source": [
    "**References:** list of references and websites utilized in the creation of this notebook\n",
    "- [Naas Documentation](https://site.naas.ai/)"
   ]
  },
  {
   "cell_type": "markdown",
   "id": "distinguished-truth",
   "metadata": {
    "papermill": {},
    "tags": []
   },
   "source": [
    "## Input"
   ]
  },
  {
   "cell_type": "markdown",
   "id": "f23bf193-f374-4e12-82b3-882bb7720860",
   "metadata": {},
   "source": [
    "### Install requirements"
   ]
  },
  {
   "cell_type": "code",
   "execution_count": null,
   "id": "0018b521-1394-4a41-bed6-ec23093a8d1f",
   "metadata": {
    "execution": {
     "iopub.execute_input": "2023-10-05T07:58:55.389995Z",
     "iopub.status.busy": "2023-10-05T07:58:55.389817Z",
     "iopub.status.idle": "2023-10-05T07:59:00.549271Z",
     "shell.execute_reply": "2023-10-05T07:59:00.548584Z",
     "shell.execute_reply.started": "2023-10-05T07:58:55.389950Z"
    },
    "tags": []
   },
   "outputs": [],
   "source": [
    "!pip install --user google-auth==2.22.0 google-auth-oauthlib==0.4.6 google-auth-httplib2==0.1.0 google-api-python-client==2.43.0 openai==0.27.8 nltk==3.8.1"
   ]
  },
  {
   "cell_type": "markdown",
   "id": "numeric-mediterranean",
   "metadata": {},
   "source": [
    "### Import libraries"
   ]
  },
  {
   "cell_type": "code",
   "execution_count": null,
   "id": "potential-surfing",
   "metadata": {
    "execution": {
     "iopub.execute_input": "2023-10-05T07:59:00.550706Z",
     "iopub.status.busy": "2023-10-05T07:59:00.550272Z",
     "iopub.status.idle": "2023-10-05T07:59:08.165714Z",
     "shell.execute_reply": "2023-10-05T07:59:08.165110Z",
     "shell.execute_reply.started": "2023-10-05T07:59:00.550671Z"
    },
    "tags": []
   },
   "outputs": [],
   "source": [
    "import naas\n",
    "import markdown\n",
    "\n",
    "from google.oauth2.service_account import Credentials\n",
    "from googleapiclient.discovery import build\n",
    "\n",
    "from googleapiclient.http import MediaIoBaseDownload\n",
    "import io\n",
    "\n",
    "import openai\n",
    "\n",
    "import os\n",
    "import subprocess\n",
    "\n",
    "from glob import glob\n",
    "\n",
    "import concurrent.futures\n",
    "import nltk\n",
    "nltk.download('punkt')"
   ]
  },
  {
   "cell_type": "markdown",
   "id": "aggressive-trustee",
   "metadata": {},
   "source": [
    "### Setup variables"
   ]
  },
  {
   "cell_type": "code",
   "execution_count": null,
   "id": "continuous-melbourne",
   "metadata": {
    "execution": {
     "iopub.execute_input": "2023-10-05T07:59:29.329507Z",
     "iopub.status.busy": "2023-10-05T07:59:29.329278Z",
     "iopub.status.idle": "2023-10-05T07:59:29.440836Z",
     "shell.execute_reply": "2023-10-05T07:59:29.440248Z",
     "shell.execute_reply.started": "2023-10-05T07:59:29.329485Z"
    },
    "tags": []
   },
   "outputs": [],
   "source": [
    "email_to = [\n",
    "    \"your email address\"\n",
    "]\n",
    "\n",
    "# Id of the folder from which we should compute MoMs\n",
    "drive_folder_id = \"\"\n",
    "\n",
    "# Location of GCP service account that will be used.\n",
    "drive_service_account_file = 'service_account.json'\n",
    "\n",
    "openai.api_key = naas.secret.get('OPENAI_KEY')\n",
    "audio_model = \"whisper-1\"\n",
    "text_model = \"gpt-3.5-turbo-16k\""
   ]
  },
  {
   "cell_type": "markdown",
   "id": "registered-showcase",
   "metadata": {},
   "source": [
    "## Model"
   ]
  },
  {
   "cell_type": "markdown",
   "id": "c6d56859-fb8a-49e0-9b0f-f228c3de411e",
   "metadata": {},
   "source": [
    "### Filesystem functions"
   ]
  },
  {
   "cell_type": "code",
   "execution_count": null,
   "id": "5e37d8ee-6189-40cf-9c56-95a1fe8518b9",
   "metadata": {
    "execution": {
     "iopub.execute_input": "2023-10-05T07:59:30.937799Z",
     "iopub.status.busy": "2023-10-05T07:59:30.937578Z",
     "iopub.status.idle": "2023-10-05T07:59:30.940913Z",
     "shell.execute_reply": "2023-10-05T07:59:30.940273Z",
     "shell.execute_reply.started": "2023-10-05T07:59:30.937777Z"
    },
    "tags": []
   },
   "outputs": [],
   "source": [
    "def remove_existing_video_audio_files():\n",
    "    for f in glob('*.mp3') + glob('*.mp4'):\n",
    "        print(f'🗑️ Removing {f}')\n",
    "        os.remove(f)"
   ]
  },
  {
   "cell_type": "markdown",
   "id": "d89a8127-21de-4a34-ad23-c8efc99453b9",
   "metadata": {},
   "source": [
    "### Google Drive functions"
   ]
  },
  {
   "cell_type": "code",
   "execution_count": null,
   "id": "76aec67f-77a2-4080-9594-3d976d3c8751",
   "metadata": {
    "execution": {
     "iopub.execute_input": "2023-10-05T07:59:31.693425Z",
     "iopub.status.busy": "2023-10-05T07:59:31.693200Z",
     "iopub.status.idle": "2023-10-05T07:59:31.827457Z",
     "shell.execute_reply": "2023-10-05T07:59:31.826778Z",
     "shell.execute_reply.started": "2023-10-05T07:59:31.693402Z"
    },
    "tags": []
   },
   "outputs": [],
   "source": [
    "creds = Credentials.from_service_account_file(drive_service_account_file)\n",
    "service = build('drive', 'v3', credentials=creds)"
   ]
  },
  {
   "cell_type": "markdown",
   "id": "tested-astrology",
   "metadata": {},
   "source": [
    "#### List files in Drive"
   ]
  },
  {
   "cell_type": "code",
   "execution_count": null,
   "id": "crude-louisville",
   "metadata": {
    "execution": {
     "iopub.execute_input": "2023-10-05T07:59:33.525787Z",
     "iopub.status.busy": "2023-10-05T07:59:33.525553Z",
     "iopub.status.idle": "2023-10-05T07:59:33.532421Z",
     "shell.execute_reply": "2023-10-05T07:59:33.531691Z",
     "shell.execute_reply.started": "2023-10-05T07:59:33.525764Z"
    },
    "papermill": {},
    "tags": []
   },
   "outputs": [],
   "source": [
    "def list_files():\n",
    "    # Call the Drive v3 API\n",
    "    results = service.files().list(\n",
    "        q=f\"'{drive_folder_id}' in parents\", fields=\"nextPageToken, files(id, name)\").execute()\n",
    "    items = results.get('files', [])\n",
    "    \n",
    "    return items\n",
    "    return [{i['id']: i['name']} for i in items]\n",
    "# list_files()"
   ]
  },
  {
   "cell_type": "markdown",
   "id": "6b541dc9-fa64-4438-b319-65924e622625",
   "metadata": {},
   "source": [
    "#### Check if file is a video"
   ]
  },
  {
   "cell_type": "code",
   "execution_count": null,
   "id": "a90cee84-8bba-4d89-9731-e0b7b581e509",
   "metadata": {
    "execution": {
     "iopub.execute_input": "2023-10-05T07:59:33.701843Z",
     "iopub.status.busy": "2023-10-05T07:59:33.701524Z",
     "iopub.status.idle": "2023-10-05T07:59:33.707481Z",
     "shell.execute_reply": "2023-10-05T07:59:33.706869Z",
     "shell.execute_reply.started": "2023-10-05T07:59:33.701808Z"
    },
    "tags": []
   },
   "outputs": [],
   "source": [
    "def is_video_file(file_id):\n",
    "    # Retrieve the file metadata\n",
    "    file = service.files().get(fileId=file_id, fields='mimeType').execute()\n",
    "\n",
    "    # Check if the file is a video\n",
    "    mime_type = file.get('mimeType', '')\n",
    "    return mime_type.startswith('video/')"
   ]
  },
  {
   "cell_type": "markdown",
   "id": "5c1f9e39-8753-4b7e-9670-b5858af2df7d",
   "metadata": {},
   "source": [
    "#### Get labels from files "
   ]
  },
  {
   "cell_type": "code",
   "execution_count": null,
   "id": "74aea0da-43f3-470b-baa0-47b9ab044822",
   "metadata": {
    "execution": {
     "iopub.execute_input": "2023-10-05T07:59:34.050444Z",
     "iopub.status.busy": "2023-10-05T07:59:34.050216Z",
     "iopub.status.idle": "2023-10-05T07:59:34.053826Z",
     "shell.execute_reply": "2023-10-05T07:59:34.053166Z",
     "shell.execute_reply.started": "2023-10-05T07:59:34.050421Z"
    },
    "tags": []
   },
   "outputs": [],
   "source": [
    "def get_labels_from_file(file_id):\n",
    "    # Retrieve the file with the properties field\n",
    "    file = service.files().get(fileId=file_id, fields='properties').execute()\n",
    "\n",
    "    # Get the labels from the properties field\n",
    "    labels = file.get('properties', {})\n",
    "\n",
    "    return labels"
   ]
  },
  {
   "cell_type": "markdown",
   "id": "9067fc91-effa-4b02-853d-f5cea9862eee",
   "metadata": {},
   "source": [
    "#### Add labels to file"
   ]
  },
  {
   "cell_type": "code",
   "execution_count": null,
   "id": "e9c468b7-ad27-4335-952b-c6b39ca3b442",
   "metadata": {
    "execution": {
     "iopub.execute_input": "2023-10-05T07:59:34.295450Z",
     "iopub.status.busy": "2023-10-05T07:59:34.295219Z",
     "iopub.status.idle": "2023-10-05T07:59:34.298675Z",
     "shell.execute_reply": "2023-10-05T07:59:34.298001Z",
     "shell.execute_reply.started": "2023-10-05T07:59:34.295426Z"
    },
    "tags": []
   },
   "outputs": [],
   "source": [
    "def add_labels_to_file(file_id, labels):\n",
    "    # Update the file with the new labels\n",
    "    service.files().update(fileId=file_id, body={'properties': labels}).execute()"
   ]
  },
  {
   "cell_type": "markdown",
   "id": "a5d33c43-7f2e-4d74-9ba8-5fe92a15d2a7",
   "metadata": {},
   "source": [
    "#### Download file"
   ]
  },
  {
   "cell_type": "code",
   "execution_count": null,
   "id": "b6dea949-a7fd-4b0e-a72b-7d5a08a3ed92",
   "metadata": {
    "execution": {
     "iopub.execute_input": "2023-10-05T07:59:34.573849Z",
     "iopub.status.busy": "2023-10-05T07:59:34.573416Z",
     "iopub.status.idle": "2023-10-05T07:59:34.578526Z",
     "shell.execute_reply": "2023-10-05T07:59:34.578029Z",
     "shell.execute_reply.started": "2023-10-05T07:59:34.573813Z"
    },
    "tags": []
   },
   "outputs": [],
   "source": [
    "def download_file(file_id, filepath):\n",
    "    request = service.files().get_media(fileId=file_id)\n",
    "    fh = io.FileIO(filepath, 'wb')\n",
    "    downloader = MediaIoBaseDownload(fh, request)\n",
    "    done = False\n",
    "    while done is False:\n",
    "        status, done = downloader.next_chunk()\n",
    "        print(\"Download %d%%.\" % int(status.progress() * 100))"
   ]
  },
  {
   "cell_type": "markdown",
   "id": "4067c93d-34c2-4722-bfa3-ea940d689d2a",
   "metadata": {},
   "source": [
    "### FFMPEG functions"
   ]
  },
  {
   "cell_type": "markdown",
   "id": "58f0cf9d-d528-4dd4-bd48-174c85c73fbe",
   "metadata": {
    "execution": {
     "iopub.execute_input": "2023-09-28T07:27:43.279128Z",
     "iopub.status.busy": "2023-09-28T07:27:43.278946Z",
     "iopub.status.idle": "2023-09-28T07:27:43.283092Z",
     "shell.execute_reply": "2023-09-28T07:27:43.282590Z",
     "shell.execute_reply.started": "2023-09-28T07:27:43.279107Z"
    },
    "tags": []
   },
   "source": [
    "#### Download ffmpeg"
   ]
  },
  {
   "cell_type": "code",
   "execution_count": null,
   "id": "ff179406-5c1e-4ad4-83e1-b0e2532ffd03",
   "metadata": {
    "execution": {
     "iopub.execute_input": "2023-10-05T07:59:35.094706Z",
     "iopub.status.busy": "2023-10-05T07:59:35.094478Z",
     "iopub.status.idle": "2023-10-05T07:59:35.102317Z",
     "shell.execute_reply": "2023-10-05T07:59:35.101674Z",
     "shell.execute_reply.started": "2023-10-05T07:59:35.094683Z"
    },
    "tags": []
   },
   "outputs": [],
   "source": [
    "def install_ffmpeg():\n",
    "    ffmpeg_path = os.path.join(os.getcwd(), 'ffmpeg_dir/ffmpeg')\n",
    "    if os.path.isfile(ffmpeg_path):\n",
    "        return ffmpeg_path\n",
    "    \n",
    "    \n",
    "    if not os.path.isfile('ffmpeg-git-amd64-static.tar.xz'):\n",
    "        !wget https://johnvansickle.com/ffmpeg/builds/ffmpeg-git-amd64-static.tar.xz\n",
    "    \n",
    "    if not os.path.isdir('ffmpeg_dir'):\n",
    "        !mkdir ffmpeg_dir\n",
    "    \n",
    "    if os.path.isfile('ffmpeg-git-amd64-static.tar.xz') and os.path.isdir('ffmpeg_dir'):\n",
    "        !tar xf ffmpeg-git-amd64-static.tar.xz -C ffmpeg_dir && mv ./ffmpeg_dir/*/* ffmpeg_dir/ && chmod +x ffmpeg_path\n",
    "        \n",
    "    return ffmpeg_path"
   ]
  },
  {
   "cell_type": "markdown",
   "id": "ca9255b3-1873-4202-a9d4-f5d16bd62078",
   "metadata": {
    "execution": {
     "iopub.execute_input": "2023-09-28T06:39:11.332722Z",
     "iopub.status.busy": "2023-09-28T06:39:11.332414Z",
     "iopub.status.idle": "2023-09-28T06:39:11.341445Z",
     "shell.execute_reply": "2023-09-28T06:39:11.340543Z",
     "shell.execute_reply.started": "2023-09-28T06:39:11.332690Z"
    }
   },
   "source": [
    "#### Convert mp4 to mp3\n",
    "\n",
    "The goal is to reduce the size of the file"
   ]
  },
  {
   "cell_type": "code",
   "execution_count": null,
   "id": "b7d95089-4807-4460-b677-75b965c99ff8",
   "metadata": {
    "execution": {
     "iopub.execute_input": "2023-10-05T07:59:35.313559Z",
     "iopub.status.busy": "2023-10-05T07:59:35.313326Z",
     "iopub.status.idle": "2023-10-05T07:59:35.316884Z",
     "shell.execute_reply": "2023-10-05T07:59:35.316242Z",
     "shell.execute_reply.started": "2023-10-05T07:59:35.313533Z"
    },
    "tags": []
   },
   "outputs": [],
   "source": [
    "def convert_mp4_to_mp3(ffmpeg_path, input_file, output_file):\n",
    "    command = f'{ffmpeg_path} -i {input_file} -vn -ab 128k -ar 44100 -y {output_file}'\n",
    "    e = subprocess.run(command, shell=True)\n",
    "    return e"
   ]
  },
  {
   "cell_type": "markdown",
   "id": "3da1a4ad-5750-4f87-97af-075c30ed2b5a",
   "metadata": {},
   "source": [
    "#### Split audio file in small chunks"
   ]
  },
  {
   "cell_type": "code",
   "execution_count": null,
   "id": "34a018ff-ba8d-4682-ad4c-96c8fa057238",
   "metadata": {
    "execution": {
     "iopub.execute_input": "2023-10-05T07:59:35.656335Z",
     "iopub.status.busy": "2023-10-05T07:59:35.656075Z",
     "iopub.status.idle": "2023-10-05T07:59:35.665930Z",
     "shell.execute_reply": "2023-10-05T07:59:35.664535Z",
     "shell.execute_reply.started": "2023-10-05T07:59:35.656312Z"
    },
    "tags": []
   },
   "outputs": [],
   "source": [
    "def split_audio(ffmpeg_path, input_file, output_prefix, segment_time):\n",
    "    command = f'{ffmpeg_path} -i {input_file} -f segment -segment_time {segment_time} -c copy {output_prefix}%03d.mp3'\n",
    "    subprocess.run(command, shell=True)\n",
    "    return sorted(glob(f'{output_prefix}*.mp3'))"
   ]
  },
  {
   "cell_type": "markdown",
   "id": "83a134c3-333e-452a-a2c1-5315ed1bc536",
   "metadata": {},
   "source": [
    "### LLM functions"
   ]
  },
  {
   "cell_type": "markdown",
   "id": "f26f27ed-4d2b-4f57-9a20-9e19c7ef820e",
   "metadata": {
    "execution": {
     "iopub.execute_input": "2023-09-27T17:16:59.888423Z",
     "iopub.status.busy": "2023-09-27T17:16:59.888177Z",
     "iopub.status.idle": "2023-09-27T17:17:03.541897Z",
     "shell.execute_reply": "2023-09-27T17:17:03.541301Z",
     "shell.execute_reply.started": "2023-09-27T17:16:59.888398Z"
    },
    "tags": []
   },
   "source": [
    "#### Get transcription for each chunks"
   ]
  },
  {
   "cell_type": "code",
   "execution_count": null,
   "id": "298cc121-b5db-4209-84f4-108187a6dd91",
   "metadata": {
    "execution": {
     "iopub.execute_input": "2023-10-05T07:59:36.153382Z",
     "iopub.status.busy": "2023-10-05T07:59:36.153089Z",
     "iopub.status.idle": "2023-10-05T07:59:36.161929Z",
     "shell.execute_reply": "2023-10-05T07:59:36.161285Z",
     "shell.execute_reply.started": "2023-10-05T07:59:36.153352Z"
    },
    "tags": []
   },
   "outputs": [],
   "source": [
    "def _transcribe_audio(audio_file_path):\n",
    "    print(f'⚙️ Transcribing {audio_file_path}')\n",
    "    with open(audio_file_path, 'rb') as audio_file:\n",
    "        transcription = openai.Audio.transcribe(audio_model, audio_file)\n",
    "    \n",
    "    print(f'✅ Transcribing {audio_file_path} done')\n",
    "    \n",
    "    return {\n",
    "        'filename': audio_file_path,\n",
    "        'transcript': transcription['text']\n",
    "    }\n",
    "\n",
    "def transcribe_audio(chunks):\n",
    "    with concurrent.futures.ThreadPoolExecutor(max_workers=len(chunks)) as executor:\n",
    "        futures = [executor.submit(_transcribe_audio, c) for c in chunks]\n",
    "\n",
    "        results = [future.result() for future in concurrent.futures.as_completed(futures)]\n",
    "        transcript = \" \".join([c['transcript'] for c in sorted(results, key=lambda x: x['filename'])])\n",
    "        return transcript"
   ]
  },
  {
   "cell_type": "markdown",
   "id": "83b1a3d0-868e-4aeb-b44a-191393b7d946",
   "metadata": {},
   "source": [
    "#### Split text in chunks"
   ]
  },
  {
   "cell_type": "code",
   "execution_count": null,
   "id": "2d1fefae-b27f-40e6-8729-58bf101cd07f",
   "metadata": {
    "execution": {
     "iopub.execute_input": "2023-10-05T07:59:37.061480Z",
     "iopub.status.busy": "2023-10-05T07:59:37.061252Z",
     "iopub.status.idle": "2023-10-05T07:59:37.066132Z",
     "shell.execute_reply": "2023-10-05T07:59:37.065249Z",
     "shell.execute_reply.started": "2023-10-05T07:59:37.061457Z"
    },
    "tags": []
   },
   "outputs": [],
   "source": [
    "def split_text(text, chunk_size):\n",
    "    sentences = nltk.sent_tokenize(text)\n",
    "    chunks = []\n",
    "    current_chunk = \"\"\n",
    "    current_chunk_size = 0\n",
    "\n",
    "    for sentence in sentences:\n",
    "        sentence_size = len(nltk.word_tokenize(sentence))\n",
    "        if current_chunk_size + sentence_size <= chunk_size:\n",
    "            current_chunk += sentence + \" \"\n",
    "            current_chunk_size += sentence_size\n",
    "        else:\n",
    "            chunks.append(current_chunk.strip())\n",
    "            current_chunk = sentence + \" \"\n",
    "            current_chunk_size = sentence_size\n",
    "\n",
    "    if current_chunk:\n",
    "        chunks.append(current_chunk.strip())\n",
    "\n",
    "    return chunks\n"
   ]
  },
  {
   "cell_type": "markdown",
   "id": "c38ff726-5739-4e30-a146-570556481b1a",
   "metadata": {
    "execution": {
     "iopub.execute_input": "2023-09-28T07:14:46.171268Z",
     "iopub.status.busy": "2023-09-28T07:14:46.171035Z",
     "iopub.status.idle": "2023-09-28T07:14:46.174042Z",
     "shell.execute_reply": "2023-09-28T07:14:46.173364Z",
     "shell.execute_reply.started": "2023-09-28T07:14:46.171243Z"
    }
   },
   "source": [
    "#### Summary extraction"
   ]
  },
  {
   "cell_type": "code",
   "execution_count": null,
   "id": "5159acb1-7f08-4fe9-b99a-6badd0243d97",
   "metadata": {
    "execution": {
     "iopub.execute_input": "2023-10-05T07:59:37.529201Z",
     "iopub.status.busy": "2023-10-05T07:59:37.528971Z",
     "iopub.status.idle": "2023-10-05T07:59:37.532922Z",
     "shell.execute_reply": "2023-10-05T07:59:37.532247Z",
     "shell.execute_reply.started": "2023-10-05T07:59:37.529178Z"
    },
    "tags": []
   },
   "outputs": [],
   "source": [
    "def abstract_summary_extraction(transcription):\n",
    "    response = openai.ChatCompletion.create(\n",
    "        model=text_model,\n",
    "        temperature=0,\n",
    "        messages=[\n",
    "            {\n",
    "                \"role\": \"system\",\n",
    "                \"content\": \"You are a highly skilled AI trained in language comprehension and summarization. I would like you to read the following text and summarize it into a concise abstract paragraph. Aim to retain the most important points, providing a coherent and readable summary that could help a person understand the main points of the discussion without needing to read the entire text. Please avoid unnecessary details or tangential points.\"\n",
    "            },\n",
    "            {\n",
    "                \"role\": \"user\",\n",
    "                \"content\": transcription\n",
    "            }\n",
    "        ]\n",
    "    )\n",
    "\n",
    "    return (response['choices'][0]['message']['content'])"
   ]
  },
  {
   "cell_type": "markdown",
   "id": "87e992fe-c8aa-41fa-a0e9-0a3f3fa1a8e9",
   "metadata": {
    "execution": {
     "iopub.execute_input": "2023-09-28T07:14:47.452079Z",
     "iopub.status.busy": "2023-09-28T07:14:47.451854Z",
     "iopub.status.idle": "2023-09-28T07:14:47.454839Z",
     "shell.execute_reply": "2023-09-28T07:14:47.454183Z",
     "shell.execute_reply.started": "2023-09-28T07:14:47.452056Z"
    }
   },
   "source": [
    "#### Key points extraction"
   ]
  },
  {
   "cell_type": "code",
   "execution_count": null,
   "id": "a4d5bb10-f4eb-4d1c-970a-e52140dc4a08",
   "metadata": {
    "execution": {
     "iopub.execute_input": "2023-10-05T07:59:38.115672Z",
     "iopub.status.busy": "2023-10-05T07:59:38.115447Z",
     "iopub.status.idle": "2023-10-05T07:59:38.119290Z",
     "shell.execute_reply": "2023-10-05T07:59:38.118639Z",
     "shell.execute_reply.started": "2023-10-05T07:59:38.115650Z"
    },
    "tags": []
   },
   "outputs": [],
   "source": [
    "def key_points_extraction(transcription):\n",
    "    response = openai.ChatCompletion.create(\n",
    "        model=text_model,\n",
    "        temperature=0,\n",
    "        messages=[\n",
    "            {\n",
    "                \"role\": \"system\",\n",
    "                \"content\": \"You are a proficient AI with a specialty in distilling information into key points. Based on the following text, identify and list the main points that were discussed or brought up. These should be the most important ideas, findings, or topics that are crucial to the essence of the discussion. Your goal is to provide a list that someone could read to quickly understand what was talked about.\"\n",
    "            },\n",
    "            {\n",
    "                \"role\": \"user\",\n",
    "                \"content\": transcription\n",
    "            }\n",
    "        ]\n",
    "    )\n",
    "    \n",
    "    return response['choices'][0]['message']['content']"
   ]
  },
  {
   "cell_type": "markdown",
   "id": "e17a6523-da7f-4249-b0be-4195e124d773",
   "metadata": {
    "execution": {
     "iopub.execute_input": "2023-09-28T07:14:47.926193Z",
     "iopub.status.busy": "2023-09-28T07:14:47.925779Z",
     "iopub.status.idle": "2023-09-28T07:14:47.929093Z",
     "shell.execute_reply": "2023-09-28T07:14:47.928332Z",
     "shell.execute_reply.started": "2023-09-28T07:14:47.926155Z"
    }
   },
   "source": [
    "#### Action item extraction"
   ]
  },
  {
   "cell_type": "code",
   "execution_count": null,
   "id": "fc4b896d-fe0b-4046-a9f8-c9690b279eb3",
   "metadata": {
    "execution": {
     "iopub.execute_input": "2023-10-05T07:59:38.495116Z",
     "iopub.status.busy": "2023-10-05T07:59:38.494888Z",
     "iopub.status.idle": "2023-10-05T07:59:38.498705Z",
     "shell.execute_reply": "2023-10-05T07:59:38.498086Z",
     "shell.execute_reply.started": "2023-10-05T07:59:38.495094Z"
    },
    "tags": []
   },
   "outputs": [],
   "source": [
    "def action_item_extraction(transcription):\n",
    "    response = openai.ChatCompletion.create(\n",
    "        model=text_model,\n",
    "        temperature=0,\n",
    "        messages=[\n",
    "            {\n",
    "                \"role\": \"system\",\n",
    "                \"content\": \"You are an AI expert in analyzing conversations and extracting action items. Please review the text and identify any tasks, assignments, or actions that were agreed upon or mentioned as needing to be done. These could be tasks assigned to specific individuals, or general actions that the group has decided to take. Please list these action items clearly and concisely.\"\n",
    "            },\n",
    "            {\n",
    "                \"role\": \"user\",\n",
    "                \"content\": transcription\n",
    "            }\n",
    "        ]\n",
    "    )\n",
    "    \n",
    "    \n",
    "    return response['choices'][0]['message']['content']"
   ]
  },
  {
   "cell_type": "markdown",
   "id": "039792d4-187a-471b-a94e-c9eb80f5b1c8",
   "metadata": {
    "execution": {
     "iopub.execute_input": "2023-09-28T07:14:49.474736Z",
     "iopub.status.busy": "2023-09-28T07:14:49.474509Z",
     "iopub.status.idle": "2023-09-28T07:14:49.483543Z",
     "shell.execute_reply": "2023-09-28T07:14:49.482647Z",
     "shell.execute_reply.started": "2023-09-28T07:14:49.474712Z"
    }
   },
   "source": [
    "#### Sentiment analysis\n",
    "The sentiment_analysis function analyzes the overall sentiment of the discussion. It considers the tone, the emotions conveyed by the language used, and the context in which words and phrases are used. For tasks which are less complicated, it may also be worthwhile to try out gpt-3.5-turbo in addition to gpt-4 to see if you can get a similar level of performance. It might also be useful to experiment with taking the results of the sentiment_analysis function and passing it to the other functions to see how having the sentiment of the conversation impacts the other attributes."
   ]
  },
  {
   "cell_type": "code",
   "execution_count": null,
   "id": "87569cd5-6c6a-4183-83db-cd487d640b29",
   "metadata": {
    "execution": {
     "iopub.execute_input": "2023-10-05T07:59:38.996879Z",
     "iopub.status.busy": "2023-10-05T07:59:38.996650Z",
     "iopub.status.idle": "2023-10-05T07:59:39.000408Z",
     "shell.execute_reply": "2023-10-05T07:59:38.999738Z",
     "shell.execute_reply.started": "2023-10-05T07:59:38.996857Z"
    },
    "tags": []
   },
   "outputs": [],
   "source": [
    "def sentiment_analysis(transcription):\n",
    "    response = openai.ChatCompletion.create(\n",
    "        model=text_model,\n",
    "        temperature=0,\n",
    "        messages=[\n",
    "            {\n",
    "                \"role\": \"system\",\n",
    "                \"content\": \"As an AI with expertise in language and emotion analysis, your task is to analyze the sentiment of the following text. Please consider the overall tone of the discussion, the emotion conveyed by the language used, and the context in which words and phrases are used. Indicate whether the sentiment is generally positive, negative, or neutral, and provide brief explanations for your analysis where possible.\"\n",
    "            },\n",
    "            {\n",
    "                \"role\": \"user\",\n",
    "                \"content\": transcription\n",
    "            }\n",
    "        ]\n",
    "    )\n",
    "    \n",
    "    return response['choices'][0]['message']['content']"
   ]
  },
  {
   "cell_type": "markdown",
   "id": "0f510750-d922-4c51-928e-5a728e3f8f2a",
   "metadata": {},
   "source": [
    "#### Summarizing and analyzing the transcript"
   ]
  },
  {
   "cell_type": "code",
   "execution_count": null,
   "id": "bc1ed190-5a97-455b-8e31-8b42ab3a388e",
   "metadata": {
    "execution": {
     "iopub.execute_input": "2023-10-05T07:59:39.529636Z",
     "iopub.status.busy": "2023-10-05T07:59:39.529412Z",
     "iopub.status.idle": "2023-10-05T07:59:39.534253Z",
     "shell.execute_reply": "2023-10-05T07:59:39.533635Z",
     "shell.execute_reply.started": "2023-10-05T07:59:39.529613Z"
    },
    "tags": []
   },
   "outputs": [],
   "source": [
    "def meeting_minutes(transcription):\n",
    "    chunks = split_text(transcription, 10000)\n",
    "    \n",
    "    print('⚙️ Starting summary extraction')\n",
    "    abstract_summary = abstract_summary_extraction(' '.join([abstract_summary_extraction(chunk) for chunk in chunks]))\n",
    "    print('⚙️ Starting key points extraction')\n",
    "    key_points = key_points_extraction(' '.join([key_points_extraction(chunk) for chunk in chunks]))\n",
    "    print('⚙️ Starting action items extraction')\n",
    "    action_items = action_item_extraction(' '.join([action_item_extraction(chunk) for chunk in chunks]))\n",
    "    print('⚙️ Starting sentiment extraction')\n",
    "    sentiment = abstract_summary_extraction(' '.join([sentiment_analysis(chunk) for chunk in chunks]))\n",
    "    \n",
    "    return {\n",
    "        'abstract_summary': abstract_summary,\n",
    "        'key_points': key_points,\n",
    "        'action_items': action_items,\n",
    "        'sentiment': sentiment\n",
    "    }"
   ]
  },
  {
   "cell_type": "markdown",
   "id": "eb537777-868e-443f-aafb-fac57eb379eb",
   "metadata": {},
   "source": [
    "### Markdown functions"
   ]
  },
  {
   "cell_type": "code",
   "execution_count": null,
   "id": "58451085-3d38-42ad-9458-3059b6d7cd4d",
   "metadata": {
    "execution": {
     "iopub.execute_input": "2023-10-05T07:59:40.204075Z",
     "iopub.status.busy": "2023-10-05T07:59:40.203507Z",
     "iopub.status.idle": "2023-10-05T07:59:40.211648Z",
     "shell.execute_reply": "2023-10-05T07:59:40.211146Z",
     "shell.execute_reply.started": "2023-10-05T07:59:40.204038Z"
    },
    "tags": []
   },
   "outputs": [],
   "source": [
    "def minute_to_markdown(minutes):\n",
    "    md = \"\"\n",
    "\n",
    "    for key, value in minutes.items():\n",
    "        # Replace underscores with spaces and capitalize each word for the heading\n",
    "        heading = ' '.join(word.capitalize() for word in key.split('_'))\n",
    "        md += '# ' + heading + '\\n'\n",
    "        md += value + '\\n'\n",
    "        # Add a line break between sections\n",
    "        md += '\\n'\n",
    "    \n",
    "    return md"
   ]
  },
  {
   "cell_type": "markdown",
   "id": "lonely-pacific",
   "metadata": {
    "execution": {
     "iopub.execute_input": "2021-07-02T23:32:10.789097Z",
     "iopub.status.busy": "2021-07-02T23:32:10.788829Z",
     "iopub.status.idle": "2021-07-02T23:32:10.796900Z",
     "shell.execute_reply": "2021-07-02T23:32:10.796358Z",
     "shell.execute_reply.started": "2021-07-02T23:32:10.789033Z"
    }
   },
   "source": [
    "## Output"
   ]
  },
  {
   "cell_type": "markdown",
   "id": "7f7020bd-c009-42d8-9746-fc4cbe3482f3",
   "metadata": {},
   "source": [
    "### Run"
   ]
  },
  {
   "cell_type": "code",
   "execution_count": null,
   "id": "864c7a02-b3af-47f4-9f44-4f83ef0740a4",
   "metadata": {
    "execution": {
     "iopub.execute_input": "2023-10-05T07:59:40.860528Z",
     "iopub.status.busy": "2023-10-05T07:59:40.860297Z",
     "iopub.status.idle": "2023-10-05T07:59:41.153530Z",
     "shell.execute_reply": "2023-10-05T07:59:41.152689Z",
     "shell.execute_reply.started": "2023-10-05T07:59:40.860506Z"
    },
    "tags": []
   },
   "outputs": [],
   "source": [
    "def run(debug=True):\n",
    "    files = list_files()\n",
    "    \n",
    "    for file in files:\n",
    "        if is_video_file(file['id']):\n",
    "            labels = get_labels_from_file(file['id'])\n",
    "            if 'minute_done_and_sent' in labels and labels['minute_done_and_sent'] == 'true':\n",
    "                if debug: print(f'⏭️ Skipping {file} already done.')\n",
    "                continue\n",
    "            \n",
    "            if debug: print(\"... Removing existing audio files\")\n",
    "            remove_existing_video_audio_files()\n",
    "            \n",
    "            if debug: print(\"... Downloading file\")\n",
    "            download_file(file['id'], 'out.mp4')\n",
    "            \n",
    "            if debug: print(\"... Installing ffmpeg\")\n",
    "            ffmpeg_path = install_ffmpeg()\n",
    "            \n",
    "            if debug: print(\"... Converting mp4 to mp3\")\n",
    "            convert_mp4_to_mp3(ffmpeg_path, 'out.mp4', 'out.mp3')\n",
    "            \n",
    "            if debug: print(\"... Splitting audio in chunks\")\n",
    "            chunks = split_audio(ffmpeg_path, 'out.mp3', 'chunk', 300)\n",
    "            \n",
    "            if debug: print(\"... Getting transcript from audio files\")\n",
    "            transcript = transcribe_audio(chunks)\n",
    "            \n",
    "            if debug: print(\"... Converting transcript to minutes\")\n",
    "            minutes = meeting_minutes(transcript)\n",
    "            \n",
    "            if debug: print(\"... Generating Mardown from minutes\")\n",
    "            md_content = minute_to_markdown(minutes)\n",
    "            if debug: print(md_content)\n",
    "            \n",
    "            naas.notification.send(email_to=email_to, subject=f\"Minutes for recording {file['name']} completed!\", html=f\"\"\"\n",
    "            Minutes for recording: https://drive.google.com/file/d/{file['id']}/view\n",
    "            \n",
    "            {markdown.markdown(md_content)}\n",
    "            \"\"\")\n",
    "            \n",
    "            labels['minute_done_and_sent'] = 'true'\n",
    "            add_labels_to_file(file['id'], labels)\n",
    "            \n",
    "        else:\n",
    "            if debug: print(f'⏭️ {file} is not a video file.')\n",
    "            \n",
    "    \n",
    "    \n",
    "run(debug=True)"
   ]
  },
  {
   "cell_type": "markdown",
   "id": "58cdeb93-32f7-4b5e-bee2-d0d4ce9a7a6e",
   "metadata": {},
   "source": [
    "### Schedule\n",
    "\n",
    "Let's schedule to receive the MoM automatically when a recording is available."
   ]
  },
  {
   "cell_type": "code",
   "execution_count": null,
   "id": "a3d71696-a15d-4093-b961-ab095d233db7",
   "metadata": {
    "execution": {
     "iopub.status.busy": "2023-10-05T07:59:08.647069Z",
     "iopub.status.idle": "2023-10-05T07:59:08.647454Z",
     "shell.execute_reply": "2023-10-05T07:59:08.647281Z"
    },
    "tags": []
   },
   "outputs": [],
   "source": [
    "naas.scheduler.add(cron=\"*/5 * * * *\")"
   ]
  }
 ],
 "metadata": {
  "kernelspec": {
   "display_name": "Python 3",
   "language": "python",
   "name": "python3"
  },
  "language_info": {
   "codemirror_mode": {
    "name": "ipython",
    "version": 3
   },
   "file_extension": ".py",
   "mimetype": "text/x-python",
   "name": "python",
   "nbconvert_exporter": "python",
   "pygments_lexer": "ipython3",
   "version": "3.9.6"
  },
  "papermill": {
   "default_parameters": {},
   "environment_variables": {},
   "parameters": {},
   "version": "2.3.3"
  },
  "widgets": {
   "application/vnd.jupyter.widget-state+json": {
    "state": {},
    "version_major": 2,
    "version_minor": 0
   }
  }
 },
 "nbformat": 4,
 "nbformat_minor": 5
}
