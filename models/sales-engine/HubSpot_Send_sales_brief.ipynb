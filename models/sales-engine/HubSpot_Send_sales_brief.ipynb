{
 "cells": [
  {
   "cell_type": "markdown",
   "id": "inappropriate-adobe",
   "metadata": {
    "papermill": {},
    "tags": []
   },
   "source": [
    "<img width=\"10%\" alt=\"Naas\" src=\"https://landen.imgix.net/jtci2pxwjczr/assets/5ice39g4.png?w=160\"/>"
   ]
  },
  {
   "cell_type": "markdown",
   "id": "acoustic-transcription",
   "metadata": {
    "papermill": {},
    "tags": []
   },
   "source": [
    "# HubSpot - Send sales brief\n",
    "<a href=\"https://app.naas.ai/user-redirect/naas/downloader?url=https://raw.githubusercontent.com/jupyter-naas/awesome-notebooks/master/HubSpot/HubSpot_Send_sales_brief.ipynb\" target=\"_parent\"><img src=\"https://naasai-public.s3.eu-west-3.amazonaws.com/Open_in_Naas_Lab.svg\"/></a><br><br><a href=\"https://bit.ly/3JyWIk6\">Give Feedback</a> | <a href=\"https://github.com/jupyter-naas/awesome-notebooks/issues/new?assignees=&labels=bug&template=bug_report.md&title=HubSpot+-+Send+sales+brief:+Error+short+description\">Bug report</a>"
   ]
  },
  {
   "cell_type": "markdown",
   "id": "c62854fa-4acb-4847-9770-f71f83627432",
   "metadata": {
    "papermill": {},
    "tags": []
   },
   "source": [
    "**Tags:** #hubspot #crm #sales #deal #naas_drivers #notification #asset #emailbuilder #scheduler #naas #analytics #automation #email #text #plotly #html #image"
   ]
  },
  {
   "cell_type": "markdown",
   "id": "a6e0792a-c59a-4d67-872c-f1158778ae4c",
   "metadata": {
    "papermill": {},
    "tags": []
   },
   "source": [
    "**Author:** [Florent Ravenel](https://www.linkedin.com/in/florent-ravenel/)"
   ]
  },
  {
   "cell_type": "markdown",
   "id": "6bec3b40-a05d-4638-9bb3-ecf0b2b6899d",
   "metadata": {
    "papermill": {},
    "tags": []
   },
   "source": [
    "**Last update:** 2023-04-12 (Created: 2022-02-21)"
   ]
  },
  {
   "cell_type": "markdown",
   "id": "de2df2a0-3352-46a8-9086-a74b319291df",
   "metadata": {
    "execution": {
     "iopub.execute_input": "2022-11-23T14:14:47.389829Z",
     "iopub.status.busy": "2022-11-23T14:14:47.389529Z",
     "iopub.status.idle": "2022-11-23T14:14:47.405052Z",
     "shell.execute_reply": "2022-11-23T14:14:47.403209Z",
     "shell.execute_reply.started": "2022-11-23T14:14:47.389728Z"
    },
    "papermill": {},
    "tags": []
   },
   "source": [
    "**Description:** This notebook send a sales brief based on your HubSpot activity."
   ]
  },
  {
   "cell_type": "markdown",
   "id": "accurate-mixer",
   "metadata": {
    "papermill": {},
    "tags": []
   },
   "source": [
    "## Input"
   ]
  },
  {
   "cell_type": "markdown",
   "id": "czech-coral",
   "metadata": {
    "papermill": {},
    "tags": []
   },
   "source": [
    "### Import libraries"
   ]
  },
  {
   "cell_type": "code",
   "execution_count": null,
   "id": "forced-reply",
   "metadata": {
    "execution": {
     "iopub.execute_input": "2023-08-28T17:53:35.816012Z",
     "iopub.status.busy": "2023-08-28T17:53:35.815691Z",
     "iopub.status.idle": "2023-08-28T17:53:38.072701Z",
     "shell.execute_reply": "2023-08-28T17:53:38.071951Z",
     "shell.execute_reply.started": "2023-08-28T17:53:35.815928Z"
    },
    "papermill": {},
    "tags": []
   },
   "outputs": [],
   "source": [
    "import os\n",
    "import json\n",
    "import naas \n",
    "import naas_drivers\n",
    "from naas_drivers import emailbuilder, hubspot\n",
    "import pandas as pd\n",
    "from datetime import datetime\n",
    "try:\n",
    "    import tiktoken\n",
    "except:\n",
    "    !pip install tiktoken --user\n",
    "    import tiktoken"
   ]
  },
  {
   "cell_type": "markdown",
   "id": "handed-investigation",
   "metadata": {
    "papermill": {},
    "tags": []
   },
   "source": [
    "### Setup HubSpot\n",
    "👉 Starting November 30, 2022, HubSpot API keys no longer enable access to HubSpot APIs, so in Naas version 2.8.3 and above, you need [create a private app and use the access token](https://developers.hubspot.com/docs/api/private-apps)."
   ]
  },
  {
   "cell_type": "code",
   "execution_count": null,
   "id": "complex-sherman",
   "metadata": {
    "execution": {
     "iopub.execute_input": "2023-08-28T17:53:38.074090Z",
     "iopub.status.busy": "2023-08-28T17:53:38.073861Z",
     "iopub.status.idle": "2023-08-28T17:53:38.190702Z",
     "shell.execute_reply": "2023-08-28T17:53:38.190046Z",
     "shell.execute_reply.started": "2023-08-28T17:53:38.074059Z"
    },
    "papermill": {},
    "tags": []
   },
   "outputs": [],
   "source": [
    "# Enter Your Access Token\n",
    "HS_ACCESS_TOKEN = naas.secret.get(\"HS_ACCESS_TOKEN\") or \"YOUR_HS_ACCESS_TOKEN\""
   ]
  },
  {
   "cell_type": "markdown",
   "id": "b686328c-ce1b-4d0f-ae7e-5967603d6f0d",
   "metadata": {},
   "source": [
    "### Get pipelines data"
   ]
  },
  {
   "cell_type": "code",
   "execution_count": null,
   "id": "b828acec-6025-4671-8f9c-fdaa409e633c",
   "metadata": {
    "execution": {
     "iopub.execute_input": "2023-08-28T17:53:38.192479Z",
     "iopub.status.busy": "2023-08-28T17:53:38.192218Z",
     "iopub.status.idle": "2023-08-28T17:53:38.398011Z",
     "shell.execute_reply": "2023-08-28T17:53:38.397441Z",
     "shell.execute_reply.started": "2023-08-28T17:53:38.192447Z"
    },
    "tags": []
   },
   "outputs": [],
   "source": [
    "df_pipelines = hubspot.connect(HS_ACCESS_TOKEN).pipelines.get_all()\n",
    "df_pipelines"
   ]
  },
  {
   "cell_type": "markdown",
   "id": "colored-syndication",
   "metadata": {
    "papermill": {},
    "tags": []
   },
   "source": [
    "### Setup variables"
   ]
  },
  {
   "cell_type": "code",
   "execution_count": null,
   "id": "sweet-latino",
   "metadata": {
    "execution": {
     "iopub.execute_input": "2023-08-28T17:53:38.399589Z",
     "iopub.status.busy": "2023-08-28T17:53:38.399338Z",
     "iopub.status.idle": "2023-08-28T17:53:38.405223Z",
     "shell.execute_reply": "2023-08-28T17:53:38.404670Z",
     "shell.execute_reply.started": "2023-08-28T17:53:38.399547Z"
    },
    "papermill": {},
    "tags": []
   },
   "outputs": [],
   "source": [
    "# Define scenario \n",
    "is_demo = True # Default to True\n",
    "demo_file_path = \"/home/ftp/abi/inputs/demo_data-hubspot_deals.csv\"\n",
    "\n",
    "# For HubSpot \n",
    "#pipeline_id = \"8432671\" #Pick the pipeline_id from df_pipelines output\n",
    "objective = 50000 #Set the objective of revenue associate to the pipeline_id\n",
    "#currenry = \"$\" #not yet implemented\n",
    "\n",
    "# For Emails\n",
    "email_to = [\"jeremy@naas.ai\"]\n",
    "email_subject = (f\"⚡️ Sales Engine Demo - Email Update, {datetime.now().strftime('%Y-%m-%d %H:%M:%S')}\")\n",
    "DATE_FORMAT = \"%Y-%m-%d\"\n",
    "\n",
    "\n",
    "# For AI Chat Plugin\n",
    "plugin_name = \"⚡️ Sales Agent Demo\"\n",
    "plugin_model = \"gpt-3.5-turbo-16k\"\n",
    "plugin_temperature = 0\n",
    "plugin_max_tokens = 8192\n",
    "system_prompt_max_tokens = 2084\n",
    "\n",
    "# For Asset Generation\n",
    "output_dir = \"/home/ftp/abi//outputs/\"\n",
    "csv_file_name = \"../outputs/df_sales.csv\"\n",
    "image_file_name = \"../outputs/image.png\"\n",
    "plugin_file_name = \"../outputs/plugin.json\""
   ]
  },
  {
   "cell_type": "markdown",
   "id": "brazilian-stand",
   "metadata": {
    "papermill": {},
    "tags": []
   },
   "source": [
    "## Model"
   ]
  },
  {
   "cell_type": "markdown",
   "id": "0f1a2c0a-6bd5-4c25-b1fc-83ad4c837168",
   "metadata": {},
   "source": [
    "### Setup directories"
   ]
  },
  {
   "cell_type": "code",
   "execution_count": null,
   "id": "d3fcbbb8-78ba-48a9-8c82-aca8d1ed4271",
   "metadata": {
    "execution": {
     "iopub.execute_input": "2023-08-28T17:53:38.406398Z",
     "iopub.status.busy": "2023-08-28T17:53:38.406169Z",
     "iopub.status.idle": "2023-08-28T17:53:38.500318Z",
     "shell.execute_reply": "2023-08-28T17:53:38.499628Z",
     "shell.execute_reply.started": "2023-08-28T17:53:38.406369Z"
    },
    "tags": []
   },
   "outputs": [],
   "source": [
    "# Check if directory exists and create it if not\n",
    "if not os.path.exists(output_dir):\n",
    "    os.makedirs(output_dir)\n",
    "    \n",
    "# Generate outputs files path\n",
    "csv_file_path = os.path.join(output_dir, csv_file_name)\n",
    "image_file_path = os.path.join(output_dir, image_file_name)\n",
    "plugin_file_path = os.path.join(output_dir, plugin_file_name)\n",
    "print('📂 CSV file path:', csv_file_path)\n",
    "print('📂 Image file path:', image_file_path)\n",
    "print('📂 Plugin file path:', plugin_file_path)"
   ]
  },
  {
   "cell_type": "markdown",
   "id": "c8bbdbd7-4e96-4791-8c22-27e23137c917",
   "metadata": {
    "execution": {
     "iopub.execute_input": "2023-08-22T14:57:43.070279Z",
     "iopub.status.busy": "2023-08-22T14:57:43.070053Z",
     "iopub.status.idle": "2023-08-22T14:57:43.087261Z",
     "shell.execute_reply": "2023-08-22T14:57:43.086564Z",
     "shell.execute_reply.started": "2023-08-22T14:57:43.070256Z"
    }
   },
   "source": [
    "### Query Deals"
   ]
  },
  {
   "cell_type": "code",
   "execution_count": null,
   "id": "300546f2-f679-4b9b-8fed-2d36082fe25f",
   "metadata": {
    "execution": {
     "iopub.execute_input": "2023-08-28T17:53:38.501748Z",
     "iopub.status.busy": "2023-08-28T17:53:38.501508Z",
     "iopub.status.idle": "2023-08-28T17:53:38.658800Z",
     "shell.execute_reply": "2023-08-28T17:53:38.658158Z",
     "shell.execute_reply.started": "2023-08-28T17:53:38.501717Z"
    },
    "tags": []
   },
   "outputs": [],
   "source": [
    "def get_or_load_data(\n",
    "    is_demo\n",
    "    #demo_file_path\n",
    "    #csv_file_path\n",
    "):\n",
    "    \n",
    "    #Init\n",
    "    df = pd.DataFrame()\n",
    "    \n",
    "    # Check if demo_mode is True\n",
    "    if is_demo:   \n",
    "        file_path = \"../inputs/demo_data-hubspot_deals.csv\"\n",
    "        if os.path.exists(file_path):\n",
    "            # Read file\n",
    "            df = pd.read_csv(file_path)\n",
    "            df.to_csv(csv_file_path, index=False)\n",
    "        else: \n",
    "            print(\"Files does not exist.\")\n",
    "\n",
    "    else:\n",
    "        # If the file doesn't exist, read output\n",
    "        file_path = \"../outputs/df_sales.csv\"\n",
    "        if not os.path.exists(file_path):\n",
    "            %run  \"../models/HubSpot_Create_sales_dataset.ipynb\"\n",
    "        # Read file\n",
    "        df = pd.read_csv(file_path)\n",
    "    return df\n",
    "    \n",
    "df_sales_c = get_or_load_data(is_demo)\n",
    "df_sales_c"
   ]
  },
  {
   "cell_type": "markdown",
   "id": "about-retrieval",
   "metadata": {
    "papermill": {},
    "tags": []
   },
   "source": [
    "### Create sales pipeline agregated by dealstages"
   ]
  },
  {
   "cell_type": "code",
   "execution_count": null,
   "id": "naughty-expense",
   "metadata": {
    "execution": {
     "iopub.execute_input": "2023-08-28T17:53:38.661484Z",
     "iopub.status.busy": "2023-08-28T17:53:38.661307Z",
     "iopub.status.idle": "2023-08-28T17:53:38.682862Z",
     "shell.execute_reply": "2023-08-28T17:53:38.682315Z",
     "shell.execute_reply.started": "2023-08-28T17:53:38.661465Z"
    },
    "papermill": {},
    "tags": []
   },
   "outputs": [],
   "source": [
    "df_details = df_sales_c.copy()\n",
    "\n",
    "# Groupby\n",
    "to_group = [\"dealstage_label\", \"probability\", \"displayOrder\"]\n",
    "to_agg = {\"amount\": \"sum\", \"dealname\": \"count\", \"forecasted\": \"sum\"}\n",
    "df_details = df_details.groupby(to_group, as_index=False).agg(to_agg)\n",
    "\n",
    "# Sort\n",
    "df_details = df_details.sort_values(\"displayOrder\")\n",
    "\n",
    "df_details"
   ]
  },
  {
   "cell_type": "markdown",
   "id": "725bb732-2a88-45d8-8032-350233c9fdda",
   "metadata": {
    "papermill": {},
    "tags": []
   },
   "source": [
    "### Formatting functions"
   ]
  },
  {
   "cell_type": "code",
   "execution_count": null,
   "id": "c194e9e3-1df4-47de-9fe5-430060ce8e03",
   "metadata": {
    "execution": {
     "iopub.execute_input": "2023-08-28T17:53:38.684097Z",
     "iopub.status.busy": "2023-08-28T17:53:38.683834Z",
     "iopub.status.idle": "2023-08-28T17:53:38.755065Z",
     "shell.execute_reply": "2023-08-28T17:53:38.754460Z",
     "shell.execute_reply.started": "2023-08-28T17:53:38.684066Z"
    },
    "papermill": {},
    "tags": []
   },
   "outputs": [],
   "source": [
    "def format_number(num):\n",
    "    NUMBER_FORMAT = \"{:,.0f} €\"\n",
    "    num = str(NUMBER_FORMAT.format(num)).replace(\",\", \" \")\n",
    "    return num"
   ]
  },
  {
   "cell_type": "code",
   "execution_count": null,
   "id": "c19f54ee-f8d0-47d1-8c00-0306edd8a617",
   "metadata": {
    "execution": {
     "iopub.execute_input": "2023-08-28T17:53:38.758569Z",
     "iopub.status.busy": "2023-08-28T17:53:38.758375Z",
     "iopub.status.idle": "2023-08-28T17:53:38.838606Z",
     "shell.execute_reply": "2023-08-28T17:53:38.837966Z",
     "shell.execute_reply.started": "2023-08-28T17:53:38.758549Z"
    },
    "papermill": {},
    "tags": []
   },
   "outputs": [],
   "source": [
    "def format_pourcentage(num):\n",
    "    NUMBER_FORMAT = \"{:,.0%}\"\n",
    "    num = str(NUMBER_FORMAT.format(num))\n",
    "    return num"
   ]
  },
  {
   "cell_type": "code",
   "execution_count": null,
   "id": "b84a7923-00b1-429d-8773-b84c3cafa55e",
   "metadata": {
    "execution": {
     "iopub.execute_input": "2023-08-28T17:53:38.844269Z",
     "iopub.status.busy": "2023-08-28T17:53:38.842633Z",
     "iopub.status.idle": "2023-08-28T17:53:38.916118Z",
     "shell.execute_reply": "2023-08-28T17:53:38.915566Z",
     "shell.execute_reply.started": "2023-08-28T17:53:38.844233Z"
    },
    "papermill": {},
    "tags": []
   },
   "outputs": [],
   "source": [
    "def format_varv(num):\n",
    "    NUMBER_FORMAT = \"+{:,.0f} €\"\n",
    "    num = str(NUMBER_FORMAT.format(num)).replace(\",\", \" \")\n",
    "    return num"
   ]
  },
  {
   "cell_type": "markdown",
   "id": "brazilian-posting",
   "metadata": {
    "papermill": {},
    "tags": []
   },
   "source": [
    "### Calculate email parameters"
   ]
  },
  {
   "cell_type": "code",
   "execution_count": null,
   "id": "devoted-worst",
   "metadata": {
    "execution": {
     "iopub.execute_input": "2023-08-28T17:53:38.917332Z",
     "iopub.status.busy": "2023-08-28T17:53:38.917091Z",
     "iopub.status.idle": "2023-08-28T17:53:39.002455Z",
     "shell.execute_reply": "2023-08-28T17:53:39.001776Z",
     "shell.execute_reply.started": "2023-08-28T17:53:38.917302Z"
    },
    "papermill": {},
    "tags": []
   },
   "outputs": [],
   "source": [
    "forecasted = df_details.forecasted.sum()\n",
    "forecasted"
   ]
  },
  {
   "cell_type": "code",
   "execution_count": null,
   "id": "welsh-accounting",
   "metadata": {
    "execution": {
     "iopub.execute_input": "2023-08-28T17:53:39.003957Z",
     "iopub.status.busy": "2023-08-28T17:53:39.003676Z",
     "iopub.status.idle": "2023-08-28T17:53:39.113950Z",
     "shell.execute_reply": "2023-08-28T17:53:39.113374Z",
     "shell.execute_reply.started": "2023-08-28T17:53:39.003925Z"
    },
    "papermill": {},
    "tags": []
   },
   "outputs": [],
   "source": [
    "won = df_details[df_details[\"probability\"] == 1].forecasted.sum()\n",
    "won"
   ]
  },
  {
   "cell_type": "code",
   "execution_count": null,
   "id": "duplicate-premiere",
   "metadata": {
    "execution": {
     "iopub.execute_input": "2023-08-28T17:53:39.116559Z",
     "iopub.status.busy": "2023-08-28T17:53:39.116385Z",
     "iopub.status.idle": "2023-08-28T17:53:39.170789Z",
     "shell.execute_reply": "2023-08-28T17:53:39.170178Z",
     "shell.execute_reply.started": "2023-08-28T17:53:39.116539Z"
    },
    "papermill": {},
    "tags": []
   },
   "outputs": [],
   "source": [
    "weighted = df_details[df_details[\"probability\"] < 1].forecasted.sum()\n",
    "weighted"
   ]
  },
  {
   "cell_type": "code",
   "execution_count": null,
   "id": "helpful-hobby",
   "metadata": {
    "execution": {
     "iopub.execute_input": "2023-08-28T17:53:39.172005Z",
     "iopub.status.busy": "2023-08-28T17:53:39.171762Z",
     "iopub.status.idle": "2023-08-28T17:53:39.268800Z",
     "shell.execute_reply": "2023-08-28T17:53:39.268085Z",
     "shell.execute_reply.started": "2023-08-28T17:53:39.171974Z"
    },
    "papermill": {},
    "tags": []
   },
   "outputs": [],
   "source": [
    "completion_p = forecasted / objective\n",
    "completion_p"
   ]
  },
  {
   "cell_type": "code",
   "execution_count": null,
   "id": "insured-prompt",
   "metadata": {
    "execution": {
     "iopub.execute_input": "2023-08-28T17:53:39.270221Z",
     "iopub.status.busy": "2023-08-28T17:53:39.269922Z",
     "iopub.status.idle": "2023-08-28T17:53:39.360157Z",
     "shell.execute_reply": "2023-08-28T17:53:39.358692Z",
     "shell.execute_reply.started": "2023-08-28T17:53:39.270145Z"
    },
    "papermill": {},
    "tags": []
   },
   "outputs": [],
   "source": [
    "completion_v = objective - forecasted\n",
    "completion_v"
   ]
  },
  {
   "cell_type": "code",
   "execution_count": null,
   "id": "promotional-helmet",
   "metadata": {
    "execution": {
     "iopub.execute_input": "2023-08-28T17:53:39.362873Z",
     "iopub.status.busy": "2023-08-28T17:53:39.361238Z",
     "iopub.status.idle": "2023-08-28T17:53:39.438635Z",
     "shell.execute_reply": "2023-08-28T17:53:39.438087Z",
     "shell.execute_reply.started": "2023-08-28T17:53:39.362837Z"
    },
    "papermill": {},
    "tags": []
   },
   "outputs": [],
   "source": [
    "today = datetime.now().strftime(DATE_FORMAT)\n",
    "today"
   ]
  },
  {
   "cell_type": "markdown",
   "id": "known-audit",
   "metadata": {
    "papermill": {},
    "tags": []
   },
   "source": [
    "### Get pipeline details"
   ]
  },
  {
   "cell_type": "code",
   "execution_count": null,
   "id": "persistent-reminder",
   "metadata": {
    "execution": {
     "iopub.execute_input": "2023-08-28T17:53:39.439723Z",
     "iopub.status.busy": "2023-08-28T17:53:39.439552Z",
     "iopub.status.idle": "2023-08-28T17:53:39.525516Z",
     "shell.execute_reply": "2023-08-28T17:53:39.524822Z",
     "shell.execute_reply.started": "2023-08-28T17:53:39.439705Z"
    },
    "papermill": {},
    "tags": []
   },
   "outputs": [],
   "source": [
    "df = df_details.copy()\n",
    "\n",
    "details = []\n",
    "\n",
    "for _, row in df.iterrows():\n",
    "    # status part\n",
    "    dealstage = row.dealstage_label\n",
    "    probability = row.probability\n",
    "    detail = f\"{dealstage} ({format_pourcentage(probability)})\"\n",
    "\n",
    "    # amount part\n",
    "    amount = row.amount\n",
    "    number = row.dealname\n",
    "    forecasted_ = row.forecasted\n",
    "    if probability < 1 and probability > 0:\n",
    "        detail = f\"{detail}: <ul><li>Amount : {format_number(amount)}</li><li>Number : {number}</li><li>Weighted amount : <b>{format_number(forecasted_)}</b></li></ul>\"\n",
    "    else:\n",
    "        detail = f\"{detail}: {format_number(amount)}\"\n",
    "\n",
    "    details += [detail]\n",
    "\n",
    "details"
   ]
  },
  {
   "cell_type": "markdown",
   "id": "coral-uruguay",
   "metadata": {
    "papermill": {},
    "tags": []
   },
   "source": [
    "### Get inactives deals"
   ]
  },
  {
   "cell_type": "code",
   "execution_count": null,
   "id": "understanding-programmer",
   "metadata": {
    "execution": {
     "iopub.execute_input": "2023-08-28T17:53:39.526937Z",
     "iopub.status.busy": "2023-08-28T17:53:39.526592Z",
     "iopub.status.idle": "2023-08-28T17:53:39.639648Z",
     "shell.execute_reply": "2023-08-28T17:53:39.639090Z",
     "shell.execute_reply.started": "2023-08-28T17:53:39.526903Z"
    },
    "papermill": {},
    "tags": []
   },
   "outputs": [],
   "source": [
    "df_inactive = df_sales_c.copy()\n",
    "\n",
    "df_inactive.hs_lastmodifieddate = pd.to_datetime(\n",
    "    df_inactive.hs_lastmodifieddate\n",
    ").dt.strftime(DATE_FORMAT)\n",
    "\n",
    "df_inactive[\"inactive_time\"] = (\n",
    "    datetime.now() - pd.to_datetime(df_inactive.hs_lastmodifieddate, format=DATE_FORMAT)\n",
    ").dt.days\n",
    "df_inactive.loc[(df_inactive[\"inactive_time\"] > 30, \"inactive\")] = \"inactive\"\n",
    "df_inactive = (\n",
    "    df_inactive[\n",
    "        (df_inactive.inactive == \"inactive\")\n",
    "        & (df_inactive.amount != 0)\n",
    "        & (df_inactive.probability > 0.0)\n",
    "        & (df_inactive.probability < 1)\n",
    "    ]\n",
    "    .sort_values(\"amount\", ascending=False)\n",
    "    .reset_index(drop=True)\n",
    ")\n",
    "\n",
    "df_inactive"
   ]
  },
  {
   "cell_type": "code",
   "execution_count": null,
   "id": "attractive-sunrise",
   "metadata": {
    "execution": {
     "iopub.execute_input": "2023-08-28T17:53:39.640989Z",
     "iopub.status.busy": "2023-08-28T17:53:39.640745Z",
     "iopub.status.idle": "2023-08-28T17:53:39.705247Z",
     "shell.execute_reply": "2023-08-28T17:53:39.704572Z",
     "shell.execute_reply.started": "2023-08-28T17:53:39.640957Z"
    },
    "papermill": {},
    "tags": []
   },
   "outputs": [],
   "source": [
    "inactives = []\n",
    "\n",
    "for _, row in df_inactive[:10].iterrows():\n",
    "    # status part\n",
    "    dealname = row.dealname\n",
    "    dealstage_label = row.dealstage_label\n",
    "    amount = row.amount\n",
    "    probability = row.probability\n",
    "    inactive = f\"{dealname} ({dealstage_label}): <b>{format_number(amount)}</b>\"\n",
    "    inactives += [inactive]\n",
    "\n",
    "inactives"
   ]
  },
  {
   "cell_type": "markdown",
   "id": "recognized-dallas",
   "metadata": {
    "papermill": {},
    "tags": []
   },
   "source": [
    "### Create pipeline waterfall"
   ]
  },
  {
   "cell_type": "code",
   "execution_count": null,
   "id": "arctic-footage",
   "metadata": {
    "execution": {
     "iopub.execute_input": "2023-08-28T17:53:39.706612Z",
     "iopub.status.busy": "2023-08-28T17:53:39.706373Z",
     "iopub.status.idle": "2023-08-28T17:53:40.131510Z",
     "shell.execute_reply": "2023-08-28T17:53:40.130878Z",
     "shell.execute_reply.started": "2023-08-28T17:53:39.706581Z"
    },
    "papermill": {},
    "tags": []
   },
   "outputs": [],
   "source": [
    "import plotly.graph_objects as go\n",
    "\n",
    "fig = go.Figure(\n",
    "    go.Waterfall(\n",
    "        name=\"20\",\n",
    "        orientation=\"v\",\n",
    "        measure=[\"relative\", \"relative\", \"total\", \"relative\", \"total\"],\n",
    "        x=[\"Won\", \"Pipeline\", \"Forecast\", \"Missing\", \"Objective\"],\n",
    "        textposition=\"outside\",\n",
    "        text=[\n",
    "            format_number(won),\n",
    "            format_varv(weighted),\n",
    "            format_number(forecasted),\n",
    "            format_varv(completion_v),\n",
    "            format_number(objective),\n",
    "        ],\n",
    "        y=[won, weighted, forecasted, completion_v, objective],\n",
    "        decreasing={\"marker\": {\"color\": \"#33475b\"}},\n",
    "        increasing={\"marker\": {\"color\": \"#33475b\"}},\n",
    "        totals={\"marker\": {\"color\": \"#ff7a59\"}},\n",
    "    )\n",
    ")\n",
    "\n",
    "\n",
    "fig.update_layout(title=\"Sales Metrics\", plot_bgcolor=\"#ffffff\", hovermode=\"x\")\n",
    "fig.update_yaxes(tickprefix=\"€\", gridcolor=\"#eaeaea\")\n",
    "fig.show()"
   ]
  },
  {
   "cell_type": "code",
   "execution_count": null,
   "id": "extra-edgar",
   "metadata": {
    "execution": {
     "iopub.execute_input": "2023-08-28T17:54:54.401192Z",
     "iopub.status.busy": "2023-08-28T17:54:54.400956Z",
     "iopub.status.idle": "2023-08-28T17:54:54.997105Z",
     "shell.execute_reply": "2023-08-28T17:54:54.996432Z",
     "shell.execute_reply.started": "2023-08-28T17:54:54.401170Z"
    },
    "papermill": {},
    "tags": []
   },
   "outputs": [],
   "source": [
    "fig.write_image(image_file_name)\n",
    "\n",
    "params = {\"inline\": True}\n",
    "\n",
    "graph_image = naas.asset.add(image_file_name)"
   ]
  },
  {
   "cell_type": "markdown",
   "id": "3b376eff-5925-4c31-8344-171065d0956f",
   "metadata": {
    "execution": {
     "iopub.execute_input": "2023-08-11T08:45:15.207063Z",
     "iopub.status.busy": "2023-08-11T08:45:15.206816Z",
     "iopub.status.idle": "2023-08-11T08:45:15.209898Z",
     "shell.execute_reply": "2023-08-11T08:45:15.209193Z",
     "shell.execute_reply.started": "2023-08-11T08:45:15.207038Z"
    }
   },
   "source": [
    "### Create Naas Chat plugin"
   ]
  },
  {
   "cell_type": "code",
   "execution_count": null,
   "id": "1fed5c73-ede8-4986-ad63-6ad396f8e1de",
   "metadata": {
    "execution": {
     "iopub.execute_input": "2023-08-28T17:55:19.533069Z",
     "iopub.status.busy": "2023-08-28T17:55:19.532790Z",
     "iopub.status.idle": "2023-08-28T17:55:19.553933Z",
     "shell.execute_reply": "2023-08-28T17:55:19.553172Z",
     "shell.execute_reply.started": "2023-08-28T17:55:19.533044Z"
    },
    "tags": []
   },
   "outputs": [],
   "source": [
    "system_prompt = f\"\"\"Act as a Sales Agent who has access to the Deals data from the CRM. \n",
    "Your role is to manage and nurture these deals, ensuring that they progress through the sales pipeline effectively. \n",
    "You will need to communicate with potential clients, understand their needs, and propose solutions that align with their goals. \n",
    "Utilize the information in the CRM to personalize your approach, track interactions, and manage follow-ups. \n",
    "Your ultimate goal is to close deals successfully, contributing to the overall sales targets of the company.\"\n",
    "The fist message should be about presenting yourself with maximum 5 bullet points and displaying the current pipeline status to be displayed as png inside the markdown of the chat: {graph_image}\n",
    "Then, wait for the first answer from the user, and then start with a first high level analysis.\n",
    "Here data from the CRM you should focus on: {df_inactive}\n",
    "\"\"\"\n",
    "system_prompt"
   ]
  },
  {
   "cell_type": "markdown",
   "id": "831e920b-5add-4352-b4f1-53ee7bc9d5b6",
   "metadata": {
    "execution": {
     "iopub.execute_input": "2023-08-11T08:57:02.873145Z",
     "iopub.status.busy": "2023-08-11T08:57:02.872902Z",
     "iopub.status.idle": "2023-08-11T08:57:02.875911Z",
     "shell.execute_reply": "2023-08-11T08:57:02.875189Z",
     "shell.execute_reply.started": "2023-08-11T08:57:02.873120Z"
    }
   },
   "source": [
    "### Check token count "
   ]
  },
  {
   "cell_type": "code",
   "execution_count": null,
   "id": "314a1b57-67e5-45a8-8779-10e08587f3f0",
   "metadata": {
    "execution": {
     "iopub.execute_input": "2023-08-28T17:54:55.060556Z",
     "iopub.status.busy": "2023-08-28T17:54:55.060236Z",
     "iopub.status.idle": "2023-08-28T17:54:55.087567Z",
     "shell.execute_reply": "2023-08-28T17:54:55.086980Z",
     "shell.execute_reply.started": "2023-08-28T17:54:55.060498Z"
    },
    "tags": []
   },
   "outputs": [],
   "source": [
    "def num_tokens_from_string(string: str, encoding_name: str) -> int:\n",
    "    \"\"\"Returns the number of tokens in a text string.\"\"\"\n",
    "    encoding = tiktoken.get_encoding(encoding_name)\n",
    "    num_tokens = len(encoding.encode(string))\n",
    "    return num_tokens\n",
    "\n",
    "system_prompt_tokens = num_tokens_from_string(system_prompt, \"cl100k_base\")\n",
    "if system_prompt_tokens > system_prompt_max_tokens:\n",
    "    print(\"⚠️ Be carefull, your system prompt looks too big. Tokens:\", system_prompt_tokens)\n",
    "else:\n",
    "    print(\"✅ System prompt tokens count OK:\", system_prompt_tokens)"
   ]
  },
  {
   "cell_type": "markdown",
   "id": "d595a24c-1cc4-4cbd-afdb-896a5ab62625",
   "metadata": {},
   "source": [
    "### Generate Plugin"
   ]
  },
  {
   "cell_type": "code",
   "execution_count": null,
   "id": "cc07be24-6dba-4001-b608-f57fe75b1323",
   "metadata": {
    "execution": {
     "iopub.execute_input": "2023-08-28T17:54:55.800161Z",
     "iopub.status.busy": "2023-08-28T17:54:55.799924Z",
     "iopub.status.idle": "2023-08-28T17:54:56.295832Z",
     "shell.execute_reply": "2023-08-28T17:54:56.295016Z",
     "shell.execute_reply.started": "2023-08-28T17:54:55.800137Z"
    },
    "tags": []
   },
   "outputs": [],
   "source": [
    "# Create json\n",
    "plugin = {\n",
    "    \"name\": plugin_name,\n",
    "    \"model\": plugin_model,\n",
    "    \"temperature\": plugin_temperature,\n",
    "    \"max_tokens\": plugin_max_tokens,\n",
    "    \"prompt\": system_prompt,\n",
    "}\n",
    "\n",
    "# Save dict to JSON file\n",
    "with open(plugin_file_name, \"w\") as f:\n",
    "    json.dump(plugin, f)\n",
    "print(\"💾 Plugin successfully saved:\")\n",
    "\n",
    "plugin = naas.asset.add(plugin_file_name, params={\"inline\": True})"
   ]
  },
  {
   "cell_type": "markdown",
   "id": "veterinary-bookmark",
   "metadata": {
    "papermill": {},
    "tags": []
   },
   "source": [
    "### Create email"
   ]
  },
  {
   "cell_type": "code",
   "execution_count": null,
   "id": "29183770-aee0-4e59-b203-2b0802db3721",
   "metadata": {
    "execution": {
     "iopub.execute_input": "2023-08-28T17:56:26.025512Z",
     "iopub.status.busy": "2023-08-28T17:56:26.025278Z",
     "iopub.status.idle": "2023-08-28T17:56:26.038266Z",
     "shell.execute_reply": "2023-08-28T17:56:26.037637Z",
     "shell.execute_reply.started": "2023-08-28T17:56:26.025489Z"
    },
    "tags": []
   },
   "outputs": [],
   "source": [
    "def email_brief(\n",
    "    today,\n",
    "    forecasted,\n",
    "    won,\n",
    "    weighted,\n",
    "    objective,\n",
    "    completion_p,\n",
    "    completion_v,\n",
    "    details,\n",
    "    inactives,\n",
    "):\n",
    "    content = {\n",
    "        #'element': naas_drivers.emailbuilder.title(\"⚡️ Sales Engine - Email Update\"),\n",
    "        #'heading': naas_drivers.emailbuilder.heading(f\"Date:{today}\"),\n",
    "        'title': (\"⚡️ Sales Engine - Email Update\"),\n",
    "        'heading': (f\"Date:{today}\"),\n",
    "        \"txt_intro\": (\n",
    "            f\"Hi there,<br><br>\" f\"Here is your daily sales email as of {today}.\"\n",
    "        ),\n",
    "        \"title_1\": emailbuilder.text(\n",
    "            \"Overview\", font_size=\"27px\", text_align=\"center\", bold=True\n",
    "        ),\n",
    "        \"text_1\": emailbuilder.text(\n",
    "            f\"As of today, your yearly forecasted revenue is {format_number(forecasted)}.\"\n",
    "        ),\n",
    "        \"list_1\": emailbuilder.list(\n",
    "            [\n",
    "                f\"Won : {format_number(won)}\",\n",
    "                f\"Weighted pipeline : <b>{format_number(weighted)}</b>\",\n",
    "            ]\n",
    "        ),\n",
    "        \"text_1_2\": emailbuilder.text(\n",
    "            f\"You need to find 👉 <u>{format_number(completion_v)}</u> to reach your goal !\"\n",
    "        ),\n",
    "        \"text_1_1\": emailbuilder.text(\n",
    "            f\"Your yearly objective is {format_number(objective)} ({format_pourcentage(completion_p)} completion).\"\n",
    "        ),\n",
    "        \"image_1\": emailbuilder.image(graph_image, link=graph_image),\n",
    "        \"title_2\": emailbuilder.text(\n",
    "            \"🚀 Pipeline\", font_size=\"27px\", text_align=\"center\", bold=True\n",
    "        ),\n",
    "        \"list_2\": emailbuilder.list(details),\n",
    "        \"title_3\": emailbuilder.text(\n",
    "            \"🧐 Actions needed\", font_size=\"27px\", text_align=\"center\", bold=True\n",
    "        ),\n",
    "        \"text_3\": emailbuilder.text(\"Here are deals where you need to take actions :\"),\n",
    "        \"list_3\": emailbuilder.list(inactives),\n",
    "        \"text_3_1\": emailbuilder.text(\n",
    "            \"If you need more details, connect to Hubspot with the link below.\"\n",
    "        ),\n",
    "        \"button_1\": emailbuilder.button(\n",
    "            link=(f\"https://naas.ai/chat/use?plugin_url={plugin}\"),\n",
    "            text=\"Start Chatting With Agent\",\n",
    "            background_color=\"#181a1c\",\n",
    "        ),\n",
    "        \"title_4\": emailbuilder.text(\n",
    "            \"Glossary\", text_align=\"center\", bold=True, underline=True\n",
    "        ),\n",
    "        \"list_4\": emailbuilder.list(\n",
    "            [\n",
    "                \"Yearly forecasted revenue :  Weighted amount + WON exclude LOST\",\n",
    "                \"Yearly objective : Input in script\",\n",
    "                \"Inactive deal : No activity for more than 30 days\",\n",
    "            ]\n",
    "        ),\n",
    "        \"footer_cs\": emailbuilder.footer_company(naas=True),\n",
    "    }\n",
    "\n",
    "    email_content = emailbuilder.generate(display=\"iframe\", **content)\n",
    "    return email_content\n",
    "\n",
    "\n",
    "email_content = email_brief(\n",
    "    today,\n",
    "    forecasted,\n",
    "    won,\n",
    "    weighted,\n",
    "    objective,\n",
    "    completion_p,\n",
    "    completion_v,\n",
    "    details,\n",
    "    inactives,\n",
    ")"
   ]
  },
  {
   "cell_type": "markdown",
   "id": "alive-comparative",
   "metadata": {
    "papermill": {},
    "tags": []
   },
   "source": [
    "## Output"
   ]
  },
  {
   "cell_type": "markdown",
   "id": "compatible-pantyhose",
   "metadata": {
    "papermill": {},
    "tags": []
   },
   "source": [
    "### Send email"
   ]
  },
  {
   "cell_type": "code",
   "execution_count": null,
   "id": "collaborative-suggestion",
   "metadata": {
    "execution": {
     "iopub.execute_input": "2023-08-28T17:57:08.630679Z",
     "iopub.status.busy": "2023-08-28T17:57:08.630272Z",
     "iopub.status.idle": "2023-08-28T17:57:11.751550Z",
     "shell.execute_reply": "2023-08-28T17:57:11.750836Z",
     "shell.execute_reply.started": "2023-08-28T17:57:08.630635Z"
    },
    "papermill": {},
    "tags": []
   },
   "outputs": [],
   "source": [
    "naas.notification.send(email_to, email_subject, email_content)"
   ]
  },
  {
   "cell_type": "code",
   "execution_count": null,
   "id": "d81e5907-52fa-4a46-a701-c1cc4f35879c",
   "metadata": {},
   "outputs": [],
   "source": []
  }
 ],
 "metadata": {
  "kernelspec": {
   "display_name": "Python 3",
   "language": "python",
   "name": "python3"
  },
  "language_info": {
   "codemirror_mode": {
    "name": "ipython",
    "version": 3
   },
   "file_extension": ".py",
   "mimetype": "text/x-python",
   "name": "python",
   "nbconvert_exporter": "python",
   "pygments_lexer": "ipython3",
   "version": "3.9.6"
  },
  "naas": {
   "notebook_id": "a82cec3af17c939d191f8ce0883159014a63484fd77e1ec01c92c4d6358c90aa",
   "notebook_path": "HubSpot/HubSpot_Send_sales_brief.ipynb"
  },
  "papermill": {
   "default_parameters": {},
   "environment_variables": {},
   "parameters": {},
   "version": "2.3.3"
  },
  "widgets": {
   "application/vnd.jupyter.widget-state+json": {
    "state": {},
    "version_major": 2,
    "version_minor": 0
   }
  }
 },
 "nbformat": 4,
 "nbformat_minor": 5
}
