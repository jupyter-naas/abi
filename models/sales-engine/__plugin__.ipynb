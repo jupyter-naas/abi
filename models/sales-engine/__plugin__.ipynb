{
 "cells": [
  {
   "cell_type": "markdown",
   "id": "a92ad770-55bd-450c-8e6e-de64c0347cdd",
   "metadata": {
    "papermill": {},
    "tags": []
   },
   "source": [
    "<img width=\"10%\" alt=\"Naas\" src=\"https://landen.imgix.net/jtci2pxwjczr/assets/5ice39g4.png?w=160\"/>"
   ]
  },
  {
   "cell_type": "markdown",
   "id": "a5b2c509-2c29-49e8-af91-4f3f1e386da3",
   "metadata": {
    "papermill": {},
    "tags": []
   },
   "source": [
    "# Naas Chat - Create plugin with commands"
   ]
  },
  {
   "cell_type": "markdown",
   "id": "d77fe283-4edd-42d3-a909-8e207d4b842f",
   "metadata": {
    "papermill": {},
    "tags": []
   },
   "source": [
    "**Tags:** #naaschatplugin #naas #naas_driver #chat #plugin #ai"
   ]
  },
  {
   "cell_type": "markdown",
   "id": "b90f2d91-c886-4e36-8265-b09d06bb1c7f",
   "metadata": {
    "papermill": {},
    "tags": []
   },
   "source": [
    "**Author:** [Florent Ravenel](https://www.linkedin.com/in/florent-ravenel)"
   ]
  },
  {
   "cell_type": "markdown",
   "id": "6bbf7807-dda4-4b8a-b016-fe258a0fa33f",
   "metadata": {
    "papermill": {},
    "tags": []
   },
   "source": [
    "**Last update:** 2023-10-19 (Created: 2023-10-17)"
   ]
  },
  {
   "cell_type": "markdown",
   "id": "214749fe-7f0b-4755-b7ea-1d200c234cc6",
   "metadata": {
    "papermill": {},
    "tags": []
   },
   "source": [
    "**Description:** This notebook creates a Naas Chat plugin with commands."
   ]
  },
  {
   "cell_type": "markdown",
   "id": "a1329bea-ad80-4981-874c-8776b11f89a8",
   "metadata": {
    "papermill": {},
    "tags": []
   },
   "source": [
    "**References:**\n",
    "- [Naas Chat Documentation](https://site.naas.ai/docs/platform/aI-powered-chat)\n",
    "- [Naas Chat Plugin driver](https://github.com/jupyter-naas/drivers/blob/main/naas_drivers/tools/naas_chat_plugin.py)"
   ]
  },
  {
   "cell_type": "markdown",
   "id": "cff349c8-2816-4ae4-9229-027c068eeb51",
   "metadata": {
    "papermill": {},
    "tags": []
   },
   "source": [
    "## Input"
   ]
  },
  {
   "cell_type": "markdown",
   "id": "80266a9e-fe54-4f3e-aeb2-01483bbc53f9",
   "metadata": {
    "papermill": {},
    "tags": []
   },
   "source": [
    "### Import libraries"
   ]
  },
  {
   "cell_type": "code",
   "execution_count": 5,
   "id": "cc038b10-2679-42bc-909e-09a298339df4",
   "metadata": {
    "execution": {
     "iopub.execute_input": "2023-12-19T14:32:31.638642Z",
     "iopub.status.busy": "2023-12-19T14:32:31.638344Z",
     "iopub.status.idle": "2023-12-19T14:32:31.665403Z",
     "shell.execute_reply": "2023-12-19T14:32:31.653073Z",
     "shell.execute_reply.started": "2023-12-19T14:32:31.638611Z"
    },
    "papermill": {},
    "tags": []
   },
   "outputs": [],
   "source": [
    "import naas\n",
    "from naas_drivers import naas_chat_plugin\n",
    "import naas_data_product\n",
    "from IPython.display import Markdown\n",
    "from datetime import date, timedelta\n",
    "import os\n",
    "import pandas as pd"
   ]
  },
  {
   "cell_type": "markdown",
   "id": "e930da4d-39a2-424e-8808-77fd0a3829bf",
   "metadata": {
    "papermill": {},
    "tags": []
   },
   "source": [
    "### Setup variables\n",
    "**Mandatory**\n",
    "- `input_dir`: Input directory to retrieve file from.\n",
    "- `file_sales`: Name of the file to be retrieved.\n",
    "- `spreadsheet_url`: Google Sheets spreadsheet URL.\n",
    "- `sheet_name`: Google Sheets sheet name.\n",
    "- `name`: The name of the plugin.\n",
    "- `system_prompt`: Plugin system prompt with the commands they can use.\n",
    "- `model`: This variable holds the openai model.\n",
    "- `temperature`: This variable holds the temperate value.\n",
    "- `description`: This variable holds a string that describes the plugin.\n",
    "- `avatar`: This variable holds a URL to an image to be displayed in your plugin as avatar.\n",
    "- `input_dir`: This variable holds a relative path to the directory where input notebooks with commands will be stored.\n",
    "\n",
    "**Optional**\n",
    "- `output_dir`: This variable holds a relative path to the directory where output files will be stored. \n",
    "- `output_path`: This variable holds the full path of the plugin."
   ]
  },
  {
   "cell_type": "code",
   "execution_count": 6,
   "id": "6cf9bd9b-ce83-45a5-ab0f-15c978458b42",
   "metadata": {
    "execution": {
     "iopub.execute_input": "2023-12-19T14:32:32.418422Z",
     "iopub.status.busy": "2023-12-19T14:32:32.418102Z",
     "iopub.status.idle": "2023-12-19T14:32:33.275201Z",
     "shell.execute_reply": "2023-12-19T14:32:33.265131Z",
     "shell.execute_reply.started": "2023-12-19T14:32:32.418386Z"
    },
    "papermill": {},
    "tags": []
   },
   "outputs": [],
   "source": [
    "# Mandatory\n",
    "input_dir = os.path.join(naas_data_product.OUTPUTS_PATH, \"sales-engine\", date.today().isoformat())\n",
    "file_sales = \"sales\"\n",
    "spreadsheet_url = naas.secret.get(\"ABI_SPREADSHEET\") or \"YOUR_GOOGLE_SPREADSHEET_URL\"\n",
    "sheet_name = \"SALES\"\n",
    "name = \"⚡️ Sales Assitant\"\n",
    "model = \"gpt-4\"\n",
    "temperature = 0\n",
    "description = \"This plugin is used to setup the Sales Engine\"\n",
    "avatar = \"\"\n",
    "model_dir = os.path.join(naas_data_product.ROOT_PATH, \"models\", \"sales-engine\")\n",
    "input_image = \"sales_trend.png\"\n",
    "input_html = \"sales_trend.html\"\n",
    "\n",
    "# Optional\n",
    "output_dir = os.path.join(naas_data_product.ROOT_PATH, \"outputs\", \"plugins\")\n",
    "os.makedirs(output_dir, exist_ok=True) # Create dirs\n",
    "output_path = os.path.join(output_dir, f\"{name.lower().replace(' ', '_')}.json\")"
   ]
  },
  {
   "cell_type": "markdown",
   "id": "9070993a-eec9-4f78-a7f9-2e18c743a20d",
   "metadata": {
    "papermill": {},
    "tags": []
   },
   "source": [
    "## Model"
   ]
  },
  {
   "cell_type": "markdown",
   "id": "8c66f36e-c25b-4032-88d8-73541c1ab217",
   "metadata": {},
   "source": [
    "### Get assets"
   ]
  },
  {
   "cell_type": "code",
   "execution_count": 7,
   "id": "98c0e049-4e28-4a5f-98cf-53f4bf2a5505",
   "metadata": {
    "execution": {
     "iopub.execute_input": "2023-12-19T14:32:34.278247Z",
     "iopub.status.busy": "2023-12-19T14:32:34.277921Z",
     "iopub.status.idle": "2023-12-19T14:32:34.369199Z",
     "shell.execute_reply": "2023-12-19T14:32:34.365049Z",
     "shell.execute_reply.started": "2023-12-19T14:32:34.278207Z"
    },
    "tags": []
   },
   "outputs": [
    {
     "name": "stdout",
     "output_type": "stream",
     "text": [
      "Image URL: \n",
      "Image HTML: \n"
     ]
    }
   ],
   "source": [
    "image_url = get_image_asset(input_dir, input_image)\n",
    "print(\"Image URL:\", image_url)\n",
    "\n",
    "image_html = get_image_asset(input_dir, input_html)\n",
    "print(\"Image HTML:\", image_html)"
   ]
  },
  {
   "cell_type": "markdown",
   "id": "27b2f0b3-7d0d-4603-8478-09a057b1eb6e",
   "metadata": {
    "papermill": {},
    "tags": []
   },
   "source": [
    "### Get data from Google Sheets spreadsheet"
   ]
  },
  {
   "cell_type": "code",
   "execution_count": 11,
   "id": "5d9946f5-4d1d-4a65-989f-0860fe919170",
   "metadata": {
    "execution": {
     "iopub.execute_input": "2023-12-19T14:33:16.171192Z",
     "iopub.status.busy": "2023-12-19T14:33:16.170873Z",
     "iopub.status.idle": "2023-12-19T14:33:16.291667Z",
     "shell.execute_reply": "2023-12-19T14:33:16.285074Z",
     "shell.execute_reply.started": "2023-12-19T14:33:16.171157Z"
    },
    "papermill": {},
    "tags": []
   },
   "outputs": [
    {
     "name": "stdout",
     "output_type": "stream",
     "text": [
      "Data: 19\n"
     ]
    },
    {
     "data": {
      "text/html": [
       "<div>\n",
       "<style scoped>\n",
       "    .dataframe tbody tr th:only-of-type {\n",
       "        vertical-align: middle;\n",
       "    }\n",
       "\n",
       "    .dataframe tbody tr th {\n",
       "        vertical-align: top;\n",
       "    }\n",
       "\n",
       "    .dataframe thead th {\n",
       "        text-align: right;\n",
       "    }\n",
       "</style>\n",
       "<table border=\"1\" class=\"dataframe\">\n",
       "  <thead>\n",
       "    <tr style=\"text-align: right;\">\n",
       "      <th></th>\n",
       "      <th>DATE</th>\n",
       "      <th>FULLNAME</th>\n",
       "      <th>OCCUPATION</th>\n",
       "      <th>ICP</th>\n",
       "      <th>COMPANY_NAME</th>\n",
       "      <th>INDUSTRY</th>\n",
       "      <th>COUNTRY</th>\n",
       "      <th>STAFF_RANGE_NAME</th>\n",
       "      <th>INTERACTIONS</th>\n",
       "      <th>PROFILE_URL</th>\n",
       "    </tr>\n",
       "  </thead>\n",
       "  <tbody>\n",
       "    <tr>\n",
       "      <th>0</th>\n",
       "      <td>Sun. 17 Dec.</td>\n",
       "      <td>Wes Lorenzini</td>\n",
       "      <td>Engineering User Happiness from Ground to Clou...</td>\n",
       "      <td>Developer</td>\n",
       "      <td>WL Technology</td>\n",
       "      <td>Software Development</td>\n",
       "      <td>US</td>\n",
       "      <td>Micro Team</td>\n",
       "      <td>Comment '=true' on 'Have you ever experienced ...</td>\n",
       "      <td>https://www.linkedin.com/in/ACoAAAGyHq4Bmiv1-d...</td>\n",
       "    </tr>\n",
       "    <tr>\n",
       "      <th>1</th>\n",
       "      <td>Sun. 17 Dec.</td>\n",
       "      <td>Mark Conway</td>\n",
       "      <td>Full Stack Data Scientist | Quant | Machine Le...</td>\n",
       "      <td>Developer</td>\n",
       "      <td>Ahold Delhaize</td>\n",
       "      <td>Retail</td>\n",
       "      <td>NL</td>\n",
       "      <td>Mega Corporation</td>\n",
       "      <td>Sent 'interest' reaction to 'Have you ever exp...</td>\n",
       "      <td>https://www.linkedin.com/in/ACoAAA-046sB3NR_hW...</td>\n",
       "    </tr>\n",
       "    <tr>\n",
       "      <th>2</th>\n",
       "      <td>Sun. 17 Dec.</td>\n",
       "      <td>David Mertz</td>\n",
       "      <td>Consultant, Trainer, Data Scientist, Senior De...</td>\n",
       "      <td>Developer</td>\n",
       "      <td>KDM</td>\n",
       "      <td>Education Administration Programs</td>\n",
       "      <td>IL</td>\n",
       "      <td>NA</td>\n",
       "      <td>Sent 'praise' reaction to 'Good old days stori...</td>\n",
       "      <td>https://www.linkedin.com/in/ACoAAABXtC4B5bxAej...</td>\n",
       "    </tr>\n",
       "    <tr>\n",
       "      <th>3</th>\n",
       "      <td>Sun. 17 Dec.</td>\n",
       "      <td>Neil S.</td>\n",
       "      <td>Leadership | Analytics | Innovation | Commercial</td>\n",
       "      <td>Executive</td>\n",
       "      <td>nbn® Australia</td>\n",
       "      <td>Telecommunications</td>\n",
       "      <td>AU</td>\n",
       "      <td>Major Corporation</td>\n",
       "      <td>Sent 'empathy' reaction to 'Have you ever expe...</td>\n",
       "      <td>https://www.linkedin.com/in/ACoAAAsKemEB-ys9gp...</td>\n",
       "    </tr>\n",
       "    <tr>\n",
       "      <th>4</th>\n",
       "      <td>Sun. 17 Dec.</td>\n",
       "      <td>Sam Lausten</td>\n",
       "      <td>Software Engineer, Machine Learning @ Torc Rob...</td>\n",
       "      <td>Developer</td>\n",
       "      <td>Torc Robotics</td>\n",
       "      <td>Truck Transportation</td>\n",
       "      <td>US</td>\n",
       "      <td>Enterprise Level</td>\n",
       "      <td>Comment 'I love seeing a problem in everyday l...</td>\n",
       "      <td>https://www.linkedin.com/in/ACoAACJY-hcBJ0lXu5...</td>\n",
       "    </tr>\n",
       "    <tr>\n",
       "      <th>5</th>\n",
       "      <td>Sun. 17 Dec.</td>\n",
       "      <td>Alvaro Franco Martins</td>\n",
       "      <td>Physicist | Data Scientist | Researcher | PhD ...</td>\n",
       "      <td>Developer</td>\n",
       "      <td>State University of Maringa, Block C34</td>\n",
       "      <td>Education Administration Programs</td>\n",
       "      <td>BR</td>\n",
       "      <td>NA</td>\n",
       "      <td>Sent 'like' reaction to 'Have you ever experie...</td>\n",
       "      <td>https://www.linkedin.com/in/ACoAAC2UN3UBhU6Yz2...</td>\n",
       "    </tr>\n",
       "    <tr>\n",
       "      <th>6</th>\n",
       "      <td>Sun. 17 Dec.</td>\n",
       "      <td>Temidayo Omoniyi</td>\n",
       "      <td>Azure Data Engineer • Power BI Developer • Dat...</td>\n",
       "      <td>Developer</td>\n",
       "      <td>MSSQLTips.com</td>\n",
       "      <td>Software Development</td>\n",
       "      <td>US</td>\n",
       "      <td>Medium Company</td>\n",
       "      <td>Sent 'like' reaction to 'Have you ever experie...</td>\n",
       "      <td>https://www.linkedin.com/in/ACoAADA4TfoBv8iZNd...</td>\n",
       "    </tr>\n",
       "    <tr>\n",
       "      <th>7</th>\n",
       "      <td>Sun. 17 Dec.</td>\n",
       "      <td>Mokhtar Bendib</td>\n",
       "      <td>Tech Lead</td>\n",
       "      <td>Developer</td>\n",
       "      <td>Product Margin</td>\n",
       "      <td>Business Consulting and Services</td>\n",
       "      <td>US</td>\n",
       "      <td>Solopreneur</td>\n",
       "      <td>Sent 'empathy' reaction to 'Have you ever expe...</td>\n",
       "      <td>https://www.linkedin.com/in/ACoAACcqxvkBp_USVi...</td>\n",
       "    </tr>\n",
       "    <tr>\n",
       "      <th>8</th>\n",
       "      <td>Sun. 17 Dec.</td>\n",
       "      <td>Sathish Visanagiri</td>\n",
       "      <td>Entrepreneur, Technologist &amp; Teacher</td>\n",
       "      <td>Executive</td>\n",
       "      <td>Reckonsys Tech Labs</td>\n",
       "      <td>IT Services and IT Consulting</td>\n",
       "      <td>IN</td>\n",
       "      <td>Medium Company</td>\n",
       "      <td>Sent 'like' reaction to 'Have you ever experie...</td>\n",
       "      <td>https://www.linkedin.com/in/ACoAAADucJEBpx_Uad...</td>\n",
       "    </tr>\n",
       "    <tr>\n",
       "      <th>9</th>\n",
       "      <td>Sun. 17 Dec.</td>\n",
       "      <td>Johnnatan Lopez</td>\n",
       "      <td>Payroll, Finance, Charisma, Python | I help yo...</td>\n",
       "      <td>Developer</td>\n",
       "      <td>EY</td>\n",
       "      <td>IT Services and IT Consulting</td>\n",
       "      <td>GB</td>\n",
       "      <td>Mega Corporation</td>\n",
       "      <td>Sent 'empathy' reaction to 'Have you ever expe...</td>\n",
       "      <td>https://www.linkedin.com/in/ACoAABrbZNsBb1fT8U...</td>\n",
       "    </tr>\n",
       "    <tr>\n",
       "      <th>10</th>\n",
       "      <td>Sun. 17 Dec.</td>\n",
       "      <td>Mohamed Aboshihata</td>\n",
       "      <td>Product Management Lead | B2B &amp; B2B2C SaaS | S...</td>\n",
       "      <td>Executive</td>\n",
       "      <td>Product Margin</td>\n",
       "      <td>Business Consulting and Services</td>\n",
       "      <td>US</td>\n",
       "      <td>Solopreneur</td>\n",
       "      <td>Comment 'It's not my preferred language but it...</td>\n",
       "      <td>https://www.linkedin.com/in/ACoAAAAedJUBhSrvfD...</td>\n",
       "    </tr>\n",
       "    <tr>\n",
       "      <th>11</th>\n",
       "      <td>Sun. 17 Dec.</td>\n",
       "      <td>Hans Nowak</td>\n",
       "      <td>senior software developer and consultant</td>\n",
       "      <td>Developer</td>\n",
       "      <td>Product Margin</td>\n",
       "      <td>Business Consulting and Services</td>\n",
       "      <td>US</td>\n",
       "      <td>Solopreneur</td>\n",
       "      <td>Comment 'Smells like sapir-whorf... :)' on 'Ha...</td>\n",
       "      <td>https://www.linkedin.com/in/ACoAAChe3CIBgaap6h...</td>\n",
       "    </tr>\n",
       "    <tr>\n",
       "      <th>12</th>\n",
       "      <td>Sat. 16 Dec.</td>\n",
       "      <td>Sritharan Mahendra Babu</td>\n",
       "      <td>Senior Software Engineer at RA Capital Managem...</td>\n",
       "      <td>Developer</td>\n",
       "      <td>RA Capital Management</td>\n",
       "      <td>Financial Services</td>\n",
       "      <td>US</td>\n",
       "      <td>Medium Company</td>\n",
       "      <td>Comment 'Https://youtu.be/5qwg6cgfniu?si=h07uw...</td>\n",
       "      <td>https://www.linkedin.com/in/ACoAAAS1x04BbETa_m...</td>\n",
       "    </tr>\n",
       "    <tr>\n",
       "      <th>13</th>\n",
       "      <td>Fri. 15 Dec.</td>\n",
       "      <td>Tim Diller</td>\n",
       "      <td>Principal, Founder, and Instructor at Diller D...</td>\n",
       "      <td>Executive</td>\n",
       "      <td>Diller Scofidio + Renfro</td>\n",
       "      <td>Architecture and Planning</td>\n",
       "      <td>US</td>\n",
       "      <td>Medium Company</td>\n",
       "      <td>Sent 'like' reaction to 'Good old days stories...</td>\n",
       "      <td>https://www.linkedin.com/in/ACoAAACh2NEBKvBJrp...</td>\n",
       "    </tr>\n",
       "    <tr>\n",
       "      <th>14</th>\n",
       "      <td>Fri. 15 Dec.</td>\n",
       "      <td>Athar Sayed</td>\n",
       "      <td>AI / ML Engineer</td>\n",
       "      <td>Developer</td>\n",
       "      <td>Xfinite</td>\n",
       "      <td>Entertainment Providers</td>\n",
       "      <td>SG</td>\n",
       "      <td>Enterprise Level</td>\n",
       "      <td>Sent 'like' reaction to 'Good old days stories...</td>\n",
       "      <td>https://www.linkedin.com/in/ACoAABLO5_wB9M4fNp...</td>\n",
       "    </tr>\n",
       "    <tr>\n",
       "      <th>15</th>\n",
       "      <td>Fri. 15 Dec.</td>\n",
       "      <td>Bruce Breitzman</td>\n",
       "      <td>CEO and President at Spartan Light Metal Products</td>\n",
       "      <td>Executive</td>\n",
       "      <td>Spartan Light Metal Products</td>\n",
       "      <td>Motor Vehicle Manufacturing</td>\n",
       "      <td>US</td>\n",
       "      <td>Enterprise Level</td>\n",
       "      <td>Comment 'I remember working at ti and building...</td>\n",
       "      <td>https://www.linkedin.com/in/ACoAAALoIpMBH3sDMf...</td>\n",
       "    </tr>\n",
       "    <tr>\n",
       "      <th>16</th>\n",
       "      <td>Fri. 15 Dec.</td>\n",
       "      <td>Collin Sellman</td>\n",
       "      <td>CEO at Fireline Science | Faculty at Arizona S...</td>\n",
       "      <td>Executive</td>\n",
       "      <td>Fireline Science</td>\n",
       "      <td>E-Learning Providers</td>\n",
       "      <td>US</td>\n",
       "      <td>Micro Team</td>\n",
       "      <td>Comment 'I would see the sinclair zx81 adverti...</td>\n",
       "      <td>https://www.linkedin.com/in/ACoAAAA3h_gB-IOu1A...</td>\n",
       "    </tr>\n",
       "    <tr>\n",
       "      <th>17</th>\n",
       "      <td>Fri. 15 Dec.</td>\n",
       "      <td>Peter Voss</td>\n",
       "      <td>On a mission to bring human-level AI to the wo...</td>\n",
       "      <td>Executive</td>\n",
       "      <td>Aigo.ai - Chatbot with a Brain</td>\n",
       "      <td>Software Development</td>\n",
       "      <td>US</td>\n",
       "      <td>Small Company</td>\n",
       "      <td>Sent 'like' reaction to 'Good old days stories...</td>\n",
       "      <td>https://www.linkedin.com/in/ACoAAAAiQskBDwD97H...</td>\n",
       "    </tr>\n",
       "    <tr>\n",
       "      <th>18</th>\n",
       "      <td>Fri. 15 Dec.</td>\n",
       "      <td>Andreas Schreiber</td>\n",
       "      <td>Scientist — Head of Intelligent and Distribute...</td>\n",
       "      <td>Executive</td>\n",
       "      <td>German Aerospace Center (DLR)</td>\n",
       "      <td>Research Services</td>\n",
       "      <td>DE</td>\n",
       "      <td>Mega Corporation</td>\n",
       "      <td>Sent 'like' reaction to 'Good old days stories...</td>\n",
       "      <td>https://www.linkedin.com/in/ACoAAACK5F0Bb_PqJ7...</td>\n",
       "    </tr>\n",
       "  </tbody>\n",
       "</table>\n",
       "</div>"
      ],
      "text/plain": [
       "            DATE                 FULLNAME  \\\n",
       "0   Sun. 17 Dec.            Wes Lorenzini   \n",
       "1   Sun. 17 Dec.              Mark Conway   \n",
       "2   Sun. 17 Dec.              David Mertz   \n",
       "3   Sun. 17 Dec.                  Neil S.   \n",
       "4   Sun. 17 Dec.              Sam Lausten   \n",
       "5   Sun. 17 Dec.    Alvaro Franco Martins   \n",
       "6   Sun. 17 Dec.         Temidayo Omoniyi   \n",
       "7   Sun. 17 Dec.           Mokhtar Bendib   \n",
       "8   Sun. 17 Dec.       Sathish Visanagiri   \n",
       "9   Sun. 17 Dec.          Johnnatan Lopez   \n",
       "10  Sun. 17 Dec.       Mohamed Aboshihata   \n",
       "11  Sun. 17 Dec.               Hans Nowak   \n",
       "12  Sat. 16 Dec.  Sritharan Mahendra Babu   \n",
       "13  Fri. 15 Dec.               Tim Diller   \n",
       "14  Fri. 15 Dec.              Athar Sayed   \n",
       "15  Fri. 15 Dec.          Bruce Breitzman   \n",
       "16  Fri. 15 Dec.           Collin Sellman   \n",
       "17  Fri. 15 Dec.               Peter Voss   \n",
       "18  Fri. 15 Dec.        Andreas Schreiber   \n",
       "\n",
       "                                           OCCUPATION        ICP  \\\n",
       "0   Engineering User Happiness from Ground to Clou...  Developer   \n",
       "1   Full Stack Data Scientist | Quant | Machine Le...  Developer   \n",
       "2   Consultant, Trainer, Data Scientist, Senior De...  Developer   \n",
       "3    Leadership | Analytics | Innovation | Commercial  Executive   \n",
       "4   Software Engineer, Machine Learning @ Torc Rob...  Developer   \n",
       "5   Physicist | Data Scientist | Researcher | PhD ...  Developer   \n",
       "6   Azure Data Engineer • Power BI Developer • Dat...  Developer   \n",
       "7                                           Tech Lead  Developer   \n",
       "8                Entrepreneur, Technologist & Teacher  Executive   \n",
       "9   Payroll, Finance, Charisma, Python | I help yo...  Developer   \n",
       "10  Product Management Lead | B2B & B2B2C SaaS | S...  Executive   \n",
       "11           senior software developer and consultant  Developer   \n",
       "12  Senior Software Engineer at RA Capital Managem...  Developer   \n",
       "13  Principal, Founder, and Instructor at Diller D...  Executive   \n",
       "14                                   AI / ML Engineer  Developer   \n",
       "15  CEO and President at Spartan Light Metal Products  Executive   \n",
       "16  CEO at Fireline Science | Faculty at Arizona S...  Executive   \n",
       "17  On a mission to bring human-level AI to the wo...  Executive   \n",
       "18  Scientist — Head of Intelligent and Distribute...  Executive   \n",
       "\n",
       "                              COMPANY_NAME                           INDUSTRY  \\\n",
       "0                            WL Technology               Software Development   \n",
       "1                           Ahold Delhaize                             Retail   \n",
       "2                                      KDM  Education Administration Programs   \n",
       "3                           nbn® Australia                 Telecommunications   \n",
       "4                            Torc Robotics               Truck Transportation   \n",
       "5   State University of Maringa, Block C34  Education Administration Programs   \n",
       "6                            MSSQLTips.com               Software Development   \n",
       "7                           Product Margin   Business Consulting and Services   \n",
       "8                      Reckonsys Tech Labs      IT Services and IT Consulting   \n",
       "9                                       EY      IT Services and IT Consulting   \n",
       "10                          Product Margin   Business Consulting and Services   \n",
       "11                          Product Margin   Business Consulting and Services   \n",
       "12                   RA Capital Management                 Financial Services   \n",
       "13                Diller Scofidio + Renfro          Architecture and Planning   \n",
       "14                                 Xfinite            Entertainment Providers   \n",
       "15            Spartan Light Metal Products        Motor Vehicle Manufacturing   \n",
       "16                        Fireline Science               E-Learning Providers   \n",
       "17          Aigo.ai - Chatbot with a Brain               Software Development   \n",
       "18           German Aerospace Center (DLR)                  Research Services   \n",
       "\n",
       "   COUNTRY   STAFF_RANGE_NAME  \\\n",
       "0       US         Micro Team   \n",
       "1       NL   Mega Corporation   \n",
       "2       IL                 NA   \n",
       "3       AU  Major Corporation   \n",
       "4       US   Enterprise Level   \n",
       "5       BR                 NA   \n",
       "6       US     Medium Company   \n",
       "7       US        Solopreneur   \n",
       "8       IN     Medium Company   \n",
       "9       GB   Mega Corporation   \n",
       "10      US        Solopreneur   \n",
       "11      US        Solopreneur   \n",
       "12      US     Medium Company   \n",
       "13      US     Medium Company   \n",
       "14      SG   Enterprise Level   \n",
       "15      US   Enterprise Level   \n",
       "16      US         Micro Team   \n",
       "17      US      Small Company   \n",
       "18      DE   Mega Corporation   \n",
       "\n",
       "                                         INTERACTIONS  \\\n",
       "0   Comment '=true' on 'Have you ever experienced ...   \n",
       "1   Sent 'interest' reaction to 'Have you ever exp...   \n",
       "2   Sent 'praise' reaction to 'Good old days stori...   \n",
       "3   Sent 'empathy' reaction to 'Have you ever expe...   \n",
       "4   Comment 'I love seeing a problem in everyday l...   \n",
       "5   Sent 'like' reaction to 'Have you ever experie...   \n",
       "6   Sent 'like' reaction to 'Have you ever experie...   \n",
       "7   Sent 'empathy' reaction to 'Have you ever expe...   \n",
       "8   Sent 'like' reaction to 'Have you ever experie...   \n",
       "9   Sent 'empathy' reaction to 'Have you ever expe...   \n",
       "10  Comment 'It's not my preferred language but it...   \n",
       "11  Comment 'Smells like sapir-whorf... :)' on 'Ha...   \n",
       "12  Comment 'Https://youtu.be/5qwg6cgfniu?si=h07uw...   \n",
       "13  Sent 'like' reaction to 'Good old days stories...   \n",
       "14  Sent 'like' reaction to 'Good old days stories...   \n",
       "15  Comment 'I remember working at ti and building...   \n",
       "16  Comment 'I would see the sinclair zx81 adverti...   \n",
       "17  Sent 'like' reaction to 'Good old days stories...   \n",
       "18  Sent 'like' reaction to 'Good old days stories...   \n",
       "\n",
       "                                          PROFILE_URL  \n",
       "0   https://www.linkedin.com/in/ACoAAAGyHq4Bmiv1-d...  \n",
       "1   https://www.linkedin.com/in/ACoAAA-046sB3NR_hW...  \n",
       "2   https://www.linkedin.com/in/ACoAAABXtC4B5bxAej...  \n",
       "3   https://www.linkedin.com/in/ACoAAAsKemEB-ys9gp...  \n",
       "4   https://www.linkedin.com/in/ACoAACJY-hcBJ0lXu5...  \n",
       "5   https://www.linkedin.com/in/ACoAAC2UN3UBhU6Yz2...  \n",
       "6   https://www.linkedin.com/in/ACoAADA4TfoBv8iZNd...  \n",
       "7   https://www.linkedin.com/in/ACoAACcqxvkBp_USVi...  \n",
       "8   https://www.linkedin.com/in/ACoAAADucJEBpx_Uad...  \n",
       "9   https://www.linkedin.com/in/ACoAABrbZNsBb1fT8U...  \n",
       "10  https://www.linkedin.com/in/ACoAAAAedJUBhSrvfD...  \n",
       "11  https://www.linkedin.com/in/ACoAAChe3CIBgaap6h...  \n",
       "12  https://www.linkedin.com/in/ACoAAAS1x04BbETa_m...  \n",
       "13  https://www.linkedin.com/in/ACoAAACh2NEBKvBJrp...  \n",
       "14  https://www.linkedin.com/in/ACoAABLO5_wB9M4fNp...  \n",
       "15  https://www.linkedin.com/in/ACoAAALoIpMBH3sDMf...  \n",
       "16  https://www.linkedin.com/in/ACoAAAA3h_gB-IOu1A...  \n",
       "17  https://www.linkedin.com/in/ACoAAAAiQskBDwD97H...  \n",
       "18  https://www.linkedin.com/in/ACoAAACK5F0Bb_PqJ7...  "
      ]
     },
     "execution_count": 11,
     "metadata": {},
     "output_type": "execute_result"
    }
   ],
   "source": [
    "def get_data(\n",
    "    input_dir,\n",
    "    input_file,\n",
    "    spreadsheet_url,\n",
    "    sheet_name\n",
    "):\n",
    "    # Init\n",
    "    df = pd.DataFrame()\n",
    "    \n",
    "    # Load data from pickle\n",
    "    data = pload(input_dir, input_file)    \n",
    "    if data is None:\n",
    "        data = gsheet.connect(spreadsheet_url).get(sheet_name=sheet_name)\n",
    "    if isinstance(data, pd.DataFrame):\n",
    "        df = data.copy()\n",
    "        \n",
    "    # Filter on this week and last week\n",
    "    if len(df) > 0:\n",
    "        tw = date.today().strftime(\"W%W-%Y\")\n",
    "        lw = (date.today() - timedelta(days=date.today().weekday() + 7)).strftime(\"W%W-%Y\")\n",
    "        to_drop = [\n",
    "            \"ENTITY\",\n",
    "            \"SCENARIO\",\n",
    "            \"STAFF_COUNT\",\n",
    "            \"INTERACTION_SCORE\",\n",
    "            \"MESSAGING_OPTIONS\",\n",
    "        ]\n",
    "        df = df[(df[\"SCENARIO\"].isin([tw, lw]))].drop(to_drop, axis=1)\n",
    "    return df.reset_index(drop=True)\n",
    "\n",
    "data = get_data(input_dir, file_sales, spreadsheet_url, sheet_name)\n",
    "print(\"Data:\", len(data))\n",
    "data.head(len(data))"
   ]
  },
  {
   "cell_type": "markdown",
   "id": "4389d73b-70bd-421d-b2b6-22ca88b919af",
   "metadata": {},
   "source": [
    "### Create system prompt"
   ]
  },
  {
   "cell_type": "code",
   "execution_count": 12,
   "id": "5ecb9f3f-6fc6-40c8-b91c-70fdad5a3bf5",
   "metadata": {
    "execution": {
     "iopub.execute_input": "2023-12-19T14:33:19.542301Z",
     "iopub.status.busy": "2023-12-19T14:33:19.541983Z",
     "iopub.status.idle": "2023-12-19T14:33:19.589039Z",
     "shell.execute_reply": "2023-12-19T14:33:19.579785Z",
     "shell.execute_reply.started": "2023-12-19T14:33:19.542265Z"
    },
    "tags": []
   },
   "outputs": [],
   "source": [
    "system_prompt = f\"\"\"\n",
    "Act as a Sales Assistant who has access to the Deals data from the CRM. \n",
    "Your role is to manage and nurture these deals, ensuring that they progress through the sales pipeline effectively. \n",
    "You will need to communicate with potential clients, understand their needs, and propose solutions that align with their goals. \n",
    "Utilize the information in the CRM to personalize your approach, track interactions, and manage follow-ups. \n",
    "Your ultimate goal is to close deals successfully, contributing to the overall sales targets of the company.\n",
    "Start by presenting yourself.\n",
    "The first message should be about presenting yourself with a maximum of 3 bullet points and displaying an image inside the markdown of the chat: ![{image_url}]({image_html}).\n",
    "You must ALWAYS show the image in the first message.\n",
    "Then, wait for the first answer from the user, and then start with the first high-level analysis. \n",
    "Here is the data from the content analytics that you should focus on: {data.to_string()}\n",
    "\"\"\""
   ]
  },
  {
   "cell_type": "markdown",
   "id": "3c97c27b-06d4-474c-a347-08a6df8856de",
   "metadata": {
    "papermill": {},
    "tags": []
   },
   "source": [
    "### Create commands"
   ]
  },
  {
   "cell_type": "code",
   "execution_count": 13,
   "id": "c78707b5-9496-44d5-a0b3-26fa4e88004e",
   "metadata": {
    "execution": {
     "iopub.execute_input": "2023-12-19T14:33:21.213925Z",
     "iopub.status.busy": "2023-12-19T14:33:21.213614Z",
     "iopub.status.idle": "2023-12-19T14:33:23.166270Z",
     "shell.execute_reply": "2023-12-19T14:33:23.165509Z",
     "shell.execute_reply.started": "2023-12-19T14:33:21.213892Z"
    },
    "tags": []
   },
   "outputs": [
    {
     "name": "stdout",
     "output_type": "stream",
     "text": [
      "👌 Well done! Your Notebook has been sent to production.\n",
      "\n"
     ]
    },
    {
     "data": {
      "application/javascript": [
       "\n",
       "    if (!window.copyToClipboard) {\n",
       "        window.copyToClipboard = (text) => {\n",
       "            const dummy = document.createElement(\"textarea\");\n",
       "            document.body.appendChild(dummy);\n",
       "            dummy.value = text;\n",
       "            dummy.select();\n",
       "            document.execCommand(\"copy\");\n",
       "            document.body.removeChild(dummy);\n",
       "        }\n",
       "    }\n",
       "    "
      ],
      "text/plain": [
       "<IPython.core.display.Javascript object>"
      ]
     },
     "metadata": {},
     "output_type": "display_data"
    },
    {
     "data": {
      "application/vnd.jupyter.widget-view+json": {
       "model_id": "ae83fc9c7d354d85beb9ef30bd09f47b",
       "version_major": 2,
       "version_minor": 0
      },
      "text/plain": [
       "Button(button_style='primary', description='Copy URL', style=ButtonStyle())"
      ]
     },
     "metadata": {},
     "output_type": "display_data"
    },
    {
     "data": {
      "application/vnd.jupyter.widget-view+json": {
       "model_id": "7f86d17a9e54472f8a903a3d7b12eb1b",
       "version_major": 2,
       "version_minor": 0
      },
      "text/plain": [
       "Output()"
      ]
     },
     "metadata": {},
     "output_type": "display_data"
    },
    {
     "name": "stdout",
     "output_type": "stream",
     "text": [
      "PS: to remove the \"Notebook as API\" feature, just replace .add by .delete\n",
      "👌 Well done! Your Notebook has been sent to production.\n",
      "\n"
     ]
    },
    {
     "data": {
      "application/javascript": [
       "\n",
       "    if (!window.copyToClipboard) {\n",
       "        window.copyToClipboard = (text) => {\n",
       "            const dummy = document.createElement(\"textarea\");\n",
       "            document.body.appendChild(dummy);\n",
       "            dummy.value = text;\n",
       "            dummy.select();\n",
       "            document.execCommand(\"copy\");\n",
       "            document.body.removeChild(dummy);\n",
       "        }\n",
       "    }\n",
       "    "
      ],
      "text/plain": [
       "<IPython.core.display.Javascript object>"
      ]
     },
     "metadata": {},
     "output_type": "display_data"
    },
    {
     "data": {
      "application/vnd.jupyter.widget-view+json": {
       "model_id": "2033d434f51a48d3ae984865fc2fdc45",
       "version_major": 2,
       "version_minor": 0
      },
      "text/plain": [
       "Button(button_style='primary', description='Copy URL', style=ButtonStyle())"
      ]
     },
     "metadata": {},
     "output_type": "display_data"
    },
    {
     "data": {
      "application/vnd.jupyter.widget-view+json": {
       "model_id": "c029797172f941afb25307125e641a04",
       "version_major": 2,
       "version_minor": 0
      },
      "text/plain": [
       "Output()"
      ]
     },
     "metadata": {},
     "output_type": "display_data"
    },
    {
     "name": "stdout",
     "output_type": "stream",
     "text": [
      "PS: to remove the \"Notebook as API\" feature, just replace .add by .delete\n",
      "👌 Well done! Your Notebook has been sent to production.\n",
      "\n"
     ]
    },
    {
     "data": {
      "application/javascript": [
       "\n",
       "    if (!window.copyToClipboard) {\n",
       "        window.copyToClipboard = (text) => {\n",
       "            const dummy = document.createElement(\"textarea\");\n",
       "            document.body.appendChild(dummy);\n",
       "            dummy.value = text;\n",
       "            dummy.select();\n",
       "            document.execCommand(\"copy\");\n",
       "            document.body.removeChild(dummy);\n",
       "        }\n",
       "    }\n",
       "    "
      ],
      "text/plain": [
       "<IPython.core.display.Javascript object>"
      ]
     },
     "metadata": {},
     "output_type": "display_data"
    },
    {
     "data": {
      "application/vnd.jupyter.widget-view+json": {
       "model_id": "a6124c302d184f30bc74f9029c578a4c",
       "version_major": 2,
       "version_minor": 0
      },
      "text/plain": [
       "Button(button_style='primary', description='Copy URL', style=ButtonStyle())"
      ]
     },
     "metadata": {},
     "output_type": "display_data"
    },
    {
     "data": {
      "application/vnd.jupyter.widget-view+json": {
       "model_id": "a80d5edc22f54025b708fe74bc77a0f4",
       "version_major": 2,
       "version_minor": 0
      },
      "text/plain": [
       "Output()"
      ]
     },
     "metadata": {},
     "output_type": "display_data"
    },
    {
     "name": "stdout",
     "output_type": "stream",
     "text": [
      "PS: to remove the \"Notebook as API\" feature, just replace .add by .delete\n",
      "[\n",
      "    {\n",
      "        \"name\": \"HubSpot_Connect\",\n",
      "        \"avatar\": \"https://raw.githubusercontent.com/jupyter-naas/awesome-notebooks/master/.github/assets/logos/HubSpot.png\",\n",
      "        \"action\": {\n",
      "            \"request_type\": \"POST\",\n",
      "            \"url\": \"https://public.naas.ai/YWJpLTJEb3BlbnRlYW1zLTQwbmFhcy0yRWFp/notebook/5293c72ca775534607ed3c0f3271cd4d6d7290997d3dc104fdbd881de0cc\",\n",
      "            \"payload\": {\n",
      "                \"hs_access_token\": {\n",
      "                    \"type\": \"str\",\n",
      "                    \"description\": \"This variable stores an access token used for accessing the HubSpot API. This value will be stored under the secret 'HS_ACCESS_TOKEN'.\",\n",
      "                    \"default\": \"None\"\n",
      "                }\n",
      "            }\n",
      "        },\n",
      "        \"description\": \"This command integrates your HubSpot access token into the Naas Lab secret manager.\"\n",
      "    },\n",
      "    {\n",
      "        \"name\": \"LinkedIn_Connect\",\n",
      "        \"avatar\": \"https://raw.githubusercontent.com/jupyter-naas/awesome-notebooks/master/.github/assets/logos/LinkedIn.png\",\n",
      "        \"action\": {\n",
      "            \"request_type\": \"POST\",\n",
      "            \"url\": \"https://public.naas.ai/YWJpLTJEb3BlbnRlYW1zLTQwbmFhcy0yRWFp/notebook/c34767e9eb3990522d136d0ef99fc3bf4e5a5fa3d74346ee9810a33f099a\",\n",
      "            \"payload\": {\n",
      "                \"li_at\": {\n",
      "                    \"type\": \"str\",\n",
      "                    \"description\": \"Cookie used to authenticate Members and API clients. This value will be stored under the secret 'LINKEDIN_LI_AT'.\",\n",
      "                    \"default\": \"None\"\n",
      "                },\n",
      "                \"JSESSIONID\": {\n",
      "                    \"type\": \"str\",\n",
      "                    \"description\": \"Cookie used for Cross Site Request Forgery (CSRF) protection and URL signature validation. This value will be stored under the secret 'LINKEDIN_JSESSIONID'.\",\n",
      "                    \"default\": \"None\"\n",
      "                }\n",
      "            }\n",
      "        },\n",
      "        \"description\": \"This command integrates your LinkedIn cookies into the Naas Lab secret manager.\"\n",
      "    },\n",
      "    {\n",
      "        \"name\": \"OpenAI_Connect\",\n",
      "        \"avatar\": \"https://raw.githubusercontent.com/jupyter-naas/awesome-notebooks/master/.github/assets/logos/OpenAI.png\",\n",
      "        \"action\": {\n",
      "            \"request_type\": \"POST\",\n",
      "            \"url\": \"https://public.naas.ai/YWJpLTJEb3BlbnRlYW1zLTQwbmFhcy0yRWFp/notebook/04ba6eff92f932a9ce752f4961d3f665a35d8ea899c529e22430f3c28a01\",\n",
      "            \"payload\": {\n",
      "                \"api_key\": {\n",
      "                    \"type\": \"str\",\n",
      "                    \"description\": \"OpenAI API key. This value will be stored under the secret 'OPENAI_API_KEY'.\",\n",
      "                    \"default\": \"None\"\n",
      "                }\n",
      "            }\n",
      "        },\n",
      "        \"description\": \"This command integrates your OpenAI api key into the Naas Lab secret manager.\"\n",
      "    }\n",
      "]\n"
     ]
    }
   ],
   "source": [
    "commands = create_command(model_dir)"
   ]
  },
  {
   "cell_type": "markdown",
   "id": "81ce4521-731f-42cb-8ace-0e7611c750b3",
   "metadata": {
    "papermill": {},
    "tags": []
   },
   "source": [
    "## Output"
   ]
  },
  {
   "cell_type": "markdown",
   "id": "2d959298-e04a-459f-85d9-1b12bb5754c9",
   "metadata": {
    "papermill": {},
    "tags": []
   },
   "source": [
    "### Create Naas Chat plugin\n",
    "This function will generate the plugin in JSON format and also verify if your prompt adheres to the recommended limit, which is set at 20% of the maximum tokens allowed by the model. Then, it will save your plugin in your local environment."
   ]
  },
  {
   "cell_type": "code",
   "execution_count": 15,
   "id": "ac0af791-9f6d-4da8-82d0-1defed0bc59f",
   "metadata": {
    "execution": {
     "iopub.execute_input": "2023-12-19T14:33:45.171836Z",
     "iopub.status.busy": "2023-12-19T14:33:45.171613Z",
     "iopub.status.idle": "2023-12-19T14:33:45.223102Z",
     "shell.execute_reply": "2023-12-19T14:33:45.222524Z",
     "shell.execute_reply.started": "2023-12-19T14:33:45.171813Z"
    },
    "papermill": {},
    "tags": []
   },
   "outputs": [
    {
     "name": "stdout",
     "output_type": "stream",
     "text": [
      "⚠️ Be careful, your system prompt looks too big.\n",
      "                Tokens: 3181 (limit recommended: 20% -> 1638)\n",
      "💾 Plugin successfully saved. You can use it in your Naas Chat with: /home/ftp/abi/outputs/plugins/⚡️_sales_assitant.json\n"
     ]
    }
   ],
   "source": [
    "# Create plugin\n",
    "plugin_file_path = naas_chat_plugin.create_plugin(\n",
    "    name=name,\n",
    "    prompt=system_prompt,\n",
    "    model=model,\n",
    "    temperature=temperature,\n",
    "    output_path=output_path,\n",
    "    description=description,\n",
    "    avatar=avatar,\n",
    "    commands=commands\n",
    ")"
   ]
  },
  {
   "cell_type": "markdown",
   "id": "34b625a0-f39b-4c7e-82f5-cc58a11ec902",
   "metadata": {
    "papermill": {},
    "tags": []
   },
   "source": [
    "### Create asset\n",
    "This asset can be utilized by using the command `/use` in your Naas Chat or by simply clicking on the link provided in the last cell output."
   ]
  },
  {
   "cell_type": "code",
   "execution_count": 16,
   "id": "39437f23-bcf8-40df-9538-32b3cac1c8fb",
   "metadata": {
    "execution": {
     "iopub.execute_input": "2023-12-19T14:33:46.360341Z",
     "iopub.status.busy": "2023-12-19T14:33:46.358211Z",
     "iopub.status.idle": "2023-12-19T14:33:46.941759Z",
     "shell.execute_reply": "2023-12-19T14:33:46.941098Z",
     "shell.execute_reply.started": "2023-12-19T14:33:46.360300Z"
    },
    "papermill": {},
    "tags": []
   },
   "outputs": [
    {
     "name": "stdout",
     "output_type": "stream",
     "text": [
      "👌 Well done! Your Assets has been sent to production.\n",
      "\n"
     ]
    },
    {
     "data": {
      "application/javascript": [
       "\n",
       "    if (!window.copyToClipboard) {\n",
       "        window.copyToClipboard = (text) => {\n",
       "            const dummy = document.createElement(\"textarea\");\n",
       "            document.body.appendChild(dummy);\n",
       "            dummy.value = text;\n",
       "            dummy.select();\n",
       "            document.execCommand(\"copy\");\n",
       "            document.body.removeChild(dummy);\n",
       "        }\n",
       "    }\n",
       "    "
      ],
      "text/plain": [
       "<IPython.core.display.Javascript object>"
      ]
     },
     "metadata": {},
     "output_type": "display_data"
    },
    {
     "data": {
      "application/vnd.jupyter.widget-view+json": {
       "model_id": "221769dd2fad409f9ecd12df1c9362c2",
       "version_major": 2,
       "version_minor": 0
      },
      "text/plain": [
       "Button(button_style='primary', description='Copy URL', style=ButtonStyle())"
      ]
     },
     "metadata": {},
     "output_type": "display_data"
    },
    {
     "data": {
      "application/vnd.jupyter.widget-view+json": {
       "model_id": "fdea82fa3b3e4c0eb1aba961b03bc629",
       "version_major": 2,
       "version_minor": 0
      },
      "text/plain": [
       "Output()"
      ]
     },
     "metadata": {},
     "output_type": "display_data"
    },
    {
     "name": "stdout",
     "output_type": "stream",
     "text": [
      "PS: to remove the \"Assets\" feature, just replace .add by .delete\n",
      "https://public.naas.ai/YWJpLTJEb3BlbnRlYW1zLTQwbmFhcy0yRWFp/asset/4221ab472867013c987a6bebd8da7a0c04cd82ebb281c3ddd57dc537cd9f\n"
     ]
    }
   ],
   "source": [
    "plugin_url = naas.asset.add(plugin_file_path, params={\"inline\": True})\n",
    "print(plugin_url)"
   ]
  },
  {
   "cell_type": "markdown",
   "id": "1dde0d3d-de48-4307-bd6a-63081b1e436c",
   "metadata": {},
   "source": [
    "### Create new chat\n",
    "NB: You don't need to click on 'Create New Chat' everytime you update your system prompt, you can use the command `/refresh`."
   ]
  },
  {
   "cell_type": "code",
   "execution_count": 17,
   "id": "221fab1a-663b-4aa7-871d-f8ff7b1e2a18",
   "metadata": {
    "execution": {
     "iopub.execute_input": "2023-12-19T14:33:47.839195Z",
     "iopub.status.busy": "2023-12-19T14:33:47.838967Z",
     "iopub.status.idle": "2023-12-19T14:33:47.847767Z",
     "shell.execute_reply": "2023-12-19T14:33:47.847224Z",
     "shell.execute_reply.started": "2023-12-19T14:33:47.839170Z"
    },
    "tags": []
   },
   "outputs": [
    {
     "data": {
      "text/markdown": [
       "[Create New Chat](https://naas.ai/chat/use?plugin_url=https://public.naas.ai/YWJpLTJEb3BlbnRlYW1zLTQwbmFhcy0yRWFp/asset/4221ab472867013c987a6bebd8da7a0c04cd82ebb281c3ddd57dc537cd9f)"
      ],
      "text/plain": [
       "<IPython.core.display.Markdown object>"
      ]
     },
     "execution_count": 17,
     "metadata": {},
     "output_type": "execute_result"
    }
   ],
   "source": [
    "Markdown(f\"[Create New Chat](https://naas.ai/chat/use?plugin_url={plugin_url})\")"
   ]
  },
  {
   "cell_type": "code",
   "execution_count": null,
   "id": "a8a2f65a-c24b-4d33-b24d-7ce2dacb834e",
   "metadata": {},
   "outputs": [],
   "source": []
  }
 ],
 "metadata": {
  "kernelspec": {
   "display_name": "Python 3",
   "language": "python",
   "name": "python3"
  },
  "language_info": {
   "codemirror_mode": {
    "name": "ipython",
    "version": 3
   },
   "file_extension": ".py",
   "mimetype": "text/x-python",
   "name": "python",
   "nbconvert_exporter": "python",
   "pygments_lexer": "ipython3",
   "version": "3.9.6"
  },
  "naas": {
   "notebook_id": "d376a4cfdf00d1197e0cd54cf4e801052d22a6e15133079bf4d3ff56c29fc5a0",
   "notebook_path": "GitHub/GitHub_Create_plugin_with_commands.ipynb"
  },
  "papermill": {
   "default_parameters": {},
   "environment_variables": {},
   "parameters": {},
   "version": "2.4.0"
  },
  "widgets": {
   "application/vnd.jupyter.widget-state+json": {
    "state": {},
    "version_major": 2,
    "version_minor": 0
   }
  }
 },
 "nbformat": 4,
 "nbformat_minor": 5
}
