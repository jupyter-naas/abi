{
 "cells": [
  {
   "cell_type": "markdown",
   "id": "71f01651-4915-49a1-bf82-753c98efb657",
   "metadata": {
    "papermill": {},
    "tags": []
   },
   "source": [
    "<img width=\"8%\" alt=\"Sales\" src=\"https://naasai-public.s3.eu-west-3.amazonaws.com/abi-demo/sales_conversion.png\" style=\"border-radius: 15%\">"
   ]
  },
  {
   "cell_type": "markdown",
   "id": "d3147b57-edaf-4db5-956f-150b36c6eabc",
   "metadata": {
    "papermill": {},
    "tags": []
   },
   "source": [
    "# Sales plugin"
   ]
  },
  {
   "cell_type": "markdown",
   "id": "d77fe283-4edd-42d3-a909-8e207d4b842f",
   "metadata": {
    "papermill": {},
    "tags": []
   },
   "source": [
    "**Tags:** #naaschatplugin #naas #naas_driver #chat #plugin #ai"
   ]
  },
  {
   "cell_type": "markdown",
   "id": "b90f2d91-c886-4e36-8265-b09d06bb1c7f",
   "metadata": {
    "papermill": {},
    "tags": []
   },
   "source": [
    "**Author:** [Florent Ravenel](https://www.linkedin.com/in/florent-ravenel)"
   ]
  },
  {
   "cell_type": "markdown",
   "id": "214749fe-7f0b-4755-b7ea-1d200c234cc6",
   "metadata": {
    "papermill": {},
    "tags": []
   },
   "source": [
    "**Description:** This notebook creates a Naas Chat plugin with commands."
   ]
  },
  {
   "cell_type": "markdown",
   "id": "cff349c8-2816-4ae4-9229-027c068eeb51",
   "metadata": {
    "papermill": {},
    "tags": []
   },
   "source": [
    "## Input"
   ]
  },
  {
   "cell_type": "markdown",
   "id": "80266a9e-fe54-4f3e-aeb2-01483bbc53f9",
   "metadata": {
    "papermill": {},
    "tags": []
   },
   "source": [
    "### Import libraries"
   ]
  },
  {
   "cell_type": "code",
   "execution_count": null,
   "id": "cc038b10-2679-42bc-909e-09a298339df4",
   "metadata": {
    "papermill": {},
    "tags": []
   },
   "outputs": [],
   "source": [
    "import naas\n",
    "from naas_drivers import naas_chat_plugin, gsheet\n",
    "import naas_data_product\n",
    "from IPython.display import Markdown\n",
    "from datetime import date, timedelta\n",
    "import os\n",
    "import pandas as pd"
   ]
  },
  {
   "cell_type": "markdown",
   "id": "e930da4d-39a2-424e-8808-77fd0a3829bf",
   "metadata": {
    "papermill": {},
    "tags": []
   },
   "source": [
    "### Setup variables\n",
    "**Inputs**\n",
    "- `entity_dir`: Entity directory.\n",
    "- `input_dir`: Input directory to retrieve file from.\n",
    "- `input_file`: Input file.\n",
    "- `spreadsheet_url`: Google Sheets spreadsheet URL.\n",
    "- `sheet_name`: Google Sheets sheet name.\n",
    "- `name`: Plugin name.\n",
    "- `model`: Plugin chat model.\n",
    "- `temperature`: Plugin chat temperature.\n",
    "- `description`: Plugin description.\n",
    "- `avatar`: Plugin avatar image.\n",
    "- `model_dir`: Models directory.\n",
    "\n",
    "**Outputs**\n",
    "- `output_dir`: Output directory where output files are stored. \n",
    "- `entity_name`: Entity name."
   ]
  },
  {
   "cell_type": "code",
   "execution_count": null,
   "id": "6cf9bd9b-ce83-45a5-ab0f-15c978458b42",
   "metadata": {
    "papermill": {},
    "tags": [
     "parameters"
    ]
   },
   "outputs": [],
   "source": [
    "# Inputs\n",
    "entity_id = \"0\"\n",
    "entity_dir = pload(os.path.join(naas_data_product.OUTPUTS_PATH, \"entities\", entity_id), \"entity_dir\")\n",
    "input_dir = os.path.join(entity_dir, \"sales-engine\", date.today().isoformat())\n",
    "input_file = \"deals\"\n",
    "spreadsheet_url = pload(os.path.join(naas_data_product.OUTPUTS_PATH, \"entities\", entity_id), \"abi_spreadsheet\")\n",
    "sheet_name = \"DEALS\"\n",
    "name = \"⚡️ Sales Assistant\"\n",
    "model = \"gpt-4-1106-preview\"\n",
    "temperature = 0.2\n",
    "description = \"Nurture your sales qualified leads and ensure they progress through the sales pipeline effectively.\"\n",
    "avatar = \"https://naasai-public.s3.eu-west-3.amazonaws.com/abi-demo/sales_conversion.png\"\n",
    "model_dir = os.path.join(naas_data_product.ROOT_PATH, \"models\", \"sales-engine\")\n",
    "input_image = \"deals_trend.png\"\n",
    "input_html = \"deals_trend.html\"\n",
    "\n",
    "# Outputs\n",
    "output_dir = os.path.join(entity_dir, \"plugins\")\n",
    "entity_name = pload(os.path.join(naas_data_product.OUTPUTS_PATH, \"entities\", entity_id), \"entity_name\")"
   ]
  },
  {
   "cell_type": "markdown",
   "id": "9070993a-eec9-4f78-a7f9-2e18c743a20d",
   "metadata": {
    "papermill": {},
    "tags": []
   },
   "source": [
    "## Model"
   ]
  },
  {
   "cell_type": "markdown",
   "id": "8c66f36e-c25b-4032-88d8-73541c1ab217",
   "metadata": {},
   "source": [
    "### Get assets"
   ]
  },
  {
   "cell_type": "code",
   "execution_count": null,
   "id": "98c0e049-4e28-4a5f-98cf-53f4bf2a5505",
   "metadata": {
    "tags": []
   },
   "outputs": [],
   "source": [
    "image_url = get_image_asset(input_dir, input_image)\n",
    "print(\"Image URL:\", image_url)\n",
    "\n",
    "image_html = get_image_asset(input_dir, input_html)\n",
    "print(\"Image HTML:\", image_html)"
   ]
  },
  {
   "cell_type": "markdown",
   "id": "01aaefcc-181d-40ae-8616-7aeba0746927",
   "metadata": {
    "papermill": {},
    "tags": []
   },
   "source": [
    "### Get data to be sent to prompt"
   ]
  },
  {
   "cell_type": "markdown",
   "id": "27b2f0b3-7d0d-4603-8478-09a057b1eb6e",
   "metadata": {
    "papermill": {},
    "tags": []
   },
   "source": [
    "#### Get sales qualified leads"
   ]
  },
  {
   "cell_type": "code",
   "execution_count": null,
   "id": "5d9946f5-4d1d-4a65-989f-0860fe919170",
   "metadata": {
    "papermill": {},
    "tags": []
   },
   "outputs": [],
   "source": [
    "# Init\n",
    "sales_data = \"\"\n",
    "new_deals = 0\n",
    "\n",
    "# Load data from pickle\n",
    "data = pload(input_dir, input_file)    \n",
    "if data is None:\n",
    "    data = gsheet.connect(spreadsheet_url).get(sheet_name=sheet_name)\n",
    "if isinstance(data, pd.DataFrame):\n",
    "    df = data.copy()\n",
    "\n",
    "# Filter on this week and last week\n",
    "if len(df) > 0:\n",
    "    df = df[(df[\"ENTITY\"].str.contains(entity_name)) & (df[\"SCENARIO\"].isin([TW, LW]))]\n",
    "    \n",
    "    # Get data\n",
    "    tmp_df = df[(df[\"SCENARIO\"].isin([TW]))]\n",
    "    new_deals = len(tmp_df)\n",
    "    if len(df) > 0:\n",
    "        limit = 0.45\n",
    "        for row in df.itertuples():\n",
    "            index = row.Index\n",
    "            prompt_tokens, max_tokens = naas_chat_plugin.check_tokens(\n",
    "                prompt=df[:index+1].to_string(),\n",
    "                model=model,\n",
    "                limit=limit,\n",
    "            )\n",
    "            if prompt_tokens > max_tokens * limit:\n",
    "                break\n",
    "        df = df[:index+1]\n",
    "    \n",
    "sales_data = df.to_string()\n",
    "\n",
    "print()\n",
    "print(f\"- New Deals: {new_deals}\")"
   ]
  },
  {
   "cell_type": "markdown",
   "id": "4389d73b-70bd-421d-b2b6-22ca88b919af",
   "metadata": {},
   "source": [
    "### Create system prompt"
   ]
  },
  {
   "cell_type": "code",
   "execution_count": null,
   "id": "5ecb9f3f-6fc6-40c8-b91c-70fdad5a3bf5",
   "metadata": {
    "tags": []
   },
   "outputs": [],
   "source": [
    "system_prompt = f\"\"\"\n",
    "Act as a Sales Assistant who has access to a list of deals generated thanks to your contents published on social media platform. \n",
    "Your role is to manage and nurture theses deals, ensuring that they progress through the sales pipeline effectively.\n",
    "Begin your conversation by introducing yourself and displaying the image: [![Deals Evolution]({image_url})({image_html})] inside the markdown of the chat that illustrates the evolution of deals over the past two weeks, thanks to the content published by '{entity_name}'. \n",
    "Next, provide an update on this week's results: \n",
    "During this week '{TW}', the content from '{entity_name}' has generated {new_deals} new promising deals.\n",
    "Proceed with a brief analysis of the new deals made this week '{TW}' starting with the deal name and giving details of the people and organization involved in each deal: {sales_data}.\n",
    "For the convenience of your sales team, please hyperlink the people fullname and organization name to their respective LinkedIn URL.\n",
    "While maintaining a casual yet professional tone, ensure to stick to the requested information and avoid adding unnecessary details.\n",
    "After receiving the user's first response, you can then commence with the first high-level analysis.\n",
    "\"\"\""
   ]
  },
  {
   "cell_type": "markdown",
   "id": "3c97c27b-06d4-474c-a347-08a6df8856de",
   "metadata": {
    "papermill": {},
    "tags": []
   },
   "source": [
    "### Create commands"
   ]
  },
  {
   "cell_type": "code",
   "execution_count": null,
   "id": "c78707b5-9496-44d5-a0b3-26fa4e88004e",
   "metadata": {
    "tags": []
   },
   "outputs": [],
   "source": [
    "commands = create_command(model_dir)"
   ]
  },
  {
   "cell_type": "markdown",
   "id": "81ce4521-731f-42cb-8ace-0e7611c750b3",
   "metadata": {
    "papermill": {},
    "tags": []
   },
   "source": [
    "## Output"
   ]
  },
  {
   "cell_type": "markdown",
   "id": "2d959298-e04a-459f-85d9-1b12bb5754c9",
   "metadata": {
    "papermill": {},
    "tags": []
   },
   "source": [
    "### Create Naas Chat plugin\n",
    "This function will generate the plugin in JSON format and also verify if your prompt adheres to the recommended limit, which is set at 20% of the maximum tokens allowed by the model. Then, it will save your plugin in your local environment."
   ]
  },
  {
   "cell_type": "code",
   "execution_count": null,
   "id": "ac0af791-9f6d-4da8-82d0-1defed0bc59f",
   "metadata": {
    "papermill": {},
    "tags": []
   },
   "outputs": [],
   "source": [
    "output_path = os.path.join(output_dir, f\"{name.lower().replace(' ', '_')}.json\")\n",
    "\n",
    "# Create plugin\n",
    "plugin_file_path = naas_chat_plugin.create_plugin(\n",
    "    name=name,\n",
    "    prompt=system_prompt.replace(\"\\n\", \"\"),\n",
    "    model=model,\n",
    "    temperature=temperature,\n",
    "    output_path=output_path,\n",
    "    description=description,\n",
    "    avatar=avatar,\n",
    "    commands=commands\n",
    ")"
   ]
  },
  {
   "cell_type": "markdown",
   "id": "34b625a0-f39b-4c7e-82f5-cc58a11ec902",
   "metadata": {
    "papermill": {},
    "tags": []
   },
   "source": [
    "### Create asset\n",
    "This asset can be utilized by using the command `/use` in your Naas Chat or by simply clicking on the link provided in the last cell output."
   ]
  },
  {
   "cell_type": "code",
   "execution_count": null,
   "id": "39437f23-bcf8-40df-9538-32b3cac1c8fb",
   "metadata": {
    "papermill": {},
    "tags": []
   },
   "outputs": [],
   "source": [
    "plugin_url = naas.asset.add(plugin_file_path, params={\"inline\": True})\n",
    "print(plugin_url)"
   ]
  },
  {
   "cell_type": "markdown",
   "id": "1dde0d3d-de48-4307-bd6a-63081b1e436c",
   "metadata": {},
   "source": [
    "### Create new chat\n",
    "NB: You don't need to click on 'Create New Chat' everytime you update your system prompt, you can use the command `/refresh`."
   ]
  },
  {
   "cell_type": "code",
   "execution_count": null,
   "id": "221fab1a-663b-4aa7-871d-f8ff7b1e2a18",
   "metadata": {
    "tags": []
   },
   "outputs": [],
   "source": [
    "Markdown(f\"[Create New Chat](https://naas.ai/chat/use?plugin_url={plugin_url})\")"
   ]
  },
  {
   "cell_type": "code",
   "execution_count": null,
   "id": "3827ad33-0a7a-44d8-9bd4-02dcaf745540",
   "metadata": {},
   "outputs": [],
   "source": []
  }
 ],
 "metadata": {
  "kernelspec": {
   "display_name": "Python 3",
   "language": "python",
   "name": "python3"
  },
  "language_info": {
   "codemirror_mode": {
    "name": "ipython",
    "version": 3
   },
   "file_extension": ".py",
   "mimetype": "text/x-python",
   "name": "python",
   "nbconvert_exporter": "python",
   "pygments_lexer": "ipython3",
   "version": "3.9.6"
  },
  "naas": {
   "notebook_id": "d376a4cfdf00d1197e0cd54cf4e801052d22a6e15133079bf4d3ff56c29fc5a0",
   "notebook_path": "GitHub/GitHub_Create_plugin_with_commands.ipynb"
  },
  "papermill": {
   "default_parameters": {},
   "environment_variables": {},
   "parameters": {},
   "version": "2.4.0"
  },
  "widgets": {
   "application/vnd.jupyter.widget-state+json": {
    "state": {},
    "version_major": 2,
    "version_minor": 0
   }
  }
 },
 "nbformat": 4,
 "nbformat_minor": 5
}
