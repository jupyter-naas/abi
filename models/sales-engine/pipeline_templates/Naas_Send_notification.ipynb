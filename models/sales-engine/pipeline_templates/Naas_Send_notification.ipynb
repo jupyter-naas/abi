{
 "cells": [
  {
   "cell_type": "markdown",
   "id": "6bc9306f-e8ca-4a8b-8281-d81ce4b12818",
   "metadata": {
    "papermill": {},
    "tags": []
   },
   "source": [
    "<img width=\"8%\" alt=\"Naas.png\" src=\"https://raw.githubusercontent.com/jupyter-naas/awesome-notebooks/master/.github/assets/logos/Naas.png\" style=\"border-radius: 15%\">"
   ]
  },
  {
   "cell_type": "markdown",
   "id": "subjective-dialogue",
   "metadata": {
    "papermill": {},
    "tags": []
   },
   "source": [
    "# Naas - Send notification"
   ]
  },
  {
   "cell_type": "markdown",
   "id": "588aefd6-7a2d-4bcd-b06f-351e07199586",
   "metadata": {
    "papermill": {},
    "tags": []
   },
   "source": [
    "**Tags:** #naas #emailbuilder #snippet #operations"
   ]
  },
  {
   "cell_type": "markdown",
   "id": "a4de884f-6e75-4aa3-af33-e77375eb2dc8",
   "metadata": {
    "papermill": {},
    "tags": []
   },
   "source": [
    "**Author:** [Florent Ravenel](https://www.linkedin.com/in/ACoAABCNSioBW3YZHc2lBHVG0E_TXYWitQkmwog/)"
   ]
  },
  {
   "cell_type": "markdown",
   "id": "naas-description",
   "metadata": {
    "papermill": {},
    "tags": [
     "description"
    ]
   },
   "source": [
    "**Description:** This notebook send a notification with your latest posts performance."
   ]
  },
  {
   "cell_type": "markdown",
   "id": "aquatic-smile",
   "metadata": {
    "papermill": {},
    "tags": []
   },
   "source": [
    "## Input"
   ]
  },
  {
   "cell_type": "markdown",
   "id": "import_cell",
   "metadata": {
    "papermill": {},
    "tags": []
   },
   "source": [
    "### Import libraries"
   ]
  },
  {
   "cell_type": "code",
   "execution_count": null,
   "id": "stopped-yeast",
   "metadata": {
    "papermill": {},
    "tags": []
   },
   "outputs": [],
   "source": [
    "from naas_drivers import emailbuilder, gsheet\n",
    "import naas\n",
    "import os\n",
    "import naas_data_product\n",
    "from datetime import date, datetime, timedelta\n",
    "import pandas as pd"
   ]
  },
  {
   "cell_type": "markdown",
   "id": "b65667cb-300f-48d7-9df0-c602fe004a36",
   "metadata": {
    "papermill": {},
    "tags": []
   },
   "source": [
    "### Setup variables\n",
    "**Inputs**\n",
    "- `spreadsheet_url`: Google Sheets spreadsheet URL.\n",
    "- `sheet_name`: Google Sheets sheet name.\n",
    "- `input_dir`: Input directory to retrieve file from.\n",
    "- `datalake_dir`: Datalake directory to retrieve plugin json file.\n",
    "\n",
    "**Outputs**\n",
    "- `output_dir`: This variable holds a relative path to the directory where output files will be stored. \n",
    "- `email_to`: This variable is used for storing a list of email addresses that will receive the notification email."
   ]
  },
  {
   "cell_type": "code",
   "execution_count": null,
   "id": "absent-coach",
   "metadata": {
    "papermill": {},
    "tags": [
     "parameters"
    ]
   },
   "outputs": [],
   "source": [
    "# Inputs\n",
    "input_dir = os.path.join(naas_data_product.OUTPUTS_PATH, \"sales-engine\", date.today().isoformat())\n",
    "spreadsheet_url = naas.secret.get(\"ABI_SPREADSHEET\") or \"YOUR_GOOGLE_SPREADSHEET_URL\"\n",
    "sheet_name_input = \"DEALS\"\n",
    "datalake_dir = naas_data_product.OUTPUTS_PATH\n",
    "input_file = \"deals\"\n",
    "input_image = \"deals_trend.png\"\n",
    "input_html = \"deals_trend.html\"\n",
    "\n",
    "# Outputs\n",
    "output_dir = os.path.join(naas_data_product.OUTPUTS_PATH, \"sales-engine\", date.today().isoformat())\n",
    "email_to = pload(os.path.join(naas_data_product.OUTPUTS_PATH, \"entity\"), \"emails\") or \"\""
   ]
  },
  {
   "cell_type": "markdown",
   "id": "particular-chemical",
   "metadata": {
    "papermill": {},
    "tags": []
   },
   "source": [
    "## Model"
   ]
  },
  {
   "cell_type": "markdown",
   "id": "7af69f11-cb1e-4ab9-9916-deb65460291d",
   "metadata": {},
   "source": [
    "### Set outputs"
   ]
  },
  {
   "cell_type": "code",
   "execution_count": null,
   "id": "d34192a7-d173-4e3f-bff2-42f8325c9ab6",
   "metadata": {
    "tags": []
   },
   "outputs": [],
   "source": [
    "entity_name = pload(os.path.join(naas_data_product.OUTPUTS_PATH, \"entity\"), \"entity_name\") or \"\"\n",
    "timestamp_email = datetime.now(TIMEZONE).strftime('%Y-%m-%d %H:%M:%S')\n",
    "timestamp_csv = datetime.now(TIMEZONE).strftime('%Y%m%d%H%M%S')\n",
    "email_subject = f\"⚡️ Sales Assistant Report - {entity_name} ({timestamp_email})\"\n",
    "csv_output = os.path.join(output_dir, f\"{timestamp_csv}_{TW}_sales-assistant-report_{entity_name.lower().replace(' ', '_')}.csv\")\n",
    "print(\"- CSV output:\", csv_output)"
   ]
  },
  {
   "cell_type": "markdown",
   "id": "b5254dba-1db5-46f4-b81d-a067192a94de",
   "metadata": {},
   "source": [
    "### Get assets"
   ]
  },
  {
   "cell_type": "code",
   "execution_count": null,
   "id": "b88fe016-8cd3-45c1-a7f7-e2fdc00d306d",
   "metadata": {
    "tags": []
   },
   "outputs": [],
   "source": [
    "image_url = get_image_asset(input_dir, input_image)\n",
    "print(\"Image URL:\", image_url)\n",
    "\n",
    "image_html = get_image_asset(input_dir, input_html)\n",
    "print(\"Image HTML:\", image_html)\n",
    "\n",
    "plugin_url = naas.asset.find(os.path.join(datalake_dir, \"plugins\", \"⚡️_sales_assitant.json\"))\n",
    "print(\"Plugin URL:\", plugin_url)"
   ]
  },
  {
   "cell_type": "markdown",
   "id": "129edb3f-476a-4d54-9c0c-55bb3746a58f",
   "metadata": {
    "papermill": {},
    "tags": []
   },
   "source": [
    "### Get deals"
   ]
  },
  {
   "cell_type": "code",
   "execution_count": null,
   "id": "b099025f-c9bb-4063-af80-09c0eed6ec6d",
   "metadata": {
    "papermill": {},
    "tags": []
   },
   "outputs": [],
   "source": [
    "df_input = pload(input_dir, input_file)    \n",
    "if df_input is None:\n",
    "    df_input = gsheet.connect(spreadsheet_url).get(sheet_name=sheet_name_input)\n",
    "\n",
    "# Filter on this week and last week\n",
    "df_input = df_input[df_input[\"SCENARIO\"].isin([TW, LW])]\n",
    "\n",
    "# Display result\n",
    "df_input.to_csv(csv_output, index=False)\n",
    "print(\"Rows:\", len(df_input))\n",
    "df_input.head(1)"
   ]
  },
  {
   "cell_type": "markdown",
   "id": "39e737d2-e621-4bc3-827a-2b4d4a54d076",
   "metadata": {},
   "source": [
    "### Get today's new deals"
   ]
  },
  {
   "cell_type": "code",
   "execution_count": null,
   "id": "b110c3a3-088f-4366-a07d-bda33ab3c202",
   "metadata": {
    "tags": []
   },
   "outputs": [],
   "source": [
    "df_today = df_input.copy()\n",
    "df_today[\"DEAL_CREATED_DATE\"] = pd.to_datetime(df_today[\"DEAL_CREATED_DATE\"].str[:19])\n",
    "df_today = df_today[df_today[\"DEAL_CREATED_DATE\"] == date.today().isoformat()]\n",
    "print(\"New deals:\", len(df_today))"
   ]
  },
  {
   "cell_type": "markdown",
   "id": "a1ef3100-42ff-4843-864a-411e911479b5",
   "metadata": {},
   "source": [
    "### Prep companies for email"
   ]
  },
  {
   "cell_type": "code",
   "execution_count": null,
   "id": "b7e91a86-8e8b-40f5-9c3c-af37a19cc012",
   "metadata": {
    "tags": []
   },
   "outputs": [],
   "source": [
    "df_companies = df_today.copy()\n",
    "\n",
    "staff_maping = {\n",
    "    \"Solopreneur\": 1,\n",
    "    \"Micro Team\": 2,\n",
    "    \"Small Company\": 3,\n",
    "    \"Medium Company\": 4,\n",
    "    \"Large Company\": 5,\n",
    "    \"Enterprise Level\": 6,\n",
    "    \"Major Corporation\": 7,\n",
    "    \"Global Corporation\": 8,\n",
    "    \"Mega Corporation\": 9,\n",
    "    \"NA\": 0,\n",
    "}\n",
    "\n",
    "to_group = [\n",
    "    \"ORG_NAME\",\n",
    "    \"ORG_LINKEDIN_URL\",\n",
    "    \"ORG_STAFF_RANGE_NAME\",\n",
    "    \"ORG_COUNTRY\",\n",
    "]\n",
    "to_agg = {\n",
    "    \"DEAL_SCORE\": \"sum\"\n",
    "}\n",
    "df_companies = df_companies.groupby(to_group, as_index=False).agg(to_agg)\n",
    "df_companies = df_companies[(df_companies[\"ORG_NAME\"] != \"TBD\") & (df_companies[\"ORG_STAFF_RANGE_NAME\"] != \"NA\")]\n",
    "df_companies[\"ORG_SIZE_ORDER\"] = df_companies[\"ORG_STAFF_RANGE_NAME\"].map(staff_maping)\n",
    "df_companies = df_companies.sort_values(by=[\"ORG_SIZE_ORDER\"], ascending=[False]).reset_index(drop=True)\n",
    "\n",
    "companies = []\n",
    "for x in df_companies[\"ORG_STAFF_RANGE_NAME\"].unique():\n",
    "    company = f\"{x}:\"\n",
    "    tmp_df = df_companies[df_companies[\"ORG_STAFF_RANGE_NAME\"] == x].reset_index(drop=True)\n",
    "    for row in tmp_df.itertuples():\n",
    "        index = row.Index\n",
    "        name = row.ORG_NAME\n",
    "        url = row.ORG_LINKEDIN_URL\n",
    "        company = f\"{company}<ul><a href='{url}'>{name}</a></ul>\"\n",
    "    companies.append(company)\n",
    "if len(companies) == 0:\n",
    "    companies = [\"\"]\n",
    "print(companies)"
   ]
  },
  {
   "cell_type": "markdown",
   "id": "8a378bf8-733e-4726-a072-45fec132eb81",
   "metadata": {},
   "source": [
    "### Prep messagings option for email"
   ]
  },
  {
   "cell_type": "code",
   "execution_count": null,
   "id": "38d8276d-eb40-477e-a3c2-585487580041",
   "metadata": {
    "tags": []
   },
   "outputs": [],
   "source": [
    "df_messagings = df_today.copy()\n",
    "\n",
    "messagings = []\n",
    "for row in df_messagings.itertuples():\n",
    "    index = row.Index\n",
    "    fullname = row.PEOPLE_FULLNAME\n",
    "    profile_url = row.PEOPLE_PROFILE_URL\n",
    "    occupation = row.PEOPLE_OCCUPATION\n",
    "    company = row.ORG_NAME\n",
    "    messagings_options = row.MESSAGING_OPTIONS\n",
    "    if messagings_options != \"TBD\":\n",
    "        option1 = messagings_options.split('1.')[1].split('2.')[0]\n",
    "        option2 = messagings_options.split('2.')[1].split('3.')[0]\n",
    "        option3 = messagings_options.split('3.')[1]\n",
    "        messagings.append(f\"<a href='{profile_url}'>{fullname}</a> - '{occupation}' at {company}:<br><span style='font-size: 14px;'><ul>1.{option1}</ul><ul>2.{option2}</ul><ul>3.{option3}</ul></span>\") \n",
    "    else:\n",
    "        messagings.append(f\"<a href='{profile_url}'>{fullname}</a> - '{occupation}' at {company}\")\n",
    "if len(messagings) == 0:\n",
    "    messagings = [\"\"]\n",
    "print(messagings)"
   ]
  },
  {
   "cell_type": "markdown",
   "id": "c8a69d2e-43c4-4d60-b333-63ba379f4017",
   "metadata": {},
   "source": [
    "### Create Email brief"
   ]
  },
  {
   "cell_type": "code",
   "execution_count": null,
   "id": "08679f52-a01a-4146-9755-4108030b7a63",
   "metadata": {
    "tags": []
   },
   "outputs": [],
   "source": [
    "def email_brief(\n",
    "    companies,\n",
    "    messagings,\n",
    "    plugin_url,\n",
    "    image_url,\n",
    "    image_html,\n",
    "):\n",
    "    content = {\n",
    "        'heading': \"⚡️ Sales Assistant\",\n",
    "        \"txt_intro\": (\n",
    "            f\"Hi {entity_name.split(' ')[0]},<br><br>\" \"I hope this email finds you well. Here is the latest update on your sales performance.\"\n",
    "        ),\n",
    "        \"title_1\": emailbuilder.text(\n",
    "            \"Overview\", font_size=\"25px\", text_align=\"center\", bold=True\n",
    "        ),\n",
    "        \"image_1\": emailbuilder.image(image_url, image_html),\n",
    "        \"title_2\": emailbuilder.text(\n",
    "            \"Performance\", font_size=\"25px\", text_align=\"center\", bold=True\n",
    "        ),\n",
    "        \"text_2\": emailbuilder.text(\n",
    "            \"Today's new deals:\",\n",
    "            underline=True,\n",
    "        ),\n",
    "        \"list_2\": emailbuilder.list(messagings),\n",
    "        \"text_1\": emailbuilder.text(\n",
    "            \"Companies breadown:\",\n",
    "            underline=True,\n",
    "        ),\n",
    "        \"list_1\": emailbuilder.list(companies),\n",
    "        \"button_1\": emailbuilder.button(\n",
    "            link=(f\"https://naas.ai/chat/use?plugin_url={plugin_url}\"),\n",
    "            text=\"Start Chatting\",\n",
    "            background_color=\"#181a1c\",\n",
    "        ),\n",
    "        \"footer_cs\": emailbuilder.footer_company(naas=True),\n",
    "    }\n",
    "\n",
    "    email_content = emailbuilder.generate(display=\"iframe\", **content)\n",
    "    return email_content\n",
    "\n",
    "\n",
    "email_content = email_brief(\n",
    "    companies,\n",
    "    messagings,\n",
    "    plugin_url,\n",
    "    image_url,\n",
    "    image_html\n",
    ")"
   ]
  },
  {
   "cell_type": "markdown",
   "id": "aging-settlement",
   "metadata": {
    "papermill": {},
    "tags": []
   },
   "source": [
    "## Output"
   ]
  },
  {
   "cell_type": "markdown",
   "id": "display_cell",
   "metadata": {
    "papermill": {},
    "tags": []
   },
   "source": [
    "### Send the email"
   ]
  },
  {
   "cell_type": "code",
   "execution_count": null,
   "id": "fewer-sailing",
   "metadata": {
    "papermill": {},
    "tags": []
   },
   "outputs": [],
   "source": [
    "if len(email_to) > 0:\n",
    "    naas.notification.send(\n",
    "        email_to=email_to,\n",
    "        subject=email_subject,\n",
    "        html=email_content,\n",
    "        files=[csv_output],\n",
    "    )"
   ]
  }
 ],
 "metadata": {
  "kernelspec": {
   "display_name": "Python 3",
   "language": "python",
   "name": "python3"
  },
  "language_info": {
   "codemirror_mode": {
    "name": "ipython",
    "version": 3
   },
   "file_extension": ".py",
   "mimetype": "text/x-python",
   "name": "python",
   "nbconvert_exporter": "python",
   "pygments_lexer": "ipython3",
   "version": "3.9.6"
  },
  "naas": {
   "notebook_id": "a5f1933d-ce28-4c8e-858a-3bb67631a1e1",
   "notebook_path": "Naas/Naas_Emailbuilder_demo.ipynb"
  },
  "papermill": {
   "default_parameters": {},
   "environment_variables": {},
   "parameters": {},
   "version": "2.3.3"
  }
 },
 "nbformat": 4,
 "nbformat_minor": 5
}
