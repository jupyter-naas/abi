{
 "cells": [
  {
   "cell_type": "markdown",
   "id": "6bc9306f-e8ca-4a8b-8281-d81ce4b12818",
   "metadata": {
    "papermill": {},
    "tags": []
   },
   "source": [
    "<img width=\"8%\" alt=\"Naas.png\" src=\"https://raw.githubusercontent.com/jupyter-naas/awesome-notebooks/master/.github/assets/logos/Naas.png\" style=\"border-radius: 15%\">"
   ]
  },
  {
   "cell_type": "markdown",
   "id": "subjective-dialogue",
   "metadata": {
    "papermill": {},
    "tags": []
   },
   "source": [
    "# Naas - Send notification"
   ]
  },
  {
   "cell_type": "markdown",
   "id": "588aefd6-7a2d-4bcd-b06f-351e07199586",
   "metadata": {
    "papermill": {},
    "tags": []
   },
   "source": [
    "**Tags:** #naas #emailbuilder #snippet #operations"
   ]
  },
  {
   "cell_type": "markdown",
   "id": "a4de884f-6e75-4aa3-af33-e77375eb2dc8",
   "metadata": {
    "papermill": {},
    "tags": []
   },
   "source": [
    "**Author:** [Florent Ravenel](https://www.linkedin.com/in/ACoAABCNSioBW3YZHc2lBHVG0E_TXYWitQkmwog/)"
   ]
  },
  {
   "cell_type": "markdown",
   "id": "naas-description",
   "metadata": {
    "papermill": {},
    "tags": [
     "description"
    ]
   },
   "source": [
    "**Description:** This notebook send a notification with your latest posts performance."
   ]
  },
  {
   "cell_type": "markdown",
   "id": "aquatic-smile",
   "metadata": {
    "papermill": {},
    "tags": []
   },
   "source": [
    "## Input"
   ]
  },
  {
   "cell_type": "markdown",
   "id": "import_cell",
   "metadata": {
    "papermill": {},
    "tags": []
   },
   "source": [
    "### Import libraries"
   ]
  },
  {
   "cell_type": "code",
   "execution_count": null,
   "id": "stopped-yeast",
   "metadata": {
    "papermill": {},
    "tags": []
   },
   "outputs": [],
   "source": [
    "from naas_drivers import emailbuilder, gsheet\n",
    "import naas\n",
    "import os\n",
    "import naas_data_product\n",
    "from datetime import date, datetime, timedelta\n",
    "from naas_drivers import naasauth"
   ]
  },
  {
   "cell_type": "markdown",
   "id": "b65667cb-300f-48d7-9df0-c602fe004a36",
   "metadata": {
    "papermill": {},
    "tags": []
   },
   "source": [
    "### Setup variables\n",
    "**Inputs**\n",
    "- `spreadsheet_url`: Google Sheets spreadsheet URL.\n",
    "- `sheet_name`: Google Sheets sheet name.\n",
    "- `input_dir`: Input directory to retrieve file from.\n",
    "- `datalake_dir`: Datalake directory to retrieve plugin json file.\n",
    "\n",
    "**Outputs**\n",
    "- `email_to`: This variable is used for storing a list of email addresses that will receive the notification email. In this case, the list contains the email address of the script user, which is retrieved using the naasauth.connect().user.me().get(\"username\") method.\n",
    "- `subject`: This variable is used for storing the subject of the notification email. In this case, the subject is \"🖼️ Content Engine: LinkedIn profile update\"."
   ]
  },
  {
   "cell_type": "code",
   "execution_count": null,
   "id": "absent-coach",
   "metadata": {
    "papermill": {},
    "tags": [
     "parameters"
    ]
   },
   "outputs": [],
   "source": [
    "# Inputs\n",
    "input_dir = os.path.join(naas_data_product.OUTPUTS_PATH, \"sales-engine\", date.today().isoformat())\n",
    "input_file = \"sales\"\n",
    "input_image = \"sales_trend.png\"\n",
    "input_html = \"sales_trend.html\"\n",
    "datalake_dir = naas_data_product.OUTPUTS_PATH\n",
    "spreadsheet_url = naas.secret.get(\"ABI_SPREADSHEET\") or \"YOUR_GOOGLE_SPREADSHEET_URL\"\n",
    "sheet_name_input = \"SALES\"\n",
    "\n",
    "# Outputs\n",
    "email_to = pload(os.path.join(naas_data_product.OUTPUTS_PATH, \"entity\"), \"emails\") or []\n",
    "entity_name = pload(os.path.join(naas_data_product.OUTPUTS_PATH, \"entity\"), \"entity_name\") or []\n",
    "email_subject = f\"⚡️ Sales Assistant Report - {entity_name} ({datetime.now().strftime('%Y-%m-%d %H:%M:%S')})\"\n",
    "output_dir = os.path.join(naas_data_product.OUTPUTS_PATH, \"content-engine\", date.today().isoformat())\n",
    "csv_output = os.path.join(output_dir, f\"{datetime.now().strftime('%Y%m%d%H%M%S')}_sales-assistant-report_{entity_name.lower().replace(' ', '_')}.csv\")"
   ]
  },
  {
   "cell_type": "markdown",
   "id": "particular-chemical",
   "metadata": {
    "papermill": {},
    "tags": []
   },
   "source": [
    "## Model"
   ]
  },
  {
   "cell_type": "markdown",
   "id": "b5254dba-1db5-46f4-b81d-a067192a94de",
   "metadata": {},
   "source": [
    "### Get assets"
   ]
  },
  {
   "cell_type": "code",
   "execution_count": null,
   "id": "b88fe016-8cd3-45c1-a7f7-e2fdc00d306d",
   "metadata": {
    "tags": []
   },
   "outputs": [],
   "source": [
    "image_url = get_image_asset(input_dir, input_image)\n",
    "print(\"Image URL:\", image_url)\n",
    "\n",
    "image_html = get_image_asset(input_dir, input_html)\n",
    "print(\"Image HTML:\", image_html)\n",
    "\n",
    "plugin_url = naas.asset.find(os.path.join(datalake_dir, \"plugins\", \"🚀_growth_assistant.json\"))\n",
    "print(\"Plugin URL:\", plugin_url)"
   ]
  },
  {
   "cell_type": "markdown",
   "id": "129edb3f-476a-4d54-9c0c-55bb3746a58f",
   "metadata": {
    "papermill": {},
    "tags": []
   },
   "source": [
    "### Get data from Google Sheets spreadsheet"
   ]
  },
  {
   "cell_type": "code",
   "execution_count": null,
   "id": "b099025f-c9bb-4063-af80-09c0eed6ec6d",
   "metadata": {
    "papermill": {},
    "tags": []
   },
   "outputs": [],
   "source": [
    "df_input = pload(input_dir, input_file)    \n",
    "if df_input is None:\n",
    "    df_input = gsheet.connect(spreadsheet_url).get(sheet_name=sheet_name_input)\n",
    "\n",
    "# Filter on this week and last week\n",
    "tw = date.today().strftime(\"W%W-%Y\")\n",
    "lw = (date.today() - timedelta(days=date.today().weekday() + 7)).strftime(\"W%W-%Y\")\n",
    "df_input = df_input[df_input[\"SCENARIO\"].isin([tw, lw])]\n",
    "\n",
    "# Display result\n",
    "df_input.to_csv(csv_output, index=False)\n",
    "print(\"Rows:\", len(df_input))\n",
    "df_input.head(1)"
   ]
  },
  {
   "cell_type": "markdown",
   "id": "a1ef3100-42ff-4843-864a-411e911479b5",
   "metadata": {},
   "source": [
    "### Prep companies for email"
   ]
  },
  {
   "cell_type": "code",
   "execution_count": null,
   "id": "b7e91a86-8e8b-40f5-9c3c-af37a19cc012",
   "metadata": {
    "tags": []
   },
   "outputs": [],
   "source": [
    "staff_maping = {\n",
    "    \"Solopreneur\": 1,\n",
    "    \"Micro Team\": 2,\n",
    "    \"Small Company\": 3,\n",
    "    \"Medium Company\": 4,\n",
    "    \"Large Company\": 5,\n",
    "    \"Enterprise Level\": 6,\n",
    "    \"Major Corporation\": 7,\n",
    "    \"Global Corporation\": 8,\n",
    "    \"Mega Corporation\": 9,\n",
    "    \"NA\": 0,\n",
    "}\n",
    "\n",
    "to_group = [\n",
    "    \"COMPANY_NAME\",\n",
    "    \"COMPANY_URL\",\n",
    "    \"STAFF_RANGE_NAME\",\n",
    "    \"STAFF_COUNT\",\n",
    "    \"COUNTRY\",\n",
    "]\n",
    "to_agg = {\n",
    "    \"INTERACTION_SCORE\": \"sum\"\n",
    "}\n",
    "df_companies = df_input.groupby(to_group, as_index=False).agg(to_agg)\n",
    "df_companies = df_companies[(df_companies[\"COMPANY_NAME\"] != \"TBD\") & (df_companies[\"STAFF_RANGE_NAME\"] != \"NA\")]\n",
    "df_companies.STAFF_COUNT = df_companies.STAFF_COUNT.astype(str).str.replace(\"TBD\", \"0\").astype(int)\n",
    "df_companies[\"COMPANY_SIZE_ORDER\"] = df_companies[\"STAFF_RANGE_NAME\"].map(staff_maping)\n",
    "df_companies = df_companies.sort_values(by=[\"COMPANY_SIZE_ORDER\", \"STAFF_COUNT\"], ascending=[False, False]).reset_index(drop=True)\n",
    "\n",
    "companies = []\n",
    "for x in df_companies[\"STAFF_RANGE_NAME\"].unique():\n",
    "    company = f\"{x}:\"\n",
    "#     print(company)\n",
    "    tmp_df = df_companies[df_companies[\"STAFF_RANGE_NAME\"] == x].reset_index(drop=True)\n",
    "    for row in tmp_df.itertuples():\n",
    "        index = row.Index\n",
    "        name = row.COMPANY_NAME\n",
    "        url = row.COMPANY_URL\n",
    "        company = f\"{company}<ul><a href='{url}'>{name}</a></ul>\"\n",
    "    companies.append(company)"
   ]
  },
  {
   "cell_type": "markdown",
   "id": "8a378bf8-733e-4726-a072-45fec132eb81",
   "metadata": {},
   "source": [
    "### Prep messagings option for email"
   ]
  },
  {
   "cell_type": "code",
   "execution_count": null,
   "id": "38d8276d-eb40-477e-a3c2-585487580041",
   "metadata": {
    "tags": []
   },
   "outputs": [],
   "source": [
    "messagings = []\n",
    "for row in df_input.itertuples():\n",
    "    index = row.Index\n",
    "    fullname = row.FULLNAME\n",
    "    profile_url = row.PROFILE_URL\n",
    "    occupation = row.OCCUPATION\n",
    "    company = row.COMPANY_NAME\n",
    "    messagings_options = row.MESSAGING_OPTIONS\n",
    "    if messagings_options != \"TBD\":\n",
    "        option1 = messagings_options.split('1.')[1].split('2.')[0]\n",
    "        option2 = messagings_options.split('2.')[1].split('3.')[0]\n",
    "        option3 = messagings_options.split('3.')[1]\n",
    "        messagings.append(f\"<a href='{profile_url}'>{fullname}</a> - '{occupation}' at {company}:<br><span style='font-size: 14px;'><ul>1.{option1}</ul><ul>2.{option2}</ul><ul>3.{option3}</ul></span>\") \n",
    "    else:\n",
    "        messagings.append(f\"<a href='{profile_url}'>{fullname}</a> - '{occupation}' at {company}\")"
   ]
  },
  {
   "cell_type": "markdown",
   "id": "c8a69d2e-43c4-4d60-b333-63ba379f4017",
   "metadata": {},
   "source": [
    "### Create Email brief"
   ]
  },
  {
   "cell_type": "code",
   "execution_count": null,
   "id": "08679f52-a01a-4146-9755-4108030b7a63",
   "metadata": {
    "tags": []
   },
   "outputs": [],
   "source": [
    "def email_brief(\n",
    "    companies,\n",
    "    messagings,\n",
    "    plugin_url,\n",
    "    image_url,\n",
    "    image_html,\n",
    "):\n",
    "    content = {\n",
    "        'heading': \"⚡️ Sales Assistant\",\n",
    "        \"txt_intro\": (\n",
    "            f\"Hi {entity_name.split(' ')[0]},<br><br>\" \"I hope this email finds you well. Here is the latest update on your sales performance.\"\n",
    "        ),\n",
    "        \"title_1\": emailbuilder.text(\n",
    "            \"Overview\", font_size=\"25px\", text_align=\"center\", bold=True\n",
    "        ),\n",
    "        \"image_1\": emailbuilder.image(image_url, image_html),\n",
    "        \"title_2\": emailbuilder.text(\n",
    "            \"Performance\", font_size=\"25px\", text_align=\"center\", bold=True\n",
    "        ),\n",
    "        \"text_1\": emailbuilder.text(\n",
    "            \"Companies breadown:\",\n",
    "            underline=True,\n",
    "        ),\n",
    "        \"list_1\": emailbuilder.list(companies),\n",
    "        \"text_2\": emailbuilder.text(\n",
    "            \"New sales qualified leads:\",\n",
    "            underline=True,\n",
    "        ),\n",
    "        \"list_2\": emailbuilder.list(messagings),\n",
    "        \"button_1\": emailbuilder.button(\n",
    "            link=(f\"https://naas.ai/chat/use?plugin_url={plugin_url}\"),\n",
    "            text=\"Start Chatting\",\n",
    "            background_color=\"#181a1c\",\n",
    "        ),\n",
    "        \"footer_cs\": emailbuilder.footer_company(naas=True),\n",
    "    }\n",
    "\n",
    "    email_content = emailbuilder.generate(display=\"iframe\", **content)\n",
    "    return email_content\n",
    "\n",
    "\n",
    "email_content = email_brief(\n",
    "    companies,\n",
    "    messagings,\n",
    "    plugin_url,\n",
    "    image_url,\n",
    "    image_html\n",
    ")"
   ]
  },
  {
   "cell_type": "markdown",
   "id": "aging-settlement",
   "metadata": {
    "papermill": {},
    "tags": []
   },
   "source": [
    "## Output"
   ]
  },
  {
   "cell_type": "markdown",
   "id": "display_cell",
   "metadata": {
    "papermill": {},
    "tags": []
   },
   "source": [
    "### Send the email"
   ]
  },
  {
   "cell_type": "code",
   "execution_count": null,
   "id": "fewer-sailing",
   "metadata": {
    "papermill": {},
    "tags": []
   },
   "outputs": [],
   "source": [
    "naas.notification.send(\n",
    "    email_to=email_to,\n",
    "    subject=email_subject,\n",
    "    html=email_content,\n",
    "    files=[csv_output],\n",
    ")"
   ]
  }
 ],
 "metadata": {
  "kernelspec": {
   "display_name": "Python 3",
   "language": "python",
   "name": "python3"
  },
  "language_info": {
   "codemirror_mode": {
    "name": "ipython",
    "version": 3
   },
   "file_extension": ".py",
   "mimetype": "text/x-python",
   "name": "python",
   "nbconvert_exporter": "python",
   "pygments_lexer": "ipython3",
   "version": "3.9.6"
  },
  "naas": {
   "notebook_id": "a5f1933d-ce28-4c8e-858a-3bb67631a1e1",
   "notebook_path": "Naas/Naas_Emailbuilder_demo.ipynb"
  },
  "papermill": {
   "default_parameters": {},
   "environment_variables": {},
   "parameters": {},
   "version": "2.3.3"
  }
 },
 "nbformat": 4,
 "nbformat_minor": 5
}
