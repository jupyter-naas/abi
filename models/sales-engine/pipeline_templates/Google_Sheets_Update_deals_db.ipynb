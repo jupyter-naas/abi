{
 "cells": [
  {
   "cell_type": "markdown",
   "id": "international-creativity",
   "metadata": {
    "papermill": {},
    "tags": []
   },
   "source": [
    "<img width=\"8%\" alt=\"Google Sheets.png\" src=\"https://raw.githubusercontent.com/jupyter-naas/awesome-notebooks/master/.github/assets/logos/Google%20Sheets.png\" style=\"border-radius: 15%\">"
   ]
  },
  {
   "cell_type": "markdown",
   "id": "unlimited-bookmark",
   "metadata": {
    "papermill": {},
    "tags": []
   },
   "source": [
    "# Google Sheets - Update deals database"
   ]
  },
  {
   "cell_type": "markdown",
   "id": "tags_cell",
   "metadata": {
    "papermill": {},
    "tags": []
   },
   "source": [
    "**Tags:** #googlesheets #gsheet #data #naas_drivers #sales-engine #automation #deals"
   ]
  },
  {
   "cell_type": "markdown",
   "id": "fbbbbc71-6333-4a70-b371-c9b82f8b5299",
   "metadata": {
    "papermill": {},
    "tags": []
   },
   "source": [
    "**Author:** [Florent Ravenel](https://www.linkedin.com/in/florent-ravenel/)"
   ]
  },
  {
   "cell_type": "markdown",
   "id": "naas-description",
   "metadata": {
    "papermill": {},
    "tags": [
     "description"
    ]
   },
   "source": [
    "**Description:** This notebook updates \"Deals\" database."
   ]
  },
  {
   "cell_type": "markdown",
   "id": "input_cell",
   "metadata": {
    "papermill": {},
    "tags": []
   },
   "source": [
    "## Input"
   ]
  },
  {
   "cell_type": "markdown",
   "id": "55d9e878-2148-47e3-a13d-09ba77202893",
   "metadata": {
    "papermill": {},
    "tags": []
   },
   "source": [
    "### Import libraries"
   ]
  },
  {
   "cell_type": "code",
   "execution_count": null,
   "id": "5fad521a-4a18-4dc7-b13d-98a37172715b",
   "metadata": {
    "papermill": {},
    "tags": []
   },
   "outputs": [],
   "source": [
    "from naas_drivers import gsheet\n",
    "import pandas as pd\n",
    "import os\n",
    "from datetime import date\n",
    "import naas_data_product\n",
    "import time"
   ]
  },
  {
   "cell_type": "markdown",
   "id": "ec39e794-a8cd-41b8-9489-9ddb962a601c",
   "metadata": {
    "papermill": {},
    "tags": []
   },
   "source": [
    "### Setup variables\n",
    "**Inputs**\n",
    "- `spreadsheet_url`: Google Sheets spreadsheet URL.\n",
    "- `sheet_name_input`: Google Sheets sheet name storing growth data.\n",
    "\n",
    "**Outputs**\n",
    "- `output_dir`: Output directory to save file to.\n",
    "- `file_sales`: Output file name to save as picke.\n",
    "- `sheet_name_output`: Google Sheets sheet name storing sales qualified leads."
   ]
  },
  {
   "cell_type": "code",
   "execution_count": null,
   "id": "7c34bff6-9136-4aaf-a692-b38129b7de83",
   "metadata": {
    "papermill": {},
    "tags": [
     "parameters"
    ]
   },
   "outputs": [],
   "source": [
    "# Inputs\n",
    "spreadsheet_url = naas.secret.get(\"ABI_SPREADSHEET\") or \"YOUR_GOOGLE_SPREADSHEET_URL\"\n",
    "sheet_name_input = \"CONTACTS\"\n",
    "\n",
    "# Outputs\n",
    "output_dir = os.path.join(naas_data_product.OUTPUTS_PATH, \"sales-engine\", date.today().isoformat())\n",
    "file_deals = \"deals\"\n",
    "sheet_name_output = \"DEALS\""
   ]
  },
  {
   "cell_type": "markdown",
   "id": "model_cell",
   "metadata": {
    "papermill": {},
    "tags": []
   },
   "source": [
    "## Model"
   ]
  },
  {
   "cell_type": "markdown",
   "id": "9ee10d03-43d6-4579-bb53-76744f017e9c",
   "metadata": {},
   "source": [
    "### Get deals"
   ]
  },
  {
   "cell_type": "code",
   "execution_count": null,
   "id": "3b560788-95bd-4c1b-81cc-d6aee4006344",
   "metadata": {
    "tags": []
   },
   "outputs": [],
   "source": [
    "df_init = gsheet.connect(spreadsheet_url).get(sheet_name=sheet_name_output)\n",
    "if not isinstance(df_init, pd.DataFrame):\n",
    "    df_init = pd.DataFrame()\n",
    "print(\"- Deals (init):\", len(df_init))\n",
    "# df_init.head(3)"
   ]
  },
  {
   "cell_type": "markdown",
   "id": "4aa0143a-9b13-4fcb-a455-77ae93ce7a81",
   "metadata": {},
   "source": [
    "### Get contacts view"
   ]
  },
  {
   "cell_type": "code",
   "execution_count": null,
   "id": "8dce7a75-8e97-4843-a0a6-7b51f01fb030",
   "metadata": {
    "tags": []
   },
   "outputs": [],
   "source": [
    "df_contacts = gsheet.connect(spreadsheet_url).get(sheet_name=sheet_name_input)\n",
    "if not isinstance(df_contacts, pd.DataFrame):\n",
    "    df_contacts = pd.DataFrame()\n",
    "print(\"- Contacts view:\", len(df_contacts))\n",
    "# df_contacts.head(3)"
   ]
  },
  {
   "cell_type": "markdown",
   "id": "4ef1a431-e387-4cc2-832c-6f10f486cc26",
   "metadata": {},
   "source": [
    "### Get data from ENTITY spreadsheet"
   ]
  },
  {
   "cell_type": "code",
   "execution_count": null,
   "id": "4a6e5123-eb87-4a75-bff3-175574348c0d",
   "metadata": {
    "tags": []
   },
   "outputs": [],
   "source": [
    "df_gsheet = gsheet.connect(spreadsheet_url).get(sheet_name=\"ENTITY\").fillna(\"NA\")\n",
    "# df_gsheet.head(1)"
   ]
  },
  {
   "cell_type": "markdown",
   "id": "739a63fb-fd47-47c7-be14-64849279a1e7",
   "metadata": {},
   "source": [
    "### Create deals database"
   ]
  },
  {
   "cell_type": "code",
   "execution_count": null,
   "id": "090ff963-8f6f-4c4b-bb9d-55f9d4209e50",
   "metadata": {
    "tags": []
   },
   "outputs": [],
   "source": [
    "def get_list(df, column):\n",
    "    filters = []\n",
    "    values = df.loc[0, column].split(\",\")\n",
    "    if len(values) > 0:\n",
    "        filters = [v.strip() for v in values]\n",
    "    return filters\n",
    "\n",
    "def create_db_deals(\n",
    "    df_init,\n",
    "    df_gsheet\n",
    "):\n",
    "    # Get filters from gsheet\n",
    "    filter_seniority = get_list(df_gsheet, \"ICP_SENIORITY\")\n",
    "    filter_department = get_list(df_gsheet, \"ICP_DEPARTMENT\")\n",
    "    filter_org_staff_range = get_list(df_gsheet, \"ICP_ORG_STAFF_RANGE\")\n",
    "    filter_org_industry = get_list(df_gsheet, \"ICP_ORG_INDUSTRY\")\n",
    "    print(\"Seniority:\", filter_seniority)\n",
    "    print()\n",
    "    print(\"Department:\", filter_department)\n",
    "    print()\n",
    "    print(\"Staff Range:\", filter_org_staff_range)\n",
    "    print()\n",
    "    print(\"Industry:\", filter_org_industry)\n",
    "    print()\n",
    "    \n",
    "    # Init\n",
    "    df = df_init.copy()\n",
    "    \n",
    "    # Filter data\n",
    "    if filter_org_industry[0] == \"NA\":\n",
    "        filter_org_industry = df[\"ORG_INDUSTRY\"].unique().tolist()\n",
    "    df = df[\n",
    "        (df[\"LEAD_STATUS\"].isin([\"Sales Qualified Lead\"])) &\n",
    "        (df[\"PEOPLE_SENIORITY\"].isin(filter_seniority)) &\n",
    "        (df[\"PEOPLE_DEPARTMENT\"].isin(filter_department)) & \n",
    "        (df[\"ORG_STAFF_RANGE_NAME\"].isin(filter_org_staff_range)) & \n",
    "        (df[\"ORG_INDUSTRY\"].isin(filter_org_industry))\n",
    "    ]\n",
    "    df[\"SCENARIO\"] = pd.to_datetime(df[\"SQL_DATE\"].str[:19]).dt.strftime(\"W%W-%Y\")\n",
    "    df[\"DEAL_NAME\"] = df[\"PEOPLE_FULLNAME\"] + \" (\" + df[\"ORG_NAME\"] + \")\"\n",
    "    df[\"DEAL_SCORE\"] = df[\"PEOPLE_INTERACTION_SCORE\"].astype(int) + df[\"ORG_INTERACTION_SCORE\"].astype(int)\n",
    "    df[\"CRM_DEAL_ID\"] = \"TBD\"\n",
    "    \n",
    "    # Cleaning\n",
    "    to_order = [\n",
    "        \"SCENARIO\",\n",
    "        \"DEAL_NAME\",\n",
    "        \"SQL_DATE\",\n",
    "        \"DEAL_SCORE\",\n",
    "        \"PEOPLE_FULLNAME\",\n",
    "        \"PEOPLE_OCCUPATION\",\n",
    "        \"PEOPLE_SENIORITY\",\n",
    "        \"PEOPLE_DEPARTMENT\",\n",
    "        \"MESSAGING_OPTIONS\",\n",
    "        \"ORG_NAME\",\n",
    "        \"ORG_STAFF_RANGE_NAME\",\n",
    "        \"ORG_INDUSTRY\",\n",
    "        'ORG_COUNTRY',\n",
    "        'PEOPLE_PROFILE_URL',\n",
    "        'ORG_LINKEDIN_URL',\n",
    "        \"CRM_CONTACT_ID\",\n",
    "        \"CRM_ORG_ID\",\n",
    "        \"CRM_DEAL_ID\"\n",
    "    ]\n",
    "    to_rename = {\n",
    "        \"SQL_DATE\": \"DEAL_CREATED_DATE\",\n",
    "    }\n",
    "    df = df[to_order].rename(columns=to_rename).sort_values(by=\"DEAL_CREATED_DATE\", ascending=False)\n",
    "    return df.reset_index(drop=True)\n",
    "\n",
    "db_deals = create_db_deals(\n",
    "    df_contacts,\n",
    "    df_gsheet\n",
    ")\n",
    "print(\"- Deals:\", len(db_deals))\n",
    "db_deals.head(3)"
   ]
  },
  {
   "cell_type": "markdown",
   "id": "output_cell",
   "metadata": {
    "papermill": {},
    "tags": []
   },
   "source": [
    "## Output"
   ]
  },
  {
   "cell_type": "markdown",
   "id": "7c35edb2-0629-4637-8076-e44e5677fb52",
   "metadata": {},
   "source": [
    "### Save data"
   ]
  },
  {
   "cell_type": "code",
   "execution_count": null,
   "id": "3d825d28-b328-4f6b-89e5-abb48efd2694",
   "metadata": {
    "tags": []
   },
   "outputs": [],
   "source": [
    "pdump(output_dir, db_deals, file_deals)"
   ]
  },
  {
   "cell_type": "markdown",
   "id": "28b11537-6391-4022-b55d-dd1f84cbe97f",
   "metadata": {
    "papermill": {},
    "tags": []
   },
   "source": [
    "### Send data to Google Sheets spreadsheet"
   ]
  },
  {
   "cell_type": "code",
   "execution_count": null,
   "id": "32e91b35-c1f8-4fe6-ae78-a2d4b79c8be7",
   "metadata": {
    "papermill": {},
    "tags": []
   },
   "outputs": [],
   "source": [
    "df_check = pd.concat([db_deals.astype(str), df_init.astype(str)]).drop_duplicates(keep=False)\n",
    "if len(df_check) > 0:\n",
    "    gsheet.connect(spreadsheet_url).send(sheet_name=sheet_name_output, data=db_deals, append=False)\n",
    "else:\n",
    "    print(\"Noting to update in Google Sheets!\")   "
   ]
  },
  {
   "cell_type": "code",
   "execution_count": null,
   "id": "13cc4241-9a56-4495-9369-bf3de2bcfb42",
   "metadata": {},
   "outputs": [],
   "source": []
  }
 ],
 "metadata": {
  "kernelspec": {
   "display_name": "Python 3",
   "language": "python",
   "name": "python3"
  },
  "language_info": {
   "codemirror_mode": {
    "name": "ipython",
    "version": 3
   },
   "file_extension": ".py",
   "mimetype": "text/x-python",
   "name": "python",
   "nbconvert_exporter": "python",
   "pygments_lexer": "ipython3",
   "version": "3.9.6"
  },
  "naas": {
   "notebook_id": "cf32ecf61a1d6fdcae3273e7e70026564087776ace44ace0a939c08a2085586f",
   "notebook_path": "Google Sheets/Google_Sheets_Send_data.ipynb"
  },
  "papermill": {
   "default_parameters": {},
   "environment_variables": {},
   "parameters": {},
   "version": "2.3.3"
  }
 },
 "nbformat": 4,
 "nbformat_minor": 5
}
