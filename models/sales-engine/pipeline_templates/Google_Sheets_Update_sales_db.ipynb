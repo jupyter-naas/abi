{
 "cells": [
  {
   "cell_type": "markdown",
   "id": "international-creativity",
   "metadata": {
    "papermill": {},
    "tags": []
   },
   "source": [
    "<img width=\"8%\" alt=\"Google Sheets.png\" src=\"https://raw.githubusercontent.com/jupyter-naas/awesome-notebooks/master/.github/assets/logos/Google%20Sheets.png\" style=\"border-radius: 15%\">"
   ]
  },
  {
   "cell_type": "markdown",
   "id": "unlimited-bookmark",
   "metadata": {
    "papermill": {},
    "tags": []
   },
   "source": [
    "# Google Sheets - Update BDD Sales"
   ]
  },
  {
   "cell_type": "markdown",
   "id": "tags_cell",
   "metadata": {
    "papermill": {},
    "tags": []
   },
   "source": [
    "**Tags:** #googlesheets #gsheet #data #naas_drivers #sales-engine #automation"
   ]
  },
  {
   "cell_type": "markdown",
   "id": "fbbbbc71-6333-4a70-b371-c9b82f8b5299",
   "metadata": {
    "papermill": {},
    "tags": []
   },
   "source": [
    "**Author:** [Florent Ravenel](https://www.linkedin.com/in/florent-ravenel/)"
   ]
  },
  {
   "cell_type": "markdown",
   "id": "naas-description",
   "metadata": {
    "papermill": {},
    "tags": [
     "description"
    ]
   },
   "source": [
    "**Description:** This notebook updates \"Sales\" database."
   ]
  },
  {
   "cell_type": "markdown",
   "id": "input_cell",
   "metadata": {
    "papermill": {},
    "tags": []
   },
   "source": [
    "## Input"
   ]
  },
  {
   "cell_type": "markdown",
   "id": "55d9e878-2148-47e3-a13d-09ba77202893",
   "metadata": {
    "papermill": {},
    "tags": []
   },
   "source": [
    "### Import libraries"
   ]
  },
  {
   "cell_type": "code",
   "execution_count": null,
   "id": "5fad521a-4a18-4dc7-b13d-98a37172715b",
   "metadata": {
    "papermill": {},
    "tags": []
   },
   "outputs": [],
   "source": [
    "from naas_drivers import gsheet\n",
    "import pandas as pd\n",
    "import os\n",
    "from datetime import date\n",
    "import naas_data_product\n",
    "try:\n",
    "    import openai\n",
    "except:\n",
    "    !pip install openai --user\n",
    "    import openai\n",
    "import time"
   ]
  },
  {
   "cell_type": "markdown",
   "id": "ec39e794-a8cd-41b8-9489-9ddb962a601c",
   "metadata": {
    "papermill": {},
    "tags": []
   },
   "source": [
    "### Setup variables\n",
    "**Inputs**\n",
    "- `input_dir`: Input directory to retrieve file from.\n",
    "- `file_reactions`: Name of the file with reactions to be retrieved.\n",
    "- `file_comments`: Name of the file with comments to be retrieved.\n",
    "\n",
    "**Outputs**\n",
    "- `spreadsheet_url`: Google Sheets spreadsheet URL.\n",
    "- `sheet_name`: Google Sheets sheet name.\n",
    "- `append`: If False, data will be canceled and replaced."
   ]
  },
  {
   "cell_type": "code",
   "execution_count": null,
   "id": "7c34bff6-9136-4aaf-a692-b38129b7de83",
   "metadata": {
    "papermill": {},
    "tags": [
     "parameters"
    ]
   },
   "outputs": [],
   "source": [
    "# Inputs\n",
    "input_dir = os.path.join(naas_data_product.OUTPUTS_PATH, \"sales-engine\", date.today().isoformat())\n",
    "file_name = \"sales\"\n",
    "openai_api_key = naas.secret.get(\"OPENAI_API_KEY\")\n",
    "spreadsheet_url = naas.secret.get(\"ABI_SPREADSHEET\") or \"YOUR_GOOGLE_SPREADSHEET_URL\"\n",
    "sheet_name_input = \"GROWTH\"\n",
    "ref_contact_name = \"LEADS\"\n",
    "ref_company_name = \"LEADS_COMPANIES\"\n",
    "\n",
    "# Outputs\n",
    "sheet_name_output = \"SALES\"\n",
    "append = False"
   ]
  },
  {
   "cell_type": "markdown",
   "id": "model_cell",
   "metadata": {
    "papermill": {},
    "tags": []
   },
   "source": [
    "## Model"
   ]
  },
  {
   "cell_type": "markdown",
   "id": "b82dbc1b-acf3-4e44-8dac-e4f631787afa",
   "metadata": {
    "papermill": {},
    "tags": []
   },
   "source": [
    "### Get data \"GROWTH\" from Google Sheets spreadsheet"
   ]
  },
  {
   "cell_type": "code",
   "execution_count": null,
   "id": "34407369-03a1-45c4-9768-03222224612b",
   "metadata": {
    "papermill": {},
    "tags": []
   },
   "outputs": [],
   "source": [
    "df_input = gsheet.connect(spreadsheet_url).get(sheet_name=sheet_name_input)\n",
    "print(\"Rows:\", len(df_input))\n",
    "df_input.head(1)"
   ]
  },
  {
   "cell_type": "markdown",
   "id": "d367c280-f135-46fa-97d1-658bcc8d1151",
   "metadata": {},
   "source": [
    "### Get data \"REF_CONTACT\" from Google Sheets spreadsheet"
   ]
  },
  {
   "cell_type": "code",
   "execution_count": null,
   "id": "dea448c1-0787-42dc-b458-e1cd2d04a3c5",
   "metadata": {
    "tags": []
   },
   "outputs": [],
   "source": [
    "ref_contact = gsheet.connect(spreadsheet_url).get(sheet_name=ref_contact_name)\n",
    "print(\"Ref. contact:\", len(ref_contact))\n",
    "ref_contact.head(1)"
   ]
  },
  {
   "cell_type": "markdown",
   "id": "9c674dd1-7725-4cf2-abca-cff12d5c73d6",
   "metadata": {},
   "source": [
    "### Get data \"REF_COMPANY\" from Google Sheets spreadsheet"
   ]
  },
  {
   "cell_type": "code",
   "execution_count": null,
   "id": "ba934fa2-992e-4dd3-98d5-db5ff6d63cd4",
   "metadata": {
    "tags": []
   },
   "outputs": [],
   "source": [
    "ref_company = gsheet.connect(spreadsheet_url).get(sheet_name=ref_company_name)\n",
    "print(\"Ref. company:\", len(ref_company))\n",
    "ref_company.head(1)"
   ]
  },
  {
   "cell_type": "markdown",
   "id": "739a63fb-fd47-47c7-be14-64849279a1e7",
   "metadata": {},
   "source": [
    "### Create Sales dataframe"
   ]
  },
  {
   "cell_type": "code",
   "execution_count": null,
   "id": "6823374f-9255-4e54-a125-c8be746acdd4",
   "metadata": {
    "tags": []
   },
   "outputs": [],
   "source": [
    "df = df_input.copy()\n",
    "\n",
    "# Groupby\n",
    "to_group = [\n",
    "    \"ENTITY\",\n",
    "    \"SCENARIO\",\n",
    "    \"LAST_INTERACTION_DATE\",\n",
    "    \"PROFILE_URL\",\n",
    "]\n",
    "to_agg = {\n",
    "    \"INTERACTION_SCORE\": \"sum\"\n",
    "}\n",
    "df = df.groupby(to_group, as_index=False).agg(to_agg)\n",
    "df = df.sort_values(by=[\"SCENARIO\"], ascending=[True]).reset_index(drop=True)\n",
    "\n",
    "# Cumsum\n",
    "df[\"INTERACTION_CUM\"] = df.groupby(\"PROFILE_URL\", as_index=False)[\"INTERACTION_SCORE\"].cumsum()\n",
    "\n",
    "# Merge with Ref\n",
    "ref = ref_contact[[\"FULLNAME\", \"OCCUPATION\", \"PROFILE_URL\", \"ICP\", \"COMPANY\", \"CRM_CONTACT\"]]\n",
    "df = pd.merge(df, ref, how=\"left\")\n",
    "df = df[(df[\"COMPANY\"] != \"TBD\")]\n",
    "\n",
    "ref2 = ref_company[[\"COMPANY\", \"COMPANY_NAME\", \"INDUSTRY\", \"STAFF_COUNT\", \"STAFF_RANGE\", \"COUNTRY\"]]\n",
    "df = pd.merge(df, ref2, how=\"left\", left_on=\"COMPANY\", right_on=\"COMPANY\").fillna(\"NA\")\n",
    "\n",
    "# Filter data\n",
    "df = df[\n",
    "    (df[\"INTERACTION_CUM\"] >= 3) &\n",
    "    (df[\"COMPANY_NAME\"] != \"NA\") &\n",
    "    (~df[\"ICP\"].isin([\"NotICP\", \"NA\"])) & \n",
    "    (df[\"CRM_CONTACT\"].astype(str) == \"False\")\n",
    "].drop_duplicates(\"PROFILE_URL\")\n",
    "\n",
    "# Cleaning\n",
    "to_order = [\n",
    "    \"ENTITY\",\n",
    "    \"SCENARIO\",\n",
    "    \"LAST_INTERACTION_DATE\",\n",
    "    \"FULLNAME\",\n",
    "    \"OCCUPATION\",\n",
    "    \"ICP\",\n",
    "    \"COMPANY_NAME\",\n",
    "    \"INDUSTRY\",\n",
    "    \"STAFF_COUNT\",\n",
    "    \"STAFF_RANGE\",\n",
    "    \"COUNTRY\",\n",
    "    \"PROFILE_URL\",\n",
    "    \"INTERACTION_CUM\",\n",
    "]\n",
    "to_rename = {\n",
    "    \"LAST_INTERACTION_DATE\": \"DATE\",\n",
    "    \"INTERACTION_CUM\": \"INTERACTION_SCORE\"\n",
    "}\n",
    "df = df[to_order].rename(columns=to_rename)\n",
    "df = df.sort_values(by=[\"SCENARIO\", \"INTERACTION_SCORE\"], ascending=[False, False]).reset_index(drop=True)\n",
    "\n",
    "# # Prepare messaging\n",
    "if not \"MESSAGING_OPTIONS\" in df.columns:\n",
    "    df[\"MESSAGING_OPTIONS\"] = \"NA\"\n",
    "    \n",
    "prompt_messaging = \"Based on the following contact data, create 3 messaging options to engage with the person on LinkedIn, be brief, concise, casual but professional\"\n",
    "messagings = pload(input_dir, \"messagings\")\n",
    "if messagings is None:\n",
    "    messagings = {}\n",
    "# for x in df[\"PROFILE_URL\"].unique():\n",
    "#     if x not in messagings:\n",
    "#         print(\"Messaging for:\", x)\n",
    "#         contact = ref_contact[ref_contact[\"PROFILE_URL\"] == x].reset_index(drop=True)\n",
    "#         messaging = create_chat_completion(openai_api_key, prompt_messaging, str(contact.to_dict()))\n",
    "#         messagings[x] = messaging\n",
    "#         pdump(input_dir, messagings, \"messagings\")\n",
    "        \n",
    "df[\"MESSAGING_OPTIONS\"] = df[\"PROFILE_URL\"].map(messagings).fillna(\"NA\")\n",
    "\n",
    "# Display result\n",
    "print(\"Rows:\", len(df))\n",
    "df.head(15)"
   ]
  },
  {
   "cell_type": "markdown",
   "id": "output_cell",
   "metadata": {
    "papermill": {},
    "tags": []
   },
   "source": [
    "## Output"
   ]
  },
  {
   "cell_type": "markdown",
   "id": "28b11537-6391-4022-b55d-dd1f84cbe97f",
   "metadata": {
    "papermill": {},
    "tags": []
   },
   "source": [
    "### Send data to Google Sheets spreadsheet"
   ]
  },
  {
   "cell_type": "code",
   "execution_count": null,
   "id": "32e91b35-c1f8-4fe6-ae78-a2d4b79c8be7",
   "metadata": {
    "papermill": {},
    "tags": []
   },
   "outputs": [],
   "source": [
    "gsheet.connect(spreadsheet_url).send(sheet_name=sheet_name_output, data=df, append=append)"
   ]
  },
  {
   "cell_type": "code",
   "execution_count": null,
   "id": "13cc4241-9a56-4495-9369-bf3de2bcfb42",
   "metadata": {},
   "outputs": [],
   "source": []
  }
 ],
 "metadata": {
  "kernelspec": {
   "display_name": "Python 3",
   "language": "python",
   "name": "python3"
  },
  "language_info": {
   "codemirror_mode": {
    "name": "ipython",
    "version": 3
   },
   "file_extension": ".py",
   "mimetype": "text/x-python",
   "name": "python",
   "nbconvert_exporter": "python",
   "pygments_lexer": "ipython3",
   "version": "3.9.6"
  },
  "naas": {
   "notebook_id": "cf32ecf61a1d6fdcae3273e7e70026564087776ace44ace0a939c08a2085586f",
   "notebook_path": "Google Sheets/Google_Sheets_Send_data.ipynb"
  },
  "papermill": {
   "default_parameters": {},
   "environment_variables": {},
   "parameters": {},
   "version": "2.3.3"
  }
 },
 "nbformat": 4,
 "nbformat_minor": 5
}
