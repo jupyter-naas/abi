{
 "cells": [
  {
   "cell_type": "markdown",
   "id": "international-creativity",
   "metadata": {
    "papermill": {},
    "tags": []
   },
   "source": [
    "<img width=\"8%\" alt=\"Google Sheets.png\" src=\"https://raw.githubusercontent.com/jupyter-naas/awesome-notebooks/master/.github/assets/logos/Google%20Sheets.png\" style=\"border-radius: 15%\">"
   ]
  },
  {
   "cell_type": "markdown",
   "id": "unlimited-bookmark",
   "metadata": {
    "papermill": {},
    "tags": []
   },
   "source": [
    "# Google Sheets - Update BDD Sales"
   ]
  },
  {
   "cell_type": "markdown",
   "id": "tags_cell",
   "metadata": {
    "papermill": {},
    "tags": []
   },
   "source": [
    "**Tags:** #googlesheets #gsheet #data #naas_drivers #sales-engine #automation"
   ]
  },
  {
   "cell_type": "markdown",
   "id": "fbbbbc71-6333-4a70-b371-c9b82f8b5299",
   "metadata": {
    "papermill": {},
    "tags": []
   },
   "source": [
    "**Author:** [Florent Ravenel](https://www.linkedin.com/in/florent-ravenel/)"
   ]
  },
  {
   "cell_type": "markdown",
   "id": "naas-description",
   "metadata": {
    "papermill": {},
    "tags": [
     "description"
    ]
   },
   "source": [
    "**Description:** This notebook updates \"Sales\" database."
   ]
  },
  {
   "cell_type": "markdown",
   "id": "input_cell",
   "metadata": {
    "papermill": {},
    "tags": []
   },
   "source": [
    "## Input"
   ]
  },
  {
   "cell_type": "markdown",
   "id": "55d9e878-2148-47e3-a13d-09ba77202893",
   "metadata": {
    "papermill": {},
    "tags": []
   },
   "source": [
    "### Import libraries"
   ]
  },
  {
   "cell_type": "code",
   "execution_count": 1,
   "id": "5fad521a-4a18-4dc7-b13d-98a37172715b",
   "metadata": {
    "execution": {
     "iopub.execute_input": "2023-12-14T16:05:39.880410Z",
     "iopub.status.busy": "2023-12-14T16:05:39.879896Z",
     "iopub.status.idle": "2023-12-14T16:05:48.965030Z",
     "shell.execute_reply": "2023-12-14T16:05:48.949100Z",
     "shell.execute_reply.started": "2023-12-14T16:05:39.880295Z"
    },
    "papermill": {},
    "tags": []
   },
   "outputs": [
    {
     "name": "stdout",
     "output_type": "stream",
     "text": [
      "✅ utils file '/home/ftp/abi/utils/data.ipynb' successfully loaded.\n",
      "✅ utils file '/home/ftp/abi/utils/naas_chat_plugin.ipynb' successfully loaded.\n",
      "✅ utils file '/home/ftp/abi/utils/naas_lab.ipynb' successfully loaded.\n",
      "✅ utils file '/home/ftp/abi/utils/openai.ipynb' successfully loaded.\n"
     ]
    }
   ],
   "source": [
    "from naas_drivers import gsheet\n",
    "import pandas as pd\n",
    "import os\n",
    "from datetime import date\n",
    "import naas_data_product\n",
    "try:\n",
    "    import openai\n",
    "except:\n",
    "    !pip install openai --user\n",
    "    import openai\n",
    "import time"
   ]
  },
  {
   "cell_type": "markdown",
   "id": "ec39e794-a8cd-41b8-9489-9ddb962a601c",
   "metadata": {
    "papermill": {},
    "tags": []
   },
   "source": [
    "### Setup variables\n",
    "**Inputs**\n",
    "- `input_dir`: Input directory to retrieve file from.\n",
    "- `file_reactions`: Name of the file with reactions to be retrieved.\n",
    "- `file_comments`: Name of the file with comments to be retrieved.\n",
    "\n",
    "**Outputs**\n",
    "- `spreadsheet_url`: Google Sheets spreadsheet URL.\n",
    "- `sheet_name`: Google Sheets sheet name.\n",
    "- `append`: If False, data will be canceled and replaced."
   ]
  },
  {
   "cell_type": "code",
   "execution_count": 7,
   "id": "7c34bff6-9136-4aaf-a692-b38129b7de83",
   "metadata": {
    "execution": {
     "iopub.execute_input": "2023-12-14T16:06:50.725360Z",
     "iopub.status.busy": "2023-12-14T16:06:50.725052Z",
     "iopub.status.idle": "2023-12-14T16:06:51.022931Z",
     "shell.execute_reply": "2023-12-14T16:06:51.022152Z",
     "shell.execute_reply.started": "2023-12-14T16:06:50.725326Z"
    },
    "papermill": {},
    "tags": [
     "parameters"
    ]
   },
   "outputs": [],
   "source": [
    "# Inputs\n",
    "input_dir = os.path.join(naas_data_product.OUTPUTS_PATH, \"sales-engine\", date.today().isoformat())\n",
    "file_name = \"sales\"\n",
    "openai_api_key = naas.secret.get(\"OPENAI_API_KEY\")\n",
    "spreadsheet_url = naas.secret.get(\"ABI_SPREADSHEET\") or \"YOUR_GOOGLE_SPREADSHEET_URL\"\n",
    "sheet_name_input = \"GROWTH\"\n",
    "ref_contact_name = \"LEADS\"\n",
    "ref_company_name = \"LEADS_COMPANIES\"\n",
    "\n",
    "# Outputs\n",
    "sheet_name_output = \"SALES\"\n",
    "append = False"
   ]
  },
  {
   "cell_type": "markdown",
   "id": "model_cell",
   "metadata": {
    "papermill": {},
    "tags": []
   },
   "source": [
    "## Model"
   ]
  },
  {
   "cell_type": "markdown",
   "id": "b82dbc1b-acf3-4e44-8dac-e4f631787afa",
   "metadata": {
    "papermill": {},
    "tags": []
   },
   "source": [
    "### Get data \"GROWTH\" from Google Sheets spreadsheet"
   ]
  },
  {
   "cell_type": "code",
   "execution_count": 8,
   "id": "34407369-03a1-45c4-9768-03222224612b",
   "metadata": {
    "execution": {
     "iopub.execute_input": "2023-12-14T16:06:52.801062Z",
     "iopub.status.busy": "2023-12-14T16:06:52.800788Z",
     "iopub.status.idle": "2023-12-14T16:06:58.141023Z",
     "shell.execute_reply": "2023-12-14T16:06:58.133045Z",
     "shell.execute_reply.started": "2023-12-14T16:06:52.801033Z"
    },
    "papermill": {},
    "tags": []
   },
   "outputs": [
    {
     "name": "stdout",
     "output_type": "stream",
     "text": [
      "Rows: 3928\n"
     ]
    },
    {
     "data": {
      "text/html": [
       "<div>\n",
       "<style scoped>\n",
       "    .dataframe tbody tr th:only-of-type {\n",
       "        vertical-align: middle;\n",
       "    }\n",
       "\n",
       "    .dataframe tbody tr th {\n",
       "        vertical-align: top;\n",
       "    }\n",
       "\n",
       "    .dataframe thead th {\n",
       "        text-align: right;\n",
       "    }\n",
       "</style>\n",
       "<table border=\"1\" class=\"dataframe\">\n",
       "  <thead>\n",
       "    <tr style=\"text-align: right;\">\n",
       "      <th></th>\n",
       "      <th>ENTITY</th>\n",
       "      <th>SCENARIO</th>\n",
       "      <th>PLATFORM</th>\n",
       "      <th>FULLNAME</th>\n",
       "      <th>COHORT</th>\n",
       "      <th>OCCUPATION</th>\n",
       "      <th>INTERACTION_SCORE</th>\n",
       "      <th>PROFILE_URL</th>\n",
       "      <th>INTERACTIONS</th>\n",
       "      <th>LAST_INTERACTION_DATE</th>\n",
       "      <th>LAST_CONTENT_URL_INTERACTION</th>\n",
       "      <th>LAST_CONTENT_TITLE_INTERACTION</th>\n",
       "    </tr>\n",
       "  </thead>\n",
       "  <tbody>\n",
       "    <tr>\n",
       "      <th>0</th>\n",
       "      <td>Travis Oliphant</td>\n",
       "      <td>W48-2023</td>\n",
       "      <td>LinkedIn</td>\n",
       "      <td>Curtis Whiting</td>\n",
       "      <td>W41-2023</td>\n",
       "      <td>VP, Product at ZSuite Technologies</td>\n",
       "      <td>6</td>\n",
       "      <td>https://www.linkedin.com/in/ACoAAADHZOcBgU988t...</td>\n",
       "      <td>Comment 'We've had several interns at zsuite t...</td>\n",
       "      <td>Mon. 27 Nov.</td>\n",
       "      <td>https://www.linkedin.com/feed/update/urn:li:ac...</td>\n",
       "      <td>We can only offer this for free download for a...</td>\n",
       "    </tr>\n",
       "  </tbody>\n",
       "</table>\n",
       "</div>"
      ],
      "text/plain": [
       "            ENTITY  SCENARIO  PLATFORM        FULLNAME    COHORT  \\\n",
       "0  Travis Oliphant  W48-2023  LinkedIn  Curtis Whiting  W41-2023   \n",
       "\n",
       "                           OCCUPATION  INTERACTION_SCORE  \\\n",
       "0  VP, Product at ZSuite Technologies                  6   \n",
       "\n",
       "                                         PROFILE_URL  \\\n",
       "0  https://www.linkedin.com/in/ACoAAADHZOcBgU988t...   \n",
       "\n",
       "                                        INTERACTIONS LAST_INTERACTION_DATE  \\\n",
       "0  Comment 'We've had several interns at zsuite t...          Mon. 27 Nov.   \n",
       "\n",
       "                        LAST_CONTENT_URL_INTERACTION  \\\n",
       "0  https://www.linkedin.com/feed/update/urn:li:ac...   \n",
       "\n",
       "                      LAST_CONTENT_TITLE_INTERACTION  \n",
       "0  We can only offer this for free download for a...  "
      ]
     },
     "execution_count": 8,
     "metadata": {},
     "output_type": "execute_result"
    }
   ],
   "source": [
    "df_input = gsheet.connect(spreadsheet_url).get(sheet_name=sheet_name_input)\n",
    "print(\"Rows:\", len(df_input))\n",
    "df_input.head(1)"
   ]
  },
  {
   "cell_type": "markdown",
   "id": "d367c280-f135-46fa-97d1-658bcc8d1151",
   "metadata": {},
   "source": [
    "### Get data \"REF_CONTACT\" from Google Sheets spreadsheet"
   ]
  },
  {
   "cell_type": "code",
   "execution_count": 9,
   "id": "dea448c1-0787-42dc-b458-e1cd2d04a3c5",
   "metadata": {
    "execution": {
     "iopub.execute_input": "2023-12-14T16:06:58.142405Z",
     "iopub.status.busy": "2023-12-14T16:06:58.142163Z",
     "iopub.status.idle": "2023-12-14T16:07:02.291864Z",
     "shell.execute_reply": "2023-12-14T16:07:02.291330Z",
     "shell.execute_reply.started": "2023-12-14T16:06:58.142372Z"
    },
    "tags": []
   },
   "outputs": [
    {
     "name": "stdout",
     "output_type": "stream",
     "text": [
      "Ref. contact: 2865\n"
     ]
    },
    {
     "data": {
      "text/html": [
       "<div>\n",
       "<style scoped>\n",
       "    .dataframe tbody tr th:only-of-type {\n",
       "        vertical-align: middle;\n",
       "    }\n",
       "\n",
       "    .dataframe tbody tr th {\n",
       "        vertical-align: top;\n",
       "    }\n",
       "\n",
       "    .dataframe thead th {\n",
       "        text-align: right;\n",
       "    }\n",
       "</style>\n",
       "<table border=\"1\" class=\"dataframe\">\n",
       "  <thead>\n",
       "    <tr style=\"text-align: right;\">\n",
       "      <th></th>\n",
       "      <th>FIRSTNAME</th>\n",
       "      <th>LASTNAME</th>\n",
       "      <th>FULLNAME</th>\n",
       "      <th>OCCUPATION</th>\n",
       "      <th>COMPANY</th>\n",
       "      <th>ICP</th>\n",
       "      <th>INTERACTION_SCORE</th>\n",
       "      <th>LAST_CONTENT_URL_INTERACTION</th>\n",
       "      <th>LAST_INTERACTION_DATE</th>\n",
       "      <th>LAST_CONTENT_TITLE_INTERACTION</th>\n",
       "      <th>PROFILE_URL</th>\n",
       "      <th>PUBLIC_ID</th>\n",
       "      <th>NOTES</th>\n",
       "      <th>CRM_COMPANY</th>\n",
       "      <th>CRM_CONTACT</th>\n",
       "    </tr>\n",
       "  </thead>\n",
       "  <tbody>\n",
       "    <tr>\n",
       "      <th>0</th>\n",
       "      <td>Jérémy</td>\n",
       "      <td>Ravenel</td>\n",
       "      <td>Jérémy Ravenel</td>\n",
       "      <td>Building @naas.ai, universal data &amp; AI platfor...</td>\n",
       "      <td>naas.ai</td>\n",
       "      <td>Developer</td>\n",
       "      <td>64</td>\n",
       "      <td>https://www.linkedin.com/feed/update/urn:li:ac...</td>\n",
       "      <td>Wed. 29 Nov.</td>\n",
       "      <td>Quansight is #hiring. Know anyone who might be...</td>\n",
       "      <td>https://www.linkedin.com/in/ACoAAAJHE7sB5OxuKH...</td>\n",
       "      <td>jeremyravenel</td>\n",
       "      <td>Comment 'Anant asthana 👌can you share your fir...</td>\n",
       "      <td>NAASAI Inc</td>\n",
       "      <td>True</td>\n",
       "    </tr>\n",
       "  </tbody>\n",
       "</table>\n",
       "</div>"
      ],
      "text/plain": [
       "  FIRSTNAME LASTNAME        FULLNAME  \\\n",
       "0    Jérémy  Ravenel  Jérémy Ravenel   \n",
       "\n",
       "                                          OCCUPATION  COMPANY        ICP  \\\n",
       "0  Building @naas.ai, universal data & AI platfor...  naas.ai  Developer   \n",
       "\n",
       "   INTERACTION_SCORE                       LAST_CONTENT_URL_INTERACTION  \\\n",
       "0                 64  https://www.linkedin.com/feed/update/urn:li:ac...   \n",
       "\n",
       "  LAST_INTERACTION_DATE                     LAST_CONTENT_TITLE_INTERACTION  \\\n",
       "0          Wed. 29 Nov.  Quansight is #hiring. Know anyone who might be...   \n",
       "\n",
       "                                         PROFILE_URL      PUBLIC_ID  \\\n",
       "0  https://www.linkedin.com/in/ACoAAAJHE7sB5OxuKH...  jeremyravenel   \n",
       "\n",
       "                                               NOTES CRM_COMPANY  CRM_CONTACT  \n",
       "0  Comment 'Anant asthana 👌can you share your fir...  NAASAI Inc         True  "
      ]
     },
     "execution_count": 9,
     "metadata": {},
     "output_type": "execute_result"
    }
   ],
   "source": [
    "ref_contact = gsheet.connect(spreadsheet_url).get(sheet_name=ref_contact_name)\n",
    "print(\"Ref. contact:\", len(ref_contact))\n",
    "ref_contact.head(1)"
   ]
  },
  {
   "cell_type": "markdown",
   "id": "9c674dd1-7725-4cf2-abca-cff12d5c73d6",
   "metadata": {},
   "source": [
    "### Get data \"REF_COMPANY\" from Google Sheets spreadsheet"
   ]
  },
  {
   "cell_type": "code",
   "execution_count": 10,
   "id": "ba934fa2-992e-4dd3-98d5-db5ff6d63cd4",
   "metadata": {
    "execution": {
     "iopub.execute_input": "2023-12-14T16:07:02.293540Z",
     "iopub.status.busy": "2023-12-14T16:07:02.293288Z",
     "iopub.status.idle": "2023-12-14T16:07:04.370613Z",
     "shell.execute_reply": "2023-12-14T16:07:04.369887Z",
     "shell.execute_reply.started": "2023-12-14T16:07:02.293508Z"
    },
    "tags": []
   },
   "outputs": [
    {
     "name": "stdout",
     "output_type": "stream",
     "text": [
      "Ref. company: 529\n"
     ]
    },
    {
     "data": {
      "text/html": [
       "<div>\n",
       "<style scoped>\n",
       "    .dataframe tbody tr th:only-of-type {\n",
       "        vertical-align: middle;\n",
       "    }\n",
       "\n",
       "    .dataframe tbody tr th {\n",
       "        vertical-align: top;\n",
       "    }\n",
       "\n",
       "    .dataframe thead th {\n",
       "        text-align: right;\n",
       "    }\n",
       "</style>\n",
       "<table border=\"1\" class=\"dataframe\">\n",
       "  <thead>\n",
       "    <tr style=\"text-align: right;\">\n",
       "      <th></th>\n",
       "      <th>COMPANY</th>\n",
       "      <th>STAFF_RANGE</th>\n",
       "      <th>INDUSTRY</th>\n",
       "      <th>COUNTRY</th>\n",
       "      <th>DIRECT_INTERACTIONS</th>\n",
       "      <th>INDIRECT_INTERACTIONS</th>\n",
       "      <th>INTERACTION_SCORE</th>\n",
       "      <th>LINKEDIN_URL</th>\n",
       "      <th>COMPANY_ID</th>\n",
       "      <th>COMPANY_NAME</th>\n",
       "      <th>COMPANY_URL</th>\n",
       "      <th>STAFF_COUNT</th>\n",
       "      <th>FOLLOWER_COUNT</th>\n",
       "      <th>CITY</th>\n",
       "      <th>WEBSITE</th>\n",
       "      <th>TAGLINE</th>\n",
       "      <th>DESCRIPTION</th>\n",
       "    </tr>\n",
       "  </thead>\n",
       "  <tbody>\n",
       "    <tr>\n",
       "      <th>0</th>\n",
       "      <td>naas.ai</td>\n",
       "      <td>2-10</td>\n",
       "      <td>Software Development</td>\n",
       "      <td>FR</td>\n",
       "      <td>0</td>\n",
       "      <td>76</td>\n",
       "      <td>76</td>\n",
       "      <td>https://www.linkedin.com/company/naas-ai</td>\n",
       "      <td>70506391</td>\n",
       "      <td>naas.ai</td>\n",
       "      <td>https://www.linkedin.com/company/naas-ai</td>\n",
       "      <td>22</td>\n",
       "      <td>2990</td>\n",
       "      <td>Paris</td>\n",
       "      <td>https://www.naas.ai/</td>\n",
       "      <td>⚡️ All-in-one open source data platform\\n#lowc...</td>\n",
       "      <td>Naas is the first Jupyter based data-science p...</td>\n",
       "    </tr>\n",
       "  </tbody>\n",
       "</table>\n",
       "</div>"
      ],
      "text/plain": [
       "   COMPANY STAFF_RANGE              INDUSTRY COUNTRY  DIRECT_INTERACTIONS  \\\n",
       "0  naas.ai        2-10  Software Development      FR                    0   \n",
       "\n",
       "   INDIRECT_INTERACTIONS  INTERACTION_SCORE  \\\n",
       "0                     76                 76   \n",
       "\n",
       "                               LINKEDIN_URL COMPANY_ID COMPANY_NAME  \\\n",
       "0  https://www.linkedin.com/company/naas-ai   70506391      naas.ai   \n",
       "\n",
       "                                COMPANY_URL STAFF_COUNT FOLLOWER_COUNT   CITY  \\\n",
       "0  https://www.linkedin.com/company/naas-ai          22           2990  Paris   \n",
       "\n",
       "                WEBSITE                                            TAGLINE  \\\n",
       "0  https://www.naas.ai/  ⚡️ All-in-one open source data platform\\n#lowc...   \n",
       "\n",
       "                                         DESCRIPTION  \n",
       "0  Naas is the first Jupyter based data-science p...  "
      ]
     },
     "execution_count": 10,
     "metadata": {},
     "output_type": "execute_result"
    }
   ],
   "source": [
    "ref_company = gsheet.connect(spreadsheet_url).get(sheet_name=ref_company_name)\n",
    "print(\"Ref. company:\", len(ref_company))\n",
    "ref_company.head(1)"
   ]
  },
  {
   "cell_type": "markdown",
   "id": "739a63fb-fd47-47c7-be14-64849279a1e7",
   "metadata": {},
   "source": [
    "### Create Sales dataframe"
   ]
  },
  {
   "cell_type": "code",
   "execution_count": 11,
   "id": "6823374f-9255-4e54-a125-c8be746acdd4",
   "metadata": {
    "execution": {
     "iopub.execute_input": "2023-12-14T16:07:04.375967Z",
     "iopub.status.busy": "2023-12-14T16:07:04.374308Z",
     "iopub.status.idle": "2023-12-14T16:07:04.523346Z",
     "shell.execute_reply": "2023-12-14T16:07:04.522635Z",
     "shell.execute_reply.started": "2023-12-14T16:07:04.375931Z"
    },
    "tags": []
   },
   "outputs": [
    {
     "name": "stdout",
     "output_type": "stream",
     "text": [
      "Rows: 362\n"
     ]
    },
    {
     "data": {
      "text/html": [
       "<div>\n",
       "<style scoped>\n",
       "    .dataframe tbody tr th:only-of-type {\n",
       "        vertical-align: middle;\n",
       "    }\n",
       "\n",
       "    .dataframe tbody tr th {\n",
       "        vertical-align: top;\n",
       "    }\n",
       "\n",
       "    .dataframe thead th {\n",
       "        text-align: right;\n",
       "    }\n",
       "</style>\n",
       "<table border=\"1\" class=\"dataframe\">\n",
       "  <thead>\n",
       "    <tr style=\"text-align: right;\">\n",
       "      <th></th>\n",
       "      <th>ENTITY</th>\n",
       "      <th>SCENARIO</th>\n",
       "      <th>DATE</th>\n",
       "      <th>FULLNAME</th>\n",
       "      <th>OCCUPATION</th>\n",
       "      <th>ICP</th>\n",
       "      <th>COMPANY_NAME</th>\n",
       "      <th>INDUSTRY</th>\n",
       "      <th>STAFF_COUNT</th>\n",
       "      <th>STAFF_RANGE</th>\n",
       "      <th>COUNTRY</th>\n",
       "      <th>PROFILE_URL</th>\n",
       "      <th>INTERACTION_SCORE</th>\n",
       "      <th>MESSAGING_OPTIONS</th>\n",
       "    </tr>\n",
       "  </thead>\n",
       "  <tbody>\n",
       "    <tr>\n",
       "      <th>0</th>\n",
       "      <td>Travis Oliphant</td>\n",
       "      <td>W48-2023</td>\n",
       "      <td>Mon. 27 Nov.</td>\n",
       "      <td>Aman Misri</td>\n",
       "      <td>Data Scientist @United Airlines | Ex-Musigma |...</td>\n",
       "      <td>Developer</td>\n",
       "      <td>United Airlines</td>\n",
       "      <td>Airlines and Aviation</td>\n",
       "      <td>63328</td>\n",
       "      <td>10001&gt;</td>\n",
       "      <td>US</td>\n",
       "      <td>https://www.linkedin.com/in/ACoAAB1A7sgBZniof-...</td>\n",
       "      <td>4</td>\n",
       "      <td>1. Hi Aman, I noticed you're a Data Scientist ...</td>\n",
       "    </tr>\n",
       "    <tr>\n",
       "      <th>1</th>\n",
       "      <td>Travis Oliphant</td>\n",
       "      <td>W48-2023</td>\n",
       "      <td>Wed. 29 Nov.</td>\n",
       "      <td>Pete Bachant</td>\n",
       "      <td>Director of Software Engineering at WindESCo</td>\n",
       "      <td>Executive</td>\n",
       "      <td>WindESCo</td>\n",
       "      <td>IT Services and IT Consulting</td>\n",
       "      <td>34</td>\n",
       "      <td>11-50</td>\n",
       "      <td>US</td>\n",
       "      <td>https://www.linkedin.com/in/ACoAAAJCSNQB2vdr8a...</td>\n",
       "      <td>3</td>\n",
       "      <td>1. Hi Pete, I noticed you liked a post about Q...</td>\n",
       "    </tr>\n",
       "    <tr>\n",
       "      <th>2</th>\n",
       "      <td>Travis Oliphant</td>\n",
       "      <td>W48-2023</td>\n",
       "      <td>Wed. 29 Nov.</td>\n",
       "      <td>Joshua Chen</td>\n",
       "      <td>Computational Applied Math. Currently working ...</td>\n",
       "      <td>Developer</td>\n",
       "      <td>STR</td>\n",
       "      <td>Hospitality</td>\n",
       "      <td>618</td>\n",
       "      <td>1001-5000</td>\n",
       "      <td>US</td>\n",
       "      <td>https://www.linkedin.com/in/ACoAAAGrY_0B7I3m1u...</td>\n",
       "      <td>3</td>\n",
       "      <td>1. Hi Joshua, I noticed your comment on our re...</td>\n",
       "    </tr>\n",
       "    <tr>\n",
       "      <th>3</th>\n",
       "      <td>Travis Oliphant</td>\n",
       "      <td>W48-2023</td>\n",
       "      <td>Mon. 27 Nov.</td>\n",
       "      <td>Yashwant B</td>\n",
       "      <td>AI Intern @ Continental Automotive India | MTe...</td>\n",
       "      <td>Developer</td>\n",
       "      <td>Continental</td>\n",
       "      <td>Motor Vehicle Manufacturing</td>\n",
       "      <td>72651</td>\n",
       "      <td>10001&gt;</td>\n",
       "      <td>DE</td>\n",
       "      <td>https://www.linkedin.com/in/ACoAADl0i7UBaReo1y...</td>\n",
       "      <td>3</td>\n",
       "      <td>1. Hi Yashwant, I noticed your interest in our...</td>\n",
       "    </tr>\n",
       "    <tr>\n",
       "      <th>4</th>\n",
       "      <td>Travis Oliphant</td>\n",
       "      <td>W48-2023</td>\n",
       "      <td>Wed. 29 Nov.</td>\n",
       "      <td>Samantha Walkow</td>\n",
       "      <td>Building and Researching Data Visualization an...</td>\n",
       "      <td>Developer</td>\n",
       "      <td>The Friends of the U.S. Law Library of Congress</td>\n",
       "      <td>Philanthropic Fundraising Services</td>\n",
       "      <td>4</td>\n",
       "      <td>11-50</td>\n",
       "      <td>US</td>\n",
       "      <td>https://www.linkedin.com/in/ACoAABd2R44BbByDo_...</td>\n",
       "      <td>3</td>\n",
       "      <td>1. Hi Samantha, I noticed you liked our recent...</td>\n",
       "    </tr>\n",
       "    <tr>\n",
       "      <th>5</th>\n",
       "      <td>Travis Oliphant</td>\n",
       "      <td>W48-2023</td>\n",
       "      <td>Wed. 29 Nov.</td>\n",
       "      <td>Charlie Haley</td>\n",
       "      <td>Software Engineering Manager</td>\n",
       "      <td>Executive</td>\n",
       "      <td>Wells Fargo</td>\n",
       "      <td>Financial Services</td>\n",
       "      <td>200991</td>\n",
       "      <td>10001&gt;</td>\n",
       "      <td>US</td>\n",
       "      <td>https://www.linkedin.com/in/ACoAAAvwSRgBVEkBS8...</td>\n",
       "      <td>3</td>\n",
       "      <td>1. Hi Charlie, I noticed you're interested in ...</td>\n",
       "    </tr>\n",
       "    <tr>\n",
       "      <th>6</th>\n",
       "      <td>Travis Oliphant</td>\n",
       "      <td>W48-2023</td>\n",
       "      <td>Mon. 27 Nov.</td>\n",
       "      <td>Nils Senvalds</td>\n",
       "      <td>Executive, Data Scientist, AI Solutions Archit...</td>\n",
       "      <td>Executive</td>\n",
       "      <td>Rogatio.ai</td>\n",
       "      <td>Business Consulting and Services</td>\n",
       "      <td>2</td>\n",
       "      <td>2-10</td>\n",
       "      <td>US</td>\n",
       "      <td>https://www.linkedin.com/in/ACoAAABJr4EBdFG8_S...</td>\n",
       "      <td>3</td>\n",
       "      <td>1. Hi Nils, I noticed your interest in our Qua...</td>\n",
       "    </tr>\n",
       "    <tr>\n",
       "      <th>7</th>\n",
       "      <td>Travis Oliphant</td>\n",
       "      <td>W48-2023</td>\n",
       "      <td>Mon. 27 Nov.</td>\n",
       "      <td>Kai Striega</td>\n",
       "      <td>Software Developer at BHP | Maintainer SciPy</td>\n",
       "      <td>Developer</td>\n",
       "      <td>BHP</td>\n",
       "      <td>Mining</td>\n",
       "      <td>37596</td>\n",
       "      <td>10001&gt;</td>\n",
       "      <td>AU</td>\n",
       "      <td>https://www.linkedin.com/in/ACoAABPQwIkB1tPMJl...</td>\n",
       "      <td>3</td>\n",
       "      <td>1. Email: \\nSubject: Let's Discuss Innovation ...</td>\n",
       "    </tr>\n",
       "    <tr>\n",
       "      <th>8</th>\n",
       "      <td>Travis Oliphant</td>\n",
       "      <td>W47-2023</td>\n",
       "      <td>Wed. 22 Nov.</td>\n",
       "      <td>Arthur Kendrick</td>\n",
       "      <td>Security Engineer II with Amazon | CISSP</td>\n",
       "      <td>Developer</td>\n",
       "      <td>Amazon</td>\n",
       "      <td>Software Development</td>\n",
       "      <td>850979</td>\n",
       "      <td>10001&gt;</td>\n",
       "      <td>US</td>\n",
       "      <td>https://www.linkedin.com/in/ACoAAAQ_K00BY1gFCq...</td>\n",
       "      <td>6</td>\n",
       "      <td>1. Hi Arthur, I noticed your interest in Pytho...</td>\n",
       "    </tr>\n",
       "    <tr>\n",
       "      <th>9</th>\n",
       "      <td>Travis Oliphant</td>\n",
       "      <td>W47-2023</td>\n",
       "      <td>Wed. 22 Nov.</td>\n",
       "      <td>Florin Matei</td>\n",
       "      <td>Senior Software Developer</td>\n",
       "      <td>Developer</td>\n",
       "      <td>CCC Intelligent Solutions</td>\n",
       "      <td>Software Development</td>\n",
       "      <td>2290</td>\n",
       "      <td>1001-5000</td>\n",
       "      <td>US</td>\n",
       "      <td>https://www.linkedin.com/in/ACoAAAetNGIBeg4RAd...</td>\n",
       "      <td>6</td>\n",
       "      <td>1. \"Hi Florin, I noticed your interest in Arti...</td>\n",
       "    </tr>\n",
       "    <tr>\n",
       "      <th>10</th>\n",
       "      <td>Travis Oliphant</td>\n",
       "      <td>W47-2023</td>\n",
       "      <td>Wed. 22 Nov.</td>\n",
       "      <td>Matt Roberts</td>\n",
       "      <td>Building global product engineering leadership...</td>\n",
       "      <td>Executive</td>\n",
       "      <td>SkyKick</td>\n",
       "      <td>IT Services and IT Consulting</td>\n",
       "      <td>210</td>\n",
       "      <td>51-200</td>\n",
       "      <td>US</td>\n",
       "      <td>https://www.linkedin.com/in/ACoAAAAbTf0Br1zMy1...</td>\n",
       "      <td>5</td>\n",
       "      <td>1. Hi Matt, I noticed your interest in improvi...</td>\n",
       "    </tr>\n",
       "    <tr>\n",
       "      <th>11</th>\n",
       "      <td>Travis Oliphant</td>\n",
       "      <td>W47-2023</td>\n",
       "      <td>Wed. 22 Nov.</td>\n",
       "      <td>Kevin Rowley</td>\n",
       "      <td>Certified Salesforce Admin and Certified Table...</td>\n",
       "      <td>Developer</td>\n",
       "      <td>TAB Bank</td>\n",
       "      <td>Banking</td>\n",
       "      <td>276</td>\n",
       "      <td>201-500</td>\n",
       "      <td>US</td>\n",
       "      <td>https://www.linkedin.com/in/ACoAAAEAAS0B8Djkoa...</td>\n",
       "      <td>5</td>\n",
       "      <td>1. \"Hi Kevin, I noticed your comment on the po...</td>\n",
       "    </tr>\n",
       "    <tr>\n",
       "      <th>12</th>\n",
       "      <td>Travis Oliphant</td>\n",
       "      <td>W47-2023</td>\n",
       "      <td>Mon. 20 Nov.</td>\n",
       "      <td>Julia Patriarche, PhD FAAN</td>\n",
       "      <td>CEO, Chief Science Officer, and Co-founder at ...</td>\n",
       "      <td>Executive</td>\n",
       "      <td>A.I. Analysis, Inc.</td>\n",
       "      <td>Medical Equipment Manufacturing</td>\n",
       "      <td>4</td>\n",
       "      <td>2-10</td>\n",
       "      <td>US</td>\n",
       "      <td>https://www.linkedin.com/in/ACoAACGawlEB0ZtOvr...</td>\n",
       "      <td>5</td>\n",
       "      <td>1. Hi Julia, I noticed your comment on the pos...</td>\n",
       "    </tr>\n",
       "    <tr>\n",
       "      <th>13</th>\n",
       "      <td>Travis Oliphant</td>\n",
       "      <td>W47-2023</td>\n",
       "      <td>Wed. 22 Nov.</td>\n",
       "      <td>Anthony C.</td>\n",
       "      <td>Staff Software Engineer at Toshiba America Ele...</td>\n",
       "      <td>Developer</td>\n",
       "      <td>Toshiba America Electronic Components, Inc.</td>\n",
       "      <td>Computers and Electronics Manufacturing</td>\n",
       "      <td>280</td>\n",
       "      <td>51-200</td>\n",
       "      <td>US</td>\n",
       "      <td>https://www.linkedin.com/in/ACoAAABItQsBwanSC0...</td>\n",
       "      <td>4</td>\n",
       "      <td>1. Hi Anthony, I noticed your comment on the p...</td>\n",
       "    </tr>\n",
       "    <tr>\n",
       "      <th>14</th>\n",
       "      <td>Travis Oliphant</td>\n",
       "      <td>W47-2023</td>\n",
       "      <td>Wed. 22 Nov.</td>\n",
       "      <td>Tomás Yáñez</td>\n",
       "      <td>LLMOps | Predictive Analytics | ETL | FARM Stack</td>\n",
       "      <td>Developer</td>\n",
       "      <td>ECM Ingeniería S.A.</td>\n",
       "      <td>Civil Engineering</td>\n",
       "      <td>207</td>\n",
       "      <td>1001-5000</td>\n",
       "      <td>CL</td>\n",
       "      <td>https://www.linkedin.com/in/ACoAABjtGzEBXfsz7q...</td>\n",
       "      <td>4</td>\n",
       "      <td>1. Hi Tomás, I noticed your interest in predic...</td>\n",
       "    </tr>\n",
       "  </tbody>\n",
       "</table>\n",
       "</div>"
      ],
      "text/plain": [
       "             ENTITY  SCENARIO          DATE                    FULLNAME  \\\n",
       "0   Travis Oliphant  W48-2023  Mon. 27 Nov.                  Aman Misri   \n",
       "1   Travis Oliphant  W48-2023  Wed. 29 Nov.                Pete Bachant   \n",
       "2   Travis Oliphant  W48-2023  Wed. 29 Nov.                 Joshua Chen   \n",
       "3   Travis Oliphant  W48-2023  Mon. 27 Nov.                  Yashwant B   \n",
       "4   Travis Oliphant  W48-2023  Wed. 29 Nov.             Samantha Walkow   \n",
       "5   Travis Oliphant  W48-2023  Wed. 29 Nov.               Charlie Haley   \n",
       "6   Travis Oliphant  W48-2023  Mon. 27 Nov.               Nils Senvalds   \n",
       "7   Travis Oliphant  W48-2023  Mon. 27 Nov.                 Kai Striega   \n",
       "8   Travis Oliphant  W47-2023  Wed. 22 Nov.             Arthur Kendrick   \n",
       "9   Travis Oliphant  W47-2023  Wed. 22 Nov.                Florin Matei   \n",
       "10  Travis Oliphant  W47-2023  Wed. 22 Nov.                Matt Roberts   \n",
       "11  Travis Oliphant  W47-2023  Wed. 22 Nov.                Kevin Rowley   \n",
       "12  Travis Oliphant  W47-2023  Mon. 20 Nov.  Julia Patriarche, PhD FAAN   \n",
       "13  Travis Oliphant  W47-2023  Wed. 22 Nov.                  Anthony C.   \n",
       "14  Travis Oliphant  W47-2023  Wed. 22 Nov.                 Tomás Yáñez   \n",
       "\n",
       "                                           OCCUPATION        ICP  \\\n",
       "0   Data Scientist @United Airlines | Ex-Musigma |...  Developer   \n",
       "1        Director of Software Engineering at WindESCo  Executive   \n",
       "2   Computational Applied Math. Currently working ...  Developer   \n",
       "3   AI Intern @ Continental Automotive India | MTe...  Developer   \n",
       "4   Building and Researching Data Visualization an...  Developer   \n",
       "5                        Software Engineering Manager  Executive   \n",
       "6   Executive, Data Scientist, AI Solutions Archit...  Executive   \n",
       "7        Software Developer at BHP | Maintainer SciPy  Developer   \n",
       "8            Security Engineer II with Amazon | CISSP  Developer   \n",
       "9                           Senior Software Developer  Developer   \n",
       "10  Building global product engineering leadership...  Executive   \n",
       "11  Certified Salesforce Admin and Certified Table...  Developer   \n",
       "12  CEO, Chief Science Officer, and Co-founder at ...  Executive   \n",
       "13  Staff Software Engineer at Toshiba America Ele...  Developer   \n",
       "14   LLMOps | Predictive Analytics | ETL | FARM Stack  Developer   \n",
       "\n",
       "                                       COMPANY_NAME  \\\n",
       "0                                   United Airlines   \n",
       "1                                          WindESCo   \n",
       "2                                               STR   \n",
       "3                                       Continental   \n",
       "4   The Friends of the U.S. Law Library of Congress   \n",
       "5                                       Wells Fargo   \n",
       "6                                        Rogatio.ai   \n",
       "7                                               BHP   \n",
       "8                                            Amazon   \n",
       "9                         CCC Intelligent Solutions   \n",
       "10                                          SkyKick   \n",
       "11                                         TAB Bank   \n",
       "12                              A.I. Analysis, Inc.   \n",
       "13      Toshiba America Electronic Components, Inc.   \n",
       "14                              ECM Ingeniería S.A.   \n",
       "\n",
       "                                   INDUSTRY STAFF_COUNT STAFF_RANGE COUNTRY  \\\n",
       "0                     Airlines and Aviation       63328      10001>      US   \n",
       "1             IT Services and IT Consulting          34       11-50      US   \n",
       "2                               Hospitality         618   1001-5000      US   \n",
       "3               Motor Vehicle Manufacturing       72651      10001>      DE   \n",
       "4        Philanthropic Fundraising Services           4       11-50      US   \n",
       "5                        Financial Services      200991      10001>      US   \n",
       "6          Business Consulting and Services           2        2-10      US   \n",
       "7                                    Mining       37596      10001>      AU   \n",
       "8                      Software Development      850979      10001>      US   \n",
       "9                      Software Development        2290   1001-5000      US   \n",
       "10            IT Services and IT Consulting         210      51-200      US   \n",
       "11                                  Banking         276     201-500      US   \n",
       "12          Medical Equipment Manufacturing           4        2-10      US   \n",
       "13  Computers and Electronics Manufacturing         280      51-200      US   \n",
       "14                        Civil Engineering         207   1001-5000      CL   \n",
       "\n",
       "                                          PROFILE_URL  INTERACTION_SCORE  \\\n",
       "0   https://www.linkedin.com/in/ACoAAB1A7sgBZniof-...                  4   \n",
       "1   https://www.linkedin.com/in/ACoAAAJCSNQB2vdr8a...                  3   \n",
       "2   https://www.linkedin.com/in/ACoAAAGrY_0B7I3m1u...                  3   \n",
       "3   https://www.linkedin.com/in/ACoAADl0i7UBaReo1y...                  3   \n",
       "4   https://www.linkedin.com/in/ACoAABd2R44BbByDo_...                  3   \n",
       "5   https://www.linkedin.com/in/ACoAAAvwSRgBVEkBS8...                  3   \n",
       "6   https://www.linkedin.com/in/ACoAAABJr4EBdFG8_S...                  3   \n",
       "7   https://www.linkedin.com/in/ACoAABPQwIkB1tPMJl...                  3   \n",
       "8   https://www.linkedin.com/in/ACoAAAQ_K00BY1gFCq...                  6   \n",
       "9   https://www.linkedin.com/in/ACoAAAetNGIBeg4RAd...                  6   \n",
       "10  https://www.linkedin.com/in/ACoAAAAbTf0Br1zMy1...                  5   \n",
       "11  https://www.linkedin.com/in/ACoAAAEAAS0B8Djkoa...                  5   \n",
       "12  https://www.linkedin.com/in/ACoAACGawlEB0ZtOvr...                  5   \n",
       "13  https://www.linkedin.com/in/ACoAAABItQsBwanSC0...                  4   \n",
       "14  https://www.linkedin.com/in/ACoAABjtGzEBXfsz7q...                  4   \n",
       "\n",
       "                                    MESSAGING_OPTIONS  \n",
       "0   1. Hi Aman, I noticed you're a Data Scientist ...  \n",
       "1   1. Hi Pete, I noticed you liked a post about Q...  \n",
       "2   1. Hi Joshua, I noticed your comment on our re...  \n",
       "3   1. Hi Yashwant, I noticed your interest in our...  \n",
       "4   1. Hi Samantha, I noticed you liked our recent...  \n",
       "5   1. Hi Charlie, I noticed you're interested in ...  \n",
       "6   1. Hi Nils, I noticed your interest in our Qua...  \n",
       "7   1. Email: \\nSubject: Let's Discuss Innovation ...  \n",
       "8   1. Hi Arthur, I noticed your interest in Pytho...  \n",
       "9   1. \"Hi Florin, I noticed your interest in Arti...  \n",
       "10  1. Hi Matt, I noticed your interest in improvi...  \n",
       "11  1. \"Hi Kevin, I noticed your comment on the po...  \n",
       "12  1. Hi Julia, I noticed your comment on the pos...  \n",
       "13  1. Hi Anthony, I noticed your comment on the p...  \n",
       "14  1. Hi Tomás, I noticed your interest in predic...  "
      ]
     },
     "execution_count": 11,
     "metadata": {},
     "output_type": "execute_result"
    }
   ],
   "source": [
    "df = df_input.copy()\n",
    "\n",
    "# Groupby\n",
    "to_group = [\n",
    "    \"ENTITY\",\n",
    "    \"SCENARIO\",\n",
    "    \"LAST_INTERACTION_DATE\",\n",
    "    \"PROFILE_URL\",\n",
    "]\n",
    "to_agg = {\n",
    "    \"INTERACTION_SCORE\": \"sum\"\n",
    "}\n",
    "df = df.groupby(to_group, as_index=False).agg(to_agg)\n",
    "df = df.sort_values(by=[\"SCENARIO\"], ascending=[True]).reset_index(drop=True)\n",
    "\n",
    "# Cumsum\n",
    "df[\"INTERACTION_CUM\"] = df.groupby(\"PROFILE_URL\", as_index=False)[\"INTERACTION_SCORE\"].cumsum()\n",
    "\n",
    "# Merge with Ref\n",
    "ref = ref_contact[[\"FULLNAME\", \"OCCUPATION\", \"PROFILE_URL\", \"ICP\", \"COMPANY\", \"CRM_CONTACT\"]]\n",
    "df = pd.merge(df, ref, how=\"left\")\n",
    "df = df[(df[\"COMPANY\"] != \"TBD\")]\n",
    "\n",
    "ref2 = ref_company[[\"COMPANY\", \"COMPANY_NAME\", \"INDUSTRY\", \"STAFF_COUNT\", \"STAFF_RANGE\", \"COUNTRY\"]]\n",
    "df = pd.merge(df, ref2, how=\"left\", left_on=\"COMPANY\", right_on=\"COMPANY\").fillna(\"NA\")\n",
    "\n",
    "# Filter data\n",
    "df = df[\n",
    "    (df[\"INTERACTION_CUM\"] >= 3) &\n",
    "    (df[\"COMPANY_NAME\"] != \"NA\") &\n",
    "    (~df[\"ICP\"].isin([\"NotICP\", \"NA\"])) & \n",
    "    (df[\"CRM_CONTACT\"].astype(str) == \"False\")\n",
    "].drop_duplicates(\"PROFILE_URL\")\n",
    "\n",
    "# Cleaning\n",
    "to_order = [\n",
    "    \"ENTITY\",\n",
    "    \"SCENARIO\",\n",
    "    \"LAST_INTERACTION_DATE\",\n",
    "    \"FULLNAME\",\n",
    "    \"OCCUPATION\",\n",
    "    \"ICP\",\n",
    "    \"COMPANY_NAME\",\n",
    "    \"INDUSTRY\",\n",
    "    \"STAFF_COUNT\",\n",
    "    \"STAFF_RANGE\",\n",
    "    \"COUNTRY\",\n",
    "    \"PROFILE_URL\",\n",
    "    \"INTERACTION_CUM\",\n",
    "]\n",
    "to_rename = {\n",
    "    \"LAST_INTERACTION_DATE\": \"DATE\",\n",
    "    \"INTERACTION_CUM\": \"INTERACTION_SCORE\"\n",
    "}\n",
    "df = df[to_order].rename(columns=to_rename)\n",
    "df = df.sort_values(by=[\"SCENARIO\", \"INTERACTION_SCORE\"], ascending=[False, False]).reset_index(drop=True)\n",
    "\n",
    "# # Prepare messaging\n",
    "if not \"MESSAGING_OPTIONS\" in df.columns:\n",
    "    df[\"MESSAGING_OPTIONS\"] = \"NA\"\n",
    "    \n",
    "prompt_messaging = \"Based on the following contact data, create 3 messaging options to engage with the person on LinkedIn, be brief, concise, casual but professional\"\n",
    "messagings = pload(input_dir, \"messagings\")\n",
    "if messagings is None:\n",
    "    messagings = {}\n",
    "# for x in df[\"PROFILE_URL\"].unique():\n",
    "#     if x not in messagings:\n",
    "#         print(\"Messaging for:\", x)\n",
    "#         contact = ref_contact[ref_contact[\"PROFILE_URL\"] == x].reset_index(drop=True)\n",
    "#         messaging = create_chat_completion(openai_api_key, prompt_messaging, str(contact.to_dict()))\n",
    "#         messagings[x] = messaging\n",
    "#         pdump(input_dir, messagings, \"messagings\")\n",
    "        \n",
    "df[\"MESSAGING_OPTIONS\"] = df[\"PROFILE_URL\"].map(messagings).fillna(\"NA\")\n",
    "\n",
    "# Display result\n",
    "print(\"Rows:\", len(df))\n",
    "df.head(15)"
   ]
  },
  {
   "cell_type": "markdown",
   "id": "output_cell",
   "metadata": {
    "papermill": {},
    "tags": []
   },
   "source": [
    "## Output"
   ]
  },
  {
   "cell_type": "markdown",
   "id": "28b11537-6391-4022-b55d-dd1f84cbe97f",
   "metadata": {
    "papermill": {},
    "tags": []
   },
   "source": [
    "### Send data to Google Sheets spreadsheet"
   ]
  },
  {
   "cell_type": "code",
   "execution_count": 12,
   "id": "32e91b35-c1f8-4fe6-ae78-a2d4b79c8be7",
   "metadata": {
    "execution": {
     "iopub.execute_input": "2023-12-14T16:07:04.528509Z",
     "iopub.status.busy": "2023-12-14T16:07:04.526590Z",
     "iopub.status.idle": "2023-12-14T16:07:12.232467Z",
     "shell.execute_reply": "2023-12-14T16:07:12.231811Z",
     "shell.execute_reply.started": "2023-12-14T16:07:04.528475Z"
    },
    "papermill": {},
    "tags": []
   },
   "outputs": [
    {
     "data": {
      "text/plain": [
       "{'insertedRow': 362}"
      ]
     },
     "execution_count": 12,
     "metadata": {},
     "output_type": "execute_result"
    }
   ],
   "source": [
    "gsheet.connect(spreadsheet_url).send(sheet_name=sheet_name_output, data=df, append=append)"
   ]
  },
  {
   "cell_type": "code",
   "execution_count": null,
   "id": "13cc4241-9a56-4495-9369-bf3de2bcfb42",
   "metadata": {},
   "outputs": [],
   "source": []
  }
 ],
 "metadata": {
  "kernelspec": {
   "display_name": "Python 3",
   "language": "python",
   "name": "python3"
  },
  "language_info": {
   "codemirror_mode": {
    "name": "ipython",
    "version": 3
   },
   "file_extension": ".py",
   "mimetype": "text/x-python",
   "name": "python",
   "nbconvert_exporter": "python",
   "pygments_lexer": "ipython3",
   "version": "3.9.6"
  },
  "naas": {
   "notebook_id": "cf32ecf61a1d6fdcae3273e7e70026564087776ace44ace0a939c08a2085586f",
   "notebook_path": "Google Sheets/Google_Sheets_Send_data.ipynb"
  },
  "papermill": {
   "default_parameters": {},
   "environment_variables": {},
   "parameters": {},
   "version": "2.3.3"
  }
 },
 "nbformat": 4,
 "nbformat_minor": 5
}
