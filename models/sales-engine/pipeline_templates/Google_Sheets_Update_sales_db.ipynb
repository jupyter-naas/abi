{
 "cells": [
  {
   "cell_type": "markdown",
   "id": "international-creativity",
   "metadata": {
    "papermill": {},
    "tags": []
   },
   "source": [
    "<img width=\"8%\" alt=\"Google Sheets.png\" src=\"https://raw.githubusercontent.com/jupyter-naas/awesome-notebooks/master/.github/assets/logos/Google%20Sheets.png\" style=\"border-radius: 15%\">"
   ]
  },
  {
   "cell_type": "markdown",
   "id": "unlimited-bookmark",
   "metadata": {
    "papermill": {},
    "tags": []
   },
   "source": [
    "# Google Sheets - Update sales database"
   ]
  },
  {
   "cell_type": "markdown",
   "id": "tags_cell",
   "metadata": {
    "papermill": {},
    "tags": []
   },
   "source": [
    "**Tags:** #googlesheets #gsheet #data #naas_drivers #sales-engine #automation"
   ]
  },
  {
   "cell_type": "markdown",
   "id": "fbbbbc71-6333-4a70-b371-c9b82f8b5299",
   "metadata": {
    "papermill": {},
    "tags": []
   },
   "source": [
    "**Author:** [Florent Ravenel](https://www.linkedin.com/in/florent-ravenel/)"
   ]
  },
  {
   "cell_type": "markdown",
   "id": "naas-description",
   "metadata": {
    "papermill": {},
    "tags": [
     "description"
    ]
   },
   "source": [
    "**Description:** This notebook updates \"Sales\" database."
   ]
  },
  {
   "cell_type": "markdown",
   "id": "input_cell",
   "metadata": {
    "papermill": {},
    "tags": []
   },
   "source": [
    "## Input"
   ]
  },
  {
   "cell_type": "markdown",
   "id": "55d9e878-2148-47e3-a13d-09ba77202893",
   "metadata": {
    "papermill": {},
    "tags": []
   },
   "source": [
    "### Import libraries"
   ]
  },
  {
   "cell_type": "code",
   "execution_count": null,
   "id": "5fad521a-4a18-4dc7-b13d-98a37172715b",
   "metadata": {
    "papermill": {},
    "tags": []
   },
   "outputs": [],
   "source": [
    "from naas_drivers import gsheet\n",
    "import pandas as pd\n",
    "import os\n",
    "from datetime import date\n",
    "import naas_data_product\n",
    "try:\n",
    "    import openai\n",
    "except:\n",
    "    !pip install openai --user\n",
    "    import openai\n",
    "import time"
   ]
  },
  {
   "cell_type": "markdown",
   "id": "ec39e794-a8cd-41b8-9489-9ddb962a601c",
   "metadata": {
    "papermill": {},
    "tags": []
   },
   "source": [
    "### Setup variables\n",
    "**Inputs**\n",
    "- `openai_api_key`: OpenAI API Key.\n",
    "- `spreadsheet_url`: Google Sheets spreadsheet URL.\n",
    "- `sheet_name_input`: Google Sheets sheet name storing growth data.\n",
    "- `leads_companies_name`: Google Sheets sheet name storing leads profiles.\n",
    "- `leads_profiles_name`: Google Sheets sheet name storing leads profiles.\n",
    "- `prompt_sales_messagings`: Prompt for sales messagings\n",
    "\n",
    "**Outputs**\n",
    "- `output_dir`: Output directory to save file to.\n",
    "- `file_sales`: Output file name to save as picke.\n",
    "- `sheet_name_output`: Google Sheets sheet name storing sales qualified leads."
   ]
  },
  {
   "cell_type": "code",
   "execution_count": null,
   "id": "7c34bff6-9136-4aaf-a692-b38129b7de83",
   "metadata": {
    "papermill": {},
    "tags": [
     "parameters"
    ]
   },
   "outputs": [],
   "source": [
    "# Inputs\n",
    "openai_api_key = naas.secret.get(\"OPENAI_API_KEY\")\n",
    "spreadsheet_url = naas.secret.get(\"ABI_SPREADSHEET\") or \"YOUR_GOOGLE_SPREADSHEET_URL\"\n",
    "sheet_name_input = \"GROWTH\"\n",
    "leads_profiles_name = \"LEADS\"\n",
    "leads_companies_name = \"LEADS_COMPANIES\"\n",
    "prompt_sales_messagings = pload(os.path.join(naas_data_product.OUTPUTS_PATH, \"entity\"), \"prompt_sales_messagings\") or \"YOUR_PROMPT_SALES\"\n",
    "\n",
    "# Outputs\n",
    "output_dir = os.path.join(naas_data_product.OUTPUTS_PATH, \"sales-engine\", date.today().isoformat())\n",
    "file_sales = \"sales\"\n",
    "sheet_name_output = \"SALES\""
   ]
  },
  {
   "cell_type": "markdown",
   "id": "model_cell",
   "metadata": {
    "papermill": {},
    "tags": []
   },
   "source": [
    "## Model"
   ]
  },
  {
   "cell_type": "markdown",
   "id": "af1e2bb5-ab40-46de-a110-635624f2d211",
   "metadata": {
    "papermill": {},
    "tags": []
   },
   "source": [
    "### Get growth data"
   ]
  },
  {
   "cell_type": "code",
   "execution_count": null,
   "id": "678b59f6-84aa-45b7-8aaf-a65d0098e7e2",
   "metadata": {
    "papermill": {},
    "tags": []
   },
   "outputs": [],
   "source": [
    "df_input = gsheet.connect(spreadsheet_url).get(sheet_name=sheet_name_input)\n",
    "print(\"Rows:\", len(df_input))\n",
    "df_input.head(3)"
   ]
  },
  {
   "cell_type": "markdown",
   "id": "d367c280-f135-46fa-97d1-658bcc8d1151",
   "metadata": {},
   "source": [
    "### Get leads"
   ]
  },
  {
   "cell_type": "code",
   "execution_count": null,
   "id": "dea448c1-0787-42dc-b458-e1cd2d04a3c5",
   "metadata": {
    "tags": []
   },
   "outputs": [],
   "source": [
    "df_leads = gsheet.connect(spreadsheet_url).get(sheet_name=leads_profiles_name)\n",
    "if not isinstance(df_leads, pd.DataFrame):\n",
    "    df_leads = pd.DataFrame()\n",
    "print(\"- Existing Leads:\", len(df_leads))\n",
    "# df_leads.head(3)"
   ]
  },
  {
   "cell_type": "markdown",
   "id": "9c674dd1-7725-4cf2-abca-cff12d5c73d6",
   "metadata": {},
   "source": [
    "### Get leads companies"
   ]
  },
  {
   "cell_type": "code",
   "execution_count": null,
   "id": "ba934fa2-992e-4dd3-98d5-db5ff6d63cd4",
   "metadata": {
    "tags": []
   },
   "outputs": [],
   "source": [
    "df_leads_companies = gsheet.connect(spreadsheet_url).get(sheet_name=leads_companies_name)\n",
    "if not isinstance(df_leads_companies, pd.DataFrame):\n",
    "    df_leads_companies = pd.DataFrame()\n",
    "print(\"Leads Companies:\", len(df_leads_companies))\n",
    "# df_leads_companies.head(3)"
   ]
  },
  {
   "cell_type": "markdown",
   "id": "739a63fb-fd47-47c7-be14-64849279a1e7",
   "metadata": {},
   "source": [
    "### Create sales database"
   ]
  },
  {
   "cell_type": "code",
   "execution_count": null,
   "id": "090ff963-8f6f-4c4b-bb9d-55f9d4209e50",
   "metadata": {
    "tags": []
   },
   "outputs": [],
   "source": [
    "def create_db_sales(\n",
    "    df_input,\n",
    "    df_leads,\n",
    "    df_companies,\n",
    "):\n",
    "    # Init\n",
    "    df = df_input.copy()\n",
    "    \n",
    "    # Groupby\n",
    "    to_group = [\n",
    "        \"ENTITY\",\n",
    "        \"SCENARIO\",\n",
    "        \"LAST_INTERACTION_DATE\",\n",
    "        \"INTERACTIONS\",\n",
    "        \"PROFILE_URL\",\n",
    "    ]\n",
    "    to_agg = {\n",
    "        \"INTERACTION_SCORE\": \"sum\"\n",
    "    }\n",
    "    df = df.groupby(to_group, as_index=False).agg(to_agg)\n",
    "    df = df.sort_values(by=[\"SCENARIO\"], ascending=[True]).reset_index(drop=True)\n",
    "\n",
    "    # Cumsum\n",
    "    df[\"INTERACTION_CUM\"] = df.groupby(\"PROFILE_URL\", as_index=False)[\"INTERACTION_SCORE\"].cumsum()\n",
    "    \n",
    "    # Enrich with leads data\n",
    "    cols_leads = [\n",
    "        \"PROFILE_URL\",\n",
    "        \"FULLNAME\",\n",
    "        \"OCCUPATION\",\n",
    "        \"ICP\",\n",
    "        \"CRM_CONTACT\",\n",
    "        \"COMPANY\",\n",
    "    ]\n",
    "    df_leads = df_leads[cols_leads]\n",
    "    df = pd.merge(df, df_leads, how=\"left\")\n",
    "    df = df[(df[\"COMPANY\"] != \"TBD\")].reset_index(drop=True)\n",
    "\n",
    "    # Enrich with leads companies data\n",
    "    col_companies = [\n",
    "        \"COMPANY\", \n",
    "        \"COMPANY_NAME\", \n",
    "        \"INDUSTRY\", \n",
    "        \"COUNTRY\",\n",
    "        \"STAFF_RANGE_NAME\",\n",
    "        \"STAFF_COUNT\", \n",
    "        \"CRM_COMPANY\"\n",
    "    ]\n",
    "    df_companies = df_companies[col_companies]\n",
    "    df = pd.merge(df, df_companies, how=\"left\", left_on=\"COMPANY\", right_on=\"COMPANY\").fillna(\"NA\")\n",
    "    \n",
    "    # Filter data\n",
    "    df = df[\n",
    "        (df[\"INTERACTION_CUM\"] >= 3) &\n",
    "        (df[\"COMPANY_NAME\"] != \"NA\") &\n",
    "        (~df[\"ICP\"].isin([\"NotICP\", \"NA\"])) & \n",
    "        (df[\"CRM_CONTACT\"].astype(str) == \"False\") & \n",
    "        (df[\"CRM_COMPANY\"].astype(str) == \"False\")\n",
    "    ].drop_duplicates(\"PROFILE_URL\")\n",
    "\n",
    "    # Cleaning\n",
    "    to_order = [\n",
    "        \"ENTITY\",\n",
    "        \"SCENARIO\",\n",
    "        \"LAST_INTERACTION_DATE\",\n",
    "        \"FULLNAME\",\n",
    "        \"OCCUPATION\",\n",
    "        \"ICP\",\n",
    "        \"COMPANY_NAME\",\n",
    "        \"INDUSTRY\",\n",
    "        \"COUNTRY\",\n",
    "        \"STAFF_RANGE_NAME\",\n",
    "        \"STAFF_COUNT\",\n",
    "        \"INTERACTION_CUM\",\n",
    "        \"INTERACTIONS\",\n",
    "        \"PROFILE_URL\",\n",
    "    ]\n",
    "    to_rename = {\n",
    "        \"LAST_INTERACTION_DATE\": \"DATE\",\n",
    "        \"INTERACTION_CUM\": \"INTERACTION_SCORE\"\n",
    "    }\n",
    "    df = df[to_order].rename(columns=to_rename)\n",
    "    df = df.sort_values(by=[\"SCENARIO\", \"DATE\", \"INTERACTION_SCORE\"], ascending=[False, False, False])\n",
    "    return df.reset_index(drop=True)\n",
    "\n",
    "db_sales = create_db_sales(\n",
    "    df_input,\n",
    "    df_leads,\n",
    "    df_leads_companies\n",
    ")\n",
    "print(\"- Sales Qualified leads:\", len(db_sales))\n",
    "# db_sales.head(3)"
   ]
  },
  {
   "cell_type": "markdown",
   "id": "babbd2bd-7885-4883-84a3-8eb7ea8afa44",
   "metadata": {},
   "source": [
    "### Create messaging options"
   ]
  },
  {
   "cell_type": "code",
   "execution_count": null,
   "id": "6823374f-9255-4e54-a125-c8be746acdd4",
   "metadata": {
    "tags": []
   },
   "outputs": [],
   "source": [
    "df = db_sales.copy()\n",
    "\n",
    "# Init df to be used in prompt\n",
    "data = df.drop([\"ENTITY\", \"SCENARIO\", \"INTERACTION_SCORE\"], axis=1)\n",
    "entity = df.loc[0, \"ENTITY\"]\n",
    "    \n",
    "prompt_messaging = prompt_sales_messagings + \"\"\"\n",
    "The options should be presented as follow: 1.xxxx, 2.xxxx, 3.xxxx,\n",
    "The data you will received will be structured as follow:\n",
    "- DATE: last interaction date with content published by [ENTITY]\n",
    "- FULLNAME: Name of the person\n",
    "- OCCUPATION: Job position\n",
    "- ICP: Customer profile for sales team\n",
    "- COMPANY_NAME: Name of the company of the person\n",
    "- INDUSTRY: Company industry\n",
    " -COUNTRY: Company country\n",
    "- STAFF_RANGE_NAME: Company size\n",
    "- STAFF_COUNT: Number of employees of the company\n",
    "- INTERACTIONS: Interactions made by the person on the content published\n",
    "\"\"\"\n",
    "prompt_messaging = prompt_messaging.replace(\"[ENTITY]\", entity)\n",
    "\n",
    "# Add messagings options to df\n",
    "if not \"MESSAGING_OPTIONS\" in df.columns:\n",
    "    df[\"MESSAGING_OPTIONS\"] = \"TBD\"\n",
    "    \n",
    "# Get existing messagings\n",
    "df_sales = pload(output_dir, file_sales)\n",
    "messagings = pload(output_dir, \"messagings\")\n",
    "if messagings is None and df_sales is not None:\n",
    "    messagings = df_sales[df_sales[\"MESSAGING_OPTIONS\"] != \"TBD\"].set_index('PROFILE_URL')['MESSAGING_OPTIONS'].to_dict()\n",
    "    pdump(output_dir, messagings, \"messagings\")\n",
    "elif messagings is None and df_sales is None:\n",
    "    messagings = {}\n",
    "    \n",
    "# Apply messagings to profiles\n",
    "for row in df.itertuples():\n",
    "    index = row.Index\n",
    "    fullname = row.FULLNAME\n",
    "    profile_url = row.PROFILE_URL\n",
    "    if profile_url not in messagings:\n",
    "        print(f\"{index} - Messaging for:\", fullname)\n",
    "        tmp_df = data[data[\"PROFILE_URL\"] == profile_url].reset_index(drop=True)\n",
    "        messaging = create_chat_completion(openai_api_key, prompt_messaging, str(tmp_df.to_dict()))\n",
    "        messagings[profile_url] = messaging\n",
    "        pdump(output_dir, messagings, \"messagings\")\n",
    "    else:\n",
    "        messaging = messagings.get(profile_url)\n",
    "    df.loc[index, \"MESSAGING_OPTIONS\"] = messaging\n",
    "\n",
    "# Display result\n",
    "print(\"Rows:\", len(df))\n",
    "df.head(3)"
   ]
  },
  {
   "cell_type": "markdown",
   "id": "output_cell",
   "metadata": {
    "papermill": {},
    "tags": []
   },
   "source": [
    "## Output"
   ]
  },
  {
   "cell_type": "markdown",
   "id": "7c35edb2-0629-4637-8076-e44e5677fb52",
   "metadata": {},
   "source": [
    "### Save data"
   ]
  },
  {
   "cell_type": "code",
   "execution_count": null,
   "id": "3d825d28-b328-4f6b-89e5-abb48efd2694",
   "metadata": {
    "tags": []
   },
   "outputs": [],
   "source": [
    "pdump(output_dir, df, file_sales)"
   ]
  },
  {
   "cell_type": "markdown",
   "id": "28b11537-6391-4022-b55d-dd1f84cbe97f",
   "metadata": {
    "papermill": {},
    "tags": []
   },
   "source": [
    "### Send data to Google Sheets spreadsheet"
   ]
  },
  {
   "cell_type": "code",
   "execution_count": null,
   "id": "32e91b35-c1f8-4fe6-ae78-a2d4b79c8be7",
   "metadata": {
    "papermill": {},
    "tags": []
   },
   "outputs": [],
   "source": [
    "gsheet.connect(spreadsheet_url).send(sheet_name=sheet_name_output, data=df, append=False)"
   ]
  },
  {
   "cell_type": "code",
   "execution_count": null,
   "id": "13cc4241-9a56-4495-9369-bf3de2bcfb42",
   "metadata": {},
   "outputs": [],
   "source": []
  }
 ],
 "metadata": {
  "kernelspec": {
   "display_name": "Python 3",
   "language": "python",
   "name": "python3"
  },
  "language_info": {
   "codemirror_mode": {
    "name": "ipython",
    "version": 3
   },
   "file_extension": ".py",
   "mimetype": "text/x-python",
   "name": "python",
   "nbconvert_exporter": "python",
   "pygments_lexer": "ipython3",
   "version": "3.9.6"
  },
  "naas": {
   "notebook_id": "cf32ecf61a1d6fdcae3273e7e70026564087776ace44ace0a939c08a2085586f",
   "notebook_path": "Google Sheets/Google_Sheets_Send_data.ipynb"
  },
  "papermill": {
   "default_parameters": {},
   "environment_variables": {},
   "parameters": {},
   "version": "2.3.3"
  }
 },
 "nbformat": 4,
 "nbformat_minor": 5
}
