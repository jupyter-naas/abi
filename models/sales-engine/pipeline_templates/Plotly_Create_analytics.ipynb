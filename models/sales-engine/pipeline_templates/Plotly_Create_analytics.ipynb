{
 "cells": [
  {
   "cell_type": "markdown",
   "id": "35673cb3-a65e-4e94-a60b-8b3863fd455b",
   "metadata": {
    "execution": {
     "iopub.execute_input": "2021-02-23T14:22:16.610471Z",
     "iopub.status.busy": "2021-02-23T14:22:16.610129Z",
     "iopub.status.idle": "2021-02-23T14:22:16.627784Z",
     "shell.execute_reply": "2021-02-23T14:22:16.626866Z",
     "shell.execute_reply.started": "2021-02-23T14:22:16.610384Z"
    },
    "papermill": {},
    "tags": []
   },
   "source": [
    "<img width=\"8%\" alt=\"Plotly.png\" src=\"https://raw.githubusercontent.com/jupyter-naas/awesome-notebooks/master/.github/assets/logos/Plotly.png\" style=\"border-radius: 15%\">"
   ]
  },
  {
   "cell_type": "markdown",
   "id": "b0d4ced6",
   "metadata": {
    "papermill": {},
    "tags": []
   },
   "source": [
    "# Plotly - Create analytics"
   ]
  },
  {
   "cell_type": "markdown",
   "id": "06cb7cb7",
   "metadata": {
    "papermill": {},
    "tags": []
   },
   "source": [
    "**Tags:** #plotly #html #csv #image #content #analytics #cohorts"
   ]
  },
  {
   "cell_type": "markdown",
   "id": "c64eee3c",
   "metadata": {
    "papermill": {},
    "tags": []
   },
   "source": [
    "**Author:** [Florent Ravenel](https://www.linkedin.com/in/florent-ravenel/)"
   ]
  },
  {
   "cell_type": "markdown",
   "id": "naas-description",
   "metadata": {
    "papermill": {},
    "tags": [
     "description"
    ]
   },
   "source": [
    "**Description:** This notebook creates a chart to follow your growth by cohorts over the weeks."
   ]
  },
  {
   "cell_type": "markdown",
   "id": "f65cd676",
   "metadata": {
    "papermill": {},
    "tags": []
   },
   "source": [
    "## Input"
   ]
  },
  {
   "cell_type": "markdown",
   "id": "428474ab",
   "metadata": {
    "papermill": {},
    "tags": []
   },
   "source": [
    "### Import libraries"
   ]
  },
  {
   "cell_type": "code",
   "execution_count": null,
   "id": "6214ae90",
   "metadata": {
    "papermill": {},
    "tags": []
   },
   "outputs": [],
   "source": [
    "import plotly.graph_objects as go\n",
    "from naas_drivers import gsheet\n",
    "import pandas as pd\n",
    "import os\n",
    "from datetime import date, datetime, timedelta\n",
    "import naas_data_product"
   ]
  },
  {
   "cell_type": "markdown",
   "id": "5ed1bed1",
   "metadata": {
    "papermill": {},
    "tags": []
   },
   "source": [
    "### Setup variables\n",
    "**Inputs**\n",
    "- `input_dir`: Input directory to retrieve file from.\n",
    "- `input_file`: Name of the file to be retrieved.\n",
    "- `linkedin_url`: This variable stores the LinkedIn profile URL that will be used as image source.\n",
    "- `title`: Graph title\n",
    "- `col_label`: Label col to be used as x axis\n",
    "- `col_group`: Group col to be used to be stacked\n",
    "- `col_value`: Value col to be aggregated on dataframe\n",
    "- `agg_value`: Type of aggregation to perform on value col\n",
    "\n",
    "**Outputs**\n",
    "- `output_dir`: This variable is used for storing the path to the directory where the output files will be saved.\n",
    "- `csv_output`: CSV output to be saved as picke file.\n",
    "- `html_output`: HTML output name.\n",
    "- `image_output`: Image output name to be saved as png file."
   ]
  },
  {
   "cell_type": "code",
   "execution_count": null,
   "id": "190b8d21",
   "metadata": {
    "papermill": {},
    "tags": [
     "parameters"
    ]
   },
   "outputs": [],
   "source": [
    "# Inputs\n",
    "input_dir = os.path.join(naas_data_product.OUTPUTS_PATH, \"sales-engine\", date.today().isoformat())\n",
    "input_file = \"sales\"\n",
    "linkedin_url = pload(os.path.join(naas_data_product.OUTPUTS_PATH, \"entity\"), \"linkedin_url\") or \"YOUR_LINKEDIN_URL\"\n",
    "title = \"New Sales Qualified Leads\"\n",
    "\n",
    "# Outputs\n",
    "output_dir = os.path.join(naas_data_product.OUTPUTS_PATH, \"sales-engine\", date.today().isoformat())\n",
    "csv_output = os.path.join(output_dir, \"sales_trend\")\n",
    "html_output = os.path.join(output_dir, \"sales_trend.html\")\n",
    "image_output = os.path.join(output_dir, \"sales_trend.png\")"
   ]
  },
  {
   "cell_type": "markdown",
   "id": "b3566c94",
   "metadata": {
    "papermill": {},
    "tags": []
   },
   "source": [
    "## Model"
   ]
  },
  {
   "cell_type": "markdown",
   "id": "2c6dbd38-52a8-4af8-aef9-f1d6551e06ef",
   "metadata": {
    "papermill": {},
    "tags": []
   },
   "source": [
    "### Get sales qualified leads"
   ]
  },
  {
   "cell_type": "code",
   "execution_count": null,
   "id": "c4ce220d-952b-4321-aed6-e1b3afe63ab8",
   "metadata": {
    "papermill": {},
    "tags": []
   },
   "outputs": [],
   "source": [
    "df_init = pload(input_dir, input_file) \n",
    "print(\"⚡️ Sales DB:\", len(df_init))\n",
    "df_init.head(3)"
   ]
  },
  {
   "cell_type": "markdown",
   "id": "7456a048",
   "metadata": {
    "papermill": {},
    "tags": []
   },
   "source": [
    "### Create trend dataframe"
   ]
  },
  {
   "cell_type": "code",
   "execution_count": null,
   "id": "22b41e65",
   "metadata": {
    "papermill": {},
    "tags": []
   },
   "outputs": [],
   "source": [
    "def get_trend(\n",
    "    df_init,\n",
    "    col_label,\n",
    "    col_group,\n",
    "    col_value,\n",
    "    agg_value,\n",
    "    rolling=10\n",
    "):\n",
    "    # Init\n",
    "    df = df_init.copy()\n",
    "    \n",
    "    # Groupby\n",
    "    to_group = [\n",
    "        \"ENTITY\",\n",
    "        col_label,\n",
    "        col_group,\n",
    "    ]\n",
    "    to_agg = {\n",
    "        col_value: agg_value\n",
    "    }\n",
    "    to_rename = {\n",
    "        col_label: \"LABEL\",\n",
    "        col_group: \"GROUP\",\n",
    "        col_value: \"VALUE\",\n",
    "    }\n",
    "    df = df.groupby(to_group, as_index=False).agg(to_agg).rename(columns=to_rename)\n",
    "    \n",
    "    # Filter on this week and last week\n",
    "    if len(df) > 0:\n",
    "        tw = date.today().strftime(\"W%W-%Y\")\n",
    "        lw = (date.today() - timedelta(days=date.today().weekday() + 7)).strftime(\"W%W-%Y\")\n",
    "        df = df[(df[\"LABEL\"].isin([tw, lw]))]\n",
    "        colors = {\n",
    "            tw: \"#48DD82\",\n",
    "            lw: \"#FFFDA2\",\n",
    "        }\n",
    "        df[\"COLOR\"] = df[\"LABEL\"].map(colors)\n",
    "\n",
    "        # Plotly: hovertext\n",
    "        df[\"TEXT\"] = (\n",
    "            \"<b><span style='font-size: 14px;'>\"\n",
    "            + df[\"GROUP\"].astype(str)\n",
    "            + \": \"\n",
    "            + df[\"VALUE\"].astype(str)\n",
    "            + \"</span></b>\"\n",
    "        )\n",
    "    return df.reset_index(drop=True), colors\n",
    "\n",
    "df_trend, colors = get_trend(\n",
    "    df_init,\n",
    "    col_label=\"SCENARIO\",\n",
    "    col_group=\"DATE\",\n",
    "    col_value=\"FULLNAME\",\n",
    "    agg_value=\"count\"\n",
    ")\n",
    "df_trend"
   ]
  },
  {
   "cell_type": "markdown",
   "id": "a17539e6-9f61-4317-9b62-989f297ccaf7",
   "metadata": {},
   "source": [
    "### Create title and logo"
   ]
  },
  {
   "cell_type": "code",
   "execution_count": null,
   "id": "1e96760f-67d0-4336-af9c-d993a9dc3520",
   "metadata": {
    "tags": []
   },
   "outputs": [],
   "source": [
    "# Logo\n",
    "arrow_up = \"https://upload.wikimedia.org/wikipedia/commons/thumb/c/c0/Eo_circle_green_arrow-up.svg/2048px-Eo_circle_green_arrow-up.svg.png\"\n",
    "arrow_down = \"https://upload.wikimedia.org/wikipedia/commons/thumb/b/b7/Eo_circle_red_arrow-down.svg/2048px-Eo_circle_red_arrow-down.svg.png\"\n",
    "arrow_right = \"https://upload.wikimedia.org/wikipedia/commons/thumb/4/42/Eo_circle_orange_arrow-right.svg/2048px-Eo_circle_orange_arrow-right.svg.png\"\n",
    "\n",
    "# Groupby weeks\n",
    "df = df_trend.groupby([\"LABEL\"], as_index=False).agg({\"VALUE\": \"sum\"})\n",
    "total = df.loc[df.index[-1], \"VALUE\"]\n",
    "try:\n",
    "    total_n1 = df.loc[df.index[-2], \"VALUE\"]\n",
    "except:\n",
    "    total_n1 = 0\n",
    "tw = df.loc[df.index[-1], \"LABEL\"]\n",
    "varv = total - total_n1\n",
    "if total_n1 == 0:\n",
    "    varp = 1\n",
    "else:\n",
    "    varp = varv / total_n1\n",
    "\n",
    "total_d = \"{:,.0f}\".format(total).replace(\",\", \" \")\n",
    "varv_d = \"{:,.0f}\".format(varv).replace(\",\", \" \")\n",
    "varp_d = \"{:,.0%}\".format(varp).replace(\",\", \" \")\n",
    "if varv >= 0:\n",
    "    varv_d = f\"+{varv_d}\"\n",
    "    varp_d = f\"+{varp_d}\"\n",
    "title_full = f\"<b><span style='font-size: 20px;'>{title}</span></b><br><span style='font-size: 18px;'>{tw}: {total_d} | {varv_d} ({varp_d}) vs last week</span>\"\n",
    "\n",
    "# Logo\n",
    "logo = None\n",
    "if varv > 0:\n",
    "    logo = arrow_up\n",
    "elif varv > -0.2:\n",
    "    logo = arrow_right\n",
    "else:\n",
    "    logo = arrow_down"
   ]
  },
  {
   "cell_type": "markdown",
   "id": "792f3844-4ce8-4582-b01b-12303135054e",
   "metadata": {
    "papermill": {},
    "tags": []
   },
   "source": [
    "### Create Vertical Barchart stacked"
   ]
  },
  {
   "cell_type": "code",
   "execution_count": null,
   "id": "f019f609-99bb-40fd-8938-cd677a20b379",
   "metadata": {
    "papermill": {},
    "tags": []
   },
   "outputs": [],
   "source": [
    "def get_week_number(week):\n",
    "    return int(week.split(\"W\")[1].split(\"-\")[0]) \n",
    "\n",
    "def create_barchart(\n",
    "    df,\n",
    "    label,\n",
    "    groups,\n",
    "    value,\n",
    "    title,\n",
    "    logo,\n",
    "):\n",
    "    # Init\n",
    "    fig = go.Figure()\n",
    "    tw_int = get_week_number(tw)\n",
    "    \n",
    "    # Create trace\n",
    "    list_groups = df[groups].unique()\n",
    "    for group in list_groups:\n",
    "        showlegend = True\n",
    "        tmp_df = df[df[groups] == group]\n",
    "        # Create bar\n",
    "        fig.add_trace(\n",
    "            go.Bar(\n",
    "                x=tmp_df[label],\n",
    "                y=tmp_df[value],\n",
    "                name=group,\n",
    "                marker=dict(color=tmp_df[\"COLOR\"]),\n",
    "                text=tmp_df[value],\n",
    "                textposition=\"outside\",\n",
    "                hoverinfo=\"text\",\n",
    "                hovertext=tmp_df[\"TEXT\"],\n",
    "                showlegend=showlegend\n",
    "            )\n",
    "        )\n",
    "\n",
    "    # Add logo\n",
    "    fig.add_layout_image(\n",
    "        dict(\n",
    "            source=logo,\n",
    "            xref=\"paper\",\n",
    "            yref=\"paper\",\n",
    "            x=0.01,\n",
    "            y=1.045,\n",
    "            sizex=0.12,\n",
    "            sizey=0.12,\n",
    "            xanchor=\"right\",\n",
    "            yanchor=\"bottom\",\n",
    "        )\n",
    "    )\n",
    "\n",
    "    # Display the legend below the graph\n",
    "    fig.update_layout(legend=dict(\n",
    "#         orientation=\"v\",\n",
    "        x=0.25,\n",
    "        y=-0.2,\n",
    "#         xref=\"paper\",\n",
    "#         yref=\"paper\",\n",
    "        xanchor=\"left\",\n",
    "        yanchor=\"bottom\",\n",
    "    ))\n",
    "    \n",
    "    \n",
    "    # Add annotation\n",
    "    fig.add_annotation(\n",
    "        text=f\"<i>Source: <a href='{linkedin_url}'>{linkedin_url}</a> / Created at: {date.today().isoformat()}</i>\",\n",
    "        font=dict(family=\"Arial\", color=\"black\"),\n",
    "        x=0,\n",
    "        y=-0.35,\n",
    "        xref=\"paper\",\n",
    "        yref=\"paper\",\n",
    "        xanchor=\"left\",\n",
    "        yanchor=\"bottom\",\n",
    "        arrowcolor=\"white\",\n",
    "    )\n",
    "    # Update layout\n",
    "    fig.update_layout(\n",
    "        title=title,\n",
    "        title_x=0.09,\n",
    "        title_font=dict(family=\"Arial\", color=\"black\"),\n",
    "        paper_bgcolor=\"#ffffff\",\n",
    "        plot_bgcolor=\"#ffffff\",\n",
    "        width=1200,\n",
    "        height=600,\n",
    "        margin_pad=10,\n",
    "        margin_b=120,\n",
    "        barmode=\"stack\",\n",
    "        bargap=0.1,  # gap between bars of adjacent location coordinates.\n",
    "        bargroupgap=0.1,  # gap between bars of the same location coordinate.\n",
    "    )\n",
    "    config = {\"displayModeBar\": False}\n",
    "    fig.show(config=config)\n",
    "    return fig\n",
    "\n",
    "fig = create_barchart(df_trend, label=\"GROUP\", groups=\"LABEL\", value=\"VALUE\", title=title_full, logo=logo)"
   ]
  },
  {
   "cell_type": "markdown",
   "id": "c8083216",
   "metadata": {
    "papermill": {},
    "tags": []
   },
   "source": [
    "## Output"
   ]
  },
  {
   "cell_type": "markdown",
   "id": "541e16a0",
   "metadata": {
    "papermill": {},
    "tags": []
   },
   "source": [
    "### Save data"
   ]
  },
  {
   "cell_type": "code",
   "execution_count": null,
   "id": "61cc88bf",
   "metadata": {
    "papermill": {},
    "tags": []
   },
   "outputs": [],
   "source": [
    "pdump(output_dir, df_trend, csv_output)"
   ]
  },
  {
   "cell_type": "markdown",
   "id": "d28cd477",
   "metadata": {
    "papermill": {},
    "tags": []
   },
   "source": [
    "### Save and share your graph in HTML\n"
   ]
  },
  {
   "cell_type": "code",
   "execution_count": null,
   "id": "3421d37f",
   "metadata": {
    "papermill": {},
    "tags": []
   },
   "outputs": [],
   "source": [
    "# Save your graph in HTML\n",
    "fig.write_html(html_output)\n",
    "\n",
    "# Share output with naas\n",
    "html_link = naas.asset.add(html_output, params={\"inline\": True})\n",
    "\n",
    "# -> Uncomment the line below to remove your asset\n",
    "# naas.asset.delete(html_output)"
   ]
  },
  {
   "cell_type": "markdown",
   "id": "91a987c6",
   "metadata": {
    "papermill": {},
    "tags": []
   },
   "source": [
    "### Save and share your graph in image\n"
   ]
  },
  {
   "cell_type": "code",
   "execution_count": null,
   "id": "8342abf9",
   "metadata": {
    "papermill": {},
    "tags": []
   },
   "outputs": [],
   "source": [
    "# Save your graph in PNG\n",
    "fig.write_image(image_output)\n",
    "\n",
    "# Share output with naas\n",
    "image_link = naas.asset.add(image_output, override_prod=True)\n",
    "\n",
    "# -> Uncomment the line below to remove your asset\n",
    "# naas.asset.delete(image_output)"
   ]
  },
  {
   "cell_type": "code",
   "execution_count": null,
   "id": "b99cbc5e-25ab-4e47-9ed1-d9637719d951",
   "metadata": {},
   "outputs": [],
   "source": []
  }
 ],
 "metadata": {
  "kernelspec": {
   "display_name": "Python 3",
   "language": "python",
   "name": "python3"
  },
  "language_info": {
   "codemirror_mode": {
    "name": "ipython",
    "version": 3
   },
   "file_extension": ".py",
   "mimetype": "text/x-python",
   "name": "python",
   "nbconvert_exporter": "python",
   "pygments_lexer": "ipython3",
   "version": "3.9.6"
  },
  "papermill": {
   "default_parameters": {},
   "environment_variables": {},
   "parameters": {},
   "version": "2.3.4"
  }
 },
 "nbformat": 4,
 "nbformat_minor": 5
}
