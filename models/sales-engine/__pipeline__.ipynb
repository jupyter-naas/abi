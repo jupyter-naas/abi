{
 "cells": [
  {
   "cell_type": "markdown",
   "id": "f60a7fd6-a35b-4d3e-b123-a441e2e0215a",
   "metadata": {
    "papermill": {},
    "tags": []
   },
   "source": [
    "<img width=\"8%\" alt=\"Naas.png\" src=\"https://raw.githubusercontent.com/jupyter-naas/awesome-notebooks/master/.github/assets/logos/Naas.png\" style=\"border-radius: 15%\">"
   ]
  },
  {
   "cell_type": "markdown",
   "id": "unlimited-internship",
   "metadata": {
    "papermill": {},
    "tags": []
   },
   "source": [
    "# Pipeline"
   ]
  },
  {
   "cell_type": "markdown",
   "id": "3097faf3-b2b9-41fd-8589-f7718b5f919a",
   "metadata": {
    "papermill": {},
    "tags": []
   },
   "source": [
    "**Tags:** #naas #pipeline #jupyter #notebook #dataanalysis #workflow #streamline"
   ]
  },
  {
   "cell_type": "markdown",
   "id": "opposite-guatemala",
   "metadata": {
    "papermill": {},
    "tags": []
   },
   "source": [
    "**Author:** [Florent Ravenel](https://www.linkedin.com/in/florent-ravenel)"
   ]
  },
  {
   "cell_type": "markdown",
   "id": "bf2e0f26-7fdf-4351-9209-8bb54c5ef7e9",
   "metadata": {
    "papermill": {},
    "tags": []
   },
   "source": [
    "**Description:** This notebook creates a notebooks pipeline."
   ]
  },
  {
   "cell_type": "markdown",
   "id": "input_cell",
   "metadata": {
    "papermill": {},
    "tags": []
   },
   "source": [
    "## Input"
   ]
  },
  {
   "cell_type": "markdown",
   "id": "import_cell",
   "metadata": {
    "papermill": {},
    "tags": []
   },
   "source": [
    "### Import libraries"
   ]
  },
  {
   "cell_type": "code",
   "execution_count": 1,
   "id": "funny-neighbor",
   "metadata": {
    "execution": {
     "iopub.execute_input": "2023-12-19T14:27:26.711128Z",
     "iopub.status.busy": "2023-12-19T14:27:26.708405Z",
     "iopub.status.idle": "2023-12-19T14:27:33.723769Z",
     "shell.execute_reply": "2023-12-19T14:27:33.722953Z",
     "shell.execute_reply.started": "2023-12-19T14:27:26.711046Z"
    },
    "papermill": {},
    "tags": []
   },
   "outputs": [
    {
     "name": "stdout",
     "output_type": "stream",
     "text": [
      "✅ utils file '/home/ftp/abi/utils/data.ipynb' successfully loaded.\n",
      "✅ utils file '/home/ftp/abi/utils/naas_chat_plugin.ipynb' successfully loaded.\n",
      "✅ utils file '/home/ftp/abi/utils/naas_lab.ipynb' successfully loaded.\n",
      "✅ utils file '/home/ftp/abi/utils/openai.ipynb' successfully loaded.\n"
     ]
    }
   ],
   "source": [
    "from naas.pipeline import (\n",
    "    Pipeline,\n",
    "    NotebookStep,\n",
    "    End,\n",
    "    ParallelStep,\n",
    ")\n",
    "from datetime import date\n",
    "import os\n",
    "import glob\n",
    "import naas\n",
    "import naas_data_product"
   ]
  },
  {
   "cell_type": "markdown",
   "id": "6f475768-fc35-49be-ab14-3e8e8a1b5b35",
   "metadata": {},
   "source": [
    "### Setup variables"
   ]
  },
  {
   "cell_type": "code",
   "execution_count": 2,
   "id": "6d5c03ae-950f-45c1-b8ce-31938b1be8ff",
   "metadata": {
    "execution": {
     "iopub.execute_input": "2023-12-19T14:27:33.729736Z",
     "iopub.status.busy": "2023-12-19T14:27:33.727950Z",
     "iopub.status.idle": "2023-12-19T14:27:34.401046Z",
     "shell.execute_reply": "2023-12-19T14:27:34.381067Z",
     "shell.execute_reply.started": "2023-12-19T14:27:33.729693Z"
    },
    "tags": []
   },
   "outputs": [],
   "source": [
    "# Datalake\n",
    "datalake_dir = os.path.join(\"/\", \"home\", \"ftp\", \"abi\", \"outputs\")\n",
    "\n",
    "# LinkedIn\n",
    "li_at = naas.secret.get(\"LINKEDIN_LI_AT\") or \"YOUR_LINKEDIN_LI_AT\" #example: AQFAzQN_PLPR4wAAAXc-FCKmgiMit5FLdY1af3-2\n",
    "JSESSIONID = naas.secret.get(\"LINKEDIN_JSESSIONID\") or \"YOUR_LINKEDIN_JSESSIONID\" #example: ajax:8379907400220387585\n",
    "linkedin_url = pload(os.path.join(naas_data_product.OUTPUTS_PATH, \"entity\"), \"linkedin_url\") or \"YOUR_LINKEDIN_URL\"\n",
    "\n",
    "# Google Sheets\n",
    "spreadsheet_url = naas.secret.get(\"ABI_SPREADSHEET\") or \"YOUR_GOOGLE_SPREADSHEET_URL\"\n",
    "sheet_growth = \"GROWTH\"\n",
    "sheet_leads = \"LEADS\"\n",
    "sheet_leads_companies = \"LEADS_COMPANIES\"\n",
    "sheet_sales = \"SALES\"\n",
    "\n",
    "# OpenAI API key\n",
    "openai_api_key = naas.secret.get(\"OPENAI_API_KEY\") or \"YOUR_OPENAI_API_KEY\"\n",
    "\n",
    "# Notification\n",
    "email_to = pload(os.path.join(naas_data_product.OUTPUTS_PATH, \"entity\"), \"emails\") or []\n",
    "\n",
    "# Scheduler\n",
    "cron = \"0 9 * * *\""
   ]
  },
  {
   "cell_type": "markdown",
   "id": "model_cell",
   "metadata": {
    "papermill": {},
    "tags": []
   },
   "source": [
    "## Model"
   ]
  },
  {
   "cell_type": "markdown",
   "id": "c989fbd1-3544-4e16-aae2-f61f0e29f282",
   "metadata": {},
   "source": [
    "### Create output directory by date"
   ]
  },
  {
   "cell_type": "code",
   "execution_count": 3,
   "id": "7b21733c-fecf-4ec9-b1f1-52dbdc5b4806",
   "metadata": {
    "execution": {
     "iopub.execute_input": "2023-12-19T14:27:34.405934Z",
     "iopub.status.busy": "2023-12-19T14:27:34.405561Z",
     "iopub.status.idle": "2023-12-19T14:27:34.433035Z",
     "shell.execute_reply": "2023-12-19T14:27:34.425061Z",
     "shell.execute_reply.started": "2023-12-19T14:27:34.405881Z"
    },
    "tags": []
   },
   "outputs": [
    {
     "name": "stdout",
     "output_type": "stream",
     "text": [
      "✅ Output directory: /home/ftp/abi/outputs/sales-engine/2023-12-19\n"
     ]
    }
   ],
   "source": [
    "sales_dir = os.path.join(datalake_dir, \"sales-engine\", date.today().isoformat())\n",
    "print(\"✅ Output directory:\", sales_dir)"
   ]
  },
  {
   "cell_type": "markdown",
   "id": "980f0e63-4504-456f-afc9-73ac531b4df1",
   "metadata": {},
   "source": [
    "### Setup notebooks\n",
    "This section is made to declare all the notebooks and create unique IDs that will be used in the pipeline. "
   ]
  },
  {
   "cell_type": "code",
   "execution_count": 4,
   "id": "fa346868-d375-4547-b11b-79311e3f1fc3",
   "metadata": {
    "execution": {
     "iopub.execute_input": "2023-12-19T14:27:34.434257Z",
     "iopub.status.busy": "2023-12-19T14:27:34.434008Z",
     "iopub.status.idle": "2023-12-19T14:27:34.561043Z",
     "shell.execute_reply": "2023-12-19T14:27:34.553071Z",
     "shell.execute_reply.started": "2023-12-19T14:27:34.434227Z"
    },
    "papermill": {},
    "tags": []
   },
   "outputs": [],
   "source": [
    "sales = NotebookStep(\n",
    "    name=\"Sales Qualified Leads\",\n",
    "    notebook_path=\"pipeline_templates/Google_Sheets_Update_sales_db.ipynb\",\n",
    "    parameters={\n",
    "        \"openai_api_key\": openai_api_key,\n",
    "        \"spreadsheet_url\": spreadsheet_url,\n",
    "        \"leads_companies_name\": sheet_leads_companies,\n",
    "        \"leads_profiles_name\": sheet_leads,\n",
    "        \"sheet_name_output\": sheet_sales,\n",
    "        \"output_dir\": sales_dir,\n",
    "    }\n",
    ")\n",
    "analytics = NotebookStep(\n",
    "    name=\"Create analytics\",\n",
    "    notebook_path=\"pipeline_templates/Plotly_Create_analytics.ipynb\",\n",
    "    parameters={\n",
    "        \"input_dir\": sales_dir,\n",
    "        \"output_dir\": sales_dir,\n",
    "    }\n",
    ")\n",
    "plugin = NotebookStep(\n",
    "    name=\"Generate plugin\",\n",
    "    notebook_path=\"__plugin__.ipynb\",\n",
    "    parameters={\n",
    "        \"input_dir\": sales_dir,\n",
    "        \"spreadsheet_url\": spreadsheet_url,\n",
    "        \"sheet_name\": sheet_leads,\n",
    "    }\n",
    ")\n",
    "email = NotebookStep(\n",
    "    name=\"Send Email notification\",\n",
    "    notebook_path=\"pipeline_templates/Naas_Send_notification.ipynb\",\n",
    "    parameters={\n",
    "        \"input_dir\": sales_dir,\n",
    "        \"datalake_dir\": datalake_dir,\n",
    "        \"email_to\": email_to,\n",
    "    }\n",
    ")"
   ]
  },
  {
   "cell_type": "markdown",
   "id": "712f6ff4-938c-41ca-822e-d2012db8b7d5",
   "metadata": {},
   "source": [
    "## Output"
   ]
  },
  {
   "cell_type": "markdown",
   "id": "eabd8817-11d3-4077-ad4a-0d3f673410f2",
   "metadata": {},
   "source": [
    "### Run pipeline"
   ]
  },
  {
   "cell_type": "code",
   "execution_count": 5,
   "id": "507cbbe6-4d8c-4ba5-98f1-c844bb36b7bc",
   "metadata": {
    "execution": {
     "iopub.execute_input": "2023-12-19T14:27:34.562316Z",
     "iopub.status.busy": "2023-12-19T14:27:34.562065Z",
     "iopub.status.idle": "2023-12-19T14:28:03.124031Z",
     "shell.execute_reply": "2023-12-19T14:28:03.123304Z",
     "shell.execute_reply.started": "2023-12-19T14:27:34.562284Z"
    },
    "tags": []
   },
   "outputs": [
    {
     "data": {
      "text/html": [
       "<html>\n",
       "<head>\n",
       "<link rel=\"stylesheet\" href=\"https://cdn.jsdelivr.net/npm/vis-network@latest/styles/vis-network.css\" type=\"text/css\" />\n",
       "<script type=\"text/javascript\" src=\"https://cdn.jsdelivr.net/npm/vis-network@latest/dist/vis-network.min.js\"> </script>\n",
       "<center>\n",
       "<h1></h1>\n",
       "</center>\n",
       "\n",
       "<!-- <link rel=\"stylesheet\" href=\"../node_modules/vis/dist/vis.min.css\" type=\"text/css\" />\n",
       "<script type=\"text/javascript\" src=\"../node_modules/vis/dist/vis.js\"> </script>-->\n",
       "\n",
       "<style type=\"text/css\">\n",
       "\n",
       "        #mynetwork {\n",
       "            width: 100%;\n",
       "            height: 1000px;\n",
       "            background-color: #212121;\n",
       "            border: 1px solid lightgray;\n",
       "            position: relative;\n",
       "            float: left;\n",
       "        }\n",
       "\n",
       "        \n",
       "\n",
       "        \n",
       "\n",
       "        \n",
       "</style>\n",
       "\n",
       "</head>\n",
       "\n",
       "<body>\n",
       "<div id = \"mynetwork\"></div>\n",
       "\n",
       "\n",
       "<script type=\"text/javascript\">\n",
       "\n",
       "    // initialize global variables.\n",
       "    var edges;\n",
       "    var nodes;\n",
       "    var network; \n",
       "    var container;\n",
       "    var options, data;\n",
       "\n",
       "    \n",
       "    // This method is responsible for drawing the graph, returns the drawn network\n",
       "    function drawGraph() {\n",
       "        var container = document.getElementById('mynetwork');\n",
       "        \n",
       "        \n",
       "\n",
       "        // parsing and collecting nodes and edges from the python\n",
       "        nodes = new vis.DataSet([{\"color\": \"#5DE191\", \"font\": {\"color\": \"#ffffff\"}, \"id\": \"Start\", \"image\": \"start-end.png\", \"label\": \"Start\", \"level\": 0, \"mass\": 5, \"shape\": \"circularImage\", \"x\": 0, \"y\": 0}, {\"color\": \"#5DE191\", \"font\": {\"color\": \"#ffffff\"}, \"id\": \"Sales Qualified Leads\", \"label\": \"Sales Qualified Leads\", \"level\": 1, \"mass\": 5, \"shape\": \"box\", \"x\": 1, \"y\": 0}, {\"color\": \"#5DE191\", \"font\": {\"color\": \"#ffffff\"}, \"id\": \"End\", \"image\": \"start-end.png\", \"label\": \"End\", \"level\": 2, \"mass\": 5, \"shape\": \"circularImage\", \"x\": 2, \"y\": 0}]);\n",
       "        edges = new vis.DataSet([{\"arrows\": \"to\", \"from\": \"Sales Qualified Leads\", \"to\": \"End\"}, {\"arrows\": \"to\", \"from\": \"Start\", \"to\": \"Sales Qualified Leads\"}]);\n",
       "\n",
       "        // adding nodes and edges to the graph\n",
       "        data = {nodes: nodes, edges: edges};\n",
       "\n",
       "        var options = {\n",
       "    \"configure\": {\n",
       "        \"enabled\": false\n",
       "    },\n",
       "    \"edges\": {\n",
       "        \"color\": {\n",
       "            \"inherit\": true\n",
       "        },\n",
       "        \"smooth\": {\n",
       "            \"enabled\": true,\n",
       "            \"type\": \"dynamic\"\n",
       "        }\n",
       "    },\n",
       "    \"interaction\": {\n",
       "        \"dragNodes\": true,\n",
       "        \"hideEdgesOnDrag\": false,\n",
       "        \"hideNodesOnDrag\": false\n",
       "    },\n",
       "    \"layout\": {\n",
       "        \"hierarchical\": {\n",
       "            \"blockShifting\": true,\n",
       "            \"edgeMinimization\": true,\n",
       "            \"enabled\": true,\n",
       "            \"levelSeparation\": 150,\n",
       "            \"parentCentralization\": true,\n",
       "            \"sortMethod\": \"hubsize\",\n",
       "            \"treeSpacing\": 200\n",
       "        },\n",
       "        \"improvedLayout\": true,\n",
       "        \"randomSeed\": 0\n",
       "    },\n",
       "    \"physics\": {\n",
       "        \"enabled\": false,\n",
       "        \"stabilization\": {\n",
       "            \"enabled\": true,\n",
       "            \"fit\": true,\n",
       "            \"iterations\": 1000,\n",
       "            \"onlyDynamicEdges\": false,\n",
       "            \"updateInterval\": 50\n",
       "        }\n",
       "    }\n",
       "};\n",
       "        \n",
       "        \n",
       "\n",
       "        \n",
       "\n",
       "        network = new vis.Network(container, data, options);\n",
       "\t \n",
       "        \n",
       "\n",
       "\n",
       "        \n",
       "\n",
       "        return network;\n",
       "\n",
       "    }\n",
       "\n",
       "    drawGraph();\n",
       "\n",
       "</script>\n",
       "</body>\n",
       "</html>"
      ],
      "text/plain": [
       "<IPython.core.display.HTML object>"
      ]
     },
     "metadata": {},
     "output_type": "display_data"
    }
   ],
   "source": [
    "pipeline = Pipeline()\n",
    "\n",
    "pipeline >> sales >> analytics >> plugin >> email >> End()\n",
    "\n",
    "pipeline.run(outputs_path=os.path.join(sales_dir, \"pipeline_executions\"))"
   ]
  },
  {
   "cell_type": "markdown",
   "id": "44a3bec6-bb00-4605-95da-ab0ebde6f5a2",
   "metadata": {},
   "source": [
    "### Add dependencies"
   ]
  },
  {
   "cell_type": "code",
   "execution_count": 6,
   "id": "c634fc2e-ff0b-4eaf-ade0-36a1477c67e8",
   "metadata": {
    "execution": {
     "iopub.execute_input": "2023-12-19T14:28:03.129241Z",
     "iopub.status.busy": "2023-12-19T14:28:03.127426Z",
     "iopub.status.idle": "2023-12-19T14:28:06.580682Z",
     "shell.execute_reply": "2023-12-19T14:28:06.579922Z",
     "shell.execute_reply.started": "2023-12-19T14:28:03.129204Z"
    },
    "tags": []
   },
   "outputs": [
    {
     "name": "stdout",
     "output_type": "stream",
     "text": [
      "👌 Well done! Your Dependency /home/ftp/abi/models/sales-engine/pipeline_templates/Naas_Send_notification.ipynb has been sent to production. \n",
      "\n",
      "PS: to remove the \"Dependency\" feature, just replace .add by .delete\n",
      "👌 Well done! Your Dependency /home/ftp/abi/models/sales-engine/pipeline_templates/Google_Sheets_Update_sales_db.ipynb has been sent to production. \n",
      "\n",
      "PS: to remove the \"Dependency\" feature, just replace .add by .delete\n",
      "👌 Well done! Your Dependency /home/ftp/abi/models/sales-engine/pipeline_templates/Plotly_Create_analytics.ipynb has been sent to production. \n",
      "\n",
      "PS: to remove the \"Dependency\" feature, just replace .add by .delete\n",
      "👌 Well done! Your Dependency /home/ftp/abi/utils/naas_chat_plugin.ipynb has been sent to production. \n",
      "\n",
      "PS: to remove the \"Dependency\" feature, just replace .add by .delete\n",
      "👌 Well done! Your Dependency /home/ftp/abi/utils/openai.ipynb has been sent to production. \n",
      "\n",
      "PS: to remove the \"Dependency\" feature, just replace .add by .delete\n",
      "👌 Well done! Your Dependency /home/ftp/abi/utils/data.ipynb has been sent to production. \n",
      "\n",
      "PS: to remove the \"Dependency\" feature, just replace .add by .delete\n",
      "👌 Well done! Your Dependency /home/ftp/abi/utils/naas_lab.ipynb has been sent to production. \n",
      "\n",
      "PS: to remove the \"Dependency\" feature, just replace .add by .delete\n",
      "👌 Well done! Your Dependency /home/ftp/abi/models/sales-engine/__plugin__.ipynb has been sent to production. \n",
      "\n",
      "PS: to remove the \"Dependency\" feature, just replace .add by .delete\n"
     ]
    }
   ],
   "source": [
    "pipeline_templates = glob.glob(\"pipeline_templates/*.ipynb\")\n",
    "utils_files = glob.glob(f\"{naas_data_product.UTILS_PATH}/*.ipynb\")\n",
    "files = pipeline_templates + utils_files + [\"__plugin__.ipynb\"]\n",
    "\n",
    "for file in files: \n",
    "    naas.dependency.add(file)"
   ]
  },
  {
   "cell_type": "markdown",
   "id": "420e70d9-c5d7-4df9-a2b5-ad10b6055ebe",
   "metadata": {},
   "source": [
    "### Add scheduler"
   ]
  },
  {
   "cell_type": "code",
   "execution_count": 7,
   "id": "65e1c5eb-aa56-45a1-adc1-e3053f668d85",
   "metadata": {
    "execution": {
     "iopub.execute_input": "2023-12-19T14:28:06.581894Z",
     "iopub.status.busy": "2023-12-19T14:28:06.581658Z",
     "iopub.status.idle": "2023-12-19T14:28:07.064418Z",
     "shell.execute_reply": "2023-12-19T14:28:07.053507Z",
     "shell.execute_reply.started": "2023-12-19T14:28:06.581859Z"
    },
    "tags": []
   },
   "outputs": [
    {
     "name": "stdout",
     "output_type": "stream",
     "text": [
      "👌 Well done! Your Notebook has been sent to production.\n",
      "\n",
      "⏰ It will be scheduled \"At 09:00 every day\" (more on the syntax on https://crontab.guru/).\n",
      "\n",
      "Ps: to remove the \"Scheduler\", just replace .add by .delete\n"
     ]
    }
   ],
   "source": [
    "naas.scheduler.add(cron=cron)\n",
    "\n",
    "# Uncomment the line below to delete your automation\n",
    "# naas.scheduler.delete()"
   ]
  },
  {
   "cell_type": "code",
   "execution_count": null,
   "id": "ff564238-1703-4526-9350-9633d9adf747",
   "metadata": {},
   "outputs": [],
   "source": []
  }
 ],
 "metadata": {
  "kernelspec": {
   "display_name": "Python 3",
   "language": "python",
   "name": "python3"
  },
  "language_info": {
   "codemirror_mode": {
    "name": "ipython",
    "version": 3
   },
   "file_extension": ".py",
   "mimetype": "text/x-python",
   "name": "python",
   "nbconvert_exporter": "python",
   "pygments_lexer": "ipython3",
   "version": "3.9.6"
  },
  "naas": {
   "notebook_id": "92ddbcf7c74813cc4c906ca6b7d04cc2590230b5fb16082b396de5b9872be0cf",
   "notebook_path": "Naas/Naas_Create_Pipeline.ipynb"
  },
  "papermill": {
   "default_parameters": {},
   "environment_variables": {},
   "parameters": {},
   "version": "2.3.3"
  }
 },
 "nbformat": 4,
 "nbformat_minor": 5
}
