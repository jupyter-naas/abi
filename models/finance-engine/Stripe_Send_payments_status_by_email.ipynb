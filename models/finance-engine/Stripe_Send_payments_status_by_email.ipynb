{
 "cells": [
  {
   "cell_type": "markdown",
   "id": "2f894b07-fb7b-4793-8f3a-3b26e4688c6f",
   "metadata": {
    "execution": {
     "iopub.execute_input": "2021-01-25T08:00:35.294800Z",
     "iopub.status.busy": "2021-01-25T08:00:35.294557Z",
     "iopub.status.idle": "2021-01-25T08:00:35.307281Z",
     "shell.execute_reply": "2021-01-25T08:00:35.306468Z",
     "shell.execute_reply.started": "2021-01-25T08:00:35.294775Z"
    },
    "papermill": {},
    "tags": []
   },
   "source": [
    "<img width=\"10%\" alt=\"Naas\" src=\"https://landen.imgix.net/jtci2pxwjczr/assets/5ice39g4.png?w=160\"/>"
   ]
  },
  {
   "cell_type": "markdown",
   "id": "f2923d8c-8062-46ff-ae15-d1e23478ef59",
   "metadata": {
    "papermill": {},
    "tags": []
   },
   "source": [
    "# Stripe - Send payments status by email"
   ]
  },
  {
   "cell_type": "markdown",
   "id": "f6f24e5a-137d-4fbf-9fc8-5d797b53c3ec",
   "metadata": {
    "papermill": {},
    "tags": []
   },
   "source": [
    "**Tags:** #stipe #finance #naas #naas_drivers #snippet #dataframe #notifications"
   ]
  },
  {
   "cell_type": "markdown",
   "id": "6502e367-f995-4946-b1ea-aa1a2aa622d2",
   "metadata": {
    "papermill": {},
    "tags": []
   },
   "source": [
    "**Author:** [Jeremy Ravenel](https://www.linkedin.com/in/jeremyravenel/)"
   ]
  },
  {
   "cell_type": "markdown",
   "id": "389ce96a-7b92-4897-9586-12bfc6d8900c",
   "metadata": {
    "papermill": {},
    "tags": []
   },
   "source": [
    "**Last update:** 2023-08-15"
   ]
  },
  {
   "cell_type": "markdown",
   "id": "433d4e25-5977-46ec-836b-1540df4cd965",
   "metadata": {
    "papermill": {},
    "tags": [
     "description"
    ]
   },
   "source": [
    "**Description:** This notebook provides a way to retrieve payments from Stripe API and generate an AI Plugin for Naas Chat. "
   ]
  },
  {
   "cell_type": "markdown",
   "id": "b79e2633-0eab-4021-89c6-66389460e11e",
   "metadata": {
    "papermill": {},
    "tags": []
   },
   "source": [
    "## Input"
   ]
  },
  {
   "cell_type": "markdown",
   "id": "43f818e5-a050-4a8c-a08f-6e4188a9abbd",
   "metadata": {
    "papermill": {},
    "tags": []
   },
   "source": [
    "### Import libraries"
   ]
  },
  {
   "cell_type": "code",
   "execution_count": null,
   "id": "56d32db6-03b5-407e-acac-851faf5499cb",
   "metadata": {
    "execution": {
     "iopub.execute_input": "2023-10-14T15:56:51.768080Z",
     "iopub.status.busy": "2023-10-14T15:56:51.767636Z",
     "iopub.status.idle": "2023-10-14T15:57:01.433729Z",
     "shell.execute_reply": "2023-10-14T15:57:01.432959Z",
     "shell.execute_reply.started": "2023-10-14T15:56:51.767997Z"
    },
    "tags": []
   },
   "outputs": [],
   "source": [
    "!pip install stripe\n",
    "!pip install pandasql"
   ]
  },
  {
   "cell_type": "code",
   "execution_count": null,
   "id": "f0065c34-b34c-4893-af2c-8162f12c0cbb",
   "metadata": {
    "execution": {
     "iopub.execute_input": "2023-10-14T15:57:01.435491Z",
     "iopub.status.busy": "2023-10-14T15:57:01.435270Z",
     "iopub.status.idle": "2023-10-14T15:57:04.289451Z",
     "shell.execute_reply": "2023-10-14T15:57:04.285072Z",
     "shell.execute_reply.started": "2023-10-14T15:57:01.435462Z"
    },
    "papermill": {},
    "tags": []
   },
   "outputs": [],
   "source": [
    "import os\n",
    "import json\n",
    "import naas \n",
    "import naas_drivers\n",
    "import stripe\n",
    "import plotly.graph_objects as go\n",
    "import requests\n",
    "from naas_drivers import emailbuilder\n",
    "from datetime import datetime, date\n",
    "import random\n",
    "import time\n",
    "from dateutil.parser import parse\n",
    "import matplotlib.pyplot as plt\n",
    "import pandas as pd\n",
    "\n",
    "try:\n",
    "    import tiktoken\n",
    "except:\n",
    "    !pip install tiktoken --user\n",
    "    import tiktoken"
   ]
  },
  {
   "cell_type": "markdown",
   "id": "075e322f-d850-4d19-a333-8f8da1ac0d02",
   "metadata": {
    "papermill": {},
    "tags": []
   },
   "source": [
    "### Setup variables"
   ]
  },
  {
   "cell_type": "code",
   "execution_count": null,
   "id": "3b5281a1-be4e-435d-8529-4bda97a747e2",
   "metadata": {
    "execution": {
     "iopub.execute_input": "2023-10-14T16:06:09.075247Z",
     "iopub.status.busy": "2023-10-14T16:06:09.075009Z",
     "iopub.status.idle": "2023-10-14T16:06:09.315487Z",
     "shell.execute_reply": "2023-10-14T16:06:09.314915Z",
     "shell.execute_reply.started": "2023-10-14T16:06:09.075219Z"
    },
    "papermill": {},
    "tags": []
   },
   "outputs": [],
   "source": [
    "# Define scenario \n",
    "is_demo = True # Default to True\n",
    "\n",
    "# For Stripe API \n",
    "# Set your secret key. Remember to switch to your live secret key in production!\n",
    "# See your keys here: https://dashboard.stripe.com/account/apikeys\n",
    "stripe_api = naas.secret.get(\"STRIPE_API\")\n",
    "\n",
    "# For Emails\n",
    "EMAIL_TO = \"jeremy@naas.ai\"  # you will receive weekly summary at this email\n",
    "EMAIL_FROM = None  # summary will have this email as sender. Only available for your naas email, otherwise you will receive this email from notification@naas.ai\n",
    "EMAIL_SUBJECT = (f\"💰 Finance Management Demo - Email Update, {datetime.now().strftime('%Y-%m-%d %H:%M:%S')}\")\n",
    "DATE_FORMAT = \"%Y-%m-%d\"\n",
    "\n",
    "\n",
    "# For openAI API\n",
    "openai_api_key = naas.secret.get(\"OPENAI_API_KEY\")\n",
    "\n",
    "\n",
    "# For AI Chat Plugin\n",
    "plugin_name = \"💰 Finance Assistant\"\n",
    "plugin_model = \"gpt-3.5-turbo\"\n",
    "plugin_temperature = 0\n",
    "plugin_max_tokens = 8192\n",
    "system_prompt_max_tokens = 2084\n",
    "\n",
    "\n",
    "# For Asset Generation\n",
    "output_dir = \"/home/ftp/abi/outputs/by_modules/financial_transactions\"\n",
    "csv_file_name = \"data.csv\"\n",
    "image_file_name = \"image.png\"\n",
    "plugin_file_name = \"plugin.json\""
   ]
  },
  {
   "cell_type": "markdown",
   "id": "4708ac6d-92ba-4fdd-99f8-2e81927a7079",
   "metadata": {
    "execution": {
     "iopub.execute_input": "2023-08-14T16:12:26.723321Z",
     "iopub.status.busy": "2023-08-14T16:12:26.723068Z",
     "iopub.status.idle": "2023-08-14T16:12:26.726508Z",
     "shell.execute_reply": "2023-08-14T16:12:26.725776Z",
     "shell.execute_reply.started": "2023-08-14T16:12:26.723297Z"
    }
   },
   "source": [
    "## Model"
   ]
  },
  {
   "cell_type": "markdown",
   "id": "1b83df6c-4b12-47e9-b5ff-32bae02da706",
   "metadata": {},
   "source": [
    "### Setup directories"
   ]
  },
  {
   "cell_type": "code",
   "execution_count": null,
   "id": "8476b02e-4647-472f-9e34-eda8f204c29d",
   "metadata": {
    "execution": {
     "iopub.execute_input": "2023-10-14T16:06:10.387329Z",
     "iopub.status.busy": "2023-10-14T16:06:10.387100Z",
     "iopub.status.idle": "2023-10-14T16:06:10.402832Z",
     "shell.execute_reply": "2023-10-14T16:06:10.402194Z",
     "shell.execute_reply.started": "2023-10-14T16:06:10.387305Z"
    },
    "tags": []
   },
   "outputs": [],
   "source": [
    "# Check if directory exists and create it if not\n",
    "if not os.path.exists(output_dir):\n",
    "    os.makedirs(output_dir)\n",
    "    \n",
    "# Generate outputs files path\n",
    "csv_file_path = os.path.join(output_dir, csv_file_name)\n",
    "image_file_path = os.path.join(output_dir, image_file_name)\n",
    "plugin_file_path = os.path.join(output_dir, plugin_file_name)\n",
    "print('📂 CSV file path:', csv_file_path)\n",
    "print('📂 Image file path:', image_file_path)\n",
    "print('📂 Plugin file path:', plugin_file_path)"
   ]
  },
  {
   "cell_type": "markdown",
   "id": "428356b1-61b2-4734-aa85-1d2f64d338c2",
   "metadata": {},
   "source": [
    "### Get or load data"
   ]
  },
  {
   "cell_type": "code",
   "execution_count": null,
   "id": "415bc130-d205-427b-a434-c04594088d4f",
   "metadata": {
    "execution": {
     "iopub.execute_input": "2023-10-14T16:08:31.419480Z",
     "iopub.status.busy": "2023-10-14T16:08:31.419253Z",
     "iopub.status.idle": "2023-10-14T16:08:31.474963Z",
     "shell.execute_reply": "2023-10-14T16:08:31.474322Z",
     "shell.execute_reply.started": "2023-10-14T16:08:31.419457Z"
    },
    "tags": []
   },
   "outputs": [],
   "source": [
    "def get_or_load_data(api_key, demo_mode=is_demo):\n",
    "    # Set the Stripe API key\n",
    "    stripe.api_key = api_key\n",
    "    \n",
    "    # Init\n",
    "    df = pd.DataFrame()\n",
    "    update_data = True\n",
    "    \n",
    "    # Check if demo_mode is True\n",
    "    if demo_mode:\n",
    "        file_path = \"/home/ftp/abi/inputs/demo_data/demo_data-stripe_payments.csv\"\n",
    "        if os.path.exists(file_path):\n",
    "            # Read file\n",
    "            df = pd.read_csv(file_path)\n",
    "            df.to_csv(csv_file_path, index=False)\n",
    "            return df\n",
    "        \n",
    "    # Check if the file exists\n",
    "    if os.path.isfile(csv_file_path):\n",
    "        # If the file exists, load it into a DataFrame\n",
    "        return pd.read_csv(csv_file_path)\n",
    "    else:\n",
    "        # Get a list of charges\n",
    "        charges = stripe.Charge.list()\n",
    "\n",
    "        # Prepare a list to store the charge data\n",
    "        data = []\n",
    "\n",
    "        # Loop through the charges and store the data\n",
    "        for charge in charges.auto_paging_iter():\n",
    "            # Retrieve the customer object\n",
    "            customer = stripe.Customer.retrieve(charge.customer)\n",
    "            # Retrieve the payment method object\n",
    "            payment_method = stripe.PaymentMethod.retrieve(charge.payment_method)\n",
    "\n",
    "            # Check if the charge has an associated invoice\n",
    "            if charge.invoice:\n",
    "                # Retrieve the invoice object to get line items\n",
    "                invoice = stripe.Invoice.retrieve(charge.invoice)\n",
    "                # Retrieve the first line item's price object\n",
    "                price = invoice.lines.data[0].price if invoice.lines.data else None\n",
    "                # Retrieve the product object using the product id from the price object\n",
    "                product = stripe.Product.retrieve(price.product) if price else None\n",
    "            else:\n",
    "                product = None\n",
    "\n",
    "            data.append({\n",
    "                'id': charge.id,\n",
    "                'date': pd.to_datetime(charge.created, unit='s'),  # Stripe's timestamps are in seconds\n",
    "                'amount': charge.amount / 100.0,  # Stripe's amounts are in cents, so we divide by 100\n",
    "                'currency': charge.currency.upper(),\n",
    "                'description': charge.description,\n",
    "                'customer': customer.name if customer.name else customer.email,  # Use name if available, else use email\n",
    "                'product': product.name if product else None,  # Get the product name\n",
    "                'status': charge.status,\n",
    "                'payment_method': payment_method.type,\n",
    "            })\n",
    "        # Convert the dictionary to a DataFrame and save it to a CSV file\n",
    "        df = pd.DataFrame.from_dict(contrib_dict, orient='index')\n",
    "        return df\n",
    "    \n",
    "df = get_or_load_data(stripe_api)\n",
    "df"
   ]
  },
  {
   "cell_type": "markdown",
   "id": "d861e2f7-812f-4fd0-836a-f8321b74e762",
   "metadata": {},
   "source": [
    "### Prepare data for chart"
   ]
  },
  {
   "cell_type": "code",
   "execution_count": null,
   "id": "e53e735a-764d-4f20-ba53-b20ecc6ce98f",
   "metadata": {
    "execution": {
     "iopub.execute_input": "2023-10-14T16:08:33.950579Z",
     "iopub.status.busy": "2023-10-14T16:08:33.950351Z",
     "iopub.status.idle": "2023-10-14T16:08:33.971627Z",
     "shell.execute_reply": "2023-10-14T16:08:33.970941Z",
     "shell.execute_reply.started": "2023-10-14T16:08:33.950556Z"
    },
    "tags": []
   },
   "outputs": [],
   "source": [
    "df['date'] = pd.to_datetime(df['date'])\n",
    "df['YMD'] = df['date'].dt.strftime('%Y-%m-%d')\n",
    "df['HMS'] = df['date'].dt.strftime('%H:%M:%S')\n",
    "df\n"
   ]
  },
  {
   "cell_type": "code",
   "execution_count": null,
   "id": "a39ee944-01b3-42f8-822b-c22fa9214369",
   "metadata": {
    "execution": {
     "iopub.execute_input": "2023-10-14T16:08:36.573052Z",
     "iopub.status.busy": "2023-10-14T16:08:36.572819Z",
     "iopub.status.idle": "2023-10-14T16:08:36.907040Z",
     "shell.execute_reply": "2023-10-14T16:08:36.906421Z",
     "shell.execute_reply.started": "2023-10-14T16:08:36.573028Z"
    },
    "tags": []
   },
   "outputs": [],
   "source": [
    "from pandasql import sqldf\n",
    "\n",
    "def aggregate_by_date_and_amount(df):\n",
    "    # Define the SQL query\n",
    "    query = \"\"\"\n",
    "        SELECT\n",
    "            SUBSTR(YMD, 1, 7) as year_month,\n",
    "            ROUND(SUM(amount), 2) as total_amount\n",
    "        FROM\n",
    "            df\n",
    "        GROUP BY\n",
    "            year_month\n",
    "    \"\"\"\n",
    "\n",
    "    # Execute the SQL query and return the result\n",
    "    return sqldf(query)\n",
    "\n",
    "df_aggregated = aggregate_by_date_and_amount(df)\n",
    "df_aggregated"
   ]
  },
  {
   "cell_type": "markdown",
   "id": "d36ed69b-4684-4f72-a4eb-f6e4ccc8150b",
   "metadata": {},
   "source": [
    "### Create Chart"
   ]
  },
  {
   "cell_type": "code",
   "execution_count": null,
   "id": "1ccb815e-857e-4823-b21e-8071c3c5bcec",
   "metadata": {
    "execution": {
     "iopub.execute_input": "2023-10-14T16:08:38.363955Z",
     "iopub.status.busy": "2023-10-14T16:08:38.363711Z",
     "iopub.status.idle": "2023-10-14T16:08:38.834255Z",
     "shell.execute_reply": "2023-10-14T16:08:38.833651Z",
     "shell.execute_reply.started": "2023-10-14T16:08:38.363927Z"
    },
    "tags": []
   },
   "outputs": [],
   "source": [
    "import plotly.graph_objects as go\n",
    "\n",
    "def create_vertical_barchart(df_aggregated, label=\"year_month\", value=\"total_amount\"):\n",
    "    # Convert 'year_month' to string format\n",
    "    df_aggregated[label] = df_aggregated[label].astype(str)\n",
    "\n",
    "    # Filter out rows where the value is zero\n",
    "    df_non_zero = df_aggregated[df_aggregated[value] != 0]\n",
    "\n",
    "    # Init\n",
    "    fig = go.Figure()\n",
    "\n",
    "    # Create fig\n",
    "    fig.add_trace(\n",
    "        go.Bar(\n",
    "            x=df_non_zero[label],   # This represents the categories/labels\n",
    "            y=df_non_zero[value],   # This represents the values\n",
    "            text=df_non_zero[value],  # Display the value at the end of the bar\n",
    "            textposition=\"outside\",\n",
    "            marker=dict(color=\"#6259fa\"),\n",
    "            orientation=\"v\"  # Set to \"h\" for horizontal\n",
    "        )\n",
    "    )\n",
    "\n",
    "    fig.update_traces(showlegend=False)\n",
    "\n",
    "    # Update x-axis tick labels to show dates in format YYYY-MM\n",
    "    fig.update_xaxes(\n",
    "        tickvals=df_non_zero[label],  # Use the actual date values for tick positions\n",
    "        ticktext=df_non_zero[label].str[:7],  # Extract YYYY-MM from the date strings\n",
    "        type='category'  # Set the x-axis type to 'category'\n",
    "    )\n",
    "\n",
    "    # Plotly: Create title\n",
    "    title = f\"<b><span style='font-size: 20px;'>Stripe payments cashed-in over the past months</b>\"\n",
    "    fig.update_layout(\n",
    "        title=title,\n",
    "        title_font=dict(family=\"Arial\", color=\"black\"),\n",
    "        paper_bgcolor=\"#ffffff\",\n",
    "        plot_bgcolor=\"#ffffff\",\n",
    "        width=1200,\n",
    "        height=600,\n",
    "    )\n",
    "\n",
    "    return fig\n",
    "\n",
    "# You can call the function with a dataframe\n",
    "create_vertical_barchart(df_aggregated)\n"
   ]
  },
  {
   "cell_type": "markdown",
   "id": "108d0578-178c-46be-9d88-1fc1ebd2a020",
   "metadata": {},
   "source": [
    "### Create asset from chart"
   ]
  },
  {
   "cell_type": "code",
   "execution_count": null,
   "id": "16a44947-98f4-479e-abd5-18c3af1f77bb",
   "metadata": {
    "execution": {
     "iopub.execute_input": "2023-10-14T16:08:39.069306Z",
     "iopub.status.busy": "2023-10-14T16:08:39.069079Z",
     "iopub.status.idle": "2023-10-14T16:08:40.416773Z",
     "shell.execute_reply": "2023-10-14T16:08:40.416065Z",
     "shell.execute_reply.started": "2023-10-14T16:08:39.069282Z"
    },
    "tags": []
   },
   "outputs": [],
   "source": [
    "import plotly.io as pio\n",
    "\n",
    "# Create the chart\n",
    "chart = create_vertical_barchart(df_aggregated)\n",
    "\n",
    "# Save as PNG\n",
    "pio.write_image(chart, image_file_path)\n",
    "\n",
    "#graph_url = naas.asset.add(\"chart.html\", {\"inline\": True})\n",
    "stripe_chart = naas.asset.add(image_file_path)"
   ]
  },
  {
   "cell_type": "markdown",
   "id": "8232962e-40d5-4184-8c23-5ed7be5c868e",
   "metadata": {
    "execution": {
     "iopub.execute_input": "2023-08-14T13:31:30.419083Z",
     "iopub.status.busy": "2023-08-14T13:31:30.418845Z",
     "iopub.status.idle": "2023-08-14T13:31:30.422092Z",
     "shell.execute_reply": "2023-08-14T13:31:30.421386Z",
     "shell.execute_reply.started": "2023-08-14T13:31:30.419061Z"
    }
   },
   "source": [
    "### Set email parameters"
   ]
  },
  {
   "cell_type": "code",
   "execution_count": null,
   "id": "e86d722f-4122-4881-853c-7111e9b89b50",
   "metadata": {
    "execution": {
     "iopub.execute_input": "2023-10-14T16:08:41.816322Z",
     "iopub.status.busy": "2023-10-14T16:08:41.816055Z",
     "iopub.status.idle": "2023-10-14T16:08:41.820687Z",
     "shell.execute_reply": "2023-10-14T16:08:41.820004Z",
     "shell.execute_reply.started": "2023-10-14T16:08:41.816292Z"
    },
    "tags": []
   },
   "outputs": [],
   "source": [
    "today = datetime.now().strftime(DATE_FORMAT)\n",
    "today"
   ]
  },
  {
   "cell_type": "markdown",
   "id": "fd296c9b-c09d-4455-ba12-ed53514ea2aa",
   "metadata": {},
   "source": [
    "### Create NaasAI Chat plugin"
   ]
  },
  {
   "cell_type": "code",
   "execution_count": null,
   "id": "5a765e51-3ea9-409e-83fe-c258a5bce36b",
   "metadata": {
    "execution": {
     "iopub.execute_input": "2023-10-14T16:08:42.648274Z",
     "iopub.status.busy": "2023-10-14T16:08:42.647959Z",
     "iopub.status.idle": "2023-10-14T16:08:42.660002Z",
     "shell.execute_reply": "2023-10-14T16:08:42.659158Z",
     "shell.execute_reply.started": "2023-10-14T16:08:42.648234Z"
    },
    "tags": []
   },
   "outputs": [],
   "source": [
    "system_prompt = f\"\"\"\n",
    "Act as a Financial Management Agent with access to comprehensive financial data sources, including detailed transaction records from Stripe API. \n",
    "Your primary objective is to analyze and optimize financial transactions, ensuring you identify key insights and trends to guide financial strategies. \n",
    "Leverage the data to decipher patterns, customer behavior, and payment methods to strategize on revenue growth and financial operations.\n",
    "Your ultimate goal is to maximize revenue, minimize risks, and contribute to the overall financial success of the organization.\n",
    "- Start by introducing yourself with a maximum of 5 bullet points.\n",
    "- Display the current financial analytics data as an image inside the markdown of the chat: {stripe_chart}.\n",
    "Wait for the user's initial response, and then delve into a high-level analysis of the financial transactions data.\n",
    "Here is the specific financial analytics data you should emphasize: {df_aggregated}\n",
    "\"\"\""
   ]
  },
  {
   "cell_type": "markdown",
   "id": "8bfd5a99-d9bb-4143-9dac-bce9dcc0a12c",
   "metadata": {
    "execution": {
     "iopub.execute_input": "2023-08-11T08:57:02.873145Z",
     "iopub.status.busy": "2023-08-11T08:57:02.872902Z",
     "iopub.status.idle": "2023-08-11T08:57:02.875911Z",
     "shell.execute_reply": "2023-08-11T08:57:02.875189Z",
     "shell.execute_reply.started": "2023-08-11T08:57:02.873120Z"
    }
   },
   "source": [
    "### Check token count "
   ]
  },
  {
   "cell_type": "code",
   "execution_count": null,
   "id": "f3a51393-3c6b-4e2c-a273-eac472b448e5",
   "metadata": {
    "execution": {
     "iopub.execute_input": "2023-10-14T16:08:43.516229Z",
     "iopub.status.busy": "2023-10-14T16:08:43.515971Z",
     "iopub.status.idle": "2023-10-14T16:08:44.050122Z",
     "shell.execute_reply": "2023-10-14T16:08:44.049425Z",
     "shell.execute_reply.started": "2023-10-14T16:08:43.516204Z"
    },
    "tags": []
   },
   "outputs": [],
   "source": [
    "def num_tokens_from_string(string: str, encoding_name: str) -> int:\n",
    "    \"\"\"Returns the number of tokens in a text string.\"\"\"\n",
    "    encoding = tiktoken.get_encoding(encoding_name)\n",
    "    num_tokens = len(encoding.encode(string))\n",
    "    return num_tokens\n",
    "\n",
    "system_prompt_tokens = num_tokens_from_string(system_prompt, \"cl100k_base\")\n",
    "if system_prompt_tokens > system_prompt_max_tokens:\n",
    "    print(\"⚠️ Be carefull, your system prompt looks too big. Tokens:\", system_prompt_tokens)\n",
    "else:\n",
    "    print(\"✅ System prompt tokens count OK:\", system_prompt_tokens)"
   ]
  },
  {
   "cell_type": "markdown",
   "id": "6c715594-7d98-4202-aeef-ddc7169f2226",
   "metadata": {},
   "source": [
    "### Generate Plugin"
   ]
  },
  {
   "cell_type": "code",
   "execution_count": null,
   "id": "3c2f029e-1373-41da-ad2f-fd55d8728626",
   "metadata": {
    "execution": {
     "iopub.execute_input": "2023-10-14T16:08:44.671182Z",
     "iopub.status.busy": "2023-10-14T16:08:44.670956Z",
     "iopub.status.idle": "2023-10-14T16:08:45.153893Z",
     "shell.execute_reply": "2023-10-14T16:08:45.153160Z",
     "shell.execute_reply.started": "2023-10-14T16:08:44.671160Z"
    },
    "tags": []
   },
   "outputs": [],
   "source": [
    "# Create json\n",
    "plugin = {\n",
    "    \"name\": plugin_name,\n",
    "    \"model\": plugin_model,\n",
    "    \"temperature\": plugin_temperature,\n",
    "    \"max_tokens\": plugin_max_tokens,\n",
    "    \"prompt\": system_prompt,\n",
    "}\n",
    "\n",
    "# Save dict to JSON file\n",
    "with open(plugin_file_path, \"w\") as f:\n",
    "    json.dump(plugin, f)\n",
    "print(\"💾 Plugin successfully saved:\")\n",
    "\n",
    "plugin = naas.asset.add(plugin_file_path, params={\"inline\": True})"
   ]
  },
  {
   "cell_type": "markdown",
   "id": "e2e1cc65-e12d-4008-8c0c-abf5863701d6",
   "metadata": {},
   "source": [
    "### Create Top 10 Customers"
   ]
  },
  {
   "cell_type": "code",
   "execution_count": null,
   "id": "7f74d5a2-5ddc-421d-b9fd-d81c4bbf3556",
   "metadata": {
    "execution": {
     "iopub.execute_input": "2023-10-14T16:08:45.211251Z",
     "iopub.status.busy": "2023-10-14T16:08:45.210852Z",
     "iopub.status.idle": "2023-10-14T16:08:45.254124Z",
     "shell.execute_reply": "2023-10-14T16:08:45.253439Z",
     "shell.execute_reply.started": "2023-10-14T16:08:45.211222Z"
    },
    "tags": []
   },
   "outputs": [],
   "source": [
    "from pandasql import sqldf\n",
    "import pandas as pd\n",
    "\n",
    "def aggregate_by_customer(df):\n",
    "    # Define the SQL query\n",
    "    query = \"\"\"\n",
    "        SELECT\n",
    "            customer,\n",
    "            CAST(SUM(amount) AS INTEGER) as total_amount\n",
    "        FROM\n",
    "            df\n",
    "        GROUP BY\n",
    "            customer\n",
    "        ORDER BY\n",
    "            total_amount DESC\n",
    "    \"\"\"\n",
    "    # Execute the SQL query and return the result\n",
    "    result_df = sqldf(query)\n",
    "    \n",
    "    return result_df\n",
    "\n",
    "df_aggregated_by_customer = aggregate_by_customer(df)\n",
    "df_aggregated_by_customer"
   ]
  },
  {
   "cell_type": "code",
   "execution_count": null,
   "id": "491749a7-3671-4bf0-8219-44bb5498d473",
   "metadata": {
    "execution": {
     "iopub.execute_input": "2023-10-14T16:08:45.503853Z",
     "iopub.status.busy": "2023-10-14T16:08:45.503600Z",
     "iopub.status.idle": "2023-10-14T16:08:45.509353Z",
     "shell.execute_reply": "2023-10-14T16:08:45.508256Z",
     "shell.execute_reply.started": "2023-10-14T16:08:45.503829Z"
    },
    "tags": []
   },
   "outputs": [],
   "source": [
    "def format_number(num):\n",
    "    NUMBER_FORMAT = \"{:,.0f}\"\n",
    "    num = str(NUMBER_FORMAT.format(num)).replace(\",\", \" \")\n",
    "    return num"
   ]
  },
  {
   "cell_type": "code",
   "execution_count": null,
   "id": "b66b5903-18b6-4567-aa85-62bcc7c0b579",
   "metadata": {
    "execution": {
     "iopub.execute_input": "2023-10-14T16:08:45.910872Z",
     "iopub.status.busy": "2023-10-14T16:08:45.910570Z",
     "iopub.status.idle": "2023-10-14T16:08:45.926770Z",
     "shell.execute_reply": "2023-10-14T16:08:45.926022Z",
     "shell.execute_reply.started": "2023-10-14T16:08:45.910840Z"
    },
    "tags": []
   },
   "outputs": [],
   "source": [
    "import pandas as pd\n",
    "\n",
    "def top10_clients(df, top_n=10):\n",
    "    # Group the data by customer and calculate total amounts\n",
    "    grouped = df.groupby('customer')['amount'].sum().reset_index()\n",
    "    \n",
    "    # Get top 10 clients based on total amounts\n",
    "    top_clients = grouped.nlargest(top_n, 'amount')\n",
    "    \n",
    "    # Format the top clients for email incorporation\n",
    "    email_list = []\n",
    "    for idx, (_, row) in enumerate(top_clients.iterrows(), 1):\n",
    "        client_name = row['customer']\n",
    "        total_amount = row['amount']\n",
    "        email_list.append(f\"{idx}. {client_name} : <b>${total_amount}</b>\")\n",
    "    \n",
    "    return email_list\n",
    "\n",
    "# Use the function\n",
    "top_clients_list = top10_clients(df)\n",
    "print(\"\\n\".join(top_clients_list))"
   ]
  },
  {
   "cell_type": "markdown",
   "id": "fb0079ef-de2c-4ce7-b518-d8edf477aa58",
   "metadata": {
    "papermill": {},
    "tags": []
   },
   "source": [
    "## Output"
   ]
  },
  {
   "cell_type": "markdown",
   "id": "1b9fe26c-fab7-4a65-b5c7-da1df9b81c8e",
   "metadata": {
    "execution": {
     "iopub.execute_input": "2023-08-11T17:00:17.689863Z",
     "iopub.status.busy": "2023-08-11T17:00:17.689593Z",
     "iopub.status.idle": "2023-08-11T17:00:17.692835Z",
     "shell.execute_reply": "2023-08-11T17:00:17.692124Z",
     "shell.execute_reply.started": "2023-08-11T17:00:17.689840Z"
    }
   },
   "source": [
    "### Create email content"
   ]
  },
  {
   "cell_type": "code",
   "execution_count": null,
   "id": "432948df-084c-4b1a-8db4-a07eed27aab3",
   "metadata": {
    "execution": {
     "iopub.execute_input": "2023-10-14T16:08:47.899814Z",
     "iopub.status.busy": "2023-10-14T16:08:47.899515Z",
     "iopub.status.idle": "2023-10-14T16:08:47.913372Z",
     "shell.execute_reply": "2023-10-14T16:08:47.912779Z",
     "shell.execute_reply.started": "2023-10-14T16:08:47.899783Z"
    },
    "papermill": {},
    "tags": []
   },
   "outputs": [],
   "source": [
    "def email_brief(\n",
    "    today,\n",
    "    top_clients_list,\n",
    "\n",
    "):\n",
    "    content = {\n",
    "        'title': (\"💰 Finance Engine - Email Update\"),\n",
    "        'heading': (f\"Date:{today}\"),\n",
    "        \"txt_intro\": (\n",
    "            f\"Hi there,<br><br>\" f\"Here is your finance engine email as of {today}.\"\n",
    "        ),\n",
    "        \"title_1\": emailbuilder.text(\n",
    "            \"Overview\", font_size=\"27px\", text_align=\"center\", bold=True\n",
    "        ),\n",
    "        \"text_1\": emailbuilder.text(\n",
    "            f\"Here are the total payments history from Stripe:\"\n",
    "        ),\n",
    "        \"image_1\": emailbuilder.image(stripe_chart),\n",
    "        \"title_2\": emailbuilder.text(\n",
    "            \"Top 10\", font_size=\"27px\", text_align=\"center\", bold=True\n",
    "        ),\n",
    "        \"text\": emailbuilder.list(top_clients_list),\n",
    "        \"button_1\": emailbuilder.button(\n",
    "            link=(f\"https://naas.ai/chat/use?plugin_url={plugin}\"),\n",
    "            text=\"Start Chatting With Agent\",\n",
    "            background_color=\"#181a1c\",\n",
    "        ),\n",
    "        \"footer_cs\": emailbuilder.footer_company(naas=True),\n",
    "    }\n",
    "\n",
    "    email_content = emailbuilder.generate(display=\"iframe\", **content)\n",
    "    return email_content\n",
    "\n",
    "\n",
    "email_content = email_brief(\n",
    "    today,\n",
    "    top_clients_list,\n",
    ")"
   ]
  },
  {
   "cell_type": "markdown",
   "id": "d35cd890-1d46-4e43-b701-f2f9db884339",
   "metadata": {
    "execution": {
     "iopub.execute_input": "2022-04-12T14:42:10.762125Z",
     "iopub.status.busy": "2022-04-12T14:42:10.761884Z",
     "iopub.status.idle": "2022-04-12T14:42:10.764880Z",
     "shell.execute_reply": "2022-04-12T14:42:10.764227Z",
     "shell.execute_reply.started": "2022-04-12T14:42:10.762100Z"
    },
    "papermill": {},
    "tags": []
   },
   "source": [
    "## Output"
   ]
  },
  {
   "cell_type": "markdown",
   "id": "ac9e6c66-984b-4e0a-ba45-202593c40cbb",
   "metadata": {
    "papermill": {},
    "tags": []
   },
   "source": [
    "### Send post engagement by email"
   ]
  },
  {
   "cell_type": "code",
   "execution_count": null,
   "id": "c7adf4fe-d12c-4271-829f-b6e765b8aecf",
   "metadata": {
    "execution": {
     "iopub.execute_input": "2023-10-14T16:08:49.325588Z",
     "iopub.status.busy": "2023-10-14T16:08:49.325362Z",
     "iopub.status.idle": "2023-10-14T16:09:01.519800Z",
     "shell.execute_reply": "2023-10-14T16:09:01.519126Z",
     "shell.execute_reply.started": "2023-10-14T16:08:49.325564Z"
    },
    "papermill": {},
    "tags": []
   },
   "outputs": [],
   "source": [
    "# sends the email\n",
    "naas.notification.send(\n",
    "    email_to=EMAIL_TO, subject=EMAIL_SUBJECT, html=email_content, email_from=EMAIL_FROM\n",
    ")"
   ]
  }
 ],
 "metadata": {
  "kernelspec": {
   "display_name": "Python 3",
   "language": "python",
   "name": "python3"
  },
  "language_info": {
   "codemirror_mode": {
    "name": "ipython",
    "version": 3
   },
   "file_extension": ".py",
   "mimetype": "text/x-python",
   "name": "python",
   "nbconvert_exporter": "python",
   "pygments_lexer": "ipython3",
   "version": "3.9.6"
  },
  "widgets": {
   "application/vnd.jupyter.widget-state+json": {
    "state": {},
    "version_major": 2,
    "version_minor": 0
   }
  }
 },
 "nbformat": 4,
 "nbformat_minor": 5
}
