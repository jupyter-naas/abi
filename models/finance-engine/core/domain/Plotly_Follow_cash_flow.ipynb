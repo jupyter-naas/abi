{
 "cells": [
  {
   "cell_type": "markdown",
   "id": "6859e258-5916-47e0-bafe-840216bccb66",
   "metadata": {
    "execution": {
     "iopub.execute_input": "2021-02-23T14:22:16.610471Z",
     "iopub.status.busy": "2021-02-23T14:22:16.610129Z",
     "iopub.status.idle": "2021-02-23T14:22:16.627784Z",
     "shell.execute_reply": "2021-02-23T14:22:16.626866Z",
     "shell.execute_reply.started": "2021-02-23T14:22:16.610384Z"
    },
    "papermill": {},
    "tags": []
   },
   "source": [
    "<img width=\"8%\" alt=\"Plotly.png\" src=\"https://raw.githubusercontent.com/jupyter-naas/awesome-notebooks/master/.github/assets/logos/Plotly.png\" style=\"border-radius: 15%\">"
   ]
  },
  {
   "cell_type": "markdown",
   "id": "53d8faa3-625a-4ce0-8ac0-2144fc572bf9",
   "metadata": {
    "papermill": {},
    "tags": []
   },
   "source": [
    "# Plotly - Follow cash flow"
   ]
  },
  {
   "cell_type": "markdown",
   "id": "c333a80d-ed9a-4721-9980-8b2724b12dc6",
   "metadata": {
    "papermill": {},
    "tags": []
   },
   "source": [
    "**Tags:** #plotly #html #csv #image #finance #analytics #transactions #ledger #metric"
   ]
  },
  {
   "cell_type": "markdown",
   "id": "8df1c2de-f9b1-44f6-abdd-dc6fe4251c14",
   "metadata": {
    "papermill": {},
    "tags": []
   },
   "source": [
    "**Author:** [Florent Ravenel](https://www.linkedin.com/in/florent-ravenel/)"
   ]
  },
  {
   "cell_type": "markdown",
   "id": "7d7c58bc-96fa-4961-96d8-7f7ef5c535b4",
   "metadata": {
    "papermill": {},
    "tags": [
     "description"
    ]
   },
   "source": [
    "**Description:** This notebook creates a barline chart graph tracking your cashflows over the last 12 months."
   ]
  },
  {
   "cell_type": "markdown",
   "id": "distinguished-truth",
   "metadata": {
    "papermill": {},
    "tags": []
   },
   "source": [
    "## Input"
   ]
  },
  {
   "cell_type": "markdown",
   "id": "numeric-mediterranean",
   "metadata": {
    "papermill": {},
    "tags": []
   },
   "source": [
    "### Import libraries"
   ]
  },
  {
   "cell_type": "code",
   "execution_count": null,
   "id": "potential-surfing",
   "metadata": {
    "papermill": {},
    "tags": []
   },
   "outputs": [],
   "source": [
    "import plotly.graph_objects as go\n",
    "from plotly.subplots import make_subplots\n",
    "import pandas as pd\n",
    "import naas\n",
    "import random\n",
    "import os\n",
    "from datetime import date, datetime, timedelta\n",
    "import naas_data_product"
   ]
  },
  {
   "cell_type": "markdown",
   "id": "9b63f92e-b1e0-43cc-86d8-db12ae89558e",
   "metadata": {
    "papermill": {},
    "tags": []
   },
   "source": [
    "### Setup variables\n",
    "**Inputs**\n",
    "- `entity_dir`: Entity directory.\n",
    "- `entity_name`: Entity name.\n",
    "- `input_dir`: Input directory to retrieve file from.\n",
    "- `input_file`: Input file.\n",
    "- `spreadsheet_url`: Google Sheets spreadsheet URL.\n",
    "- `sheet_name`: Google Sheets sheet name.\n",
    "- `title`: Graph title.\n",
    "\n",
    "**Outputs**\n",
    "- `output_dir`: This variable is used for storing the path to the directory where the output files will be saved."
   ]
  },
  {
   "cell_type": "code",
   "execution_count": null,
   "id": "47b21878-f530-436b-95f8-4ed65b42da19",
   "metadata": {
    "papermill": {},
    "tags": []
   },
   "outputs": [],
   "source": [
    "# Inputs\n",
    "entity_dir = pload(os.path.join(naas_data_product.OUTPUTS_PATH, \"entities\", \"0\"), \"entity_dir\")\n",
    "entity_name = pload(os.path.join(naas_data_product.OUTPUTS_PATH, \"entities\", \"0\"), \"entity_name\")\n",
    "input_dir = os.path.join(entity_dir, \"finance-engine\", date.today().isoformat())\n",
    "input_file = \"transactions\"\n",
    "spreadsheet_url = pload(os.path.join(naas_data_product.OUTPUTS_PATH, \"entities\", \"0\"), \"abi_spreadsheet\")\n",
    "sheet_name = \"TRANSACTIONS\"\n",
    "title = \"Cash Flow Statement\"\n",
    "\n",
    "# Outputs\n",
    "output_dir = os.path.join(entity_dir, \"finance-engine\", date.today().isoformat())\n",
    "os.makedirs(output_dir, exist_ok=True)\n",
    "output_name = \"finance_trend\""
   ]
  },
  {
   "cell_type": "markdown",
   "id": "registered-showcase",
   "metadata": {
    "papermill": {},
    "tags": []
   },
   "source": [
    "## Model"
   ]
  },
  {
   "cell_type": "markdown",
   "id": "6c59de19-9541-47b9-8561-55ad88243907",
   "metadata": {},
   "source": [
    "### Set outputs"
   ]
  },
  {
   "cell_type": "code",
   "execution_count": null,
   "id": "a5948dbb-fb9b-48b2-ac10-ce635837609e",
   "metadata": {
    "tags": []
   },
   "outputs": [],
   "source": [
    "html_output = os.path.join(output_dir, f\"{output_name}.html\")\n",
    "image_output = os.path.join(output_dir, f\"{output_name}.png\")"
   ]
  },
  {
   "cell_type": "markdown",
   "id": "0df10ed5-44fe-4abd-a3c1-61154c819e8c",
   "metadata": {
    "papermill": {},
    "tags": []
   },
   "source": [
    "### Get \"Cashin\" data"
   ]
  },
  {
   "cell_type": "code",
   "execution_count": null,
   "id": "82cb0b6e-1a32-46fb-96b2-a1fba5ff515e",
   "metadata": {
    "papermill": {},
    "tags": []
   },
   "outputs": [],
   "source": [
    "data_cashin = {\n",
    "    \"ENTITY\": [\"Abi\"] * 12,\n",
    "    \"SCENARIO\": [\"2023-12\"] * 12,\n",
    "    \"LABEL\": [\n",
    "        \"2023-01\",\n",
    "        \"2023-02\",\n",
    "        \"2023-03\",\n",
    "        \"2023-04\",\n",
    "        \"2023-05\",\n",
    "        \"2023-06\",\n",
    "        \"2023-07\",\n",
    "        \"2023-08\",\n",
    "        \"2023-09\",\n",
    "        \"2023-10\",\n",
    "        \"2023-11\",\n",
    "        \"2023-12\",\n",
    "    ],\n",
    "    \"GROUP\": [\"Cash in\"] * 12,\n",
    "    \"VALUE\": [random.randint(250, 500) for i in range(0, 12)],\n",
    "}\n",
    "\n",
    "df_cashin = pd.DataFrame(data_cashin)\n",
    "df_cashin"
   ]
  },
  {
   "cell_type": "markdown",
   "id": "706da888-645f-4d24-a2df-08570dcf10e3",
   "metadata": {
    "papermill": {},
    "tags": []
   },
   "source": [
    "### Get \"Cashout\" data"
   ]
  },
  {
   "cell_type": "code",
   "execution_count": null,
   "id": "df314ec4-6836-4cb8-a488-59ebd71937e9",
   "metadata": {
    "papermill": {},
    "tags": []
   },
   "outputs": [],
   "source": [
    "data_cashout = {\n",
    "    \"ENTITY\": [\"Abi\"] * 12,\n",
    "    \"SCENARIO\": [\"2023-12\"] * 12,\n",
    "    \"LABEL\": [\n",
    "        \"2023-01\",\n",
    "        \"2023-02\",\n",
    "        \"2023-03\",\n",
    "        \"2023-04\",\n",
    "        \"2023-05\",\n",
    "        \"2023-06\",\n",
    "        \"2023-07\",\n",
    "        \"2023-08\",\n",
    "        \"2023-09\",\n",
    "        \"2023-10\",\n",
    "        \"2023-11\",\n",
    "        \"2023-12\",\n",
    "    ],\n",
    "    \"GROUP\": [\"Cash out\"] * 12,\n",
    "    \"VALUE\": [random.randint(0, 350) * -1 for i in range(0, 12)],\n",
    "}\n",
    "df_cashout = pd.DataFrame(data_cashout)\n",
    "df_cashout"
   ]
  },
  {
   "cell_type": "markdown",
   "id": "9a8484e3-708e-4453-81e5-05122c4dacb5",
   "metadata": {
    "papermill": {},
    "tags": []
   },
   "source": [
    "### Calculate \"Cash Position\""
   ]
  },
  {
   "cell_type": "code",
   "execution_count": null,
   "id": "081e987c-a03a-4c98-8573-180ec3d7c6a1",
   "metadata": {
    "papermill": {},
    "tags": []
   },
   "outputs": [],
   "source": [
    "# concat cash in and cash out\n",
    "df_position = pd.concat([df_cashin, df_cashout])\n",
    "\n",
    "# rename column GROUP = \"Position\" and groupby + agg\n",
    "to_group = [\n",
    "    \"ENTITY\",\n",
    "    \"SCENARIO\",\n",
    "    \"LABEL\",\n",
    "    \"GROUP\"\n",
    "]\n",
    "to_agg = {\n",
    "    \"VALUE\": \"sum\"\n",
    "}\n",
    "df_position[\"GROUP\"] = \"Position\"\n",
    "df_position[\"VALUE\"] = df_position[\"VALUE\"] + 1000\n",
    "df_position = df_position.groupby(to_group, as_index=False).agg(to_agg)\n",
    "df_position"
   ]
  },
  {
   "cell_type": "markdown",
   "id": "392bcc8b-0844-4d69-ac89-d07eccbaaa7c",
   "metadata": {},
   "source": [
    "### Create title and logo"
   ]
  },
  {
   "cell_type": "code",
   "execution_count": null,
   "id": "3f15b017-bdc8-4d19-bd85-31ab1082144d",
   "metadata": {
    "tags": []
   },
   "outputs": [],
   "source": [
    "# Calc data\n",
    "total = df_position.loc[df_position.index[-1], \"VALUE\"]\n",
    "total_n1 = df_position.loc[df_position.index[-2], \"VALUE\"]\n",
    "varv = df_cashin.loc[df_cashin.index[-1], \"VALUE\"] + df_cashout.loc[df_cashout.index[-1], \"VALUE\"]\n",
    "varp = 0\n",
    "if total_n1 != 0:\n",
    "    varp = varv / total_n1\n",
    "\n",
    "# Create value to displayed\n",
    "total_d = \"{:,.0f}\".format(total).replace(\",\", \" \")\n",
    "varv_d = \"{:,.0f}\".format(varv).replace(\",\", \" \")\n",
    "varp_d = \"{:,.0%}\".format(varp).replace(\",\", \" \")\n",
    "if varv >= 0:\n",
    "    varv_d = f\"+{varv_d}\"\n",
    "    varp_d = f\"+{varp_d}\"\n",
    "title_full = f\"<b><span style='font-size: 20px;'>{title}</span></b><br><span style='font-size: 18px;'>{total_d} | {varv_d} ({varp_d}) vs last month</span>\"\n",
    "\n",
    "# Logo\n",
    "logo = None\n",
    "if varv > 0:\n",
    "    logo = arrow_up\n",
    "elif varv > -0.2:\n",
    "    logo = arrow_right\n",
    "else:\n",
    "    logo = arrow_down\n",
    "print(\"Title:\", title_full)"
   ]
  },
  {
   "cell_type": "markdown",
   "id": "tested-astrology",
   "metadata": {
    "papermill": {},
    "tags": []
   },
   "source": [
    "### Create barlinechart using Plotly"
   ]
  },
  {
   "cell_type": "code",
   "execution_count": null,
   "id": "crude-louisville",
   "metadata": {
    "papermill": {},
    "tags": []
   },
   "outputs": [],
   "source": [
    "def create_barlinechart(\n",
    "    df_cashin,\n",
    "    df_cashout,\n",
    "    df_position,\n",
    "    xaxis_title=None,\n",
    "    yaxis_title_r=None,\n",
    "    yaxis_title_l=None,\n",
    "):\n",
    "    # Create figure with secondary y-axis\n",
    "    fig = make_subplots(specs=[[{\"secondary_y\": True}]])\n",
    "\n",
    "    # Add traces\n",
    "    fig.add_trace(\n",
    "        go.Bar(\n",
    "            name=\"Encaissement\",\n",
    "            x=df_cashin[\"LABEL\"],\n",
    "            y=df_cashin[\"VALUE\"],\n",
    "            marker=dict(color=\"#1b7656\"),\n",
    "        ),\n",
    "        secondary_y=False,\n",
    "    )\n",
    "    fig.add_trace(\n",
    "        go.Bar(\n",
    "            name=\"Décaissement\",\n",
    "            x=df_cashout[\"LABEL\"],\n",
    "            y=df_cashout[\"VALUE\"] * -1,\n",
    "            marker=dict(color=\"#cd3244\"),\n",
    "        ),\n",
    "        secondary_y=False,\n",
    "    )\n",
    "    fig.add_trace(\n",
    "        go.Scatter(\n",
    "            x=df_position[\"LABEL\"],\n",
    "            y=df_position[\"VALUE\"],\n",
    "            mode=\"lines\",\n",
    "            line=dict(color=\"#46a7f5\", width=2.5),\n",
    "        ),\n",
    "        secondary_y=True,\n",
    "    )\n",
    "    # Add logo\n",
    "    fig.add_layout_image(\n",
    "        dict(\n",
    "            source=logo,\n",
    "            xref=\"paper\",\n",
    "            yref=\"paper\",\n",
    "            x=0.01,\n",
    "            y=1.05,\n",
    "            sizex=0.12,\n",
    "            sizey=0.12,\n",
    "            xanchor=\"right\",\n",
    "            yanchor=\"bottom\",\n",
    "        )\n",
    "    )\n",
    "\n",
    "    # Add figure title\n",
    "    fig.update_layout(\n",
    "        title=title_full,\n",
    "        title_x=0.09,\n",
    "        title_font=dict(family=\"Arial\", color=\"black\"),\n",
    "        paper_bgcolor=\"#ffffff\",\n",
    "        plot_bgcolor=\"#ffffff\",\n",
    "        legend=None,\n",
    "        margin_pad=10,\n",
    "        margin_r=10,\n",
    "        width=1200,\n",
    "        height=600,\n",
    "        xaxis_title=xaxis_title,\n",
    "        xaxis_title_font=dict(family=\"Arial\", size=12, color=\"black\"),\n",
    "        xaxis={\"type\": \"category\"},\n",
    "    )\n",
    "\n",
    "    # Set y-axes titles\n",
    "    fig.update_yaxes(\n",
    "        title_text=yaxis_title_r,\n",
    "        title_font=dict(family=\"Arial\", size=12, color=\"black\"),\n",
    "        secondary_y=False,\n",
    "    )\n",
    "    fig.update_yaxes(\n",
    "        title_text=yaxis_title_l,\n",
    "        title_font=dict(family=\"Arial\", size=12, color=\"black\"),\n",
    "        secondary_y=True,\n",
    "    )\n",
    "    fig.update_traces(showlegend=False)\n",
    "    fig.show()\n",
    "    return fig\n",
    "\n",
    "\n",
    "fig = create_barlinechart(\n",
    "    df_cashin,\n",
    "    df_cashout,\n",
    "    df_position,\n",
    "    xaxis_title=None,\n",
    "    yaxis_title_r=\"Flows\",\n",
    "    yaxis_title_l=\"Position\",\n",
    ")"
   ]
  },
  {
   "cell_type": "markdown",
   "id": "lonely-pacific",
   "metadata": {
    "execution": {
     "iopub.execute_input": "2021-07-02T23:32:10.789097Z",
     "iopub.status.busy": "2021-07-02T23:32:10.788829Z",
     "iopub.status.idle": "2021-07-02T23:32:10.796900Z",
     "shell.execute_reply": "2021-07-02T23:32:10.796358Z",
     "shell.execute_reply.started": "2021-07-02T23:32:10.789033Z"
    },
    "papermill": {},
    "tags": []
   },
   "source": [
    "## Output"
   ]
  },
  {
   "cell_type": "markdown",
   "id": "87c9da68-5ca9-4294-b44d-f2514cce77ef",
   "metadata": {
    "papermill": {},
    "tags": []
   },
   "source": [
    "### Save and share your csv file"
   ]
  },
  {
   "cell_type": "code",
   "execution_count": null,
   "id": "438645b6-1c1f-4725-9649-5b9f0fdb8da9",
   "metadata": {
    "papermill": {},
    "tags": []
   },
   "outputs": [],
   "source": [
    "# # Save your dataframe in CSV\n",
    "# df_trend.to_csv(csv_output, index=False)"
   ]
  },
  {
   "cell_type": "markdown",
   "id": "2748d1c8-1fdc-4e73-837d-61f24080227f",
   "metadata": {
    "papermill": {},
    "tags": []
   },
   "source": [
    "### Save and share your graph in HTML\n"
   ]
  },
  {
   "cell_type": "code",
   "execution_count": null,
   "id": "1721bf1f-c2a9-4111-802a-6d03203ac6ba",
   "metadata": {
    "papermill": {},
    "tags": []
   },
   "outputs": [],
   "source": [
    "# Save your graph in HTML\n",
    "fig.write_html(html_output)\n",
    "\n",
    "# Share output with naas\n",
    "html_link = naas.asset.add(html_output, override_prod=True, params={\"inline\": True})\n",
    "\n",
    "# -> Uncomment the line below to remove your asset\n",
    "# naas.asset.delete(html_output)"
   ]
  },
  {
   "cell_type": "markdown",
   "id": "6d05d5bf-e745-4392-9603-d10b8314cdf5",
   "metadata": {
    "papermill": {},
    "tags": []
   },
   "source": [
    "### Save and share your graph in image\n"
   ]
  },
  {
   "cell_type": "code",
   "execution_count": null,
   "id": "f51a9529-41fe-4236-9023-b13c1e0cce6b",
   "metadata": {
    "papermill": {},
    "tags": []
   },
   "outputs": [],
   "source": [
    "# Save your graph in PNG\n",
    "fig.write_image(image_output)\n",
    "\n",
    "# Share output with naas\n",
    "image_link = naas.asset.add(image_output, override_prod=True, params={\"inline\": True})\n",
    "\n",
    "# -> Uncomment the line below to remove your asset\n",
    "# naas.asset.delete(image_output)"
   ]
  }
 ],
 "metadata": {
  "kernelspec": {
   "display_name": "Python 3",
   "language": "python",
   "name": "python3"
  },
  "language_info": {
   "codemirror_mode": {
    "name": "ipython",
    "version": 3
   },
   "file_extension": ".py",
   "mimetype": "text/x-python",
   "name": "python",
   "nbconvert_exporter": "python",
   "pygments_lexer": "ipython3",
   "version": "3.9.6"
  },
  "naas": {
   "notebook_id": "d73ae271b1557432c42c76c41c62f94628dd97120e11e41b0f1c0f0eee97a9c5",
   "notebook_path": "FEC/FEC_Visualiser_Trésorerie_Barline_Chart.ipynb"
  },
  "papermill": {
   "default_parameters": {},
   "environment_variables": {},
   "parameters": {},
   "version": "2.3.3"
  },
  "widgets": {
   "application/vnd.jupyter.widget-state+json": {
    "state": {},
    "version_major": 2,
    "version_minor": 0
   }
  }
 },
 "nbformat": 4,
 "nbformat_minor": 5
}
