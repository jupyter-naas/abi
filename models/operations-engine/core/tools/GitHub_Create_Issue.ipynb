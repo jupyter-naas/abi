{
 "cells": [
  {
   "cell_type": "markdown",
   "id": "a92ad770-55bd-450c-8e6e-de64c0347cdd",
   "metadata": {
    "papermill": {},
    "tags": []
   },
   "source": [
    "<img width=\"8%\" alt=\"GitHub.png\" src=\"https://raw.githubusercontent.com/jupyter-naas/awesome-notebooks/master/.github/assets/logos/GitHub.png\" style=\"border-radius: 15%\">"
   ]
  },
  {
   "cell_type": "markdown",
   "id": "a5b2c509-2c29-49e8-af91-4f3f1e386da3",
   "metadata": {
    "papermill": {},
    "tags": []
   },
   "source": [
    "# GitHub - Create Issue"
   ]
  },
  {
   "cell_type": "markdown",
   "id": "d77fe283-4edd-42d3-a909-8e207d4b842f",
   "metadata": {
    "papermill": {},
    "tags": []
   },
   "source": [
    "**Tags:** #github #naas #naas_driver #command"
   ]
  },
  {
   "cell_type": "markdown",
   "id": "b90f2d91-c886-4e36-8265-b09d06bb1c7f",
   "metadata": {
    "papermill": {},
    "tags": []
   },
   "source": [
    "**Author:** [Florent Ravenel](https://www.linkedin.com/in/florent-ravenel)"
   ]
  },
  {
   "cell_type": "markdown",
   "id": "d26ad1f3-818a-4967-bb68-d433d8921d17",
   "metadata": {
    "papermill": {},
    "tags": []
   },
   "source": [
    "**Last update:** 2024-02-07 (Created: 2024-02-07)"
   ]
  },
  {
   "cell_type": "markdown",
   "id": "214749fe-7f0b-4755-b7ea-1d200c234cc6",
   "metadata": {
    "papermill": {},
    "tags": []
   },
   "source": [
    "**Description:** This notebook creates an issue on a GitHub repository."
   ]
  },
  {
   "cell_type": "markdown",
   "id": "a1329bea-ad80-4981-874c-8776b11f89a8",
   "metadata": {
    "papermill": {},
    "tags": []
   },
   "source": [
    "**References:**\n",
    "- [Generate a personal access token](https://docs.github.com/en/github/authenticating-to-github/creating-a-personal-access-token)\n",
    "- [Go to personal access token](https://github.com/settings/tokens)"
   ]
  },
  {
   "cell_type": "markdown",
   "id": "cff349c8-2816-4ae4-9229-027c068eeb51",
   "metadata": {
    "papermill": {},
    "tags": []
   },
   "source": [
    "## Input"
   ]
  },
  {
   "cell_type": "markdown",
   "id": "80266a9e-fe54-4f3e-aeb2-01483bbc53f9",
   "metadata": {
    "papermill": {},
    "tags": []
   },
   "source": [
    "### Import libraries"
   ]
  },
  {
   "cell_type": "code",
   "execution_count": 1,
   "id": "cc038b10-2679-42bc-909e-09a298339df4",
   "metadata": {
    "execution": {
     "iopub.execute_input": "2024-02-07T12:03:50.605458Z",
     "iopub.status.busy": "2024-02-07T12:03:50.605009Z",
     "iopub.status.idle": "2024-02-07T12:03:52.756372Z",
     "shell.execute_reply": "2024-02-07T12:03:52.755754Z",
     "shell.execute_reply.started": "2024-02-07T12:03:50.605364Z"
    },
    "papermill": {},
    "tags": []
   },
   "outputs": [],
   "source": [
    "import naas\n",
    "import requests\n",
    "import json"
   ]
  },
  {
   "cell_type": "markdown",
   "id": "e930da4d-39a2-424e-8808-77fd0a3829bf",
   "metadata": {
    "papermill": {},
    "tags": []
   },
   "source": [
    "### Setup variables\n",
    "- `repo_url`: https://github.com/jupyter-naas/awesome-notebooks\n",
    "- `title`: My New Issue\n",
    "- `description`: My Description\n",
    "- `assignee`: \"Abi\"\n",
    "- `label`: \"good first issue\", \"enhancement\"\n",
    "- `token`: \"gitwxxxxxxxxxxxxxxx\"\n",
    "- `body`: This variable stores the body to be send by the webhook."
   ]
  },
  {
   "cell_type": "code",
   "execution_count": 2,
   "id": "6cf9bd9b-ce83-45a5-ab0f-15c978458b42",
   "metadata": {
    "execution": {
     "iopub.execute_input": "2024-02-07T12:03:52.757879Z",
     "iopub.status.busy": "2024-02-07T12:03:52.757655Z",
     "iopub.status.idle": "2024-02-07T12:03:52.761294Z",
     "shell.execute_reply": "2024-02-07T12:03:52.760718Z",
     "shell.execute_reply.started": "2024-02-07T12:03:52.757851Z"
    },
    "papermill": {},
    "tags": []
   },
   "outputs": [],
   "source": [
    "# Mandatory\n",
    "repo_url = \"https://github.com/jupyter-naas/awesome-notebooks\"\n",
    "title = \"My New Issue\"\n",
    "description = \"My Description\"\n",
    "assignee = None\n",
    "label = None\n",
    "token = None\n",
    "\n",
    "# Optional\n",
    "body = {}"
   ]
  },
  {
   "cell_type": "markdown",
   "id": "70006e5c-3620-423a-b1ff-8bc1a8014041",
   "metadata": {
    "execution": {
     "iopub.execute_input": "2023-09-26T17:20:36.759189Z",
     "iopub.status.busy": "2023-09-26T17:20:36.758881Z",
     "iopub.status.idle": "2023-09-26T17:20:36.765546Z",
     "shell.execute_reply": "2023-09-26T17:20:36.764836Z",
     "shell.execute_reply.started": "2023-09-26T17:20:36.759155Z"
    },
    "papermill": {},
    "tags": [
     "parameters"
    ]
   },
   "source": [
    "### Setup parameters\n",
    "The webhook body will be injected below this cell when the webhook is triggered. \n",
    "Therefore, it is important to set up how you will handle the injected variable from the body in order to make your script work.\n",
    "To receive the body from the webhook, please ensure that this cell is tagged as \"parameters\"."
   ]
  },
  {
   "cell_type": "code",
   "execution_count": 3,
   "id": "9bf914f6-f343-4764-ab2c-8f04b317f257",
   "metadata": {
    "execution": {
     "iopub.execute_input": "2024-02-07T12:03:52.762642Z",
     "iopub.status.busy": "2024-02-07T12:03:52.762262Z",
     "iopub.status.idle": "2024-02-07T12:03:52.861395Z",
     "shell.execute_reply": "2024-02-07T12:03:52.860837Z",
     "shell.execute_reply.started": "2024-02-07T12:03:52.762612Z"
    },
    "papermill": {},
    "tags": [
     "parameters"
    ]
   },
   "outputs": [],
   "source": [
    "# Parameters\n",
    "if len(body) > 0:\n",
    "    repo_url = body.get(\"repo_url\")\n",
    "    title = body.get(\"title\")\n",
    "    description = body.get(\"description\")\n",
    "    assignee = body.get(\"assignee\")\n",
    "    label = body.get(\"label\")\n",
    "    token = body.get(\"token\")"
   ]
  },
  {
   "cell_type": "markdown",
   "id": "9070993a-eec9-4f78-a7f9-2e18c743a20d",
   "metadata": {
    "papermill": {},
    "tags": []
   },
   "source": [
    "## Model"
   ]
  },
  {
   "cell_type": "markdown",
   "id": "8fdb229f-33cf-4bac-9ea4-27c4e46fa323",
   "metadata": {
    "papermill": {},
    "tags": []
   },
   "source": [
    "### Create New GitHub Issue"
   ]
  },
  {
   "cell_type": "code",
   "execution_count": 4,
   "id": "fa1e9e64-09c4-449f-8ddd-d55f4c064eed",
   "metadata": {
    "execution": {
     "iopub.execute_input": "2024-02-07T12:03:52.862701Z",
     "iopub.status.busy": "2024-02-07T12:03:52.862358Z",
     "iopub.status.idle": "2024-02-07T12:03:53.108878Z",
     "shell.execute_reply": "2024-02-07T12:03:53.107884Z",
     "shell.execute_reply.started": "2024-02-07T12:03:52.862670Z"
    },
    "papermill": {},
    "tags": []
   },
   "outputs": [
    {
     "name": "stdout",
     "output_type": "stream",
     "text": [
      "Status: ok\n",
      "Message: ❌ Unable to Connect to GitHub. Issue not created: 'My New Issue'\n"
     ]
    }
   ],
   "source": [
    "def create_new_github_issue(\n",
    "    repo_url=None,\n",
    "    title=None,\n",
    "    description=None,\n",
    "    assignee=None,\n",
    "    label=None,\n",
    "    token=None\n",
    "):  \n",
    "    # Init\n",
    "    status = \"ok\"\n",
    "    message = f\"✅ Issue has been created, here is the link: [URL]\"\n",
    "    \n",
    "    # Check if GitHub connection is set\n",
    "    if not naas.secret.get('GITHUB_TOKEN'):\n",
    "        message = f\"❌ Unable to Connect to GitHub. Issue not created: '{title}'\"\n",
    "        return status, message \n",
    "    \n",
    "    # Create Issue\n",
    "    try:\n",
    "        # Repo name\n",
    "        repo_name = repo_url.split(\"https://github.com/\")[-1]\n",
    "\n",
    "        # Requests\n",
    "        url = f\"https://api.github.com/repos/{repo_name}/issues\"\n",
    "        data = {}\n",
    "        if title:\n",
    "            data[\"title\"] = title\n",
    "        if description:\n",
    "            data[\"body\"] = description\n",
    "        if assignee:\n",
    "            data[\"assignees\"] = assignee\n",
    "        if label:\n",
    "            data[\"labels\"] = label\n",
    "        if len(data) > 0:\n",
    "            headers = {'Authorization': f'token {token}'}\n",
    "            response = requests.post(url, data=json.dumps(data), headers=headers)\n",
    "            github_issue = response.json()\n",
    "            url = f\"https://github.com/jupyter-naas/awesome-notebooks/issues/{github_issue.get('number')}\"\n",
    "            message = message.replace(\"[URL]\", url)\n",
    "        else:\n",
    "            message = f\"Nothing to create, payload is empty: {data}.\"\n",
    "    except Exception as e:\n",
    "        status = \"ko\"\n",
    "        message = e\n",
    "        print(e)\n",
    "    return status, message\n",
    "\n",
    "\n",
    "\n",
    "status, message = create_new_github_issue(\n",
    "    repo_url,\n",
    "    title,\n",
    "    description,\n",
    "    assignee,\n",
    "    label,\n",
    "    token\n",
    ")\n",
    "print(\"Status:\", status)\n",
    "print(\"Message:\", message)"
   ]
  },
  {
   "cell_type": "markdown",
   "id": "81ce4521-731f-42cb-8ace-0e7611c750b3",
   "metadata": {
    "papermill": {},
    "tags": []
   },
   "source": [
    "## Output"
   ]
  },
  {
   "cell_type": "markdown",
   "id": "a4f27745-0edf-4fd1-9aed-dd2e90873ed0",
   "metadata": {
    "papermill": {},
    "tags": []
   },
   "source": [
    "### Create or update Webhook"
   ]
  },
  {
   "cell_type": "code",
   "execution_count": 5,
   "id": "a1b08bd9-fee4-403e-871e-3c797d07e4ec",
   "metadata": {
    "execution": {
     "iopub.execute_input": "2024-02-07T12:03:53.110176Z",
     "iopub.status.busy": "2024-02-07T12:03:53.109926Z",
     "iopub.status.idle": "2024-02-07T12:03:53.698703Z",
     "shell.execute_reply": "2024-02-07T12:03:53.697999Z",
     "shell.execute_reply.started": "2024-02-07T12:03:53.110146Z"
    }
   },
   "outputs": [
    {
     "name": "stdout",
     "output_type": "stream",
     "text": [
      "👌 Well done! Your Notebook has been sent to production.\n",
      "\n"
     ]
    },
    {
     "data": {
      "application/javascript": [
       "\n",
       "    if (!window.copyToClipboard) {\n",
       "        window.copyToClipboard = (text) => {\n",
       "            const dummy = document.createElement(\"textarea\");\n",
       "            document.body.appendChild(dummy);\n",
       "            dummy.value = text;\n",
       "            dummy.select();\n",
       "            document.execCommand(\"copy\");\n",
       "            document.body.removeChild(dummy);\n",
       "        }\n",
       "    }\n",
       "    "
      ],
      "text/plain": [
       "<IPython.core.display.Javascript object>"
      ]
     },
     "metadata": {},
     "output_type": "display_data"
    },
    {
     "data": {
      "application/vnd.jupyter.widget-view+json": {
       "model_id": "fe930e1a188d4979961a1090e60c2708",
       "version_major": 2,
       "version_minor": 0
      },
      "text/plain": [
       "Button(button_style='primary', description='Copy URL', style=ButtonStyle())"
      ]
     },
     "metadata": {},
     "output_type": "display_data"
    },
    {
     "data": {
      "application/vnd.jupyter.widget-view+json": {
       "model_id": "20999fd3d7914af089085718c93a1cbb",
       "version_major": 2,
       "version_minor": 0
      },
      "text/plain": [
       "Output()"
      ]
     },
     "metadata": {},
     "output_type": "display_data"
    },
    {
     "name": "stdout",
     "output_type": "stream",
     "text": [
      "PS: to remove the \"Notebook as API\" feature, just replace .add by .delete\n"
     ]
    },
    {
     "data": {
      "text/plain": [
       "'https://public.naas.ai/YWJpLTJEZGVtby00MG5hYXMtMkVhaQ==/notebook/7501dea41c95dbb1c493d30830442aca69aff6a7f029a032374026e6ca32'"
      ]
     },
     "execution_count": 5,
     "metadata": {},
     "output_type": "execute_result"
    }
   ],
   "source": [
    "naas.webhook.add()"
   ]
  },
  {
   "cell_type": "markdown",
   "id": "9a488b91-7178-4bad-9f92-b1db22f9ae35",
   "metadata": {
    "execution": {
     "iopub.execute_input": "2023-09-26T15:15:09.022426Z",
     "iopub.status.busy": "2023-09-26T15:15:09.022118Z",
     "iopub.status.idle": "2023-09-26T15:15:09.025782Z",
     "shell.execute_reply": "2023-09-26T15:15:09.025087Z",
     "shell.execute_reply.started": "2023-09-26T15:15:09.022389Z"
    },
    "papermill": {},
    "tags": []
   },
   "source": [
    "### Return JSON response\n",
    "Response sent to the browser before displayed in Chat UI."
   ]
  },
  {
   "cell_type": "code",
   "execution_count": 6,
   "id": "c0b8c592-9706-4f53-aaa9-c87bf4fc6d75",
   "metadata": {
    "execution": {
     "iopub.execute_input": "2024-02-07T12:03:53.700302Z",
     "iopub.status.busy": "2024-02-07T12:03:53.700040Z",
     "iopub.status.idle": "2024-02-07T12:03:53.710351Z",
     "shell.execute_reply": "2024-02-07T12:03:53.709741Z",
     "shell.execute_reply.started": "2024-02-07T12:03:53.700270Z"
    },
    "papermill": {},
    "tags": []
   },
   "outputs": [
    {
     "data": {
      "text/markdown": [
       "Response Set as JSON, preview below: "
      ],
      "text/plain": [
       "<IPython.core.display.Markdown object>"
      ]
     },
     "metadata": {},
     "output_type": "display_data"
    },
    {
     "data": {
      "application/json": {
       "message": "❌ Unable to Connect to GitHub. Issue not created: 'My New Issue'",
       "status": "ok"
      },
      "text/plain": [
       "<IPython.core.display.JSON object>"
      ]
     },
     "metadata": {
      "application/json": {
       "expanded": false,
       "naas_api": true,
       "root": "root"
      }
     },
     "output_type": "display_data"
    }
   ],
   "source": [
    "naas.webhook.respond_json(\n",
    "    {\n",
    "        \"status\": status, \n",
    "        \"message\": message\n",
    "    }\n",
    ")"
   ]
  },
  {
   "cell_type": "code",
   "execution_count": null,
   "id": "ec96537c-c6ce-457b-b909-fa2860cdc11f",
   "metadata": {
    "papermill": {},
    "tags": []
   },
   "outputs": [],
   "source": []
  }
 ],
 "metadata": {
  "kernelspec": {
   "display_name": "Python 3",
   "language": "python",
   "name": "python3"
  },
  "language_info": {
   "codemirror_mode": {
    "name": "ipython",
    "version": 3
   },
   "file_extension": ".py",
   "mimetype": "text/x-python",
   "name": "python",
   "nbconvert_exporter": "python",
   "pygments_lexer": "ipython3",
   "version": "3.9.6"
  },
  "naas": {
   "notebook_id": "b4f370ba8f8cdfbe77fea5032899c3686e2a964c39ea4a0796526596aa99534d",
   "notebook_path": "GitHub/GitHub_Create_Issue_from_Naas_Chat.ipynb"
  },
  "papermill": {
   "default_parameters": {},
   "environment_variables": {},
   "parameters": {},
   "version": "2.4.0"
  },
  "widgets": {
   "application/vnd.jupyter.widget-state+json": {
    "state": {},
    "version_major": 2,
    "version_minor": 0
   }
  }
 },
 "nbformat": 4,
 "nbformat_minor": 5
}
