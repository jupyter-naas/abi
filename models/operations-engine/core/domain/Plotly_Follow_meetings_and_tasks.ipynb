{
 "cells": [
  {
   "cell_type": "markdown",
   "id": "35673cb3-a65e-4e94-a60b-8b3863fd455b",
   "metadata": {
    "execution": {
     "iopub.execute_input": "2021-02-23T14:22:16.610471Z",
     "iopub.status.busy": "2021-02-23T14:22:16.610129Z",
     "iopub.status.idle": "2021-02-23T14:22:16.627784Z",
     "shell.execute_reply": "2021-02-23T14:22:16.626866Z",
     "shell.execute_reply.started": "2021-02-23T14:22:16.610384Z"
    },
    "papermill": {},
    "tags": []
   },
   "source": [
    "<img width=\"8%\" alt=\"Plotly.png\" src=\"https://raw.githubusercontent.com/jupyter-naas/awesome-notebooks/master/.github/assets/logos/Plotly.png\" style=\"border-radius: 15%\">"
   ]
  },
  {
   "cell_type": "markdown",
   "id": "b0d4ced6",
   "metadata": {
    "papermill": {},
    "tags": []
   },
   "source": [
    "# Plotly - Follow meetings and tasks"
   ]
  },
  {
   "cell_type": "markdown",
   "id": "06cb7cb7",
   "metadata": {
    "papermill": {},
    "tags": []
   },
   "source": [
    "**Tags:** #plotly #html #csv #image #operations #analytics #meetings #tasks #metric"
   ]
  },
  {
   "cell_type": "markdown",
   "id": "c64eee3c",
   "metadata": {
    "papermill": {},
    "tags": []
   },
   "source": [
    "**Author:** [Florent Ravenel](https://www.linkedin.com/in/florent-ravenel/)"
   ]
  },
  {
   "cell_type": "markdown",
   "id": "naas-description",
   "metadata": {
    "papermill": {},
    "tags": [
     "description"
    ]
   },
   "source": [
    "**Description:** This notebook creates a barchart graph tracking your daily meetings and tasks over the past two weeks."
   ]
  },
  {
   "cell_type": "markdown",
   "id": "f65cd676",
   "metadata": {
    "papermill": {},
    "tags": []
   },
   "source": [
    "## Input"
   ]
  },
  {
   "cell_type": "markdown",
   "id": "428474ab",
   "metadata": {
    "papermill": {},
    "tags": []
   },
   "source": [
    "### Import libraries"
   ]
  },
  {
   "cell_type": "code",
   "execution_count": null,
   "id": "6214ae90",
   "metadata": {
    "papermill": {},
    "tags": []
   },
   "outputs": [],
   "source": [
    "import plotly.graph_objects as go\n",
    "from naas_drivers import gsheet\n",
    "import pandas as pd\n",
    "import os\n",
    "from datetime import date, datetime, timedelta\n",
    "import naas_data_product\n",
    "import random"
   ]
  },
  {
   "cell_type": "markdown",
   "id": "5ed1bed1",
   "metadata": {
    "papermill": {},
    "tags": []
   },
   "source": [
    "### Setup variables\n",
    "**Inputs**\n",
    "- `entity_dir`: Entity directory.\n",
    "- `entity_name`: Entity name.\n",
    "- `input_dir`: Input directory to retrieve file from.\n",
    "- `input_file`: Input file.\n",
    "- `spreadsheet_url`: Google Sheets spreadsheet URL.\n",
    "- `sheet_name`: Google Sheets sheet name.\n",
    "- `title`: Graph title.\n",
    "\n",
    "**Outputs**\n",
    "- `output_dir`: This variable is used for storing the path to the directory where the output files will be saved."
   ]
  },
  {
   "cell_type": "code",
   "execution_count": null,
   "id": "190b8d21",
   "metadata": {
    "papermill": {},
    "tags": [
     "parameters"
    ]
   },
   "outputs": [],
   "source": [
    "# Inputs\n",
    "entity_dir = pload(os.path.join(naas_data_product.OUTPUTS_PATH, \"entities\", \"0\"), \"entity_dir\")\n",
    "entity_name = pload(os.path.join(naas_data_product.OUTPUTS_PATH, \"entities\", \"0\"), \"entity_name\")\n",
    "input_dir = os.path.join(entity_dir, \"operations-engine\", date.today().isoformat())\n",
    "input_file = \"meetings\"\n",
    "input_file2 = \"tasks\"\n",
    "spreadsheet_url = pload(os.path.join(naas_data_product.OUTPUTS_PATH, \"entities\", \"0\"), \"abi_spreadsheet\")\n",
    "sheet_name = \"MEETINGS\"\n",
    "sheet_name2 = \"TASKS\"\n",
    "title = \"Ops\"\n",
    "\n",
    "# Outputs\n",
    "output_dir = os.path.join(entity_dir, \"operations-engine\", date.today().isoformat())\n",
    "os.makedirs(output_dir, exist_ok=True)\n",
    "output_name = \"ops_trend\""
   ]
  },
  {
   "cell_type": "markdown",
   "id": "b3566c94",
   "metadata": {
    "papermill": {},
    "tags": []
   },
   "source": [
    "## Model"
   ]
  },
  {
   "cell_type": "markdown",
   "id": "f306feb8-0889-44c5-bb0a-99e74fdd729d",
   "metadata": {},
   "source": [
    "### Set outputs"
   ]
  },
  {
   "cell_type": "code",
   "execution_count": null,
   "id": "6a6f8da1-d66e-4f21-8d5f-56d67924895c",
   "metadata": {
    "tags": []
   },
   "outputs": [],
   "source": [
    "html_output = os.path.join(output_dir, f\"{output_name}.html\")\n",
    "image_output = os.path.join(output_dir, f\"{output_name}.png\")"
   ]
  },
  {
   "cell_type": "markdown",
   "id": "2c6dbd38-52a8-4af8-aef9-f1d6551e06ef",
   "metadata": {
    "papermill": {},
    "tags": []
   },
   "source": [
    "### Get input data"
   ]
  },
  {
   "cell_type": "code",
   "execution_count": null,
   "id": "c4ce220d-952b-4321-aed6-e1b3afe63ab8",
   "metadata": {
    "papermill": {},
    "tags": []
   },
   "outputs": [],
   "source": [
    "DATE_FORMAT = \"%Y-%m-%d\"\n",
    "PERIOD = \"%Y-%m-%d\"\n",
    "PERIOD_TEXT = \"This day\"\n",
    "\n",
    "data1 = {\n",
    "    \"ENTITY\": [\"Abi\"] * 10,\n",
    "    \"SCENARIO\": [\"W03-2024\"] * 5 +  [\"W04-2024\"] * 5,\n",
    "    \"LABEL\": [\n",
    "        \"2024-02-12\",\n",
    "        \"2024-02-13\",\n",
    "        \"2024-02-14\",\n",
    "        \"2024-02-15\",\n",
    "        \"2024-02-16\",\n",
    "        \"2024-02-19\",\n",
    "        \"2024-02-20\",\n",
    "        \"2024-02-21\",\n",
    "        \"2024-02-22\",\n",
    "        \"2024-02-23\",\n",
    "    ],\n",
    "    \"GROUP\": [\"Meetings\"] * 10,\n",
    "    \"VALUE\": [random.randint(0, 5) for i in range(0, 10)],\n",
    "}\n",
    "df1 = pd.DataFrame(data1)\n",
    "\n",
    "data2 = {\n",
    "    \"ENTITY\": [\"Abi\"] * 10,\n",
    "    \"SCENARIO\": [\"W03-2024\"] * 5 +  [\"W04-2024\"] * 5,\n",
    "    \"LABEL\": [\n",
    "        \"2024-02-12\",\n",
    "        \"2024-02-13\",\n",
    "        \"2024-02-14\",\n",
    "        \"2024-02-15\",\n",
    "        \"2024-02-16\",\n",
    "        \"2024-02-19\",\n",
    "        \"2024-02-20\",\n",
    "        \"2024-02-21\",\n",
    "        \"2024-02-22\",\n",
    "        \"2024-02-23\",\n",
    "    ],\n",
    "    \"GROUP\": [\"Tasks\"] * 10,\n",
    "    \"VALUE\": [random.randint(0, 10) for i in range(0, 10)],\n",
    "}\n",
    "df2 = pd.DataFrame(data2)\n",
    "df_trend = pd.concat([df1, df2])\n",
    "df_trend[\"LABEL_D\"] = pd.to_datetime(df_trend[\"LABEL\"], format=PERIOD).dt.strftime(\"%a %d %b\")\n",
    "df_trend[\"COLOR\"] = df_trend[\"GROUP\"].map({\"Meetings\": \"grey\", \"Tasks\": \"lightgrey\"})\n",
    "df_trend"
   ]
  },
  {
   "cell_type": "markdown",
   "id": "91e37140-3961-4ef7-ab6e-a8af744e8e8b",
   "metadata": {},
   "source": [
    "### Create title and logo"
   ]
  },
  {
   "cell_type": "code",
   "execution_count": null,
   "id": "ddb389e1-2919-4036-ba30-5e0302b6a933",
   "metadata": {
    "tags": []
   },
   "outputs": [],
   "source": [
    "def get_kpis(df):\n",
    "    # Groupby weeks\n",
    "    if len(df) > 0 and \"SCENARIO\" in df.columns:\n",
    "        df = df.groupby([\"SCENARIO\"], as_index=False).agg({\"VALUE\": \"sum\"})\n",
    "\n",
    "    # Get total and total n-1\n",
    "    if len(df) == 0:\n",
    "        total = 0\n",
    "        total_n1 = 0\n",
    "    elif len(df) == 1:\n",
    "        if df.loc[0, \"SCENARIO\"] == TW:\n",
    "            total = df.loc[0, \"VALUE\"]\n",
    "            total_n1 = 0\n",
    "        else:\n",
    "            total = 0\n",
    "            total_n1 = df.loc[0, \"VALUE\"]\n",
    "    else:\n",
    "        total = df.loc[df.index[-1], \"VALUE\"]\n",
    "        total_n1 = df.loc[df.index[-2], \"VALUE\"]\n",
    "\n",
    "    # Calc variation in value and pourcentage \n",
    "    varv = total - total_n1\n",
    "    if total == 0:\n",
    "        varp = -1\n",
    "    elif total_n1 == 0:\n",
    "        varp = 1\n",
    "    else:\n",
    "        varp = varv / total_n1\n",
    "\n",
    "    # Create value to displayed\n",
    "    total_d = \"{:,.0f}\".format(total).replace(\",\", \" \")\n",
    "    varv_d = \"{:,.0f}\".format(varv).replace(\",\", \" \")\n",
    "    varp_d = \"{:,.0%}\".format(varp).replace(\",\", \" \")\n",
    "    if varv >= 0:\n",
    "        varv_d = f\"+{varv_d}\"\n",
    "        varp_d = f\"+{varp_d}\"\n",
    "        \n",
    "    # Logo\n",
    "    logo = None\n",
    "    if varv > 0:\n",
    "        logo = arrow_up\n",
    "    elif varv > -0.2:\n",
    "        logo = arrow_right\n",
    "    else:\n",
    "        logo = arrow_down\n",
    "    \n",
    "    return total_d, varv_d, varp_d, logo\n",
    "        \n",
    "total_d, varv_d, varp_d, logo = get_kpis(df1)\n",
    "total_d2, varv_d2, varp_d2, logo2 = get_kpis(df2)\n",
    "title_full = f\"<b><span style='font-size: 20px;'>Meetings: {total_d} | {varv_d} ({varp_d})</span></b><br><span style='font-size: 18px;'>Tasks: {total_d2} | {varv_d2} ({varp_d2})</span>\"\n",
    "print(\"Title:\", title_full)"
   ]
  },
  {
   "cell_type": "markdown",
   "id": "7456a048",
   "metadata": {
    "papermill": {},
    "tags": []
   },
   "source": [
    "### Create trend dataframe"
   ]
  },
  {
   "cell_type": "code",
   "execution_count": null,
   "id": "22b41e65",
   "metadata": {
    "papermill": {},
    "tags": []
   },
   "outputs": [],
   "source": [
    "def create_barchart(df, label, groups, value, title):\n",
    "    fig = go.Figure()\n",
    "\n",
    "    list_groups = df[groups].unique()\n",
    "    for group in list_groups:\n",
    "        tmp_df = df[df[groups] == group]\n",
    "        fig.add_trace(go.Bar(x=tmp_df[label], y=tmp_df[value], name=group, marker=dict(color=tmp_df[\"COLOR\"]),))\n",
    "        \n",
    "    # Add logo\n",
    "    fig.add_layout_image(\n",
    "        dict(\n",
    "            source=logo,\n",
    "            xref=\"paper\",\n",
    "            yref=\"paper\",\n",
    "            x=0.01,\n",
    "            y=1.05,\n",
    "            sizex=0.12,\n",
    "            sizey=0.12,\n",
    "            xanchor=\"right\",\n",
    "            yanchor=\"bottom\",\n",
    "        )\n",
    "    )\n",
    "    # Add legend\n",
    "    fig.update_layout(\n",
    "        legend=dict(\n",
    "            orientation=\"h\",\n",
    "            yanchor=\"bottom\",\n",
    "            y=-0.2,\n",
    "            xanchor=\"center\",\n",
    "            x=0.5\n",
    "        )\n",
    "    )\n",
    "    \n",
    "    # Update layout\n",
    "    fig.update_layout(\n",
    "        title=title_full,\n",
    "        title_x=0.09,\n",
    "        title_font=dict(family=\"Arial\", color=\"black\"),\n",
    "        paper_bgcolor=\"#ffffff\",\n",
    "        plot_bgcolor=\"#ffffff\",\n",
    "        width=1200,\n",
    "        height=600,\n",
    "        xaxis_tickfont_size=14,\n",
    "        legend=dict(bgcolor=\"white\", bordercolor=\"white\"),\n",
    "        barmode=\"group\",\n",
    "        bargap=0.1,  # gap between bars of adjacent location coordinates.\n",
    "        bargroupgap=0.1,  # gap between bars of the same location coordinate.\n",
    "    )\n",
    "    config = {\"displayModeBar\": False}\n",
    "    fig.show(config=config)\n",
    "    return fig\n",
    "\n",
    "fig = create_barchart(df_trend, label=\"LABEL_D\", groups=\"GROUP\", value=\"VALUE\", title=title)"
   ]
  },
  {
   "cell_type": "markdown",
   "id": "c8083216",
   "metadata": {
    "papermill": {},
    "tags": []
   },
   "source": [
    "## Output"
   ]
  },
  {
   "cell_type": "markdown",
   "id": "541e16a0",
   "metadata": {
    "papermill": {},
    "tags": []
   },
   "source": [
    "### Save and share your csv file"
   ]
  },
  {
   "cell_type": "code",
   "execution_count": null,
   "id": "61cc88bf",
   "metadata": {
    "papermill": {},
    "tags": []
   },
   "outputs": [],
   "source": [
    "pdump(output_dir, df_trend, output_name)"
   ]
  },
  {
   "cell_type": "markdown",
   "id": "d28cd477",
   "metadata": {
    "papermill": {},
    "tags": []
   },
   "source": [
    "### Save and share your graph in HTML\n"
   ]
  },
  {
   "cell_type": "code",
   "execution_count": null,
   "id": "3421d37f",
   "metadata": {
    "papermill": {},
    "tags": []
   },
   "outputs": [],
   "source": [
    "# Save your graph in HTML\n",
    "fig.write_html(html_output)\n",
    "\n",
    "# Share output with naas\n",
    "html_link = naas.asset.add(html_output, override_prod=True, params={\"inline\": True})\n",
    "\n",
    "# -> Uncomment the line below to remove your asset\n",
    "# naas.asset.delete(html_output)"
   ]
  },
  {
   "cell_type": "markdown",
   "id": "91a987c6",
   "metadata": {
    "papermill": {},
    "tags": []
   },
   "source": [
    "### Save and share your graph in image\n"
   ]
  },
  {
   "cell_type": "code",
   "execution_count": null,
   "id": "8342abf9",
   "metadata": {
    "papermill": {},
    "tags": []
   },
   "outputs": [],
   "source": [
    "# Save your graph in PNG\n",
    "fig.write_image(image_output)\n",
    "\n",
    "# Share output with naas\n",
    "image_link = naas.asset.add(image_output, override_prod=True, params={\"inline\": True})\n",
    "\n",
    "# -> Uncomment the line below to remove your asset\n",
    "# naas.asset.delete(image_output)"
   ]
  },
  {
   "cell_type": "code",
   "execution_count": null,
   "id": "b99cbc5e-25ab-4e47-9ed1-d9637719d951",
   "metadata": {},
   "outputs": [],
   "source": []
  }
 ],
 "metadata": {
  "kernelspec": {
   "display_name": "Python 3",
   "language": "python",
   "name": "python3"
  },
  "language_info": {
   "codemirror_mode": {
    "name": "ipython",
    "version": 3
   },
   "file_extension": ".py",
   "mimetype": "text/x-python",
   "name": "python",
   "nbconvert_exporter": "python",
   "pygments_lexer": "ipython3",
   "version": "3.9.6"
  },
  "papermill": {
   "default_parameters": {},
   "environment_variables": {},
   "parameters": {},
   "version": "2.3.4"
  }
 },
 "nbformat": 4,
 "nbformat_minor": 5
}
