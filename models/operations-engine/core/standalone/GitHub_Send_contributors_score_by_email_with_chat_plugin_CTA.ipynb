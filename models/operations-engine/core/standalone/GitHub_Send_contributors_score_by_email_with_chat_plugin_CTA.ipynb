{
 "cells": [
  {
   "cell_type": "markdown",
   "id": "2f894b07-fb7b-4793-8f3a-3b26e4688c6f",
   "metadata": {
    "execution": {
     "iopub.execute_input": "2021-01-25T08:00:35.294800Z",
     "iopub.status.busy": "2021-01-25T08:00:35.294557Z",
     "iopub.status.idle": "2021-01-25T08:00:35.307281Z",
     "shell.execute_reply": "2021-01-25T08:00:35.306468Z",
     "shell.execute_reply.started": "2021-01-25T08:00:35.294775Z"
    },
    "papermill": {},
    "tags": []
   },
   "source": [
    "<img width=\"10%\" alt=\"Naas\" src=\"https://landen.imgix.net/jtci2pxwjczr/assets/5ice39g4.png?w=160\"/>"
   ]
  },
  {
   "cell_type": "markdown",
   "id": "f2923d8c-8062-46ff-ae15-d1e23478ef59",
   "metadata": {
    "papermill": {},
    "tags": []
   },
   "source": [
    "# GitHub - Send contributors score by email with chat plugin CTA"
   ]
  },
  {
   "cell_type": "markdown",
   "id": "f6f24e5a-137d-4fbf-9fc8-5d797b53c3ec",
   "metadata": {
    "papermill": {},
    "tags": []
   },
   "source": [
    "**Tags:** #github #tasks #likes #naas_drivers #operations #snippet #dataframe"
   ]
  },
  {
   "cell_type": "markdown",
   "id": "6502e367-f995-4946-b1ea-aa1a2aa622d2",
   "metadata": {
    "papermill": {},
    "tags": []
   },
   "source": [
    "**Author:** [Jeremy Ravenel](https://www.linkedin.com/in/jeremyravenel/)"
   ]
  },
  {
   "cell_type": "markdown",
   "id": "433d4e25-5977-46ec-836b-1540df4cd965",
   "metadata": {
    "papermill": {},
    "tags": [
     "description"
    ]
   },
   "source": [
    "**Description:** This notebook provides a way to retrieve all contributors score from a repo"
   ]
  },
  {
   "cell_type": "markdown",
   "id": "b79e2633-0eab-4021-89c6-66389460e11e",
   "metadata": {
    "papermill": {},
    "tags": []
   },
   "source": [
    "## Input"
   ]
  },
  {
   "cell_type": "markdown",
   "id": "43f818e5-a050-4a8c-a08f-6e4188a9abbd",
   "metadata": {
    "papermill": {},
    "tags": []
   },
   "source": [
    "### Import libraries"
   ]
  },
  {
   "cell_type": "code",
   "execution_count": null,
   "id": "f0065c34-b34c-4893-af2c-8162f12c0cbb",
   "metadata": {
    "execution": {
     "iopub.execute_input": "2023-08-28T17:42:13.846993Z",
     "iopub.status.busy": "2023-08-28T17:42:13.846418Z",
     "iopub.status.idle": "2023-08-28T17:42:16.519979Z",
     "shell.execute_reply": "2023-08-28T17:42:16.519361Z",
     "shell.execute_reply.started": "2023-08-28T17:42:13.846914Z"
    },
    "papermill": {},
    "tags": []
   },
   "outputs": [],
   "source": [
    "import os\n",
    "import json\n",
    "import naas \n",
    "import naas_drivers\n",
    "import plotly.graph_objects as go\n",
    "import requests\n",
    "from naas_drivers import emailbuilder\n",
    "from datetime import datetime, date\n",
    "import random\n",
    "import time\n",
    "from dateutil.parser import parse\n",
    "import matplotlib.pyplot as plt\n",
    "import pandas as pd\n",
    "\n",
    "try:\n",
    "    import tiktoken\n",
    "except:\n",
    "    !pip install tiktoken --user\n",
    "    import tiktoken"
   ]
  },
  {
   "cell_type": "markdown",
   "id": "075e322f-d850-4d19-a333-8f8da1ac0d02",
   "metadata": {
    "papermill": {},
    "tags": []
   },
   "source": [
    "### Setup variables"
   ]
  },
  {
   "cell_type": "code",
   "execution_count": null,
   "id": "3b5281a1-be4e-435d-8529-4bda97a747e2",
   "metadata": {
    "execution": {
     "iopub.execute_input": "2023-08-28T17:42:16.521479Z",
     "iopub.status.busy": "2023-08-28T17:42:16.521231Z",
     "iopub.status.idle": "2023-08-28T17:42:16.756184Z",
     "shell.execute_reply": "2023-08-28T17:42:16.755596Z",
     "shell.execute_reply.started": "2023-08-28T17:42:16.521447Z"
    },
    "papermill": {},
    "tags": []
   },
   "outputs": [],
   "source": [
    "# Define scenario \n",
    "is_demo = False # Default to True\n",
    "\n",
    "# For GitHub \n",
    "github_username = \"jravenel\"\n",
    "github_token = naas.secret.get(\"GITHUB_TOKEN\")\n",
    "github_auth = (github_username, github_token)\n",
    "repo_urls = [\n",
    "    \"https://api.github.com/repos/jupyter-naas/awesome-notebooks\",\n",
    "]\n",
    "\n",
    "# For Emails\n",
    "EMAIL_TO = \"jeremy@naas.ai\"  # you will receive weekly summary at this email\n",
    "EMAIL_FROM = None  # summary will have this email as sender. Only available for your naas email, otherwise you will receive this email from notification@naas.ai\n",
    "EMAIL_SUBJECT = (f\"⚙️ Operations Engine Demo - Email Update, {datetime.now().strftime('%Y-%m-%d %H:%M:%S')}\")\n",
    "DATE_FORMAT = \"%Y-%m-%d\"\n",
    "\n",
    "\n",
    "# For openAI API\n",
    "openai_api_key = naas.secret.get(\"OPENAI_API_KEY\")\n",
    "\n",
    "\n",
    "# For AI Chat Plugin\n",
    "plugin_name = \"⚙️ Operations Agent Demo\"\n",
    "plugin_model = \"gpt-3.5-turbo-16k\"\n",
    "plugin_temperature = 0\n",
    "plugin_max_tokens = 8192\n",
    "system_prompt_max_tokens = 2084\n",
    "\n",
    "# For Asset Generation\n",
    "output_dir = \"../outputs/\"\n",
    "csv_file_name = \"data.csv\"\n",
    "image_file_name = \"image.png\"\n",
    "plugin_file_name = \"plugin.json\""
   ]
  },
  {
   "cell_type": "markdown",
   "id": "4708ac6d-92ba-4fdd-99f8-2e81927a7079",
   "metadata": {
    "execution": {
     "iopub.execute_input": "2023-08-14T16:12:26.723321Z",
     "iopub.status.busy": "2023-08-14T16:12:26.723068Z",
     "iopub.status.idle": "2023-08-14T16:12:26.726508Z",
     "shell.execute_reply": "2023-08-14T16:12:26.725776Z",
     "shell.execute_reply.started": "2023-08-14T16:12:26.723297Z"
    }
   },
   "source": [
    "## Model"
   ]
  },
  {
   "cell_type": "markdown",
   "id": "36aed899-c4a0-499e-aa4f-d6a4aa1142b1",
   "metadata": {},
   "source": [
    "### Setup directories"
   ]
  },
  {
   "cell_type": "code",
   "execution_count": null,
   "id": "1ba52805-e064-45aa-84f2-4aac52a429d4",
   "metadata": {
    "execution": {
     "iopub.execute_input": "2023-08-28T17:42:16.759001Z",
     "iopub.status.busy": "2023-08-28T17:42:16.758798Z",
     "iopub.status.idle": "2023-08-28T17:42:16.765437Z",
     "shell.execute_reply": "2023-08-28T17:42:16.764772Z",
     "shell.execute_reply.started": "2023-08-28T17:42:16.758979Z"
    }
   },
   "outputs": [],
   "source": [
    "# Check if directory exists and create it if not\n",
    "if not os.path.exists(output_dir):\n",
    "    os.makedirs(output_dir)\n",
    "    \n",
    "# Generate outputs files path\n",
    "csv_file_path = os.path.join(output_dir, csv_file_name)\n",
    "image_file_path = os.path.join(output_dir, image_file_name)\n",
    "plugin_file_path = os.path.join(output_dir, plugin_file_name)\n",
    "print('📂 CSV file path:', csv_file_path)\n",
    "print('📂 Image file path:', image_file_path)\n",
    "print('📂 Plugin file path:', plugin_file_path)"
   ]
  },
  {
   "cell_type": "markdown",
   "id": "c16fda34-9a13-41b6-ac8b-2731cbcb5279",
   "metadata": {},
   "source": [
    "### Get or load data"
   ]
  },
  {
   "cell_type": "code",
   "execution_count": null,
   "id": "8fbaf662-845f-4aa6-85b1-d8e0911e6acc",
   "metadata": {
    "execution": {
     "iopub.execute_input": "2023-08-28T17:46:46.655848Z",
     "iopub.status.busy": "2023-08-28T17:46:46.655619Z",
     "iopub.status.idle": "2023-08-28T17:46:46.694435Z",
     "shell.execute_reply": "2023-08-28T17:46:46.693719Z",
     "shell.execute_reply.started": "2023-08-28T17:46:46.655824Z"
    },
    "tags": []
   },
   "outputs": [],
   "source": [
    "def get_or_load_data(\n",
    "    github_username, \n",
    "    github_token, \n",
    "    repo_urls,\n",
    "    demo_mode=is_demo  \n",
    "):\n",
    "    \n",
    "    # Init\n",
    "    df = pd.DataFrame()\n",
    "    update_data = True\n",
    "    \n",
    "    # Check if demo_mode is True\n",
    "    if demo_mode:\n",
    "        file_path = \"../inputs/demo_data-github_contributions.csv\"\n",
    "        if os.path.exists(file_path):\n",
    "            # Read file\n",
    "            df = pd.read_csv(file_path)\n",
    "            df.to_csv(csv_file_path, index=False)\n",
    "            return df\n",
    "    \n",
    "    # Check if the file exists\n",
    "    if os.path.isfile(csv_file_path):\n",
    "        # If the file exists, load it into a DataFrame\n",
    "        return pd.read_csv(csv_file_path)\n",
    "    else:\n",
    "        # If the file doesn't exist, query GitHub and save the results\n",
    "        github_auth = (github_username, github_token)\n",
    "        contrib_dict = {}\n",
    "\n",
    "        for repo_url in repo_urls:\n",
    "            # Get repository details\n",
    "            response = requests.get(repo_url, auth=github_auth)\n",
    "            repo_data = response.json()\n",
    "\n",
    "            # Get contributors details\n",
    "            contrib_url = repo_data[\"contributors_url\"]\n",
    "            response = requests.get(contrib_url, auth=github_auth)\n",
    "            contrib_data = response.json()\n",
    "\n",
    "            for c in contrib_data:\n",
    "                login = c[\"login\"]\n",
    "                contributions = c[\"contributions\"]\n",
    "\n",
    "                # Initialize the dictionary for the user if not already done\n",
    "                if login not in contrib_dict:\n",
    "                    contrib_dict[login] = {\"contributions\": 0, \"issues_created\": 0, \"issues_closed\": 0, \"issue_pr_comments\": 0, \"commits\": 0}\n",
    "\n",
    "                # Update the contributions\n",
    "                contrib_dict[login][\"contributions\"] += contributions\n",
    "\n",
    "                # Get issues created by the user\n",
    "                issues_url = f\"https://api.github.com/search/issues?q=is:issue+author:{login}\"\n",
    "                response = requests.get(issues_url, auth=github_auth)\n",
    "                issues_data = response.json()\n",
    "                contrib_dict[login][\"issues_created\"] = issues_data.get('total_count', 0)\n",
    "\n",
    "                # Get issues closed by the user\n",
    "                issues_url = f\"https://api.github.com/search/issues?q=is:issue+is:closed+assignee:{login}\"\n",
    "                response = requests.get(issues_url, auth=github_auth)\n",
    "                issues_data = response.json()\n",
    "                contrib_dict[login][\"issues_closed\"] = issues_data.get('total_count', 0)\n",
    "\n",
    "                # Get PR comments by the user\n",
    "                comments_url = f\"https://api.github.com/search/issues?q=type:pr+commenter:{login}\"\n",
    "                response = requests.get(comments_url, auth=github_auth)\n",
    "                comments_data = response.json()\n",
    "                contrib_dict[login][\"issue_pr_comments\"] = comments_data.get('total_count', 0)\n",
    "\n",
    "                # Get commits by the user\n",
    "                commits_url = f\"https://api.github.com/search/commits?q=author:{login}\"\n",
    "                response = requests.get(commits_url, auth=github_auth, headers={'Accept': 'application/vnd.github.cloak-preview'})\n",
    "                commits_data = response.json()\n",
    "                contrib_dict[login][\"commits\"] = commits_data.get('total_count', 0)\n",
    "\n",
    "                # Get the user's location\n",
    "                url = f\"https://api.github.com/users/{login}\"\n",
    "                response = requests.get(url, auth=github_auth)\n",
    "                user_data = response.json()\n",
    "                location = user_data.get(\"location\")\n",
    "                if location:\n",
    "                    country = location.split(\",\")[-1].strip()\n",
    "                    contrib_dict[login][\"country\"] = country\n",
    "                    \n",
    "        # Convert the dictionary to a DataFrame and save it to a CSV file\n",
    "        df = pd.DataFrame.from_dict(contrib_dict, orient='index')\n",
    "        return df\n",
    "\n",
    "df = get_or_load_data(github_username, github_token, repo_urls)\n",
    "df"
   ]
  },
  {
   "cell_type": "markdown",
   "id": "37cf07b5-e3de-4205-a7a7-3efed30363fc",
   "metadata": {},
   "source": [
    "### Apply weights"
   ]
  },
  {
   "cell_type": "code",
   "execution_count": null,
   "id": "7925c695-ecb6-4d3d-a034-807a5d388a49",
   "metadata": {
    "execution": {
     "iopub.execute_input": "2023-08-28T17:46:53.216991Z",
     "iopub.status.busy": "2023-08-28T17:46:53.216687Z",
     "iopub.status.idle": "2023-08-28T17:46:53.268163Z",
     "shell.execute_reply": "2023-08-28T17:46:53.267565Z",
     "shell.execute_reply.started": "2023-08-28T17:46:53.216959Z"
    },
    "tags": []
   },
   "outputs": [],
   "source": [
    "# Define the weights for each category\n",
    "weights = {\n",
    "    \"contributions\": 0.5,\n",
    "    \"issues_created\": 2,\n",
    "    \"issues_closed\": 3,\n",
    "    \"issue_pr_comments\": 1,\n",
    "    \"commits\": 0.1\n",
    "}\n",
    "\n",
    "# Apply the weights to each category and sum the results to create the \"pts\" column\n",
    "df[\"pts\"] = (\n",
    "    df[\"contributions\"] * weights[\"contributions\"] +\n",
    "    df[\"issues_created\"] * weights[\"issues_created\"] +\n",
    "    df[\"issues_closed\"] * weights[\"issues_closed\"] +\n",
    "    df[\"issue_pr_comments\"] * weights[\"issue_pr_comments\"] +\n",
    "    df[\"commits\"] * weights[\"commits\"]\n",
    ")\n",
    "\n",
    "# Round the 'pts' column\n",
    "df[\"pts\"] = df[\"pts\"].round().astype(int)"
   ]
  },
  {
   "cell_type": "markdown",
   "id": "6a5b9849-4aa8-4cb6-866d-ff34c5d296d6",
   "metadata": {},
   "source": [
    "### Sort df by points"
   ]
  },
  {
   "cell_type": "code",
   "execution_count": null,
   "id": "9790216e-4c83-48c4-a5fe-7347d3e80268",
   "metadata": {
    "execution": {
     "iopub.execute_input": "2023-08-28T17:46:53.882436Z",
     "iopub.status.busy": "2023-08-28T17:46:53.882206Z",
     "iopub.status.idle": "2023-08-28T17:46:53.897039Z",
     "shell.execute_reply": "2023-08-28T17:46:53.896341Z",
     "shell.execute_reply.started": "2023-08-28T17:46:53.882411Z"
    },
    "tags": []
   },
   "outputs": [],
   "source": [
    "# Sort the DataFrame by the \"pts\" column in descending order\n",
    "df.sort_values(by=\"pts\", ascending=False, inplace=True)\n",
    "df"
   ]
  },
  {
   "cell_type": "markdown",
   "id": "d861e2f7-812f-4fd0-836a-f8321b74e762",
   "metadata": {},
   "source": [
    "### Prepare data"
   ]
  },
  {
   "cell_type": "code",
   "execution_count": null,
   "id": "6ba7ba9e-b173-4ccb-9e0b-3dbfe8deaefc",
   "metadata": {
    "execution": {
     "iopub.execute_input": "2023-08-28T17:46:54.215495Z",
     "iopub.status.busy": "2023-08-28T17:46:54.215263Z",
     "iopub.status.idle": "2023-08-28T17:46:54.237558Z",
     "shell.execute_reply": "2023-08-28T17:46:54.230480Z",
     "shell.execute_reply.started": "2023-08-28T17:46:54.215470Z"
    },
    "tags": []
   },
   "outputs": [],
   "source": [
    "# Rename the 'Unnamed: 0' column to 'contributor'\n",
    "df.rename(columns={\"Unnamed: 0\": \"contributor\"}, inplace=True)\n",
    "df"
   ]
  },
  {
   "cell_type": "markdown",
   "id": "c92079be-54d2-42e9-a0c9-80899963c725",
   "metadata": {},
   "source": [
    "### Generate asset from CSV"
   ]
  },
  {
   "cell_type": "code",
   "execution_count": null,
   "id": "31f7b4f2-4f7f-430b-b6c8-f095a067ab80",
   "metadata": {
    "execution": {
     "iopub.execute_input": "2023-08-28T17:46:55.088000Z",
     "iopub.status.busy": "2023-08-28T17:46:55.087715Z",
     "iopub.status.idle": "2023-08-28T17:46:55.538318Z",
     "shell.execute_reply": "2023-08-28T17:46:55.537645Z",
     "shell.execute_reply.started": "2023-08-28T17:46:55.087973Z"
    },
    "tags": []
   },
   "outputs": [],
   "source": [
    "df.to_csv(csv_file_path, index=False)\n",
    "\n",
    "naas.asset.add(csv_file_path)"
   ]
  },
  {
   "cell_type": "markdown",
   "id": "d36ed69b-4684-4f72-a4eb-f6e4ccc8150b",
   "metadata": {},
   "source": [
    "### Create Chart"
   ]
  },
  {
   "cell_type": "code",
   "execution_count": null,
   "id": "1ccb815e-857e-4823-b21e-8071c3c5bcec",
   "metadata": {
    "execution": {
     "iopub.execute_input": "2023-08-28T17:46:55.539822Z",
     "iopub.status.busy": "2023-08-28T17:46:55.539586Z",
     "iopub.status.idle": "2023-08-28T17:46:55.895052Z",
     "shell.execute_reply": "2023-08-28T17:46:55.894477Z",
     "shell.execute_reply.started": "2023-08-28T17:46:55.539792Z"
    },
    "tags": []
   },
   "outputs": [],
   "source": [
    "import plotly.graph_objects as go\n",
    "\n",
    "def create_horizontal_barchart(df,\n",
    "                               label=\"contributor\",\n",
    "                               value=\"pts\"):\n",
    "    # Init\n",
    "    fig = go.Figure()\n",
    "\n",
    "    # Return empty fig if dataframe is empty\n",
    "    if len(df) == 0:\n",
    "        return fig\n",
    "    \n",
    "    # Sort dataframe by the value column in descending order\n",
    "    df = df.sort_values(by=value, ascending=True)\n",
    "\n",
    "    # Create fig\n",
    "    fig.add_trace(\n",
    "        go.Bar(\n",
    "            y=df[label],      # This now represents the categories/labels\n",
    "            x=df[value],      # This now represents the values\n",
    "            text=df[value],   # Display the value at the end of the bar\n",
    "            textposition=\"outside\",\n",
    "            marker=dict(color=\"#181a1c\"),\n",
    "            orientation=\"h\"   # Set to \"h\" for horizontal\n",
    "        )\n",
    "    )\n",
    "\n",
    "    # Add logo\n",
    "    fig.add_layout_image(\n",
    "        dict(\n",
    "            #source=\"logo.png\",\n",
    "            xref=\"paper\",\n",
    "            yref=\"paper\",\n",
    "            x=0.28,\n",
    "            y=.035,\n",
    "            sizex=0.15,\n",
    "            sizey=0.15,\n",
    "            xanchor=\"right\",\n",
    "            yanchor=\"bottom\"\n",
    "        )\n",
    "    )\n",
    "\n",
    "    fig.update_traces(showlegend=False)\n",
    "\n",
    "    # Plotly: Create title\n",
    "    total_value = \"{:,.0f}\".format(df[value].sum()).replace(\",\", \" \")\n",
    "    title = f\"<b><span style='font-size: 20px;'>GitHub Contribution Leaderboard</b>\"\n",
    "    fig.update_layout(\n",
    "        title=title,\n",
    "        #title_x=0.09,\n",
    "        title_font=dict(family=\"Arial\", color=\"black\"),\n",
    "        paper_bgcolor=\"#ffffff\",\n",
    "        plot_bgcolor=\"#ffffff\",\n",
    "        width=1200,\n",
    "        height=600,\n",
    "        #margin_pad=10,\n",
    "        #margin_r=10,\n",
    "        #margin_l=10,\n",
    "    )\n",
    "\n",
    "    fig.update_xaxes(showticklabels=True)\n",
    "\n",
    "    return fig\n",
    "\n",
    "# You can call the function with a dataframe\n",
    "create_horizontal_barchart(df)\n"
   ]
  },
  {
   "cell_type": "markdown",
   "id": "108d0578-178c-46be-9d88-1fc1ebd2a020",
   "metadata": {},
   "source": [
    "### Generate asset from chart"
   ]
  },
  {
   "cell_type": "code",
   "execution_count": null,
   "id": "16a44947-98f4-479e-abd5-18c3af1f77bb",
   "metadata": {
    "execution": {
     "iopub.execute_input": "2023-08-28T17:47:26.428496Z",
     "iopub.status.busy": "2023-08-28T17:47:26.428259Z",
     "iopub.status.idle": "2023-08-28T17:47:27.126116Z",
     "shell.execute_reply": "2023-08-28T17:47:27.125392Z",
     "shell.execute_reply.started": "2023-08-28T17:47:26.428471Z"
    },
    "tags": []
   },
   "outputs": [],
   "source": [
    "import plotly.io as pio\n",
    "\n",
    "# Create the chart\n",
    "chart = create_horizontal_barchart(df)\n",
    "\n",
    "# Save as PNG\n",
    "pio.write_image(chart, image_file_path)\n",
    "\n",
    "#graph_url = naas.asset.add(\"chart.html\", {\"inline\": True})\n",
    "graph_image = naas.asset.add(image_file_path)"
   ]
  },
  {
   "cell_type": "markdown",
   "id": "8232962e-40d5-4184-8c23-5ed7be5c868e",
   "metadata": {
    "execution": {
     "iopub.execute_input": "2023-08-14T13:31:30.419083Z",
     "iopub.status.busy": "2023-08-14T13:31:30.418845Z",
     "iopub.status.idle": "2023-08-14T13:31:30.422092Z",
     "shell.execute_reply": "2023-08-14T13:31:30.421386Z",
     "shell.execute_reply.started": "2023-08-14T13:31:30.419061Z"
    }
   },
   "source": [
    "### Set email parameters"
   ]
  },
  {
   "cell_type": "code",
   "execution_count": null,
   "id": "e86d722f-4122-4881-853c-7111e9b89b50",
   "metadata": {
    "execution": {
     "iopub.execute_input": "2023-08-28T17:47:27.127711Z",
     "iopub.status.busy": "2023-08-28T17:47:27.127469Z",
     "iopub.status.idle": "2023-08-28T17:47:27.132633Z",
     "shell.execute_reply": "2023-08-28T17:47:27.131933Z",
     "shell.execute_reply.started": "2023-08-28T17:47:27.127679Z"
    },
    "tags": []
   },
   "outputs": [],
   "source": [
    "today = datetime.now().strftime(DATE_FORMAT)\n",
    "today"
   ]
  },
  {
   "cell_type": "markdown",
   "id": "fd296c9b-c09d-4455-ba12-ed53514ea2aa",
   "metadata": {},
   "source": [
    "### Create NaasAI Chat plugin"
   ]
  },
  {
   "cell_type": "code",
   "execution_count": null,
   "id": "5a765e51-3ea9-409e-83fe-c258a5bce36b",
   "metadata": {
    "execution": {
     "iopub.execute_input": "2023-08-28T17:47:27.134244Z",
     "iopub.status.busy": "2023-08-28T17:47:27.134010Z",
     "iopub.status.idle": "2023-08-28T17:47:27.219509Z",
     "shell.execute_reply": "2023-08-28T17:47:27.218809Z",
     "shell.execute_reply.started": "2023-08-28T17:47:27.134215Z"
    },
    "tags": []
   },
   "outputs": [],
   "source": [
    "system_prompt = f\"\"\"\n",
    "Act as an Operations Efficiency Agent with access to comprehensive data sources, including detailed GitHub contributor activity. \n",
    "Your primary role is to analyze and optimize the list of contributors, ensuring you identify the most active and influential individuals to guide collaborative strategies. \n",
    "Leverage the data to decipher patterns, contributions, and engagement levels to strategize on operations and collaborations.\n",
    "Your ultimate goal is to foster a high-performing and cohesive community, playing a pivotal role in the overall success of the project's development and growth.\n",
    "- Start by introducing yourself with a maximum of 5 bullet points.\n",
    "- Display the current GitHub analytics data as an image inside the markdown of the chat: {graph_image}.\n",
    "Wait for the user's initial response, and then delve into a high-level analysis of the contributors' data.\n",
    "Here is the specific GitHub analytics data you should emphasize: {df}\n",
    "\"\"\""
   ]
  },
  {
   "cell_type": "markdown",
   "id": "8bfd5a99-d9bb-4143-9dac-bce9dcc0a12c",
   "metadata": {
    "execution": {
     "iopub.execute_input": "2023-08-11T08:57:02.873145Z",
     "iopub.status.busy": "2023-08-11T08:57:02.872902Z",
     "iopub.status.idle": "2023-08-11T08:57:02.875911Z",
     "shell.execute_reply": "2023-08-11T08:57:02.875189Z",
     "shell.execute_reply.started": "2023-08-11T08:57:02.873120Z"
    }
   },
   "source": [
    "### Check token count "
   ]
  },
  {
   "cell_type": "code",
   "execution_count": null,
   "id": "f3a51393-3c6b-4e2c-a273-eac472b448e5",
   "metadata": {
    "execution": {
     "iopub.execute_input": "2023-08-28T17:47:16.602181Z",
     "iopub.status.busy": "2023-08-28T17:47:16.601951Z",
     "iopub.status.idle": "2023-08-28T17:47:16.994189Z",
     "shell.execute_reply": "2023-08-28T17:47:16.992808Z",
     "shell.execute_reply.started": "2023-08-28T17:47:16.602158Z"
    },
    "tags": []
   },
   "outputs": [],
   "source": [
    "def num_tokens_from_string(string: str, encoding_name: str) -> int:\n",
    "    \"\"\"Returns the number of tokens in a text string.\"\"\"\n",
    "    encoding = tiktoken.get_encoding(encoding_name)\n",
    "    num_tokens = len(encoding.encode(string))\n",
    "    return num_tokens\n",
    "\n",
    "system_prompt_tokens = num_tokens_from_string(system_prompt, \"cl100k_base\")\n",
    "if system_prompt_tokens > system_prompt_max_tokens:\n",
    "    print(\"⚠️ Be carefull, your system prompt looks too big. Tokens:\", system_prompt_tokens)\n",
    "else:\n",
    "    print(\"✅ System prompt tokens count OK:\", system_prompt_tokens)"
   ]
  },
  {
   "cell_type": "markdown",
   "id": "6c715594-7d98-4202-aeef-ddc7169f2226",
   "metadata": {},
   "source": [
    "### Generate plugin from JSON"
   ]
  },
  {
   "cell_type": "code",
   "execution_count": null,
   "id": "3c2f029e-1373-41da-ad2f-fd55d8728626",
   "metadata": {
    "execution": {
     "iopub.execute_input": "2023-08-28T17:47:17.663653Z",
     "iopub.status.busy": "2023-08-28T17:47:17.663425Z",
     "iopub.status.idle": "2023-08-28T17:47:18.154011Z",
     "shell.execute_reply": "2023-08-28T17:47:18.153355Z",
     "shell.execute_reply.started": "2023-08-28T17:47:17.663631Z"
    },
    "tags": []
   },
   "outputs": [],
   "source": [
    "# Create json\n",
    "plugin = {\n",
    "    \"name\": plugin_name,\n",
    "    \"model\": plugin_model,\n",
    "    \"temperature\": plugin_temperature,\n",
    "    \"max_tokens\": plugin_max_tokens,\n",
    "    \"prompt\": system_prompt,\n",
    "}\n",
    "\n",
    "# Save dict to JSON file\n",
    "with open(plugin_file_path, \"w\") as f:\n",
    "    json.dump(plugin, f)\n",
    "print(\"💾 Plugin successfully saved:\")\n",
    "\n",
    "plugin = naas.asset.add(plugin_file_path, params={\"inline\": True})"
   ]
  },
  {
   "cell_type": "markdown",
   "id": "e2e1cc65-e12d-4008-8c0c-abf5863701d6",
   "metadata": {},
   "source": [
    "### Create Top 10"
   ]
  },
  {
   "cell_type": "code",
   "execution_count": null,
   "id": "491749a7-3671-4bf0-8219-44bb5498d473",
   "metadata": {
    "execution": {
     "iopub.execute_input": "2023-08-28T17:47:18.155594Z",
     "iopub.status.busy": "2023-08-28T17:47:18.155358Z",
     "iopub.status.idle": "2023-08-28T17:47:18.159374Z",
     "shell.execute_reply": "2023-08-28T17:47:18.158758Z",
     "shell.execute_reply.started": "2023-08-28T17:47:18.155563Z"
    },
    "tags": []
   },
   "outputs": [],
   "source": [
    "def format_number(num):\n",
    "    NUMBER_FORMAT = \"{:,.0f}\"\n",
    "    num = str(NUMBER_FORMAT.format(num)).replace(\",\", \" \")\n",
    "    return num"
   ]
  },
  {
   "cell_type": "code",
   "execution_count": null,
   "id": "b66b5903-18b6-4567-aa85-62bcc7c0b579",
   "metadata": {
    "execution": {
     "iopub.execute_input": "2023-08-28T17:47:18.160914Z",
     "iopub.status.busy": "2023-08-28T17:47:18.160686Z",
     "iopub.status.idle": "2023-08-28T17:47:18.253444Z",
     "shell.execute_reply": "2023-08-28T17:47:18.252705Z",
     "shell.execute_reply.started": "2023-08-28T17:47:18.160883Z"
    },
    "tags": []
   },
   "outputs": [],
   "source": [
    "def get_top_contributors(df, top_n=10):\n",
    "    # Sort and get top contributors\n",
    "    top_contributors = df.sort_values(by='pts', ascending=False).head(top_n)\n",
    "\n",
    "    # Format the contributors for email incorporation\n",
    "    email_list = []\n",
    "    for idx, (_, row) in enumerate(top_contributors.iterrows(), 1):\n",
    "        contributor_name = row['contributor']\n",
    "        score = format_number(row['pts'])\n",
    "        email_list.append(f\"{idx}. {contributor_name} : <b>{score} pts</b>\")\n",
    "    \n",
    "    return email_list\n",
    "\n",
    "# Use the function\n",
    "top_contributors_list = get_top_contributors(df)\n",
    "print(\"\\n\".join(top_contributors_list))"
   ]
  },
  {
   "cell_type": "markdown",
   "id": "fb0079ef-de2c-4ce7-b518-d8edf477aa58",
   "metadata": {
    "papermill": {},
    "tags": []
   },
   "source": [
    "## Output"
   ]
  },
  {
   "cell_type": "markdown",
   "id": "1b9fe26c-fab7-4a65-b5c7-da1df9b81c8e",
   "metadata": {
    "execution": {
     "iopub.execute_input": "2023-08-11T17:00:17.689863Z",
     "iopub.status.busy": "2023-08-11T17:00:17.689593Z",
     "iopub.status.idle": "2023-08-11T17:00:17.692835Z",
     "shell.execute_reply": "2023-08-11T17:00:17.692124Z",
     "shell.execute_reply.started": "2023-08-11T17:00:17.689840Z"
    }
   },
   "source": [
    "### Create email content"
   ]
  },
  {
   "cell_type": "code",
   "execution_count": null,
   "id": "432948df-084c-4b1a-8db4-a07eed27aab3",
   "metadata": {
    "execution": {
     "iopub.execute_input": "2023-08-28T17:47:18.476516Z",
     "iopub.status.busy": "2023-08-28T17:47:18.476263Z",
     "iopub.status.idle": "2023-08-28T17:47:18.506246Z",
     "shell.execute_reply": "2023-08-28T17:47:18.505387Z",
     "shell.execute_reply.started": "2023-08-28T17:47:18.476488Z"
    },
    "papermill": {},
    "tags": []
   },
   "outputs": [],
   "source": [
    "def email_brief(\n",
    "    today,\n",
    "    top_contributors_list,\n",
    "\n",
    "):\n",
    "    content = {\n",
    "        'title': (\"⚙️ Operations Engine - Email Update\"),\n",
    "        'heading': (f\"Date:{today}\"),\n",
    "        \"txt_intro\": (\n",
    "            f\"Hi there,<br><br>\" f\"Here is your operations engine email as of {today}.\"\n",
    "        ),\n",
    "        \"title_1\": emailbuilder.text(\n",
    "            \"Overview\", font_size=\"27px\", text_align=\"center\", bold=True\n",
    "        ),\n",
    "        \"text_1\": emailbuilder.text(\n",
    "            f\"Here are the total activity scores of your community by contributors since the start of the project:\"\n",
    "        ),\n",
    "        \"image_1\": emailbuilder.image(graph_image),\n",
    "        \"title_2\": emailbuilder.text(\n",
    "            \"Top 10\", font_size=\"27px\", text_align=\"center\", bold=True\n",
    "        ),\n",
    "        \"text\": emailbuilder.list(top_contributors_list),\n",
    "        \"button_1\": emailbuilder.button(\n",
    "            link=(f\"https://naas.ai/chat/use?plugin_url={plugin}\"),\n",
    "            text=\"Start Chatting With Agent\",\n",
    "            background_color=\"#181a1c\",\n",
    "        ),\n",
    "        \"footer_cs\": emailbuilder.footer_company(naas=True),\n",
    "    }\n",
    "\n",
    "    email_content = emailbuilder.generate(display=\"iframe\", **content)\n",
    "    return email_content\n",
    "\n",
    "\n",
    "email_content = email_brief(\n",
    "    today,\n",
    "    top_contributors_list,\n",
    ")"
   ]
  },
  {
   "cell_type": "markdown",
   "id": "d35cd890-1d46-4e43-b701-f2f9db884339",
   "metadata": {
    "execution": {
     "iopub.execute_input": "2022-04-12T14:42:10.762125Z",
     "iopub.status.busy": "2022-04-12T14:42:10.761884Z",
     "iopub.status.idle": "2022-04-12T14:42:10.764880Z",
     "shell.execute_reply": "2022-04-12T14:42:10.764227Z",
     "shell.execute_reply.started": "2022-04-12T14:42:10.762100Z"
    },
    "papermill": {},
    "tags": []
   },
   "source": [
    "## Output"
   ]
  },
  {
   "cell_type": "markdown",
   "id": "ac9e6c66-984b-4e0a-ba45-202593c40cbb",
   "metadata": {
    "papermill": {},
    "tags": []
   },
   "source": [
    "### Send post engagement by email"
   ]
  },
  {
   "cell_type": "code",
   "execution_count": null,
   "id": "c7adf4fe-d12c-4271-829f-b6e765b8aecf",
   "metadata": {
    "execution": {
     "iopub.execute_input": "2023-08-28T17:47:19.000241Z",
     "iopub.status.busy": "2023-08-28T17:47:19.000016Z",
     "iopub.status.idle": "2023-08-28T17:47:19.018508Z",
     "shell.execute_reply": "2023-08-28T17:47:19.017541Z",
     "shell.execute_reply.started": "2023-08-28T17:47:19.000218Z"
    },
    "papermill": {},
    "tags": []
   },
   "outputs": [],
   "source": [
    "# sends the email\n",
    "naas.notification.send(\n",
    "    email_to=EMAIL_TO, subject=EMAIL_SUBJECT, html=email_content, email_from=EMAIL_FROM\n",
    ")"
   ]
  },
  {
   "cell_type": "code",
   "execution_count": null,
   "id": "c9787471-edd6-409c-9703-e4a2a184fe72",
   "metadata": {},
   "outputs": [],
   "source": []
  },
  {
   "cell_type": "code",
   "execution_count": null,
   "id": "d5ccd52b-c6b8-4871-8634-aed9ef1c98ee",
   "metadata": {},
   "outputs": [],
   "source": []
  }
 ],
 "metadata": {
  "kernelspec": {
   "display_name": "Python 3",
   "language": "python",
   "name": "python3"
  },
  "language_info": {
   "codemirror_mode": {
    "name": "ipython",
    "version": 3
   },
   "file_extension": ".py",
   "mimetype": "text/x-python",
   "name": "python",
   "nbconvert_exporter": "python",
   "pygments_lexer": "ipython3",
   "version": "3.9.6"
  },
  "widgets": {
   "application/vnd.jupyter.widget-state+json": {
    "state": {},
    "version_major": 2,
    "version_minor": 0
   }
  }
 },
 "nbformat": 4,
 "nbformat_minor": 5
}
