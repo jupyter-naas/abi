{
 "cells": [
  {
   "cell_type": "markdown",
   "id": "injured-evolution",
   "metadata": {
    "papermill": {},
    "tags": []
   },
   "source": [
    "<img width=\"10%\" alt=\"Naas\" src=\"https://landen.imgix.net/jtci2pxwjczr/assets/5ice39g4.png?w=160\"/>"
   ]
  },
  {
   "cell_type": "markdown",
   "id": "substantial-decline",
   "metadata": {
    "papermill": {},
    "tags": []
   },
   "source": [
    "# Settings"
   ]
  },
  {
   "cell_type": "markdown",
   "id": "d288008a-adf4-47e8-acf5-55a0d2f9ae4e",
   "metadata": {},
   "source": [
    "<div class=\"alert alert-success\" role=\"info\">\n",
    "    <p><b>Note:</b> this data product framework is developed by Naas open source community. You can <a href=\"https://github.com/sponsors/jupyter-naas\" target=\"_blank\">sponsor us</a> if you find it usefull.\n",
    "</p>\n",
    "</div>"
   ]
  },
  {
   "cell_type": "markdown",
   "id": "dd3d4d6a-f15d-47f9-83ac-4208edf13bf9",
   "metadata": {
    "tags": []
   },
   "source": [
    "This notebook allows you to configure and run your data product on your Naas server. *Create an account on [Naas.ai](https://www.naas.ai/free-forever) if you don't already have one.*\n",
    "\n",
    "Please follow the step below to setup this data product."
   ]
  },
  {
   "cell_type": "markdown",
   "id": "80056fe3-734f-41fe-8709-6838316e2f89",
   "metadata": {},
   "source": [
    "## Input"
   ]
  },
  {
   "cell_type": "markdown",
   "id": "4df006e1-c200-4a11-9b37-473864001e67",
   "metadata": {},
   "source": [
    "### Install requirements\n",
    "Install the packages required to run the product."
   ]
  },
  {
   "cell_type": "code",
   "execution_count": 1,
   "id": "d7e9b5d5-36ff-4ba2-bce8-253367a73949",
   "metadata": {
    "execution": {
     "iopub.execute_input": "2023-12-19T15:44:34.753303Z",
     "iopub.status.busy": "2023-12-19T15:44:34.747002Z",
     "iopub.status.idle": "2023-12-19T15:44:34.760689Z",
     "shell.execute_reply": "2023-12-19T15:44:34.760115Z",
     "shell.execute_reply.started": "2023-12-19T15:44:34.753220Z"
    },
    "tags": []
   },
   "outputs": [],
   "source": [
    "# !pip install --user --upgrade -r \"requirements.txt\""
   ]
  },
  {
   "cell_type": "markdown",
   "id": "d3bba624-afe5-484b-a5d3-0d4bf7dd019c",
   "metadata": {},
   "source": [
    "### Import libraries"
   ]
  },
  {
   "cell_type": "code",
   "execution_count": 2,
   "id": "21d997a6-cfee-468d-8009-53657d604ae7",
   "metadata": {
    "execution": {
     "iopub.execute_input": "2023-12-19T15:44:34.762310Z",
     "iopub.status.busy": "2023-12-19T15:44:34.761922Z",
     "iopub.status.idle": "2023-12-19T15:44:45.261172Z",
     "shell.execute_reply": "2023-12-19T15:44:45.260086Z",
     "shell.execute_reply.started": "2023-12-19T15:44:34.762280Z"
    },
    "tags": []
   },
   "outputs": [
    {
     "name": "stdout",
     "output_type": "stream",
     "text": [
      "✅ utils file '/home/ftp/abi/utils/data.ipynb' successfully loaded.\n",
      "✅ utils file '/home/ftp/abi/utils/naas_chat_plugin.ipynb' successfully loaded.\n",
      "✅ utils file '/home/ftp/abi/utils/naas_lab.ipynb' successfully loaded.\n",
      "✅ utils file '/home/ftp/abi/utils/openai.ipynb' successfully loaded.\n"
     ]
    }
   ],
   "source": [
    "import naas_data_product\n",
    "import naas\n",
    "from naas_drivers import gsheet\n",
    "import glob\n",
    "import os\n",
    "from IPython.display import clear_output\n",
    "from tqdm import tqdm"
   ]
  },
  {
   "cell_type": "markdown",
   "id": "0859f71e-9e51-4c79-8fcd-fa41e9fb8282",
   "metadata": {},
   "source": [
    "### Setup variables\n",
    "**Pre-requisite**\n",
    "- Duplicate our Google Sheets spreadsheet model\n",
    "- Share your Google Sheets spreadsheet with our service account : 🔗 naas-share@naas-gsheets.iam.gserviceaccount.com\n",
    "\n",
    "**Inputs**\n",
    "- `abi_spreadsheet`: Google Sheets spreadsheet URL\n",
    "- `sheet_entity`: Entity sheet name that stores all your personal data\n",
    "\n",
    "**Outputs**\n",
    "- `output_dir_plugin`: Cookie used to authenticate Members and API clients."
   ]
  },
  {
   "cell_type": "code",
   "execution_count": 3,
   "id": "c7ef7702-d129-4cb3-97b6-9b598d25c423",
   "metadata": {
    "execution": {
     "iopub.execute_input": "2023-12-19T15:44:45.262429Z",
     "iopub.status.busy": "2023-12-19T15:44:45.262204Z",
     "iopub.status.idle": "2023-12-19T15:44:45.390144Z",
     "shell.execute_reply": "2023-12-19T15:44:45.389454Z",
     "shell.execute_reply.started": "2023-12-19T15:44:45.262401Z"
    },
    "tags": []
   },
   "outputs": [],
   "source": [
    "# Inputs\n",
    "abi_spreadsheet = naas.secret.get(\"ABI_SPREADSHEET\")\n",
    "if abi_spreadsheet is None:\n",
    "    abi_spreadsheet = input(\"Enter your Google Sheets URL:\")\n",
    "    naas.secret.add(\"ABI_SPREADSHEET\", abi_spreadsheet)\n",
    "sheet_entity = \"ENTITY\"\n",
    "\n",
    "# Outputs\n",
    "output_dir = os.path.join(\"outputs\", \"entity\")\n",
    "output_dir_plugin = os.path.join(\"outputs\", \"plugins\")"
   ]
  },
  {
   "cell_type": "markdown",
   "id": "2ebb82c4-a40a-496e-a1fd-2c04e39455bd",
   "metadata": {},
   "source": [
    "## Model"
   ]
  },
  {
   "cell_type": "markdown",
   "id": "3a232167-6d42-4ad2-9587-fb3efb110c51",
   "metadata": {},
   "source": [
    "### Get data from Google Sheet spreadsheet"
   ]
  },
  {
   "cell_type": "code",
   "execution_count": 4,
   "id": "53f8ea20-9dca-4e97-b0d7-6d8836b07d40",
   "metadata": {
    "execution": {
     "iopub.execute_input": "2023-12-19T15:44:45.391640Z",
     "iopub.status.busy": "2023-12-19T15:44:45.391265Z",
     "iopub.status.idle": "2023-12-19T15:44:45.826604Z",
     "shell.execute_reply": "2023-12-19T15:44:45.825950Z",
     "shell.execute_reply.started": "2023-12-19T15:44:45.391608Z"
    },
    "tags": []
   },
   "outputs": [
    {
     "name": "stdout",
     "output_type": "stream",
     "text": [
      "Rows: 1\n"
     ]
    },
    {
     "data": {
      "text/html": [
       "<div>\n",
       "<style scoped>\n",
       "    .dataframe tbody tr th:only-of-type {\n",
       "        vertical-align: middle;\n",
       "    }\n",
       "\n",
       "    .dataframe tbody tr th {\n",
       "        vertical-align: top;\n",
       "    }\n",
       "\n",
       "    .dataframe thead th {\n",
       "        text-align: right;\n",
       "    }\n",
       "</style>\n",
       "<table border=\"1\" class=\"dataframe\">\n",
       "  <thead>\n",
       "    <tr style=\"text-align: right;\">\n",
       "      <th></th>\n",
       "      <th>ENTITY</th>\n",
       "      <th>LINKEDIN_URL</th>\n",
       "      <th>PROMPT_ICP</th>\n",
       "      <th>PROMPT_SALES_MESSAGINGS</th>\n",
       "      <th>EMAILS</th>\n",
       "      <th>LINKEDIN_LI_AT</th>\n",
       "      <th>LINKEDIN_JSESSIONID</th>\n",
       "      <th>OPENAI_API_KEY</th>\n",
       "    </tr>\n",
       "  </thead>\n",
       "  <tbody>\n",
       "    <tr>\n",
       "      <th>0</th>\n",
       "      <td>Jérémy Ravenel</td>\n",
       "      <td>https://www.linkedin.com/in/jeremyravenel/</td>\n",
       "      <td>I have 2 ideal customer profile, one is a 'dat...</td>\n",
       "      <td>Create 3 messaging options to engage conversat...</td>\n",
       "      <td>jeremy@naas.ai, florent@naas.ai</td>\n",
       "      <td>NA</td>\n",
       "      <td>NA</td>\n",
       "      <td>NA</td>\n",
       "    </tr>\n",
       "  </tbody>\n",
       "</table>\n",
       "</div>"
      ],
      "text/plain": [
       "           ENTITY                                LINKEDIN_URL  \\\n",
       "0  Jérémy Ravenel  https://www.linkedin.com/in/jeremyravenel/   \n",
       "\n",
       "                                          PROMPT_ICP  \\\n",
       "0  I have 2 ideal customer profile, one is a 'dat...   \n",
       "\n",
       "                             PROMPT_SALES_MESSAGINGS  \\\n",
       "0  Create 3 messaging options to engage conversat...   \n",
       "\n",
       "                            EMAILS LINKEDIN_LI_AT LINKEDIN_JSESSIONID  \\\n",
       "0  jeremy@naas.ai, florent@naas.ai             NA                  NA   \n",
       "\n",
       "  OPENAI_API_KEY  \n",
       "0             NA  "
      ]
     },
     "execution_count": 4,
     "metadata": {},
     "output_type": "execute_result"
    }
   ],
   "source": [
    "df_gsheet = gsheet.connect(abi_spreadsheet).get(sheet_name=sheet_entity).fillna(\"NA\")\n",
    "print(\"Rows:\", len(df_gsheet))\n",
    "df_gsheet.head(1)"
   ]
  },
  {
   "cell_type": "markdown",
   "id": "e9b1b31c-b3ad-4d96-b507-69bd2b60a8b9",
   "metadata": {},
   "source": [
    "### Store LinkedIn URL\n",
    "The LinkedIn URL will be used in content and growth engine."
   ]
  },
  {
   "cell_type": "code",
   "execution_count": 5,
   "id": "f6a169f9-356a-42cd-aa4c-bf6cfe67a018",
   "metadata": {
    "execution": {
     "iopub.execute_input": "2023-12-19T15:44:45.827921Z",
     "iopub.status.busy": "2023-12-19T15:44:45.827682Z",
     "iopub.status.idle": "2023-12-19T15:44:45.863968Z",
     "shell.execute_reply": "2023-12-19T15:44:45.863243Z",
     "shell.execute_reply.started": "2023-12-19T15:44:45.827892Z"
    },
    "tags": []
   },
   "outputs": [
    {
     "name": "stdout",
     "output_type": "stream",
     "text": [
      "LinkedIn URL: https://www.linkedin.com/in/jeremyravenel/\n"
     ]
    }
   ],
   "source": [
    "linkedin_url = df_gsheet.loc[0, \"LINKEDIN_URL\"]\n",
    "print(\"LinkedIn URL:\", linkedin_url)\n",
    "pdump(output_dir, linkedin_url, \"linkedin_url\")"
   ]
  },
  {
   "cell_type": "markdown",
   "id": "d33e6dc0-aa5c-4bc5-afd8-610157a0d067",
   "metadata": {},
   "source": [
    "### Store Emails\n",
    "The emails will be used for the notifications"
   ]
  },
  {
   "cell_type": "code",
   "execution_count": 6,
   "id": "4f9b5231-d402-49c8-9e33-4356e5b978a4",
   "metadata": {
    "execution": {
     "iopub.execute_input": "2023-12-19T15:44:45.865255Z",
     "iopub.status.busy": "2023-12-19T15:44:45.865006Z",
     "iopub.status.idle": "2023-12-19T15:44:45.961739Z",
     "shell.execute_reply": "2023-12-19T15:44:45.960893Z",
     "shell.execute_reply.started": "2023-12-19T15:44:45.865226Z"
    },
    "tags": []
   },
   "outputs": [
    {
     "name": "stdout",
     "output_type": "stream",
     "text": [
      "Emails: jeremy@naas.ai, florent@naas.ai\n"
     ]
    }
   ],
   "source": [
    "emails = df_gsheet.loc[0, \"EMAILS\"]\n",
    "print(\"Emails:\", emails)\n",
    "pdump(output_dir, emails, \"emails\")"
   ]
  },
  {
   "cell_type": "markdown",
   "id": "9abe3aed-b7df-4713-a39a-a18732fef3d1",
   "metadata": {},
   "source": [
    "### Store Prompt ICP\n",
    "The prompt will be used in the growth engine."
   ]
  },
  {
   "cell_type": "code",
   "execution_count": 7,
   "id": "c900f475-1e68-4fa5-9279-b6bb0b2e12ca",
   "metadata": {
    "execution": {
     "iopub.execute_input": "2023-12-19T15:44:45.965086Z",
     "iopub.status.busy": "2023-12-19T15:44:45.962890Z",
     "iopub.status.idle": "2023-12-19T15:44:46.054700Z",
     "shell.execute_reply": "2023-12-19T15:44:46.053946Z",
     "shell.execute_reply.started": "2023-12-19T15:44:45.965052Z"
    },
    "tags": []
   },
   "outputs": [
    {
     "name": "stdout",
     "output_type": "stream",
     "text": [
      "Prompt ICP: I have 2 ideal customer profile, one is a 'data producer' with basic knowledge of Python that could use our Notebook templates to create plugins. \n",
      "These plugions are then distributed data via our NaasAI Chat interface.\n",
      "The other one is a 'data consummer' that will enjoy using NaasAI Chat for its basic LLMs integration but also interested in having its own data available, hence work with the data producer. \n",
      "I will give you the occupation from a profile I get from LinkedIn, you will return stricly and only one of the following values inside the simple quotes based on the best match 'DataProducer', 'DataConsummer', 'NotICP' or 'NA' if you don't find a plausible match with the first 3 values.\n",
      "Don't put the results into quotes.\n"
     ]
    }
   ],
   "source": [
    "prompt_icp = df_gsheet.loc[0, \"PROMPT_ICP\"]\n",
    "print(\"Prompt ICP:\", prompt_icp)\n",
    "pdump(output_dir, prompt_icp, \"prompt_icp\")"
   ]
  },
  {
   "cell_type": "markdown",
   "id": "2810b0c9-b8c2-40aa-bd7c-94fe989db7b8",
   "metadata": {},
   "source": [
    "### Store Sales Messagings\n",
    "The prompt will be used in the sales engine to create sales messagins options on new sales qualified leads."
   ]
  },
  {
   "cell_type": "code",
   "execution_count": 8,
   "id": "3f29eed9-94f9-4c18-b5a3-4b70e84db62a",
   "metadata": {
    "execution": {
     "iopub.execute_input": "2023-12-19T15:44:46.056319Z",
     "iopub.status.busy": "2023-12-19T15:44:46.055881Z",
     "iopub.status.idle": "2023-12-19T15:44:46.148461Z",
     "shell.execute_reply": "2023-12-19T15:44:46.147753Z",
     "shell.execute_reply.started": "2023-12-19T15:44:46.056286Z"
    },
    "tags": []
   },
   "outputs": [
    {
     "name": "stdout",
     "output_type": "stream",
     "text": [
      "Prompt Sales Messagings: Create 3 messaging options to engage conversation with a person on LinkedIn, be brief, concise, casual but professional. Speak as the author of the post Jéméry Ravenel\n"
     ]
    }
   ],
   "source": [
    "prompt_sales_messagings = df_gsheet.loc[0, \"PROMPT_SALES_MESSAGINGS\"]\n",
    "print(\"Prompt Sales Messagings:\", prompt_sales_messagings)\n",
    "pdump(output_dir, prompt_sales_messagings, \"prompt_sales_messagings\")"
   ]
  },
  {
   "cell_type": "markdown",
   "id": "12b2d9a4-c96b-406a-97ed-a873020033da",
   "metadata": {},
   "source": [
    "### Add secrets to Naas"
   ]
  },
  {
   "cell_type": "code",
   "execution_count": 9,
   "id": "4eec349f-3654-4309-8983-3c4b3bbfd550",
   "metadata": {
    "execution": {
     "iopub.execute_input": "2023-12-19T15:44:46.150077Z",
     "iopub.status.busy": "2023-12-19T15:44:46.149645Z",
     "iopub.status.idle": "2023-12-19T15:44:46.212847Z",
     "shell.execute_reply": "2023-12-19T15:44:46.212130Z",
     "shell.execute_reply.started": "2023-12-19T15:44:46.150043Z"
    },
    "tags": []
   },
   "outputs": [],
   "source": [
    "for x in [\"LINKEDIN_LI_AT\", \"LINKEDIN_JSESSIONID\", \"OPENAI_API_KEY\"]:\n",
    "    value = df_gsheet.loc[0, x]\n",
    "    if value != \"NA\":\n",
    "        print(f\"Secret '{x}' to be added:\")\n",
    "        naas.secret.add(x, value)"
   ]
  },
  {
   "cell_type": "markdown",
   "id": "486ca79e-21af-47c8-ae9a-1c4d1d7cf310",
   "metadata": {},
   "source": [
    "## Output"
   ]
  },
  {
   "cell_type": "markdown",
   "id": "2373f75e-9c82-4a1d-a0df-3bc5cf3788e8",
   "metadata": {},
   "source": [
    "### Run plugins"
   ]
  },
  {
   "cell_type": "code",
   "execution_count": 10,
   "id": "487abb90-8709-4705-ae61-b6e76367ee3e",
   "metadata": {
    "execution": {
     "iopub.execute_input": "2023-12-19T15:44:46.214570Z",
     "iopub.status.busy": "2023-12-19T15:44:46.214131Z",
     "iopub.status.idle": "2023-12-19T15:45:52.106222Z",
     "shell.execute_reply": "2023-12-19T15:45:52.105573Z",
     "shell.execute_reply.started": "2023-12-19T15:44:46.214535Z"
    },
    "tags": []
   },
   "outputs": [
    {
     "name": "stderr",
     "output_type": "stream",
     "text": [
      "100%|██████████| 7/7 [01:05<00:00,  9.33s/it]\n"
     ]
    }
   ],
   "source": [
    "# List plugin files\n",
    "files = glob.glob(\"*/**/__plugin__.ipynb\", recursive=True)\n",
    "\n",
    "# Execute notebook\n",
    "for file in tqdm(files):\n",
    "    print(f\"File: {file}\")\n",
    "    print()\n",
    "    %run $file\n",
    "    clear_output()"
   ]
  },
  {
   "cell_type": "markdown",
   "id": "164246f2-2bcf-4103-822e-cd8086c439bd",
   "metadata": {},
   "source": [
    "### Get plugins URL"
   ]
  },
  {
   "cell_type": "code",
   "execution_count": 11,
   "id": "00f0ea65-6ff9-412d-9cb9-0b619de43ce1",
   "metadata": {
    "execution": {
     "iopub.execute_input": "2023-12-19T15:45:52.113089Z",
     "iopub.status.busy": "2023-12-19T15:45:52.107317Z",
     "iopub.status.idle": "2023-12-19T15:45:52.917508Z",
     "shell.execute_reply": "2023-12-19T15:45:52.916871Z",
     "shell.execute_reply.started": "2023-12-19T15:45:52.113055Z"
    },
    "tags": []
   },
   "outputs": [
    {
     "data": {
      "text/plain": [
       "[{'name': '⚡️_sales_assitant',\n",
       "  'image': '',\n",
       "  'url': 'https://public.naas.ai/ZmxvcmVudC00MG5hYXMtMkVhaQ==/asset/f88b68b1b2d22ffa623a2c9a6a1dd000ab04ed19f889a0bcdd81bf290874',\n",
       "  'new_chat_url': 'https://naas.ai/chat/use?plugin_url=https://public.naas.ai/ZmxvcmVudC00MG5hYXMtMkVhaQ==/asset/f88b68b1b2d22ffa623a2c9a6a1dd000ab04ed19f889a0bcdd81bf290874'},\n",
       " {'name': '🚀_growth_assistant',\n",
       "  'image': '',\n",
       "  'url': 'https://public.naas.ai/ZmxvcmVudC00MG5hYXMtMkVhaQ==/asset/e65caf57ac5c44002f2c6b68d4ed15d240daa9367df5eee06aee1792b6a8',\n",
       "  'new_chat_url': 'https://naas.ai/chat/use?plugin_url=https://public.naas.ai/ZmxvcmVudC00MG5hYXMtMkVhaQ==/asset/e65caf57ac5c44002f2c6b68d4ed15d240daa9367df5eee06aee1792b6a8'},\n",
       " {'name': '🤖_abi',\n",
       "  'image': '',\n",
       "  'url': 'https://public.naas.ai/ZmxvcmVudC00MG5hYXMtMkVhaQ==/asset/2e001709f5f03dfea0f169f121781f136fd82e1c3128a3aba2338ff0fb77',\n",
       "  'new_chat_url': 'https://naas.ai/chat/use?plugin_url=https://public.naas.ai/ZmxvcmVudC00MG5hYXMtMkVhaQ==/asset/2e001709f5f03dfea0f169f121781f136fd82e1c3128a3aba2338ff0fb77'},\n",
       " {'name': '💰_finance_assistant',\n",
       "  'image': '',\n",
       "  'url': 'https://public.naas.ai/ZmxvcmVudC00MG5hYXMtMkVhaQ==/asset/d45a6577dac7871c562501546e35611c0cbd2e964cd9dd408008231feb3f',\n",
       "  'new_chat_url': 'https://naas.ai/chat/use?plugin_url=https://public.naas.ai/ZmxvcmVudC00MG5hYXMtMkVhaQ==/asset/d45a6577dac7871c562501546e35611c0cbd2e964cd9dd408008231feb3f'},\n",
       " {'name': '🌍_open_data_assistant',\n",
       "  'image': '',\n",
       "  'url': 'https://public.naas.ai/ZmxvcmVudC00MG5hYXMtMkVhaQ==/asset/179babb46b34d70913fd830966d271013b27abc2d033f43e208b6b34ca37',\n",
       "  'new_chat_url': 'https://naas.ai/chat/use?plugin_url=https://public.naas.ai/ZmxvcmVudC00MG5hYXMtMkVhaQ==/asset/179babb46b34d70913fd830966d271013b27abc2d033f43e208b6b34ca37'},\n",
       " {'name': '📲_content_assistant',\n",
       "  'image': '',\n",
       "  'url': 'https://public.naas.ai/ZmxvcmVudC00MG5hYXMtMkVhaQ==/asset/63d2f3cefd514f118a9f05141464805199ca81c57886d08f9fc204aac438',\n",
       "  'new_chat_url': 'https://naas.ai/chat/use?plugin_url=https://public.naas.ai/ZmxvcmVudC00MG5hYXMtMkVhaQ==/asset/63d2f3cefd514f118a9f05141464805199ca81c57886d08f9fc204aac438'},\n",
       " {'name': '⚙️_operations_assistant',\n",
       "  'image': '',\n",
       "  'url': 'https://public.naas.ai/ZmxvcmVudC00MG5hYXMtMkVhaQ==/asset/6dbc2201f521ebadc2f922d3d222589d556f18a69282af5a8629e5d4ed2d',\n",
       "  'new_chat_url': 'https://naas.ai/chat/use?plugin_url=https://public.naas.ai/ZmxvcmVudC00MG5hYXMtMkVhaQ==/asset/6dbc2201f521ebadc2f922d3d222589d556f18a69282af5a8629e5d4ed2d'}]"
      ]
     },
     "execution_count": 11,
     "metadata": {},
     "output_type": "execute_result"
    }
   ],
   "source": [
    "data = []\n",
    "plugins = glob.glob(f\"{output_dir_plugin}/*.json\")\n",
    "\n",
    "for plugin in plugins:\n",
    "    plugin_url = naas.asset.find(plugin)\n",
    "    data.append(\n",
    "        {\n",
    "            \"name\": plugin.split(\"/\")[-1].replace(\".json\", \"\"),\n",
    "            \"image\": \"\",\n",
    "            \"url\": plugin_url,\n",
    "            \"new_chat_url\": f\"https://naas.ai/chat/use?plugin_url={plugin_url}\"\n",
    "        }\n",
    "    )\n",
    "    \n",
    "data"
   ]
  },
  {
   "cell_type": "code",
   "execution_count": null,
   "id": "2d05db4e-3d3e-4792-b59b-f0eb1ec2cb0c",
   "metadata": {},
   "outputs": [],
   "source": []
  }
 ],
 "metadata": {
  "kernelspec": {
   "display_name": "Python 3",
   "language": "python",
   "name": "python3"
  },
  "language_info": {
   "codemirror_mode": {
    "name": "ipython",
    "version": 3
   },
   "file_extension": ".py",
   "mimetype": "text/x-python",
   "name": "python",
   "nbconvert_exporter": "python",
   "pygments_lexer": "ipython3",
   "version": "3.9.6"
  },
  "naas": {
   "notebook_id": "77b7f93a-fb2a-483e-b98b-80735e426a64",
   "notebook_path": "Naas/Naas_Secret_demo.ipynb"
  },
  "papermill": {
   "default_parameters": {},
   "environment_variables": {},
   "parameters": {},
   "version": "2.3.3"
  },
  "toc-autonumbering": false,
  "widgets": {
   "application/vnd.jupyter.widget-state+json": {
    "state": {},
    "version_major": 2,
    "version_minor": 0
   }
  }
 },
 "nbformat": 4,
 "nbformat_minor": 5
}
