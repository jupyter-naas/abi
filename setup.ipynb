{
 "cells": [
  {
   "cell_type": "markdown",
   "id": "2833db14-cc5e-44ef-af36-f0c086491e74",
   "metadata": {
    "papermill": {},
    "tags": []
   },
   "source": [
    "<img width=\"8%\" alt=\"Naas.png\" src=\"https://raw.githubusercontent.com/jupyter-naas/awesome-notebooks/master/.github/assets/logos/Naas.png\" style=\"border-radius: 15%\">"
   ]
  },
  {
   "cell_type": "markdown",
   "id": "substantial-decline",
   "metadata": {
    "papermill": {},
    "tags": []
   },
   "source": [
    "# Setup"
   ]
  },
  {
   "cell_type": "markdown",
   "id": "d288008a-adf4-47e8-acf5-55a0d2f9ae4e",
   "metadata": {},
   "source": [
    "<div class=\"alert alert-success\" role=\"info\">\n",
    "    <p><b>Note:</b> this data product framework is developed by Naas open source community. You can <a href=\"https://github.com/sponsors/jupyter-naas\" target=\"_blank\">sponsor us</a> if you find it usefull.\n",
    "</p>\n",
    "</div>"
   ]
  },
  {
   "cell_type": "markdown",
   "id": "dd3d4d6a-f15d-47f9-83ac-4208edf13bf9",
   "metadata": {
    "tags": []
   },
   "source": [
    "This notebook allows you to configure and run your data product on your Naas server. *Create an account on [Naas.ai](https://www.naas.ai/free-forever) if you don't already have one.*\n",
    "\n",
    "Please follow the step below to setup this data product."
   ]
  },
  {
   "cell_type": "markdown",
   "id": "80056fe3-734f-41fe-8709-6838316e2f89",
   "metadata": {},
   "source": [
    "## Input"
   ]
  },
  {
   "cell_type": "markdown",
   "id": "a4962ad7-2a32-4851-ba78-a3727e09d781",
   "metadata": {},
   "source": [
    "### Pull repository"
   ]
  },
  {
   "cell_type": "code",
   "execution_count": null,
   "id": "0569832a-deeb-46f4-b283-b68b3c5cacd5",
   "metadata": {
    "tags": []
   },
   "outputs": [],
   "source": [
    "!git pull"
   ]
  },
  {
   "cell_type": "markdown",
   "id": "4df006e1-c200-4a11-9b37-473864001e67",
   "metadata": {},
   "source": [
    "### Install requirements\n",
    "Install the packages required to run the product."
   ]
  },
  {
   "cell_type": "code",
   "execution_count": null,
   "id": "d7e9b5d5-36ff-4ba2-bce8-253367a73949",
   "metadata": {
    "tags": []
   },
   "outputs": [],
   "source": [
    "!pip install --user --upgrade -r \"requirements.txt\""
   ]
  },
  {
   "cell_type": "markdown",
   "id": "d3bba624-afe5-484b-a5d3-0d4bf7dd019c",
   "metadata": {},
   "source": [
    "### Import libraries"
   ]
  },
  {
   "cell_type": "code",
   "execution_count": null,
   "id": "21d997a6-cfee-468d-8009-53657d604ae7",
   "metadata": {
    "tags": []
   },
   "outputs": [],
   "source": [
    "import naas_data_product\n",
    "import naas\n",
    "from naas_drivers import gsheet, linkedin\n",
    "import glob\n",
    "import os\n",
    "from IPython.display import clear_output\n",
    "from tqdm import tqdm"
   ]
  },
  {
   "cell_type": "markdown",
   "id": "0859f71e-9e51-4c79-8fcd-fa41e9fb8282",
   "metadata": {},
   "source": [
    "### Setup variables\n",
    "**Pre-requisite**\n",
    "- Duplicate our Google Sheets spreadsheet model\n",
    "- Share your Google Sheets spreadsheet with our service account : 🔗 naas-share@naas-gsheets.iam.gserviceaccount.com\n",
    "\n",
    "**Inputs**\n",
    "- `abi_spreadsheet`: Google Sheets spreadsheet URL\n",
    "- `sheet_entity`: Entity sheet name that stores all your personal data\n",
    "\n",
    "**Outputs**\n",
    "- `output_dir_plugin`: Cookie used to authenticate Members and API clients."
   ]
  },
  {
   "cell_type": "code",
   "execution_count": null,
   "id": "c7ef7702-d129-4cb3-97b6-9b598d25c423",
   "metadata": {
    "tags": []
   },
   "outputs": [],
   "source": [
    "# Inputs\n",
    "datalake_dir = os.path.join(\"/\", \"home\", \"ftp\", \"abi\", \"outputs\")\n",
    "abi_spreadsheet = naas.secret.get(\"ABI_SPREADSHEET\")\n",
    "force_update = False\n",
    "if abi_spreadsheet is None or force_update:\n",
    "    abi_spreadsheet = input(\"Enter your Google Sheets URL:\")\n",
    "    naas.secret.add(\"ABI_SPREADSHEET\", abi_spreadsheet)\n",
    "sheet_entity = \"ENTITY\"\n",
    "\n",
    "# Outputs\n",
    "output_dir = os.path.join(\"outputs\", \"entity\")\n",
    "output_dir_plugin = os.path.join(\"outputs\", \"plugins\")"
   ]
  },
  {
   "cell_type": "markdown",
   "id": "2ebb82c4-a40a-496e-a1fd-2c04e39455bd",
   "metadata": {},
   "source": [
    "## Model"
   ]
  },
  {
   "cell_type": "markdown",
   "id": "3a232167-6d42-4ad2-9587-fb3efb110c51",
   "metadata": {},
   "source": [
    "### Get Entity data from Google Sheet spreadsheet"
   ]
  },
  {
   "cell_type": "code",
   "execution_count": null,
   "id": "53f8ea20-9dca-4e97-b0d7-6d8836b07d40",
   "metadata": {
    "tags": []
   },
   "outputs": [],
   "source": [
    "df_gsheet = gsheet.connect(abi_spreadsheet).get(sheet_name=sheet_entity).fillna(\"NA\")\n",
    "df_gsheet.head(1)"
   ]
  },
  {
   "cell_type": "markdown",
   "id": "e260b8d6-44c2-46c7-953d-bd296af7f96b",
   "metadata": {},
   "source": [
    "### Setup Dependencies"
   ]
  },
  {
   "cell_type": "markdown",
   "id": "e9b1b31c-b3ad-4d96-b507-69bd2b60a8b9",
   "metadata": {},
   "source": [
    "#### Store Entity name"
   ]
  },
  {
   "cell_type": "code",
   "execution_count": null,
   "id": "f6a169f9-356a-42cd-aa4c-bf6cfe67a018",
   "metadata": {
    "tags": []
   },
   "outputs": [],
   "source": [
    "entity_name = df_gsheet.loc[0, \"ENTITY\"]\n",
    "print(\"Entity name:\", entity_name)\n",
    "pdump(output_dir, entity_name, \"entity_name\")\n",
    "naas.dependency.add(os.path.join(output_dir, \"entity_name.pickle\"))"
   ]
  },
  {
   "cell_type": "markdown",
   "id": "d33e6dc0-aa5c-4bc5-afd8-610157a0d067",
   "metadata": {},
   "source": [
    "#### Store Emails\n",
    "Emails to be used for notifications"
   ]
  },
  {
   "cell_type": "code",
   "execution_count": null,
   "id": "4f9b5231-d402-49c8-9e33-4356e5b978a4",
   "metadata": {
    "tags": []
   },
   "outputs": [],
   "source": [
    "emails = df_gsheet.loc[0, \"EMAILS\"]\n",
    "print(\"- Emails:\", emails)\n",
    "print()\n",
    "pdump(output_dir, emails, \"emails\")\n",
    "naas.dependency.add(os.path.join(output_dir, \"emails.pickle\"))"
   ]
  },
  {
   "cell_type": "markdown",
   "id": "582bc07a-5492-4c90-8d9c-a120d73e2a18",
   "metadata": {},
   "source": [
    "#### Store LinkedIn URL"
   ]
  },
  {
   "cell_type": "code",
   "execution_count": null,
   "id": "158e36c6-a70f-45aa-b785-9ee83641693b",
   "metadata": {
    "tags": []
   },
   "outputs": [],
   "source": [
    "linkedin_url = df_gsheet.loc[0, \"LINKEDIN_URL\"]\n",
    "print(\"- LinkedIn URL:\", linkedin_url)\n",
    "print()\n",
    "pdump(output_dir, linkedin_url, \"linkedin_url\")\n",
    "naas.dependency.add(os.path.join(output_dir, \"linkedin_url.pickle\"))"
   ]
  },
  {
   "cell_type": "markdown",
   "id": "88ea0fcf-3293-4066-94ab-2cc01312202e",
   "metadata": {},
   "source": [
    "### Setup Naas"
   ]
  },
  {
   "cell_type": "markdown",
   "id": "12b2d9a4-c96b-406a-97ed-a873020033da",
   "metadata": {},
   "source": [
    "#### Add LinkedIn Cookies to Naas secret"
   ]
  },
  {
   "cell_type": "code",
   "execution_count": null,
   "id": "4eec349f-3654-4309-8983-3c4b3bbfd550",
   "metadata": {
    "tags": []
   },
   "outputs": [],
   "source": [
    "for x in [\"LINKEDIN_LI_AT\", \"LINKEDIN_JSESSIONID\"]:\n",
    "    value = df_gsheet.loc[0, x]\n",
    "    if value != \"NA\":\n",
    "        print(f\"Secret '{x}' to be added:\")\n",
    "        naas.secret.add(x, value)"
   ]
  },
  {
   "cell_type": "markdown",
   "id": "7e8f1a3d-04a0-430f-ba04-33316a072e40",
   "metadata": {},
   "source": [
    "#### Add Naas Chat long lived token to Naas secret"
   ]
  },
  {
   "cell_type": "code",
   "execution_count": null,
   "id": "5284bd2e-feff-42d7-b041-cc8391964423",
   "metadata": {
    "tags": []
   },
   "outputs": [],
   "source": [
    "long_lived_token = naas.secret.get('NAAS_API_TOKEN')\n",
    "if not long_lived_token:\n",
    "    long_lived_token = get_long_lived_token(jup_token)\n",
    "    if long_lived_token:\n",
    "        naas.secret.add('NAAS_API_TOKEN', long_lived_token)"
   ]
  },
  {
   "cell_type": "markdown",
   "id": "9e767c5a-ec4e-4dbf-944e-3c28c2fb12ed",
   "metadata": {},
   "source": [
    "### Set timezone from profile region and country"
   ]
  },
  {
   "cell_type": "code",
   "execution_count": null,
   "id": "621d8c42-0a21-4ae6-adae-6f008e18e46d",
   "metadata": {
    "tags": []
   },
   "outputs": [],
   "source": [
    "# Get region and country data\n",
    "linkedin_dir = os.path.join(datalake_dir, \"datalake\", \"linkedin\", \"profiles\")\n",
    "\n",
    "df = get_linkedin_data(linkedin_url, linkedin_dir, \"identity\")\n",
    "region = df.loc[0, \"REGION\"]\n",
    "country = df.loc[0, \"COUNTRY\"]\n",
    "print(\"- Region:\", region)\n",
    "print(\"- Country:\", country)\n",
    "\n",
    "timezone = create_chat_completion(\n",
    "    long_lived_token,\n",
    "    prompt=\"Find timezone in the format 'Region/City'. If there is no exact match, please return a subjective answer based on the data you received\",\n",
    "    message=f\"Region: {region}, Country: {country}\",\n",
    ")\n",
    "print(\"- Timezone:\", timezone)\n",
    "print()\n",
    "naas.set_remote_timezone(timezone)\n",
    "pdump(output_dir, timezone, \"timezone\")\n",
    "naas.dependency.add(os.path.join(output_dir, \"timezone.pickle\"))"
   ]
  },
  {
   "cell_type": "markdown",
   "id": "486ca79e-21af-47c8-ae9a-1c4d1d7cf310",
   "metadata": {},
   "source": [
    "## Output"
   ]
  },
  {
   "cell_type": "markdown",
   "id": "2373f75e-9c82-4a1d-a0df-3bc5cf3788e8",
   "metadata": {},
   "source": [
    "### Run pipelines"
   ]
  },
  {
   "cell_type": "code",
   "execution_count": null,
   "id": "487abb90-8709-4705-ae61-b6e76367ee3e",
   "metadata": {
    "tags": []
   },
   "outputs": [],
   "source": [
    "pipelines = [\n",
    "    \"models/content-engine/__pipeline__.ipynb\",\n",
    "    \"models/growth-engine/__pipeline__.ipynb\",\n",
    "    \"models/sales-engine/__pipeline__.ipynb\",\n",
    "]\n",
    "\n",
    "# Execute notebook\n",
    "for file in tqdm(pipelines):\n",
    "    print(f\"File: {file}\")\n",
    "    print()\n",
    "    %run $file\n",
    "    clear_output()"
   ]
  },
  {
   "cell_type": "markdown",
   "id": "164246f2-2bcf-4103-822e-cd8086c439bd",
   "metadata": {},
   "source": [
    "### Get plugins URL"
   ]
  },
  {
   "cell_type": "code",
   "execution_count": null,
   "id": "00f0ea65-6ff9-412d-9cb9-0b619de43ce1",
   "metadata": {
    "tags": []
   },
   "outputs": [],
   "source": [
    "data = []\n",
    "plugins = glob.glob(f\"{output_dir_plugin}/*.json\")\n",
    "\n",
    "for plugin in plugins:\n",
    "    plugin_url = naas.asset.find(plugin)\n",
    "    data.append(\n",
    "        {\n",
    "            \"name\": plugin.split(\"/\")[-1].replace(\".json\", \"\"),\n",
    "            \"image\": \"\",\n",
    "            \"url\": plugin_url,\n",
    "            \"new_chat_url\": f\"https://naas.ai/chat/use?plugin_url={plugin_url}\"\n",
    "        }\n",
    "    )\n",
    "    \n",
    "data"
   ]
  },
  {
   "cell_type": "markdown",
   "id": "1c020270-92df-42a7-b442-5167128879f1",
   "metadata": {},
   "source": [
    "### Schedule pipelines"
   ]
  },
  {
   "cell_type": "markdown",
   "id": "ed75284c-3d66-4cca-993e-3dd1c37e7eda",
   "metadata": {},
   "source": [
    "#### 📲 Content Engine"
   ]
  },
  {
   "cell_type": "code",
   "execution_count": null,
   "id": "fb7d1d58-95f3-49f4-846f-d93a36228ffa",
   "metadata": {
    "tags": []
   },
   "outputs": [],
   "source": [
    "# Init\n",
    "engine_name = \"content-engine\"\n",
    "engine_model_dir = os.path.join(naas_data_product.MODELS_PATH, engine_name)\n",
    "\n",
    "# Schedule pipeline\n",
    "file_path = os.path.join(engine_model_dir, \"__pipeline__.ipynb\")\n",
    "cron = \"0 8 * * *\"\n",
    "print(\"⏰ Scheduler:\", file_path)\n",
    "naas.scheduler.add(file_path, cron=cron)\n",
    "print()\n",
    "\n",
    "# Uncomment the line below to delete your automation\n",
    "# naas.scheduler.delete(file_path)\n",
    "\n",
    "# Add dependencies\n",
    "files = glob.glob(os.path.join(engine_model_dir, \"pipeline_templates\", \"*.ipynb\")) + [os.path.join(engine_model_dir, \"__plugin__.ipynb\")]\n",
    "for file in files:\n",
    "    print(\"🔗 Dependency:\", file)\n",
    "    naas.dependency.add(file)\n",
    "    print()\n",
    "                  \n",
    "    # Uncomment the line below to delete your dependencies\n",
    "    # naas.dependency.delete(file)"
   ]
  },
  {
   "cell_type": "markdown",
   "id": "6451fdfb-3768-4b4d-9097-902f3929dc11",
   "metadata": {},
   "source": [
    "#### 🚀 Growth Engine"
   ]
  },
  {
   "cell_type": "code",
   "execution_count": null,
   "id": "43e07978-c573-4af4-b6e9-52390ceadbd9",
   "metadata": {
    "tags": []
   },
   "outputs": [],
   "source": [
    "# Init\n",
    "engine_name = \"growth-engine\"\n",
    "engine_model_dir = os.path.join(naas_data_product.MODELS_PATH, engine_name)\n",
    "\n",
    "# Schedule pipeline\n",
    "file_path = os.path.join(engine_model_dir, \"__pipeline__.ipynb\")\n",
    "cron = \"15 8 * * *\"\n",
    "print(\"⏰ Scheduler:\", file_path)\n",
    "naas.scheduler.add(file_path, cron=cron)\n",
    "print()\n",
    "\n",
    "# Uncomment the line below to delete your automation\n",
    "# naas.scheduler.delete(file_path)\n",
    "\n",
    "# Add dependencies\n",
    "files = glob.glob(os.path.join(engine_model_dir, \"pipeline_templates\", \"*.ipynb\")) + [os.path.join(engine_model_dir, \"__plugin__.ipynb\")]\n",
    "for file in files:\n",
    "    print(\"🔗 Dependency:\", file)\n",
    "    naas.dependency.add(file)\n",
    "    print()\n",
    "                  \n",
    "    # Uncomment the line below to delete your dependencies\n",
    "    # naas.dependency.delete(file)"
   ]
  },
  {
   "cell_type": "markdown",
   "id": "51021d87-4a7d-4aa2-9521-ca57210a47f7",
   "metadata": {},
   "source": [
    "#### ⚡️ Sales Engine"
   ]
  },
  {
   "cell_type": "code",
   "execution_count": null,
   "id": "b91d6f61-e8e4-4788-8e81-4d10feb93c9b",
   "metadata": {
    "tags": []
   },
   "outputs": [],
   "source": [
    "# Init\n",
    "engine_name = \"sales-engine\"\n",
    "engine_model_dir = os.path.join(naas_data_product.MODELS_PATH, engine_name)\n",
    "\n",
    "# Schedule pipeline\n",
    "file_path = os.path.join(engine_model_dir, \"__pipeline__.ipynb\")\n",
    "cron = \"0 9 * * *\"\n",
    "print(\"⏰ Scheduler:\", file_path)\n",
    "naas.scheduler.add(file_path, cron=cron)\n",
    "print()\n",
    "\n",
    "# Uncomment the line below to delete your automation\n",
    "# naas.scheduler.delete(file_path)\n",
    "\n",
    "# Add dependencies\n",
    "files = glob.glob(os.path.join(engine_model_dir, \"pipeline_templates\", \"*.ipynb\")) + [os.path.join(engine_model_dir, \"__plugin__.ipynb\")]\n",
    "for file in files:\n",
    "    print(\"🔗 Dependency:\", file)\n",
    "    naas.dependency.add(file)\n",
    "    print()\n",
    "                  \n",
    "    # Uncomment the line below to delete your dependencies\n",
    "    # naas.dependency.delete(file)"
   ]
  },
  {
   "cell_type": "markdown",
   "id": "3747a230-6cd9-45c3-971a-8d9c0ce0e919",
   "metadata": {},
   "source": [
    "### Add utils to dependencies"
   ]
  },
  {
   "cell_type": "code",
   "execution_count": null,
   "id": "42a3f84e-b233-4a71-839b-c1461889a00d",
   "metadata": {
    "tags": []
   },
   "outputs": [],
   "source": [
    "import naas\n",
    "import glob\n",
    "import naas_data_product\n",
    "\n",
    "files = glob.glob(f\"{naas_data_product.UTILS_PATH}/*.ipynb\")\n",
    "\n",
    "for file in files: \n",
    "    naas.dependency.add(file)\n",
    "    \n",
    "#     # Uncomment the line below to delete your dependencies\n",
    "#     naas.dependency.delete(file)"
   ]
  },
  {
   "cell_type": "code",
   "execution_count": null,
   "id": "2d05db4e-3d3e-4792-b59b-f0eb1ec2cb0c",
   "metadata": {},
   "outputs": [],
   "source": []
  }
 ],
 "metadata": {
  "kernelspec": {
   "display_name": "Python 3",
   "language": "python",
   "name": "python3"
  },
  "language_info": {
   "codemirror_mode": {
    "name": "ipython",
    "version": 3
   },
   "file_extension": ".py",
   "mimetype": "text/x-python",
   "name": "python",
   "nbconvert_exporter": "python",
   "pygments_lexer": "ipython3",
   "version": "3.9.6"
  },
  "naas": {
   "notebook_id": "77b7f93a-fb2a-483e-b98b-80735e426a64",
   "notebook_path": "Naas/Naas_Secret_demo.ipynb"
  },
  "papermill": {
   "default_parameters": {},
   "environment_variables": {},
   "parameters": {},
   "version": "2.3.3"
  },
  "toc-autonumbering": false,
  "widgets": {
   "application/vnd.jupyter.widget-state+json": {
    "state": {},
    "version_major": 2,
    "version_minor": 0
   }
  }
 },
 "nbformat": 4,
 "nbformat_minor": 5
}
