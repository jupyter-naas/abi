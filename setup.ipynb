{
 "cells": [
  {
   "cell_type": "markdown",
   "id": "injured-evolution",
   "metadata": {
    "papermill": {},
    "tags": []
   },
   "source": [
    "<img width=\"10%\" alt=\"Naas\" src=\"https://landen.imgix.net/jtci2pxwjczr/assets/5ice39g4.png?w=160\"/>"
   ]
  },
  {
   "cell_type": "markdown",
   "id": "substantial-decline",
   "metadata": {
    "papermill": {},
    "tags": []
   },
   "source": [
    "# Settings"
   ]
  },
  {
   "cell_type": "markdown",
   "id": "d288008a-adf4-47e8-acf5-55a0d2f9ae4e",
   "metadata": {},
   "source": [
    "<div class=\"alert alert-success\" role=\"info\">\n",
    "    <p><b>Note:</b> this data product framework is developed by Naas open source community. You can <a href=\"https://github.com/sponsors/jupyter-naas\" target=\"_blank\">sponsor us</a> if you find it usefull.\n",
    "</p>\n",
    "</div>"
   ]
  },
  {
   "cell_type": "markdown",
   "id": "dd3d4d6a-f15d-47f9-83ac-4208edf13bf9",
   "metadata": {
    "tags": []
   },
   "source": [
    "This notebook allows you to configure and run your data product on your Naas server. *Create an account on [Naas.ai](https://www.naas.ai/free-forever) if you don't already have one.*\n",
    "\n",
    "Please follow the step below to setup this data product."
   ]
  },
  {
   "cell_type": "markdown",
   "id": "80056fe3-734f-41fe-8709-6838316e2f89",
   "metadata": {},
   "source": [
    "## Input"
   ]
  },
  {
   "cell_type": "markdown",
   "id": "4df006e1-c200-4a11-9b37-473864001e67",
   "metadata": {},
   "source": [
    "### Install requirements\n",
    "Install the packages required to run the product."
   ]
  },
  {
   "cell_type": "code",
   "execution_count": null,
   "id": "d7e9b5d5-36ff-4ba2-bce8-253367a73949",
   "metadata": {
    "tags": []
   },
   "outputs": [],
   "source": [
    "!pip install --user --upgrade -r \"requirements.txt\""
   ]
  },
  {
   "cell_type": "markdown",
   "id": "d3bba624-afe5-484b-a5d3-0d4bf7dd019c",
   "metadata": {},
   "source": [
    "### Import libraries"
   ]
  },
  {
   "cell_type": "code",
   "execution_count": null,
   "id": "21d997a6-cfee-468d-8009-53657d604ae7",
   "metadata": {
    "tags": []
   },
   "outputs": [],
   "source": [
    "import glob\n",
    "import os\n",
    "from IPython.display import clear_output"
   ]
  },
  {
   "cell_type": "markdown",
   "id": "0859f71e-9e51-4c79-8fcd-fa41e9fb8282",
   "metadata": {},
   "source": [
    "### Setup variables"
   ]
  },
  {
   "cell_type": "code",
   "execution_count": null,
   "id": "c7ef7702-d129-4cb3-97b6-9b598d25c423",
   "metadata": {
    "tags": []
   },
   "outputs": [],
   "source": [
    "output_dir_plugin = os.path.join(\"outputs\", \"plugins\")\n",
    "demo = True"
   ]
  },
  {
   "cell_type": "markdown",
   "id": "2ebb82c4-a40a-496e-a1fd-2c04e39455bd",
   "metadata": {},
   "source": [
    "## Model"
   ]
  },
  {
   "cell_type": "markdown",
   "id": "b82b9a6f-7f81-4e4b-aa88-2e5d363916bb",
   "metadata": {},
   "source": [
    "### List plugin files"
   ]
  },
  {
   "cell_type": "code",
   "execution_count": null,
   "id": "eed35c8d-7c74-4053-87cb-d776b09b35f3",
   "metadata": {
    "tags": []
   },
   "outputs": [],
   "source": [
    "files = glob.glob(\"*/**/__plugin__.ipynb\", recursive=True)\n",
    "files"
   ]
  },
  {
   "cell_type": "markdown",
   "id": "2373f75e-9c82-4a1d-a0df-3bc5cf3788e8",
   "metadata": {},
   "source": [
    "### Run plugins"
   ]
  },
  {
   "cell_type": "code",
   "execution_count": null,
   "id": "487abb90-8709-4705-ae61-b6e76367ee3e",
   "metadata": {
    "tags": []
   },
   "outputs": [],
   "source": [
    "for file in files:\n",
    "    print(f\"File: {file}\")\n",
    "    %run $file\n",
    "    clear_output()"
   ]
  },
  {
   "cell_type": "markdown",
   "id": "486ca79e-21af-47c8-ae9a-1c4d1d7cf310",
   "metadata": {},
   "source": [
    "## Output"
   ]
  },
  {
   "cell_type": "markdown",
   "id": "164246f2-2bcf-4103-822e-cd8086c439bd",
   "metadata": {},
   "source": [
    "### Get plugins URL"
   ]
  },
  {
   "cell_type": "code",
   "execution_count": null,
   "id": "00f0ea65-6ff9-412d-9cb9-0b619de43ce1",
   "metadata": {
    "tags": []
   },
   "outputs": [],
   "source": [
    "data = []\n",
    "plugins = glob.glob(f\"{output_dir_plugin}/*.json\")\n",
    "\n",
    "for plugin in plugins:\n",
    "    plugin_url = naas.asset.find(plugin)\n",
    "    data.append(\n",
    "        {\n",
    "            \"name\": plugin.split(\"/\")[-1].replace(\".json\", \"\"),\n",
    "            \"image\": \"\",\n",
    "            \"url\": plugin_url,\n",
    "            \"new_chat_url\": f\"https://naas.ai/chat/use?plugin_url={plugin_url}\"\n",
    "        }\n",
    "    )\n",
    "    \n",
    "data"
   ]
  },
  {
   "cell_type": "code",
   "execution_count": null,
   "id": "2d05db4e-3d3e-4792-b59b-f0eb1ec2cb0c",
   "metadata": {},
   "outputs": [],
   "source": []
  }
 ],
 "metadata": {
  "kernelspec": {
   "display_name": "Python 3",
   "language": "python",
   "name": "python3"
  },
  "language_info": {
   "codemirror_mode": {
    "name": "ipython",
    "version": 3
   },
   "file_extension": ".py",
   "mimetype": "text/x-python",
   "name": "python",
   "nbconvert_exporter": "python",
   "pygments_lexer": "ipython3",
   "version": "3.9.6"
  },
  "naas": {
   "notebook_id": "77b7f93a-fb2a-483e-b98b-80735e426a64",
   "notebook_path": "Naas/Naas_Secret_demo.ipynb"
  },
  "papermill": {
   "default_parameters": {},
   "environment_variables": {},
   "parameters": {},
   "version": "2.3.3"
  },
  "toc-autonumbering": false,
  "widgets": {
   "application/vnd.jupyter.widget-state+json": {
    "state": {},
    "version_major": 2,
    "version_minor": 0
   }
  }
 },
 "nbformat": 4,
 "nbformat_minor": 5
}
