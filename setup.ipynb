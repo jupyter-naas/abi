{
 "cells": [
  {
   "cell_type": "markdown",
   "id": "2833db14-cc5e-44ef-af36-f0c086491e74",
   "metadata": {
    "papermill": {},
    "tags": []
   },
   "source": [
    "<img width=\"8%\" alt=\"Naas.png\" src=\"https://raw.githubusercontent.com/jupyter-naas/awesome-notebooks/master/.github/assets/logos/Naas.png\" style=\"border-radius: 15%\">"
   ]
  },
  {
   "cell_type": "markdown",
   "id": "substantial-decline",
   "metadata": {
    "papermill": {},
    "tags": []
   },
   "source": [
    "# Setup"
   ]
  },
  {
   "cell_type": "markdown",
   "id": "e24e9e72-82ff-43b2-b12f-2fd26a818823",
   "metadata": {
    "papermill": {},
    "tags": []
   },
   "source": [
    "**Description:** This notebook allows you to setup abi on local or on your Naas server."
   ]
  },
  {
   "cell_type": "markdown",
   "id": "80056fe3-734f-41fe-8709-6838316e2f89",
   "metadata": {},
   "source": [
    "## Input"
   ]
  },
  {
   "cell_type": "markdown",
   "id": "4df006e1-c200-4a11-9b37-473864001e67",
   "metadata": {},
   "source": [
    "### Install requirements\n",
    "Install the packages required to run the product."
   ]
  },
  {
   "cell_type": "code",
   "execution_count": null,
   "id": "5cad24c8",
   "metadata": {
    "tags": []
   },
   "outputs": [],
   "source": [
    "from ipykernel import get_connection_file\n",
    "import json\n",
    "\n",
    "kernel_name = json.loads(open(get_connection_file()).read()).get('kernel_name')\n",
    "if kernel_name != 'abi':\n",
    "    print('🔴 This notebook is not running the ABI kernel.')\n",
    "    print('Installing kernel...')\n",
    "    !make conda-install-kernel\n",
    "    raise Exception('🟡 Please restart the notebook selecting the \"abi\" kernel.')\n",
    "else:\n",
    "    print('✅ This notebook is running the ABI kernel. Proceeding...')"
   ]
  },
  {
   "cell_type": "markdown",
   "id": "d3bba624-afe5-484b-a5d3-0d4bf7dd019c",
   "metadata": {},
   "source": [
    "### Import libraries"
   ]
  },
  {
   "cell_type": "code",
   "execution_count": null,
   "id": "21d997a6-cfee-468d-8009-53657d604ae7",
   "metadata": {
    "tags": []
   },
   "outputs": [],
   "source": [
    "import naas_python\n",
    "import os\n",
    "import shutil"
   ]
  },
  {
   "cell_type": "markdown",
   "id": "0859f71e-9e51-4c79-8fcd-fa41e9fb8282",
   "metadata": {},
   "source": [
    "### Setup variables\n",
    "**Pre-requisite:**\n",
    "- Create an account on [Naas.ai](https://naas.ai/auth/signin) if you don't already have one."
   ]
  },
  {
   "cell_type": "code",
   "execution_count": null,
   "id": "693f5a35-f813-4aec-ae04-fb3fc68d9fb4",
   "metadata": {},
   "outputs": [],
   "source": [
    "config_secret_path = 'config.secret.yml'\n",
    "config_secret_template_path = 'config.secret.template.yml'"
   ]
  },
  {
   "cell_type": "markdown",
   "id": "2ebb82c4-a40a-496e-a1fd-2c04e39455bd",
   "metadata": {},
   "source": [
    "## Model"
   ]
  },
  {
   "cell_type": "markdown",
   "id": "919a9745-1d58-40cd-af89-aff6327c6e24",
   "metadata": {},
   "source": [
    "### Get Naas token"
   ]
  },
  {
   "cell_type": "code",
   "execution_count": null,
   "id": "c7ef7702-d129-4cb3-97b6-9b598d25c423",
   "metadata": {
    "tags": []
   },
   "outputs": [],
   "source": [
    "naas_api_token = naas_python.utils.domains_base.authorization.NaasSpaceAuthenticatorAdapter().jwt_token()"
   ]
  },
  {
   "cell_type": "markdown",
   "id": "486ca79e-21af-47c8-ae9a-1c4d1d7cf310",
   "metadata": {},
   "source": [
    "## Output"
   ]
  },
  {
   "cell_type": "markdown",
   "id": "0c3b6329-61c7-47ce-9c4d-6510ebab802e",
   "metadata": {},
   "source": [
    "### Create config.secret.yml and update content"
   ]
  },
  {
   "cell_type": "code",
   "execution_count": null,
   "id": "d71ec806-00ca-4b74-a2ff-5b597b17bb95",
   "metadata": {
    "tags": []
   },
   "outputs": [],
   "source": [
    "if not os.path.exists(config_secret_path):\n",
    "    shutil.copy(config_secret_template_path, config_secret_path)\n",
    "    print(f'✅ {config_secret_path} sucessfully created')\n",
    "else:\n",
    "    print(f'🟡 {config_secret_path} already exists.')"
   ]
  }
 ],
 "metadata": {
  "kernelspec": {
   "display_name": "abi",
   "language": "python",
   "name": "abi"
  },
  "language_info": {
   "codemirror_mode": {
    "name": "ipython",
    "version": 3
   },
   "file_extension": ".py",
   "mimetype": "text/x-python",
   "name": "python",
   "nbconvert_exporter": "python",
   "pygments_lexer": "ipython3",
   "version": "3.9.19"
  },
  "naas": {
   "notebook_id": "77b7f93a-fb2a-483e-b98b-80735e426a64",
   "notebook_path": "Naas/Naas_Secret_demo.ipynb"
  },
  "papermill": {
   "default_parameters": {},
   "environment_variables": {},
   "parameters": {},
   "version": "2.3.3"
  },
  "toc-autonumbering": false,
  "widgets": {
   "application/vnd.jupyter.widget-state+json": {
    "state": {},
    "version_major": 2,
    "version_minor": 0
   }
  }
 },
 "nbformat": 4,
 "nbformat_minor": 5
}
