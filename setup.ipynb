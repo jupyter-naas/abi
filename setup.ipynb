{
 "cells": [
  {
   "cell_type": "markdown",
   "id": "injured-evolution",
   "metadata": {
    "papermill": {},
    "tags": []
   },
   "source": [
    "<img width=\"10%\" alt=\"Naas\" src=\"https://landen.imgix.net/jtci2pxwjczr/assets/5ice39g4.png?w=160\"/>"
   ]
  },
  {
   "cell_type": "markdown",
   "id": "substantial-decline",
   "metadata": {
    "papermill": {},
    "tags": []
   },
   "source": [
    "# Settings"
   ]
  },
  {
   "cell_type": "markdown",
   "id": "d288008a-adf4-47e8-acf5-55a0d2f9ae4e",
   "metadata": {},
   "source": [
    "<div class=\"alert alert-success\" role=\"info\">\n",
    "    <p><b>Note:</b> this data product framework is developed by Naas open source community. You can <a href=\"https://github.com/sponsors/jupyter-naas\" target=\"_blank\">sponsor us</a> if you find it usefull.\n",
    "</p>\n",
    "</div>"
   ]
  },
  {
   "cell_type": "markdown",
   "id": "dd3d4d6a-f15d-47f9-83ac-4208edf13bf9",
   "metadata": {
    "tags": []
   },
   "source": [
    "This notebook allows you to configure and run your data product on your Naas server. *Create an account on [Naas.ai](https://www.naas.ai/free-forever) if you don't already have one.*\n",
    "\n",
    "Please follow the step below to setup this data product."
   ]
  },
  {
   "cell_type": "markdown",
   "id": "80056fe3-734f-41fe-8709-6838316e2f89",
   "metadata": {},
   "source": [
    "## Input"
   ]
  },
  {
   "cell_type": "markdown",
   "id": "4df006e1-c200-4a11-9b37-473864001e67",
   "metadata": {},
   "source": [
    "### Install requirements\n",
    "Install the packages required to run the product."
   ]
  },
  {
   "cell_type": "code",
   "execution_count": null,
   "id": "d7e9b5d5-36ff-4ba2-bce8-253367a73949",
   "metadata": {
    "tags": []
   },
   "outputs": [],
   "source": [
    "!pip install --user --upgrade -r \"requirements.txt\""
   ]
  },
  {
   "cell_type": "markdown",
   "id": "d3bba624-afe5-484b-a5d3-0d4bf7dd019c",
   "metadata": {},
   "source": [
    "### Import libraries"
   ]
  },
  {
   "cell_type": "code",
   "execution_count": null,
   "id": "21d997a6-cfee-468d-8009-53657d604ae7",
   "metadata": {
    "tags": []
   },
   "outputs": [],
   "source": [
    "import naas_data_product\n",
    "import naas\n",
    "from naas_drivers import gsheet\n",
    "import glob\n",
    "import os\n",
    "from IPython.display import clear_output\n",
    "from tqdm import tqdm"
   ]
  },
  {
   "cell_type": "markdown",
   "id": "0859f71e-9e51-4c79-8fcd-fa41e9fb8282",
   "metadata": {},
   "source": [
    "### Setup variables\n",
    "**Pre-requisite**\n",
    "- Duplicate our Google Sheets spreadsheet model\n",
    "- Share your Google Sheets spreadsheet with our service account : 🔗 naas-share@naas-gsheets.iam.gserviceaccount.com\n",
    "\n",
    "**Inputs**\n",
    "- `abi_spreadsheet`: Google Sheets spreadsheet URL\n",
    "- `sheet_entity`: Entity sheet name that stores all your personal data\n",
    "\n",
    "**Outputs**\n",
    "- `output_dir_plugin`: Cookie used to authenticate Members and API clients."
   ]
  },
  {
   "cell_type": "code",
   "execution_count": null,
   "id": "c7ef7702-d129-4cb3-97b6-9b598d25c423",
   "metadata": {
    "tags": []
   },
   "outputs": [],
   "source": [
    "# Inputs\n",
    "abi_spreadsheet = naas.secret.get(\"ABI_SPREADSHEET\")\n",
    "if abi_spreadsheet is None:\n",
    "    abi_spreadsheet = input(\"Enter your Google Sheets URL:\")\n",
    "    naas.secret.add(\"ABI_SPREADSHEET\", abi_spreadsheet)\n",
    "sheet_entity = \"ENTITY\"\n",
    "\n",
    "# Outputs\n",
    "output_dir = os.path.join(\"outputs\", \"entity\")\n",
    "output_dir_plugin = os.path.join(\"outputs\", \"plugins\")"
   ]
  },
  {
   "cell_type": "markdown",
   "id": "2ebb82c4-a40a-496e-a1fd-2c04e39455bd",
   "metadata": {},
   "source": [
    "## Model"
   ]
  },
  {
   "cell_type": "markdown",
   "id": "3a232167-6d42-4ad2-9587-fb3efb110c51",
   "metadata": {},
   "source": [
    "### Get data from Google Sheet spreadsheet"
   ]
  },
  {
   "cell_type": "code",
   "execution_count": null,
   "id": "53f8ea20-9dca-4e97-b0d7-6d8836b07d40",
   "metadata": {
    "tags": []
   },
   "outputs": [],
   "source": [
    "df_gsheet = gsheet.connect(abi_spreadsheet).get(sheet_name=sheet_entity).fillna(\"NA\")\n",
    "print(\"Rows:\", len(df_gsheet))\n",
    "df_gsheet.head(1)"
   ]
  },
  {
   "cell_type": "markdown",
   "id": "e9b1b31c-b3ad-4d96-b507-69bd2b60a8b9",
   "metadata": {},
   "source": [
    "### Store LinkedIn URL\n",
    "The LinkedIn URL will be used in content and growth engine."
   ]
  },
  {
   "cell_type": "code",
   "execution_count": null,
   "id": "f6a169f9-356a-42cd-aa4c-bf6cfe67a018",
   "metadata": {
    "tags": []
   },
   "outputs": [],
   "source": [
    "linkedin_url = df_gsheet.loc[0, \"LINKEDIN_URL\"]\n",
    "print(\"LinkedIn URL:\", linkedin_url)\n",
    "pdump(output_dir, linkedin_url, \"linkedin_url\")\n",
    "naas.dependency.add(os.path.join(output_dir, \"linkedin_url.pickle\"))"
   ]
  },
  {
   "cell_type": "markdown",
   "id": "d33e6dc0-aa5c-4bc5-afd8-610157a0d067",
   "metadata": {},
   "source": [
    "### Store Emails\n",
    "The emails will be used for the notifications"
   ]
  },
  {
   "cell_type": "code",
   "execution_count": null,
   "id": "4f9b5231-d402-49c8-9e33-4356e5b978a4",
   "metadata": {
    "tags": []
   },
   "outputs": [],
   "source": [
    "emails = df_gsheet.loc[0, \"EMAILS\"]\n",
    "print(\"Emails:\", emails)\n",
    "pdump(output_dir, emails, \"emails\")\n",
    "naas.dependency.add(os.path.join(output_dir, \"emails.pickle\"))"
   ]
  },
  {
   "cell_type": "markdown",
   "id": "9abe3aed-b7df-4713-a39a-a18732fef3d1",
   "metadata": {},
   "source": [
    "### Store Prompt ICP\n",
    "The prompt will be used in the growth engine."
   ]
  },
  {
   "cell_type": "code",
   "execution_count": null,
   "id": "c900f475-1e68-4fa5-9279-b6bb0b2e12ca",
   "metadata": {
    "tags": []
   },
   "outputs": [],
   "source": [
    "prompt_icp = df_gsheet.loc[0, \"PROMPT_ICP\"]\n",
    "print(\"Prompt ICP:\", prompt_icp)\n",
    "pdump(output_dir, prompt_icp, \"prompt_icp\")\n",
    "naas.dependency.add(os.path.join(output_dir, \"prompt_icp.pickle\"))"
   ]
  },
  {
   "cell_type": "markdown",
   "id": "2810b0c9-b8c2-40aa-bd7c-94fe989db7b8",
   "metadata": {},
   "source": [
    "### Store Sales Messagings\n",
    "The prompt will be used in the sales engine to create sales messagins options on new sales qualified leads."
   ]
  },
  {
   "cell_type": "code",
   "execution_count": null,
   "id": "3f29eed9-94f9-4c18-b5a3-4b70e84db62a",
   "metadata": {
    "tags": []
   },
   "outputs": [],
   "source": [
    "prompt_sales_messagings = df_gsheet.loc[0, \"PROMPT_SALES_MESSAGINGS\"]\n",
    "print(\"Prompt Sales Messagings:\", prompt_sales_messagings)\n",
    "pdump(output_dir, prompt_sales_messagings, \"prompt_sales_messagings\")\n",
    "naas.dependency.add(os.path.join(output_dir, \"prompt_sales_messagings.pickle\"))"
   ]
  },
  {
   "cell_type": "markdown",
   "id": "12b2d9a4-c96b-406a-97ed-a873020033da",
   "metadata": {},
   "source": [
    "### Add secrets to Naas"
   ]
  },
  {
   "cell_type": "code",
   "execution_count": null,
   "id": "4eec349f-3654-4309-8983-3c4b3bbfd550",
   "metadata": {
    "tags": []
   },
   "outputs": [],
   "source": [
    "for x in [\"LINKEDIN_LI_AT\", \"LINKEDIN_JSESSIONID\", \"OPENAI_API_KEY\"]:\n",
    "    value = df_gsheet.loc[0, x]\n",
    "    if value != \"NA\":\n",
    "        print(f\"Secret '{x}' to be added:\")\n",
    "        naas.secret.add(x, value)"
   ]
  },
  {
   "cell_type": "markdown",
   "id": "486ca79e-21af-47c8-ae9a-1c4d1d7cf310",
   "metadata": {},
   "source": [
    "## Output"
   ]
  },
  {
   "cell_type": "markdown",
   "id": "2373f75e-9c82-4a1d-a0df-3bc5cf3788e8",
   "metadata": {},
   "source": [
    "### Run plugins"
   ]
  },
  {
   "cell_type": "code",
   "execution_count": null,
   "id": "487abb90-8709-4705-ae61-b6e76367ee3e",
   "metadata": {
    "tags": []
   },
   "outputs": [],
   "source": [
    "# List plugin files\n",
    "files = glob.glob(\"*/**/__plugin__.ipynb\", recursive=True)\n",
    "\n",
    "# Execute notebook\n",
    "for file in tqdm(files):\n",
    "    print(f\"File: {file}\")\n",
    "    print()\n",
    "    %run $file\n",
    "    clear_output()"
   ]
  },
  {
   "cell_type": "markdown",
   "id": "164246f2-2bcf-4103-822e-cd8086c439bd",
   "metadata": {},
   "source": [
    "### Get plugins URL"
   ]
  },
  {
   "cell_type": "code",
   "execution_count": null,
   "id": "00f0ea65-6ff9-412d-9cb9-0b619de43ce1",
   "metadata": {
    "tags": []
   },
   "outputs": [],
   "source": [
    "data = []\n",
    "plugins = glob.glob(f\"{output_dir_plugin}/*.json\")\n",
    "\n",
    "for plugin in plugins:\n",
    "    plugin_url = naas.asset.find(plugin)\n",
    "    data.append(\n",
    "        {\n",
    "            \"name\": plugin.split(\"/\")[-1].replace(\".json\", \"\"),\n",
    "            \"image\": \"\",\n",
    "            \"url\": plugin_url,\n",
    "            \"new_chat_url\": f\"https://naas.ai/chat/use?plugin_url={plugin_url}\"\n",
    "        }\n",
    "    )\n",
    "    \n",
    "data"
   ]
  },
  {
   "cell_type": "code",
   "execution_count": null,
   "id": "2d05db4e-3d3e-4792-b59b-f0eb1ec2cb0c",
   "metadata": {},
   "outputs": [],
   "source": []
  }
 ],
 "metadata": {
  "kernelspec": {
   "display_name": "Python 3",
   "language": "python",
   "name": "python3"
  },
  "language_info": {
   "codemirror_mode": {
    "name": "ipython",
    "version": 3
   },
   "file_extension": ".py",
   "mimetype": "text/x-python",
   "name": "python",
   "nbconvert_exporter": "python",
   "pygments_lexer": "ipython3",
   "version": "3.9.6"
  },
  "naas": {
   "notebook_id": "77b7f93a-fb2a-483e-b98b-80735e426a64",
   "notebook_path": "Naas/Naas_Secret_demo.ipynb"
  },
  "papermill": {
   "default_parameters": {},
   "environment_variables": {},
   "parameters": {},
   "version": "2.3.3"
  },
  "toc-autonumbering": false,
  "widgets": {
   "application/vnd.jupyter.widget-state+json": {
    "state": {},
    "version_major": 2,
    "version_minor": 0
   }
  }
 },
 "nbformat": 4,
 "nbformat_minor": 5
}
