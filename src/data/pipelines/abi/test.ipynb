{
 "cells": [
  {
   "cell_type": "code",
   "execution_count": 23,
   "metadata": {},
   "outputs": [
    {
     "name": "stdout",
     "output_type": "stream",
     "text": [
      "/home/florentlvr/abi/src/assistants/domain/FinanceAssistant.py\n",
      "/home/florentlvr/abi/src/assistants/domain/SalesAssistant.py\n",
      "/home/florentlvr/abi/src/assistants/domain/OpenDataAssistant.py\n",
      "/home/florentlvr/abi/src/assistants/domain/OperationsAssistant.py\n",
      "/home/florentlvr/abi/src/assistants/domain/ContentAssistant.py\n",
      "/home/florentlvr/abi/src/assistants/domain/GrowthAssistant.py\n",
      "/home/florentlvr/abi/src/assistants/foundation/SupportAssistant.py\n",
      "/home/florentlvr/abi/src/assistants/foundation/SupervisorAssistant.py\n",
      "/home/florentlvr/abi/src/assistants/expert/integrations/NewsAPIAssistant.py\n",
      "/home/florentlvr/abi/src/assistants/expert/integrations/AgicapAssistant.py\n",
      "/home/florentlvr/abi/src/assistants/expert/integrations/WhatsappAssistant.py\n",
      "/home/florentlvr/abi/src/assistants/expert/integrations/SendGridAssistant.py\n",
      "/home/florentlvr/abi/src/assistants/expert/integrations/SupabaseAssistant.py\n",
      "/home/florentlvr/abi/src/assistants/expert/integrations/DiscordAssistant.py\n",
      "/home/florentlvr/abi/src/assistants/expert/integrations/NotionAssistant.py\n",
      "/home/florentlvr/abi/src/assistants/expert/integrations/AWSS3Assistant.py\n",
      "/home/florentlvr/abi/src/assistants/expert/integrations/OneDriveAssistant.py\n",
      "/home/florentlvr/abi/src/assistants/expert/integrations/BrevoAssistant.py\n",
      "/home/florentlvr/abi/src/assistants/expert/integrations/PipedriveAssistant.py\n",
      "/home/florentlvr/abi/src/assistants/expert/integrations/MailchimpAssistant.py\n",
      "/home/florentlvr/abi/src/assistants/expert/integrations/GoogleSheetsAssistant.py\n",
      "/home/florentlvr/abi/src/assistants/expert/integrations/HarvestAssistant.py\n",
      "/home/florentlvr/abi/src/assistants/expert/integrations/ZeroBounceAssistant.py\n",
      "/home/florentlvr/abi/src/assistants/expert/integrations/InstagramAssistant.py\n",
      "/home/florentlvr/abi/src/assistants/expert/integrations/GoogleDriveAssistant.py\n",
      "/home/florentlvr/abi/src/assistants/expert/integrations/PostgresAssistant.py\n",
      "/home/florentlvr/abi/src/assistants/expert/integrations/StripeAssistant.py\n",
      "/home/florentlvr/abi/src/assistants/expert/integrations/GladiaAssistant.py\n",
      "/home/florentlvr/abi/src/assistants/expert/integrations/GlassdoorAssistant.py\n",
      "/home/florentlvr/abi/src/assistants/expert/integrations/HubspotAssistant.py\n",
      "/home/florentlvr/abi/src/assistants/expert/integrations/YouTubeAssistant.py\n",
      "/home/florentlvr/abi/src/assistants/expert/integrations/NaasAssistant.py\n",
      "/home/florentlvr/abi/src/assistants/expert/integrations/LinkedInAssistant.py\n",
      "/home/florentlvr/abi/src/assistants/expert/integrations/GmailAssistant.py\n",
      "/home/florentlvr/abi/src/assistants/expert/integrations/YahooFinanceAssistant.py\n",
      "/home/florentlvr/abi/src/assistants/expert/integrations/SlackAssistant.py\n",
      "/home/florentlvr/abi/src/assistants/expert/integrations/QontoAssistant.py\n",
      "/home/florentlvr/abi/src/assistants/expert/integrations/AlgoliaAssistant.py\n",
      "/home/florentlvr/abi/src/assistants/expert/integrations/GoogleCalendarAssistant.py\n",
      "/home/florentlvr/abi/src/assistants/expert/integrations/ClockifyAssistant.py\n",
      "/home/florentlvr/abi/src/assistants/expert/integrations/PennylaneAssistant.py\n",
      "/home/florentlvr/abi/src/assistants/expert/integrations/GoogleAnalyticsAssistant.py\n",
      "/home/florentlvr/abi/src/assistants/expert/integrations/SerperAssistant.py\n",
      "/home/florentlvr/abi/src/assistants/expert/integrations/GithubAssistant.py\n",
      "/home/florentlvr/abi/src/assistants/expert/integrations/MercuryAssistant.py\n",
      "/home/florentlvr/abi/src/assistants/expert/integrations/AirtableAssistant.py\n",
      "/home/florentlvr/abi/src/assistants/expert/domain/LeadGenerationAssistant.py\n",
      "/home/florentlvr/abi/src/assistants/expert/domain/SDRAssistant.py\n",
      "/home/florentlvr/abi/src/assistants/expert/domain/HumanResourcesAssistant.py\n",
      "/home/florentlvr/abi/src/assistants/expert/domain/AccountantAssistant.py\n",
      "/home/florentlvr/abi/src/assistants/expert/domain/AccountExecutiveAssistant.py\n",
      "/home/florentlvr/abi/src/assistants/expert/domain/CampaignManagerAssistant.py\n",
      "/home/florentlvr/abi/src/assistants/expert/domain/AudienceEngagementAssistant.py\n",
      "/home/florentlvr/abi/src/assistants/expert/domain/ProjectManagerAssistant.py\n",
      "/home/florentlvr/abi/src/assistants/expert/domain/ContentAnalystAssistant.py\n",
      "/home/florentlvr/abi/src/assistants/expert/domain/BDRAssistant.py\n",
      "/home/florentlvr/abi/src/assistants/expert/domain/FinancialControllerAssistant.py\n",
      "/home/florentlvr/abi/src/assistants/expert/domain/TreasurerAssistant.py\n",
      "/home/florentlvr/abi/src/assistants/expert/domain/DataEngineerAssistant.py\n",
      "/home/florentlvr/abi/src/assistants/expert/domain/RegulatoryAnalystAssistant.py\n",
      "/home/florentlvr/abi/src/assistants/expert/domain/ContentCreatorAssistant.py\n",
      "/home/florentlvr/abi/src/assistants/expert/domain/DevopsEngineerAssistant.py\n",
      "/home/florentlvr/abi/src/assistants/expert/domain/PrivateResearcherAssistant.py\n",
      "/home/florentlvr/abi/src/assistants/expert/domain/ContentStrategistAssistant.py\n",
      "/home/florentlvr/abi/src/assistants/expert/domain/CustomerSuccessManagerAssistant.py\n",
      "/home/florentlvr/abi/src/assistants/expert/domain/SoftwareEngineerAssistant.py\n",
      "/home/florentlvr/abi/src/assistants/expert/domain/OSINTInvestigatorAssistant.py\n",
      "/home/florentlvr/abi/src/assistants/expert/analytics/PlotlyAssistant.py\n",
      "/home/florentlvr/abi/src/assistants/expert/analytics/MatplotlibAssistant.py\n"
     ]
    }
   ],
   "source": [
    "import glob\n",
    "\n",
    "assistants = glob.glob(\"/home/florentlvr/abi/src/assistants/**/*Assistant.py\", recursive=True)\n",
    "for assistant in assistants:\n",
    "    try:\n",
    "        import_path = f\"src.assistants.{file.stem}\"\n",
    "        module = importlib.import_module(import_path)\n",
    "        \n",
    "        assistant_uri = ABI[f\"assistant/{file.stem}\"]\n",
    "        graph.add((assistant_uri, RDF.type, ABI.Assistant))\n",
    "        graph.add((assistant_uri, RDFS.label, Literal(getattr(module, \"NAME\", file.stem))))\n",
    "        graph.add((assistant_uri, DC.description, Literal(getattr(module, \"DESCRIPTION\", \"\"))))\n",
    "        graph.add((assistant_uri, ABI.model, Literal(getattr(module, \"MODEL\", \"gpt-4\"))))\n",
    "        graph.add((assistant_uri, ABI.temperature, Literal(getattr(module, \"TEMPERATURE\", 0))))\n",
    "    except ImportError as e:\n",
    "        logging.error(f\"Error importing assistant {file.stem}: {e}\")\n",
    "    \n"
   ]
  },
  {
   "cell_type": "code",
   "execution_count": 14,
   "metadata": {},
   "outputs": [
    {
     "name": "stdout",
     "output_type": "stream",
     "text": [
      "**/assistants\n"
     ]
    }
   ],
   "source": [
    "from rdflib import Graph\n",
    "from pathlib import Path\n",
    "import glob\n",
    "import importlib\n",
    "from abi.utils.Graph import ABIGraph, ABI, BFO\n",
    "\n",
    "graph = ABIGraph()\n",
    "\n",
    "assistants_dir = Path(\"src/assistants\")\n",
    "\n",
    "for file in assistants_dir.rglob(\"*.py\"):\n",
    "    if \"__AssistantTemplate__\" in str(file) or \"expert\" in str(file).lower() or \"integration\" in str(file).lower():\n",
    "        continue\n",
    "    if file.stem.endswith(\"Assistant\"):\n",
    "        try:\n",
    "            import_path = f\"src.assistants.{file.stem}\"\n",
    "            module = importlib.import_module(import_path)\n",
    "            \n",
    "            assistant_uri = ABI[f\"assistant/{file.stem}\"]\n",
    "            graph.add((assistant_uri, RDF.type, ABI.Assistant))\n",
    "            graph.add((assistant_uri, RDFS.label, Literal(getattr(module, \"NAME\", file.stem))))\n",
    "            graph.add((assistant_uri, DC.description, Literal(getattr(module, \"DESCRIPTION\", \"\"))))\n",
    "            graph.add((assistant_uri, ABI.model, Literal(getattr(module, \"MODEL\", \"gpt-4\"))))\n",
    "            graph.add((assistant_uri, ABI.temperature, Literal(getattr(module, \"TEMPERATURE\", 0))))\n",
    "        except ImportError as e:\n",
    "            logging.error(f\"Error importing assistant {file.stem}: {e}\")"
   ]
  }
 ],
 "metadata": {
  "kernelspec": {
   "display_name": "abi",
   "language": "python",
   "name": "abi"
  },
  "language_info": {
   "codemirror_mode": {
    "name": "ipython",
    "version": 3
   },
   "file_extension": ".py",
   "mimetype": "text/x-python",
   "name": "python",
   "nbconvert_exporter": "python",
   "pygments_lexer": "ipython3",
   "version": "3.9.19"
  }
 },
 "nbformat": 4,
 "nbformat_minor": 2
}
