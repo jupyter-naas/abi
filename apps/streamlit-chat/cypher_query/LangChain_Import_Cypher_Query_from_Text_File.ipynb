{
 "cells": [
  {
   "cell_type": "markdown",
   "id": "d57803c7-fcf3-4521-8073-d246ba9206f3",
   "metadata": {
    "execution": {
     "iopub.execute_input": "2021-02-23T14:22:16.610471Z",
     "iopub.status.busy": "2021-02-23T14:22:16.610129Z",
     "iopub.status.idle": "2021-02-23T14:22:16.627784Z",
     "shell.execute_reply": "2021-02-23T14:22:16.626866Z",
     "shell.execute_reply.started": "2021-02-23T14:22:16.610384Z"
    },
    "papermill": {},
    "tags": []
   },
   "source": [
    "<img width=\"8%\" alt=\"LangChain.png\" src=\"https://raw.githubusercontent.com/jupyter-naas/awesome-notebooks/master/.github/assets/logos/LangChain.png\" style=\"border-radius: 15%\">"
   ]
  },
  {
   "cell_type": "markdown",
   "id": "bafb077c",
   "metadata": {
    "papermill": {},
    "tags": []
   },
   "source": [
    "# LangChain - Import Cypher Query from Text File\n",
    "<a href=\"https://bit.ly/3JyWIk6\">Give Feedback</a> | <a href=\"https://github.com/jupyter-naas/awesome-notebooks/issues/new?assignees=&labels=bug&template=bug_report.md&title=LangChain+-+Import+Cypher+Query+from+Text+File:+Error+short+description\">Bug report</a>"
   ]
  },
  {
   "cell_type": "markdown",
   "id": "cb407ea8",
   "metadata": {
    "papermill": {},
    "tags": []
   },
   "source": [
    "**Tags:** #langchain #neo4j #cypher #txt #snippet"
   ]
  },
  {
   "cell_type": "markdown",
   "id": "3fa65002",
   "metadata": {
    "papermill": {},
    "tags": []
   },
   "source": [
    "**Author:** [Florent Ravenel](https://www.linkedin.com/in/florent-ravenel)"
   ]
  },
  {
   "cell_type": "markdown",
   "id": "c7851585",
   "metadata": {
    "papermill": {},
    "tags": []
   },
   "source": [
    "**Last update:** 2024-05-23 (Created: 2024-05-23)"
   ]
  },
  {
   "cell_type": "markdown",
   "id": "188a2da0",
   "metadata": {
    "papermill": {},
    "tags": []
   },
   "source": [
    "**Description:** This notebook imports a Cypher query into Neo4j from a text file."
   ]
  },
  {
   "cell_type": "markdown",
   "id": "498e71dd",
   "metadata": {
    "papermill": {},
    "tags": []
   },
   "source": [
    "## Input"
   ]
  },
  {
   "cell_type": "markdown",
   "id": "d2366b9a",
   "metadata": {
    "papermill": {},
    "tags": []
   },
   "source": [
    "### Import libraries"
   ]
  },
  {
   "cell_type": "code",
   "execution_count": null,
   "id": "61e8eabc-4c9f-4314-bc1e-3c09b4c3266c",
   "metadata": {
    "papermill": {},
    "tags": []
   },
   "outputs": [],
   "source": [
    "try:\n",
    "    from langchain.graphs import Neo4jGraph\n",
    "except:\n",
    "    !pip install langchain==0.1.17 --user\n",
    "    from langchain.graphs import Neo4jGraph\n",
    "import requests\n",
    "import os"
   ]
  },
  {
   "cell_type": "markdown",
   "id": "4acf67a5",
   "metadata": {
    "papermill": {},
    "tags": []
   },
   "source": [
    "### Setup variables\n",
    "- `url`: URL to connect to the Neo4j database\n",
    "- `user`: Username for the Neo4j database\n",
    "- `password`: Password for the Neo4j database\n",
    "- `os.environ['OPENAI_API_KEY']`: Environment variable for the OpenAI API key\n",
    "- `input_file_path`: Path of the input file containing the Cypher query."
   ]
  },
  {
   "cell_type": "code",
   "execution_count": null,
   "id": "e98a53eb",
   "metadata": {
    "papermill": {},
    "tags": []
   },
   "outputs": [],
   "source": [
    "url = \"bolt://localhost:7687\"\n",
    "user = \"neo4j\"\n",
    "password = \"password\"\n",
    "input_file_path = \"cypher_query.txt\""
   ]
  },
  {
   "cell_type": "markdown",
   "id": "f91368ae",
   "metadata": {
    "papermill": {},
    "tags": []
   },
   "source": [
    "## Model"
   ]
  },
  {
   "cell_type": "markdown",
   "id": "34fbede8-2b03-41ae-8b5b-0c011aa390f0",
   "metadata": {
    "papermill": {},
    "tags": []
   },
   "source": [
    "### Open and read a text file"
   ]
  },
  {
   "cell_type": "code",
   "execution_count": null,
   "id": "78e78369-2cf4-4798-85bf-3dd609f54314",
   "metadata": {
    "papermill": {},
    "tags": []
   },
   "outputs": [],
   "source": [
    "def read_txt_file(file_path):\n",
    "    with open(file_path, 'r') as f:\n",
    "        data = f.read()\n",
    "    return data\n",
    "\n",
    "import_query = read_txt_file(input_file_path)"
   ]
  },
  {
   "cell_type": "markdown",
   "id": "5bc82b85-83b0-4fda-b9e6-d23ddd64d834",
   "metadata": {
    "papermill": {},
    "tags": []
   },
   "source": [
    "## Output"
   ]
  },
  {
   "cell_type": "markdown",
   "id": "46939e8a-fe8d-4a85-b4dc-9b9bdf35d180",
   "metadata": {
    "papermill": {},
    "tags": []
   },
   "source": [
    "### Import graph into Neo4j"
   ]
  },
  {
   "cell_type": "code",
   "execution_count": null,
   "id": "24da5209-79f5-4341-8bd5-5b6da47a5a87",
   "metadata": {
    "papermill": {},
    "tags": []
   },
   "outputs": [],
   "source": [
    "graph = Neo4jGraph(\n",
    "    url=url, \n",
    "    username=username, \n",
    "    password=password\n",
    ")\n",
    "graph.query(import_query)"
   ]
  },
  {
   "cell_type": "code",
   "execution_count": null,
   "id": "e1c15c7c-a460-4a1c-a6e4-53ad8f4c4e8a",
   "metadata": {},
   "outputs": [],
   "source": []
  }
 ],
 "metadata": {
  "kernelspec": {
   "display_name": "Python 3",
   "language": "python",
   "name": "python3"
  },
  "language_info": {
   "codemirror_mode": {
    "name": "ipython",
    "version": 3
   },
   "file_extension": ".py",
   "mimetype": "text/x-python",
   "name": "python",
   "nbconvert_exporter": "python",
   "pygments_lexer": "ipython3",
   "version": "3.9.6"
  },
  "naas": {
   "notebook_id": "f4157cded94a569518c76d7532494d533e3ba8f0285c468fe072be8e28ca4137",
   "notebook_path": "LangChain/LangChain_Import_Cypher_Query_from_Text_File.ipynb"
  },
  "papermill": {
   "default_parameters": {},
   "environment_variables": {},
   "parameters": {},
   "version": "2.6.0"
  }
 },
 "nbformat": 4,
 "nbformat_minor": 5
}
